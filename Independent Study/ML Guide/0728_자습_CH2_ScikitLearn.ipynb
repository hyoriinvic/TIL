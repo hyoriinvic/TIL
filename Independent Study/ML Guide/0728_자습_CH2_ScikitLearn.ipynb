{
  "nbformat": 4,
  "nbformat_minor": 0,
  "metadata": {
    "colab": {
      "name": "0728 자습 Ch.2",
      "provenance": [],
      "toc_visible": true
    },
    "kernelspec": {
      "name": "python3",
      "display_name": "Python 3"
    }
  },
  "cells": [
    {
      "cell_type": "markdown",
      "metadata": {
        "id": "FScV-mFf2KnU",
        "colab_type": "text"
      },
      "source": [
        "#사이킷런(scikit-learn)\n",
        "파이썬 머신러닝 라이브러리 "
      ]
    },
    {
      "cell_type": "markdown",
      "metadata": {
        "id": "rcNPPeRm2PLL",
        "colab_type": "text"
      },
      "source": [
        "## Framework\n"
      ]
    },
    {
      "cell_type": "markdown",
      "metadata": {
        "id": "4_dbLhqG24LR",
        "colab_type": "text"
      },
      "source": [
        "* Estimator : 지도학습의 모든 알고리즘을 구현한 클래스 \n",
        "* fit : ML 모델 학습\n",
        "* predict : 학습된 모델의 예측"
      ]
    },
    {
      "cell_type": "markdown",
      "metadata": {
        "id": "Xeo79gNH2Sgv",
        "colab_type": "text"
      },
      "source": [
        "## Model Selection Module"
      ]
    },
    {
      "cell_type": "markdown",
      "metadata": {
        "id": "fDBFtJEh3etx",
        "colab_type": "text"
      },
      "source": [
        " ### Train_Test_Split"
      ]
    },
    {
      "cell_type": "code",
      "metadata": {
        "id": "kzbMZH6x3ra5",
        "colab_type": "code",
        "colab": {}
      },
      "source": [
        "from sklearn.datasets import load_iris\n",
        "\n",
        "from sklearn.tree import DecisionTreeClassifier\n",
        "from sklearn.metrics import accuracy_score\n",
        "\n",
        "from sklearn.model_selection import train_test_split"
      ],
      "execution_count": 2,
      "outputs": []
    },
    {
      "cell_type": "code",
      "metadata": {
        "id": "7lDYfKlr4BB6",
        "colab_type": "code",
        "colab": {}
      },
      "source": [
        "iris_data = load_iris() #sklearn 내장 데이터 'iris' 로드\n",
        "dt_clf = DecisionTreeClassifier()"
      ],
      "execution_count": 3,
      "outputs": []
    },
    {
      "cell_type": "code",
      "metadata": {
        "id": "PKznMbty4RkU",
        "colab_type": "code",
        "colab": {}
      },
      "source": [
        "#train/test data 분할\n",
        "#random_state = : 호출 때마다 동일한 데이터 셋을 생성하기 위해 주어지는 난수 값 (미지정시 수행할 때마다 다른 데이터 셋을 생산)\n",
        "\n",
        "X_train, X_test, y_train, y_test = train_test_split(iris_data.data, iris_data.target, test_size = 0.3, random_state = 121)"
      ],
      "execution_count": 5,
      "outputs": []
    },
    {
      "cell_type": "code",
      "metadata": {
        "id": "182z-ITa41BC",
        "colab_type": "code",
        "colab": {}
      },
      "source": [
        "dt_clf.fit(X_train, y_train) #모델 적합\n",
        "pred = dt_clf.predict(X_test) #적합한 모델로 예측"
      ],
      "execution_count": 6,
      "outputs": []
    },
    {
      "cell_type": "code",
      "metadata": {
        "id": "n57TwpUJ5AGp",
        "colab_type": "code",
        "colab": {
          "base_uri": "https://localhost:8080/",
          "height": 34
        },
        "outputId": "b76440c3-33ad-4a71-eb18-5d5c6dcc25f4"
      },
      "source": [
        "print(\"예측 정확도: {0:.4f}\".format(accuracy_score(y_test, pred)))"
      ],
      "execution_count": 7,
      "outputs": [
        {
          "output_type": "stream",
          "text": [
            "예측 정확도: 0.9556\n"
          ],
          "name": "stdout"
        }
      ]
    },
    {
      "cell_type": "markdown",
      "metadata": {
        "id": "UXrpfxkO5JuZ",
        "colab_type": "text"
      },
      "source": [
        "교차 검증(Cross Validation)"
      ]
    },
    {
      "cell_type": "markdown",
      "metadata": {
        "id": "DzETVkYH5LOP",
        "colab_type": "text"
      },
      "source": [
        "### K-fold "
      ]
    },
    {
      "cell_type": "code",
      "metadata": {
        "id": "kPM6_t7O5h6-",
        "colab_type": "code",
        "colab": {}
      },
      "source": [
        "import numpy as np"
      ],
      "execution_count": 15,
      "outputs": []
    },
    {
      "cell_type": "code",
      "metadata": {
        "id": "JXwfBplZ5KmK",
        "colab_type": "code",
        "colab": {}
      },
      "source": [
        "from sklearn.model_selection import KFold"
      ],
      "execution_count": 10,
      "outputs": []
    },
    {
      "cell_type": "code",
      "metadata": {
        "id": "mQaX8Lg_5lBk",
        "colab_type": "code",
        "colab": {}
      },
      "source": [
        "iris = load_iris()\n",
        "features = iris.data\n",
        "label = iris.target"
      ],
      "execution_count": 11,
      "outputs": []
    },
    {
      "cell_type": "code",
      "metadata": {
        "id": "Fpv7__WS5xDy",
        "colab_type": "code",
        "colab": {}
      },
      "source": [
        "kfold = KFold(n_splits = 5) # K = 5 설정\n",
        "cv_accuracy = [] #각 fold set 별 정확도를 담을 리스트 객체 생성"
      ],
      "execution_count": 12,
      "outputs": []
    },
    {
      "cell_type": "code",
      "metadata": {
        "id": "YgNrNgRZ5-OG",
        "colab_type": "code",
        "colab": {
          "base_uri": "https://localhost:8080/",
          "height": 404
        },
        "outputId": "32e1b220-dc48-4d45-de46-c4ad91c64b18"
      },
      "source": [
        "n_iter = 0 #반복 횟수\n",
        "\n",
        "#KFold 객체의 split() 호출 시, fold 별 train/test data의 raw index를 array로 반환\n",
        "for train_index, test_index in kfold.split(features):\n",
        "\n",
        "  #train/test data set 추출\n",
        "  X_train, X_test = features[train_index], features[test_index]\n",
        "  y_train, y_test = label[train_index], label[test_index]\n",
        "\n",
        "  #fit & predict\n",
        "  dt_clf.fit(X_train, y_train)\n",
        "  pred = dt_clf.predict(X_test)\n",
        "  n_iter += 1 \n",
        "\n",
        "  #각 iteration 별로 accuracy 측정\n",
        "  accuracy = np.round(accuracy_score(y_test, pred), 4)\n",
        "\n",
        "  train_size = X_train.shape[0]\n",
        "  test_size = X_test.shape[0]\n",
        "\n",
        "  print(\"\\n#{0} 교차 검증 정확도 : {1}, 학습 데이터의 크기 : {2}, 검증 데이터의 크기 : {3}\".format(n_iter, accuracy, train_size, test_size))\n",
        "  print(\"#{0} 검증 세트 인덱스 : {1}\".format(n_iter, test_index))\n",
        "  cv_accuracy.append(accuracy)\n",
        "\n",
        "print(\"\\n## 평균 검증 정확도 : \", np.mean(cv_accuracy)) #개별 iteration별 accuracy를 합하여 평균 정확도 계산"
      ],
      "execution_count": 14,
      "outputs": [
        {
          "output_type": "stream",
          "text": [
            "\n",
            "#1 교차 검증 정확도 : 1.0, 학습 데이터의 크기 : 120, 검증 데이터의 크기 : 30\n",
            "#1 검증 세트 인덱스 : [ 0  1  2  3  4  5  6  7  8  9 10 11 12 13 14 15 16 17 18 19 20 21 22 23\n",
            " 24 25 26 27 28 29]\n",
            "\n",
            "#2 교차 검증 정확도 : 1.0, 학습 데이터의 크기 : 120, 검증 데이터의 크기 : 30\n",
            "#2 검증 세트 인덱스 : [30 31 32 33 34 35 36 37 38 39 40 41 42 43 44 45 46 47 48 49 50 51 52 53\n",
            " 54 55 56 57 58 59]\n",
            "\n",
            "#3 교차 검증 정확도 : 0.8667, 학습 데이터의 크기 : 120, 검증 데이터의 크기 : 30\n",
            "#3 검증 세트 인덱스 : [60 61 62 63 64 65 66 67 68 69 70 71 72 73 74 75 76 77 78 79 80 81 82 83\n",
            " 84 85 86 87 88 89]\n",
            "\n",
            "#4 교차 검증 정확도 : 0.9333, 학습 데이터의 크기 : 120, 검증 데이터의 크기 : 30\n",
            "#4 검증 세트 인덱스 : [ 90  91  92  93  94  95  96  97  98  99 100 101 102 103 104 105 106 107\n",
            " 108 109 110 111 112 113 114 115 116 117 118 119]\n",
            "\n",
            "#5 교차 검증 정확도 : 0.7333, 학습 데이터의 크기 : 120, 검증 데이터의 크기 : 30\n",
            "#5 검증 세트 인덱스 : [120 121 122 123 124 125 126 127 128 129 130 131 132 133 134 135 136 137\n",
            " 138 139 140 141 142 143 144 145 146 147 148 149]\n",
            "\n",
            "## 평균 검증 정확도 :  0.9066599999999999\n"
          ],
          "name": "stdout"
        }
      ]
    },
    {
      "cell_type": "markdown",
      "metadata": {
        "id": "LyzXIxvjA_zY",
        "colab_type": "text"
      },
      "source": [
        "### Stratified K-fold\n",
        "\n",
        "\n",
        "> 원본 데이터의 레이블 분포를 먼저 고려한 뒤, 이 분포와 동일하게 Train/Test Data Set을 분배\n",
        "\n"
      ]
    },
    {
      "cell_type": "code",
      "metadata": {
        "id": "TMNorlnyCCym",
        "colab_type": "code",
        "colab": {}
      },
      "source": [
        "import pandas as pd"
      ],
      "execution_count": 19,
      "outputs": []
    },
    {
      "cell_type": "code",
      "metadata": {
        "id": "ynBEuyG0B1SH",
        "colab_type": "code",
        "colab": {
          "base_uri": "https://localhost:8080/",
          "height": 87
        },
        "outputId": "325dbe19-5139-4e8f-ae7a-6d1ef429b58b"
      },
      "source": [
        "iris_df = pd.DataFrame(data = iris.data, columns = iris.feature_names)\n",
        "iris_df[\"label\"] = iris.target\n",
        "iris_df[\"label\"].value_counts()"
      ],
      "execution_count": 20,
      "outputs": [
        {
          "output_type": "execute_result",
          "data": {
            "text/plain": [
              "2    50\n",
              "1    50\n",
              "0    50\n",
              "Name: label, dtype: int64"
            ]
          },
          "metadata": {
            "tags": []
          },
          "execution_count": 20
        }
      ]
    },
    {
      "cell_type": "code",
      "metadata": {
        "id": "N7tZP9mNBGzv",
        "colab_type": "code",
        "colab": {}
      },
      "source": [
        "from sklearn.model_selection import StratifiedKFold"
      ],
      "execution_count": 16,
      "outputs": []
    },
    {
      "cell_type": "code",
      "metadata": {
        "id": "9fbRa46wDG_g",
        "colab_type": "code",
        "colab": {
          "base_uri": "https://localhost:8080/",
          "height": 316
        },
        "outputId": "9d64f034-57d4-4467-af4b-442c03a0e41b"
      },
      "source": [
        "dt_clf = DecisionTreeClassifier(random_state = 156)\n",
        "\n",
        "skfold = StratifiedKFold(n_splits = 3)\n",
        "n_iter = 0 #반복 횟수\n",
        "cv_accuracy = []\n",
        "\n",
        "#KFold 객체의 split() 호출 시, fold 별 train/test data의 raw index를 array로 반환\n",
        "for train_index, test_index in skfold.split(features, label):\n",
        "\n",
        "  #train/test data set 추출\n",
        "  X_train, X_test = features[train_index], features[test_index]\n",
        "  y_train, y_test = label[train_index], label[test_index]\n",
        "\n",
        "  #fit & predict\n",
        "  dt_clf.fit(X_train, y_train)\n",
        "  pred = dt_clf.predict(X_test)\n",
        "  n_iter += 1 \n",
        "\n",
        "  #각 iteration 별로 accuracy 측정\n",
        "  accuracy = np.round(accuracy_score(y_test, pred), 4)\n",
        "\n",
        "  train_size = X_train.shape[0]\n",
        "  test_size = X_test.shape[0]\n",
        "\n",
        "  print(\"\\n#{0} 교차 검증 정확도 : {1}, 학습 데이터의 크기 : {2}, 검증 데이터의 크기 : {3}\".format(n_iter, accuracy, train_size, test_size))\n",
        "  print(\"#{0} 검증 세트 인덱스 : {1}\".format(n_iter, test_index))\n",
        "  cv_accuracy.append(accuracy)\n",
        "\n",
        "print(\"\\n## 평균 검증 정확도 : \", np.mean(cv_accuracy)) #개별 iteration별 accuracy를 합하여 평균 정확도 계산"
      ],
      "execution_count": 26,
      "outputs": [
        {
          "output_type": "stream",
          "text": [
            "\n",
            "#1 교차 검증 정확도 : 0.98, 학습 데이터의 크기 : 100, 검증 데이터의 크기 : 50\n",
            "#1 검증 세트 인덱스 : [  0   1   2   3   4   5   6   7   8   9  10  11  12  13  14  15  16  50\n",
            "  51  52  53  54  55  56  57  58  59  60  61  62  63  64  65  66 100 101\n",
            " 102 103 104 105 106 107 108 109 110 111 112 113 114 115]\n",
            "\n",
            "#2 교차 검증 정확도 : 0.94, 학습 데이터의 크기 : 100, 검증 데이터의 크기 : 50\n",
            "#2 검증 세트 인덱스 : [ 17  18  19  20  21  22  23  24  25  26  27  28  29  30  31  32  33  67\n",
            "  68  69  70  71  72  73  74  75  76  77  78  79  80  81  82 116 117 118\n",
            " 119 120 121 122 123 124 125 126 127 128 129 130 131 132]\n",
            "\n",
            "#3 교차 검증 정확도 : 0.98, 학습 데이터의 크기 : 100, 검증 데이터의 크기 : 50\n",
            "#3 검증 세트 인덱스 : [ 34  35  36  37  38  39  40  41  42  43  44  45  46  47  48  49  83  84\n",
            "  85  86  87  88  89  90  91  92  93  94  95  96  97  98  99 133 134 135\n",
            " 136 137 138 139 140 141 142 143 144 145 146 147 148 149]\n",
            "\n",
            "## 평균 검증 정확도 :  0.9666666666666667\n"
          ],
          "name": "stdout"
        }
      ]
    },
    {
      "cell_type": "markdown",
      "metadata": {
        "id": "Q7AkCfa-D2t2",
        "colab_type": "text"
      },
      "source": [
        "cross_val_score()\n",
        "\n",
        "\n",
        "> API 내부에서 Estimator의 학습, 예측, 평가를 진행\n",
        "\n"
      ]
    },
    {
      "cell_type": "code",
      "metadata": {
        "id": "UX3Nr8qiD1pv",
        "colab_type": "code",
        "colab": {}
      },
      "source": [
        "from sklearn.model_selection import cross_val_score, cross_validate"
      ],
      "execution_count": 27,
      "outputs": []
    },
    {
      "cell_type": "code",
      "metadata": {
        "id": "cN3dUstCEDXo",
        "colab_type": "code",
        "colab": {}
      },
      "source": [
        "data = iris_data.data\n",
        "label = iris_data.target"
      ],
      "execution_count": 30,
      "outputs": []
    },
    {
      "cell_type": "code",
      "metadata": {
        "id": "yin2C12nEelx",
        "colab_type": "code",
        "colab": {
          "base_uri": "https://localhost:8080/",
          "height": 52
        },
        "outputId": "dc01ee92-de14-4573-bfe0-5a012b65917f"
      },
      "source": [
        "scores = cross_val_score(dt_clf, data, label, scoring = \"accuracy\", cv = 3)\n",
        "print(\"교차 검증별 정확도: \", np.round(scores, 4))\n",
        "print(\"평균 검증 정확도: \", np.round(np.mean(scores), 4))"
      ],
      "execution_count": 31,
      "outputs": [
        {
          "output_type": "stream",
          "text": [
            "교차 검증별 정확도:  [0.98 0.94 0.98]\n",
            "평균 검증 정확도:  0.9667\n"
          ],
          "name": "stdout"
        }
      ]
    },
    {
      "cell_type": "markdown",
      "metadata": {
        "id": "yHZk5hwxDwVQ",
        "colab_type": "text"
      },
      "source": [
        "### GridSearchCV\n",
        "\n",
        "\n",
        "> 교차 검증과 최적 하이퍼 파라미터 튜닝을 한 번에 진행"
      ]
    },
    {
      "cell_type": "markdown",
      "metadata": {
        "id": "qhv-780a2WBD",
        "colab_type": "text"
      },
      "source": [
        "## Data Preprocessing"
      ]
    },
    {
      "cell_type": "markdown",
      "metadata": {
        "id": "iXCKXmDRNo7H",
        "colab_type": "text"
      },
      "source": [
        "### Data Encoding"
      ]
    },
    {
      "cell_type": "markdown",
      "metadata": {
        "id": "H-y_g5pcNrLU",
        "colab_type": "text"
      },
      "source": [
        "레이블 인코딩(Label Encoding) \n",
        "> 카테고리형 feature를 코드형 숫자 값으로 변환 "
      ]
    },
    {
      "cell_type": "code",
      "metadata": {
        "id": "yiZtxacVN9OY",
        "colab_type": "code",
        "colab": {}
      },
      "source": [
        "from sklearn.preprocessing import LabelEncoder"
      ],
      "execution_count": 32,
      "outputs": []
    },
    {
      "cell_type": "code",
      "metadata": {
        "id": "8zo9-K_5OAxq",
        "colab_type": "code",
        "colab": {
          "base_uri": "https://localhost:8080/",
          "height": 70
        },
        "outputId": "5db6f951-9fc0-4163-890c-6b0763398686"
      },
      "source": [
        "items = [\"TV\", \"냉장고\", \"전자레인지\", \"컴퓨터\", \"선풍기\", \"믹서\", \"믹서\"]\n",
        "\n",
        "encoder = LabelEncoder() #LabelEncoder 객체 생성\n",
        "encoder.fit(items)\n",
        "labels = encoder.transform(items)\n",
        "\n",
        "print(\"인코딩 변환 값: \", labels)\n",
        "print(\"인코딩 클래스: \", encoder.classes_)\n",
        "print(\"디코딩 원본값: \", encoder.inverse_transform([4, 5, 1, 2, 2, 3, 0]))"
      ],
      "execution_count": 33,
      "outputs": [
        {
          "output_type": "stream",
          "text": [
            "인코딩 변환 값:  [0 1 4 5 3 2 2]\n",
            "인코딩 클래스:  ['TV' '냉장고' '믹서' '선풍기' '전자레인지' '컴퓨터']\n",
            "디코딩 원본값:  ['전자레인지' '컴퓨터' '냉장고' '믹서' '믹서' '선풍기' 'TV']\n"
          ],
          "name": "stdout"
        }
      ]
    },
    {
      "cell_type": "markdown",
      "metadata": {
        "id": "xBGG1QjMN3Dz",
        "colab_type": "text"
      },
      "source": [
        "원-핫 인코딩(One Hot Encoding)\n",
        "> feature value의 유형에 따라 새로운 feature를 추가해 고유값에 해당하는 컬럼에만 1을 표시, 나머지는 0"
      ]
    },
    {
      "cell_type": "code",
      "metadata": {
        "id": "ZhMXY5zrOw7U",
        "colab_type": "code",
        "colab": {}
      },
      "source": [
        "from sklearn.preprocessing import OneHotEncoder"
      ],
      "execution_count": 34,
      "outputs": []
    },
    {
      "cell_type": "code",
      "metadata": {
        "id": "__58Zz0NO0Oa",
        "colab_type": "code",
        "colab": {
          "base_uri": "https://localhost:8080/",
          "height": 210
        },
        "outputId": "6c3782c0-5358-4846-94d1-b119e6986c55"
      },
      "source": [
        "items = [\"TV\", \"냉장고\", \"전자레인지\", \"컴퓨터\", \"선풍기\", \"선풍기\", \"믹서\", \"믹서\"]\n",
        "\n",
        "#숫자 값으로 변환을 위해 LabelEncoder로 변환\n",
        "encoder = LabelEncoder() #LabelEncoder 객체 생성\n",
        "encoder.fit(items)\n",
        "labels = encoder.transform(items)\n",
        "\n",
        "#2차원 데이터로 변환\n",
        "labels = labels.reshape(-1, 1)\n",
        "\n",
        "#One-Hot Encoding\n",
        "oh_encoder = OneHotEncoder()\n",
        "oh_encoder.fit(labels)\n",
        "oh_labels = oh_encoder.transform(labels)\n",
        "\n",
        "print(\"원-핫 인코딩 데이터\")\n",
        "print(oh_labels.toarray())\n",
        "print()\n",
        "\n",
        "print(\"원-핫 인코딩 데이터 차원: \", oh_labels.shape)"
      ],
      "execution_count": 36,
      "outputs": [
        {
          "output_type": "stream",
          "text": [
            "원-핫 인코딩 데이터\n",
            "[[1. 0. 0. 0. 0. 0.]\n",
            " [0. 1. 0. 0. 0. 0.]\n",
            " [0. 0. 0. 0. 1. 0.]\n",
            " [0. 0. 0. 0. 0. 1.]\n",
            " [0. 0. 0. 1. 0. 0.]\n",
            " [0. 0. 0. 1. 0. 0.]\n",
            " [0. 0. 1. 0. 0. 0.]\n",
            " [0. 0. 1. 0. 0. 0.]]\n",
            "\n",
            "원-핫 인코딩 데이터 차원:  (8, 6)\n"
          ],
          "name": "stdout"
        }
      ]
    },
    {
      "cell_type": "code",
      "metadata": {
        "id": "NiXwH2YfPqrL",
        "colab_type": "code",
        "colab": {
          "base_uri": "https://localhost:8080/",
          "height": 284
        },
        "outputId": "ef52e40d-517c-46c7-e4c9-b70eaef55b6c"
      },
      "source": [
        "#Pandas get_dummies(): 원-핫 인코딩 지원 API'\n",
        "#숫자형 값으로 변환하지 않아도 됨\n",
        "import pandas as pd\n",
        "\n",
        "df = pd.DataFrame({\n",
        "    \"item\" : [\"TV\", \"냉장고\", \"전자레인지\", \"컴퓨터\", \"선풍기\", \"선풍기\", \"믹서\", \"믹서\"]\n",
        "})\n",
        "\n",
        "pd.get_dummies(df)"
      ],
      "execution_count": 37,
      "outputs": [
        {
          "output_type": "execute_result",
          "data": {
            "text/html": [
              "<div>\n",
              "<style scoped>\n",
              "    .dataframe tbody tr th:only-of-type {\n",
              "        vertical-align: middle;\n",
              "    }\n",
              "\n",
              "    .dataframe tbody tr th {\n",
              "        vertical-align: top;\n",
              "    }\n",
              "\n",
              "    .dataframe thead th {\n",
              "        text-align: right;\n",
              "    }\n",
              "</style>\n",
              "<table border=\"1\" class=\"dataframe\">\n",
              "  <thead>\n",
              "    <tr style=\"text-align: right;\">\n",
              "      <th></th>\n",
              "      <th>item_TV</th>\n",
              "      <th>item_냉장고</th>\n",
              "      <th>item_믹서</th>\n",
              "      <th>item_선풍기</th>\n",
              "      <th>item_전자레인지</th>\n",
              "      <th>item_컴퓨터</th>\n",
              "    </tr>\n",
              "  </thead>\n",
              "  <tbody>\n",
              "    <tr>\n",
              "      <th>0</th>\n",
              "      <td>1</td>\n",
              "      <td>0</td>\n",
              "      <td>0</td>\n",
              "      <td>0</td>\n",
              "      <td>0</td>\n",
              "      <td>0</td>\n",
              "    </tr>\n",
              "    <tr>\n",
              "      <th>1</th>\n",
              "      <td>0</td>\n",
              "      <td>1</td>\n",
              "      <td>0</td>\n",
              "      <td>0</td>\n",
              "      <td>0</td>\n",
              "      <td>0</td>\n",
              "    </tr>\n",
              "    <tr>\n",
              "      <th>2</th>\n",
              "      <td>0</td>\n",
              "      <td>0</td>\n",
              "      <td>0</td>\n",
              "      <td>0</td>\n",
              "      <td>1</td>\n",
              "      <td>0</td>\n",
              "    </tr>\n",
              "    <tr>\n",
              "      <th>3</th>\n",
              "      <td>0</td>\n",
              "      <td>0</td>\n",
              "      <td>0</td>\n",
              "      <td>0</td>\n",
              "      <td>0</td>\n",
              "      <td>1</td>\n",
              "    </tr>\n",
              "    <tr>\n",
              "      <th>4</th>\n",
              "      <td>0</td>\n",
              "      <td>0</td>\n",
              "      <td>0</td>\n",
              "      <td>1</td>\n",
              "      <td>0</td>\n",
              "      <td>0</td>\n",
              "    </tr>\n",
              "    <tr>\n",
              "      <th>5</th>\n",
              "      <td>0</td>\n",
              "      <td>0</td>\n",
              "      <td>0</td>\n",
              "      <td>1</td>\n",
              "      <td>0</td>\n",
              "      <td>0</td>\n",
              "    </tr>\n",
              "    <tr>\n",
              "      <th>6</th>\n",
              "      <td>0</td>\n",
              "      <td>0</td>\n",
              "      <td>1</td>\n",
              "      <td>0</td>\n",
              "      <td>0</td>\n",
              "      <td>0</td>\n",
              "    </tr>\n",
              "    <tr>\n",
              "      <th>7</th>\n",
              "      <td>0</td>\n",
              "      <td>0</td>\n",
              "      <td>1</td>\n",
              "      <td>0</td>\n",
              "      <td>0</td>\n",
              "      <td>0</td>\n",
              "    </tr>\n",
              "  </tbody>\n",
              "</table>\n",
              "</div>"
            ],
            "text/plain": [
              "   item_TV  item_냉장고  item_믹서  item_선풍기  item_전자레인지  item_컴퓨터\n",
              "0        1         0        0         0           0         0\n",
              "1        0         1        0         0           0         0\n",
              "2        0         0        0         0           1         0\n",
              "3        0         0        0         0           0         1\n",
              "4        0         0        0         1           0         0\n",
              "5        0         0        0         1           0         0\n",
              "6        0         0        1         0           0         0\n",
              "7        0         0        1         0           0         0"
            ]
          },
          "metadata": {
            "tags": []
          },
          "execution_count": 37
        }
      ]
    },
    {
      "cell_type": "markdown",
      "metadata": {
        "id": "B0-I2Wi0QQjF",
        "colab_type": "text"
      },
      "source": [
        "### Feature Scailing"
      ]
    },
    {
      "cell_type": "markdown",
      "metadata": {
        "id": "NHVggkDLQUDL",
        "colab_type": "text"
      },
      "source": [
        "StandardScaler(표준화)\n",
        "\n",
        "> 가우시안 정규분포를 따르도록 데이터 변환 \n",
        "\n"
      ]
    },
    {
      "cell_type": "code",
      "metadata": {
        "id": "AOUctTnjQiWb",
        "colab_type": "code",
        "colab": {}
      },
      "source": [
        "iris = load_iris()\n",
        "iris_data = iris.data\n",
        "iris_df = pd.DataFrame(data = iris_data, columns = iris.feature_names)"
      ],
      "execution_count": 39,
      "outputs": []
    },
    {
      "cell_type": "code",
      "metadata": {
        "id": "t_0vtRMhQxHd",
        "colab_type": "code",
        "colab": {
          "base_uri": "https://localhost:8080/",
          "height": 105
        },
        "outputId": "53b1ab33-9e54-4fff-f5c2-39e25c370880"
      },
      "source": [
        "iris_df.mean()"
      ],
      "execution_count": 40,
      "outputs": [
        {
          "output_type": "execute_result",
          "data": {
            "text/plain": [
              "sepal length (cm)    5.843333\n",
              "sepal width (cm)     3.057333\n",
              "petal length (cm)    3.758000\n",
              "petal width (cm)     1.199333\n",
              "dtype: float64"
            ]
          },
          "metadata": {
            "tags": []
          },
          "execution_count": 40
        }
      ]
    },
    {
      "cell_type": "code",
      "metadata": {
        "id": "dX3hKjSZQy6b",
        "colab_type": "code",
        "colab": {
          "base_uri": "https://localhost:8080/",
          "height": 105
        },
        "outputId": "c9c45630-77f4-4316-b0e5-17467b336bf1"
      },
      "source": [
        "iris_df.var()"
      ],
      "execution_count": 41,
      "outputs": [
        {
          "output_type": "execute_result",
          "data": {
            "text/plain": [
              "sepal length (cm)    0.685694\n",
              "sepal width (cm)     0.189979\n",
              "petal length (cm)    3.116278\n",
              "petal width (cm)     0.581006\n",
              "dtype: float64"
            ]
          },
          "metadata": {
            "tags": []
          },
          "execution_count": 41
        }
      ]
    },
    {
      "cell_type": "code",
      "metadata": {
        "id": "4moAXUKEQ3yr",
        "colab_type": "code",
        "colab": {}
      },
      "source": [
        "from sklearn.preprocessing import StandardScaler"
      ],
      "execution_count": 42,
      "outputs": []
    },
    {
      "cell_type": "code",
      "metadata": {
        "id": "C-jMRy7GQ7uE",
        "colab_type": "code",
        "colab": {}
      },
      "source": [
        "scaler = StandardScaler() #객체 생성\n",
        "scaler.fit(iris_df)\n",
        "iris_scaled = scaler.transform(iris_df) #Numpy ndarray로 반환됨"
      ],
      "execution_count": 43,
      "outputs": []
    },
    {
      "cell_type": "code",
      "metadata": {
        "id": "iv6NLjKrRJj7",
        "colab_type": "code",
        "colab": {}
      },
      "source": [
        "iris_df_scaled = pd.DataFrame(data = iris_scaled, columns = iris.feature_names) #데이터프레임으로 변환 "
      ],
      "execution_count": 44,
      "outputs": []
    },
    {
      "cell_type": "code",
      "metadata": {
        "id": "cEXuFIvSRdqr",
        "colab_type": "code",
        "colab": {
          "base_uri": "https://localhost:8080/",
          "height": 105
        },
        "outputId": "fa91ae4e-56d8-46df-fd7e-b890a8241222"
      },
      "source": [
        "iris_df_scaled.mean()"
      ],
      "execution_count": 47,
      "outputs": [
        {
          "output_type": "execute_result",
          "data": {
            "text/plain": [
              "sepal length (cm)   -1.690315e-15\n",
              "sepal width (cm)    -1.842970e-15\n",
              "petal length (cm)   -1.698641e-15\n",
              "petal width (cm)    -1.409243e-15\n",
              "dtype: float64"
            ]
          },
          "metadata": {
            "tags": []
          },
          "execution_count": 47
        }
      ]
    },
    {
      "cell_type": "code",
      "metadata": {
        "id": "FDmK40JoRjer",
        "colab_type": "code",
        "colab": {
          "base_uri": "https://localhost:8080/",
          "height": 105
        },
        "outputId": "5b98ca1e-c944-4612-afa4-5b378aa79791"
      },
      "source": [
        "iris_df_scaled.var()"
      ],
      "execution_count": 48,
      "outputs": [
        {
          "output_type": "execute_result",
          "data": {
            "text/plain": [
              "sepal length (cm)    1.006711\n",
              "sepal width (cm)     1.006711\n",
              "petal length (cm)    1.006711\n",
              "petal width (cm)     1.006711\n",
              "dtype: float64"
            ]
          },
          "metadata": {
            "tags": []
          },
          "execution_count": 48
        }
      ]
    },
    {
      "cell_type": "markdown",
      "metadata": {
        "id": "qbaetMr5RrFc",
        "colab_type": "text"
      },
      "source": [
        "MinMaxScaler\n",
        " > 데이터 값을 0과 1사이의 범위 값으로 변환"
      ]
    },
    {
      "cell_type": "code",
      "metadata": {
        "id": "slZny7gNRy4Y",
        "colab_type": "code",
        "colab": {}
      },
      "source": [
        "from sklearn.preprocessing import MinMaxScaler"
      ],
      "execution_count": 49,
      "outputs": []
    },
    {
      "cell_type": "code",
      "metadata": {
        "id": "pZ4XS0g4R1sB",
        "colab_type": "code",
        "colab": {}
      },
      "source": [
        "scaler = MinMaxScaler()\n",
        "scaler.fit(iris_df)\n",
        "iris_scaled = scaler.transform(iris_df)"
      ],
      "execution_count": 50,
      "outputs": []
    },
    {
      "cell_type": "code",
      "metadata": {
        "id": "QIOLis4AR9PB",
        "colab_type": "code",
        "colab": {}
      },
      "source": [
        "iris_df_scaled = pd.DataFrame(data = iris_scaled, columns = iris.feature_names)"
      ],
      "execution_count": 51,
      "outputs": []
    },
    {
      "cell_type": "code",
      "metadata": {
        "id": "qh5MrOUMSEAB",
        "colab_type": "code",
        "colab": {
          "base_uri": "https://localhost:8080/",
          "height": 246
        },
        "outputId": "c1cdbe67-3c5a-4d58-a7ee-e6877f3dbe08"
      },
      "source": [
        "print(\"features의 최댓값\")\n",
        "print(iris_df_scaled.max())\n",
        "print()\n",
        "\n",
        "print(\"features의 최솟값\")\n",
        "print(iris_df_scaled.min())"
      ],
      "execution_count": 52,
      "outputs": [
        {
          "output_type": "stream",
          "text": [
            "features의 최댓값\n",
            "sepal length (cm)    1.0\n",
            "sepal width (cm)     1.0\n",
            "petal length (cm)    1.0\n",
            "petal width (cm)     1.0\n",
            "dtype: float64\n",
            "\n",
            "features의 최솟값\n",
            "sepal length (cm)    0.0\n",
            "sepal width (cm)     0.0\n",
            "petal length (cm)    0.0\n",
            "petal width (cm)     0.0\n",
            "dtype: float64\n"
          ],
          "name": "stdout"
        }
      ]
    },
    {
      "cell_type": "markdown",
      "metadata": {
        "id": "90DztIdUSXRj",
        "colab_type": "text"
      },
      "source": [
        "* 전체 데이터의 스케일링 변환 후 학습/테스트 데이터로 분리\n",
        "* 위가 여의치 않다면, 테스트 데이터 변환시에는 학습 데이터로 이미 fit()된 Scaler 객체를 이용해 transform으로 변환"
      ]
    }
  ]
}