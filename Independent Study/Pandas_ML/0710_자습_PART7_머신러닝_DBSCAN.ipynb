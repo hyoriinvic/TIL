{
  "nbformat": 4,
  "nbformat_minor": 0,
  "metadata": {
    "colab": {
      "name": "0710 자습 PART7 머신러닝 - DBSCAN",
      "provenance": []
    },
    "kernelspec": {
      "name": "python3",
      "display_name": "Python 3"
    }
  },
  "cells": [
    {
      "cell_type": "markdown",
      "metadata": {
        "id": "qZGHwwBOurZc",
        "colab_type": "text"
      },
      "source": [
        "개념"
      ]
    },
    {
      "cell_type": "code",
      "metadata": {
        "id": "Ci-6oVl6qxgR",
        "colab_type": "code",
        "colab": {}
      },
      "source": [
        "#DBSCAN(Density-Based Spatial Clustering of Applications with Noise)\n",
        "#데이터가 위치하고 있는 공간 밀집도를 기준으로 클러스터를 구분\n",
        "\n",
        "#코어 포인트\n",
        "#경계 포인트\n",
        "#노이즈\n",
        "\n",
        "#클러스터 "
      ],
      "execution_count": null,
      "outputs": []
    },
    {
      "cell_type": "code",
      "metadata": {
        "id": "BGwtzvvSuqsU",
        "colab_type": "code",
        "colab": {}
      },
      "source": [
        "import pandas as pd\n",
        "import folium"
      ],
      "execution_count": null,
      "outputs": []
    },
    {
      "cell_type": "markdown",
      "metadata": {
        "id": "HFY3VGB4vvUD",
        "colab_type": "text"
      },
      "source": [
        "데이터 준비 및 기본 설정"
      ]
    },
    {
      "cell_type": "code",
      "metadata": {
        "id": "fkozXK3Qu1UC",
        "colab_type": "code",
        "colab": {}
      },
      "source": [
        "file_path = \"2016_middle_shcool_graduates_report.xlsx\"\n",
        "df = pd.read_excel(file_path, header = 0)\n",
        "\n",
        "pd.set_option(\"display.width\", None) #출력 화면의 너비\n",
        "pd.set_option(\"display.max_rows\", 100) #출력할 행의 개수\n",
        "pd.set_option(\"display.max_columns\", 10) #출력할 열의 개수\n",
        "pd.set_option(\"display.max_colwidth\", 20) #출력할 열의 너비\n",
        "pd.set_option(\"display.unicode.east_asian_width\", True) #유니코드 사용 너비 조정"
      ],
      "execution_count": null,
      "outputs": []
    },
    {
      "cell_type": "code",
      "metadata": {
        "id": "in1gFb0wvlUn",
        "colab_type": "code",
        "colab": {
          "base_uri": "https://localhost:8080/",
          "height": 90
        },
        "outputId": "3b067054-599e-4bc8-d90a-72c08e39610e"
      },
      "source": [
        "df.columns.values #열 이름 배열 출력"
      ],
      "execution_count": null,
      "outputs": [
        {
          "output_type": "execute_result",
          "data": {
            "text/plain": [
              "array(['Unnamed: 0', '지역', '학교명', '코드', '유형', '주야', '남학생수', '여학생수', '일반고',\n",
              "       '특성화고', '과학고', '외고_국제고', '예고_체고', '마이스터고', '자사고', '자공고', '기타진학',\n",
              "       '취업', '미상', '위도', '경도'], dtype=object)"
            ]
          },
          "metadata": {
            "tags": []
          },
          "execution_count": 14
        }
      ]
    },
    {
      "cell_type": "markdown",
      "metadata": {
        "id": "4623BJwxvw6a",
        "colab_type": "text"
      },
      "source": [
        "데이터 탐색"
      ]
    },
    {
      "cell_type": "code",
      "metadata": {
        "id": "sJX6LGbvvro7",
        "colab_type": "code",
        "colab": {
          "base_uri": "https://localhost:8080/",
          "height": 409
        },
        "outputId": "dc3ecb0d-5636-468a-d562-cbb24515500b"
      },
      "source": [
        "df.head()"
      ],
      "execution_count": null,
      "outputs": [
        {
          "output_type": "execute_result",
          "data": {
            "text/html": [
              "<div>\n",
              "<style scoped>\n",
              "    .dataframe tbody tr th:only-of-type {\n",
              "        vertical-align: middle;\n",
              "    }\n",
              "\n",
              "    .dataframe tbody tr th {\n",
              "        vertical-align: top;\n",
              "    }\n",
              "\n",
              "    .dataframe thead th {\n",
              "        text-align: right;\n",
              "    }\n",
              "</style>\n",
              "<table border=\"1\" class=\"dataframe\">\n",
              "  <thead>\n",
              "    <tr style=\"text-align: right;\">\n",
              "      <th></th>\n",
              "      <th>Unnamed: 0</th>\n",
              "      <th>지역</th>\n",
              "      <th>학교명</th>\n",
              "      <th>코드</th>\n",
              "      <th>유형</th>\n",
              "      <th>...</th>\n",
              "      <th>기타진학</th>\n",
              "      <th>취업</th>\n",
              "      <th>미상</th>\n",
              "      <th>위도</th>\n",
              "      <th>경도</th>\n",
              "    </tr>\n",
              "  </thead>\n",
              "  <tbody>\n",
              "    <tr>\n",
              "      <th>0</th>\n",
              "      <td>0</td>\n",
              "      <td>성북구</td>\n",
              "      <td>서울대학교사범대학부설중학교...</td>\n",
              "      <td>3</td>\n",
              "      <td>국립</td>\n",
              "      <td>...</td>\n",
              "      <td>0.004</td>\n",
              "      <td>0</td>\n",
              "      <td>0.000</td>\n",
              "      <td>37.594942</td>\n",
              "      <td>127.038909</td>\n",
              "    </tr>\n",
              "    <tr>\n",
              "      <th>1</th>\n",
              "      <td>1</td>\n",
              "      <td>종로구</td>\n",
              "      <td>서울대학교사범대학부설여자중학교...</td>\n",
              "      <td>3</td>\n",
              "      <td>국립</td>\n",
              "      <td>...</td>\n",
              "      <td>0.031</td>\n",
              "      <td>0</td>\n",
              "      <td>0.000</td>\n",
              "      <td>37.577473</td>\n",
              "      <td>127.003857</td>\n",
              "    </tr>\n",
              "    <tr>\n",
              "      <th>2</th>\n",
              "      <td>2</td>\n",
              "      <td>강남구</td>\n",
              "      <td>개원중학교</td>\n",
              "      <td>3</td>\n",
              "      <td>공립</td>\n",
              "      <td>...</td>\n",
              "      <td>0.009</td>\n",
              "      <td>0</td>\n",
              "      <td>0.003</td>\n",
              "      <td>37.491637</td>\n",
              "      <td>127.071744</td>\n",
              "    </tr>\n",
              "    <tr>\n",
              "      <th>3</th>\n",
              "      <td>3</td>\n",
              "      <td>강남구</td>\n",
              "      <td>개포중학교</td>\n",
              "      <td>3</td>\n",
              "      <td>공립</td>\n",
              "      <td>...</td>\n",
              "      <td>0.019</td>\n",
              "      <td>0</td>\n",
              "      <td>0.000</td>\n",
              "      <td>37.480439</td>\n",
              "      <td>127.062201</td>\n",
              "    </tr>\n",
              "    <tr>\n",
              "      <th>4</th>\n",
              "      <td>4</td>\n",
              "      <td>서초구</td>\n",
              "      <td>경원중학교</td>\n",
              "      <td>3</td>\n",
              "      <td>공립</td>\n",
              "      <td>...</td>\n",
              "      <td>0.010</td>\n",
              "      <td>0</td>\n",
              "      <td>0.000</td>\n",
              "      <td>37.510750</td>\n",
              "      <td>127.008900</td>\n",
              "    </tr>\n",
              "  </tbody>\n",
              "</table>\n",
              "<p>5 rows × 21 columns</p>\n",
              "</div>"
            ],
            "text/plain": [
              "   Unnamed: 0    지역                               학교명  코드  유형  ...  \\\n",
              "0           0  성북구  서울대학교사범대학부설중학교.....       3  국립  ...   \n",
              "1           1  종로구  서울대학교사범대학부설여자중학교...     3  국립  ...   \n",
              "2           2  강남구           개원중학교                     3  공립  ...   \n",
              "3           3  강남구           개포중학교                     3  공립  ...   \n",
              "4           4  서초구           경원중학교                     3  공립  ...   \n",
              "\n",
              "  기타진학  취업   미상       위도        경도  \n",
              "0    0.004     0  0.000  37.594942  127.038909  \n",
              "1    0.031     0  0.000  37.577473  127.003857  \n",
              "2    0.009     0  0.003  37.491637  127.071744  \n",
              "3    0.019     0  0.000  37.480439  127.062201  \n",
              "4    0.010     0  0.000  37.510750  127.008900  \n",
              "\n",
              "[5 rows x 21 columns]"
            ]
          },
          "metadata": {
            "tags": []
          },
          "execution_count": 15
        }
      ]
    },
    {
      "cell_type": "code",
      "metadata": {
        "id": "3StsZQpbvzYH",
        "colab_type": "code",
        "colab": {
          "base_uri": "https://localhost:8080/",
          "height": 510
        },
        "outputId": "6e36c7b7-74f6-4304-bd6d-20d1277ed5a9"
      },
      "source": [
        "df.info()"
      ],
      "execution_count": null,
      "outputs": [
        {
          "output_type": "stream",
          "text": [
            "<class 'pandas.core.frame.DataFrame'>\n",
            "RangeIndex: 415 entries, 0 to 414\n",
            "Data columns (total 21 columns):\n",
            " #   Column      Non-Null Count  Dtype  \n",
            "---  ------      --------------  -----  \n",
            " 0   Unnamed: 0  415 non-null    int64  \n",
            " 1   지역          415 non-null    object \n",
            " 2   학교명         415 non-null    object \n",
            " 3   코드          415 non-null    int64  \n",
            " 4   유형          415 non-null    object \n",
            " 5   주야          415 non-null    object \n",
            " 6   남학생수        415 non-null    int64  \n",
            " 7   여학생수        415 non-null    int64  \n",
            " 8   일반고         415 non-null    float64\n",
            " 9   특성화고        415 non-null    float64\n",
            " 10  과학고         415 non-null    float64\n",
            " 11  외고_국제고      415 non-null    float64\n",
            " 12  예고_체고       415 non-null    float64\n",
            " 13  마이스터고       415 non-null    float64\n",
            " 14  자사고         415 non-null    float64\n",
            " 15  자공고         415 non-null    float64\n",
            " 16  기타진학        415 non-null    float64\n",
            " 17  취업          415 non-null    int64  \n",
            " 18  미상          415 non-null    float64\n",
            " 19  위도          415 non-null    float64\n",
            " 20  경도          415 non-null    float64\n",
            "dtypes: float64(12), int64(5), object(4)\n",
            "memory usage: 68.2+ KB\n"
          ],
          "name": "stdout"
        }
      ]
    },
    {
      "cell_type": "code",
      "metadata": {
        "id": "0-EfPiH3v0SS",
        "colab_type": "code",
        "colab": {
          "base_uri": "https://localhost:8080/",
          "height": 350
        },
        "outputId": "41d8a627-ce1d-4e1b-d44c-a5bc1adc6498"
      },
      "source": [
        "df.describe()"
      ],
      "execution_count": null,
      "outputs": [
        {
          "output_type": "execute_result",
          "data": {
            "text/html": [
              "<div>\n",
              "<style scoped>\n",
              "    .dataframe tbody tr th:only-of-type {\n",
              "        vertical-align: middle;\n",
              "    }\n",
              "\n",
              "    .dataframe tbody tr th {\n",
              "        vertical-align: top;\n",
              "    }\n",
              "\n",
              "    .dataframe thead th {\n",
              "        text-align: right;\n",
              "    }\n",
              "</style>\n",
              "<table border=\"1\" class=\"dataframe\">\n",
              "  <thead>\n",
              "    <tr style=\"text-align: right;\">\n",
              "      <th></th>\n",
              "      <th>Unnamed: 0</th>\n",
              "      <th>코드</th>\n",
              "      <th>남학생수</th>\n",
              "      <th>여학생수</th>\n",
              "      <th>일반고</th>\n",
              "      <th>...</th>\n",
              "      <th>기타진학</th>\n",
              "      <th>취업</th>\n",
              "      <th>미상</th>\n",
              "      <th>위도</th>\n",
              "      <th>경도</th>\n",
              "    </tr>\n",
              "  </thead>\n",
              "  <tbody>\n",
              "    <tr>\n",
              "      <th>count</th>\n",
              "      <td>415.000000</td>\n",
              "      <td>415.000000</td>\n",
              "      <td>415.000000</td>\n",
              "      <td>415.000000</td>\n",
              "      <td>415.000000</td>\n",
              "      <td>...</td>\n",
              "      <td>415.000000</td>\n",
              "      <td>415.0</td>\n",
              "      <td>415.000000</td>\n",
              "      <td>415.000000</td>\n",
              "      <td>415.000000</td>\n",
              "    </tr>\n",
              "    <tr>\n",
              "      <th>mean</th>\n",
              "      <td>207.000000</td>\n",
              "      <td>3.197590</td>\n",
              "      <td>126.532530</td>\n",
              "      <td>116.173494</td>\n",
              "      <td>0.623080</td>\n",
              "      <td>...</td>\n",
              "      <td>0.069571</td>\n",
              "      <td>0.0</td>\n",
              "      <td>0.001670</td>\n",
              "      <td>37.491969</td>\n",
              "      <td>127.032792</td>\n",
              "    </tr>\n",
              "    <tr>\n",
              "      <th>std</th>\n",
              "      <td>119.944432</td>\n",
              "      <td>0.804272</td>\n",
              "      <td>79.217906</td>\n",
              "      <td>76.833082</td>\n",
              "      <td>0.211093</td>\n",
              "      <td>...</td>\n",
              "      <td>0.235630</td>\n",
              "      <td>0.0</td>\n",
              "      <td>0.003697</td>\n",
              "      <td>0.348926</td>\n",
              "      <td>0.265245</td>\n",
              "    </tr>\n",
              "    <tr>\n",
              "      <th>min</th>\n",
              "      <td>0.000000</td>\n",
              "      <td>3.000000</td>\n",
              "      <td>0.000000</td>\n",
              "      <td>0.000000</td>\n",
              "      <td>0.000000</td>\n",
              "      <td>...</td>\n",
              "      <td>0.000000</td>\n",
              "      <td>0.0</td>\n",
              "      <td>0.000000</td>\n",
              "      <td>34.979940</td>\n",
              "      <td>126.639561</td>\n",
              "    </tr>\n",
              "    <tr>\n",
              "      <th>25%</th>\n",
              "      <td>103.500000</td>\n",
              "      <td>3.000000</td>\n",
              "      <td>80.000000</td>\n",
              "      <td>71.500000</td>\n",
              "      <td>0.566500</td>\n",
              "      <td>...</td>\n",
              "      <td>0.000000</td>\n",
              "      <td>0.0</td>\n",
              "      <td>0.000000</td>\n",
              "      <td>37.501934</td>\n",
              "      <td>126.921758</td>\n",
              "    </tr>\n",
              "    <tr>\n",
              "      <th>50%</th>\n",
              "      <td>207.000000</td>\n",
              "      <td>3.000000</td>\n",
              "      <td>129.000000</td>\n",
              "      <td>118.000000</td>\n",
              "      <td>0.681000</td>\n",
              "      <td>...</td>\n",
              "      <td>0.007000</td>\n",
              "      <td>0.0</td>\n",
              "      <td>0.000000</td>\n",
              "      <td>37.547702</td>\n",
              "      <td>127.013579</td>\n",
              "    </tr>\n",
              "    <tr>\n",
              "      <th>75%</th>\n",
              "      <td>310.500000</td>\n",
              "      <td>3.000000</td>\n",
              "      <td>177.500000</td>\n",
              "      <td>161.500000</td>\n",
              "      <td>0.758000</td>\n",
              "      <td>...</td>\n",
              "      <td>0.015000</td>\n",
              "      <td>0.0</td>\n",
              "      <td>0.003000</td>\n",
              "      <td>37.590670</td>\n",
              "      <td>127.071265</td>\n",
              "    </tr>\n",
              "    <tr>\n",
              "      <th>max</th>\n",
              "      <td>414.000000</td>\n",
              "      <td>9.000000</td>\n",
              "      <td>337.000000</td>\n",
              "      <td>422.000000</td>\n",
              "      <td>0.908000</td>\n",
              "      <td>...</td>\n",
              "      <td>1.000000</td>\n",
              "      <td>0.0</td>\n",
              "      <td>0.036000</td>\n",
              "      <td>37.694777</td>\n",
              "      <td>129.106974</td>\n",
              "    </tr>\n",
              "  </tbody>\n",
              "</table>\n",
              "<p>8 rows × 17 columns</p>\n",
              "</div>"
            ],
            "text/plain": [
              "       Unnamed: 0        코드    남학생수    여학생수      일반고  ...  \\\n",
              "count  415.000000  415.000000  415.000000  415.000000  415.000000  ...   \n",
              "mean   207.000000    3.197590  126.532530  116.173494    0.623080  ...   \n",
              "std    119.944432    0.804272   79.217906   76.833082    0.211093  ...   \n",
              "min      0.000000    3.000000    0.000000    0.000000    0.000000  ...   \n",
              "25%    103.500000    3.000000   80.000000   71.500000    0.566500  ...   \n",
              "50%    207.000000    3.000000  129.000000  118.000000    0.681000  ...   \n",
              "75%    310.500000    3.000000  177.500000  161.500000    0.758000  ...   \n",
              "max    414.000000    9.000000  337.000000  422.000000    0.908000  ...   \n",
              "\n",
              "         기타진학   취업        미상        위도        경도  \n",
              "count  415.000000  415.0  415.000000  415.000000  415.000000  \n",
              "mean     0.069571    0.0    0.001670   37.491969  127.032792  \n",
              "std      0.235630    0.0    0.003697    0.348926    0.265245  \n",
              "min      0.000000    0.0    0.000000   34.979940  126.639561  \n",
              "25%      0.000000    0.0    0.000000   37.501934  126.921758  \n",
              "50%      0.007000    0.0    0.000000   37.547702  127.013579  \n",
              "75%      0.015000    0.0    0.003000   37.590670  127.071265  \n",
              "max      1.000000    0.0    0.036000   37.694777  129.106974  \n",
              "\n",
              "[8 rows x 17 columns]"
            ]
          },
          "metadata": {
            "tags": []
          },
          "execution_count": 17
        }
      ]
    },
    {
      "cell_type": "code",
      "metadata": {
        "id": "dQCCe2rAv1_7",
        "colab_type": "code",
        "colab": {}
      },
      "source": [
        "#지도에 위치 표시\n",
        "mschool_map = folium.Map(location = [37.55, 126.98], tiles = \"Stamen Terrain\", zoom_start = 12)"
      ],
      "execution_count": null,
      "outputs": []
    },
    {
      "cell_type": "code",
      "metadata": {
        "id": "28HcYOU9wIX6",
        "colab_type": "code",
        "colab": {}
      },
      "source": [
        "#중학교 위치 정보를 CircleMarker로 표시\n",
        "for name, lat, lng in zip(df.학교명, df.위도, df.경도):\n",
        "  folium.CircleMarker([lat, lng], radius = 5, color = \"brown\", fill = True, fill_color = \"coral\", fill_opacity = 0.7, popup = name).add_to(mschool_map)"
      ],
      "execution_count": null,
      "outputs": []
    },
    {
      "cell_type": "code",
      "metadata": {
        "id": "GMa_7RwpwlS8",
        "colab_type": "code",
        "colab": {}
      },
      "source": [
        "mschool_map.save(\"./seoul_mschool_location.html\")"
      ],
      "execution_count": null,
      "outputs": []
    },
    {
      "cell_type": "markdown",
      "metadata": {
        "id": "6tUkZu5UxNni",
        "colab_type": "text"
      },
      "source": [
        "데이터 전처리"
      ]
    },
    {
      "cell_type": "code",
      "metadata": {
        "id": "hooBrxglxGuE",
        "colab_type": "code",
        "colab": {
          "base_uri": "https://localhost:8080/",
          "height": 325
        },
        "outputId": "82dcf9a4-2e6c-43b9-d48c-1f4936909a11"
      },
      "source": [
        "#원핫인코딩(더미 변수)\n",
        "from sklearn import preprocessing\n",
        "\n",
        "label_encoder = preprocessing.LabelEncoder()\n",
        "onehot_encoder = preprocessing.OneHotEncoder()\n",
        "\n",
        "onehot_location = label_encoder.fit_transform(df[\"지역\"])\n",
        "onehot_code = label_encoder.fit_transform(df[\"코드\"])\n",
        "onehot_type = label_encoder.fit_transform(df[\"유형\"])\n",
        "onehot_day = label_encoder.fit_transform(df[\"주야\"])\n",
        "\n",
        "df[\"location\"] = onehot_location\n",
        "df[\"code\"] = onehot_code\n",
        "df[\"type\"] = onehot_type\n",
        "df[\"day\"] = onehot_day\n",
        "\n",
        "df.head()"
      ],
      "execution_count": null,
      "outputs": [
        {
          "output_type": "execute_result",
          "data": {
            "text/html": [
              "<div>\n",
              "<style scoped>\n",
              "    .dataframe tbody tr th:only-of-type {\n",
              "        vertical-align: middle;\n",
              "    }\n",
              "\n",
              "    .dataframe tbody tr th {\n",
              "        vertical-align: top;\n",
              "    }\n",
              "\n",
              "    .dataframe thead th {\n",
              "        text-align: right;\n",
              "    }\n",
              "</style>\n",
              "<table border=\"1\" class=\"dataframe\">\n",
              "  <thead>\n",
              "    <tr style=\"text-align: right;\">\n",
              "      <th></th>\n",
              "      <th>Unnamed: 0</th>\n",
              "      <th>지역</th>\n",
              "      <th>학교명</th>\n",
              "      <th>코드</th>\n",
              "      <th>유형</th>\n",
              "      <th>...</th>\n",
              "      <th>경도</th>\n",
              "      <th>location</th>\n",
              "      <th>code</th>\n",
              "      <th>type</th>\n",
              "      <th>day</th>\n",
              "    </tr>\n",
              "  </thead>\n",
              "  <tbody>\n",
              "    <tr>\n",
              "      <th>0</th>\n",
              "      <td>0</td>\n",
              "      <td>성북구</td>\n",
              "      <td>서울대학교사범대학부설중학교...</td>\n",
              "      <td>3</td>\n",
              "      <td>국립</td>\n",
              "      <td>...</td>\n",
              "      <td>127.038909</td>\n",
              "      <td>16</td>\n",
              "      <td>0</td>\n",
              "      <td>1</td>\n",
              "      <td>0</td>\n",
              "    </tr>\n",
              "    <tr>\n",
              "      <th>1</th>\n",
              "      <td>1</td>\n",
              "      <td>종로구</td>\n",
              "      <td>서울대학교사범대학부설여자중학교...</td>\n",
              "      <td>3</td>\n",
              "      <td>국립</td>\n",
              "      <td>...</td>\n",
              "      <td>127.003857</td>\n",
              "      <td>22</td>\n",
              "      <td>0</td>\n",
              "      <td>1</td>\n",
              "      <td>0</td>\n",
              "    </tr>\n",
              "    <tr>\n",
              "      <th>2</th>\n",
              "      <td>2</td>\n",
              "      <td>강남구</td>\n",
              "      <td>개원중학교</td>\n",
              "      <td>3</td>\n",
              "      <td>공립</td>\n",
              "      <td>...</td>\n",
              "      <td>127.071744</td>\n",
              "      <td>0</td>\n",
              "      <td>0</td>\n",
              "      <td>0</td>\n",
              "      <td>0</td>\n",
              "    </tr>\n",
              "    <tr>\n",
              "      <th>3</th>\n",
              "      <td>3</td>\n",
              "      <td>강남구</td>\n",
              "      <td>개포중학교</td>\n",
              "      <td>3</td>\n",
              "      <td>공립</td>\n",
              "      <td>...</td>\n",
              "      <td>127.062201</td>\n",
              "      <td>0</td>\n",
              "      <td>0</td>\n",
              "      <td>0</td>\n",
              "      <td>0</td>\n",
              "    </tr>\n",
              "    <tr>\n",
              "      <th>4</th>\n",
              "      <td>4</td>\n",
              "      <td>서초구</td>\n",
              "      <td>경원중학교</td>\n",
              "      <td>3</td>\n",
              "      <td>공립</td>\n",
              "      <td>...</td>\n",
              "      <td>127.008900</td>\n",
              "      <td>14</td>\n",
              "      <td>0</td>\n",
              "      <td>0</td>\n",
              "      <td>0</td>\n",
              "    </tr>\n",
              "  </tbody>\n",
              "</table>\n",
              "<p>5 rows × 25 columns</p>\n",
              "</div>"
            ],
            "text/plain": [
              "   Unnamed: 0    지역                               학교명  코드  유형  ...  \\\n",
              "0           0  성북구  서울대학교사범대학부설중학교.....       3  국립  ...   \n",
              "1           1  종로구  서울대학교사범대학부설여자중학교...     3  국립  ...   \n",
              "2           2  강남구           개원중학교                     3  공립  ...   \n",
              "3           3  강남구           개포중학교                     3  공립  ...   \n",
              "4           4  서초구           경원중학교                     3  공립  ...   \n",
              "\n",
              "         경도  location  code  type  day  \n",
              "0  127.038909        16     0     1    0  \n",
              "1  127.003857        22     0     1    0  \n",
              "2  127.071744         0     0     0    0  \n",
              "3  127.062201         0     0     0    0  \n",
              "4  127.008900        14     0     0    0  \n",
              "\n",
              "[5 rows x 25 columns]"
            ]
          },
          "metadata": {
            "tags": []
          },
          "execution_count": 21
        }
      ]
    },
    {
      "cell_type": "markdown",
      "metadata": {
        "id": "X1aIksYayI_E",
        "colab_type": "text"
      },
      "source": [
        "모형 학습 및 검증"
      ]
    },
    {
      "cell_type": "code",
      "metadata": {
        "id": "536Lo62DyDjd",
        "colab_type": "code",
        "colab": {}
      },
      "source": [
        "from sklearn import cluster\n",
        "\n",
        "#분석에 사용할 속성 선택(과학고, 외고국제고, 자사고 진학률)\n",
        "columns_list = [9, 10, 13]\n",
        "X = df.iloc[:, columns_list]"
      ],
      "execution_count": null,
      "outputs": []
    },
    {
      "cell_type": "code",
      "metadata": {
        "id": "YQa1xSZPyo4a",
        "colab_type": "code",
        "colab": {}
      },
      "source": [
        "X = preprocessing.StandardScaler().fit(X).transform(X) #정규화"
      ],
      "execution_count": null,
      "outputs": []
    },
    {
      "cell_type": "code",
      "metadata": {
        "id": "smIsE58Qyqdm",
        "colab_type": "code",
        "colab": {}
      },
      "source": [
        "dbm = cluster.DBSCAN(eps = 0.2, min_samples = 5) #DBSCAN 모형 객체 생성"
      ],
      "execution_count": null,
      "outputs": []
    },
    {
      "cell_type": "code",
      "metadata": {
        "id": "7awvLH4UysH9",
        "colab_type": "code",
        "colab": {
          "base_uri": "https://localhost:8080/",
          "height": 52
        },
        "outputId": "88cca458-6cc3-4c14-965e-e8ff718a4adf"
      },
      "source": [
        "dbm.fit(X) #모형 학습"
      ],
      "execution_count": null,
      "outputs": [
        {
          "output_type": "execute_result",
          "data": {
            "text/plain": [
              "DBSCAN(algorithm='auto', eps=0.2, leaf_size=30, metric='euclidean',\n",
              "       metric_params=None, min_samples=5, n_jobs=None, p=None)"
            ]
          },
          "metadata": {
            "tags": []
          },
          "execution_count": 25
        }
      ]
    },
    {
      "cell_type": "code",
      "metadata": {
        "id": "MJMJsuTEyuPg",
        "colab_type": "code",
        "colab": {}
      },
      "source": [
        "cluster_label = dbm.labels_ #예측\n",
        "df[\"Cluster\"] = cluster_label #예측 결과를 데이터프레임에 추가"
      ],
      "execution_count": null,
      "outputs": []
    },
    {
      "cell_type": "code",
      "metadata": {
        "id": "O02PiG-7yyJT",
        "colab_type": "code",
        "colab": {
          "base_uri": "https://localhost:8080/",
          "height": 1000
        },
        "outputId": "55bbdf30-8e9a-42eb-82a6-1cd73892ae74"
      },
      "source": [
        "#클러스터 값으로 그룹화하고 그룹별로 내용을 출력\n",
        "grouped_cols = [0, 1, 3] + columns_list\n",
        "grouped = df.groupby(\"Cluster\")\n",
        "for key, group in grouped:\n",
        "  print(\"* key: \", key)\n",
        "  print(\"* number: \", len(group))\n",
        "  print(group.iloc[:, grouped_cols].head())\n",
        "  print()"
      ],
      "execution_count": null,
      "outputs": [
        {
          "output_type": "stream",
          "text": [
            "* key:  -1\n",
            "* number:  234\n",
            "   Unnamed: 0    지역  코드  특성화고  과학고  마이스터고\n",
            "0           0  성북구     3     0.148   0.018       0.011\n",
            "2           2  강남구     3     0.047   0.009       0.006\n",
            "3           3  강남구     3     0.097   0.013       0.019\n",
            "6           6  강남구     3     0.015   0.015       0.000\n",
            "7           7  강남구     3     0.000   0.032       0.000\n",
            "\n",
            "* key:  0\n",
            "* number:  70\n",
            "    Unnamed: 0    지역  코드  특성화고  과학고  마이스터고\n",
            "1            1  종로구     3     0.199     0.0         0.0\n",
            "13          13  서초구     3     0.032     0.0         0.0\n",
            "23          23  강남구     3     0.025     0.0         0.0\n",
            "28          28  서초구     3     0.040     0.0         0.0\n",
            "29          29  강남구     3     0.051     0.0         0.0\n",
            "\n",
            "* key:  1\n",
            "* number:  7\n",
            "    Unnamed: 0    지역  코드  특성화고  과학고  마이스터고\n",
            "4            4  서초구     3     0.017   0.007         0.0\n",
            "24          24  강남구     3     0.026   0.007         0.0\n",
            "27          27  강남구     3     0.006   0.006         0.0\n",
            "53          53  강동구     3     0.020   0.007         0.0\n",
            "68          68  송파구     3     0.011   0.007         0.0\n",
            "\n",
            "* key:  2\n",
            "* number:  6\n",
            "    Unnamed: 0    지역  코드  특성화고  과학고  마이스터고\n",
            "8            8  강남구     3     0.018   0.013         0.0\n",
            "12          12  강남구     3     0.000   0.013         0.0\n",
            "19          19  서초구     3     0.005   0.013         0.0\n",
            "25          25  서초구     3     0.012   0.012         0.0\n",
            "91          91  양천구     3     0.028   0.011         0.0\n",
            "\n",
            "* key:  3\n",
            "* number:  12\n",
            "    Unnamed: 0    지역  코드  특성화고  과학고  마이스터고\n",
            "47          47  강동구     3     0.171     0.0       0.005\n",
            "51          51  송파구     3     0.153     0.0       0.004\n",
            "80          80  양천구     3     0.189     0.0       0.003\n",
            "83          83  강서구     3     0.194     0.0       0.004\n",
            "88          88  강서구     3     0.198     0.0       0.006\n",
            "\n",
            "* key:  4\n",
            "* number:  11\n",
            "    Unnamed: 0    지역  코드  특성화고  과학고  마이스터고\n",
            "56          56  강동구     3     0.094     0.0       0.007\n",
            "59          59  강동구     3     0.093     0.0       0.004\n",
            "62          62  강동구     3     0.087     0.0       0.006\n",
            "78          78  강동구     3     0.112     0.0       0.004\n",
            "84          84  양천구     3     0.094     0.0       0.003\n",
            "\n",
            "* key:  5\n",
            "* number:  9\n",
            "     Unnamed: 0    지역  코드  특성화고  과학고  마이스터고\n",
            "5             5  강남구     3     0.066   0.007         0.0\n",
            "65           65  송파구     3     0.081   0.006         0.0\n",
            "96           96  양천구     3     0.083   0.006         0.0\n",
            "122         122  구로구     3     0.079   0.004         0.0\n",
            "134         134  구로구     3     0.063   0.005         0.0\n",
            "\n",
            "* key:  6\n",
            "* number:  13\n",
            "     Unnamed: 0      지역  코드  특성화고  과학고  마이스터고\n",
            "67           67    송파구     3     0.226     0.0       0.004\n",
            "145         145    구로구     3     0.249     0.0       0.004\n",
            "153         153  동대문구     3     0.222     0.0       0.004\n",
            "160         160  동대문구     3     0.225     0.0       0.006\n",
            "167         167  동대문구     3     0.224     0.0       0.004\n",
            "\n",
            "* key:  7\n",
            "* number:  7\n",
            "     Unnamed: 0      지역  코드  특성화고  과학고  마이스터고\n",
            "130         130    금천구     3     0.329     0.0         0.0\n",
            "170         170  동대문구     3     0.327     0.0         0.0\n",
            "298         298    성동구     3     0.323     0.0         0.0\n",
            "299         299    광진구     3     0.309     0.0         0.0\n",
            "316         316    강북구     3     0.305     0.0         0.0\n",
            "\n",
            "* key:  8\n",
            "* number:  6\n",
            "     Unnamed: 0      지역  코드  특성화고  과학고  마이스터고\n",
            "74           74    강동구     3     0.215     0.0       0.012\n",
            "123         123    금천구     3     0.242     0.0       0.013\n",
            "149         149  동대문구     3     0.213     0.0       0.013\n",
            "181         181    관악구     3     0.222     0.0       0.013\n",
            "311         311    성북구     3     0.222     0.0       0.014\n",
            "\n",
            "* key:  9\n",
            "* number:  5\n",
            "     Unnamed: 0    지역  코드  특성화고  과학고  마이스터고\n",
            "219         219  노원구     3     0.110   0.003       0.003\n",
            "238         238  도봉구     3     0.115   0.003       0.003\n",
            "240         240  도봉구     3     0.098   0.003       0.003\n",
            "291         291  성동구     3     0.089   0.003       0.003\n",
            "372         372  송파구     3     0.098   0.004       0.004\n",
            "\n",
            "* key:  10\n",
            "* number:  5\n",
            "     Unnamed: 0    지역  코드  특성화고  과학고  마이스터고\n",
            "280         280  은평구     3     0.185   0.005       0.005\n",
            "294         294  성동구     3     0.179   0.005       0.005\n",
            "296         296  성동구     3     0.180   0.005       0.005\n",
            "337         337  용산구     3     0.168   0.005       0.005\n",
            "345         345  용산구     3     0.201   0.005       0.005\n",
            "\n",
            "* key:  11\n",
            "* number:  30\n",
            "     Unnamed: 0    지역  코드  특성화고  과학고  마이스터고\n",
            "384         384  종로구     5       0.0     0.0         0.0\n",
            "385         385  마포구     5       0.0     0.0         0.0\n",
            "386         386  종로구     5       0.0     0.0         0.0\n",
            "387         387  강서구     5       0.0     0.0         0.0\n",
            "388         388  서초구     5       0.0     0.0         0.0\n",
            "\n"
          ],
          "name": "stdout"
        }
      ]
    },
    {
      "cell_type": "code",
      "metadata": {
        "id": "ouqo2KZvzVoJ",
        "colab_type": "code",
        "colab": {
          "base_uri": "https://localhost:8080/",
          "height": 257
        },
        "outputId": "8e754234-735a-4ede-a730-51731ce707ed"
      },
      "source": [
        "#그래프로 표현 - 시각화\n",
        "colors = {\n",
        "    -1 : \"gray\", 0 : \"coral\", 1 : \"blue\", 2 : \"green\", 3 : \"red\", 4: \"purple\",\n",
        "    5 : \"orange\", 6 : \"brown\", 7 : \"brick\", 8 : \"yellow\", 9 : \"magenta\", 10 : \"cyan\"\n",
        "}\n",
        "\n",
        "cluster_map = folium.Map(location = [37.55, 126.98], tiles = \"Stamen Terrain\", zoom_start = 12)\n",
        "\n",
        "for name, lat, lng, clus in zip(df.학교명, df.위도, df.경도, df.Cluster):\n",
        "  folium.CircleMarker([lat, lng], radius = 5, color = colors[clus], fill = True, fill_color = colors[clus], fill_opacity = 0.7, popup = name).add_to(cluster_map)\n",
        "\n",
        "cluster_map.save(\"./seoul_mschool_cluster.html\")"
      ],
      "execution_count": null,
      "outputs": [
        {
          "output_type": "error",
          "ename": "KeyError",
          "evalue": "ignored",
          "traceback": [
            "\u001b[0;31m---------------------------------------------------------------------------\u001b[0m",
            "\u001b[0;31mKeyError\u001b[0m                                  Traceback (most recent call last)",
            "\u001b[0;32m<ipython-input-29-1cc04dc61ff5>\u001b[0m in \u001b[0;36m<module>\u001b[0;34m()\u001b[0m\n\u001b[1;32m      8\u001b[0m \u001b[0;34m\u001b[0m\u001b[0m\n\u001b[1;32m      9\u001b[0m \u001b[0;32mfor\u001b[0m \u001b[0mname\u001b[0m\u001b[0;34m,\u001b[0m \u001b[0mlat\u001b[0m\u001b[0;34m,\u001b[0m \u001b[0mlng\u001b[0m\u001b[0;34m,\u001b[0m \u001b[0mclus\u001b[0m \u001b[0;32min\u001b[0m \u001b[0mzip\u001b[0m\u001b[0;34m(\u001b[0m\u001b[0mdf\u001b[0m\u001b[0;34m.\u001b[0m\u001b[0m학교명\u001b[0m\u001b[0;34m,\u001b[0m \u001b[0mdf\u001b[0m\u001b[0;34m.\u001b[0m\u001b[0m위도\u001b[0m\u001b[0;34m,\u001b[0m \u001b[0mdf\u001b[0m\u001b[0;34m.\u001b[0m\u001b[0m경도\u001b[0m\u001b[0;34m,\u001b[0m \u001b[0mdf\u001b[0m\u001b[0;34m.\u001b[0m\u001b[0mCluster\u001b[0m\u001b[0;34m)\u001b[0m\u001b[0;34m:\u001b[0m\u001b[0;34m\u001b[0m\u001b[0;34m\u001b[0m\u001b[0m\n\u001b[0;32m---> 10\u001b[0;31m   \u001b[0mfolium\u001b[0m\u001b[0;34m.\u001b[0m\u001b[0mCircleMarker\u001b[0m\u001b[0;34m(\u001b[0m\u001b[0;34m[\u001b[0m\u001b[0mlat\u001b[0m\u001b[0;34m,\u001b[0m \u001b[0mlng\u001b[0m\u001b[0;34m]\u001b[0m\u001b[0;34m,\u001b[0m \u001b[0mradius\u001b[0m \u001b[0;34m=\u001b[0m \u001b[0;36m5\u001b[0m\u001b[0;34m,\u001b[0m \u001b[0mcolor\u001b[0m \u001b[0;34m=\u001b[0m \u001b[0mcolors\u001b[0m\u001b[0;34m[\u001b[0m\u001b[0mclus\u001b[0m\u001b[0;34m]\u001b[0m\u001b[0;34m,\u001b[0m \u001b[0mfill\u001b[0m \u001b[0;34m=\u001b[0m \u001b[0;32mTrue\u001b[0m\u001b[0;34m,\u001b[0m \u001b[0mfill_color\u001b[0m \u001b[0;34m=\u001b[0m \u001b[0mcolors\u001b[0m\u001b[0;34m[\u001b[0m\u001b[0mclus\u001b[0m\u001b[0;34m]\u001b[0m\u001b[0;34m,\u001b[0m \u001b[0mfill_opacity\u001b[0m \u001b[0;34m=\u001b[0m \u001b[0;36m0.7\u001b[0m\u001b[0;34m,\u001b[0m \u001b[0mpopup\u001b[0m \u001b[0;34m=\u001b[0m \u001b[0mname\u001b[0m\u001b[0;34m)\u001b[0m\u001b[0;34m.\u001b[0m\u001b[0madd_to\u001b[0m\u001b[0;34m(\u001b[0m\u001b[0mcluster_map\u001b[0m\u001b[0;34m)\u001b[0m\u001b[0;34m\u001b[0m\u001b[0;34m\u001b[0m\u001b[0m\n\u001b[0m\u001b[1;32m     11\u001b[0m \u001b[0;34m\u001b[0m\u001b[0m\n\u001b[1;32m     12\u001b[0m \u001b[0mcluster_map\u001b[0m\u001b[0;34m.\u001b[0m\u001b[0msave\u001b[0m\u001b[0;34m(\u001b[0m\u001b[0;34m\"./seoul_mschool_cluster.html\"\u001b[0m\u001b[0;34m)\u001b[0m\u001b[0;34m\u001b[0m\u001b[0;34m\u001b[0m\u001b[0m\n",
            "\u001b[0;31mKeyError\u001b[0m: 11"
          ]
        }
      ]
    },
    {
      "cell_type": "code",
      "metadata": {
        "id": "cvQ-eSFX0Q4V",
        "colab_type": "code",
        "colab": {}
      },
      "source": [
        ""
      ],
      "execution_count": null,
      "outputs": []
    }
  ]
}