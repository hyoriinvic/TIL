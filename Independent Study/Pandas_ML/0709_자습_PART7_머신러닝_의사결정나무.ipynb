{
  "nbformat": 4,
  "nbformat_minor": 0,
  "metadata": {
    "colab": {
      "name": "0709 자습 PART7 머신러닝-의사결정나무",
      "provenance": []
    },
    "kernelspec": {
      "name": "python3",
      "display_name": "Python 3"
    }
  },
  "cells": [
    {
      "cell_type": "code",
      "metadata": {
        "id": "Uhkm5hM7anQh",
        "colab_type": "code",
        "colab": {}
      },
      "source": [
        "import pandas as pd\n",
        "import numpy as np"
      ],
      "execution_count": null,
      "outputs": []
    },
    {
      "cell_type": "code",
      "metadata": {
        "id": "SUvGAqTXcThr",
        "colab_type": "code",
        "colab": {}
      },
      "source": [
        "#Breast Cancer 데이터셋 가져오기(출처: UCI ML Repository)\n",
        "#uci_path = \"http://archive.ics.uci.edu/ml/machine-learning-databases/\\breast-cancer-wisconsin/breast-cancer-wisconsin.data\"\n",
        "df = pd.read_csv(\"breast-cancer-wisconsin.data\", header = None)"
      ],
      "execution_count": null,
      "outputs": []
    },
    {
      "cell_type": "code",
      "metadata": {
        "id": "1SrYU-jucuKI",
        "colab_type": "code",
        "colab": {}
      },
      "source": [
        "df.columns = [\"id\", \"clump\", \"cell_size\", \"cell_shape\", \"adhension\", \"epithial\", \"bare_nuclei\", \"chromatin\", \"normal_nubleoli\", \"mitoses\", \"class\"]"
      ],
      "execution_count": null,
      "outputs": []
    },
    {
      "cell_type": "code",
      "metadata": {
        "id": "3-VUankIc_8q",
        "colab_type": "code",
        "colab": {
          "base_uri": "https://localhost:8080/",
          "height": 195
        },
        "outputId": "a6572638-ff6c-4430-9124-4518355edf05"
      },
      "source": [
        "pd.set_option(\"display.max_columns\", 15)\n",
        "df.head()"
      ],
      "execution_count": null,
      "outputs": [
        {
          "output_type": "execute_result",
          "data": {
            "text/html": [
              "<div>\n",
              "<style scoped>\n",
              "    .dataframe tbody tr th:only-of-type {\n",
              "        vertical-align: middle;\n",
              "    }\n",
              "\n",
              "    .dataframe tbody tr th {\n",
              "        vertical-align: top;\n",
              "    }\n",
              "\n",
              "    .dataframe thead th {\n",
              "        text-align: right;\n",
              "    }\n",
              "</style>\n",
              "<table border=\"1\" class=\"dataframe\">\n",
              "  <thead>\n",
              "    <tr style=\"text-align: right;\">\n",
              "      <th></th>\n",
              "      <th>id</th>\n",
              "      <th>clump</th>\n",
              "      <th>cell_size</th>\n",
              "      <th>cell_shape</th>\n",
              "      <th>adhension</th>\n",
              "      <th>epithial</th>\n",
              "      <th>bare_nuclei</th>\n",
              "      <th>chromatin</th>\n",
              "      <th>normal_nubleoli</th>\n",
              "      <th>mitoses</th>\n",
              "      <th>class</th>\n",
              "    </tr>\n",
              "  </thead>\n",
              "  <tbody>\n",
              "    <tr>\n",
              "      <th>0</th>\n",
              "      <td>1000025</td>\n",
              "      <td>5</td>\n",
              "      <td>1</td>\n",
              "      <td>1</td>\n",
              "      <td>1</td>\n",
              "      <td>2</td>\n",
              "      <td>1</td>\n",
              "      <td>3</td>\n",
              "      <td>1</td>\n",
              "      <td>1</td>\n",
              "      <td>2</td>\n",
              "    </tr>\n",
              "    <tr>\n",
              "      <th>1</th>\n",
              "      <td>1002945</td>\n",
              "      <td>5</td>\n",
              "      <td>4</td>\n",
              "      <td>4</td>\n",
              "      <td>5</td>\n",
              "      <td>7</td>\n",
              "      <td>10</td>\n",
              "      <td>3</td>\n",
              "      <td>2</td>\n",
              "      <td>1</td>\n",
              "      <td>2</td>\n",
              "    </tr>\n",
              "    <tr>\n",
              "      <th>2</th>\n",
              "      <td>1015425</td>\n",
              "      <td>3</td>\n",
              "      <td>1</td>\n",
              "      <td>1</td>\n",
              "      <td>1</td>\n",
              "      <td>2</td>\n",
              "      <td>2</td>\n",
              "      <td>3</td>\n",
              "      <td>1</td>\n",
              "      <td>1</td>\n",
              "      <td>2</td>\n",
              "    </tr>\n",
              "    <tr>\n",
              "      <th>3</th>\n",
              "      <td>1016277</td>\n",
              "      <td>6</td>\n",
              "      <td>8</td>\n",
              "      <td>8</td>\n",
              "      <td>1</td>\n",
              "      <td>3</td>\n",
              "      <td>4</td>\n",
              "      <td>3</td>\n",
              "      <td>7</td>\n",
              "      <td>1</td>\n",
              "      <td>2</td>\n",
              "    </tr>\n",
              "    <tr>\n",
              "      <th>4</th>\n",
              "      <td>1017023</td>\n",
              "      <td>4</td>\n",
              "      <td>1</td>\n",
              "      <td>1</td>\n",
              "      <td>3</td>\n",
              "      <td>2</td>\n",
              "      <td>1</td>\n",
              "      <td>3</td>\n",
              "      <td>1</td>\n",
              "      <td>1</td>\n",
              "      <td>2</td>\n",
              "    </tr>\n",
              "  </tbody>\n",
              "</table>\n",
              "</div>"
            ],
            "text/plain": [
              "        id  clump  cell_size  cell_shape  adhension  epithial bare_nuclei  \\\n",
              "0  1000025      5          1           1          1         2           1   \n",
              "1  1002945      5          4           4          5         7          10   \n",
              "2  1015425      3          1           1          1         2           2   \n",
              "3  1016277      6          8           8          1         3           4   \n",
              "4  1017023      4          1           1          3         2           1   \n",
              "\n",
              "   chromatin  normal_nubleoli  mitoses  class  \n",
              "0          3                1        1      2  \n",
              "1          3                2        1      2  \n",
              "2          3                1        1      2  \n",
              "3          3                7        1      2  \n",
              "4          3                1        1      2  "
            ]
          },
          "metadata": {
            "tags": []
          },
          "execution_count": 8
        }
      ]
    },
    {
      "cell_type": "code",
      "metadata": {
        "id": "UaNVuDKRdc4h",
        "colab_type": "code",
        "colab": {
          "base_uri": "https://localhost:8080/",
          "height": 334
        },
        "outputId": "9b6cfa23-218e-47a8-d43d-e3f355d1618a"
      },
      "source": [
        "df.info()"
      ],
      "execution_count": null,
      "outputs": [
        {
          "output_type": "stream",
          "text": [
            "<class 'pandas.core.frame.DataFrame'>\n",
            "RangeIndex: 699 entries, 0 to 698\n",
            "Data columns (total 11 columns):\n",
            " #   Column           Non-Null Count  Dtype \n",
            "---  ------           --------------  ----- \n",
            " 0   id               699 non-null    int64 \n",
            " 1   clump            699 non-null    int64 \n",
            " 2   cell_size        699 non-null    int64 \n",
            " 3   cell_shape       699 non-null    int64 \n",
            " 4   adhension        699 non-null    int64 \n",
            " 5   epithial         699 non-null    int64 \n",
            " 6   bare_nuclei      699 non-null    object\n",
            " 7   chromatin        699 non-null    int64 \n",
            " 8   normal_nubleoli  699 non-null    int64 \n",
            " 9   mitoses          699 non-null    int64 \n",
            " 10  class            699 non-null    int64 \n",
            "dtypes: int64(10), object(1)\n",
            "memory usage: 60.2+ KB\n"
          ],
          "name": "stdout"
        }
      ]
    },
    {
      "cell_type": "code",
      "metadata": {
        "id": "xVAQ1rbqdgan",
        "colab_type": "code",
        "colab": {
          "base_uri": "https://localhost:8080/",
          "height": 284
        },
        "outputId": "f27c69a0-85e3-41b0-817a-f12ea19aac82"
      },
      "source": [
        "df.describe()"
      ],
      "execution_count": null,
      "outputs": [
        {
          "output_type": "execute_result",
          "data": {
            "text/html": [
              "<div>\n",
              "<style scoped>\n",
              "    .dataframe tbody tr th:only-of-type {\n",
              "        vertical-align: middle;\n",
              "    }\n",
              "\n",
              "    .dataframe tbody tr th {\n",
              "        vertical-align: top;\n",
              "    }\n",
              "\n",
              "    .dataframe thead th {\n",
              "        text-align: right;\n",
              "    }\n",
              "</style>\n",
              "<table border=\"1\" class=\"dataframe\">\n",
              "  <thead>\n",
              "    <tr style=\"text-align: right;\">\n",
              "      <th></th>\n",
              "      <th>id</th>\n",
              "      <th>clump</th>\n",
              "      <th>cell_size</th>\n",
              "      <th>cell_shape</th>\n",
              "      <th>adhension</th>\n",
              "      <th>epithial</th>\n",
              "      <th>chromatin</th>\n",
              "      <th>normal_nubleoli</th>\n",
              "      <th>mitoses</th>\n",
              "      <th>class</th>\n",
              "    </tr>\n",
              "  </thead>\n",
              "  <tbody>\n",
              "    <tr>\n",
              "      <th>count</th>\n",
              "      <td>6.990000e+02</td>\n",
              "      <td>699.000000</td>\n",
              "      <td>699.000000</td>\n",
              "      <td>699.000000</td>\n",
              "      <td>699.000000</td>\n",
              "      <td>699.000000</td>\n",
              "      <td>699.000000</td>\n",
              "      <td>699.000000</td>\n",
              "      <td>699.000000</td>\n",
              "      <td>699.000000</td>\n",
              "    </tr>\n",
              "    <tr>\n",
              "      <th>mean</th>\n",
              "      <td>1.071704e+06</td>\n",
              "      <td>4.417740</td>\n",
              "      <td>3.134478</td>\n",
              "      <td>3.207439</td>\n",
              "      <td>2.806867</td>\n",
              "      <td>3.216023</td>\n",
              "      <td>3.437768</td>\n",
              "      <td>2.866953</td>\n",
              "      <td>1.589413</td>\n",
              "      <td>2.689557</td>\n",
              "    </tr>\n",
              "    <tr>\n",
              "      <th>std</th>\n",
              "      <td>6.170957e+05</td>\n",
              "      <td>2.815741</td>\n",
              "      <td>3.051459</td>\n",
              "      <td>2.971913</td>\n",
              "      <td>2.855379</td>\n",
              "      <td>2.214300</td>\n",
              "      <td>2.438364</td>\n",
              "      <td>3.053634</td>\n",
              "      <td>1.715078</td>\n",
              "      <td>0.951273</td>\n",
              "    </tr>\n",
              "    <tr>\n",
              "      <th>min</th>\n",
              "      <td>6.163400e+04</td>\n",
              "      <td>1.000000</td>\n",
              "      <td>1.000000</td>\n",
              "      <td>1.000000</td>\n",
              "      <td>1.000000</td>\n",
              "      <td>1.000000</td>\n",
              "      <td>1.000000</td>\n",
              "      <td>1.000000</td>\n",
              "      <td>1.000000</td>\n",
              "      <td>2.000000</td>\n",
              "    </tr>\n",
              "    <tr>\n",
              "      <th>25%</th>\n",
              "      <td>8.706885e+05</td>\n",
              "      <td>2.000000</td>\n",
              "      <td>1.000000</td>\n",
              "      <td>1.000000</td>\n",
              "      <td>1.000000</td>\n",
              "      <td>2.000000</td>\n",
              "      <td>2.000000</td>\n",
              "      <td>1.000000</td>\n",
              "      <td>1.000000</td>\n",
              "      <td>2.000000</td>\n",
              "    </tr>\n",
              "    <tr>\n",
              "      <th>50%</th>\n",
              "      <td>1.171710e+06</td>\n",
              "      <td>4.000000</td>\n",
              "      <td>1.000000</td>\n",
              "      <td>1.000000</td>\n",
              "      <td>1.000000</td>\n",
              "      <td>2.000000</td>\n",
              "      <td>3.000000</td>\n",
              "      <td>1.000000</td>\n",
              "      <td>1.000000</td>\n",
              "      <td>2.000000</td>\n",
              "    </tr>\n",
              "    <tr>\n",
              "      <th>75%</th>\n",
              "      <td>1.238298e+06</td>\n",
              "      <td>6.000000</td>\n",
              "      <td>5.000000</td>\n",
              "      <td>5.000000</td>\n",
              "      <td>4.000000</td>\n",
              "      <td>4.000000</td>\n",
              "      <td>5.000000</td>\n",
              "      <td>4.000000</td>\n",
              "      <td>1.000000</td>\n",
              "      <td>4.000000</td>\n",
              "    </tr>\n",
              "    <tr>\n",
              "      <th>max</th>\n",
              "      <td>1.345435e+07</td>\n",
              "      <td>10.000000</td>\n",
              "      <td>10.000000</td>\n",
              "      <td>10.000000</td>\n",
              "      <td>10.000000</td>\n",
              "      <td>10.000000</td>\n",
              "      <td>10.000000</td>\n",
              "      <td>10.000000</td>\n",
              "      <td>10.000000</td>\n",
              "      <td>4.000000</td>\n",
              "    </tr>\n",
              "  </tbody>\n",
              "</table>\n",
              "</div>"
            ],
            "text/plain": [
              "                 id       clump   cell_size  cell_shape   adhension  \\\n",
              "count  6.990000e+02  699.000000  699.000000  699.000000  699.000000   \n",
              "mean   1.071704e+06    4.417740    3.134478    3.207439    2.806867   \n",
              "std    6.170957e+05    2.815741    3.051459    2.971913    2.855379   \n",
              "min    6.163400e+04    1.000000    1.000000    1.000000    1.000000   \n",
              "25%    8.706885e+05    2.000000    1.000000    1.000000    1.000000   \n",
              "50%    1.171710e+06    4.000000    1.000000    1.000000    1.000000   \n",
              "75%    1.238298e+06    6.000000    5.000000    5.000000    4.000000   \n",
              "max    1.345435e+07   10.000000   10.000000   10.000000   10.000000   \n",
              "\n",
              "         epithial   chromatin  normal_nubleoli     mitoses       class  \n",
              "count  699.000000  699.000000       699.000000  699.000000  699.000000  \n",
              "mean     3.216023    3.437768         2.866953    1.589413    2.689557  \n",
              "std      2.214300    2.438364         3.053634    1.715078    0.951273  \n",
              "min      1.000000    1.000000         1.000000    1.000000    2.000000  \n",
              "25%      2.000000    2.000000         1.000000    1.000000    2.000000  \n",
              "50%      2.000000    3.000000         1.000000    1.000000    2.000000  \n",
              "75%      4.000000    5.000000         4.000000    1.000000    4.000000  \n",
              "max     10.000000   10.000000        10.000000   10.000000    4.000000  "
            ]
          },
          "metadata": {
            "tags": []
          },
          "execution_count": 11
        }
      ]
    },
    {
      "cell_type": "code",
      "metadata": {
        "id": "6lqbUzTddjLR",
        "colab_type": "code",
        "colab": {
          "base_uri": "https://localhost:8080/",
          "height": 52
        },
        "outputId": "9cd13e5a-330c-488a-c473-3453945dc8dc"
      },
      "source": [
        "df[\"bare_nuclei\"].unique()"
      ],
      "execution_count": null,
      "outputs": [
        {
          "output_type": "execute_result",
          "data": {
            "text/plain": [
              "array(['1', '10', '2', '4', '3', '9', '7', '?', '5', '8', '6'],\n",
              "      dtype=object)"
            ]
          },
          "metadata": {
            "tags": []
          },
          "execution_count": 12
        }
      ]
    },
    {
      "cell_type": "code",
      "metadata": {
        "id": "a7izZ9noduEz",
        "colab_type": "code",
        "colab": {
          "base_uri": "https://localhost:8080/",
          "height": 304
        },
        "outputId": "ced57aab-8fb6-43b4-9c56-69219740b62f"
      },
      "source": [
        "df[\"bare_nuclei\"].replace(\"?\", np.nan, inplace = True)\n",
        "df.dropna(subset = [\"bare_nuclei\"], axis = 0, inplace = True)\n",
        "df[\"bare_nuclei\"] = df[\"bare_nuclei\"].astype(\"int\")\n",
        "df.describe()"
      ],
      "execution_count": null,
      "outputs": [
        {
          "output_type": "execute_result",
          "data": {
            "text/html": [
              "<div>\n",
              "<style scoped>\n",
              "    .dataframe tbody tr th:only-of-type {\n",
              "        vertical-align: middle;\n",
              "    }\n",
              "\n",
              "    .dataframe tbody tr th {\n",
              "        vertical-align: top;\n",
              "    }\n",
              "\n",
              "    .dataframe thead th {\n",
              "        text-align: right;\n",
              "    }\n",
              "</style>\n",
              "<table border=\"1\" class=\"dataframe\">\n",
              "  <thead>\n",
              "    <tr style=\"text-align: right;\">\n",
              "      <th></th>\n",
              "      <th>id</th>\n",
              "      <th>clump</th>\n",
              "      <th>cell_size</th>\n",
              "      <th>cell_shape</th>\n",
              "      <th>adhension</th>\n",
              "      <th>epithial</th>\n",
              "      <th>bare_nuclei</th>\n",
              "      <th>chromatin</th>\n",
              "      <th>normal_nubleoli</th>\n",
              "      <th>mitoses</th>\n",
              "      <th>class</th>\n",
              "    </tr>\n",
              "  </thead>\n",
              "  <tbody>\n",
              "    <tr>\n",
              "      <th>count</th>\n",
              "      <td>6.830000e+02</td>\n",
              "      <td>683.000000</td>\n",
              "      <td>683.000000</td>\n",
              "      <td>683.000000</td>\n",
              "      <td>683.000000</td>\n",
              "      <td>683.000000</td>\n",
              "      <td>683.000000</td>\n",
              "      <td>683.000000</td>\n",
              "      <td>683.000000</td>\n",
              "      <td>683.000000</td>\n",
              "      <td>683.000000</td>\n",
              "    </tr>\n",
              "    <tr>\n",
              "      <th>mean</th>\n",
              "      <td>1.076720e+06</td>\n",
              "      <td>4.442167</td>\n",
              "      <td>3.150805</td>\n",
              "      <td>3.215227</td>\n",
              "      <td>2.830161</td>\n",
              "      <td>3.234261</td>\n",
              "      <td>3.544656</td>\n",
              "      <td>3.445095</td>\n",
              "      <td>2.869693</td>\n",
              "      <td>1.603221</td>\n",
              "      <td>2.699854</td>\n",
              "    </tr>\n",
              "    <tr>\n",
              "      <th>std</th>\n",
              "      <td>6.206440e+05</td>\n",
              "      <td>2.820761</td>\n",
              "      <td>3.065145</td>\n",
              "      <td>2.988581</td>\n",
              "      <td>2.864562</td>\n",
              "      <td>2.223085</td>\n",
              "      <td>3.643857</td>\n",
              "      <td>2.449697</td>\n",
              "      <td>3.052666</td>\n",
              "      <td>1.732674</td>\n",
              "      <td>0.954592</td>\n",
              "    </tr>\n",
              "    <tr>\n",
              "      <th>min</th>\n",
              "      <td>6.337500e+04</td>\n",
              "      <td>1.000000</td>\n",
              "      <td>1.000000</td>\n",
              "      <td>1.000000</td>\n",
              "      <td>1.000000</td>\n",
              "      <td>1.000000</td>\n",
              "      <td>1.000000</td>\n",
              "      <td>1.000000</td>\n",
              "      <td>1.000000</td>\n",
              "      <td>1.000000</td>\n",
              "      <td>2.000000</td>\n",
              "    </tr>\n",
              "    <tr>\n",
              "      <th>25%</th>\n",
              "      <td>8.776170e+05</td>\n",
              "      <td>2.000000</td>\n",
              "      <td>1.000000</td>\n",
              "      <td>1.000000</td>\n",
              "      <td>1.000000</td>\n",
              "      <td>2.000000</td>\n",
              "      <td>1.000000</td>\n",
              "      <td>2.000000</td>\n",
              "      <td>1.000000</td>\n",
              "      <td>1.000000</td>\n",
              "      <td>2.000000</td>\n",
              "    </tr>\n",
              "    <tr>\n",
              "      <th>50%</th>\n",
              "      <td>1.171795e+06</td>\n",
              "      <td>4.000000</td>\n",
              "      <td>1.000000</td>\n",
              "      <td>1.000000</td>\n",
              "      <td>1.000000</td>\n",
              "      <td>2.000000</td>\n",
              "      <td>1.000000</td>\n",
              "      <td>3.000000</td>\n",
              "      <td>1.000000</td>\n",
              "      <td>1.000000</td>\n",
              "      <td>2.000000</td>\n",
              "    </tr>\n",
              "    <tr>\n",
              "      <th>75%</th>\n",
              "      <td>1.238705e+06</td>\n",
              "      <td>6.000000</td>\n",
              "      <td>5.000000</td>\n",
              "      <td>5.000000</td>\n",
              "      <td>4.000000</td>\n",
              "      <td>4.000000</td>\n",
              "      <td>6.000000</td>\n",
              "      <td>5.000000</td>\n",
              "      <td>4.000000</td>\n",
              "      <td>1.000000</td>\n",
              "      <td>4.000000</td>\n",
              "    </tr>\n",
              "    <tr>\n",
              "      <th>max</th>\n",
              "      <td>1.345435e+07</td>\n",
              "      <td>10.000000</td>\n",
              "      <td>10.000000</td>\n",
              "      <td>10.000000</td>\n",
              "      <td>10.000000</td>\n",
              "      <td>10.000000</td>\n",
              "      <td>10.000000</td>\n",
              "      <td>10.000000</td>\n",
              "      <td>10.000000</td>\n",
              "      <td>10.000000</td>\n",
              "      <td>4.000000</td>\n",
              "    </tr>\n",
              "  </tbody>\n",
              "</table>\n",
              "</div>"
            ],
            "text/plain": [
              "                 id       clump   cell_size  cell_shape   adhension  \\\n",
              "count  6.830000e+02  683.000000  683.000000  683.000000  683.000000   \n",
              "mean   1.076720e+06    4.442167    3.150805    3.215227    2.830161   \n",
              "std    6.206440e+05    2.820761    3.065145    2.988581    2.864562   \n",
              "min    6.337500e+04    1.000000    1.000000    1.000000    1.000000   \n",
              "25%    8.776170e+05    2.000000    1.000000    1.000000    1.000000   \n",
              "50%    1.171795e+06    4.000000    1.000000    1.000000    1.000000   \n",
              "75%    1.238705e+06    6.000000    5.000000    5.000000    4.000000   \n",
              "max    1.345435e+07   10.000000   10.000000   10.000000   10.000000   \n",
              "\n",
              "         epithial  bare_nuclei   chromatin  normal_nubleoli     mitoses  \\\n",
              "count  683.000000   683.000000  683.000000       683.000000  683.000000   \n",
              "mean     3.234261     3.544656    3.445095         2.869693    1.603221   \n",
              "std      2.223085     3.643857    2.449697         3.052666    1.732674   \n",
              "min      1.000000     1.000000    1.000000         1.000000    1.000000   \n",
              "25%      2.000000     1.000000    2.000000         1.000000    1.000000   \n",
              "50%      2.000000     1.000000    3.000000         1.000000    1.000000   \n",
              "75%      4.000000     6.000000    5.000000         4.000000    1.000000   \n",
              "max     10.000000    10.000000   10.000000        10.000000   10.000000   \n",
              "\n",
              "            class  \n",
              "count  683.000000  \n",
              "mean     2.699854  \n",
              "std      0.954592  \n",
              "min      2.000000  \n",
              "25%      2.000000  \n",
              "50%      2.000000  \n",
              "75%      4.000000  \n",
              "max      4.000000  "
            ]
          },
          "metadata": {
            "tags": []
          },
          "execution_count": 13
        }
      ]
    },
    {
      "cell_type": "code",
      "metadata": {
        "id": "2rNwynEreCAm",
        "colab_type": "code",
        "colab": {}
      },
      "source": [
        "X = df[[\"id\", \"clump\", \"cell_size\", \"cell_shape\", \"adhension\", \"epithial\", \"bare_nuclei\", \"chromatin\", \"normal_nubleoli\", \"mitoses\"]]\n",
        "y = df[\"class\"]"
      ],
      "execution_count": null,
      "outputs": []
    },
    {
      "cell_type": "code",
      "metadata": {
        "id": "F2HTZx5yeM2A",
        "colab_type": "code",
        "colab": {}
      },
      "source": [
        "from sklearn import preprocessing\n",
        "X = preprocessing.StandardScaler().fit(X).transform(X)"
      ],
      "execution_count": null,
      "outputs": []
    },
    {
      "cell_type": "code",
      "metadata": {
        "id": "Bgakmp6feWt0",
        "colab_type": "code",
        "colab": {}
      },
      "source": [
        "from sklearn.model_selection import train_test_split\n",
        "X_train, X_test, y_train, y_test = train_test_split(X, y, test_size = 0.3, random_state = 10)"
      ],
      "execution_count": null,
      "outputs": []
    },
    {
      "cell_type": "code",
      "metadata": {
        "id": "bhu11Uixec6v",
        "colab_type": "code",
        "colab": {}
      },
      "source": [
        "from sklearn import tree\n",
        "tree_model = tree.DecisionTreeClassifier(criterion = \"entropy\", max_depth = 5)\n",
        "tree_model.fit(X_train, y_train)\n",
        "y_hat = tree_model.predict(X_test)"
      ],
      "execution_count": null,
      "outputs": []
    },
    {
      "cell_type": "code",
      "metadata": {
        "id": "YclMIk-re01w",
        "colab_type": "code",
        "colab": {
          "base_uri": "https://localhost:8080/",
          "height": 52
        },
        "outputId": "68e14848-34b8-448d-b036-a510fbab4dc9"
      },
      "source": [
        "from sklearn import metrics\n",
        "tree_matrix = metrics.confusion_matrix(y_test, y_hat)\n",
        "tree_matrix"
      ],
      "execution_count": null,
      "outputs": [
        {
          "output_type": "execute_result",
          "data": {
            "text/plain": [
              "array([[127,   4],\n",
              "       [  2,  72]])"
            ]
          },
          "metadata": {
            "tags": []
          },
          "execution_count": 19
        }
      ]
    },
    {
      "cell_type": "code",
      "metadata": {
        "id": "Dis0lgc-f6ev",
        "colab_type": "code",
        "colab": {
          "base_uri": "https://localhost:8080/",
          "height": 34
        },
        "outputId": "2be94cf9-6983-4e6e-87d9-508d72bb7904"
      },
      "source": [
        "from sklearn.metrics import accuracy_score\n",
        "\n",
        "accuracy = accuracy_score(y_test, y_hat)\n",
        "print(\"정확도\", accuracy)"
      ],
      "execution_count": null,
      "outputs": [
        {
          "output_type": "stream",
          "text": [
            "정확도 0.9707317073170731\n"
          ],
          "name": "stdout"
        }
      ]
    },
    {
      "cell_type": "code",
      "metadata": {
        "id": "ZDmYat3qe-Sf",
        "colab_type": "code",
        "colab": {
          "base_uri": "https://localhost:8080/",
          "height": 175
        },
        "outputId": "5efab07f-84b0-4634-be2e-728560bdae9d"
      },
      "source": [
        "tree_report = metrics.classification_report(y_test, y_hat)\n",
        "print(tree_report)"
      ],
      "execution_count": null,
      "outputs": [
        {
          "output_type": "stream",
          "text": [
            "              precision    recall  f1-score   support\n",
            "\n",
            "           2       0.98      0.97      0.98       131\n",
            "           4       0.95      0.97      0.96        74\n",
            "\n",
            "    accuracy                           0.97       205\n",
            "   macro avg       0.97      0.97      0.97       205\n",
            "weighted avg       0.97      0.97      0.97       205\n",
            "\n"
          ],
          "name": "stdout"
        }
      ]
    },
    {
      "cell_type": "code",
      "metadata": {
        "id": "_GNoYA9QgE1U",
        "colab_type": "code",
        "colab": {}
      },
      "source": [
        "from sklearn.tree import export_graphviz\n",
        "\n",
        "export_graphviz(\n",
        "    tree_model,\n",
        "    out_file = \"decision_example.dot\",\n",
        "    feature_names = df.columns[0:10],\n",
        "    class_names = [\"benign\", \"malignant\"],\n",
        "    rounded = True,\n",
        "    filled = True\n",
        ")"
      ],
      "execution_count": null,
      "outputs": []
    },
    {
      "cell_type": "code",
      "metadata": {
        "id": "zF57xcUrgTzd",
        "colab_type": "code",
        "colab": {
          "base_uri": "https://localhost:8080/",
          "height": 34
        },
        "outputId": "9d13075b-61f7-4977-fe6d-03efcd4d856e"
      },
      "source": [
        "! pip install graphviz"
      ],
      "execution_count": null,
      "outputs": [
        {
          "output_type": "stream",
          "text": [
            "Requirement already satisfied: graphviz in /usr/local/lib/python3.6/dist-packages (0.10.1)\n"
          ],
          "name": "stdout"
        }
      ]
    },
    {
      "cell_type": "code",
      "metadata": {
        "id": "J0TlspysgsR8",
        "colab_type": "code",
        "colab": {}
      },
      "source": [
        "import os\n",
        "os.environ[\"PATH\"] += os.pathsep + 'C:/Program Files (x86)/Graphviz2.38/bin/'"
      ],
      "execution_count": null,
      "outputs": []
    },
    {
      "cell_type": "code",
      "metadata": {
        "id": "88jayylhgvOS",
        "colab_type": "code",
        "colab": {
          "base_uri": "https://localhost:8080/",
          "height": 934
        },
        "outputId": "74a22ac1-adce-4eed-814b-5c627fdf3fd0"
      },
      "source": [
        "import graphviz\n",
        "\n",
        "with open(\"decision_example.dot\", encoding = \"UTF-8\") as f:\n",
        "    dot_graph = f.read()\n",
        "\n",
        "dot = graphviz.Source(dot_graph, encoding = \"UTF-8\")\n",
        "\n",
        "dot"
      ],
      "execution_count": null,
      "outputs": [
        {
          "output_type": "execute_result",
          "data": {
            "text/plain": [
              "<graphviz.files.Source at 0x7fbecd5b29b0>"
            ],
            "image/svg+xml": "<?xml version=\"1.0\" encoding=\"UTF-8\" standalone=\"no\"?>\n<!DOCTYPE svg PUBLIC \"-//W3C//DTD SVG 1.1//EN\"\n \"http://www.w3.org/Graphics/SVG/1.1/DTD/svg11.dtd\">\n<!-- Generated by graphviz version 2.40.1 (20161225.0304)\n -->\n<!-- Title: Tree Pages: 1 -->\n<svg width=\"1183pt\" height=\"671pt\"\n viewBox=\"0.00 0.00 1182.50 671.00\" xmlns=\"http://www.w3.org/2000/svg\" xmlns:xlink=\"http://www.w3.org/1999/xlink\">\n<g id=\"graph0\" class=\"graph\" transform=\"scale(1 1) rotate(0) translate(4 667)\">\n<title>Tree</title>\n<polygon fill=\"#ffffff\" stroke=\"transparent\" points=\"-4,4 -4,-667 1178.5,-667 1178.5,4 -4,4\"/>\n<!-- 0 -->\n<g id=\"node1\" class=\"node\">\n<title>0</title>\n<path fill=\"#f3c3a1\" stroke=\"#000000\" d=\"M835,-663C835,-663 725,-663 725,-663 719,-663 713,-657 713,-651 713,-651 713,-592 713,-592 713,-586 719,-580 725,-580 725,-580 835,-580 835,-580 841,-580 847,-586 847,-592 847,-592 847,-651 847,-651 847,-657 841,-663 835,-663\"/>\n<text text-anchor=\"middle\" x=\"780\" y=\"-647.8\" font-family=\"Helvetica,sans-Serif\" font-size=\"14.00\" fill=\"#000000\">cell_size &lt;= 0.114</text>\n<text text-anchor=\"middle\" x=\"780\" y=\"-632.8\" font-family=\"Helvetica,sans-Serif\" font-size=\"14.00\" fill=\"#000000\">entropy = 0.93</text>\n<text text-anchor=\"middle\" x=\"780\" y=\"-617.8\" font-family=\"Helvetica,sans-Serif\" font-size=\"14.00\" fill=\"#000000\">samples = 478</text>\n<text text-anchor=\"middle\" x=\"780\" y=\"-602.8\" font-family=\"Helvetica,sans-Serif\" font-size=\"14.00\" fill=\"#000000\">value = [313, 165]</text>\n<text text-anchor=\"middle\" x=\"780\" y=\"-587.8\" font-family=\"Helvetica,sans-Serif\" font-size=\"14.00\" fill=\"#000000\">class = benign</text>\n</g>\n<!-- 1 -->\n<g id=\"node2\" class=\"node\">\n<title>1</title>\n<path fill=\"#e78d4b\" stroke=\"#000000\" d=\"M613,-544C613,-544 479,-544 479,-544 473,-544 467,-538 467,-532 467,-532 467,-473 467,-473 467,-467 473,-461 479,-461 479,-461 613,-461 613,-461 619,-461 625,-467 625,-473 625,-473 625,-532 625,-532 625,-538 619,-544 613,-544\"/>\n<text text-anchor=\"middle\" x=\"546\" y=\"-528.8\" font-family=\"Helvetica,sans-Serif\" font-size=\"14.00\" fill=\"#000000\">bare_nuclei &lt;= &#45;0.287</text>\n<text text-anchor=\"middle\" x=\"546\" y=\"-513.8\" font-family=\"Helvetica,sans-Serif\" font-size=\"14.00\" fill=\"#000000\">entropy = 0.416</text>\n<text text-anchor=\"middle\" x=\"546\" y=\"-498.8\" font-family=\"Helvetica,sans-Serif\" font-size=\"14.00\" fill=\"#000000\">samples = 333</text>\n<text text-anchor=\"middle\" x=\"546\" y=\"-483.8\" font-family=\"Helvetica,sans-Serif\" font-size=\"14.00\" fill=\"#000000\">value = [305, 28]</text>\n<text text-anchor=\"middle\" x=\"546\" y=\"-468.8\" font-family=\"Helvetica,sans-Serif\" font-size=\"14.00\" fill=\"#000000\">class = benign</text>\n</g>\n<!-- 0&#45;&gt;1 -->\n<g id=\"edge1\" class=\"edge\">\n<title>0&#45;&gt;1</title>\n<path fill=\"none\" stroke=\"#000000\" d=\"M712.945,-587.3994C688.4209,-574.9277 660.2928,-560.6233 634.2019,-547.3548\"/>\n<polygon fill=\"#000000\" stroke=\"#000000\" points=\"635.5677,-544.1228 625.0675,-542.7095 632.3945,-550.3623 635.5677,-544.1228\"/>\n<text text-anchor=\"middle\" x=\"632.8114\" y=\"-562.7799\" font-family=\"Helvetica,sans-Serif\" font-size=\"14.00\" fill=\"#000000\">True</text>\n</g>\n<!-- 16 -->\n<g id=\"node17\" class=\"node\">\n<title>16</title>\n<path fill=\"#45a3e7\" stroke=\"#000000\" d=\"M1001.5,-544C1001.5,-544 872.5,-544 872.5,-544 866.5,-544 860.5,-538 860.5,-532 860.5,-532 860.5,-473 860.5,-473 860.5,-467 866.5,-461 872.5,-461 872.5,-461 1001.5,-461 1001.5,-461 1007.5,-461 1013.5,-467 1013.5,-473 1013.5,-473 1013.5,-532 1013.5,-532 1013.5,-538 1007.5,-544 1001.5,-544\"/>\n<text text-anchor=\"middle\" x=\"937\" y=\"-528.8\" font-family=\"Helvetica,sans-Serif\" font-size=\"14.00\" fill=\"#000000\">bare_nuclei &lt;= 1.361</text>\n<text text-anchor=\"middle\" x=\"937\" y=\"-513.8\" font-family=\"Helvetica,sans-Serif\" font-size=\"14.00\" fill=\"#000000\">entropy = 0.308</text>\n<text text-anchor=\"middle\" x=\"937\" y=\"-498.8\" font-family=\"Helvetica,sans-Serif\" font-size=\"14.00\" fill=\"#000000\">samples = 145</text>\n<text text-anchor=\"middle\" x=\"937\" y=\"-483.8\" font-family=\"Helvetica,sans-Serif\" font-size=\"14.00\" fill=\"#000000\">value = [8, 137]</text>\n<text text-anchor=\"middle\" x=\"937\" y=\"-468.8\" font-family=\"Helvetica,sans-Serif\" font-size=\"14.00\" fill=\"#000000\">class = malignant</text>\n</g>\n<!-- 0&#45;&gt;16 -->\n<g id=\"edge16\" class=\"edge\">\n<title>0&#45;&gt;16</title>\n<path fill=\"none\" stroke=\"#000000\" d=\"M834.911,-579.8796C847.5794,-570.2774 861.1515,-559.9903 874.1295,-550.1534\"/>\n<polygon fill=\"#000000\" stroke=\"#000000\" points=\"876.2648,-552.9268 882.12,-544.0969 872.0364,-547.3482 876.2648,-552.9268\"/>\n<text text-anchor=\"middle\" x=\"878.7102\" y=\"-565.1633\" font-family=\"Helvetica,sans-Serif\" font-size=\"14.00\" fill=\"#000000\">False</text>\n</g>\n<!-- 2 -->\n<g id=\"node3\" class=\"node\">\n<title>2</title>\n<path fill=\"#e5823a\" stroke=\"#000000\" d=\"M271,-425C271,-425 115,-425 115,-425 109,-425 103,-419 103,-413 103,-413 103,-354 103,-354 103,-348 109,-342 115,-342 115,-342 271,-342 271,-342 277,-342 283,-348 283,-354 283,-354 283,-413 283,-413 283,-419 277,-425 271,-425\"/>\n<text text-anchor=\"middle\" x=\"193\" y=\"-409.8\" font-family=\"Helvetica,sans-Serif\" font-size=\"14.00\" fill=\"#000000\">normal_nubleoli &lt;= 0.207</text>\n<text text-anchor=\"middle\" x=\"193\" y=\"-394.8\" font-family=\"Helvetica,sans-Serif\" font-size=\"14.00\" fill=\"#000000\">entropy = 0.06</text>\n<text text-anchor=\"middle\" x=\"193\" y=\"-379.8\" font-family=\"Helvetica,sans-Serif\" font-size=\"14.00\" fill=\"#000000\">samples = 289</text>\n<text text-anchor=\"middle\" x=\"193\" y=\"-364.8\" font-family=\"Helvetica,sans-Serif\" font-size=\"14.00\" fill=\"#000000\">value = [287, 2]</text>\n<text text-anchor=\"middle\" x=\"193\" y=\"-349.8\" font-family=\"Helvetica,sans-Serif\" font-size=\"14.00\" fill=\"#000000\">class = benign</text>\n</g>\n<!-- 1&#45;&gt;2 -->\n<g id=\"edge2\" class=\"edge\">\n<title>1&#45;&gt;2</title>\n<path fill=\"none\" stroke=\"#000000\" d=\"M466.7799,-475.7941C415.3882,-458.4694 347.9946,-435.7503 292.933,-417.1885\"/>\n<polygon fill=\"#000000\" stroke=\"#000000\" points=\"293.7487,-413.77 283.1546,-413.8921 291.5125,-420.4032 293.7487,-413.77\"/>\n</g>\n<!-- 7 -->\n<g id=\"node8\" class=\"node\">\n<title>7</title>\n<path fill=\"#c2e1f7\" stroke=\"#000000\" d=\"M598.5,-425C598.5,-425 493.5,-425 493.5,-425 487.5,-425 481.5,-419 481.5,-413 481.5,-413 481.5,-354 481.5,-354 481.5,-348 487.5,-342 493.5,-342 493.5,-342 598.5,-342 598.5,-342 604.5,-342 610.5,-348 610.5,-354 610.5,-354 610.5,-413 610.5,-413 610.5,-419 604.5,-425 598.5,-425\"/>\n<text text-anchor=\"middle\" x=\"546\" y=\"-409.8\" font-family=\"Helvetica,sans-Serif\" font-size=\"14.00\" fill=\"#000000\">clump &lt;= &#45;0.334</text>\n<text text-anchor=\"middle\" x=\"546\" y=\"-394.8\" font-family=\"Helvetica,sans-Serif\" font-size=\"14.00\" fill=\"#000000\">entropy = 0.976</text>\n<text text-anchor=\"middle\" x=\"546\" y=\"-379.8\" font-family=\"Helvetica,sans-Serif\" font-size=\"14.00\" fill=\"#000000\">samples = 44</text>\n<text text-anchor=\"middle\" x=\"546\" y=\"-364.8\" font-family=\"Helvetica,sans-Serif\" font-size=\"14.00\" fill=\"#000000\">value = [18, 26]</text>\n<text text-anchor=\"middle\" x=\"546\" y=\"-349.8\" font-family=\"Helvetica,sans-Serif\" font-size=\"14.00\" fill=\"#000000\">class = malignant</text>\n</g>\n<!-- 1&#45;&gt;7 -->\n<g id=\"edge7\" class=\"edge\">\n<title>1&#45;&gt;7</title>\n<path fill=\"none\" stroke=\"#000000\" d=\"M546,-460.8796C546,-452.6838 546,-443.9891 546,-435.5013\"/>\n<polygon fill=\"#000000\" stroke=\"#000000\" points=\"549.5001,-435.298 546,-425.2981 542.5001,-435.2981 549.5001,-435.298\"/>\n</g>\n<!-- 3 -->\n<g id=\"node4\" class=\"node\">\n<title>3</title>\n<path fill=\"#e58139\" stroke=\"#000000\" d=\"M104,-298.5C104,-298.5 12,-298.5 12,-298.5 6,-298.5 0,-292.5 0,-286.5 0,-286.5 0,-242.5 0,-242.5 0,-236.5 6,-230.5 12,-230.5 12,-230.5 104,-230.5 104,-230.5 110,-230.5 116,-236.5 116,-242.5 116,-242.5 116,-286.5 116,-286.5 116,-292.5 110,-298.5 104,-298.5\"/>\n<text text-anchor=\"middle\" x=\"58\" y=\"-283.3\" font-family=\"Helvetica,sans-Serif\" font-size=\"14.00\" fill=\"#000000\">entropy = 0.0</text>\n<text text-anchor=\"middle\" x=\"58\" y=\"-268.3\" font-family=\"Helvetica,sans-Serif\" font-size=\"14.00\" fill=\"#000000\">samples = 284</text>\n<text text-anchor=\"middle\" x=\"58\" y=\"-253.3\" font-family=\"Helvetica,sans-Serif\" font-size=\"14.00\" fill=\"#000000\">value = [284, 0]</text>\n<text text-anchor=\"middle\" x=\"58\" y=\"-238.3\" font-family=\"Helvetica,sans-Serif\" font-size=\"14.00\" fill=\"#000000\">class = benign</text>\n</g>\n<!-- 2&#45;&gt;3 -->\n<g id=\"edge3\" class=\"edge\">\n<title>2&#45;&gt;3</title>\n<path fill=\"none\" stroke=\"#000000\" d=\"M145.7836,-341.8796C132.4358,-330.1138 117.9215,-317.3197 104.6096,-305.5855\"/>\n<polygon fill=\"#000000\" stroke=\"#000000\" points=\"106.7448,-302.8019 96.9287,-298.8149 102.116,-308.0531 106.7448,-302.8019\"/>\n</g>\n<!-- 4 -->\n<g id=\"node5\" class=\"node\">\n<title>4</title>\n<path fill=\"#f6d5bd\" stroke=\"#000000\" d=\"M240,-306C240,-306 146,-306 146,-306 140,-306 134,-300 134,-294 134,-294 134,-235 134,-235 134,-229 140,-223 146,-223 146,-223 240,-223 240,-223 246,-223 252,-229 252,-235 252,-235 252,-294 252,-294 252,-300 246,-306 240,-306\"/>\n<text text-anchor=\"middle\" x=\"193\" y=\"-290.8\" font-family=\"Helvetica,sans-Serif\" font-size=\"14.00\" fill=\"#000000\">clump &lt;= 0.198</text>\n<text text-anchor=\"middle\" x=\"193\" y=\"-275.8\" font-family=\"Helvetica,sans-Serif\" font-size=\"14.00\" fill=\"#000000\">entropy = 0.971</text>\n<text text-anchor=\"middle\" x=\"193\" y=\"-260.8\" font-family=\"Helvetica,sans-Serif\" font-size=\"14.00\" fill=\"#000000\">samples = 5</text>\n<text text-anchor=\"middle\" x=\"193\" y=\"-245.8\" font-family=\"Helvetica,sans-Serif\" font-size=\"14.00\" fill=\"#000000\">value = [3, 2]</text>\n<text text-anchor=\"middle\" x=\"193\" y=\"-230.8\" font-family=\"Helvetica,sans-Serif\" font-size=\"14.00\" fill=\"#000000\">class = benign</text>\n</g>\n<!-- 2&#45;&gt;4 -->\n<g id=\"edge4\" class=\"edge\">\n<title>2&#45;&gt;4</title>\n<path fill=\"none\" stroke=\"#000000\" d=\"M193,-341.8796C193,-333.6838 193,-324.9891 193,-316.5013\"/>\n<polygon fill=\"#000000\" stroke=\"#000000\" points=\"196.5001,-316.298 193,-306.2981 189.5001,-316.2981 196.5001,-316.298\"/>\n</g>\n<!-- 5 -->\n<g id=\"node6\" class=\"node\">\n<title>5</title>\n<path fill=\"#e58139\" stroke=\"#000000\" d=\"M98,-179.5C98,-179.5 12,-179.5 12,-179.5 6,-179.5 0,-173.5 0,-167.5 0,-167.5 0,-123.5 0,-123.5 0,-117.5 6,-111.5 12,-111.5 12,-111.5 98,-111.5 98,-111.5 104,-111.5 110,-117.5 110,-123.5 110,-123.5 110,-167.5 110,-167.5 110,-173.5 104,-179.5 98,-179.5\"/>\n<text text-anchor=\"middle\" x=\"55\" y=\"-164.3\" font-family=\"Helvetica,sans-Serif\" font-size=\"14.00\" fill=\"#000000\">entropy = 0.0</text>\n<text text-anchor=\"middle\" x=\"55\" y=\"-149.3\" font-family=\"Helvetica,sans-Serif\" font-size=\"14.00\" fill=\"#000000\">samples = 3</text>\n<text text-anchor=\"middle\" x=\"55\" y=\"-134.3\" font-family=\"Helvetica,sans-Serif\" font-size=\"14.00\" fill=\"#000000\">value = [3, 0]</text>\n<text text-anchor=\"middle\" x=\"55\" y=\"-119.3\" font-family=\"Helvetica,sans-Serif\" font-size=\"14.00\" fill=\"#000000\">class = benign</text>\n</g>\n<!-- 4&#45;&gt;5 -->\n<g id=\"edge5\" class=\"edge\">\n<title>4&#45;&gt;5</title>\n<path fill=\"none\" stroke=\"#000000\" d=\"M144.7343,-222.8796C131.0899,-211.1138 116.2531,-198.3197 102.6454,-186.5855\"/>\n<polygon fill=\"#000000\" stroke=\"#000000\" points=\"104.6527,-183.6948 94.7938,-179.8149 100.0813,-188.9961 104.6527,-183.6948\"/>\n</g>\n<!-- 6 -->\n<g id=\"node7\" class=\"node\">\n<title>6</title>\n<path fill=\"#399de5\" stroke=\"#000000\" d=\"M245.5,-179.5C245.5,-179.5 140.5,-179.5 140.5,-179.5 134.5,-179.5 128.5,-173.5 128.5,-167.5 128.5,-167.5 128.5,-123.5 128.5,-123.5 128.5,-117.5 134.5,-111.5 140.5,-111.5 140.5,-111.5 245.5,-111.5 245.5,-111.5 251.5,-111.5 257.5,-117.5 257.5,-123.5 257.5,-123.5 257.5,-167.5 257.5,-167.5 257.5,-173.5 251.5,-179.5 245.5,-179.5\"/>\n<text text-anchor=\"middle\" x=\"193\" y=\"-164.3\" font-family=\"Helvetica,sans-Serif\" font-size=\"14.00\" fill=\"#000000\">entropy = 0.0</text>\n<text text-anchor=\"middle\" x=\"193\" y=\"-149.3\" font-family=\"Helvetica,sans-Serif\" font-size=\"14.00\" fill=\"#000000\">samples = 2</text>\n<text text-anchor=\"middle\" x=\"193\" y=\"-134.3\" font-family=\"Helvetica,sans-Serif\" font-size=\"14.00\" fill=\"#000000\">value = [0, 2]</text>\n<text text-anchor=\"middle\" x=\"193\" y=\"-119.3\" font-family=\"Helvetica,sans-Serif\" font-size=\"14.00\" fill=\"#000000\">class = malignant</text>\n</g>\n<!-- 4&#45;&gt;6 -->\n<g id=\"edge6\" class=\"edge\">\n<title>4&#45;&gt;6</title>\n<path fill=\"none\" stroke=\"#000000\" d=\"M193,-222.8796C193,-212.2134 193,-200.7021 193,-189.9015\"/>\n<polygon fill=\"#000000\" stroke=\"#000000\" points=\"196.5001,-189.8149 193,-179.8149 189.5001,-189.815 196.5001,-189.8149\"/>\n</g>\n<!-- 8 -->\n<g id=\"node9\" class=\"node\">\n<title>8</title>\n<path fill=\"#e99355\" stroke=\"#000000\" d=\"M530,-306C530,-306 406,-306 406,-306 400,-306 394,-300 394,-294 394,-294 394,-235 394,-235 394,-229 400,-223 406,-223 406,-223 530,-223 530,-223 536,-223 542,-229 542,-235 542,-235 542,-294 542,-294 542,-300 536,-306 530,-306\"/>\n<text text-anchor=\"middle\" x=\"468\" y=\"-290.8\" font-family=\"Helvetica,sans-Serif\" font-size=\"14.00\" fill=\"#000000\">cell_shape &lt;= 0.095</text>\n<text text-anchor=\"middle\" x=\"468\" y=\"-275.8\" font-family=\"Helvetica,sans-Serif\" font-size=\"14.00\" fill=\"#000000\">entropy = 0.544</text>\n<text text-anchor=\"middle\" x=\"468\" y=\"-260.8\" font-family=\"Helvetica,sans-Serif\" font-size=\"14.00\" fill=\"#000000\">samples = 16</text>\n<text text-anchor=\"middle\" x=\"468\" y=\"-245.8\" font-family=\"Helvetica,sans-Serif\" font-size=\"14.00\" fill=\"#000000\">value = [14, 2]</text>\n<text text-anchor=\"middle\" x=\"468\" y=\"-230.8\" font-family=\"Helvetica,sans-Serif\" font-size=\"14.00\" fill=\"#000000\">class = benign</text>\n</g>\n<!-- 7&#45;&gt;8 -->\n<g id=\"edge8\" class=\"edge\">\n<title>7&#45;&gt;8</title>\n<path fill=\"none\" stroke=\"#000000\" d=\"M518.7194,-341.8796C512.9932,-333.1434 506.8954,-323.8404 500.9863,-314.8253\"/>\n<polygon fill=\"#000000\" stroke=\"#000000\" points=\"503.8063,-312.7429 495.3971,-306.2981 497.9518,-316.5803 503.8063,-312.7429\"/>\n</g>\n<!-- 11 -->\n<g id=\"node12\" class=\"node\">\n<title>11</title>\n<path fill=\"#5aade9\" stroke=\"#000000\" d=\"M677.5,-306C677.5,-306 572.5,-306 572.5,-306 566.5,-306 560.5,-300 560.5,-294 560.5,-294 560.5,-235 560.5,-235 560.5,-229 566.5,-223 572.5,-223 572.5,-223 677.5,-223 677.5,-223 683.5,-223 689.5,-229 689.5,-235 689.5,-235 689.5,-294 689.5,-294 689.5,-300 683.5,-306 677.5,-306\"/>\n<text text-anchor=\"middle\" x=\"625\" y=\"-290.8\" font-family=\"Helvetica,sans-Serif\" font-size=\"14.00\" fill=\"#000000\">clump &lt;= 0.73</text>\n<text text-anchor=\"middle\" x=\"625\" y=\"-275.8\" font-family=\"Helvetica,sans-Serif\" font-size=\"14.00\" fill=\"#000000\">entropy = 0.592</text>\n<text text-anchor=\"middle\" x=\"625\" y=\"-260.8\" font-family=\"Helvetica,sans-Serif\" font-size=\"14.00\" fill=\"#000000\">samples = 28</text>\n<text text-anchor=\"middle\" x=\"625\" y=\"-245.8\" font-family=\"Helvetica,sans-Serif\" font-size=\"14.00\" fill=\"#000000\">value = [4, 24]</text>\n<text text-anchor=\"middle\" x=\"625\" y=\"-230.8\" font-family=\"Helvetica,sans-Serif\" font-size=\"14.00\" fill=\"#000000\">class = malignant</text>\n</g>\n<!-- 7&#45;&gt;11 -->\n<g id=\"edge11\" class=\"edge\">\n<title>7&#45;&gt;11</title>\n<path fill=\"none\" stroke=\"#000000\" d=\"M573.6304,-341.8796C579.43,-333.1434 585.6059,-323.8404 591.5908,-314.8253\"/>\n<polygon fill=\"#000000\" stroke=\"#000000\" points=\"594.6368,-316.5652 597.2517,-306.2981 588.8049,-312.6935 594.6368,-316.5652\"/>\n</g>\n<!-- 9 -->\n<g id=\"node10\" class=\"node\">\n<title>9</title>\n<path fill=\"#e58139\" stroke=\"#000000\" d=\"M374,-179.5C374,-179.5 288,-179.5 288,-179.5 282,-179.5 276,-173.5 276,-167.5 276,-167.5 276,-123.5 276,-123.5 276,-117.5 282,-111.5 288,-111.5 288,-111.5 374,-111.5 374,-111.5 380,-111.5 386,-117.5 386,-123.5 386,-123.5 386,-167.5 386,-167.5 386,-173.5 380,-179.5 374,-179.5\"/>\n<text text-anchor=\"middle\" x=\"331\" y=\"-164.3\" font-family=\"Helvetica,sans-Serif\" font-size=\"14.00\" fill=\"#000000\">entropy = 0.0</text>\n<text text-anchor=\"middle\" x=\"331\" y=\"-149.3\" font-family=\"Helvetica,sans-Serif\" font-size=\"14.00\" fill=\"#000000\">samples = 14</text>\n<text text-anchor=\"middle\" x=\"331\" y=\"-134.3\" font-family=\"Helvetica,sans-Serif\" font-size=\"14.00\" fill=\"#000000\">value = [14, 0]</text>\n<text text-anchor=\"middle\" x=\"331\" y=\"-119.3\" font-family=\"Helvetica,sans-Serif\" font-size=\"14.00\" fill=\"#000000\">class = benign</text>\n</g>\n<!-- 8&#45;&gt;9 -->\n<g id=\"edge9\" class=\"edge\">\n<title>8&#45;&gt;9</title>\n<path fill=\"none\" stroke=\"#000000\" d=\"M420.084,-222.8796C406.5385,-211.1138 391.8092,-198.3197 378.3002,-186.5855\"/>\n<polygon fill=\"#000000\" stroke=\"#000000\" points=\"380.3503,-183.7303 370.5054,-179.8149 375.7599,-189.015 380.3503,-183.7303\"/>\n</g>\n<!-- 10 -->\n<g id=\"node11\" class=\"node\">\n<title>10</title>\n<path fill=\"#399de5\" stroke=\"#000000\" d=\"M521.5,-179.5C521.5,-179.5 416.5,-179.5 416.5,-179.5 410.5,-179.5 404.5,-173.5 404.5,-167.5 404.5,-167.5 404.5,-123.5 404.5,-123.5 404.5,-117.5 410.5,-111.5 416.5,-111.5 416.5,-111.5 521.5,-111.5 521.5,-111.5 527.5,-111.5 533.5,-117.5 533.5,-123.5 533.5,-123.5 533.5,-167.5 533.5,-167.5 533.5,-173.5 527.5,-179.5 521.5,-179.5\"/>\n<text text-anchor=\"middle\" x=\"469\" y=\"-164.3\" font-family=\"Helvetica,sans-Serif\" font-size=\"14.00\" fill=\"#000000\">entropy = 0.0</text>\n<text text-anchor=\"middle\" x=\"469\" y=\"-149.3\" font-family=\"Helvetica,sans-Serif\" font-size=\"14.00\" fill=\"#000000\">samples = 2</text>\n<text text-anchor=\"middle\" x=\"469\" y=\"-134.3\" font-family=\"Helvetica,sans-Serif\" font-size=\"14.00\" fill=\"#000000\">value = [0, 2]</text>\n<text text-anchor=\"middle\" x=\"469\" y=\"-119.3\" font-family=\"Helvetica,sans-Serif\" font-size=\"14.00\" fill=\"#000000\">class = malignant</text>\n</g>\n<!-- 8&#45;&gt;10 -->\n<g id=\"edge10\" class=\"edge\">\n<title>8&#45;&gt;10</title>\n<path fill=\"none\" stroke=\"#000000\" d=\"M468.3498,-222.8796C468.4394,-212.2134 468.5361,-200.7021 468.6269,-189.9015\"/>\n<polygon fill=\"#000000\" stroke=\"#000000\" points=\"472.1274,-189.844 468.7116,-179.8149 465.1276,-189.7851 472.1274,-189.844\"/>\n</g>\n<!-- 12 -->\n<g id=\"node13\" class=\"node\">\n<title>12</title>\n<path fill=\"#88c4ef\" stroke=\"#000000\" d=\"M686,-187C686,-187 564,-187 564,-187 558,-187 552,-181 552,-175 552,-175 552,-116 552,-116 552,-110 558,-104 564,-104 564,-104 686,-104 686,-104 692,-104 698,-110 698,-116 698,-116 698,-175 698,-175 698,-181 692,-187 686,-187\"/>\n<text text-anchor=\"middle\" x=\"625\" y=\"-171.8\" font-family=\"Helvetica,sans-Serif\" font-size=\"14.00\" fill=\"#000000\">chromatin &lt;= &#45;0.795</text>\n<text text-anchor=\"middle\" x=\"625\" y=\"-156.8\" font-family=\"Helvetica,sans-Serif\" font-size=\"14.00\" fill=\"#000000\">entropy = 0.863</text>\n<text text-anchor=\"middle\" x=\"625\" y=\"-141.8\" font-family=\"Helvetica,sans-Serif\" font-size=\"14.00\" fill=\"#000000\">samples = 14</text>\n<text text-anchor=\"middle\" x=\"625\" y=\"-126.8\" font-family=\"Helvetica,sans-Serif\" font-size=\"14.00\" fill=\"#000000\">value = [4, 10]</text>\n<text text-anchor=\"middle\" x=\"625\" y=\"-111.8\" font-family=\"Helvetica,sans-Serif\" font-size=\"14.00\" fill=\"#000000\">class = malignant</text>\n</g>\n<!-- 11&#45;&gt;12 -->\n<g id=\"edge12\" class=\"edge\">\n<title>11&#45;&gt;12</title>\n<path fill=\"none\" stroke=\"#000000\" d=\"M625,-222.8796C625,-214.6838 625,-205.9891 625,-197.5013\"/>\n<polygon fill=\"#000000\" stroke=\"#000000\" points=\"628.5001,-197.298 625,-187.2981 621.5001,-197.2981 628.5001,-197.298\"/>\n</g>\n<!-- 15 -->\n<g id=\"node16\" class=\"node\">\n<title>15</title>\n<path fill=\"#399de5\" stroke=\"#000000\" d=\"M833.5,-179.5C833.5,-179.5 728.5,-179.5 728.5,-179.5 722.5,-179.5 716.5,-173.5 716.5,-167.5 716.5,-167.5 716.5,-123.5 716.5,-123.5 716.5,-117.5 722.5,-111.5 728.5,-111.5 728.5,-111.5 833.5,-111.5 833.5,-111.5 839.5,-111.5 845.5,-117.5 845.5,-123.5 845.5,-123.5 845.5,-167.5 845.5,-167.5 845.5,-173.5 839.5,-179.5 833.5,-179.5\"/>\n<text text-anchor=\"middle\" x=\"781\" y=\"-164.3\" font-family=\"Helvetica,sans-Serif\" font-size=\"14.00\" fill=\"#000000\">entropy = 0.0</text>\n<text text-anchor=\"middle\" x=\"781\" y=\"-149.3\" font-family=\"Helvetica,sans-Serif\" font-size=\"14.00\" fill=\"#000000\">samples = 14</text>\n<text text-anchor=\"middle\" x=\"781\" y=\"-134.3\" font-family=\"Helvetica,sans-Serif\" font-size=\"14.00\" fill=\"#000000\">value = [0, 14]</text>\n<text text-anchor=\"middle\" x=\"781\" y=\"-119.3\" font-family=\"Helvetica,sans-Serif\" font-size=\"14.00\" fill=\"#000000\">class = malignant</text>\n</g>\n<!-- 11&#45;&gt;15 -->\n<g id=\"edge15\" class=\"edge\">\n<title>11&#45;&gt;15</title>\n<path fill=\"none\" stroke=\"#000000\" d=\"M679.5612,-222.8796C695.3484,-210.8368 712.5479,-197.7167 728.2241,-185.7586\"/>\n<polygon fill=\"#000000\" stroke=\"#000000\" points=\"730.4392,-188.4709 736.2673,-179.623 726.1937,-182.9053 730.4392,-188.4709\"/>\n</g>\n<!-- 13 -->\n<g id=\"node14\" class=\"node\">\n<title>13</title>\n<path fill=\"#e58139\" stroke=\"#000000\" d=\"M579,-68C579,-68 493,-68 493,-68 487,-68 481,-62 481,-56 481,-56 481,-12 481,-12 481,-6 487,0 493,0 493,0 579,0 579,0 585,0 591,-6 591,-12 591,-12 591,-56 591,-56 591,-62 585,-68 579,-68\"/>\n<text text-anchor=\"middle\" x=\"536\" y=\"-52.8\" font-family=\"Helvetica,sans-Serif\" font-size=\"14.00\" fill=\"#000000\">entropy = 0.0</text>\n<text text-anchor=\"middle\" x=\"536\" y=\"-37.8\" font-family=\"Helvetica,sans-Serif\" font-size=\"14.00\" fill=\"#000000\">samples = 2</text>\n<text text-anchor=\"middle\" x=\"536\" y=\"-22.8\" font-family=\"Helvetica,sans-Serif\" font-size=\"14.00\" fill=\"#000000\">value = [2, 0]</text>\n<text text-anchor=\"middle\" x=\"536\" y=\"-7.8\" font-family=\"Helvetica,sans-Serif\" font-size=\"14.00\" fill=\"#000000\">class = benign</text>\n</g>\n<!-- 12&#45;&gt;13 -->\n<g id=\"edge13\" class=\"edge\">\n<title>12&#45;&gt;13</title>\n<path fill=\"none\" stroke=\"#000000\" d=\"M591.8597,-103.9815C584.597,-94.8828 576.9017,-85.242 569.6204,-76.1199\"/>\n<polygon fill=\"#000000\" stroke=\"#000000\" points=\"572.3234,-73.8958 563.3495,-68.2637 566.8525,-78.2627 572.3234,-73.8958\"/>\n</g>\n<!-- 14 -->\n<g id=\"node15\" class=\"node\">\n<title>14</title>\n<path fill=\"#61b1ea\" stroke=\"#000000\" d=\"M726.5,-68C726.5,-68 621.5,-68 621.5,-68 615.5,-68 609.5,-62 609.5,-56 609.5,-56 609.5,-12 609.5,-12 609.5,-6 615.5,0 621.5,0 621.5,0 726.5,0 726.5,0 732.5,0 738.5,-6 738.5,-12 738.5,-12 738.5,-56 738.5,-56 738.5,-62 732.5,-68 726.5,-68\"/>\n<text text-anchor=\"middle\" x=\"674\" y=\"-52.8\" font-family=\"Helvetica,sans-Serif\" font-size=\"14.00\" fill=\"#000000\">entropy = 0.65</text>\n<text text-anchor=\"middle\" x=\"674\" y=\"-37.8\" font-family=\"Helvetica,sans-Serif\" font-size=\"14.00\" fill=\"#000000\">samples = 12</text>\n<text text-anchor=\"middle\" x=\"674\" y=\"-22.8\" font-family=\"Helvetica,sans-Serif\" font-size=\"14.00\" fill=\"#000000\">value = [2, 10]</text>\n<text text-anchor=\"middle\" x=\"674\" y=\"-7.8\" font-family=\"Helvetica,sans-Serif\" font-size=\"14.00\" fill=\"#000000\">class = malignant</text>\n</g>\n<!-- 12&#45;&gt;14 -->\n<g id=\"edge14\" class=\"edge\">\n<title>12&#45;&gt;14</title>\n<path fill=\"none\" stroke=\"#000000\" d=\"M643.2458,-103.9815C647.0424,-95.3423 651.0538,-86.2144 654.8808,-77.5059\"/>\n<polygon fill=\"#000000\" stroke=\"#000000\" points=\"658.1233,-78.8268 658.9424,-68.2637 651.7149,-76.0105 658.1233,-78.8268\"/>\n</g>\n<!-- 17 -->\n<g id=\"node18\" class=\"node\">\n<title>17</title>\n<path fill=\"#54aae9\" stroke=\"#000000\" d=\"M1015,-425C1015,-425 859,-425 859,-425 853,-425 847,-419 847,-413 847,-413 847,-354 847,-354 847,-348 853,-342 859,-342 859,-342 1015,-342 1015,-342 1021,-342 1027,-348 1027,-354 1027,-354 1027,-413 1027,-413 1027,-419 1021,-425 1015,-425\"/>\n<text text-anchor=\"middle\" x=\"937\" y=\"-409.8\" font-family=\"Helvetica,sans-Serif\" font-size=\"14.00\" fill=\"#000000\">normal_nubleoli &lt;= 1.518</text>\n<text text-anchor=\"middle\" x=\"937\" y=\"-394.8\" font-family=\"Helvetica,sans-Serif\" font-size=\"14.00\" fill=\"#000000\">entropy = 0.528</text>\n<text text-anchor=\"middle\" x=\"937\" y=\"-379.8\" font-family=\"Helvetica,sans-Serif\" font-size=\"14.00\" fill=\"#000000\">samples = 67</text>\n<text text-anchor=\"middle\" x=\"937\" y=\"-364.8\" font-family=\"Helvetica,sans-Serif\" font-size=\"14.00\" fill=\"#000000\">value = [8, 59]</text>\n<text text-anchor=\"middle\" x=\"937\" y=\"-349.8\" font-family=\"Helvetica,sans-Serif\" font-size=\"14.00\" fill=\"#000000\">class = malignant</text>\n</g>\n<!-- 16&#45;&gt;17 -->\n<g id=\"edge17\" class=\"edge\">\n<title>16&#45;&gt;17</title>\n<path fill=\"none\" stroke=\"#000000\" d=\"M937,-460.8796C937,-452.6838 937,-443.9891 937,-435.5013\"/>\n<polygon fill=\"#000000\" stroke=\"#000000\" points=\"940.5001,-435.298 937,-425.2981 933.5001,-435.2981 940.5001,-435.298\"/>\n</g>\n<!-- 24 -->\n<g id=\"node25\" class=\"node\">\n<title>24</title>\n<path fill=\"#399de5\" stroke=\"#000000\" d=\"M1162.5,-417.5C1162.5,-417.5 1057.5,-417.5 1057.5,-417.5 1051.5,-417.5 1045.5,-411.5 1045.5,-405.5 1045.5,-405.5 1045.5,-361.5 1045.5,-361.5 1045.5,-355.5 1051.5,-349.5 1057.5,-349.5 1057.5,-349.5 1162.5,-349.5 1162.5,-349.5 1168.5,-349.5 1174.5,-355.5 1174.5,-361.5 1174.5,-361.5 1174.5,-405.5 1174.5,-405.5 1174.5,-411.5 1168.5,-417.5 1162.5,-417.5\"/>\n<text text-anchor=\"middle\" x=\"1110\" y=\"-402.3\" font-family=\"Helvetica,sans-Serif\" font-size=\"14.00\" fill=\"#000000\">entropy = 0.0</text>\n<text text-anchor=\"middle\" x=\"1110\" y=\"-387.3\" font-family=\"Helvetica,sans-Serif\" font-size=\"14.00\" fill=\"#000000\">samples = 78</text>\n<text text-anchor=\"middle\" x=\"1110\" y=\"-372.3\" font-family=\"Helvetica,sans-Serif\" font-size=\"14.00\" fill=\"#000000\">value = [0, 78]</text>\n<text text-anchor=\"middle\" x=\"1110\" y=\"-357.3\" font-family=\"Helvetica,sans-Serif\" font-size=\"14.00\" fill=\"#000000\">class = malignant</text>\n</g>\n<!-- 16&#45;&gt;24 -->\n<g id=\"edge24\" class=\"edge\">\n<title>16&#45;&gt;24</title>\n<path fill=\"none\" stroke=\"#000000\" d=\"M997.507,-460.8796C1015.1752,-448.7263 1034.4385,-435.4759 1051.9509,-423.4297\"/>\n<polygon fill=\"#000000\" stroke=\"#000000\" points=\"1054.1371,-426.1741 1060.3926,-417.623 1050.1699,-420.4067 1054.1371,-426.1741\"/>\n</g>\n<!-- 18 -->\n<g id=\"node19\" class=\"node\">\n<title>18</title>\n<path fill=\"#6cb6ec\" stroke=\"#000000\" d=\"M989.5,-306C989.5,-306 884.5,-306 884.5,-306 878.5,-306 872.5,-300 872.5,-294 872.5,-294 872.5,-235 872.5,-235 872.5,-229 878.5,-223 884.5,-223 884.5,-223 989.5,-223 989.5,-223 995.5,-223 1001.5,-229 1001.5,-235 1001.5,-235 1001.5,-294 1001.5,-294 1001.5,-300 995.5,-306 989.5,-306\"/>\n<text text-anchor=\"middle\" x=\"937\" y=\"-290.8\" font-family=\"Helvetica,sans-Serif\" font-size=\"14.00\" fill=\"#000000\">clump &lt;= 1.44</text>\n<text text-anchor=\"middle\" x=\"937\" y=\"-275.8\" font-family=\"Helvetica,sans-Serif\" font-size=\"14.00\" fill=\"#000000\">entropy = 0.732</text>\n<text text-anchor=\"middle\" x=\"937\" y=\"-260.8\" font-family=\"Helvetica,sans-Serif\" font-size=\"14.00\" fill=\"#000000\">samples = 39</text>\n<text text-anchor=\"middle\" x=\"937\" y=\"-245.8\" font-family=\"Helvetica,sans-Serif\" font-size=\"14.00\" fill=\"#000000\">value = [8, 31]</text>\n<text text-anchor=\"middle\" x=\"937\" y=\"-230.8\" font-family=\"Helvetica,sans-Serif\" font-size=\"14.00\" fill=\"#000000\">class = malignant</text>\n</g>\n<!-- 17&#45;&gt;18 -->\n<g id=\"edge18\" class=\"edge\">\n<title>17&#45;&gt;18</title>\n<path fill=\"none\" stroke=\"#000000\" d=\"M937,-341.8796C937,-333.6838 937,-324.9891 937,-316.5013\"/>\n<polygon fill=\"#000000\" stroke=\"#000000\" points=\"940.5001,-316.298 937,-306.2981 933.5001,-316.2981 940.5001,-316.298\"/>\n</g>\n<!-- 23 -->\n<g id=\"node24\" class=\"node\">\n<title>23</title>\n<path fill=\"#399de5\" stroke=\"#000000\" d=\"M1136.5,-298.5C1136.5,-298.5 1031.5,-298.5 1031.5,-298.5 1025.5,-298.5 1019.5,-292.5 1019.5,-286.5 1019.5,-286.5 1019.5,-242.5 1019.5,-242.5 1019.5,-236.5 1025.5,-230.5 1031.5,-230.5 1031.5,-230.5 1136.5,-230.5 1136.5,-230.5 1142.5,-230.5 1148.5,-236.5 1148.5,-242.5 1148.5,-242.5 1148.5,-286.5 1148.5,-286.5 1148.5,-292.5 1142.5,-298.5 1136.5,-298.5\"/>\n<text text-anchor=\"middle\" x=\"1084\" y=\"-283.3\" font-family=\"Helvetica,sans-Serif\" font-size=\"14.00\" fill=\"#000000\">entropy = 0.0</text>\n<text text-anchor=\"middle\" x=\"1084\" y=\"-268.3\" font-family=\"Helvetica,sans-Serif\" font-size=\"14.00\" fill=\"#000000\">samples = 28</text>\n<text text-anchor=\"middle\" x=\"1084\" y=\"-253.3\" font-family=\"Helvetica,sans-Serif\" font-size=\"14.00\" fill=\"#000000\">value = [0, 28]</text>\n<text text-anchor=\"middle\" x=\"1084\" y=\"-238.3\" font-family=\"Helvetica,sans-Serif\" font-size=\"14.00\" fill=\"#000000\">class = malignant</text>\n</g>\n<!-- 17&#45;&gt;23 -->\n<g id=\"edge23\" class=\"edge\">\n<title>17&#45;&gt;23</title>\n<path fill=\"none\" stroke=\"#000000\" d=\"M988.4135,-341.8796C1003.0835,-330.0038 1019.0477,-317.0804 1033.6533,-305.2568\"/>\n<polygon fill=\"#000000\" stroke=\"#000000\" points=\"1036.0407,-307.8273 1041.611,-298.8149 1031.6363,-302.3866 1036.0407,-307.8273\"/>\n</g>\n<!-- 19 -->\n<g id=\"node20\" class=\"node\">\n<title>19</title>\n<path fill=\"#a3d1f3\" stroke=\"#000000\" d=\"M998,-187C998,-187 876,-187 876,-187 870,-187 864,-181 864,-175 864,-175 864,-116 864,-116 864,-110 870,-104 876,-104 876,-104 998,-104 998,-104 1004,-104 1010,-110 1010,-116 1010,-116 1010,-175 1010,-175 1010,-181 1004,-187 998,-187\"/>\n<text text-anchor=\"middle\" x=\"937\" y=\"-171.8\" font-family=\"Helvetica,sans-Serif\" font-size=\"14.00\" fill=\"#000000\">adhension &lt;= 0.234</text>\n<text text-anchor=\"middle\" x=\"937\" y=\"-156.8\" font-family=\"Helvetica,sans-Serif\" font-size=\"14.00\" fill=\"#000000\">entropy = 0.932</text>\n<text text-anchor=\"middle\" x=\"937\" y=\"-141.8\" font-family=\"Helvetica,sans-Serif\" font-size=\"14.00\" fill=\"#000000\">samples = 23</text>\n<text text-anchor=\"middle\" x=\"937\" y=\"-126.8\" font-family=\"Helvetica,sans-Serif\" font-size=\"14.00\" fill=\"#000000\">value = [8, 15]</text>\n<text text-anchor=\"middle\" x=\"937\" y=\"-111.8\" font-family=\"Helvetica,sans-Serif\" font-size=\"14.00\" fill=\"#000000\">class = malignant</text>\n</g>\n<!-- 18&#45;&gt;19 -->\n<g id=\"edge19\" class=\"edge\">\n<title>18&#45;&gt;19</title>\n<path fill=\"none\" stroke=\"#000000\" d=\"M937,-222.8796C937,-214.6838 937,-205.9891 937,-197.5013\"/>\n<polygon fill=\"#000000\" stroke=\"#000000\" points=\"940.5001,-197.298 937,-187.2981 933.5001,-197.2981 940.5001,-197.298\"/>\n</g>\n<!-- 22 -->\n<g id=\"node23\" class=\"node\">\n<title>22</title>\n<path fill=\"#399de5\" stroke=\"#000000\" d=\"M1145.5,-179.5C1145.5,-179.5 1040.5,-179.5 1040.5,-179.5 1034.5,-179.5 1028.5,-173.5 1028.5,-167.5 1028.5,-167.5 1028.5,-123.5 1028.5,-123.5 1028.5,-117.5 1034.5,-111.5 1040.5,-111.5 1040.5,-111.5 1145.5,-111.5 1145.5,-111.5 1151.5,-111.5 1157.5,-117.5 1157.5,-123.5 1157.5,-123.5 1157.5,-167.5 1157.5,-167.5 1157.5,-173.5 1151.5,-179.5 1145.5,-179.5\"/>\n<text text-anchor=\"middle\" x=\"1093\" y=\"-164.3\" font-family=\"Helvetica,sans-Serif\" font-size=\"14.00\" fill=\"#000000\">entropy = 0.0</text>\n<text text-anchor=\"middle\" x=\"1093\" y=\"-149.3\" font-family=\"Helvetica,sans-Serif\" font-size=\"14.00\" fill=\"#000000\">samples = 16</text>\n<text text-anchor=\"middle\" x=\"1093\" y=\"-134.3\" font-family=\"Helvetica,sans-Serif\" font-size=\"14.00\" fill=\"#000000\">value = [0, 16]</text>\n<text text-anchor=\"middle\" x=\"1093\" y=\"-119.3\" font-family=\"Helvetica,sans-Serif\" font-size=\"14.00\" fill=\"#000000\">class = malignant</text>\n</g>\n<!-- 18&#45;&gt;22 -->\n<g id=\"edge22\" class=\"edge\">\n<title>18&#45;&gt;22</title>\n<path fill=\"none\" stroke=\"#000000\" d=\"M991.5612,-222.8796C1007.3484,-210.8368 1024.5479,-197.7167 1040.2241,-185.7586\"/>\n<polygon fill=\"#000000\" stroke=\"#000000\" points=\"1042.4392,-188.4709 1048.2673,-179.623 1038.1937,-182.9053 1042.4392,-188.4709\"/>\n</g>\n<!-- 20 -->\n<g id=\"node21\" class=\"node\">\n<title>20</title>\n<path fill=\"#e9965a\" stroke=\"#000000\" d=\"M913,-68C913,-68 819,-68 819,-68 813,-68 807,-62 807,-56 807,-56 807,-12 807,-12 807,-6 813,0 819,0 819,0 913,0 913,0 919,0 925,-6 925,-12 925,-12 925,-56 925,-56 925,-62 919,-68 913,-68\"/>\n<text text-anchor=\"middle\" x=\"866\" y=\"-52.8\" font-family=\"Helvetica,sans-Serif\" font-size=\"14.00\" fill=\"#000000\">entropy = 0.592</text>\n<text text-anchor=\"middle\" x=\"866\" y=\"-37.8\" font-family=\"Helvetica,sans-Serif\" font-size=\"14.00\" fill=\"#000000\">samples = 7</text>\n<text text-anchor=\"middle\" x=\"866\" y=\"-22.8\" font-family=\"Helvetica,sans-Serif\" font-size=\"14.00\" fill=\"#000000\">value = [6, 1]</text>\n<text text-anchor=\"middle\" x=\"866\" y=\"-7.8\" font-family=\"Helvetica,sans-Serif\" font-size=\"14.00\" fill=\"#000000\">class = benign</text>\n</g>\n<!-- 19&#45;&gt;20 -->\n<g id=\"edge20\" class=\"edge\">\n<title>19&#45;&gt;20</title>\n<path fill=\"none\" stroke=\"#000000\" d=\"M910.5622,-103.9815C904.944,-95.1585 899.0012,-85.8258 893.3497,-76.9506\"/>\n<polygon fill=\"#000000\" stroke=\"#000000\" points=\"896.1416,-74.8188 887.8181,-68.2637 890.2371,-78.5787 896.1416,-74.8188\"/>\n</g>\n<!-- 21 -->\n<g id=\"node22\" class=\"node\">\n<title>21</title>\n<path fill=\"#55abe9\" stroke=\"#000000\" d=\"M1060.5,-68C1060.5,-68 955.5,-68 955.5,-68 949.5,-68 943.5,-62 943.5,-56 943.5,-56 943.5,-12 943.5,-12 943.5,-6 949.5,0 955.5,0 955.5,0 1060.5,0 1060.5,0 1066.5,0 1072.5,-6 1072.5,-12 1072.5,-12 1072.5,-56 1072.5,-56 1072.5,-62 1066.5,-68 1060.5,-68\"/>\n<text text-anchor=\"middle\" x=\"1008\" y=\"-52.8\" font-family=\"Helvetica,sans-Serif\" font-size=\"14.00\" fill=\"#000000\">entropy = 0.544</text>\n<text text-anchor=\"middle\" x=\"1008\" y=\"-37.8\" font-family=\"Helvetica,sans-Serif\" font-size=\"14.00\" fill=\"#000000\">samples = 16</text>\n<text text-anchor=\"middle\" x=\"1008\" y=\"-22.8\" font-family=\"Helvetica,sans-Serif\" font-size=\"14.00\" fill=\"#000000\">value = [2, 14]</text>\n<text text-anchor=\"middle\" x=\"1008\" y=\"-7.8\" font-family=\"Helvetica,sans-Serif\" font-size=\"14.00\" fill=\"#000000\">class = malignant</text>\n</g>\n<!-- 19&#45;&gt;21 -->\n<g id=\"edge21\" class=\"edge\">\n<title>19&#45;&gt;21</title>\n<path fill=\"none\" stroke=\"#000000\" d=\"M963.4378,-103.9815C969.056,-95.1585 974.9988,-85.8258 980.6503,-76.9506\"/>\n<polygon fill=\"#000000\" stroke=\"#000000\" points=\"983.7629,-78.5787 986.1819,-68.2637 977.8584,-74.8188 983.7629,-78.5787\"/>\n</g>\n</g>\n</svg>\n"
          },
          "metadata": {
            "tags": []
          },
          "execution_count": 35
        }
      ]
    },
    {
      "cell_type": "code",
      "metadata": {
        "id": "zc4fHnRHg28Y",
        "colab_type": "code",
        "colab": {}
      },
      "source": [
        ""
      ],
      "execution_count": null,
      "outputs": []
    }
  ]
}