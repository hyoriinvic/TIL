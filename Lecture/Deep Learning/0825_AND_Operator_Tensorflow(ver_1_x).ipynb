{
  "nbformat": 4,
  "nbformat_minor": 0,
  "metadata": {
    "colab": {
      "name": "0825 AND Operator_Tensorflow(ver 1.x)",
      "provenance": []
    },
    "kernelspec": {
      "name": "python3",
      "display_name": "Python 3"
    }
  },
  "cells": [
    {
      "cell_type": "code",
      "metadata": {
        "id": "MpMxr9t3QtLB",
        "colab_type": "code",
        "colab": {
          "base_uri": "https://localhost:8080/",
          "height": 34
        },
        "outputId": "4e7f0c87-58da-42da-83ef-732cf8c1c2de"
      },
      "source": [
        "%tensorflow_version 1.x"
      ],
      "execution_count": 1,
      "outputs": [
        {
          "output_type": "stream",
          "text": [
            "TensorFlow 1.x selected.\n"
          ],
          "name": "stdout"
        }
      ]
    },
    {
      "cell_type": "code",
      "metadata": {
        "id": "PpKqMrGeRpoz",
        "colab_type": "code",
        "colab": {}
      },
      "source": [
        "import tensorflow as tf"
      ],
      "execution_count": 2,
      "outputs": []
    },
    {
      "cell_type": "code",
      "metadata": {
        "id": "dguH7CjvR01K",
        "colab_type": "code",
        "colab": {}
      },
      "source": [
        "import numpy as np"
      ],
      "execution_count": 3,
      "outputs": []
    },
    {
      "cell_type": "code",
      "metadata": {
        "id": "vYNwq1juR2KH",
        "colab_type": "code",
        "colab": {}
      },
      "source": [
        "tf.enable_eager_execution()"
      ],
      "execution_count": 4,
      "outputs": []
    },
    {
      "cell_type": "code",
      "metadata": {
        "id": "OeudsWG4R4fr",
        "colab_type": "code",
        "colab": {}
      },
      "source": [
        "X = np.array([\n",
        "              [0, 0],\n",
        "              [0, 1],\n",
        "              [1, 0],\n",
        "              [1, 1]\n",
        "            ], dtype = \"float32\")\n",
        "\n",
        "y = np.array([\n",
        "            [0],\n",
        "            [0],\n",
        "            [0],\n",
        "            [1]\n",
        "], dtype = \"float32\")"
      ],
      "execution_count": 5,
      "outputs": []
    },
    {
      "cell_type": "code",
      "metadata": {
        "id": "vcTiEDNFSiO_",
        "colab_type": "code",
        "colab": {}
      },
      "source": [
        "w = tf.Variable([[1], [2]], dtype = \"float32\")\n",
        "b = tf.Variable([3], dtype = \"float32\")"
      ],
      "execution_count": 6,
      "outputs": []
    },
    {
      "cell_type": "code",
      "metadata": {
        "id": "feh7bspzSqEl",
        "colab_type": "code",
        "colab": {
          "base_uri": "https://localhost:8080/",
          "height": 105
        },
        "outputId": "1b73233a-51f6-4730-938f-bea22582e3e0"
      },
      "source": [
        "tf.sigmoid(tf.matmul(X, w) + b)"
      ],
      "execution_count": 7,
      "outputs": [
        {
          "output_type": "execute_result",
          "data": {
            "text/plain": [
              "<tf.Tensor: id=20, shape=(4, 1), dtype=float32, numpy=\n",
              "array([[0.95257413],\n",
              "       [0.9933072 ],\n",
              "       [0.98201376],\n",
              "       [0.9975274 ]], dtype=float32)>"
            ]
          },
          "metadata": {
            "tags": []
          },
          "execution_count": 7
        }
      ]
    },
    {
      "cell_type": "code",
      "metadata": {
        "id": "8SyXPvxrSvOG",
        "colab_type": "code",
        "colab": {}
      },
      "source": [
        "#w, b 값을 자동으로 수정하는 Optimizer 객체\n",
        "optimizer = tf.train.AdamOptimizer(0.01)"
      ],
      "execution_count": 8,
      "outputs": []
    },
    {
      "cell_type": "code",
      "metadata": {
        "id": "3k9WPl0hS2XX",
        "colab_type": "code",
        "colab": {}
      },
      "source": [
        "for step in range(5000):\n",
        "  with tf.GradientTape() as tape:\n",
        "    hypothesis = tf.sigmoid(tf.matmul(X, w) + b)\n",
        "    cost = -tf.reduce_mean(y * tf.log(hypothesis) + (1 - y) * tf.log(1 - hypothesis))\n",
        "    grads = tape.gradient(cost, [w, b])\n",
        "\n",
        "  optimizer.apply_gradients(grads_and_vars = zip(grads, [w, b]))\n",
        "\n",
        "  if step % 100 == 0:\n",
        "    print(\"=\" * 50)\n",
        "    print(\"step: {}, cost: {}, w: {}, b: {}\".format(step, cost.numpy(), w.numpy(), b.numpy()))"
      ],
      "execution_count": null,
      "outputs": []
    },
    {
      "cell_type": "code",
      "metadata": {
        "id": "Xf1CIEUYWfAu",
        "colab_type": "code",
        "colab": {
          "base_uri": "https://localhost:8080/",
          "height": 70
        },
        "outputId": "3602a8c0-c39d-4559-bb42-2421bf7baaf9"
      },
      "source": [
        "w"
      ],
      "execution_count": 10,
      "outputs": [
        {
          "output_type": "execute_result",
          "data": {
            "text/plain": [
              "<tf.Variable 'Variable:0' shape=(2, 1) dtype=float32, numpy=\n",
              "array([[7.0477467],\n",
              "       [7.0392036]], dtype=float32)>"
            ]
          },
          "metadata": {
            "tags": []
          },
          "execution_count": 10
        }
      ]
    },
    {
      "cell_type": "code",
      "metadata": {
        "id": "cPCncFikXaQD",
        "colab_type": "code",
        "colab": {
          "base_uri": "https://localhost:8080/",
          "height": 54
        },
        "outputId": "41f6440b-7477-4cfe-db1e-7569ff96b945"
      },
      "source": [
        "b"
      ],
      "execution_count": 11,
      "outputs": [
        {
          "output_type": "execute_result",
          "data": {
            "text/plain": [
              "<tf.Variable 'Variable:0' shape=(1,) dtype=float32, numpy=array([-10.636643], dtype=float32)>"
            ]
          },
          "metadata": {
            "tags": []
          },
          "execution_count": 11
        }
      ]
    },
    {
      "cell_type": "code",
      "metadata": {
        "id": "MSho3410Xg_k",
        "colab_type": "code",
        "colab": {
          "base_uri": "https://localhost:8080/",
          "height": 105
        },
        "outputId": "3a1a3b37-352c-4094-e1ed-8a1029c265ec"
      },
      "source": [
        "predict = tf.sigmoid(tf.matmul(X, w) + b)\n",
        "predict01 = tf.cast(predict > 0.5, dtype = tf.float32)\n",
        "predict01"
      ],
      "execution_count": 13,
      "outputs": [
        {
          "output_type": "execute_result",
          "data": {
            "text/plain": [
              "<tf.Tensor: id=315097, shape=(4, 1), dtype=float32, numpy=\n",
              "array([[0.],\n",
              "       [0.],\n",
              "       [0.],\n",
              "       [1.]], dtype=float32)>"
            ]
          },
          "metadata": {
            "tags": []
          },
          "execution_count": 13
        }
      ]
    },
    {
      "cell_type": "code",
      "metadata": {
        "id": "zZNGu62wXyaK",
        "colab_type": "code",
        "colab": {
          "base_uri": "https://localhost:8080/",
          "height": 34
        },
        "outputId": "ea8dcba1-e975-400c-8789-67085b8dfb35"
      },
      "source": [
        "accuracy = tf.reduce_mean(tf.cast(tf.equal(predict01, y), dtype = tf.float32))\n",
        "accuracy.numpy()"
      ],
      "execution_count": 16,
      "outputs": [
        {
          "output_type": "execute_result",
          "data": {
            "text/plain": [
              "1.0"
            ]
          },
          "metadata": {
            "tags": []
          },
          "execution_count": 16
        }
      ]
    },
    {
      "cell_type": "code",
      "metadata": {
        "id": "M4o8n1X2YN4W",
        "colab_type": "code",
        "colab": {
          "base_uri": "https://localhost:8080/",
          "height": 34
        },
        "outputId": "9d6685d5-00db-4e81-f4f9-9fd520f82683"
      },
      "source": [
        "#0, 1의 AND 연산 실행\n",
        "arr = np.array([[0, 1]], dtype = \"float32\")\n",
        "predict = tf.sigmoid(tf.matmul(arr, w) + b)\n",
        "predict = tf.cast(predict > 0.5, dtype = tf.float32)\n",
        "predict.numpy()"
      ],
      "execution_count": 17,
      "outputs": [
        {
          "output_type": "execute_result",
          "data": {
            "text/plain": [
              "array([[0.]], dtype=float32)"
            ]
          },
          "metadata": {
            "tags": []
          },
          "execution_count": 17
        }
      ]
    },
    {
      "cell_type": "code",
      "metadata": {
        "id": "HwEmetzuYkAn",
        "colab_type": "code",
        "colab": {
          "base_uri": "https://localhost:8080/",
          "height": 34
        },
        "outputId": "e82f9d44-0f02-4d3c-a163-695dde42d339"
      },
      "source": [
        "#1, 1의 AND 연산 실행\n",
        "arr = np.array([[1, 1]], dtype = \"float32\")\n",
        "predict = tf.sigmoid(tf.matmul(arr, w) + b)\n",
        "predict = tf.cast(predict > 0.5, dtype = tf.float32)\n",
        "predict.numpy()"
      ],
      "execution_count": 18,
      "outputs": [
        {
          "output_type": "execute_result",
          "data": {
            "text/plain": [
              "array([[1.]], dtype=float32)"
            ]
          },
          "metadata": {
            "tags": []
          },
          "execution_count": 18
        }
      ]
    }
  ]
}