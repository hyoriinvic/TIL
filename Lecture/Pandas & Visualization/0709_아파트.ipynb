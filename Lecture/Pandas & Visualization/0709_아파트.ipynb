{
  "nbformat": 4,
  "nbformat_minor": 0,
  "metadata": {
    "colab": {
      "name": "0709 아파트",
      "provenance": [],
      "toc_visible": true
    },
    "kernelspec": {
      "name": "python3",
      "display_name": "Python 3"
    }
  },
  "cells": [
    {
      "cell_type": "code",
      "metadata": {
        "id": "6BuHLq08Y7nS",
        "colab_type": "code",
        "colab": {}
      },
      "source": [
        "import pandas as pd"
      ],
      "execution_count": null,
      "outputs": []
    },
    {
      "cell_type": "markdown",
      "metadata": {
        "id": "dWZc31b2a_By",
        "colab_type": "text"
      },
      "source": [
        "#데이터 로드"
      ]
    },
    {
      "cell_type": "markdown",
      "metadata": {
        "id": "kJMrLzzXbcx6",
        "colab_type": "text"
      },
      "source": [
        "최근 파일 로드"
      ]
    },
    {
      "cell_type": "code",
      "metadata": {
        "id": "d0kgdJIaa6bI",
        "colab_type": "code",
        "colab": {
          "base_uri": "https://localhost:8080/"
        },
        "outputId": "08d5a78f-3cec-4e37-8458-7e7c7e5ad9fa"
      },
      "source": [
        "#최근 아파트 분양가 파일 로드\n",
        "df_last = pd.read_csv(\"주택도시보증공사_전국 평균 분양가격(2019년 12월).csv\", encoding = \"cp949\", engine = \"python\")\n",
        "df_last.shape #데이터 구조 확인(행/열 개수)"
      ],
      "execution_count": null,
      "outputs": [
        {
          "output_type": "execute_result",
          "data": {
            "text/plain": [
              "(4335, 5)"
            ]
          },
          "metadata": {
            "tags": []
          },
          "execution_count": 2
        }
      ]
    },
    {
      "cell_type": "code",
      "metadata": {
        "id": "cEZCRCb7bByd",
        "colab_type": "code",
        "colab": {
          "base_uri": "https://localhost:8080/"
        },
        "outputId": "74d038b7-0ce0-4515-e432-e2c362558ac9"
      },
      "source": [
        "df_last.head() #파일 미리보기(위쪽 5개 행)"
      ],
      "execution_count": null,
      "outputs": [
        {
          "output_type": "execute_result",
          "data": {
            "text/html": [
              "<div>\n",
              "<style scoped>\n",
              "    .dataframe tbody tr th:only-of-type {\n",
              "        vertical-align: middle;\n",
              "    }\n",
              "\n",
              "    .dataframe tbody tr th {\n",
              "        vertical-align: top;\n",
              "    }\n",
              "\n",
              "    .dataframe thead th {\n",
              "        text-align: right;\n",
              "    }\n",
              "</style>\n",
              "<table border=\"1\" class=\"dataframe\">\n",
              "  <thead>\n",
              "    <tr style=\"text-align: right;\">\n",
              "      <th></th>\n",
              "      <th>지역명</th>\n",
              "      <th>규모구분</th>\n",
              "      <th>연도</th>\n",
              "      <th>월</th>\n",
              "      <th>분양가격(㎡)</th>\n",
              "    </tr>\n",
              "  </thead>\n",
              "  <tbody>\n",
              "    <tr>\n",
              "      <th>0</th>\n",
              "      <td>서울</td>\n",
              "      <td>전체</td>\n",
              "      <td>2015</td>\n",
              "      <td>10</td>\n",
              "      <td>5841</td>\n",
              "    </tr>\n",
              "    <tr>\n",
              "      <th>1</th>\n",
              "      <td>서울</td>\n",
              "      <td>전용면적 60㎡이하</td>\n",
              "      <td>2015</td>\n",
              "      <td>10</td>\n",
              "      <td>5652</td>\n",
              "    </tr>\n",
              "    <tr>\n",
              "      <th>2</th>\n",
              "      <td>서울</td>\n",
              "      <td>전용면적 60㎡초과 85㎡이하</td>\n",
              "      <td>2015</td>\n",
              "      <td>10</td>\n",
              "      <td>5882</td>\n",
              "    </tr>\n",
              "    <tr>\n",
              "      <th>3</th>\n",
              "      <td>서울</td>\n",
              "      <td>전용면적 85㎡초과 102㎡이하</td>\n",
              "      <td>2015</td>\n",
              "      <td>10</td>\n",
              "      <td>5721</td>\n",
              "    </tr>\n",
              "    <tr>\n",
              "      <th>4</th>\n",
              "      <td>서울</td>\n",
              "      <td>전용면적 102㎡초과</td>\n",
              "      <td>2015</td>\n",
              "      <td>10</td>\n",
              "      <td>5879</td>\n",
              "    </tr>\n",
              "  </tbody>\n",
              "</table>\n",
              "</div>"
            ],
            "text/plain": [
              "  지역명               규모구분    연도   월 분양가격(㎡)\n",
              "0  서울                 전체  2015  10    5841\n",
              "1  서울         전용면적 60㎡이하  2015  10    5652\n",
              "2  서울   전용면적 60㎡초과 85㎡이하  2015  10    5882\n",
              "3  서울  전용면적 85㎡초과 102㎡이하  2015  10    5721\n",
              "4  서울        전용면적 102㎡초과  2015  10    5879"
            ]
          },
          "metadata": {
            "tags": []
          },
          "execution_count": 3
        }
      ]
    },
    {
      "cell_type": "code",
      "metadata": {
        "id": "Nix78SRqbEVX",
        "colab_type": "code",
        "colab": {
          "base_uri": "https://localhost:8080/"
        },
        "outputId": "a9b73eca-fd6e-4491-964f-2093956f9b65"
      },
      "source": [
        "df_last.tail() #팡리 미리보기(아래쪽 5개 행)"
      ],
      "execution_count": null,
      "outputs": [
        {
          "output_type": "execute_result",
          "data": {
            "text/html": [
              "<div>\n",
              "<style scoped>\n",
              "    .dataframe tbody tr th:only-of-type {\n",
              "        vertical-align: middle;\n",
              "    }\n",
              "\n",
              "    .dataframe tbody tr th {\n",
              "        vertical-align: top;\n",
              "    }\n",
              "\n",
              "    .dataframe thead th {\n",
              "        text-align: right;\n",
              "    }\n",
              "</style>\n",
              "<table border=\"1\" class=\"dataframe\">\n",
              "  <thead>\n",
              "    <tr style=\"text-align: right;\">\n",
              "      <th></th>\n",
              "      <th>지역명</th>\n",
              "      <th>규모구분</th>\n",
              "      <th>연도</th>\n",
              "      <th>월</th>\n",
              "      <th>분양가격(㎡)</th>\n",
              "    </tr>\n",
              "  </thead>\n",
              "  <tbody>\n",
              "    <tr>\n",
              "      <th>4330</th>\n",
              "      <td>제주</td>\n",
              "      <td>전체</td>\n",
              "      <td>2019</td>\n",
              "      <td>12</td>\n",
              "      <td>3882</td>\n",
              "    </tr>\n",
              "    <tr>\n",
              "      <th>4331</th>\n",
              "      <td>제주</td>\n",
              "      <td>전용면적 60㎡이하</td>\n",
              "      <td>2019</td>\n",
              "      <td>12</td>\n",
              "      <td>NaN</td>\n",
              "    </tr>\n",
              "    <tr>\n",
              "      <th>4332</th>\n",
              "      <td>제주</td>\n",
              "      <td>전용면적 60㎡초과 85㎡이하</td>\n",
              "      <td>2019</td>\n",
              "      <td>12</td>\n",
              "      <td>3898</td>\n",
              "    </tr>\n",
              "    <tr>\n",
              "      <th>4333</th>\n",
              "      <td>제주</td>\n",
              "      <td>전용면적 85㎡초과 102㎡이하</td>\n",
              "      <td>2019</td>\n",
              "      <td>12</td>\n",
              "      <td>NaN</td>\n",
              "    </tr>\n",
              "    <tr>\n",
              "      <th>4334</th>\n",
              "      <td>제주</td>\n",
              "      <td>전용면적 102㎡초과</td>\n",
              "      <td>2019</td>\n",
              "      <td>12</td>\n",
              "      <td>3601</td>\n",
              "    </tr>\n",
              "  </tbody>\n",
              "</table>\n",
              "</div>"
            ],
            "text/plain": [
              "     지역명               규모구분    연도   월 분양가격(㎡)\n",
              "4330  제주                 전체  2019  12    3882\n",
              "4331  제주         전용면적 60㎡이하  2019  12     NaN\n",
              "4332  제주   전용면적 60㎡초과 85㎡이하  2019  12    3898\n",
              "4333  제주  전용면적 85㎡초과 102㎡이하  2019  12     NaN\n",
              "4334  제주        전용면적 102㎡초과  2019  12    3601"
            ]
          },
          "metadata": {
            "tags": []
          },
          "execution_count": 4
        }
      ]
    },
    {
      "cell_type": "markdown",
      "metadata": {
        "id": "dzJ6jGD1bhe0",
        "colab_type": "text"
      },
      "source": [
        "#데이터 요약"
      ]
    },
    {
      "cell_type": "code",
      "metadata": {
        "id": "2C2PxT4HbJeJ",
        "colab_type": "code",
        "colab": {
          "base_uri": "https://localhost:8080/"
        },
        "outputId": "51fdf332-19aa-41ac-a7bd-95d86f2611aa"
      },
      "source": [
        "df_last.info()"
      ],
      "execution_count": null,
      "outputs": [
        {
          "output_type": "stream",
          "text": [
            "<class 'pandas.core.frame.DataFrame'>\n",
            "RangeIndex: 4335 entries, 0 to 4334\n",
            "Data columns (total 5 columns):\n",
            " #   Column   Non-Null Count  Dtype \n",
            "---  ------   --------------  ----- \n",
            " 0   지역명      4335 non-null   object\n",
            " 1   규모구분     4335 non-null   object\n",
            " 2   연도       4335 non-null   int64 \n",
            " 3   월        4335 non-null   int64 \n",
            " 4   분양가격(㎡)  4058 non-null   object\n",
            "dtypes: int64(2), object(3)\n",
            "memory usage: 169.5+ KB\n"
          ],
          "name": "stdout"
        }
      ]
    },
    {
      "cell_type": "markdown",
      "metadata": {
        "id": "yMm0yuzobujS",
        "colab_type": "text"
      },
      "source": [
        "#결측치 처리"
      ]
    },
    {
      "cell_type": "markdown",
      "metadata": {
        "id": "-6N3dY70b2BS",
        "colab_type": "text"
      },
      "source": [
        "결측치\n",
        "> isnull() 또는 isna() 사용 (결측치가 존재할 경우 True 반환, True == 1)"
      ]
    },
    {
      "cell_type": "code",
      "metadata": {
        "id": "7ZIcZh8Cbkz8",
        "colab_type": "code",
        "colab": {
          "base_uri": "https://localhost:8080/"
        },
        "outputId": "8723d9fd-8b06-4080-eb2a-b660aa477f56"
      },
      "source": [
        "df_last.isnull() #결측치 확인"
      ],
      "execution_count": null,
      "outputs": [
        {
          "output_type": "execute_result",
          "data": {
            "text/html": [
              "<div>\n",
              "<style scoped>\n",
              "    .dataframe tbody tr th:only-of-type {\n",
              "        vertical-align: middle;\n",
              "    }\n",
              "\n",
              "    .dataframe tbody tr th {\n",
              "        vertical-align: top;\n",
              "    }\n",
              "\n",
              "    .dataframe thead th {\n",
              "        text-align: right;\n",
              "    }\n",
              "</style>\n",
              "<table border=\"1\" class=\"dataframe\">\n",
              "  <thead>\n",
              "    <tr style=\"text-align: right;\">\n",
              "      <th></th>\n",
              "      <th>지역명</th>\n",
              "      <th>규모구분</th>\n",
              "      <th>연도</th>\n",
              "      <th>월</th>\n",
              "      <th>분양가격(㎡)</th>\n",
              "    </tr>\n",
              "  </thead>\n",
              "  <tbody>\n",
              "    <tr>\n",
              "      <th>0</th>\n",
              "      <td>False</td>\n",
              "      <td>False</td>\n",
              "      <td>False</td>\n",
              "      <td>False</td>\n",
              "      <td>False</td>\n",
              "    </tr>\n",
              "    <tr>\n",
              "      <th>1</th>\n",
              "      <td>False</td>\n",
              "      <td>False</td>\n",
              "      <td>False</td>\n",
              "      <td>False</td>\n",
              "      <td>False</td>\n",
              "    </tr>\n",
              "    <tr>\n",
              "      <th>2</th>\n",
              "      <td>False</td>\n",
              "      <td>False</td>\n",
              "      <td>False</td>\n",
              "      <td>False</td>\n",
              "      <td>False</td>\n",
              "    </tr>\n",
              "    <tr>\n",
              "      <th>3</th>\n",
              "      <td>False</td>\n",
              "      <td>False</td>\n",
              "      <td>False</td>\n",
              "      <td>False</td>\n",
              "      <td>False</td>\n",
              "    </tr>\n",
              "    <tr>\n",
              "      <th>4</th>\n",
              "      <td>False</td>\n",
              "      <td>False</td>\n",
              "      <td>False</td>\n",
              "      <td>False</td>\n",
              "      <td>False</td>\n",
              "    </tr>\n",
              "    <tr>\n",
              "      <th>...</th>\n",
              "      <td>...</td>\n",
              "      <td>...</td>\n",
              "      <td>...</td>\n",
              "      <td>...</td>\n",
              "      <td>...</td>\n",
              "    </tr>\n",
              "    <tr>\n",
              "      <th>4330</th>\n",
              "      <td>False</td>\n",
              "      <td>False</td>\n",
              "      <td>False</td>\n",
              "      <td>False</td>\n",
              "      <td>False</td>\n",
              "    </tr>\n",
              "    <tr>\n",
              "      <th>4331</th>\n",
              "      <td>False</td>\n",
              "      <td>False</td>\n",
              "      <td>False</td>\n",
              "      <td>False</td>\n",
              "      <td>True</td>\n",
              "    </tr>\n",
              "    <tr>\n",
              "      <th>4332</th>\n",
              "      <td>False</td>\n",
              "      <td>False</td>\n",
              "      <td>False</td>\n",
              "      <td>False</td>\n",
              "      <td>False</td>\n",
              "    </tr>\n",
              "    <tr>\n",
              "      <th>4333</th>\n",
              "      <td>False</td>\n",
              "      <td>False</td>\n",
              "      <td>False</td>\n",
              "      <td>False</td>\n",
              "      <td>True</td>\n",
              "    </tr>\n",
              "    <tr>\n",
              "      <th>4334</th>\n",
              "      <td>False</td>\n",
              "      <td>False</td>\n",
              "      <td>False</td>\n",
              "      <td>False</td>\n",
              "      <td>False</td>\n",
              "    </tr>\n",
              "  </tbody>\n",
              "</table>\n",
              "<p>4335 rows × 5 columns</p>\n",
              "</div>"
            ],
            "text/plain": [
              "        지역명   규모구분     연도      월  분양가격(㎡)\n",
              "0     False  False  False  False    False\n",
              "1     False  False  False  False    False\n",
              "2     False  False  False  False    False\n",
              "3     False  False  False  False    False\n",
              "4     False  False  False  False    False\n",
              "...     ...    ...    ...    ...      ...\n",
              "4330  False  False  False  False    False\n",
              "4331  False  False  False  False     True\n",
              "4332  False  False  False  False    False\n",
              "4333  False  False  False  False     True\n",
              "4334  False  False  False  False    False\n",
              "\n",
              "[4335 rows x 5 columns]"
            ]
          },
          "metadata": {
            "tags": []
          },
          "execution_count": 6
        }
      ]
    },
    {
      "cell_type": "code",
      "metadata": {
        "id": "An3HRKMucGAj",
        "colab_type": "code",
        "colab": {
          "base_uri": "https://localhost:8080/"
        },
        "outputId": "1e006e69-9a3e-425c-cbb5-f69127f3d6f2"
      },
      "source": [
        "df_last.isna().sum() #결측치 개수 반환"
      ],
      "execution_count": null,
      "outputs": [
        {
          "output_type": "execute_result",
          "data": {
            "text/plain": [
              "지역명          0\n",
              "규모구분         0\n",
              "연도           0\n",
              "월            0\n",
              "분양가격(㎡)    277\n",
              "dtype: int64"
            ]
          },
          "metadata": {
            "tags": []
          },
          "execution_count": 7
        }
      ]
    },
    {
      "cell_type": "markdown",
      "metadata": {
        "id": "C1DvjbLncTVN",
        "colab_type": "text"
      },
      "source": [
        "#데이터 타입 변경"
      ]
    },
    {
      "cell_type": "markdown",
      "metadata": {
        "id": "5x9oFqhwcWo7",
        "colab_type": "text"
      },
      "source": [
        "*   분양가격의 데이터 타입: object(문자) > 숫자형으로 변경 \n",
        "*   결측치가 존재하기에, pd.to_numeric() 사용\n",
        "\n"
      ]
    },
    {
      "cell_type": "code",
      "metadata": {
        "id": "3oMuimWtcP_-",
        "colab_type": "code",
        "colab": {}
      },
      "source": [
        "#errors = \"coerce\": 문자가 포함되어 있는 경우는 강제로 'NaN'으 값으로 변환하고, 나머지 숫자로된 문자열은 숫자형으로 변환\n",
        "df_last[\"분양가격\"] = pd.to_numeric(df_last[\"분양가격(㎡)\"], errors = \"coerce\")"
      ],
      "execution_count": null,
      "outputs": []
    },
    {
      "cell_type": "code",
      "metadata": {
        "id": "5Zk4SJ0dchB9",
        "colab_type": "code",
        "colab": {
          "base_uri": "https://localhost:8080/"
        },
        "outputId": "6f2edcd1-1130-439f-b0d4-aa400febfa3b"
      },
      "source": [
        "df_last.info()"
      ],
      "execution_count": null,
      "outputs": [
        {
          "output_type": "stream",
          "text": [
            "<class 'pandas.core.frame.DataFrame'>\n",
            "RangeIndex: 4335 entries, 0 to 4334\n",
            "Data columns (total 6 columns):\n",
            " #   Column   Non-Null Count  Dtype  \n",
            "---  ------   --------------  -----  \n",
            " 0   지역명      4335 non-null   object \n",
            " 1   규모구분     4335 non-null   object \n",
            " 2   연도       4335 non-null   int64  \n",
            " 3   월        4335 non-null   int64  \n",
            " 4   분양가격(㎡)  4058 non-null   object \n",
            " 5   분양가격     3957 non-null   float64\n",
            "dtypes: float64(1), int64(2), object(3)\n",
            "memory usage: 203.3+ KB\n"
          ],
          "name": "stdout"
        }
      ]
    },
    {
      "cell_type": "markdown",
      "metadata": {
        "id": "eQJkiud4wzVz",
        "colab_type": "text"
      },
      "source": [
        "#평당 분양가격 조회"
      ]
    },
    {
      "cell_type": "markdown",
      "metadata": {
        "id": "IKtWdK4JxCJO",
        "colab_type": "text"
      },
      "source": [
        "평당 분양가격 구하기\n",
        "*   평당분양가격 = 분양가격 * 3.3\n",
        "\n"
      ]
    },
    {
      "cell_type": "code",
      "metadata": {
        "id": "YszoMtyQcnRW",
        "colab_type": "code",
        "colab": {
          "base_uri": "https://localhost:8080/"
        },
        "outputId": "4f01116a-9b01-4924-ae7b-c4938d323178"
      },
      "source": [
        "df_last[\"평당분양가격\"] = df_last[\"분양가격\"] * 3.3 #데이터프레임 숫자 연산\n",
        "df_last.head(1)"
      ],
      "execution_count": null,
      "outputs": [
        {
          "output_type": "execute_result",
          "data": {
            "text/html": [
              "<div>\n",
              "<style scoped>\n",
              "    .dataframe tbody tr th:only-of-type {\n",
              "        vertical-align: middle;\n",
              "    }\n",
              "\n",
              "    .dataframe tbody tr th {\n",
              "        vertical-align: top;\n",
              "    }\n",
              "\n",
              "    .dataframe thead th {\n",
              "        text-align: right;\n",
              "    }\n",
              "</style>\n",
              "<table border=\"1\" class=\"dataframe\">\n",
              "  <thead>\n",
              "    <tr style=\"text-align: right;\">\n",
              "      <th></th>\n",
              "      <th>지역명</th>\n",
              "      <th>규모구분</th>\n",
              "      <th>연도</th>\n",
              "      <th>월</th>\n",
              "      <th>분양가격(㎡)</th>\n",
              "      <th>분양가격</th>\n",
              "      <th>평당분양가격</th>\n",
              "    </tr>\n",
              "  </thead>\n",
              "  <tbody>\n",
              "    <tr>\n",
              "      <th>0</th>\n",
              "      <td>서울</td>\n",
              "      <td>전체</td>\n",
              "      <td>2015</td>\n",
              "      <td>10</td>\n",
              "      <td>5841</td>\n",
              "      <td>5841.0</td>\n",
              "      <td>19275.3</td>\n",
              "    </tr>\n",
              "  </tbody>\n",
              "</table>\n",
              "</div>"
            ],
            "text/plain": [
              "  지역명 규모구분    연도   월 분양가격(㎡)    분양가격   평당분양가격\n",
              "0  서울   전체  2015  10    5841  5841.0  19275.3"
            ]
          },
          "metadata": {
            "tags": []
          },
          "execution_count": 10
        }
      ]
    },
    {
      "cell_type": "markdown",
      "metadata": {
        "id": "KXkfrL4vxNQn",
        "colab_type": "text"
      },
      "source": [
        "분양가격 요약하기"
      ]
    },
    {
      "cell_type": "code",
      "metadata": {
        "id": "cE1XMrNaxKj8",
        "colab_type": "code",
        "colab": {
          "base_uri": "https://localhost:8080/"
        },
        "outputId": "8f0f79d3-0e4d-4c20-9bc9-3b44dcf7013d"
      },
      "source": [
        "#object 타입의 분양가격(㎡) 열 요약\n",
        "#.describe() : DataFrame의 계산 가능한 값들에 대한 다양한 계산 값을 반환\n",
        "df_last[\"분양가격(㎡)\"].describe()"
      ],
      "execution_count": null,
      "outputs": [
        {
          "output_type": "execute_result",
          "data": {
            "text/plain": [
              "count     4058\n",
              "unique    1753\n",
              "top       2221\n",
              "freq        17\n",
              "Name: 분양가격(㎡), dtype: object"
            ]
          },
          "metadata": {
            "tags": []
          },
          "execution_count": 11
        }
      ]
    },
    {
      "cell_type": "code",
      "metadata": {
        "id": "oW7xQXjSxRAj",
        "colab_type": "code",
        "colab": {
          "base_uri": "https://localhost:8080/"
        },
        "outputId": "72050d19-0b07-45f7-c4c4-4838d95cc615"
      },
      "source": [
        "#수치 데이터로 변경된 분양가격 열 요약\n",
        "df_last[\"분양가격\"].describe()"
      ],
      "execution_count": null,
      "outputs": [
        {
          "output_type": "execute_result",
          "data": {
            "text/plain": [
              "count     3957.000000\n",
              "mean      3238.128633\n",
              "std       1264.309933\n",
              "min       1868.000000\n",
              "25%       2441.000000\n",
              "50%       2874.000000\n",
              "75%       3561.000000\n",
              "max      12728.000000\n",
              "Name: 분양가격, dtype: float64"
            ]
          },
          "metadata": {
            "tags": []
          },
          "execution_count": 12
        }
      ]
    },
    {
      "cell_type": "markdown",
      "metadata": {
        "id": "ZODMAYfXxWXA",
        "colab_type": "text"
      },
      "source": [
        "#규모구분을 전용면적 컬럼으로 변경"
      ]
    },
    {
      "cell_type": "markdown",
      "metadata": {
        "id": "2PlAfEplxdsQ",
        "colab_type": "text"
      },
      "source": [
        "기존 규모구분의 값에서 전용면적, 초과, 이하 등의 문구를 빼고 간결하게 변경\n",
        "str.replace() "
      ]
    },
    {
      "cell_type": "code",
      "metadata": {
        "id": "u2rL-hCuxoFN",
        "colab_type": "code",
        "colab": {
          "base_uri": "https://localhost:8080/"
        },
        "outputId": "a2e47d19-95a4-45fb-e7d1-d518ba66efba"
      },
      "source": [
        "#규모구분 컬럼 조회\n",
        "df_last[\"규모구분\"]"
      ],
      "execution_count": null,
      "outputs": [
        {
          "output_type": "execute_result",
          "data": {
            "text/plain": [
              "0                      전체\n",
              "1              전용면적 60㎡이하\n",
              "2        전용면적 60㎡초과 85㎡이하\n",
              "3       전용면적 85㎡초과 102㎡이하\n",
              "4             전용면적 102㎡초과\n",
              "              ...        \n",
              "4330                   전체\n",
              "4331           전용면적 60㎡이하\n",
              "4332     전용면적 60㎡초과 85㎡이하\n",
              "4333    전용면적 85㎡초과 102㎡이하\n",
              "4334          전용면적 102㎡초과\n",
              "Name: 규모구분, Length: 4335, dtype: object"
            ]
          },
          "metadata": {
            "tags": []
          },
          "execution_count": 13
        }
      ]
    },
    {
      "cell_type": "code",
      "metadata": {
        "id": "YXSsc7-zxT6j",
        "colab_type": "code",
        "colab": {
          "base_uri": "https://localhost:8080/"
        },
        "outputId": "0d0786d6-3447-4ec7-a993-65781853203a"
      },
      "source": [
        "#.uniqie(): 지정한 행 또는 열에서 중복값을 제외한 유니크한 값만 얻기\n",
        "df_last[\"규모구분\"].unique()"
      ],
      "execution_count": null,
      "outputs": [
        {
          "output_type": "execute_result",
          "data": {
            "text/plain": [
              "array(['전체', '전용면적 60㎡이하', '전용면적 60㎡초과 85㎡이하', '전용면적 85㎡초과 102㎡이하',\n",
              "       '전용면적 102㎡초과'], dtype=object)"
            ]
          },
          "metadata": {
            "tags": []
          },
          "execution_count": 14
        }
      ]
    },
    {
      "cell_type": "code",
      "metadata": {
        "id": "u1dbaeGPxt4A",
        "colab_type": "code",
        "colab": {}
      },
      "source": [
        "#규모구분 컬럼을 문자열로 변환: df_last[\"규모구분\"].str"
      ],
      "execution_count": null,
      "outputs": []
    },
    {
      "cell_type": "code",
      "metadata": {
        "id": "CcATs3J_xiXa",
        "colab_type": "code",
        "colab": {}
      },
      "source": [
        "#전용면적, 초과, 이하 문자열 삭제\n",
        "df_last[\"전용면적\"] = df_last[\"규모구분\"].str.replace(\"전용면적\", \"\")\n",
        "df_last[\"전용면적\"] = df_last[\"전용면적\"].str.replace(\"초과\", \"~\")\n",
        "df_last[\"전용면적\"] = df_last[\"전용면적\"].str.replace(\"이하\", \"\")"
      ],
      "execution_count": null,
      "outputs": []
    },
    {
      "cell_type": "code",
      "metadata": {
        "id": "wi0vvRuDxlZD",
        "colab_type": "code",
        "colab": {}
      },
      "source": [
        "df_last[\"전용면적\"] = df_last[\"전용면적\"].str.replace(\" \", \"\").str.strip() #문자열 앞 뒤 공백 제거"
      ],
      "execution_count": null,
      "outputs": []
    },
    {
      "cell_type": "code",
      "metadata": {
        "id": "sMm7biV7yBI0",
        "colab_type": "code",
        "colab": {
          "base_uri": "https://localhost:8080/"
        },
        "outputId": "c0c2b4f2-bd1c-4615-d08b-4dce19f9a165"
      },
      "source": [
        "df_last[\"전용면적\"]"
      ],
      "execution_count": null,
      "outputs": [
        {
          "output_type": "execute_result",
          "data": {
            "text/plain": [
              "0             전체\n",
              "1            60㎡\n",
              "2        60㎡~85㎡\n",
              "3       85㎡~102㎡\n",
              "4          102㎡~\n",
              "          ...   \n",
              "4330          전체\n",
              "4331         60㎡\n",
              "4332     60㎡~85㎡\n",
              "4333    85㎡~102㎡\n",
              "4334       102㎡~\n",
              "Name: 전용면적, Length: 4335, dtype: object"
            ]
          },
          "metadata": {
            "tags": []
          },
          "execution_count": 18
        }
      ]
    },
    {
      "cell_type": "markdown",
      "metadata": {
        "id": "EmI11BHEx9Pn",
        "colab_type": "text"
      },
      "source": [
        "#필요 없는 컬럼 제거"
      ]
    },
    {
      "cell_type": "markdown",
      "metadata": {
        "id": "HXSm697JyIZ4",
        "colab_type": "text"
      },
      "source": [
        ".drop()\n",
        "* 행: axis = 0\n",
        "* 열: axis = 1"
      ]
    },
    {
      "cell_type": "code",
      "metadata": {
        "id": "HZg3TGCyyE9_",
        "colab_type": "code",
        "colab": {
          "base_uri": "https://localhost:8080/"
        },
        "outputId": "fe51431d-9e81-4021-a5f8-d2f496be1995"
      },
      "source": [
        "#제거 전\n",
        "df_last.info()"
      ],
      "execution_count": null,
      "outputs": [
        {
          "output_type": "stream",
          "text": [
            "<class 'pandas.core.frame.DataFrame'>\n",
            "RangeIndex: 4335 entries, 0 to 4334\n",
            "Data columns (total 8 columns):\n",
            " #   Column   Non-Null Count  Dtype  \n",
            "---  ------   --------------  -----  \n",
            " 0   지역명      4335 non-null   object \n",
            " 1   규모구분     4335 non-null   object \n",
            " 2   연도       4335 non-null   int64  \n",
            " 3   월        4335 non-null   int64  \n",
            " 4   분양가격(㎡)  4058 non-null   object \n",
            " 5   분양가격     3957 non-null   float64\n",
            " 6   평당분양가격   3957 non-null   float64\n",
            " 7   전용면적     4335 non-null   object \n",
            "dtypes: float64(2), int64(2), object(4)\n",
            "memory usage: 271.1+ KB\n"
          ],
          "name": "stdout"
        }
      ]
    },
    {
      "cell_type": "code",
      "metadata": {
        "id": "NaWaxw8tyM5w",
        "colab_type": "code",
        "colab": {}
      },
      "source": [
        "df_last = df_last.drop([\"규모구분\", \"분양가격(㎡)\"], axis = 1)"
      ],
      "execution_count": null,
      "outputs": []
    },
    {
      "cell_type": "code",
      "metadata": {
        "id": "kfbxshT5yYjl",
        "colab_type": "code",
        "colab": {
          "base_uri": "https://localhost:8080/"
        },
        "outputId": "d102928b-349e-496c-aef7-2a6c845255de"
      },
      "source": [
        "df_last"
      ],
      "execution_count": null,
      "outputs": [
        {
          "output_type": "execute_result",
          "data": {
            "text/html": [
              "<div>\n",
              "<style scoped>\n",
              "    .dataframe tbody tr th:only-of-type {\n",
              "        vertical-align: middle;\n",
              "    }\n",
              "\n",
              "    .dataframe tbody tr th {\n",
              "        vertical-align: top;\n",
              "    }\n",
              "\n",
              "    .dataframe thead th {\n",
              "        text-align: right;\n",
              "    }\n",
              "</style>\n",
              "<table border=\"1\" class=\"dataframe\">\n",
              "  <thead>\n",
              "    <tr style=\"text-align: right;\">\n",
              "      <th></th>\n",
              "      <th>지역명</th>\n",
              "      <th>연도</th>\n",
              "      <th>월</th>\n",
              "      <th>분양가격</th>\n",
              "      <th>평당분양가격</th>\n",
              "      <th>전용면적</th>\n",
              "    </tr>\n",
              "  </thead>\n",
              "  <tbody>\n",
              "    <tr>\n",
              "      <th>0</th>\n",
              "      <td>서울</td>\n",
              "      <td>2015</td>\n",
              "      <td>10</td>\n",
              "      <td>5841.0</td>\n",
              "      <td>19275.3</td>\n",
              "      <td>전체</td>\n",
              "    </tr>\n",
              "    <tr>\n",
              "      <th>1</th>\n",
              "      <td>서울</td>\n",
              "      <td>2015</td>\n",
              "      <td>10</td>\n",
              "      <td>5652.0</td>\n",
              "      <td>18651.6</td>\n",
              "      <td>60㎡</td>\n",
              "    </tr>\n",
              "    <tr>\n",
              "      <th>2</th>\n",
              "      <td>서울</td>\n",
              "      <td>2015</td>\n",
              "      <td>10</td>\n",
              "      <td>5882.0</td>\n",
              "      <td>19410.6</td>\n",
              "      <td>60㎡~85㎡</td>\n",
              "    </tr>\n",
              "    <tr>\n",
              "      <th>3</th>\n",
              "      <td>서울</td>\n",
              "      <td>2015</td>\n",
              "      <td>10</td>\n",
              "      <td>5721.0</td>\n",
              "      <td>18879.3</td>\n",
              "      <td>85㎡~102㎡</td>\n",
              "    </tr>\n",
              "    <tr>\n",
              "      <th>4</th>\n",
              "      <td>서울</td>\n",
              "      <td>2015</td>\n",
              "      <td>10</td>\n",
              "      <td>5879.0</td>\n",
              "      <td>19400.7</td>\n",
              "      <td>102㎡~</td>\n",
              "    </tr>\n",
              "    <tr>\n",
              "      <th>...</th>\n",
              "      <td>...</td>\n",
              "      <td>...</td>\n",
              "      <td>...</td>\n",
              "      <td>...</td>\n",
              "      <td>...</td>\n",
              "      <td>...</td>\n",
              "    </tr>\n",
              "    <tr>\n",
              "      <th>4330</th>\n",
              "      <td>제주</td>\n",
              "      <td>2019</td>\n",
              "      <td>12</td>\n",
              "      <td>3882.0</td>\n",
              "      <td>12810.6</td>\n",
              "      <td>전체</td>\n",
              "    </tr>\n",
              "    <tr>\n",
              "      <th>4331</th>\n",
              "      <td>제주</td>\n",
              "      <td>2019</td>\n",
              "      <td>12</td>\n",
              "      <td>NaN</td>\n",
              "      <td>NaN</td>\n",
              "      <td>60㎡</td>\n",
              "    </tr>\n",
              "    <tr>\n",
              "      <th>4332</th>\n",
              "      <td>제주</td>\n",
              "      <td>2019</td>\n",
              "      <td>12</td>\n",
              "      <td>3898.0</td>\n",
              "      <td>12863.4</td>\n",
              "      <td>60㎡~85㎡</td>\n",
              "    </tr>\n",
              "    <tr>\n",
              "      <th>4333</th>\n",
              "      <td>제주</td>\n",
              "      <td>2019</td>\n",
              "      <td>12</td>\n",
              "      <td>NaN</td>\n",
              "      <td>NaN</td>\n",
              "      <td>85㎡~102㎡</td>\n",
              "    </tr>\n",
              "    <tr>\n",
              "      <th>4334</th>\n",
              "      <td>제주</td>\n",
              "      <td>2019</td>\n",
              "      <td>12</td>\n",
              "      <td>3601.0</td>\n",
              "      <td>11883.3</td>\n",
              "      <td>102㎡~</td>\n",
              "    </tr>\n",
              "  </tbody>\n",
              "</table>\n",
              "<p>4335 rows × 6 columns</p>\n",
              "</div>"
            ],
            "text/plain": [
              "     지역명    연도   월    분양가격   평당분양가격      전용면적\n",
              "0     서울  2015  10  5841.0  19275.3        전체\n",
              "1     서울  2015  10  5652.0  18651.6       60㎡\n",
              "2     서울  2015  10  5882.0  19410.6   60㎡~85㎡\n",
              "3     서울  2015  10  5721.0  18879.3  85㎡~102㎡\n",
              "4     서울  2015  10  5879.0  19400.7     102㎡~\n",
              "...   ..   ...  ..     ...      ...       ...\n",
              "4330  제주  2019  12  3882.0  12810.6        전체\n",
              "4331  제주  2019  12     NaN      NaN       60㎡\n",
              "4332  제주  2019  12  3898.0  12863.4   60㎡~85㎡\n",
              "4333  제주  2019  12     NaN      NaN  85㎡~102㎡\n",
              "4334  제주  2019  12  3601.0  11883.3     102㎡~\n",
              "\n",
              "[4335 rows x 6 columns]"
            ]
          },
          "metadata": {
            "tags": []
          },
          "execution_count": 21
        }
      ]
    },
    {
      "cell_type": "code",
      "metadata": {
        "id": "wgaC0MYoyOo2",
        "colab_type": "code",
        "colab": {
          "base_uri": "https://localhost:8080/"
        },
        "outputId": "26da7da6-a390-4e71-a24e-affa72ec170c"
      },
      "source": [
        "df_last.info() #제거 후 - 메모리 사용량 감소"
      ],
      "execution_count": null,
      "outputs": [
        {
          "output_type": "stream",
          "text": [
            "<class 'pandas.core.frame.DataFrame'>\n",
            "RangeIndex: 4335 entries, 0 to 4334\n",
            "Data columns (total 6 columns):\n",
            " #   Column  Non-Null Count  Dtype  \n",
            "---  ------  --------------  -----  \n",
            " 0   지역명     4335 non-null   object \n",
            " 1   연도      4335 non-null   int64  \n",
            " 2   월       4335 non-null   int64  \n",
            " 3   분양가격    3957 non-null   float64\n",
            " 4   평당분양가격  3957 non-null   float64\n",
            " 5   전용면적    4335 non-null   object \n",
            "dtypes: float64(2), int64(2), object(2)\n",
            "memory usage: 203.3+ KB\n"
          ],
          "name": "stdout"
        }
      ]
    },
    {
      "cell_type": "markdown",
      "metadata": {
        "id": "moy9udW2yfaY",
        "colab_type": "text"
      },
      "source": [
        "#집계하기"
      ]
    },
    {
      "cell_type": "markdown",
      "metadata": {
        "id": "AXuVFJOQeKQW",
        "colab_type": "text"
      },
      "source": [
        "##groupby 연습(교재)"
      ]
    },
    {
      "cell_type": "markdown",
      "metadata": {
        "id": "gKEPfJu_eXju",
        "colab_type": "text"
      },
      "source": [
        "그룹 객체 만들기(분할 단계)"
      ]
    },
    {
      "cell_type": "code",
      "metadata": {
        "id": "o29Wk-7QeNJd",
        "colab_type": "code",
        "colab": {
          "base_uri": "https://localhost:8080/"
        },
        "outputId": "fd5f5f8d-a2e1-4761-d2ac-97d97eca3223"
      },
      "source": [
        "import seaborn as sns\n",
        "titanic = sns.load_dataset(\"titanic\")\n",
        "df = titanic.loc[:, [\"age\", \"sex\", \"class\", \"fare\", \"survived\"]]\n",
        "\n",
        "df.head()"
      ],
      "execution_count": null,
      "outputs": [
        {
          "output_type": "stream",
          "text": [
            "/usr/local/lib/python3.6/dist-packages/statsmodels/tools/_testing.py:19: FutureWarning: pandas.util.testing is deprecated. Use the functions in the public API at pandas.testing instead.\n",
            "  import pandas.util.testing as tm\n"
          ],
          "name": "stderr"
        },
        {
          "output_type": "execute_result",
          "data": {
            "text/html": [
              "<div>\n",
              "<style scoped>\n",
              "    .dataframe tbody tr th:only-of-type {\n",
              "        vertical-align: middle;\n",
              "    }\n",
              "\n",
              "    .dataframe tbody tr th {\n",
              "        vertical-align: top;\n",
              "    }\n",
              "\n",
              "    .dataframe thead th {\n",
              "        text-align: right;\n",
              "    }\n",
              "</style>\n",
              "<table border=\"1\" class=\"dataframe\">\n",
              "  <thead>\n",
              "    <tr style=\"text-align: right;\">\n",
              "      <th></th>\n",
              "      <th>age</th>\n",
              "      <th>sex</th>\n",
              "      <th>class</th>\n",
              "      <th>fare</th>\n",
              "      <th>survived</th>\n",
              "    </tr>\n",
              "  </thead>\n",
              "  <tbody>\n",
              "    <tr>\n",
              "      <th>0</th>\n",
              "      <td>22.0</td>\n",
              "      <td>male</td>\n",
              "      <td>Third</td>\n",
              "      <td>7.2500</td>\n",
              "      <td>0</td>\n",
              "    </tr>\n",
              "    <tr>\n",
              "      <th>1</th>\n",
              "      <td>38.0</td>\n",
              "      <td>female</td>\n",
              "      <td>First</td>\n",
              "      <td>71.2833</td>\n",
              "      <td>1</td>\n",
              "    </tr>\n",
              "    <tr>\n",
              "      <th>2</th>\n",
              "      <td>26.0</td>\n",
              "      <td>female</td>\n",
              "      <td>Third</td>\n",
              "      <td>7.9250</td>\n",
              "      <td>1</td>\n",
              "    </tr>\n",
              "    <tr>\n",
              "      <th>3</th>\n",
              "      <td>35.0</td>\n",
              "      <td>female</td>\n",
              "      <td>First</td>\n",
              "      <td>53.1000</td>\n",
              "      <td>1</td>\n",
              "    </tr>\n",
              "    <tr>\n",
              "      <th>4</th>\n",
              "      <td>35.0</td>\n",
              "      <td>male</td>\n",
              "      <td>Third</td>\n",
              "      <td>8.0500</td>\n",
              "      <td>0</td>\n",
              "    </tr>\n",
              "  </tbody>\n",
              "</table>\n",
              "</div>"
            ],
            "text/plain": [
              "    age     sex  class     fare  survived\n",
              "0  22.0    male  Third   7.2500         0\n",
              "1  38.0  female  First  71.2833         1\n",
              "2  26.0  female  Third   7.9250         1\n",
              "3  35.0  female  First  53.1000         1\n",
              "4  35.0    male  Third   8.0500         0"
            ]
          },
          "metadata": {
            "tags": []
          },
          "execution_count": 23
        }
      ]
    },
    {
      "cell_type": "code",
      "metadata": {
        "id": "9ArzuQ1feybu",
        "colab_type": "code",
        "colab": {
          "base_uri": "https://localhost:8080/"
        },
        "outputId": "4a2bdbee-ca78-441b-ea83-9a4edf9cc71b"
      },
      "source": [
        "#1개의 열 \"class\"를 기준으로 그룹화 \n",
        "grouped = df.groupby([\"class\"])\n",
        "grouped"
      ],
      "execution_count": null,
      "outputs": [
        {
          "output_type": "execute_result",
          "data": {
            "text/plain": [
              "<pandas.core.groupby.generic.DataFrameGroupBy object at 0x7f31953a84a8>"
            ]
          },
          "metadata": {
            "tags": []
          },
          "execution_count": 24
        }
      ]
    },
    {
      "cell_type": "code",
      "metadata": {
        "id": "LEF3JtmQfAwP",
        "colab_type": "code",
        "colab": {
          "base_uri": "https://localhost:8080/"
        },
        "outputId": "ca81bc10-0dbe-4cd0-adc7-58d2b597bcaf"
      },
      "source": [
        "#그룹 연산 - 분할\n",
        "for key, group in grouped:\n",
        "  print(\"* key: \", key)\n",
        "  print(\"* number: \", len(group))\n",
        "  print(group.head(), \"\\n\")\n",
        "\n",
        "#연산메소드 적용\n",
        "average = grouped.mean()\n",
        "print(average)"
      ],
      "execution_count": null,
      "outputs": [
        {
          "output_type": "stream",
          "text": [
            "* key:  First\n",
            "* number:  216\n",
            "     age     sex  class     fare  survived\n",
            "1   38.0  female  First  71.2833         1\n",
            "3   35.0  female  First  53.1000         1\n",
            "6   54.0    male  First  51.8625         0\n",
            "11  58.0  female  First  26.5500         1\n",
            "23  28.0    male  First  35.5000         1 \n",
            "\n",
            "* key:  Second\n",
            "* number:  184\n",
            "     age     sex   class     fare  survived\n",
            "9   14.0  female  Second  30.0708         1\n",
            "15  55.0  female  Second  16.0000         1\n",
            "17   NaN    male  Second  13.0000         1\n",
            "20  35.0    male  Second  26.0000         0\n",
            "21  34.0    male  Second  13.0000         1 \n",
            "\n",
            "* key:  Third\n",
            "* number:  491\n",
            "    age     sex  class     fare  survived\n",
            "0  22.0    male  Third   7.2500         0\n",
            "2  26.0  female  Third   7.9250         1\n",
            "4  35.0    male  Third   8.0500         0\n",
            "5   NaN    male  Third   8.4583         0\n",
            "7   2.0    male  Third  21.0750         0 \n",
            "\n",
            "              age       fare  survived\n",
            "class                                 \n",
            "First   38.233441  84.154687  0.629630\n",
            "Second  29.877630  20.662183  0.472826\n",
            "Third   25.140620  13.675550  0.242363\n"
          ],
          "name": "stdout"
        }
      ]
    },
    {
      "cell_type": "code",
      "metadata": {
        "id": "oA9AXQhKfUjZ",
        "colab_type": "code",
        "colab": {
          "base_uri": "https://localhost:8080/"
        },
        "outputId": "31819898-f22a-47a0-ed44-e453e7d1f219"
      },
      "source": [
        "#특정 그룹만 선택하기: .get_group(\"그룹명\")\n",
        "group3 = grouped.get_group(\"Third\") #3등석 데이터만 추출\n",
        "group3.head()"
      ],
      "execution_count": null,
      "outputs": [
        {
          "output_type": "execute_result",
          "data": {
            "text/html": [
              "<div>\n",
              "<style scoped>\n",
              "    .dataframe tbody tr th:only-of-type {\n",
              "        vertical-align: middle;\n",
              "    }\n",
              "\n",
              "    .dataframe tbody tr th {\n",
              "        vertical-align: top;\n",
              "    }\n",
              "\n",
              "    .dataframe thead th {\n",
              "        text-align: right;\n",
              "    }\n",
              "</style>\n",
              "<table border=\"1\" class=\"dataframe\">\n",
              "  <thead>\n",
              "    <tr style=\"text-align: right;\">\n",
              "      <th></th>\n",
              "      <th>age</th>\n",
              "      <th>sex</th>\n",
              "      <th>class</th>\n",
              "      <th>fare</th>\n",
              "      <th>survived</th>\n",
              "    </tr>\n",
              "  </thead>\n",
              "  <tbody>\n",
              "    <tr>\n",
              "      <th>0</th>\n",
              "      <td>22.0</td>\n",
              "      <td>male</td>\n",
              "      <td>Third</td>\n",
              "      <td>7.2500</td>\n",
              "      <td>0</td>\n",
              "    </tr>\n",
              "    <tr>\n",
              "      <th>2</th>\n",
              "      <td>26.0</td>\n",
              "      <td>female</td>\n",
              "      <td>Third</td>\n",
              "      <td>7.9250</td>\n",
              "      <td>1</td>\n",
              "    </tr>\n",
              "    <tr>\n",
              "      <th>4</th>\n",
              "      <td>35.0</td>\n",
              "      <td>male</td>\n",
              "      <td>Third</td>\n",
              "      <td>8.0500</td>\n",
              "      <td>0</td>\n",
              "    </tr>\n",
              "    <tr>\n",
              "      <th>5</th>\n",
              "      <td>NaN</td>\n",
              "      <td>male</td>\n",
              "      <td>Third</td>\n",
              "      <td>8.4583</td>\n",
              "      <td>0</td>\n",
              "    </tr>\n",
              "    <tr>\n",
              "      <th>7</th>\n",
              "      <td>2.0</td>\n",
              "      <td>male</td>\n",
              "      <td>Third</td>\n",
              "      <td>21.0750</td>\n",
              "      <td>0</td>\n",
              "    </tr>\n",
              "  </tbody>\n",
              "</table>\n",
              "</div>"
            ],
            "text/plain": [
              "    age     sex  class     fare  survived\n",
              "0  22.0    male  Third   7.2500         0\n",
              "2  26.0  female  Third   7.9250         1\n",
              "4  35.0    male  Third   8.0500         0\n",
              "5   NaN    male  Third   8.4583         0\n",
              "7   2.0    male  Third  21.0750         0"
            ]
          },
          "metadata": {
            "tags": []
          },
          "execution_count": 26
        }
      ]
    },
    {
      "cell_type": "code",
      "metadata": {
        "id": "lDLpr5tef2G3",
        "colab_type": "code",
        "colab": {
          "base_uri": "https://localhost:8080/"
        },
        "outputId": "dca341e6-cc45-4665-c14c-3088190770cf"
      },
      "source": [
        "#여러 열을 기준으로 그룹화 \n",
        "grouped_two = df.groupby([\"class\", \"sex\"])\n",
        "\n",
        "for key, group in grouped_two:\n",
        "  print(\"* key: \", key)\n",
        "  print(\"* number: \", len(group))\n",
        "  print(group.head(), \"\\n\")\n",
        "\n",
        "#연산 메소드 적용\n",
        "average_two = grouped_two.mean()\n",
        "print(type(average_two))\n",
        "print(average_two)"
      ],
      "execution_count": null,
      "outputs": [
        {
          "output_type": "stream",
          "text": [
            "* key:  ('First', 'female')\n",
            "* number:  94\n",
            "     age     sex  class      fare  survived\n",
            "1   38.0  female  First   71.2833         1\n",
            "3   35.0  female  First   53.1000         1\n",
            "11  58.0  female  First   26.5500         1\n",
            "31   NaN  female  First  146.5208         1\n",
            "52  49.0  female  First   76.7292         1 \n",
            "\n",
            "* key:  ('First', 'male')\n",
            "* number:  122\n",
            "     age   sex  class      fare  survived\n",
            "6   54.0  male  First   51.8625         0\n",
            "23  28.0  male  First   35.5000         1\n",
            "27  19.0  male  First  263.0000         0\n",
            "30  40.0  male  First   27.7208         0\n",
            "34  28.0  male  First   82.1708         0 \n",
            "\n",
            "* key:  ('Second', 'female')\n",
            "* number:  76\n",
            "     age     sex   class     fare  survived\n",
            "9   14.0  female  Second  30.0708         1\n",
            "15  55.0  female  Second  16.0000         1\n",
            "41  27.0  female  Second  21.0000         0\n",
            "43   3.0  female  Second  41.5792         1\n",
            "53  29.0  female  Second  26.0000         1 \n",
            "\n",
            "* key:  ('Second', 'male')\n",
            "* number:  108\n",
            "     age   sex   class  fare  survived\n",
            "17   NaN  male  Second  13.0         1\n",
            "20  35.0  male  Second  26.0         0\n",
            "21  34.0  male  Second  13.0         1\n",
            "33  66.0  male  Second  10.5         0\n",
            "70  32.0  male  Second  10.5         0 \n",
            "\n",
            "* key:  ('Third', 'female')\n",
            "* number:  144\n",
            "     age     sex  class     fare  survived\n",
            "2   26.0  female  Third   7.9250         1\n",
            "8   27.0  female  Third  11.1333         1\n",
            "10   4.0  female  Third  16.7000         1\n",
            "14  14.0  female  Third   7.8542         0\n",
            "18  31.0  female  Third  18.0000         0 \n",
            "\n",
            "* key:  ('Third', 'male')\n",
            "* number:  347\n",
            "     age   sex  class     fare  survived\n",
            "0   22.0  male  Third   7.2500         0\n",
            "4   35.0  male  Third   8.0500         0\n",
            "5    NaN  male  Third   8.4583         0\n",
            "7    2.0  male  Third  21.0750         0\n",
            "12  20.0  male  Third   8.0500         0 \n",
            "\n",
            "<class 'pandas.core.frame.DataFrame'>\n",
            "                     age        fare  survived\n",
            "class  sex                                    \n",
            "First  female  34.611765  106.125798  0.968085\n",
            "       male    41.281386   67.226127  0.368852\n",
            "Second female  28.722973   21.970121  0.921053\n",
            "       male    30.740707   19.741782  0.157407\n",
            "Third  female  21.750000   16.118810  0.500000\n",
            "       male    26.507589   12.661633  0.135447\n"
          ],
          "name": "stdout"
        }
      ]
    },
    {
      "cell_type": "code",
      "metadata": {
        "id": "oA10Yyfrgbb_",
        "colab_type": "code",
        "colab": {
          "base_uri": "https://localhost:8080/"
        },
        "outputId": "773530a4-be28-4ddb-ca50-79c7a0892188"
      },
      "source": [
        "#개별 그룹 선택하기\n",
        "group3f = grouped_two.get_group((\"Third\", \"female\")) #3등석 여성 데이터만 추출\n",
        "group3f.head()"
      ],
      "execution_count": null,
      "outputs": [
        {
          "output_type": "execute_result",
          "data": {
            "text/html": [
              "<div>\n",
              "<style scoped>\n",
              "    .dataframe tbody tr th:only-of-type {\n",
              "        vertical-align: middle;\n",
              "    }\n",
              "\n",
              "    .dataframe tbody tr th {\n",
              "        vertical-align: top;\n",
              "    }\n",
              "\n",
              "    .dataframe thead th {\n",
              "        text-align: right;\n",
              "    }\n",
              "</style>\n",
              "<table border=\"1\" class=\"dataframe\">\n",
              "  <thead>\n",
              "    <tr style=\"text-align: right;\">\n",
              "      <th></th>\n",
              "      <th>age</th>\n",
              "      <th>sex</th>\n",
              "      <th>class</th>\n",
              "      <th>fare</th>\n",
              "      <th>survived</th>\n",
              "    </tr>\n",
              "  </thead>\n",
              "  <tbody>\n",
              "    <tr>\n",
              "      <th>2</th>\n",
              "      <td>26.0</td>\n",
              "      <td>female</td>\n",
              "      <td>Third</td>\n",
              "      <td>7.9250</td>\n",
              "      <td>1</td>\n",
              "    </tr>\n",
              "    <tr>\n",
              "      <th>8</th>\n",
              "      <td>27.0</td>\n",
              "      <td>female</td>\n",
              "      <td>Third</td>\n",
              "      <td>11.1333</td>\n",
              "      <td>1</td>\n",
              "    </tr>\n",
              "    <tr>\n",
              "      <th>10</th>\n",
              "      <td>4.0</td>\n",
              "      <td>female</td>\n",
              "      <td>Third</td>\n",
              "      <td>16.7000</td>\n",
              "      <td>1</td>\n",
              "    </tr>\n",
              "    <tr>\n",
              "      <th>14</th>\n",
              "      <td>14.0</td>\n",
              "      <td>female</td>\n",
              "      <td>Third</td>\n",
              "      <td>7.8542</td>\n",
              "      <td>0</td>\n",
              "    </tr>\n",
              "    <tr>\n",
              "      <th>18</th>\n",
              "      <td>31.0</td>\n",
              "      <td>female</td>\n",
              "      <td>Third</td>\n",
              "      <td>18.0000</td>\n",
              "      <td>0</td>\n",
              "    </tr>\n",
              "  </tbody>\n",
              "</table>\n",
              "</div>"
            ],
            "text/plain": [
              "     age     sex  class     fare  survived\n",
              "2   26.0  female  Third   7.9250         1\n",
              "8   27.0  female  Third  11.1333         1\n",
              "10   4.0  female  Third  16.7000         1\n",
              "14  14.0  female  Third   7.8542         0\n",
              "18  31.0  female  Third  18.0000         0"
            ]
          },
          "metadata": {
            "tags": []
          },
          "execution_count": 28
        }
      ]
    },
    {
      "cell_type": "markdown",
      "metadata": {
        "id": "H_QWpSg9gs4M",
        "colab_type": "text"
      },
      "source": [
        "그룹 연산 메소드(적용-결합 단계)"
      ]
    },
    {
      "cell_type": "code",
      "metadata": {
        "id": "exh8ODJZgvMT",
        "colab_type": "code",
        "colab": {
          "base_uri": "https://localhost:8080/"
        },
        "outputId": "1d5d1052-8dab-466e-f442-78f443d47435"
      },
      "source": [
        "std_all = grouped.std() #각 그룹 모든 열에 대한 표준편차를 집계, 데이터프레임으로 변한\n",
        "std_all"
      ],
      "execution_count": null,
      "outputs": [
        {
          "output_type": "execute_result",
          "data": {
            "text/html": [
              "<div>\n",
              "<style scoped>\n",
              "    .dataframe tbody tr th:only-of-type {\n",
              "        vertical-align: middle;\n",
              "    }\n",
              "\n",
              "    .dataframe tbody tr th {\n",
              "        vertical-align: top;\n",
              "    }\n",
              "\n",
              "    .dataframe thead th {\n",
              "        text-align: right;\n",
              "    }\n",
              "</style>\n",
              "<table border=\"1\" class=\"dataframe\">\n",
              "  <thead>\n",
              "    <tr style=\"text-align: right;\">\n",
              "      <th></th>\n",
              "      <th>age</th>\n",
              "      <th>fare</th>\n",
              "      <th>survived</th>\n",
              "    </tr>\n",
              "    <tr>\n",
              "      <th>class</th>\n",
              "      <th></th>\n",
              "      <th></th>\n",
              "      <th></th>\n",
              "    </tr>\n",
              "  </thead>\n",
              "  <tbody>\n",
              "    <tr>\n",
              "      <th>First</th>\n",
              "      <td>14.802856</td>\n",
              "      <td>78.380373</td>\n",
              "      <td>0.484026</td>\n",
              "    </tr>\n",
              "    <tr>\n",
              "      <th>Second</th>\n",
              "      <td>14.001077</td>\n",
              "      <td>13.417399</td>\n",
              "      <td>0.500623</td>\n",
              "    </tr>\n",
              "    <tr>\n",
              "      <th>Third</th>\n",
              "      <td>12.495398</td>\n",
              "      <td>11.778142</td>\n",
              "      <td>0.428949</td>\n",
              "    </tr>\n",
              "  </tbody>\n",
              "</table>\n",
              "</div>"
            ],
            "text/plain": [
              "              age       fare  survived\n",
              "class                                 \n",
              "First   14.802856  78.380373  0.484026\n",
              "Second  14.001077  13.417399  0.500623\n",
              "Third   12.495398  11.778142  0.428949"
            ]
          },
          "metadata": {
            "tags": []
          },
          "execution_count": 29
        }
      ]
    },
    {
      "cell_type": "code",
      "metadata": {
        "id": "gv1g9lzkg7Y8",
        "colab_type": "code",
        "colab": {
          "base_uri": "https://localhost:8080/"
        },
        "outputId": "adb8063a-3446-4fa2-a87b-ba2f6dc451c8"
      },
      "source": [
        "std_fare = grouped.fare.std() #각 그룹에 대한 fare 열의 표준편차 집계, 시리즈로 변환\n",
        "std_fare"
      ],
      "execution_count": null,
      "outputs": [
        {
          "output_type": "execute_result",
          "data": {
            "text/plain": [
              "class\n",
              "First     78.380373\n",
              "Second    13.417399\n",
              "Third     11.778142\n",
              "Name: fare, dtype: float64"
            ]
          },
          "metadata": {
            "tags": []
          },
          "execution_count": 30
        }
      ]
    },
    {
      "cell_type": "markdown",
      "metadata": {
        "id": "oTuCbV6kykdJ",
        "colab_type": "text"
      },
      "source": [
        "## groupby로 데이터 집계하기: 데이터 그룹화 & 연산"
      ]
    },
    {
      "cell_type": "code",
      "metadata": {
        "id": "Yk1XDu1CyebE",
        "colab_type": "code",
        "colab": {
          "base_uri": "https://localhost:8080/"
        },
        "outputId": "a26a77d2-1559-48b0-fb09-36b0d9c84128"
      },
      "source": [
        "#지역명을 기준으로 분양가격의 평균을 구함\n",
        "#df.groupby([\"인덱스로 사용할 컬럼명\"])[\"계산할 컬럼 값\"].연산()\n",
        "df_last.groupby([\"지역명\"])[\"평당분양가격\"].mean()"
      ],
      "execution_count": null,
      "outputs": [
        {
          "output_type": "execute_result",
          "data": {
            "text/plain": [
              "지역명\n",
              "강원     7890.750000\n",
              "경기    13356.895200\n",
              "경남     9268.778138\n",
              "경북     8376.536515\n",
              "광주     9951.535821\n",
              "대구    11980.895455\n",
              "대전    10253.333333\n",
              "부산    12087.121200\n",
              "서울    23599.976400\n",
              "세종     9796.516456\n",
              "울산    10014.902013\n",
              "인천    11915.320732\n",
              "전남     7565.316532\n",
              "전북     7724.235484\n",
              "제주    11241.276712\n",
              "충남     8233.651883\n",
              "충북     7634.655600\n",
              "Name: 평당분양가격, dtype: float64"
            ]
          },
          "metadata": {
            "tags": []
          },
          "execution_count": 31
        }
      ]
    },
    {
      "cell_type": "code",
      "metadata": {
        "id": "0CZouuxEyna7",
        "colab_type": "code",
        "colab": {
          "base_uri": "https://localhost:8080/"
        },
        "outputId": "c8178b92-5f07-4165-8689-9341efa7fdfd"
      },
      "source": [
        "#전용면적을 기준으로 분양가격의 평균 구하기\n",
        "df_last.groupby([\"전용면적\"])[\"평당분양가격\"].mean()"
      ],
      "execution_count": null,
      "outputs": [
        {
          "output_type": "execute_result",
          "data": {
            "text/plain": [
              "전용면적\n",
              "102㎡~       11517.705634\n",
              "60㎡         10375.137421\n",
              "60㎡~85㎡     10271.040071\n",
              "85㎡~102㎡    11097.599573\n",
              "전체          10276.086207\n",
              "Name: 평당분양가격, dtype: float64"
            ]
          },
          "metadata": {
            "tags": []
          },
          "execution_count": 32
        }
      ]
    },
    {
      "cell_type": "code",
      "metadata": {
        "id": "Eh4iE1h2ypYV",
        "colab_type": "code",
        "colab": {
          "base_uri": "https://localhost:8080/"
        },
        "outputId": "ebfecd4a-6fba-44a4-c3d4-8cf95d11755f"
      },
      "source": [
        "#지역명, 전용면적으로 평당분양가격의 평균을 구함 \n",
        "#.unstack(): 쌓은 것을 옆으로 늘어놓음\n",
        "#.round(): 옵션 미설정 시 소수 첫째자리에서 반올림\n",
        "df_last.groupby([\"전용면적\", \"지역명\"])[\"평당분양가격\"].mean().unstack().round()"
      ],
      "execution_count": null,
      "outputs": [
        {
          "output_type": "execute_result",
          "data": {
            "text/html": [
              "<div>\n",
              "<style scoped>\n",
              "    .dataframe tbody tr th:only-of-type {\n",
              "        vertical-align: middle;\n",
              "    }\n",
              "\n",
              "    .dataframe tbody tr th {\n",
              "        vertical-align: top;\n",
              "    }\n",
              "\n",
              "    .dataframe thead th {\n",
              "        text-align: right;\n",
              "    }\n",
              "</style>\n",
              "<table border=\"1\" class=\"dataframe\">\n",
              "  <thead>\n",
              "    <tr style=\"text-align: right;\">\n",
              "      <th>지역명</th>\n",
              "      <th>강원</th>\n",
              "      <th>경기</th>\n",
              "      <th>경남</th>\n",
              "      <th>경북</th>\n",
              "      <th>광주</th>\n",
              "      <th>대구</th>\n",
              "      <th>대전</th>\n",
              "      <th>부산</th>\n",
              "      <th>서울</th>\n",
              "      <th>세종</th>\n",
              "      <th>울산</th>\n",
              "      <th>인천</th>\n",
              "      <th>전남</th>\n",
              "      <th>전북</th>\n",
              "      <th>제주</th>\n",
              "      <th>충남</th>\n",
              "      <th>충북</th>\n",
              "    </tr>\n",
              "    <tr>\n",
              "      <th>전용면적</th>\n",
              "      <th></th>\n",
              "      <th></th>\n",
              "      <th></th>\n",
              "      <th></th>\n",
              "      <th></th>\n",
              "      <th></th>\n",
              "      <th></th>\n",
              "      <th></th>\n",
              "      <th></th>\n",
              "      <th></th>\n",
              "      <th></th>\n",
              "      <th></th>\n",
              "      <th></th>\n",
              "      <th></th>\n",
              "      <th></th>\n",
              "      <th></th>\n",
              "      <th></th>\n",
              "    </tr>\n",
              "  </thead>\n",
              "  <tbody>\n",
              "    <tr>\n",
              "      <th>102㎡~</th>\n",
              "      <td>8311.0</td>\n",
              "      <td>14772.0</td>\n",
              "      <td>10358.0</td>\n",
              "      <td>9157.0</td>\n",
              "      <td>11042.0</td>\n",
              "      <td>13087.0</td>\n",
              "      <td>14877.0</td>\n",
              "      <td>13208.0</td>\n",
              "      <td>23446.0</td>\n",
              "      <td>10107.0</td>\n",
              "      <td>9974.0</td>\n",
              "      <td>14362.0</td>\n",
              "      <td>8168.0</td>\n",
              "      <td>8194.0</td>\n",
              "      <td>10523.0</td>\n",
              "      <td>8689.0</td>\n",
              "      <td>8195.0</td>\n",
              "    </tr>\n",
              "    <tr>\n",
              "      <th>60㎡</th>\n",
              "      <td>7567.0</td>\n",
              "      <td>13252.0</td>\n",
              "      <td>8689.0</td>\n",
              "      <td>7883.0</td>\n",
              "      <td>9431.0</td>\n",
              "      <td>11992.0</td>\n",
              "      <td>9176.0</td>\n",
              "      <td>11354.0</td>\n",
              "      <td>23213.0</td>\n",
              "      <td>9324.0</td>\n",
              "      <td>9202.0</td>\n",
              "      <td>11241.0</td>\n",
              "      <td>7210.0</td>\n",
              "      <td>7610.0</td>\n",
              "      <td>14022.0</td>\n",
              "      <td>7911.0</td>\n",
              "      <td>7103.0</td>\n",
              "    </tr>\n",
              "    <tr>\n",
              "      <th>60㎡~85㎡</th>\n",
              "      <td>7486.0</td>\n",
              "      <td>12524.0</td>\n",
              "      <td>8619.0</td>\n",
              "      <td>8061.0</td>\n",
              "      <td>9911.0</td>\n",
              "      <td>11779.0</td>\n",
              "      <td>9711.0</td>\n",
              "      <td>11865.0</td>\n",
              "      <td>22787.0</td>\n",
              "      <td>9775.0</td>\n",
              "      <td>10503.0</td>\n",
              "      <td>11384.0</td>\n",
              "      <td>7269.0</td>\n",
              "      <td>7271.0</td>\n",
              "      <td>10621.0</td>\n",
              "      <td>7819.0</td>\n",
              "      <td>7264.0</td>\n",
              "    </tr>\n",
              "    <tr>\n",
              "      <th>85㎡~102㎡</th>\n",
              "      <td>8750.0</td>\n",
              "      <td>13678.0</td>\n",
              "      <td>10018.0</td>\n",
              "      <td>8774.0</td>\n",
              "      <td>9296.0</td>\n",
              "      <td>11141.0</td>\n",
              "      <td>9037.0</td>\n",
              "      <td>12073.0</td>\n",
              "      <td>25944.0</td>\n",
              "      <td>9848.0</td>\n",
              "      <td>8861.0</td>\n",
              "      <td>11528.0</td>\n",
              "      <td>7909.0</td>\n",
              "      <td>8276.0</td>\n",
              "      <td>10709.0</td>\n",
              "      <td>9120.0</td>\n",
              "      <td>8391.0</td>\n",
              "    </tr>\n",
              "    <tr>\n",
              "      <th>전체</th>\n",
              "      <td>7478.0</td>\n",
              "      <td>12560.0</td>\n",
              "      <td>8659.0</td>\n",
              "      <td>8079.0</td>\n",
              "      <td>9904.0</td>\n",
              "      <td>11771.0</td>\n",
              "      <td>9786.0</td>\n",
              "      <td>11936.0</td>\n",
              "      <td>22610.0</td>\n",
              "      <td>9805.0</td>\n",
              "      <td>10493.0</td>\n",
              "      <td>11257.0</td>\n",
              "      <td>7284.0</td>\n",
              "      <td>7293.0</td>\n",
              "      <td>10785.0</td>\n",
              "      <td>7815.0</td>\n",
              "      <td>7219.0</td>\n",
              "    </tr>\n",
              "  </tbody>\n",
              "</table>\n",
              "</div>"
            ],
            "text/plain": [
              "지역명           강원       경기       경남      경북  ...      전북       제주      충남      충북\n",
              "전용면적                                        ...                                 \n",
              "102㎡~     8311.0  14772.0  10358.0  9157.0  ...  8194.0  10523.0  8689.0  8195.0\n",
              "60㎡       7567.0  13252.0   8689.0  7883.0  ...  7610.0  14022.0  7911.0  7103.0\n",
              "60㎡~85㎡   7486.0  12524.0   8619.0  8061.0  ...  7271.0  10621.0  7819.0  7264.0\n",
              "85㎡~102㎡  8750.0  13678.0  10018.0  8774.0  ...  8276.0  10709.0  9120.0  8391.0\n",
              "전체        7478.0  12560.0   8659.0  8079.0  ...  7293.0  10785.0  7815.0  7219.0\n",
              "\n",
              "[5 rows x 17 columns]"
            ]
          },
          "metadata": {
            "tags": []
          },
          "execution_count": 33
        }
      ]
    },
    {
      "cell_type": "code",
      "metadata": {
        "id": "s18-sxOZysUL",
        "colab_type": "code",
        "colab": {
          "base_uri": "https://localhost:8080/"
        },
        "outputId": "080c9000-b56c-454b-c94a-5b6ef352eda9"
      },
      "source": [
        "#연도, 지역명으로 평당분양가격의 평균을 구함\n",
        "g = df_last.groupby([\"연도\", \"지역명\"])[\"평당분양가격\"].mean()\n",
        "g"
      ],
      "execution_count": null,
      "outputs": [
        {
          "output_type": "execute_result",
          "data": {
            "text/plain": [
              "연도    지역명\n",
              "2015  강원      7188.060000\n",
              "      경기     11060.940000\n",
              "      경남      8459.220000\n",
              "      경북      7464.160000\n",
              "      광주      7916.700000\n",
              "                 ...     \n",
              "2019  전남      8219.275862\n",
              "      전북      8532.260000\n",
              "      제주     11828.469231\n",
              "      충남      8748.840000\n",
              "      충북      7970.875000\n",
              "Name: 평당분양가격, Length: 85, dtype: float64"
            ]
          },
          "metadata": {
            "tags": []
          },
          "execution_count": 34
        }
      ]
    },
    {
      "cell_type": "code",
      "metadata": {
        "id": "5NbY_n5yhiu-",
        "colab_type": "code",
        "colab": {
          "base_uri": "https://localhost:8080/"
        },
        "outputId": "06a225e8-3353-4f47-c3c5-820882541654"
      },
      "source": [
        "g.unstack()"
      ],
      "execution_count": null,
      "outputs": [
        {
          "output_type": "execute_result",
          "data": {
            "text/html": [
              "<div>\n",
              "<style scoped>\n",
              "    .dataframe tbody tr th:only-of-type {\n",
              "        vertical-align: middle;\n",
              "    }\n",
              "\n",
              "    .dataframe tbody tr th {\n",
              "        vertical-align: top;\n",
              "    }\n",
              "\n",
              "    .dataframe thead th {\n",
              "        text-align: right;\n",
              "    }\n",
              "</style>\n",
              "<table border=\"1\" class=\"dataframe\">\n",
              "  <thead>\n",
              "    <tr style=\"text-align: right;\">\n",
              "      <th>지역명</th>\n",
              "      <th>강원</th>\n",
              "      <th>경기</th>\n",
              "      <th>경남</th>\n",
              "      <th>경북</th>\n",
              "      <th>광주</th>\n",
              "      <th>대구</th>\n",
              "      <th>대전</th>\n",
              "      <th>부산</th>\n",
              "      <th>서울</th>\n",
              "      <th>세종</th>\n",
              "      <th>울산</th>\n",
              "      <th>인천</th>\n",
              "      <th>전남</th>\n",
              "      <th>전북</th>\n",
              "      <th>제주</th>\n",
              "      <th>충남</th>\n",
              "      <th>충북</th>\n",
              "    </tr>\n",
              "    <tr>\n",
              "      <th>연도</th>\n",
              "      <th></th>\n",
              "      <th></th>\n",
              "      <th></th>\n",
              "      <th></th>\n",
              "      <th></th>\n",
              "      <th></th>\n",
              "      <th></th>\n",
              "      <th></th>\n",
              "      <th></th>\n",
              "      <th></th>\n",
              "      <th></th>\n",
              "      <th></th>\n",
              "      <th></th>\n",
              "      <th></th>\n",
              "      <th></th>\n",
              "      <th></th>\n",
              "      <th></th>\n",
              "    </tr>\n",
              "  </thead>\n",
              "  <tbody>\n",
              "    <tr>\n",
              "      <th>2015</th>\n",
              "      <td>7188.060000</td>\n",
              "      <td>11060.94</td>\n",
              "      <td>8459.220000</td>\n",
              "      <td>7464.160000</td>\n",
              "      <td>7916.700000</td>\n",
              "      <td>9018.900000</td>\n",
              "      <td>8190.600000</td>\n",
              "      <td>10377.400</td>\n",
              "      <td>20315.680</td>\n",
              "      <td>8765.020000</td>\n",
              "      <td>9367.600000</td>\n",
              "      <td>10976.020000</td>\n",
              "      <td>6798.880000</td>\n",
              "      <td>7110.400000</td>\n",
              "      <td>7951.075000</td>\n",
              "      <td>7689.880000</td>\n",
              "      <td>6828.800</td>\n",
              "    </tr>\n",
              "    <tr>\n",
              "      <th>2016</th>\n",
              "      <td>7162.903846</td>\n",
              "      <td>11684.97</td>\n",
              "      <td>8496.730000</td>\n",
              "      <td>7753.405000</td>\n",
              "      <td>9190.683333</td>\n",
              "      <td>10282.030000</td>\n",
              "      <td>8910.733333</td>\n",
              "      <td>10743.535</td>\n",
              "      <td>21753.435</td>\n",
              "      <td>8857.805000</td>\n",
              "      <td>9582.574138</td>\n",
              "      <td>11099.055000</td>\n",
              "      <td>6936.600000</td>\n",
              "      <td>6906.625000</td>\n",
              "      <td>9567.480000</td>\n",
              "      <td>7958.225000</td>\n",
              "      <td>7133.335</td>\n",
              "    </tr>\n",
              "    <tr>\n",
              "      <th>2017</th>\n",
              "      <td>7273.560000</td>\n",
              "      <td>12304.98</td>\n",
              "      <td>8786.760000</td>\n",
              "      <td>8280.800000</td>\n",
              "      <td>9613.977551</td>\n",
              "      <td>12206.700000</td>\n",
              "      <td>9957.158491</td>\n",
              "      <td>11560.680</td>\n",
              "      <td>21831.060</td>\n",
              "      <td>9132.505556</td>\n",
              "      <td>10666.935714</td>\n",
              "      <td>11640.600000</td>\n",
              "      <td>7372.920000</td>\n",
              "      <td>7398.973585</td>\n",
              "      <td>12566.730000</td>\n",
              "      <td>8198.422222</td>\n",
              "      <td>7473.120</td>\n",
              "    </tr>\n",
              "    <tr>\n",
              "      <th>2018</th>\n",
              "      <td>8219.255000</td>\n",
              "      <td>14258.42</td>\n",
              "      <td>9327.670000</td>\n",
              "      <td>8680.776923</td>\n",
              "      <td>9526.953333</td>\n",
              "      <td>12139.252632</td>\n",
              "      <td>10234.106667</td>\n",
              "      <td>12889.965</td>\n",
              "      <td>23202.245</td>\n",
              "      <td>10340.463158</td>\n",
              "      <td>10241.400000</td>\n",
              "      <td>11881.532143</td>\n",
              "      <td>7929.845000</td>\n",
              "      <td>8174.595000</td>\n",
              "      <td>11935.968000</td>\n",
              "      <td>8201.820000</td>\n",
              "      <td>8149.295</td>\n",
              "    </tr>\n",
              "    <tr>\n",
              "      <th>2019</th>\n",
              "      <td>8934.475000</td>\n",
              "      <td>15665.54</td>\n",
              "      <td>10697.615789</td>\n",
              "      <td>9050.250000</td>\n",
              "      <td>12111.675000</td>\n",
              "      <td>14081.650000</td>\n",
              "      <td>12619.200000</td>\n",
              "      <td>13537.865</td>\n",
              "      <td>28286.830</td>\n",
              "      <td>11299.394118</td>\n",
              "      <td>10216.250000</td>\n",
              "      <td>13249.775000</td>\n",
              "      <td>8219.275862</td>\n",
              "      <td>8532.260000</td>\n",
              "      <td>11828.469231</td>\n",
              "      <td>8748.840000</td>\n",
              "      <td>7970.875</td>\n",
              "    </tr>\n",
              "  </tbody>\n",
              "</table>\n",
              "</div>"
            ],
            "text/plain": [
              "지역명            강원        경기            경남  ...            제주           충남        충북\n",
              "연도                                         ...                                     \n",
              "2015  7188.060000  11060.94   8459.220000  ...   7951.075000  7689.880000  6828.800\n",
              "2016  7162.903846  11684.97   8496.730000  ...   9567.480000  7958.225000  7133.335\n",
              "2017  7273.560000  12304.98   8786.760000  ...  12566.730000  8198.422222  7473.120\n",
              "2018  8219.255000  14258.42   9327.670000  ...  11935.968000  8201.820000  8149.295\n",
              "2019  8934.475000  15665.54  10697.615789  ...  11828.469231  8748.840000  7970.875\n",
              "\n",
              "[5 rows x 17 columns]"
            ]
          },
          "metadata": {
            "tags": []
          },
          "execution_count": 35
        }
      ]
    },
    {
      "cell_type": "code",
      "metadata": {
        "id": "YwTEU1CmywDc",
        "colab_type": "code",
        "colab": {
          "base_uri": "https://localhost:8080/"
        },
        "outputId": "80057fda-e322-476e-c371-d4d531f88936"
      },
      "source": [
        "g.unstack().transpose() #행열 변환"
      ],
      "execution_count": null,
      "outputs": [
        {
          "output_type": "execute_result",
          "data": {
            "text/html": [
              "<div>\n",
              "<style scoped>\n",
              "    .dataframe tbody tr th:only-of-type {\n",
              "        vertical-align: middle;\n",
              "    }\n",
              "\n",
              "    .dataframe tbody tr th {\n",
              "        vertical-align: top;\n",
              "    }\n",
              "\n",
              "    .dataframe thead th {\n",
              "        text-align: right;\n",
              "    }\n",
              "</style>\n",
              "<table border=\"1\" class=\"dataframe\">\n",
              "  <thead>\n",
              "    <tr style=\"text-align: right;\">\n",
              "      <th>연도</th>\n",
              "      <th>2015</th>\n",
              "      <th>2016</th>\n",
              "      <th>2017</th>\n",
              "      <th>2018</th>\n",
              "      <th>2019</th>\n",
              "    </tr>\n",
              "    <tr>\n",
              "      <th>지역명</th>\n",
              "      <th></th>\n",
              "      <th></th>\n",
              "      <th></th>\n",
              "      <th></th>\n",
              "      <th></th>\n",
              "    </tr>\n",
              "  </thead>\n",
              "  <tbody>\n",
              "    <tr>\n",
              "      <th>강원</th>\n",
              "      <td>7188.060</td>\n",
              "      <td>7162.903846</td>\n",
              "      <td>7273.560000</td>\n",
              "      <td>8219.255000</td>\n",
              "      <td>8934.475000</td>\n",
              "    </tr>\n",
              "    <tr>\n",
              "      <th>경기</th>\n",
              "      <td>11060.940</td>\n",
              "      <td>11684.970000</td>\n",
              "      <td>12304.980000</td>\n",
              "      <td>14258.420000</td>\n",
              "      <td>15665.540000</td>\n",
              "    </tr>\n",
              "    <tr>\n",
              "      <th>경남</th>\n",
              "      <td>8459.220</td>\n",
              "      <td>8496.730000</td>\n",
              "      <td>8786.760000</td>\n",
              "      <td>9327.670000</td>\n",
              "      <td>10697.615789</td>\n",
              "    </tr>\n",
              "    <tr>\n",
              "      <th>경북</th>\n",
              "      <td>7464.160</td>\n",
              "      <td>7753.405000</td>\n",
              "      <td>8280.800000</td>\n",
              "      <td>8680.776923</td>\n",
              "      <td>9050.250000</td>\n",
              "    </tr>\n",
              "    <tr>\n",
              "      <th>광주</th>\n",
              "      <td>7916.700</td>\n",
              "      <td>9190.683333</td>\n",
              "      <td>9613.977551</td>\n",
              "      <td>9526.953333</td>\n",
              "      <td>12111.675000</td>\n",
              "    </tr>\n",
              "    <tr>\n",
              "      <th>대구</th>\n",
              "      <td>9018.900</td>\n",
              "      <td>10282.030000</td>\n",
              "      <td>12206.700000</td>\n",
              "      <td>12139.252632</td>\n",
              "      <td>14081.650000</td>\n",
              "    </tr>\n",
              "    <tr>\n",
              "      <th>대전</th>\n",
              "      <td>8190.600</td>\n",
              "      <td>8910.733333</td>\n",
              "      <td>9957.158491</td>\n",
              "      <td>10234.106667</td>\n",
              "      <td>12619.200000</td>\n",
              "    </tr>\n",
              "    <tr>\n",
              "      <th>부산</th>\n",
              "      <td>10377.400</td>\n",
              "      <td>10743.535000</td>\n",
              "      <td>11560.680000</td>\n",
              "      <td>12889.965000</td>\n",
              "      <td>13537.865000</td>\n",
              "    </tr>\n",
              "    <tr>\n",
              "      <th>서울</th>\n",
              "      <td>20315.680</td>\n",
              "      <td>21753.435000</td>\n",
              "      <td>21831.060000</td>\n",
              "      <td>23202.245000</td>\n",
              "      <td>28286.830000</td>\n",
              "    </tr>\n",
              "    <tr>\n",
              "      <th>세종</th>\n",
              "      <td>8765.020</td>\n",
              "      <td>8857.805000</td>\n",
              "      <td>9132.505556</td>\n",
              "      <td>10340.463158</td>\n",
              "      <td>11299.394118</td>\n",
              "    </tr>\n",
              "    <tr>\n",
              "      <th>울산</th>\n",
              "      <td>9367.600</td>\n",
              "      <td>9582.574138</td>\n",
              "      <td>10666.935714</td>\n",
              "      <td>10241.400000</td>\n",
              "      <td>10216.250000</td>\n",
              "    </tr>\n",
              "    <tr>\n",
              "      <th>인천</th>\n",
              "      <td>10976.020</td>\n",
              "      <td>11099.055000</td>\n",
              "      <td>11640.600000</td>\n",
              "      <td>11881.532143</td>\n",
              "      <td>13249.775000</td>\n",
              "    </tr>\n",
              "    <tr>\n",
              "      <th>전남</th>\n",
              "      <td>6798.880</td>\n",
              "      <td>6936.600000</td>\n",
              "      <td>7372.920000</td>\n",
              "      <td>7929.845000</td>\n",
              "      <td>8219.275862</td>\n",
              "    </tr>\n",
              "    <tr>\n",
              "      <th>전북</th>\n",
              "      <td>7110.400</td>\n",
              "      <td>6906.625000</td>\n",
              "      <td>7398.973585</td>\n",
              "      <td>8174.595000</td>\n",
              "      <td>8532.260000</td>\n",
              "    </tr>\n",
              "    <tr>\n",
              "      <th>제주</th>\n",
              "      <td>7951.075</td>\n",
              "      <td>9567.480000</td>\n",
              "      <td>12566.730000</td>\n",
              "      <td>11935.968000</td>\n",
              "      <td>11828.469231</td>\n",
              "    </tr>\n",
              "    <tr>\n",
              "      <th>충남</th>\n",
              "      <td>7689.880</td>\n",
              "      <td>7958.225000</td>\n",
              "      <td>8198.422222</td>\n",
              "      <td>8201.820000</td>\n",
              "      <td>8748.840000</td>\n",
              "    </tr>\n",
              "    <tr>\n",
              "      <th>충북</th>\n",
              "      <td>6828.800</td>\n",
              "      <td>7133.335000</td>\n",
              "      <td>7473.120000</td>\n",
              "      <td>8149.295000</td>\n",
              "      <td>7970.875000</td>\n",
              "    </tr>\n",
              "  </tbody>\n",
              "</table>\n",
              "</div>"
            ],
            "text/plain": [
              "연도        2015          2016          2017          2018          2019\n",
              "지역명                                                                   \n",
              "강원    7188.060   7162.903846   7273.560000   8219.255000   8934.475000\n",
              "경기   11060.940  11684.970000  12304.980000  14258.420000  15665.540000\n",
              "경남    8459.220   8496.730000   8786.760000   9327.670000  10697.615789\n",
              "경북    7464.160   7753.405000   8280.800000   8680.776923   9050.250000\n",
              "광주    7916.700   9190.683333   9613.977551   9526.953333  12111.675000\n",
              "대구    9018.900  10282.030000  12206.700000  12139.252632  14081.650000\n",
              "대전    8190.600   8910.733333   9957.158491  10234.106667  12619.200000\n",
              "부산   10377.400  10743.535000  11560.680000  12889.965000  13537.865000\n",
              "서울   20315.680  21753.435000  21831.060000  23202.245000  28286.830000\n",
              "세종    8765.020   8857.805000   9132.505556  10340.463158  11299.394118\n",
              "울산    9367.600   9582.574138  10666.935714  10241.400000  10216.250000\n",
              "인천   10976.020  11099.055000  11640.600000  11881.532143  13249.775000\n",
              "전남    6798.880   6936.600000   7372.920000   7929.845000   8219.275862\n",
              "전북    7110.400   6906.625000   7398.973585   8174.595000   8532.260000\n",
              "제주    7951.075   9567.480000  12566.730000  11935.968000  11828.469231\n",
              "충남    7689.880   7958.225000   8198.422222   8201.820000   8748.840000\n",
              "충북    6828.800   7133.335000   7473.120000   8149.295000   7970.875000"
            ]
          },
          "metadata": {
            "tags": []
          },
          "execution_count": 36
        }
      ]
    },
    {
      "cell_type": "markdown",
      "metadata": {
        "id": "xngSLe6dhuj1",
        "colab_type": "text"
      },
      "source": [
        "##pivor table 연습(교재)"
      ]
    },
    {
      "cell_type": "code",
      "metadata": {
        "id": "WX6QwutOhyG_",
        "colab_type": "code",
        "colab": {}
      },
      "source": [
        "pd.set_option(\"display.max_columns\", 10)\n",
        "pd.set_option(\"display.max_colwidth\", 20)"
      ],
      "execution_count": null,
      "outputs": []
    },
    {
      "cell_type": "code",
      "metadata": {
        "id": "a1jhqKxViHmb",
        "colab_type": "code",
        "colab": {
          "base_uri": "https://localhost:8080/"
        },
        "outputId": "304db74f-bec8-468a-cae8-551c351daa94"
      },
      "source": [
        "titanic = sns.load_dataset(\"titanic\")\n",
        "df = titanic.loc[:, [\"age\", \"sex\", \"class\", \"fare\", \"survived\"]]\n",
        "\n",
        "pdf1 = pd.pivot_table(\n",
        "    df, #피벗할 데이터프레임\n",
        "    index = \"class\", #행 위치에 들어갈 열\n",
        "    columns = \"sex\", #열 위치에 들어갈 열\n",
        "    values = \"age\", #데이터로 사용할 열\n",
        "    aggfunc = \"mean\" #데이터 집계 함수\n",
        ")\n",
        "\n",
        "pdf1.head()"
      ],
      "execution_count": null,
      "outputs": [
        {
          "output_type": "execute_result",
          "data": {
            "text/html": [
              "<div>\n",
              "<style scoped>\n",
              "    .dataframe tbody tr th:only-of-type {\n",
              "        vertical-align: middle;\n",
              "    }\n",
              "\n",
              "    .dataframe tbody tr th {\n",
              "        vertical-align: top;\n",
              "    }\n",
              "\n",
              "    .dataframe thead th {\n",
              "        text-align: right;\n",
              "    }\n",
              "</style>\n",
              "<table border=\"1\" class=\"dataframe\">\n",
              "  <thead>\n",
              "    <tr style=\"text-align: right;\">\n",
              "      <th>sex</th>\n",
              "      <th>female</th>\n",
              "      <th>male</th>\n",
              "    </tr>\n",
              "    <tr>\n",
              "      <th>class</th>\n",
              "      <th></th>\n",
              "      <th></th>\n",
              "    </tr>\n",
              "  </thead>\n",
              "  <tbody>\n",
              "    <tr>\n",
              "      <th>First</th>\n",
              "      <td>34.611765</td>\n",
              "      <td>41.281386</td>\n",
              "    </tr>\n",
              "    <tr>\n",
              "      <th>Second</th>\n",
              "      <td>28.722973</td>\n",
              "      <td>30.740707</td>\n",
              "    </tr>\n",
              "    <tr>\n",
              "      <th>Third</th>\n",
              "      <td>21.750000</td>\n",
              "      <td>26.507589</td>\n",
              "    </tr>\n",
              "  </tbody>\n",
              "</table>\n",
              "</div>"
            ],
            "text/plain": [
              "sex        female       male\n",
              "class                       \n",
              "First   34.611765  41.281386\n",
              "Second  28.722973  30.740707\n",
              "Third   21.750000  26.507589"
            ]
          },
          "metadata": {
            "tags": []
          },
          "execution_count": 38
        }
      ]
    },
    {
      "cell_type": "code",
      "metadata": {
        "id": "SsDh5Beeite_",
        "colab_type": "code",
        "colab": {
          "base_uri": "https://localhost:8080/"
        },
        "outputId": "a29dcc46-a7f3-46bb-de50-4b7782b2ef86"
      },
      "source": [
        "#집계 함수를 2개 이상 지정 가능\n",
        "pdf2 = pd.pivot_table(\n",
        "    df, #피벗할 데이터프레임\n",
        "    index = \"class\", #행 위치에 들어갈 열\n",
        "    columns = \"sex\", #열 위치에 들어갈 열\n",
        "    values = \"age\", #데이터로 사용할 열\n",
        "    aggfunc = [\"mean\", \"sum\"] #데이터 집계 함수\n",
        ")\n",
        "\n",
        "pdf2.head()"
      ],
      "execution_count": null,
      "outputs": [
        {
          "output_type": "execute_result",
          "data": {
            "text/html": [
              "<div>\n",
              "<style scoped>\n",
              "    .dataframe tbody tr th:only-of-type {\n",
              "        vertical-align: middle;\n",
              "    }\n",
              "\n",
              "    .dataframe tbody tr th {\n",
              "        vertical-align: top;\n",
              "    }\n",
              "\n",
              "    .dataframe thead tr th {\n",
              "        text-align: left;\n",
              "    }\n",
              "\n",
              "    .dataframe thead tr:last-of-type th {\n",
              "        text-align: right;\n",
              "    }\n",
              "</style>\n",
              "<table border=\"1\" class=\"dataframe\">\n",
              "  <thead>\n",
              "    <tr>\n",
              "      <th></th>\n",
              "      <th colspan=\"2\" halign=\"left\">mean</th>\n",
              "      <th colspan=\"2\" halign=\"left\">sum</th>\n",
              "    </tr>\n",
              "    <tr>\n",
              "      <th>sex</th>\n",
              "      <th>female</th>\n",
              "      <th>male</th>\n",
              "      <th>female</th>\n",
              "      <th>male</th>\n",
              "    </tr>\n",
              "    <tr>\n",
              "      <th>class</th>\n",
              "      <th></th>\n",
              "      <th></th>\n",
              "      <th></th>\n",
              "      <th></th>\n",
              "    </tr>\n",
              "  </thead>\n",
              "  <tbody>\n",
              "    <tr>\n",
              "      <th>First</th>\n",
              "      <td>34.611765</td>\n",
              "      <td>41.281386</td>\n",
              "      <td>2942.0</td>\n",
              "      <td>4169.42</td>\n",
              "    </tr>\n",
              "    <tr>\n",
              "      <th>Second</th>\n",
              "      <td>28.722973</td>\n",
              "      <td>30.740707</td>\n",
              "      <td>2125.5</td>\n",
              "      <td>3043.33</td>\n",
              "    </tr>\n",
              "    <tr>\n",
              "      <th>Third</th>\n",
              "      <td>21.750000</td>\n",
              "      <td>26.507589</td>\n",
              "      <td>2218.5</td>\n",
              "      <td>6706.42</td>\n",
              "    </tr>\n",
              "  </tbody>\n",
              "</table>\n",
              "</div>"
            ],
            "text/plain": [
              "             mean                sum         \n",
              "sex        female       male  female     male\n",
              "class                                        \n",
              "First   34.611765  41.281386  2942.0  4169.42\n",
              "Second  28.722973  30.740707  2125.5  3043.33\n",
              "Third   21.750000  26.507589  2218.5  6706.42"
            ]
          },
          "metadata": {
            "tags": []
          },
          "execution_count": 39
        }
      ]
    },
    {
      "cell_type": "code",
      "metadata": {
        "id": "T48M8yczi-QU",
        "colab_type": "code",
        "colab": {
          "base_uri": "https://localhost:8080/"
        },
        "outputId": "7d030a3f-4d0c-4d9a-94a0-7abffae37e64"
      },
      "source": [
        "#행, 열, 값에 사용할 열을 2개 이상 지정 가능 - 평균 나이, 최대 요금 집계\n",
        "pdf3 = pd.pivot_table(\n",
        "    df, #피벗할 데이터프레임\n",
        "    index = [\"class\", \"sex\"], #행 위치에 들어갈 열\n",
        "    columns = \"survived\", #열 위치에 들어갈 열\n",
        "    values = [\"age\", \"fare\"], #데이터로 사용할 열\n",
        "    aggfunc = [\"mean\", \"sum\"] #데이터 집계 함수\n",
        ")\n",
        "\n",
        "print(pdf3.head())\n",
        "print(pdf3.index)\n",
        "print(pdf3.columns)"
      ],
      "execution_count": null,
      "outputs": [
        {
          "output_type": "stream",
          "text": [
            "                    mean                                        sum           \\\n",
            "                     age                   fare                 age            \n",
            "survived               0          1           0           1       0        1   \n",
            "class  sex                                                                     \n",
            "First  female  25.666667  34.939024  110.604167  105.978159    77.0  2865.00   \n",
            "       male    44.581967  36.248000   62.894910   74.637320  2719.5  1449.92   \n",
            "Second female  36.000000  28.080882   18.250000   22.288989   216.0  1909.50   \n",
            "       male    33.369048  16.022000   19.488965   21.095100  2803.0   240.33   \n",
            "Third  female  23.818182  19.329787   19.773093   12.464526  1310.0   908.50   \n",
            "\n",
            "                                     \n",
            "                    fare             \n",
            "survived               0          1  \n",
            "class  sex                           \n",
            "First  female   331.8125  9644.0125  \n",
            "       male    4842.9081  3358.6794  \n",
            "Second female   109.5000  1560.2292  \n",
            "       male    1773.4958   358.6167  \n",
            "Third  female  1423.6627   897.4459  \n",
            "MultiIndex([( 'First', 'female'),\n",
            "            ( 'First',   'male'),\n",
            "            ('Second', 'female'),\n",
            "            ('Second',   'male'),\n",
            "            ( 'Third', 'female'),\n",
            "            ( 'Third',   'male')],\n",
            "           names=['class', 'sex'])\n",
            "MultiIndex([('mean',  'age', 0),\n",
            "            ('mean',  'age', 1),\n",
            "            ('mean', 'fare', 0),\n",
            "            ('mean', 'fare', 1),\n",
            "            ( 'sum',  'age', 0),\n",
            "            ( 'sum',  'age', 1),\n",
            "            ( 'sum', 'fare', 0),\n",
            "            ( 'sum', 'fare', 1)],\n",
            "           names=[None, None, 'survived'])\n"
          ],
          "name": "stdout"
        }
      ]
    },
    {
      "cell_type": "markdown",
      "metadata": {
        "id": "RiPXBdelyzTI",
        "colab_type": "text"
      },
      "source": [
        "## pivot table로 데이터 집계하기\n",
        "  : 앞의 groupby 작업을 pivot_table로 동일하게 수행"
      ]
    },
    {
      "cell_type": "code",
      "metadata": {
        "id": "Mnhr4q2cyx2X",
        "colab_type": "code",
        "colab": {
          "base_uri": "https://localhost:8080/",
          "height": 580
        },
        "outputId": "0f7e8864-8eb4-400b-d0e4-76995e5323c0"
      },
      "source": [
        "#지역명을 기준으로 분양가격의 평균을 구함\n",
        "#df_last.groupby([\"지역명\"])[\"평당분양가격\"].mean()\n",
        "pd.pivot_table(df_last, index = [\"지역명\"], values = [\"평당분양가격\"], aggfunc = \"mean\")"
      ],
      "execution_count": null,
      "outputs": [
        {
          "output_type": "execute_result",
          "data": {
            "text/html": [
              "<div>\n",
              "<style scoped>\n",
              "    .dataframe tbody tr th:only-of-type {\n",
              "        vertical-align: middle;\n",
              "    }\n",
              "\n",
              "    .dataframe tbody tr th {\n",
              "        vertical-align: top;\n",
              "    }\n",
              "\n",
              "    .dataframe thead th {\n",
              "        text-align: right;\n",
              "    }\n",
              "</style>\n",
              "<table border=\"1\" class=\"dataframe\">\n",
              "  <thead>\n",
              "    <tr style=\"text-align: right;\">\n",
              "      <th></th>\n",
              "      <th>평당분양가격</th>\n",
              "    </tr>\n",
              "    <tr>\n",
              "      <th>지역명</th>\n",
              "      <th></th>\n",
              "    </tr>\n",
              "  </thead>\n",
              "  <tbody>\n",
              "    <tr>\n",
              "      <th>강원</th>\n",
              "      <td>7890.750000</td>\n",
              "    </tr>\n",
              "    <tr>\n",
              "      <th>경기</th>\n",
              "      <td>13356.895200</td>\n",
              "    </tr>\n",
              "    <tr>\n",
              "      <th>경남</th>\n",
              "      <td>9268.778138</td>\n",
              "    </tr>\n",
              "    <tr>\n",
              "      <th>경북</th>\n",
              "      <td>8376.536515</td>\n",
              "    </tr>\n",
              "    <tr>\n",
              "      <th>광주</th>\n",
              "      <td>9951.535821</td>\n",
              "    </tr>\n",
              "    <tr>\n",
              "      <th>대구</th>\n",
              "      <td>11980.895455</td>\n",
              "    </tr>\n",
              "    <tr>\n",
              "      <th>대전</th>\n",
              "      <td>10253.333333</td>\n",
              "    </tr>\n",
              "    <tr>\n",
              "      <th>부산</th>\n",
              "      <td>12087.121200</td>\n",
              "    </tr>\n",
              "    <tr>\n",
              "      <th>서울</th>\n",
              "      <td>23599.976400</td>\n",
              "    </tr>\n",
              "    <tr>\n",
              "      <th>세종</th>\n",
              "      <td>9796.516456</td>\n",
              "    </tr>\n",
              "    <tr>\n",
              "      <th>울산</th>\n",
              "      <td>10014.902013</td>\n",
              "    </tr>\n",
              "    <tr>\n",
              "      <th>인천</th>\n",
              "      <td>11915.320732</td>\n",
              "    </tr>\n",
              "    <tr>\n",
              "      <th>전남</th>\n",
              "      <td>7565.316532</td>\n",
              "    </tr>\n",
              "    <tr>\n",
              "      <th>전북</th>\n",
              "      <td>7724.235484</td>\n",
              "    </tr>\n",
              "    <tr>\n",
              "      <th>제주</th>\n",
              "      <td>11241.276712</td>\n",
              "    </tr>\n",
              "    <tr>\n",
              "      <th>충남</th>\n",
              "      <td>8233.651883</td>\n",
              "    </tr>\n",
              "    <tr>\n",
              "      <th>충북</th>\n",
              "      <td>7634.655600</td>\n",
              "    </tr>\n",
              "  </tbody>\n",
              "</table>\n",
              "</div>"
            ],
            "text/plain": [
              "           평당분양가격\n",
              "지역명              \n",
              "강원    7890.750000\n",
              "경기   13356.895200\n",
              "경남    9268.778138\n",
              "경북    8376.536515\n",
              "광주    9951.535821\n",
              "대구   11980.895455\n",
              "대전   10253.333333\n",
              "부산   12087.121200\n",
              "서울   23599.976400\n",
              "세종    9796.516456\n",
              "울산   10014.902013\n",
              "인천   11915.320732\n",
              "전남    7565.316532\n",
              "전북    7724.235484\n",
              "제주   11241.276712\n",
              "충남    8233.651883\n",
              "충북    7634.655600"
            ]
          },
          "metadata": {
            "tags": []
          },
          "execution_count": 41
        }
      ]
    },
    {
      "cell_type": "code",
      "metadata": {
        "id": "KVMYSt3My6I5",
        "colab_type": "code",
        "colab": {
          "base_uri": "https://localhost:8080/",
          "height": 225
        },
        "outputId": "823ee27a-f489-4d12-91c3-0fe47b7903f6"
      },
      "source": [
        "#전용면적을 기준으로 분양가격의 평균 구하기\n",
        "#df_last.groupby([\"전용면적\"])[\"평당분양가격\"].mean()\n",
        "pd.pivot_table(df_last, index = \"전용면적\", values = \"평당분양가격\")"
      ],
      "execution_count": null,
      "outputs": [
        {
          "output_type": "execute_result",
          "data": {
            "text/html": [
              "<div>\n",
              "<style scoped>\n",
              "    .dataframe tbody tr th:only-of-type {\n",
              "        vertical-align: middle;\n",
              "    }\n",
              "\n",
              "    .dataframe tbody tr th {\n",
              "        vertical-align: top;\n",
              "    }\n",
              "\n",
              "    .dataframe thead th {\n",
              "        text-align: right;\n",
              "    }\n",
              "</style>\n",
              "<table border=\"1\" class=\"dataframe\">\n",
              "  <thead>\n",
              "    <tr style=\"text-align: right;\">\n",
              "      <th></th>\n",
              "      <th>평당분양가격</th>\n",
              "    </tr>\n",
              "    <tr>\n",
              "      <th>전용면적</th>\n",
              "      <th></th>\n",
              "    </tr>\n",
              "  </thead>\n",
              "  <tbody>\n",
              "    <tr>\n",
              "      <th>102㎡~</th>\n",
              "      <td>11517.705634</td>\n",
              "    </tr>\n",
              "    <tr>\n",
              "      <th>60㎡</th>\n",
              "      <td>10375.137421</td>\n",
              "    </tr>\n",
              "    <tr>\n",
              "      <th>60㎡~85㎡</th>\n",
              "      <td>10271.040071</td>\n",
              "    </tr>\n",
              "    <tr>\n",
              "      <th>85㎡~102㎡</th>\n",
              "      <td>11097.599573</td>\n",
              "    </tr>\n",
              "    <tr>\n",
              "      <th>전체</th>\n",
              "      <td>10276.086207</td>\n",
              "    </tr>\n",
              "  </tbody>\n",
              "</table>\n",
              "</div>"
            ],
            "text/plain": [
              "                평당분양가격\n",
              "전용면적                  \n",
              "102㎡~     11517.705634\n",
              "60㎡       10375.137421\n",
              "60㎡~85㎡   10271.040071\n",
              "85㎡~102㎡  11097.599573\n",
              "전체        10276.086207"
            ]
          },
          "metadata": {
            "tags": []
          },
          "execution_count": 42
        }
      ]
    },
    {
      "cell_type": "code",
      "metadata": {
        "id": "x_mx2gGJy71F",
        "colab_type": "code",
        "colab": {
          "base_uri": "https://localhost:8080/",
          "height": 254
        },
        "outputId": "d83994e6-a85e-48bb-828b-31a7f32b7fc3"
      },
      "source": [
        "#지역명, 전용면적으로 평당분양가격의 평균을 구함 \n",
        "#df_last.groupby([\"전용면적\", \"지역명\"])[\"평당분양가격\"].mean().unstack().round()\n",
        "df_last.pivot_table(index = \"전용면적\", columns = \"지역명\", values = \"평당분양가격\").round()"
      ],
      "execution_count": null,
      "outputs": [
        {
          "output_type": "execute_result",
          "data": {
            "text/html": [
              "<div>\n",
              "<style scoped>\n",
              "    .dataframe tbody tr th:only-of-type {\n",
              "        vertical-align: middle;\n",
              "    }\n",
              "\n",
              "    .dataframe tbody tr th {\n",
              "        vertical-align: top;\n",
              "    }\n",
              "\n",
              "    .dataframe thead th {\n",
              "        text-align: right;\n",
              "    }\n",
              "</style>\n",
              "<table border=\"1\" class=\"dataframe\">\n",
              "  <thead>\n",
              "    <tr style=\"text-align: right;\">\n",
              "      <th>지역명</th>\n",
              "      <th>강원</th>\n",
              "      <th>경기</th>\n",
              "      <th>경남</th>\n",
              "      <th>경북</th>\n",
              "      <th>광주</th>\n",
              "      <th>...</th>\n",
              "      <th>전남</th>\n",
              "      <th>전북</th>\n",
              "      <th>제주</th>\n",
              "      <th>충남</th>\n",
              "      <th>충북</th>\n",
              "    </tr>\n",
              "    <tr>\n",
              "      <th>전용면적</th>\n",
              "      <th></th>\n",
              "      <th></th>\n",
              "      <th></th>\n",
              "      <th></th>\n",
              "      <th></th>\n",
              "      <th></th>\n",
              "      <th></th>\n",
              "      <th></th>\n",
              "      <th></th>\n",
              "      <th></th>\n",
              "      <th></th>\n",
              "    </tr>\n",
              "  </thead>\n",
              "  <tbody>\n",
              "    <tr>\n",
              "      <th>102㎡~</th>\n",
              "      <td>8311.0</td>\n",
              "      <td>14772.0</td>\n",
              "      <td>10358.0</td>\n",
              "      <td>9157.0</td>\n",
              "      <td>11042.0</td>\n",
              "      <td>...</td>\n",
              "      <td>8168.0</td>\n",
              "      <td>8194.0</td>\n",
              "      <td>10523.0</td>\n",
              "      <td>8689.0</td>\n",
              "      <td>8195.0</td>\n",
              "    </tr>\n",
              "    <tr>\n",
              "      <th>60㎡</th>\n",
              "      <td>7567.0</td>\n",
              "      <td>13252.0</td>\n",
              "      <td>8689.0</td>\n",
              "      <td>7883.0</td>\n",
              "      <td>9431.0</td>\n",
              "      <td>...</td>\n",
              "      <td>7210.0</td>\n",
              "      <td>7610.0</td>\n",
              "      <td>14022.0</td>\n",
              "      <td>7911.0</td>\n",
              "      <td>7103.0</td>\n",
              "    </tr>\n",
              "    <tr>\n",
              "      <th>60㎡~85㎡</th>\n",
              "      <td>7486.0</td>\n",
              "      <td>12524.0</td>\n",
              "      <td>8619.0</td>\n",
              "      <td>8061.0</td>\n",
              "      <td>9911.0</td>\n",
              "      <td>...</td>\n",
              "      <td>7269.0</td>\n",
              "      <td>7271.0</td>\n",
              "      <td>10621.0</td>\n",
              "      <td>7819.0</td>\n",
              "      <td>7264.0</td>\n",
              "    </tr>\n",
              "    <tr>\n",
              "      <th>85㎡~102㎡</th>\n",
              "      <td>8750.0</td>\n",
              "      <td>13678.0</td>\n",
              "      <td>10018.0</td>\n",
              "      <td>8774.0</td>\n",
              "      <td>9296.0</td>\n",
              "      <td>...</td>\n",
              "      <td>7909.0</td>\n",
              "      <td>8276.0</td>\n",
              "      <td>10709.0</td>\n",
              "      <td>9120.0</td>\n",
              "      <td>8391.0</td>\n",
              "    </tr>\n",
              "    <tr>\n",
              "      <th>전체</th>\n",
              "      <td>7478.0</td>\n",
              "      <td>12560.0</td>\n",
              "      <td>8659.0</td>\n",
              "      <td>8079.0</td>\n",
              "      <td>9904.0</td>\n",
              "      <td>...</td>\n",
              "      <td>7284.0</td>\n",
              "      <td>7293.0</td>\n",
              "      <td>10785.0</td>\n",
              "      <td>7815.0</td>\n",
              "      <td>7219.0</td>\n",
              "    </tr>\n",
              "  </tbody>\n",
              "</table>\n",
              "<p>5 rows × 17 columns</p>\n",
              "</div>"
            ],
            "text/plain": [
              "지역명           강원       경기       경남      경북       광주  ...      전남      전북  \\\n",
              "전용면적                                                 ...                   \n",
              "102㎡~     8311.0  14772.0  10358.0  9157.0  11042.0  ...  8168.0  8194.0   \n",
              "60㎡       7567.0  13252.0   8689.0  7883.0   9431.0  ...  7210.0  7610.0   \n",
              "60㎡~85㎡   7486.0  12524.0   8619.0  8061.0   9911.0  ...  7269.0  7271.0   \n",
              "85㎡~102㎡  8750.0  13678.0  10018.0  8774.0   9296.0  ...  7909.0  8276.0   \n",
              "전체        7478.0  12560.0   8659.0  8079.0   9904.0  ...  7284.0  7293.0   \n",
              "\n",
              "지역명            제주      충남      충북  \n",
              "전용면적                               \n",
              "102㎡~     10523.0  8689.0  8195.0  \n",
              "60㎡       14022.0  7911.0  7103.0  \n",
              "60㎡~85㎡   10621.0  7819.0  7264.0  \n",
              "85㎡~102㎡  10709.0  9120.0  8391.0  \n",
              "전체        10785.0  7815.0  7219.0  \n",
              "\n",
              "[5 rows x 17 columns]"
            ]
          },
          "metadata": {
            "tags": []
          },
          "execution_count": 43
        }
      ]
    },
    {
      "cell_type": "code",
      "metadata": {
        "id": "Y82aNgayy99D",
        "colab_type": "code",
        "colab": {}
      },
      "source": [
        "#연도, 지역명으로 평당분양가격의 평균을 구함\n",
        "#g = df_last.groupby([\"연도\", \"지역명\"])[\"평당분양가격\"].mean()\n",
        "p = pd.pivot_table(df_last, index = [\"연도\", \"지역명\"], values = \"평당분양가격\")"
      ],
      "execution_count": null,
      "outputs": []
    },
    {
      "cell_type": "code",
      "metadata": {
        "id": "1VVIs16SzCHX",
        "colab_type": "code",
        "colab": {
          "base_uri": "https://localhost:8080/",
          "height": 580
        },
        "outputId": "4aeb1ff1-99e7-40ad-c1d3-f1b9a8c9cfca"
      },
      "source": [
        "p.loc[2017]"
      ],
      "execution_count": null,
      "outputs": [
        {
          "output_type": "execute_result",
          "data": {
            "text/html": [
              "<div>\n",
              "<style scoped>\n",
              "    .dataframe tbody tr th:only-of-type {\n",
              "        vertical-align: middle;\n",
              "    }\n",
              "\n",
              "    .dataframe tbody tr th {\n",
              "        vertical-align: top;\n",
              "    }\n",
              "\n",
              "    .dataframe thead th {\n",
              "        text-align: right;\n",
              "    }\n",
              "</style>\n",
              "<table border=\"1\" class=\"dataframe\">\n",
              "  <thead>\n",
              "    <tr style=\"text-align: right;\">\n",
              "      <th></th>\n",
              "      <th>평당분양가격</th>\n",
              "    </tr>\n",
              "    <tr>\n",
              "      <th>지역명</th>\n",
              "      <th></th>\n",
              "    </tr>\n",
              "  </thead>\n",
              "  <tbody>\n",
              "    <tr>\n",
              "      <th>강원</th>\n",
              "      <td>7273.560000</td>\n",
              "    </tr>\n",
              "    <tr>\n",
              "      <th>경기</th>\n",
              "      <td>12304.980000</td>\n",
              "    </tr>\n",
              "    <tr>\n",
              "      <th>경남</th>\n",
              "      <td>8786.760000</td>\n",
              "    </tr>\n",
              "    <tr>\n",
              "      <th>경북</th>\n",
              "      <td>8280.800000</td>\n",
              "    </tr>\n",
              "    <tr>\n",
              "      <th>광주</th>\n",
              "      <td>9613.977551</td>\n",
              "    </tr>\n",
              "    <tr>\n",
              "      <th>대구</th>\n",
              "      <td>12206.700000</td>\n",
              "    </tr>\n",
              "    <tr>\n",
              "      <th>대전</th>\n",
              "      <td>9957.158491</td>\n",
              "    </tr>\n",
              "    <tr>\n",
              "      <th>부산</th>\n",
              "      <td>11560.680000</td>\n",
              "    </tr>\n",
              "    <tr>\n",
              "      <th>서울</th>\n",
              "      <td>21831.060000</td>\n",
              "    </tr>\n",
              "    <tr>\n",
              "      <th>세종</th>\n",
              "      <td>9132.505556</td>\n",
              "    </tr>\n",
              "    <tr>\n",
              "      <th>울산</th>\n",
              "      <td>10666.935714</td>\n",
              "    </tr>\n",
              "    <tr>\n",
              "      <th>인천</th>\n",
              "      <td>11640.600000</td>\n",
              "    </tr>\n",
              "    <tr>\n",
              "      <th>전남</th>\n",
              "      <td>7372.920000</td>\n",
              "    </tr>\n",
              "    <tr>\n",
              "      <th>전북</th>\n",
              "      <td>7398.973585</td>\n",
              "    </tr>\n",
              "    <tr>\n",
              "      <th>제주</th>\n",
              "      <td>12566.730000</td>\n",
              "    </tr>\n",
              "    <tr>\n",
              "      <th>충남</th>\n",
              "      <td>8198.422222</td>\n",
              "    </tr>\n",
              "    <tr>\n",
              "      <th>충북</th>\n",
              "      <td>7473.120000</td>\n",
              "    </tr>\n",
              "  </tbody>\n",
              "</table>\n",
              "</div>"
            ],
            "text/plain": [
              "           평당분양가격\n",
              "지역명              \n",
              "강원    7273.560000\n",
              "경기   12304.980000\n",
              "경남    8786.760000\n",
              "경북    8280.800000\n",
              "광주    9613.977551\n",
              "대구   12206.700000\n",
              "대전    9957.158491\n",
              "부산   11560.680000\n",
              "서울   21831.060000\n",
              "세종    9132.505556\n",
              "울산   10666.935714\n",
              "인천   11640.600000\n",
              "전남    7372.920000\n",
              "전북    7398.973585\n",
              "제주   12566.730000\n",
              "충남    8198.422222\n",
              "충북    7473.120000"
            ]
          },
          "metadata": {
            "tags": []
          },
          "execution_count": 45
        }
      ]
    },
    {
      "cell_type": "markdown",
      "metadata": {
        "id": "kAPJDnQozEX3",
        "colab_type": "text"
      },
      "source": [
        "#시각화"
      ]
    },
    {
      "cell_type": "markdown",
      "metadata": {
        "id": "Xcu-aV0ezG6P",
        "colab_type": "text"
      },
      "source": [
        "데이터 시각화를 위한 폰트 설정"
      ]
    },
    {
      "cell_type": "code",
      "metadata": {
        "id": "Af5M4vVNzCyk",
        "colab_type": "code",
        "colab": {}
      },
      "source": [
        "import matplotlib.pyplot as plt\n",
        "import matplotlib as mpl\n",
        "import matplotlib.font_manager as fm"
      ],
      "execution_count": null,
      "outputs": []
    },
    {
      "cell_type": "code",
      "metadata": {
        "id": "Scsv-WjKzfQg",
        "colab_type": "code",
        "colab": {
          "base_uri": "https://localhost:8080/",
          "height": 158
        },
        "outputId": "0aae258b-6b33-411d-9e11-6568a8a6a919"
      },
      "source": [
        "%config InlineBackend.figure_format = 'retina' #그래프의 글자를 선명하게 출력하도록 설정 \n",
        "!apt install fonts-nanum #나눔 글자체 설치"
      ],
      "execution_count": null,
      "outputs": [
        {
          "output_type": "stream",
          "text": [
            "Reading package lists... Done\n",
            "Building dependency tree       \n",
            "Reading state information... Done\n",
            "fonts-nanum is already the newest version (20170925-1).\n",
            "The following package was automatically installed and is no longer required:\n",
            "  libnvidia-common-440\n",
            "Use 'apt autoremove' to remove it.\n",
            "0 upgraded, 0 newly installed, 0 to remove and 33 not upgraded.\n"
          ],
          "name": "stdout"
        }
      ]
    },
    {
      "cell_type": "code",
      "metadata": {
        "id": "Nzq7S_GkzNfz",
        "colab_type": "code",
        "colab": {}
      },
      "source": [
        "fontpath = '/usr/share/fonts/truetype/nanum/NanumBarunGothic.ttf' #나눔고딕 글자체의 전체 경로 설정\n",
        "font = fm.FontProperties(fname=fontpath).get_name() #글자체의 경로 설정\n",
        "\n",
        "plt.rc('font', family = 'NanumBarunGothic') #폰트 이름 설정\n",
        "mpl.font_manager._rebuild() #폰트 업데이트"
      ],
      "execution_count": null,
      "outputs": []
    },
    {
      "cell_type": "markdown",
      "metadata": {
        "id": "-JeVBqeszzBJ",
        "colab_type": "text"
      },
      "source": [
        "판다스로 시각화 - 선 그래프, 막대 그래프"
      ]
    },
    {
      "cell_type": "code",
      "metadata": {
        "id": "U9NJs4CfzN2R",
        "colab_type": "code",
        "colab": {
          "base_uri": "https://localhost:8080/",
          "height": 298
        },
        "outputId": "6f470795-9565-4216-bac4-82bede013131"
      },
      "source": [
        "#지역명으로 분양가격의 평균을 구하고 선 그래프로 시각화\n",
        "g = df_last.groupby([\"지역명\"])[\"평당분양가격\"].mean().sort_values(ascending = False)\n",
        "g.plot()"
      ],
      "execution_count": null,
      "outputs": [
        {
          "output_type": "execute_result",
          "data": {
            "text/plain": [
              "<matplotlib.axes._subplots.AxesSubplot at 0x7f3188523588>"
            ]
          },
          "metadata": {
            "tags": []
          },
          "execution_count": 49
        },
        {
          "output_type": "display_data",
          "data": {
            "image/png": "[encoded data removed]",
            "text/plain": [
              "<Figure size 432x288 with 1 Axes>"
            ]
          },
          "metadata": {
            "tags": [],
            "image/png": {
              "width": 385,
              "height": 264
            },
            "needs_background": "light"
          }
        }
      ]
    },
    {
      "cell_type": "markdown",
      "metadata": {
        "id": "Y8qbTrRd0Myp",
        "colab_type": "text"
      },
      "source": [
        "Seaborn으로 시각화\n",
        "\n",
        "\n",
        "> Seaborn: matplotlib을 기반으로 다양한 색 테마, 차트 기능을 추가한 라이브러리\n",
        "\n"
      ]
    },
    {
      "cell_type": "code",
      "metadata": {
        "id": "-h16dmodz2bD",
        "colab_type": "code",
        "colab": {}
      },
      "source": [
        "import seaborn as sns\n",
        "%matplotlib inline"
      ],
      "execution_count": null,
      "outputs": []
    },
    {
      "cell_type": "code",
      "metadata": {
        "id": "-EFa8dT70UJg",
        "colab_type": "code",
        "colab": {
          "base_uri": "https://localhost:8080/",
          "height": 245
        },
        "outputId": "b1421019-a753-4356-c160-5849c328721f"
      },
      "source": [
        "#지역별 평당분양가격 barplot\n",
        "plt.figure(figsize = (10, 3))\n",
        "sns.barplot(data = df_last, x = \"지역명\", y = \"평당분양가격\", ci = None)"
      ],
      "execution_count": null,
      "outputs": [
        {
          "output_type": "execute_result",
          "data": {
            "text/plain": [
              "<matplotlib.axes._subplots.AxesSubplot at 0x7f3188523080>"
            ]
          },
          "metadata": {
            "tags": []
          },
          "execution_count": 51
        },
        {
          "output_type": "display_data",
          "data": {
            "image/png": "[encoded data removed]",
            "text/plain": [
              "<Figure size 720x216 with 1 Axes>"
            ]
          },
          "metadata": {
            "tags": [],
            "image/png": {
              "width": 623,
              "height": 210
            },
            "needs_background": "light"
          }
        }
      ]
    },
    {
      "cell_type": "code",
      "metadata": {
        "id": "nhVbApeF0XG0",
        "colab_type": "code",
        "colab": {
          "base_uri": "https://localhost:8080/",
          "height": 298
        },
        "outputId": "d4ee689e-f754-422a-9288-06c04ceb5e44"
      },
      "source": [
        "#연도별 평당분양가격 barplot\n",
        "sns.barplot(data = df_last, x = \"연도\", y = \"평당분양가격\")"
      ],
      "execution_count": null,
      "outputs": [
        {
          "output_type": "execute_result",
          "data": {
            "text/plain": [
              "<matplotlib.axes._subplots.AxesSubplot at 0x7f3187f53fd0>"
            ]
          },
          "metadata": {
            "tags": []
          },
          "execution_count": 52
        },
        {
          "output_type": "display_data",
          "data": {
            "image/png": "[encoded data removed]",
            "text/plain": [
              "<Figure size 432x288 with 1 Axes>"
            ]
          },
          "metadata": {
            "tags": [],
            "image/png": {
              "width": 400,
              "height": 264
            },
            "needs_background": "light"
          }
        }
      ]
    },
    {
      "cell_type": "code",
      "metadata": {
        "id": "tcWNFdx80ZeT",
        "colab_type": "code",
        "colab": {
          "base_uri": "https://localhost:8080/",
          "height": 354
        },
        "outputId": "135bc937-c69c-4be2-a700-b8fbee98aa19"
      },
      "source": [
        " 연도\", y = \"평당분양가격\", hue = \"지역명\")\n",
        "\n",
        "#그래프 밖에 legend(범주) 표시하도록 설정\n",
        "#loc: legend 위치(2는 upper left 의미)\n",
        "#bbox_to_anchor: legend 위치를 정확하게 설정 가능\n",
        "#borderaxespad: legend 여백 설정\n",
        "plt.legend(bbox_to_anchor = (1.02, 1), loc = 2, borderaxespad = 0) "
      ],
      "execution_count": null,
      "outputs": [
        {
          "output_type": "execute_result",
          "data": {
            "text/plain": [
              "<matplotlib.legend.Legend at 0x7f3189185b00>"
            ]
          },
          "metadata": {
            "tags": []
          },
          "execution_count": 53
        },
        {
          "output_type": "display_data",
          "data": {
            "image/png": "[encoded data removed]",
            "text/plain": [
              "<Figure size 720x360 with 1 Axes>"
            ]
          },
          "metadata": {
            "tags": [],
            "image/png": {
              "width": 697,
              "height": 319
            },
            "needs_background": "light"
          }
        }
      ]
    },
    {
      "cell_type": "code",
      "metadata": {
        "id": "fmgijafM0m0j",
        "colab_type": "code",
        "colab": {
          "base_uri": "https://localhost:8080/",
          "height": 298
        },
        "outputId": "654944db-3a0d-4f06-fc04-71802f374a46"
      },
      "source": [
        "#연도별 평당분양가격 baxplot\n",
        "#최솟값\n",
        "#제 1사분위수\n",
        "#제 2사분위수 = 중앙값\n",
        "#제 3사분위수\n",
        "#최댓값\n",
        "\n",
        "sns.boxplot(data = df_last, x = \"연도\", y = \"평당분양가격\")"
      ],
      "execution_count": null,
      "outputs": [
        {
          "output_type": "execute_result",
          "data": {
            "text/plain": [
              "<matplotlib.axes._subplots.AxesSubplot at 0x7f3187d5acc0>"
            ]
          },
          "metadata": {
            "tags": []
          },
          "execution_count": 54
        },
        {
          "output_type": "display_data",
          "data": {
            "image/png": "[encoded data removed]",
            "text/plain": [
              "<Figure size 432x288 with 1 Axes>"
            ]
          },
          "metadata": {
            "tags": [],
            "image/png": {
              "width": 400,
              "height": 264
            },
            "needs_background": "light"
          }
        }
      ]
    },
    {
      "cell_type": "code",
      "metadata": {
        "id": "I42MfGU11GHI",
        "colab_type": "code",
        "colab": {
          "base_uri": "https://localhost:8080/",
          "height": 245
        },
        "outputId": "f396e720-8dab-4c8d-90c3-7176bfa39dff"
      },
      "source": [
        "#hue 옵션 사용: 전용면적별로 다르게 표시\n",
        "#집단별로 묶어서 세부 정보를 시각화\n",
        "plt.figure(figsize = (12, 3))\n",
        "sns.boxplot(data = df_last, x = \"연도\", y = \"평당분양가격\", hue = \"전용면적\")\n",
        "plt.legend(bbox_to_anchor = (1.02, 1), loc = 2, borderaxespad = 0) "
      ],
      "execution_count": null,
      "outputs": [
        {
          "output_type": "execute_result",
          "data": {
            "text/plain": [
              "<matplotlib.legend.Legend at 0x7f3187eace80>"
            ]
          },
          "metadata": {
            "tags": []
          },
          "execution_count": 55
        },
        {
          "output_type": "display_data",
          "data": {
            "image/png": "[encoded data removed]",
            "text/plain": [
              "<Figure size 864x216 with 1 Axes>"
            ]
          },
          "metadata": {
            "tags": [],
            "image/png": {
              "width": 838,
              "height": 210
            },
            "needs_background": "light"
          }
        }
      ]
    },
    {
      "cell_type": "code",
      "metadata": {
        "id": "b2q5cxoD1IMf",
        "colab_type": "code",
        "colab": {
          "base_uri": "https://localhost:8080/",
          "height": 298
        },
        "outputId": "051a65ab-94a7-49d8-959a-3f829963ee8d"
      },
      "source": [
        "#연도별 평당분양가격 violinplot\n",
        "#중심선을 따라 대칭인 KDE 플롯\n",
        "#가운데 흰색 점은 중앙값(median)\n",
        "#바이올린 중앙의 두꺼운 선은 사분위 범위\n",
        "#바이올린 중앙의 얇은 선은 95% 신뢰 구간\n",
        "sns.violinplot(data = df_last, x = \"연도\", y = \"평당분양가격\")"
      ],
      "execution_count": null,
      "outputs": [
        {
          "output_type": "execute_result",
          "data": {
            "text/plain": [
              "<matplotlib.axes._subplots.AxesSubplot at 0x7f3186a35588>"
            ]
          },
          "metadata": {
            "tags": []
          },
          "execution_count": 56
        },
        {
          "output_type": "display_data",
          "data": {
            "image/png": "[encoded data removed]",
            "text/plain": [
              "<Figure size 432x288 with 1 Axes>"
            ]
          },
          "metadata": {
            "tags": [],
            "image/png": {
              "width": 400,
              "height": 264
            },
            "needs_background": "light"
          }
        }
      ]
    }
  ]
}