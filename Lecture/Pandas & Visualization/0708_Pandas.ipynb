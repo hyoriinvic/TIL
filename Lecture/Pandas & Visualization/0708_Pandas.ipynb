{
  "nbformat": 4,
  "nbformat_minor": 0,
  "metadata": {
    "colab": {
      "name": "0708 Pandas",
      "provenance": []
    },
    "kernelspec": {
      "name": "python3",
      "display_name": "Python 3"
    }
  },
  "cells": [
    {
      "cell_type": "code",
      "metadata": {
        "id": "o6Lu-e8WyuKe",
        "colab_type": "code",
        "colab": {}
      },
      "source": [
        "import pandas as pd"
      ],
      "execution_count": null,
      "outputs": []
    },
    {
      "cell_type": "markdown",
      "metadata": {
        "id": "fLO8Lxo9yy8b",
        "colab_type": "text"
      },
      "source": [
        "#데이터프레임(Dataframe)"
      ]
    },
    {
      "cell_type": "markdown",
      "metadata": {
        "id": "c24eKfiJBDGB",
        "colab_type": "text"
      },
      "source": [
        "데이터프레임 생성"
      ]
    },
    {
      "cell_type": "code",
      "metadata": {
        "id": "FI7Yokqty7zF",
        "colab_type": "code",
        "colab": {
          "base_uri": "https://localhost:8080/",
          "height": 154
        },
        "outputId": "bb87cb0a-84d3-4447-e1a2-936960d48c9c"
      },
      "source": [
        "#데이터프레임 변환 pd.DataFrame()\n",
        "dict_data = { #딕셔너리 정의(2차원 배열)\n",
        "    \"c0\" : [1, 2, 3],\n",
        "    \"c1\" : [4, 5, 6],\n",
        "    \"c2\" : [7, 8, 9],\n",
        "    \"c3\" : [10, 11, 12],\n",
        "    \"c4\" : [13, 14, 15]\n",
        "}\n",
        "\n",
        "df = pd.DataFrame(dict_data) #딕셔너리를 데이터프레임으로 변환\n",
        "\n",
        "print(type(df))\n",
        "df #데이터프레임 출력"
      ],
      "execution_count": null,
      "outputs": [
        {
          "output_type": "stream",
          "text": [
            "<class 'pandas.core.frame.DataFrame'>\n"
          ],
          "name": "stdout"
        },
        {
          "output_type": "execute_result",
          "data": {
            "text/html": [
              "<div>\n",
              "<style scoped>\n",
              "    .dataframe tbody tr th:only-of-type {\n",
              "        vertical-align: middle;\n",
              "    }\n",
              "\n",
              "    .dataframe tbody tr th {\n",
              "        vertical-align: top;\n",
              "    }\n",
              "\n",
              "    .dataframe thead th {\n",
              "        text-align: right;\n",
              "    }\n",
              "</style>\n",
              "<table border=\"1\" class=\"dataframe\">\n",
              "  <thead>\n",
              "    <tr style=\"text-align: right;\">\n",
              "      <th></th>\n",
              "      <th>c0</th>\n",
              "      <th>c1</th>\n",
              "      <th>c2</th>\n",
              "      <th>c3</th>\n",
              "      <th>c4</th>\n",
              "    </tr>\n",
              "  </thead>\n",
              "  <tbody>\n",
              "    <tr>\n",
              "      <th>0</th>\n",
              "      <td>1</td>\n",
              "      <td>4</td>\n",
              "      <td>7</td>\n",
              "      <td>10</td>\n",
              "      <td>13</td>\n",
              "    </tr>\n",
              "    <tr>\n",
              "      <th>1</th>\n",
              "      <td>2</td>\n",
              "      <td>5</td>\n",
              "      <td>8</td>\n",
              "      <td>11</td>\n",
              "      <td>14</td>\n",
              "    </tr>\n",
              "    <tr>\n",
              "      <th>2</th>\n",
              "      <td>3</td>\n",
              "      <td>6</td>\n",
              "      <td>9</td>\n",
              "      <td>12</td>\n",
              "      <td>15</td>\n",
              "    </tr>\n",
              "  </tbody>\n",
              "</table>\n",
              "</div>"
            ],
            "text/plain": [
              "   c0  c1  c2  c3  c4\n",
              "0   1   4   7  10  13\n",
              "1   2   5   8  11  14\n",
              "2   3   6   9  12  15"
            ]
          },
          "metadata": {
            "tags": []
          },
          "execution_count": 30
        }
      ]
    },
    {
      "cell_type": "markdown",
      "metadata": {
        "id": "YexJ7UiFBGLx",
        "colab_type": "text"
      },
      "source": [
        "데이터프레임의 '행 인덱스' / '열 이름' 설정하기"
      ]
    },
    {
      "cell_type": "code",
      "metadata": {
        "id": "u-QdF5xhzi5B",
        "colab_type": "code",
        "colab": {
          "base_uri": "https://localhost:8080/",
          "height": 106
        },
        "outputId": "67418436-cc7f-4981-9b6c-04564d37a78c"
      },
      "source": [
        "df = pd.DataFrame(        #리스트 > 데이터프레임 변환\n",
        "    [[15, \"남\", \"덕영중\"], [17, \"여\", \"수리고\"]], \n",
        "    index = [\"준서\", \"예은\"], #행 인덱스 설정\n",
        "    columns = [\"나이\", \"성별\", \"학교\"] #열 이름 설정\n",
        ")\n",
        "\n",
        "df"
      ],
      "execution_count": null,
      "outputs": [
        {
          "output_type": "execute_result",
          "data": {
            "text/html": [
              "<div>\n",
              "<style scoped>\n",
              "    .dataframe tbody tr th:only-of-type {\n",
              "        vertical-align: middle;\n",
              "    }\n",
              "\n",
              "    .dataframe tbody tr th {\n",
              "        vertical-align: top;\n",
              "    }\n",
              "\n",
              "    .dataframe thead th {\n",
              "        text-align: right;\n",
              "    }\n",
              "</style>\n",
              "<table border=\"1\" class=\"dataframe\">\n",
              "  <thead>\n",
              "    <tr style=\"text-align: right;\">\n",
              "      <th></th>\n",
              "      <th>나이</th>\n",
              "      <th>성별</th>\n",
              "      <th>학교</th>\n",
              "    </tr>\n",
              "  </thead>\n",
              "  <tbody>\n",
              "    <tr>\n",
              "      <th>준서</th>\n",
              "      <td>15</td>\n",
              "      <td>남</td>\n",
              "      <td>덕영중</td>\n",
              "    </tr>\n",
              "    <tr>\n",
              "      <th>예은</th>\n",
              "      <td>17</td>\n",
              "      <td>여</td>\n",
              "      <td>수리고</td>\n",
              "    </tr>\n",
              "  </tbody>\n",
              "</table>\n",
              "</div>"
            ],
            "text/plain": [
              "    나이 성별   학교\n",
              "준서  15  남  덕영중\n",
              "예은  17  여  수리고"
            ]
          },
          "metadata": {
            "tags": []
          },
          "execution_count": 23
        }
      ]
    },
    {
      "cell_type": "code",
      "metadata": {
        "id": "-pbWd14jAt0_",
        "colab_type": "code",
        "colab": {
          "base_uri": "https://localhost:8080/",
          "height": 140
        },
        "outputId": "7156d993-f119-4823-ef94-7261da375038"
      },
      "source": [
        "print(df.index) #행 인덱스 출력\n",
        "print(df.columns) #열 이름 출력\n",
        "print()\n",
        "\n",
        "df.loc[\"예은\"] #행 데이터 반환"
      ],
      "execution_count": null,
      "outputs": [
        {
          "output_type": "stream",
          "text": [
            "Index(['준서', '예은'], dtype='object')\n",
            "Index(['나이', '성별', '학교'], dtype='object')\n",
            "\n"
          ],
          "name": "stdout"
        },
        {
          "output_type": "execute_result",
          "data": {
            "text/plain": [
              "나이     17\n",
              "성별      여\n",
              "학교    수리고\n",
              "Name: 예은, dtype: object"
            ]
          },
          "metadata": {
            "tags": []
          },
          "execution_count": 24
        }
      ]
    },
    {
      "cell_type": "markdown",
      "metadata": {
        "id": "f6biykAdBMqw",
        "colab_type": "text"
      },
      "source": [
        "행 인덱스, 열 이름 변경"
      ]
    },
    {
      "cell_type": "code",
      "metadata": {
        "id": "ihkGuBAR1_uW",
        "colab_type": "code",
        "colab": {
          "base_uri": "https://localhost:8080/",
          "height": 70
        },
        "outputId": "674696b9-cdbb-4701-c921-de5c1e28325e"
      },
      "source": [
        "#행 인덱스, 열 이름 변경1\n",
        "df = pd.DataFrame(\n",
        "    [[15, \"남\", \"덕영중\"], [17, \"여\", \"수리고\"]], \n",
        "    index = [\"준서\", \"예은\"], \n",
        "    columns = [\"나이\", \"성별\", \"학교\"]\n",
        ")\n",
        "\n",
        "df.index = [\"학생1\", \"학생2\"]\n",
        "df.columns = [\"연령\", \"남녀\", \"소속\"]\n",
        "\n",
        "print(df.index)\n",
        "print(df.columns) \n",
        "print()"
      ],
      "execution_count": null,
      "outputs": [
        {
          "output_type": "stream",
          "text": [
            "Index(['학생1', '학생2'], dtype='object')\n",
            "Index(['연령', '남녀', '소속'], dtype='object')\n",
            "\n"
          ],
          "name": "stdout"
        }
      ]
    },
    {
      "cell_type": "code",
      "metadata": {
        "id": "J_r_t_340Taw",
        "colab_type": "code",
        "colab": {
          "base_uri": "https://localhost:8080/",
          "height": 106
        },
        "outputId": "a8d7a263-d4bb-4779-daab-7be60e1c08db"
      },
      "source": [
        "#행 인덱스, 열 이름 변경2: rename()\n",
        "#'inplace = True' : 원본 객체 변경 - 해당 옵션 없을 시, 새로운 데이터프레임 객체 반환\n",
        "\n",
        "df = pd.DataFrame(\n",
        "    [[15, \"남\", \"덕영중\"], [17, \"여\", \"수리고\"]], \n",
        "    index = [\"준서\", \"예은\"], \n",
        "    columns = [\"나이\", \"성별\", \"학교\"]\n",
        ")\n",
        "\n",
        "df.rename(columns = {\"나이\":\"연령\", \"성별\":\"남녀\", \"학교\":\"소속\"}, inplace = True) \n",
        "df.rename(index = {\"준서\":\"학생1\", \"예은\":\"학생2\"}, inplace = True)\n",
        "\n",
        "df"
      ],
      "execution_count": null,
      "outputs": [
        {
          "output_type": "execute_result",
          "data": {
            "text/html": [
              "<div>\n",
              "<style scoped>\n",
              "    .dataframe tbody tr th:only-of-type {\n",
              "        vertical-align: middle;\n",
              "    }\n",
              "\n",
              "    .dataframe tbody tr th {\n",
              "        vertical-align: top;\n",
              "    }\n",
              "\n",
              "    .dataframe thead th {\n",
              "        text-align: right;\n",
              "    }\n",
              "</style>\n",
              "<table border=\"1\" class=\"dataframe\">\n",
              "  <thead>\n",
              "    <tr style=\"text-align: right;\">\n",
              "      <th></th>\n",
              "      <th>연령</th>\n",
              "      <th>남녀</th>\n",
              "      <th>소속</th>\n",
              "    </tr>\n",
              "  </thead>\n",
              "  <tbody>\n",
              "    <tr>\n",
              "      <th>학생1</th>\n",
              "      <td>15</td>\n",
              "      <td>남</td>\n",
              "      <td>덕영중</td>\n",
              "    </tr>\n",
              "    <tr>\n",
              "      <th>학생2</th>\n",
              "      <td>17</td>\n",
              "      <td>여</td>\n",
              "      <td>수리고</td>\n",
              "    </tr>\n",
              "  </tbody>\n",
              "</table>\n",
              "</div>"
            ],
            "text/plain": [
              "     연령 남녀   소속\n",
              "학생1  15  남  덕영중\n",
              "학생2  17  여  수리고"
            ]
          },
          "metadata": {
            "tags": []
          },
          "execution_count": 26
        }
      ]
    },
    {
      "cell_type": "markdown",
      "metadata": {
        "id": "mJCxtQv9BZy5",
        "colab_type": "text"
      },
      "source": [
        "행 / 열 삭제"
      ]
    },
    {
      "cell_type": "code",
      "metadata": {
        "id": "ItfPjIBp1nq1",
        "colab_type": "code",
        "colab": {
          "base_uri": "https://localhost:8080/",
          "height": 136
        },
        "outputId": "3673d63f-aea7-4e2d-e1df-7b18e8ca03a8"
      },
      "source": [
        "#행 삭제: .drop(행 인덱스 또는 배열, axis = 0 , inplace = True)\n",
        "\n",
        "exam_data = {\n",
        "    \"수학\" : [90, 80, 70],\n",
        "    \"영어\" : [98, 89, 95],\n",
        "    \"음악\" : [85, 95, 100],\n",
        "    \"체육\" : [100, 90, 90]\n",
        "}\n",
        "\n",
        "df = pd.DataFrame(exam_data, index = [\"서준\", \"우현\", \"인아\"])\n",
        "\n",
        "df"
      ],
      "execution_count": null,
      "outputs": [
        {
          "output_type": "execute_result",
          "data": {
            "text/html": [
              "<div>\n",
              "<style scoped>\n",
              "    .dataframe tbody tr th:only-of-type {\n",
              "        vertical-align: middle;\n",
              "    }\n",
              "\n",
              "    .dataframe tbody tr th {\n",
              "        vertical-align: top;\n",
              "    }\n",
              "\n",
              "    .dataframe thead th {\n",
              "        text-align: right;\n",
              "    }\n",
              "</style>\n",
              "<table border=\"1\" class=\"dataframe\">\n",
              "  <thead>\n",
              "    <tr style=\"text-align: right;\">\n",
              "      <th></th>\n",
              "      <th>수학</th>\n",
              "      <th>영어</th>\n",
              "      <th>음악</th>\n",
              "      <th>체육</th>\n",
              "    </tr>\n",
              "  </thead>\n",
              "  <tbody>\n",
              "    <tr>\n",
              "      <th>서준</th>\n",
              "      <td>90</td>\n",
              "      <td>98</td>\n",
              "      <td>85</td>\n",
              "      <td>100</td>\n",
              "    </tr>\n",
              "    <tr>\n",
              "      <th>우현</th>\n",
              "      <td>80</td>\n",
              "      <td>89</td>\n",
              "      <td>95</td>\n",
              "      <td>90</td>\n",
              "    </tr>\n",
              "    <tr>\n",
              "      <th>인아</th>\n",
              "      <td>70</td>\n",
              "      <td>95</td>\n",
              "      <td>100</td>\n",
              "      <td>90</td>\n",
              "    </tr>\n",
              "  </tbody>\n",
              "</table>\n",
              "</div>"
            ],
            "text/plain": [
              "    수학  영어   음악   체육\n",
              "서준  90  98   85  100\n",
              "우현  80  89   95   90\n",
              "인아  70  95  100   90"
            ]
          },
          "metadata": {
            "tags": []
          },
          "execution_count": 27
        }
      ]
    },
    {
      "cell_type": "code",
      "metadata": {
        "id": "aaFQ75DAA4Dp",
        "colab_type": "code",
        "colab": {
          "base_uri": "https://localhost:8080/",
          "height": 194
        },
        "outputId": "049fa23b-bc91-431b-881e-90eae2662e09"
      },
      "source": [
        "df2 = df[:] #데이터프레임 df를 복사해 df2에 저장(df2의 데이터 존재)\n",
        "#df2 = df : df와 데이터를 공유(df2의 데이터는 없는 것)\n",
        "df2.drop(\"우현\", axis = 0, inplace = True) #행 \"우현\" 제거\n",
        "df2 "
      ],
      "execution_count": null,
      "outputs": [
        {
          "output_type": "stream",
          "text": [
            "/usr/local/lib/python3.6/dist-packages/pandas/core/frame.py:3997: SettingWithCopyWarning: \n",
            "A value is trying to be set on a copy of a slice from a DataFrame\n",
            "\n",
            "See the caveats in the documentation: https://pandas.pydata.org/pandas-docs/stable/user_guide/indexing.html#returning-a-view-versus-a-copy\n",
            "  errors=errors,\n"
          ],
          "name": "stderr"
        },
        {
          "output_type": "execute_result",
          "data": {
            "text/html": [
              "<div>\n",
              "<style scoped>\n",
              "    .dataframe tbody tr th:only-of-type {\n",
              "        vertical-align: middle;\n",
              "    }\n",
              "\n",
              "    .dataframe tbody tr th {\n",
              "        vertical-align: top;\n",
              "    }\n",
              "\n",
              "    .dataframe thead th {\n",
              "        text-align: right;\n",
              "    }\n",
              "</style>\n",
              "<table border=\"1\" class=\"dataframe\">\n",
              "  <thead>\n",
              "    <tr style=\"text-align: right;\">\n",
              "      <th></th>\n",
              "      <th>수학</th>\n",
              "      <th>영어</th>\n",
              "      <th>음악</th>\n",
              "      <th>체육</th>\n",
              "    </tr>\n",
              "  </thead>\n",
              "  <tbody>\n",
              "    <tr>\n",
              "      <th>서준</th>\n",
              "      <td>90</td>\n",
              "      <td>98</td>\n",
              "      <td>85</td>\n",
              "      <td>100</td>\n",
              "    </tr>\n",
              "    <tr>\n",
              "      <th>인아</th>\n",
              "      <td>70</td>\n",
              "      <td>95</td>\n",
              "      <td>100</td>\n",
              "      <td>90</td>\n",
              "    </tr>\n",
              "  </tbody>\n",
              "</table>\n",
              "</div>"
            ],
            "text/plain": [
              "    수학  영어   음악   체육\n",
              "서준  90  98   85  100\n",
              "인아  70  95  100   90"
            ]
          },
          "metadata": {
            "tags": []
          },
          "execution_count": 28
        }
      ]
    },
    {
      "cell_type": "code",
      "metadata": {
        "id": "T0I7Pkl5A9pB",
        "colab_type": "code",
        "colab": {
          "base_uri": "https://localhost:8080/",
          "height": 165
        },
        "outputId": "28aacae7-f2a9-414d-b57a-56f74ed3d4c4"
      },
      "source": [
        "df3 = df[:]\n",
        "df3.drop([\"우현\", \"인아\"], axis = 0, inplace = True)\n",
        "df3"
      ],
      "execution_count": null,
      "outputs": [
        {
          "output_type": "stream",
          "text": [
            "/usr/local/lib/python3.6/dist-packages/pandas/core/frame.py:3997: SettingWithCopyWarning: \n",
            "A value is trying to be set on a copy of a slice from a DataFrame\n",
            "\n",
            "See the caveats in the documentation: https://pandas.pydata.org/pandas-docs/stable/user_guide/indexing.html#returning-a-view-versus-a-copy\n",
            "  errors=errors,\n"
          ],
          "name": "stderr"
        },
        {
          "output_type": "execute_result",
          "data": {
            "text/html": [
              "<div>\n",
              "<style scoped>\n",
              "    .dataframe tbody tr th:only-of-type {\n",
              "        vertical-align: middle;\n",
              "    }\n",
              "\n",
              "    .dataframe tbody tr th {\n",
              "        vertical-align: top;\n",
              "    }\n",
              "\n",
              "    .dataframe thead th {\n",
              "        text-align: right;\n",
              "    }\n",
              "</style>\n",
              "<table border=\"1\" class=\"dataframe\">\n",
              "  <thead>\n",
              "    <tr style=\"text-align: right;\">\n",
              "      <th></th>\n",
              "      <th>수학</th>\n",
              "      <th>영어</th>\n",
              "      <th>음악</th>\n",
              "      <th>체육</th>\n",
              "    </tr>\n",
              "  </thead>\n",
              "  <tbody>\n",
              "    <tr>\n",
              "      <th>서준</th>\n",
              "      <td>90</td>\n",
              "      <td>98</td>\n",
              "      <td>85</td>\n",
              "      <td>100</td>\n",
              "    </tr>\n",
              "  </tbody>\n",
              "</table>\n",
              "</div>"
            ],
            "text/plain": [
              "    수학  영어  음악   체육\n",
              "서준  90  98  85  100"
            ]
          },
          "metadata": {
            "tags": []
          },
          "execution_count": 29
        }
      ]
    },
    {
      "cell_type": "code",
      "metadata": {
        "id": "YY-5w8Ve3mjW",
        "colab_type": "code",
        "colab": {
          "base_uri": "https://localhost:8080/",
          "height": 224
        },
        "outputId": "25dd71f2-5da6-4f17-a51a-613d26b24673"
      },
      "source": [
        "#열 삭제: .drop(열 이름 또는 배열, axis = 1 , inplace = True)\n",
        "exam_data = {\n",
        "    \"수학\" : [90, 80, 70],\n",
        "    \"영어\" : [98, 89, 95],\n",
        "    \"음악\" : [85, 95, 100],\n",
        "    \"체육\" : [100, 90, 90]\n",
        "}\n",
        "\n",
        "df = pd.DataFrame(exam_data, index = [\"서준\", \"우현\", \"인아\"])\n",
        "\n",
        "df4 = df[:] \n",
        "df4.drop(\"수학\", axis = 1, inplace = True) #열 \"수학\" 제거\n",
        "df4"
      ],
      "execution_count": null,
      "outputs": [
        {
          "output_type": "stream",
          "text": [
            "/usr/local/lib/python3.6/dist-packages/pandas/core/frame.py:3997: SettingWithCopyWarning: \n",
            "A value is trying to be set on a copy of a slice from a DataFrame\n",
            "\n",
            "See the caveats in the documentation: https://pandas.pydata.org/pandas-docs/stable/user_guide/indexing.html#returning-a-view-versus-a-copy\n",
            "  errors=errors,\n"
          ],
          "name": "stderr"
        },
        {
          "output_type": "execute_result",
          "data": {
            "text/html": [
              "<div>\n",
              "<style scoped>\n",
              "    .dataframe tbody tr th:only-of-type {\n",
              "        vertical-align: middle;\n",
              "    }\n",
              "\n",
              "    .dataframe tbody tr th {\n",
              "        vertical-align: top;\n",
              "    }\n",
              "\n",
              "    .dataframe thead th {\n",
              "        text-align: right;\n",
              "    }\n",
              "</style>\n",
              "<table border=\"1\" class=\"dataframe\">\n",
              "  <thead>\n",
              "    <tr style=\"text-align: right;\">\n",
              "      <th></th>\n",
              "      <th>영어</th>\n",
              "      <th>음악</th>\n",
              "      <th>체육</th>\n",
              "    </tr>\n",
              "  </thead>\n",
              "  <tbody>\n",
              "    <tr>\n",
              "      <th>서준</th>\n",
              "      <td>98</td>\n",
              "      <td>85</td>\n",
              "      <td>100</td>\n",
              "    </tr>\n",
              "    <tr>\n",
              "      <th>우현</th>\n",
              "      <td>89</td>\n",
              "      <td>95</td>\n",
              "      <td>90</td>\n",
              "    </tr>\n",
              "    <tr>\n",
              "      <th>인아</th>\n",
              "      <td>95</td>\n",
              "      <td>100</td>\n",
              "      <td>90</td>\n",
              "    </tr>\n",
              "  </tbody>\n",
              "</table>\n",
              "</div>"
            ],
            "text/plain": [
              "    영어   음악   체육\n",
              "서준  98   85  100\n",
              "우현  89   95   90\n",
              "인아  95  100   90"
            ]
          },
          "metadata": {
            "tags": []
          },
          "execution_count": 33
        }
      ]
    },
    {
      "cell_type": "code",
      "metadata": {
        "id": "GpKPKi6SDI8T",
        "colab_type": "code",
        "colab": {
          "base_uri": "https://localhost:8080/",
          "height": 224
        },
        "outputId": "99d04cc2-e9b1-4e45-ba36-d45466804f54"
      },
      "source": [
        "df5 = df[:] \n",
        "df5.drop([\"영어\", \"음악\"], axis = 1, inplace = True)\n",
        "df5"
      ],
      "execution_count": null,
      "outputs": [
        {
          "output_type": "stream",
          "text": [
            "/usr/local/lib/python3.6/dist-packages/pandas/core/frame.py:3997: SettingWithCopyWarning: \n",
            "A value is trying to be set on a copy of a slice from a DataFrame\n",
            "\n",
            "See the caveats in the documentation: https://pandas.pydata.org/pandas-docs/stable/user_guide/indexing.html#returning-a-view-versus-a-copy\n",
            "  errors=errors,\n"
          ],
          "name": "stderr"
        },
        {
          "output_type": "execute_result",
          "data": {
            "text/html": [
              "<div>\n",
              "<style scoped>\n",
              "    .dataframe tbody tr th:only-of-type {\n",
              "        vertical-align: middle;\n",
              "    }\n",
              "\n",
              "    .dataframe tbody tr th {\n",
              "        vertical-align: top;\n",
              "    }\n",
              "\n",
              "    .dataframe thead th {\n",
              "        text-align: right;\n",
              "    }\n",
              "</style>\n",
              "<table border=\"1\" class=\"dataframe\">\n",
              "  <thead>\n",
              "    <tr style=\"text-align: right;\">\n",
              "      <th></th>\n",
              "      <th>수학</th>\n",
              "      <th>체육</th>\n",
              "    </tr>\n",
              "  </thead>\n",
              "  <tbody>\n",
              "    <tr>\n",
              "      <th>서준</th>\n",
              "      <td>90</td>\n",
              "      <td>100</td>\n",
              "    </tr>\n",
              "    <tr>\n",
              "      <th>우현</th>\n",
              "      <td>80</td>\n",
              "      <td>90</td>\n",
              "    </tr>\n",
              "    <tr>\n",
              "      <th>인아</th>\n",
              "      <td>70</td>\n",
              "      <td>90</td>\n",
              "    </tr>\n",
              "  </tbody>\n",
              "</table>\n",
              "</div>"
            ],
            "text/plain": [
              "    수학   체육\n",
              "서준  90  100\n",
              "우현  80   90\n",
              "인아  70   90"
            ]
          },
          "metadata": {
            "tags": []
          },
          "execution_count": 34
        }
      ]
    },
    {
      "cell_type": "markdown",
      "metadata": {
        "id": "42d3nZLABUm6",
        "colab_type": "text"
      },
      "source": [
        "행 / 열 선택"
      ]
    },
    {
      "cell_type": "code",
      "metadata": {
        "id": "e_nLpZTEAdaH",
        "colab_type": "code",
        "colab": {
          "base_uri": "https://localhost:8080/",
          "height": 210
        },
        "outputId": "db3a70cb-b6c1-4155-8b88-61654dbd6355"
      },
      "source": [
        "#행 선택(1개)\n",
        "exam_data = {\n",
        "    \"수학\" : [90, 80, 70],\n",
        "    \"영어\" : [98, 89, 95],\n",
        "    \"음악\" : [85, 95, 100],\n",
        "    \"체육\" : [100, 90, 90]\n",
        "}\n",
        "\n",
        "df = pd.DataFrame(exam_data, index = [\"서준\", \"우현\", \"인아\"])\n",
        "\n",
        "print(df.loc[\"서준\"],\"\\n\") #인덱스 이름을 직접 입력해 선택\n",
        "print(df.iloc[0]) #인덱스(정수형 위치)로 선택"
      ],
      "execution_count": null,
      "outputs": [
        {
          "output_type": "stream",
          "text": [
            "수학     90\n",
            "영어     98\n",
            "음악     85\n",
            "체육    100\n",
            "Name: 서준, dtype: int64 \n",
            "\n",
            "수학     90\n",
            "영어     98\n",
            "음악     85\n",
            "체육    100\n",
            "Name: 서준, dtype: int64\n"
          ],
          "name": "stdout"
        }
      ]
    },
    {
      "cell_type": "code",
      "metadata": {
        "id": "T6lQMQJBDwsu",
        "colab_type": "code",
        "colab": {
          "base_uri": "https://localhost:8080/",
          "height": 140
        },
        "outputId": "de4c56e6-d372-4c12-93ab-8ca0f6a76890"
      },
      "source": [
        "#행 선택(2개 이상)\n",
        "print(df.loc[[\"서준\", \"우현\"]], \"\\n\")\n",
        "print(df.iloc[[0, 1]])"
      ],
      "execution_count": null,
      "outputs": [
        {
          "output_type": "stream",
          "text": [
            "    수학  영어  음악   체육\n",
            "서준  90  98  85  100\n",
            "우현  80  89  95   90 \n",
            "\n",
            "    수학  영어  음악   체육\n",
            "서준  90  98  85  100\n",
            "우현  80  89  95   90\n"
          ],
          "name": "stdout"
        }
      ]
    },
    {
      "cell_type": "code",
      "metadata": {
        "id": "j1xj3ErKENW6",
        "colab_type": "code",
        "colab": {
          "base_uri": "https://localhost:8080/",
          "height": 122
        },
        "outputId": "cc7b9a4a-8675-447a-c3ac-edea6f8c415a"
      },
      "source": [
        "#행 선택(2개 이상) - 범위 지정\n",
        "print(df.loc[\"서준\":\"우현\"], \"\\n\") #행 \"우현\" 포함\n",
        "print(df.iloc[0:1]) #행 \"우현\" 제외"
      ],
      "execution_count": null,
      "outputs": [
        {
          "output_type": "stream",
          "text": [
            "    수학  영어  음악   체육\n",
            "서준  90  98  85  100\n",
            "우현  80  89  95   90 \n",
            "\n",
            "    수학  영어  음악   체육\n",
            "서준  90  98  85  100\n"
          ],
          "name": "stdout"
        }
      ]
    },
    {
      "cell_type": "code",
      "metadata": {
        "id": "d0aNzkWtEoD1",
        "colab_type": "code",
        "colab": {
          "base_uri": "https://localhost:8080/",
          "height": 175
        },
        "outputId": "0c1b593c-ba48-44df-c6eb-540254bcf94d"
      },
      "source": [
        "#열 선택(1개)\n",
        "exam_data = {\n",
        "    \"이름\" : [\"서준\", \"우현\", \"인아\"],\n",
        "    \"수학\" : [90, 80, 70],\n",
        "    \"영어\" : [98, 89, 95],\n",
        "    \"음악\" : [85, 95, 100],\n",
        "    \"체육\" : [100, 90, 90]\n",
        "}\n",
        "\n",
        "df = pd.DataFrame(exam_data)\n",
        "\n",
        "print(df[\"수학\"], \"\\n\") #열 \"수학\" 데이터 선택\n",
        "print(df.영어) #열 \"영어\" 데이터 선택"
      ],
      "execution_count": null,
      "outputs": [
        {
          "output_type": "stream",
          "text": [
            "0    90\n",
            "1    80\n",
            "2    70\n",
            "Name: 수학, dtype: int64 \n",
            "\n",
            "0    98\n",
            "1    89\n",
            "2    95\n",
            "Name: 영어, dtype: int64\n"
          ],
          "name": "stdout"
        }
      ]
    },
    {
      "cell_type": "code",
      "metadata": {
        "id": "72FpOQMSFhCi",
        "colab_type": "code",
        "colab": {
          "base_uri": "https://localhost:8080/",
          "height": 136
        },
        "outputId": "bcb8e371-ce97-4e2d-e657-3dd322df2a7c"
      },
      "source": [
        "#열 선택(2개 이상)\n",
        "df[[\"음악\", \"체육\"]]"
      ],
      "execution_count": null,
      "outputs": [
        {
          "output_type": "execute_result",
          "data": {
            "text/html": [
              "<div>\n",
              "<style scoped>\n",
              "    .dataframe tbody tr th:only-of-type {\n",
              "        vertical-align: middle;\n",
              "    }\n",
              "\n",
              "    .dataframe tbody tr th {\n",
              "        vertical-align: top;\n",
              "    }\n",
              "\n",
              "    .dataframe thead th {\n",
              "        text-align: right;\n",
              "    }\n",
              "</style>\n",
              "<table border=\"1\" class=\"dataframe\">\n",
              "  <thead>\n",
              "    <tr style=\"text-align: right;\">\n",
              "      <th></th>\n",
              "      <th>음악</th>\n",
              "      <th>체육</th>\n",
              "    </tr>\n",
              "  </thead>\n",
              "  <tbody>\n",
              "    <tr>\n",
              "      <th>0</th>\n",
              "      <td>85</td>\n",
              "      <td>100</td>\n",
              "    </tr>\n",
              "    <tr>\n",
              "      <th>1</th>\n",
              "      <td>95</td>\n",
              "      <td>90</td>\n",
              "    </tr>\n",
              "    <tr>\n",
              "      <th>2</th>\n",
              "      <td>100</td>\n",
              "      <td>90</td>\n",
              "    </tr>\n",
              "  </tbody>\n",
              "</table>\n",
              "</div>"
            ],
            "text/plain": [
              "    음악   체육\n",
              "0   85  100\n",
              "1   95   90\n",
              "2  100   90"
            ]
          },
          "metadata": {
            "tags": []
          },
          "execution_count": 47
        }
      ]
    },
    {
      "cell_type": "markdown",
      "metadata": {
        "id": "agTJv6RKF_9S",
        "colab_type": "text"
      },
      "source": [
        "원소 선택"
      ]
    },
    {
      "cell_type": "code",
      "metadata": {
        "id": "H7pWPux8F413",
        "colab_type": "code",
        "colab": {
          "base_uri": "https://localhost:8080/",
          "height": 166
        },
        "outputId": "513c9825-a2fe-49bb-9baf-35c7e36e889e"
      },
      "source": [
        "#인덱스 이름으로 선택\n",
        "exam_data = {\n",
        "    \"이름\" : [\"서준\", \"우현\", \"인아\"],\n",
        "    \"수학\" : [90, 80, 70],\n",
        "    \"영어\" : [98, 89, 95],\n",
        "    \"음악\" : [85, 95, 100],\n",
        "    \"체육\" : [100, 90, 90]\n",
        "}\n",
        "\n",
        "df = pd.DataFrame(exam_data)\n",
        "df.set_index(\"이름\", inplace = True) #열 \"이름\"을 새로운 인덱스로 지정\n",
        "\n",
        "df"
      ],
      "execution_count": null,
      "outputs": [
        {
          "output_type": "execute_result",
          "data": {
            "text/html": [
              "<div>\n",
              "<style scoped>\n",
              "    .dataframe tbody tr th:only-of-type {\n",
              "        vertical-align: middle;\n",
              "    }\n",
              "\n",
              "    .dataframe tbody tr th {\n",
              "        vertical-align: top;\n",
              "    }\n",
              "\n",
              "    .dataframe thead th {\n",
              "        text-align: right;\n",
              "    }\n",
              "</style>\n",
              "<table border=\"1\" class=\"dataframe\">\n",
              "  <thead>\n",
              "    <tr style=\"text-align: right;\">\n",
              "      <th></th>\n",
              "      <th>수학</th>\n",
              "      <th>영어</th>\n",
              "      <th>음악</th>\n",
              "      <th>체육</th>\n",
              "    </tr>\n",
              "    <tr>\n",
              "      <th>이름</th>\n",
              "      <th></th>\n",
              "      <th></th>\n",
              "      <th></th>\n",
              "      <th></th>\n",
              "    </tr>\n",
              "  </thead>\n",
              "  <tbody>\n",
              "    <tr>\n",
              "      <th>서준</th>\n",
              "      <td>90</td>\n",
              "      <td>98</td>\n",
              "      <td>85</td>\n",
              "      <td>100</td>\n",
              "    </tr>\n",
              "    <tr>\n",
              "      <th>우현</th>\n",
              "      <td>80</td>\n",
              "      <td>89</td>\n",
              "      <td>95</td>\n",
              "      <td>90</td>\n",
              "    </tr>\n",
              "    <tr>\n",
              "      <th>인아</th>\n",
              "      <td>70</td>\n",
              "      <td>95</td>\n",
              "      <td>100</td>\n",
              "      <td>90</td>\n",
              "    </tr>\n",
              "  </tbody>\n",
              "</table>\n",
              "</div>"
            ],
            "text/plain": [
              "    수학  영어   음악   체육\n",
              "이름                  \n",
              "서준  90  98   85  100\n",
              "우현  80  89   95   90\n",
              "인아  70  95  100   90"
            ]
          },
          "metadata": {
            "tags": []
          },
          "execution_count": 48
        }
      ]
    },
    {
      "cell_type": "code",
      "metadata": {
        "id": "OFpYPfg3GTN0",
        "colab_type": "code",
        "colab": {
          "base_uri": "https://localhost:8080/",
          "height": 52
        },
        "outputId": "d3052605-de7d-4f6d-93d6-082d2b9a90bf"
      },
      "source": [
        "print(df.loc[\"서준\", \"음악\"]) #\"서준\"의 \"음악\" 점수\n",
        "print(df.iloc[0, 2])"
      ],
      "execution_count": null,
      "outputs": [
        {
          "output_type": "stream",
          "text": [
            "85\n",
            "85\n"
          ],
          "name": "stdout"
        }
      ]
    },
    {
      "cell_type": "code",
      "metadata": {
        "id": "J3WS1uLUGaIq",
        "colab_type": "code",
        "colab": {
          "base_uri": "https://localhost:8080/",
          "height": 246
        },
        "outputId": "2db2f1c3-a8f6-42bd-f56f-8016eb294956"
      },
      "source": [
        "print(df.loc[\"서준\", [\"음악\", \"체육\"]]) #\"서준\"의 \"음악\", \"체육\" 점수\n",
        "print(df.loc[\"서준\", \"음악\":\"체육\"], \"\\n\")\n",
        "\n",
        "print(df.iloc[0, [2, 3]])\n",
        "print(df.iloc[0, 2:])"
      ],
      "execution_count": null,
      "outputs": [
        {
          "output_type": "stream",
          "text": [
            "음악     85\n",
            "체육    100\n",
            "Name: 서준, dtype: int64\n",
            "음악     85\n",
            "체육    100\n",
            "Name: 서준, dtype: int64 \n",
            "\n",
            "음악     85\n",
            "체육    100\n",
            "Name: 서준, dtype: int64\n",
            "음악     85\n",
            "체육    100\n",
            "Name: 서준, dtype: int64\n"
          ],
          "name": "stdout"
        }
      ]
    },
    {
      "cell_type": "markdown",
      "metadata": {
        "id": "aoEPitd1q4c8",
        "colab_type": "text"
      },
      "source": [
        "행 / 열 추가"
      ]
    },
    {
      "cell_type": "code",
      "metadata": {
        "id": "QiK2bQ4WGpaa",
        "colab_type": "code",
        "colab": {
          "base_uri": "https://localhost:8080/",
          "height": 136
        },
        "outputId": "54f6d8d1-b5e0-439e-ace8-20790bc3f622"
      },
      "source": [
        "#열 추가\n",
        "exam_data = {\n",
        "    \"이름\" : [\"서준\", \"우현\", \"인아\"],\n",
        "    \"수학\" : [90, 80, 70],\n",
        "    \"영어\" : [98, 89, 95],\n",
        "    \"음악\" : [85, 95, 100],\n",
        "    \"체육\" : [100, 90, 90]\n",
        "}\n",
        "\n",
        "df = pd.DataFrame(exam_data)\n",
        "\n",
        "df[\"국어\"] = 80 #열 \"국어\" 추가, 모든 학생의 점수가 80점으로 동일\n",
        "\n",
        "df"
      ],
      "execution_count": null,
      "outputs": [
        {
          "output_type": "execute_result",
          "data": {
            "text/html": [
              "<div>\n",
              "<style scoped>\n",
              "    .dataframe tbody tr th:only-of-type {\n",
              "        vertical-align: middle;\n",
              "    }\n",
              "\n",
              "    .dataframe tbody tr th {\n",
              "        vertical-align: top;\n",
              "    }\n",
              "\n",
              "    .dataframe thead th {\n",
              "        text-align: right;\n",
              "    }\n",
              "</style>\n",
              "<table border=\"1\" class=\"dataframe\">\n",
              "  <thead>\n",
              "    <tr style=\"text-align: right;\">\n",
              "      <th></th>\n",
              "      <th>이름</th>\n",
              "      <th>수학</th>\n",
              "      <th>영어</th>\n",
              "      <th>음악</th>\n",
              "      <th>체육</th>\n",
              "      <th>국어</th>\n",
              "    </tr>\n",
              "  </thead>\n",
              "  <tbody>\n",
              "    <tr>\n",
              "      <th>0</th>\n",
              "      <td>서준</td>\n",
              "      <td>90</td>\n",
              "      <td>98</td>\n",
              "      <td>85</td>\n",
              "      <td>100</td>\n",
              "      <td>80</td>\n",
              "    </tr>\n",
              "    <tr>\n",
              "      <th>1</th>\n",
              "      <td>우현</td>\n",
              "      <td>80</td>\n",
              "      <td>89</td>\n",
              "      <td>95</td>\n",
              "      <td>90</td>\n",
              "      <td>80</td>\n",
              "    </tr>\n",
              "    <tr>\n",
              "      <th>2</th>\n",
              "      <td>인아</td>\n",
              "      <td>70</td>\n",
              "      <td>95</td>\n",
              "      <td>100</td>\n",
              "      <td>90</td>\n",
              "      <td>80</td>\n",
              "    </tr>\n",
              "  </tbody>\n",
              "</table>\n",
              "</div>"
            ],
            "text/plain": [
              "   이름  수학  영어   음악   체육  국어\n",
              "0  서준  90  98   85  100  80\n",
              "1  우현  80  89   95   90  80\n",
              "2  인아  70  95  100   90  80"
            ]
          },
          "metadata": {
            "tags": []
          },
          "execution_count": 59
        }
      ]
    },
    {
      "cell_type": "code",
      "metadata": {
        "id": "RH_o4IN3rDSt",
        "colab_type": "code",
        "colab": {
          "base_uri": "https://localhost:8080/",
          "height": 166
        },
        "outputId": "3064e708-550a-4772-ecea-26195a6cb586"
      },
      "source": [
        "#행 추가\n",
        "exam_data = {\n",
        "    \"이름\" : [\"서준\", \"우현\", \"인아\"],\n",
        "    \"수학\" : [90, 80, 70],\n",
        "    \"영어\" : [98, 89, 95],\n",
        "    \"음악\" : [85, 95, 100],\n",
        "    \"체육\" : [100, 90, 90]\n",
        "}\n",
        "\n",
        "df = pd.DataFrame(exam_data)\n",
        "\n",
        "df.loc[3] = 0 #새로운 행 추가 - 같은 원소 값 입력\n",
        "df"
      ],
      "execution_count": null,
      "outputs": [
        {
          "output_type": "execute_result",
          "data": {
            "text/html": [
              "<div>\n",
              "<style scoped>\n",
              "    .dataframe tbody tr th:only-of-type {\n",
              "        vertical-align: middle;\n",
              "    }\n",
              "\n",
              "    .dataframe tbody tr th {\n",
              "        vertical-align: top;\n",
              "    }\n",
              "\n",
              "    .dataframe thead th {\n",
              "        text-align: right;\n",
              "    }\n",
              "</style>\n",
              "<table border=\"1\" class=\"dataframe\">\n",
              "  <thead>\n",
              "    <tr style=\"text-align: right;\">\n",
              "      <th></th>\n",
              "      <th>이름</th>\n",
              "      <th>수학</th>\n",
              "      <th>영어</th>\n",
              "      <th>음악</th>\n",
              "      <th>체육</th>\n",
              "    </tr>\n",
              "  </thead>\n",
              "  <tbody>\n",
              "    <tr>\n",
              "      <th>0</th>\n",
              "      <td>서준</td>\n",
              "      <td>90</td>\n",
              "      <td>98</td>\n",
              "      <td>85</td>\n",
              "      <td>100</td>\n",
              "    </tr>\n",
              "    <tr>\n",
              "      <th>1</th>\n",
              "      <td>우현</td>\n",
              "      <td>80</td>\n",
              "      <td>89</td>\n",
              "      <td>95</td>\n",
              "      <td>90</td>\n",
              "    </tr>\n",
              "    <tr>\n",
              "      <th>2</th>\n",
              "      <td>인아</td>\n",
              "      <td>70</td>\n",
              "      <td>95</td>\n",
              "      <td>100</td>\n",
              "      <td>90</td>\n",
              "    </tr>\n",
              "    <tr>\n",
              "      <th>3</th>\n",
              "      <td>0</td>\n",
              "      <td>0</td>\n",
              "      <td>0</td>\n",
              "      <td>0</td>\n",
              "      <td>0</td>\n",
              "    </tr>\n",
              "  </tbody>\n",
              "</table>\n",
              "</div>"
            ],
            "text/plain": [
              "   이름  수학  영어   음악   체육\n",
              "0  서준  90  98   85  100\n",
              "1  우현  80  89   95   90\n",
              "2  인아  70  95  100   90\n",
              "3   0   0   0    0    0"
            ]
          },
          "metadata": {
            "tags": []
          },
          "execution_count": 60
        }
      ]
    },
    {
      "cell_type": "code",
      "metadata": {
        "id": "NlJ6I_W5rY44",
        "colab_type": "code",
        "colab": {
          "base_uri": "https://localhost:8080/",
          "height": 195
        },
        "outputId": "b8d8fdb5-9b49-4f7a-b68c-f31d9c5638da"
      },
      "source": [
        "df.loc[4] = [\"동규\", 90, 80, 75, 40] #새로운 행 추가 - 원소 값이 여러 개인 배열 입력\n",
        "df"
      ],
      "execution_count": null,
      "outputs": [
        {
          "output_type": "execute_result",
          "data": {
            "text/html": [
              "<div>\n",
              "<style scoped>\n",
              "    .dataframe tbody tr th:only-of-type {\n",
              "        vertical-align: middle;\n",
              "    }\n",
              "\n",
              "    .dataframe tbody tr th {\n",
              "        vertical-align: top;\n",
              "    }\n",
              "\n",
              "    .dataframe thead th {\n",
              "        text-align: right;\n",
              "    }\n",
              "</style>\n",
              "<table border=\"1\" class=\"dataframe\">\n",
              "  <thead>\n",
              "    <tr style=\"text-align: right;\">\n",
              "      <th></th>\n",
              "      <th>이름</th>\n",
              "      <th>수학</th>\n",
              "      <th>영어</th>\n",
              "      <th>음악</th>\n",
              "      <th>체육</th>\n",
              "    </tr>\n",
              "  </thead>\n",
              "  <tbody>\n",
              "    <tr>\n",
              "      <th>0</th>\n",
              "      <td>서준</td>\n",
              "      <td>90</td>\n",
              "      <td>98</td>\n",
              "      <td>85</td>\n",
              "      <td>100</td>\n",
              "    </tr>\n",
              "    <tr>\n",
              "      <th>1</th>\n",
              "      <td>우현</td>\n",
              "      <td>80</td>\n",
              "      <td>89</td>\n",
              "      <td>95</td>\n",
              "      <td>90</td>\n",
              "    </tr>\n",
              "    <tr>\n",
              "      <th>2</th>\n",
              "      <td>인아</td>\n",
              "      <td>70</td>\n",
              "      <td>95</td>\n",
              "      <td>100</td>\n",
              "      <td>90</td>\n",
              "    </tr>\n",
              "    <tr>\n",
              "      <th>3</th>\n",
              "      <td>0</td>\n",
              "      <td>0</td>\n",
              "      <td>0</td>\n",
              "      <td>0</td>\n",
              "      <td>0</td>\n",
              "    </tr>\n",
              "    <tr>\n",
              "      <th>4</th>\n",
              "      <td>동규</td>\n",
              "      <td>90</td>\n",
              "      <td>80</td>\n",
              "      <td>75</td>\n",
              "      <td>40</td>\n",
              "    </tr>\n",
              "  </tbody>\n",
              "</table>\n",
              "</div>"
            ],
            "text/plain": [
              "   이름  수학  영어   음악   체육\n",
              "0  서준  90  98   85  100\n",
              "1  우현  80  89   95   90\n",
              "2  인아  70  95  100   90\n",
              "3   0   0   0    0    0\n",
              "4  동규  90  80   75   40"
            ]
          },
          "metadata": {
            "tags": []
          },
          "execution_count": 62
        }
      ]
    },
    {
      "cell_type": "code",
      "metadata": {
        "id": "G5PKrIIzrlUx",
        "colab_type": "code",
        "colab": {
          "base_uri": "https://localhost:8080/",
          "height": 225
        },
        "outputId": "2856b924-cf74-48d1-8f52-322c48136b78"
      },
      "source": [
        "df.loc[\"행5\"] = df.loc[3] #새로운 행 추가 - 기존 행 복사\n",
        "df"
      ],
      "execution_count": null,
      "outputs": [
        {
          "output_type": "execute_result",
          "data": {
            "text/html": [
              "<div>\n",
              "<style scoped>\n",
              "    .dataframe tbody tr th:only-of-type {\n",
              "        vertical-align: middle;\n",
              "    }\n",
              "\n",
              "    .dataframe tbody tr th {\n",
              "        vertical-align: top;\n",
              "    }\n",
              "\n",
              "    .dataframe thead th {\n",
              "        text-align: right;\n",
              "    }\n",
              "</style>\n",
              "<table border=\"1\" class=\"dataframe\">\n",
              "  <thead>\n",
              "    <tr style=\"text-align: right;\">\n",
              "      <th></th>\n",
              "      <th>이름</th>\n",
              "      <th>수학</th>\n",
              "      <th>영어</th>\n",
              "      <th>음악</th>\n",
              "      <th>체육</th>\n",
              "    </tr>\n",
              "  </thead>\n",
              "  <tbody>\n",
              "    <tr>\n",
              "      <th>0</th>\n",
              "      <td>서준</td>\n",
              "      <td>90</td>\n",
              "      <td>98</td>\n",
              "      <td>85</td>\n",
              "      <td>100</td>\n",
              "    </tr>\n",
              "    <tr>\n",
              "      <th>1</th>\n",
              "      <td>우현</td>\n",
              "      <td>80</td>\n",
              "      <td>89</td>\n",
              "      <td>95</td>\n",
              "      <td>90</td>\n",
              "    </tr>\n",
              "    <tr>\n",
              "      <th>2</th>\n",
              "      <td>인아</td>\n",
              "      <td>70</td>\n",
              "      <td>95</td>\n",
              "      <td>100</td>\n",
              "      <td>90</td>\n",
              "    </tr>\n",
              "    <tr>\n",
              "      <th>3</th>\n",
              "      <td>0</td>\n",
              "      <td>0</td>\n",
              "      <td>0</td>\n",
              "      <td>0</td>\n",
              "      <td>0</td>\n",
              "    </tr>\n",
              "    <tr>\n",
              "      <th>4</th>\n",
              "      <td>동규</td>\n",
              "      <td>90</td>\n",
              "      <td>80</td>\n",
              "      <td>75</td>\n",
              "      <td>40</td>\n",
              "    </tr>\n",
              "    <tr>\n",
              "      <th>행5</th>\n",
              "      <td>0</td>\n",
              "      <td>0</td>\n",
              "      <td>0</td>\n",
              "      <td>0</td>\n",
              "      <td>0</td>\n",
              "    </tr>\n",
              "  </tbody>\n",
              "</table>\n",
              "</div>"
            ],
            "text/plain": [
              "    이름  수학  영어   음악   체육\n",
              "0   서준  90  98   85  100\n",
              "1   우현  80  89   95   90\n",
              "2   인아  70  95  100   90\n",
              "3    0   0   0    0    0\n",
              "4   동규  90  80   75   40\n",
              "행5   0   0   0    0    0"
            ]
          },
          "metadata": {
            "tags": []
          },
          "execution_count": 64
        }
      ]
    },
    {
      "cell_type": "markdown",
      "metadata": {
        "id": "HoBZ5TMUrvKg",
        "colab_type": "text"
      },
      "source": [
        "원소 값 변경"
      ]
    },
    {
      "cell_type": "code",
      "metadata": {
        "id": "Ax1dVgZJrsev",
        "colab_type": "code",
        "colab": {
          "base_uri": "https://localhost:8080/",
          "height": 422
        },
        "outputId": "77c92f19-7e6b-4d6e-f06d-2942c57468a8"
      },
      "source": [
        "#1개의 값 변경\n",
        "exam_data = {\n",
        "    \"이름\" : [\"서준\", \"우현\", \"인아\"],\n",
        "    \"수학\" : [90, 80, 70],\n",
        "    \"영어\" : [98, 89, 95],\n",
        "    \"음악\" : [85, 95, 100],\n",
        "    \"체육\" : [100, 90, 90]\n",
        "}\n",
        "\n",
        "df = pd.DataFrame(exam_data)\n",
        "df.set_index(\"이름\", inplace = True)\n",
        "print(df, \"\\n\")\n",
        "\n",
        "df.iloc[0][3] = 80 #\"서준\"의 \"체육\" 점수 변경 1\n",
        "print(df, \"\\n\")\n",
        "\n",
        "df.loc[\"서준\"][\"체육\"] = 90 #변경 2\n",
        "print(df, \"\\n\")\n",
        "\n",
        "df.loc[\"서준\", \"체육\"] = 100 #변경 3\n",
        "print(df)"
      ],
      "execution_count": null,
      "outputs": [
        {
          "output_type": "stream",
          "text": [
            "    수학  영어   음악   체육\n",
            "이름                  \n",
            "서준  90  98   85  100\n",
            "우현  80  89   95   90\n",
            "인아  70  95  100   90 \n",
            "\n",
            "    수학  영어   음악  체육\n",
            "이름                 \n",
            "서준  90  98   85  80\n",
            "우현  80  89   95  90\n",
            "인아  70  95  100  90 \n",
            "\n",
            "    수학  영어   음악  체육\n",
            "이름                 \n",
            "서준  90  98   85  90\n",
            "우현  80  89   95  90\n",
            "인아  70  95  100  90 \n",
            "\n",
            "    수학  영어   음악   체육\n",
            "이름                  \n",
            "서준  90  98   85  100\n",
            "우현  80  89   95   90\n",
            "인아  70  95  100   90\n"
          ],
          "name": "stdout"
        }
      ]
    },
    {
      "cell_type": "code",
      "metadata": {
        "id": "pFfCQjqTsJsd",
        "colab_type": "code",
        "colab": {
          "base_uri": "https://localhost:8080/",
          "height": 210
        },
        "outputId": "f8e2ddfd-05e3-42af-ce22-8c3adb2611e9"
      },
      "source": [
        "#여러 개의 값 변경\n",
        "df.loc[\"서준\", [\"음악\", \"체육\"]] = 50 #\"서준\"의 \"음악, 체육\" 점수를 50점으로 변경\n",
        "print(df, \"\\n\")\n",
        "\n",
        "df.loc[\"서준\", [\"음악\", \"체육\"]] = 100, 50\n",
        "print(df)"
      ],
      "execution_count": null,
      "outputs": [
        {
          "output_type": "stream",
          "text": [
            "    수학  영어   음악  체육\n",
            "이름                 \n",
            "서준  90  98   50  50\n",
            "우현  80  89   95  90\n",
            "인아  70  95  100  90 \n",
            "\n",
            "    수학  영어   음악  체육\n",
            "이름                 \n",
            "서준  90  98  100  50\n",
            "우현  80  89   95  90\n",
            "인아  70  95  100  90\n"
          ],
          "name": "stdout"
        }
      ]
    },
    {
      "cell_type": "markdown",
      "metadata": {
        "id": "tGnAfQFGs7dG",
        "colab_type": "text"
      },
      "source": [
        "행, 열 위치 바꾸기 (transpose)"
      ]
    },
    {
      "cell_type": "code",
      "metadata": {
        "id": "X1gG0cF7siNr",
        "colab_type": "code",
        "colab": {
          "base_uri": "https://localhost:8080/",
          "height": 298
        },
        "outputId": "31b86210-a5a0-4dd5-cd13-39dfc8221abb"
      },
      "source": [
        "exam_data = {\n",
        "    \"이름\" : [\"서준\", \"우현\", \"인아\"],\n",
        "    \"수학\" : [90, 80, 70],\n",
        "    \"영어\" : [98, 89, 95],\n",
        "    \"음악\" : [85, 95, 100],\n",
        "    \"체육\" : [100, 90, 90]\n",
        "}\n",
        "\n",
        "df = pd.DataFrame(exam_data)\n",
        "print(df, \"\\n\")\n",
        "\n",
        "df = df.transpose() #메소드를 활용한 전치\n",
        "print(df, \"\\n\")\n",
        "\n",
        "df = df.T  #클래스 속성을 활용한 전치\n",
        "print(df)"
      ],
      "execution_count": null,
      "outputs": [
        {
          "output_type": "stream",
          "text": [
            "   이름  수학  영어   음악   체육\n",
            "0  서준  90  98   85  100\n",
            "1  우현  80  89   95   90\n",
            "2  인아  70  95  100   90 \n",
            "\n",
            "      0   1    2\n",
            "이름   서준  우현   인아\n",
            "수학   90  80   70\n",
            "영어   98  89   95\n",
            "음악   85  95  100\n",
            "체육  100  90   90 \n",
            "\n",
            "   이름  수학  영어   음악   체육\n",
            "0  서준  90  98   85  100\n",
            "1  우현  80  89   95   90\n",
            "2  인아  70  95  100   90\n"
          ],
          "name": "stdout"
        }
      ]
    },
    {
      "cell_type": "markdown",
      "metadata": {
        "id": "Lx9af0cCthwR",
        "colab_type": "text"
      },
      "source": [
        "인덱스 활용"
      ]
    },
    {
      "cell_type": "code",
      "metadata": {
        "id": "fPcHZBGNtQjR",
        "colab_type": "code",
        "colab": {}
      },
      "source": [
        "#특정 열을 행 인덱스로 설정\n",
        "#DataFrame.set_index([\"열 이름\"])"
      ],
      "execution_count": null,
      "outputs": []
    },
    {
      "cell_type": "code",
      "metadata": {
        "id": "0yWdVl9NtpGS",
        "colab_type": "code",
        "colab": {
          "base_uri": "https://localhost:8080/",
          "height": 136
        },
        "outputId": "e7739358-755c-4bde-9d72-450f52c85b41"
      },
      "source": [
        "#행 인덱스 재배열: reindex()\n",
        "dict_data = {\n",
        "    \"c0\" : [1, 2, 3],\n",
        "    \"c1\" : [4, 5, 6],\n",
        "    \"c2\" : [7, 8, 9],\n",
        "    \"c3\" : [10, 11, 12],\n",
        "    \"c4\" : [13, 14, 15]\n",
        "}\n",
        "\n",
        "df = pd.DataFrame(dict_data,index = [\"r0\", \"r1\", \"r2\"])\n",
        "df"
      ],
      "execution_count": null,
      "outputs": [
        {
          "output_type": "execute_result",
          "data": {
            "text/html": [
              "<div>\n",
              "<style scoped>\n",
              "    .dataframe tbody tr th:only-of-type {\n",
              "        vertical-align: middle;\n",
              "    }\n",
              "\n",
              "    .dataframe tbody tr th {\n",
              "        vertical-align: top;\n",
              "    }\n",
              "\n",
              "    .dataframe thead th {\n",
              "        text-align: right;\n",
              "    }\n",
              "</style>\n",
              "<table border=\"1\" class=\"dataframe\">\n",
              "  <thead>\n",
              "    <tr style=\"text-align: right;\">\n",
              "      <th></th>\n",
              "      <th>c0</th>\n",
              "      <th>c1</th>\n",
              "      <th>c2</th>\n",
              "      <th>c3</th>\n",
              "      <th>c4</th>\n",
              "    </tr>\n",
              "  </thead>\n",
              "  <tbody>\n",
              "    <tr>\n",
              "      <th>r0</th>\n",
              "      <td>1</td>\n",
              "      <td>4</td>\n",
              "      <td>7</td>\n",
              "      <td>10</td>\n",
              "      <td>13</td>\n",
              "    </tr>\n",
              "    <tr>\n",
              "      <th>r1</th>\n",
              "      <td>2</td>\n",
              "      <td>5</td>\n",
              "      <td>8</td>\n",
              "      <td>11</td>\n",
              "      <td>14</td>\n",
              "    </tr>\n",
              "    <tr>\n",
              "      <th>r2</th>\n",
              "      <td>3</td>\n",
              "      <td>6</td>\n",
              "      <td>9</td>\n",
              "      <td>12</td>\n",
              "      <td>15</td>\n",
              "    </tr>\n",
              "  </tbody>\n",
              "</table>\n",
              "</div>"
            ],
            "text/plain": [
              "    c0  c1  c2  c3  c4\n",
              "r0   1   4   7  10  13\n",
              "r1   2   5   8  11  14\n",
              "r2   3   6   9  12  15"
            ]
          },
          "metadata": {
            "tags": []
          },
          "execution_count": 76
        }
      ]
    },
    {
      "cell_type": "code",
      "metadata": {
        "id": "7GDe0kwet5ce",
        "colab_type": "code",
        "colab": {
          "base_uri": "https://localhost:8080/",
          "height": 246
        },
        "outputId": "88a0a832-5a72-4e0a-e456-f02ce8a80fea"
      },
      "source": [
        "new_index = [\"r0\", \"r1\", \"r2\", \"r3\", \"r4\"]\n",
        "ndf = df.reindex(new_index) #인덱스 재지정\n",
        "print(ndf, \"\\n\")\n",
        "\n",
        "#새롭게 추가된 \"r3\", \"r4\" 인덱스에 해당하는 모든 열은 NaN(데이터 값이 존재하지 않음)\n",
        "#유효한 값으로 채우려면, \n",
        "ndf2 = df.reindex(new_index, fill_value = 0)\n",
        "print(ndf2)"
      ],
      "execution_count": null,
      "outputs": [
        {
          "output_type": "stream",
          "text": [
            "     c0   c1   c2    c3    c4\n",
            "r0  1.0  4.0  7.0  10.0  13.0\n",
            "r1  2.0  5.0  8.0  11.0  14.0\n",
            "r2  3.0  6.0  9.0  12.0  15.0\n",
            "r3  NaN  NaN  NaN   NaN   NaN\n",
            "r4  NaN  NaN  NaN   NaN   NaN \n",
            "\n",
            "    c0  c1  c2  c3  c4\n",
            "r0   1   4   7  10  13\n",
            "r1   2   5   8  11  14\n",
            "r2   3   6   9  12  15\n",
            "r3   0   0   0   0   0\n",
            "r4   0   0   0   0   0\n"
          ],
          "name": "stdout"
        }
      ]
    },
    {
      "cell_type": "code",
      "metadata": {
        "id": "eYGBlh93uQH5",
        "colab_type": "code",
        "colab": {
          "base_uri": "https://localhost:8080/",
          "height": 175
        },
        "outputId": "b3b9ae7a-375f-446f-b3ad-596206968a00"
      },
      "source": [
        "#행 인덱스 초기화: reset_index()\n",
        "dict_data = {\n",
        "    \"c0\" : [1, 2, 3],\n",
        "    \"c1\" : [4, 5, 6],\n",
        "    \"c2\" : [7, 8, 9],\n",
        "    \"c3\" : [10, 11, 12],\n",
        "    \"c4\" : [13, 14, 15]\n",
        "}\n",
        "\n",
        "df = pd.DataFrame(dict_data,index = [\"r0\", \"r1\", \"r2\"])\n",
        "print(df, \"\\n\")\n",
        "\n",
        "ndf = df.reset_index()\n",
        "print(ndf)"
      ],
      "execution_count": null,
      "outputs": [
        {
          "output_type": "stream",
          "text": [
            "    c0  c1  c2  c3  c4\n",
            "r0   1   4   7  10  13\n",
            "r1   2   5   8  11  14\n",
            "r2   3   6   9  12  15 \n",
            "\n",
            "  index  c0  c1  c2  c3  c4\n",
            "0    r0   1   4   7  10  13\n",
            "1    r1   2   5   8  11  14\n",
            "2    r2   3   6   9  12  15\n"
          ],
          "name": "stdout"
        }
      ]
    },
    {
      "cell_type": "code",
      "metadata": {
        "id": "0CLKDfQou2-t",
        "colab_type": "code",
        "colab": {
          "base_uri": "https://localhost:8080/",
          "height": 87
        },
        "outputId": "33a436de-5d64-458e-ed8a-647be37b1447"
      },
      "source": [
        "#행 인덱스를 기준으로 데이터 프레임 정렬: sort_index()\n",
        "#ascending 옵션으로 오름차순, 내림차순 설정\n",
        "dict_data = {\n",
        "    \"c0\" : [1, 2, 3],\n",
        "    \"c1\" : [4, 5, 6],\n",
        "    \"c2\" : [7, 8, 9],\n",
        "    \"c3\" : [10, 11, 12],\n",
        "    \"c4\" : [13, 14, 15]\n",
        "}\n",
        "\n",
        "df = pd.DataFrame(dict_data,index = [\"r0\", \"r1\", \"r2\"])\n",
        "\n",
        "#기본 설정은 오름차순\n",
        "#내림차순으로 행 인덱스 정렬\n",
        "ndf = df.sort_index(ascending = False)\n",
        "print(ndf)"
      ],
      "execution_count": null,
      "outputs": [
        {
          "output_type": "stream",
          "text": [
            "    c0  c1  c2  c3  c4\n",
            "r2   3   6   9  12  15\n",
            "r1   2   5   8  11  14\n",
            "r0   1   4   7  10  13\n"
          ],
          "name": "stdout"
        }
      ]
    },
    {
      "cell_type": "markdown",
      "metadata": {
        "id": "g6dKz68nvth-",
        "colab_type": "text"
      },
      "source": [
        "시리즈 연산"
      ]
    },
    {
      "cell_type": "code",
      "metadata": {
        "id": "rPe-9Fd_vJvu",
        "colab_type": "code",
        "colab": {
          "base_uri": "https://localhost:8080/",
          "height": 140
        },
        "outputId": "e3bf32f5-b952-4467-acaa-57a45f0ebf38"
      },
      "source": [
        "#시리즈와 시리즈 사이의 '사칙연산'\n",
        "student1 = pd.Series({\"국어\" : 100, \"영어\" : 80, \"수학\" : 90})\n",
        "student2 = pd.Series({\"수학\" : 80, \"국어\" : 90, \"영어\" : 80 })\n",
        "\n",
        "addition = student1 + student2\n",
        "subtraction = student1 - student2\n",
        "multiplication = student1 * student2\n",
        "division = student1 / student2 \n",
        "\n",
        "print(type(division))\n",
        "print()\n",
        "\n",
        "result = pd.DataFrame([addition, subtraction, multiplication, division],\n",
        "                      index = [\"덧셈\", \"뺄셈\", \"곱셈\", \"나눗셈\"])\n",
        "\n",
        "print(result)"
      ],
      "execution_count": null,
      "outputs": [
        {
          "output_type": "stream",
          "text": [
            "<class 'pandas.core.series.Series'>\n",
            "\n",
            "              국어        수학      영어\n",
            "덧셈    190.000000   170.000   160.0\n",
            "뺄셈     10.000000    10.000     0.0\n",
            "곱셈   9000.000000  7200.000  6400.0\n",
            "나눗셈     1.111111     1.125     1.0\n"
          ],
          "name": "stdout"
        }
      ]
    },
    {
      "cell_type": "code",
      "metadata": {
        "id": "X0S9n6J3wsEJ",
        "colab_type": "code",
        "colab": {}
      },
      "source": [
        "#두 시리즈의 원소 개수가 다르거나, 크기가 같으나 인덱스 값이 다른 경우 NaN 처리\n",
        "#같은 인덱스가 양쪽 모두에 존재해 대응되더라도 데이터 값이 NaN인 경우 NaN 처리"
      ],
      "execution_count": null,
      "outputs": []
    },
    {
      "cell_type": "code",
      "metadata": {
        "id": "ahqdxVCSxN-x",
        "colab_type": "code",
        "colab": {
          "base_uri": "https://localhost:8080/",
          "height": 166
        },
        "outputId": "33398d82-64ac-4327-fbec-fb46adb3b637"
      },
      "source": [
        "import numpy as np\n",
        "\n",
        "#연산 메소드를 활용한 시리즈 연산 \n",
        "student1 = pd.Series({\"국어\" : np.nan, \"영어\" : 80, \"수학\" : 90})\n",
        "student2 = pd.Series({\"수학\" : 80, \"국어\" : 90, \"영어\" : 80 })\n",
        "\n",
        "sr_add = student1.add(student2, fill_value = 0)\n",
        "sr_sub = student1.sub(student2, fill_value = 0)\n",
        "sr_mul = student1.mul(student2, fill_value = 0)\n",
        "sr_div = student1.div(student2, fill_value = 0)\n",
        "\n",
        "result = pd.DataFrame([sr_add, sr_sub, sr_mul, sr_div],\n",
        "                      index = [\"덧셈\", \"뺄셈\", \"곱셈\", \"나눗셈\"])\n",
        "\n",
        "result"
      ],
      "execution_count": null,
      "outputs": [
        {
          "output_type": "execute_result",
          "data": {
            "text/html": [
              "<div>\n",
              "<style scoped>\n",
              "    .dataframe tbody tr th:only-of-type {\n",
              "        vertical-align: middle;\n",
              "    }\n",
              "\n",
              "    .dataframe tbody tr th {\n",
              "        vertical-align: top;\n",
              "    }\n",
              "\n",
              "    .dataframe thead th {\n",
              "        text-align: right;\n",
              "    }\n",
              "</style>\n",
              "<table border=\"1\" class=\"dataframe\">\n",
              "  <thead>\n",
              "    <tr style=\"text-align: right;\">\n",
              "      <th></th>\n",
              "      <th>국어</th>\n",
              "      <th>수학</th>\n",
              "      <th>영어</th>\n",
              "    </tr>\n",
              "  </thead>\n",
              "  <tbody>\n",
              "    <tr>\n",
              "      <th>덧셈</th>\n",
              "      <td>90.0</td>\n",
              "      <td>170.000</td>\n",
              "      <td>160.0</td>\n",
              "    </tr>\n",
              "    <tr>\n",
              "      <th>뺄셈</th>\n",
              "      <td>-90.0</td>\n",
              "      <td>10.000</td>\n",
              "      <td>0.0</td>\n",
              "    </tr>\n",
              "    <tr>\n",
              "      <th>곱셈</th>\n",
              "      <td>0.0</td>\n",
              "      <td>7200.000</td>\n",
              "      <td>6400.0</td>\n",
              "    </tr>\n",
              "    <tr>\n",
              "      <th>나눗셈</th>\n",
              "      <td>0.0</td>\n",
              "      <td>1.125</td>\n",
              "      <td>1.0</td>\n",
              "    </tr>\n",
              "  </tbody>\n",
              "</table>\n",
              "</div>"
            ],
            "text/plain": [
              "       국어        수학      영어\n",
              "덧셈   90.0   170.000   160.0\n",
              "뺄셈  -90.0    10.000     0.0\n",
              "곱셈    0.0  7200.000  6400.0\n",
              "나눗셈   0.0     1.125     1.0"
            ]
          },
          "metadata": {
            "tags": []
          },
          "execution_count": 87
        }
      ]
    },
    {
      "cell_type": "markdown",
      "metadata": {
        "id": "CSAQLZKE1Jcf",
        "colab_type": "text"
      },
      "source": [
        "데이터프레임 연산"
      ]
    },
    {
      "cell_type": "code",
      "metadata": {
        "id": "nIJ5qet40O6E",
        "colab_type": "code",
        "colab": {
          "base_uri": "https://localhost:8080/",
          "height": 195
        },
        "outputId": "171917e3-e9b8-450d-a4b7-d91e9a82937c"
      },
      "source": [
        "#데이터프레임과 숫자의 사칙연산\n",
        "import seaborn as sns\n",
        "\n",
        "titanic = sns.load_dataset(\"titanic\") #데이터셋 불러오기\n",
        "df = titanic.loc[:, [\"age\", \"fare\"]]\n",
        "\n",
        "addition = df + 10 #데이터프레임에 숫자 더하기\n",
        "addition.head()"
      ],
      "execution_count": null,
      "outputs": [
        {
          "output_type": "execute_result",
          "data": {
            "text/html": [
              "<div>\n",
              "<style scoped>\n",
              "    .dataframe tbody tr th:only-of-type {\n",
              "        vertical-align: middle;\n",
              "    }\n",
              "\n",
              "    .dataframe tbody tr th {\n",
              "        vertical-align: top;\n",
              "    }\n",
              "\n",
              "    .dataframe thead th {\n",
              "        text-align: right;\n",
              "    }\n",
              "</style>\n",
              "<table border=\"1\" class=\"dataframe\">\n",
              "  <thead>\n",
              "    <tr style=\"text-align: right;\">\n",
              "      <th></th>\n",
              "      <th>age</th>\n",
              "      <th>fare</th>\n",
              "    </tr>\n",
              "  </thead>\n",
              "  <tbody>\n",
              "    <tr>\n",
              "      <th>0</th>\n",
              "      <td>32.0</td>\n",
              "      <td>17.2500</td>\n",
              "    </tr>\n",
              "    <tr>\n",
              "      <th>1</th>\n",
              "      <td>48.0</td>\n",
              "      <td>81.2833</td>\n",
              "    </tr>\n",
              "    <tr>\n",
              "      <th>2</th>\n",
              "      <td>36.0</td>\n",
              "      <td>17.9250</td>\n",
              "    </tr>\n",
              "    <tr>\n",
              "      <th>3</th>\n",
              "      <td>45.0</td>\n",
              "      <td>63.1000</td>\n",
              "    </tr>\n",
              "    <tr>\n",
              "      <th>4</th>\n",
              "      <td>45.0</td>\n",
              "      <td>18.0500</td>\n",
              "    </tr>\n",
              "  </tbody>\n",
              "</table>\n",
              "</div>"
            ],
            "text/plain": [
              "    age     fare\n",
              "0  32.0  17.2500\n",
              "1  48.0  81.2833\n",
              "2  36.0  17.9250\n",
              "3  45.0  63.1000\n",
              "4  45.0  18.0500"
            ]
          },
          "metadata": {
            "tags": []
          },
          "execution_count": 96
        }
      ]
    },
    {
      "cell_type": "code",
      "metadata": {
        "id": "eeZKvwoo1lZW",
        "colab_type": "code",
        "colab": {
          "base_uri": "https://localhost:8080/",
          "height": 402
        },
        "outputId": "a89b887f-e842-482a-c53d-016572f1f302"
      },
      "source": [
        "#데이터프레임 간의 연산\n",
        "titanic = sns.load_dataset(\"titanic\")\n",
        "df = titanic.loc[:, [\"age\", \"fare\"]]\n",
        "\n",
        "addition = df + 10\n",
        "subtraction = df - 10\n",
        "subtraction"
      ],
      "execution_count": null,
      "outputs": [
        {
          "output_type": "execute_result",
          "data": {
            "text/html": [
              "<div>\n",
              "<style scoped>\n",
              "    .dataframe tbody tr th:only-of-type {\n",
              "        vertical-align: middle;\n",
              "    }\n",
              "\n",
              "    .dataframe tbody tr th {\n",
              "        vertical-align: top;\n",
              "    }\n",
              "\n",
              "    .dataframe thead th {\n",
              "        text-align: right;\n",
              "    }\n",
              "</style>\n",
              "<table border=\"1\" class=\"dataframe\">\n",
              "  <thead>\n",
              "    <tr style=\"text-align: right;\">\n",
              "      <th></th>\n",
              "      <th>age</th>\n",
              "      <th>fare</th>\n",
              "    </tr>\n",
              "  </thead>\n",
              "  <tbody>\n",
              "    <tr>\n",
              "      <th>0</th>\n",
              "      <td>12.0</td>\n",
              "      <td>-2.7500</td>\n",
              "    </tr>\n",
              "    <tr>\n",
              "      <th>1</th>\n",
              "      <td>28.0</td>\n",
              "      <td>61.2833</td>\n",
              "    </tr>\n",
              "    <tr>\n",
              "      <th>2</th>\n",
              "      <td>16.0</td>\n",
              "      <td>-2.0750</td>\n",
              "    </tr>\n",
              "    <tr>\n",
              "      <th>3</th>\n",
              "      <td>25.0</td>\n",
              "      <td>43.1000</td>\n",
              "    </tr>\n",
              "    <tr>\n",
              "      <th>4</th>\n",
              "      <td>25.0</td>\n",
              "      <td>-1.9500</td>\n",
              "    </tr>\n",
              "    <tr>\n",
              "      <th>...</th>\n",
              "      <td>...</td>\n",
              "      <td>...</td>\n",
              "    </tr>\n",
              "    <tr>\n",
              "      <th>886</th>\n",
              "      <td>17.0</td>\n",
              "      <td>3.0000</td>\n",
              "    </tr>\n",
              "    <tr>\n",
              "      <th>887</th>\n",
              "      <td>9.0</td>\n",
              "      <td>20.0000</td>\n",
              "    </tr>\n",
              "    <tr>\n",
              "      <th>888</th>\n",
              "      <td>NaN</td>\n",
              "      <td>13.4500</td>\n",
              "    </tr>\n",
              "    <tr>\n",
              "      <th>889</th>\n",
              "      <td>16.0</td>\n",
              "      <td>20.0000</td>\n",
              "    </tr>\n",
              "    <tr>\n",
              "      <th>890</th>\n",
              "      <td>22.0</td>\n",
              "      <td>-2.2500</td>\n",
              "    </tr>\n",
              "  </tbody>\n",
              "</table>\n",
              "<p>891 rows × 2 columns</p>\n",
              "</div>"
            ],
            "text/plain": [
              "      age     fare\n",
              "0    12.0  -2.7500\n",
              "1    28.0  61.2833\n",
              "2    16.0  -2.0750\n",
              "3    25.0  43.1000\n",
              "4    25.0  -1.9500\n",
              "..    ...      ...\n",
              "886  17.0   3.0000\n",
              "887   9.0  20.0000\n",
              "888   NaN  13.4500\n",
              "889  16.0  20.0000\n",
              "890  22.0  -2.2500\n",
              "\n",
              "[891 rows x 2 columns]"
            ]
          },
          "metadata": {
            "tags": []
          },
          "execution_count": 95
        }
      ]
    }
  ]
}