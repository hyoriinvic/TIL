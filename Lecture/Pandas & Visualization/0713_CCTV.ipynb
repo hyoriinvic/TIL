{
  "nbformat": 4,
  "nbformat_minor": 0,
  "metadata": {
    "colab": {
      "name": "0713 CCTV",
      "provenance": []
    },
    "kernelspec": {
      "name": "python3",
      "display_name": "Python 3"
    }
  },
  "cells": [
    {
      "cell_type": "code",
      "metadata": {
        "id": "a2wHW39vyy40",
        "colab_type": "code",
        "colab": {}
      },
      "source": [
        "import pandas as pd"
      ],
      "execution_count": null,
      "outputs": []
    },
    {
      "cell_type": "code",
      "metadata": {
        "id": "Zg4NkI-fzIL0",
        "colab_type": "code",
        "colab": {}
      },
      "source": [
        "CCTV_Seoul = pd.read_csv(\"./CCTV_in_Seoul.csv\", encoding = \"UTF-8\") #구별 CCTV 정보가 담긴 파일"
      ],
      "execution_count": null,
      "outputs": []
    },
    {
      "cell_type": "code",
      "metadata": {
        "id": "m9WBaikx_xmN",
        "colab_type": "code",
        "colab": {
          "base_uri": "https://localhost:8080/",
          "height": 284
        },
        "outputId": "ef8b155e-26c1-46d5-ff73-e561da202fad"
      },
      "source": [
        "CCTV_Seoul.describe()"
      ],
      "execution_count": null,
      "outputs": [
        {
          "output_type": "execute_result",
          "data": {
            "text/html": [
              "<div>\n",
              "<style scoped>\n",
              "    .dataframe tbody tr th:only-of-type {\n",
              "        vertical-align: middle;\n",
              "    }\n",
              "\n",
              "    .dataframe tbody tr th {\n",
              "        vertical-align: top;\n",
              "    }\n",
              "\n",
              "    .dataframe thead th {\n",
              "        text-align: right;\n",
              "    }\n",
              "</style>\n",
              "<table border=\"1\" class=\"dataframe\">\n",
              "  <thead>\n",
              "    <tr style=\"text-align: right;\">\n",
              "      <th></th>\n",
              "      <th>소계</th>\n",
              "      <th>2013년도 이전</th>\n",
              "      <th>2014년</th>\n",
              "      <th>2015년</th>\n",
              "      <th>2016년</th>\n",
              "    </tr>\n",
              "  </thead>\n",
              "  <tbody>\n",
              "    <tr>\n",
              "      <th>count</th>\n",
              "      <td>25.000000</td>\n",
              "      <td>25.000000</td>\n",
              "      <td>25.000000</td>\n",
              "      <td>25.000000</td>\n",
              "      <td>25.000000</td>\n",
              "    </tr>\n",
              "    <tr>\n",
              "      <th>mean</th>\n",
              "      <td>1179.080000</td>\n",
              "      <td>764.760000</td>\n",
              "      <td>159.480000</td>\n",
              "      <td>205.200000</td>\n",
              "      <td>385.880000</td>\n",
              "    </tr>\n",
              "    <tr>\n",
              "      <th>std</th>\n",
              "      <td>556.728983</td>\n",
              "      <td>415.510257</td>\n",
              "      <td>104.132976</td>\n",
              "      <td>137.877059</td>\n",
              "      <td>182.479981</td>\n",
              "    </tr>\n",
              "    <tr>\n",
              "      <th>min</th>\n",
              "      <td>485.000000</td>\n",
              "      <td>238.000000</td>\n",
              "      <td>21.000000</td>\n",
              "      <td>30.000000</td>\n",
              "      <td>81.000000</td>\n",
              "    </tr>\n",
              "    <tr>\n",
              "      <th>25%</th>\n",
              "      <td>748.000000</td>\n",
              "      <td>464.000000</td>\n",
              "      <td>78.000000</td>\n",
              "      <td>103.000000</td>\n",
              "      <td>292.000000</td>\n",
              "    </tr>\n",
              "    <tr>\n",
              "      <th>50%</th>\n",
              "      <td>1015.000000</td>\n",
              "      <td>573.000000</td>\n",
              "      <td>142.000000</td>\n",
              "      <td>184.000000</td>\n",
              "      <td>377.000000</td>\n",
              "    </tr>\n",
              "    <tr>\n",
              "      <th>75%</th>\n",
              "      <td>1496.000000</td>\n",
              "      <td>1070.000000</td>\n",
              "      <td>218.000000</td>\n",
              "      <td>269.000000</td>\n",
              "      <td>467.000000</td>\n",
              "    </tr>\n",
              "    <tr>\n",
              "      <th>max</th>\n",
              "      <td>2780.000000</td>\n",
              "      <td>1843.000000</td>\n",
              "      <td>430.000000</td>\n",
              "      <td>584.000000</td>\n",
              "      <td>932.000000</td>\n",
              "    </tr>\n",
              "  </tbody>\n",
              "</table>\n",
              "</div>"
            ],
            "text/plain": [
              "                소계    2013년도 이전       2014년       2015년       2016년\n",
              "count    25.000000    25.000000   25.000000   25.000000   25.000000\n",
              "mean   1179.080000   764.760000  159.480000  205.200000  385.880000\n",
              "std     556.728983   415.510257  104.132976  137.877059  182.479981\n",
              "min     485.000000   238.000000   21.000000   30.000000   81.000000\n",
              "25%     748.000000   464.000000   78.000000  103.000000  292.000000\n",
              "50%    1015.000000   573.000000  142.000000  184.000000  377.000000\n",
              "75%    1496.000000  1070.000000  218.000000  269.000000  467.000000\n",
              "max    2780.000000  1843.000000  430.000000  584.000000  932.000000"
            ]
          },
          "metadata": {
            "tags": []
          },
          "execution_count": 4
        }
      ]
    },
    {
      "cell_type": "code",
      "metadata": {
        "id": "BXhWz4Hz_1LF",
        "colab_type": "code",
        "colab": {
          "base_uri": "https://localhost:8080/",
          "height": 284
        },
        "outputId": "3f7d0851-a172-497d-9ef6-1b9e3e6251a7"
      },
      "source": [
        "CCTV_Seoul[[\"소계\", \"2014년\"]].describe()"
      ],
      "execution_count": null,
      "outputs": [
        {
          "output_type": "execute_result",
          "data": {
            "text/html": [
              "<div>\n",
              "<style scoped>\n",
              "    .dataframe tbody tr th:only-of-type {\n",
              "        vertical-align: middle;\n",
              "    }\n",
              "\n",
              "    .dataframe tbody tr th {\n",
              "        vertical-align: top;\n",
              "    }\n",
              "\n",
              "    .dataframe thead th {\n",
              "        text-align: right;\n",
              "    }\n",
              "</style>\n",
              "<table border=\"1\" class=\"dataframe\">\n",
              "  <thead>\n",
              "    <tr style=\"text-align: right;\">\n",
              "      <th></th>\n",
              "      <th>소계</th>\n",
              "      <th>2014년</th>\n",
              "    </tr>\n",
              "  </thead>\n",
              "  <tbody>\n",
              "    <tr>\n",
              "      <th>count</th>\n",
              "      <td>25.000000</td>\n",
              "      <td>25.000000</td>\n",
              "    </tr>\n",
              "    <tr>\n",
              "      <th>mean</th>\n",
              "      <td>1179.080000</td>\n",
              "      <td>159.480000</td>\n",
              "    </tr>\n",
              "    <tr>\n",
              "      <th>std</th>\n",
              "      <td>556.728983</td>\n",
              "      <td>104.132976</td>\n",
              "    </tr>\n",
              "    <tr>\n",
              "      <th>min</th>\n",
              "      <td>485.000000</td>\n",
              "      <td>21.000000</td>\n",
              "    </tr>\n",
              "    <tr>\n",
              "      <th>25%</th>\n",
              "      <td>748.000000</td>\n",
              "      <td>78.000000</td>\n",
              "    </tr>\n",
              "    <tr>\n",
              "      <th>50%</th>\n",
              "      <td>1015.000000</td>\n",
              "      <td>142.000000</td>\n",
              "    </tr>\n",
              "    <tr>\n",
              "      <th>75%</th>\n",
              "      <td>1496.000000</td>\n",
              "      <td>218.000000</td>\n",
              "    </tr>\n",
              "    <tr>\n",
              "      <th>max</th>\n",
              "      <td>2780.000000</td>\n",
              "      <td>430.000000</td>\n",
              "    </tr>\n",
              "  </tbody>\n",
              "</table>\n",
              "</div>"
            ],
            "text/plain": [
              "                소계       2014년\n",
              "count    25.000000   25.000000\n",
              "mean   1179.080000  159.480000\n",
              "std     556.728983  104.132976\n",
              "min     485.000000   21.000000\n",
              "25%     748.000000   78.000000\n",
              "50%    1015.000000  142.000000\n",
              "75%    1496.000000  218.000000\n",
              "max    2780.000000  430.000000"
            ]
          },
          "metadata": {
            "tags": []
          },
          "execution_count": 10
        }
      ]
    },
    {
      "cell_type": "code",
      "metadata": {
        "id": "SfdN_XEMzQk1",
        "colab_type": "code",
        "colab": {
          "base_uri": "https://localhost:8080/",
          "height": 787
        },
        "outputId": "26309f5d-d9da-4d99-8363-e9d4d351b9d7"
      },
      "source": [
        " CCTV_Seoul"
      ],
      "execution_count": null,
      "outputs": [
        {
          "output_type": "execute_result",
          "data": {
            "text/html": [
              "<div>\n",
              "<style scoped>\n",
              "    .dataframe tbody tr th:only-of-type {\n",
              "        vertical-align: middle;\n",
              "    }\n",
              "\n",
              "    .dataframe tbody tr th {\n",
              "        vertical-align: top;\n",
              "    }\n",
              "\n",
              "    .dataframe thead th {\n",
              "        text-align: right;\n",
              "    }\n",
              "</style>\n",
              "<table border=\"1\" class=\"dataframe\">\n",
              "  <thead>\n",
              "    <tr style=\"text-align: right;\">\n",
              "      <th></th>\n",
              "      <th>기관명</th>\n",
              "      <th>소계</th>\n",
              "      <th>2013년도 이전</th>\n",
              "      <th>2014년</th>\n",
              "      <th>2015년</th>\n",
              "      <th>2016년</th>\n",
              "    </tr>\n",
              "  </thead>\n",
              "  <tbody>\n",
              "    <tr>\n",
              "      <th>0</th>\n",
              "      <td>강남구</td>\n",
              "      <td>2780</td>\n",
              "      <td>1292</td>\n",
              "      <td>430</td>\n",
              "      <td>584</td>\n",
              "      <td>932</td>\n",
              "    </tr>\n",
              "    <tr>\n",
              "      <th>1</th>\n",
              "      <td>강동구</td>\n",
              "      <td>773</td>\n",
              "      <td>379</td>\n",
              "      <td>99</td>\n",
              "      <td>155</td>\n",
              "      <td>377</td>\n",
              "    </tr>\n",
              "    <tr>\n",
              "      <th>2</th>\n",
              "      <td>강북구</td>\n",
              "      <td>748</td>\n",
              "      <td>369</td>\n",
              "      <td>120</td>\n",
              "      <td>138</td>\n",
              "      <td>204</td>\n",
              "    </tr>\n",
              "    <tr>\n",
              "      <th>3</th>\n",
              "      <td>강서구</td>\n",
              "      <td>884</td>\n",
              "      <td>388</td>\n",
              "      <td>258</td>\n",
              "      <td>184</td>\n",
              "      <td>81</td>\n",
              "    </tr>\n",
              "    <tr>\n",
              "      <th>4</th>\n",
              "      <td>관악구</td>\n",
              "      <td>1496</td>\n",
              "      <td>846</td>\n",
              "      <td>260</td>\n",
              "      <td>390</td>\n",
              "      <td>613</td>\n",
              "    </tr>\n",
              "    <tr>\n",
              "      <th>5</th>\n",
              "      <td>광진구</td>\n",
              "      <td>707</td>\n",
              "      <td>573</td>\n",
              "      <td>78</td>\n",
              "      <td>53</td>\n",
              "      <td>174</td>\n",
              "    </tr>\n",
              "    <tr>\n",
              "      <th>6</th>\n",
              "      <td>구로구</td>\n",
              "      <td>1561</td>\n",
              "      <td>1142</td>\n",
              "      <td>173</td>\n",
              "      <td>246</td>\n",
              "      <td>323</td>\n",
              "    </tr>\n",
              "    <tr>\n",
              "      <th>7</th>\n",
              "      <td>금천구</td>\n",
              "      <td>1015</td>\n",
              "      <td>674</td>\n",
              "      <td>51</td>\n",
              "      <td>269</td>\n",
              "      <td>354</td>\n",
              "    </tr>\n",
              "    <tr>\n",
              "      <th>8</th>\n",
              "      <td>노원구</td>\n",
              "      <td>1265</td>\n",
              "      <td>542</td>\n",
              "      <td>57</td>\n",
              "      <td>451</td>\n",
              "      <td>516</td>\n",
              "    </tr>\n",
              "    <tr>\n",
              "      <th>9</th>\n",
              "      <td>도봉구</td>\n",
              "      <td>485</td>\n",
              "      <td>238</td>\n",
              "      <td>159</td>\n",
              "      <td>42</td>\n",
              "      <td>386</td>\n",
              "    </tr>\n",
              "    <tr>\n",
              "      <th>10</th>\n",
              "      <td>동대문구</td>\n",
              "      <td>1294</td>\n",
              "      <td>1070</td>\n",
              "      <td>23</td>\n",
              "      <td>198</td>\n",
              "      <td>579</td>\n",
              "    </tr>\n",
              "    <tr>\n",
              "      <th>11</th>\n",
              "      <td>동작구</td>\n",
              "      <td>1091</td>\n",
              "      <td>544</td>\n",
              "      <td>341</td>\n",
              "      <td>103</td>\n",
              "      <td>314</td>\n",
              "    </tr>\n",
              "    <tr>\n",
              "      <th>12</th>\n",
              "      <td>마포구</td>\n",
              "      <td>574</td>\n",
              "      <td>314</td>\n",
              "      <td>118</td>\n",
              "      <td>169</td>\n",
              "      <td>379</td>\n",
              "    </tr>\n",
              "    <tr>\n",
              "      <th>13</th>\n",
              "      <td>서대문구</td>\n",
              "      <td>962</td>\n",
              "      <td>844</td>\n",
              "      <td>50</td>\n",
              "      <td>68</td>\n",
              "      <td>292</td>\n",
              "    </tr>\n",
              "    <tr>\n",
              "      <th>14</th>\n",
              "      <td>서초구</td>\n",
              "      <td>1930</td>\n",
              "      <td>1406</td>\n",
              "      <td>157</td>\n",
              "      <td>336</td>\n",
              "      <td>398</td>\n",
              "    </tr>\n",
              "    <tr>\n",
              "      <th>15</th>\n",
              "      <td>성동구</td>\n",
              "      <td>1062</td>\n",
              "      <td>730</td>\n",
              "      <td>91</td>\n",
              "      <td>241</td>\n",
              "      <td>265</td>\n",
              "    </tr>\n",
              "    <tr>\n",
              "      <th>16</th>\n",
              "      <td>성북구</td>\n",
              "      <td>1464</td>\n",
              "      <td>1009</td>\n",
              "      <td>78</td>\n",
              "      <td>360</td>\n",
              "      <td>204</td>\n",
              "    </tr>\n",
              "    <tr>\n",
              "      <th>17</th>\n",
              "      <td>송파구</td>\n",
              "      <td>618</td>\n",
              "      <td>529</td>\n",
              "      <td>21</td>\n",
              "      <td>68</td>\n",
              "      <td>463</td>\n",
              "    </tr>\n",
              "    <tr>\n",
              "      <th>18</th>\n",
              "      <td>양천구</td>\n",
              "      <td>2034</td>\n",
              "      <td>1843</td>\n",
              "      <td>142</td>\n",
              "      <td>30</td>\n",
              "      <td>467</td>\n",
              "    </tr>\n",
              "    <tr>\n",
              "      <th>19</th>\n",
              "      <td>영등포구</td>\n",
              "      <td>904</td>\n",
              "      <td>495</td>\n",
              "      <td>214</td>\n",
              "      <td>195</td>\n",
              "      <td>373</td>\n",
              "    </tr>\n",
              "    <tr>\n",
              "      <th>20</th>\n",
              "      <td>용산구</td>\n",
              "      <td>1624</td>\n",
              "      <td>1368</td>\n",
              "      <td>218</td>\n",
              "      <td>112</td>\n",
              "      <td>398</td>\n",
              "    </tr>\n",
              "    <tr>\n",
              "      <th>21</th>\n",
              "      <td>은평구</td>\n",
              "      <td>1873</td>\n",
              "      <td>1138</td>\n",
              "      <td>224</td>\n",
              "      <td>278</td>\n",
              "      <td>468</td>\n",
              "    </tr>\n",
              "    <tr>\n",
              "      <th>22</th>\n",
              "      <td>종로구</td>\n",
              "      <td>1002</td>\n",
              "      <td>464</td>\n",
              "      <td>314</td>\n",
              "      <td>211</td>\n",
              "      <td>630</td>\n",
              "    </tr>\n",
              "    <tr>\n",
              "      <th>23</th>\n",
              "      <td>중구</td>\n",
              "      <td>671</td>\n",
              "      <td>413</td>\n",
              "      <td>190</td>\n",
              "      <td>72</td>\n",
              "      <td>348</td>\n",
              "    </tr>\n",
              "    <tr>\n",
              "      <th>24</th>\n",
              "      <td>중랑구</td>\n",
              "      <td>660</td>\n",
              "      <td>509</td>\n",
              "      <td>121</td>\n",
              "      <td>177</td>\n",
              "      <td>109</td>\n",
              "    </tr>\n",
              "  </tbody>\n",
              "</table>\n",
              "</div>"
            ],
            "text/plain": [
              "     기관명    소계  2013년도 이전  2014년  2015년  2016년\n",
              "0    강남구  2780       1292    430    584    932\n",
              "1    강동구   773        379     99    155    377\n",
              "2    강북구   748        369    120    138    204\n",
              "3    강서구   884        388    258    184     81\n",
              "4    관악구  1496        846    260    390    613\n",
              "5    광진구   707        573     78     53    174\n",
              "6    구로구  1561       1142    173    246    323\n",
              "7    금천구  1015        674     51    269    354\n",
              "8    노원구  1265        542     57    451    516\n",
              "9    도봉구   485        238    159     42    386\n",
              "10  동대문구  1294       1070     23    198    579\n",
              "11   동작구  1091        544    341    103    314\n",
              "12   마포구   574        314    118    169    379\n",
              "13  서대문구   962        844     50     68    292\n",
              "14   서초구  1930       1406    157    336    398\n",
              "15   성동구  1062        730     91    241    265\n",
              "16   성북구  1464       1009     78    360    204\n",
              "17   송파구   618        529     21     68    463\n",
              "18   양천구  2034       1843    142     30    467\n",
              "19  영등포구   904        495    214    195    373\n",
              "20   용산구  1624       1368    218    112    398\n",
              "21   은평구  1873       1138    224    278    468\n",
              "22   종로구  1002        464    314    211    630\n",
              "23    중구   671        413    190     72    348\n",
              "24   중랑구   660        509    121    177    109"
            ]
          },
          "metadata": {
            "tags": []
          },
          "execution_count": 3
        }
      ]
    },
    {
      "cell_type": "code",
      "metadata": {
        "id": "dWz2ZWfbzSVL",
        "colab_type": "code",
        "colab": {
          "base_uri": "https://localhost:8080/",
          "height": 34
        },
        "outputId": "70b90cd3-a409-4c88-b2ce-b192dc227677"
      },
      "source": [
        "CCTV_Seoul.columns #컬럼명 조회"
      ],
      "execution_count": null,
      "outputs": [
        {
          "output_type": "execute_result",
          "data": {
            "text/plain": [
              "Index(['기관명', '소계', '2013년도 이전', '2014년', '2015년', '2016년'], dtype='object')"
            ]
          },
          "metadata": {
            "tags": []
          },
          "execution_count": 4
        }
      ]
    },
    {
      "cell_type": "code",
      "metadata": {
        "id": "oqhRIsigzYcS",
        "colab_type": "code",
        "colab": {}
      },
      "source": [
        "CCTV_Seoul.rename(columns = {CCTV_Seoul.columns[0] : \"구별\"}, inplace = True) #첫번째 컬럼명 수정"
      ],
      "execution_count": null,
      "outputs": []
    },
    {
      "cell_type": "markdown",
      "metadata": {
        "id": "mPQzVOcwzmSc",
        "colab_type": "text"
      },
      "source": [
        "#구별 인구 현황"
      ]
    },
    {
      "cell_type": "code",
      "metadata": {
        "id": "h8JEEKThzitW",
        "colab_type": "code",
        "colab": {
          "base_uri": "https://localhost:8080/",
          "height": 484
        },
        "outputId": "0d56e2e7-b562-4d80-e196-f10984475e57"
      },
      "source": [
        "pop_Seoul = pd.read_excel(\"./population_in_Seoul.xls\", encodig = \"UTF-8\")\n",
        "pop_Seoul.head()"
      ],
      "execution_count": null,
      "outputs": [
        {
          "output_type": "execute_result",
          "data": {
            "text/html": [
              "<div>\n",
              "<style scoped>\n",
              "    .dataframe tbody tr th:only-of-type {\n",
              "        vertical-align: middle;\n",
              "    }\n",
              "\n",
              "    .dataframe tbody tr th {\n",
              "        vertical-align: top;\n",
              "    }\n",
              "\n",
              "    .dataframe thead th {\n",
              "        text-align: right;\n",
              "    }\n",
              "</style>\n",
              "<table border=\"1\" class=\"dataframe\">\n",
              "  <thead>\n",
              "    <tr style=\"text-align: right;\">\n",
              "      <th></th>\n",
              "      <th>기간</th>\n",
              "      <th>자치구</th>\n",
              "      <th>세대</th>\n",
              "      <th>인구</th>\n",
              "      <th>인구.1</th>\n",
              "      <th>인구.2</th>\n",
              "      <th>인구.3</th>\n",
              "      <th>인구.4</th>\n",
              "      <th>인구.5</th>\n",
              "      <th>인구.6</th>\n",
              "      <th>인구.7</th>\n",
              "      <th>인구.8</th>\n",
              "      <th>세대당인구</th>\n",
              "      <th>65세이상고령자</th>\n",
              "    </tr>\n",
              "  </thead>\n",
              "  <tbody>\n",
              "    <tr>\n",
              "      <th>0</th>\n",
              "      <td>기간</td>\n",
              "      <td>자치구</td>\n",
              "      <td>세대</td>\n",
              "      <td>합계</td>\n",
              "      <td>합계</td>\n",
              "      <td>합계</td>\n",
              "      <td>한국인</td>\n",
              "      <td>한국인</td>\n",
              "      <td>한국인</td>\n",
              "      <td>등록외국인</td>\n",
              "      <td>등록외국인</td>\n",
              "      <td>등록외국인</td>\n",
              "      <td>세대당인구</td>\n",
              "      <td>65세이상고령자</td>\n",
              "    </tr>\n",
              "    <tr>\n",
              "      <th>1</th>\n",
              "      <td>기간</td>\n",
              "      <td>자치구</td>\n",
              "      <td>세대</td>\n",
              "      <td>계</td>\n",
              "      <td>남자</td>\n",
              "      <td>여자</td>\n",
              "      <td>계</td>\n",
              "      <td>남자</td>\n",
              "      <td>여자</td>\n",
              "      <td>계</td>\n",
              "      <td>남자</td>\n",
              "      <td>여자</td>\n",
              "      <td>세대당인구</td>\n",
              "      <td>65세이상고령자</td>\n",
              "    </tr>\n",
              "    <tr>\n",
              "      <th>2</th>\n",
              "      <td>2017.1/4</td>\n",
              "      <td>합계</td>\n",
              "      <td>4202888</td>\n",
              "      <td>10197604</td>\n",
              "      <td>5000005</td>\n",
              "      <td>5197599</td>\n",
              "      <td>9926968</td>\n",
              "      <td>4871560</td>\n",
              "      <td>5055408</td>\n",
              "      <td>270636</td>\n",
              "      <td>128445</td>\n",
              "      <td>142191</td>\n",
              "      <td>2.36</td>\n",
              "      <td>1321458</td>\n",
              "    </tr>\n",
              "    <tr>\n",
              "      <th>3</th>\n",
              "      <td>2017.1/4</td>\n",
              "      <td>종로구</td>\n",
              "      <td>72654</td>\n",
              "      <td>162820</td>\n",
              "      <td>79675</td>\n",
              "      <td>83145</td>\n",
              "      <td>153589</td>\n",
              "      <td>75611</td>\n",
              "      <td>77978</td>\n",
              "      <td>9231</td>\n",
              "      <td>4064</td>\n",
              "      <td>5167</td>\n",
              "      <td>2.11</td>\n",
              "      <td>25425</td>\n",
              "    </tr>\n",
              "    <tr>\n",
              "      <th>4</th>\n",
              "      <td>2017.1/4</td>\n",
              "      <td>중구</td>\n",
              "      <td>59481</td>\n",
              "      <td>133240</td>\n",
              "      <td>65790</td>\n",
              "      <td>67450</td>\n",
              "      <td>124312</td>\n",
              "      <td>61656</td>\n",
              "      <td>62656</td>\n",
              "      <td>8928</td>\n",
              "      <td>4134</td>\n",
              "      <td>4794</td>\n",
              "      <td>2.09</td>\n",
              "      <td>20764</td>\n",
              "    </tr>\n",
              "  </tbody>\n",
              "</table>\n",
              "</div>"
            ],
            "text/plain": [
              "         기간  자치구       세대        인구  ...    인구.7    인구.8  세대당인구  65세이상고령자\n",
              "0        기간  자치구       세대        합계  ...   등록외국인   등록외국인  세대당인구  65세이상고령자\n",
              "1        기간  자치구       세대         계  ...      남자      여자  세대당인구  65세이상고령자\n",
              "2  2017.1/4   합계  4202888  10197604  ...  128445  142191   2.36   1321458\n",
              "3  2017.1/4  종로구    72654    162820  ...    4064    5167   2.11     25425\n",
              "4  2017.1/4   중구    59481    133240  ...    4134    4794   2.09     20764\n",
              "\n",
              "[5 rows x 14 columns]"
            ]
          },
          "metadata": {
            "tags": []
          },
          "execution_count": 6
        }
      ]
    },
    {
      "cell_type": "code",
      "metadata": {
        "id": "QCLw6O-Wz7da",
        "colab_type": "code",
        "colab": {
          "base_uri": "https://localhost:8080/",
          "height": 417
        },
        "outputId": "e3391ce7-9e5d-46d0-b07b-f8fa9518c3c7"
      },
      "source": [
        "#인덱스 2부터 시작\n",
        "#0번째 행 삭제, 1번째 행이 컬럼명이 됨\n",
        "\n",
        "pop_Seoul = pd.read_excel(\"./population_in_Seoul.xls\", header = 2, encodig = \"UTF-8\")\n",
        "pop_Seoul.head()"
      ],
      "execution_count": null,
      "outputs": [
        {
          "output_type": "execute_result",
          "data": {
            "text/html": [
              "<div>\n",
              "<style scoped>\n",
              "    .dataframe tbody tr th:only-of-type {\n",
              "        vertical-align: middle;\n",
              "    }\n",
              "\n",
              "    .dataframe tbody tr th {\n",
              "        vertical-align: top;\n",
              "    }\n",
              "\n",
              "    .dataframe thead th {\n",
              "        text-align: right;\n",
              "    }\n",
              "</style>\n",
              "<table border=\"1\" class=\"dataframe\">\n",
              "  <thead>\n",
              "    <tr style=\"text-align: right;\">\n",
              "      <th></th>\n",
              "      <th>기간</th>\n",
              "      <th>자치구</th>\n",
              "      <th>세대</th>\n",
              "      <th>계</th>\n",
              "      <th>남자</th>\n",
              "      <th>여자</th>\n",
              "      <th>계.1</th>\n",
              "      <th>남자.1</th>\n",
              "      <th>여자.1</th>\n",
              "      <th>계.2</th>\n",
              "      <th>남자.2</th>\n",
              "      <th>여자.2</th>\n",
              "      <th>세대당인구</th>\n",
              "      <th>65세이상고령자</th>\n",
              "    </tr>\n",
              "  </thead>\n",
              "  <tbody>\n",
              "    <tr>\n",
              "      <th>0</th>\n",
              "      <td>2017.1/4</td>\n",
              "      <td>합계</td>\n",
              "      <td>4202888.0</td>\n",
              "      <td>10197604.0</td>\n",
              "      <td>5000005.0</td>\n",
              "      <td>5197599.0</td>\n",
              "      <td>9926968.0</td>\n",
              "      <td>4871560.0</td>\n",
              "      <td>5055408.0</td>\n",
              "      <td>270636.0</td>\n",
              "      <td>128445.0</td>\n",
              "      <td>142191.0</td>\n",
              "      <td>2.36</td>\n",
              "      <td>1321458.0</td>\n",
              "    </tr>\n",
              "    <tr>\n",
              "      <th>1</th>\n",
              "      <td>2017.1/4</td>\n",
              "      <td>종로구</td>\n",
              "      <td>72654.0</td>\n",
              "      <td>162820.0</td>\n",
              "      <td>79675.0</td>\n",
              "      <td>83145.0</td>\n",
              "      <td>153589.0</td>\n",
              "      <td>75611.0</td>\n",
              "      <td>77978.0</td>\n",
              "      <td>9231.0</td>\n",
              "      <td>4064.0</td>\n",
              "      <td>5167.0</td>\n",
              "      <td>2.11</td>\n",
              "      <td>25425.0</td>\n",
              "    </tr>\n",
              "    <tr>\n",
              "      <th>2</th>\n",
              "      <td>2017.1/4</td>\n",
              "      <td>중구</td>\n",
              "      <td>59481.0</td>\n",
              "      <td>133240.0</td>\n",
              "      <td>65790.0</td>\n",
              "      <td>67450.0</td>\n",
              "      <td>124312.0</td>\n",
              "      <td>61656.0</td>\n",
              "      <td>62656.0</td>\n",
              "      <td>8928.0</td>\n",
              "      <td>4134.0</td>\n",
              "      <td>4794.0</td>\n",
              "      <td>2.09</td>\n",
              "      <td>20764.0</td>\n",
              "    </tr>\n",
              "    <tr>\n",
              "      <th>3</th>\n",
              "      <td>2017.1/4</td>\n",
              "      <td>용산구</td>\n",
              "      <td>106544.0</td>\n",
              "      <td>244203.0</td>\n",
              "      <td>119132.0</td>\n",
              "      <td>125071.0</td>\n",
              "      <td>229456.0</td>\n",
              "      <td>111167.0</td>\n",
              "      <td>118289.0</td>\n",
              "      <td>14747.0</td>\n",
              "      <td>7965.0</td>\n",
              "      <td>6782.0</td>\n",
              "      <td>2.15</td>\n",
              "      <td>36231.0</td>\n",
              "    </tr>\n",
              "    <tr>\n",
              "      <th>4</th>\n",
              "      <td>2017.1/4</td>\n",
              "      <td>성동구</td>\n",
              "      <td>130868.0</td>\n",
              "      <td>311244.0</td>\n",
              "      <td>153768.0</td>\n",
              "      <td>157476.0</td>\n",
              "      <td>303380.0</td>\n",
              "      <td>150076.0</td>\n",
              "      <td>153304.0</td>\n",
              "      <td>7864.0</td>\n",
              "      <td>3692.0</td>\n",
              "      <td>4172.0</td>\n",
              "      <td>2.32</td>\n",
              "      <td>39997.0</td>\n",
              "    </tr>\n",
              "  </tbody>\n",
              "</table>\n",
              "</div>"
            ],
            "text/plain": [
              "         기간  자치구         세대           계  ...      남자.2      여자.2  세대당인구   65세이상고령자\n",
              "0  2017.1/4   합계  4202888.0  10197604.0  ...  128445.0  142191.0   2.36  1321458.0\n",
              "1  2017.1/4  종로구    72654.0    162820.0  ...    4064.0    5167.0   2.11    25425.0\n",
              "2  2017.1/4   중구    59481.0    133240.0  ...    4134.0    4794.0   2.09    20764.0\n",
              "3  2017.1/4  용산구   106544.0    244203.0  ...    7965.0    6782.0   2.15    36231.0\n",
              "4  2017.1/4  성동구   130868.0    311244.0  ...    3692.0    4172.0   2.32    39997.0\n",
              "\n",
              "[5 rows x 14 columns]"
            ]
          },
          "metadata": {
            "tags": []
          },
          "execution_count": 7
        }
      ]
    },
    {
      "cell_type": "code",
      "metadata": {
        "id": "2uDwLhXe0KQw",
        "colab_type": "code",
        "colab": {
          "base_uri": "https://localhost:8080/",
          "height": 195
        },
        "outputId": "27d5a975-3281-40b3-acc6-91b37bc9742f"
      },
      "source": [
        "#\"B, D, G, J, M\" 컬럼만 리턴\n",
        "pop_Seoul = pd.read_excel(\"./population_in_Seoul.xls\", header = 2, usecols = \"B, D, G, J, M\", encodig = \"UTF-8\")\n",
        "pop_Seoul.head()"
      ],
      "execution_count": null,
      "outputs": [
        {
          "output_type": "execute_result",
          "data": {
            "text/html": [
              "<div>\n",
              "<style scoped>\n",
              "    .dataframe tbody tr th:only-of-type {\n",
              "        vertical-align: middle;\n",
              "    }\n",
              "\n",
              "    .dataframe tbody tr th {\n",
              "        vertical-align: top;\n",
              "    }\n",
              "\n",
              "    .dataframe thead th {\n",
              "        text-align: right;\n",
              "    }\n",
              "</style>\n",
              "<table border=\"1\" class=\"dataframe\">\n",
              "  <thead>\n",
              "    <tr style=\"text-align: right;\">\n",
              "      <th></th>\n",
              "      <th>자치구</th>\n",
              "      <th>계</th>\n",
              "      <th>계.1</th>\n",
              "      <th>계.2</th>\n",
              "      <th>세대당인구</th>\n",
              "    </tr>\n",
              "  </thead>\n",
              "  <tbody>\n",
              "    <tr>\n",
              "      <th>0</th>\n",
              "      <td>합계</td>\n",
              "      <td>10197604.0</td>\n",
              "      <td>9926968.0</td>\n",
              "      <td>270636.0</td>\n",
              "      <td>2.36</td>\n",
              "    </tr>\n",
              "    <tr>\n",
              "      <th>1</th>\n",
              "      <td>종로구</td>\n",
              "      <td>162820.0</td>\n",
              "      <td>153589.0</td>\n",
              "      <td>9231.0</td>\n",
              "      <td>2.11</td>\n",
              "    </tr>\n",
              "    <tr>\n",
              "      <th>2</th>\n",
              "      <td>중구</td>\n",
              "      <td>133240.0</td>\n",
              "      <td>124312.0</td>\n",
              "      <td>8928.0</td>\n",
              "      <td>2.09</td>\n",
              "    </tr>\n",
              "    <tr>\n",
              "      <th>3</th>\n",
              "      <td>용산구</td>\n",
              "      <td>244203.0</td>\n",
              "      <td>229456.0</td>\n",
              "      <td>14747.0</td>\n",
              "      <td>2.15</td>\n",
              "    </tr>\n",
              "    <tr>\n",
              "      <th>4</th>\n",
              "      <td>성동구</td>\n",
              "      <td>311244.0</td>\n",
              "      <td>303380.0</td>\n",
              "      <td>7864.0</td>\n",
              "      <td>2.32</td>\n",
              "    </tr>\n",
              "  </tbody>\n",
              "</table>\n",
              "</div>"
            ],
            "text/plain": [
              "   자치구           계        계.1       계.2  세대당인구\n",
              "0   합계  10197604.0  9926968.0  270636.0   2.36\n",
              "1  종로구    162820.0   153589.0    9231.0   2.11\n",
              "2   중구    133240.0   124312.0    8928.0   2.09\n",
              "3  용산구    244203.0   229456.0   14747.0   2.15\n",
              "4  성동구    311244.0   303380.0    7864.0   2.32"
            ]
          },
          "metadata": {
            "tags": []
          },
          "execution_count": 8
        }
      ]
    },
    {
      "cell_type": "code",
      "metadata": {
        "id": "s3d1fLci0Ywt",
        "colab_type": "code",
        "colab": {
          "base_uri": "https://localhost:8080/",
          "height": 195
        },
        "outputId": "e98a42da-2fdb-42ab-defd-d2a25567e5a2"
      },
      "source": [
        "pop_Seoul.rename(columns = {\n",
        "    pop_Seoul.columns[0] : \"구별\",\n",
        "    pop_Seoul.columns[1] : \"인구수\",\n",
        "    pop_Seoul.columns[2] : \"한국인\",\n",
        "    pop_Seoul.columns[3] : \"외국인\",\n",
        "    pop_Seoul.columns[4] : \"고령자\"}, inplace = True)\n",
        "\n",
        "#pop_Seoul.columns = [\"구별\", \"인구수\", \"한국인\", \"외국인\", \"고령자\"] : 컬럼명 한 번에 변경 가능\n",
        "\n",
        "pop_Seoul.head()"
      ],
      "execution_count": null,
      "outputs": [
        {
          "output_type": "execute_result",
          "data": {
            "text/html": [
              "<div>\n",
              "<style scoped>\n",
              "    .dataframe tbody tr th:only-of-type {\n",
              "        vertical-align: middle;\n",
              "    }\n",
              "\n",
              "    .dataframe tbody tr th {\n",
              "        vertical-align: top;\n",
              "    }\n",
              "\n",
              "    .dataframe thead th {\n",
              "        text-align: right;\n",
              "    }\n",
              "</style>\n",
              "<table border=\"1\" class=\"dataframe\">\n",
              "  <thead>\n",
              "    <tr style=\"text-align: right;\">\n",
              "      <th></th>\n",
              "      <th>구별</th>\n",
              "      <th>인구수</th>\n",
              "      <th>한국인</th>\n",
              "      <th>외국인</th>\n",
              "      <th>고령자</th>\n",
              "    </tr>\n",
              "  </thead>\n",
              "  <tbody>\n",
              "    <tr>\n",
              "      <th>0</th>\n",
              "      <td>합계</td>\n",
              "      <td>10197604.0</td>\n",
              "      <td>9926968.0</td>\n",
              "      <td>270636.0</td>\n",
              "      <td>2.36</td>\n",
              "    </tr>\n",
              "    <tr>\n",
              "      <th>1</th>\n",
              "      <td>종로구</td>\n",
              "      <td>162820.0</td>\n",
              "      <td>153589.0</td>\n",
              "      <td>9231.0</td>\n",
              "      <td>2.11</td>\n",
              "    </tr>\n",
              "    <tr>\n",
              "      <th>2</th>\n",
              "      <td>중구</td>\n",
              "      <td>133240.0</td>\n",
              "      <td>124312.0</td>\n",
              "      <td>8928.0</td>\n",
              "      <td>2.09</td>\n",
              "    </tr>\n",
              "    <tr>\n",
              "      <th>3</th>\n",
              "      <td>용산구</td>\n",
              "      <td>244203.0</td>\n",
              "      <td>229456.0</td>\n",
              "      <td>14747.0</td>\n",
              "      <td>2.15</td>\n",
              "    </tr>\n",
              "    <tr>\n",
              "      <th>4</th>\n",
              "      <td>성동구</td>\n",
              "      <td>311244.0</td>\n",
              "      <td>303380.0</td>\n",
              "      <td>7864.0</td>\n",
              "      <td>2.32</td>\n",
              "    </tr>\n",
              "  </tbody>\n",
              "</table>\n",
              "</div>"
            ],
            "text/plain": [
              "    구별         인구수        한국인       외국인   고령자\n",
              "0   합계  10197604.0  9926968.0  270636.0  2.36\n",
              "1  종로구    162820.0   153589.0    9231.0  2.11\n",
              "2   중구    133240.0   124312.0    8928.0  2.09\n",
              "3  용산구    244203.0   229456.0   14747.0  2.15\n",
              "4  성동구    311244.0   303380.0    7864.0  2.32"
            ]
          },
          "metadata": {
            "tags": []
          },
          "execution_count": 9
        }
      ]
    },
    {
      "cell_type": "code",
      "metadata": {
        "id": "lMsO8abH0t98",
        "colab_type": "code",
        "colab": {}
      },
      "source": [
        "pop_Seoul.drop([0], inplace = True) #0번째 행 삭제"
      ],
      "execution_count": null,
      "outputs": []
    },
    {
      "cell_type": "markdown",
      "metadata": {
        "id": "I7yYYu4N073F",
        "colab_type": "text"
      },
      "source": [
        "#null 데이터 삭제"
      ]
    },
    {
      "cell_type": "code",
      "metadata": {
        "id": "YINn0_gG066F",
        "colab_type": "code",
        "colab": {
          "base_uri": "https://localhost:8080/",
          "height": 492
        },
        "outputId": "a53824b4-9734-4286-ddba-93db8889e278"
      },
      "source": [
        "pop_Seoul[\"구별\"].isnull() #구별 컬럼에 저장된 값이 null 이면 True 반환"
      ],
      "execution_count": null,
      "outputs": [
        {
          "output_type": "execute_result",
          "data": {
            "text/plain": [
              "1     False\n",
              "2     False\n",
              "3     False\n",
              "4     False\n",
              "5     False\n",
              "6     False\n",
              "7     False\n",
              "8     False\n",
              "9     False\n",
              "10    False\n",
              "11    False\n",
              "12    False\n",
              "13    False\n",
              "14    False\n",
              "15    False\n",
              "16    False\n",
              "17    False\n",
              "18    False\n",
              "19    False\n",
              "20    False\n",
              "21    False\n",
              "22    False\n",
              "23    False\n",
              "24    False\n",
              "25    False\n",
              "26     True\n",
              "Name: 구별, dtype: bool"
            ]
          },
          "metadata": {
            "tags": []
          },
          "execution_count": 11
        }
      ]
    },
    {
      "cell_type": "code",
      "metadata": {
        "id": "ekxvN-OG1BuL",
        "colab_type": "code",
        "colab": {
          "base_uri": "https://localhost:8080/",
          "height": 77
        },
        "outputId": "2d8e4aea-6c95-4c71-a05b-b5c75091b39b"
      },
      "source": [
        "pop_Seoul[pop_Seoul[\"구별\"].isnull()] #pop_Seoul[\"구별\"].isnull()이 True인 줄 조회"
      ],
      "execution_count": null,
      "outputs": [
        {
          "output_type": "execute_result",
          "data": {
            "text/html": [
              "<div>\n",
              "<style scoped>\n",
              "    .dataframe tbody tr th:only-of-type {\n",
              "        vertical-align: middle;\n",
              "    }\n",
              "\n",
              "    .dataframe tbody tr th {\n",
              "        vertical-align: top;\n",
              "    }\n",
              "\n",
              "    .dataframe thead th {\n",
              "        text-align: right;\n",
              "    }\n",
              "</style>\n",
              "<table border=\"1\" class=\"dataframe\">\n",
              "  <thead>\n",
              "    <tr style=\"text-align: right;\">\n",
              "      <th></th>\n",
              "      <th>구별</th>\n",
              "      <th>인구수</th>\n",
              "      <th>한국인</th>\n",
              "      <th>외국인</th>\n",
              "      <th>고령자</th>\n",
              "    </tr>\n",
              "  </thead>\n",
              "  <tbody>\n",
              "    <tr>\n",
              "      <th>26</th>\n",
              "      <td>NaN</td>\n",
              "      <td>NaN</td>\n",
              "      <td>NaN</td>\n",
              "      <td>NaN</td>\n",
              "      <td>NaN</td>\n",
              "    </tr>\n",
              "  </tbody>\n",
              "</table>\n",
              "</div>"
            ],
            "text/plain": [
              "     구별  인구수  한국인  외국인  고령자\n",
              "26  NaN  NaN  NaN  NaN  NaN"
            ]
          },
          "metadata": {
            "tags": []
          },
          "execution_count": 12
        }
      ]
    },
    {
      "cell_type": "code",
      "metadata": {
        "id": "rG2FA7a062wt",
        "colab_type": "code",
        "colab": {}
      },
      "source": [
        "pop_Seoul.drop([26], axis = 0, inplace = True) #위에 해당하는 행 삭제"
      ],
      "execution_count": null,
      "outputs": []
    },
    {
      "cell_type": "markdown",
      "metadata": {
        "id": "NYv5Uohx1XUz",
        "colab_type": "text"
      },
      "source": [
        "#비율 계산\n"
      ]
    },
    {
      "cell_type": "code",
      "metadata": {
        "id": "3uBquTTX1Vna",
        "colab_type": "code",
        "colab": {}
      },
      "source": [
        "pop_Seoul[\"외국인비율\"] = pop_Seoul[\"외국인\"] / pop_Seoul[\"인구수\"] * 100 #외국인 비율 계산 후 컬럼 추가\n",
        "pop_Seoul[\"고령자비율\"] = pop_Seoul[\"고령자\"] / pop_Seoul[\"인구수\"] * 100 #고령자 비율 계산 후 컬럼 추가"
      ],
      "execution_count": null,
      "outputs": []
    },
    {
      "cell_type": "code",
      "metadata": {
        "id": "72YFZM5H8BRs",
        "colab_type": "code",
        "colab": {
          "base_uri": "https://localhost:8080/",
          "height": 195
        },
        "outputId": "730efbf2-cf7d-47bb-99ae-91c50ac8ce12"
      },
      "source": [
        "pop_Seoul.head()"
      ],
      "execution_count": null,
      "outputs": [
        {
          "output_type": "execute_result",
          "data": {
            "text/html": [
              "<div>\n",
              "<style scoped>\n",
              "    .dataframe tbody tr th:only-of-type {\n",
              "        vertical-align: middle;\n",
              "    }\n",
              "\n",
              "    .dataframe tbody tr th {\n",
              "        vertical-align: top;\n",
              "    }\n",
              "\n",
              "    .dataframe thead th {\n",
              "        text-align: right;\n",
              "    }\n",
              "</style>\n",
              "<table border=\"1\" class=\"dataframe\">\n",
              "  <thead>\n",
              "    <tr style=\"text-align: right;\">\n",
              "      <th></th>\n",
              "      <th>구별</th>\n",
              "      <th>인구수</th>\n",
              "      <th>한국인</th>\n",
              "      <th>외국인</th>\n",
              "      <th>고령자</th>\n",
              "      <th>외국인비율</th>\n",
              "      <th>고령자비율</th>\n",
              "    </tr>\n",
              "  </thead>\n",
              "  <tbody>\n",
              "    <tr>\n",
              "      <th>1</th>\n",
              "      <td>종로구</td>\n",
              "      <td>162820.0</td>\n",
              "      <td>153589.0</td>\n",
              "      <td>9231.0</td>\n",
              "      <td>2.11</td>\n",
              "      <td>5.669451</td>\n",
              "      <td>0.001296</td>\n",
              "    </tr>\n",
              "    <tr>\n",
              "      <th>2</th>\n",
              "      <td>중구</td>\n",
              "      <td>133240.0</td>\n",
              "      <td>124312.0</td>\n",
              "      <td>8928.0</td>\n",
              "      <td>2.09</td>\n",
              "      <td>6.700690</td>\n",
              "      <td>0.001569</td>\n",
              "    </tr>\n",
              "    <tr>\n",
              "      <th>3</th>\n",
              "      <td>용산구</td>\n",
              "      <td>244203.0</td>\n",
              "      <td>229456.0</td>\n",
              "      <td>14747.0</td>\n",
              "      <td>2.15</td>\n",
              "      <td>6.038828</td>\n",
              "      <td>0.000880</td>\n",
              "    </tr>\n",
              "    <tr>\n",
              "      <th>4</th>\n",
              "      <td>성동구</td>\n",
              "      <td>311244.0</td>\n",
              "      <td>303380.0</td>\n",
              "      <td>7864.0</td>\n",
              "      <td>2.32</td>\n",
              "      <td>2.526635</td>\n",
              "      <td>0.000745</td>\n",
              "    </tr>\n",
              "    <tr>\n",
              "      <th>5</th>\n",
              "      <td>광진구</td>\n",
              "      <td>372164.0</td>\n",
              "      <td>357211.0</td>\n",
              "      <td>14953.0</td>\n",
              "      <td>2.25</td>\n",
              "      <td>4.017852</td>\n",
              "      <td>0.000605</td>\n",
              "    </tr>\n",
              "  </tbody>\n",
              "</table>\n",
              "</div>"
            ],
            "text/plain": [
              "    구별       인구수       한국인      외국인   고령자     외국인비율     고령자비율\n",
              "1  종로구  162820.0  153589.0   9231.0  2.11  5.669451  0.001296\n",
              "2   중구  133240.0  124312.0   8928.0  2.09  6.700690  0.001569\n",
              "3  용산구  244203.0  229456.0  14747.0  2.15  6.038828  0.000880\n",
              "4  성동구  311244.0  303380.0   7864.0  2.32  2.526635  0.000745\n",
              "5  광진구  372164.0  357211.0  14953.0  2.25  4.017852  0.000605"
            ]
          },
          "metadata": {
            "tags": []
          },
          "execution_count": 15
        }
      ]
    },
    {
      "cell_type": "code",
      "metadata": {
        "id": "4_jR1RrPLOPZ",
        "colab_type": "code",
        "colab": {
          "base_uri": "https://localhost:8080/",
          "height": 284
        },
        "outputId": "17e18e02-ae40-446e-bfa3-055fc45987c1"
      },
      "source": [
        "pop_Seoul[\"외국인비율\"].plot(kind = \"barh\") #외국인 비율 그래프 그리기"
      ],
      "execution_count": null,
      "outputs": [
        {
          "output_type": "execute_result",
          "data": {
            "text/plain": [
              "<matplotlib.axes._subplots.AxesSubplot at 0x7fc61f96ec18>"
            ]
          },
          "metadata": {
            "tags": []
          },
          "execution_count": 40
        },
        {
          "output_type": "display_data",
          "data": {
            "image/png": "[encoded data removed]",
            "text/plain": [
              "<Figure size 432x288 with 1 Axes>"
            ]
          },
          "metadata": {
            "tags": [],
            "image/png": {
              "width": 367,
              "height": 249
            }
          }
        }
      ]
    },
    {
      "cell_type": "code",
      "metadata": {
        "id": "CqNJbb7AL0qL",
        "colab_type": "code",
        "colab": {
          "base_uri": "https://localhost:8080/",
          "height": 610
        },
        "outputId": "cc258b99-e86b-438e-8221-14fb6650a8b0"
      },
      "source": [
        "plt.style.use(\"ggplot\") #위와 같은 그래프를 조금 더 보기 좋게\n",
        "\n",
        "pop_Seoul[\"외국인비율\"].plot(\n",
        "    kind=\"barh\", color=\"cornflowerblue\" ,\n",
        "    width = 0.5 , figsize=(10, 10)\n",
        "    )"
      ],
      "execution_count": null,
      "outputs": [
        {
          "output_type": "execute_result",
          "data": {
            "text/plain": [
              "<matplotlib.axes._subplots.AxesSubplot at 0x7fc61f488240>"
            ]
          },
          "metadata": {
            "tags": []
          },
          "execution_count": 50
        },
        {
          "output_type": "display_data",
          "data": {
            "image/png": "[encoded data removed]",
            "text/plain": [
              "<Figure size 720x720 with 1 Axes>"
            ]
          },
          "metadata": {
            "tags": [],
            "image/png": {
              "width": 632,
              "height": 576
            }
          }
        }
      ]
    },
    {
      "cell_type": "code",
      "metadata": {
        "id": "0QMsc1tNLbkK",
        "colab_type": "code",
        "colab": {
          "base_uri": "https://localhost:8080/",
          "height": 817
        },
        "outputId": "dff5ab4f-8115-479f-fdca-3156cde2535a"
      },
      "source": [
        "#pop_Seoul = pop_Seoul.set_index(\"구별\") #행 인덱스 설정\n",
        "pop_Seoul"
      ],
      "execution_count": null,
      "outputs": [
        {
          "output_type": "execute_result",
          "data": {
            "text/html": [
              "<div>\n",
              "<style scoped>\n",
              "    .dataframe tbody tr th:only-of-type {\n",
              "        vertical-align: middle;\n",
              "    }\n",
              "\n",
              "    .dataframe tbody tr th {\n",
              "        vertical-align: top;\n",
              "    }\n",
              "\n",
              "    .dataframe thead th {\n",
              "        text-align: right;\n",
              "    }\n",
              "</style>\n",
              "<table border=\"1\" class=\"dataframe\">\n",
              "  <thead>\n",
              "    <tr style=\"text-align: right;\">\n",
              "      <th></th>\n",
              "      <th>인구수</th>\n",
              "      <th>한국인</th>\n",
              "      <th>외국인</th>\n",
              "      <th>고령자</th>\n",
              "      <th>외국인비율</th>\n",
              "      <th>고령자비율</th>\n",
              "    </tr>\n",
              "    <tr>\n",
              "      <th>구별</th>\n",
              "      <th></th>\n",
              "      <th></th>\n",
              "      <th></th>\n",
              "      <th></th>\n",
              "      <th></th>\n",
              "      <th></th>\n",
              "    </tr>\n",
              "  </thead>\n",
              "  <tbody>\n",
              "    <tr>\n",
              "      <th>종로구</th>\n",
              "      <td>162820.0</td>\n",
              "      <td>153589.0</td>\n",
              "      <td>9231.0</td>\n",
              "      <td>2.11</td>\n",
              "      <td>5.669451</td>\n",
              "      <td>0.001296</td>\n",
              "    </tr>\n",
              "    <tr>\n",
              "      <th>중구</th>\n",
              "      <td>133240.0</td>\n",
              "      <td>124312.0</td>\n",
              "      <td>8928.0</td>\n",
              "      <td>2.09</td>\n",
              "      <td>6.700690</td>\n",
              "      <td>0.001569</td>\n",
              "    </tr>\n",
              "    <tr>\n",
              "      <th>용산구</th>\n",
              "      <td>244203.0</td>\n",
              "      <td>229456.0</td>\n",
              "      <td>14747.0</td>\n",
              "      <td>2.15</td>\n",
              "      <td>6.038828</td>\n",
              "      <td>0.000880</td>\n",
              "    </tr>\n",
              "    <tr>\n",
              "      <th>성동구</th>\n",
              "      <td>311244.0</td>\n",
              "      <td>303380.0</td>\n",
              "      <td>7864.0</td>\n",
              "      <td>2.32</td>\n",
              "      <td>2.526635</td>\n",
              "      <td>0.000745</td>\n",
              "    </tr>\n",
              "    <tr>\n",
              "      <th>광진구</th>\n",
              "      <td>372164.0</td>\n",
              "      <td>357211.0</td>\n",
              "      <td>14953.0</td>\n",
              "      <td>2.25</td>\n",
              "      <td>4.017852</td>\n",
              "      <td>0.000605</td>\n",
              "    </tr>\n",
              "    <tr>\n",
              "      <th>동대문구</th>\n",
              "      <td>369496.0</td>\n",
              "      <td>354079.0</td>\n",
              "      <td>15417.0</td>\n",
              "      <td>2.22</td>\n",
              "      <td>4.172440</td>\n",
              "      <td>0.000601</td>\n",
              "    </tr>\n",
              "    <tr>\n",
              "      <th>중랑구</th>\n",
              "      <td>414503.0</td>\n",
              "      <td>409882.0</td>\n",
              "      <td>4621.0</td>\n",
              "      <td>2.31</td>\n",
              "      <td>1.114829</td>\n",
              "      <td>0.000557</td>\n",
              "    </tr>\n",
              "    <tr>\n",
              "      <th>성북구</th>\n",
              "      <td>461260.0</td>\n",
              "      <td>449773.0</td>\n",
              "      <td>11487.0</td>\n",
              "      <td>2.39</td>\n",
              "      <td>2.490353</td>\n",
              "      <td>0.000518</td>\n",
              "    </tr>\n",
              "    <tr>\n",
              "      <th>강북구</th>\n",
              "      <td>330192.0</td>\n",
              "      <td>326686.0</td>\n",
              "      <td>3506.0</td>\n",
              "      <td>2.31</td>\n",
              "      <td>1.061806</td>\n",
              "      <td>0.000700</td>\n",
              "    </tr>\n",
              "    <tr>\n",
              "      <th>도봉구</th>\n",
              "      <td>348646.0</td>\n",
              "      <td>346629.0</td>\n",
              "      <td>2017.0</td>\n",
              "      <td>2.54</td>\n",
              "      <td>0.578524</td>\n",
              "      <td>0.000729</td>\n",
              "    </tr>\n",
              "    <tr>\n",
              "      <th>노원구</th>\n",
              "      <td>569384.0</td>\n",
              "      <td>565565.0</td>\n",
              "      <td>3819.0</td>\n",
              "      <td>2.57</td>\n",
              "      <td>0.670725</td>\n",
              "      <td>0.000451</td>\n",
              "    </tr>\n",
              "    <tr>\n",
              "      <th>은평구</th>\n",
              "      <td>494388.0</td>\n",
              "      <td>489943.0</td>\n",
              "      <td>4445.0</td>\n",
              "      <td>2.43</td>\n",
              "      <td>0.899091</td>\n",
              "      <td>0.000492</td>\n",
              "    </tr>\n",
              "    <tr>\n",
              "      <th>서대문구</th>\n",
              "      <td>327163.0</td>\n",
              "      <td>314982.0</td>\n",
              "      <td>12181.0</td>\n",
              "      <td>2.30</td>\n",
              "      <td>3.723221</td>\n",
              "      <td>0.000703</td>\n",
              "    </tr>\n",
              "    <tr>\n",
              "      <th>마포구</th>\n",
              "      <td>389649.0</td>\n",
              "      <td>378566.0</td>\n",
              "      <td>11083.0</td>\n",
              "      <td>2.23</td>\n",
              "      <td>2.844355</td>\n",
              "      <td>0.000572</td>\n",
              "    </tr>\n",
              "    <tr>\n",
              "      <th>양천구</th>\n",
              "      <td>479978.0</td>\n",
              "      <td>475949.0</td>\n",
              "      <td>4029.0</td>\n",
              "      <td>2.69</td>\n",
              "      <td>0.839413</td>\n",
              "      <td>0.000560</td>\n",
              "    </tr>\n",
              "    <tr>\n",
              "      <th>강서구</th>\n",
              "      <td>603772.0</td>\n",
              "      <td>597248.0</td>\n",
              "      <td>6524.0</td>\n",
              "      <td>2.41</td>\n",
              "      <td>1.080540</td>\n",
              "      <td>0.000399</td>\n",
              "    </tr>\n",
              "    <tr>\n",
              "      <th>구로구</th>\n",
              "      <td>447874.0</td>\n",
              "      <td>416487.0</td>\n",
              "      <td>31387.0</td>\n",
              "      <td>2.42</td>\n",
              "      <td>7.007998</td>\n",
              "      <td>0.000540</td>\n",
              "    </tr>\n",
              "    <tr>\n",
              "      <th>금천구</th>\n",
              "      <td>255082.0</td>\n",
              "      <td>236353.0</td>\n",
              "      <td>18729.0</td>\n",
              "      <td>2.25</td>\n",
              "      <td>7.342345</td>\n",
              "      <td>0.000882</td>\n",
              "    </tr>\n",
              "    <tr>\n",
              "      <th>영등포구</th>\n",
              "      <td>402985.0</td>\n",
              "      <td>368072.0</td>\n",
              "      <td>34913.0</td>\n",
              "      <td>2.22</td>\n",
              "      <td>8.663598</td>\n",
              "      <td>0.000551</td>\n",
              "    </tr>\n",
              "    <tr>\n",
              "      <th>동작구</th>\n",
              "      <td>412520.0</td>\n",
              "      <td>400456.0</td>\n",
              "      <td>12064.0</td>\n",
              "      <td>2.31</td>\n",
              "      <td>2.924464</td>\n",
              "      <td>0.000560</td>\n",
              "    </tr>\n",
              "    <tr>\n",
              "      <th>관악구</th>\n",
              "      <td>525515.0</td>\n",
              "      <td>507203.0</td>\n",
              "      <td>18312.0</td>\n",
              "      <td>2.00</td>\n",
              "      <td>3.484582</td>\n",
              "      <td>0.000381</td>\n",
              "    </tr>\n",
              "    <tr>\n",
              "      <th>서초구</th>\n",
              "      <td>450310.0</td>\n",
              "      <td>445994.0</td>\n",
              "      <td>4316.0</td>\n",
              "      <td>2.57</td>\n",
              "      <td>0.958451</td>\n",
              "      <td>0.000571</td>\n",
              "    </tr>\n",
              "    <tr>\n",
              "      <th>강남구</th>\n",
              "      <td>570500.0</td>\n",
              "      <td>565550.0</td>\n",
              "      <td>4950.0</td>\n",
              "      <td>2.42</td>\n",
              "      <td>0.867660</td>\n",
              "      <td>0.000424</td>\n",
              "    </tr>\n",
              "    <tr>\n",
              "      <th>송파구</th>\n",
              "      <td>667483.0</td>\n",
              "      <td>660584.0</td>\n",
              "      <td>6899.0</td>\n",
              "      <td>2.54</td>\n",
              "      <td>1.033584</td>\n",
              "      <td>0.000381</td>\n",
              "    </tr>\n",
              "    <tr>\n",
              "      <th>강동구</th>\n",
              "      <td>453233.0</td>\n",
              "      <td>449019.0</td>\n",
              "      <td>4214.0</td>\n",
              "      <td>2.50</td>\n",
              "      <td>0.929765</td>\n",
              "      <td>0.000552</td>\n",
              "    </tr>\n",
              "  </tbody>\n",
              "</table>\n",
              "</div>"
            ],
            "text/plain": [
              "           인구수       한국인      외국인   고령자     외국인비율     고령자비율\n",
              "구별                                                         \n",
              "종로구   162820.0  153589.0   9231.0  2.11  5.669451  0.001296\n",
              "중구    133240.0  124312.0   8928.0  2.09  6.700690  0.001569\n",
              "용산구   244203.0  229456.0  14747.0  2.15  6.038828  0.000880\n",
              "성동구   311244.0  303380.0   7864.0  2.32  2.526635  0.000745\n",
              "광진구   372164.0  357211.0  14953.0  2.25  4.017852  0.000605\n",
              "동대문구  369496.0  354079.0  15417.0  2.22  4.172440  0.000601\n",
              "중랑구   414503.0  409882.0   4621.0  2.31  1.114829  0.000557\n",
              "성북구   461260.0  449773.0  11487.0  2.39  2.490353  0.000518\n",
              "강북구   330192.0  326686.0   3506.0  2.31  1.061806  0.000700\n",
              "도봉구   348646.0  346629.0   2017.0  2.54  0.578524  0.000729\n",
              "노원구   569384.0  565565.0   3819.0  2.57  0.670725  0.000451\n",
              "은평구   494388.0  489943.0   4445.0  2.43  0.899091  0.000492\n",
              "서대문구  327163.0  314982.0  12181.0  2.30  3.723221  0.000703\n",
              "마포구   389649.0  378566.0  11083.0  2.23  2.844355  0.000572\n",
              "양천구   479978.0  475949.0   4029.0  2.69  0.839413  0.000560\n",
              "강서구   603772.0  597248.0   6524.0  2.41  1.080540  0.000399\n",
              "구로구   447874.0  416487.0  31387.0  2.42  7.007998  0.000540\n",
              "금천구   255082.0  236353.0  18729.0  2.25  7.342345  0.000882\n",
              "영등포구  402985.0  368072.0  34913.0  2.22  8.663598  0.000551\n",
              "동작구   412520.0  400456.0  12064.0  2.31  2.924464  0.000560\n",
              "관악구   525515.0  507203.0  18312.0  2.00  3.484582  0.000381\n",
              "서초구   450310.0  445994.0   4316.0  2.57  0.958451  0.000571\n",
              "강남구   570500.0  565550.0   4950.0  2.42  0.867660  0.000424\n",
              "송파구   667483.0  660584.0   6899.0  2.54  1.033584  0.000381\n",
              "강동구   453233.0  449019.0   4214.0  2.50  0.929765  0.000552"
            ]
          },
          "metadata": {
            "tags": []
          },
          "execution_count": 43
        }
      ]
    },
    {
      "cell_type": "code",
      "metadata": {
        "id": "y99fkwJYMB68",
        "colab_type": "code",
        "colab": {
          "base_uri": "https://localhost:8080/",
          "height": 817
        },
        "outputId": "9a84cb8a-c4a9-4290-d9d8-82129594e634"
      },
      "source": [
        "pop_Seoul.sort_values(by = \"외국인비율\", ascending = False) #내림차순 정렬"
      ],
      "execution_count": null,
      "outputs": [
        {
          "output_type": "execute_result",
          "data": {
            "text/html": [
              "<div>\n",
              "<style scoped>\n",
              "    .dataframe tbody tr th:only-of-type {\n",
              "        vertical-align: middle;\n",
              "    }\n",
              "\n",
              "    .dataframe tbody tr th {\n",
              "        vertical-align: top;\n",
              "    }\n",
              "\n",
              "    .dataframe thead th {\n",
              "        text-align: right;\n",
              "    }\n",
              "</style>\n",
              "<table border=\"1\" class=\"dataframe\">\n",
              "  <thead>\n",
              "    <tr style=\"text-align: right;\">\n",
              "      <th></th>\n",
              "      <th>인구수</th>\n",
              "      <th>한국인</th>\n",
              "      <th>외국인</th>\n",
              "      <th>고령자</th>\n",
              "      <th>외국인비율</th>\n",
              "      <th>고령자비율</th>\n",
              "    </tr>\n",
              "    <tr>\n",
              "      <th>구별</th>\n",
              "      <th></th>\n",
              "      <th></th>\n",
              "      <th></th>\n",
              "      <th></th>\n",
              "      <th></th>\n",
              "      <th></th>\n",
              "    </tr>\n",
              "  </thead>\n",
              "  <tbody>\n",
              "    <tr>\n",
              "      <th>영등포구</th>\n",
              "      <td>402985.0</td>\n",
              "      <td>368072.0</td>\n",
              "      <td>34913.0</td>\n",
              "      <td>2.22</td>\n",
              "      <td>8.663598</td>\n",
              "      <td>0.000551</td>\n",
              "    </tr>\n",
              "    <tr>\n",
              "      <th>금천구</th>\n",
              "      <td>255082.0</td>\n",
              "      <td>236353.0</td>\n",
              "      <td>18729.0</td>\n",
              "      <td>2.25</td>\n",
              "      <td>7.342345</td>\n",
              "      <td>0.000882</td>\n",
              "    </tr>\n",
              "    <tr>\n",
              "      <th>구로구</th>\n",
              "      <td>447874.0</td>\n",
              "      <td>416487.0</td>\n",
              "      <td>31387.0</td>\n",
              "      <td>2.42</td>\n",
              "      <td>7.007998</td>\n",
              "      <td>0.000540</td>\n",
              "    </tr>\n",
              "    <tr>\n",
              "      <th>중구</th>\n",
              "      <td>133240.0</td>\n",
              "      <td>124312.0</td>\n",
              "      <td>8928.0</td>\n",
              "      <td>2.09</td>\n",
              "      <td>6.700690</td>\n",
              "      <td>0.001569</td>\n",
              "    </tr>\n",
              "    <tr>\n",
              "      <th>용산구</th>\n",
              "      <td>244203.0</td>\n",
              "      <td>229456.0</td>\n",
              "      <td>14747.0</td>\n",
              "      <td>2.15</td>\n",
              "      <td>6.038828</td>\n",
              "      <td>0.000880</td>\n",
              "    </tr>\n",
              "    <tr>\n",
              "      <th>종로구</th>\n",
              "      <td>162820.0</td>\n",
              "      <td>153589.0</td>\n",
              "      <td>9231.0</td>\n",
              "      <td>2.11</td>\n",
              "      <td>5.669451</td>\n",
              "      <td>0.001296</td>\n",
              "    </tr>\n",
              "    <tr>\n",
              "      <th>동대문구</th>\n",
              "      <td>369496.0</td>\n",
              "      <td>354079.0</td>\n",
              "      <td>15417.0</td>\n",
              "      <td>2.22</td>\n",
              "      <td>4.172440</td>\n",
              "      <td>0.000601</td>\n",
              "    </tr>\n",
              "    <tr>\n",
              "      <th>광진구</th>\n",
              "      <td>372164.0</td>\n",
              "      <td>357211.0</td>\n",
              "      <td>14953.0</td>\n",
              "      <td>2.25</td>\n",
              "      <td>4.017852</td>\n",
              "      <td>0.000605</td>\n",
              "    </tr>\n",
              "    <tr>\n",
              "      <th>서대문구</th>\n",
              "      <td>327163.0</td>\n",
              "      <td>314982.0</td>\n",
              "      <td>12181.0</td>\n",
              "      <td>2.30</td>\n",
              "      <td>3.723221</td>\n",
              "      <td>0.000703</td>\n",
              "    </tr>\n",
              "    <tr>\n",
              "      <th>관악구</th>\n",
              "      <td>525515.0</td>\n",
              "      <td>507203.0</td>\n",
              "      <td>18312.0</td>\n",
              "      <td>2.00</td>\n",
              "      <td>3.484582</td>\n",
              "      <td>0.000381</td>\n",
              "    </tr>\n",
              "    <tr>\n",
              "      <th>동작구</th>\n",
              "      <td>412520.0</td>\n",
              "      <td>400456.0</td>\n",
              "      <td>12064.0</td>\n",
              "      <td>2.31</td>\n",
              "      <td>2.924464</td>\n",
              "      <td>0.000560</td>\n",
              "    </tr>\n",
              "    <tr>\n",
              "      <th>마포구</th>\n",
              "      <td>389649.0</td>\n",
              "      <td>378566.0</td>\n",
              "      <td>11083.0</td>\n",
              "      <td>2.23</td>\n",
              "      <td>2.844355</td>\n",
              "      <td>0.000572</td>\n",
              "    </tr>\n",
              "    <tr>\n",
              "      <th>성동구</th>\n",
              "      <td>311244.0</td>\n",
              "      <td>303380.0</td>\n",
              "      <td>7864.0</td>\n",
              "      <td>2.32</td>\n",
              "      <td>2.526635</td>\n",
              "      <td>0.000745</td>\n",
              "    </tr>\n",
              "    <tr>\n",
              "      <th>성북구</th>\n",
              "      <td>461260.0</td>\n",
              "      <td>449773.0</td>\n",
              "      <td>11487.0</td>\n",
              "      <td>2.39</td>\n",
              "      <td>2.490353</td>\n",
              "      <td>0.000518</td>\n",
              "    </tr>\n",
              "    <tr>\n",
              "      <th>중랑구</th>\n",
              "      <td>414503.0</td>\n",
              "      <td>409882.0</td>\n",
              "      <td>4621.0</td>\n",
              "      <td>2.31</td>\n",
              "      <td>1.114829</td>\n",
              "      <td>0.000557</td>\n",
              "    </tr>\n",
              "    <tr>\n",
              "      <th>강서구</th>\n",
              "      <td>603772.0</td>\n",
              "      <td>597248.0</td>\n",
              "      <td>6524.0</td>\n",
              "      <td>2.41</td>\n",
              "      <td>1.080540</td>\n",
              "      <td>0.000399</td>\n",
              "    </tr>\n",
              "    <tr>\n",
              "      <th>강북구</th>\n",
              "      <td>330192.0</td>\n",
              "      <td>326686.0</td>\n",
              "      <td>3506.0</td>\n",
              "      <td>2.31</td>\n",
              "      <td>1.061806</td>\n",
              "      <td>0.000700</td>\n",
              "    </tr>\n",
              "    <tr>\n",
              "      <th>송파구</th>\n",
              "      <td>667483.0</td>\n",
              "      <td>660584.0</td>\n",
              "      <td>6899.0</td>\n",
              "      <td>2.54</td>\n",
              "      <td>1.033584</td>\n",
              "      <td>0.000381</td>\n",
              "    </tr>\n",
              "    <tr>\n",
              "      <th>서초구</th>\n",
              "      <td>450310.0</td>\n",
              "      <td>445994.0</td>\n",
              "      <td>4316.0</td>\n",
              "      <td>2.57</td>\n",
              "      <td>0.958451</td>\n",
              "      <td>0.000571</td>\n",
              "    </tr>\n",
              "    <tr>\n",
              "      <th>강동구</th>\n",
              "      <td>453233.0</td>\n",
              "      <td>449019.0</td>\n",
              "      <td>4214.0</td>\n",
              "      <td>2.50</td>\n",
              "      <td>0.929765</td>\n",
              "      <td>0.000552</td>\n",
              "    </tr>\n",
              "    <tr>\n",
              "      <th>은평구</th>\n",
              "      <td>494388.0</td>\n",
              "      <td>489943.0</td>\n",
              "      <td>4445.0</td>\n",
              "      <td>2.43</td>\n",
              "      <td>0.899091</td>\n",
              "      <td>0.000492</td>\n",
              "    </tr>\n",
              "    <tr>\n",
              "      <th>강남구</th>\n",
              "      <td>570500.0</td>\n",
              "      <td>565550.0</td>\n",
              "      <td>4950.0</td>\n",
              "      <td>2.42</td>\n",
              "      <td>0.867660</td>\n",
              "      <td>0.000424</td>\n",
              "    </tr>\n",
              "    <tr>\n",
              "      <th>양천구</th>\n",
              "      <td>479978.0</td>\n",
              "      <td>475949.0</td>\n",
              "      <td>4029.0</td>\n",
              "      <td>2.69</td>\n",
              "      <td>0.839413</td>\n",
              "      <td>0.000560</td>\n",
              "    </tr>\n",
              "    <tr>\n",
              "      <th>노원구</th>\n",
              "      <td>569384.0</td>\n",
              "      <td>565565.0</td>\n",
              "      <td>3819.0</td>\n",
              "      <td>2.57</td>\n",
              "      <td>0.670725</td>\n",
              "      <td>0.000451</td>\n",
              "    </tr>\n",
              "    <tr>\n",
              "      <th>도봉구</th>\n",
              "      <td>348646.0</td>\n",
              "      <td>346629.0</td>\n",
              "      <td>2017.0</td>\n",
              "      <td>2.54</td>\n",
              "      <td>0.578524</td>\n",
              "      <td>0.000729</td>\n",
              "    </tr>\n",
              "  </tbody>\n",
              "</table>\n",
              "</div>"
            ],
            "text/plain": [
              "           인구수       한국인      외국인   고령자     외국인비율     고령자비율\n",
              "구별                                                         \n",
              "영등포구  402985.0  368072.0  34913.0  2.22  8.663598  0.000551\n",
              "금천구   255082.0  236353.0  18729.0  2.25  7.342345  0.000882\n",
              "구로구   447874.0  416487.0  31387.0  2.42  7.007998  0.000540\n",
              "중구    133240.0  124312.0   8928.0  2.09  6.700690  0.001569\n",
              "용산구   244203.0  229456.0  14747.0  2.15  6.038828  0.000880\n",
              "종로구   162820.0  153589.0   9231.0  2.11  5.669451  0.001296\n",
              "동대문구  369496.0  354079.0  15417.0  2.22  4.172440  0.000601\n",
              "광진구   372164.0  357211.0  14953.0  2.25  4.017852  0.000605\n",
              "서대문구  327163.0  314982.0  12181.0  2.30  3.723221  0.000703\n",
              "관악구   525515.0  507203.0  18312.0  2.00  3.484582  0.000381\n",
              "동작구   412520.0  400456.0  12064.0  2.31  2.924464  0.000560\n",
              "마포구   389649.0  378566.0  11083.0  2.23  2.844355  0.000572\n",
              "성동구   311244.0  303380.0   7864.0  2.32  2.526635  0.000745\n",
              "성북구   461260.0  449773.0  11487.0  2.39  2.490353  0.000518\n",
              "중랑구   414503.0  409882.0   4621.0  2.31  1.114829  0.000557\n",
              "강서구   603772.0  597248.0   6524.0  2.41  1.080540  0.000399\n",
              "강북구   330192.0  326686.0   3506.0  2.31  1.061806  0.000700\n",
              "송파구   667483.0  660584.0   6899.0  2.54  1.033584  0.000381\n",
              "서초구   450310.0  445994.0   4316.0  2.57  0.958451  0.000571\n",
              "강동구   453233.0  449019.0   4214.0  2.50  0.929765  0.000552\n",
              "은평구   494388.0  489943.0   4445.0  2.43  0.899091  0.000492\n",
              "강남구   570500.0  565550.0   4950.0  2.42  0.867660  0.000424\n",
              "양천구   479978.0  475949.0   4029.0  2.69  0.839413  0.000560\n",
              "노원구   569384.0  565565.0   3819.0  2.57  0.670725  0.000451\n",
              "도봉구   348646.0  346629.0   2017.0  2.54  0.578524  0.000729"
            ]
          },
          "metadata": {
            "tags": []
          },
          "execution_count": 47
        }
      ]
    },
    {
      "cell_type": "code",
      "metadata": {
        "id": "ZlAHlBIOMUBa",
        "colab_type": "code",
        "colab": {
          "base_uri": "https://localhost:8080/",
          "height": 610
        },
        "outputId": "6d597c9d-73e8-4530-e49f-5b25eff619e3"
      },
      "source": [
        "plt.style.use(\"ggplot\") \n",
        "\n",
        "pop_Seoul.sort_values(by = \"외국인비율\")[\"외국인비율\"].plot(\n",
        "    kind=\"barh\", color=\"cornflowerblue\" ,\n",
        "    width = 0.5 , figsize=(10, 10)\n",
        "    )"
      ],
      "execution_count": null,
      "outputs": [
        {
          "output_type": "execute_result",
          "data": {
            "text/plain": [
              "<matplotlib.axes._subplots.AxesSubplot at 0x7fc61fee6a20>"
            ]
          },
          "metadata": {
            "tags": []
          },
          "execution_count": 49
        },
        {
          "output_type": "display_data",
          "data": {
            "image/png": "[encoded data removed]",
            "text/plain": [
              "<Figure size 720x720 with 1 Axes>"
            ]
          },
          "metadata": {
            "tags": [],
            "image/png": {
              "width": 632,
              "height": 576
            }
          }
        }
      ]
    },
    {
      "cell_type": "markdown",
      "metadata": {
        "id": "HrcEzlX01qvf",
        "colab_type": "text"
      },
      "source": [
        "#병합"
      ]
    },
    {
      "cell_type": "code",
      "metadata": {
        "id": "fHHGqWGv1mqn",
        "colab_type": "code",
        "colab": {
          "base_uri": "https://localhost:8080/",
          "height": 195
        },
        "outputId": "81ab6060-8405-4d28-8c61-b11f1baa9c6c"
      },
      "source": [
        "#CCTV_Seoul 데이터와 pop_Seoul 데이터 병합\n",
        "data_result = pd.merge(CCTV_Seoul, pop_Seoul, on = \"구별\")\n",
        "data_result.head()"
      ],
      "execution_count": null,
      "outputs": [
        {
          "output_type": "execute_result",
          "data": {
            "text/html": [
              "<div>\n",
              "<style scoped>\n",
              "    .dataframe tbody tr th:only-of-type {\n",
              "        vertical-align: middle;\n",
              "    }\n",
              "\n",
              "    .dataframe tbody tr th {\n",
              "        vertical-align: top;\n",
              "    }\n",
              "\n",
              "    .dataframe thead th {\n",
              "        text-align: right;\n",
              "    }\n",
              "</style>\n",
              "<table border=\"1\" class=\"dataframe\">\n",
              "  <thead>\n",
              "    <tr style=\"text-align: right;\">\n",
              "      <th></th>\n",
              "      <th>구별</th>\n",
              "      <th>소계</th>\n",
              "      <th>2013년도 이전</th>\n",
              "      <th>2014년</th>\n",
              "      <th>2015년</th>\n",
              "      <th>2016년</th>\n",
              "      <th>인구수</th>\n",
              "      <th>한국인</th>\n",
              "      <th>외국인</th>\n",
              "      <th>고령자</th>\n",
              "      <th>외국인비율</th>\n",
              "      <th>고령자비율</th>\n",
              "    </tr>\n",
              "  </thead>\n",
              "  <tbody>\n",
              "    <tr>\n",
              "      <th>0</th>\n",
              "      <td>강남구</td>\n",
              "      <td>2780</td>\n",
              "      <td>1292</td>\n",
              "      <td>430</td>\n",
              "      <td>584</td>\n",
              "      <td>932</td>\n",
              "      <td>570500.0</td>\n",
              "      <td>565550.0</td>\n",
              "      <td>4950.0</td>\n",
              "      <td>2.42</td>\n",
              "      <td>0.867660</td>\n",
              "      <td>0.000424</td>\n",
              "    </tr>\n",
              "    <tr>\n",
              "      <th>1</th>\n",
              "      <td>강동구</td>\n",
              "      <td>773</td>\n",
              "      <td>379</td>\n",
              "      <td>99</td>\n",
              "      <td>155</td>\n",
              "      <td>377</td>\n",
              "      <td>453233.0</td>\n",
              "      <td>449019.0</td>\n",
              "      <td>4214.0</td>\n",
              "      <td>2.50</td>\n",
              "      <td>0.929765</td>\n",
              "      <td>0.000552</td>\n",
              "    </tr>\n",
              "    <tr>\n",
              "      <th>2</th>\n",
              "      <td>강북구</td>\n",
              "      <td>748</td>\n",
              "      <td>369</td>\n",
              "      <td>120</td>\n",
              "      <td>138</td>\n",
              "      <td>204</td>\n",
              "      <td>330192.0</td>\n",
              "      <td>326686.0</td>\n",
              "      <td>3506.0</td>\n",
              "      <td>2.31</td>\n",
              "      <td>1.061806</td>\n",
              "      <td>0.000700</td>\n",
              "    </tr>\n",
              "    <tr>\n",
              "      <th>3</th>\n",
              "      <td>강서구</td>\n",
              "      <td>884</td>\n",
              "      <td>388</td>\n",
              "      <td>258</td>\n",
              "      <td>184</td>\n",
              "      <td>81</td>\n",
              "      <td>603772.0</td>\n",
              "      <td>597248.0</td>\n",
              "      <td>6524.0</td>\n",
              "      <td>2.41</td>\n",
              "      <td>1.080540</td>\n",
              "      <td>0.000399</td>\n",
              "    </tr>\n",
              "    <tr>\n",
              "      <th>4</th>\n",
              "      <td>관악구</td>\n",
              "      <td>1496</td>\n",
              "      <td>846</td>\n",
              "      <td>260</td>\n",
              "      <td>390</td>\n",
              "      <td>613</td>\n",
              "      <td>525515.0</td>\n",
              "      <td>507203.0</td>\n",
              "      <td>18312.0</td>\n",
              "      <td>2.00</td>\n",
              "      <td>3.484582</td>\n",
              "      <td>0.000381</td>\n",
              "    </tr>\n",
              "  </tbody>\n",
              "</table>\n",
              "</div>"
            ],
            "text/plain": [
              "    구별    소계  2013년도 이전  2014년  ...      외국인   고령자     외국인비율     고령자비율\n",
              "0  강남구  2780       1292    430  ...   4950.0  2.42  0.867660  0.000424\n",
              "1  강동구   773        379     99  ...   4214.0  2.50  0.929765  0.000552\n",
              "2  강북구   748        369    120  ...   3506.0  2.31  1.061806  0.000700\n",
              "3  강서구   884        388    258  ...   6524.0  2.41  1.080540  0.000399\n",
              "4  관악구  1496        846    260  ...  18312.0  2.00  3.484582  0.000381\n",
              "\n",
              "[5 rows x 12 columns]"
            ]
          },
          "metadata": {
            "tags": []
          },
          "execution_count": 16
        }
      ]
    },
    {
      "cell_type": "code",
      "metadata": {
        "id": "yAiJJJBB144s",
        "colab_type": "code",
        "colab": {
          "base_uri": "https://localhost:8080/",
          "height": 195
        },
        "outputId": "47f4cea6-6c38-4265-aa07-0b77119dd90e"
      },
      "source": [
        "#컬럼 삭제\n",
        "del data_result[\"2013년도 이전\"]\n",
        "del data_result[\"2014년\"]\n",
        "del data_result[\"2015년\"]\n",
        "del data_result[\"2016년\"]\n",
        "data_result.head()"
      ],
      "execution_count": null,
      "outputs": [
        {
          "output_type": "execute_result",
          "data": {
            "text/html": [
              "<div>\n",
              "<style scoped>\n",
              "    .dataframe tbody tr th:only-of-type {\n",
              "        vertical-align: middle;\n",
              "    }\n",
              "\n",
              "    .dataframe tbody tr th {\n",
              "        vertical-align: top;\n",
              "    }\n",
              "\n",
              "    .dataframe thead th {\n",
              "        text-align: right;\n",
              "    }\n",
              "</style>\n",
              "<table border=\"1\" class=\"dataframe\">\n",
              "  <thead>\n",
              "    <tr style=\"text-align: right;\">\n",
              "      <th></th>\n",
              "      <th>구별</th>\n",
              "      <th>소계</th>\n",
              "      <th>인구수</th>\n",
              "      <th>한국인</th>\n",
              "      <th>외국인</th>\n",
              "      <th>고령자</th>\n",
              "      <th>외국인비율</th>\n",
              "      <th>고령자비율</th>\n",
              "    </tr>\n",
              "  </thead>\n",
              "  <tbody>\n",
              "    <tr>\n",
              "      <th>0</th>\n",
              "      <td>강남구</td>\n",
              "      <td>2780</td>\n",
              "      <td>570500.0</td>\n",
              "      <td>565550.0</td>\n",
              "      <td>4950.0</td>\n",
              "      <td>2.42</td>\n",
              "      <td>0.867660</td>\n",
              "      <td>0.000424</td>\n",
              "    </tr>\n",
              "    <tr>\n",
              "      <th>1</th>\n",
              "      <td>강동구</td>\n",
              "      <td>773</td>\n",
              "      <td>453233.0</td>\n",
              "      <td>449019.0</td>\n",
              "      <td>4214.0</td>\n",
              "      <td>2.50</td>\n",
              "      <td>0.929765</td>\n",
              "      <td>0.000552</td>\n",
              "    </tr>\n",
              "    <tr>\n",
              "      <th>2</th>\n",
              "      <td>강북구</td>\n",
              "      <td>748</td>\n",
              "      <td>330192.0</td>\n",
              "      <td>326686.0</td>\n",
              "      <td>3506.0</td>\n",
              "      <td>2.31</td>\n",
              "      <td>1.061806</td>\n",
              "      <td>0.000700</td>\n",
              "    </tr>\n",
              "    <tr>\n",
              "      <th>3</th>\n",
              "      <td>강서구</td>\n",
              "      <td>884</td>\n",
              "      <td>603772.0</td>\n",
              "      <td>597248.0</td>\n",
              "      <td>6524.0</td>\n",
              "      <td>2.41</td>\n",
              "      <td>1.080540</td>\n",
              "      <td>0.000399</td>\n",
              "    </tr>\n",
              "    <tr>\n",
              "      <th>4</th>\n",
              "      <td>관악구</td>\n",
              "      <td>1496</td>\n",
              "      <td>525515.0</td>\n",
              "      <td>507203.0</td>\n",
              "      <td>18312.0</td>\n",
              "      <td>2.00</td>\n",
              "      <td>3.484582</td>\n",
              "      <td>0.000381</td>\n",
              "    </tr>\n",
              "  </tbody>\n",
              "</table>\n",
              "</div>"
            ],
            "text/plain": [
              "    구별    소계       인구수       한국인      외국인   고령자     외국인비율     고령자비율\n",
              "0  강남구  2780  570500.0  565550.0   4950.0  2.42  0.867660  0.000424\n",
              "1  강동구   773  453233.0  449019.0   4214.0  2.50  0.929765  0.000552\n",
              "2  강북구   748  330192.0  326686.0   3506.0  2.31  1.061806  0.000700\n",
              "3  강서구   884  603772.0  597248.0   6524.0  2.41  1.080540  0.000399\n",
              "4  관악구  1496  525515.0  507203.0  18312.0  2.00  3.484582  0.000381"
            ]
          },
          "metadata": {
            "tags": []
          },
          "execution_count": 17
        }
      ]
    },
    {
      "cell_type": "markdown",
      "metadata": {
        "id": "hEHvcWSg2HyT",
        "colab_type": "text"
      },
      "source": [
        "#그래프 그리기"
      ]
    },
    {
      "cell_type": "code",
      "metadata": {
        "id": "ONa-lUhP2Gi2",
        "colab_type": "code",
        "colab": {}
      },
      "source": [
        "import platform\n",
        "from matplotlib import rc\n",
        "import matplotlib.font_manager as fm\n",
        "#그래프 전체적인 설정을 하는 객체\n",
        "import matplotlib as mpl \n",
        "#그래프를 그리는 객체\n",
        "import matplotlib.pyplot as plt\n",
        "%matplotlib inline"
      ],
      "execution_count": null,
      "outputs": []
    },
    {
      "cell_type": "code",
      "metadata": {
        "id": "n9q2HS512Um3",
        "colab_type": "code",
        "colab": {
          "base_uri": "https://localhost:8080/",
          "height": 158
        },
        "outputId": "4a8c2c4c-dfa7-4b3b-d14a-e4d75235a438"
      },
      "source": [
        "%config InlineBackend.figure_format = 'retina' #그래프의 글자를 선명하게 출력하도록 설정 \n",
        "!apt install fonts-nanum #나눔 글자체 설치\n",
        "\n",
        "fontpath = '/usr/share/fonts/truetype/nanum/NanumBarunGothic.ttf' #나눔고딕 글자체의 전체 경로 설정\n",
        "font = fm.FontProperties(fname=fontpath).get_name() #글자체의 경로 설정\n",
        "\n",
        "plt.rc('font', family = 'NanumBarunGothic') #폰트 이름 설정\n",
        "mpl.font_manager._rebuild() #폰트 업데이트"
      ],
      "execution_count": null,
      "outputs": [
        {
          "output_type": "stream",
          "text": [
            "Reading package lists... Done\n",
            "Building dependency tree       \n",
            "Reading state information... Done\n",
            "fonts-nanum is already the newest version (20170925-1).\n",
            "The following package was automatically installed and is no longer required:\n",
            "  libnvidia-common-440\n",
            "Use 'apt autoremove' to remove it.\n",
            "0 upgraded, 0 newly installed, 0 to remove and 33 not upgraded.\n"
          ],
          "name": "stdout"
        }
      ]
    },
    {
      "cell_type": "code",
      "metadata": {
        "id": "R54x_A1A2g9G",
        "colab_type": "code",
        "colab": {
          "base_uri": "https://localhost:8080/",
          "height": 195
        },
        "outputId": "e404a13c-3bcc-403a-89a2-4d1b1c0a3cde"
      },
      "source": [
        "data_result.head()"
      ],
      "execution_count": null,
      "outputs": [
        {
          "output_type": "execute_result",
          "data": {
            "text/html": [
              "<div>\n",
              "<style scoped>\n",
              "    .dataframe tbody tr th:only-of-type {\n",
              "        vertical-align: middle;\n",
              "    }\n",
              "\n",
              "    .dataframe tbody tr th {\n",
              "        vertical-align: top;\n",
              "    }\n",
              "\n",
              "    .dataframe thead th {\n",
              "        text-align: right;\n",
              "    }\n",
              "</style>\n",
              "<table border=\"1\" class=\"dataframe\">\n",
              "  <thead>\n",
              "    <tr style=\"text-align: right;\">\n",
              "      <th></th>\n",
              "      <th>구별</th>\n",
              "      <th>소계</th>\n",
              "      <th>인구수</th>\n",
              "      <th>한국인</th>\n",
              "      <th>외국인</th>\n",
              "      <th>고령자</th>\n",
              "      <th>외국인비율</th>\n",
              "      <th>고령자비율</th>\n",
              "    </tr>\n",
              "  </thead>\n",
              "  <tbody>\n",
              "    <tr>\n",
              "      <th>0</th>\n",
              "      <td>강남구</td>\n",
              "      <td>2780</td>\n",
              "      <td>570500.0</td>\n",
              "      <td>565550.0</td>\n",
              "      <td>4950.0</td>\n",
              "      <td>2.42</td>\n",
              "      <td>0.867660</td>\n",
              "      <td>0.000424</td>\n",
              "    </tr>\n",
              "    <tr>\n",
              "      <th>1</th>\n",
              "      <td>강동구</td>\n",
              "      <td>773</td>\n",
              "      <td>453233.0</td>\n",
              "      <td>449019.0</td>\n",
              "      <td>4214.0</td>\n",
              "      <td>2.50</td>\n",
              "      <td>0.929765</td>\n",
              "      <td>0.000552</td>\n",
              "    </tr>\n",
              "    <tr>\n",
              "      <th>2</th>\n",
              "      <td>강북구</td>\n",
              "      <td>748</td>\n",
              "      <td>330192.0</td>\n",
              "      <td>326686.0</td>\n",
              "      <td>3506.0</td>\n",
              "      <td>2.31</td>\n",
              "      <td>1.061806</td>\n",
              "      <td>0.000700</td>\n",
              "    </tr>\n",
              "    <tr>\n",
              "      <th>3</th>\n",
              "      <td>강서구</td>\n",
              "      <td>884</td>\n",
              "      <td>603772.0</td>\n",
              "      <td>597248.0</td>\n",
              "      <td>6524.0</td>\n",
              "      <td>2.41</td>\n",
              "      <td>1.080540</td>\n",
              "      <td>0.000399</td>\n",
              "    </tr>\n",
              "    <tr>\n",
              "      <th>4</th>\n",
              "      <td>관악구</td>\n",
              "      <td>1496</td>\n",
              "      <td>525515.0</td>\n",
              "      <td>507203.0</td>\n",
              "      <td>18312.0</td>\n",
              "      <td>2.00</td>\n",
              "      <td>3.484582</td>\n",
              "      <td>0.000381</td>\n",
              "    </tr>\n",
              "  </tbody>\n",
              "</table>\n",
              "</div>"
            ],
            "text/plain": [
              "    구별    소계       인구수       한국인      외국인   고령자     외국인비율     고령자비율\n",
              "0  강남구  2780  570500.0  565550.0   4950.0  2.42  0.867660  0.000424\n",
              "1  강동구   773  453233.0  449019.0   4214.0  2.50  0.929765  0.000552\n",
              "2  강북구   748  330192.0  326686.0   3506.0  2.31  1.061806  0.000700\n",
              "3  강서구   884  603772.0  597248.0   6524.0  2.41  1.080540  0.000399\n",
              "4  관악구  1496  525515.0  507203.0  18312.0  2.00  3.484582  0.000381"
            ]
          },
          "metadata": {
            "tags": []
          },
          "execution_count": 20
        }
      ]
    },
    {
      "cell_type": "code",
      "metadata": {
        "id": "fTxthuMF3dt1",
        "colab_type": "code",
        "colab": {
          "base_uri": "https://localhost:8080/",
          "height": 225
        },
        "outputId": "ab9bf17f-8f80-40b9-ea42-817c8642cac3"
      },
      "source": [
        "data_result.set_index(\"구별\", inplace = True) #구별 컬럼을 줄 인덱스로 설정\n",
        "data_result.head()"
      ],
      "execution_count": null,
      "outputs": [
        {
          "output_type": "execute_result",
          "data": {
            "text/html": [
              "<div>\n",
              "<style scoped>\n",
              "    .dataframe tbody tr th:only-of-type {\n",
              "        vertical-align: middle;\n",
              "    }\n",
              "\n",
              "    .dataframe tbody tr th {\n",
              "        vertical-align: top;\n",
              "    }\n",
              "\n",
              "    .dataframe thead th {\n",
              "        text-align: right;\n",
              "    }\n",
              "</style>\n",
              "<table border=\"1\" class=\"dataframe\">\n",
              "  <thead>\n",
              "    <tr style=\"text-align: right;\">\n",
              "      <th></th>\n",
              "      <th>소계</th>\n",
              "      <th>인구수</th>\n",
              "      <th>한국인</th>\n",
              "      <th>외국인</th>\n",
              "      <th>고령자</th>\n",
              "      <th>외국인비율</th>\n",
              "      <th>고령자비율</th>\n",
              "    </tr>\n",
              "    <tr>\n",
              "      <th>구별</th>\n",
              "      <th></th>\n",
              "      <th></th>\n",
              "      <th></th>\n",
              "      <th></th>\n",
              "      <th></th>\n",
              "      <th></th>\n",
              "      <th></th>\n",
              "    </tr>\n",
              "  </thead>\n",
              "  <tbody>\n",
              "    <tr>\n",
              "      <th>강남구</th>\n",
              "      <td>2780</td>\n",
              "      <td>570500.0</td>\n",
              "      <td>565550.0</td>\n",
              "      <td>4950.0</td>\n",
              "      <td>2.42</td>\n",
              "      <td>0.867660</td>\n",
              "      <td>0.000424</td>\n",
              "    </tr>\n",
              "    <tr>\n",
              "      <th>강동구</th>\n",
              "      <td>773</td>\n",
              "      <td>453233.0</td>\n",
              "      <td>449019.0</td>\n",
              "      <td>4214.0</td>\n",
              "      <td>2.50</td>\n",
              "      <td>0.929765</td>\n",
              "      <td>0.000552</td>\n",
              "    </tr>\n",
              "    <tr>\n",
              "      <th>강북구</th>\n",
              "      <td>748</td>\n",
              "      <td>330192.0</td>\n",
              "      <td>326686.0</td>\n",
              "      <td>3506.0</td>\n",
              "      <td>2.31</td>\n",
              "      <td>1.061806</td>\n",
              "      <td>0.000700</td>\n",
              "    </tr>\n",
              "    <tr>\n",
              "      <th>강서구</th>\n",
              "      <td>884</td>\n",
              "      <td>603772.0</td>\n",
              "      <td>597248.0</td>\n",
              "      <td>6524.0</td>\n",
              "      <td>2.41</td>\n",
              "      <td>1.080540</td>\n",
              "      <td>0.000399</td>\n",
              "    </tr>\n",
              "    <tr>\n",
              "      <th>관악구</th>\n",
              "      <td>1496</td>\n",
              "      <td>525515.0</td>\n",
              "      <td>507203.0</td>\n",
              "      <td>18312.0</td>\n",
              "      <td>2.00</td>\n",
              "      <td>3.484582</td>\n",
              "      <td>0.000381</td>\n",
              "    </tr>\n",
              "  </tbody>\n",
              "</table>\n",
              "</div>"
            ],
            "text/plain": [
              "       소계       인구수       한국인      외국인   고령자     외국인비율     고령자비율\n",
              "구별                                                              \n",
              "강남구  2780  570500.0  565550.0   4950.0  2.42  0.867660  0.000424\n",
              "강동구   773  453233.0  449019.0   4214.0  2.50  0.929765  0.000552\n",
              "강북구   748  330192.0  326686.0   3506.0  2.31  1.061806  0.000700\n",
              "강서구   884  603772.0  597248.0   6524.0  2.41  1.080540  0.000399\n",
              "관악구  1496  525515.0  507203.0  18312.0  2.00  3.484582  0.000381"
            ]
          },
          "metadata": {
            "tags": []
          },
          "execution_count": 21
        }
      ]
    },
    {
      "cell_type": "code",
      "metadata": {
        "id": "yvxZhnm-3kHU",
        "colab_type": "code",
        "colab": {
          "base_uri": "https://localhost:8080/",
          "height": 593
        },
        "outputId": "2de609b2-77a6-4fd5-ea3e-8fab5170924c"
      },
      "source": [
        "plt.figure() #그래프 그리기 준비\n",
        "data_result[\"소계\"].sort_values().plot(kind = \"barh\", grid = False, figsize = (10, 10)) #\"소계\" 데이터 그래프화, 내림차순\n",
        "plt.show()"
      ],
      "execution_count": null,
      "outputs": [
        {
          "output_type": "display_data",
          "data": {
            "image/png": "[encoded data removed]",
            "text/plain": [
              "<Figure size 720x720 with 1 Axes>"
            ]
          },
          "metadata": {
            "tags": [],
            "image/png": {
              "width": 630,
              "height": 576
            },
            "needs_background": "light"
          }
        }
      ]
    },
    {
      "cell_type": "code",
      "metadata": {
        "id": "a9J4EmAADF9d",
        "colab_type": "code",
        "colab": {
          "base_uri": "https://localhost:8080/",
          "height": 338
        },
        "outputId": "f870f026-c9c0-4ecc-9446-e08cc9d0174f"
      },
      "source": [
        "plt.style.use(\"ggplot\")\n",
        "data_result[\"소계\"].sort_values().plot(kind = \"barh\", color = \"cornflowerblue\", width = 0.5, figsize = (10, 5))"
      ],
      "execution_count": null,
      "outputs": [
        {
          "output_type": "execute_result",
          "data": {
            "text/plain": [
              "<matplotlib.axes._subplots.AxesSubplot at 0x7fc61fd26f60>"
            ]
          },
          "metadata": {
            "tags": []
          },
          "execution_count": 39
        },
        {
          "output_type": "display_data",
          "data": {
            "image/png": "[encoded data removed]",
            "text/plain": [
              "<Figure size 720x360 with 1 Axes>"
            ]
          },
          "metadata": {
            "tags": [],
            "image/png": {
              "width": 632,
              "height": 304
            }
          }
        }
      ]
    },
    {
      "cell_type": "code",
      "metadata": {
        "id": "zj0k3BWL4EwQ",
        "colab_type": "code",
        "colab": {
          "base_uri": "https://localhost:8080/",
          "height": 392
        },
        "outputId": "a0e5dfaa-2cf2-4bb4-ad2d-b52f2a445ff4"
      },
      "source": [
        "k#그래프의 가로, 세로 설정\n",
        "#데이터의 점 그래프 출력\n",
        "\n",
        "plt.figure(figsize = (6, 6))\n",
        "plt.scatter(\n",
        "    data_result[\"인구수\"], #X좌표\n",
        "    data_result[\"소계\"], #Y좌표\n",
        "    s = 50 #점의 크기\n",
        "            )\n",
        "\n",
        "plt.xlabel(\"인구수\") #X축 설정\n",
        "plt.ylabel(\"CCTV\") #Y축 설정\n",
        "\n",
        "plt.grid() #격자 출력\n",
        "plt.show()"
      ],
      "execution_count": null,
      "outputs": [
        {
          "output_type": "display_data",
          "data": {
            "image/png": "[encoded data removed]",
            "text/plain": [
              "<Figure size 432x432 with 1 Axes>"
            ]
          },
          "metadata": {
            "tags": [],
            "image/png": {
              "width": 396,
              "height": 375
            }
          }
        }
      ]
    },
    {
      "cell_type": "markdown",
      "metadata": {
        "id": "UEtUfxTG4-iM",
        "colab_type": "text"
      },
      "source": [
        "#선형 회귀식"
      ]
    },
    {
      "cell_type": "code",
      "metadata": {
        "id": "MAoQrAib5J5j",
        "colab_type": "code",
        "colab": {}
      },
      "source": [
        "import numpy as np"
      ],
      "execution_count": null,
      "outputs": []
    },
    {
      "cell_type": "code",
      "metadata": {
        "id": "DDSZbsh147M2",
        "colab_type": "code",
        "colab": {
          "base_uri": "https://localhost:8080/",
          "height": 34
        },
        "outputId": "7a29ca7b-42df-4e8a-98aa-bedc570b80c0"
      },
      "source": [
        "#인구수와 소계 사이의 단순선형회귀식 생성\n",
        "fp1 = np.polyfit(data_result[\"인구수\"], data_result[\"소계\"], 1)\n",
        "fp1"
      ],
      "execution_count": null,
      "outputs": [
        {
          "output_type": "execute_result",
          "data": {
            "text/plain": [
              "array([1.30916415e-03, 6.45066497e+02])"
            ]
          },
          "metadata": {
            "tags": []
          },
          "execution_count": 26
        }
      ]
    },
    {
      "cell_type": "code",
      "metadata": {
        "id": "uG-FfoQ15JCq",
        "colab_type": "code",
        "colab": {
          "base_uri": "https://localhost:8080/",
          "height": 34
        },
        "outputId": "e3bba4e1-c867-4ecc-85ec-20608524e449"
      },
      "source": [
        "#값을 입력하면 선형회귀 식을 계산해 리턴하는 함수 f1 생성\n",
        "f1 = np.poly1d(fp1)\n",
        "f1"
      ],
      "execution_count": null,
      "outputs": [
        {
          "output_type": "execute_result",
          "data": {
            "text/plain": [
              "poly1d([1.30916415e-03, 6.45066497e+02])"
            ]
          },
          "metadata": {
            "tags": []
          },
          "execution_count": 27
        }
      ]
    },
    {
      "cell_type": "code",
      "metadata": {
        "id": "5DT4hP8h5R8t",
        "colab_type": "code",
        "colab": {
          "base_uri": "https://localhost:8080/",
          "height": 34
        },
        "outputId": "1c2ef14c-6430-435c-bb0f-d2007b028ad3"
      },
      "source": [
        "f1(1000) #계산값 확인"
      ],
      "execution_count": null,
      "outputs": [
        {
          "output_type": "execute_result",
          "data": {
            "text/plain": [
              "646.3756607359652"
            ]
          },
          "metadata": {
            "tags": []
          },
          "execution_count": 28
        }
      ]
    },
    {
      "cell_type": "code",
      "metadata": {
        "id": "KjOE3SLL5Vyw",
        "colab_type": "code",
        "colab": {
          "base_uri": "https://localhost:8080/",
          "height": 34
        },
        "outputId": "711a12dc-2e1e-4d8d-f989-4165167acf0a"
      },
      "source": [
        "#10000 이상 70000 이하인 숫자 100개를 생성해 fx에 대입\n",
        "fx = np.linspace(10000, 70000, 100)\n",
        "len(fx)"
      ],
      "execution_count": null,
      "outputs": [
        {
          "output_type": "execute_result",
          "data": {
            "text/plain": [
              "100"
            ]
          },
          "metadata": {
            "tags": []
          },
          "execution_count": 29
        }
      ]
    },
    {
      "cell_type": "code",
      "metadata": {
        "id": "uPsW5q6w6Ijs",
        "colab_type": "code",
        "colab": {
          "base_uri": "https://localhost:8080/",
          "height": 457
        },
        "outputId": "4b0bcca3-c889-4ebd-c49b-17e3c569f489"
      },
      "source": [
        "fx"
      ],
      "execution_count": null,
      "outputs": [
        {
          "output_type": "execute_result",
          "data": {
            "text/plain": [
              "array([10000.        , 10606.06060606, 11212.12121212, 11818.18181818,\n",
              "       12424.24242424, 13030.3030303 , 13636.36363636, 14242.42424242,\n",
              "       14848.48484848, 15454.54545455, 16060.60606061, 16666.66666667,\n",
              "       17272.72727273, 17878.78787879, 18484.84848485, 19090.90909091,\n",
              "       19696.96969697, 20303.03030303, 20909.09090909, 21515.15151515,\n",
              "       22121.21212121, 22727.27272727, 23333.33333333, 23939.39393939,\n",
              "       24545.45454545, 25151.51515152, 25757.57575758, 26363.63636364,\n",
              "       26969.6969697 , 27575.75757576, 28181.81818182, 28787.87878788,\n",
              "       29393.93939394, 30000.        , 30606.06060606, 31212.12121212,\n",
              "       31818.18181818, 32424.24242424, 33030.3030303 , 33636.36363636,\n",
              "       34242.42424242, 34848.48484848, 35454.54545455, 36060.60606061,\n",
              "       36666.66666667, 37272.72727273, 37878.78787879, 38484.84848485,\n",
              "       39090.90909091, 39696.96969697, 40303.03030303, 40909.09090909,\n",
              "       41515.15151515, 42121.21212121, 42727.27272727, 43333.33333333,\n",
              "       43939.39393939, 44545.45454545, 45151.51515152, 45757.57575758,\n",
              "       46363.63636364, 46969.6969697 , 47575.75757576, 48181.81818182,\n",
              "       48787.87878788, 49393.93939394, 50000.        , 50606.06060606,\n",
              "       51212.12121212, 51818.18181818, 52424.24242424, 53030.3030303 ,\n",
              "       53636.36363636, 54242.42424242, 54848.48484848, 55454.54545455,\n",
              "       56060.60606061, 56666.66666667, 57272.72727273, 57878.78787879,\n",
              "       58484.84848485, 59090.90909091, 59696.96969697, 60303.03030303,\n",
              "       60909.09090909, 61515.15151515, 62121.21212121, 62727.27272727,\n",
              "       63333.33333333, 63939.39393939, 64545.45454545, 65151.51515152,\n",
              "       65757.57575758, 66363.63636364, 66969.6969697 , 67575.75757576,\n",
              "       68181.81818182, 68787.87878788, 69393.93939394, 70000.        ])"
            ]
          },
          "metadata": {
            "tags": []
          },
          "execution_count": 30
        }
      ]
    },
    {
      "cell_type": "code",
      "metadata": {
        "id": "Q6X4y0c15gDT",
        "colab_type": "code",
        "colab": {
          "base_uri": "https://localhost:8080/",
          "height": 610
        },
        "outputId": "d6b5272b-f807-4331-cd65-de726d8f8bb8"
      },
      "source": [
        "plt.figure(figsize = (10, 10)) #그래프의 가로, 세로 설정\n",
        "plt.scatter(data_result[\"인구수\"], data_result[\"소계\"], s = 50) \n",
        "plt.plot(fx, f1(fx), ls = \"dashed\", lw = 3, color = \"g\") #점선(회귀식)\n",
        "\n",
        "plt.xlabel(\"인구수\")\n",
        "plt.ylabel(\"CCTV\")\n",
        "\n",
        "plt.grid()\n",
        "\n",
        "plt.show()"
      ],
      "execution_count": null,
      "outputs": [
        {
          "output_type": "display_data",
          "data": {
            "image/png": "[encoded data removed]",
            "text/plain": [
              "<Figure size 720x720 with 1 Axes>"
            ]
          },
          "metadata": {
            "tags": [],
            "image/png": {
              "width": 636,
              "height": 593
            }
          }
        }
      ]
    },
    {
      "cell_type": "code",
      "metadata": {
        "id": "8ALHtFC66Ale",
        "colab_type": "code",
        "colab": {
          "base_uri": "https://localhost:8080/",
          "height": 225
        },
        "outputId": "f94e2ff5-d4fb-4381-abc5-f06ff4bee617"
      },
      "source": [
        "df_sort = data_result.sort_values(by = \"인구수\", ascending = False)\n",
        "df_sort.head()"
      ],
      "execution_count": null,
      "outputs": [
        {
          "output_type": "execute_result",
          "data": {
            "text/html": [
              "<div>\n",
              "<style scoped>\n",
              "    .dataframe tbody tr th:only-of-type {\n",
              "        vertical-align: middle;\n",
              "    }\n",
              "\n",
              "    .dataframe tbody tr th {\n",
              "        vertical-align: top;\n",
              "    }\n",
              "\n",
              "    .dataframe thead th {\n",
              "        text-align: right;\n",
              "    }\n",
              "</style>\n",
              "<table border=\"1\" class=\"dataframe\">\n",
              "  <thead>\n",
              "    <tr style=\"text-align: right;\">\n",
              "      <th></th>\n",
              "      <th>소계</th>\n",
              "      <th>인구수</th>\n",
              "      <th>한국인</th>\n",
              "      <th>외국인</th>\n",
              "      <th>고령자</th>\n",
              "      <th>외국인비율</th>\n",
              "      <th>고령자비율</th>\n",
              "    </tr>\n",
              "    <tr>\n",
              "      <th>구별</th>\n",
              "      <th></th>\n",
              "      <th></th>\n",
              "      <th></th>\n",
              "      <th></th>\n",
              "      <th></th>\n",
              "      <th></th>\n",
              "      <th></th>\n",
              "    </tr>\n",
              "  </thead>\n",
              "  <tbody>\n",
              "    <tr>\n",
              "      <th>송파구</th>\n",
              "      <td>618</td>\n",
              "      <td>667483.0</td>\n",
              "      <td>660584.0</td>\n",
              "      <td>6899.0</td>\n",
              "      <td>2.54</td>\n",
              "      <td>1.033584</td>\n",
              "      <td>0.000381</td>\n",
              "    </tr>\n",
              "    <tr>\n",
              "      <th>강서구</th>\n",
              "      <td>884</td>\n",
              "      <td>603772.0</td>\n",
              "      <td>597248.0</td>\n",
              "      <td>6524.0</td>\n",
              "      <td>2.41</td>\n",
              "      <td>1.080540</td>\n",
              "      <td>0.000399</td>\n",
              "    </tr>\n",
              "    <tr>\n",
              "      <th>강남구</th>\n",
              "      <td>2780</td>\n",
              "      <td>570500.0</td>\n",
              "      <td>565550.0</td>\n",
              "      <td>4950.0</td>\n",
              "      <td>2.42</td>\n",
              "      <td>0.867660</td>\n",
              "      <td>0.000424</td>\n",
              "    </tr>\n",
              "    <tr>\n",
              "      <th>노원구</th>\n",
              "      <td>1265</td>\n",
              "      <td>569384.0</td>\n",
              "      <td>565565.0</td>\n",
              "      <td>3819.0</td>\n",
              "      <td>2.57</td>\n",
              "      <td>0.670725</td>\n",
              "      <td>0.000451</td>\n",
              "    </tr>\n",
              "    <tr>\n",
              "      <th>관악구</th>\n",
              "      <td>1496</td>\n",
              "      <td>525515.0</td>\n",
              "      <td>507203.0</td>\n",
              "      <td>18312.0</td>\n",
              "      <td>2.00</td>\n",
              "      <td>3.484582</td>\n",
              "      <td>0.000381</td>\n",
              "    </tr>\n",
              "  </tbody>\n",
              "</table>\n",
              "</div>"
            ],
            "text/plain": [
              "       소계       인구수       한국인      외국인   고령자     외국인비율     고령자비율\n",
              "구별                                                              \n",
              "송파구   618  667483.0  660584.0   6899.0  2.54  1.033584  0.000381\n",
              "강서구   884  603772.0  597248.0   6524.0  2.41  1.080540  0.000399\n",
              "강남구  2780  570500.0  565550.0   4950.0  2.42  0.867660  0.000424\n",
              "노원구  1265  569384.0  565565.0   3819.0  2.57  0.670725  0.000451\n",
              "관악구  1496  525515.0  507203.0  18312.0  2.00  3.484582  0.000381"
            ]
          },
          "metadata": {
            "tags": []
          },
          "execution_count": 32
        }
      ]
    },
    {
      "cell_type": "code",
      "metadata": {
        "id": "Q-CgBbFl6tg_",
        "colab_type": "code",
        "colab": {
          "base_uri": "https://localhost:8080/",
          "height": 610
        },
        "outputId": "26c0e997-287b-48c4-f2fc-9a41622d37a5"
      },
      "source": [
        "plt.figure(figsize = (15, 10)) #그래프의 가로, 세로 설정\n",
        "plt.scatter(data_result[\"인구수\"], data_result[\"소계\"],\n",
        "            c = data_result[\"소계\"], #\"소계\"를 기준으로 색 설정\n",
        "            s = 50) \n",
        "\n",
        "for n in range(10): #인구수가 가장 높은 10개 구의 이름을 출력\n",
        "  plt.text(df_sort[\"인구수\"][n] * 1.02, df_sort[\"소계\"][n] * 0.98, \n",
        "           df_sort.index[n], #구 이름을 출력\n",
        "           fontsize = 15)\n",
        "\n",
        "plt.plot(fx, f1(fx), ls = \"dashed\", lw = 3, color = \"g\") #점선(회귀식)\n",
        "\n",
        "plt.xlabel(\"인구수\")\n",
        "plt.ylabel(\"CCTV\")\n",
        "plt.colorbar() #컬러바 출력\n",
        "plt.grid()\n",
        "\n",
        "plt.show()"
      ],
      "execution_count": null,
      "outputs": [
        {
          "output_type": "display_data",
          "data": {
            "image/png": "[encoded data removed]",
            "text/plain": [
              "<Figure size 1080x720 with 2 Axes>"
            ]
          },
          "metadata": {
            "tags": [],
            "image/png": {
              "width": 830,
              "height": 593
            }
          }
        }
      ]
    }
  ]
}