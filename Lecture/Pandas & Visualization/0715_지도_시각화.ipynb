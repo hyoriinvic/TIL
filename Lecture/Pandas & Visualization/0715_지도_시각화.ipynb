{
  "nbformat": 4,
  "nbformat_minor": 0,
  "metadata": {
    "colab": {
      "name": "0715 지도 시각화",
      "provenance": []
    },
    "kernelspec": {
      "name": "python3",
      "display_name": "Python 3"
    }
  },
  "cells": [
    {
      "cell_type": "code",
      "metadata": {
        "id": "3aIuRf07dBJv",
        "colab_type": "code",
        "colab": {
          "base_uri": "https://localhost:8080/",
          "height": 52
        },
        "outputId": "945b61b5-dbc9-415c-f453-c9cf9831fa73"
      },
      "source": [
        "! pip uninstall -y datascience"
      ],
      "execution_count": null,
      "outputs": [
        {
          "output_type": "stream",
          "text": [
            "Uninstalling datascience-0.10.6:\n",
            "  Successfully uninstalled datascience-0.10.6\n"
          ],
          "name": "stdout"
        }
      ]
    },
    {
      "cell_type": "code",
      "metadata": {
        "id": "5zYlVW-jg0zD",
        "colab_type": "code",
        "colab": {
          "base_uri": "https://localhost:8080/",
          "height": 52
        },
        "outputId": "2d346c33-7cd9-4432-f65c-64126d1671f4"
      },
      "source": [
        "! pip uninstall -y branca"
      ],
      "execution_count": null,
      "outputs": [
        {
          "output_type": "stream",
          "text": [
            "Uninstalling branca-0.4.1:\n",
            "  Successfully uninstalled branca-0.4.1\n"
          ],
          "name": "stdout"
        }
      ]
    },
    {
      "cell_type": "code",
      "metadata": {
        "id": "7P3KJe8hgqRb",
        "colab_type": "code",
        "colab": {
          "base_uri": "https://localhost:8080/",
          "height": 228
        },
        "outputId": "8a2ef3e5-494f-4c2d-d4a8-e0807896cffa"
      },
      "source": [
        "!pip install git+https://github.com/python-visualization/branca.git@master"
      ],
      "execution_count": null,
      "outputs": [
        {
          "output_type": "stream",
          "text": [
            "Collecting git+https://github.com/python-visualization/branca.git@master\n",
            "  Cloning https://github.com/python-visualization/branca.git (to revision master) to /tmp/pip-req-build-9r1h0z7f\n",
            "  Running command git clone -q https://github.com/python-visualization/branca.git /tmp/pip-req-build-9r1h0z7f\n",
            "Requirement already satisfied: jinja2 in /usr/local/lib/python3.6/dist-packages (from branca==0.4.1+3.g5887b9b) (2.11.2)\n",
            "Requirement already satisfied: MarkupSafe>=0.23 in /usr/local/lib/python3.6/dist-packages (from jinja2->branca==0.4.1+3.g5887b9b) (1.1.1)\n",
            "Building wheels for collected packages: branca\n",
            "  Building wheel for branca (setup.py) ... \u001b[?25l\u001b[?25hdone\n",
            "  Created wheel for branca: filename=branca-0.4.1+3.g5887b9b-cp36-none-any.whl size=24523 sha256=e4463c960f0664b46e676ee8f70ce4d0d22bba02d003861f29fd85cd1e264536\n",
            "  Stored in directory: /tmp/pip-ephem-wheel-cache-p17vxrgn/wheels/14/bc/41/d6078abe73beea93d98c014bba54c395224cabb54f95b9d248\n",
            "Successfully built branca\n",
            "Installing collected packages: branca\n",
            "Successfully installed branca-0.4.1+3.g5887b9b\n"
          ],
          "name": "stdout"
        }
      ]
    },
    {
      "cell_type": "code",
      "metadata": {
        "id": "T8gsvL4t1IWc",
        "colab_type": "code",
        "colab": {}
      },
      "source": [
        "import folium"
      ],
      "execution_count": null,
      "outputs": []
    },
    {
      "cell_type": "code",
      "metadata": {
        "id": "wh-V9WrV1ZyR",
        "colab_type": "code",
        "colab": {
          "base_uri": "https://localhost:8080/",
          "height": 829
        },
        "outputId": "58b36549-a218-44ae-d6a1-798826be633c"
      },
      "source": [
        "folium.Map(location=[37.493747, 127.032690])"
      ],
      "execution_count": null,
      "outputs": [
        {
          "output_type": "execute_result",
          "data": {
            "text/html": [
              "<div style=\"width:100%;\"><div style=\"position:relative;width:100%;height:0;padding-bottom:60%;\"><span style=\"color:#565656\">Make this Notebook Trusted to load map: File -> Trust Notebook</span><iframe src=\"about:blank\" style=\"position:absolute;width:100%;height:100%;left:0;top:0;border:none !important;\" data-html=%3C%21DOCTYPE%20html%3E%0A%3Chead%3E%20%20%20%20%0A%20%20%20%20%3Cmeta%20http-equiv%3D%22content-type%22%20content%3D%22text/html%3B%20charset%3DUTF-8%22%20/%3E%0A%20%20%20%20%3Cscript%3EL_PREFER_CANVAS%3Dfalse%3B%20L_NO_TOUCH%3Dfalse%3B%20L_DISABLE_3D%3Dfalse%3B%3C/script%3E%0A%20%20%20%20%3Cscript%20src%3D%22https%3A//cdn.jsdelivr.net/npm/leaflet%401.4.0/dist/leaflet.js%22%3E%3C/script%3E%0A%20%20%20%20%3Cscript%20src%3D%22https%3A//code.jquery.com/jquery-1.12.4.min.js%22%3E%3C/script%3E%0A%20%20%20%20%3Cscript%20src%3D%22https%3A//maxcdn.bootstrapcdn.com/bootstrap/3.2.0/js/bootstrap.min.js%22%3E%3C/script%3E%0A%20%20%20%20%3Cscript%20src%3D%22https%3A//cdnjs.cloudflare.com/ajax/libs/Leaflet.awesome-markers/2.0.2/leaflet.awesome-markers.js%22%3E%3C/script%3E%0A%20%20%20%20%3Clink%20rel%3D%22stylesheet%22%20href%3D%22https%3A//cdn.jsdelivr.net/npm/leaflet%401.4.0/dist/leaflet.css%22/%3E%0A%20%20%20%20%3Clink%20rel%3D%22stylesheet%22%20href%3D%22https%3A//maxcdn.bootstrapcdn.com/bootstrap/3.2.0/css/bootstrap.min.css%22/%3E%0A%20%20%20%20%3Clink%20rel%3D%22stylesheet%22%20href%3D%22https%3A//maxcdn.bootstrapcdn.com/bootstrap/3.2.0/css/bootstrap-theme.min.css%22/%3E%0A%20%20%20%20%3Clink%20rel%3D%22stylesheet%22%20href%3D%22https%3A//maxcdn.bootstrapcdn.com/font-awesome/4.6.3/css/font-awesome.min.css%22/%3E%0A%20%20%20%20%3Clink%20rel%3D%22stylesheet%22%20href%3D%22https%3A//cdnjs.cloudflare.com/ajax/libs/Leaflet.awesome-markers/2.0.2/leaflet.awesome-markers.css%22/%3E%0A%20%20%20%20%3Clink%20rel%3D%22stylesheet%22%20href%3D%22https%3A//rawcdn.githack.com/python-visualization/folium/master/folium/templates/leaflet.awesome.rotate.css%22/%3E%0A%20%20%20%20%3Cstyle%3Ehtml%2C%20body%20%7Bwidth%3A%20100%25%3Bheight%3A%20100%25%3Bmargin%3A%200%3Bpadding%3A%200%3B%7D%3C/style%3E%0A%20%20%20%20%3Cstyle%3E%23map%20%7Bposition%3Aabsolute%3Btop%3A0%3Bbottom%3A0%3Bright%3A0%3Bleft%3A0%3B%7D%3C/style%3E%0A%20%20%20%20%0A%20%20%20%20%3Cmeta%20name%3D%22viewport%22%20content%3D%22width%3Ddevice-width%2C%0A%20%20%20%20%20%20%20%20initial-scale%3D1.0%2C%20maximum-scale%3D1.0%2C%20user-scalable%3Dno%22%20/%3E%0A%20%20%20%20%3Cstyle%3E%23map_bb5e751fdc9340148e27e3138fba2277%20%7B%0A%20%20%20%20%20%20%20%20position%3A%20relative%3B%0A%20%20%20%20%20%20%20%20width%3A%20100.0%25%3B%0A%20%20%20%20%20%20%20%20height%3A%20100.0%25%3B%0A%20%20%20%20%20%20%20%20left%3A%200.0%25%3B%0A%20%20%20%20%20%20%20%20top%3A%200.0%25%3B%0A%20%20%20%20%20%20%20%20%7D%0A%20%20%20%20%3C/style%3E%0A%3C/head%3E%0A%3Cbody%3E%20%20%20%20%0A%20%20%20%20%0A%20%20%20%20%3Cdiv%20class%3D%22folium-map%22%20id%3D%22map_bb5e751fdc9340148e27e3138fba2277%22%20%3E%3C/div%3E%0A%3C/body%3E%0A%3Cscript%3E%20%20%20%20%0A%20%20%20%20%0A%20%20%20%20%0A%20%20%20%20%20%20%20%20var%20bounds%20%3D%20null%3B%0A%20%20%20%20%0A%0A%20%20%20%20var%20map_bb5e751fdc9340148e27e3138fba2277%20%3D%20L.map%28%0A%20%20%20%20%20%20%20%20%27map_bb5e751fdc9340148e27e3138fba2277%27%2C%20%7B%0A%20%20%20%20%20%20%20%20center%3A%20%5B37.493747%2C%20127.03269%5D%2C%0A%20%20%20%20%20%20%20%20zoom%3A%2010%2C%0A%20%20%20%20%20%20%20%20maxBounds%3A%20bounds%2C%0A%20%20%20%20%20%20%20%20layers%3A%20%5B%5D%2C%0A%20%20%20%20%20%20%20%20worldCopyJump%3A%20false%2C%0A%20%20%20%20%20%20%20%20crs%3A%20L.CRS.EPSG3857%2C%0A%20%20%20%20%20%20%20%20zoomControl%3A%20true%2C%0A%20%20%20%20%20%20%20%20%7D%29%3B%0A%0A%0A%20%20%20%20%0A%20%20%20%20var%20tile_layer_3ccfb4abdaa8494aae181c07847921c5%20%3D%20L.tileLayer%28%0A%20%20%20%20%20%20%20%20%27https%3A//%7Bs%7D.tile.openstreetmap.org/%7Bz%7D/%7Bx%7D/%7By%7D.png%27%2C%0A%20%20%20%20%20%20%20%20%7B%0A%20%20%20%20%20%20%20%20%22attribution%22%3A%20null%2C%0A%20%20%20%20%20%20%20%20%22detectRetina%22%3A%20false%2C%0A%20%20%20%20%20%20%20%20%22maxNativeZoom%22%3A%2018%2C%0A%20%20%20%20%20%20%20%20%22maxZoom%22%3A%2018%2C%0A%20%20%20%20%20%20%20%20%22minZoom%22%3A%200%2C%0A%20%20%20%20%20%20%20%20%22noWrap%22%3A%20false%2C%0A%20%20%20%20%20%20%20%20%22opacity%22%3A%201%2C%0A%20%20%20%20%20%20%20%20%22subdomains%22%3A%20%22abc%22%2C%0A%20%20%20%20%20%20%20%20%22tms%22%3A%20false%0A%7D%29.addTo%28map_bb5e751fdc9340148e27e3138fba2277%29%3B%0A%3C/script%3E onload=\"this.contentDocument.open();this.contentDocument.write(    decodeURIComponent(this.getAttribute('data-html')));this.contentDocument.close();\" allowfullscreen webkitallowfullscreen mozallowfullscreen></iframe></div></div>"
            ],
            "text/plain": [
              "<folium.folium.Map at 0x7f611e9d3e48>"
            ]
          },
          "metadata": {
            "tags": []
          },
          "execution_count": 5
        }
      ]
    },
    {
      "cell_type": "code",
      "metadata": {
        "id": "eFU8_HpY1bQ5",
        "colab_type": "code",
        "colab": {}
      },
      "source": [
        "seoul_map = folium.Map(location=[37.493747, 127.032690], zoom_start = 18) #zoom 확대/축소 의미"
      ],
      "execution_count": null,
      "outputs": []
    },
    {
      "cell_type": "code",
      "metadata": {
        "id": "1uEqd5L51diT",
        "colab_type": "code",
        "colab": {
          "base_uri": "https://localhost:8080/",
          "height": 829
        },
        "outputId": "0cde5973-92f9-4c03-c0a9-adb2bdfb0efc"
      },
      "source": [
        "seoul_map"
      ],
      "execution_count": null,
      "outputs": [
        {
          "output_type": "execute_result",
          "data": {
            "text/html": [
              "<div style=\"width:100%;\"><div style=\"position:relative;width:100%;height:0;padding-bottom:60%;\"><span style=\"color:#565656\">Make this Notebook Trusted to load map: File -> Trust Notebook</span><iframe src=\"about:blank\" style=\"position:absolute;width:100%;height:100%;left:0;top:0;border:none !important;\" data-html=%3C%21DOCTYPE%20html%3E%0A%3Chead%3E%20%20%20%20%0A%20%20%20%20%3Cmeta%20http-equiv%3D%22content-type%22%20content%3D%22text/html%3B%20charset%3DUTF-8%22%20/%3E%0A%20%20%20%20%3Cscript%3EL_PREFER_CANVAS%3Dfalse%3B%20L_NO_TOUCH%3Dfalse%3B%20L_DISABLE_3D%3Dfalse%3B%3C/script%3E%0A%20%20%20%20%3Cscript%20src%3D%22https%3A//cdn.jsdelivr.net/npm/leaflet%401.4.0/dist/leaflet.js%22%3E%3C/script%3E%0A%20%20%20%20%3Cscript%20src%3D%22https%3A//code.jquery.com/jquery-1.12.4.min.js%22%3E%3C/script%3E%0A%20%20%20%20%3Cscript%20src%3D%22https%3A//maxcdn.bootstrapcdn.com/bootstrap/3.2.0/js/bootstrap.min.js%22%3E%3C/script%3E%0A%20%20%20%20%3Cscript%20src%3D%22https%3A//cdnjs.cloudflare.com/ajax/libs/Leaflet.awesome-markers/2.0.2/leaflet.awesome-markers.js%22%3E%3C/script%3E%0A%20%20%20%20%3Clink%20rel%3D%22stylesheet%22%20href%3D%22https%3A//cdn.jsdelivr.net/npm/leaflet%401.4.0/dist/leaflet.css%22/%3E%0A%20%20%20%20%3Clink%20rel%3D%22stylesheet%22%20href%3D%22https%3A//maxcdn.bootstrapcdn.com/bootstrap/3.2.0/css/bootstrap.min.css%22/%3E%0A%20%20%20%20%3Clink%20rel%3D%22stylesheet%22%20href%3D%22https%3A//maxcdn.bootstrapcdn.com/bootstrap/3.2.0/css/bootstrap-theme.min.css%22/%3E%0A%20%20%20%20%3Clink%20rel%3D%22stylesheet%22%20href%3D%22https%3A//maxcdn.bootstrapcdn.com/font-awesome/4.6.3/css/font-awesome.min.css%22/%3E%0A%20%20%20%20%3Clink%20rel%3D%22stylesheet%22%20href%3D%22https%3A//cdnjs.cloudflare.com/ajax/libs/Leaflet.awesome-markers/2.0.2/leaflet.awesome-markers.css%22/%3E%0A%20%20%20%20%3Clink%20rel%3D%22stylesheet%22%20href%3D%22https%3A//rawcdn.githack.com/python-visualization/folium/master/folium/templates/leaflet.awesome.rotate.css%22/%3E%0A%20%20%20%20%3Cstyle%3Ehtml%2C%20body%20%7Bwidth%3A%20100%25%3Bheight%3A%20100%25%3Bmargin%3A%200%3Bpadding%3A%200%3B%7D%3C/style%3E%0A%20%20%20%20%3Cstyle%3E%23map%20%7Bposition%3Aabsolute%3Btop%3A0%3Bbottom%3A0%3Bright%3A0%3Bleft%3A0%3B%7D%3C/style%3E%0A%20%20%20%20%0A%20%20%20%20%3Cmeta%20name%3D%22viewport%22%20content%3D%22width%3Ddevice-width%2C%0A%20%20%20%20%20%20%20%20initial-scale%3D1.0%2C%20maximum-scale%3D1.0%2C%20user-scalable%3Dno%22%20/%3E%0A%20%20%20%20%3Cstyle%3E%23map_74aad795b4d443e38fbdcd2c95978a7e%20%7B%0A%20%20%20%20%20%20%20%20position%3A%20relative%3B%0A%20%20%20%20%20%20%20%20width%3A%20100.0%25%3B%0A%20%20%20%20%20%20%20%20height%3A%20100.0%25%3B%0A%20%20%20%20%20%20%20%20left%3A%200.0%25%3B%0A%20%20%20%20%20%20%20%20top%3A%200.0%25%3B%0A%20%20%20%20%20%20%20%20%7D%0A%20%20%20%20%3C/style%3E%0A%3C/head%3E%0A%3Cbody%3E%20%20%20%20%0A%20%20%20%20%0A%20%20%20%20%3Cdiv%20class%3D%22folium-map%22%20id%3D%22map_74aad795b4d443e38fbdcd2c95978a7e%22%20%3E%3C/div%3E%0A%3C/body%3E%0A%3Cscript%3E%20%20%20%20%0A%20%20%20%20%0A%20%20%20%20%0A%20%20%20%20%20%20%20%20var%20bounds%20%3D%20null%3B%0A%20%20%20%20%0A%0A%20%20%20%20var%20map_74aad795b4d443e38fbdcd2c95978a7e%20%3D%20L.map%28%0A%20%20%20%20%20%20%20%20%27map_74aad795b4d443e38fbdcd2c95978a7e%27%2C%20%7B%0A%20%20%20%20%20%20%20%20center%3A%20%5B37.493747%2C%20127.03269%5D%2C%0A%20%20%20%20%20%20%20%20zoom%3A%2018%2C%0A%20%20%20%20%20%20%20%20maxBounds%3A%20bounds%2C%0A%20%20%20%20%20%20%20%20layers%3A%20%5B%5D%2C%0A%20%20%20%20%20%20%20%20worldCopyJump%3A%20false%2C%0A%20%20%20%20%20%20%20%20crs%3A%20L.CRS.EPSG3857%2C%0A%20%20%20%20%20%20%20%20zoomControl%3A%20true%2C%0A%20%20%20%20%20%20%20%20%7D%29%3B%0A%0A%0A%20%20%20%20%0A%20%20%20%20var%20tile_layer_e40f36bd5ba34034989dc7cf270d9fd1%20%3D%20L.tileLayer%28%0A%20%20%20%20%20%20%20%20%27https%3A//%7Bs%7D.tile.openstreetmap.org/%7Bz%7D/%7Bx%7D/%7By%7D.png%27%2C%0A%20%20%20%20%20%20%20%20%7B%0A%20%20%20%20%20%20%20%20%22attribution%22%3A%20null%2C%0A%20%20%20%20%20%20%20%20%22detectRetina%22%3A%20false%2C%0A%20%20%20%20%20%20%20%20%22maxNativeZoom%22%3A%2018%2C%0A%20%20%20%20%20%20%20%20%22maxZoom%22%3A%2018%2C%0A%20%20%20%20%20%20%20%20%22minZoom%22%3A%200%2C%0A%20%20%20%20%20%20%20%20%22noWrap%22%3A%20false%2C%0A%20%20%20%20%20%20%20%20%22opacity%22%3A%201%2C%0A%20%20%20%20%20%20%20%20%22subdomains%22%3A%20%22abc%22%2C%0A%20%20%20%20%20%20%20%20%22tms%22%3A%20false%0A%7D%29.addTo%28map_74aad795b4d443e38fbdcd2c95978a7e%29%3B%0A%3C/script%3E onload=\"this.contentDocument.open();this.contentDocument.write(    decodeURIComponent(this.getAttribute('data-html')));this.contentDocument.close();\" allowfullscreen webkitallowfullscreen mozallowfullscreen></iframe></div></div>"
            ],
            "text/plain": [
              "<folium.folium.Map at 0x7f611e996a90>"
            ]
          },
          "metadata": {
            "tags": []
          },
          "execution_count": 7
        }
      ]
    },
    {
      "cell_type": "code",
      "metadata": {
        "id": "3K9FNu_I1fLZ",
        "colab_type": "code",
        "colab": {}
      },
      "source": [
        "seoul_map.save(\"./seoul.html\") #지도를 HTML 파일로 저장 "
      ],
      "execution_count": null,
      "outputs": []
    },
    {
      "cell_type": "code",
      "metadata": {
        "id": "yEnazvBv1sFr",
        "colab_type": "code",
        "colab": {
          "base_uri": "https://localhost:8080/",
          "height": 829
        },
        "outputId": "86423e85-3f56-4569-c121-66be4a8cb6db"
      },
      "source": [
        "folium.Map(location=[37.493747, 127.032690], \n",
        "           zoom_start=18,\n",
        "           tiles=\"Stamen Terrain\")"
      ],
      "execution_count": null,
      "outputs": [
        {
          "output_type": "execute_result",
          "data": {
            "text/html": [
              "<div style=\"width:100%;\"><div style=\"position:relative;width:100%;height:0;padding-bottom:60%;\"><span style=\"color:#565656\">Make this Notebook Trusted to load map: File -> Trust Notebook</span><iframe src=\"about:blank\" style=\"position:absolute;width:100%;height:100%;left:0;top:0;border:none !important;\" data-html=%3C%21DOCTYPE%20html%3E%0A%3Chead%3E%20%20%20%20%0A%20%20%20%20%3Cmeta%20http-equiv%3D%22content-type%22%20content%3D%22text/html%3B%20charset%3DUTF-8%22%20/%3E%0A%20%20%20%20%3Cscript%3EL_PREFER_CANVAS%3Dfalse%3B%20L_NO_TOUCH%3Dfalse%3B%20L_DISABLE_3D%3Dfalse%3B%3C/script%3E%0A%20%20%20%20%3Cscript%20src%3D%22https%3A//cdn.jsdelivr.net/npm/leaflet%401.4.0/dist/leaflet.js%22%3E%3C/script%3E%0A%20%20%20%20%3Cscript%20src%3D%22https%3A//code.jquery.com/jquery-1.12.4.min.js%22%3E%3C/script%3E%0A%20%20%20%20%3Cscript%20src%3D%22https%3A//maxcdn.bootstrapcdn.com/bootstrap/3.2.0/js/bootstrap.min.js%22%3E%3C/script%3E%0A%20%20%20%20%3Cscript%20src%3D%22https%3A//cdnjs.cloudflare.com/ajax/libs/Leaflet.awesome-markers/2.0.2/leaflet.awesome-markers.js%22%3E%3C/script%3E%0A%20%20%20%20%3Clink%20rel%3D%22stylesheet%22%20href%3D%22https%3A//cdn.jsdelivr.net/npm/leaflet%401.4.0/dist/leaflet.css%22/%3E%0A%20%20%20%20%3Clink%20rel%3D%22stylesheet%22%20href%3D%22https%3A//maxcdn.bootstrapcdn.com/bootstrap/3.2.0/css/bootstrap.min.css%22/%3E%0A%20%20%20%20%3Clink%20rel%3D%22stylesheet%22%20href%3D%22https%3A//maxcdn.bootstrapcdn.com/bootstrap/3.2.0/css/bootstrap-theme.min.css%22/%3E%0A%20%20%20%20%3Clink%20rel%3D%22stylesheet%22%20href%3D%22https%3A//maxcdn.bootstrapcdn.com/font-awesome/4.6.3/css/font-awesome.min.css%22/%3E%0A%20%20%20%20%3Clink%20rel%3D%22stylesheet%22%20href%3D%22https%3A//cdnjs.cloudflare.com/ajax/libs/Leaflet.awesome-markers/2.0.2/leaflet.awesome-markers.css%22/%3E%0A%20%20%20%20%3Clink%20rel%3D%22stylesheet%22%20href%3D%22https%3A//rawcdn.githack.com/python-visualization/folium/master/folium/templates/leaflet.awesome.rotate.css%22/%3E%0A%20%20%20%20%3Cstyle%3Ehtml%2C%20body%20%7Bwidth%3A%20100%25%3Bheight%3A%20100%25%3Bmargin%3A%200%3Bpadding%3A%200%3B%7D%3C/style%3E%0A%20%20%20%20%3Cstyle%3E%23map%20%7Bposition%3Aabsolute%3Btop%3A0%3Bbottom%3A0%3Bright%3A0%3Bleft%3A0%3B%7D%3C/style%3E%0A%20%20%20%20%0A%20%20%20%20%3Cmeta%20name%3D%22viewport%22%20content%3D%22width%3Ddevice-width%2C%0A%20%20%20%20%20%20%20%20initial-scale%3D1.0%2C%20maximum-scale%3D1.0%2C%20user-scalable%3Dno%22%20/%3E%0A%20%20%20%20%3Cstyle%3E%23map_dd7c31cf987642dd835ae002e9645001%20%7B%0A%20%20%20%20%20%20%20%20position%3A%20relative%3B%0A%20%20%20%20%20%20%20%20width%3A%20100.0%25%3B%0A%20%20%20%20%20%20%20%20height%3A%20100.0%25%3B%0A%20%20%20%20%20%20%20%20left%3A%200.0%25%3B%0A%20%20%20%20%20%20%20%20top%3A%200.0%25%3B%0A%20%20%20%20%20%20%20%20%7D%0A%20%20%20%20%3C/style%3E%0A%3C/head%3E%0A%3Cbody%3E%20%20%20%20%0A%20%20%20%20%0A%20%20%20%20%3Cdiv%20class%3D%22folium-map%22%20id%3D%22map_dd7c31cf987642dd835ae002e9645001%22%20%3E%3C/div%3E%0A%3C/body%3E%0A%3Cscript%3E%20%20%20%20%0A%20%20%20%20%0A%20%20%20%20%0A%20%20%20%20%20%20%20%20var%20bounds%20%3D%20null%3B%0A%20%20%20%20%0A%0A%20%20%20%20var%20map_dd7c31cf987642dd835ae002e9645001%20%3D%20L.map%28%0A%20%20%20%20%20%20%20%20%27map_dd7c31cf987642dd835ae002e9645001%27%2C%20%7B%0A%20%20%20%20%20%20%20%20center%3A%20%5B37.493747%2C%20127.03269%5D%2C%0A%20%20%20%20%20%20%20%20zoom%3A%2018%2C%0A%20%20%20%20%20%20%20%20maxBounds%3A%20bounds%2C%0A%20%20%20%20%20%20%20%20layers%3A%20%5B%5D%2C%0A%20%20%20%20%20%20%20%20worldCopyJump%3A%20false%2C%0A%20%20%20%20%20%20%20%20crs%3A%20L.CRS.EPSG3857%2C%0A%20%20%20%20%20%20%20%20zoomControl%3A%20true%2C%0A%20%20%20%20%20%20%20%20%7D%29%3B%0A%0A%0A%20%20%20%20%0A%20%20%20%20var%20tile_layer_2fd6106c2865479eb994df004171350e%20%3D%20L.tileLayer%28%0A%20%20%20%20%20%20%20%20%27https%3A//stamen-tiles-%7Bs%7D.a.ssl.fastly.net/terrain/%7Bz%7D/%7Bx%7D/%7By%7D.jpg%27%2C%0A%20%20%20%20%20%20%20%20%7B%0A%20%20%20%20%20%20%20%20%22attribution%22%3A%20null%2C%0A%20%20%20%20%20%20%20%20%22detectRetina%22%3A%20false%2C%0A%20%20%20%20%20%20%20%20%22maxNativeZoom%22%3A%2018%2C%0A%20%20%20%20%20%20%20%20%22maxZoom%22%3A%2018%2C%0A%20%20%20%20%20%20%20%20%22minZoom%22%3A%200%2C%0A%20%20%20%20%20%20%20%20%22noWrap%22%3A%20false%2C%0A%20%20%20%20%20%20%20%20%22opacity%22%3A%201%2C%0A%20%20%20%20%20%20%20%20%22subdomains%22%3A%20%22abc%22%2C%0A%20%20%20%20%20%20%20%20%22tms%22%3A%20false%0A%7D%29.addTo%28map_dd7c31cf987642dd835ae002e9645001%29%3B%0A%3C/script%3E onload=\"this.contentDocument.open();this.contentDocument.write(    decodeURIComponent(this.getAttribute('data-html')));this.contentDocument.close();\" allowfullscreen webkitallowfullscreen mozallowfullscreen></iframe></div></div>"
            ],
            "text/plain": [
              "<folium.folium.Map at 0x7f611e9b3e80>"
            ]
          },
          "metadata": {
            "tags": []
          },
          "execution_count": 9
        }
      ]
    },
    {
      "cell_type": "code",
      "metadata": {
        "id": "4Pi78Nfn1zno",
        "colab_type": "code",
        "colab": {
          "base_uri": "https://localhost:8080/",
          "height": 649
        },
        "outputId": "e1173cc4-8a1f-4e60-ea70-1f7fc1c45378"
      },
      "source": [
        "folium.Map(location=[37.493747, 127.032690], \n",
        "           zoom_start=18,\n",
        "           tiles=\"Stamen Toner\") #길을 진하게 표시(길 강조)"
      ],
      "execution_count": null,
      "outputs": [
        {
          "output_type": "execute_result",
          "data": {
            "text/html": [
              "<div style=\"width:100%;\"><div style=\"position:relative;width:100%;height:0;padding-bottom:60%;\"><span style=\"color:#565656\">Make this Notebook Trusted to load map: File -> Trust Notebook</span><iframe src=\"about:blank\" style=\"position:absolute;width:100%;height:100%;left:0;top:0;border:none !important;\" data-html=%3C%21DOCTYPE%20html%3E%0A%3Chead%3E%20%20%20%20%0A%20%20%20%20%3Cmeta%20http-equiv%3D%22content-type%22%20content%3D%22text/html%3B%20charset%3DUTF-8%22%20/%3E%0A%20%20%20%20%3Cscript%3EL_PREFER_CANVAS%3Dfalse%3B%20L_NO_TOUCH%3Dfalse%3B%20L_DISABLE_3D%3Dfalse%3B%3C/script%3E%0A%20%20%20%20%3Cscript%20src%3D%22https%3A//cdn.jsdelivr.net/npm/leaflet%401.4.0/dist/leaflet.js%22%3E%3C/script%3E%0A%20%20%20%20%3Cscript%20src%3D%22https%3A//code.jquery.com/jquery-1.12.4.min.js%22%3E%3C/script%3E%0A%20%20%20%20%3Cscript%20src%3D%22https%3A//maxcdn.bootstrapcdn.com/bootstrap/3.2.0/js/bootstrap.min.js%22%3E%3C/script%3E%0A%20%20%20%20%3Cscript%20src%3D%22https%3A//cdnjs.cloudflare.com/ajax/libs/Leaflet.awesome-markers/2.0.2/leaflet.awesome-markers.js%22%3E%3C/script%3E%0A%20%20%20%20%3Clink%20rel%3D%22stylesheet%22%20href%3D%22https%3A//cdn.jsdelivr.net/npm/leaflet%401.4.0/dist/leaflet.css%22/%3E%0A%20%20%20%20%3Clink%20rel%3D%22stylesheet%22%20href%3D%22https%3A//maxcdn.bootstrapcdn.com/bootstrap/3.2.0/css/bootstrap.min.css%22/%3E%0A%20%20%20%20%3Clink%20rel%3D%22stylesheet%22%20href%3D%22https%3A//maxcdn.bootstrapcdn.com/bootstrap/3.2.0/css/bootstrap-theme.min.css%22/%3E%0A%20%20%20%20%3Clink%20rel%3D%22stylesheet%22%20href%3D%22https%3A//maxcdn.bootstrapcdn.com/font-awesome/4.6.3/css/font-awesome.min.css%22/%3E%0A%20%20%20%20%3Clink%20rel%3D%22stylesheet%22%20href%3D%22https%3A//cdnjs.cloudflare.com/ajax/libs/Leaflet.awesome-markers/2.0.2/leaflet.awesome-markers.css%22/%3E%0A%20%20%20%20%3Clink%20rel%3D%22stylesheet%22%20href%3D%22https%3A//rawcdn.githack.com/python-visualization/folium/master/folium/templates/leaflet.awesome.rotate.css%22/%3E%0A%20%20%20%20%3Cstyle%3Ehtml%2C%20body%20%7Bwidth%3A%20100%25%3Bheight%3A%20100%25%3Bmargin%3A%200%3Bpadding%3A%200%3B%7D%3C/style%3E%0A%20%20%20%20%3Cstyle%3E%23map%20%7Bposition%3Aabsolute%3Btop%3A0%3Bbottom%3A0%3Bright%3A0%3Bleft%3A0%3B%7D%3C/style%3E%0A%20%20%20%20%0A%20%20%20%20%3Cmeta%20name%3D%22viewport%22%20content%3D%22width%3Ddevice-width%2C%0A%20%20%20%20%20%20%20%20initial-scale%3D1.0%2C%20maximum-scale%3D1.0%2C%20user-scalable%3Dno%22%20/%3E%0A%20%20%20%20%3Cstyle%3E%23map_127c3c4db737402c978723f0354aa159%20%7B%0A%20%20%20%20%20%20%20%20position%3A%20relative%3B%0A%20%20%20%20%20%20%20%20width%3A%20100.0%25%3B%0A%20%20%20%20%20%20%20%20height%3A%20100.0%25%3B%0A%20%20%20%20%20%20%20%20left%3A%200.0%25%3B%0A%20%20%20%20%20%20%20%20top%3A%200.0%25%3B%0A%20%20%20%20%20%20%20%20%7D%0A%20%20%20%20%3C/style%3E%0A%3C/head%3E%0A%3Cbody%3E%20%20%20%20%0A%20%20%20%20%0A%20%20%20%20%3Cdiv%20class%3D%22folium-map%22%20id%3D%22map_127c3c4db737402c978723f0354aa159%22%20%3E%3C/div%3E%0A%3C/body%3E%0A%3Cscript%3E%20%20%20%20%0A%20%20%20%20%0A%20%20%20%20%0A%20%20%20%20%20%20%20%20var%20bounds%20%3D%20null%3B%0A%20%20%20%20%0A%0A%20%20%20%20var%20map_127c3c4db737402c978723f0354aa159%20%3D%20L.map%28%0A%20%20%20%20%20%20%20%20%27map_127c3c4db737402c978723f0354aa159%27%2C%20%7B%0A%20%20%20%20%20%20%20%20center%3A%20%5B37.493747%2C%20127.03269%5D%2C%0A%20%20%20%20%20%20%20%20zoom%3A%2018%2C%0A%20%20%20%20%20%20%20%20maxBounds%3A%20bounds%2C%0A%20%20%20%20%20%20%20%20layers%3A%20%5B%5D%2C%0A%20%20%20%20%20%20%20%20worldCopyJump%3A%20false%2C%0A%20%20%20%20%20%20%20%20crs%3A%20L.CRS.EPSG3857%2C%0A%20%20%20%20%20%20%20%20zoomControl%3A%20true%2C%0A%20%20%20%20%20%20%20%20%7D%29%3B%0A%0A%0A%20%20%20%20%0A%20%20%20%20var%20tile_layer_c45995eb5eb74682b475ea8c4198438b%20%3D%20L.tileLayer%28%0A%20%20%20%20%20%20%20%20%27https%3A//stamen-tiles-%7Bs%7D.a.ssl.fastly.net/toner/%7Bz%7D/%7Bx%7D/%7By%7D.png%27%2C%0A%20%20%20%20%20%20%20%20%7B%0A%20%20%20%20%20%20%20%20%22attribution%22%3A%20null%2C%0A%20%20%20%20%20%20%20%20%22detectRetina%22%3A%20false%2C%0A%20%20%20%20%20%20%20%20%22maxNativeZoom%22%3A%2018%2C%0A%20%20%20%20%20%20%20%20%22maxZoom%22%3A%2018%2C%0A%20%20%20%20%20%20%20%20%22minZoom%22%3A%200%2C%0A%20%20%20%20%20%20%20%20%22noWrap%22%3A%20false%2C%0A%20%20%20%20%20%20%20%20%22opacity%22%3A%201%2C%0A%20%20%20%20%20%20%20%20%22subdomains%22%3A%20%22abc%22%2C%0A%20%20%20%20%20%20%20%20%22tms%22%3A%20false%0A%7D%29.addTo%28map_127c3c4db737402c978723f0354aa159%29%3B%0A%3C/script%3E onload=\"this.contentDocument.open();this.contentDocument.write(    decodeURIComponent(this.getAttribute('data-html')));this.contentDocument.close();\" allowfullscreen webkitallowfullscreen mozallowfullscreen></iframe></div></div>"
            ],
            "text/plain": [
              "<folium.folium.Map at 0x7f611e9b3208>"
            ]
          },
          "metadata": {
            "tags": []
          },
          "execution_count": 10
        }
      ]
    },
    {
      "cell_type": "markdown",
      "metadata": {
        "id": "jqCNj_zT4Lsf",
        "colab_type": "text"
      },
      "source": [
        "#지도에 마커 표시하기"
      ]
    },
    {
      "cell_type": "code",
      "metadata": {
        "id": "fwVpkZba12MX",
        "colab_type": "code",
        "colab": {}
      },
      "source": [
        "marker_map = folium.Map(location=[37.493747, 127.032690], zoom_start=18)"
      ],
      "execution_count": null,
      "outputs": []
    },
    {
      "cell_type": "code",
      "metadata": {
        "id": "R8TSrV1Z16s5",
        "colab_type": "code",
        "colab": {
          "base_uri": "https://localhost:8080/",
          "height": 649
        },
        "outputId": "b884ddab-e17d-431a-a27c-ef145994df23"
      },
      "source": [
        "marker_map"
      ],
      "execution_count": null,
      "outputs": [
        {
          "output_type": "execute_result",
          "data": {
            "text/html": [
              "<div style=\"width:100%;\"><div style=\"position:relative;width:100%;height:0;padding-bottom:60%;\"><span style=\"color:#565656\">Make this Notebook Trusted to load map: File -> Trust Notebook</span><iframe src=\"about:blank\" style=\"position:absolute;width:100%;height:100%;left:0;top:0;border:none !important;\" data-html=%3C%21DOCTYPE%20html%3E%0A%3Chead%3E%20%20%20%20%0A%20%20%20%20%3Cmeta%20http-equiv%3D%22content-type%22%20content%3D%22text/html%3B%20charset%3DUTF-8%22%20/%3E%0A%20%20%20%20%3Cscript%3EL_PREFER_CANVAS%3Dfalse%3B%20L_NO_TOUCH%3Dfalse%3B%20L_DISABLE_3D%3Dfalse%3B%3C/script%3E%0A%20%20%20%20%3Cscript%20src%3D%22https%3A//cdn.jsdelivr.net/npm/leaflet%401.4.0/dist/leaflet.js%22%3E%3C/script%3E%0A%20%20%20%20%3Cscript%20src%3D%22https%3A//code.jquery.com/jquery-1.12.4.min.js%22%3E%3C/script%3E%0A%20%20%20%20%3Cscript%20src%3D%22https%3A//maxcdn.bootstrapcdn.com/bootstrap/3.2.0/js/bootstrap.min.js%22%3E%3C/script%3E%0A%20%20%20%20%3Cscript%20src%3D%22https%3A//cdnjs.cloudflare.com/ajax/libs/Leaflet.awesome-markers/2.0.2/leaflet.awesome-markers.js%22%3E%3C/script%3E%0A%20%20%20%20%3Clink%20rel%3D%22stylesheet%22%20href%3D%22https%3A//cdn.jsdelivr.net/npm/leaflet%401.4.0/dist/leaflet.css%22/%3E%0A%20%20%20%20%3Clink%20rel%3D%22stylesheet%22%20href%3D%22https%3A//maxcdn.bootstrapcdn.com/bootstrap/3.2.0/css/bootstrap.min.css%22/%3E%0A%20%20%20%20%3Clink%20rel%3D%22stylesheet%22%20href%3D%22https%3A//maxcdn.bootstrapcdn.com/bootstrap/3.2.0/css/bootstrap-theme.min.css%22/%3E%0A%20%20%20%20%3Clink%20rel%3D%22stylesheet%22%20href%3D%22https%3A//maxcdn.bootstrapcdn.com/font-awesome/4.6.3/css/font-awesome.min.css%22/%3E%0A%20%20%20%20%3Clink%20rel%3D%22stylesheet%22%20href%3D%22https%3A//cdnjs.cloudflare.com/ajax/libs/Leaflet.awesome-markers/2.0.2/leaflet.awesome-markers.css%22/%3E%0A%20%20%20%20%3Clink%20rel%3D%22stylesheet%22%20href%3D%22https%3A//rawcdn.githack.com/python-visualization/folium/master/folium/templates/leaflet.awesome.rotate.css%22/%3E%0A%20%20%20%20%3Cstyle%3Ehtml%2C%20body%20%7Bwidth%3A%20100%25%3Bheight%3A%20100%25%3Bmargin%3A%200%3Bpadding%3A%200%3B%7D%3C/style%3E%0A%20%20%20%20%3Cstyle%3E%23map%20%7Bposition%3Aabsolute%3Btop%3A0%3Bbottom%3A0%3Bright%3A0%3Bleft%3A0%3B%7D%3C/style%3E%0A%20%20%20%20%0A%20%20%20%20%3Cmeta%20name%3D%22viewport%22%20content%3D%22width%3Ddevice-width%2C%0A%20%20%20%20%20%20%20%20initial-scale%3D1.0%2C%20maximum-scale%3D1.0%2C%20user-scalable%3Dno%22%20/%3E%0A%20%20%20%20%3Cstyle%3E%23map_8596d59b1d114686b07ddec9d394d06e%20%7B%0A%20%20%20%20%20%20%20%20position%3A%20relative%3B%0A%20%20%20%20%20%20%20%20width%3A%20100.0%25%3B%0A%20%20%20%20%20%20%20%20height%3A%20100.0%25%3B%0A%20%20%20%20%20%20%20%20left%3A%200.0%25%3B%0A%20%20%20%20%20%20%20%20top%3A%200.0%25%3B%0A%20%20%20%20%20%20%20%20%7D%0A%20%20%20%20%3C/style%3E%0A%3C/head%3E%0A%3Cbody%3E%20%20%20%20%0A%20%20%20%20%0A%20%20%20%20%3Cdiv%20class%3D%22folium-map%22%20id%3D%22map_8596d59b1d114686b07ddec9d394d06e%22%20%3E%3C/div%3E%0A%3C/body%3E%0A%3Cscript%3E%20%20%20%20%0A%20%20%20%20%0A%20%20%20%20%0A%20%20%20%20%20%20%20%20var%20bounds%20%3D%20null%3B%0A%20%20%20%20%0A%0A%20%20%20%20var%20map_8596d59b1d114686b07ddec9d394d06e%20%3D%20L.map%28%0A%20%20%20%20%20%20%20%20%27map_8596d59b1d114686b07ddec9d394d06e%27%2C%20%7B%0A%20%20%20%20%20%20%20%20center%3A%20%5B37.493747%2C%20127.03269%5D%2C%0A%20%20%20%20%20%20%20%20zoom%3A%2018%2C%0A%20%20%20%20%20%20%20%20maxBounds%3A%20bounds%2C%0A%20%20%20%20%20%20%20%20layers%3A%20%5B%5D%2C%0A%20%20%20%20%20%20%20%20worldCopyJump%3A%20false%2C%0A%20%20%20%20%20%20%20%20crs%3A%20L.CRS.EPSG3857%2C%0A%20%20%20%20%20%20%20%20zoomControl%3A%20true%2C%0A%20%20%20%20%20%20%20%20%7D%29%3B%0A%0A%0A%20%20%20%20%0A%20%20%20%20var%20tile_layer_a900a40a709343e7a906d4abc80d2940%20%3D%20L.tileLayer%28%0A%20%20%20%20%20%20%20%20%27https%3A//%7Bs%7D.tile.openstreetmap.org/%7Bz%7D/%7Bx%7D/%7By%7D.png%27%2C%0A%20%20%20%20%20%20%20%20%7B%0A%20%20%20%20%20%20%20%20%22attribution%22%3A%20null%2C%0A%20%20%20%20%20%20%20%20%22detectRetina%22%3A%20false%2C%0A%20%20%20%20%20%20%20%20%22maxNativeZoom%22%3A%2018%2C%0A%20%20%20%20%20%20%20%20%22maxZoom%22%3A%2018%2C%0A%20%20%20%20%20%20%20%20%22minZoom%22%3A%200%2C%0A%20%20%20%20%20%20%20%20%22noWrap%22%3A%20false%2C%0A%20%20%20%20%20%20%20%20%22opacity%22%3A%201%2C%0A%20%20%20%20%20%20%20%20%22subdomains%22%3A%20%22abc%22%2C%0A%20%20%20%20%20%20%20%20%22tms%22%3A%20false%0A%7D%29.addTo%28map_8596d59b1d114686b07ddec9d394d06e%29%3B%0A%3C/script%3E onload=\"this.contentDocument.open();this.contentDocument.write(    decodeURIComponent(this.getAttribute('data-html')));this.contentDocument.close();\" allowfullscreen webkitallowfullscreen mozallowfullscreen></iframe></div></div>"
            ],
            "text/plain": [
              "<folium.folium.Map at 0x7f611e9b3b00>"
            ]
          },
          "metadata": {
            "tags": []
          },
          "execution_count": 12
        }
      ]
    },
    {
      "cell_type": "code",
      "metadata": {
        "id": "yM_6XF6o18ML",
        "colab_type": "code",
        "colab": {
          "base_uri": "https://localhost:8080/",
          "height": 34
        },
        "outputId": "dcc2dad9-d7ee-4455-e3f3-7f402a3f9fc9"
      },
      "source": [
        "#스타벅스 역삼초교 사거리점에 마커 표시\n",
        "folium.Marker(location = [37.494296, 127.033050],\n",
        "              popup = \"스타벅스 역삼초교 사거리\")"
      ],
      "execution_count": null,
      "outputs": [
        {
          "output_type": "execute_result",
          "data": {
            "text/plain": [
              "<folium.map.Marker at 0x7f611e9cea58>"
            ]
          },
          "metadata": {
            "tags": []
          },
          "execution_count": 13
        }
      ]
    },
    {
      "cell_type": "code",
      "metadata": {
        "id": "mGgiZrp12L7w",
        "colab_type": "code",
        "colab": {
          "base_uri": "https://localhost:8080/",
          "height": 34
        },
        "outputId": "dc03a3a6-153e-4d39-9535-1216f428102b"
      },
      "source": [
        "#스타벅스 역삼초교 사거리점에 마커 표시\n",
        "folium.Marker(location = [37.494296, 127.033050],\n",
        "              popup = \"스타벅스 역삼초교 사거리\").add_to(marker_map)  "
      ],
      "execution_count": null,
      "outputs": [
        {
          "output_type": "execute_result",
          "data": {
            "text/plain": [
              "<folium.map.Marker at 0x7f611e9cedd8>"
            ]
          },
          "metadata": {
            "tags": []
          },
          "execution_count": 14
        }
      ]
    },
    {
      "cell_type": "code",
      "metadata": {
        "id": "BB0xhOZC2Qk4",
        "colab_type": "code",
        "colab": {
          "base_uri": "https://localhost:8080/",
          "height": 649
        },
        "outputId": "0c00258b-d40e-4ef0-cf18-da12c76f7a33"
      },
      "source": [
        "marker_map"
      ],
      "execution_count": null,
      "outputs": [
        {
          "output_type": "execute_result",
          "data": {
            "text/html": [
              "<div style=\"width:100%;\"><div style=\"position:relative;width:100%;height:0;padding-bottom:60%;\"><span style=\"color:#565656\">Make this Notebook Trusted to load map: File -> Trust Notebook</span><iframe src=\"about:blank\" style=\"position:absolute;width:100%;height:100%;left:0;top:0;border:none !important;\" data-html=%3C%21DOCTYPE%20html%3E%0A%3Chead%3E%20%20%20%20%0A%20%20%20%20%3Cmeta%20http-equiv%3D%22content-type%22%20content%3D%22text/html%3B%20charset%3DUTF-8%22%20/%3E%0A%20%20%20%20%3Cscript%3EL_PREFER_CANVAS%3Dfalse%3B%20L_NO_TOUCH%3Dfalse%3B%20L_DISABLE_3D%3Dfalse%3B%3C/script%3E%0A%20%20%20%20%3Cscript%20src%3D%22https%3A//cdn.jsdelivr.net/npm/leaflet%401.4.0/dist/leaflet.js%22%3E%3C/script%3E%0A%20%20%20%20%3Cscript%20src%3D%22https%3A//code.jquery.com/jquery-1.12.4.min.js%22%3E%3C/script%3E%0A%20%20%20%20%3Cscript%20src%3D%22https%3A//maxcdn.bootstrapcdn.com/bootstrap/3.2.0/js/bootstrap.min.js%22%3E%3C/script%3E%0A%20%20%20%20%3Cscript%20src%3D%22https%3A//cdnjs.cloudflare.com/ajax/libs/Leaflet.awesome-markers/2.0.2/leaflet.awesome-markers.js%22%3E%3C/script%3E%0A%20%20%20%20%3Clink%20rel%3D%22stylesheet%22%20href%3D%22https%3A//cdn.jsdelivr.net/npm/leaflet%401.4.0/dist/leaflet.css%22/%3E%0A%20%20%20%20%3Clink%20rel%3D%22stylesheet%22%20href%3D%22https%3A//maxcdn.bootstrapcdn.com/bootstrap/3.2.0/css/bootstrap.min.css%22/%3E%0A%20%20%20%20%3Clink%20rel%3D%22stylesheet%22%20href%3D%22https%3A//maxcdn.bootstrapcdn.com/bootstrap/3.2.0/css/bootstrap-theme.min.css%22/%3E%0A%20%20%20%20%3Clink%20rel%3D%22stylesheet%22%20href%3D%22https%3A//maxcdn.bootstrapcdn.com/font-awesome/4.6.3/css/font-awesome.min.css%22/%3E%0A%20%20%20%20%3Clink%20rel%3D%22stylesheet%22%20href%3D%22https%3A//cdnjs.cloudflare.com/ajax/libs/Leaflet.awesome-markers/2.0.2/leaflet.awesome-markers.css%22/%3E%0A%20%20%20%20%3Clink%20rel%3D%22stylesheet%22%20href%3D%22https%3A//rawcdn.githack.com/python-visualization/folium/master/folium/templates/leaflet.awesome.rotate.css%22/%3E%0A%20%20%20%20%3Cstyle%3Ehtml%2C%20body%20%7Bwidth%3A%20100%25%3Bheight%3A%20100%25%3Bmargin%3A%200%3Bpadding%3A%200%3B%7D%3C/style%3E%0A%20%20%20%20%3Cstyle%3E%23map%20%7Bposition%3Aabsolute%3Btop%3A0%3Bbottom%3A0%3Bright%3A0%3Bleft%3A0%3B%7D%3C/style%3E%0A%20%20%20%20%0A%20%20%20%20%3Cmeta%20name%3D%22viewport%22%20content%3D%22width%3Ddevice-width%2C%0A%20%20%20%20%20%20%20%20initial-scale%3D1.0%2C%20maximum-scale%3D1.0%2C%20user-scalable%3Dno%22%20/%3E%0A%20%20%20%20%3Cstyle%3E%23map_8596d59b1d114686b07ddec9d394d06e%20%7B%0A%20%20%20%20%20%20%20%20position%3A%20relative%3B%0A%20%20%20%20%20%20%20%20width%3A%20100.0%25%3B%0A%20%20%20%20%20%20%20%20height%3A%20100.0%25%3B%0A%20%20%20%20%20%20%20%20left%3A%200.0%25%3B%0A%20%20%20%20%20%20%20%20top%3A%200.0%25%3B%0A%20%20%20%20%20%20%20%20%7D%0A%20%20%20%20%3C/style%3E%0A%3C/head%3E%0A%3Cbody%3E%20%20%20%20%0A%20%20%20%20%0A%20%20%20%20%3Cdiv%20class%3D%22folium-map%22%20id%3D%22map_8596d59b1d114686b07ddec9d394d06e%22%20%3E%3C/div%3E%0A%3C/body%3E%0A%3Cscript%3E%20%20%20%20%0A%20%20%20%20%0A%20%20%20%20%0A%20%20%20%20%20%20%20%20var%20bounds%20%3D%20null%3B%0A%20%20%20%20%0A%0A%20%20%20%20var%20map_8596d59b1d114686b07ddec9d394d06e%20%3D%20L.map%28%0A%20%20%20%20%20%20%20%20%27map_8596d59b1d114686b07ddec9d394d06e%27%2C%20%7B%0A%20%20%20%20%20%20%20%20center%3A%20%5B37.493747%2C%20127.03269%5D%2C%0A%20%20%20%20%20%20%20%20zoom%3A%2018%2C%0A%20%20%20%20%20%20%20%20maxBounds%3A%20bounds%2C%0A%20%20%20%20%20%20%20%20layers%3A%20%5B%5D%2C%0A%20%20%20%20%20%20%20%20worldCopyJump%3A%20false%2C%0A%20%20%20%20%20%20%20%20crs%3A%20L.CRS.EPSG3857%2C%0A%20%20%20%20%20%20%20%20zoomControl%3A%20true%2C%0A%20%20%20%20%20%20%20%20%7D%29%3B%0A%0A%0A%20%20%20%20%0A%20%20%20%20var%20tile_layer_a900a40a709343e7a906d4abc80d2940%20%3D%20L.tileLayer%28%0A%20%20%20%20%20%20%20%20%27https%3A//%7Bs%7D.tile.openstreetmap.org/%7Bz%7D/%7Bx%7D/%7By%7D.png%27%2C%0A%20%20%20%20%20%20%20%20%7B%0A%20%20%20%20%20%20%20%20%22attribution%22%3A%20null%2C%0A%20%20%20%20%20%20%20%20%22detectRetina%22%3A%20false%2C%0A%20%20%20%20%20%20%20%20%22maxNativeZoom%22%3A%2018%2C%0A%20%20%20%20%20%20%20%20%22maxZoom%22%3A%2018%2C%0A%20%20%20%20%20%20%20%20%22minZoom%22%3A%200%2C%0A%20%20%20%20%20%20%20%20%22noWrap%22%3A%20false%2C%0A%20%20%20%20%20%20%20%20%22opacity%22%3A%201%2C%0A%20%20%20%20%20%20%20%20%22subdomains%22%3A%20%22abc%22%2C%0A%20%20%20%20%20%20%20%20%22tms%22%3A%20false%0A%7D%29.addTo%28map_8596d59b1d114686b07ddec9d394d06e%29%3B%0A%20%20%20%20%0A%20%20%20%20%20%20%20%20var%20marker_159381350ddf4dbdafa3a9d241197c37%20%3D%20L.marker%28%0A%20%20%20%20%20%20%20%20%20%20%20%20%5B37.494296%2C%20127.03305%5D%2C%0A%20%20%20%20%20%20%20%20%20%20%20%20%7B%0A%20%20%20%20%20%20%20%20%20%20%20%20%20%20%20%20icon%3A%20new%20L.Icon.Default%28%29%2C%0A%20%20%20%20%20%20%20%20%20%20%20%20%20%20%20%20%7D%0A%20%20%20%20%20%20%20%20%20%20%20%20%29.addTo%28map_8596d59b1d114686b07ddec9d394d06e%29%3B%0A%20%20%20%20%20%20%20%20%0A%20%20%20%20%0A%20%20%20%20%20%20%20%20%20%20%20%20var%20popup_5ad12ac754354cd8a0b7446018fd4b98%20%3D%20L.popup%28%7BmaxWidth%3A%20%27100%25%27%0A%20%20%20%20%20%20%20%20%20%20%20%20%0A%20%20%20%20%20%20%20%20%20%20%20%20%7D%29%3B%0A%0A%20%20%20%20%20%20%20%20%20%20%20%20%0A%20%20%20%20%20%20%20%20%20%20%20%20%20%20%20%20var%20html_221f728822e04e1cac0992e24d0e6696%20%3D%20%24%28%60%3Cdiv%20id%3D%22html_221f728822e04e1cac0992e24d0e6696%22%20style%3D%22width%3A%20100.0%25%3B%20height%3A%20100.0%25%3B%22%3E%EC%8A%A4%ED%83%80%EB%B2%85%EC%8A%A4%20%EC%97%AD%EC%82%BC%EC%B4%88%EA%B5%90%20%EC%82%AC%EA%B1%B0%EB%A6%AC%3C/div%3E%60%29%5B0%5D%3B%0A%20%20%20%20%20%20%20%20%20%20%20%20%20%20%20%20popup_5ad12ac754354cd8a0b7446018fd4b98.setContent%28html_221f728822e04e1cac0992e24d0e6696%29%3B%0A%20%20%20%20%20%20%20%20%20%20%20%20%0A%0A%20%20%20%20%20%20%20%20%20%20%20%20marker_159381350ddf4dbdafa3a9d241197c37.bindPopup%28popup_5ad12ac754354cd8a0b7446018fd4b98%29%0A%20%20%20%20%20%20%20%20%20%20%20%20%3B%0A%0A%20%20%20%20%20%20%20%20%20%20%20%20%0A%20%20%20%20%20%20%20%20%0A%3C/script%3E onload=\"this.contentDocument.open();this.contentDocument.write(    decodeURIComponent(this.getAttribute('data-html')));this.contentDocument.close();\" allowfullscreen webkitallowfullscreen mozallowfullscreen></iframe></div></div>"
            ],
            "text/plain": [
              "<folium.folium.Map at 0x7f611e9b3b00>"
            ]
          },
          "metadata": {
            "tags": []
          },
          "execution_count": 15
        }
      ]
    },
    {
      "cell_type": "code",
      "metadata": {
        "id": "vluhLc3f3IVG",
        "colab_type": "code",
        "colab": {
          "base_uri": "https://localhost:8080/",
          "height": 34
        },
        "outputId": "28d76ef5-86e3-4c14-e367-a49037057ed6"
      },
      "source": [
        "#롯데리아 우성사거리점에 마커 표시\n",
        "folium.Marker(location = [37.492951, 127.030465], #위도, 경도는 구글맵에서 '이곳이 궁금한가요?'\n",
        "              tooltip = \"롯데리아 우성사거리\").add_to(marker_map)  #popup: 마우스로 클릭해야 문구가 보임 / tooltip: 마우스만 둬도 문구가 보임"
      ],
      "execution_count": null,
      "outputs": [
        {
          "output_type": "execute_result",
          "data": {
            "text/plain": [
              "<folium.map.Marker at 0x7f611e5812e8>"
            ]
          },
          "metadata": {
            "tags": []
          },
          "execution_count": 22
        }
      ]
    },
    {
      "cell_type": "code",
      "metadata": {
        "id": "R0vIchmA3uqh",
        "colab_type": "code",
        "colab": {
          "base_uri": "https://localhost:8080/",
          "height": 649
        },
        "outputId": "00505f42-814f-4c18-cdb1-4661eaf1e4cb"
      },
      "source": [
        "marker_map"
      ],
      "execution_count": null,
      "outputs": [
        {
          "output_type": "execute_result",
          "data": {
            "text/html": [
              "<div style=\"width:100%;\"><div style=\"position:relative;width:100%;height:0;padding-bottom:60%;\"><span style=\"color:#565656\">Make this Notebook Trusted to load map: File -> Trust Notebook</span><iframe src=\"about:blank\" style=\"position:absolute;width:100%;height:100%;left:0;top:0;border:none !important;\" data-html=%3C%21DOCTYPE%20html%3E%0A%3Chead%3E%20%20%20%20%0A%20%20%20%20%3Cmeta%20http-equiv%3D%22content-type%22%20content%3D%22text/html%3B%20charset%3DUTF-8%22%20/%3E%0A%20%20%20%20%3Cscript%3EL_PREFER_CANVAS%3Dfalse%3B%20L_NO_TOUCH%3Dfalse%3B%20L_DISABLE_3D%3Dfalse%3B%3C/script%3E%0A%20%20%20%20%3Cscript%20src%3D%22https%3A//cdn.jsdelivr.net/npm/leaflet%401.4.0/dist/leaflet.js%22%3E%3C/script%3E%0A%20%20%20%20%3Cscript%20src%3D%22https%3A//code.jquery.com/jquery-1.12.4.min.js%22%3E%3C/script%3E%0A%20%20%20%20%3Cscript%20src%3D%22https%3A//maxcdn.bootstrapcdn.com/bootstrap/3.2.0/js/bootstrap.min.js%22%3E%3C/script%3E%0A%20%20%20%20%3Cscript%20src%3D%22https%3A//cdnjs.cloudflare.com/ajax/libs/Leaflet.awesome-markers/2.0.2/leaflet.awesome-markers.js%22%3E%3C/script%3E%0A%20%20%20%20%3Clink%20rel%3D%22stylesheet%22%20href%3D%22https%3A//cdn.jsdelivr.net/npm/leaflet%401.4.0/dist/leaflet.css%22/%3E%0A%20%20%20%20%3Clink%20rel%3D%22stylesheet%22%20href%3D%22https%3A//maxcdn.bootstrapcdn.com/bootstrap/3.2.0/css/bootstrap.min.css%22/%3E%0A%20%20%20%20%3Clink%20rel%3D%22stylesheet%22%20href%3D%22https%3A//maxcdn.bootstrapcdn.com/bootstrap/3.2.0/css/bootstrap-theme.min.css%22/%3E%0A%20%20%20%20%3Clink%20rel%3D%22stylesheet%22%20href%3D%22https%3A//maxcdn.bootstrapcdn.com/font-awesome/4.6.3/css/font-awesome.min.css%22/%3E%0A%20%20%20%20%3Clink%20rel%3D%22stylesheet%22%20href%3D%22https%3A//cdnjs.cloudflare.com/ajax/libs/Leaflet.awesome-markers/2.0.2/leaflet.awesome-markers.css%22/%3E%0A%20%20%20%20%3Clink%20rel%3D%22stylesheet%22%20href%3D%22https%3A//rawcdn.githack.com/python-visualization/folium/master/folium/templates/leaflet.awesome.rotate.css%22/%3E%0A%20%20%20%20%3Cstyle%3Ehtml%2C%20body%20%7Bwidth%3A%20100%25%3Bheight%3A%20100%25%3Bmargin%3A%200%3Bpadding%3A%200%3B%7D%3C/style%3E%0A%20%20%20%20%3Cstyle%3E%23map%20%7Bposition%3Aabsolute%3Btop%3A0%3Bbottom%3A0%3Bright%3A0%3Bleft%3A0%3B%7D%3C/style%3E%0A%20%20%20%20%0A%20%20%20%20%3Cmeta%20name%3D%22viewport%22%20content%3D%22width%3Ddevice-width%2C%0A%20%20%20%20%20%20%20%20initial-scale%3D1.0%2C%20maximum-scale%3D1.0%2C%20user-scalable%3Dno%22%20/%3E%0A%20%20%20%20%3Cstyle%3E%23map_8596d59b1d114686b07ddec9d394d06e%20%7B%0A%20%20%20%20%20%20%20%20position%3A%20relative%3B%0A%20%20%20%20%20%20%20%20width%3A%20100.0%25%3B%0A%20%20%20%20%20%20%20%20height%3A%20100.0%25%3B%0A%20%20%20%20%20%20%20%20left%3A%200.0%25%3B%0A%20%20%20%20%20%20%20%20top%3A%200.0%25%3B%0A%20%20%20%20%20%20%20%20%7D%0A%20%20%20%20%3C/style%3E%0A%3C/head%3E%0A%3Cbody%3E%20%20%20%20%0A%20%20%20%20%0A%20%20%20%20%3Cdiv%20class%3D%22folium-map%22%20id%3D%22map_8596d59b1d114686b07ddec9d394d06e%22%20%3E%3C/div%3E%0A%3C/body%3E%0A%3Cscript%3E%20%20%20%20%0A%20%20%20%20%0A%20%20%20%20%0A%20%20%20%20%20%20%20%20var%20bounds%20%3D%20null%3B%0A%20%20%20%20%0A%0A%20%20%20%20var%20map_8596d59b1d114686b07ddec9d394d06e%20%3D%20L.map%28%0A%20%20%20%20%20%20%20%20%27map_8596d59b1d114686b07ddec9d394d06e%27%2C%20%7B%0A%20%20%20%20%20%20%20%20center%3A%20%5B37.493747%2C%20127.03269%5D%2C%0A%20%20%20%20%20%20%20%20zoom%3A%2018%2C%0A%20%20%20%20%20%20%20%20maxBounds%3A%20bounds%2C%0A%20%20%20%20%20%20%20%20layers%3A%20%5B%5D%2C%0A%20%20%20%20%20%20%20%20worldCopyJump%3A%20false%2C%0A%20%20%20%20%20%20%20%20crs%3A%20L.CRS.EPSG3857%2C%0A%20%20%20%20%20%20%20%20zoomControl%3A%20true%2C%0A%20%20%20%20%20%20%20%20%7D%29%3B%0A%0A%0A%20%20%20%20%0A%20%20%20%20var%20tile_layer_a900a40a709343e7a906d4abc80d2940%20%3D%20L.tileLayer%28%0A%20%20%20%20%20%20%20%20%27https%3A//%7Bs%7D.tile.openstreetmap.org/%7Bz%7D/%7Bx%7D/%7By%7D.png%27%2C%0A%20%20%20%20%20%20%20%20%7B%0A%20%20%20%20%20%20%20%20%22attribution%22%3A%20null%2C%0A%20%20%20%20%20%20%20%20%22detectRetina%22%3A%20false%2C%0A%20%20%20%20%20%20%20%20%22maxNativeZoom%22%3A%2018%2C%0A%20%20%20%20%20%20%20%20%22maxZoom%22%3A%2018%2C%0A%20%20%20%20%20%20%20%20%22minZoom%22%3A%200%2C%0A%20%20%20%20%20%20%20%20%22noWrap%22%3A%20false%2C%0A%20%20%20%20%20%20%20%20%22opacity%22%3A%201%2C%0A%20%20%20%20%20%20%20%20%22subdomains%22%3A%20%22abc%22%2C%0A%20%20%20%20%20%20%20%20%22tms%22%3A%20false%0A%7D%29.addTo%28map_8596d59b1d114686b07ddec9d394d06e%29%3B%0A%20%20%20%20%0A%20%20%20%20%20%20%20%20var%20marker_159381350ddf4dbdafa3a9d241197c37%20%3D%20L.marker%28%0A%20%20%20%20%20%20%20%20%20%20%20%20%5B37.494296%2C%20127.03305%5D%2C%0A%20%20%20%20%20%20%20%20%20%20%20%20%7B%0A%20%20%20%20%20%20%20%20%20%20%20%20%20%20%20%20icon%3A%20new%20L.Icon.Default%28%29%2C%0A%20%20%20%20%20%20%20%20%20%20%20%20%20%20%20%20%7D%0A%20%20%20%20%20%20%20%20%20%20%20%20%29.addTo%28map_8596d59b1d114686b07ddec9d394d06e%29%3B%0A%20%20%20%20%20%20%20%20%0A%20%20%20%20%0A%20%20%20%20%20%20%20%20%20%20%20%20var%20popup_5ad12ac754354cd8a0b7446018fd4b98%20%3D%20L.popup%28%7BmaxWidth%3A%20%27100%25%27%0A%20%20%20%20%20%20%20%20%20%20%20%20%0A%20%20%20%20%20%20%20%20%20%20%20%20%7D%29%3B%0A%0A%20%20%20%20%20%20%20%20%20%20%20%20%0A%20%20%20%20%20%20%20%20%20%20%20%20%20%20%20%20var%20html_221f728822e04e1cac0992e24d0e6696%20%3D%20%24%28%60%3Cdiv%20id%3D%22html_221f728822e04e1cac0992e24d0e6696%22%20style%3D%22width%3A%20100.0%25%3B%20height%3A%20100.0%25%3B%22%3E%EC%8A%A4%ED%83%80%EB%B2%85%EC%8A%A4%20%EC%97%AD%EC%82%BC%EC%B4%88%EA%B5%90%20%EC%82%AC%EA%B1%B0%EB%A6%AC%3C/div%3E%60%29%5B0%5D%3B%0A%20%20%20%20%20%20%20%20%20%20%20%20%20%20%20%20popup_5ad12ac754354cd8a0b7446018fd4b98.setContent%28html_221f728822e04e1cac0992e24d0e6696%29%3B%0A%20%20%20%20%20%20%20%20%20%20%20%20%0A%0A%20%20%20%20%20%20%20%20%20%20%20%20marker_159381350ddf4dbdafa3a9d241197c37.bindPopup%28popup_5ad12ac754354cd8a0b7446018fd4b98%29%0A%20%20%20%20%20%20%20%20%20%20%20%20%3B%0A%0A%20%20%20%20%20%20%20%20%20%20%20%20%0A%20%20%20%20%20%20%20%20%0A%20%20%20%20%0A%20%20%20%20%20%20%20%20%20%20%20%20var%20circle_marker_644c9375da1444a886100abe8f1dc062%20%3D%20L.circleMarker%28%0A%20%20%20%20%20%20%20%20%20%20%20%20%20%20%20%20%5B37.49294%2C%20127.032849%5D%2C%0A%20%20%20%20%20%20%20%20%20%20%20%20%20%20%20%20%7B%0A%20%20%22bubblingMouseEvents%22%3A%20true%2C%0A%20%20%22color%22%3A%20%22brown%22%2C%0A%20%20%22dashArray%22%3A%20null%2C%0A%20%20%22dashOffset%22%3A%20null%2C%0A%20%20%22fill%22%3A%20true%2C%0A%20%20%22fillColor%22%3A%20%22coral%22%2C%0A%20%20%22fillOpacity%22%3A%201.0%2C%0A%20%20%22fillRule%22%3A%20%22evenodd%22%2C%0A%20%20%22lineCap%22%3A%20%22round%22%2C%0A%20%20%22lineJoin%22%3A%20%22round%22%2C%0A%20%20%22opacity%22%3A%201.0%2C%0A%20%20%22radius%22%3A%2010%2C%0A%20%20%22stroke%22%3A%20true%2C%0A%20%20%22weight%22%3A%203%0A%7D%0A%20%20%20%20%20%20%20%20%20%20%20%20%20%20%20%20%29%0A%20%20%20%20%20%20%20%20%20%20%20%20%20%20%20%20.addTo%28map_8596d59b1d114686b07ddec9d394d06e%29%3B%0A%20%20%20%20%20%20%20%20%20%20%20%20%0A%20%20%20%20%0A%20%20%20%20%20%20%20%20%20%20%20%20var%20popup_6c772a0a0bbe467ea2343f75200e2971%20%3D%20L.popup%28%7BmaxWidth%3A%20%27100%25%27%0A%20%20%20%20%20%20%20%20%20%20%20%20%0A%20%20%20%20%20%20%20%20%20%20%20%20%7D%29%3B%0A%0A%20%20%20%20%20%20%20%20%20%20%20%20%0A%20%20%20%20%20%20%20%20%20%20%20%20%20%20%20%20var%20html_49384ab8fd7e41f0bc709c9dd26e0a96%20%3D%20%24%28%60%3Cdiv%20id%3D%22html_49384ab8fd7e41f0bc709c9dd26e0a96%22%20style%3D%22width%3A%20100.0%25%3B%20height%3A%20100.0%25%3B%22%3EYouksam%20Element%20School%3C/div%3E%60%29%5B0%5D%3B%0A%20%20%20%20%20%20%20%20%20%20%20%20%20%20%20%20popup_6c772a0a0bbe467ea2343f75200e2971.setContent%28html_49384ab8fd7e41f0bc709c9dd26e0a96%29%3B%0A%20%20%20%20%20%20%20%20%20%20%20%20%0A%0A%20%20%20%20%20%20%20%20%20%20%20%20circle_marker_644c9375da1444a886100abe8f1dc062.bindPopup%28popup_6c772a0a0bbe467ea2343f75200e2971%29%0A%20%20%20%20%20%20%20%20%20%20%20%20%3B%0A%0A%20%20%20%20%20%20%20%20%20%20%20%20%0A%20%20%20%20%20%20%20%20%0A%20%20%20%20%0A%20%20%20%20%20%20%20%20var%20marker_5b8191e025974afea45f76fcdd210d17%20%3D%20L.marker%28%0A%20%20%20%20%20%20%20%20%20%20%20%20%5B37.492951%2C%20127.030465%5D%2C%0A%20%20%20%20%20%20%20%20%20%20%20%20%7B%0A%20%20%20%20%20%20%20%20%20%20%20%20%20%20%20%20icon%3A%20new%20L.Icon.Default%28%29%2C%0A%20%20%20%20%20%20%20%20%20%20%20%20%20%20%20%20%7D%0A%20%20%20%20%20%20%20%20%20%20%20%20%29.addTo%28map_8596d59b1d114686b07ddec9d394d06e%29%3B%0A%20%20%20%20%20%20%20%20%0A%20%20%20%20%0A%20%20%20%20%20%20%20%20marker_5b8191e025974afea45f76fcdd210d17.bindTooltip%28%0A%20%20%20%20%20%20%20%20%20%20%20%20%60%3Cdiv%3E%60%0A%20%20%20%20%20%20%20%20%20%20%20%20%2B%20%60%EB%A1%AF%EB%8D%B0%EB%A6%AC%EC%95%84%20%EC%9A%B0%EC%84%B1%EC%82%AC%EA%B1%B0%EB%A6%AC%60%20%2B%20%60%3C/div%3E%60%2C%0A%20%20%20%20%20%20%20%20%20%20%20%20%7B%22sticky%22%3A%20true%7D%0A%20%20%20%20%20%20%20%20%29%3B%0A%20%20%20%20%20%20%20%20%0A%3C/script%3E onload=\"this.contentDocument.open();this.contentDocument.write(    decodeURIComponent(this.getAttribute('data-html')));this.contentDocument.close();\" allowfullscreen webkitallowfullscreen mozallowfullscreen></iframe></div></div>"
            ],
            "text/plain": [
              "<folium.folium.Map at 0x7f611e9b3b00>"
            ]
          },
          "metadata": {
            "tags": []
          },
          "execution_count": 23
        }
      ]
    },
    {
      "cell_type": "code",
      "metadata": {
        "id": "TqUEJG3N2TXn",
        "colab_type": "code",
        "colab": {
          "base_uri": "https://localhost:8080/",
          "height": 34
        },
        "outputId": "8e113166-dbde-48c2-d74d-08a7ed369a5b"
      },
      "source": [
        "folium.CircleMarker(\n",
        "    location=[37.492940, 127.032849],\n",
        "    radius=10,\n",
        "    color=\"brown\",\n",
        "    popup=\"Youksam Element School\",\n",
        "    fill=True,\n",
        "    fill_color=\"coral\",\n",
        "    fill_opacity=1.0\n",
        ").add_to(marker_map)"
      ],
      "execution_count": null,
      "outputs": [
        {
          "output_type": "execute_result",
          "data": {
            "text/plain": [
              "<folium.vector_layers.CircleMarker at 0x7f611e95d898>"
            ]
          },
          "metadata": {
            "tags": []
          },
          "execution_count": 16
        }
      ]
    },
    {
      "cell_type": "code",
      "metadata": {
        "id": "o8GqJPL02i1f",
        "colab_type": "code",
        "colab": {
          "base_uri": "https://localhost:8080/",
          "height": 649
        },
        "outputId": "4af61c29-91be-4068-f959-2cd901b871eb"
      },
      "source": [
        "marker_map"
      ],
      "execution_count": null,
      "outputs": [
        {
          "output_type": "execute_result",
          "data": {
            "text/html": [
              "<div style=\"width:100%;\"><div style=\"position:relative;width:100%;height:0;padding-bottom:60%;\"><span style=\"color:#565656\">Make this Notebook Trusted to load map: File -> Trust Notebook</span><iframe src=\"about:blank\" style=\"position:absolute;width:100%;height:100%;left:0;top:0;border:none !important;\" data-html=%3C%21DOCTYPE%20html%3E%0A%3Chead%3E%20%20%20%20%0A%20%20%20%20%3Cmeta%20http-equiv%3D%22content-type%22%20content%3D%22text/html%3B%20charset%3DUTF-8%22%20/%3E%0A%20%20%20%20%3Cscript%3EL_PREFER_CANVAS%3Dfalse%3B%20L_NO_TOUCH%3Dfalse%3B%20L_DISABLE_3D%3Dfalse%3B%3C/script%3E%0A%20%20%20%20%3Cscript%20src%3D%22https%3A//cdn.jsdelivr.net/npm/leaflet%401.4.0/dist/leaflet.js%22%3E%3C/script%3E%0A%20%20%20%20%3Cscript%20src%3D%22https%3A//code.jquery.com/jquery-1.12.4.min.js%22%3E%3C/script%3E%0A%20%20%20%20%3Cscript%20src%3D%22https%3A//maxcdn.bootstrapcdn.com/bootstrap/3.2.0/js/bootstrap.min.js%22%3E%3C/script%3E%0A%20%20%20%20%3Cscript%20src%3D%22https%3A//cdnjs.cloudflare.com/ajax/libs/Leaflet.awesome-markers/2.0.2/leaflet.awesome-markers.js%22%3E%3C/script%3E%0A%20%20%20%20%3Clink%20rel%3D%22stylesheet%22%20href%3D%22https%3A//cdn.jsdelivr.net/npm/leaflet%401.4.0/dist/leaflet.css%22/%3E%0A%20%20%20%20%3Clink%20rel%3D%22stylesheet%22%20href%3D%22https%3A//maxcdn.bootstrapcdn.com/bootstrap/3.2.0/css/bootstrap.min.css%22/%3E%0A%20%20%20%20%3Clink%20rel%3D%22stylesheet%22%20href%3D%22https%3A//maxcdn.bootstrapcdn.com/bootstrap/3.2.0/css/bootstrap-theme.min.css%22/%3E%0A%20%20%20%20%3Clink%20rel%3D%22stylesheet%22%20href%3D%22https%3A//maxcdn.bootstrapcdn.com/font-awesome/4.6.3/css/font-awesome.min.css%22/%3E%0A%20%20%20%20%3Clink%20rel%3D%22stylesheet%22%20href%3D%22https%3A//cdnjs.cloudflare.com/ajax/libs/Leaflet.awesome-markers/2.0.2/leaflet.awesome-markers.css%22/%3E%0A%20%20%20%20%3Clink%20rel%3D%22stylesheet%22%20href%3D%22https%3A//rawcdn.githack.com/python-visualization/folium/master/folium/templates/leaflet.awesome.rotate.css%22/%3E%0A%20%20%20%20%3Cstyle%3Ehtml%2C%20body%20%7Bwidth%3A%20100%25%3Bheight%3A%20100%25%3Bmargin%3A%200%3Bpadding%3A%200%3B%7D%3C/style%3E%0A%20%20%20%20%3Cstyle%3E%23map%20%7Bposition%3Aabsolute%3Btop%3A0%3Bbottom%3A0%3Bright%3A0%3Bleft%3A0%3B%7D%3C/style%3E%0A%20%20%20%20%0A%20%20%20%20%3Cmeta%20name%3D%22viewport%22%20content%3D%22width%3Ddevice-width%2C%0A%20%20%20%20%20%20%20%20initial-scale%3D1.0%2C%20maximum-scale%3D1.0%2C%20user-scalable%3Dno%22%20/%3E%0A%20%20%20%20%3Cstyle%3E%23map_8596d59b1d114686b07ddec9d394d06e%20%7B%0A%20%20%20%20%20%20%20%20position%3A%20relative%3B%0A%20%20%20%20%20%20%20%20width%3A%20100.0%25%3B%0A%20%20%20%20%20%20%20%20height%3A%20100.0%25%3B%0A%20%20%20%20%20%20%20%20left%3A%200.0%25%3B%0A%20%20%20%20%20%20%20%20top%3A%200.0%25%3B%0A%20%20%20%20%20%20%20%20%7D%0A%20%20%20%20%3C/style%3E%0A%3C/head%3E%0A%3Cbody%3E%20%20%20%20%0A%20%20%20%20%0A%20%20%20%20%3Cdiv%20class%3D%22folium-map%22%20id%3D%22map_8596d59b1d114686b07ddec9d394d06e%22%20%3E%3C/div%3E%0A%3C/body%3E%0A%3Cscript%3E%20%20%20%20%0A%20%20%20%20%0A%20%20%20%20%0A%20%20%20%20%20%20%20%20var%20bounds%20%3D%20null%3B%0A%20%20%20%20%0A%0A%20%20%20%20var%20map_8596d59b1d114686b07ddec9d394d06e%20%3D%20L.map%28%0A%20%20%20%20%20%20%20%20%27map_8596d59b1d114686b07ddec9d394d06e%27%2C%20%7B%0A%20%20%20%20%20%20%20%20center%3A%20%5B37.493747%2C%20127.03269%5D%2C%0A%20%20%20%20%20%20%20%20zoom%3A%2018%2C%0A%20%20%20%20%20%20%20%20maxBounds%3A%20bounds%2C%0A%20%20%20%20%20%20%20%20layers%3A%20%5B%5D%2C%0A%20%20%20%20%20%20%20%20worldCopyJump%3A%20false%2C%0A%20%20%20%20%20%20%20%20crs%3A%20L.CRS.EPSG3857%2C%0A%20%20%20%20%20%20%20%20zoomControl%3A%20true%2C%0A%20%20%20%20%20%20%20%20%7D%29%3B%0A%0A%0A%20%20%20%20%0A%20%20%20%20var%20tile_layer_a900a40a709343e7a906d4abc80d2940%20%3D%20L.tileLayer%28%0A%20%20%20%20%20%20%20%20%27https%3A//%7Bs%7D.tile.openstreetmap.org/%7Bz%7D/%7Bx%7D/%7By%7D.png%27%2C%0A%20%20%20%20%20%20%20%20%7B%0A%20%20%20%20%20%20%20%20%22attribution%22%3A%20null%2C%0A%20%20%20%20%20%20%20%20%22detectRetina%22%3A%20false%2C%0A%20%20%20%20%20%20%20%20%22maxNativeZoom%22%3A%2018%2C%0A%20%20%20%20%20%20%20%20%22maxZoom%22%3A%2018%2C%0A%20%20%20%20%20%20%20%20%22minZoom%22%3A%200%2C%0A%20%20%20%20%20%20%20%20%22noWrap%22%3A%20false%2C%0A%20%20%20%20%20%20%20%20%22opacity%22%3A%201%2C%0A%20%20%20%20%20%20%20%20%22subdomains%22%3A%20%22abc%22%2C%0A%20%20%20%20%20%20%20%20%22tms%22%3A%20false%0A%7D%29.addTo%28map_8596d59b1d114686b07ddec9d394d06e%29%3B%0A%20%20%20%20%0A%20%20%20%20%20%20%20%20var%20marker_159381350ddf4dbdafa3a9d241197c37%20%3D%20L.marker%28%0A%20%20%20%20%20%20%20%20%20%20%20%20%5B37.494296%2C%20127.03305%5D%2C%0A%20%20%20%20%20%20%20%20%20%20%20%20%7B%0A%20%20%20%20%20%20%20%20%20%20%20%20%20%20%20%20icon%3A%20new%20L.Icon.Default%28%29%2C%0A%20%20%20%20%20%20%20%20%20%20%20%20%20%20%20%20%7D%0A%20%20%20%20%20%20%20%20%20%20%20%20%29.addTo%28map_8596d59b1d114686b07ddec9d394d06e%29%3B%0A%20%20%20%20%20%20%20%20%0A%20%20%20%20%0A%20%20%20%20%20%20%20%20%20%20%20%20var%20popup_5ad12ac754354cd8a0b7446018fd4b98%20%3D%20L.popup%28%7BmaxWidth%3A%20%27100%25%27%0A%20%20%20%20%20%20%20%20%20%20%20%20%0A%20%20%20%20%20%20%20%20%20%20%20%20%7D%29%3B%0A%0A%20%20%20%20%20%20%20%20%20%20%20%20%0A%20%20%20%20%20%20%20%20%20%20%20%20%20%20%20%20var%20html_221f728822e04e1cac0992e24d0e6696%20%3D%20%24%28%60%3Cdiv%20id%3D%22html_221f728822e04e1cac0992e24d0e6696%22%20style%3D%22width%3A%20100.0%25%3B%20height%3A%20100.0%25%3B%22%3E%EC%8A%A4%ED%83%80%EB%B2%85%EC%8A%A4%20%EC%97%AD%EC%82%BC%EC%B4%88%EA%B5%90%20%EC%82%AC%EA%B1%B0%EB%A6%AC%3C/div%3E%60%29%5B0%5D%3B%0A%20%20%20%20%20%20%20%20%20%20%20%20%20%20%20%20popup_5ad12ac754354cd8a0b7446018fd4b98.setContent%28html_221f728822e04e1cac0992e24d0e6696%29%3B%0A%20%20%20%20%20%20%20%20%20%20%20%20%0A%0A%20%20%20%20%20%20%20%20%20%20%20%20marker_159381350ddf4dbdafa3a9d241197c37.bindPopup%28popup_5ad12ac754354cd8a0b7446018fd4b98%29%0A%20%20%20%20%20%20%20%20%20%20%20%20%3B%0A%0A%20%20%20%20%20%20%20%20%20%20%20%20%0A%20%20%20%20%20%20%20%20%0A%20%20%20%20%0A%20%20%20%20%20%20%20%20%20%20%20%20var%20circle_marker_644c9375da1444a886100abe8f1dc062%20%3D%20L.circleMarker%28%0A%20%20%20%20%20%20%20%20%20%20%20%20%20%20%20%20%5B37.49294%2C%20127.032849%5D%2C%0A%20%20%20%20%20%20%20%20%20%20%20%20%20%20%20%20%7B%0A%20%20%22bubblingMouseEvents%22%3A%20true%2C%0A%20%20%22color%22%3A%20%22brown%22%2C%0A%20%20%22dashArray%22%3A%20null%2C%0A%20%20%22dashOffset%22%3A%20null%2C%0A%20%20%22fill%22%3A%20true%2C%0A%20%20%22fillColor%22%3A%20%22coral%22%2C%0A%20%20%22fillOpacity%22%3A%201.0%2C%0A%20%20%22fillRule%22%3A%20%22evenodd%22%2C%0A%20%20%22lineCap%22%3A%20%22round%22%2C%0A%20%20%22lineJoin%22%3A%20%22round%22%2C%0A%20%20%22opacity%22%3A%201.0%2C%0A%20%20%22radius%22%3A%2010%2C%0A%20%20%22stroke%22%3A%20true%2C%0A%20%20%22weight%22%3A%203%0A%7D%0A%20%20%20%20%20%20%20%20%20%20%20%20%20%20%20%20%29%0A%20%20%20%20%20%20%20%20%20%20%20%20%20%20%20%20.addTo%28map_8596d59b1d114686b07ddec9d394d06e%29%3B%0A%20%20%20%20%20%20%20%20%20%20%20%20%0A%20%20%20%20%0A%20%20%20%20%20%20%20%20%20%20%20%20var%20popup_6c772a0a0bbe467ea2343f75200e2971%20%3D%20L.popup%28%7BmaxWidth%3A%20%27100%25%27%0A%20%20%20%20%20%20%20%20%20%20%20%20%0A%20%20%20%20%20%20%20%20%20%20%20%20%7D%29%3B%0A%0A%20%20%20%20%20%20%20%20%20%20%20%20%0A%20%20%20%20%20%20%20%20%20%20%20%20%20%20%20%20var%20html_49384ab8fd7e41f0bc709c9dd26e0a96%20%3D%20%24%28%60%3Cdiv%20id%3D%22html_49384ab8fd7e41f0bc709c9dd26e0a96%22%20style%3D%22width%3A%20100.0%25%3B%20height%3A%20100.0%25%3B%22%3EYouksam%20Element%20School%3C/div%3E%60%29%5B0%5D%3B%0A%20%20%20%20%20%20%20%20%20%20%20%20%20%20%20%20popup_6c772a0a0bbe467ea2343f75200e2971.setContent%28html_49384ab8fd7e41f0bc709c9dd26e0a96%29%3B%0A%20%20%20%20%20%20%20%20%20%20%20%20%0A%0A%20%20%20%20%20%20%20%20%20%20%20%20circle_marker_644c9375da1444a886100abe8f1dc062.bindPopup%28popup_6c772a0a0bbe467ea2343f75200e2971%29%0A%20%20%20%20%20%20%20%20%20%20%20%20%3B%0A%0A%20%20%20%20%20%20%20%20%20%20%20%20%0A%20%20%20%20%20%20%20%20%0A%3C/script%3E onload=\"this.contentDocument.open();this.contentDocument.write(    decodeURIComponent(this.getAttribute('data-html')));this.contentDocument.close();\" allowfullscreen webkitallowfullscreen mozallowfullscreen></iframe></div></div>"
            ],
            "text/plain": [
              "<folium.folium.Map at 0x7f611e9b3b00>"
            ]
          },
          "metadata": {
            "tags": []
          },
          "execution_count": 17
        }
      ]
    },
    {
      "cell_type": "markdown",
      "metadata": {
        "id": "ir9_tCwN4RZO",
        "colab_type": "text"
      },
      "source": [
        "## 서울 지역 대학교 위치\n"
      ]
    },
    {
      "cell_type": "markdown",
      "metadata": {
        "id": "a2AyE3QODpKD",
        "colab_type": "text"
      },
      "source": [
        "### 데이터 불러오기\n"
      ]
    },
    {
      "cell_type": "code",
      "metadata": {
        "id": "eMwup8Ut4di3",
        "colab_type": "code",
        "colab": {}
      },
      "source": [
        "df = pd.read_excel(\"./서울지역 대학교 위치.xlsx\")"
      ],
      "execution_count": null,
      "outputs": []
    },
    {
      "cell_type": "code",
      "metadata": {
        "id": "8RrPlHxC5A_u",
        "colab_type": "code",
        "colab": {
          "base_uri": "https://localhost:8080/"
        },
        "outputId": "eb9b8148-b60d-45e9-b06a-1c7babd2ff3c"
      },
      "source": [
        "df"
      ],
      "execution_count": null,
      "outputs": [
        {
          "output_type": "execute_result",
          "data": {
            "text/html": [
              "<div>\n",
              "<style scoped>\n",
              "    .dataframe tbody tr th:only-of-type {\n",
              "        vertical-align: middle;\n",
              "    }\n",
              "\n",
              "    .dataframe tbody tr th {\n",
              "        vertical-align: top;\n",
              "    }\n",
              "\n",
              "    .dataframe thead th {\n",
              "        text-align: right;\n",
              "    }\n",
              "</style>\n",
              "<table border=\"1\" class=\"dataframe\">\n",
              "  <thead>\n",
              "    <tr style=\"text-align: right;\">\n",
              "      <th></th>\n",
              "      <th>Unnamed: 0</th>\n",
              "      <th>위도</th>\n",
              "      <th>경도</th>\n",
              "    </tr>\n",
              "  </thead>\n",
              "  <tbody>\n",
              "    <tr>\n",
              "      <th>0</th>\n",
              "      <td>KAIST 서울캠퍼스</td>\n",
              "      <td>37.592573</td>\n",
              "      <td>127.046737</td>\n",
              "    </tr>\n",
              "    <tr>\n",
              "      <th>1</th>\n",
              "      <td>KC대학교</td>\n",
              "      <td>37.548345</td>\n",
              "      <td>126.854797</td>\n",
              "    </tr>\n",
              "    <tr>\n",
              "      <th>2</th>\n",
              "      <td>가톨릭대학교(성신교정)</td>\n",
              "      <td>37.585922</td>\n",
              "      <td>127.004328</td>\n",
              "    </tr>\n",
              "    <tr>\n",
              "      <th>3</th>\n",
              "      <td>가톨릭대학교(성의교정)</td>\n",
              "      <td>37.499623</td>\n",
              "      <td>127.006065</td>\n",
              "    </tr>\n",
              "    <tr>\n",
              "      <th>4</th>\n",
              "      <td>감리교신학대학교</td>\n",
              "      <td>37.567645</td>\n",
              "      <td>126.961610</td>\n",
              "    </tr>\n",
              "    <tr>\n",
              "      <th>5</th>\n",
              "      <td>건국대학교</td>\n",
              "      <td>37.540762</td>\n",
              "      <td>127.079343</td>\n",
              "    </tr>\n",
              "    <tr>\n",
              "      <th>6</th>\n",
              "      <td>경기대학교 서울캠퍼스</td>\n",
              "      <td>37.300485</td>\n",
              "      <td>127.035833</td>\n",
              "    </tr>\n",
              "    <tr>\n",
              "      <th>7</th>\n",
              "      <td>경희대학교 서울캠퍼스</td>\n",
              "      <td>37.596195</td>\n",
              "      <td>127.052544</td>\n",
              "    </tr>\n",
              "    <tr>\n",
              "      <th>8</th>\n",
              "      <td>고려대학교</td>\n",
              "      <td>33.847782</td>\n",
              "      <td>-117.977748</td>\n",
              "    </tr>\n",
              "    <tr>\n",
              "      <th>9</th>\n",
              "      <td>광운대학교</td>\n",
              "      <td>37.619496</td>\n",
              "      <td>127.059696</td>\n",
              "    </tr>\n",
              "    <tr>\n",
              "      <th>10</th>\n",
              "      <td>국민대학교</td>\n",
              "      <td>37.609641</td>\n",
              "      <td>126.997697</td>\n",
              "    </tr>\n",
              "    <tr>\n",
              "      <th>11</th>\n",
              "      <td>덕성여자대학교</td>\n",
              "      <td>37.651199</td>\n",
              "      <td>127.016160</td>\n",
              "    </tr>\n",
              "    <tr>\n",
              "      <th>12</th>\n",
              "      <td>동국대학교</td>\n",
              "      <td>37.557477</td>\n",
              "      <td>127.002052</td>\n",
              "    </tr>\n",
              "    <tr>\n",
              "      <th>13</th>\n",
              "      <td>동덕여자대학교</td>\n",
              "      <td>37.606320</td>\n",
              "      <td>127.041808</td>\n",
              "    </tr>\n",
              "    <tr>\n",
              "      <th>14</th>\n",
              "      <td>명지대학교 서울캠퍼스</td>\n",
              "      <td>37.580205</td>\n",
              "      <td>126.923445</td>\n",
              "    </tr>\n",
              "    <tr>\n",
              "      <th>15</th>\n",
              "      <td>삼육대학교</td>\n",
              "      <td>37.642952</td>\n",
              "      <td>127.105476</td>\n",
              "    </tr>\n",
              "    <tr>\n",
              "      <th>16</th>\n",
              "      <td>상명대학교 서울캠퍼스</td>\n",
              "      <td>37.602638</td>\n",
              "      <td>126.955252</td>\n",
              "    </tr>\n",
              "    <tr>\n",
              "      <th>17</th>\n",
              "      <td>서강대학교</td>\n",
              "      <td>37.550944</td>\n",
              "      <td>126.941002</td>\n",
              "    </tr>\n",
              "    <tr>\n",
              "      <th>18</th>\n",
              "      <td>서경대학교</td>\n",
              "      <td>37.615095</td>\n",
              "      <td>127.013111</td>\n",
              "    </tr>\n",
              "    <tr>\n",
              "      <th>19</th>\n",
              "      <td>서울과학기술대학교</td>\n",
              "      <td>37.631668</td>\n",
              "      <td>127.077481</td>\n",
              "    </tr>\n",
              "    <tr>\n",
              "      <th>20</th>\n",
              "      <td>서울교육대학교</td>\n",
              "      <td>37.489961</td>\n",
              "      <td>127.016412</td>\n",
              "    </tr>\n",
              "    <tr>\n",
              "      <th>21</th>\n",
              "      <td>서울기독대학교</td>\n",
              "      <td>37.600923</td>\n",
              "      <td>126.912382</td>\n",
              "    </tr>\n",
              "    <tr>\n",
              "      <th>22</th>\n",
              "      <td>서울대학교</td>\n",
              "      <td>37.459882</td>\n",
              "      <td>126.951905</td>\n",
              "    </tr>\n",
              "    <tr>\n",
              "      <th>23</th>\n",
              "      <td>서울시립대학교</td>\n",
              "      <td>37.583866</td>\n",
              "      <td>127.058777</td>\n",
              "    </tr>\n",
              "    <tr>\n",
              "      <th>24</th>\n",
              "      <td>서울여자대학교</td>\n",
              "      <td>37.628113</td>\n",
              "      <td>127.090457</td>\n",
              "    </tr>\n",
              "    <tr>\n",
              "      <th>25</th>\n",
              "      <td>서울한영대학교</td>\n",
              "      <td>37.496541</td>\n",
              "      <td>126.851262</td>\n",
              "    </tr>\n",
              "    <tr>\n",
              "      <th>26</th>\n",
              "      <td>성공회대학교</td>\n",
              "      <td>37.487232</td>\n",
              "      <td>126.825320</td>\n",
              "    </tr>\n",
              "    <tr>\n",
              "      <th>27</th>\n",
              "      <td>성균관대학교 서울캠퍼스</td>\n",
              "      <td>37.588227</td>\n",
              "      <td>126.993606</td>\n",
              "    </tr>\n",
              "    <tr>\n",
              "      <th>28</th>\n",
              "      <td>성신여자대학교</td>\n",
              "      <td>37.591310</td>\n",
              "      <td>127.022131</td>\n",
              "    </tr>\n",
              "    <tr>\n",
              "      <th>29</th>\n",
              "      <td>세종대학교</td>\n",
              "      <td>37.550260</td>\n",
              "      <td>127.073139</td>\n",
              "    </tr>\n",
              "    <tr>\n",
              "      <th>30</th>\n",
              "      <td>숙명여자대학교</td>\n",
              "      <td>37.546364</td>\n",
              "      <td>126.964831</td>\n",
              "    </tr>\n",
              "    <tr>\n",
              "      <th>31</th>\n",
              "      <td>숭실대학교</td>\n",
              "      <td>37.496311</td>\n",
              "      <td>126.957460</td>\n",
              "    </tr>\n",
              "    <tr>\n",
              "      <th>32</th>\n",
              "      <td>연세대학교</td>\n",
              "      <td>37.565784</td>\n",
              "      <td>126.938572</td>\n",
              "    </tr>\n",
              "    <tr>\n",
              "      <th>33</th>\n",
              "      <td>육군사관학교</td>\n",
              "      <td>37.623819</td>\n",
              "      <td>127.098878</td>\n",
              "    </tr>\n",
              "    <tr>\n",
              "      <th>34</th>\n",
              "      <td>이화여자대학교</td>\n",
              "      <td>37.564308</td>\n",
              "      <td>126.950179</td>\n",
              "    </tr>\n",
              "    <tr>\n",
              "      <th>35</th>\n",
              "      <td>장로회신학대학교</td>\n",
              "      <td>37.550511</td>\n",
              "      <td>127.103458</td>\n",
              "    </tr>\n",
              "    <tr>\n",
              "      <th>36</th>\n",
              "      <td>중앙대학교 서울캠퍼스</td>\n",
              "      <td>37.505088</td>\n",
              "      <td>126.957101</td>\n",
              "    </tr>\n",
              "    <tr>\n",
              "      <th>37</th>\n",
              "      <td>총신대학교</td>\n",
              "      <td>37.488623</td>\n",
              "      <td>126.966817</td>\n",
              "    </tr>\n",
              "    <tr>\n",
              "      <th>38</th>\n",
              "      <td>추계예술대학교</td>\n",
              "      <td>37.562452</td>\n",
              "      <td>126.953417</td>\n",
              "    </tr>\n",
              "    <tr>\n",
              "      <th>39</th>\n",
              "      <td>한국방송통신대학교</td>\n",
              "      <td>37.578613</td>\n",
              "      <td>127.003291</td>\n",
              "    </tr>\n",
              "    <tr>\n",
              "      <th>40</th>\n",
              "      <td>한국성서대학교</td>\n",
              "      <td>37.648749</td>\n",
              "      <td>127.064320</td>\n",
              "    </tr>\n",
              "    <tr>\n",
              "      <th>41</th>\n",
              "      <td>한국예술종합학교</td>\n",
              "      <td>37.604997</td>\n",
              "      <td>127.056740</td>\n",
              "    </tr>\n",
              "    <tr>\n",
              "      <th>42</th>\n",
              "      <td>한국외국어대학교</td>\n",
              "      <td>37.597319</td>\n",
              "      <td>127.057843</td>\n",
              "    </tr>\n",
              "    <tr>\n",
              "      <th>43</th>\n",
              "      <td>한국체육대학교</td>\n",
              "      <td>37.519627</td>\n",
              "      <td>127.130984</td>\n",
              "    </tr>\n",
              "    <tr>\n",
              "      <th>44</th>\n",
              "      <td>한성대학교</td>\n",
              "      <td>37.581785</td>\n",
              "      <td>127.010369</td>\n",
              "    </tr>\n",
              "    <tr>\n",
              "      <th>45</th>\n",
              "      <td>한양대학교</td>\n",
              "      <td>37.557232</td>\n",
              "      <td>127.045322</td>\n",
              "    </tr>\n",
              "    <tr>\n",
              "      <th>46</th>\n",
              "      <td>홍익대학교</td>\n",
              "      <td>37.551464</td>\n",
              "      <td>126.925011</td>\n",
              "    </tr>\n",
              "  </tbody>\n",
              "</table>\n",
              "</div>"
            ],
            "text/plain": [
              "        Unnamed: 0         위도          경도\n",
              "0     KAIST 서울캠퍼스   37.592573  127.046737\n",
              "1            KC대학교  37.548345  126.854797\n",
              "2     가톨릭대학교(성신교정)  37.585922  127.004328\n",
              "3     가톨릭대학교(성의교정)  37.499623  127.006065\n",
              "4         감리교신학대학교  37.567645  126.961610\n",
              "5            건국대학교  37.540762  127.079343\n",
              "6     경기대학교 서울캠퍼스   37.300485  127.035833\n",
              "7     경희대학교 서울캠퍼스   37.596195  127.052544\n",
              "8            고려대학교  33.847782 -117.977748\n",
              "9            광운대학교  37.619496  127.059696\n",
              "10           국민대학교  37.609641  126.997697\n",
              "11         덕성여자대학교  37.651199  127.016160\n",
              "12           동국대학교  37.557477  127.002052\n",
              "13         동덕여자대학교  37.606320  127.041808\n",
              "14    명지대학교 서울캠퍼스   37.580205  126.923445\n",
              "15           삼육대학교  37.642952  127.105476\n",
              "16    상명대학교 서울캠퍼스   37.602638  126.955252\n",
              "17           서강대학교  37.550944  126.941002\n",
              "18           서경대학교  37.615095  127.013111\n",
              "19       서울과학기술대학교  37.631668  127.077481\n",
              "20         서울교육대학교  37.489961  127.016412\n",
              "21         서울기독대학교  37.600923  126.912382\n",
              "22           서울대학교  37.459882  126.951905\n",
              "23         서울시립대학교  37.583866  127.058777\n",
              "24         서울여자대학교  37.628113  127.090457\n",
              "25         서울한영대학교  37.496541  126.851262\n",
              "26          성공회대학교  37.487232  126.825320\n",
              "27  성균관대학교 서울캠퍼스    37.588227  126.993606\n",
              "28         성신여자대학교  37.591310  127.022131\n",
              "29           세종대학교  37.550260  127.073139\n",
              "30         숙명여자대학교  37.546364  126.964831\n",
              "31           숭실대학교  37.496311  126.957460\n",
              "32           연세대학교  37.565784  126.938572\n",
              "33          육군사관학교  37.623819  127.098878\n",
              "34         이화여자대학교  37.564308  126.950179\n",
              "35        장로회신학대학교  37.550511  127.103458\n",
              "36    중앙대학교 서울캠퍼스   37.505088  126.957101\n",
              "37           총신대학교  37.488623  126.966817\n",
              "38         추계예술대학교  37.562452  126.953417\n",
              "39       한국방송통신대학교  37.578613  127.003291\n",
              "40         한국성서대학교  37.648749  127.064320\n",
              "41        한국예술종합학교  37.604997  127.056740\n",
              "42        한국외국어대학교  37.597319  127.057843\n",
              "43         한국체육대학교  37.519627  127.130984\n",
              "44           한성대학교  37.581785  127.010369\n",
              "45           한양대학교  37.557232  127.045322\n",
              "46           홍익대학교  37.551464  126.925011"
            ]
          },
          "metadata": {
            "tags": []
          },
          "execution_count": 34
        }
      ]
    },
    {
      "cell_type": "code",
      "metadata": {
        "id": "NXiCBLwi5SBd",
        "colab_type": "code",
        "colab": {
          "base_uri": "https://localhost:8080/"
        },
        "outputId": "d0adc173-81e2-4e41-9f51-d7b37f92cc54"
      },
      "source": [
        "len(df) #총 대학교 개수(데이터의 개수)"
      ],
      "execution_count": null,
      "outputs": [
        {
          "output_type": "execute_result",
          "data": {
            "text/plain": [
              "47"
            ]
          },
          "metadata": {
            "tags": []
          },
          "execution_count": 36
        }
      ]
    },
    {
      "cell_type": "code",
      "metadata": {
        "id": "C365JtUU5lVS",
        "colab_type": "code",
        "colab": {}
      },
      "source": [
        "df.columns = [\"대학명\", \"위도\", \"경도\"] #컬럼명 변경(columns는 전체 컬럼의 이름을 바꿔야 함)"
      ],
      "execution_count": null,
      "outputs": []
    },
    {
      "cell_type": "code",
      "metadata": {
        "id": "j4L2vxp15xW_",
        "colab_type": "code",
        "colab": {
          "base_uri": "https://localhost:8080/"
        },
        "outputId": "3e92096b-24bf-4bbe-9ac4-1e6bc546732b"
      },
      "source": [
        "df[\"대학명\"].iloc[0] #대학명 컬럼의 0번째 행"
      ],
      "execution_count": null,
      "outputs": [
        {
          "output_type": "execute_result",
          "data": {
            "application/vnd.google.colaboratory.intrinsic": {
              "type": "string"
            },
            "text/plain": [
              "'KAIST 서울캠퍼스 '"
            ]
          },
          "metadata": {
            "tags": []
          },
          "execution_count": 39
        }
      ]
    },
    {
      "cell_type": "code",
      "metadata": {
        "id": "VWyvBUKe6aA1",
        "colab_type": "code",
        "colab": {
          "base_uri": "https://localhost:8080/"
        },
        "outputId": "6e36bb50-f4dc-4e91-c83f-a1cd059581f6"
      },
      "source": [
        "df[\"위도\"].iloc[0] #위도 컬럼의 0번째 행(카이스트 서울캠퍼스의 위도 출력)"
      ],
      "execution_count": null,
      "outputs": [
        {
          "output_type": "execute_result",
          "data": {
            "text/plain": [
              "37.592573"
            ]
          },
          "metadata": {
            "tags": []
          },
          "execution_count": 40
        }
      ]
    },
    {
      "cell_type": "code",
      "metadata": {
        "id": "kzzpq_396jHe",
        "colab_type": "code",
        "colab": {
          "base_uri": "https://localhost:8080/"
        },
        "outputId": "f1d61cb6-f1a9-415c-bf47-11025f96b14d"
      },
      "source": [
        "df[\"경도\"].iloc[0] #경도 컬럼의 0번째 행(카이스트 서울캠퍼스의 위도 출력)"
      ],
      "execution_count": null,
      "outputs": [
        {
          "output_type": "execute_result",
          "data": {
            "text/plain": [
              "127.046737"
            ]
          },
          "metadata": {
            "tags": []
          },
          "execution_count": 41
        }
      ]
    },
    {
      "cell_type": "code",
      "metadata": {
        "id": "BTwNnIX06m13",
        "colab_type": "code",
        "colab": {
          "base_uri": "https://localhost:8080/"
        },
        "outputId": "89172349-e368-48d2-e084-a2ff5667ffcd"
      },
      "source": [
        "for index in range(len(df)):\n",
        "  print(\"대학명: {}, [위도, 경도] = [{}, {}]\".format(df[\"대학명\"].iloc[index], df[\"위도\"].iloc[index], df[\"경도\"].iloc[index]))"
      ],
      "execution_count": null,
      "outputs": [
        {
          "output_type": "stream",
          "text": [
            "대학명: KAIST 서울캠퍼스 , [위도, 경도] = [37.592573, 127.046737]\n",
            "대학명: KC대학교, [위도, 경도] = [37.5483449, 126.8547974]\n",
            "대학명: 가톨릭대학교(성신교정), [위도, 경도] = [37.5859218, 127.0043275]\n",
            "대학명: 가톨릭대학교(성의교정), [위도, 경도] = [37.4996227, 127.0060653]\n",
            "대학명: 감리교신학대학교, [위도, 경도] = [37.5676455, 126.96161]\n",
            "대학명: 건국대학교, [위도, 경도] = [37.5407625, 127.0793428]\n",
            "대학명: 경기대학교 서울캠퍼스 , [위도, 경도] = [37.30048499999999, 127.035833]\n",
            "대학명: 경희대학교 서울캠퍼스 , [위도, 경도] = [37.5961951, 127.052544]\n",
            "대학명: 고려대학교, [위도, 경도] = [33.8477818, -117.9777482]\n",
            "대학명: 광운대학교, [위도, 경도] = [37.6194965, 127.0596958]\n",
            "대학명: 국민대학교, [위도, 경도] = [37.6096409, 126.997697]\n",
            "대학명: 덕성여자대학교, [위도, 경도] = [37.6511988, 127.0161604]\n",
            "대학명: 동국대학교, [위도, 경도] = [37.5574771, 127.0020518]\n",
            "대학명: 동덕여자대학교, [위도, 경도] = [37.6063202, 127.041808]\n",
            "대학명: 명지대학교 서울캠퍼스 , [위도, 경도] = [37.5802046, 126.9234451]\n",
            "대학명: 삼육대학교, [위도, 경도] = [37.6429515, 127.1054757]\n",
            "대학명: 상명대학교 서울캠퍼스 , [위도, 경도] = [37.602638, 126.955252]\n",
            "대학명: 서강대학교, [위도, 경도] = [37.5509442, 126.9410023]\n",
            "대학명: 서경대학교, [위도, 경도] = [37.615095, 127.0131113]\n",
            "대학명: 서울과학기술대학교, [위도, 경도] = [37.6316684, 127.0774813]\n",
            "대학명: 서울교육대학교, [위도, 경도] = [37.4899615, 127.0164124]\n",
            "대학명: 서울기독대학교, [위도, 경도] = [37.6009228, 126.9123818]\n",
            "대학명: 서울대학교, [위도, 경도] = [37.459882, 126.9519053]\n",
            "대학명: 서울시립대학교, [위도, 경도] = [37.5838657, 127.0587771]\n",
            "대학명: 서울여자대학교, [위도, 경도] = [37.6281126, 127.0904568]\n",
            "대학명: 서울한영대학교, [위도, 경도] = [37.4965411, 126.8512616]\n",
            "대학명: 성공회대학교, [위도, 경도] = [37.4872325, 126.8253202]\n",
            "대학명: 성균관대학교 서울캠퍼스  , [위도, 경도] = [37.588227, 126.993606]\n",
            "대학명: 성신여자대학교, [위도, 경도] = [37.5913103, 127.0221312]\n",
            "대학명: 세종대학교, [위도, 경도] = [37.5502596, 127.073139]\n",
            "대학명: 숙명여자대학교, [위도, 경도] = [37.5463644, 126.9648311]\n",
            "대학명: 숭실대학교, [위도, 경도] = [37.4963111, 126.9574596]\n",
            "대학명: 연세대학교, [위도, 경도] = [37.565784, 126.938572]\n",
            "대학명: 육군사관학교, [위도, 경도] = [37.6238188, 127.0988783]\n",
            "대학명: 이화여자대학교, [위도, 경도] = [37.5643079, 126.9501786]\n",
            "대학명: 장로회신학대학교, [위도, 경도] = [37.5505112, 127.1034577]\n",
            "대학명: 중앙대학교 서울캠퍼스 , [위도, 경도] = [37.5050881, 126.9571012]\n",
            "대학명: 총신대학교, [위도, 경도] = [37.4886232, 126.9668169]\n",
            "대학명: 추계예술대학교, [위도, 경도] = [37.5624515, 126.9534165]\n",
            "대학명: 한국방송통신대학교, [위도, 경도] = [37.5786127, 127.0032905]\n",
            "대학명: 한국성서대학교, [위도, 경도] = [37.6487485, 127.0643199]\n",
            "대학명: 한국예술종합학교, [위도, 경도] = [37.6049973, 127.0567397]\n",
            "대학명: 한국외국어대학교, [위도, 경도] = [37.597319, 127.057843]\n",
            "대학명: 한국체육대학교, [위도, 경도] = [37.5196266, 127.1309837]\n",
            "대학명: 한성대학교, [위도, 경도] = [37.5817849, 127.010369]\n",
            "대학명: 한양대학교, [위도, 경도] = [37.5572321, 127.0453219]\n",
            "대학명: 홍익대학교, [위도, 경도] = [37.5514642, 126.9250106]\n"
          ],
          "name": "stdout"
        }
      ]
    },
    {
      "cell_type": "code",
      "metadata": {
        "id": "HLKGnsti7Uq7",
        "colab_type": "code",
        "colab": {
          "base_uri": "https://localhost:8080/"
        },
        "outputId": "91a0acca-a269-456e-b2fd-46451a43697e"
      },
      "source": [
        "#zip() 함수 사용\n",
        "list(zip(df[\"대학명\"], df[\"경도\"])) "
      ],
      "execution_count": null,
      "outputs": [
        {
          "output_type": "execute_result",
          "data": {
            "text/plain": [
              "[('KAIST 서울캠퍼스 ', 127.046737),\n",
              " ('KC대학교', 126.8547974),\n",
              " ('가톨릭대학교(성신교정)', 127.0043275),\n",
              " ('가톨릭대학교(성의교정)', 127.0060653),\n",
              " ('감리교신학대학교', 126.96161),\n",
              " ('건국대학교', 127.0793428),\n",
              " ('경기대학교 서울캠퍼스 ', 127.035833),\n",
              " ('경희대학교 서울캠퍼스 ', 127.052544),\n",
              " ('고려대학교', -117.9777482),\n",
              " ('광운대학교', 127.0596958),\n",
              " ('국민대학교', 126.997697),\n",
              " ('덕성여자대학교', 127.0161604),\n",
              " ('동국대학교', 127.0020518),\n",
              " ('동덕여자대학교', 127.041808),\n",
              " ('명지대학교 서울캠퍼스 ', 126.9234451),\n",
              " ('삼육대학교', 127.1054757),\n",
              " ('상명대학교\\xa0서울캠퍼스 ', 126.955252),\n",
              " ('서강대학교', 126.9410023),\n",
              " ('서경대학교', 127.0131113),\n",
              " ('서울과학기술대학교', 127.0774813),\n",
              " ('서울교육대학교', 127.0164124),\n",
              " ('서울기독대학교', 126.9123818),\n",
              " ('서울대학교', 126.9519053),\n",
              " ('서울시립대학교', 127.0587771),\n",
              " ('서울여자대학교', 127.0904568),\n",
              " ('서울한영대학교', 126.8512616),\n",
              " ('성공회대학교', 126.8253202),\n",
              " ('성균관대학교 서울캠퍼스 \\xa0', 126.993606),\n",
              " ('성신여자대학교', 127.0221312),\n",
              " ('세종대학교', 127.073139),\n",
              " ('숙명여자대학교', 126.9648311),\n",
              " ('숭실대학교', 126.9574596),\n",
              " ('연세대학교', 126.938572),\n",
              " ('육군사관학교', 127.0988783),\n",
              " ('이화여자대학교', 126.9501786),\n",
              " ('장로회신학대학교', 127.1034577),\n",
              " ('중앙대학교 서울캠퍼스 ', 126.9571012),\n",
              " ('총신대학교', 126.9668169),\n",
              " ('추계예술대학교', 126.9534165),\n",
              " ('한국방송통신대학교', 127.0032905),\n",
              " ('한국성서대학교', 127.0643199),\n",
              " ('한국예술종합학교', 127.0567397),\n",
              " ('한국외국어대학교', 127.057843),\n",
              " ('한국체육대학교', 127.1309837),\n",
              " ('한성대학교', 127.010369),\n",
              " ('한양대학교', 127.0453219),\n",
              " ('홍익대학교', 126.9250106)]"
            ]
          },
          "metadata": {
            "tags": []
          },
          "execution_count": 45
        }
      ]
    },
    {
      "cell_type": "code",
      "metadata": {
        "id": "G-P4nPSZ5JA9",
        "colab_type": "code",
        "colab": {
          "base_uri": "https://localhost:8080/"
        },
        "outputId": "6a595b76-ed11-476b-b943-f088a363e6a5"
      },
      "source": [
        "for name, lat, lng in zip(df[\"대학명\"], df[\"위도\"], df[\"경도\"]):\n",
        "  print(name, lat, lng)"
      ],
      "execution_count": null,
      "outputs": [
        {
          "output_type": "stream",
          "text": [
            "KAIST 서울캠퍼스  37.592573 127.046737\n",
            "KC대학교 37.5483449 126.8547974\n",
            "가톨릭대학교(성신교정) 37.5859218 127.0043275\n",
            "가톨릭대학교(성의교정) 37.4996227 127.0060653\n",
            "감리교신학대학교 37.5676455 126.96161\n",
            "건국대학교 37.5407625 127.0793428\n",
            "경기대학교 서울캠퍼스  37.30048499999999 127.035833\n",
            "경희대학교 서울캠퍼스  37.5961951 127.052544\n",
            "고려대학교 33.8477818 -117.9777482\n",
            "광운대학교 37.6194965 127.0596958\n",
            "국민대학교 37.6096409 126.997697\n",
            "덕성여자대학교 37.6511988 127.0161604\n",
            "동국대학교 37.5574771 127.0020518\n",
            "동덕여자대학교 37.6063202 127.041808\n",
            "명지대학교 서울캠퍼스  37.5802046 126.9234451\n",
            "삼육대학교 37.6429515 127.1054757\n",
            "상명대학교 서울캠퍼스  37.602638 126.955252\n",
            "서강대학교 37.5509442 126.9410023\n",
            "서경대학교 37.615095 127.0131113\n",
            "서울과학기술대학교 37.6316684 127.0774813\n",
            "서울교육대학교 37.4899615 127.0164124\n",
            "서울기독대학교 37.6009228 126.9123818\n",
            "서울대학교 37.459882 126.9519053\n",
            "서울시립대학교 37.5838657 127.0587771\n",
            "서울여자대학교 37.6281126 127.0904568\n",
            "서울한영대학교 37.4965411 126.8512616\n",
            "성공회대학교 37.4872325 126.8253202\n",
            "성균관대학교 서울캠퍼스   37.588227 126.993606\n",
            "성신여자대학교 37.5913103 127.0221312\n",
            "세종대학교 37.5502596 127.073139\n",
            "숙명여자대학교 37.5463644 126.9648311\n",
            "숭실대학교 37.4963111 126.9574596\n",
            "연세대학교 37.565784 126.938572\n",
            "육군사관학교 37.6238188 127.0988783\n",
            "이화여자대학교 37.5643079 126.9501786\n",
            "장로회신학대학교 37.5505112 127.1034577\n",
            "중앙대학교 서울캠퍼스  37.5050881 126.9571012\n",
            "총신대학교 37.4886232 126.9668169\n",
            "추계예술대학교 37.5624515 126.9534165\n",
            "한국방송통신대학교 37.5786127 127.0032905\n",
            "한국성서대학교 37.6487485 127.0643199\n",
            "한국예술종합학교 37.6049973 127.0567397\n",
            "한국외국어대학교 37.597319 127.057843\n",
            "한국체육대학교 37.5196266 127.1309837\n",
            "한성대학교 37.5817849 127.010369\n",
            "한양대학교 37.5572321 127.0453219\n",
            "홍익대학교 37.5514642 126.9250106\n"
          ],
          "name": "stdout"
        }
      ]
    },
    {
      "cell_type": "markdown",
      "metadata": {
        "id": "cvhLXip3DS1n",
        "colab_type": "text"
      },
      "source": [
        "### 지도에 표시하기\n"
      ]
    },
    {
      "cell_type": "code",
      "metadata": {
        "id": "QcGQIahXDYcj",
        "colab_type": "code",
        "colab": {
          "base_uri": "https://localhost:8080/",
          "height": 1000
        },
        "outputId": "d630c175-b744-428f-c70c-7925e358c2b9"
      },
      "source": [
        "df = pd.read_excel(\"./서울지역 대학교 위치.xlsx\", index_col = 0) #0번째 칸을 인덱스로 설정\n",
        "df"
      ],
      "execution_count": null,
      "outputs": [
        {
          "output_type": "execute_result",
          "data": {
            "text/html": [
              "<div>\n",
              "<style scoped>\n",
              "    .dataframe tbody tr th:only-of-type {\n",
              "        vertical-align: middle;\n",
              "    }\n",
              "\n",
              "    .dataframe tbody tr th {\n",
              "        vertical-align: top;\n",
              "    }\n",
              "\n",
              "    .dataframe thead th {\n",
              "        text-align: right;\n",
              "    }\n",
              "</style>\n",
              "<table border=\"1\" class=\"dataframe\">\n",
              "  <thead>\n",
              "    <tr style=\"text-align: right;\">\n",
              "      <th></th>\n",
              "      <th>위도</th>\n",
              "      <th>경도</th>\n",
              "    </tr>\n",
              "  </thead>\n",
              "  <tbody>\n",
              "    <tr>\n",
              "      <th>KAIST 서울캠퍼스</th>\n",
              "      <td>37.592573</td>\n",
              "      <td>127.046737</td>\n",
              "    </tr>\n",
              "    <tr>\n",
              "      <th>KC대학교</th>\n",
              "      <td>37.548345</td>\n",
              "      <td>126.854797</td>\n",
              "    </tr>\n",
              "    <tr>\n",
              "      <th>가톨릭대학교(성신교정)</th>\n",
              "      <td>37.585922</td>\n",
              "      <td>127.004328</td>\n",
              "    </tr>\n",
              "    <tr>\n",
              "      <th>가톨릭대학교(성의교정)</th>\n",
              "      <td>37.499623</td>\n",
              "      <td>127.006065</td>\n",
              "    </tr>\n",
              "    <tr>\n",
              "      <th>감리교신학대학교</th>\n",
              "      <td>37.567645</td>\n",
              "      <td>126.961610</td>\n",
              "    </tr>\n",
              "    <tr>\n",
              "      <th>건국대학교</th>\n",
              "      <td>37.540762</td>\n",
              "      <td>127.079343</td>\n",
              "    </tr>\n",
              "    <tr>\n",
              "      <th>경기대학교 서울캠퍼스</th>\n",
              "      <td>37.300485</td>\n",
              "      <td>127.035833</td>\n",
              "    </tr>\n",
              "    <tr>\n",
              "      <th>경희대학교 서울캠퍼스</th>\n",
              "      <td>37.596195</td>\n",
              "      <td>127.052544</td>\n",
              "    </tr>\n",
              "    <tr>\n",
              "      <th>고려대학교</th>\n",
              "      <td>33.847782</td>\n",
              "      <td>-117.977748</td>\n",
              "    </tr>\n",
              "    <tr>\n",
              "      <th>광운대학교</th>\n",
              "      <td>37.619496</td>\n",
              "      <td>127.059696</td>\n",
              "    </tr>\n",
              "    <tr>\n",
              "      <th>국민대학교</th>\n",
              "      <td>37.609641</td>\n",
              "      <td>126.997697</td>\n",
              "    </tr>\n",
              "    <tr>\n",
              "      <th>덕성여자대학교</th>\n",
              "      <td>37.651199</td>\n",
              "      <td>127.016160</td>\n",
              "    </tr>\n",
              "    <tr>\n",
              "      <th>동국대학교</th>\n",
              "      <td>37.557477</td>\n",
              "      <td>127.002052</td>\n",
              "    </tr>\n",
              "    <tr>\n",
              "      <th>동덕여자대학교</th>\n",
              "      <td>37.606320</td>\n",
              "      <td>127.041808</td>\n",
              "    </tr>\n",
              "    <tr>\n",
              "      <th>명지대학교 서울캠퍼스</th>\n",
              "      <td>37.580205</td>\n",
              "      <td>126.923445</td>\n",
              "    </tr>\n",
              "    <tr>\n",
              "      <th>삼육대학교</th>\n",
              "      <td>37.642952</td>\n",
              "      <td>127.105476</td>\n",
              "    </tr>\n",
              "    <tr>\n",
              "      <th>상명대학교 서울캠퍼스</th>\n",
              "      <td>37.602638</td>\n",
              "      <td>126.955252</td>\n",
              "    </tr>\n",
              "    <tr>\n",
              "      <th>서강대학교</th>\n",
              "      <td>37.550944</td>\n",
              "      <td>126.941002</td>\n",
              "    </tr>\n",
              "    <tr>\n",
              "      <th>서경대학교</th>\n",
              "      <td>37.615095</td>\n",
              "      <td>127.013111</td>\n",
              "    </tr>\n",
              "    <tr>\n",
              "      <th>서울과학기술대학교</th>\n",
              "      <td>37.631668</td>\n",
              "      <td>127.077481</td>\n",
              "    </tr>\n",
              "    <tr>\n",
              "      <th>서울교육대학교</th>\n",
              "      <td>37.489961</td>\n",
              "      <td>127.016412</td>\n",
              "    </tr>\n",
              "    <tr>\n",
              "      <th>서울기독대학교</th>\n",
              "      <td>37.600923</td>\n",
              "      <td>126.912382</td>\n",
              "    </tr>\n",
              "    <tr>\n",
              "      <th>서울대학교</th>\n",
              "      <td>37.459882</td>\n",
              "      <td>126.951905</td>\n",
              "    </tr>\n",
              "    <tr>\n",
              "      <th>서울시립대학교</th>\n",
              "      <td>37.583866</td>\n",
              "      <td>127.058777</td>\n",
              "    </tr>\n",
              "    <tr>\n",
              "      <th>서울여자대학교</th>\n",
              "      <td>37.628113</td>\n",
              "      <td>127.090457</td>\n",
              "    </tr>\n",
              "    <tr>\n",
              "      <th>서울한영대학교</th>\n",
              "      <td>37.496541</td>\n",
              "      <td>126.851262</td>\n",
              "    </tr>\n",
              "    <tr>\n",
              "      <th>성공회대학교</th>\n",
              "      <td>37.487232</td>\n",
              "      <td>126.825320</td>\n",
              "    </tr>\n",
              "    <tr>\n",
              "      <th>성균관대학교 서울캠퍼스</th>\n",
              "      <td>37.588227</td>\n",
              "      <td>126.993606</td>\n",
              "    </tr>\n",
              "    <tr>\n",
              "      <th>성신여자대학교</th>\n",
              "      <td>37.591310</td>\n",
              "      <td>127.022131</td>\n",
              "    </tr>\n",
              "    <tr>\n",
              "      <th>세종대학교</th>\n",
              "      <td>37.550260</td>\n",
              "      <td>127.073139</td>\n",
              "    </tr>\n",
              "    <tr>\n",
              "      <th>숙명여자대학교</th>\n",
              "      <td>37.546364</td>\n",
              "      <td>126.964831</td>\n",
              "    </tr>\n",
              "    <tr>\n",
              "      <th>숭실대학교</th>\n",
              "      <td>37.496311</td>\n",
              "      <td>126.957460</td>\n",
              "    </tr>\n",
              "    <tr>\n",
              "      <th>연세대학교</th>\n",
              "      <td>37.565784</td>\n",
              "      <td>126.938572</td>\n",
              "    </tr>\n",
              "    <tr>\n",
              "      <th>육군사관학교</th>\n",
              "      <td>37.623819</td>\n",
              "      <td>127.098878</td>\n",
              "    </tr>\n",
              "    <tr>\n",
              "      <th>이화여자대학교</th>\n",
              "      <td>37.564308</td>\n",
              "      <td>126.950179</td>\n",
              "    </tr>\n",
              "    <tr>\n",
              "      <th>장로회신학대학교</th>\n",
              "      <td>37.550511</td>\n",
              "      <td>127.103458</td>\n",
              "    </tr>\n",
              "    <tr>\n",
              "      <th>중앙대학교 서울캠퍼스</th>\n",
              "      <td>37.505088</td>\n",
              "      <td>126.957101</td>\n",
              "    </tr>\n",
              "    <tr>\n",
              "      <th>총신대학교</th>\n",
              "      <td>37.488623</td>\n",
              "      <td>126.966817</td>\n",
              "    </tr>\n",
              "    <tr>\n",
              "      <th>추계예술대학교</th>\n",
              "      <td>37.562452</td>\n",
              "      <td>126.953417</td>\n",
              "    </tr>\n",
              "    <tr>\n",
              "      <th>한국방송통신대학교</th>\n",
              "      <td>37.578613</td>\n",
              "      <td>127.003291</td>\n",
              "    </tr>\n",
              "    <tr>\n",
              "      <th>한국성서대학교</th>\n",
              "      <td>37.648749</td>\n",
              "      <td>127.064320</td>\n",
              "    </tr>\n",
              "    <tr>\n",
              "      <th>한국예술종합학교</th>\n",
              "      <td>37.604997</td>\n",
              "      <td>127.056740</td>\n",
              "    </tr>\n",
              "    <tr>\n",
              "      <th>한국외국어대학교</th>\n",
              "      <td>37.597319</td>\n",
              "      <td>127.057843</td>\n",
              "    </tr>\n",
              "    <tr>\n",
              "      <th>한국체육대학교</th>\n",
              "      <td>37.519627</td>\n",
              "      <td>127.130984</td>\n",
              "    </tr>\n",
              "    <tr>\n",
              "      <th>한성대학교</th>\n",
              "      <td>37.581785</td>\n",
              "      <td>127.010369</td>\n",
              "    </tr>\n",
              "    <tr>\n",
              "      <th>한양대학교</th>\n",
              "      <td>37.557232</td>\n",
              "      <td>127.045322</td>\n",
              "    </tr>\n",
              "    <tr>\n",
              "      <th>홍익대학교</th>\n",
              "      <td>37.551464</td>\n",
              "      <td>126.925011</td>\n",
              "    </tr>\n",
              "  </tbody>\n",
              "</table>\n",
              "</div>"
            ],
            "text/plain": [
              "                       위도          경도\n",
              "KAIST 서울캠퍼스     37.592573  127.046737\n",
              "KC대학교           37.548345  126.854797\n",
              "가톨릭대학교(성신교정)    37.585922  127.004328\n",
              "가톨릭대학교(성의교정)    37.499623  127.006065\n",
              "감리교신학대학교        37.567645  126.961610\n",
              "건국대학교           37.540762  127.079343\n",
              "경기대학교 서울캠퍼스     37.300485  127.035833\n",
              "경희대학교 서울캠퍼스     37.596195  127.052544\n",
              "고려대학교           33.847782 -117.977748\n",
              "광운대학교           37.619496  127.059696\n",
              "국민대학교           37.609641  126.997697\n",
              "덕성여자대학교         37.651199  127.016160\n",
              "동국대학교           37.557477  127.002052\n",
              "동덕여자대학교         37.606320  127.041808\n",
              "명지대학교 서울캠퍼스     37.580205  126.923445\n",
              "삼육대학교           37.642952  127.105476\n",
              "상명대학교 서울캠퍼스     37.602638  126.955252\n",
              "서강대학교           37.550944  126.941002\n",
              "서경대학교           37.615095  127.013111\n",
              "서울과학기술대학교       37.631668  127.077481\n",
              "서울교육대학교         37.489961  127.016412\n",
              "서울기독대학교         37.600923  126.912382\n",
              "서울대학교           37.459882  126.951905\n",
              "서울시립대학교         37.583866  127.058777\n",
              "서울여자대학교         37.628113  127.090457\n",
              "서울한영대학교         37.496541  126.851262\n",
              "성공회대학교          37.487232  126.825320\n",
              "성균관대학교 서울캠퍼스    37.588227  126.993606\n",
              "성신여자대학교         37.591310  127.022131\n",
              "세종대학교           37.550260  127.073139\n",
              "숙명여자대학교         37.546364  126.964831\n",
              "숭실대학교           37.496311  126.957460\n",
              "연세대학교           37.565784  126.938572\n",
              "육군사관학교          37.623819  127.098878\n",
              "이화여자대학교         37.564308  126.950179\n",
              "장로회신학대학교        37.550511  127.103458\n",
              "중앙대학교 서울캠퍼스     37.505088  126.957101\n",
              "총신대학교           37.488623  126.966817\n",
              "추계예술대학교         37.562452  126.953417\n",
              "한국방송통신대학교       37.578613  127.003291\n",
              "한국성서대학교         37.648749  127.064320\n",
              "한국예술종합학교        37.604997  127.056740\n",
              "한국외국어대학교        37.597319  127.057843\n",
              "한국체육대학교         37.519627  127.130984\n",
              "한성대학교           37.581785  127.010369\n",
              "한양대학교           37.557232  127.045322\n",
              "홍익대학교           37.551464  126.925011"
            ]
          },
          "metadata": {
            "tags": []
          },
          "execution_count": 52
        }
      ]
    },
    {
      "cell_type": "code",
      "metadata": {
        "id": "ds2fnELZD17e",
        "colab_type": "code",
        "colab": {
          "base_uri": "https://localhost:8080/",
          "height": 175
        },
        "outputId": "daf4eacf-9955-418d-9c6a-ca57672ce416"
      },
      "source": [
        "df.index "
      ],
      "execution_count": null,
      "outputs": [
        {
          "output_type": "execute_result",
          "data": {
            "text/plain": [
              "Index(['KAIST 서울캠퍼스 ', 'KC대학교', '가톨릭대학교(성신교정)', '가톨릭대학교(성의교정)', '감리교신학대학교',\n",
              "       '건국대학교', '경기대학교 서울캠퍼스 ', '경희대학교 서울캠퍼스 ', '고려대학교', '광운대학교', '국민대학교',\n",
              "       '덕성여자대학교', '동국대학교', '동덕여자대학교', '명지대학교 서울캠퍼스 ', '삼육대학교', '상명대학교 서울캠퍼스 ',\n",
              "       '서강대학교', '서경대학교', '서울과학기술대학교', '서울교육대학교', '서울기독대학교', '서울대학교', '서울시립대학교',\n",
              "       '서울여자대학교', '서울한영대학교', '성공회대학교', '성균관대학교 서울캠퍼스  ', '성신여자대학교', '세종대학교',\n",
              "       '숙명여자대학교', '숭실대학교', '연세대학교', '육군사관학교', '이화여자대학교', '장로회신학대학교',\n",
              "       '중앙대학교 서울캠퍼스 ', '총신대학교', '추계예술대학교', '한국방송통신대학교', '한국성서대학교', '한국예술종합학교',\n",
              "       '한국외국어대학교', '한국체육대학교', '한성대학교', '한양대학교', '홍익대학교'],\n",
              "      dtype='object')"
            ]
          },
          "metadata": {
            "tags": []
          },
          "execution_count": 53
        }
      ]
    },
    {
      "cell_type": "code",
      "metadata": {
        "id": "Xn9Cu1tg40zS",
        "colab_type": "code",
        "colab": {
          "base_uri": "https://localhost:8080/",
          "height": 649
        },
        "outputId": "8b7f7832-2260-4f1d-9d8a-6df7200a27ec"
      },
      "source": [
        "seoul_map = folium.Map(location = [37.55, 126.98], tiles = \"Stamen Terrain\", zoom_start = 12) #서울 지도 생성\n",
        "seoul_map"
      ],
      "execution_count": null,
      "outputs": [
        {
          "output_type": "execute_result",
          "data": {
            "text/html": [
              "<div style=\"width:100%;\"><div style=\"position:relative;width:100%;height:0;padding-bottom:60%;\"><span style=\"color:#565656\">Make this Notebook Trusted to load map: File -> Trust Notebook</span><iframe src=\"about:blank\" style=\"position:absolute;width:100%;height:100%;left:0;top:0;border:none !important;\" data-html=%3C%21DOCTYPE%20html%3E%0A%3Chead%3E%20%20%20%20%0A%20%20%20%20%3Cmeta%20http-equiv%3D%22content-type%22%20content%3D%22text/html%3B%20charset%3DUTF-8%22%20/%3E%0A%20%20%20%20%3Cscript%3EL_PREFER_CANVAS%3Dfalse%3B%20L_NO_TOUCH%3Dfalse%3B%20L_DISABLE_3D%3Dfalse%3B%3C/script%3E%0A%20%20%20%20%3Cscript%20src%3D%22https%3A//cdn.jsdelivr.net/npm/leaflet%401.4.0/dist/leaflet.js%22%3E%3C/script%3E%0A%20%20%20%20%3Cscript%20src%3D%22https%3A//code.jquery.com/jquery-1.12.4.min.js%22%3E%3C/script%3E%0A%20%20%20%20%3Cscript%20src%3D%22https%3A//maxcdn.bootstrapcdn.com/bootstrap/3.2.0/js/bootstrap.min.js%22%3E%3C/script%3E%0A%20%20%20%20%3Cscript%20src%3D%22https%3A//cdnjs.cloudflare.com/ajax/libs/Leaflet.awesome-markers/2.0.2/leaflet.awesome-markers.js%22%3E%3C/script%3E%0A%20%20%20%20%3Clink%20rel%3D%22stylesheet%22%20href%3D%22https%3A//cdn.jsdelivr.net/npm/leaflet%401.4.0/dist/leaflet.css%22/%3E%0A%20%20%20%20%3Clink%20rel%3D%22stylesheet%22%20href%3D%22https%3A//maxcdn.bootstrapcdn.com/bootstrap/3.2.0/css/bootstrap.min.css%22/%3E%0A%20%20%20%20%3Clink%20rel%3D%22stylesheet%22%20href%3D%22https%3A//maxcdn.bootstrapcdn.com/bootstrap/3.2.0/css/bootstrap-theme.min.css%22/%3E%0A%20%20%20%20%3Clink%20rel%3D%22stylesheet%22%20href%3D%22https%3A//maxcdn.bootstrapcdn.com/font-awesome/4.6.3/css/font-awesome.min.css%22/%3E%0A%20%20%20%20%3Clink%20rel%3D%22stylesheet%22%20href%3D%22https%3A//cdnjs.cloudflare.com/ajax/libs/Leaflet.awesome-markers/2.0.2/leaflet.awesome-markers.css%22/%3E%0A%20%20%20%20%3Clink%20rel%3D%22stylesheet%22%20href%3D%22https%3A//rawcdn.githack.com/python-visualization/folium/master/folium/templates/leaflet.awesome.rotate.css%22/%3E%0A%20%20%20%20%3Cstyle%3Ehtml%2C%20body%20%7Bwidth%3A%20100%25%3Bheight%3A%20100%25%3Bmargin%3A%200%3Bpadding%3A%200%3B%7D%3C/style%3E%0A%20%20%20%20%3Cstyle%3E%23map%20%7Bposition%3Aabsolute%3Btop%3A0%3Bbottom%3A0%3Bright%3A0%3Bleft%3A0%3B%7D%3C/style%3E%0A%20%20%20%20%0A%20%20%20%20%3Cmeta%20name%3D%22viewport%22%20content%3D%22width%3Ddevice-width%2C%0A%20%20%20%20%20%20%20%20initial-scale%3D1.0%2C%20maximum-scale%3D1.0%2C%20user-scalable%3Dno%22%20/%3E%0A%20%20%20%20%3Cstyle%3E%23map_80fd2f2a380b47c2867690105c710fb1%20%7B%0A%20%20%20%20%20%20%20%20position%3A%20relative%3B%0A%20%20%20%20%20%20%20%20width%3A%20100.0%25%3B%0A%20%20%20%20%20%20%20%20height%3A%20100.0%25%3B%0A%20%20%20%20%20%20%20%20left%3A%200.0%25%3B%0A%20%20%20%20%20%20%20%20top%3A%200.0%25%3B%0A%20%20%20%20%20%20%20%20%7D%0A%20%20%20%20%3C/style%3E%0A%3C/head%3E%0A%3Cbody%3E%20%20%20%20%0A%20%20%20%20%0A%20%20%20%20%3Cdiv%20class%3D%22folium-map%22%20id%3D%22map_80fd2f2a380b47c2867690105c710fb1%22%20%3E%3C/div%3E%0A%3C/body%3E%0A%3Cscript%3E%20%20%20%20%0A%20%20%20%20%0A%20%20%20%20%0A%20%20%20%20%20%20%20%20var%20bounds%20%3D%20null%3B%0A%20%20%20%20%0A%0A%20%20%20%20var%20map_80fd2f2a380b47c2867690105c710fb1%20%3D%20L.map%28%0A%20%20%20%20%20%20%20%20%27map_80fd2f2a380b47c2867690105c710fb1%27%2C%20%7B%0A%20%20%20%20%20%20%20%20center%3A%20%5B37.55%2C%20126.98%5D%2C%0A%20%20%20%20%20%20%20%20zoom%3A%2012%2C%0A%20%20%20%20%20%20%20%20maxBounds%3A%20bounds%2C%0A%20%20%20%20%20%20%20%20layers%3A%20%5B%5D%2C%0A%20%20%20%20%20%20%20%20worldCopyJump%3A%20false%2C%0A%20%20%20%20%20%20%20%20crs%3A%20L.CRS.EPSG3857%2C%0A%20%20%20%20%20%20%20%20zoomControl%3A%20true%2C%0A%20%20%20%20%20%20%20%20%7D%29%3B%0A%0A%0A%20%20%20%20%0A%20%20%20%20var%20tile_layer_dfec9d9067f14a839876497d46f0a683%20%3D%20L.tileLayer%28%0A%20%20%20%20%20%20%20%20%27https%3A//stamen-tiles-%7Bs%7D.a.ssl.fastly.net/terrain/%7Bz%7D/%7Bx%7D/%7By%7D.jpg%27%2C%0A%20%20%20%20%20%20%20%20%7B%0A%20%20%20%20%20%20%20%20%22attribution%22%3A%20null%2C%0A%20%20%20%20%20%20%20%20%22detectRetina%22%3A%20false%2C%0A%20%20%20%20%20%20%20%20%22maxNativeZoom%22%3A%2018%2C%0A%20%20%20%20%20%20%20%20%22maxZoom%22%3A%2018%2C%0A%20%20%20%20%20%20%20%20%22minZoom%22%3A%200%2C%0A%20%20%20%20%20%20%20%20%22noWrap%22%3A%20false%2C%0A%20%20%20%20%20%20%20%20%22opacity%22%3A%201%2C%0A%20%20%20%20%20%20%20%20%22subdomains%22%3A%20%22abc%22%2C%0A%20%20%20%20%20%20%20%20%22tms%22%3A%20false%0A%7D%29.addTo%28map_80fd2f2a380b47c2867690105c710fb1%29%3B%0A%3C/script%3E onload=\"this.contentDocument.open();this.contentDocument.write(    decodeURIComponent(this.getAttribute('data-html')));this.contentDocument.close();\" allowfullscreen webkitallowfullscreen mozallowfullscreen></iframe></div></div>"
            ],
            "text/plain": [
              "<folium.folium.Map at 0x7f611cadaf28>"
            ]
          },
          "metadata": {
            "tags": []
          },
          "execution_count": 57
        }
      ]
    },
    {
      "cell_type": "code",
      "metadata": {
        "id": "RIkOtz5FFSYl",
        "colab_type": "code",
        "colab": {
          "base_uri": "https://localhost:8080/",
          "height": 649
        },
        "outputId": "6f557c20-2d98-4355-fffb-0cfae982da04"
      },
      "source": [
        "for name, lat, lng in zip(df.index, df[\"위도\"], df[\"경도\"]):\n",
        "  #print(\"name: \", name, \"lat = \", lat, \"lng = \", lng)\n",
        "  folium.Marker(location = [lat, lng], \n",
        "                tooltip = name).add_to(seoul_map)\n",
        "\n",
        "seoul_map"
      ],
      "execution_count": null,
      "outputs": [
        {
          "output_type": "execute_result",
          "data": {
            "text/html": [
              "<div style=\"width:100%;\"><div style=\"position:relative;width:100%;height:0;padding-bottom:60%;\"><span style=\"color:#565656\">Make this Notebook Trusted to load map: File -> Trust Notebook</span><iframe src=\"about:blank\" style=\"position:absolute;width:100%;height:100%;left:0;top:0;border:none !important;\" data-html=%3C%21DOCTYPE%20html%3E%0A%3Chead%3E%20%20%20%20%0A%20%20%20%20%3Cmeta%20http-equiv%3D%22content-type%22%20content%3D%22text/html%3B%20charset%3DUTF-8%22%20/%3E%0A%20%20%20%20%3Cscript%3EL_PREFER_CANVAS%3Dfalse%3B%20L_NO_TOUCH%3Dfalse%3B%20L_DISABLE_3D%3Dfalse%3B%3C/script%3E%0A%20%20%20%20%3Cscript%20src%3D%22https%3A//cdn.jsdelivr.net/npm/leaflet%401.4.0/dist/leaflet.js%22%3E%3C/script%3E%0A%20%20%20%20%3Cscript%20src%3D%22https%3A//code.jquery.com/jquery-1.12.4.min.js%22%3E%3C/script%3E%0A%20%20%20%20%3Cscript%20src%3D%22https%3A//maxcdn.bootstrapcdn.com/bootstrap/3.2.0/js/bootstrap.min.js%22%3E%3C/script%3E%0A%20%20%20%20%3Cscript%20src%3D%22https%3A//cdnjs.cloudflare.com/ajax/libs/Leaflet.awesome-markers/2.0.2/leaflet.awesome-markers.js%22%3E%3C/script%3E%0A%20%20%20%20%3Clink%20rel%3D%22stylesheet%22%20href%3D%22https%3A//cdn.jsdelivr.net/npm/leaflet%401.4.0/dist/leaflet.css%22/%3E%0A%20%20%20%20%3Clink%20rel%3D%22stylesheet%22%20href%3D%22https%3A//maxcdn.bootstrapcdn.com/bootstrap/3.2.0/css/bootstrap.min.css%22/%3E%0A%20%20%20%20%3Clink%20rel%3D%22stylesheet%22%20href%3D%22https%3A//maxcdn.bootstrapcdn.com/bootstrap/3.2.0/css/bootstrap-theme.min.css%22/%3E%0A%20%20%20%20%3Clink%20rel%3D%22stylesheet%22%20href%3D%22https%3A//maxcdn.bootstrapcdn.com/font-awesome/4.6.3/css/font-awesome.min.css%22/%3E%0A%20%20%20%20%3Clink%20rel%3D%22stylesheet%22%20href%3D%22https%3A//cdnjs.cloudflare.com/ajax/libs/Leaflet.awesome-markers/2.0.2/leaflet.awesome-markers.css%22/%3E%0A%20%20%20%20%3Clink%20rel%3D%22stylesheet%22%20href%3D%22https%3A//rawcdn.githack.com/python-visualization/folium/master/folium/templates/leaflet.awesome.rotate.css%22/%3E%0A%20%20%20%20%3Cstyle%3Ehtml%2C%20body%20%7Bwidth%3A%20100%25%3Bheight%3A%20100%25%3Bmargin%3A%200%3Bpadding%3A%200%3B%7D%3C/style%3E%0A%20%20%20%20%3Cstyle%3E%23map%20%7Bposition%3Aabsolute%3Btop%3A0%3Bbottom%3A0%3Bright%3A0%3Bleft%3A0%3B%7D%3C/style%3E%0A%20%20%20%20%0A%20%20%20%20%3Cmeta%20name%3D%22viewport%22%20content%3D%22width%3Ddevice-width%2C%0A%20%20%20%20%20%20%20%20initial-scale%3D1.0%2C%20maximum-scale%3D1.0%2C%20user-scalable%3Dno%22%20/%3E%0A%20%20%20%20%3Cstyle%3E%23map_80fd2f2a380b47c2867690105c710fb1%20%7B%0A%20%20%20%20%20%20%20%20position%3A%20relative%3B%0A%20%20%20%20%20%20%20%20width%3A%20100.0%25%3B%0A%20%20%20%20%20%20%20%20height%3A%20100.0%25%3B%0A%20%20%20%20%20%20%20%20left%3A%200.0%25%3B%0A%20%20%20%20%20%20%20%20top%3A%200.0%25%3B%0A%20%20%20%20%20%20%20%20%7D%0A%20%20%20%20%3C/style%3E%0A%3C/head%3E%0A%3Cbody%3E%20%20%20%20%0A%20%20%20%20%0A%20%20%20%20%3Cdiv%20class%3D%22folium-map%22%20id%3D%22map_80fd2f2a380b47c2867690105c710fb1%22%20%3E%3C/div%3E%0A%3C/body%3E%0A%3Cscript%3E%20%20%20%20%0A%20%20%20%20%0A%20%20%20%20%0A%20%20%20%20%20%20%20%20var%20bounds%20%3D%20null%3B%0A%20%20%20%20%0A%0A%20%20%20%20var%20map_80fd2f2a380b47c2867690105c710fb1%20%3D%20L.map%28%0A%20%20%20%20%20%20%20%20%27map_80fd2f2a380b47c2867690105c710fb1%27%2C%20%7B%0A%20%20%20%20%20%20%20%20center%3A%20%5B37.55%2C%20126.98%5D%2C%0A%20%20%20%20%20%20%20%20zoom%3A%2012%2C%0A%20%20%20%20%20%20%20%20maxBounds%3A%20bounds%2C%0A%20%20%20%20%20%20%20%20layers%3A%20%5B%5D%2C%0A%20%20%20%20%20%20%20%20worldCopyJump%3A%20false%2C%0A%20%20%20%20%20%20%20%20crs%3A%20L.CRS.EPSG3857%2C%0A%20%20%20%20%20%20%20%20zoomControl%3A%20true%2C%0A%20%20%20%20%20%20%20%20%7D%29%3B%0A%0A%0A%20%20%20%20%0A%20%20%20%20var%20tile_layer_dfec9d9067f14a839876497d46f0a683%20%3D%20L.tileLayer%28%0A%20%20%20%20%20%20%20%20%27https%3A//stamen-tiles-%7Bs%7D.a.ssl.fastly.net/terrain/%7Bz%7D/%7Bx%7D/%7By%7D.jpg%27%2C%0A%20%20%20%20%20%20%20%20%7B%0A%20%20%20%20%20%20%20%20%22attribution%22%3A%20null%2C%0A%20%20%20%20%20%20%20%20%22detectRetina%22%3A%20false%2C%0A%20%20%20%20%20%20%20%20%22maxNativeZoom%22%3A%2018%2C%0A%20%20%20%20%20%20%20%20%22maxZoom%22%3A%2018%2C%0A%20%20%20%20%20%20%20%20%22minZoom%22%3A%200%2C%0A%20%20%20%20%20%20%20%20%22noWrap%22%3A%20false%2C%0A%20%20%20%20%20%20%20%20%22opacity%22%3A%201%2C%0A%20%20%20%20%20%20%20%20%22subdomains%22%3A%20%22abc%22%2C%0A%20%20%20%20%20%20%20%20%22tms%22%3A%20false%0A%7D%29.addTo%28map_80fd2f2a380b47c2867690105c710fb1%29%3B%0A%20%20%20%20%0A%20%20%20%20%20%20%20%20var%20marker_830fb69c178745c1906c414497b66c13%20%3D%20L.marker%28%0A%20%20%20%20%20%20%20%20%20%20%20%20%5B37.592573%2C%20127.046737%5D%2C%0A%20%20%20%20%20%20%20%20%20%20%20%20%7B%0A%20%20%20%20%20%20%20%20%20%20%20%20%20%20%20%20icon%3A%20new%20L.Icon.Default%28%29%2C%0A%20%20%20%20%20%20%20%20%20%20%20%20%20%20%20%20%7D%0A%20%20%20%20%20%20%20%20%20%20%20%20%29.addTo%28map_80fd2f2a380b47c2867690105c710fb1%29%3B%0A%20%20%20%20%20%20%20%20%0A%20%20%20%20%0A%20%20%20%20%20%20%20%20var%20marker_79c879ed722e44e6b0588db11ebe7644%20%3D%20L.marker%28%0A%20%20%20%20%20%20%20%20%20%20%20%20%5B37.5483449%2C%20126.8547974%5D%2C%0A%20%20%20%20%20%20%20%20%20%20%20%20%7B%0A%20%20%20%20%20%20%20%20%20%20%20%20%20%20%20%20icon%3A%20new%20L.Icon.Default%28%29%2C%0A%20%20%20%20%20%20%20%20%20%20%20%20%20%20%20%20%7D%0A%20%20%20%20%20%20%20%20%20%20%20%20%29.addTo%28map_80fd2f2a380b47c2867690105c710fb1%29%3B%0A%20%20%20%20%20%20%20%20%0A%20%20%20%20%0A%20%20%20%20%20%20%20%20var%20marker_03e4dc37dae7445db060ff153f0dc3c1%20%3D%20L.marker%28%0A%20%20%20%20%20%20%20%20%20%20%20%20%5B37.5859218%2C%20127.0043275%5D%2C%0A%20%20%20%20%20%20%20%20%20%20%20%20%7B%0A%20%20%20%20%20%20%20%20%20%20%20%20%20%20%20%20icon%3A%20new%20L.Icon.Default%28%29%2C%0A%20%20%20%20%20%20%20%20%20%20%20%20%20%20%20%20%7D%0A%20%20%20%20%20%20%20%20%20%20%20%20%29.addTo%28map_80fd2f2a380b47c2867690105c710fb1%29%3B%0A%20%20%20%20%20%20%20%20%0A%20%20%20%20%0A%20%20%20%20%20%20%20%20var%20marker_06b35e037b124ca2939f8eda265535e6%20%3D%20L.marker%28%0A%20%20%20%20%20%20%20%20%20%20%20%20%5B37.4996227%2C%20127.0060653%5D%2C%0A%20%20%20%20%20%20%20%20%20%20%20%20%7B%0A%20%20%20%20%20%20%20%20%20%20%20%20%20%20%20%20icon%3A%20new%20L.Icon.Default%28%29%2C%0A%20%20%20%20%20%20%20%20%20%20%20%20%20%20%20%20%7D%0A%20%20%20%20%20%20%20%20%20%20%20%20%29.addTo%28map_80fd2f2a380b47c2867690105c710fb1%29%3B%0A%20%20%20%20%20%20%20%20%0A%20%20%20%20%0A%20%20%20%20%20%20%20%20var%20marker_31e94777fed24c859e6962825285486d%20%3D%20L.marker%28%0A%20%20%20%20%20%20%20%20%20%20%20%20%5B37.5676455%2C%20126.96161%5D%2C%0A%20%20%20%20%20%20%20%20%20%20%20%20%7B%0A%20%20%20%20%20%20%20%20%20%20%20%20%20%20%20%20icon%3A%20new%20L.Icon.Default%28%29%2C%0A%20%20%20%20%20%20%20%20%20%20%20%20%20%20%20%20%7D%0A%20%20%20%20%20%20%20%20%20%20%20%20%29.addTo%28map_80fd2f2a380b47c2867690105c710fb1%29%3B%0A%20%20%20%20%20%20%20%20%0A%20%20%20%20%0A%20%20%20%20%20%20%20%20var%20marker_00652cc1cbb6439e96811befd64c42ff%20%3D%20L.marker%28%0A%20%20%20%20%20%20%20%20%20%20%20%20%5B37.5407625%2C%20127.0793428%5D%2C%0A%20%20%20%20%20%20%20%20%20%20%20%20%7B%0A%20%20%20%20%20%20%20%20%20%20%20%20%20%20%20%20icon%3A%20new%20L.Icon.Default%28%29%2C%0A%20%20%20%20%20%20%20%20%20%20%20%20%20%20%20%20%7D%0A%20%20%20%20%20%20%20%20%20%20%20%20%29.addTo%28map_80fd2f2a380b47c2867690105c710fb1%29%3B%0A%20%20%20%20%20%20%20%20%0A%20%20%20%20%0A%20%20%20%20%20%20%20%20var%20marker_7fdcffaa2a4d44348fa9252ced46b600%20%3D%20L.marker%28%0A%20%20%20%20%20%20%20%20%20%20%20%20%5B37.30048499999999%2C%20127.035833%5D%2C%0A%20%20%20%20%20%20%20%20%20%20%20%20%7B%0A%20%20%20%20%20%20%20%20%20%20%20%20%20%20%20%20icon%3A%20new%20L.Icon.Default%28%29%2C%0A%20%20%20%20%20%20%20%20%20%20%20%20%20%20%20%20%7D%0A%20%20%20%20%20%20%20%20%20%20%20%20%29.addTo%28map_80fd2f2a380b47c2867690105c710fb1%29%3B%0A%20%20%20%20%20%20%20%20%0A%20%20%20%20%0A%20%20%20%20%20%20%20%20var%20marker_4f77734aa25948f49d711fe40c919c5f%20%3D%20L.marker%28%0A%20%20%20%20%20%20%20%20%20%20%20%20%5B37.5961951%2C%20127.052544%5D%2C%0A%20%20%20%20%20%20%20%20%20%20%20%20%7B%0A%20%20%20%20%20%20%20%20%20%20%20%20%20%20%20%20icon%3A%20new%20L.Icon.Default%28%29%2C%0A%20%20%20%20%20%20%20%20%20%20%20%20%20%20%20%20%7D%0A%20%20%20%20%20%20%20%20%20%20%20%20%29.addTo%28map_80fd2f2a380b47c2867690105c710fb1%29%3B%0A%20%20%20%20%20%20%20%20%0A%20%20%20%20%0A%20%20%20%20%20%20%20%20var%20marker_87ed6461e5fe4aeb8af51fafc5de1e64%20%3D%20L.marker%28%0A%20%20%20%20%20%20%20%20%20%20%20%20%5B33.8477818%2C%20-117.9777482%5D%2C%0A%20%20%20%20%20%20%20%20%20%20%20%20%7B%0A%20%20%20%20%20%20%20%20%20%20%20%20%20%20%20%20icon%3A%20new%20L.Icon.Default%28%29%2C%0A%20%20%20%20%20%20%20%20%20%20%20%20%20%20%20%20%7D%0A%20%20%20%20%20%20%20%20%20%20%20%20%29.addTo%28map_80fd2f2a380b47c2867690105c710fb1%29%3B%0A%20%20%20%20%20%20%20%20%0A%20%20%20%20%0A%20%20%20%20%20%20%20%20var%20marker_95e26b8e94a043fda3371975859cbed2%20%3D%20L.marker%28%0A%20%20%20%20%20%20%20%20%20%20%20%20%5B37.6194965%2C%20127.0596958%5D%2C%0A%20%20%20%20%20%20%20%20%20%20%20%20%7B%0A%20%20%20%20%20%20%20%20%20%20%20%20%20%20%20%20icon%3A%20new%20L.Icon.Default%28%29%2C%0A%20%20%20%20%20%20%20%20%20%20%20%20%20%20%20%20%7D%0A%20%20%20%20%20%20%20%20%20%20%20%20%29.addTo%28map_80fd2f2a380b47c2867690105c710fb1%29%3B%0A%20%20%20%20%20%20%20%20%0A%20%20%20%20%0A%20%20%20%20%20%20%20%20var%20marker_15095ecbf0994439ae11703a8d39e56d%20%3D%20L.marker%28%0A%20%20%20%20%20%20%20%20%20%20%20%20%5B37.6096409%2C%20126.997697%5D%2C%0A%20%20%20%20%20%20%20%20%20%20%20%20%7B%0A%20%20%20%20%20%20%20%20%20%20%20%20%20%20%20%20icon%3A%20new%20L.Icon.Default%28%29%2C%0A%20%20%20%20%20%20%20%20%20%20%20%20%20%20%20%20%7D%0A%20%20%20%20%20%20%20%20%20%20%20%20%29.addTo%28map_80fd2f2a380b47c2867690105c710fb1%29%3B%0A%20%20%20%20%20%20%20%20%0A%20%20%20%20%0A%20%20%20%20%20%20%20%20var%20marker_e2592bed0e0c4baa8bf2483d093a73f5%20%3D%20L.marker%28%0A%20%20%20%20%20%20%20%20%20%20%20%20%5B37.6511988%2C%20127.0161604%5D%2C%0A%20%20%20%20%20%20%20%20%20%20%20%20%7B%0A%20%20%20%20%20%20%20%20%20%20%20%20%20%20%20%20icon%3A%20new%20L.Icon.Default%28%29%2C%0A%20%20%20%20%20%20%20%20%20%20%20%20%20%20%20%20%7D%0A%20%20%20%20%20%20%20%20%20%20%20%20%29.addTo%28map_80fd2f2a380b47c2867690105c710fb1%29%3B%0A%20%20%20%20%20%20%20%20%0A%20%20%20%20%0A%20%20%20%20%20%20%20%20var%20marker_d1c68ecfb585447fb9c26d4c4bd9c87f%20%3D%20L.marker%28%0A%20%20%20%20%20%20%20%20%20%20%20%20%5B37.5574771%2C%20127.0020518%5D%2C%0A%20%20%20%20%20%20%20%20%20%20%20%20%7B%0A%20%20%20%20%20%20%20%20%20%20%20%20%20%20%20%20icon%3A%20new%20L.Icon.Default%28%29%2C%0A%20%20%20%20%20%20%20%20%20%20%20%20%20%20%20%20%7D%0A%20%20%20%20%20%20%20%20%20%20%20%20%29.addTo%28map_80fd2f2a380b47c2867690105c710fb1%29%3B%0A%20%20%20%20%20%20%20%20%0A%20%20%20%20%0A%20%20%20%20%20%20%20%20var%20marker_8ddcdc6c950f40459c374d58d88dc6c6%20%3D%20L.marker%28%0A%20%20%20%20%20%20%20%20%20%20%20%20%5B37.6063202%2C%20127.041808%5D%2C%0A%20%20%20%20%20%20%20%20%20%20%20%20%7B%0A%20%20%20%20%20%20%20%20%20%20%20%20%20%20%20%20icon%3A%20new%20L.Icon.Default%28%29%2C%0A%20%20%20%20%20%20%20%20%20%20%20%20%20%20%20%20%7D%0A%20%20%20%20%20%20%20%20%20%20%20%20%29.addTo%28map_80fd2f2a380b47c2867690105c710fb1%29%3B%0A%20%20%20%20%20%20%20%20%0A%20%20%20%20%0A%20%20%20%20%20%20%20%20var%20marker_3e900d96fd514d39b329e96caa521325%20%3D%20L.marker%28%0A%20%20%20%20%20%20%20%20%20%20%20%20%5B37.5802046%2C%20126.9234451%5D%2C%0A%20%20%20%20%20%20%20%20%20%20%20%20%7B%0A%20%20%20%20%20%20%20%20%20%20%20%20%20%20%20%20icon%3A%20new%20L.Icon.Default%28%29%2C%0A%20%20%20%20%20%20%20%20%20%20%20%20%20%20%20%20%7D%0A%20%20%20%20%20%20%20%20%20%20%20%20%29.addTo%28map_80fd2f2a380b47c2867690105c710fb1%29%3B%0A%20%20%20%20%20%20%20%20%0A%20%20%20%20%0A%20%20%20%20%20%20%20%20var%20marker_2cd1bf878c0e4ee7b1d9024d03465d18%20%3D%20L.marker%28%0A%20%20%20%20%20%20%20%20%20%20%20%20%5B37.6429515%2C%20127.1054757%5D%2C%0A%20%20%20%20%20%20%20%20%20%20%20%20%7B%0A%20%20%20%20%20%20%20%20%20%20%20%20%20%20%20%20icon%3A%20new%20L.Icon.Default%28%29%2C%0A%20%20%20%20%20%20%20%20%20%20%20%20%20%20%20%20%7D%0A%20%20%20%20%20%20%20%20%20%20%20%20%29.addTo%28map_80fd2f2a380b47c2867690105c710fb1%29%3B%0A%20%20%20%20%20%20%20%20%0A%20%20%20%20%0A%20%20%20%20%20%20%20%20var%20marker_f38fbf19fb74446999a84a7e00ebeb1e%20%3D%20L.marker%28%0A%20%20%20%20%20%20%20%20%20%20%20%20%5B37.602638%2C%20126.955252%5D%2C%0A%20%20%20%20%20%20%20%20%20%20%20%20%7B%0A%20%20%20%20%20%20%20%20%20%20%20%20%20%20%20%20icon%3A%20new%20L.Icon.Default%28%29%2C%0A%20%20%20%20%20%20%20%20%20%20%20%20%20%20%20%20%7D%0A%20%20%20%20%20%20%20%20%20%20%20%20%29.addTo%28map_80fd2f2a380b47c2867690105c710fb1%29%3B%0A%20%20%20%20%20%20%20%20%0A%20%20%20%20%0A%20%20%20%20%20%20%20%20var%20marker_6336db404c3f493bb03de87e5daedc4a%20%3D%20L.marker%28%0A%20%20%20%20%20%20%20%20%20%20%20%20%5B37.5509442%2C%20126.9410023%5D%2C%0A%20%20%20%20%20%20%20%20%20%20%20%20%7B%0A%20%20%20%20%20%20%20%20%20%20%20%20%20%20%20%20icon%3A%20new%20L.Icon.Default%28%29%2C%0A%20%20%20%20%20%20%20%20%20%20%20%20%20%20%20%20%7D%0A%20%20%20%20%20%20%20%20%20%20%20%20%29.addTo%28map_80fd2f2a380b47c2867690105c710fb1%29%3B%0A%20%20%20%20%20%20%20%20%0A%20%20%20%20%0A%20%20%20%20%20%20%20%20var%20marker_bf301c020bae4411a8b12a545b2974fe%20%3D%20L.marker%28%0A%20%20%20%20%20%20%20%20%20%20%20%20%5B37.615095%2C%20127.0131113%5D%2C%0A%20%20%20%20%20%20%20%20%20%20%20%20%7B%0A%20%20%20%20%20%20%20%20%20%20%20%20%20%20%20%20icon%3A%20new%20L.Icon.Default%28%29%2C%0A%20%20%20%20%20%20%20%20%20%20%20%20%20%20%20%20%7D%0A%20%20%20%20%20%20%20%20%20%20%20%20%29.addTo%28map_80fd2f2a380b47c2867690105c710fb1%29%3B%0A%20%20%20%20%20%20%20%20%0A%20%20%20%20%0A%20%20%20%20%20%20%20%20var%20marker_09a550809e594655b1901cb0b272cbd8%20%3D%20L.marker%28%0A%20%20%20%20%20%20%20%20%20%20%20%20%5B37.6316684%2C%20127.0774813%5D%2C%0A%20%20%20%20%20%20%20%20%20%20%20%20%7B%0A%20%20%20%20%20%20%20%20%20%20%20%20%20%20%20%20icon%3A%20new%20L.Icon.Default%28%29%2C%0A%20%20%20%20%20%20%20%20%20%20%20%20%20%20%20%20%7D%0A%20%20%20%20%20%20%20%20%20%20%20%20%29.addTo%28map_80fd2f2a380b47c2867690105c710fb1%29%3B%0A%20%20%20%20%20%20%20%20%0A%20%20%20%20%0A%20%20%20%20%20%20%20%20var%20marker_817570f178da4ba1be1b3be53e731764%20%3D%20L.marker%28%0A%20%20%20%20%20%20%20%20%20%20%20%20%5B37.4899615%2C%20127.0164124%5D%2C%0A%20%20%20%20%20%20%20%20%20%20%20%20%7B%0A%20%20%20%20%20%20%20%20%20%20%20%20%20%20%20%20icon%3A%20new%20L.Icon.Default%28%29%2C%0A%20%20%20%20%20%20%20%20%20%20%20%20%20%20%20%20%7D%0A%20%20%20%20%20%20%20%20%20%20%20%20%29.addTo%28map_80fd2f2a380b47c2867690105c710fb1%29%3B%0A%20%20%20%20%20%20%20%20%0A%20%20%20%20%0A%20%20%20%20%20%20%20%20var%20marker_5280c8b028c94923835c02a739ca0a17%20%3D%20L.marker%28%0A%20%20%20%20%20%20%20%20%20%20%20%20%5B37.6009228%2C%20126.9123818%5D%2C%0A%20%20%20%20%20%20%20%20%20%20%20%20%7B%0A%20%20%20%20%20%20%20%20%20%20%20%20%20%20%20%20icon%3A%20new%20L.Icon.Default%28%29%2C%0A%20%20%20%20%20%20%20%20%20%20%20%20%20%20%20%20%7D%0A%20%20%20%20%20%20%20%20%20%20%20%20%29.addTo%28map_80fd2f2a380b47c2867690105c710fb1%29%3B%0A%20%20%20%20%20%20%20%20%0A%20%20%20%20%0A%20%20%20%20%20%20%20%20var%20marker_ab4eef1d540d42628780f464a6cbbda3%20%3D%20L.marker%28%0A%20%20%20%20%20%20%20%20%20%20%20%20%5B37.459882%2C%20126.9519053%5D%2C%0A%20%20%20%20%20%20%20%20%20%20%20%20%7B%0A%20%20%20%20%20%20%20%20%20%20%20%20%20%20%20%20icon%3A%20new%20L.Icon.Default%28%29%2C%0A%20%20%20%20%20%20%20%20%20%20%20%20%20%20%20%20%7D%0A%20%20%20%20%20%20%20%20%20%20%20%20%29.addTo%28map_80fd2f2a380b47c2867690105c710fb1%29%3B%0A%20%20%20%20%20%20%20%20%0A%20%20%20%20%0A%20%20%20%20%20%20%20%20var%20marker_fbe6a72c50a6472dbaaebbaa751a6ca2%20%3D%20L.marker%28%0A%20%20%20%20%20%20%20%20%20%20%20%20%5B37.5838657%2C%20127.0587771%5D%2C%0A%20%20%20%20%20%20%20%20%20%20%20%20%7B%0A%20%20%20%20%20%20%20%20%20%20%20%20%20%20%20%20icon%3A%20new%20L.Icon.Default%28%29%2C%0A%20%20%20%20%20%20%20%20%20%20%20%20%20%20%20%20%7D%0A%20%20%20%20%20%20%20%20%20%20%20%20%29.addTo%28map_80fd2f2a380b47c2867690105c710fb1%29%3B%0A%20%20%20%20%20%20%20%20%0A%20%20%20%20%0A%20%20%20%20%20%20%20%20var%20marker_a01bbea79240429780425bef092cd7cf%20%3D%20L.marker%28%0A%20%20%20%20%20%20%20%20%20%20%20%20%5B37.6281126%2C%20127.0904568%5D%2C%0A%20%20%20%20%20%20%20%20%20%20%20%20%7B%0A%20%20%20%20%20%20%20%20%20%20%20%20%20%20%20%20icon%3A%20new%20L.Icon.Default%28%29%2C%0A%20%20%20%20%20%20%20%20%20%20%20%20%20%20%20%20%7D%0A%20%20%20%20%20%20%20%20%20%20%20%20%29.addTo%28map_80fd2f2a380b47c2867690105c710fb1%29%3B%0A%20%20%20%20%20%20%20%20%0A%20%20%20%20%0A%20%20%20%20%20%20%20%20var%20marker_fbd806496bb049d1ba562864b391b5a1%20%3D%20L.marker%28%0A%20%20%20%20%20%20%20%20%20%20%20%20%5B37.4965411%2C%20126.8512616%5D%2C%0A%20%20%20%20%20%20%20%20%20%20%20%20%7B%0A%20%20%20%20%20%20%20%20%20%20%20%20%20%20%20%20icon%3A%20new%20L.Icon.Default%28%29%2C%0A%20%20%20%20%20%20%20%20%20%20%20%20%20%20%20%20%7D%0A%20%20%20%20%20%20%20%20%20%20%20%20%29.addTo%28map_80fd2f2a380b47c2867690105c710fb1%29%3B%0A%20%20%20%20%20%20%20%20%0A%20%20%20%20%0A%20%20%20%20%20%20%20%20var%20marker_972b46020659420689f7edd12647c800%20%3D%20L.marker%28%0A%20%20%20%20%20%20%20%20%20%20%20%20%5B37.4872325%2C%20126.8253202%5D%2C%0A%20%20%20%20%20%20%20%20%20%20%20%20%7B%0A%20%20%20%20%20%20%20%20%20%20%20%20%20%20%20%20icon%3A%20new%20L.Icon.Default%28%29%2C%0A%20%20%20%20%20%20%20%20%20%20%20%20%20%20%20%20%7D%0A%20%20%20%20%20%20%20%20%20%20%20%20%29.addTo%28map_80fd2f2a380b47c2867690105c710fb1%29%3B%0A%20%20%20%20%20%20%20%20%0A%20%20%20%20%0A%20%20%20%20%20%20%20%20var%20marker_2f2356d8cf184117a531679d11a03f02%20%3D%20L.marker%28%0A%20%20%20%20%20%20%20%20%20%20%20%20%5B37.588227%2C%20126.993606%5D%2C%0A%20%20%20%20%20%20%20%20%20%20%20%20%7B%0A%20%20%20%20%20%20%20%20%20%20%20%20%20%20%20%20icon%3A%20new%20L.Icon.Default%28%29%2C%0A%20%20%20%20%20%20%20%20%20%20%20%20%20%20%20%20%7D%0A%20%20%20%20%20%20%20%20%20%20%20%20%29.addTo%28map_80fd2f2a380b47c2867690105c710fb1%29%3B%0A%20%20%20%20%20%20%20%20%0A%20%20%20%20%0A%20%20%20%20%20%20%20%20var%20marker_08b47d7e322b4210b10d7c5ec6dc45c5%20%3D%20L.marker%28%0A%20%20%20%20%20%20%20%20%20%20%20%20%5B37.5913103%2C%20127.0221312%5D%2C%0A%20%20%20%20%20%20%20%20%20%20%20%20%7B%0A%20%20%20%20%20%20%20%20%20%20%20%20%20%20%20%20icon%3A%20new%20L.Icon.Default%28%29%2C%0A%20%20%20%20%20%20%20%20%20%20%20%20%20%20%20%20%7D%0A%20%20%20%20%20%20%20%20%20%20%20%20%29.addTo%28map_80fd2f2a380b47c2867690105c710fb1%29%3B%0A%20%20%20%20%20%20%20%20%0A%20%20%20%20%0A%20%20%20%20%20%20%20%20var%20marker_9a47102efdad467caa6945eb3378dd28%20%3D%20L.marker%28%0A%20%20%20%20%20%20%20%20%20%20%20%20%5B37.5502596%2C%20127.073139%5D%2C%0A%20%20%20%20%20%20%20%20%20%20%20%20%7B%0A%20%20%20%20%20%20%20%20%20%20%20%20%20%20%20%20icon%3A%20new%20L.Icon.Default%28%29%2C%0A%20%20%20%20%20%20%20%20%20%20%20%20%20%20%20%20%7D%0A%20%20%20%20%20%20%20%20%20%20%20%20%29.addTo%28map_80fd2f2a380b47c2867690105c710fb1%29%3B%0A%20%20%20%20%20%20%20%20%0A%20%20%20%20%0A%20%20%20%20%20%20%20%20var%20marker_9aa5f126ce144c28b671f14c166cf52b%20%3D%20L.marker%28%0A%20%20%20%20%20%20%20%20%20%20%20%20%5B37.5463644%2C%20126.9648311%5D%2C%0A%20%20%20%20%20%20%20%20%20%20%20%20%7B%0A%20%20%20%20%20%20%20%20%20%20%20%20%20%20%20%20icon%3A%20new%20L.Icon.Default%28%29%2C%0A%20%20%20%20%20%20%20%20%20%20%20%20%20%20%20%20%7D%0A%20%20%20%20%20%20%20%20%20%20%20%20%29.addTo%28map_80fd2f2a380b47c2867690105c710fb1%29%3B%0A%20%20%20%20%20%20%20%20%0A%20%20%20%20%0A%20%20%20%20%20%20%20%20var%20marker_3ffca818a31e4cc4961bf0c3cd780975%20%3D%20L.marker%28%0A%20%20%20%20%20%20%20%20%20%20%20%20%5B37.4963111%2C%20126.9574596%5D%2C%0A%20%20%20%20%20%20%20%20%20%20%20%20%7B%0A%20%20%20%20%20%20%20%20%20%20%20%20%20%20%20%20icon%3A%20new%20L.Icon.Default%28%29%2C%0A%20%20%20%20%20%20%20%20%20%20%20%20%20%20%20%20%7D%0A%20%20%20%20%20%20%20%20%20%20%20%20%29.addTo%28map_80fd2f2a380b47c2867690105c710fb1%29%3B%0A%20%20%20%20%20%20%20%20%0A%20%20%20%20%0A%20%20%20%20%20%20%20%20var%20marker_ab00563f10d947d5a4103fad0b08ac42%20%3D%20L.marker%28%0A%20%20%20%20%20%20%20%20%20%20%20%20%5B37.565784%2C%20126.938572%5D%2C%0A%20%20%20%20%20%20%20%20%20%20%20%20%7B%0A%20%20%20%20%20%20%20%20%20%20%20%20%20%20%20%20icon%3A%20new%20L.Icon.Default%28%29%2C%0A%20%20%20%20%20%20%20%20%20%20%20%20%20%20%20%20%7D%0A%20%20%20%20%20%20%20%20%20%20%20%20%29.addTo%28map_80fd2f2a380b47c2867690105c710fb1%29%3B%0A%20%20%20%20%20%20%20%20%0A%20%20%20%20%0A%20%20%20%20%20%20%20%20var%20marker_93a1ecdf344c4b89ab0bcad10d3ff9a0%20%3D%20L.marker%28%0A%20%20%20%20%20%20%20%20%20%20%20%20%5B37.6238188%2C%20127.0988783%5D%2C%0A%20%20%20%20%20%20%20%20%20%20%20%20%7B%0A%20%20%20%20%20%20%20%20%20%20%20%20%20%20%20%20icon%3A%20new%20L.Icon.Default%28%29%2C%0A%20%20%20%20%20%20%20%20%20%20%20%20%20%20%20%20%7D%0A%20%20%20%20%20%20%20%20%20%20%20%20%29.addTo%28map_80fd2f2a380b47c2867690105c710fb1%29%3B%0A%20%20%20%20%20%20%20%20%0A%20%20%20%20%0A%20%20%20%20%20%20%20%20var%20marker_9955fa1a260a4fc3bc7454e8a1cdef96%20%3D%20L.marker%28%0A%20%20%20%20%20%20%20%20%20%20%20%20%5B37.5643079%2C%20126.9501786%5D%2C%0A%20%20%20%20%20%20%20%20%20%20%20%20%7B%0A%20%20%20%20%20%20%20%20%20%20%20%20%20%20%20%20icon%3A%20new%20L.Icon.Default%28%29%2C%0A%20%20%20%20%20%20%20%20%20%20%20%20%20%20%20%20%7D%0A%20%20%20%20%20%20%20%20%20%20%20%20%29.addTo%28map_80fd2f2a380b47c2867690105c710fb1%29%3B%0A%20%20%20%20%20%20%20%20%0A%20%20%20%20%0A%20%20%20%20%20%20%20%20var%20marker_e11a04abe3874f9788b68d398ce21f87%20%3D%20L.marker%28%0A%20%20%20%20%20%20%20%20%20%20%20%20%5B37.5505112%2C%20127.1034577%5D%2C%0A%20%20%20%20%20%20%20%20%20%20%20%20%7B%0A%20%20%20%20%20%20%20%20%20%20%20%20%20%20%20%20icon%3A%20new%20L.Icon.Default%28%29%2C%0A%20%20%20%20%20%20%20%20%20%20%20%20%20%20%20%20%7D%0A%20%20%20%20%20%20%20%20%20%20%20%20%29.addTo%28map_80fd2f2a380b47c2867690105c710fb1%29%3B%0A%20%20%20%20%20%20%20%20%0A%20%20%20%20%0A%20%20%20%20%20%20%20%20var%20marker_e49ad5d6f01f42dca0a7b83505dfbc07%20%3D%20L.marker%28%0A%20%20%20%20%20%20%20%20%20%20%20%20%5B37.5050881%2C%20126.9571012%5D%2C%0A%20%20%20%20%20%20%20%20%20%20%20%20%7B%0A%20%20%20%20%20%20%20%20%20%20%20%20%20%20%20%20icon%3A%20new%20L.Icon.Default%28%29%2C%0A%20%20%20%20%20%20%20%20%20%20%20%20%20%20%20%20%7D%0A%20%20%20%20%20%20%20%20%20%20%20%20%29.addTo%28map_80fd2f2a380b47c2867690105c710fb1%29%3B%0A%20%20%20%20%20%20%20%20%0A%20%20%20%20%0A%20%20%20%20%20%20%20%20var%20marker_29f85ac7cc574e9283b1ca821a694bd1%20%3D%20L.marker%28%0A%20%20%20%20%20%20%20%20%20%20%20%20%5B37.4886232%2C%20126.9668169%5D%2C%0A%20%20%20%20%20%20%20%20%20%20%20%20%7B%0A%20%20%20%20%20%20%20%20%20%20%20%20%20%20%20%20icon%3A%20new%20L.Icon.Default%28%29%2C%0A%20%20%20%20%20%20%20%20%20%20%20%20%20%20%20%20%7D%0A%20%20%20%20%20%20%20%20%20%20%20%20%29.addTo%28map_80fd2f2a380b47c2867690105c710fb1%29%3B%0A%20%20%20%20%20%20%20%20%0A%20%20%20%20%0A%20%20%20%20%20%20%20%20var%20marker_02271b2fe6d14e8b8e2df64db5eb2f57%20%3D%20L.marker%28%0A%20%20%20%20%20%20%20%20%20%20%20%20%5B37.5624515%2C%20126.9534165%5D%2C%0A%20%20%20%20%20%20%20%20%20%20%20%20%7B%0A%20%20%20%20%20%20%20%20%20%20%20%20%20%20%20%20icon%3A%20new%20L.Icon.Default%28%29%2C%0A%20%20%20%20%20%20%20%20%20%20%20%20%20%20%20%20%7D%0A%20%20%20%20%20%20%20%20%20%20%20%20%29.addTo%28map_80fd2f2a380b47c2867690105c710fb1%29%3B%0A%20%20%20%20%20%20%20%20%0A%20%20%20%20%0A%20%20%20%20%20%20%20%20var%20marker_75facc216e4e4d56a6187d92d2ee38cd%20%3D%20L.marker%28%0A%20%20%20%20%20%20%20%20%20%20%20%20%5B37.5786127%2C%20127.0032905%5D%2C%0A%20%20%20%20%20%20%20%20%20%20%20%20%7B%0A%20%20%20%20%20%20%20%20%20%20%20%20%20%20%20%20icon%3A%20new%20L.Icon.Default%28%29%2C%0A%20%20%20%20%20%20%20%20%20%20%20%20%20%20%20%20%7D%0A%20%20%20%20%20%20%20%20%20%20%20%20%29.addTo%28map_80fd2f2a380b47c2867690105c710fb1%29%3B%0A%20%20%20%20%20%20%20%20%0A%20%20%20%20%0A%20%20%20%20%20%20%20%20var%20marker_d4d790d46eb2454bbaf55afb8e070a45%20%3D%20L.marker%28%0A%20%20%20%20%20%20%20%20%20%20%20%20%5B37.6487485%2C%20127.0643199%5D%2C%0A%20%20%20%20%20%20%20%20%20%20%20%20%7B%0A%20%20%20%20%20%20%20%20%20%20%20%20%20%20%20%20icon%3A%20new%20L.Icon.Default%28%29%2C%0A%20%20%20%20%20%20%20%20%20%20%20%20%20%20%20%20%7D%0A%20%20%20%20%20%20%20%20%20%20%20%20%29.addTo%28map_80fd2f2a380b47c2867690105c710fb1%29%3B%0A%20%20%20%20%20%20%20%20%0A%20%20%20%20%0A%20%20%20%20%20%20%20%20var%20marker_9ea5abec1f08439790687f1d6bf6fd3a%20%3D%20L.marker%28%0A%20%20%20%20%20%20%20%20%20%20%20%20%5B37.6049973%2C%20127.0567397%5D%2C%0A%20%20%20%20%20%20%20%20%20%20%20%20%7B%0A%20%20%20%20%20%20%20%20%20%20%20%20%20%20%20%20icon%3A%20new%20L.Icon.Default%28%29%2C%0A%20%20%20%20%20%20%20%20%20%20%20%20%20%20%20%20%7D%0A%20%20%20%20%20%20%20%20%20%20%20%20%29.addTo%28map_80fd2f2a380b47c2867690105c710fb1%29%3B%0A%20%20%20%20%20%20%20%20%0A%20%20%20%20%0A%20%20%20%20%20%20%20%20var%20marker_9a910468043b4ba4b110e2deaa96b52e%20%3D%20L.marker%28%0A%20%20%20%20%20%20%20%20%20%20%20%20%5B37.597319%2C%20127.057843%5D%2C%0A%20%20%20%20%20%20%20%20%20%20%20%20%7B%0A%20%20%20%20%20%20%20%20%20%20%20%20%20%20%20%20icon%3A%20new%20L.Icon.Default%28%29%2C%0A%20%20%20%20%20%20%20%20%20%20%20%20%20%20%20%20%7D%0A%20%20%20%20%20%20%20%20%20%20%20%20%29.addTo%28map_80fd2f2a380b47c2867690105c710fb1%29%3B%0A%20%20%20%20%20%20%20%20%0A%20%20%20%20%0A%20%20%20%20%20%20%20%20var%20marker_15cfc3375dd34806b0153a8daa7970a4%20%3D%20L.marker%28%0A%20%20%20%20%20%20%20%20%20%20%20%20%5B37.5196266%2C%20127.1309837%5D%2C%0A%20%20%20%20%20%20%20%20%20%20%20%20%7B%0A%20%20%20%20%20%20%20%20%20%20%20%20%20%20%20%20icon%3A%20new%20L.Icon.Default%28%29%2C%0A%20%20%20%20%20%20%20%20%20%20%20%20%20%20%20%20%7D%0A%20%20%20%20%20%20%20%20%20%20%20%20%29.addTo%28map_80fd2f2a380b47c2867690105c710fb1%29%3B%0A%20%20%20%20%20%20%20%20%0A%20%20%20%20%0A%20%20%20%20%20%20%20%20var%20marker_ffdaf2f8286043a5ac0a46895ee1f5af%20%3D%20L.marker%28%0A%20%20%20%20%20%20%20%20%20%20%20%20%5B37.5817849%2C%20127.010369%5D%2C%0A%20%20%20%20%20%20%20%20%20%20%20%20%7B%0A%20%20%20%20%20%20%20%20%20%20%20%20%20%20%20%20icon%3A%20new%20L.Icon.Default%28%29%2C%0A%20%20%20%20%20%20%20%20%20%20%20%20%20%20%20%20%7D%0A%20%20%20%20%20%20%20%20%20%20%20%20%29.addTo%28map_80fd2f2a380b47c2867690105c710fb1%29%3B%0A%20%20%20%20%20%20%20%20%0A%20%20%20%20%0A%20%20%20%20%20%20%20%20var%20marker_a67fef7283474f2faff8e0fa37099d6a%20%3D%20L.marker%28%0A%20%20%20%20%20%20%20%20%20%20%20%20%5B37.5572321%2C%20127.0453219%5D%2C%0A%20%20%20%20%20%20%20%20%20%20%20%20%7B%0A%20%20%20%20%20%20%20%20%20%20%20%20%20%20%20%20icon%3A%20new%20L.Icon.Default%28%29%2C%0A%20%20%20%20%20%20%20%20%20%20%20%20%20%20%20%20%7D%0A%20%20%20%20%20%20%20%20%20%20%20%20%29.addTo%28map_80fd2f2a380b47c2867690105c710fb1%29%3B%0A%20%20%20%20%20%20%20%20%0A%20%20%20%20%0A%20%20%20%20%20%20%20%20var%20marker_3753a8edda5e46528ac5c363c31f8b3b%20%3D%20L.marker%28%0A%20%20%20%20%20%20%20%20%20%20%20%20%5B37.5514642%2C%20126.9250106%5D%2C%0A%20%20%20%20%20%20%20%20%20%20%20%20%7B%0A%20%20%20%20%20%20%20%20%20%20%20%20%20%20%20%20icon%3A%20new%20L.Icon.Default%28%29%2C%0A%20%20%20%20%20%20%20%20%20%20%20%20%20%20%20%20%7D%0A%20%20%20%20%20%20%20%20%20%20%20%20%29.addTo%28map_80fd2f2a380b47c2867690105c710fb1%29%3B%0A%20%20%20%20%20%20%20%20%0A%20%20%20%20%0A%20%20%20%20%20%20%20%20var%20marker_199f47fcc2e04aaf9638cedb1403a563%20%3D%20L.marker%28%0A%20%20%20%20%20%20%20%20%20%20%20%20%5B37.592573%2C%20127.046737%5D%2C%0A%20%20%20%20%20%20%20%20%20%20%20%20%7B%0A%20%20%20%20%20%20%20%20%20%20%20%20%20%20%20%20icon%3A%20new%20L.Icon.Default%28%29%2C%0A%20%20%20%20%20%20%20%20%20%20%20%20%20%20%20%20%7D%0A%20%20%20%20%20%20%20%20%20%20%20%20%29.addTo%28map_80fd2f2a380b47c2867690105c710fb1%29%3B%0A%20%20%20%20%20%20%20%20%0A%20%20%20%20%0A%20%20%20%20%20%20%20%20marker_199f47fcc2e04aaf9638cedb1403a563.bindTooltip%28%0A%20%20%20%20%20%20%20%20%20%20%20%20%60%3Cdiv%3E%60%0A%20%20%20%20%20%20%20%20%20%20%20%20%2B%20%60KAIST%20%EC%84%9C%EC%9A%B8%EC%BA%A0%ED%8D%BC%EC%8A%A4%20%60%20%2B%20%60%3C/div%3E%60%2C%0A%20%20%20%20%20%20%20%20%20%20%20%20%7B%22sticky%22%3A%20true%7D%0A%20%20%20%20%20%20%20%20%29%3B%0A%20%20%20%20%20%20%20%20%0A%20%20%20%20%0A%20%20%20%20%20%20%20%20var%20marker_0de1e3e0a4584a1c9c40b8b46f8b8d24%20%3D%20L.marker%28%0A%20%20%20%20%20%20%20%20%20%20%20%20%5B37.5483449%2C%20126.8547974%5D%2C%0A%20%20%20%20%20%20%20%20%20%20%20%20%7B%0A%20%20%20%20%20%20%20%20%20%20%20%20%20%20%20%20icon%3A%20new%20L.Icon.Default%28%29%2C%0A%20%20%20%20%20%20%20%20%20%20%20%20%20%20%20%20%7D%0A%20%20%20%20%20%20%20%20%20%20%20%20%29.addTo%28map_80fd2f2a380b47c2867690105c710fb1%29%3B%0A%20%20%20%20%20%20%20%20%0A%20%20%20%20%0A%20%20%20%20%20%20%20%20marker_0de1e3e0a4584a1c9c40b8b46f8b8d24.bindTooltip%28%0A%20%20%20%20%20%20%20%20%20%20%20%20%60%3Cdiv%3E%60%0A%20%20%20%20%20%20%20%20%20%20%20%20%2B%20%60KC%EB%8C%80%ED%95%99%EA%B5%90%60%20%2B%20%60%3C/div%3E%60%2C%0A%20%20%20%20%20%20%20%20%20%20%20%20%7B%22sticky%22%3A%20true%7D%0A%20%20%20%20%20%20%20%20%29%3B%0A%20%20%20%20%20%20%20%20%0A%20%20%20%20%0A%20%20%20%20%20%20%20%20var%20marker_1f09eefcd8da4dc7a4f97994cc69b785%20%3D%20L.marker%28%0A%20%20%20%20%20%20%20%20%20%20%20%20%5B37.5859218%2C%20127.0043275%5D%2C%0A%20%20%20%20%20%20%20%20%20%20%20%20%7B%0A%20%20%20%20%20%20%20%20%20%20%20%20%20%20%20%20icon%3A%20new%20L.Icon.Default%28%29%2C%0A%20%20%20%20%20%20%20%20%20%20%20%20%20%20%20%20%7D%0A%20%20%20%20%20%20%20%20%20%20%20%20%29.addTo%28map_80fd2f2a380b47c2867690105c710fb1%29%3B%0A%20%20%20%20%20%20%20%20%0A%20%20%20%20%0A%20%20%20%20%20%20%20%20marker_1f09eefcd8da4dc7a4f97994cc69b785.bindTooltip%28%0A%20%20%20%20%20%20%20%20%20%20%20%20%60%3Cdiv%3E%60%0A%20%20%20%20%20%20%20%20%20%20%20%20%2B%20%60%EA%B0%80%ED%86%A8%EB%A6%AD%EB%8C%80%ED%95%99%EA%B5%90%28%EC%84%B1%EC%8B%A0%EA%B5%90%EC%A0%95%29%60%20%2B%20%60%3C/div%3E%60%2C%0A%20%20%20%20%20%20%20%20%20%20%20%20%7B%22sticky%22%3A%20true%7D%0A%20%20%20%20%20%20%20%20%29%3B%0A%20%20%20%20%20%20%20%20%0A%20%20%20%20%0A%20%20%20%20%20%20%20%20var%20marker_1f300bcbfc2f4861a55615aeb4461a7b%20%3D%20L.marker%28%0A%20%20%20%20%20%20%20%20%20%20%20%20%5B37.4996227%2C%20127.0060653%5D%2C%0A%20%20%20%20%20%20%20%20%20%20%20%20%7B%0A%20%20%20%20%20%20%20%20%20%20%20%20%20%20%20%20icon%3A%20new%20L.Icon.Default%28%29%2C%0A%20%20%20%20%20%20%20%20%20%20%20%20%20%20%20%20%7D%0A%20%20%20%20%20%20%20%20%20%20%20%20%29.addTo%28map_80fd2f2a380b47c2867690105c710fb1%29%3B%0A%20%20%20%20%20%20%20%20%0A%20%20%20%20%0A%20%20%20%20%20%20%20%20marker_1f300bcbfc2f4861a55615aeb4461a7b.bindTooltip%28%0A%20%20%20%20%20%20%20%20%20%20%20%20%60%3Cdiv%3E%60%0A%20%20%20%20%20%20%20%20%20%20%20%20%2B%20%60%EA%B0%80%ED%86%A8%EB%A6%AD%EB%8C%80%ED%95%99%EA%B5%90%28%EC%84%B1%EC%9D%98%EA%B5%90%EC%A0%95%29%60%20%2B%20%60%3C/div%3E%60%2C%0A%20%20%20%20%20%20%20%20%20%20%20%20%7B%22sticky%22%3A%20true%7D%0A%20%20%20%20%20%20%20%20%29%3B%0A%20%20%20%20%20%20%20%20%0A%20%20%20%20%0A%20%20%20%20%20%20%20%20var%20marker_e2fd87d11faa4350a4c1e5a2efb895ac%20%3D%20L.marker%28%0A%20%20%20%20%20%20%20%20%20%20%20%20%5B37.5676455%2C%20126.96161%5D%2C%0A%20%20%20%20%20%20%20%20%20%20%20%20%7B%0A%20%20%20%20%20%20%20%20%20%20%20%20%20%20%20%20icon%3A%20new%20L.Icon.Default%28%29%2C%0A%20%20%20%20%20%20%20%20%20%20%20%20%20%20%20%20%7D%0A%20%20%20%20%20%20%20%20%20%20%20%20%29.addTo%28map_80fd2f2a380b47c2867690105c710fb1%29%3B%0A%20%20%20%20%20%20%20%20%0A%20%20%20%20%0A%20%20%20%20%20%20%20%20marker_e2fd87d11faa4350a4c1e5a2efb895ac.bindTooltip%28%0A%20%20%20%20%20%20%20%20%20%20%20%20%60%3Cdiv%3E%60%0A%20%20%20%20%20%20%20%20%20%20%20%20%2B%20%60%EA%B0%90%EB%A6%AC%EA%B5%90%EC%8B%A0%ED%95%99%EB%8C%80%ED%95%99%EA%B5%90%60%20%2B%20%60%3C/div%3E%60%2C%0A%20%20%20%20%20%20%20%20%20%20%20%20%7B%22sticky%22%3A%20true%7D%0A%20%20%20%20%20%20%20%20%29%3B%0A%20%20%20%20%20%20%20%20%0A%20%20%20%20%0A%20%20%20%20%20%20%20%20var%20marker_27866df91f664a04a749695aa061470e%20%3D%20L.marker%28%0A%20%20%20%20%20%20%20%20%20%20%20%20%5B37.5407625%2C%20127.0793428%5D%2C%0A%20%20%20%20%20%20%20%20%20%20%20%20%7B%0A%20%20%20%20%20%20%20%20%20%20%20%20%20%20%20%20icon%3A%20new%20L.Icon.Default%28%29%2C%0A%20%20%20%20%20%20%20%20%20%20%20%20%20%20%20%20%7D%0A%20%20%20%20%20%20%20%20%20%20%20%20%29.addTo%28map_80fd2f2a380b47c2867690105c710fb1%29%3B%0A%20%20%20%20%20%20%20%20%0A%20%20%20%20%0A%20%20%20%20%20%20%20%20marker_27866df91f664a04a749695aa061470e.bindTooltip%28%0A%20%20%20%20%20%20%20%20%20%20%20%20%60%3Cdiv%3E%60%0A%20%20%20%20%20%20%20%20%20%20%20%20%2B%20%60%EA%B1%B4%EA%B5%AD%EB%8C%80%ED%95%99%EA%B5%90%60%20%2B%20%60%3C/div%3E%60%2C%0A%20%20%20%20%20%20%20%20%20%20%20%20%7B%22sticky%22%3A%20true%7D%0A%20%20%20%20%20%20%20%20%29%3B%0A%20%20%20%20%20%20%20%20%0A%20%20%20%20%0A%20%20%20%20%20%20%20%20var%20marker_63fc2b90b0f3451ea1bff7c0a590d5d4%20%3D%20L.marker%28%0A%20%20%20%20%20%20%20%20%20%20%20%20%5B37.30048499999999%2C%20127.035833%5D%2C%0A%20%20%20%20%20%20%20%20%20%20%20%20%7B%0A%20%20%20%20%20%20%20%20%20%20%20%20%20%20%20%20icon%3A%20new%20L.Icon.Default%28%29%2C%0A%20%20%20%20%20%20%20%20%20%20%20%20%20%20%20%20%7D%0A%20%20%20%20%20%20%20%20%20%20%20%20%29.addTo%28map_80fd2f2a380b47c2867690105c710fb1%29%3B%0A%20%20%20%20%20%20%20%20%0A%20%20%20%20%0A%20%20%20%20%20%20%20%20marker_63fc2b90b0f3451ea1bff7c0a590d5d4.bindTooltip%28%0A%20%20%20%20%20%20%20%20%20%20%20%20%60%3Cdiv%3E%60%0A%20%20%20%20%20%20%20%20%20%20%20%20%2B%20%60%EA%B2%BD%EA%B8%B0%EB%8C%80%ED%95%99%EA%B5%90%20%EC%84%9C%EC%9A%B8%EC%BA%A0%ED%8D%BC%EC%8A%A4%20%60%20%2B%20%60%3C/div%3E%60%2C%0A%20%20%20%20%20%20%20%20%20%20%20%20%7B%22sticky%22%3A%20true%7D%0A%20%20%20%20%20%20%20%20%29%3B%0A%20%20%20%20%20%20%20%20%0A%20%20%20%20%0A%20%20%20%20%20%20%20%20var%20marker_b50cca55540149d5b8e7a8a79f4364d8%20%3D%20L.marker%28%0A%20%20%20%20%20%20%20%20%20%20%20%20%5B37.5961951%2C%20127.052544%5D%2C%0A%20%20%20%20%20%20%20%20%20%20%20%20%7B%0A%20%20%20%20%20%20%20%20%20%20%20%20%20%20%20%20icon%3A%20new%20L.Icon.Default%28%29%2C%0A%20%20%20%20%20%20%20%20%20%20%20%20%20%20%20%20%7D%0A%20%20%20%20%20%20%20%20%20%20%20%20%29.addTo%28map_80fd2f2a380b47c2867690105c710fb1%29%3B%0A%20%20%20%20%20%20%20%20%0A%20%20%20%20%0A%20%20%20%20%20%20%20%20marker_b50cca55540149d5b8e7a8a79f4364d8.bindTooltip%28%0A%20%20%20%20%20%20%20%20%20%20%20%20%60%3Cdiv%3E%60%0A%20%20%20%20%20%20%20%20%20%20%20%20%2B%20%60%EA%B2%BD%ED%9D%AC%EB%8C%80%ED%95%99%EA%B5%90%20%EC%84%9C%EC%9A%B8%EC%BA%A0%ED%8D%BC%EC%8A%A4%20%60%20%2B%20%60%3C/div%3E%60%2C%0A%20%20%20%20%20%20%20%20%20%20%20%20%7B%22sticky%22%3A%20true%7D%0A%20%20%20%20%20%20%20%20%29%3B%0A%20%20%20%20%20%20%20%20%0A%20%20%20%20%0A%20%20%20%20%20%20%20%20var%20marker_cec90233c8194d41aa8024dd25e073a9%20%3D%20L.marker%28%0A%20%20%20%20%20%20%20%20%20%20%20%20%5B33.8477818%2C%20-117.9777482%5D%2C%0A%20%20%20%20%20%20%20%20%20%20%20%20%7B%0A%20%20%20%20%20%20%20%20%20%20%20%20%20%20%20%20icon%3A%20new%20L.Icon.Default%28%29%2C%0A%20%20%20%20%20%20%20%20%20%20%20%20%20%20%20%20%7D%0A%20%20%20%20%20%20%20%20%20%20%20%20%29.addTo%28map_80fd2f2a380b47c2867690105c710fb1%29%3B%0A%20%20%20%20%20%20%20%20%0A%20%20%20%20%0A%20%20%20%20%20%20%20%20marker_cec90233c8194d41aa8024dd25e073a9.bindTooltip%28%0A%20%20%20%20%20%20%20%20%20%20%20%20%60%3Cdiv%3E%60%0A%20%20%20%20%20%20%20%20%20%20%20%20%2B%20%60%EA%B3%A0%EB%A0%A4%EB%8C%80%ED%95%99%EA%B5%90%60%20%2B%20%60%3C/div%3E%60%2C%0A%20%20%20%20%20%20%20%20%20%20%20%20%7B%22sticky%22%3A%20true%7D%0A%20%20%20%20%20%20%20%20%29%3B%0A%20%20%20%20%20%20%20%20%0A%20%20%20%20%0A%20%20%20%20%20%20%20%20var%20marker_ada084b4da3f43dca4ce5df70a5c711e%20%3D%20L.marker%28%0A%20%20%20%20%20%20%20%20%20%20%20%20%5B37.6194965%2C%20127.0596958%5D%2C%0A%20%20%20%20%20%20%20%20%20%20%20%20%7B%0A%20%20%20%20%20%20%20%20%20%20%20%20%20%20%20%20icon%3A%20new%20L.Icon.Default%28%29%2C%0A%20%20%20%20%20%20%20%20%20%20%20%20%20%20%20%20%7D%0A%20%20%20%20%20%20%20%20%20%20%20%20%29.addTo%28map_80fd2f2a380b47c2867690105c710fb1%29%3B%0A%20%20%20%20%20%20%20%20%0A%20%20%20%20%0A%20%20%20%20%20%20%20%20marker_ada084b4da3f43dca4ce5df70a5c711e.bindTooltip%28%0A%20%20%20%20%20%20%20%20%20%20%20%20%60%3Cdiv%3E%60%0A%20%20%20%20%20%20%20%20%20%20%20%20%2B%20%60%EA%B4%91%EC%9A%B4%EB%8C%80%ED%95%99%EA%B5%90%60%20%2B%20%60%3C/div%3E%60%2C%0A%20%20%20%20%20%20%20%20%20%20%20%20%7B%22sticky%22%3A%20true%7D%0A%20%20%20%20%20%20%20%20%29%3B%0A%20%20%20%20%20%20%20%20%0A%20%20%20%20%0A%20%20%20%20%20%20%20%20var%20marker_0df3cbc71dea4dac9fc9c59b415ffa20%20%3D%20L.marker%28%0A%20%20%20%20%20%20%20%20%20%20%20%20%5B37.6096409%2C%20126.997697%5D%2C%0A%20%20%20%20%20%20%20%20%20%20%20%20%7B%0A%20%20%20%20%20%20%20%20%20%20%20%20%20%20%20%20icon%3A%20new%20L.Icon.Default%28%29%2C%0A%20%20%20%20%20%20%20%20%20%20%20%20%20%20%20%20%7D%0A%20%20%20%20%20%20%20%20%20%20%20%20%29.addTo%28map_80fd2f2a380b47c2867690105c710fb1%29%3B%0A%20%20%20%20%20%20%20%20%0A%20%20%20%20%0A%20%20%20%20%20%20%20%20marker_0df3cbc71dea4dac9fc9c59b415ffa20.bindTooltip%28%0A%20%20%20%20%20%20%20%20%20%20%20%20%60%3Cdiv%3E%60%0A%20%20%20%20%20%20%20%20%20%20%20%20%2B%20%60%EA%B5%AD%EB%AF%BC%EB%8C%80%ED%95%99%EA%B5%90%60%20%2B%20%60%3C/div%3E%60%2C%0A%20%20%20%20%20%20%20%20%20%20%20%20%7B%22sticky%22%3A%20true%7D%0A%20%20%20%20%20%20%20%20%29%3B%0A%20%20%20%20%20%20%20%20%0A%20%20%20%20%0A%20%20%20%20%20%20%20%20var%20marker_824448b4e7a64eafa6bee11c9b9a8966%20%3D%20L.marker%28%0A%20%20%20%20%20%20%20%20%20%20%20%20%5B37.6511988%2C%20127.0161604%5D%2C%0A%20%20%20%20%20%20%20%20%20%20%20%20%7B%0A%20%20%20%20%20%20%20%20%20%20%20%20%20%20%20%20icon%3A%20new%20L.Icon.Default%28%29%2C%0A%20%20%20%20%20%20%20%20%20%20%20%20%20%20%20%20%7D%0A%20%20%20%20%20%20%20%20%20%20%20%20%29.addTo%28map_80fd2f2a380b47c2867690105c710fb1%29%3B%0A%20%20%20%20%20%20%20%20%0A%20%20%20%20%0A%20%20%20%20%20%20%20%20marker_824448b4e7a64eafa6bee11c9b9a8966.bindTooltip%28%0A%20%20%20%20%20%20%20%20%20%20%20%20%60%3Cdiv%3E%60%0A%20%20%20%20%20%20%20%20%20%20%20%20%2B%20%60%EB%8D%95%EC%84%B1%EC%97%AC%EC%9E%90%EB%8C%80%ED%95%99%EA%B5%90%60%20%2B%20%60%3C/div%3E%60%2C%0A%20%20%20%20%20%20%20%20%20%20%20%20%7B%22sticky%22%3A%20true%7D%0A%20%20%20%20%20%20%20%20%29%3B%0A%20%20%20%20%20%20%20%20%0A%20%20%20%20%0A%20%20%20%20%20%20%20%20var%20marker_5bb81acf954f4ca2b17b134844431042%20%3D%20L.marker%28%0A%20%20%20%20%20%20%20%20%20%20%20%20%5B37.5574771%2C%20127.0020518%5D%2C%0A%20%20%20%20%20%20%20%20%20%20%20%20%7B%0A%20%20%20%20%20%20%20%20%20%20%20%20%20%20%20%20icon%3A%20new%20L.Icon.Default%28%29%2C%0A%20%20%20%20%20%20%20%20%20%20%20%20%20%20%20%20%7D%0A%20%20%20%20%20%20%20%20%20%20%20%20%29.addTo%28map_80fd2f2a380b47c2867690105c710fb1%29%3B%0A%20%20%20%20%20%20%20%20%0A%20%20%20%20%0A%20%20%20%20%20%20%20%20marker_5bb81acf954f4ca2b17b134844431042.bindTooltip%28%0A%20%20%20%20%20%20%20%20%20%20%20%20%60%3Cdiv%3E%60%0A%20%20%20%20%20%20%20%20%20%20%20%20%2B%20%60%EB%8F%99%EA%B5%AD%EB%8C%80%ED%95%99%EA%B5%90%60%20%2B%20%60%3C/div%3E%60%2C%0A%20%20%20%20%20%20%20%20%20%20%20%20%7B%22sticky%22%3A%20true%7D%0A%20%20%20%20%20%20%20%20%29%3B%0A%20%20%20%20%20%20%20%20%0A%20%20%20%20%0A%20%20%20%20%20%20%20%20var%20marker_6e0fab66b25b41aa98b4e9422a93d51d%20%3D%20L.marker%28%0A%20%20%20%20%20%20%20%20%20%20%20%20%5B37.6063202%2C%20127.041808%5D%2C%0A%20%20%20%20%20%20%20%20%20%20%20%20%7B%0A%20%20%20%20%20%20%20%20%20%20%20%20%20%20%20%20icon%3A%20new%20L.Icon.Default%28%29%2C%0A%20%20%20%20%20%20%20%20%20%20%20%20%20%20%20%20%7D%0A%20%20%20%20%20%20%20%20%20%20%20%20%29.addTo%28map_80fd2f2a380b47c2867690105c710fb1%29%3B%0A%20%20%20%20%20%20%20%20%0A%20%20%20%20%0A%20%20%20%20%20%20%20%20marker_6e0fab66b25b41aa98b4e9422a93d51d.bindTooltip%28%0A%20%20%20%20%20%20%20%20%20%20%20%20%60%3Cdiv%3E%60%0A%20%20%20%20%20%20%20%20%20%20%20%20%2B%20%60%EB%8F%99%EB%8D%95%EC%97%AC%EC%9E%90%EB%8C%80%ED%95%99%EA%B5%90%60%20%2B%20%60%3C/div%3E%60%2C%0A%20%20%20%20%20%20%20%20%20%20%20%20%7B%22sticky%22%3A%20true%7D%0A%20%20%20%20%20%20%20%20%29%3B%0A%20%20%20%20%20%20%20%20%0A%20%20%20%20%0A%20%20%20%20%20%20%20%20var%20marker_5116a004c67046efbe1cfc6131369392%20%3D%20L.marker%28%0A%20%20%20%20%20%20%20%20%20%20%20%20%5B37.5802046%2C%20126.9234451%5D%2C%0A%20%20%20%20%20%20%20%20%20%20%20%20%7B%0A%20%20%20%20%20%20%20%20%20%20%20%20%20%20%20%20icon%3A%20new%20L.Icon.Default%28%29%2C%0A%20%20%20%20%20%20%20%20%20%20%20%20%20%20%20%20%7D%0A%20%20%20%20%20%20%20%20%20%20%20%20%29.addTo%28map_80fd2f2a380b47c2867690105c710fb1%29%3B%0A%20%20%20%20%20%20%20%20%0A%20%20%20%20%0A%20%20%20%20%20%20%20%20marker_5116a004c67046efbe1cfc6131369392.bindTooltip%28%0A%20%20%20%20%20%20%20%20%20%20%20%20%60%3Cdiv%3E%60%0A%20%20%20%20%20%20%20%20%20%20%20%20%2B%20%60%EB%AA%85%EC%A7%80%EB%8C%80%ED%95%99%EA%B5%90%20%EC%84%9C%EC%9A%B8%EC%BA%A0%ED%8D%BC%EC%8A%A4%20%60%20%2B%20%60%3C/div%3E%60%2C%0A%20%20%20%20%20%20%20%20%20%20%20%20%7B%22sticky%22%3A%20true%7D%0A%20%20%20%20%20%20%20%20%29%3B%0A%20%20%20%20%20%20%20%20%0A%20%20%20%20%0A%20%20%20%20%20%20%20%20var%20marker_0f477335ab4b4a2384bf15f3ab2c1170%20%3D%20L.marker%28%0A%20%20%20%20%20%20%20%20%20%20%20%20%5B37.6429515%2C%20127.1054757%5D%2C%0A%20%20%20%20%20%20%20%20%20%20%20%20%7B%0A%20%20%20%20%20%20%20%20%20%20%20%20%20%20%20%20icon%3A%20new%20L.Icon.Default%28%29%2C%0A%20%20%20%20%20%20%20%20%20%20%20%20%20%20%20%20%7D%0A%20%20%20%20%20%20%20%20%20%20%20%20%29.addTo%28map_80fd2f2a380b47c2867690105c710fb1%29%3B%0A%20%20%20%20%20%20%20%20%0A%20%20%20%20%0A%20%20%20%20%20%20%20%20marker_0f477335ab4b4a2384bf15f3ab2c1170.bindTooltip%28%0A%20%20%20%20%20%20%20%20%20%20%20%20%60%3Cdiv%3E%60%0A%20%20%20%20%20%20%20%20%20%20%20%20%2B%20%60%EC%82%BC%EC%9C%A1%EB%8C%80%ED%95%99%EA%B5%90%60%20%2B%20%60%3C/div%3E%60%2C%0A%20%20%20%20%20%20%20%20%20%20%20%20%7B%22sticky%22%3A%20true%7D%0A%20%20%20%20%20%20%20%20%29%3B%0A%20%20%20%20%20%20%20%20%0A%20%20%20%20%0A%20%20%20%20%20%20%20%20var%20marker_84f5d313af744a5c9f0ae8182fa27f5a%20%3D%20L.marker%28%0A%20%20%20%20%20%20%20%20%20%20%20%20%5B37.602638%2C%20126.955252%5D%2C%0A%20%20%20%20%20%20%20%20%20%20%20%20%7B%0A%20%20%20%20%20%20%20%20%20%20%20%20%20%20%20%20icon%3A%20new%20L.Icon.Default%28%29%2C%0A%20%20%20%20%20%20%20%20%20%20%20%20%20%20%20%20%7D%0A%20%20%20%20%20%20%20%20%20%20%20%20%29.addTo%28map_80fd2f2a380b47c2867690105c710fb1%29%3B%0A%20%20%20%20%20%20%20%20%0A%20%20%20%20%0A%20%20%20%20%20%20%20%20marker_84f5d313af744a5c9f0ae8182fa27f5a.bindTooltip%28%0A%20%20%20%20%20%20%20%20%20%20%20%20%60%3Cdiv%3E%60%0A%20%20%20%20%20%20%20%20%20%20%20%20%2B%20%60%EC%83%81%EB%AA%85%EB%8C%80%ED%95%99%EA%B5%90%C2%A0%EC%84%9C%EC%9A%B8%EC%BA%A0%ED%8D%BC%EC%8A%A4%20%60%20%2B%20%60%3C/div%3E%60%2C%0A%20%20%20%20%20%20%20%20%20%20%20%20%7B%22sticky%22%3A%20true%7D%0A%20%20%20%20%20%20%20%20%29%3B%0A%20%20%20%20%20%20%20%20%0A%20%20%20%20%0A%20%20%20%20%20%20%20%20var%20marker_47298e07034444a9a80a1e9099084ad2%20%3D%20L.marker%28%0A%20%20%20%20%20%20%20%20%20%20%20%20%5B37.5509442%2C%20126.9410023%5D%2C%0A%20%20%20%20%20%20%20%20%20%20%20%20%7B%0A%20%20%20%20%20%20%20%20%20%20%20%20%20%20%20%20icon%3A%20new%20L.Icon.Default%28%29%2C%0A%20%20%20%20%20%20%20%20%20%20%20%20%20%20%20%20%7D%0A%20%20%20%20%20%20%20%20%20%20%20%20%29.addTo%28map_80fd2f2a380b47c2867690105c710fb1%29%3B%0A%20%20%20%20%20%20%20%20%0A%20%20%20%20%0A%20%20%20%20%20%20%20%20marker_47298e07034444a9a80a1e9099084ad2.bindTooltip%28%0A%20%20%20%20%20%20%20%20%20%20%20%20%60%3Cdiv%3E%60%0A%20%20%20%20%20%20%20%20%20%20%20%20%2B%20%60%EC%84%9C%EA%B0%95%EB%8C%80%ED%95%99%EA%B5%90%60%20%2B%20%60%3C/div%3E%60%2C%0A%20%20%20%20%20%20%20%20%20%20%20%20%7B%22sticky%22%3A%20true%7D%0A%20%20%20%20%20%20%20%20%29%3B%0A%20%20%20%20%20%20%20%20%0A%20%20%20%20%0A%20%20%20%20%20%20%20%20var%20marker_fbd3d9bf0df04204b7cd8f6b85171e53%20%3D%20L.marker%28%0A%20%20%20%20%20%20%20%20%20%20%20%20%5B37.615095%2C%20127.0131113%5D%2C%0A%20%20%20%20%20%20%20%20%20%20%20%20%7B%0A%20%20%20%20%20%20%20%20%20%20%20%20%20%20%20%20icon%3A%20new%20L.Icon.Default%28%29%2C%0A%20%20%20%20%20%20%20%20%20%20%20%20%20%20%20%20%7D%0A%20%20%20%20%20%20%20%20%20%20%20%20%29.addTo%28map_80fd2f2a380b47c2867690105c710fb1%29%3B%0A%20%20%20%20%20%20%20%20%0A%20%20%20%20%0A%20%20%20%20%20%20%20%20marker_fbd3d9bf0df04204b7cd8f6b85171e53.bindTooltip%28%0A%20%20%20%20%20%20%20%20%20%20%20%20%60%3Cdiv%3E%60%0A%20%20%20%20%20%20%20%20%20%20%20%20%2B%20%60%EC%84%9C%EA%B2%BD%EB%8C%80%ED%95%99%EA%B5%90%60%20%2B%20%60%3C/div%3E%60%2C%0A%20%20%20%20%20%20%20%20%20%20%20%20%7B%22sticky%22%3A%20true%7D%0A%20%20%20%20%20%20%20%20%29%3B%0A%20%20%20%20%20%20%20%20%0A%20%20%20%20%0A%20%20%20%20%20%20%20%20var%20marker_20e27c3b621544349132d8e9898eb98f%20%3D%20L.marker%28%0A%20%20%20%20%20%20%20%20%20%20%20%20%5B37.6316684%2C%20127.0774813%5D%2C%0A%20%20%20%20%20%20%20%20%20%20%20%20%7B%0A%20%20%20%20%20%20%20%20%20%20%20%20%20%20%20%20icon%3A%20new%20L.Icon.Default%28%29%2C%0A%20%20%20%20%20%20%20%20%20%20%20%20%20%20%20%20%7D%0A%20%20%20%20%20%20%20%20%20%20%20%20%29.addTo%28map_80fd2f2a380b47c2867690105c710fb1%29%3B%0A%20%20%20%20%20%20%20%20%0A%20%20%20%20%0A%20%20%20%20%20%20%20%20marker_20e27c3b621544349132d8e9898eb98f.bindTooltip%28%0A%20%20%20%20%20%20%20%20%20%20%20%20%60%3Cdiv%3E%60%0A%20%20%20%20%20%20%20%20%20%20%20%20%2B%20%60%EC%84%9C%EC%9A%B8%EA%B3%BC%ED%95%99%EA%B8%B0%EC%88%A0%EB%8C%80%ED%95%99%EA%B5%90%60%20%2B%20%60%3C/div%3E%60%2C%0A%20%20%20%20%20%20%20%20%20%20%20%20%7B%22sticky%22%3A%20true%7D%0A%20%20%20%20%20%20%20%20%29%3B%0A%20%20%20%20%20%20%20%20%0A%20%20%20%20%0A%20%20%20%20%20%20%20%20var%20marker_0b8169d4b4ba4a86b87388dcee2b463a%20%3D%20L.marker%28%0A%20%20%20%20%20%20%20%20%20%20%20%20%5B37.4899615%2C%20127.0164124%5D%2C%0A%20%20%20%20%20%20%20%20%20%20%20%20%7B%0A%20%20%20%20%20%20%20%20%20%20%20%20%20%20%20%20icon%3A%20new%20L.Icon.Default%28%29%2C%0A%20%20%20%20%20%20%20%20%20%20%20%20%20%20%20%20%7D%0A%20%20%20%20%20%20%20%20%20%20%20%20%29.addTo%28map_80fd2f2a380b47c2867690105c710fb1%29%3B%0A%20%20%20%20%20%20%20%20%0A%20%20%20%20%0A%20%20%20%20%20%20%20%20marker_0b8169d4b4ba4a86b87388dcee2b463a.bindTooltip%28%0A%20%20%20%20%20%20%20%20%20%20%20%20%60%3Cdiv%3E%60%0A%20%20%20%20%20%20%20%20%20%20%20%20%2B%20%60%EC%84%9C%EC%9A%B8%EA%B5%90%EC%9C%A1%EB%8C%80%ED%95%99%EA%B5%90%60%20%2B%20%60%3C/div%3E%60%2C%0A%20%20%20%20%20%20%20%20%20%20%20%20%7B%22sticky%22%3A%20true%7D%0A%20%20%20%20%20%20%20%20%29%3B%0A%20%20%20%20%20%20%20%20%0A%20%20%20%20%0A%20%20%20%20%20%20%20%20var%20marker_9757dc0a5ed34ea398ab3dc5cb0d33bf%20%3D%20L.marker%28%0A%20%20%20%20%20%20%20%20%20%20%20%20%5B37.6009228%2C%20126.9123818%5D%2C%0A%20%20%20%20%20%20%20%20%20%20%20%20%7B%0A%20%20%20%20%20%20%20%20%20%20%20%20%20%20%20%20icon%3A%20new%20L.Icon.Default%28%29%2C%0A%20%20%20%20%20%20%20%20%20%20%20%20%20%20%20%20%7D%0A%20%20%20%20%20%20%20%20%20%20%20%20%29.addTo%28map_80fd2f2a380b47c2867690105c710fb1%29%3B%0A%20%20%20%20%20%20%20%20%0A%20%20%20%20%0A%20%20%20%20%20%20%20%20marker_9757dc0a5ed34ea398ab3dc5cb0d33bf.bindTooltip%28%0A%20%20%20%20%20%20%20%20%20%20%20%20%60%3Cdiv%3E%60%0A%20%20%20%20%20%20%20%20%20%20%20%20%2B%20%60%EC%84%9C%EC%9A%B8%EA%B8%B0%EB%8F%85%EB%8C%80%ED%95%99%EA%B5%90%60%20%2B%20%60%3C/div%3E%60%2C%0A%20%20%20%20%20%20%20%20%20%20%20%20%7B%22sticky%22%3A%20true%7D%0A%20%20%20%20%20%20%20%20%29%3B%0A%20%20%20%20%20%20%20%20%0A%20%20%20%20%0A%20%20%20%20%20%20%20%20var%20marker_ee424574af724ae3b20a79acfad65bbf%20%3D%20L.marker%28%0A%20%20%20%20%20%20%20%20%20%20%20%20%5B37.459882%2C%20126.9519053%5D%2C%0A%20%20%20%20%20%20%20%20%20%20%20%20%7B%0A%20%20%20%20%20%20%20%20%20%20%20%20%20%20%20%20icon%3A%20new%20L.Icon.Default%28%29%2C%0A%20%20%20%20%20%20%20%20%20%20%20%20%20%20%20%20%7D%0A%20%20%20%20%20%20%20%20%20%20%20%20%29.addTo%28map_80fd2f2a380b47c2867690105c710fb1%29%3B%0A%20%20%20%20%20%20%20%20%0A%20%20%20%20%0A%20%20%20%20%20%20%20%20marker_ee424574af724ae3b20a79acfad65bbf.bindTooltip%28%0A%20%20%20%20%20%20%20%20%20%20%20%20%60%3Cdiv%3E%60%0A%20%20%20%20%20%20%20%20%20%20%20%20%2B%20%60%EC%84%9C%EC%9A%B8%EB%8C%80%ED%95%99%EA%B5%90%60%20%2B%20%60%3C/div%3E%60%2C%0A%20%20%20%20%20%20%20%20%20%20%20%20%7B%22sticky%22%3A%20true%7D%0A%20%20%20%20%20%20%20%20%29%3B%0A%20%20%20%20%20%20%20%20%0A%20%20%20%20%0A%20%20%20%20%20%20%20%20var%20marker_25355ef287fd43bc9f6d3a987bf1702a%20%3D%20L.marker%28%0A%20%20%20%20%20%20%20%20%20%20%20%20%5B37.5838657%2C%20127.0587771%5D%2C%0A%20%20%20%20%20%20%20%20%20%20%20%20%7B%0A%20%20%20%20%20%20%20%20%20%20%20%20%20%20%20%20icon%3A%20new%20L.Icon.Default%28%29%2C%0A%20%20%20%20%20%20%20%20%20%20%20%20%20%20%20%20%7D%0A%20%20%20%20%20%20%20%20%20%20%20%20%29.addTo%28map_80fd2f2a380b47c2867690105c710fb1%29%3B%0A%20%20%20%20%20%20%20%20%0A%20%20%20%20%0A%20%20%20%20%20%20%20%20marker_25355ef287fd43bc9f6d3a987bf1702a.bindTooltip%28%0A%20%20%20%20%20%20%20%20%20%20%20%20%60%3Cdiv%3E%60%0A%20%20%20%20%20%20%20%20%20%20%20%20%2B%20%60%EC%84%9C%EC%9A%B8%EC%8B%9C%EB%A6%BD%EB%8C%80%ED%95%99%EA%B5%90%60%20%2B%20%60%3C/div%3E%60%2C%0A%20%20%20%20%20%20%20%20%20%20%20%20%7B%22sticky%22%3A%20true%7D%0A%20%20%20%20%20%20%20%20%29%3B%0A%20%20%20%20%20%20%20%20%0A%20%20%20%20%0A%20%20%20%20%20%20%20%20var%20marker_648b6f88dceb4b9ebbc37fdc393dea56%20%3D%20L.marker%28%0A%20%20%20%20%20%20%20%20%20%20%20%20%5B37.6281126%2C%20127.0904568%5D%2C%0A%20%20%20%20%20%20%20%20%20%20%20%20%7B%0A%20%20%20%20%20%20%20%20%20%20%20%20%20%20%20%20icon%3A%20new%20L.Icon.Default%28%29%2C%0A%20%20%20%20%20%20%20%20%20%20%20%20%20%20%20%20%7D%0A%20%20%20%20%20%20%20%20%20%20%20%20%29.addTo%28map_80fd2f2a380b47c2867690105c710fb1%29%3B%0A%20%20%20%20%20%20%20%20%0A%20%20%20%20%0A%20%20%20%20%20%20%20%20marker_648b6f88dceb4b9ebbc37fdc393dea56.bindTooltip%28%0A%20%20%20%20%20%20%20%20%20%20%20%20%60%3Cdiv%3E%60%0A%20%20%20%20%20%20%20%20%20%20%20%20%2B%20%60%EC%84%9C%EC%9A%B8%EC%97%AC%EC%9E%90%EB%8C%80%ED%95%99%EA%B5%90%60%20%2B%20%60%3C/div%3E%60%2C%0A%20%20%20%20%20%20%20%20%20%20%20%20%7B%22sticky%22%3A%20true%7D%0A%20%20%20%20%20%20%20%20%29%3B%0A%20%20%20%20%20%20%20%20%0A%20%20%20%20%0A%20%20%20%20%20%20%20%20var%20marker_2b82fd4c96324ebb96b8f3ee40e637db%20%3D%20L.marker%28%0A%20%20%20%20%20%20%20%20%20%20%20%20%5B37.4965411%2C%20126.8512616%5D%2C%0A%20%20%20%20%20%20%20%20%20%20%20%20%7B%0A%20%20%20%20%20%20%20%20%20%20%20%20%20%20%20%20icon%3A%20new%20L.Icon.Default%28%29%2C%0A%20%20%20%20%20%20%20%20%20%20%20%20%20%20%20%20%7D%0A%20%20%20%20%20%20%20%20%20%20%20%20%29.addTo%28map_80fd2f2a380b47c2867690105c710fb1%29%3B%0A%20%20%20%20%20%20%20%20%0A%20%20%20%20%0A%20%20%20%20%20%20%20%20marker_2b82fd4c96324ebb96b8f3ee40e637db.bindTooltip%28%0A%20%20%20%20%20%20%20%20%20%20%20%20%60%3Cdiv%3E%60%0A%20%20%20%20%20%20%20%20%20%20%20%20%2B%20%60%EC%84%9C%EC%9A%B8%ED%95%9C%EC%98%81%EB%8C%80%ED%95%99%EA%B5%90%60%20%2B%20%60%3C/div%3E%60%2C%0A%20%20%20%20%20%20%20%20%20%20%20%20%7B%22sticky%22%3A%20true%7D%0A%20%20%20%20%20%20%20%20%29%3B%0A%20%20%20%20%20%20%20%20%0A%20%20%20%20%0A%20%20%20%20%20%20%20%20var%20marker_57c68505a0a4410fa9a6cdc01194f9f5%20%3D%20L.marker%28%0A%20%20%20%20%20%20%20%20%20%20%20%20%5B37.4872325%2C%20126.8253202%5D%2C%0A%20%20%20%20%20%20%20%20%20%20%20%20%7B%0A%20%20%20%20%20%20%20%20%20%20%20%20%20%20%20%20icon%3A%20new%20L.Icon.Default%28%29%2C%0A%20%20%20%20%20%20%20%20%20%20%20%20%20%20%20%20%7D%0A%20%20%20%20%20%20%20%20%20%20%20%20%29.addTo%28map_80fd2f2a380b47c2867690105c710fb1%29%3B%0A%20%20%20%20%20%20%20%20%0A%20%20%20%20%0A%20%20%20%20%20%20%20%20marker_57c68505a0a4410fa9a6cdc01194f9f5.bindTooltip%28%0A%20%20%20%20%20%20%20%20%20%20%20%20%60%3Cdiv%3E%60%0A%20%20%20%20%20%20%20%20%20%20%20%20%2B%20%60%EC%84%B1%EA%B3%B5%ED%9A%8C%EB%8C%80%ED%95%99%EA%B5%90%60%20%2B%20%60%3C/div%3E%60%2C%0A%20%20%20%20%20%20%20%20%20%20%20%20%7B%22sticky%22%3A%20true%7D%0A%20%20%20%20%20%20%20%20%29%3B%0A%20%20%20%20%20%20%20%20%0A%20%20%20%20%0A%20%20%20%20%20%20%20%20var%20marker_54a005ef74524913a5ff16cfe8186f2c%20%3D%20L.marker%28%0A%20%20%20%20%20%20%20%20%20%20%20%20%5B37.588227%2C%20126.993606%5D%2C%0A%20%20%20%20%20%20%20%20%20%20%20%20%7B%0A%20%20%20%20%20%20%20%20%20%20%20%20%20%20%20%20icon%3A%20new%20L.Icon.Default%28%29%2C%0A%20%20%20%20%20%20%20%20%20%20%20%20%20%20%20%20%7D%0A%20%20%20%20%20%20%20%20%20%20%20%20%29.addTo%28map_80fd2f2a380b47c2867690105c710fb1%29%3B%0A%20%20%20%20%20%20%20%20%0A%20%20%20%20%0A%20%20%20%20%20%20%20%20marker_54a005ef74524913a5ff16cfe8186f2c.bindTooltip%28%0A%20%20%20%20%20%20%20%20%20%20%20%20%60%3Cdiv%3E%60%0A%20%20%20%20%20%20%20%20%20%20%20%20%2B%20%60%EC%84%B1%EA%B7%A0%EA%B4%80%EB%8C%80%ED%95%99%EA%B5%90%20%EC%84%9C%EC%9A%B8%EC%BA%A0%ED%8D%BC%EC%8A%A4%20%C2%A0%60%20%2B%20%60%3C/div%3E%60%2C%0A%20%20%20%20%20%20%20%20%20%20%20%20%7B%22sticky%22%3A%20true%7D%0A%20%20%20%20%20%20%20%20%29%3B%0A%20%20%20%20%20%20%20%20%0A%20%20%20%20%0A%20%20%20%20%20%20%20%20var%20marker_75228901cabd4964a6d866919c7dcd11%20%3D%20L.marker%28%0A%20%20%20%20%20%20%20%20%20%20%20%20%5B37.5913103%2C%20127.0221312%5D%2C%0A%20%20%20%20%20%20%20%20%20%20%20%20%7B%0A%20%20%20%20%20%20%20%20%20%20%20%20%20%20%20%20icon%3A%20new%20L.Icon.Default%28%29%2C%0A%20%20%20%20%20%20%20%20%20%20%20%20%20%20%20%20%7D%0A%20%20%20%20%20%20%20%20%20%20%20%20%29.addTo%28map_80fd2f2a380b47c2867690105c710fb1%29%3B%0A%20%20%20%20%20%20%20%20%0A%20%20%20%20%0A%20%20%20%20%20%20%20%20marker_75228901cabd4964a6d866919c7dcd11.bindTooltip%28%0A%20%20%20%20%20%20%20%20%20%20%20%20%60%3Cdiv%3E%60%0A%20%20%20%20%20%20%20%20%20%20%20%20%2B%20%60%EC%84%B1%EC%8B%A0%EC%97%AC%EC%9E%90%EB%8C%80%ED%95%99%EA%B5%90%60%20%2B%20%60%3C/div%3E%60%2C%0A%20%20%20%20%20%20%20%20%20%20%20%20%7B%22sticky%22%3A%20true%7D%0A%20%20%20%20%20%20%20%20%29%3B%0A%20%20%20%20%20%20%20%20%0A%20%20%20%20%0A%20%20%20%20%20%20%20%20var%20marker_f84a10422858444cb1218dc8f175018a%20%3D%20L.marker%28%0A%20%20%20%20%20%20%20%20%20%20%20%20%5B37.5502596%2C%20127.073139%5D%2C%0A%20%20%20%20%20%20%20%20%20%20%20%20%7B%0A%20%20%20%20%20%20%20%20%20%20%20%20%20%20%20%20icon%3A%20new%20L.Icon.Default%28%29%2C%0A%20%20%20%20%20%20%20%20%20%20%20%20%20%20%20%20%7D%0A%20%20%20%20%20%20%20%20%20%20%20%20%29.addTo%28map_80fd2f2a380b47c2867690105c710fb1%29%3B%0A%20%20%20%20%20%20%20%20%0A%20%20%20%20%0A%20%20%20%20%20%20%20%20marker_f84a10422858444cb1218dc8f175018a.bindTooltip%28%0A%20%20%20%20%20%20%20%20%20%20%20%20%60%3Cdiv%3E%60%0A%20%20%20%20%20%20%20%20%20%20%20%20%2B%20%60%EC%84%B8%EC%A2%85%EB%8C%80%ED%95%99%EA%B5%90%60%20%2B%20%60%3C/div%3E%60%2C%0A%20%20%20%20%20%20%20%20%20%20%20%20%7B%22sticky%22%3A%20true%7D%0A%20%20%20%20%20%20%20%20%29%3B%0A%20%20%20%20%20%20%20%20%0A%20%20%20%20%0A%20%20%20%20%20%20%20%20var%20marker_c2914c45e20944fb948758f448d4763c%20%3D%20L.marker%28%0A%20%20%20%20%20%20%20%20%20%20%20%20%5B37.5463644%2C%20126.9648311%5D%2C%0A%20%20%20%20%20%20%20%20%20%20%20%20%7B%0A%20%20%20%20%20%20%20%20%20%20%20%20%20%20%20%20icon%3A%20new%20L.Icon.Default%28%29%2C%0A%20%20%20%20%20%20%20%20%20%20%20%20%20%20%20%20%7D%0A%20%20%20%20%20%20%20%20%20%20%20%20%29.addTo%28map_80fd2f2a380b47c2867690105c710fb1%29%3B%0A%20%20%20%20%20%20%20%20%0A%20%20%20%20%0A%20%20%20%20%20%20%20%20marker_c2914c45e20944fb948758f448d4763c.bindTooltip%28%0A%20%20%20%20%20%20%20%20%20%20%20%20%60%3Cdiv%3E%60%0A%20%20%20%20%20%20%20%20%20%20%20%20%2B%20%60%EC%88%99%EB%AA%85%EC%97%AC%EC%9E%90%EB%8C%80%ED%95%99%EA%B5%90%60%20%2B%20%60%3C/div%3E%60%2C%0A%20%20%20%20%20%20%20%20%20%20%20%20%7B%22sticky%22%3A%20true%7D%0A%20%20%20%20%20%20%20%20%29%3B%0A%20%20%20%20%20%20%20%20%0A%20%20%20%20%0A%20%20%20%20%20%20%20%20var%20marker_0b44f586e1a14c179a9f05c239888bb3%20%3D%20L.marker%28%0A%20%20%20%20%20%20%20%20%20%20%20%20%5B37.4963111%2C%20126.9574596%5D%2C%0A%20%20%20%20%20%20%20%20%20%20%20%20%7B%0A%20%20%20%20%20%20%20%20%20%20%20%20%20%20%20%20icon%3A%20new%20L.Icon.Default%28%29%2C%0A%20%20%20%20%20%20%20%20%20%20%20%20%20%20%20%20%7D%0A%20%20%20%20%20%20%20%20%20%20%20%20%29.addTo%28map_80fd2f2a380b47c2867690105c710fb1%29%3B%0A%20%20%20%20%20%20%20%20%0A%20%20%20%20%0A%20%20%20%20%20%20%20%20marker_0b44f586e1a14c179a9f05c239888bb3.bindTooltip%28%0A%20%20%20%20%20%20%20%20%20%20%20%20%60%3Cdiv%3E%60%0A%20%20%20%20%20%20%20%20%20%20%20%20%2B%20%60%EC%88%AD%EC%8B%A4%EB%8C%80%ED%95%99%EA%B5%90%60%20%2B%20%60%3C/div%3E%60%2C%0A%20%20%20%20%20%20%20%20%20%20%20%20%7B%22sticky%22%3A%20true%7D%0A%20%20%20%20%20%20%20%20%29%3B%0A%20%20%20%20%20%20%20%20%0A%20%20%20%20%0A%20%20%20%20%20%20%20%20var%20marker_6fd1b40c2cea42b3a695c2fc4c91e676%20%3D%20L.marker%28%0A%20%20%20%20%20%20%20%20%20%20%20%20%5B37.565784%2C%20126.938572%5D%2C%0A%20%20%20%20%20%20%20%20%20%20%20%20%7B%0A%20%20%20%20%20%20%20%20%20%20%20%20%20%20%20%20icon%3A%20new%20L.Icon.Default%28%29%2C%0A%20%20%20%20%20%20%20%20%20%20%20%20%20%20%20%20%7D%0A%20%20%20%20%20%20%20%20%20%20%20%20%29.addTo%28map_80fd2f2a380b47c2867690105c710fb1%29%3B%0A%20%20%20%20%20%20%20%20%0A%20%20%20%20%0A%20%20%20%20%20%20%20%20marker_6fd1b40c2cea42b3a695c2fc4c91e676.bindTooltip%28%0A%20%20%20%20%20%20%20%20%20%20%20%20%60%3Cdiv%3E%60%0A%20%20%20%20%20%20%20%20%20%20%20%20%2B%20%60%EC%97%B0%EC%84%B8%EB%8C%80%ED%95%99%EA%B5%90%60%20%2B%20%60%3C/div%3E%60%2C%0A%20%20%20%20%20%20%20%20%20%20%20%20%7B%22sticky%22%3A%20true%7D%0A%20%20%20%20%20%20%20%20%29%3B%0A%20%20%20%20%20%20%20%20%0A%20%20%20%20%0A%20%20%20%20%20%20%20%20var%20marker_fd064e1f20ed4dee87b93deb91bf9f55%20%3D%20L.marker%28%0A%20%20%20%20%20%20%20%20%20%20%20%20%5B37.6238188%2C%20127.0988783%5D%2C%0A%20%20%20%20%20%20%20%20%20%20%20%20%7B%0A%20%20%20%20%20%20%20%20%20%20%20%20%20%20%20%20icon%3A%20new%20L.Icon.Default%28%29%2C%0A%20%20%20%20%20%20%20%20%20%20%20%20%20%20%20%20%7D%0A%20%20%20%20%20%20%20%20%20%20%20%20%29.addTo%28map_80fd2f2a380b47c2867690105c710fb1%29%3B%0A%20%20%20%20%20%20%20%20%0A%20%20%20%20%0A%20%20%20%20%20%20%20%20marker_fd064e1f20ed4dee87b93deb91bf9f55.bindTooltip%28%0A%20%20%20%20%20%20%20%20%20%20%20%20%60%3Cdiv%3E%60%0A%20%20%20%20%20%20%20%20%20%20%20%20%2B%20%60%EC%9C%A1%EA%B5%B0%EC%82%AC%EA%B4%80%ED%95%99%EA%B5%90%60%20%2B%20%60%3C/div%3E%60%2C%0A%20%20%20%20%20%20%20%20%20%20%20%20%7B%22sticky%22%3A%20true%7D%0A%20%20%20%20%20%20%20%20%29%3B%0A%20%20%20%20%20%20%20%20%0A%20%20%20%20%0A%20%20%20%20%20%20%20%20var%20marker_26571d1d350d456cb650d524f18d88ee%20%3D%20L.marker%28%0A%20%20%20%20%20%20%20%20%20%20%20%20%5B37.5643079%2C%20126.9501786%5D%2C%0A%20%20%20%20%20%20%20%20%20%20%20%20%7B%0A%20%20%20%20%20%20%20%20%20%20%20%20%20%20%20%20icon%3A%20new%20L.Icon.Default%28%29%2C%0A%20%20%20%20%20%20%20%20%20%20%20%20%20%20%20%20%7D%0A%20%20%20%20%20%20%20%20%20%20%20%20%29.addTo%28map_80fd2f2a380b47c2867690105c710fb1%29%3B%0A%20%20%20%20%20%20%20%20%0A%20%20%20%20%0A%20%20%20%20%20%20%20%20marker_26571d1d350d456cb650d524f18d88ee.bindTooltip%28%0A%20%20%20%20%20%20%20%20%20%20%20%20%60%3Cdiv%3E%60%0A%20%20%20%20%20%20%20%20%20%20%20%20%2B%20%60%EC%9D%B4%ED%99%94%EC%97%AC%EC%9E%90%EB%8C%80%ED%95%99%EA%B5%90%60%20%2B%20%60%3C/div%3E%60%2C%0A%20%20%20%20%20%20%20%20%20%20%20%20%7B%22sticky%22%3A%20true%7D%0A%20%20%20%20%20%20%20%20%29%3B%0A%20%20%20%20%20%20%20%20%0A%20%20%20%20%0A%20%20%20%20%20%20%20%20var%20marker_39e60d1ca3414e7f973ec7120d0e6f72%20%3D%20L.marker%28%0A%20%20%20%20%20%20%20%20%20%20%20%20%5B37.5505112%2C%20127.1034577%5D%2C%0A%20%20%20%20%20%20%20%20%20%20%20%20%7B%0A%20%20%20%20%20%20%20%20%20%20%20%20%20%20%20%20icon%3A%20new%20L.Icon.Default%28%29%2C%0A%20%20%20%20%20%20%20%20%20%20%20%20%20%20%20%20%7D%0A%20%20%20%20%20%20%20%20%20%20%20%20%29.addTo%28map_80fd2f2a380b47c2867690105c710fb1%29%3B%0A%20%20%20%20%20%20%20%20%0A%20%20%20%20%0A%20%20%20%20%20%20%20%20marker_39e60d1ca3414e7f973ec7120d0e6f72.bindTooltip%28%0A%20%20%20%20%20%20%20%20%20%20%20%20%60%3Cdiv%3E%60%0A%20%20%20%20%20%20%20%20%20%20%20%20%2B%20%60%EC%9E%A5%EB%A1%9C%ED%9A%8C%EC%8B%A0%ED%95%99%EB%8C%80%ED%95%99%EA%B5%90%60%20%2B%20%60%3C/div%3E%60%2C%0A%20%20%20%20%20%20%20%20%20%20%20%20%7B%22sticky%22%3A%20true%7D%0A%20%20%20%20%20%20%20%20%29%3B%0A%20%20%20%20%20%20%20%20%0A%20%20%20%20%0A%20%20%20%20%20%20%20%20var%20marker_3e8a51454cb44716b5f39a10a791dbdb%20%3D%20L.marker%28%0A%20%20%20%20%20%20%20%20%20%20%20%20%5B37.5050881%2C%20126.9571012%5D%2C%0A%20%20%20%20%20%20%20%20%20%20%20%20%7B%0A%20%20%20%20%20%20%20%20%20%20%20%20%20%20%20%20icon%3A%20new%20L.Icon.Default%28%29%2C%0A%20%20%20%20%20%20%20%20%20%20%20%20%20%20%20%20%7D%0A%20%20%20%20%20%20%20%20%20%20%20%20%29.addTo%28map_80fd2f2a380b47c2867690105c710fb1%29%3B%0A%20%20%20%20%20%20%20%20%0A%20%20%20%20%0A%20%20%20%20%20%20%20%20marker_3e8a51454cb44716b5f39a10a791dbdb.bindTooltip%28%0A%20%20%20%20%20%20%20%20%20%20%20%20%60%3Cdiv%3E%60%0A%20%20%20%20%20%20%20%20%20%20%20%20%2B%20%60%EC%A4%91%EC%95%99%EB%8C%80%ED%95%99%EA%B5%90%20%EC%84%9C%EC%9A%B8%EC%BA%A0%ED%8D%BC%EC%8A%A4%20%60%20%2B%20%60%3C/div%3E%60%2C%0A%20%20%20%20%20%20%20%20%20%20%20%20%7B%22sticky%22%3A%20true%7D%0A%20%20%20%20%20%20%20%20%29%3B%0A%20%20%20%20%20%20%20%20%0A%20%20%20%20%0A%20%20%20%20%20%20%20%20var%20marker_c3980f24aafe4870a7c56a4c11d250b6%20%3D%20L.marker%28%0A%20%20%20%20%20%20%20%20%20%20%20%20%5B37.4886232%2C%20126.9668169%5D%2C%0A%20%20%20%20%20%20%20%20%20%20%20%20%7B%0A%20%20%20%20%20%20%20%20%20%20%20%20%20%20%20%20icon%3A%20new%20L.Icon.Default%28%29%2C%0A%20%20%20%20%20%20%20%20%20%20%20%20%20%20%20%20%7D%0A%20%20%20%20%20%20%20%20%20%20%20%20%29.addTo%28map_80fd2f2a380b47c2867690105c710fb1%29%3B%0A%20%20%20%20%20%20%20%20%0A%20%20%20%20%0A%20%20%20%20%20%20%20%20marker_c3980f24aafe4870a7c56a4c11d250b6.bindTooltip%28%0A%20%20%20%20%20%20%20%20%20%20%20%20%60%3Cdiv%3E%60%0A%20%20%20%20%20%20%20%20%20%20%20%20%2B%20%60%EC%B4%9D%EC%8B%A0%EB%8C%80%ED%95%99%EA%B5%90%60%20%2B%20%60%3C/div%3E%60%2C%0A%20%20%20%20%20%20%20%20%20%20%20%20%7B%22sticky%22%3A%20true%7D%0A%20%20%20%20%20%20%20%20%29%3B%0A%20%20%20%20%20%20%20%20%0A%20%20%20%20%0A%20%20%20%20%20%20%20%20var%20marker_27dbde0c58c942419ec428756ba8dd01%20%3D%20L.marker%28%0A%20%20%20%20%20%20%20%20%20%20%20%20%5B37.5624515%2C%20126.9534165%5D%2C%0A%20%20%20%20%20%20%20%20%20%20%20%20%7B%0A%20%20%20%20%20%20%20%20%20%20%20%20%20%20%20%20icon%3A%20new%20L.Icon.Default%28%29%2C%0A%20%20%20%20%20%20%20%20%20%20%20%20%20%20%20%20%7D%0A%20%20%20%20%20%20%20%20%20%20%20%20%29.addTo%28map_80fd2f2a380b47c2867690105c710fb1%29%3B%0A%20%20%20%20%20%20%20%20%0A%20%20%20%20%0A%20%20%20%20%20%20%20%20marker_27dbde0c58c942419ec428756ba8dd01.bindTooltip%28%0A%20%20%20%20%20%20%20%20%20%20%20%20%60%3Cdiv%3E%60%0A%20%20%20%20%20%20%20%20%20%20%20%20%2B%20%60%EC%B6%94%EA%B3%84%EC%98%88%EC%88%A0%EB%8C%80%ED%95%99%EA%B5%90%60%20%2B%20%60%3C/div%3E%60%2C%0A%20%20%20%20%20%20%20%20%20%20%20%20%7B%22sticky%22%3A%20true%7D%0A%20%20%20%20%20%20%20%20%29%3B%0A%20%20%20%20%20%20%20%20%0A%20%20%20%20%0A%20%20%20%20%20%20%20%20var%20marker_f5d34fc4bbf34b53a56d6f9ae38b9272%20%3D%20L.marker%28%0A%20%20%20%20%20%20%20%20%20%20%20%20%5B37.5786127%2C%20127.0032905%5D%2C%0A%20%20%20%20%20%20%20%20%20%20%20%20%7B%0A%20%20%20%20%20%20%20%20%20%20%20%20%20%20%20%20icon%3A%20new%20L.Icon.Default%28%29%2C%0A%20%20%20%20%20%20%20%20%20%20%20%20%20%20%20%20%7D%0A%20%20%20%20%20%20%20%20%20%20%20%20%29.addTo%28map_80fd2f2a380b47c2867690105c710fb1%29%3B%0A%20%20%20%20%20%20%20%20%0A%20%20%20%20%0A%20%20%20%20%20%20%20%20marker_f5d34fc4bbf34b53a56d6f9ae38b9272.bindTooltip%28%0A%20%20%20%20%20%20%20%20%20%20%20%20%60%3Cdiv%3E%60%0A%20%20%20%20%20%20%20%20%20%20%20%20%2B%20%60%ED%95%9C%EA%B5%AD%EB%B0%A9%EC%86%A1%ED%86%B5%EC%8B%A0%EB%8C%80%ED%95%99%EA%B5%90%60%20%2B%20%60%3C/div%3E%60%2C%0A%20%20%20%20%20%20%20%20%20%20%20%20%7B%22sticky%22%3A%20true%7D%0A%20%20%20%20%20%20%20%20%29%3B%0A%20%20%20%20%20%20%20%20%0A%20%20%20%20%0A%20%20%20%20%20%20%20%20var%20marker_3805e13aeff84533a82ff35f91fbd387%20%3D%20L.marker%28%0A%20%20%20%20%20%20%20%20%20%20%20%20%5B37.6487485%2C%20127.0643199%5D%2C%0A%20%20%20%20%20%20%20%20%20%20%20%20%7B%0A%20%20%20%20%20%20%20%20%20%20%20%20%20%20%20%20icon%3A%20new%20L.Icon.Default%28%29%2C%0A%20%20%20%20%20%20%20%20%20%20%20%20%20%20%20%20%7D%0A%20%20%20%20%20%20%20%20%20%20%20%20%29.addTo%28map_80fd2f2a380b47c2867690105c710fb1%29%3B%0A%20%20%20%20%20%20%20%20%0A%20%20%20%20%0A%20%20%20%20%20%20%20%20marker_3805e13aeff84533a82ff35f91fbd387.bindTooltip%28%0A%20%20%20%20%20%20%20%20%20%20%20%20%60%3Cdiv%3E%60%0A%20%20%20%20%20%20%20%20%20%20%20%20%2B%20%60%ED%95%9C%EA%B5%AD%EC%84%B1%EC%84%9C%EB%8C%80%ED%95%99%EA%B5%90%60%20%2B%20%60%3C/div%3E%60%2C%0A%20%20%20%20%20%20%20%20%20%20%20%20%7B%22sticky%22%3A%20true%7D%0A%20%20%20%20%20%20%20%20%29%3B%0A%20%20%20%20%20%20%20%20%0A%20%20%20%20%0A%20%20%20%20%20%20%20%20var%20marker_d8fd1314005e413b92e84f5ca46c7fdc%20%3D%20L.marker%28%0A%20%20%20%20%20%20%20%20%20%20%20%20%5B37.6049973%2C%20127.0567397%5D%2C%0A%20%20%20%20%20%20%20%20%20%20%20%20%7B%0A%20%20%20%20%20%20%20%20%20%20%20%20%20%20%20%20icon%3A%20new%20L.Icon.Default%28%29%2C%0A%20%20%20%20%20%20%20%20%20%20%20%20%20%20%20%20%7D%0A%20%20%20%20%20%20%20%20%20%20%20%20%29.addTo%28map_80fd2f2a380b47c2867690105c710fb1%29%3B%0A%20%20%20%20%20%20%20%20%0A%20%20%20%20%0A%20%20%20%20%20%20%20%20marker_d8fd1314005e413b92e84f5ca46c7fdc.bindTooltip%28%0A%20%20%20%20%20%20%20%20%20%20%20%20%60%3Cdiv%3E%60%0A%20%20%20%20%20%20%20%20%20%20%20%20%2B%20%60%ED%95%9C%EA%B5%AD%EC%98%88%EC%88%A0%EC%A2%85%ED%95%A9%ED%95%99%EA%B5%90%60%20%2B%20%60%3C/div%3E%60%2C%0A%20%20%20%20%20%20%20%20%20%20%20%20%7B%22sticky%22%3A%20true%7D%0A%20%20%20%20%20%20%20%20%29%3B%0A%20%20%20%20%20%20%20%20%0A%20%20%20%20%0A%20%20%20%20%20%20%20%20var%20marker_8f7c4f007e2b42c2a7c12c2aa16a99a6%20%3D%20L.marker%28%0A%20%20%20%20%20%20%20%20%20%20%20%20%5B37.597319%2C%20127.057843%5D%2C%0A%20%20%20%20%20%20%20%20%20%20%20%20%7B%0A%20%20%20%20%20%20%20%20%20%20%20%20%20%20%20%20icon%3A%20new%20L.Icon.Default%28%29%2C%0A%20%20%20%20%20%20%20%20%20%20%20%20%20%20%20%20%7D%0A%20%20%20%20%20%20%20%20%20%20%20%20%29.addTo%28map_80fd2f2a380b47c2867690105c710fb1%29%3B%0A%20%20%20%20%20%20%20%20%0A%20%20%20%20%0A%20%20%20%20%20%20%20%20marker_8f7c4f007e2b42c2a7c12c2aa16a99a6.bindTooltip%28%0A%20%20%20%20%20%20%20%20%20%20%20%20%60%3Cdiv%3E%60%0A%20%20%20%20%20%20%20%20%20%20%20%20%2B%20%60%ED%95%9C%EA%B5%AD%EC%99%B8%EA%B5%AD%EC%96%B4%EB%8C%80%ED%95%99%EA%B5%90%60%20%2B%20%60%3C/div%3E%60%2C%0A%20%20%20%20%20%20%20%20%20%20%20%20%7B%22sticky%22%3A%20true%7D%0A%20%20%20%20%20%20%20%20%29%3B%0A%20%20%20%20%20%20%20%20%0A%20%20%20%20%0A%20%20%20%20%20%20%20%20var%20marker_3379df7291aa47339f6c4946f101ed41%20%3D%20L.marker%28%0A%20%20%20%20%20%20%20%20%20%20%20%20%5B37.5196266%2C%20127.1309837%5D%2C%0A%20%20%20%20%20%20%20%20%20%20%20%20%7B%0A%20%20%20%20%20%20%20%20%20%20%20%20%20%20%20%20icon%3A%20new%20L.Icon.Default%28%29%2C%0A%20%20%20%20%20%20%20%20%20%20%20%20%20%20%20%20%7D%0A%20%20%20%20%20%20%20%20%20%20%20%20%29.addTo%28map_80fd2f2a380b47c2867690105c710fb1%29%3B%0A%20%20%20%20%20%20%20%20%0A%20%20%20%20%0A%20%20%20%20%20%20%20%20marker_3379df7291aa47339f6c4946f101ed41.bindTooltip%28%0A%20%20%20%20%20%20%20%20%20%20%20%20%60%3Cdiv%3E%60%0A%20%20%20%20%20%20%20%20%20%20%20%20%2B%20%60%ED%95%9C%EA%B5%AD%EC%B2%B4%EC%9C%A1%EB%8C%80%ED%95%99%EA%B5%90%60%20%2B%20%60%3C/div%3E%60%2C%0A%20%20%20%20%20%20%20%20%20%20%20%20%7B%22sticky%22%3A%20true%7D%0A%20%20%20%20%20%20%20%20%29%3B%0A%20%20%20%20%20%20%20%20%0A%20%20%20%20%0A%20%20%20%20%20%20%20%20var%20marker_0c65e65a95fd49fe9ab66780269eb783%20%3D%20L.marker%28%0A%20%20%20%20%20%20%20%20%20%20%20%20%5B37.5817849%2C%20127.010369%5D%2C%0A%20%20%20%20%20%20%20%20%20%20%20%20%7B%0A%20%20%20%20%20%20%20%20%20%20%20%20%20%20%20%20icon%3A%20new%20L.Icon.Default%28%29%2C%0A%20%20%20%20%20%20%20%20%20%20%20%20%20%20%20%20%7D%0A%20%20%20%20%20%20%20%20%20%20%20%20%29.addTo%28map_80fd2f2a380b47c2867690105c710fb1%29%3B%0A%20%20%20%20%20%20%20%20%0A%20%20%20%20%0A%20%20%20%20%20%20%20%20marker_0c65e65a95fd49fe9ab66780269eb783.bindTooltip%28%0A%20%20%20%20%20%20%20%20%20%20%20%20%60%3Cdiv%3E%60%0A%20%20%20%20%20%20%20%20%20%20%20%20%2B%20%60%ED%95%9C%EC%84%B1%EB%8C%80%ED%95%99%EA%B5%90%60%20%2B%20%60%3C/div%3E%60%2C%0A%20%20%20%20%20%20%20%20%20%20%20%20%7B%22sticky%22%3A%20true%7D%0A%20%20%20%20%20%20%20%20%29%3B%0A%20%20%20%20%20%20%20%20%0A%20%20%20%20%0A%20%20%20%20%20%20%20%20var%20marker_c0cba7fea77f4e4595d0e279c5c9df30%20%3D%20L.marker%28%0A%20%20%20%20%20%20%20%20%20%20%20%20%5B37.5572321%2C%20127.0453219%5D%2C%0A%20%20%20%20%20%20%20%20%20%20%20%20%7B%0A%20%20%20%20%20%20%20%20%20%20%20%20%20%20%20%20icon%3A%20new%20L.Icon.Default%28%29%2C%0A%20%20%20%20%20%20%20%20%20%20%20%20%20%20%20%20%7D%0A%20%20%20%20%20%20%20%20%20%20%20%20%29.addTo%28map_80fd2f2a380b47c2867690105c710fb1%29%3B%0A%20%20%20%20%20%20%20%20%0A%20%20%20%20%0A%20%20%20%20%20%20%20%20marker_c0cba7fea77f4e4595d0e279c5c9df30.bindTooltip%28%0A%20%20%20%20%20%20%20%20%20%20%20%20%60%3Cdiv%3E%60%0A%20%20%20%20%20%20%20%20%20%20%20%20%2B%20%60%ED%95%9C%EC%96%91%EB%8C%80%ED%95%99%EA%B5%90%60%20%2B%20%60%3C/div%3E%60%2C%0A%20%20%20%20%20%20%20%20%20%20%20%20%7B%22sticky%22%3A%20true%7D%0A%20%20%20%20%20%20%20%20%29%3B%0A%20%20%20%20%20%20%20%20%0A%20%20%20%20%0A%20%20%20%20%20%20%20%20var%20marker_4d2e64d8e9d64cfc9c6707b5238890ff%20%3D%20L.marker%28%0A%20%20%20%20%20%20%20%20%20%20%20%20%5B37.5514642%2C%20126.9250106%5D%2C%0A%20%20%20%20%20%20%20%20%20%20%20%20%7B%0A%20%20%20%20%20%20%20%20%20%20%20%20%20%20%20%20icon%3A%20new%20L.Icon.Default%28%29%2C%0A%20%20%20%20%20%20%20%20%20%20%20%20%20%20%20%20%7D%0A%20%20%20%20%20%20%20%20%20%20%20%20%29.addTo%28map_80fd2f2a380b47c2867690105c710fb1%29%3B%0A%20%20%20%20%20%20%20%20%0A%20%20%20%20%0A%20%20%20%20%20%20%20%20marker_4d2e64d8e9d64cfc9c6707b5238890ff.bindTooltip%28%0A%20%20%20%20%20%20%20%20%20%20%20%20%60%3Cdiv%3E%60%0A%20%20%20%20%20%20%20%20%20%20%20%20%2B%20%60%ED%99%8D%EC%9D%B5%EB%8C%80%ED%95%99%EA%B5%90%60%20%2B%20%60%3C/div%3E%60%2C%0A%20%20%20%20%20%20%20%20%20%20%20%20%7B%22sticky%22%3A%20true%7D%0A%20%20%20%20%20%20%20%20%29%3B%0A%20%20%20%20%20%20%20%20%0A%3C/script%3E onload=\"this.contentDocument.open();this.contentDocument.write(    decodeURIComponent(this.getAttribute('data-html')));this.contentDocument.close();\" allowfullscreen webkitallowfullscreen mozallowfullscreen></iframe></div></div>"
            ],
            "text/plain": [
              "<folium.folium.Map at 0x7f611cadaf28>"
            ]
          },
          "metadata": {
            "tags": []
          },
          "execution_count": 62
        }
      ]
    },
    {
      "cell_type": "code",
      "metadata": {
        "id": "AtrHbnU_HwGJ",
        "colab_type": "code",
        "colab": {
          "base_uri": "https://localhost:8080/",
          "height": 649
        },
        "outputId": "d0ca0f7e-98e3-4cd6-cbe6-027e0fca40dc"
      },
      "source": [
        "seoul_map = folium.Map(location = [37.55, 126.98], tiles = \"Stamen Terrain\", zoom_start = 12) #서울 지도 생성\n",
        "\n",
        "for name, lat, lng in zip(df.index, df[\"위도\"], df[\"경도\"]):\n",
        "  #print(\"name: \", name, \"lat = \", lat, \"lng = \", lng)\n",
        "  folium.CircleMarker(\n",
        "      location = [lat, lng],\n",
        "      radious = 10,\n",
        "      color = \"red\",\n",
        "      fill = True,\n",
        "      fill_color = \"pink\",\n",
        "      fill_opacity = 0.7,\n",
        "      tooltip = name\n",
        "      ).add_to(seoul_map)\n",
        "\n",
        "seoul_map"
      ],
      "execution_count": null,
      "outputs": [
        {
          "output_type": "execute_result",
          "data": {
            "text/html": [
              "<div style=\"width:100%;\"><div style=\"position:relative;width:100%;height:0;padding-bottom:60%;\"><span style=\"color:#565656\">Make this Notebook Trusted to load map: File -> Trust Notebook</span><iframe src=\"about:blank\" style=\"position:absolute;width:100%;height:100%;left:0;top:0;border:none !important;\" data-html=%3C%21DOCTYPE%20html%3E%0A%3Chead%3E%20%20%20%20%0A%20%20%20%20%3Cmeta%20http-equiv%3D%22content-type%22%20content%3D%22text/html%3B%20charset%3DUTF-8%22%20/%3E%0A%20%20%20%20%3Cscript%3EL_PREFER_CANVAS%3Dfalse%3B%20L_NO_TOUCH%3Dfalse%3B%20L_DISABLE_3D%3Dfalse%3B%3C/script%3E%0A%20%20%20%20%3Cscript%20src%3D%22https%3A//cdn.jsdelivr.net/npm/leaflet%401.4.0/dist/leaflet.js%22%3E%3C/script%3E%0A%20%20%20%20%3Cscript%20src%3D%22https%3A//code.jquery.com/jquery-1.12.4.min.js%22%3E%3C/script%3E%0A%20%20%20%20%3Cscript%20src%3D%22https%3A//maxcdn.bootstrapcdn.com/bootstrap/3.2.0/js/bootstrap.min.js%22%3E%3C/script%3E%0A%20%20%20%20%3Cscript%20src%3D%22https%3A//cdnjs.cloudflare.com/ajax/libs/Leaflet.awesome-markers/2.0.2/leaflet.awesome-markers.js%22%3E%3C/script%3E%0A%20%20%20%20%3Clink%20rel%3D%22stylesheet%22%20href%3D%22https%3A//cdn.jsdelivr.net/npm/leaflet%401.4.0/dist/leaflet.css%22/%3E%0A%20%20%20%20%3Clink%20rel%3D%22stylesheet%22%20href%3D%22https%3A//maxcdn.bootstrapcdn.com/bootstrap/3.2.0/css/bootstrap.min.css%22/%3E%0A%20%20%20%20%3Clink%20rel%3D%22stylesheet%22%20href%3D%22https%3A//maxcdn.bootstrapcdn.com/bootstrap/3.2.0/css/bootstrap-theme.min.css%22/%3E%0A%20%20%20%20%3Clink%20rel%3D%22stylesheet%22%20href%3D%22https%3A//maxcdn.bootstrapcdn.com/font-awesome/4.6.3/css/font-awesome.min.css%22/%3E%0A%20%20%20%20%3Clink%20rel%3D%22stylesheet%22%20href%3D%22https%3A//cdnjs.cloudflare.com/ajax/libs/Leaflet.awesome-markers/2.0.2/leaflet.awesome-markers.css%22/%3E%0A%20%20%20%20%3Clink%20rel%3D%22stylesheet%22%20href%3D%22https%3A//rawcdn.githack.com/python-visualization/folium/master/folium/templates/leaflet.awesome.rotate.css%22/%3E%0A%20%20%20%20%3Cstyle%3Ehtml%2C%20body%20%7Bwidth%3A%20100%25%3Bheight%3A%20100%25%3Bmargin%3A%200%3Bpadding%3A%200%3B%7D%3C/style%3E%0A%20%20%20%20%3Cstyle%3E%23map%20%7Bposition%3Aabsolute%3Btop%3A0%3Bbottom%3A0%3Bright%3A0%3Bleft%3A0%3B%7D%3C/style%3E%0A%20%20%20%20%0A%20%20%20%20%3Cmeta%20name%3D%22viewport%22%20content%3D%22width%3Ddevice-width%2C%0A%20%20%20%20%20%20%20%20initial-scale%3D1.0%2C%20maximum-scale%3D1.0%2C%20user-scalable%3Dno%22%20/%3E%0A%20%20%20%20%3Cstyle%3E%23map_9309078ab88c415eabcbeffdc90d8404%20%7B%0A%20%20%20%20%20%20%20%20position%3A%20relative%3B%0A%20%20%20%20%20%20%20%20width%3A%20100.0%25%3B%0A%20%20%20%20%20%20%20%20height%3A%20100.0%25%3B%0A%20%20%20%20%20%20%20%20left%3A%200.0%25%3B%0A%20%20%20%20%20%20%20%20top%3A%200.0%25%3B%0A%20%20%20%20%20%20%20%20%7D%0A%20%20%20%20%3C/style%3E%0A%3C/head%3E%0A%3Cbody%3E%20%20%20%20%0A%20%20%20%20%0A%20%20%20%20%3Cdiv%20class%3D%22folium-map%22%20id%3D%22map_9309078ab88c415eabcbeffdc90d8404%22%20%3E%3C/div%3E%0A%3C/body%3E%0A%3Cscript%3E%20%20%20%20%0A%20%20%20%20%0A%20%20%20%20%0A%20%20%20%20%20%20%20%20var%20bounds%20%3D%20null%3B%0A%20%20%20%20%0A%0A%20%20%20%20var%20map_9309078ab88c415eabcbeffdc90d8404%20%3D%20L.map%28%0A%20%20%20%20%20%20%20%20%27map_9309078ab88c415eabcbeffdc90d8404%27%2C%20%7B%0A%20%20%20%20%20%20%20%20center%3A%20%5B37.55%2C%20126.98%5D%2C%0A%20%20%20%20%20%20%20%20zoom%3A%2012%2C%0A%20%20%20%20%20%20%20%20maxBounds%3A%20bounds%2C%0A%20%20%20%20%20%20%20%20layers%3A%20%5B%5D%2C%0A%20%20%20%20%20%20%20%20worldCopyJump%3A%20false%2C%0A%20%20%20%20%20%20%20%20crs%3A%20L.CRS.EPSG3857%2C%0A%20%20%20%20%20%20%20%20zoomControl%3A%20true%2C%0A%20%20%20%20%20%20%20%20%7D%29%3B%0A%0A%0A%20%20%20%20%0A%20%20%20%20var%20tile_layer_69381f356a2b4fde8dda73076e27a979%20%3D%20L.tileLayer%28%0A%20%20%20%20%20%20%20%20%27https%3A//stamen-tiles-%7Bs%7D.a.ssl.fastly.net/terrain/%7Bz%7D/%7Bx%7D/%7By%7D.jpg%27%2C%0A%20%20%20%20%20%20%20%20%7B%0A%20%20%20%20%20%20%20%20%22attribution%22%3A%20null%2C%0A%20%20%20%20%20%20%20%20%22detectRetina%22%3A%20false%2C%0A%20%20%20%20%20%20%20%20%22maxNativeZoom%22%3A%2018%2C%0A%20%20%20%20%20%20%20%20%22maxZoom%22%3A%2018%2C%0A%20%20%20%20%20%20%20%20%22minZoom%22%3A%200%2C%0A%20%20%20%20%20%20%20%20%22noWrap%22%3A%20false%2C%0A%20%20%20%20%20%20%20%20%22opacity%22%3A%201%2C%0A%20%20%20%20%20%20%20%20%22subdomains%22%3A%20%22abc%22%2C%0A%20%20%20%20%20%20%20%20%22tms%22%3A%20false%0A%7D%29.addTo%28map_9309078ab88c415eabcbeffdc90d8404%29%3B%0A%20%20%20%20%0A%20%20%20%20%20%20%20%20%20%20%20%20var%20circle_marker_0a02ffe85e4b4868888464aee9c994cb%20%3D%20L.circleMarker%28%0A%20%20%20%20%20%20%20%20%20%20%20%20%20%20%20%20%5B37.592573%2C%20127.046737%5D%2C%0A%20%20%20%20%20%20%20%20%20%20%20%20%20%20%20%20%7B%0A%20%20%22bubblingMouseEvents%22%3A%20true%2C%0A%20%20%22color%22%3A%20%22red%22%2C%0A%20%20%22dashArray%22%3A%20null%2C%0A%20%20%22dashOffset%22%3A%20null%2C%0A%20%20%22fill%22%3A%20true%2C%0A%20%20%22fillColor%22%3A%20%22pink%22%2C%0A%20%20%22fillOpacity%22%3A%200.7%2C%0A%20%20%22fillRule%22%3A%20%22evenodd%22%2C%0A%20%20%22lineCap%22%3A%20%22round%22%2C%0A%20%20%22lineJoin%22%3A%20%22round%22%2C%0A%20%20%22opacity%22%3A%201.0%2C%0A%20%20%22radius%22%3A%2010%2C%0A%20%20%22stroke%22%3A%20true%2C%0A%20%20%22weight%22%3A%203%0A%7D%0A%20%20%20%20%20%20%20%20%20%20%20%20%20%20%20%20%29%0A%20%20%20%20%20%20%20%20%20%20%20%20%20%20%20%20.addTo%28map_9309078ab88c415eabcbeffdc90d8404%29%3B%0A%20%20%20%20%20%20%20%20%20%20%20%20%0A%20%20%20%20%0A%20%20%20%20%20%20%20%20circle_marker_0a02ffe85e4b4868888464aee9c994cb.bindTooltip%28%0A%20%20%20%20%20%20%20%20%20%20%20%20%60%3Cdiv%3E%60%0A%20%20%20%20%20%20%20%20%20%20%20%20%2B%20%60KAIST%20%EC%84%9C%EC%9A%B8%EC%BA%A0%ED%8D%BC%EC%8A%A4%20%60%20%2B%20%60%3C/div%3E%60%2C%0A%20%20%20%20%20%20%20%20%20%20%20%20%7B%22sticky%22%3A%20true%7D%0A%20%20%20%20%20%20%20%20%29%3B%0A%20%20%20%20%20%20%20%20%0A%20%20%20%20%0A%20%20%20%20%20%20%20%20%20%20%20%20var%20circle_marker_dba41316a75f423d84f619e7e7c237d6%20%3D%20L.circleMarker%28%0A%20%20%20%20%20%20%20%20%20%20%20%20%20%20%20%20%5B37.5483449%2C%20126.8547974%5D%2C%0A%20%20%20%20%20%20%20%20%20%20%20%20%20%20%20%20%7B%0A%20%20%22bubblingMouseEvents%22%3A%20true%2C%0A%20%20%22color%22%3A%20%22red%22%2C%0A%20%20%22dashArray%22%3A%20null%2C%0A%20%20%22dashOffset%22%3A%20null%2C%0A%20%20%22fill%22%3A%20true%2C%0A%20%20%22fillColor%22%3A%20%22pink%22%2C%0A%20%20%22fillOpacity%22%3A%200.7%2C%0A%20%20%22fillRule%22%3A%20%22evenodd%22%2C%0A%20%20%22lineCap%22%3A%20%22round%22%2C%0A%20%20%22lineJoin%22%3A%20%22round%22%2C%0A%20%20%22opacity%22%3A%201.0%2C%0A%20%20%22radius%22%3A%2010%2C%0A%20%20%22stroke%22%3A%20true%2C%0A%20%20%22weight%22%3A%203%0A%7D%0A%20%20%20%20%20%20%20%20%20%20%20%20%20%20%20%20%29%0A%20%20%20%20%20%20%20%20%20%20%20%20%20%20%20%20.addTo%28map_9309078ab88c415eabcbeffdc90d8404%29%3B%0A%20%20%20%20%20%20%20%20%20%20%20%20%0A%20%20%20%20%0A%20%20%20%20%20%20%20%20circle_marker_dba41316a75f423d84f619e7e7c237d6.bindTooltip%28%0A%20%20%20%20%20%20%20%20%20%20%20%20%60%3Cdiv%3E%60%0A%20%20%20%20%20%20%20%20%20%20%20%20%2B%20%60KC%EB%8C%80%ED%95%99%EA%B5%90%60%20%2B%20%60%3C/div%3E%60%2C%0A%20%20%20%20%20%20%20%20%20%20%20%20%7B%22sticky%22%3A%20true%7D%0A%20%20%20%20%20%20%20%20%29%3B%0A%20%20%20%20%20%20%20%20%0A%20%20%20%20%0A%20%20%20%20%20%20%20%20%20%20%20%20var%20circle_marker_593f6264156b4110a2559d24519cb869%20%3D%20L.circleMarker%28%0A%20%20%20%20%20%20%20%20%20%20%20%20%20%20%20%20%5B37.5859218%2C%20127.0043275%5D%2C%0A%20%20%20%20%20%20%20%20%20%20%20%20%20%20%20%20%7B%0A%20%20%22bubblingMouseEvents%22%3A%20true%2C%0A%20%20%22color%22%3A%20%22red%22%2C%0A%20%20%22dashArray%22%3A%20null%2C%0A%20%20%22dashOffset%22%3A%20null%2C%0A%20%20%22fill%22%3A%20true%2C%0A%20%20%22fillColor%22%3A%20%22pink%22%2C%0A%20%20%22fillOpacity%22%3A%200.7%2C%0A%20%20%22fillRule%22%3A%20%22evenodd%22%2C%0A%20%20%22lineCap%22%3A%20%22round%22%2C%0A%20%20%22lineJoin%22%3A%20%22round%22%2C%0A%20%20%22opacity%22%3A%201.0%2C%0A%20%20%22radius%22%3A%2010%2C%0A%20%20%22stroke%22%3A%20true%2C%0A%20%20%22weight%22%3A%203%0A%7D%0A%20%20%20%20%20%20%20%20%20%20%20%20%20%20%20%20%29%0A%20%20%20%20%20%20%20%20%20%20%20%20%20%20%20%20.addTo%28map_9309078ab88c415eabcbeffdc90d8404%29%3B%0A%20%20%20%20%20%20%20%20%20%20%20%20%0A%20%20%20%20%0A%20%20%20%20%20%20%20%20circle_marker_593f6264156b4110a2559d24519cb869.bindTooltip%28%0A%20%20%20%20%20%20%20%20%20%20%20%20%60%3Cdiv%3E%60%0A%20%20%20%20%20%20%20%20%20%20%20%20%2B%20%60%EA%B0%80%ED%86%A8%EB%A6%AD%EB%8C%80%ED%95%99%EA%B5%90%28%EC%84%B1%EC%8B%A0%EA%B5%90%EC%A0%95%29%60%20%2B%20%60%3C/div%3E%60%2C%0A%20%20%20%20%20%20%20%20%20%20%20%20%7B%22sticky%22%3A%20true%7D%0A%20%20%20%20%20%20%20%20%29%3B%0A%20%20%20%20%20%20%20%20%0A%20%20%20%20%0A%20%20%20%20%20%20%20%20%20%20%20%20var%20circle_marker_eb9aba8a50244713846b5b674ece6213%20%3D%20L.circleMarker%28%0A%20%20%20%20%20%20%20%20%20%20%20%20%20%20%20%20%5B37.4996227%2C%20127.0060653%5D%2C%0A%20%20%20%20%20%20%20%20%20%20%20%20%20%20%20%20%7B%0A%20%20%22bubblingMouseEvents%22%3A%20true%2C%0A%20%20%22color%22%3A%20%22red%22%2C%0A%20%20%22dashArray%22%3A%20null%2C%0A%20%20%22dashOffset%22%3A%20null%2C%0A%20%20%22fill%22%3A%20true%2C%0A%20%20%22fillColor%22%3A%20%22pink%22%2C%0A%20%20%22fillOpacity%22%3A%200.7%2C%0A%20%20%22fillRule%22%3A%20%22evenodd%22%2C%0A%20%20%22lineCap%22%3A%20%22round%22%2C%0A%20%20%22lineJoin%22%3A%20%22round%22%2C%0A%20%20%22opacity%22%3A%201.0%2C%0A%20%20%22radius%22%3A%2010%2C%0A%20%20%22stroke%22%3A%20true%2C%0A%20%20%22weight%22%3A%203%0A%7D%0A%20%20%20%20%20%20%20%20%20%20%20%20%20%20%20%20%29%0A%20%20%20%20%20%20%20%20%20%20%20%20%20%20%20%20.addTo%28map_9309078ab88c415eabcbeffdc90d8404%29%3B%0A%20%20%20%20%20%20%20%20%20%20%20%20%0A%20%20%20%20%0A%20%20%20%20%20%20%20%20circle_marker_eb9aba8a50244713846b5b674ece6213.bindTooltip%28%0A%20%20%20%20%20%20%20%20%20%20%20%20%60%3Cdiv%3E%60%0A%20%20%20%20%20%20%20%20%20%20%20%20%2B%20%60%EA%B0%80%ED%86%A8%EB%A6%AD%EB%8C%80%ED%95%99%EA%B5%90%28%EC%84%B1%EC%9D%98%EA%B5%90%EC%A0%95%29%60%20%2B%20%60%3C/div%3E%60%2C%0A%20%20%20%20%20%20%20%20%20%20%20%20%7B%22sticky%22%3A%20true%7D%0A%20%20%20%20%20%20%20%20%29%3B%0A%20%20%20%20%20%20%20%20%0A%20%20%20%20%0A%20%20%20%20%20%20%20%20%20%20%20%20var%20circle_marker_b5bc4d0394fb46bc911efe8664c1cf8f%20%3D%20L.circleMarker%28%0A%20%20%20%20%20%20%20%20%20%20%20%20%20%20%20%20%5B37.5676455%2C%20126.96161%5D%2C%0A%20%20%20%20%20%20%20%20%20%20%20%20%20%20%20%20%7B%0A%20%20%22bubblingMouseEvents%22%3A%20true%2C%0A%20%20%22color%22%3A%20%22red%22%2C%0A%20%20%22dashArray%22%3A%20null%2C%0A%20%20%22dashOffset%22%3A%20null%2C%0A%20%20%22fill%22%3A%20true%2C%0A%20%20%22fillColor%22%3A%20%22pink%22%2C%0A%20%20%22fillOpacity%22%3A%200.7%2C%0A%20%20%22fillRule%22%3A%20%22evenodd%22%2C%0A%20%20%22lineCap%22%3A%20%22round%22%2C%0A%20%20%22lineJoin%22%3A%20%22round%22%2C%0A%20%20%22opacity%22%3A%201.0%2C%0A%20%20%22radius%22%3A%2010%2C%0A%20%20%22stroke%22%3A%20true%2C%0A%20%20%22weight%22%3A%203%0A%7D%0A%20%20%20%20%20%20%20%20%20%20%20%20%20%20%20%20%29%0A%20%20%20%20%20%20%20%20%20%20%20%20%20%20%20%20.addTo%28map_9309078ab88c415eabcbeffdc90d8404%29%3B%0A%20%20%20%20%20%20%20%20%20%20%20%20%0A%20%20%20%20%0A%20%20%20%20%20%20%20%20circle_marker_b5bc4d0394fb46bc911efe8664c1cf8f.bindTooltip%28%0A%20%20%20%20%20%20%20%20%20%20%20%20%60%3Cdiv%3E%60%0A%20%20%20%20%20%20%20%20%20%20%20%20%2B%20%60%EA%B0%90%EB%A6%AC%EA%B5%90%EC%8B%A0%ED%95%99%EB%8C%80%ED%95%99%EA%B5%90%60%20%2B%20%60%3C/div%3E%60%2C%0A%20%20%20%20%20%20%20%20%20%20%20%20%7B%22sticky%22%3A%20true%7D%0A%20%20%20%20%20%20%20%20%29%3B%0A%20%20%20%20%20%20%20%20%0A%20%20%20%20%0A%20%20%20%20%20%20%20%20%20%20%20%20var%20circle_marker_ca3ca504692449c58ed1693bfabd46b1%20%3D%20L.circleMarker%28%0A%20%20%20%20%20%20%20%20%20%20%20%20%20%20%20%20%5B37.5407625%2C%20127.0793428%5D%2C%0A%20%20%20%20%20%20%20%20%20%20%20%20%20%20%20%20%7B%0A%20%20%22bubblingMouseEvents%22%3A%20true%2C%0A%20%20%22color%22%3A%20%22red%22%2C%0A%20%20%22dashArray%22%3A%20null%2C%0A%20%20%22dashOffset%22%3A%20null%2C%0A%20%20%22fill%22%3A%20true%2C%0A%20%20%22fillColor%22%3A%20%22pink%22%2C%0A%20%20%22fillOpacity%22%3A%200.7%2C%0A%20%20%22fillRule%22%3A%20%22evenodd%22%2C%0A%20%20%22lineCap%22%3A%20%22round%22%2C%0A%20%20%22lineJoin%22%3A%20%22round%22%2C%0A%20%20%22opacity%22%3A%201.0%2C%0A%20%20%22radius%22%3A%2010%2C%0A%20%20%22stroke%22%3A%20true%2C%0A%20%20%22weight%22%3A%203%0A%7D%0A%20%20%20%20%20%20%20%20%20%20%20%20%20%20%20%20%29%0A%20%20%20%20%20%20%20%20%20%20%20%20%20%20%20%20.addTo%28map_9309078ab88c415eabcbeffdc90d8404%29%3B%0A%20%20%20%20%20%20%20%20%20%20%20%20%0A%20%20%20%20%0A%20%20%20%20%20%20%20%20circle_marker_ca3ca504692449c58ed1693bfabd46b1.bindTooltip%28%0A%20%20%20%20%20%20%20%20%20%20%20%20%60%3Cdiv%3E%60%0A%20%20%20%20%20%20%20%20%20%20%20%20%2B%20%60%EA%B1%B4%EA%B5%AD%EB%8C%80%ED%95%99%EA%B5%90%60%20%2B%20%60%3C/div%3E%60%2C%0A%20%20%20%20%20%20%20%20%20%20%20%20%7B%22sticky%22%3A%20true%7D%0A%20%20%20%20%20%20%20%20%29%3B%0A%20%20%20%20%20%20%20%20%0A%20%20%20%20%0A%20%20%20%20%20%20%20%20%20%20%20%20var%20circle_marker_5ff24b673f4f4a0fa96f09b2527ff13e%20%3D%20L.circleMarker%28%0A%20%20%20%20%20%20%20%20%20%20%20%20%20%20%20%20%5B37.30048499999999%2C%20127.035833%5D%2C%0A%20%20%20%20%20%20%20%20%20%20%20%20%20%20%20%20%7B%0A%20%20%22bubblingMouseEvents%22%3A%20true%2C%0A%20%20%22color%22%3A%20%22red%22%2C%0A%20%20%22dashArray%22%3A%20null%2C%0A%20%20%22dashOffset%22%3A%20null%2C%0A%20%20%22fill%22%3A%20true%2C%0A%20%20%22fillColor%22%3A%20%22pink%22%2C%0A%20%20%22fillOpacity%22%3A%200.7%2C%0A%20%20%22fillRule%22%3A%20%22evenodd%22%2C%0A%20%20%22lineCap%22%3A%20%22round%22%2C%0A%20%20%22lineJoin%22%3A%20%22round%22%2C%0A%20%20%22opacity%22%3A%201.0%2C%0A%20%20%22radius%22%3A%2010%2C%0A%20%20%22stroke%22%3A%20true%2C%0A%20%20%22weight%22%3A%203%0A%7D%0A%20%20%20%20%20%20%20%20%20%20%20%20%20%20%20%20%29%0A%20%20%20%20%20%20%20%20%20%20%20%20%20%20%20%20.addTo%28map_9309078ab88c415eabcbeffdc90d8404%29%3B%0A%20%20%20%20%20%20%20%20%20%20%20%20%0A%20%20%20%20%0A%20%20%20%20%20%20%20%20circle_marker_5ff24b673f4f4a0fa96f09b2527ff13e.bindTooltip%28%0A%20%20%20%20%20%20%20%20%20%20%20%20%60%3Cdiv%3E%60%0A%20%20%20%20%20%20%20%20%20%20%20%20%2B%20%60%EA%B2%BD%EA%B8%B0%EB%8C%80%ED%95%99%EA%B5%90%20%EC%84%9C%EC%9A%B8%EC%BA%A0%ED%8D%BC%EC%8A%A4%20%60%20%2B%20%60%3C/div%3E%60%2C%0A%20%20%20%20%20%20%20%20%20%20%20%20%7B%22sticky%22%3A%20true%7D%0A%20%20%20%20%20%20%20%20%29%3B%0A%20%20%20%20%20%20%20%20%0A%20%20%20%20%0A%20%20%20%20%20%20%20%20%20%20%20%20var%20circle_marker_ca69d83542be46e09b0d14a3c5994b74%20%3D%20L.circleMarker%28%0A%20%20%20%20%20%20%20%20%20%20%20%20%20%20%20%20%5B37.5961951%2C%20127.052544%5D%2C%0A%20%20%20%20%20%20%20%20%20%20%20%20%20%20%20%20%7B%0A%20%20%22bubblingMouseEvents%22%3A%20true%2C%0A%20%20%22color%22%3A%20%22red%22%2C%0A%20%20%22dashArray%22%3A%20null%2C%0A%20%20%22dashOffset%22%3A%20null%2C%0A%20%20%22fill%22%3A%20true%2C%0A%20%20%22fillColor%22%3A%20%22pink%22%2C%0A%20%20%22fillOpacity%22%3A%200.7%2C%0A%20%20%22fillRule%22%3A%20%22evenodd%22%2C%0A%20%20%22lineCap%22%3A%20%22round%22%2C%0A%20%20%22lineJoin%22%3A%20%22round%22%2C%0A%20%20%22opacity%22%3A%201.0%2C%0A%20%20%22radius%22%3A%2010%2C%0A%20%20%22stroke%22%3A%20true%2C%0A%20%20%22weight%22%3A%203%0A%7D%0A%20%20%20%20%20%20%20%20%20%20%20%20%20%20%20%20%29%0A%20%20%20%20%20%20%20%20%20%20%20%20%20%20%20%20.addTo%28map_9309078ab88c415eabcbeffdc90d8404%29%3B%0A%20%20%20%20%20%20%20%20%20%20%20%20%0A%20%20%20%20%0A%20%20%20%20%20%20%20%20circle_marker_ca69d83542be46e09b0d14a3c5994b74.bindTooltip%28%0A%20%20%20%20%20%20%20%20%20%20%20%20%60%3Cdiv%3E%60%0A%20%20%20%20%20%20%20%20%20%20%20%20%2B%20%60%EA%B2%BD%ED%9D%AC%EB%8C%80%ED%95%99%EA%B5%90%20%EC%84%9C%EC%9A%B8%EC%BA%A0%ED%8D%BC%EC%8A%A4%20%60%20%2B%20%60%3C/div%3E%60%2C%0A%20%20%20%20%20%20%20%20%20%20%20%20%7B%22sticky%22%3A%20true%7D%0A%20%20%20%20%20%20%20%20%29%3B%0A%20%20%20%20%20%20%20%20%0A%20%20%20%20%0A%20%20%20%20%20%20%20%20%20%20%20%20var%20circle_marker_d0374db84f0e48a6828955aee64b9776%20%3D%20L.circleMarker%28%0A%20%20%20%20%20%20%20%20%20%20%20%20%20%20%20%20%5B33.8477818%2C%20-117.9777482%5D%2C%0A%20%20%20%20%20%20%20%20%20%20%20%20%20%20%20%20%7B%0A%20%20%22bubblingMouseEvents%22%3A%20true%2C%0A%20%20%22color%22%3A%20%22red%22%2C%0A%20%20%22dashArray%22%3A%20null%2C%0A%20%20%22dashOffset%22%3A%20null%2C%0A%20%20%22fill%22%3A%20true%2C%0A%20%20%22fillColor%22%3A%20%22pink%22%2C%0A%20%20%22fillOpacity%22%3A%200.7%2C%0A%20%20%22fillRule%22%3A%20%22evenodd%22%2C%0A%20%20%22lineCap%22%3A%20%22round%22%2C%0A%20%20%22lineJoin%22%3A%20%22round%22%2C%0A%20%20%22opacity%22%3A%201.0%2C%0A%20%20%22radius%22%3A%2010%2C%0A%20%20%22stroke%22%3A%20true%2C%0A%20%20%22weight%22%3A%203%0A%7D%0A%20%20%20%20%20%20%20%20%20%20%20%20%20%20%20%20%29%0A%20%20%20%20%20%20%20%20%20%20%20%20%20%20%20%20.addTo%28map_9309078ab88c415eabcbeffdc90d8404%29%3B%0A%20%20%20%20%20%20%20%20%20%20%20%20%0A%20%20%20%20%0A%20%20%20%20%20%20%20%20circle_marker_d0374db84f0e48a6828955aee64b9776.bindTooltip%28%0A%20%20%20%20%20%20%20%20%20%20%20%20%60%3Cdiv%3E%60%0A%20%20%20%20%20%20%20%20%20%20%20%20%2B%20%60%EA%B3%A0%EB%A0%A4%EB%8C%80%ED%95%99%EA%B5%90%60%20%2B%20%60%3C/div%3E%60%2C%0A%20%20%20%20%20%20%20%20%20%20%20%20%7B%22sticky%22%3A%20true%7D%0A%20%20%20%20%20%20%20%20%29%3B%0A%20%20%20%20%20%20%20%20%0A%20%20%20%20%0A%20%20%20%20%20%20%20%20%20%20%20%20var%20circle_marker_6ca159d79dfd4563ba248f2789fc21ea%20%3D%20L.circleMarker%28%0A%20%20%20%20%20%20%20%20%20%20%20%20%20%20%20%20%5B37.6194965%2C%20127.0596958%5D%2C%0A%20%20%20%20%20%20%20%20%20%20%20%20%20%20%20%20%7B%0A%20%20%22bubblingMouseEvents%22%3A%20true%2C%0A%20%20%22color%22%3A%20%22red%22%2C%0A%20%20%22dashArray%22%3A%20null%2C%0A%20%20%22dashOffset%22%3A%20null%2C%0A%20%20%22fill%22%3A%20true%2C%0A%20%20%22fillColor%22%3A%20%22pink%22%2C%0A%20%20%22fillOpacity%22%3A%200.7%2C%0A%20%20%22fillRule%22%3A%20%22evenodd%22%2C%0A%20%20%22lineCap%22%3A%20%22round%22%2C%0A%20%20%22lineJoin%22%3A%20%22round%22%2C%0A%20%20%22opacity%22%3A%201.0%2C%0A%20%20%22radius%22%3A%2010%2C%0A%20%20%22stroke%22%3A%20true%2C%0A%20%20%22weight%22%3A%203%0A%7D%0A%20%20%20%20%20%20%20%20%20%20%20%20%20%20%20%20%29%0A%20%20%20%20%20%20%20%20%20%20%20%20%20%20%20%20.addTo%28map_9309078ab88c415eabcbeffdc90d8404%29%3B%0A%20%20%20%20%20%20%20%20%20%20%20%20%0A%20%20%20%20%0A%20%20%20%20%20%20%20%20circle_marker_6ca159d79dfd4563ba248f2789fc21ea.bindTooltip%28%0A%20%20%20%20%20%20%20%20%20%20%20%20%60%3Cdiv%3E%60%0A%20%20%20%20%20%20%20%20%20%20%20%20%2B%20%60%EA%B4%91%EC%9A%B4%EB%8C%80%ED%95%99%EA%B5%90%60%20%2B%20%60%3C/div%3E%60%2C%0A%20%20%20%20%20%20%20%20%20%20%20%20%7B%22sticky%22%3A%20true%7D%0A%20%20%20%20%20%20%20%20%29%3B%0A%20%20%20%20%20%20%20%20%0A%20%20%20%20%0A%20%20%20%20%20%20%20%20%20%20%20%20var%20circle_marker_e5cfb44abf3a4bdeac980fbd408c2dd2%20%3D%20L.circleMarker%28%0A%20%20%20%20%20%20%20%20%20%20%20%20%20%20%20%20%5B37.6096409%2C%20126.997697%5D%2C%0A%20%20%20%20%20%20%20%20%20%20%20%20%20%20%20%20%7B%0A%20%20%22bubblingMouseEvents%22%3A%20true%2C%0A%20%20%22color%22%3A%20%22red%22%2C%0A%20%20%22dashArray%22%3A%20null%2C%0A%20%20%22dashOffset%22%3A%20null%2C%0A%20%20%22fill%22%3A%20true%2C%0A%20%20%22fillColor%22%3A%20%22pink%22%2C%0A%20%20%22fillOpacity%22%3A%200.7%2C%0A%20%20%22fillRule%22%3A%20%22evenodd%22%2C%0A%20%20%22lineCap%22%3A%20%22round%22%2C%0A%20%20%22lineJoin%22%3A%20%22round%22%2C%0A%20%20%22opacity%22%3A%201.0%2C%0A%20%20%22radius%22%3A%2010%2C%0A%20%20%22stroke%22%3A%20true%2C%0A%20%20%22weight%22%3A%203%0A%7D%0A%20%20%20%20%20%20%20%20%20%20%20%20%20%20%20%20%29%0A%20%20%20%20%20%20%20%20%20%20%20%20%20%20%20%20.addTo%28map_9309078ab88c415eabcbeffdc90d8404%29%3B%0A%20%20%20%20%20%20%20%20%20%20%20%20%0A%20%20%20%20%0A%20%20%20%20%20%20%20%20circle_marker_e5cfb44abf3a4bdeac980fbd408c2dd2.bindTooltip%28%0A%20%20%20%20%20%20%20%20%20%20%20%20%60%3Cdiv%3E%60%0A%20%20%20%20%20%20%20%20%20%20%20%20%2B%20%60%EA%B5%AD%EB%AF%BC%EB%8C%80%ED%95%99%EA%B5%90%60%20%2B%20%60%3C/div%3E%60%2C%0A%20%20%20%20%20%20%20%20%20%20%20%20%7B%22sticky%22%3A%20true%7D%0A%20%20%20%20%20%20%20%20%29%3B%0A%20%20%20%20%20%20%20%20%0A%20%20%20%20%0A%20%20%20%20%20%20%20%20%20%20%20%20var%20circle_marker_85a61bc37d9e4f128decc0e02471438c%20%3D%20L.circleMarker%28%0A%20%20%20%20%20%20%20%20%20%20%20%20%20%20%20%20%5B37.6511988%2C%20127.0161604%5D%2C%0A%20%20%20%20%20%20%20%20%20%20%20%20%20%20%20%20%7B%0A%20%20%22bubblingMouseEvents%22%3A%20true%2C%0A%20%20%22color%22%3A%20%22red%22%2C%0A%20%20%22dashArray%22%3A%20null%2C%0A%20%20%22dashOffset%22%3A%20null%2C%0A%20%20%22fill%22%3A%20true%2C%0A%20%20%22fillColor%22%3A%20%22pink%22%2C%0A%20%20%22fillOpacity%22%3A%200.7%2C%0A%20%20%22fillRule%22%3A%20%22evenodd%22%2C%0A%20%20%22lineCap%22%3A%20%22round%22%2C%0A%20%20%22lineJoin%22%3A%20%22round%22%2C%0A%20%20%22opacity%22%3A%201.0%2C%0A%20%20%22radius%22%3A%2010%2C%0A%20%20%22stroke%22%3A%20true%2C%0A%20%20%22weight%22%3A%203%0A%7D%0A%20%20%20%20%20%20%20%20%20%20%20%20%20%20%20%20%29%0A%20%20%20%20%20%20%20%20%20%20%20%20%20%20%20%20.addTo%28map_9309078ab88c415eabcbeffdc90d8404%29%3B%0A%20%20%20%20%20%20%20%20%20%20%20%20%0A%20%20%20%20%0A%20%20%20%20%20%20%20%20circle_marker_85a61bc37d9e4f128decc0e02471438c.bindTooltip%28%0A%20%20%20%20%20%20%20%20%20%20%20%20%60%3Cdiv%3E%60%0A%20%20%20%20%20%20%20%20%20%20%20%20%2B%20%60%EB%8D%95%EC%84%B1%EC%97%AC%EC%9E%90%EB%8C%80%ED%95%99%EA%B5%90%60%20%2B%20%60%3C/div%3E%60%2C%0A%20%20%20%20%20%20%20%20%20%20%20%20%7B%22sticky%22%3A%20true%7D%0A%20%20%20%20%20%20%20%20%29%3B%0A%20%20%20%20%20%20%20%20%0A%20%20%20%20%0A%20%20%20%20%20%20%20%20%20%20%20%20var%20circle_marker_3929757f30e643f1a68442a022c7b399%20%3D%20L.circleMarker%28%0A%20%20%20%20%20%20%20%20%20%20%20%20%20%20%20%20%5B37.5574771%2C%20127.0020518%5D%2C%0A%20%20%20%20%20%20%20%20%20%20%20%20%20%20%20%20%7B%0A%20%20%22bubblingMouseEvents%22%3A%20true%2C%0A%20%20%22color%22%3A%20%22red%22%2C%0A%20%20%22dashArray%22%3A%20null%2C%0A%20%20%22dashOffset%22%3A%20null%2C%0A%20%20%22fill%22%3A%20true%2C%0A%20%20%22fillColor%22%3A%20%22pink%22%2C%0A%20%20%22fillOpacity%22%3A%200.7%2C%0A%20%20%22fillRule%22%3A%20%22evenodd%22%2C%0A%20%20%22lineCap%22%3A%20%22round%22%2C%0A%20%20%22lineJoin%22%3A%20%22round%22%2C%0A%20%20%22opacity%22%3A%201.0%2C%0A%20%20%22radius%22%3A%2010%2C%0A%20%20%22stroke%22%3A%20true%2C%0A%20%20%22weight%22%3A%203%0A%7D%0A%20%20%20%20%20%20%20%20%20%20%20%20%20%20%20%20%29%0A%20%20%20%20%20%20%20%20%20%20%20%20%20%20%20%20.addTo%28map_9309078ab88c415eabcbeffdc90d8404%29%3B%0A%20%20%20%20%20%20%20%20%20%20%20%20%0A%20%20%20%20%0A%20%20%20%20%20%20%20%20circle_marker_3929757f30e643f1a68442a022c7b399.bindTooltip%28%0A%20%20%20%20%20%20%20%20%20%20%20%20%60%3Cdiv%3E%60%0A%20%20%20%20%20%20%20%20%20%20%20%20%2B%20%60%EB%8F%99%EA%B5%AD%EB%8C%80%ED%95%99%EA%B5%90%60%20%2B%20%60%3C/div%3E%60%2C%0A%20%20%20%20%20%20%20%20%20%20%20%20%7B%22sticky%22%3A%20true%7D%0A%20%20%20%20%20%20%20%20%29%3B%0A%20%20%20%20%20%20%20%20%0A%20%20%20%20%0A%20%20%20%20%20%20%20%20%20%20%20%20var%20circle_marker_8b93a9ed814d4543affa649373b61afa%20%3D%20L.circleMarker%28%0A%20%20%20%20%20%20%20%20%20%20%20%20%20%20%20%20%5B37.6063202%2C%20127.041808%5D%2C%0A%20%20%20%20%20%20%20%20%20%20%20%20%20%20%20%20%7B%0A%20%20%22bubblingMouseEvents%22%3A%20true%2C%0A%20%20%22color%22%3A%20%22red%22%2C%0A%20%20%22dashArray%22%3A%20null%2C%0A%20%20%22dashOffset%22%3A%20null%2C%0A%20%20%22fill%22%3A%20true%2C%0A%20%20%22fillColor%22%3A%20%22pink%22%2C%0A%20%20%22fillOpacity%22%3A%200.7%2C%0A%20%20%22fillRule%22%3A%20%22evenodd%22%2C%0A%20%20%22lineCap%22%3A%20%22round%22%2C%0A%20%20%22lineJoin%22%3A%20%22round%22%2C%0A%20%20%22opacity%22%3A%201.0%2C%0A%20%20%22radius%22%3A%2010%2C%0A%20%20%22stroke%22%3A%20true%2C%0A%20%20%22weight%22%3A%203%0A%7D%0A%20%20%20%20%20%20%20%20%20%20%20%20%20%20%20%20%29%0A%20%20%20%20%20%20%20%20%20%20%20%20%20%20%20%20.addTo%28map_9309078ab88c415eabcbeffdc90d8404%29%3B%0A%20%20%20%20%20%20%20%20%20%20%20%20%0A%20%20%20%20%0A%20%20%20%20%20%20%20%20circle_marker_8b93a9ed814d4543affa649373b61afa.bindTooltip%28%0A%20%20%20%20%20%20%20%20%20%20%20%20%60%3Cdiv%3E%60%0A%20%20%20%20%20%20%20%20%20%20%20%20%2B%20%60%EB%8F%99%EB%8D%95%EC%97%AC%EC%9E%90%EB%8C%80%ED%95%99%EA%B5%90%60%20%2B%20%60%3C/div%3E%60%2C%0A%20%20%20%20%20%20%20%20%20%20%20%20%7B%22sticky%22%3A%20true%7D%0A%20%20%20%20%20%20%20%20%29%3B%0A%20%20%20%20%20%20%20%20%0A%20%20%20%20%0A%20%20%20%20%20%20%20%20%20%20%20%20var%20circle_marker_4b1ead41dd884b38908ebc70ab31a29b%20%3D%20L.circleMarker%28%0A%20%20%20%20%20%20%20%20%20%20%20%20%20%20%20%20%5B37.5802046%2C%20126.9234451%5D%2C%0A%20%20%20%20%20%20%20%20%20%20%20%20%20%20%20%20%7B%0A%20%20%22bubblingMouseEvents%22%3A%20true%2C%0A%20%20%22color%22%3A%20%22red%22%2C%0A%20%20%22dashArray%22%3A%20null%2C%0A%20%20%22dashOffset%22%3A%20null%2C%0A%20%20%22fill%22%3A%20true%2C%0A%20%20%22fillColor%22%3A%20%22pink%22%2C%0A%20%20%22fillOpacity%22%3A%200.7%2C%0A%20%20%22fillRule%22%3A%20%22evenodd%22%2C%0A%20%20%22lineCap%22%3A%20%22round%22%2C%0A%20%20%22lineJoin%22%3A%20%22round%22%2C%0A%20%20%22opacity%22%3A%201.0%2C%0A%20%20%22radius%22%3A%2010%2C%0A%20%20%22stroke%22%3A%20true%2C%0A%20%20%22weight%22%3A%203%0A%7D%0A%20%20%20%20%20%20%20%20%20%20%20%20%20%20%20%20%29%0A%20%20%20%20%20%20%20%20%20%20%20%20%20%20%20%20.addTo%28map_9309078ab88c415eabcbeffdc90d8404%29%3B%0A%20%20%20%20%20%20%20%20%20%20%20%20%0A%20%20%20%20%0A%20%20%20%20%20%20%20%20circle_marker_4b1ead41dd884b38908ebc70ab31a29b.bindTooltip%28%0A%20%20%20%20%20%20%20%20%20%20%20%20%60%3Cdiv%3E%60%0A%20%20%20%20%20%20%20%20%20%20%20%20%2B%20%60%EB%AA%85%EC%A7%80%EB%8C%80%ED%95%99%EA%B5%90%20%EC%84%9C%EC%9A%B8%EC%BA%A0%ED%8D%BC%EC%8A%A4%20%60%20%2B%20%60%3C/div%3E%60%2C%0A%20%20%20%20%20%20%20%20%20%20%20%20%7B%22sticky%22%3A%20true%7D%0A%20%20%20%20%20%20%20%20%29%3B%0A%20%20%20%20%20%20%20%20%0A%20%20%20%20%0A%20%20%20%20%20%20%20%20%20%20%20%20var%20circle_marker_7fcf4e86b03c45899598e1d735bc69e5%20%3D%20L.circleMarker%28%0A%20%20%20%20%20%20%20%20%20%20%20%20%20%20%20%20%5B37.6429515%2C%20127.1054757%5D%2C%0A%20%20%20%20%20%20%20%20%20%20%20%20%20%20%20%20%7B%0A%20%20%22bubblingMouseEvents%22%3A%20true%2C%0A%20%20%22color%22%3A%20%22red%22%2C%0A%20%20%22dashArray%22%3A%20null%2C%0A%20%20%22dashOffset%22%3A%20null%2C%0A%20%20%22fill%22%3A%20true%2C%0A%20%20%22fillColor%22%3A%20%22pink%22%2C%0A%20%20%22fillOpacity%22%3A%200.7%2C%0A%20%20%22fillRule%22%3A%20%22evenodd%22%2C%0A%20%20%22lineCap%22%3A%20%22round%22%2C%0A%20%20%22lineJoin%22%3A%20%22round%22%2C%0A%20%20%22opacity%22%3A%201.0%2C%0A%20%20%22radius%22%3A%2010%2C%0A%20%20%22stroke%22%3A%20true%2C%0A%20%20%22weight%22%3A%203%0A%7D%0A%20%20%20%20%20%20%20%20%20%20%20%20%20%20%20%20%29%0A%20%20%20%20%20%20%20%20%20%20%20%20%20%20%20%20.addTo%28map_9309078ab88c415eabcbeffdc90d8404%29%3B%0A%20%20%20%20%20%20%20%20%20%20%20%20%0A%20%20%20%20%0A%20%20%20%20%20%20%20%20circle_marker_7fcf4e86b03c45899598e1d735bc69e5.bindTooltip%28%0A%20%20%20%20%20%20%20%20%20%20%20%20%60%3Cdiv%3E%60%0A%20%20%20%20%20%20%20%20%20%20%20%20%2B%20%60%EC%82%BC%EC%9C%A1%EB%8C%80%ED%95%99%EA%B5%90%60%20%2B%20%60%3C/div%3E%60%2C%0A%20%20%20%20%20%20%20%20%20%20%20%20%7B%22sticky%22%3A%20true%7D%0A%20%20%20%20%20%20%20%20%29%3B%0A%20%20%20%20%20%20%20%20%0A%20%20%20%20%0A%20%20%20%20%20%20%20%20%20%20%20%20var%20circle_marker_aec97ac57d22450db734c7009d60967e%20%3D%20L.circleMarker%28%0A%20%20%20%20%20%20%20%20%20%20%20%20%20%20%20%20%5B37.602638%2C%20126.955252%5D%2C%0A%20%20%20%20%20%20%20%20%20%20%20%20%20%20%20%20%7B%0A%20%20%22bubblingMouseEvents%22%3A%20true%2C%0A%20%20%22color%22%3A%20%22red%22%2C%0A%20%20%22dashArray%22%3A%20null%2C%0A%20%20%22dashOffset%22%3A%20null%2C%0A%20%20%22fill%22%3A%20true%2C%0A%20%20%22fillColor%22%3A%20%22pink%22%2C%0A%20%20%22fillOpacity%22%3A%200.7%2C%0A%20%20%22fillRule%22%3A%20%22evenodd%22%2C%0A%20%20%22lineCap%22%3A%20%22round%22%2C%0A%20%20%22lineJoin%22%3A%20%22round%22%2C%0A%20%20%22opacity%22%3A%201.0%2C%0A%20%20%22radius%22%3A%2010%2C%0A%20%20%22stroke%22%3A%20true%2C%0A%20%20%22weight%22%3A%203%0A%7D%0A%20%20%20%20%20%20%20%20%20%20%20%20%20%20%20%20%29%0A%20%20%20%20%20%20%20%20%20%20%20%20%20%20%20%20.addTo%28map_9309078ab88c415eabcbeffdc90d8404%29%3B%0A%20%20%20%20%20%20%20%20%20%20%20%20%0A%20%20%20%20%0A%20%20%20%20%20%20%20%20circle_marker_aec97ac57d22450db734c7009d60967e.bindTooltip%28%0A%20%20%20%20%20%20%20%20%20%20%20%20%60%3Cdiv%3E%60%0A%20%20%20%20%20%20%20%20%20%20%20%20%2B%20%60%EC%83%81%EB%AA%85%EB%8C%80%ED%95%99%EA%B5%90%C2%A0%EC%84%9C%EC%9A%B8%EC%BA%A0%ED%8D%BC%EC%8A%A4%20%60%20%2B%20%60%3C/div%3E%60%2C%0A%20%20%20%20%20%20%20%20%20%20%20%20%7B%22sticky%22%3A%20true%7D%0A%20%20%20%20%20%20%20%20%29%3B%0A%20%20%20%20%20%20%20%20%0A%20%20%20%20%0A%20%20%20%20%20%20%20%20%20%20%20%20var%20circle_marker_616ef7147d12416eae707315162578f5%20%3D%20L.circleMarker%28%0A%20%20%20%20%20%20%20%20%20%20%20%20%20%20%20%20%5B37.5509442%2C%20126.9410023%5D%2C%0A%20%20%20%20%20%20%20%20%20%20%20%20%20%20%20%20%7B%0A%20%20%22bubblingMouseEvents%22%3A%20true%2C%0A%20%20%22color%22%3A%20%22red%22%2C%0A%20%20%22dashArray%22%3A%20null%2C%0A%20%20%22dashOffset%22%3A%20null%2C%0A%20%20%22fill%22%3A%20true%2C%0A%20%20%22fillColor%22%3A%20%22pink%22%2C%0A%20%20%22fillOpacity%22%3A%200.7%2C%0A%20%20%22fillRule%22%3A%20%22evenodd%22%2C%0A%20%20%22lineCap%22%3A%20%22round%22%2C%0A%20%20%22lineJoin%22%3A%20%22round%22%2C%0A%20%20%22opacity%22%3A%201.0%2C%0A%20%20%22radius%22%3A%2010%2C%0A%20%20%22stroke%22%3A%20true%2C%0A%20%20%22weight%22%3A%203%0A%7D%0A%20%20%20%20%20%20%20%20%20%20%20%20%20%20%20%20%29%0A%20%20%20%20%20%20%20%20%20%20%20%20%20%20%20%20.addTo%28map_9309078ab88c415eabcbeffdc90d8404%29%3B%0A%20%20%20%20%20%20%20%20%20%20%20%20%0A%20%20%20%20%0A%20%20%20%20%20%20%20%20circle_marker_616ef7147d12416eae707315162578f5.bindTooltip%28%0A%20%20%20%20%20%20%20%20%20%20%20%20%60%3Cdiv%3E%60%0A%20%20%20%20%20%20%20%20%20%20%20%20%2B%20%60%EC%84%9C%EA%B0%95%EB%8C%80%ED%95%99%EA%B5%90%60%20%2B%20%60%3C/div%3E%60%2C%0A%20%20%20%20%20%20%20%20%20%20%20%20%7B%22sticky%22%3A%20true%7D%0A%20%20%20%20%20%20%20%20%29%3B%0A%20%20%20%20%20%20%20%20%0A%20%20%20%20%0A%20%20%20%20%20%20%20%20%20%20%20%20var%20circle_marker_21776330e0df4ea7888d4de7e67ee5d2%20%3D%20L.circleMarker%28%0A%20%20%20%20%20%20%20%20%20%20%20%20%20%20%20%20%5B37.615095%2C%20127.0131113%5D%2C%0A%20%20%20%20%20%20%20%20%20%20%20%20%20%20%20%20%7B%0A%20%20%22bubblingMouseEvents%22%3A%20true%2C%0A%20%20%22color%22%3A%20%22red%22%2C%0A%20%20%22dashArray%22%3A%20null%2C%0A%20%20%22dashOffset%22%3A%20null%2C%0A%20%20%22fill%22%3A%20true%2C%0A%20%20%22fillColor%22%3A%20%22pink%22%2C%0A%20%20%22fillOpacity%22%3A%200.7%2C%0A%20%20%22fillRule%22%3A%20%22evenodd%22%2C%0A%20%20%22lineCap%22%3A%20%22round%22%2C%0A%20%20%22lineJoin%22%3A%20%22round%22%2C%0A%20%20%22opacity%22%3A%201.0%2C%0A%20%20%22radius%22%3A%2010%2C%0A%20%20%22stroke%22%3A%20true%2C%0A%20%20%22weight%22%3A%203%0A%7D%0A%20%20%20%20%20%20%20%20%20%20%20%20%20%20%20%20%29%0A%20%20%20%20%20%20%20%20%20%20%20%20%20%20%20%20.addTo%28map_9309078ab88c415eabcbeffdc90d8404%29%3B%0A%20%20%20%20%20%20%20%20%20%20%20%20%0A%20%20%20%20%0A%20%20%20%20%20%20%20%20circle_marker_21776330e0df4ea7888d4de7e67ee5d2.bindTooltip%28%0A%20%20%20%20%20%20%20%20%20%20%20%20%60%3Cdiv%3E%60%0A%20%20%20%20%20%20%20%20%20%20%20%20%2B%20%60%EC%84%9C%EA%B2%BD%EB%8C%80%ED%95%99%EA%B5%90%60%20%2B%20%60%3C/div%3E%60%2C%0A%20%20%20%20%20%20%20%20%20%20%20%20%7B%22sticky%22%3A%20true%7D%0A%20%20%20%20%20%20%20%20%29%3B%0A%20%20%20%20%20%20%20%20%0A%20%20%20%20%0A%20%20%20%20%20%20%20%20%20%20%20%20var%20circle_marker_f1b9e46916e64669ad45e9e60f82e8dc%20%3D%20L.circleMarker%28%0A%20%20%20%20%20%20%20%20%20%20%20%20%20%20%20%20%5B37.6316684%2C%20127.0774813%5D%2C%0A%20%20%20%20%20%20%20%20%20%20%20%20%20%20%20%20%7B%0A%20%20%22bubblingMouseEvents%22%3A%20true%2C%0A%20%20%22color%22%3A%20%22red%22%2C%0A%20%20%22dashArray%22%3A%20null%2C%0A%20%20%22dashOffset%22%3A%20null%2C%0A%20%20%22fill%22%3A%20true%2C%0A%20%20%22fillColor%22%3A%20%22pink%22%2C%0A%20%20%22fillOpacity%22%3A%200.7%2C%0A%20%20%22fillRule%22%3A%20%22evenodd%22%2C%0A%20%20%22lineCap%22%3A%20%22round%22%2C%0A%20%20%22lineJoin%22%3A%20%22round%22%2C%0A%20%20%22opacity%22%3A%201.0%2C%0A%20%20%22radius%22%3A%2010%2C%0A%20%20%22stroke%22%3A%20true%2C%0A%20%20%22weight%22%3A%203%0A%7D%0A%20%20%20%20%20%20%20%20%20%20%20%20%20%20%20%20%29%0A%20%20%20%20%20%20%20%20%20%20%20%20%20%20%20%20.addTo%28map_9309078ab88c415eabcbeffdc90d8404%29%3B%0A%20%20%20%20%20%20%20%20%20%20%20%20%0A%20%20%20%20%0A%20%20%20%20%20%20%20%20circle_marker_f1b9e46916e64669ad45e9e60f82e8dc.bindTooltip%28%0A%20%20%20%20%20%20%20%20%20%20%20%20%60%3Cdiv%3E%60%0A%20%20%20%20%20%20%20%20%20%20%20%20%2B%20%60%EC%84%9C%EC%9A%B8%EA%B3%BC%ED%95%99%EA%B8%B0%EC%88%A0%EB%8C%80%ED%95%99%EA%B5%90%60%20%2B%20%60%3C/div%3E%60%2C%0A%20%20%20%20%20%20%20%20%20%20%20%20%7B%22sticky%22%3A%20true%7D%0A%20%20%20%20%20%20%20%20%29%3B%0A%20%20%20%20%20%20%20%20%0A%20%20%20%20%0A%20%20%20%20%20%20%20%20%20%20%20%20var%20circle_marker_ddf4a738ca46431093872067b18b4f54%20%3D%20L.circleMarker%28%0A%20%20%20%20%20%20%20%20%20%20%20%20%20%20%20%20%5B37.4899615%2C%20127.0164124%5D%2C%0A%20%20%20%20%20%20%20%20%20%20%20%20%20%20%20%20%7B%0A%20%20%22bubblingMouseEvents%22%3A%20true%2C%0A%20%20%22color%22%3A%20%22red%22%2C%0A%20%20%22dashArray%22%3A%20null%2C%0A%20%20%22dashOffset%22%3A%20null%2C%0A%20%20%22fill%22%3A%20true%2C%0A%20%20%22fillColor%22%3A%20%22pink%22%2C%0A%20%20%22fillOpacity%22%3A%200.7%2C%0A%20%20%22fillRule%22%3A%20%22evenodd%22%2C%0A%20%20%22lineCap%22%3A%20%22round%22%2C%0A%20%20%22lineJoin%22%3A%20%22round%22%2C%0A%20%20%22opacity%22%3A%201.0%2C%0A%20%20%22radius%22%3A%2010%2C%0A%20%20%22stroke%22%3A%20true%2C%0A%20%20%22weight%22%3A%203%0A%7D%0A%20%20%20%20%20%20%20%20%20%20%20%20%20%20%20%20%29%0A%20%20%20%20%20%20%20%20%20%20%20%20%20%20%20%20.addTo%28map_9309078ab88c415eabcbeffdc90d8404%29%3B%0A%20%20%20%20%20%20%20%20%20%20%20%20%0A%20%20%20%20%0A%20%20%20%20%20%20%20%20circle_marker_ddf4a738ca46431093872067b18b4f54.bindTooltip%28%0A%20%20%20%20%20%20%20%20%20%20%20%20%60%3Cdiv%3E%60%0A%20%20%20%20%20%20%20%20%20%20%20%20%2B%20%60%EC%84%9C%EC%9A%B8%EA%B5%90%EC%9C%A1%EB%8C%80%ED%95%99%EA%B5%90%60%20%2B%20%60%3C/div%3E%60%2C%0A%20%20%20%20%20%20%20%20%20%20%20%20%7B%22sticky%22%3A%20true%7D%0A%20%20%20%20%20%20%20%20%29%3B%0A%20%20%20%20%20%20%20%20%0A%20%20%20%20%0A%20%20%20%20%20%20%20%20%20%20%20%20var%20circle_marker_db6774ad5a1a4b9bbad029c7bb77560b%20%3D%20L.circleMarker%28%0A%20%20%20%20%20%20%20%20%20%20%20%20%20%20%20%20%5B37.6009228%2C%20126.9123818%5D%2C%0A%20%20%20%20%20%20%20%20%20%20%20%20%20%20%20%20%7B%0A%20%20%22bubblingMouseEvents%22%3A%20true%2C%0A%20%20%22color%22%3A%20%22red%22%2C%0A%20%20%22dashArray%22%3A%20null%2C%0A%20%20%22dashOffset%22%3A%20null%2C%0A%20%20%22fill%22%3A%20true%2C%0A%20%20%22fillColor%22%3A%20%22pink%22%2C%0A%20%20%22fillOpacity%22%3A%200.7%2C%0A%20%20%22fillRule%22%3A%20%22evenodd%22%2C%0A%20%20%22lineCap%22%3A%20%22round%22%2C%0A%20%20%22lineJoin%22%3A%20%22round%22%2C%0A%20%20%22opacity%22%3A%201.0%2C%0A%20%20%22radius%22%3A%2010%2C%0A%20%20%22stroke%22%3A%20true%2C%0A%20%20%22weight%22%3A%203%0A%7D%0A%20%20%20%20%20%20%20%20%20%20%20%20%20%20%20%20%29%0A%20%20%20%20%20%20%20%20%20%20%20%20%20%20%20%20.addTo%28map_9309078ab88c415eabcbeffdc90d8404%29%3B%0A%20%20%20%20%20%20%20%20%20%20%20%20%0A%20%20%20%20%0A%20%20%20%20%20%20%20%20circle_marker_db6774ad5a1a4b9bbad029c7bb77560b.bindTooltip%28%0A%20%20%20%20%20%20%20%20%20%20%20%20%60%3Cdiv%3E%60%0A%20%20%20%20%20%20%20%20%20%20%20%20%2B%20%60%EC%84%9C%EC%9A%B8%EA%B8%B0%EB%8F%85%EB%8C%80%ED%95%99%EA%B5%90%60%20%2B%20%60%3C/div%3E%60%2C%0A%20%20%20%20%20%20%20%20%20%20%20%20%7B%22sticky%22%3A%20true%7D%0A%20%20%20%20%20%20%20%20%29%3B%0A%20%20%20%20%20%20%20%20%0A%20%20%20%20%0A%20%20%20%20%20%20%20%20%20%20%20%20var%20circle_marker_d8a809111b3b4df2b5c563aea030dfe9%20%3D%20L.circleMarker%28%0A%20%20%20%20%20%20%20%20%20%20%20%20%20%20%20%20%5B37.459882%2C%20126.9519053%5D%2C%0A%20%20%20%20%20%20%20%20%20%20%20%20%20%20%20%20%7B%0A%20%20%22bubblingMouseEvents%22%3A%20true%2C%0A%20%20%22color%22%3A%20%22red%22%2C%0A%20%20%22dashArray%22%3A%20null%2C%0A%20%20%22dashOffset%22%3A%20null%2C%0A%20%20%22fill%22%3A%20true%2C%0A%20%20%22fillColor%22%3A%20%22pink%22%2C%0A%20%20%22fillOpacity%22%3A%200.7%2C%0A%20%20%22fillRule%22%3A%20%22evenodd%22%2C%0A%20%20%22lineCap%22%3A%20%22round%22%2C%0A%20%20%22lineJoin%22%3A%20%22round%22%2C%0A%20%20%22opacity%22%3A%201.0%2C%0A%20%20%22radius%22%3A%2010%2C%0A%20%20%22stroke%22%3A%20true%2C%0A%20%20%22weight%22%3A%203%0A%7D%0A%20%20%20%20%20%20%20%20%20%20%20%20%20%20%20%20%29%0A%20%20%20%20%20%20%20%20%20%20%20%20%20%20%20%20.addTo%28map_9309078ab88c415eabcbeffdc90d8404%29%3B%0A%20%20%20%20%20%20%20%20%20%20%20%20%0A%20%20%20%20%0A%20%20%20%20%20%20%20%20circle_marker_d8a809111b3b4df2b5c563aea030dfe9.bindTooltip%28%0A%20%20%20%20%20%20%20%20%20%20%20%20%60%3Cdiv%3E%60%0A%20%20%20%20%20%20%20%20%20%20%20%20%2B%20%60%EC%84%9C%EC%9A%B8%EB%8C%80%ED%95%99%EA%B5%90%60%20%2B%20%60%3C/div%3E%60%2C%0A%20%20%20%20%20%20%20%20%20%20%20%20%7B%22sticky%22%3A%20true%7D%0A%20%20%20%20%20%20%20%20%29%3B%0A%20%20%20%20%20%20%20%20%0A%20%20%20%20%0A%20%20%20%20%20%20%20%20%20%20%20%20var%20circle_marker_fdd008ff594344ffbae2479f52a8595c%20%3D%20L.circleMarker%28%0A%20%20%20%20%20%20%20%20%20%20%20%20%20%20%20%20%5B37.5838657%2C%20127.0587771%5D%2C%0A%20%20%20%20%20%20%20%20%20%20%20%20%20%20%20%20%7B%0A%20%20%22bubblingMouseEvents%22%3A%20true%2C%0A%20%20%22color%22%3A%20%22red%22%2C%0A%20%20%22dashArray%22%3A%20null%2C%0A%20%20%22dashOffset%22%3A%20null%2C%0A%20%20%22fill%22%3A%20true%2C%0A%20%20%22fillColor%22%3A%20%22pink%22%2C%0A%20%20%22fillOpacity%22%3A%200.7%2C%0A%20%20%22fillRule%22%3A%20%22evenodd%22%2C%0A%20%20%22lineCap%22%3A%20%22round%22%2C%0A%20%20%22lineJoin%22%3A%20%22round%22%2C%0A%20%20%22opacity%22%3A%201.0%2C%0A%20%20%22radius%22%3A%2010%2C%0A%20%20%22stroke%22%3A%20true%2C%0A%20%20%22weight%22%3A%203%0A%7D%0A%20%20%20%20%20%20%20%20%20%20%20%20%20%20%20%20%29%0A%20%20%20%20%20%20%20%20%20%20%20%20%20%20%20%20.addTo%28map_9309078ab88c415eabcbeffdc90d8404%29%3B%0A%20%20%20%20%20%20%20%20%20%20%20%20%0A%20%20%20%20%0A%20%20%20%20%20%20%20%20circle_marker_fdd008ff594344ffbae2479f52a8595c.bindTooltip%28%0A%20%20%20%20%20%20%20%20%20%20%20%20%60%3Cdiv%3E%60%0A%20%20%20%20%20%20%20%20%20%20%20%20%2B%20%60%EC%84%9C%EC%9A%B8%EC%8B%9C%EB%A6%BD%EB%8C%80%ED%95%99%EA%B5%90%60%20%2B%20%60%3C/div%3E%60%2C%0A%20%20%20%20%20%20%20%20%20%20%20%20%7B%22sticky%22%3A%20true%7D%0A%20%20%20%20%20%20%20%20%29%3B%0A%20%20%20%20%20%20%20%20%0A%20%20%20%20%0A%20%20%20%20%20%20%20%20%20%20%20%20var%20circle_marker_b023cf6d51bf49cfaacc16ad8ea9014a%20%3D%20L.circleMarker%28%0A%20%20%20%20%20%20%20%20%20%20%20%20%20%20%20%20%5B37.6281126%2C%20127.0904568%5D%2C%0A%20%20%20%20%20%20%20%20%20%20%20%20%20%20%20%20%7B%0A%20%20%22bubblingMouseEvents%22%3A%20true%2C%0A%20%20%22color%22%3A%20%22red%22%2C%0A%20%20%22dashArray%22%3A%20null%2C%0A%20%20%22dashOffset%22%3A%20null%2C%0A%20%20%22fill%22%3A%20true%2C%0A%20%20%22fillColor%22%3A%20%22pink%22%2C%0A%20%20%22fillOpacity%22%3A%200.7%2C%0A%20%20%22fillRule%22%3A%20%22evenodd%22%2C%0A%20%20%22lineCap%22%3A%20%22round%22%2C%0A%20%20%22lineJoin%22%3A%20%22round%22%2C%0A%20%20%22opacity%22%3A%201.0%2C%0A%20%20%22radius%22%3A%2010%2C%0A%20%20%22stroke%22%3A%20true%2C%0A%20%20%22weight%22%3A%203%0A%7D%0A%20%20%20%20%20%20%20%20%20%20%20%20%20%20%20%20%29%0A%20%20%20%20%20%20%20%20%20%20%20%20%20%20%20%20.addTo%28map_9309078ab88c415eabcbeffdc90d8404%29%3B%0A%20%20%20%20%20%20%20%20%20%20%20%20%0A%20%20%20%20%0A%20%20%20%20%20%20%20%20circle_marker_b023cf6d51bf49cfaacc16ad8ea9014a.bindTooltip%28%0A%20%20%20%20%20%20%20%20%20%20%20%20%60%3Cdiv%3E%60%0A%20%20%20%20%20%20%20%20%20%20%20%20%2B%20%60%EC%84%9C%EC%9A%B8%EC%97%AC%EC%9E%90%EB%8C%80%ED%95%99%EA%B5%90%60%20%2B%20%60%3C/div%3E%60%2C%0A%20%20%20%20%20%20%20%20%20%20%20%20%7B%22sticky%22%3A%20true%7D%0A%20%20%20%20%20%20%20%20%29%3B%0A%20%20%20%20%20%20%20%20%0A%20%20%20%20%0A%20%20%20%20%20%20%20%20%20%20%20%20var%20circle_marker_f3ca76fe48734e45997d6cd6bd39f465%20%3D%20L.circleMarker%28%0A%20%20%20%20%20%20%20%20%20%20%20%20%20%20%20%20%5B37.4965411%2C%20126.8512616%5D%2C%0A%20%20%20%20%20%20%20%20%20%20%20%20%20%20%20%20%7B%0A%20%20%22bubblingMouseEvents%22%3A%20true%2C%0A%20%20%22color%22%3A%20%22red%22%2C%0A%20%20%22dashArray%22%3A%20null%2C%0A%20%20%22dashOffset%22%3A%20null%2C%0A%20%20%22fill%22%3A%20true%2C%0A%20%20%22fillColor%22%3A%20%22pink%22%2C%0A%20%20%22fillOpacity%22%3A%200.7%2C%0A%20%20%22fillRule%22%3A%20%22evenodd%22%2C%0A%20%20%22lineCap%22%3A%20%22round%22%2C%0A%20%20%22lineJoin%22%3A%20%22round%22%2C%0A%20%20%22opacity%22%3A%201.0%2C%0A%20%20%22radius%22%3A%2010%2C%0A%20%20%22stroke%22%3A%20true%2C%0A%20%20%22weight%22%3A%203%0A%7D%0A%20%20%20%20%20%20%20%20%20%20%20%20%20%20%20%20%29%0A%20%20%20%20%20%20%20%20%20%20%20%20%20%20%20%20.addTo%28map_9309078ab88c415eabcbeffdc90d8404%29%3B%0A%20%20%20%20%20%20%20%20%20%20%20%20%0A%20%20%20%20%0A%20%20%20%20%20%20%20%20circle_marker_f3ca76fe48734e45997d6cd6bd39f465.bindTooltip%28%0A%20%20%20%20%20%20%20%20%20%20%20%20%60%3Cdiv%3E%60%0A%20%20%20%20%20%20%20%20%20%20%20%20%2B%20%60%EC%84%9C%EC%9A%B8%ED%95%9C%EC%98%81%EB%8C%80%ED%95%99%EA%B5%90%60%20%2B%20%60%3C/div%3E%60%2C%0A%20%20%20%20%20%20%20%20%20%20%20%20%7B%22sticky%22%3A%20true%7D%0A%20%20%20%20%20%20%20%20%29%3B%0A%20%20%20%20%20%20%20%20%0A%20%20%20%20%0A%20%20%20%20%20%20%20%20%20%20%20%20var%20circle_marker_dfd2320a95b54b6093e502cedba9df39%20%3D%20L.circleMarker%28%0A%20%20%20%20%20%20%20%20%20%20%20%20%20%20%20%20%5B37.4872325%2C%20126.8253202%5D%2C%0A%20%20%20%20%20%20%20%20%20%20%20%20%20%20%20%20%7B%0A%20%20%22bubblingMouseEvents%22%3A%20true%2C%0A%20%20%22color%22%3A%20%22red%22%2C%0A%20%20%22dashArray%22%3A%20null%2C%0A%20%20%22dashOffset%22%3A%20null%2C%0A%20%20%22fill%22%3A%20true%2C%0A%20%20%22fillColor%22%3A%20%22pink%22%2C%0A%20%20%22fillOpacity%22%3A%200.7%2C%0A%20%20%22fillRule%22%3A%20%22evenodd%22%2C%0A%20%20%22lineCap%22%3A%20%22round%22%2C%0A%20%20%22lineJoin%22%3A%20%22round%22%2C%0A%20%20%22opacity%22%3A%201.0%2C%0A%20%20%22radius%22%3A%2010%2C%0A%20%20%22stroke%22%3A%20true%2C%0A%20%20%22weight%22%3A%203%0A%7D%0A%20%20%20%20%20%20%20%20%20%20%20%20%20%20%20%20%29%0A%20%20%20%20%20%20%20%20%20%20%20%20%20%20%20%20.addTo%28map_9309078ab88c415eabcbeffdc90d8404%29%3B%0A%20%20%20%20%20%20%20%20%20%20%20%20%0A%20%20%20%20%0A%20%20%20%20%20%20%20%20circle_marker_dfd2320a95b54b6093e502cedba9df39.bindTooltip%28%0A%20%20%20%20%20%20%20%20%20%20%20%20%60%3Cdiv%3E%60%0A%20%20%20%20%20%20%20%20%20%20%20%20%2B%20%60%EC%84%B1%EA%B3%B5%ED%9A%8C%EB%8C%80%ED%95%99%EA%B5%90%60%20%2B%20%60%3C/div%3E%60%2C%0A%20%20%20%20%20%20%20%20%20%20%20%20%7B%22sticky%22%3A%20true%7D%0A%20%20%20%20%20%20%20%20%29%3B%0A%20%20%20%20%20%20%20%20%0A%20%20%20%20%0A%20%20%20%20%20%20%20%20%20%20%20%20var%20circle_marker_3d569cd9865047f59812d78743143631%20%3D%20L.circleMarker%28%0A%20%20%20%20%20%20%20%20%20%20%20%20%20%20%20%20%5B37.588227%2C%20126.993606%5D%2C%0A%20%20%20%20%20%20%20%20%20%20%20%20%20%20%20%20%7B%0A%20%20%22bubblingMouseEvents%22%3A%20true%2C%0A%20%20%22color%22%3A%20%22red%22%2C%0A%20%20%22dashArray%22%3A%20null%2C%0A%20%20%22dashOffset%22%3A%20null%2C%0A%20%20%22fill%22%3A%20true%2C%0A%20%20%22fillColor%22%3A%20%22pink%22%2C%0A%20%20%22fillOpacity%22%3A%200.7%2C%0A%20%20%22fillRule%22%3A%20%22evenodd%22%2C%0A%20%20%22lineCap%22%3A%20%22round%22%2C%0A%20%20%22lineJoin%22%3A%20%22round%22%2C%0A%20%20%22opacity%22%3A%201.0%2C%0A%20%20%22radius%22%3A%2010%2C%0A%20%20%22stroke%22%3A%20true%2C%0A%20%20%22weight%22%3A%203%0A%7D%0A%20%20%20%20%20%20%20%20%20%20%20%20%20%20%20%20%29%0A%20%20%20%20%20%20%20%20%20%20%20%20%20%20%20%20.addTo%28map_9309078ab88c415eabcbeffdc90d8404%29%3B%0A%20%20%20%20%20%20%20%20%20%20%20%20%0A%20%20%20%20%0A%20%20%20%20%20%20%20%20circle_marker_3d569cd9865047f59812d78743143631.bindTooltip%28%0A%20%20%20%20%20%20%20%20%20%20%20%20%60%3Cdiv%3E%60%0A%20%20%20%20%20%20%20%20%20%20%20%20%2B%20%60%EC%84%B1%EA%B7%A0%EA%B4%80%EB%8C%80%ED%95%99%EA%B5%90%20%EC%84%9C%EC%9A%B8%EC%BA%A0%ED%8D%BC%EC%8A%A4%20%C2%A0%60%20%2B%20%60%3C/div%3E%60%2C%0A%20%20%20%20%20%20%20%20%20%20%20%20%7B%22sticky%22%3A%20true%7D%0A%20%20%20%20%20%20%20%20%29%3B%0A%20%20%20%20%20%20%20%20%0A%20%20%20%20%0A%20%20%20%20%20%20%20%20%20%20%20%20var%20circle_marker_376f3daf631b4eea8cc8d648e103febe%20%3D%20L.circleMarker%28%0A%20%20%20%20%20%20%20%20%20%20%20%20%20%20%20%20%5B37.5913103%2C%20127.0221312%5D%2C%0A%20%20%20%20%20%20%20%20%20%20%20%20%20%20%20%20%7B%0A%20%20%22bubblingMouseEvents%22%3A%20true%2C%0A%20%20%22color%22%3A%20%22red%22%2C%0A%20%20%22dashArray%22%3A%20null%2C%0A%20%20%22dashOffset%22%3A%20null%2C%0A%20%20%22fill%22%3A%20true%2C%0A%20%20%22fillColor%22%3A%20%22pink%22%2C%0A%20%20%22fillOpacity%22%3A%200.7%2C%0A%20%20%22fillRule%22%3A%20%22evenodd%22%2C%0A%20%20%22lineCap%22%3A%20%22round%22%2C%0A%20%20%22lineJoin%22%3A%20%22round%22%2C%0A%20%20%22opacity%22%3A%201.0%2C%0A%20%20%22radius%22%3A%2010%2C%0A%20%20%22stroke%22%3A%20true%2C%0A%20%20%22weight%22%3A%203%0A%7D%0A%20%20%20%20%20%20%20%20%20%20%20%20%20%20%20%20%29%0A%20%20%20%20%20%20%20%20%20%20%20%20%20%20%20%20.addTo%28map_9309078ab88c415eabcbeffdc90d8404%29%3B%0A%20%20%20%20%20%20%20%20%20%20%20%20%0A%20%20%20%20%0A%20%20%20%20%20%20%20%20circle_marker_376f3daf631b4eea8cc8d648e103febe.bindTooltip%28%0A%20%20%20%20%20%20%20%20%20%20%20%20%60%3Cdiv%3E%60%0A%20%20%20%20%20%20%20%20%20%20%20%20%2B%20%60%EC%84%B1%EC%8B%A0%EC%97%AC%EC%9E%90%EB%8C%80%ED%95%99%EA%B5%90%60%20%2B%20%60%3C/div%3E%60%2C%0A%20%20%20%20%20%20%20%20%20%20%20%20%7B%22sticky%22%3A%20true%7D%0A%20%20%20%20%20%20%20%20%29%3B%0A%20%20%20%20%20%20%20%20%0A%20%20%20%20%0A%20%20%20%20%20%20%20%20%20%20%20%20var%20circle_marker_5434b368472441b79e090b3c9b9072a6%20%3D%20L.circleMarker%28%0A%20%20%20%20%20%20%20%20%20%20%20%20%20%20%20%20%5B37.5502596%2C%20127.073139%5D%2C%0A%20%20%20%20%20%20%20%20%20%20%20%20%20%20%20%20%7B%0A%20%20%22bubblingMouseEvents%22%3A%20true%2C%0A%20%20%22color%22%3A%20%22red%22%2C%0A%20%20%22dashArray%22%3A%20null%2C%0A%20%20%22dashOffset%22%3A%20null%2C%0A%20%20%22fill%22%3A%20true%2C%0A%20%20%22fillColor%22%3A%20%22pink%22%2C%0A%20%20%22fillOpacity%22%3A%200.7%2C%0A%20%20%22fillRule%22%3A%20%22evenodd%22%2C%0A%20%20%22lineCap%22%3A%20%22round%22%2C%0A%20%20%22lineJoin%22%3A%20%22round%22%2C%0A%20%20%22opacity%22%3A%201.0%2C%0A%20%20%22radius%22%3A%2010%2C%0A%20%20%22stroke%22%3A%20true%2C%0A%20%20%22weight%22%3A%203%0A%7D%0A%20%20%20%20%20%20%20%20%20%20%20%20%20%20%20%20%29%0A%20%20%20%20%20%20%20%20%20%20%20%20%20%20%20%20.addTo%28map_9309078ab88c415eabcbeffdc90d8404%29%3B%0A%20%20%20%20%20%20%20%20%20%20%20%20%0A%20%20%20%20%0A%20%20%20%20%20%20%20%20circle_marker_5434b368472441b79e090b3c9b9072a6.bindTooltip%28%0A%20%20%20%20%20%20%20%20%20%20%20%20%60%3Cdiv%3E%60%0A%20%20%20%20%20%20%20%20%20%20%20%20%2B%20%60%EC%84%B8%EC%A2%85%EB%8C%80%ED%95%99%EA%B5%90%60%20%2B%20%60%3C/div%3E%60%2C%0A%20%20%20%20%20%20%20%20%20%20%20%20%7B%22sticky%22%3A%20true%7D%0A%20%20%20%20%20%20%20%20%29%3B%0A%20%20%20%20%20%20%20%20%0A%20%20%20%20%0A%20%20%20%20%20%20%20%20%20%20%20%20var%20circle_marker_9be51a1f9341457b9b2b79477409628c%20%3D%20L.circleMarker%28%0A%20%20%20%20%20%20%20%20%20%20%20%20%20%20%20%20%5B37.5463644%2C%20126.9648311%5D%2C%0A%20%20%20%20%20%20%20%20%20%20%20%20%20%20%20%20%7B%0A%20%20%22bubblingMouseEvents%22%3A%20true%2C%0A%20%20%22color%22%3A%20%22red%22%2C%0A%20%20%22dashArray%22%3A%20null%2C%0A%20%20%22dashOffset%22%3A%20null%2C%0A%20%20%22fill%22%3A%20true%2C%0A%20%20%22fillColor%22%3A%20%22pink%22%2C%0A%20%20%22fillOpacity%22%3A%200.7%2C%0A%20%20%22fillRule%22%3A%20%22evenodd%22%2C%0A%20%20%22lineCap%22%3A%20%22round%22%2C%0A%20%20%22lineJoin%22%3A%20%22round%22%2C%0A%20%20%22opacity%22%3A%201.0%2C%0A%20%20%22radius%22%3A%2010%2C%0A%20%20%22stroke%22%3A%20true%2C%0A%20%20%22weight%22%3A%203%0A%7D%0A%20%20%20%20%20%20%20%20%20%20%20%20%20%20%20%20%29%0A%20%20%20%20%20%20%20%20%20%20%20%20%20%20%20%20.addTo%28map_9309078ab88c415eabcbeffdc90d8404%29%3B%0A%20%20%20%20%20%20%20%20%20%20%20%20%0A%20%20%20%20%0A%20%20%20%20%20%20%20%20circle_marker_9be51a1f9341457b9b2b79477409628c.bindTooltip%28%0A%20%20%20%20%20%20%20%20%20%20%20%20%60%3Cdiv%3E%60%0A%20%20%20%20%20%20%20%20%20%20%20%20%2B%20%60%EC%88%99%EB%AA%85%EC%97%AC%EC%9E%90%EB%8C%80%ED%95%99%EA%B5%90%60%20%2B%20%60%3C/div%3E%60%2C%0A%20%20%20%20%20%20%20%20%20%20%20%20%7B%22sticky%22%3A%20true%7D%0A%20%20%20%20%20%20%20%20%29%3B%0A%20%20%20%20%20%20%20%20%0A%20%20%20%20%0A%20%20%20%20%20%20%20%20%20%20%20%20var%20circle_marker_074ee41d0a334a5791f3262ce63a596b%20%3D%20L.circleMarker%28%0A%20%20%20%20%20%20%20%20%20%20%20%20%20%20%20%20%5B37.4963111%2C%20126.9574596%5D%2C%0A%20%20%20%20%20%20%20%20%20%20%20%20%20%20%20%20%7B%0A%20%20%22bubblingMouseEvents%22%3A%20true%2C%0A%20%20%22color%22%3A%20%22red%22%2C%0A%20%20%22dashArray%22%3A%20null%2C%0A%20%20%22dashOffset%22%3A%20null%2C%0A%20%20%22fill%22%3A%20true%2C%0A%20%20%22fillColor%22%3A%20%22pink%22%2C%0A%20%20%22fillOpacity%22%3A%200.7%2C%0A%20%20%22fillRule%22%3A%20%22evenodd%22%2C%0A%20%20%22lineCap%22%3A%20%22round%22%2C%0A%20%20%22lineJoin%22%3A%20%22round%22%2C%0A%20%20%22opacity%22%3A%201.0%2C%0A%20%20%22radius%22%3A%2010%2C%0A%20%20%22stroke%22%3A%20true%2C%0A%20%20%22weight%22%3A%203%0A%7D%0A%20%20%20%20%20%20%20%20%20%20%20%20%20%20%20%20%29%0A%20%20%20%20%20%20%20%20%20%20%20%20%20%20%20%20.addTo%28map_9309078ab88c415eabcbeffdc90d8404%29%3B%0A%20%20%20%20%20%20%20%20%20%20%20%20%0A%20%20%20%20%0A%20%20%20%20%20%20%20%20circle_marker_074ee41d0a334a5791f3262ce63a596b.bindTooltip%28%0A%20%20%20%20%20%20%20%20%20%20%20%20%60%3Cdiv%3E%60%0A%20%20%20%20%20%20%20%20%20%20%20%20%2B%20%60%EC%88%AD%EC%8B%A4%EB%8C%80%ED%95%99%EA%B5%90%60%20%2B%20%60%3C/div%3E%60%2C%0A%20%20%20%20%20%20%20%20%20%20%20%20%7B%22sticky%22%3A%20true%7D%0A%20%20%20%20%20%20%20%20%29%3B%0A%20%20%20%20%20%20%20%20%0A%20%20%20%20%0A%20%20%20%20%20%20%20%20%20%20%20%20var%20circle_marker_043aab3c065f4efeafa13036ca27d46f%20%3D%20L.circleMarker%28%0A%20%20%20%20%20%20%20%20%20%20%20%20%20%20%20%20%5B37.565784%2C%20126.938572%5D%2C%0A%20%20%20%20%20%20%20%20%20%20%20%20%20%20%20%20%7B%0A%20%20%22bubblingMouseEvents%22%3A%20true%2C%0A%20%20%22color%22%3A%20%22red%22%2C%0A%20%20%22dashArray%22%3A%20null%2C%0A%20%20%22dashOffset%22%3A%20null%2C%0A%20%20%22fill%22%3A%20true%2C%0A%20%20%22fillColor%22%3A%20%22pink%22%2C%0A%20%20%22fillOpacity%22%3A%200.7%2C%0A%20%20%22fillRule%22%3A%20%22evenodd%22%2C%0A%20%20%22lineCap%22%3A%20%22round%22%2C%0A%20%20%22lineJoin%22%3A%20%22round%22%2C%0A%20%20%22opacity%22%3A%201.0%2C%0A%20%20%22radius%22%3A%2010%2C%0A%20%20%22stroke%22%3A%20true%2C%0A%20%20%22weight%22%3A%203%0A%7D%0A%20%20%20%20%20%20%20%20%20%20%20%20%20%20%20%20%29%0A%20%20%20%20%20%20%20%20%20%20%20%20%20%20%20%20.addTo%28map_9309078ab88c415eabcbeffdc90d8404%29%3B%0A%20%20%20%20%20%20%20%20%20%20%20%20%0A%20%20%20%20%0A%20%20%20%20%20%20%20%20circle_marker_043aab3c065f4efeafa13036ca27d46f.bindTooltip%28%0A%20%20%20%20%20%20%20%20%20%20%20%20%60%3Cdiv%3E%60%0A%20%20%20%20%20%20%20%20%20%20%20%20%2B%20%60%EC%97%B0%EC%84%B8%EB%8C%80%ED%95%99%EA%B5%90%60%20%2B%20%60%3C/div%3E%60%2C%0A%20%20%20%20%20%20%20%20%20%20%20%20%7B%22sticky%22%3A%20true%7D%0A%20%20%20%20%20%20%20%20%29%3B%0A%20%20%20%20%20%20%20%20%0A%20%20%20%20%0A%20%20%20%20%20%20%20%20%20%20%20%20var%20circle_marker_05c97b4a249743cb9a59045ef6e88cc0%20%3D%20L.circleMarker%28%0A%20%20%20%20%20%20%20%20%20%20%20%20%20%20%20%20%5B37.6238188%2C%20127.0988783%5D%2C%0A%20%20%20%20%20%20%20%20%20%20%20%20%20%20%20%20%7B%0A%20%20%22bubblingMouseEvents%22%3A%20true%2C%0A%20%20%22color%22%3A%20%22red%22%2C%0A%20%20%22dashArray%22%3A%20null%2C%0A%20%20%22dashOffset%22%3A%20null%2C%0A%20%20%22fill%22%3A%20true%2C%0A%20%20%22fillColor%22%3A%20%22pink%22%2C%0A%20%20%22fillOpacity%22%3A%200.7%2C%0A%20%20%22fillRule%22%3A%20%22evenodd%22%2C%0A%20%20%22lineCap%22%3A%20%22round%22%2C%0A%20%20%22lineJoin%22%3A%20%22round%22%2C%0A%20%20%22opacity%22%3A%201.0%2C%0A%20%20%22radius%22%3A%2010%2C%0A%20%20%22stroke%22%3A%20true%2C%0A%20%20%22weight%22%3A%203%0A%7D%0A%20%20%20%20%20%20%20%20%20%20%20%20%20%20%20%20%29%0A%20%20%20%20%20%20%20%20%20%20%20%20%20%20%20%20.addTo%28map_9309078ab88c415eabcbeffdc90d8404%29%3B%0A%20%20%20%20%20%20%20%20%20%20%20%20%0A%20%20%20%20%0A%20%20%20%20%20%20%20%20circle_marker_05c97b4a249743cb9a59045ef6e88cc0.bindTooltip%28%0A%20%20%20%20%20%20%20%20%20%20%20%20%60%3Cdiv%3E%60%0A%20%20%20%20%20%20%20%20%20%20%20%20%2B%20%60%EC%9C%A1%EA%B5%B0%EC%82%AC%EA%B4%80%ED%95%99%EA%B5%90%60%20%2B%20%60%3C/div%3E%60%2C%0A%20%20%20%20%20%20%20%20%20%20%20%20%7B%22sticky%22%3A%20true%7D%0A%20%20%20%20%20%20%20%20%29%3B%0A%20%20%20%20%20%20%20%20%0A%20%20%20%20%0A%20%20%20%20%20%20%20%20%20%20%20%20var%20circle_marker_5e2d7750590e43858b0eb40e167d722c%20%3D%20L.circleMarker%28%0A%20%20%20%20%20%20%20%20%20%20%20%20%20%20%20%20%5B37.5643079%2C%20126.9501786%5D%2C%0A%20%20%20%20%20%20%20%20%20%20%20%20%20%20%20%20%7B%0A%20%20%22bubblingMouseEvents%22%3A%20true%2C%0A%20%20%22color%22%3A%20%22red%22%2C%0A%20%20%22dashArray%22%3A%20null%2C%0A%20%20%22dashOffset%22%3A%20null%2C%0A%20%20%22fill%22%3A%20true%2C%0A%20%20%22fillColor%22%3A%20%22pink%22%2C%0A%20%20%22fillOpacity%22%3A%200.7%2C%0A%20%20%22fillRule%22%3A%20%22evenodd%22%2C%0A%20%20%22lineCap%22%3A%20%22round%22%2C%0A%20%20%22lineJoin%22%3A%20%22round%22%2C%0A%20%20%22opacity%22%3A%201.0%2C%0A%20%20%22radius%22%3A%2010%2C%0A%20%20%22stroke%22%3A%20true%2C%0A%20%20%22weight%22%3A%203%0A%7D%0A%20%20%20%20%20%20%20%20%20%20%20%20%20%20%20%20%29%0A%20%20%20%20%20%20%20%20%20%20%20%20%20%20%20%20.addTo%28map_9309078ab88c415eabcbeffdc90d8404%29%3B%0A%20%20%20%20%20%20%20%20%20%20%20%20%0A%20%20%20%20%0A%20%20%20%20%20%20%20%20circle_marker_5e2d7750590e43858b0eb40e167d722c.bindTooltip%28%0A%20%20%20%20%20%20%20%20%20%20%20%20%60%3Cdiv%3E%60%0A%20%20%20%20%20%20%20%20%20%20%20%20%2B%20%60%EC%9D%B4%ED%99%94%EC%97%AC%EC%9E%90%EB%8C%80%ED%95%99%EA%B5%90%60%20%2B%20%60%3C/div%3E%60%2C%0A%20%20%20%20%20%20%20%20%20%20%20%20%7B%22sticky%22%3A%20true%7D%0A%20%20%20%20%20%20%20%20%29%3B%0A%20%20%20%20%20%20%20%20%0A%20%20%20%20%0A%20%20%20%20%20%20%20%20%20%20%20%20var%20circle_marker_ac85ab0b77994620bfe6c885d2d261c1%20%3D%20L.circleMarker%28%0A%20%20%20%20%20%20%20%20%20%20%20%20%20%20%20%20%5B37.5505112%2C%20127.1034577%5D%2C%0A%20%20%20%20%20%20%20%20%20%20%20%20%20%20%20%20%7B%0A%20%20%22bubblingMouseEvents%22%3A%20true%2C%0A%20%20%22color%22%3A%20%22red%22%2C%0A%20%20%22dashArray%22%3A%20null%2C%0A%20%20%22dashOffset%22%3A%20null%2C%0A%20%20%22fill%22%3A%20true%2C%0A%20%20%22fillColor%22%3A%20%22pink%22%2C%0A%20%20%22fillOpacity%22%3A%200.7%2C%0A%20%20%22fillRule%22%3A%20%22evenodd%22%2C%0A%20%20%22lineCap%22%3A%20%22round%22%2C%0A%20%20%22lineJoin%22%3A%20%22round%22%2C%0A%20%20%22opacity%22%3A%201.0%2C%0A%20%20%22radius%22%3A%2010%2C%0A%20%20%22stroke%22%3A%20true%2C%0A%20%20%22weight%22%3A%203%0A%7D%0A%20%20%20%20%20%20%20%20%20%20%20%20%20%20%20%20%29%0A%20%20%20%20%20%20%20%20%20%20%20%20%20%20%20%20.addTo%28map_9309078ab88c415eabcbeffdc90d8404%29%3B%0A%20%20%20%20%20%20%20%20%20%20%20%20%0A%20%20%20%20%0A%20%20%20%20%20%20%20%20circle_marker_ac85ab0b77994620bfe6c885d2d261c1.bindTooltip%28%0A%20%20%20%20%20%20%20%20%20%20%20%20%60%3Cdiv%3E%60%0A%20%20%20%20%20%20%20%20%20%20%20%20%2B%20%60%EC%9E%A5%EB%A1%9C%ED%9A%8C%EC%8B%A0%ED%95%99%EB%8C%80%ED%95%99%EA%B5%90%60%20%2B%20%60%3C/div%3E%60%2C%0A%20%20%20%20%20%20%20%20%20%20%20%20%7B%22sticky%22%3A%20true%7D%0A%20%20%20%20%20%20%20%20%29%3B%0A%20%20%20%20%20%20%20%20%0A%20%20%20%20%0A%20%20%20%20%20%20%20%20%20%20%20%20var%20circle_marker_0d3f5f15dd484b8cbc10483b71756037%20%3D%20L.circleMarker%28%0A%20%20%20%20%20%20%20%20%20%20%20%20%20%20%20%20%5B37.5050881%2C%20126.9571012%5D%2C%0A%20%20%20%20%20%20%20%20%20%20%20%20%20%20%20%20%7B%0A%20%20%22bubblingMouseEvents%22%3A%20true%2C%0A%20%20%22color%22%3A%20%22red%22%2C%0A%20%20%22dashArray%22%3A%20null%2C%0A%20%20%22dashOffset%22%3A%20null%2C%0A%20%20%22fill%22%3A%20true%2C%0A%20%20%22fillColor%22%3A%20%22pink%22%2C%0A%20%20%22fillOpacity%22%3A%200.7%2C%0A%20%20%22fillRule%22%3A%20%22evenodd%22%2C%0A%20%20%22lineCap%22%3A%20%22round%22%2C%0A%20%20%22lineJoin%22%3A%20%22round%22%2C%0A%20%20%22opacity%22%3A%201.0%2C%0A%20%20%22radius%22%3A%2010%2C%0A%20%20%22stroke%22%3A%20true%2C%0A%20%20%22weight%22%3A%203%0A%7D%0A%20%20%20%20%20%20%20%20%20%20%20%20%20%20%20%20%29%0A%20%20%20%20%20%20%20%20%20%20%20%20%20%20%20%20.addTo%28map_9309078ab88c415eabcbeffdc90d8404%29%3B%0A%20%20%20%20%20%20%20%20%20%20%20%20%0A%20%20%20%20%0A%20%20%20%20%20%20%20%20circle_marker_0d3f5f15dd484b8cbc10483b71756037.bindTooltip%28%0A%20%20%20%20%20%20%20%20%20%20%20%20%60%3Cdiv%3E%60%0A%20%20%20%20%20%20%20%20%20%20%20%20%2B%20%60%EC%A4%91%EC%95%99%EB%8C%80%ED%95%99%EA%B5%90%20%EC%84%9C%EC%9A%B8%EC%BA%A0%ED%8D%BC%EC%8A%A4%20%60%20%2B%20%60%3C/div%3E%60%2C%0A%20%20%20%20%20%20%20%20%20%20%20%20%7B%22sticky%22%3A%20true%7D%0A%20%20%20%20%20%20%20%20%29%3B%0A%20%20%20%20%20%20%20%20%0A%20%20%20%20%0A%20%20%20%20%20%20%20%20%20%20%20%20var%20circle_marker_d8fbe0d3abed401ea70ff729449e652e%20%3D%20L.circleMarker%28%0A%20%20%20%20%20%20%20%20%20%20%20%20%20%20%20%20%5B37.4886232%2C%20126.9668169%5D%2C%0A%20%20%20%20%20%20%20%20%20%20%20%20%20%20%20%20%7B%0A%20%20%22bubblingMouseEvents%22%3A%20true%2C%0A%20%20%22color%22%3A%20%22red%22%2C%0A%20%20%22dashArray%22%3A%20null%2C%0A%20%20%22dashOffset%22%3A%20null%2C%0A%20%20%22fill%22%3A%20true%2C%0A%20%20%22fillColor%22%3A%20%22pink%22%2C%0A%20%20%22fillOpacity%22%3A%200.7%2C%0A%20%20%22fillRule%22%3A%20%22evenodd%22%2C%0A%20%20%22lineCap%22%3A%20%22round%22%2C%0A%20%20%22lineJoin%22%3A%20%22round%22%2C%0A%20%20%22opacity%22%3A%201.0%2C%0A%20%20%22radius%22%3A%2010%2C%0A%20%20%22stroke%22%3A%20true%2C%0A%20%20%22weight%22%3A%203%0A%7D%0A%20%20%20%20%20%20%20%20%20%20%20%20%20%20%20%20%29%0A%20%20%20%20%20%20%20%20%20%20%20%20%20%20%20%20.addTo%28map_9309078ab88c415eabcbeffdc90d8404%29%3B%0A%20%20%20%20%20%20%20%20%20%20%20%20%0A%20%20%20%20%0A%20%20%20%20%20%20%20%20circle_marker_d8fbe0d3abed401ea70ff729449e652e.bindTooltip%28%0A%20%20%20%20%20%20%20%20%20%20%20%20%60%3Cdiv%3E%60%0A%20%20%20%20%20%20%20%20%20%20%20%20%2B%20%60%EC%B4%9D%EC%8B%A0%EB%8C%80%ED%95%99%EA%B5%90%60%20%2B%20%60%3C/div%3E%60%2C%0A%20%20%20%20%20%20%20%20%20%20%20%20%7B%22sticky%22%3A%20true%7D%0A%20%20%20%20%20%20%20%20%29%3B%0A%20%20%20%20%20%20%20%20%0A%20%20%20%20%0A%20%20%20%20%20%20%20%20%20%20%20%20var%20circle_marker_e689cc3cc27a47e888ecd90d2343aa7d%20%3D%20L.circleMarker%28%0A%20%20%20%20%20%20%20%20%20%20%20%20%20%20%20%20%5B37.5624515%2C%20126.9534165%5D%2C%0A%20%20%20%20%20%20%20%20%20%20%20%20%20%20%20%20%7B%0A%20%20%22bubblingMouseEvents%22%3A%20true%2C%0A%20%20%22color%22%3A%20%22red%22%2C%0A%20%20%22dashArray%22%3A%20null%2C%0A%20%20%22dashOffset%22%3A%20null%2C%0A%20%20%22fill%22%3A%20true%2C%0A%20%20%22fillColor%22%3A%20%22pink%22%2C%0A%20%20%22fillOpacity%22%3A%200.7%2C%0A%20%20%22fillRule%22%3A%20%22evenodd%22%2C%0A%20%20%22lineCap%22%3A%20%22round%22%2C%0A%20%20%22lineJoin%22%3A%20%22round%22%2C%0A%20%20%22opacity%22%3A%201.0%2C%0A%20%20%22radius%22%3A%2010%2C%0A%20%20%22stroke%22%3A%20true%2C%0A%20%20%22weight%22%3A%203%0A%7D%0A%20%20%20%20%20%20%20%20%20%20%20%20%20%20%20%20%29%0A%20%20%20%20%20%20%20%20%20%20%20%20%20%20%20%20.addTo%28map_9309078ab88c415eabcbeffdc90d8404%29%3B%0A%20%20%20%20%20%20%20%20%20%20%20%20%0A%20%20%20%20%0A%20%20%20%20%20%20%20%20circle_marker_e689cc3cc27a47e888ecd90d2343aa7d.bindTooltip%28%0A%20%20%20%20%20%20%20%20%20%20%20%20%60%3Cdiv%3E%60%0A%20%20%20%20%20%20%20%20%20%20%20%20%2B%20%60%EC%B6%94%EA%B3%84%EC%98%88%EC%88%A0%EB%8C%80%ED%95%99%EA%B5%90%60%20%2B%20%60%3C/div%3E%60%2C%0A%20%20%20%20%20%20%20%20%20%20%20%20%7B%22sticky%22%3A%20true%7D%0A%20%20%20%20%20%20%20%20%29%3B%0A%20%20%20%20%20%20%20%20%0A%20%20%20%20%0A%20%20%20%20%20%20%20%20%20%20%20%20var%20circle_marker_5b2267ab03744fe4bcf0ec0ca998bda4%20%3D%20L.circleMarker%28%0A%20%20%20%20%20%20%20%20%20%20%20%20%20%20%20%20%5B37.5786127%2C%20127.0032905%5D%2C%0A%20%20%20%20%20%20%20%20%20%20%20%20%20%20%20%20%7B%0A%20%20%22bubblingMouseEvents%22%3A%20true%2C%0A%20%20%22color%22%3A%20%22red%22%2C%0A%20%20%22dashArray%22%3A%20null%2C%0A%20%20%22dashOffset%22%3A%20null%2C%0A%20%20%22fill%22%3A%20true%2C%0A%20%20%22fillColor%22%3A%20%22pink%22%2C%0A%20%20%22fillOpacity%22%3A%200.7%2C%0A%20%20%22fillRule%22%3A%20%22evenodd%22%2C%0A%20%20%22lineCap%22%3A%20%22round%22%2C%0A%20%20%22lineJoin%22%3A%20%22round%22%2C%0A%20%20%22opacity%22%3A%201.0%2C%0A%20%20%22radius%22%3A%2010%2C%0A%20%20%22stroke%22%3A%20true%2C%0A%20%20%22weight%22%3A%203%0A%7D%0A%20%20%20%20%20%20%20%20%20%20%20%20%20%20%20%20%29%0A%20%20%20%20%20%20%20%20%20%20%20%20%20%20%20%20.addTo%28map_9309078ab88c415eabcbeffdc90d8404%29%3B%0A%20%20%20%20%20%20%20%20%20%20%20%20%0A%20%20%20%20%0A%20%20%20%20%20%20%20%20circle_marker_5b2267ab03744fe4bcf0ec0ca998bda4.bindTooltip%28%0A%20%20%20%20%20%20%20%20%20%20%20%20%60%3Cdiv%3E%60%0A%20%20%20%20%20%20%20%20%20%20%20%20%2B%20%60%ED%95%9C%EA%B5%AD%EB%B0%A9%EC%86%A1%ED%86%B5%EC%8B%A0%EB%8C%80%ED%95%99%EA%B5%90%60%20%2B%20%60%3C/div%3E%60%2C%0A%20%20%20%20%20%20%20%20%20%20%20%20%7B%22sticky%22%3A%20true%7D%0A%20%20%20%20%20%20%20%20%29%3B%0A%20%20%20%20%20%20%20%20%0A%20%20%20%20%0A%20%20%20%20%20%20%20%20%20%20%20%20var%20circle_marker_d20161a3b4194abc96154283e4b61b78%20%3D%20L.circleMarker%28%0A%20%20%20%20%20%20%20%20%20%20%20%20%20%20%20%20%5B37.6487485%2C%20127.0643199%5D%2C%0A%20%20%20%20%20%20%20%20%20%20%20%20%20%20%20%20%7B%0A%20%20%22bubblingMouseEvents%22%3A%20true%2C%0A%20%20%22color%22%3A%20%22red%22%2C%0A%20%20%22dashArray%22%3A%20null%2C%0A%20%20%22dashOffset%22%3A%20null%2C%0A%20%20%22fill%22%3A%20true%2C%0A%20%20%22fillColor%22%3A%20%22pink%22%2C%0A%20%20%22fillOpacity%22%3A%200.7%2C%0A%20%20%22fillRule%22%3A%20%22evenodd%22%2C%0A%20%20%22lineCap%22%3A%20%22round%22%2C%0A%20%20%22lineJoin%22%3A%20%22round%22%2C%0A%20%20%22opacity%22%3A%201.0%2C%0A%20%20%22radius%22%3A%2010%2C%0A%20%20%22stroke%22%3A%20true%2C%0A%20%20%22weight%22%3A%203%0A%7D%0A%20%20%20%20%20%20%20%20%20%20%20%20%20%20%20%20%29%0A%20%20%20%20%20%20%20%20%20%20%20%20%20%20%20%20.addTo%28map_9309078ab88c415eabcbeffdc90d8404%29%3B%0A%20%20%20%20%20%20%20%20%20%20%20%20%0A%20%20%20%20%0A%20%20%20%20%20%20%20%20circle_marker_d20161a3b4194abc96154283e4b61b78.bindTooltip%28%0A%20%20%20%20%20%20%20%20%20%20%20%20%60%3Cdiv%3E%60%0A%20%20%20%20%20%20%20%20%20%20%20%20%2B%20%60%ED%95%9C%EA%B5%AD%EC%84%B1%EC%84%9C%EB%8C%80%ED%95%99%EA%B5%90%60%20%2B%20%60%3C/div%3E%60%2C%0A%20%20%20%20%20%20%20%20%20%20%20%20%7B%22sticky%22%3A%20true%7D%0A%20%20%20%20%20%20%20%20%29%3B%0A%20%20%20%20%20%20%20%20%0A%20%20%20%20%0A%20%20%20%20%20%20%20%20%20%20%20%20var%20circle_marker_88f96dae3bb24f58bac923e707477d20%20%3D%20L.circleMarker%28%0A%20%20%20%20%20%20%20%20%20%20%20%20%20%20%20%20%5B37.6049973%2C%20127.0567397%5D%2C%0A%20%20%20%20%20%20%20%20%20%20%20%20%20%20%20%20%7B%0A%20%20%22bubblingMouseEvents%22%3A%20true%2C%0A%20%20%22color%22%3A%20%22red%22%2C%0A%20%20%22dashArray%22%3A%20null%2C%0A%20%20%22dashOffset%22%3A%20null%2C%0A%20%20%22fill%22%3A%20true%2C%0A%20%20%22fillColor%22%3A%20%22pink%22%2C%0A%20%20%22fillOpacity%22%3A%200.7%2C%0A%20%20%22fillRule%22%3A%20%22evenodd%22%2C%0A%20%20%22lineCap%22%3A%20%22round%22%2C%0A%20%20%22lineJoin%22%3A%20%22round%22%2C%0A%20%20%22opacity%22%3A%201.0%2C%0A%20%20%22radius%22%3A%2010%2C%0A%20%20%22stroke%22%3A%20true%2C%0A%20%20%22weight%22%3A%203%0A%7D%0A%20%20%20%20%20%20%20%20%20%20%20%20%20%20%20%20%29%0A%20%20%20%20%20%20%20%20%20%20%20%20%20%20%20%20.addTo%28map_9309078ab88c415eabcbeffdc90d8404%29%3B%0A%20%20%20%20%20%20%20%20%20%20%20%20%0A%20%20%20%20%0A%20%20%20%20%20%20%20%20circle_marker_88f96dae3bb24f58bac923e707477d20.bindTooltip%28%0A%20%20%20%20%20%20%20%20%20%20%20%20%60%3Cdiv%3E%60%0A%20%20%20%20%20%20%20%20%20%20%20%20%2B%20%60%ED%95%9C%EA%B5%AD%EC%98%88%EC%88%A0%EC%A2%85%ED%95%A9%ED%95%99%EA%B5%90%60%20%2B%20%60%3C/div%3E%60%2C%0A%20%20%20%20%20%20%20%20%20%20%20%20%7B%22sticky%22%3A%20true%7D%0A%20%20%20%20%20%20%20%20%29%3B%0A%20%20%20%20%20%20%20%20%0A%20%20%20%20%0A%20%20%20%20%20%20%20%20%20%20%20%20var%20circle_marker_48a8d95960f54897957c107a8a2aa1a3%20%3D%20L.circleMarker%28%0A%20%20%20%20%20%20%20%20%20%20%20%20%20%20%20%20%5B37.597319%2C%20127.057843%5D%2C%0A%20%20%20%20%20%20%20%20%20%20%20%20%20%20%20%20%7B%0A%20%20%22bubblingMouseEvents%22%3A%20true%2C%0A%20%20%22color%22%3A%20%22red%22%2C%0A%20%20%22dashArray%22%3A%20null%2C%0A%20%20%22dashOffset%22%3A%20null%2C%0A%20%20%22fill%22%3A%20true%2C%0A%20%20%22fillColor%22%3A%20%22pink%22%2C%0A%20%20%22fillOpacity%22%3A%200.7%2C%0A%20%20%22fillRule%22%3A%20%22evenodd%22%2C%0A%20%20%22lineCap%22%3A%20%22round%22%2C%0A%20%20%22lineJoin%22%3A%20%22round%22%2C%0A%20%20%22opacity%22%3A%201.0%2C%0A%20%20%22radius%22%3A%2010%2C%0A%20%20%22stroke%22%3A%20true%2C%0A%20%20%22weight%22%3A%203%0A%7D%0A%20%20%20%20%20%20%20%20%20%20%20%20%20%20%20%20%29%0A%20%20%20%20%20%20%20%20%20%20%20%20%20%20%20%20.addTo%28map_9309078ab88c415eabcbeffdc90d8404%29%3B%0A%20%20%20%20%20%20%20%20%20%20%20%20%0A%20%20%20%20%0A%20%20%20%20%20%20%20%20circle_marker_48a8d95960f54897957c107a8a2aa1a3.bindTooltip%28%0A%20%20%20%20%20%20%20%20%20%20%20%20%60%3Cdiv%3E%60%0A%20%20%20%20%20%20%20%20%20%20%20%20%2B%20%60%ED%95%9C%EA%B5%AD%EC%99%B8%EA%B5%AD%EC%96%B4%EB%8C%80%ED%95%99%EA%B5%90%60%20%2B%20%60%3C/div%3E%60%2C%0A%20%20%20%20%20%20%20%20%20%20%20%20%7B%22sticky%22%3A%20true%7D%0A%20%20%20%20%20%20%20%20%29%3B%0A%20%20%20%20%20%20%20%20%0A%20%20%20%20%0A%20%20%20%20%20%20%20%20%20%20%20%20var%20circle_marker_9cc178ec126d4d36860ad4bb6f1fb39e%20%3D%20L.circleMarker%28%0A%20%20%20%20%20%20%20%20%20%20%20%20%20%20%20%20%5B37.5196266%2C%20127.1309837%5D%2C%0A%20%20%20%20%20%20%20%20%20%20%20%20%20%20%20%20%7B%0A%20%20%22bubblingMouseEvents%22%3A%20true%2C%0A%20%20%22color%22%3A%20%22red%22%2C%0A%20%20%22dashArray%22%3A%20null%2C%0A%20%20%22dashOffset%22%3A%20null%2C%0A%20%20%22fill%22%3A%20true%2C%0A%20%20%22fillColor%22%3A%20%22pink%22%2C%0A%20%20%22fillOpacity%22%3A%200.7%2C%0A%20%20%22fillRule%22%3A%20%22evenodd%22%2C%0A%20%20%22lineCap%22%3A%20%22round%22%2C%0A%20%20%22lineJoin%22%3A%20%22round%22%2C%0A%20%20%22opacity%22%3A%201.0%2C%0A%20%20%22radius%22%3A%2010%2C%0A%20%20%22stroke%22%3A%20true%2C%0A%20%20%22weight%22%3A%203%0A%7D%0A%20%20%20%20%20%20%20%20%20%20%20%20%20%20%20%20%29%0A%20%20%20%20%20%20%20%20%20%20%20%20%20%20%20%20.addTo%28map_9309078ab88c415eabcbeffdc90d8404%29%3B%0A%20%20%20%20%20%20%20%20%20%20%20%20%0A%20%20%20%20%0A%20%20%20%20%20%20%20%20circle_marker_9cc178ec126d4d36860ad4bb6f1fb39e.bindTooltip%28%0A%20%20%20%20%20%20%20%20%20%20%20%20%60%3Cdiv%3E%60%0A%20%20%20%20%20%20%20%20%20%20%20%20%2B%20%60%ED%95%9C%EA%B5%AD%EC%B2%B4%EC%9C%A1%EB%8C%80%ED%95%99%EA%B5%90%60%20%2B%20%60%3C/div%3E%60%2C%0A%20%20%20%20%20%20%20%20%20%20%20%20%7B%22sticky%22%3A%20true%7D%0A%20%20%20%20%20%20%20%20%29%3B%0A%20%20%20%20%20%20%20%20%0A%20%20%20%20%0A%20%20%20%20%20%20%20%20%20%20%20%20var%20circle_marker_4deb8611a3514eebbc835f3d3114dfbc%20%3D%20L.circleMarker%28%0A%20%20%20%20%20%20%20%20%20%20%20%20%20%20%20%20%5B37.5817849%2C%20127.010369%5D%2C%0A%20%20%20%20%20%20%20%20%20%20%20%20%20%20%20%20%7B%0A%20%20%22bubblingMouseEvents%22%3A%20true%2C%0A%20%20%22color%22%3A%20%22red%22%2C%0A%20%20%22dashArray%22%3A%20null%2C%0A%20%20%22dashOffset%22%3A%20null%2C%0A%20%20%22fill%22%3A%20true%2C%0A%20%20%22fillColor%22%3A%20%22pink%22%2C%0A%20%20%22fillOpacity%22%3A%200.7%2C%0A%20%20%22fillRule%22%3A%20%22evenodd%22%2C%0A%20%20%22lineCap%22%3A%20%22round%22%2C%0A%20%20%22lineJoin%22%3A%20%22round%22%2C%0A%20%20%22opacity%22%3A%201.0%2C%0A%20%20%22radius%22%3A%2010%2C%0A%20%20%22stroke%22%3A%20true%2C%0A%20%20%22weight%22%3A%203%0A%7D%0A%20%20%20%20%20%20%20%20%20%20%20%20%20%20%20%20%29%0A%20%20%20%20%20%20%20%20%20%20%20%20%20%20%20%20.addTo%28map_9309078ab88c415eabcbeffdc90d8404%29%3B%0A%20%20%20%20%20%20%20%20%20%20%20%20%0A%20%20%20%20%0A%20%20%20%20%20%20%20%20circle_marker_4deb8611a3514eebbc835f3d3114dfbc.bindTooltip%28%0A%20%20%20%20%20%20%20%20%20%20%20%20%60%3Cdiv%3E%60%0A%20%20%20%20%20%20%20%20%20%20%20%20%2B%20%60%ED%95%9C%EC%84%B1%EB%8C%80%ED%95%99%EA%B5%90%60%20%2B%20%60%3C/div%3E%60%2C%0A%20%20%20%20%20%20%20%20%20%20%20%20%7B%22sticky%22%3A%20true%7D%0A%20%20%20%20%20%20%20%20%29%3B%0A%20%20%20%20%20%20%20%20%0A%20%20%20%20%0A%20%20%20%20%20%20%20%20%20%20%20%20var%20circle_marker_c8c72a47bb0b41ca960260b2d2c26e3f%20%3D%20L.circleMarker%28%0A%20%20%20%20%20%20%20%20%20%20%20%20%20%20%20%20%5B37.5572321%2C%20127.0453219%5D%2C%0A%20%20%20%20%20%20%20%20%20%20%20%20%20%20%20%20%7B%0A%20%20%22bubblingMouseEvents%22%3A%20true%2C%0A%20%20%22color%22%3A%20%22red%22%2C%0A%20%20%22dashArray%22%3A%20null%2C%0A%20%20%22dashOffset%22%3A%20null%2C%0A%20%20%22fill%22%3A%20true%2C%0A%20%20%22fillColor%22%3A%20%22pink%22%2C%0A%20%20%22fillOpacity%22%3A%200.7%2C%0A%20%20%22fillRule%22%3A%20%22evenodd%22%2C%0A%20%20%22lineCap%22%3A%20%22round%22%2C%0A%20%20%22lineJoin%22%3A%20%22round%22%2C%0A%20%20%22opacity%22%3A%201.0%2C%0A%20%20%22radius%22%3A%2010%2C%0A%20%20%22stroke%22%3A%20true%2C%0A%20%20%22weight%22%3A%203%0A%7D%0A%20%20%20%20%20%20%20%20%20%20%20%20%20%20%20%20%29%0A%20%20%20%20%20%20%20%20%20%20%20%20%20%20%20%20.addTo%28map_9309078ab88c415eabcbeffdc90d8404%29%3B%0A%20%20%20%20%20%20%20%20%20%20%20%20%0A%20%20%20%20%0A%20%20%20%20%20%20%20%20circle_marker_c8c72a47bb0b41ca960260b2d2c26e3f.bindTooltip%28%0A%20%20%20%20%20%20%20%20%20%20%20%20%60%3Cdiv%3E%60%0A%20%20%20%20%20%20%20%20%20%20%20%20%2B%20%60%ED%95%9C%EC%96%91%EB%8C%80%ED%95%99%EA%B5%90%60%20%2B%20%60%3C/div%3E%60%2C%0A%20%20%20%20%20%20%20%20%20%20%20%20%7B%22sticky%22%3A%20true%7D%0A%20%20%20%20%20%20%20%20%29%3B%0A%20%20%20%20%20%20%20%20%0A%20%20%20%20%0A%20%20%20%20%20%20%20%20%20%20%20%20var%20circle_marker_75bd1210c51249c8b85f4435f6a72a2c%20%3D%20L.circleMarker%28%0A%20%20%20%20%20%20%20%20%20%20%20%20%20%20%20%20%5B37.5514642%2C%20126.9250106%5D%2C%0A%20%20%20%20%20%20%20%20%20%20%20%20%20%20%20%20%7B%0A%20%20%22bubblingMouseEvents%22%3A%20true%2C%0A%20%20%22color%22%3A%20%22red%22%2C%0A%20%20%22dashArray%22%3A%20null%2C%0A%20%20%22dashOffset%22%3A%20null%2C%0A%20%20%22fill%22%3A%20true%2C%0A%20%20%22fillColor%22%3A%20%22pink%22%2C%0A%20%20%22fillOpacity%22%3A%200.7%2C%0A%20%20%22fillRule%22%3A%20%22evenodd%22%2C%0A%20%20%22lineCap%22%3A%20%22round%22%2C%0A%20%20%22lineJoin%22%3A%20%22round%22%2C%0A%20%20%22opacity%22%3A%201.0%2C%0A%20%20%22radius%22%3A%2010%2C%0A%20%20%22stroke%22%3A%20true%2C%0A%20%20%22weight%22%3A%203%0A%7D%0A%20%20%20%20%20%20%20%20%20%20%20%20%20%20%20%20%29%0A%20%20%20%20%20%20%20%20%20%20%20%20%20%20%20%20.addTo%28map_9309078ab88c415eabcbeffdc90d8404%29%3B%0A%20%20%20%20%20%20%20%20%20%20%20%20%0A%20%20%20%20%0A%20%20%20%20%20%20%20%20circle_marker_75bd1210c51249c8b85f4435f6a72a2c.bindTooltip%28%0A%20%20%20%20%20%20%20%20%20%20%20%20%60%3Cdiv%3E%60%0A%20%20%20%20%20%20%20%20%20%20%20%20%2B%20%60%ED%99%8D%EC%9D%B5%EB%8C%80%ED%95%99%EA%B5%90%60%20%2B%20%60%3C/div%3E%60%2C%0A%20%20%20%20%20%20%20%20%20%20%20%20%7B%22sticky%22%3A%20true%7D%0A%20%20%20%20%20%20%20%20%29%3B%0A%20%20%20%20%20%20%20%20%0A%3C/script%3E onload=\"this.contentDocument.open();this.contentDocument.write(    decodeURIComponent(this.getAttribute('data-html')));this.contentDocument.close();\" allowfullscreen webkitallowfullscreen mozallowfullscreen></iframe></div></div>"
            ],
            "text/plain": [
              "<folium.folium.Map at 0x7f611c5dc630>"
            ]
          },
          "metadata": {
            "tags": []
          },
          "execution_count": 65
        }
      ]
    },
    {
      "cell_type": "markdown",
      "metadata": {
        "id": "i6zycvZC2nLv",
        "colab_type": "text"
      },
      "source": [
        "#지도 영역에 단계구분도 표시하기"
      ]
    },
    {
      "cell_type": "code",
      "metadata": {
        "id": "4H5KaBCk2j_U",
        "colab_type": "code",
        "colab": {}
      },
      "source": [
        "import pandas as pd\n",
        "import json"
      ],
      "execution_count": null,
      "outputs": []
    },
    {
      "cell_type": "code",
      "metadata": {
        "id": "02sLCaEI2vXR",
        "colab_type": "code",
        "colab": {}
      },
      "source": [
        "df = pd.read_excel(\"./경기도인구데이터.xlsx\")"
      ],
      "execution_count": null,
      "outputs": []
    },
    {
      "cell_type": "code",
      "metadata": {
        "id": "3_rrV8vK25lx",
        "colab_type": "code",
        "colab": {}
      },
      "source": [
        "#에러 처리 관련 실습\n",
        "f = None\n",
        "\n",
        "while(True):\n",
        "  try:\n",
        "    f = open(\"./경기도행정구역경계.json\", encoding = \"UTF-8\")\n",
        "    break\n",
        "  except: \n",
        "    print(\"File Open Error\")\n",
        "    file_name = input(\"파일명을 다시 입력하세요: \")\n",
        "    f = open(file_name, encoding = \"UTF-8\")\n",
        "    print(\"Error 해결\")"
      ],
      "execution_count": null,
      "outputs": []
    },
    {
      "cell_type": "code",
      "metadata": {
        "id": "zqKis_00Ta7t",
        "colab_type": "code",
        "colab": {}
      },
      "source": [
        "geo1 = json.load(open(\"./경기도행정구역경계.json\"))"
      ],
      "execution_count": null,
      "outputs": []
    },
    {
      "cell_type": "code",
      "metadata": {
        "id": "1B6GfhRf27kV",
        "colab_type": "code",
        "colab": {
          "base_uri": "https://localhost:8080/",
          "height": 1000
        },
        "outputId": "361f48f7-51eb-40b5-8ae2-f50f0623407c"
      },
      "source": [
        "geo1[\"features\"]"
      ],
      "execution_count": null,
      "outputs": [
        {
          "output_type": "execute_result",
          "data": {
            "text/plain": [
              "[{'geometry': {'coordinates': [[[127.56113535909492, 37.6256560539258],\n",
              "     [127.57290963929243, 37.61087369350498],\n",
              "     [127.56366973908277, 37.5842624297699],\n",
              "     [127.52226606559191, 37.5828628697518],\n",
              "     [127.50048767007603, 37.569036373178626],\n",
              "     [127.47687473909174, 37.574448241913856],\n",
              "     [127.47565866803647, 37.60512112601634],\n",
              "     [127.44699730711024, 37.64497584741164],\n",
              "     [127.4272349102434, 37.66284420898682],\n",
              "     [127.40156700708162, 37.64806970784708],\n",
              "     [127.3732642199939, 37.6453987554284],\n",
              "     [127.3542931884407, 37.6250006376975],\n",
              "     [127.34360057873045, 37.588997440929354],\n",
              "     [127.31002843450217, 37.53523876142835],\n",
              "     [127.30923294884336, 37.5135706079458],\n",
              "     [127.32809611134748, 37.53133849534739],\n",
              "     [127.3663244453597, 37.52716845880826],\n",
              "     [127.38286320755414, 37.50147517965334],\n",
              "     [127.39046783039153, 37.47413422098595],\n",
              "     [127.37490698722792, 37.455072688441305],\n",
              "     [127.39174400683049, 37.4256483411369],\n",
              "     [127.40276739880215, 37.41856433413549],\n",
              "     [127.4250053080982, 37.43669952587185],\n",
              "     [127.4817900304572, 37.42084413829662],\n",
              "     [127.51015267026155, 37.43699555518635],\n",
              "     [127.52501209957308, 37.43192043868044],\n",
              "     [127.53910572062166, 37.40849283821634],\n",
              "     [127.60528700481163, 37.416969769508924],\n",
              "     [127.63754040237271, 37.41065607591271],\n",
              "     [127.6491838950862, 37.402042953108506],\n",
              "     [127.66976823475012, 37.40884431255766],\n",
              "     [127.71071536074867, 37.40736583858037],\n",
              "     [127.70347417929173, 37.371054026073324],\n",
              "     [127.76165381178268, 37.36421926003675],\n",
              "     [127.77952402154285, 37.368441789396854],\n",
              "     [127.80397287036232, 37.432516049235865],\n",
              "     [127.79833492163134, 37.460500237870505],\n",
              "     [127.77664798308412, 37.48883635932707],\n",
              "     [127.77611527652192, 37.50328615763377],\n",
              "     [127.80855972024105, 37.53220450961153],\n",
              "     [127.8445769305193, 37.53621789699497],\n",
              "     [127.85162286006927, 37.55037340096326],\n",
              "     [127.81507964099751, 37.5618389022189],\n",
              "     [127.79492564827493, 37.58252978378627],\n",
              "     [127.76838776707211, 37.580178216134605],\n",
              "     [127.75614914198108, 37.589477424718204],\n",
              "     [127.7102810556826, 37.58360128682645],\n",
              "     [127.69869383868397, 37.59757031454811],\n",
              "     [127.65553070991882, 37.61954565135447],\n",
              "     [127.62972032693943, 37.63983122973888],\n",
              "     [127.60450569091653, 37.648548552427314],\n",
              "     [127.58166701442097, 37.63033393389168],\n",
              "     [127.56113535909492, 37.6256560539258]]],\n",
              "   'type': 'Polygon'},\n",
              "  'properties': {'base_year': 2013,\n",
              "   'code': 31380,\n",
              "   'name': '양평군',\n",
              "   'name_eng': 'Yangpyeong-gun'},\n",
              "  'type': 'Feature'},\n",
              " {'geometry': {'coordinates': [[[127.44780328408541, 38.048238751068475],\n",
              "     [127.42042182072485, 38.01200319871128],\n",
              "     [127.41516664705571, 37.995046525366845],\n",
              "     [127.39194666896421, 37.97992649728499],\n",
              "     [127.37828420492166, 37.958773972665476],\n",
              "     [127.3864253692493, 37.940789082655876],\n",
              "     [127.35796486335995, 37.918888706648104],\n",
              "     [127.33112989323685, 37.9192732427266],\n",
              "     [127.32585628843694, 37.8708665787365],\n",
              "     [127.31427495278925, 37.86338279582678],\n",
              "     [127.29023239060183, 37.867156223189305],\n",
              "     [127.27621937205707, 37.823925522993584],\n",
              "     [127.28134774958465, 37.81350552459983],\n",
              "     [127.2686525155809, 37.777676803810074],\n",
              "     [127.32070791913966, 37.76445271893134],\n",
              "     [127.34501289752937, 37.7266690692075],\n",
              "     [127.35759057077398, 37.720909295881434],\n",
              "     [127.35557114419971, 37.701041217064585],\n",
              "     [127.38133544278186, 37.67180837890239],\n",
              "     [127.3732642199939, 37.6453987554284],\n",
              "     [127.40156700708162, 37.64806970784708],\n",
              "     [127.4272349102434, 37.66284420898682],\n",
              "     [127.44699730711024, 37.64497584741164],\n",
              "     [127.47565866803647, 37.60512112601634],\n",
              "     [127.47687473909174, 37.574448241913856],\n",
              "     [127.50048767007603, 37.569036373178626],\n",
              "     [127.52226606559191, 37.5828628697518],\n",
              "     [127.56366973908277, 37.5842624297699],\n",
              "     [127.57290963929243, 37.61087369350498],\n",
              "     [127.56113535909492, 37.6256560539258],\n",
              "     [127.53917031861263, 37.64021056192394],\n",
              "     [127.5549605217701, 37.658757758392326],\n",
              "     [127.55230133599949, 37.6826768602848],\n",
              "     [127.5620152520609, 37.72573118147031],\n",
              "     [127.54295591487076, 37.71630823574417],\n",
              "     [127.50979807707056, 37.72791553253582],\n",
              "     [127.5466892772679, 37.757547899640265],\n",
              "     [127.52374487270039, 37.788564076302706],\n",
              "     [127.53790811514408, 37.806297142430786],\n",
              "     [127.5278056459557, 37.8205934650677],\n",
              "     [127.53467866263196, 37.8391134107185],\n",
              "     [127.5645808687282, 37.852710085354005],\n",
              "     [127.586513542654, 37.87296654527047],\n",
              "     [127.60326048844294, 37.87185797528634],\n",
              "     [127.61988365348992, 37.90376621474279],\n",
              "     [127.61592274592837, 37.93662873141094],\n",
              "     [127.60515472290533, 37.95233960186072],\n",
              "     [127.54648191805605, 37.96536690082484],\n",
              "     [127.54189684816376, 37.99843118565868],\n",
              "     [127.50356426725331, 37.99680815824825],\n",
              "     [127.47430810833019, 38.00331531710267],\n",
              "     [127.46013793737187, 38.01348603532302],\n",
              "     [127.44780328408541, 38.048238751068475]]],\n",
              "   'type': 'Polygon'},\n",
              "  'properties': {'base_year': 2013,\n",
              "   'code': 31370,\n",
              "   'name': '가평군',\n",
              "   'name_eng': 'Gapyeong-gun'},\n",
              "  'type': 'Feature'},\n",
              " {'geometry': {'coordinates': [[[127.1114029794941, 38.289324698353205],\n",
              "     [127.07249919657463, 38.26801218962005],\n",
              "     [127.02801007414642, 38.254549706273764],\n",
              "     [126.99286312502117, 38.234131621017674],\n",
              "     [126.97740008434542, 38.23136042526893],\n",
              "     [126.98606173199121, 38.209401424377816],\n",
              "     [126.96711105593987, 38.19506065700263],\n",
              "     [126.95459011862387, 38.20786522832632],\n",
              "     [126.92781480981668, 38.200854654628984],\n",
              "     [126.8974333001951, 38.20180521598681],\n",
              "     [126.87506682979435, 38.220357253330604],\n",
              "     [126.8278790877819, 38.195486974451406],\n",
              "     [126.77187664076929, 38.15202258772112],\n",
              "     [126.75014823067355, 38.125072772241225],\n",
              "     [126.78709379586621, 38.09626689678258],\n",
              "     [126.79823368085893, 38.079396242822355],\n",
              "     [126.85234589355446, 38.09221072381945],\n",
              "     [126.86904468579002, 38.077582436479354],\n",
              "     [126.89538167413222, 38.071648142471204],\n",
              "     [126.89492205681401, 38.04859999954147],\n",
              "     [126.87463524911628, 38.01581963256826],\n",
              "     [126.85568764143953, 38.02873639803942],\n",
              "     [126.83392985136591, 38.03100700061125],\n",
              "     [126.8252320653152, 38.00913397816309],\n",
              "     [126.83164256576254, 37.99035429677792],\n",
              "     [126.8029965558113, 37.989251239637596],\n",
              "     [126.80659958939793, 37.9680012097748],\n",
              "     [126.8388723334759, 37.96197909365746],\n",
              "     [126.8423229135476, 37.97819760433225],\n",
              "     [126.85859300440933, 37.98329485669624],\n",
              "     [126.8739356423477, 37.968400924665225],\n",
              "     [126.89755470110721, 37.9683523617657],\n",
              "     [126.90034044420747, 37.99438948257985],\n",
              "     [126.93929997962098, 37.9789601448141],\n",
              "     [126.97166918547234, 38.000587999007735],\n",
              "     [126.99425287672854, 38.000624488107924],\n",
              "     [127.01739022262282, 37.989561835400195],\n",
              "     [126.97545924731331, 37.93928140597955],\n",
              "     [127.01215278654801, 37.924817815480985],\n",
              "     [127.02968085272437, 37.9404013715077],\n",
              "     [127.05589127856165, 37.978154747876275],\n",
              "     [127.09382742820131, 37.968691278173],\n",
              "     [127.09290535753887, 37.98459431234087],\n",
              "     [127.12231622589134, 37.976745791642564],\n",
              "     [127.14982270353039, 37.99413348520078],\n",
              "     [127.1474423860908, 38.01290337564081],\n",
              "     [127.11440133420174, 38.04821685684721],\n",
              "     [127.14326850224882, 38.070002354405226],\n",
              "     [127.15086136346409, 38.05496212563221],\n",
              "     [127.1888339288906, 38.06204029940796],\n",
              "     [127.19437916578538, 38.0797568774465],\n",
              "     [127.17503254383571, 38.13882932478672],\n",
              "     [127.18150182398624, 38.181927191525546],\n",
              "     [127.16857086007771, 38.19681089627724],\n",
              "     [127.16461628401596, 38.22949766461027],\n",
              "     [127.15063615800273, 38.239791315402336],\n",
              "     [127.13243747984255, 38.22986476152822],\n",
              "     [127.11224663908298, 38.23944312080941],\n",
              "     [127.11610682730382, 38.26255766722931],\n",
              "     [127.1114029794941, 38.289324698353205]]],\n",
              "   'type': 'Polygon'},\n",
              "  'properties': {'base_year': 2013,\n",
              "   'code': 31350,\n",
              "   'name': '연천군',\n",
              "   'name_eng': 'Yeoncheon-gun'},\n",
              "  'type': 'Feature'},\n",
              " {'geometry': {'coordinates': [[[127.40276739880215, 37.41856433413549],\n",
              "     [127.41955611640327, 37.386674887879835],\n",
              "     [127.44514756834636, 37.3842770721951],\n",
              "     [127.44459662819855, 37.35562085049101],\n",
              "     [127.47263652805968, 37.35869263849808],\n",
              "     [127.49167370715485, 37.339527598960764],\n",
              "     [127.51574229064994, 37.336561285567946],\n",
              "     [127.54853754663094, 37.29860192066929],\n",
              "     [127.53106721989582, 37.27115011578052],\n",
              "     [127.5395160453677, 37.24379045683148],\n",
              "     [127.52770097674612, 37.23765094459253],\n",
              "     [127.53342604855668, 37.19715010635273],\n",
              "     [127.51957698997381, 37.18188687027366],\n",
              "     [127.52893461217018, 37.170618598276],\n",
              "     [127.55830514005798, 37.17381401041668],\n",
              "     [127.5785248984445, 37.186311208078585],\n",
              "     [127.5999013564347, 37.1854997199498],\n",
              "     [127.63091754409567, 37.150947430524305],\n",
              "     [127.66246837559255, 37.13682554779843],\n",
              "     [127.69759568854894, 37.137598675963744],\n",
              "     [127.6981539994774, 37.14931076846793],\n",
              "     [127.73893911466041, 37.20715818139463],\n",
              "     [127.75008528183503, 37.21383642183904],\n",
              "     [127.75102511570132, 37.24464129242011],\n",
              "     [127.76047537750615, 37.25518935399549],\n",
              "     [127.75697503302167, 37.29496921027118],\n",
              "     [127.77073902372764, 37.30499906774147],\n",
              "     [127.76193527300671, 37.32724708852886],\n",
              "     [127.76165381178268, 37.36421926003675],\n",
              "     [127.70347417929173, 37.371054026073324],\n",
              "     [127.71071536074867, 37.40736583858037],\n",
              "     [127.66976823475012, 37.40884431255766],\n",
              "     [127.6491838950862, 37.402042953108506],\n",
              "     [127.63754040237271, 37.41065607591271],\n",
              "     [127.60528700481163, 37.416969769508924],\n",
              "     [127.53910572062166, 37.40849283821634],\n",
              "     [127.52501209957308, 37.43192043868044],\n",
              "     [127.51015267026155, 37.43699555518635],\n",
              "     [127.4817900304572, 37.42084413829662],\n",
              "     [127.4250053080982, 37.43669952587185],\n",
              "     [127.40276739880215, 37.41856433413549]]],\n",
              "   'type': 'Polygon'},\n",
              "  'properties': {'base_year': 2013,\n",
              "   'code': 31280,\n",
              "   'name': '여주시',\n",
              "   'name_eng': 'Yeoju-si'},\n",
              "  'type': 'Feature'},\n",
              " {'geometry': {'coordinates': [[[127.18150182398624, 38.181927191525546],\n",
              "     [127.17503254383571, 38.13882932478672],\n",
              "     [127.19437916578538, 38.0797568774465],\n",
              "     [127.1888339288906, 38.06204029940796],\n",
              "     [127.15086136346409, 38.05496212563221],\n",
              "     [127.14326850224882, 38.070002354405226],\n",
              "     [127.11440133420174, 38.04821685684721],\n",
              "     [127.1474423860908, 38.01290337564081],\n",
              "     [127.14982270353039, 37.99413348520078],\n",
              "     [127.12231622589134, 37.976745791642564],\n",
              "     [127.09290535753887, 37.98459431234087],\n",
              "     [127.09382742820131, 37.968691278173],\n",
              "     [127.1240834119586, 37.913726790414486],\n",
              "     [127.1480788721724, 37.909108279220675],\n",
              "     [127.15777209998105, 37.89291633342494],\n",
              "     [127.14908802054492, 37.87326470277757],\n",
              "     [127.13067707221735, 37.87115064756639],\n",
              "     [127.1113003891929, 37.85708813371199],\n",
              "     [127.12400943178396, 37.82538075264934],\n",
              "     [127.12412178020936, 37.80931541475853],\n",
              "     [127.10645686970089, 37.776897580693586],\n",
              "     [127.14177735342194, 37.76129795333661],\n",
              "     [127.14882403466048, 37.75206030443599],\n",
              "     [127.17524551122212, 37.751938183429424],\n",
              "     [127.18575971970597, 37.76186443408089],\n",
              "     [127.21510645674604, 37.75873586709106],\n",
              "     [127.22719439323131, 37.750666435161854],\n",
              "     [127.26186907661463, 37.765678541736996],\n",
              "     [127.2686525155809, 37.777676803810074],\n",
              "     [127.28134774958465, 37.81350552459983],\n",
              "     [127.27621937205707, 37.823925522993584],\n",
              "     [127.29023239060183, 37.867156223189305],\n",
              "     [127.31427495278925, 37.86338279582678],\n",
              "     [127.32585628843694, 37.8708665787365],\n",
              "     [127.33112989323685, 37.9192732427266],\n",
              "     [127.35796486335995, 37.918888706648104],\n",
              "     [127.3864253692493, 37.940789082655876],\n",
              "     [127.37828420492166, 37.958773972665476],\n",
              "     [127.39194666896421, 37.97992649728499],\n",
              "     [127.41516664705571, 37.995046525366845],\n",
              "     [127.42042182072485, 38.01200319871128],\n",
              "     [127.44780328408541, 38.048238751068475],\n",
              "     [127.44645416125843, 38.09506926769056],\n",
              "     [127.43271157644212, 38.11254491261849],\n",
              "     [127.38575924845978, 38.111650021865444],\n",
              "     [127.32332897924549, 38.09248746131129],\n",
              "     [127.31342794935864, 38.113239178580145],\n",
              "     [127.28533797240796, 38.11374536112377],\n",
              "     [127.27790641954418, 38.13449032094295],\n",
              "     [127.28937067741944, 38.1495974983685],\n",
              "     [127.29146727692374, 38.17417076323154],\n",
              "     [127.27319981021783, 38.1790866530056],\n",
              "     [127.25802935713429, 38.16048880005979],\n",
              "     [127.22539552047925, 38.144128217872485],\n",
              "     [127.19211744512407, 38.157963139766544],\n",
              "     [127.18150182398624, 38.181927191525546]]],\n",
              "   'type': 'Polygon'},\n",
              "  'properties': {'base_year': 2013,\n",
              "   'code': 31270,\n",
              "   'name': '포천시',\n",
              "   'name_eng': 'Pocheonsi'},\n",
              "  'type': 'Feature'},\n",
              " {'geometry': {'coordinates': [[[126.97545924731331, 37.93928140597955],\n",
              "     [126.94883433502994, 37.89688479787927],\n",
              "     [126.9484401545115, 37.86422401203834],\n",
              "     [126.93661135445112, 37.843479475117995],\n",
              "     [126.9160273881691, 37.83830532663158],\n",
              "     [126.9073114617216, 37.790560159793145],\n",
              "     [126.93838979622467, 37.771436009953916],\n",
              "     [126.93180653905974, 37.74575671706106],\n",
              "     [126.92470886562188, 37.72916078041937],\n",
              "     [126.92290257733573, 37.66907383915535],\n",
              "     [126.94191948970435, 37.66797237250146],\n",
              "     [126.94689093217877, 37.68234333447953],\n",
              "     [126.96734461801938, 37.68969305565268],\n",
              "     [126.99383903424, 37.676681761199085],\n",
              "     [127.01039666042071, 37.681894589603594],\n",
              "     [127.01795099203432, 37.69824412775662],\n",
              "     [127.01477890845196, 37.722832167524864],\n",
              "     [127.00430024727942, 37.73792676357612],\n",
              "     [127.00437834122181, 37.75999833868866],\n",
              "     [127.02081299427202, 37.76581418787214],\n",
              "     [127.05297245855259, 37.75816755994106],\n",
              "     [127.10645686970089, 37.776897580693586],\n",
              "     [127.12412178020936, 37.80931541475853],\n",
              "     [127.12400943178396, 37.82538075264934],\n",
              "     [127.1113003891929, 37.85708813371199],\n",
              "     [127.09509254572018, 37.86843288571378],\n",
              "     [127.06250430862417, 37.86658619508279],\n",
              "     [127.04837406784853, 37.891090496591005],\n",
              "     [127.01281974367026, 37.90171539201257],\n",
              "     [127.01215278654801, 37.924817815480985],\n",
              "     [126.97545924731331, 37.93928140597955]]],\n",
              "   'type': 'Polygon'},\n",
              "  'properties': {'base_year': 2013,\n",
              "   'code': 31260,\n",
              "   'name': '양주시',\n",
              "   'name_eng': 'Yangjusi'},\n",
              "  'type': 'Feature'},\n",
              " {'geometry': {'coordinates': [[[127.30923294884336, 37.5135706079458],\n",
              "     [127.28971082577908, 37.51069218442014],\n",
              "     [127.25539313999657, 37.50044702706516],\n",
              "     [127.26066872639333, 37.4867746581613],\n",
              "     [127.23892819551556, 37.47240158876339],\n",
              "     [127.21785285379218, 37.479493796173465],\n",
              "     [127.1831716097913, 37.47048077053623],\n",
              "     [127.19808034941583, 37.441066604883545],\n",
              "     [127.19594474070001, 37.421269309284035],\n",
              "     [127.17637586604776, 37.40261052326208],\n",
              "     [127.15506886795262, 37.36076173403712],\n",
              "     [127.13605700285002, 37.35565614606753],\n",
              "     [127.13845652996186, 37.336816804055495],\n",
              "     [127.1439713536275, 37.33349026702227],\n",
              "     [127.19373839709431, 37.34441869868583],\n",
              "     [127.21042746205282, 37.32805374935785],\n",
              "     [127.23072982952925, 37.35607967407726],\n",
              "     [127.26708575818817, 37.33990127392118],\n",
              "     [127.28543362549937, 37.3425335272208],\n",
              "     [127.2795205391003, 37.306809952638524],\n",
              "     [127.28383871402815, 37.2658807760632],\n",
              "     [127.32142008240551, 37.27215636613311],\n",
              "     [127.34092967480524, 37.26770614318737],\n",
              "     [127.34227600003884, 37.28528169366774],\n",
              "     [127.37829628277709, 37.317936247676194],\n",
              "     [127.38906532153541, 37.31608103967859],\n",
              "     [127.42277946655206, 37.33526375647856],\n",
              "     [127.44459662819855, 37.35562085049101],\n",
              "     [127.44514756834636, 37.3842770721951],\n",
              "     [127.41955611640327, 37.386674887879835],\n",
              "     [127.40276739880215, 37.41856433413549],\n",
              "     [127.39174400683049, 37.4256483411369],\n",
              "     [127.37490698722792, 37.455072688441305],\n",
              "     [127.39046783039153, 37.47413422098595],\n",
              "     [127.38286320755414, 37.50147517965334],\n",
              "     [127.3663244453597, 37.52716845880826],\n",
              "     [127.32809611134748, 37.53133849534739],\n",
              "     [127.30923294884336, 37.5135706079458]]],\n",
              "   'type': 'Polygon'},\n",
              "  'properties': {'base_year': 2013,\n",
              "   'code': 31250,\n",
              "   'name': '광주시',\n",
              "   'name_eng': 'Gwangju'},\n",
              "  'type': 'Feature'},\n",
              " {'geometry': {'coordinates': [[[126.92946761531998, 37.275967848758626],\n",
              "     [126.9159468889861, 37.28864104563552],\n",
              "     [126.84641021832398, 37.26433293772644],\n",
              "     [126.81930541992186, 37.29590550406618],\n",
              "     [126.77604675292967, 37.28552626562424],\n",
              "     [126.76918029785156, 37.28334098034544],\n",
              "     [126.73210144042969, 37.29098920118597],\n",
              "     [126.71836853027344, 37.286072577028555],\n",
              "     [126.68403625488283, 37.267495764381856],\n",
              "     [126.6510772705078, 37.25328687335229],\n",
              "     [126.66481018066405, 37.21994010868952],\n",
              "     [126.65794372558594, 37.19478361329807],\n",
              "     [126.66271935011406, 37.15926986163073],\n",
              "     [126.6846290670714, 37.14600860455114],\n",
              "     [126.67514463500929, 37.13507063838445],\n",
              "     [126.69054868899676, 37.11326932983634],\n",
              "     [126.7301407699343, 37.135914524793805],\n",
              "     [126.74720764160156, 37.14225609389272],\n",
              "     [126.7719268798828, 37.14663478158564],\n",
              "     [126.79458618164062, 37.14827672411748],\n",
              "     [126.80659259648279, 37.148624224069174],\n",
              "     [126.7547607421875, 37.137329767248794],\n",
              "     [126.72454833984374, 37.11543110112874],\n",
              "     [126.73072814941408, 37.092430683283474],\n",
              "     [126.7327880859375, 37.07544970503028],\n",
              "     [126.75132751464844, 37.0601087778919],\n",
              "     [126.75044219493901, 37.04618007006251],\n",
              "     [126.75308052062115, 37.02639369248519],\n",
              "     [126.79113814421088, 37.02631450535446],\n",
              "     [126.79899352215931, 37.0092005991418],\n",
              "     [126.84014623559027, 37.01079503386266],\n",
              "     [126.85940022959993, 37.022131594683266],\n",
              "     [126.8846211892453, 37.05795114472113],\n",
              "     [126.90291323437098, 37.06724127811693],\n",
              "     [126.94247588185057, 37.057958386286046],\n",
              "     [126.95290081243859, 37.06545814826726],\n",
              "     [126.98672297136514, 37.06879655242586],\n",
              "     [127.00102521866197, 37.08973596266607],\n",
              "     [127.00593012741142, 37.124105707924144],\n",
              "     [127.03746950511537, 37.13336771678679],\n",
              "     [127.03019615684671, 37.16027870494751],\n",
              "     [127.00186863458882, 37.1747343711991],\n",
              "     [127.02929563655235, 37.19787494412135],\n",
              "     [127.06660498380589, 37.19589230774365],\n",
              "     [127.07609473440765, 37.16092553278145],\n",
              "     [127.09596808287752, 37.1566082978686],\n",
              "     [127.10575417734016, 37.1407283236673],\n",
              "     [127.12480483538663, 37.14166379699704],\n",
              "     [127.13469226704495, 37.165565916914176],\n",
              "     [127.16278322754954, 37.17771519608909],\n",
              "     [127.15371679380591, 37.215705679231036],\n",
              "     [127.09106338919456, 37.21351968359228],\n",
              "     [127.06878518378286, 37.23731339587258],\n",
              "     [127.04178611512381, 37.24066886027782],\n",
              "     [127.02475029106094, 37.22207898080851],\n",
              "     [126.97491964707861, 37.22588531228192],\n",
              "     [126.95229769733274, 37.2524826245201],\n",
              "     [126.93110125729105, 37.260824951129344],\n",
              "     [126.92946761531998, 37.275967848758626]]],\n",
              "   'type': 'Polygon'},\n",
              "  'properties': {'base_year': 2013,\n",
              "   'code': 31240,\n",
              "   'name': '화성시',\n",
              "   'name_eng': 'Hwaseongsi'},\n",
              "  'type': 'Feature'},\n",
              " {'geometry': {'coordinates': [[[126.67862254618308, 37.697305342702336],\n",
              "     [126.68687028203884, 37.72287270233232],\n",
              "     [126.66907840308846, 37.78174793493798],\n",
              "     [126.64101439012131, 37.77566349630024],\n",
              "     [126.61153655783419, 37.75013666485523],\n",
              "     [126.56882602841813, 37.7532565431125],\n",
              "     [126.55721894228033, 37.76621180168271],\n",
              "     [126.51662409600848, 37.76417822326665],\n",
              "     [126.52807816920034, 37.73531846953613],\n",
              "     [126.52057497424896, 37.70995131425922],\n",
              "     [126.5293420651622, 37.70036377653783],\n",
              "     [126.52504262045373, 37.67373626287928],\n",
              "     [126.53101689696972, 37.65019057730887],\n",
              "     [126.55161765645468, 37.624298554715594],\n",
              "     [126.55623106969898, 37.60651221746275],\n",
              "     [126.57464273966109, 37.58499252358352],\n",
              "     [126.61067265871806, 37.601000735347455],\n",
              "     [126.6298186792055, 37.60410987353396],\n",
              "     [126.63835822769396, 37.62500980457943],\n",
              "     [126.6591800896809, 37.63521787385032],\n",
              "     [126.70070861456485, 37.6146734329379],\n",
              "     [126.72720375328538, 37.589208895921956],\n",
              "     [126.74570339076207, 37.59055779256247],\n",
              "     [126.79575768552907, 37.57881087633202],\n",
              "     [126.80702115023597, 37.60123001013228],\n",
              "     [126.77608157956732, 37.61940269153496],\n",
              "     [126.74300328815525, 37.63613822400079],\n",
              "     [126.6733552623039, 37.67370888254625],\n",
              "     [126.67862254618308, 37.697305342702336]]],\n",
              "   'type': 'Polygon'},\n",
              "  'properties': {'base_year': 2013,\n",
              "   'code': 31230,\n",
              "   'name': '김포시',\n",
              "   'name_eng': 'Gimpo-si'},\n",
              "  'type': 'Feature'},\n",
              " {'geometry': {'coordinates': [[[127.4921007211045, 37.04995601187854],\n",
              "     [127.50695269820937, 37.05753483878351],\n",
              "     [127.5183736840388, 37.08503753187909],\n",
              "     [127.50508537419512, 37.115382889205684],\n",
              "     [127.45481750751989, 37.132580597361105],\n",
              "     [127.43195960102275, 37.144888798316245],\n",
              "     [127.4230458143012, 37.123216212193206],\n",
              "     [127.42631296061737, 37.09684636395198],\n",
              "     [127.40130784690913, 37.09245087525459],\n",
              "     [127.36035341650685, 37.104395022706164],\n",
              "     [127.34555940652085, 37.10116608411004],\n",
              "     [127.32884755687247, 37.11659174326816],\n",
              "     [127.3127600393989, 37.10253147019345],\n",
              "     [127.29016455856019, 37.1284169582523],\n",
              "     [127.2524045686932, 37.142247323045744],\n",
              "     [127.25314613987028, 37.120146872115946],\n",
              "     [127.23808463453801, 37.11859194998404],\n",
              "     [127.21070673321714, 37.1015342900424],\n",
              "     [127.19738813790079, 37.08621655572156],\n",
              "     [127.16831604852223, 37.083742477354726],\n",
              "     [127.12516729074011, 37.08849523189945],\n",
              "     [127.12948838054707, 37.04966079815856],\n",
              "     [127.10740090841584, 37.0328875639127],\n",
              "     [127.15517998352519, 37.026613262831916],\n",
              "     [127.14747724307254, 37.0138188945719],\n",
              "     [127.15496570056612, 36.99487383420599],\n",
              "     [127.13779801966723, 36.99041291045364],\n",
              "     [127.1216062947912, 36.96626164975953],\n",
              "     [127.1464102583773, 36.96864576891614],\n",
              "     [127.20400548086619, 36.94924588348929],\n",
              "     [127.2223238977499, 36.92742980980818],\n",
              "     [127.24613652503862, 36.91453164371645],\n",
              "     [127.27227784491541, 36.910372298119825],\n",
              "     [127.2919237698698, 36.89094292918124],\n",
              "     [127.31127137227124, 36.92622202120876],\n",
              "     [127.35186324388168, 36.94969761594173],\n",
              "     [127.38065822509601, 36.94859652718182],\n",
              "     [127.40398967704995, 36.96488092382215],\n",
              "     [127.38707184117484, 36.981534293776996],\n",
              "     [127.39617030040874, 36.99507985079591],\n",
              "     [127.43189913129159, 36.99902770852865],\n",
              "     [127.4488413674345, 37.008168187910805],\n",
              "     [127.46014553759977, 37.01772149607737],\n",
              "     [127.45985706240288, 37.0407398003885],\n",
              "     [127.4921007211045, 37.04995601187854]]],\n",
              "   'type': 'Polygon'},\n",
              "  'properties': {'base_year': 2013,\n",
              "   'code': 31220,\n",
              "   'name': '안성시',\n",
              "   'name_eng': 'Anseong-si'},\n",
              "  'type': 'Feature'},\n",
              " {'geometry': {'coordinates': [[[127.44459662819855, 37.35562085049101],\n",
              "     [127.42277946655206, 37.33526375647856],\n",
              "     [127.38906532153541, 37.31608103967859],\n",
              "     [127.37829628277709, 37.317936247676194],\n",
              "     [127.34227600003884, 37.28528169366774],\n",
              "     [127.34092967480524, 37.26770614318737],\n",
              "     [127.33185727826834, 37.21877880590886],\n",
              "     [127.3504254442421, 37.20158943522061],\n",
              "     [127.38033957366586, 37.19271119046181],\n",
              "     [127.38451468391715, 37.17989930552182],\n",
              "     [127.41620898203362, 37.17029801090558],\n",
              "     [127.41445191048162, 37.152220061925426],\n",
              "     [127.43195960102275, 37.144888798316245],\n",
              "     [127.45481750751989, 37.132580597361105],\n",
              "     [127.50508537419512, 37.115382889205684],\n",
              "     [127.5183736840388, 37.08503753187909],\n",
              "     [127.50695269820937, 37.05753483878351],\n",
              "     [127.4921007211045, 37.04995601187854],\n",
              "     [127.5328452994501, 37.052947456094785],\n",
              "     [127.55489094869193, 37.04147062932325],\n",
              "     [127.56834352033556, 37.06015560613134],\n",
              "     [127.60303992687903, 37.08267817797425],\n",
              "     [127.63326599440494, 37.09343317631327],\n",
              "     [127.6399897481202, 37.13818503173906],\n",
              "     [127.63091754409567, 37.150947430524305],\n",
              "     [127.5999013564347, 37.1854997199498],\n",
              "     [127.5785248984445, 37.186311208078585],\n",
              "     [127.55830514005798, 37.17381401041668],\n",
              "     [127.52893461217018, 37.170618598276],\n",
              "     [127.51957698997381, 37.18188687027366],\n",
              "     [127.53342604855668, 37.19715010635273],\n",
              "     [127.52770097674612, 37.23765094459253],\n",
              "     [127.5395160453677, 37.24379045683148],\n",
              "     [127.53106721989582, 37.27115011578052],\n",
              "     [127.54853754663094, 37.29860192066929],\n",
              "     [127.51574229064994, 37.336561285567946],\n",
              "     [127.49167370715485, 37.339527598960764],\n",
              "     [127.47263652805968, 37.35869263849808],\n",
              "     [127.44459662819855, 37.35562085049101]]],\n",
              "   'type': 'Polygon'},\n",
              "  'properties': {'base_year': 2013,\n",
              "   'code': 31210,\n",
              "   'name': '이천시',\n",
              "   'name_eng': 'Icheon-si'},\n",
              "  'type': 'Feature'},\n",
              " {'geometry': {'coordinates': [[[126.8029965558113, 37.989251239637596],\n",
              "     [126.78238542753242, 37.980043641136376],\n",
              "     [126.76520529808869, 37.98230780004701],\n",
              "     [126.7420462951568, 37.96995265840659],\n",
              "     [126.74668441679131, 37.94913356897888],\n",
              "     [126.71646858457899, 37.93722236122983],\n",
              "     [126.69257364928472, 37.941147151072606],\n",
              "     [126.67501771549766, 37.95271495350346],\n",
              "     [126.66763541566303, 37.91838340624898],\n",
              "     [126.67945067210682, 37.89497402505224],\n",
              "     [126.67382346217423, 37.88401755835065],\n",
              "     [126.69348896006609, 37.86442957434648],\n",
              "     [126.6622706417164, 37.83606410322825],\n",
              "     [126.67603874694878, 37.82828427203144],\n",
              "     [126.66423330880171, 37.78738456951397],\n",
              "     [126.66907840308846, 37.78174793493798],\n",
              "     [126.68687028203884, 37.72287270233232],\n",
              "     [126.67862254618308, 37.697305342702336],\n",
              "     [126.69372674409394, 37.687413022894034],\n",
              "     [126.72711651649912, 37.70166318681986],\n",
              "     [126.77635483402547, 37.70188604497484],\n",
              "     [126.79766531143225, 37.730785143520876],\n",
              "     [126.81634118925638, 37.72071803262515],\n",
              "     [126.83772078982989, 37.72529130369535],\n",
              "     [126.85856020555829, 37.73179451375736],\n",
              "     [126.88536540501534, 37.717034664244366],\n",
              "     [126.90425036668735, 37.72565605361581],\n",
              "     [126.91088793086112, 37.74418199544871],\n",
              "     [126.93180653905974, 37.74575671706106],\n",
              "     [126.93838979622467, 37.771436009953916],\n",
              "     [126.9073114617216, 37.790560159793145],\n",
              "     [126.9160273881691, 37.83830532663158],\n",
              "     [126.93661135445112, 37.843479475117995],\n",
              "     [126.9484401545115, 37.86422401203834],\n",
              "     [126.94883433502994, 37.89688479787927],\n",
              "     [126.97545924731331, 37.93928140597955],\n",
              "     [127.01739022262282, 37.989561835400195],\n",
              "     [126.99425287672854, 38.000624488107924],\n",
              "     [126.97166918547234, 38.000587999007735],\n",
              "     [126.93929997962098, 37.9789601448141],\n",
              "     [126.90034044420747, 37.99438948257985],\n",
              "     [126.89755470110721, 37.9683523617657],\n",
              "     [126.8739356423477, 37.968400924665225],\n",
              "     [126.85859300440933, 37.98329485669624],\n",
              "     [126.8423229135476, 37.97819760433225],\n",
              "     [126.8388723334759, 37.96197909365746],\n",
              "     [126.80659958939793, 37.9680012097748],\n",
              "     [126.8029965558113, 37.989251239637596]]],\n",
              "   'type': 'Polygon'},\n",
              "  'properties': {'base_year': 2013,\n",
              "   'code': 31200,\n",
              "   'name': '파주시',\n",
              "   'name_eng': 'Paju-si'},\n",
              "  'type': 'Feature'},\n",
              " {'geometry': {'coordinates': [[[127.03004539569396, 37.36932312139811],\n",
              "     [127.02090967499298, 37.348741503905366],\n",
              "     [127.03554038078946, 37.341941908872045],\n",
              "     [127.04202153059128, 37.318511731862884],\n",
              "     [127.06304327683587, 37.30610813773979],\n",
              "     [127.06269400142102, 37.293755190822594],\n",
              "     [127.09199113357242, 37.295585212583866],\n",
              "     [127.10392750030913, 37.31946377620277],\n",
              "     [127.13936654068314, 37.321564168361974],\n",
              "     [127.1439713536275, 37.33349026702227],\n",
              "     [127.13845652996186, 37.336816804055495],\n",
              "     [127.11899182435063, 37.33059044022546],\n",
              "     [127.07299151640797, 37.35485426174942],\n",
              "     [127.03004539569396, 37.36932312139811]]],\n",
              "   'type': 'Polygon'},\n",
              "  'properties': {'base_year': 2013,\n",
              "   'code': 31193,\n",
              "   'name': '용인시수지구',\n",
              "   'name_eng': 'Yonginsisujigu'},\n",
              "  'type': 'Feature'},\n",
              " {'geometry': {'coordinates': [[[127.09199113357242, 37.295585212583866],\n",
              "     [127.09104881579566, 37.284308786190785],\n",
              "     [127.06718840393803, 37.26860748709257],\n",
              "     [127.08680542938673, 37.253775982641194],\n",
              "     [127.06878518378286, 37.23731339587258],\n",
              "     [127.09106338919456, 37.21351968359228],\n",
              "     [127.15371679380591, 37.215705679231036],\n",
              "     [127.15133830848096, 37.23783513168847],\n",
              "     [127.17714136480691, 37.255352775734025],\n",
              "     [127.17921513238925, 37.282153169636494],\n",
              "     [127.13936654068314, 37.321564168361974],\n",
              "     [127.10392750030913, 37.31946377620277],\n",
              "     [127.09199113357242, 37.295585212583866]]],\n",
              "   'type': 'Polygon'},\n",
              "  'properties': {'base_year': 2013,\n",
              "   'code': 31192,\n",
              "   'name': '용인시기흥구',\n",
              "   'name_eng': 'Yonginsigiheunggu'},\n",
              "  'type': 'Feature'},\n",
              " {'geometry': {'coordinates': [[[127.34092967480524, 37.26770614318737],\n",
              "     [127.32142008240551, 37.27215636613311],\n",
              "     [127.28383871402815, 37.2658807760632],\n",
              "     [127.2795205391003, 37.306809952638524],\n",
              "     [127.28543362549937, 37.3425335272208],\n",
              "     [127.26708575818817, 37.33990127392118],\n",
              "     [127.23072982952925, 37.35607967407726],\n",
              "     [127.21042746205282, 37.32805374935785],\n",
              "     [127.19373839709431, 37.34441869868583],\n",
              "     [127.1439713536275, 37.33349026702227],\n",
              "     [127.13936654068314, 37.321564168361974],\n",
              "     [127.17921513238925, 37.282153169636494],\n",
              "     [127.17714136480691, 37.255352775734025],\n",
              "     [127.15133830848096, 37.23783513168847],\n",
              "     [127.15371679380591, 37.215705679231036],\n",
              "     [127.16278322754954, 37.17771519608909],\n",
              "     [127.13469226704495, 37.165565916914176],\n",
              "     [127.12480483538663, 37.14166379699704],\n",
              "     [127.11116461643066, 37.123859739458304],\n",
              "     [127.12516729074011, 37.08849523189945],\n",
              "     [127.16831604852223, 37.083742477354726],\n",
              "     [127.19738813790079, 37.08621655572156],\n",
              "     [127.21070673321714, 37.1015342900424],\n",
              "     [127.23808463453801, 37.11859194998404],\n",
              "     [127.25314613987028, 37.120146872115946],\n",
              "     [127.2524045686932, 37.142247323045744],\n",
              "     [127.29016455856019, 37.1284169582523],\n",
              "     [127.3127600393989, 37.10253147019345],\n",
              "     [127.32884755687247, 37.11659174326816],\n",
              "     [127.34555940652085, 37.10116608411004],\n",
              "     [127.36035341650685, 37.104395022706164],\n",
              "     [127.40130784690913, 37.09245087525459],\n",
              "     [127.42631296061737, 37.09684636395198],\n",
              "     [127.4230458143012, 37.123216212193206],\n",
              "     [127.43195960102275, 37.144888798316245],\n",
              "     [127.41445191048162, 37.152220061925426],\n",
              "     [127.41620898203362, 37.17029801090558],\n",
              "     [127.38451468391715, 37.17989930552182],\n",
              "     [127.38033957366586, 37.19271119046181],\n",
              "     [127.3504254442421, 37.20158943522061],\n",
              "     [127.33185727826834, 37.21877880590886],\n",
              "     [127.34092967480524, 37.26770614318737]]],\n",
              "   'type': 'Polygon'},\n",
              "  'properties': {'base_year': 2013,\n",
              "   'code': 31191,\n",
              "   'name': '용인시처인구',\n",
              "   'name_eng': 'Yonginsicheoingu'},\n",
              "  'type': 'Feature'},\n",
              " {'geometry': {'coordinates': [[[127.16683184366129, 37.57672487388627],\n",
              "     [127.18408792330152, 37.55814280369575],\n",
              "     [127.16530984307447, 37.54221851258693],\n",
              "     [127.14672806823502, 37.51415680680291],\n",
              "     [127.1634944215765, 37.497445406097484],\n",
              "     [127.14206058413274, 37.47089819098501],\n",
              "     [127.17807401290999, 37.46939077799968],\n",
              "     [127.1831716097913, 37.47048077053623],\n",
              "     [127.21785285379218, 37.479493796173465],\n",
              "     [127.23892819551556, 37.47240158876339],\n",
              "     [127.26066872639333, 37.4867746581613],\n",
              "     [127.25539313999657, 37.50044702706516],\n",
              "     [127.28971082577908, 37.51069218442014],\n",
              "     [127.28111702399318, 37.523561821461996],\n",
              "     [127.23688890922413, 37.546307321113254],\n",
              "     [127.23635034049964, 37.55494536243556],\n",
              "     [127.20140811211739, 37.58834877432742],\n",
              "     [127.16683184366129, 37.57672487388627]]],\n",
              "   'type': 'Polygon'},\n",
              "  'properties': {'base_year': 2013,\n",
              "   'code': 31180,\n",
              "   'name': '하남시',\n",
              "   'name_eng': 'Hanam-si'},\n",
              "  'type': 'Feature'},\n",
              " {'geometry': {'coordinates': [[[127.04377994345505, 37.41281928664435],\n",
              "     [127.0154646349186, 37.411005997724835],\n",
              "     [126.98466887829045, 37.39785909018114],\n",
              "     [126.96423328330341, 37.358735102948096],\n",
              "     [126.94893535067122, 37.32100738175514],\n",
              "     [126.93252071350132, 37.30423856869929],\n",
              "     [126.93504702033805, 37.3002209928663],\n",
              "     [126.96633916587045, 37.29989574204989],\n",
              "     [126.98303616696394, 37.32376927812144],\n",
              "     [127.02090967499298, 37.348741503905366],\n",
              "     [127.03004539569396, 37.36932312139811],\n",
              "     [127.04580444799605, 37.40139072056455],\n",
              "     [127.04377994345505, 37.41281928664435]]],\n",
              "   'type': 'Polygon'},\n",
              "  'properties': {'base_year': 2013,\n",
              "   'code': 31170,\n",
              "   'name': '의왕시',\n",
              "   'name_eng': 'Uiwang-si'},\n",
              "  'type': 'Feature'},\n",
              " {'geometry': {'coordinates': [[[126.96423328330341, 37.358735102948096],\n",
              "     [126.9429122120182, 37.37630880537034],\n",
              "     [126.9163870114383, 37.37253977179312],\n",
              "     [126.89932903785872, 37.35524703438324],\n",
              "     [126.88015838809775, 37.316795632219964],\n",
              "     [126.9092771218202, 37.318694910599305],\n",
              "     [126.93252071350132, 37.30423856869929],\n",
              "     [126.94893535067122, 37.32100738175514],\n",
              "     [126.96423328330341, 37.358735102948096]]],\n",
              "   'type': 'Polygon'},\n",
              "  'properties': {'base_year': 2013,\n",
              "   'code': 31160,\n",
              "   'name': '군포시',\n",
              "   'name_eng': 'Gunpo-si'},\n",
              "  'type': 'Feature'},\n",
              " {'geometry': {'coordinates': [[[126.78024890848009, 37.469000573789124],\n",
              "     [126.78043371089171, 37.44800343708732],\n",
              "     [126.77110599967482, 37.42452961090748],\n",
              "     [126.75529287233691, 37.41984217802103],\n",
              "     [126.73861862061078, 37.39261185865545],\n",
              "     [126.7029884306089, 37.352119573644295],\n",
              "     [126.69453406156698, 37.331064777919245],\n",
              "     [126.7248752674955, 37.31058440885402],\n",
              "     [126.74059726902762, 37.32685692943894],\n",
              "     [126.76357575956314, 37.33864505297868],\n",
              "     [126.79105964941944, 37.33699094698096],\n",
              "     [126.82580289305967, 37.360321842249355],\n",
              "     [126.84283747134161, 37.360869895636554],\n",
              "     [126.86691937294266, 37.358697064350324],\n",
              "     [126.88400175928666, 37.37340263600163],\n",
              "     [126.879093453746, 37.399239167854816],\n",
              "     [126.85964157227416, 37.398615706957116],\n",
              "     [126.8484052155556, 37.40965572330444],\n",
              "     [126.8280587234361, 37.456596986921056],\n",
              "     [126.78024890848009, 37.469000573789124]]],\n",
              "   'type': 'Polygon'},\n",
              "  'properties': {'base_year': 2013,\n",
              "   'code': 31150,\n",
              "   'name': '시흥시',\n",
              "   'name_eng': 'Siheung-si'},\n",
              "  'type': 'Feature'},\n",
              " {'geometry': {'coordinates': [[[127.10575417734016, 37.1407283236673],\n",
              "     [127.09596808287752, 37.1566082978686],\n",
              "     [127.07609473440765, 37.16092553278145],\n",
              "     [127.06660498380589, 37.19589230774365],\n",
              "     [127.02929563655235, 37.19787494412135],\n",
              "     [127.00186863458882, 37.1747343711991],\n",
              "     [127.03019615684671, 37.16027870494751],\n",
              "     [127.03746950511537, 37.13336771678679],\n",
              "     [127.04304406837494, 37.126222304219084],\n",
              "     [127.09127893510457, 37.12882078023335],\n",
              "     [127.10575417734016, 37.1407283236673]]],\n",
              "   'type': 'Polygon'},\n",
              "  'properties': {'base_year': 2013,\n",
              "   'code': 31140,\n",
              "   'name': '오산시',\n",
              "   'name_eng': 'Osan-si'},\n",
              "  'type': 'Feature'},\n",
              " {'geometry': {'coordinates': [[[127.2686525155809, 37.777676803810074],\n",
              "     [127.26186907661463, 37.765678541736996],\n",
              "     [127.22719439323131, 37.750666435161854],\n",
              "     [127.21510645674604, 37.75873586709106],\n",
              "     [127.18575971970597, 37.76186443408089],\n",
              "     [127.17524551122212, 37.751938183429424],\n",
              "     [127.14882403466048, 37.75206030443599],\n",
              "     [127.13060037316637, 37.74504865443316],\n",
              "     [127.12788299600184, 37.72469254066713],\n",
              "     [127.0838752703195, 37.69359534202034],\n",
              "     [127.09706391309695, 37.686383719372294],\n",
              "     [127.09440766298717, 37.64713490473045],\n",
              "     [127.11326795855199, 37.639622905315925],\n",
              "     [127.1523782881412, 37.63663639743511],\n",
              "     [127.14554907981939, 37.61784095180692],\n",
              "     [127.16683184366129, 37.57672487388627],\n",
              "     [127.20140811211739, 37.58834877432742],\n",
              "     [127.23635034049964, 37.55494536243556],\n",
              "     [127.23688890922413, 37.546307321113254],\n",
              "     [127.28111702399318, 37.523561821461996],\n",
              "     [127.28971082577908, 37.51069218442014],\n",
              "     [127.30923294884336, 37.5135706079458],\n",
              "     [127.31002843450217, 37.53523876142835],\n",
              "     [127.34360057873045, 37.588997440929354],\n",
              "     [127.3542931884407, 37.6250006376975],\n",
              "     [127.3732642199939, 37.6453987554284],\n",
              "     [127.38133544278186, 37.67180837890239],\n",
              "     [127.35557114419971, 37.701041217064585],\n",
              "     [127.35759057077398, 37.720909295881434],\n",
              "     [127.34501289752937, 37.7266690692075],\n",
              "     [127.32070791913966, 37.76445271893134],\n",
              "     [127.2686525155809, 37.777676803810074]]],\n",
              "   'type': 'Polygon'},\n",
              "  'properties': {'base_year': 2013,\n",
              "   'code': 31130,\n",
              "   'name': '남양주시',\n",
              "   'name_eng': 'Namyangju-si'},\n",
              "  'type': 'Feature'},\n",
              " {'geometry': {'coordinates': [[[127.11326795855199, 37.639622905315925],\n",
              "     [127.10782277688129, 37.61804244241069],\n",
              "     [127.1201246020114, 37.60178457598188],\n",
              "     [127.10304174249214, 37.57076342290955],\n",
              "     [127.11519584981606, 37.557533180704915],\n",
              "     [127.16683184366129, 37.57672487388627],\n",
              "     [127.14554907981939, 37.61784095180692],\n",
              "     [127.1523782881412, 37.63663639743511],\n",
              "     [127.11326795855199, 37.639622905315925]]],\n",
              "   'type': 'Polygon'},\n",
              "  'properties': {'base_year': 2013,\n",
              "   'code': 31120,\n",
              "   'name': '구리시',\n",
              "   'name_eng': 'Guri-si'},\n",
              "  'type': 'Feature'},\n",
              " {'geometry': {'coordinates': [[[126.99072073195462, 37.455326143310025],\n",
              "     [126.96520439085143, 37.438249784006246],\n",
              "     [126.96342494806345, 37.42289846046814],\n",
              "     [126.98466887829045, 37.39785909018114],\n",
              "     [127.0154646349186, 37.411005997724835],\n",
              "     [127.04377994345505, 37.41281928664435],\n",
              "     [127.04957232987142, 37.42805836845694],\n",
              "     [127.03881782597922, 37.45382039851715],\n",
              "     [126.99072073195462, 37.455326143310025]]],\n",
              "   'type': 'Polygon'},\n",
              "  'properties': {'base_year': 2013,\n",
              "   'code': 31110,\n",
              "   'name': '과천시',\n",
              "   'name_eng': 'Gwacheon-si'},\n",
              "  'type': 'Feature'},\n",
              " {'geometry': {'coordinates': [[[126.67862254618308, 37.697305342702336],\n",
              "     [126.6733552623039, 37.67370888254625],\n",
              "     [126.74300328815525, 37.63613822400079],\n",
              "     [126.74294383613385, 37.6511173927548],\n",
              "     [126.77194259250199, 37.665292527690774],\n",
              "     [126.78018904849759, 37.678448868614744],\n",
              "     [126.77635483402547, 37.70188604497484],\n",
              "     [126.72711651649912, 37.70166318681986],\n",
              "     [126.69372674409394, 37.687413022894034],\n",
              "     [126.67862254618308, 37.697305342702336]]],\n",
              "   'type': 'Polygon'},\n",
              "  'properties': {'base_year': 2013,\n",
              "   'code': 31104,\n",
              "   'name': '고양시일산서구',\n",
              "   'name_eng': 'Goyangsiilsanseogu'},\n",
              "  'type': 'Feature'},\n",
              " {'geometry': {'coordinates': [[[126.77635483402547, 37.70188604497484],\n",
              "     [126.78018904849759, 37.678448868614744],\n",
              "     [126.77194259250199, 37.665292527690774],\n",
              "     [126.74294383613385, 37.6511173927548],\n",
              "     [126.74300328815525, 37.63613822400079],\n",
              "     [126.77608157956732, 37.61940269153496],\n",
              "     [126.79710848915354, 37.6372950352041],\n",
              "     [126.83512162789108, 37.680020660541864],\n",
              "     [126.85703023929057, 37.68935027811791],\n",
              "     [126.83772078982989, 37.72529130369535],\n",
              "     [126.81634118925638, 37.72071803262515],\n",
              "     [126.79766531143225, 37.730785143520876],\n",
              "     [126.77635483402547, 37.70188604497484]]],\n",
              "   'type': 'Polygon'},\n",
              "  'properties': {'base_year': 2013,\n",
              "   'code': 31103,\n",
              "   'name': '고양시일산동구',\n",
              "   'name_eng': 'Goyangsiilsandonggu'},\n",
              "  'type': 'Feature'},\n",
              " {'geometry': {'coordinates': [[[126.83772078982989, 37.72529130369535],\n",
              "     [126.85703023929057, 37.68935027811791],\n",
              "     [126.83512162789108, 37.680020660541864],\n",
              "     [126.79710848915354, 37.6372950352041],\n",
              "     [126.77608157956732, 37.61940269153496],\n",
              "     [126.80702115023597, 37.60123001013228],\n",
              "     [126.82251438477105, 37.5880430810082],\n",
              "     [126.85984199399667, 37.571847855292745],\n",
              "     [126.88433284773288, 37.588143322880526],\n",
              "     [126.90396681003595, 37.59227403419942],\n",
              "     [126.90303066177668, 37.609977911401344],\n",
              "     [126.91455481429648, 37.64150050996935],\n",
              "     [126.956473797387, 37.652480737339445],\n",
              "     [126.9738864128702, 37.62949634786888],\n",
              "     [126.977175406416, 37.62859715400388],\n",
              "     [126.98672705513869, 37.63377641288196],\n",
              "     [126.9817452676551, 37.65209769387776],\n",
              "     [126.99383903424, 37.676681761199085],\n",
              "     [126.96734461801938, 37.68969305565268],\n",
              "     [126.94689093217877, 37.68234333447953],\n",
              "     [126.94191948970435, 37.66797237250146],\n",
              "     [126.92290257733573, 37.66907383915535],\n",
              "     [126.92470886562188, 37.72916078041937],\n",
              "     [126.93180653905974, 37.74575671706106],\n",
              "     [126.91088793086112, 37.74418199544871],\n",
              "     [126.90425036668735, 37.72565605361581],\n",
              "     [126.88536540501534, 37.717034664244366],\n",
              "     [126.85856020555829, 37.73179451375736],\n",
              "     [126.83772078982989, 37.72529130369535]]],\n",
              "   'type': 'Polygon'},\n",
              "  'properties': {'base_year': 2013,\n",
              "   'code': 31101,\n",
              "   'name': '고양시덕양구',\n",
              "   'name_eng': 'Goyangsideogyanggu'},\n",
              "  'type': 'Feature'},\n",
              " {'geometry': {'coordinates': [[[[126.61008573444688, 37.30616739414492],\n",
              "      [126.58105759521007, 37.2931329422869],\n",
              "      [126.5698046807071, 37.27852472009729],\n",
              "      [126.55067246352256, 37.27712401368454],\n",
              "      [126.56507568780702, 37.25336773744705],\n",
              "      [126.56255063831487, 37.239416423702146],\n",
              "      [126.54375626154638, 37.22229105408503],\n",
              "      [126.546463851695, 37.20350714902179],\n",
              "      [126.5705815554123, 37.2014655738836],\n",
              "      [126.58721308393721, 37.21775435498544],\n",
              "      [126.64889918632674, 37.20793069915704],\n",
              "      [126.65235349062866, 37.22264393643188],\n",
              "      [126.62465751982253, 37.233811135502776],\n",
              "      [126.61085741500113, 37.260209230779175],\n",
              "      [126.59892279766748, 37.25959717398652],\n",
              "      [126.57228115154807, 37.277020701082655],\n",
              "      [126.61008573444688, 37.30616739414492]]],\n",
              "    [[[126.84283747134161, 37.360869895636554],\n",
              "      [126.82580289305967, 37.360321842249355],\n",
              "      [126.79105964941944, 37.33699094698096],\n",
              "      [126.76357575956314, 37.33864505297868],\n",
              "      [126.74059726902762, 37.32685692943894],\n",
              "      [126.7248752674955, 37.31058440885402],\n",
              "      [126.72765029203323, 37.29949771063766],\n",
              "      [126.77466340206773, 37.286577751987956],\n",
              "      [126.8184033400877, 37.295179006004226],\n",
              "      [126.84357462735869, 37.30283998653071],\n",
              "      [126.84283747134161, 37.360869895636554]]]],\n",
              "   'type': 'MultiPolygon'},\n",
              "  'properties': {'base_year': 2013,\n",
              "   'code': 31092,\n",
              "   'name': '안산시단원구',\n",
              "   'name_eng': 'Ansansidanwongu'},\n",
              "  'type': 'Feature'},\n",
              " {'geometry': {'coordinates': [[[126.84283747134161, 37.360869895636554],\n",
              "     [126.84357462735869, 37.30283998653071],\n",
              "     [126.8184033400877, 37.295179006004226],\n",
              "     [126.84641021832398, 37.26433293772644],\n",
              "     [126.9159468889861, 37.28864104563552],\n",
              "     [126.92946761531998, 37.275967848758626],\n",
              "     [126.93504702033805, 37.3002209928663],\n",
              "     [126.93252071350132, 37.30423856869929],\n",
              "     [126.9092771218202, 37.318694910599305],\n",
              "     [126.88015838809775, 37.316795632219964],\n",
              "     [126.89932903785872, 37.35524703438324],\n",
              "     [126.88400175928666, 37.37340263600163],\n",
              "     [126.86691937294266, 37.358697064350324],\n",
              "     [126.84283747134161, 37.360869895636554]]],\n",
              "   'type': 'Polygon'},\n",
              "  'properties': {'base_year': 2013,\n",
              "   'code': 31091,\n",
              "   'name': '안산시상록구',\n",
              "   'name_eng': 'Ansansisangnokgu'},\n",
              "  'type': 'Feature'},\n",
              " {'geometry': {'coordinates': [[[127.01215278654801, 37.924817815480985],\n",
              "     [127.01281974367026, 37.90171539201257],\n",
              "     [127.04837406784853, 37.891090496591005],\n",
              "     [127.06250430862417, 37.86658619508279],\n",
              "     [127.09509254572018, 37.86843288571378],\n",
              "     [127.1113003891929, 37.85708813371199],\n",
              "     [127.13067707221735, 37.87115064756639],\n",
              "     [127.14908802054492, 37.87326470277757],\n",
              "     [127.15777209998105, 37.89291633342494],\n",
              "     [127.1480788721724, 37.909108279220675],\n",
              "     [127.1240834119586, 37.913726790414486],\n",
              "     [127.09382742820131, 37.968691278173],\n",
              "     [127.05589127856165, 37.978154747876275],\n",
              "     [127.02968085272437, 37.9404013715077],\n",
              "     [127.01215278654801, 37.924817815480985]]],\n",
              "   'type': 'Polygon'},\n",
              "  'properties': {'base_year': 2013,\n",
              "   'code': 31080,\n",
              "   'name': '동두천시',\n",
              "   'name_eng': 'Dongducheon-si'},\n",
              "  'type': 'Feature'},\n",
              " {'geometry': {'coordinates': [[[127.10575417734016, 37.1407283236673],\n",
              "     [127.09127893510457, 37.12882078023335],\n",
              "     [127.04304406837494, 37.126222304219084],\n",
              "     [127.03746950511537, 37.13336771678679],\n",
              "     [127.00593012741142, 37.124105707924144],\n",
              "     [127.00102521866197, 37.08973596266607],\n",
              "     [126.98672297136514, 37.06879655242586],\n",
              "     [126.95290081243859, 37.06545814826726],\n",
              "     [126.94247588185057, 37.057958386286046],\n",
              "     [126.90291323437098, 37.06724127811693],\n",
              "     [126.8846211892453, 37.05795114472113],\n",
              "     [126.85940022959993, 37.022131594683266],\n",
              "     [126.84014623559027, 37.01079503386266],\n",
              "     [126.79899352215931, 37.0092005991418],\n",
              "     [126.79429045878248, 37.002375311346476],\n",
              "     [126.82743835677269, 36.984262588052744],\n",
              "     [126.84836832892641, 36.9565513163949],\n",
              "     [126.86448993272457, 36.94597945683675],\n",
              "     [126.86630821363053, 36.92982214702114],\n",
              "     [126.88907059918661, 36.933221090048846],\n",
              "     [126.90658712032098, 36.92311369494381],\n",
              "     [126.91083667953751, 36.90208156398722],\n",
              "     [126.99750165503437, 36.93264776697853],\n",
              "     [127.03383288513524, 36.925469265383704],\n",
              "     [127.07603768486679, 36.935523531907464],\n",
              "     [127.11553676419611, 36.969747255651924],\n",
              "     [127.1216062947912, 36.96626164975953],\n",
              "     [127.13779801966723, 36.99041291045364],\n",
              "     [127.15496570056612, 36.99487383420599],\n",
              "     [127.14747724307254, 37.0138188945719],\n",
              "     [127.15517998352519, 37.026613262831916],\n",
              "     [127.10740090841584, 37.0328875639127],\n",
              "     [127.12948838054707, 37.04966079815856],\n",
              "     [127.12516729074011, 37.08849523189945],\n",
              "     [127.11116461643066, 37.123859739458304],\n",
              "     [127.12480483538663, 37.14166379699704],\n",
              "     [127.10575417734016, 37.1407283236673]]],\n",
              "   'type': 'Polygon'},\n",
              "  'properties': {'base_year': 2013,\n",
              "   'code': 31070,\n",
              "   'name': '평택시',\n",
              "   'name_eng': 'Pyeongtaek-si'},\n",
              "  'type': 'Feature'},\n",
              " {'geometry': {'coordinates': [[[126.83549485076196, 37.474098236975095],\n",
              "     [126.8280587234361, 37.456596986921056],\n",
              "     [126.8484052155556, 37.40965572330444],\n",
              "     [126.85964157227416, 37.398615706957116],\n",
              "     [126.879093453746, 37.399239167854816],\n",
              "     [126.9025831711697, 37.434549366349124],\n",
              "     [126.87683271502428, 37.482576591607305],\n",
              "     [126.84762676054953, 37.47146723936323],\n",
              "     [126.83549485076196, 37.474098236975095]]],\n",
              "   'type': 'Polygon'},\n",
              "  'properties': {'base_year': 2013,\n",
              "   'code': 31060,\n",
              "   'name': '광명시',\n",
              "   'name_eng': 'Gwangmyeong-si'},\n",
              "  'type': 'Feature'},\n",
              " {'geometry': {'coordinates': [[[126.76979180579352, 37.55139183008809],\n",
              "     [126.76241572251033, 37.52129679978721],\n",
              "     [126.76236682035514, 37.51516388559986],\n",
              "     [126.79948253277924, 37.50297839620806],\n",
              "     [126.82504736331406, 37.50302612640443],\n",
              "     [126.82688081517314, 37.50548972232896],\n",
              "     [126.8242331426722, 37.53788078753248],\n",
              "     [126.77324417717703, 37.5459123450554],\n",
              "     [126.76979180579352, 37.55139183008809]]],\n",
              "   'type': 'Polygon'},\n",
              "  'properties': {'base_year': 2013,\n",
              "   'code': 31053,\n",
              "   'name': '부천시오정구',\n",
              "   'name_eng': 'Bucheonsiojeonggu'},\n",
              "  'type': 'Feature'},\n",
              " {'geometry': {'coordinates': [[[126.82264796791348, 37.4878476492147],\n",
              "     [126.80525536231318, 37.479599517462205],\n",
              "     [126.74449661749888, 37.48568861244349],\n",
              "     [126.76982226270037, 37.468955688388995],\n",
              "     [126.78024890848009, 37.469000573789124],\n",
              "     [126.8280587234361, 37.456596986921056],\n",
              "     [126.83549485076196, 37.474098236975095],\n",
              "     [126.82264796791348, 37.4878476492147]]],\n",
              "   'type': 'Polygon'},\n",
              "  'properties': {'base_year': 2013,\n",
              "   'code': 31052,\n",
              "   'name': '부천시소사구',\n",
              "   'name_eng': 'Bucheonsisosagu'},\n",
              "  'type': 'Feature'},\n",
              " {'geometry': {'coordinates': [[[126.76236682035514, 37.51516388559986],\n",
              "     [126.74717949233765, 37.511283448979185],\n",
              "     [126.74449661749888, 37.48568861244349],\n",
              "     [126.80525536231318, 37.479599517462205],\n",
              "     [126.82264796791348, 37.4878476492147],\n",
              "     [126.82504736331406, 37.50302612640443],\n",
              "     [126.79948253277924, 37.50297839620806],\n",
              "     [126.76236682035514, 37.51516388559986]]],\n",
              "   'type': 'Polygon'},\n",
              "  'properties': {'base_year': 2013,\n",
              "   'code': 31051,\n",
              "   'name': '부천시원미구',\n",
              "   'name_eng': 'Bucheonsiwonmigu'},\n",
              "  'type': 'Feature'},\n",
              " {'geometry': {'coordinates': [[[126.95000001010182, 37.43613451165719],\n",
              "     [126.949527627869, 37.419039331795105],\n",
              "     [126.92899112782491, 37.41260755123917],\n",
              "     [126.9429122120182, 37.37630880537034],\n",
              "     [126.96423328330341, 37.358735102948096],\n",
              "     [126.98466887829045, 37.39785909018114],\n",
              "     [126.96342494806345, 37.42289846046814],\n",
              "     [126.96520439085143, 37.438249784006246],\n",
              "     [126.95000001010182, 37.43613451165719]]],\n",
              "   'type': 'Polygon'},\n",
              "  'properties': {'base_year': 2013,\n",
              "   'code': 31042,\n",
              "   'name': '안양시동안구',\n",
              "   'name_eng': 'Anyangsidongangu'},\n",
              "  'type': 'Feature'},\n",
              " {'geometry': {'coordinates': [[[126.93084408056525, 37.447382928333994],\n",
              "     [126.9025831711697, 37.434549366349124],\n",
              "     [126.879093453746, 37.399239167854816],\n",
              "     [126.88400175928666, 37.37340263600163],\n",
              "     [126.89932903785872, 37.35524703438324],\n",
              "     [126.9163870114383, 37.37253977179312],\n",
              "     [126.9429122120182, 37.37630880537034],\n",
              "     [126.92899112782491, 37.41260755123917],\n",
              "     [126.949527627869, 37.419039331795105],\n",
              "     [126.95000001010182, 37.43613451165719],\n",
              "     [126.93084408056525, 37.447382928333994]]],\n",
              "   'type': 'Polygon'},\n",
              "  'properties': {'base_year': 2013,\n",
              "   'code': 31041,\n",
              "   'name': '안양시만안구',\n",
              "   'name_eng': 'Anyangsimanangu'},\n",
              "  'type': 'Feature'},\n",
              " {'geometry': {'coordinates': [[[127.10645686970089, 37.776897580693586],\n",
              "     [127.05297245855259, 37.75816755994106],\n",
              "     [127.02081299427202, 37.76581418787214],\n",
              "     [127.00437834122181, 37.75999833868866],\n",
              "     [127.00430024727942, 37.73792676357612],\n",
              "     [127.01477890845196, 37.722832167524864],\n",
              "     [127.01795099203432, 37.69824412775662],\n",
              "     [127.05288479710485, 37.68423857084347],\n",
              "     [127.0838752703195, 37.69359534202034],\n",
              "     [127.12788299600184, 37.72469254066713],\n",
              "     [127.13060037316637, 37.74504865443316],\n",
              "     [127.14882403466048, 37.75206030443599],\n",
              "     [127.14177735342194, 37.76129795333661],\n",
              "     [127.10645686970089, 37.776897580693586]]],\n",
              "   'type': 'Polygon'},\n",
              "  'properties': {'base_year': 2013,\n",
              "   'code': 31030,\n",
              "   'name': '의정부시',\n",
              "   'name_eng': 'Uijeongbu-si'},\n",
              "  'type': 'Feature'},\n",
              " {'geometry': {'coordinates': [[[127.17637586604776, 37.40261052326208],\n",
              "     [127.13644513246508, 37.41439912020601],\n",
              "     [127.12007310029206, 37.41239460373164],\n",
              "     [127.08636547533024, 37.39425612519828],\n",
              "     [127.04580444799605, 37.40139072056455],\n",
              "     [127.03004539569396, 37.36932312139811],\n",
              "     [127.07299151640797, 37.35485426174942],\n",
              "     [127.11899182435063, 37.33059044022546],\n",
              "     [127.13845652996186, 37.336816804055495],\n",
              "     [127.13605700285002, 37.35565614606753],\n",
              "     [127.15506886795262, 37.36076173403712],\n",
              "     [127.17637586604776, 37.40261052326208]]],\n",
              "   'type': 'Polygon'},\n",
              "  'properties': {'base_year': 2013,\n",
              "   'code': 31023,\n",
              "   'name': '성남시분당구',\n",
              "   'name_eng': 'Seongnamsibundanggu'},\n",
              "  'type': 'Feature'},\n",
              " {'geometry': {'coordinates': [[[127.17807401290999, 37.46939077799968],\n",
              "     [127.1582459546436, 37.44164184148139],\n",
              "     [127.12050056435223, 37.429512812695165],\n",
              "     [127.12007310029206, 37.41239460373164],\n",
              "     [127.13644513246508, 37.41439912020601],\n",
              "     [127.17637586604776, 37.40261052326208],\n",
              "     [127.19594474070001, 37.421269309284035],\n",
              "     [127.19808034941583, 37.441066604883545],\n",
              "     [127.1831716097913, 37.47048077053623],\n",
              "     [127.17807401290999, 37.46939077799968]]],\n",
              "   'type': 'Polygon'},\n",
              "  'properties': {'base_year': 2013,\n",
              "   'code': 31022,\n",
              "   'name': '성남시중원구',\n",
              "   'name_eng': 'Seongnamsijungwongu'},\n",
              "  'type': 'Feature'},\n",
              " {'geometry': {'coordinates': [[[127.17807401290999, 37.46939077799968],\n",
              "     [127.14206058413274, 37.47089819098501],\n",
              "     [127.12440571080893, 37.46240445587048],\n",
              "     [127.09842759318751, 37.45862253857461],\n",
              "     [127.09046928565951, 37.44296826114185],\n",
              "     [127.06778107605433, 37.426197424057314],\n",
              "     [127.04957232987142, 37.42805836845694],\n",
              "     [127.04377994345505, 37.41281928664435],\n",
              "     [127.04580444799605, 37.40139072056455],\n",
              "     [127.08636547533024, 37.39425612519828],\n",
              "     [127.12007310029206, 37.41239460373164],\n",
              "     [127.12050056435223, 37.429512812695165],\n",
              "     [127.1582459546436, 37.44164184148139],\n",
              "     [127.17807401290999, 37.46939077799968]]],\n",
              "   'type': 'Polygon'},\n",
              "  'properties': {'base_year': 2013,\n",
              "   'code': 31021,\n",
              "   'name': '성남시수정구',\n",
              "   'name_eng': 'Seongnamsisujeonggu'},\n",
              "  'type': 'Feature'},\n",
              " {'geometry': {'coordinates': [[[127.09199113357242, 37.295585212583866],\n",
              "     [127.06269400142102, 37.293755190822594],\n",
              "     [127.06304327683587, 37.30610813773979],\n",
              "     [127.04202153059128, 37.318511731862884],\n",
              "     [127.03603479622558, 37.29037288813064],\n",
              "     [127.04615738146016, 37.271876342625866],\n",
              "     [127.03877682368464, 37.253688200306506],\n",
              "     [127.04178611512381, 37.24066886027782],\n",
              "     [127.06878518378286, 37.23731339587258],\n",
              "     [127.08680542938673, 37.253775982641194],\n",
              "     [127.06718840393803, 37.26860748709257],\n",
              "     [127.09104881579566, 37.284308786190785],\n",
              "     [127.09199113357242, 37.295585212583866]]],\n",
              "   'type': 'Polygon'},\n",
              "  'properties': {'base_year': 2013,\n",
              "   'code': 31014,\n",
              "   'name': '수원시영통구',\n",
              "   'name_eng': 'Suwonsiyeongtonggu'},\n",
              "  'type': 'Feature'},\n",
              " {'geometry': {'coordinates': [[[127.03603479622558, 37.29037288813064],\n",
              "     [127.01130838681644, 37.28269167363659],\n",
              "     [126.98086459483812, 37.283743689221225],\n",
              "     [127.03877682368464, 37.253688200306506],\n",
              "     [127.04615738146016, 37.271876342625866],\n",
              "     [127.03603479622558, 37.29037288813064]]],\n",
              "   'type': 'Polygon'},\n",
              "  'properties': {'base_year': 2013,\n",
              "   'code': 31013,\n",
              "   'name': '수원시팔달구',\n",
              "   'name_eng': 'Suwonsipaldalgu'},\n",
              "  'type': 'Feature'},\n",
              " {'geometry': {'coordinates': [[[126.96633916587045, 37.29989574204989],\n",
              "     [126.93504702033805, 37.3002209928663],\n",
              "     [126.92946761531998, 37.275967848758626],\n",
              "     [126.93110125729105, 37.260824951129344],\n",
              "     [126.95229769733274, 37.2524826245201],\n",
              "     [126.97491964707861, 37.22588531228192],\n",
              "     [127.02475029106094, 37.22207898080851],\n",
              "     [127.04178611512381, 37.24066886027782],\n",
              "     [127.03877682368464, 37.253688200306506],\n",
              "     [126.98086459483812, 37.283743689221225],\n",
              "     [126.96633916587045, 37.29989574204989]]],\n",
              "   'type': 'Polygon'},\n",
              "  'properties': {'base_year': 2013,\n",
              "   'code': 31012,\n",
              "   'name': '수원시권선구',\n",
              "   'name_eng': 'Suwonsigwonseongu'},\n",
              "  'type': 'Feature'},\n",
              " {'geometry': {'coordinates': [[[127.02090967499298, 37.348741503905366],\n",
              "     [126.98303616696394, 37.32376927812144],\n",
              "     [126.96633916587045, 37.29989574204989],\n",
              "     [126.98086459483812, 37.283743689221225],\n",
              "     [127.01130838681644, 37.28269167363659],\n",
              "     [127.03603479622558, 37.29037288813064],\n",
              "     [127.04202153059128, 37.318511731862884],\n",
              "     [127.03554038078946, 37.341941908872045],\n",
              "     [127.02090967499298, 37.348741503905366]]],\n",
              "   'type': 'Polygon'},\n",
              "  'properties': {'base_year': 2013,\n",
              "   'code': 31011,\n",
              "   'name': '수원시장안구',\n",
              "   'name_eng': 'Suwonsijangangu'},\n",
              "  'type': 'Feature'}]"
            ]
          },
          "metadata": {
            "tags": []
          },
          "execution_count": 83
        }
      ]
    },
    {
      "cell_type": "code",
      "metadata": {
        "id": "CG8RhpgO29hh",
        "colab_type": "code",
        "colab": {
          "base_uri": "https://localhost:8080/",
          "height": 649
        },
        "outputId": "91c5f7ab-1df1-45b0-e5dc-a35b50182705"
      },
      "source": [
        "g_map= folium.Map(\n",
        "    location = [37.5502, 126.982], #종로의 위도/경도\n",
        "    tiles = \"Stamen Terrain\",\n",
        "    zoom_start = 9\n",
        ")\n",
        "\n",
        "g_map"
      ],
      "execution_count": null,
      "outputs": [
        {
          "output_type": "execute_result",
          "data": {
            "text/html": [
              "<div style=\"width:100%;\"><div style=\"position:relative;width:100%;height:0;padding-bottom:60%;\"><span style=\"color:#565656\">Make this Notebook Trusted to load map: File -> Trust Notebook</span><iframe src=\"about:blank\" style=\"position:absolute;width:100%;height:100%;left:0;top:0;border:none !important;\" data-html=%3C%21DOCTYPE%20html%3E%0A%3Chead%3E%20%20%20%20%0A%20%20%20%20%3Cmeta%20http-equiv%3D%22content-type%22%20content%3D%22text/html%3B%20charset%3DUTF-8%22%20/%3E%0A%20%20%20%20%3Cscript%3EL_PREFER_CANVAS%3Dfalse%3B%20L_NO_TOUCH%3Dfalse%3B%20L_DISABLE_3D%3Dfalse%3B%3C/script%3E%0A%20%20%20%20%3Cscript%20src%3D%22https%3A//cdn.jsdelivr.net/npm/leaflet%401.4.0/dist/leaflet.js%22%3E%3C/script%3E%0A%20%20%20%20%3Cscript%20src%3D%22https%3A//code.jquery.com/jquery-1.12.4.min.js%22%3E%3C/script%3E%0A%20%20%20%20%3Cscript%20src%3D%22https%3A//maxcdn.bootstrapcdn.com/bootstrap/3.2.0/js/bootstrap.min.js%22%3E%3C/script%3E%0A%20%20%20%20%3Cscript%20src%3D%22https%3A//cdnjs.cloudflare.com/ajax/libs/Leaflet.awesome-markers/2.0.2/leaflet.awesome-markers.js%22%3E%3C/script%3E%0A%20%20%20%20%3Clink%20rel%3D%22stylesheet%22%20href%3D%22https%3A//cdn.jsdelivr.net/npm/leaflet%401.4.0/dist/leaflet.css%22/%3E%0A%20%20%20%20%3Clink%20rel%3D%22stylesheet%22%20href%3D%22https%3A//maxcdn.bootstrapcdn.com/bootstrap/3.2.0/css/bootstrap.min.css%22/%3E%0A%20%20%20%20%3Clink%20rel%3D%22stylesheet%22%20href%3D%22https%3A//maxcdn.bootstrapcdn.com/bootstrap/3.2.0/css/bootstrap-theme.min.css%22/%3E%0A%20%20%20%20%3Clink%20rel%3D%22stylesheet%22%20href%3D%22https%3A//maxcdn.bootstrapcdn.com/font-awesome/4.6.3/css/font-awesome.min.css%22/%3E%0A%20%20%20%20%3Clink%20rel%3D%22stylesheet%22%20href%3D%22https%3A//cdnjs.cloudflare.com/ajax/libs/Leaflet.awesome-markers/2.0.2/leaflet.awesome-markers.css%22/%3E%0A%20%20%20%20%3Clink%20rel%3D%22stylesheet%22%20href%3D%22https%3A//rawcdn.githack.com/python-visualization/folium/master/folium/templates/leaflet.awesome.rotate.css%22/%3E%0A%20%20%20%20%3Cstyle%3Ehtml%2C%20body%20%7Bwidth%3A%20100%25%3Bheight%3A%20100%25%3Bmargin%3A%200%3Bpadding%3A%200%3B%7D%3C/style%3E%0A%20%20%20%20%3Cstyle%3E%23map%20%7Bposition%3Aabsolute%3Btop%3A0%3Bbottom%3A0%3Bright%3A0%3Bleft%3A0%3B%7D%3C/style%3E%0A%20%20%20%20%0A%20%20%20%20%3Cmeta%20name%3D%22viewport%22%20content%3D%22width%3Ddevice-width%2C%0A%20%20%20%20%20%20%20%20initial-scale%3D1.0%2C%20maximum-scale%3D1.0%2C%20user-scalable%3Dno%22%20/%3E%0A%20%20%20%20%3Cstyle%3E%23map_cb0b0bb654b44b73aca1efdf9282dbea%20%7B%0A%20%20%20%20%20%20%20%20position%3A%20relative%3B%0A%20%20%20%20%20%20%20%20width%3A%20100.0%25%3B%0A%20%20%20%20%20%20%20%20height%3A%20100.0%25%3B%0A%20%20%20%20%20%20%20%20left%3A%200.0%25%3B%0A%20%20%20%20%20%20%20%20top%3A%200.0%25%3B%0A%20%20%20%20%20%20%20%20%7D%0A%20%20%20%20%3C/style%3E%0A%3C/head%3E%0A%3Cbody%3E%20%20%20%20%0A%20%20%20%20%0A%20%20%20%20%3Cdiv%20class%3D%22folium-map%22%20id%3D%22map_cb0b0bb654b44b73aca1efdf9282dbea%22%20%3E%3C/div%3E%0A%3C/body%3E%0A%3Cscript%3E%20%20%20%20%0A%20%20%20%20%0A%20%20%20%20%0A%20%20%20%20%20%20%20%20var%20bounds%20%3D%20null%3B%0A%20%20%20%20%0A%0A%20%20%20%20var%20map_cb0b0bb654b44b73aca1efdf9282dbea%20%3D%20L.map%28%0A%20%20%20%20%20%20%20%20%27map_cb0b0bb654b44b73aca1efdf9282dbea%27%2C%20%7B%0A%20%20%20%20%20%20%20%20center%3A%20%5B37.5502%2C%20126.982%5D%2C%0A%20%20%20%20%20%20%20%20zoom%3A%209%2C%0A%20%20%20%20%20%20%20%20maxBounds%3A%20bounds%2C%0A%20%20%20%20%20%20%20%20layers%3A%20%5B%5D%2C%0A%20%20%20%20%20%20%20%20worldCopyJump%3A%20false%2C%0A%20%20%20%20%20%20%20%20crs%3A%20L.CRS.EPSG3857%2C%0A%20%20%20%20%20%20%20%20zoomControl%3A%20true%2C%0A%20%20%20%20%20%20%20%20%7D%29%3B%0A%0A%0A%20%20%20%20%0A%20%20%20%20var%20tile_layer_c67b422045da46db87b6110c0f239371%20%3D%20L.tileLayer%28%0A%20%20%20%20%20%20%20%20%27https%3A//stamen-tiles-%7Bs%7D.a.ssl.fastly.net/terrain/%7Bz%7D/%7Bx%7D/%7By%7D.jpg%27%2C%0A%20%20%20%20%20%20%20%20%7B%0A%20%20%20%20%20%20%20%20%22attribution%22%3A%20null%2C%0A%20%20%20%20%20%20%20%20%22detectRetina%22%3A%20false%2C%0A%20%20%20%20%20%20%20%20%22maxNativeZoom%22%3A%2018%2C%0A%20%20%20%20%20%20%20%20%22maxZoom%22%3A%2018%2C%0A%20%20%20%20%20%20%20%20%22minZoom%22%3A%200%2C%0A%20%20%20%20%20%20%20%20%22noWrap%22%3A%20false%2C%0A%20%20%20%20%20%20%20%20%22opacity%22%3A%201%2C%0A%20%20%20%20%20%20%20%20%22subdomains%22%3A%20%22abc%22%2C%0A%20%20%20%20%20%20%20%20%22tms%22%3A%20false%0A%7D%29.addTo%28map_cb0b0bb654b44b73aca1efdf9282dbea%29%3B%0A%3C/script%3E onload=\"this.contentDocument.open();this.contentDocument.write(    decodeURIComponent(this.getAttribute('data-html')));this.contentDocument.close();\" allowfullscreen webkitallowfullscreen mozallowfullscreen></iframe></div></div>"
            ],
            "text/plain": [
              "<folium.folium.Map at 0x7f611c54b390>"
            ]
          },
          "metadata": {
            "tags": []
          },
          "execution_count": 84
        }
      ]
    },
    {
      "cell_type": "code",
      "metadata": {
        "id": "J7U29aeKVdMq",
        "colab_type": "code",
        "colab": {
          "base_uri": "https://localhost:8080/",
          "height": 649
        },
        "outputId": "c9115eca-34ce-43d1-def0-f8d744da9a00"
      },
      "source": [
        "folium.Choropleth(\n",
        "    data = df, #데이터 프레임\n",
        "    columns = [\"구분\", 2009], #지도에 출력하고 싶은 칸의 이름, 값\n",
        "    fill_color = \"YlOrRd\", #색: 노랑 > 주황 > 빨강\n",
        "    threshold_scale = [10000, 100000, 300000, 500000, 700000],\n",
        "    geo_data = geo1,\n",
        "    key_on = \"feature.properties.name\"\n",
        ").add_to(g_map)\n",
        "\n",
        "g_map"
      ],
      "execution_count": null,
      "outputs": [
        {
          "output_type": "execute_result",
          "data": {
            "text/html": [
              "<div style=\"width:100%;\"><div style=\"position:relative;width:100%;height:0;padding-bottom:60%;\"><span style=\"color:#565656\">Make this Notebook Trusted to load map: File -> Trust Notebook</span><iframe src=\"about:blank\" style=\"position:absolute;width:100%;height:100%;left:0;top:0;border:none !important;\" data-html=%3C%21DOCTYPE%20html%3E%0A%3Chead%3E%20%20%20%20%0A%20%20%20%20%3Cmeta%20http-equiv%3D%22content-type%22%20content%3D%22text/html%3B%20charset%3DUTF-8%22%20/%3E%0A%20%20%20%20%3Cscript%3EL_PREFER_CANVAS%3Dfalse%3B%20L_NO_TOUCH%3Dfalse%3B%20L_DISABLE_3D%3Dfalse%3B%3C/script%3E%0A%20%20%20%20%3Cscript%20src%3D%22https%3A//cdn.jsdelivr.net/npm/leaflet%401.4.0/dist/leaflet.js%22%3E%3C/script%3E%0A%20%20%20%20%3Cscript%20src%3D%22https%3A//code.jquery.com/jquery-1.12.4.min.js%22%3E%3C/script%3E%0A%20%20%20%20%3Cscript%20src%3D%22https%3A//maxcdn.bootstrapcdn.com/bootstrap/3.2.0/js/bootstrap.min.js%22%3E%3C/script%3E%0A%20%20%20%20%3Cscript%20src%3D%22https%3A//cdnjs.cloudflare.com/ajax/libs/Leaflet.awesome-markers/2.0.2/leaflet.awesome-markers.js%22%3E%3C/script%3E%0A%20%20%20%20%3Clink%20rel%3D%22stylesheet%22%20href%3D%22https%3A//cdn.jsdelivr.net/npm/leaflet%401.4.0/dist/leaflet.css%22/%3E%0A%20%20%20%20%3Clink%20rel%3D%22stylesheet%22%20href%3D%22https%3A//maxcdn.bootstrapcdn.com/bootstrap/3.2.0/css/bootstrap.min.css%22/%3E%0A%20%20%20%20%3Clink%20rel%3D%22stylesheet%22%20href%3D%22https%3A//maxcdn.bootstrapcdn.com/bootstrap/3.2.0/css/bootstrap-theme.min.css%22/%3E%0A%20%20%20%20%3Clink%20rel%3D%22stylesheet%22%20href%3D%22https%3A//maxcdn.bootstrapcdn.com/font-awesome/4.6.3/css/font-awesome.min.css%22/%3E%0A%20%20%20%20%3Clink%20rel%3D%22stylesheet%22%20href%3D%22https%3A//cdnjs.cloudflare.com/ajax/libs/Leaflet.awesome-markers/2.0.2/leaflet.awesome-markers.css%22/%3E%0A%20%20%20%20%3Clink%20rel%3D%22stylesheet%22%20href%3D%22https%3A//rawcdn.githack.com/python-visualization/folium/master/folium/templates/leaflet.awesome.rotate.css%22/%3E%0A%20%20%20%20%3Cstyle%3Ehtml%2C%20body%20%7Bwidth%3A%20100%25%3Bheight%3A%20100%25%3Bmargin%3A%200%3Bpadding%3A%200%3B%7D%3C/style%3E%0A%20%20%20%20%3Cstyle%3E%23map%20%7Bposition%3Aabsolute%3Btop%3A0%3Bbottom%3A0%3Bright%3A0%3Bleft%3A0%3B%7D%3C/style%3E%0A%20%20%20%20%0A%20%20%20%20%3Cmeta%20name%3D%22viewport%22%20content%3D%22width%3Ddevice-width%2C%0A%20%20%20%20%20%20%20%20initial-scale%3D1.0%2C%20maximum-scale%3D1.0%2C%20user-scalable%3Dno%22%20/%3E%0A%20%20%20%20%3Cstyle%3E%23map_cb0b0bb654b44b73aca1efdf9282dbea%20%7B%0A%20%20%20%20%20%20%20%20position%3A%20relative%3B%0A%20%20%20%20%20%20%20%20width%3A%20100.0%25%3B%0A%20%20%20%20%20%20%20%20height%3A%20100.0%25%3B%0A%20%20%20%20%20%20%20%20left%3A%200.0%25%3B%0A%20%20%20%20%20%20%20%20top%3A%200.0%25%3B%0A%20%20%20%20%20%20%20%20%7D%0A%20%20%20%20%3C/style%3E%0A%20%20%20%20%3Cscript%20src%3D%22https%3A//cdnjs.cloudflare.com/ajax/libs/d3/3.5.5/d3.min.js%22%3E%3C/script%3E%0A%3C/head%3E%0A%3Cbody%3E%20%20%20%20%0A%20%20%20%20%0A%20%20%20%20%3Cdiv%20class%3D%22folium-map%22%20id%3D%22map_cb0b0bb654b44b73aca1efdf9282dbea%22%20%3E%3C/div%3E%0A%3C/body%3E%0A%3Cscript%3E%20%20%20%20%0A%20%20%20%20%0A%20%20%20%20%0A%20%20%20%20%20%20%20%20var%20bounds%20%3D%20null%3B%0A%20%20%20%20%0A%0A%20%20%20%20var%20map_cb0b0bb654b44b73aca1efdf9282dbea%20%3D%20L.map%28%0A%20%20%20%20%20%20%20%20%27map_cb0b0bb654b44b73aca1efdf9282dbea%27%2C%20%7B%0A%20%20%20%20%20%20%20%20center%3A%20%5B37.5502%2C%20126.982%5D%2C%0A%20%20%20%20%20%20%20%20zoom%3A%209%2C%0A%20%20%20%20%20%20%20%20maxBounds%3A%20bounds%2C%0A%20%20%20%20%20%20%20%20layers%3A%20%5B%5D%2C%0A%20%20%20%20%20%20%20%20worldCopyJump%3A%20false%2C%0A%20%20%20%20%20%20%20%20crs%3A%20L.CRS.EPSG3857%2C%0A%20%20%20%20%20%20%20%20zoomControl%3A%20true%2C%0A%20%20%20%20%20%20%20%20%7D%29%3B%0A%0A%0A%20%20%20%20%0A%20%20%20%20var%20tile_layer_c67b422045da46db87b6110c0f239371%20%3D%20L.tileLayer%28%0A%20%20%20%20%20%20%20%20%27https%3A//stamen-tiles-%7Bs%7D.a.ssl.fastly.net/terrain/%7Bz%7D/%7Bx%7D/%7By%7D.jpg%27%2C%0A%20%20%20%20%20%20%20%20%7B%0A%20%20%20%20%20%20%20%20%22attribution%22%3A%20null%2C%0A%20%20%20%20%20%20%20%20%22detectRetina%22%3A%20false%2C%0A%20%20%20%20%20%20%20%20%22maxNativeZoom%22%3A%2018%2C%0A%20%20%20%20%20%20%20%20%22maxZoom%22%3A%2018%2C%0A%20%20%20%20%20%20%20%20%22minZoom%22%3A%200%2C%0A%20%20%20%20%20%20%20%20%22noWrap%22%3A%20false%2C%0A%20%20%20%20%20%20%20%20%22opacity%22%3A%201%2C%0A%20%20%20%20%20%20%20%20%22subdomains%22%3A%20%22abc%22%2C%0A%20%20%20%20%20%20%20%20%22tms%22%3A%20false%0A%7D%29.addTo%28map_cb0b0bb654b44b73aca1efdf9282dbea%29%3B%0A%20%20%20%20%0A%20%20%20%20%20%20%20%20%20%20%20%20var%20choropleth_b488141bcd834abdad1c99c0bb49cccf%20%3D%20L.featureGroup%28%0A%20%20%20%20%20%20%20%20%20%20%20%20%20%20%20%20%29.addTo%28map_cb0b0bb654b44b73aca1efdf9282dbea%29%3B%0A%20%20%20%20%20%20%20%20%0A%20%20%20%20%0A%20%20%20%20%20%20%20%20var%20geo_json_7b908abce13e41ac996e428b077e8ad2%20%3D%20L.geoJson%28%0A%20%20%20%20%20%20%20%20%20%20%20%20%7B%22features%22%3A%20%5B%7B%22geometry%22%3A%20%7B%22coordinates%22%3A%20%5B%5B%5B127.56113535909492%2C%2037.6256560539258%5D%2C%20%5B127.57290963929243%2C%2037.61087369350498%5D%2C%20%5B127.56366973908277%2C%2037.5842624297699%5D%2C%20%5B127.52226606559191%2C%2037.5828628697518%5D%2C%20%5B127.50048767007603%2C%2037.569036373178626%5D%2C%20%5B127.47687473909174%2C%2037.574448241913856%5D%2C%20%5B127.47565866803647%2C%2037.60512112601634%5D%2C%20%5B127.44699730711024%2C%2037.64497584741164%5D%2C%20%5B127.4272349102434%2C%2037.66284420898682%5D%2C%20%5B127.40156700708162%2C%2037.64806970784708%5D%2C%20%5B127.3732642199939%2C%2037.6453987554284%5D%2C%20%5B127.3542931884407%2C%2037.6250006376975%5D%2C%20%5B127.34360057873045%2C%2037.588997440929354%5D%2C%20%5B127.31002843450217%2C%2037.53523876142835%5D%2C%20%5B127.30923294884336%2C%2037.5135706079458%5D%2C%20%5B127.32809611134748%2C%2037.53133849534739%5D%2C%20%5B127.3663244453597%2C%2037.52716845880826%5D%2C%20%5B127.38286320755414%2C%2037.50147517965334%5D%2C%20%5B127.39046783039153%2C%2037.47413422098595%5D%2C%20%5B127.37490698722792%2C%2037.455072688441305%5D%2C%20%5B127.39174400683049%2C%2037.4256483411369%5D%2C%20%5B127.40276739880215%2C%2037.41856433413549%5D%2C%20%5B127.4250053080982%2C%2037.43669952587185%5D%2C%20%5B127.4817900304572%2C%2037.42084413829662%5D%2C%20%5B127.51015267026155%2C%2037.43699555518635%5D%2C%20%5B127.52501209957308%2C%2037.43192043868044%5D%2C%20%5B127.53910572062166%2C%2037.40849283821634%5D%2C%20%5B127.60528700481163%2C%2037.416969769508924%5D%2C%20%5B127.63754040237271%2C%2037.41065607591271%5D%2C%20%5B127.6491838950862%2C%2037.402042953108506%5D%2C%20%5B127.66976823475012%2C%2037.40884431255766%5D%2C%20%5B127.71071536074867%2C%2037.40736583858037%5D%2C%20%5B127.70347417929173%2C%2037.371054026073324%5D%2C%20%5B127.76165381178268%2C%2037.36421926003675%5D%2C%20%5B127.77952402154285%2C%2037.368441789396854%5D%2C%20%5B127.80397287036232%2C%2037.432516049235865%5D%2C%20%5B127.79833492163134%2C%2037.460500237870505%5D%2C%20%5B127.77664798308412%2C%2037.48883635932707%5D%2C%20%5B127.77611527652192%2C%2037.50328615763377%5D%2C%20%5B127.80855972024105%2C%2037.53220450961153%5D%2C%20%5B127.8445769305193%2C%2037.53621789699497%5D%2C%20%5B127.85162286006927%2C%2037.55037340096326%5D%2C%20%5B127.81507964099751%2C%2037.5618389022189%5D%2C%20%5B127.79492564827493%2C%2037.58252978378627%5D%2C%20%5B127.76838776707211%2C%2037.580178216134605%5D%2C%20%5B127.75614914198108%2C%2037.589477424718204%5D%2C%20%5B127.7102810556826%2C%2037.58360128682645%5D%2C%20%5B127.69869383868397%2C%2037.59757031454811%5D%2C%20%5B127.65553070991882%2C%2037.61954565135447%5D%2C%20%5B127.62972032693943%2C%2037.63983122973888%5D%2C%20%5B127.60450569091653%2C%2037.648548552427314%5D%2C%20%5B127.58166701442097%2C%2037.63033393389168%5D%2C%20%5B127.56113535909492%2C%2037.6256560539258%5D%5D%5D%2C%20%22type%22%3A%20%22Polygon%22%7D%2C%20%22properties%22%3A%20%7B%22base_year%22%3A%202013%2C%20%22code%22%3A%2031380%2C%20%22highlight%22%3A%20%7B%7D%2C%20%22name%22%3A%20%22%5Cuc591%5Cud3c9%5Cuad70%22%2C%20%22name_eng%22%3A%20%22Yangpyeong-gun%22%2C%20%22style%22%3A%20%7B%22color%22%3A%20%22black%22%2C%20%22fillColor%22%3A%20%22%23ffffb2%22%2C%20%22fillOpacity%22%3A%200.6%2C%20%22opacity%22%3A%201%2C%20%22weight%22%3A%201%7D%7D%2C%20%22type%22%3A%20%22Feature%22%7D%2C%20%7B%22geometry%22%3A%20%7B%22coordinates%22%3A%20%5B%5B%5B127.44780328408541%2C%2038.048238751068475%5D%2C%20%5B127.42042182072485%2C%2038.01200319871128%5D%2C%20%5B127.41516664705571%2C%2037.995046525366845%5D%2C%20%5B127.39194666896421%2C%2037.97992649728499%5D%2C%20%5B127.37828420492166%2C%2037.958773972665476%5D%2C%20%5B127.3864253692493%2C%2037.940789082655876%5D%2C%20%5B127.35796486335995%2C%2037.918888706648104%5D%2C%20%5B127.33112989323685%2C%2037.9192732427266%5D%2C%20%5B127.32585628843694%2C%2037.8708665787365%5D%2C%20%5B127.31427495278925%2C%2037.86338279582678%5D%2C%20%5B127.29023239060183%2C%2037.867156223189305%5D%2C%20%5B127.27621937205707%2C%2037.823925522993584%5D%2C%20%5B127.28134774958465%2C%2037.81350552459983%5D%2C%20%5B127.2686525155809%2C%2037.777676803810074%5D%2C%20%5B127.32070791913966%2C%2037.76445271893134%5D%2C%20%5B127.34501289752937%2C%2037.7266690692075%5D%2C%20%5B127.35759057077398%2C%2037.720909295881434%5D%2C%20%5B127.35557114419971%2C%2037.701041217064585%5D%2C%20%5B127.38133544278186%2C%2037.67180837890239%5D%2C%20%5B127.3732642199939%2C%2037.6453987554284%5D%2C%20%5B127.40156700708162%2C%2037.64806970784708%5D%2C%20%5B127.4272349102434%2C%2037.66284420898682%5D%2C%20%5B127.44699730711024%2C%2037.64497584741164%5D%2C%20%5B127.47565866803647%2C%2037.60512112601634%5D%2C%20%5B127.47687473909174%2C%2037.574448241913856%5D%2C%20%5B127.50048767007603%2C%2037.569036373178626%5D%2C%20%5B127.52226606559191%2C%2037.5828628697518%5D%2C%20%5B127.56366973908277%2C%2037.5842624297699%5D%2C%20%5B127.57290963929243%2C%2037.61087369350498%5D%2C%20%5B127.56113535909492%2C%2037.6256560539258%5D%2C%20%5B127.53917031861263%2C%2037.64021056192394%5D%2C%20%5B127.5549605217701%2C%2037.658757758392326%5D%2C%20%5B127.55230133599949%2C%2037.6826768602848%5D%2C%20%5B127.5620152520609%2C%2037.72573118147031%5D%2C%20%5B127.54295591487076%2C%2037.71630823574417%5D%2C%20%5B127.50979807707056%2C%2037.72791553253582%5D%2C%20%5B127.5466892772679%2C%2037.757547899640265%5D%2C%20%5B127.52374487270039%2C%2037.788564076302706%5D%2C%20%5B127.53790811514408%2C%2037.806297142430786%5D%2C%20%5B127.5278056459557%2C%2037.8205934650677%5D%2C%20%5B127.53467866263196%2C%2037.8391134107185%5D%2C%20%5B127.5645808687282%2C%2037.852710085354005%5D%2C%20%5B127.586513542654%2C%2037.87296654527047%5D%2C%20%5B127.60326048844294%2C%2037.87185797528634%5D%2C%20%5B127.61988365348992%2C%2037.90376621474279%5D%2C%20%5B127.61592274592837%2C%2037.93662873141094%5D%2C%20%5B127.60515472290533%2C%2037.95233960186072%5D%2C%20%5B127.54648191805605%2C%2037.96536690082484%5D%2C%20%5B127.54189684816376%2C%2037.99843118565868%5D%2C%20%5B127.50356426725331%2C%2037.99680815824825%5D%2C%20%5B127.47430810833019%2C%2038.00331531710267%5D%2C%20%5B127.46013793737187%2C%2038.01348603532302%5D%2C%20%5B127.44780328408541%2C%2038.048238751068475%5D%5D%5D%2C%20%22type%22%3A%20%22Polygon%22%7D%2C%20%22properties%22%3A%20%7B%22base_year%22%3A%202013%2C%20%22code%22%3A%2031370%2C%20%22highlight%22%3A%20%7B%7D%2C%20%22name%22%3A%20%22%5Cuac00%5Cud3c9%5Cuad70%22%2C%20%22name_eng%22%3A%20%22Gapyeong-gun%22%2C%20%22style%22%3A%20%7B%22color%22%3A%20%22black%22%2C%20%22fillColor%22%3A%20%22%23ffffb2%22%2C%20%22fillOpacity%22%3A%200.6%2C%20%22opacity%22%3A%201%2C%20%22weight%22%3A%201%7D%7D%2C%20%22type%22%3A%20%22Feature%22%7D%2C%20%7B%22geometry%22%3A%20%7B%22coordinates%22%3A%20%5B%5B%5B127.1114029794941%2C%2038.289324698353205%5D%2C%20%5B127.07249919657463%2C%2038.26801218962005%5D%2C%20%5B127.02801007414642%2C%2038.254549706273764%5D%2C%20%5B126.99286312502117%2C%2038.234131621017674%5D%2C%20%5B126.97740008434542%2C%2038.23136042526893%5D%2C%20%5B126.98606173199121%2C%2038.209401424377816%5D%2C%20%5B126.96711105593987%2C%2038.19506065700263%5D%2C%20%5B126.95459011862387%2C%2038.20786522832632%5D%2C%20%5B126.92781480981668%2C%2038.200854654628984%5D%2C%20%5B126.8974333001951%2C%2038.20180521598681%5D%2C%20%5B126.87506682979435%2C%2038.220357253330604%5D%2C%20%5B126.8278790877819%2C%2038.195486974451406%5D%2C%20%5B126.77187664076929%2C%2038.15202258772112%5D%2C%20%5B126.75014823067355%2C%2038.125072772241225%5D%2C%20%5B126.78709379586621%2C%2038.09626689678258%5D%2C%20%5B126.79823368085893%2C%2038.079396242822355%5D%2C%20%5B126.85234589355446%2C%2038.09221072381945%5D%2C%20%5B126.86904468579002%2C%2038.077582436479354%5D%2C%20%5B126.89538167413222%2C%2038.071648142471204%5D%2C%20%5B126.89492205681401%2C%2038.04859999954147%5D%2C%20%5B126.87463524911628%2C%2038.01581963256826%5D%2C%20%5B126.85568764143953%2C%2038.02873639803942%5D%2C%20%5B126.83392985136591%2C%2038.03100700061125%5D%2C%20%5B126.8252320653152%2C%2038.00913397816309%5D%2C%20%5B126.83164256576254%2C%2037.99035429677792%5D%2C%20%5B126.8029965558113%2C%2037.989251239637596%5D%2C%20%5B126.80659958939793%2C%2037.9680012097748%5D%2C%20%5B126.8388723334759%2C%2037.96197909365746%5D%2C%20%5B126.8423229135476%2C%2037.97819760433225%5D%2C%20%5B126.85859300440933%2C%2037.98329485669624%5D%2C%20%5B126.8739356423477%2C%2037.968400924665225%5D%2C%20%5B126.89755470110721%2C%2037.9683523617657%5D%2C%20%5B126.90034044420747%2C%2037.99438948257985%5D%2C%20%5B126.93929997962098%2C%2037.9789601448141%5D%2C%20%5B126.97166918547234%2C%2038.000587999007735%5D%2C%20%5B126.99425287672854%2C%2038.000624488107924%5D%2C%20%5B127.01739022262282%2C%2037.989561835400195%5D%2C%20%5B126.97545924731331%2C%2037.93928140597955%5D%2C%20%5B127.01215278654801%2C%2037.924817815480985%5D%2C%20%5B127.02968085272437%2C%2037.9404013715077%5D%2C%20%5B127.05589127856165%2C%2037.978154747876275%5D%2C%20%5B127.09382742820131%2C%2037.968691278173%5D%2C%20%5B127.09290535753887%2C%2037.98459431234087%5D%2C%20%5B127.12231622589134%2C%2037.976745791642564%5D%2C%20%5B127.14982270353039%2C%2037.99413348520078%5D%2C%20%5B127.1474423860908%2C%2038.01290337564081%5D%2C%20%5B127.11440133420174%2C%2038.04821685684721%5D%2C%20%5B127.14326850224882%2C%2038.070002354405226%5D%2C%20%5B127.15086136346409%2C%2038.05496212563221%5D%2C%20%5B127.1888339288906%2C%2038.06204029940796%5D%2C%20%5B127.19437916578538%2C%2038.0797568774465%5D%2C%20%5B127.17503254383571%2C%2038.13882932478672%5D%2C%20%5B127.18150182398624%2C%2038.181927191525546%5D%2C%20%5B127.16857086007771%2C%2038.19681089627724%5D%2C%20%5B127.16461628401596%2C%2038.22949766461027%5D%2C%20%5B127.15063615800273%2C%2038.239791315402336%5D%2C%20%5B127.13243747984255%2C%2038.22986476152822%5D%2C%20%5B127.11224663908298%2C%2038.23944312080941%5D%2C%20%5B127.11610682730382%2C%2038.26255766722931%5D%2C%20%5B127.1114029794941%2C%2038.289324698353205%5D%5D%5D%2C%20%22type%22%3A%20%22Polygon%22%7D%2C%20%22properties%22%3A%20%7B%22base_year%22%3A%202013%2C%20%22code%22%3A%2031350%2C%20%22highlight%22%3A%20%7B%7D%2C%20%22name%22%3A%20%22%5Cuc5f0%5Cucc9c%5Cuad70%22%2C%20%22name_eng%22%3A%20%22Yeoncheon-gun%22%2C%20%22style%22%3A%20%7B%22color%22%3A%20%22black%22%2C%20%22fillColor%22%3A%20%22%23ffffb2%22%2C%20%22fillOpacity%22%3A%200.6%2C%20%22opacity%22%3A%201%2C%20%22weight%22%3A%201%7D%7D%2C%20%22type%22%3A%20%22Feature%22%7D%2C%20%7B%22geometry%22%3A%20%7B%22coordinates%22%3A%20%5B%5B%5B127.40276739880215%2C%2037.41856433413549%5D%2C%20%5B127.41955611640327%2C%2037.386674887879835%5D%2C%20%5B127.44514756834636%2C%2037.3842770721951%5D%2C%20%5B127.44459662819855%2C%2037.35562085049101%5D%2C%20%5B127.47263652805968%2C%2037.35869263849808%5D%2C%20%5B127.49167370715485%2C%2037.339527598960764%5D%2C%20%5B127.51574229064994%2C%2037.336561285567946%5D%2C%20%5B127.54853754663094%2C%2037.29860192066929%5D%2C%20%5B127.53106721989582%2C%2037.27115011578052%5D%2C%20%5B127.5395160453677%2C%2037.24379045683148%5D%2C%20%5B127.52770097674612%2C%2037.23765094459253%5D%2C%20%5B127.53342604855668%2C%2037.19715010635273%5D%2C%20%5B127.51957698997381%2C%2037.18188687027366%5D%2C%20%5B127.52893461217018%2C%2037.170618598276%5D%2C%20%5B127.55830514005798%2C%2037.17381401041668%5D%2C%20%5B127.5785248984445%2C%2037.186311208078585%5D%2C%20%5B127.5999013564347%2C%2037.1854997199498%5D%2C%20%5B127.63091754409567%2C%2037.150947430524305%5D%2C%20%5B127.66246837559255%2C%2037.13682554779843%5D%2C%20%5B127.69759568854894%2C%2037.137598675963744%5D%2C%20%5B127.6981539994774%2C%2037.14931076846793%5D%2C%20%5B127.73893911466041%2C%2037.20715818139463%5D%2C%20%5B127.75008528183503%2C%2037.21383642183904%5D%2C%20%5B127.75102511570132%2C%2037.24464129242011%5D%2C%20%5B127.76047537750615%2C%2037.25518935399549%5D%2C%20%5B127.75697503302167%2C%2037.29496921027118%5D%2C%20%5B127.77073902372764%2C%2037.30499906774147%5D%2C%20%5B127.76193527300671%2C%2037.32724708852886%5D%2C%20%5B127.76165381178268%2C%2037.36421926003675%5D%2C%20%5B127.70347417929173%2C%2037.371054026073324%5D%2C%20%5B127.71071536074867%2C%2037.40736583858037%5D%2C%20%5B127.66976823475012%2C%2037.40884431255766%5D%2C%20%5B127.6491838950862%2C%2037.402042953108506%5D%2C%20%5B127.63754040237271%2C%2037.41065607591271%5D%2C%20%5B127.60528700481163%2C%2037.416969769508924%5D%2C%20%5B127.53910572062166%2C%2037.40849283821634%5D%2C%20%5B127.52501209957308%2C%2037.43192043868044%5D%2C%20%5B127.51015267026155%2C%2037.43699555518635%5D%2C%20%5B127.4817900304572%2C%2037.42084413829662%5D%2C%20%5B127.4250053080982%2C%2037.43669952587185%5D%2C%20%5B127.40276739880215%2C%2037.41856433413549%5D%5D%5D%2C%20%22type%22%3A%20%22Polygon%22%7D%2C%20%22properties%22%3A%20%7B%22base_year%22%3A%202013%2C%20%22code%22%3A%2031280%2C%20%22highlight%22%3A%20%7B%7D%2C%20%22name%22%3A%20%22%5Cuc5ec%5Cuc8fc%5Cuc2dc%22%2C%20%22name_eng%22%3A%20%22Yeoju-si%22%2C%20%22style%22%3A%20%7B%22color%22%3A%20%22black%22%2C%20%22fillColor%22%3A%20%22%23fecc5c%22%2C%20%22fillOpacity%22%3A%200.6%2C%20%22opacity%22%3A%201%2C%20%22weight%22%3A%201%7D%7D%2C%20%22type%22%3A%20%22Feature%22%7D%2C%20%7B%22geometry%22%3A%20%7B%22coordinates%22%3A%20%5B%5B%5B127.18150182398624%2C%2038.181927191525546%5D%2C%20%5B127.17503254383571%2C%2038.13882932478672%5D%2C%20%5B127.19437916578538%2C%2038.0797568774465%5D%2C%20%5B127.1888339288906%2C%2038.06204029940796%5D%2C%20%5B127.15086136346409%2C%2038.05496212563221%5D%2C%20%5B127.14326850224882%2C%2038.070002354405226%5D%2C%20%5B127.11440133420174%2C%2038.04821685684721%5D%2C%20%5B127.1474423860908%2C%2038.01290337564081%5D%2C%20%5B127.14982270353039%2C%2037.99413348520078%5D%2C%20%5B127.12231622589134%2C%2037.976745791642564%5D%2C%20%5B127.09290535753887%2C%2037.98459431234087%5D%2C%20%5B127.09382742820131%2C%2037.968691278173%5D%2C%20%5B127.1240834119586%2C%2037.913726790414486%5D%2C%20%5B127.1480788721724%2C%2037.909108279220675%5D%2C%20%5B127.15777209998105%2C%2037.89291633342494%5D%2C%20%5B127.14908802054492%2C%2037.87326470277757%5D%2C%20%5B127.13067707221735%2C%2037.87115064756639%5D%2C%20%5B127.1113003891929%2C%2037.85708813371199%5D%2C%20%5B127.12400943178396%2C%2037.82538075264934%5D%2C%20%5B127.12412178020936%2C%2037.80931541475853%5D%2C%20%5B127.10645686970089%2C%2037.776897580693586%5D%2C%20%5B127.14177735342194%2C%2037.76129795333661%5D%2C%20%5B127.14882403466048%2C%2037.75206030443599%5D%2C%20%5B127.17524551122212%2C%2037.751938183429424%5D%2C%20%5B127.18575971970597%2C%2037.76186443408089%5D%2C%20%5B127.21510645674604%2C%2037.75873586709106%5D%2C%20%5B127.22719439323131%2C%2037.750666435161854%5D%2C%20%5B127.26186907661463%2C%2037.765678541736996%5D%2C%20%5B127.2686525155809%2C%2037.777676803810074%5D%2C%20%5B127.28134774958465%2C%2037.81350552459983%5D%2C%20%5B127.27621937205707%2C%2037.823925522993584%5D%2C%20%5B127.29023239060183%2C%2037.867156223189305%5D%2C%20%5B127.31427495278925%2C%2037.86338279582678%5D%2C%20%5B127.32585628843694%2C%2037.8708665787365%5D%2C%20%5B127.33112989323685%2C%2037.9192732427266%5D%2C%20%5B127.35796486335995%2C%2037.918888706648104%5D%2C%20%5B127.3864253692493%2C%2037.940789082655876%5D%2C%20%5B127.37828420492166%2C%2037.958773972665476%5D%2C%20%5B127.39194666896421%2C%2037.97992649728499%5D%2C%20%5B127.41516664705571%2C%2037.995046525366845%5D%2C%20%5B127.42042182072485%2C%2038.01200319871128%5D%2C%20%5B127.44780328408541%2C%2038.048238751068475%5D%2C%20%5B127.44645416125843%2C%2038.09506926769056%5D%2C%20%5B127.43271157644212%2C%2038.11254491261849%5D%2C%20%5B127.38575924845978%2C%2038.111650021865444%5D%2C%20%5B127.32332897924549%2C%2038.09248746131129%5D%2C%20%5B127.31342794935864%2C%2038.113239178580145%5D%2C%20%5B127.28533797240796%2C%2038.11374536112377%5D%2C%20%5B127.27790641954418%2C%2038.13449032094295%5D%2C%20%5B127.28937067741944%2C%2038.1495974983685%5D%2C%20%5B127.29146727692374%2C%2038.17417076323154%5D%2C%20%5B127.27319981021783%2C%2038.1790866530056%5D%2C%20%5B127.25802935713429%2C%2038.16048880005979%5D%2C%20%5B127.22539552047925%2C%2038.144128217872485%5D%2C%20%5B127.19211744512407%2C%2038.157963139766544%5D%2C%20%5B127.18150182398624%2C%2038.181927191525546%5D%5D%5D%2C%20%22type%22%3A%20%22Polygon%22%7D%2C%20%22properties%22%3A%20%7B%22base_year%22%3A%202013%2C%20%22code%22%3A%2031270%2C%20%22highlight%22%3A%20%7B%7D%2C%20%22name%22%3A%20%22%5Cud3ec%5Cucc9c%5Cuc2dc%22%2C%20%22name_eng%22%3A%20%22Pocheonsi%22%2C%20%22style%22%3A%20%7B%22color%22%3A%20%22black%22%2C%20%22fillColor%22%3A%20%22%23fecc5c%22%2C%20%22fillOpacity%22%3A%200.6%2C%20%22opacity%22%3A%201%2C%20%22weight%22%3A%201%7D%7D%2C%20%22type%22%3A%20%22Feature%22%7D%2C%20%7B%22geometry%22%3A%20%7B%22coordinates%22%3A%20%5B%5B%5B126.97545924731331%2C%2037.93928140597955%5D%2C%20%5B126.94883433502994%2C%2037.89688479787927%5D%2C%20%5B126.9484401545115%2C%2037.86422401203834%5D%2C%20%5B126.93661135445112%2C%2037.843479475117995%5D%2C%20%5B126.9160273881691%2C%2037.83830532663158%5D%2C%20%5B126.9073114617216%2C%2037.790560159793145%5D%2C%20%5B126.93838979622467%2C%2037.771436009953916%5D%2C%20%5B126.93180653905974%2C%2037.74575671706106%5D%2C%20%5B126.92470886562188%2C%2037.72916078041937%5D%2C%20%5B126.92290257733573%2C%2037.66907383915535%5D%2C%20%5B126.94191948970435%2C%2037.66797237250146%5D%2C%20%5B126.94689093217877%2C%2037.68234333447953%5D%2C%20%5B126.96734461801938%2C%2037.68969305565268%5D%2C%20%5B126.99383903424%2C%2037.676681761199085%5D%2C%20%5B127.01039666042071%2C%2037.681894589603594%5D%2C%20%5B127.01795099203432%2C%2037.69824412775662%5D%2C%20%5B127.01477890845196%2C%2037.722832167524864%5D%2C%20%5B127.00430024727942%2C%2037.73792676357612%5D%2C%20%5B127.00437834122181%2C%2037.75999833868866%5D%2C%20%5B127.02081299427202%2C%2037.76581418787214%5D%2C%20%5B127.05297245855259%2C%2037.75816755994106%5D%2C%20%5B127.10645686970089%2C%2037.776897580693586%5D%2C%20%5B127.12412178020936%2C%2037.80931541475853%5D%2C%20%5B127.12400943178396%2C%2037.82538075264934%5D%2C%20%5B127.1113003891929%2C%2037.85708813371199%5D%2C%20%5B127.09509254572018%2C%2037.86843288571378%5D%2C%20%5B127.06250430862417%2C%2037.86658619508279%5D%2C%20%5B127.04837406784853%2C%2037.891090496591005%5D%2C%20%5B127.01281974367026%2C%2037.90171539201257%5D%2C%20%5B127.01215278654801%2C%2037.924817815480985%5D%2C%20%5B126.97545924731331%2C%2037.93928140597955%5D%5D%5D%2C%20%22type%22%3A%20%22Polygon%22%7D%2C%20%22properties%22%3A%20%7B%22base_year%22%3A%202013%2C%20%22code%22%3A%2031260%2C%20%22highlight%22%3A%20%7B%7D%2C%20%22name%22%3A%20%22%5Cuc591%5Cuc8fc%5Cuc2dc%22%2C%20%22name_eng%22%3A%20%22Yangjusi%22%2C%20%22style%22%3A%20%7B%22color%22%3A%20%22black%22%2C%20%22fillColor%22%3A%20%22%23fecc5c%22%2C%20%22fillOpacity%22%3A%200.6%2C%20%22opacity%22%3A%201%2C%20%22weight%22%3A%201%7D%7D%2C%20%22type%22%3A%20%22Feature%22%7D%2C%20%7B%22geometry%22%3A%20%7B%22coordinates%22%3A%20%5B%5B%5B127.30923294884336%2C%2037.5135706079458%5D%2C%20%5B127.28971082577908%2C%2037.51069218442014%5D%2C%20%5B127.25539313999657%2C%2037.50044702706516%5D%2C%20%5B127.26066872639333%2C%2037.4867746581613%5D%2C%20%5B127.23892819551556%2C%2037.47240158876339%5D%2C%20%5B127.21785285379218%2C%2037.479493796173465%5D%2C%20%5B127.1831716097913%2C%2037.47048077053623%5D%2C%20%5B127.19808034941583%2C%2037.441066604883545%5D%2C%20%5B127.19594474070001%2C%2037.421269309284035%5D%2C%20%5B127.17637586604776%2C%2037.40261052326208%5D%2C%20%5B127.15506886795262%2C%2037.36076173403712%5D%2C%20%5B127.13605700285002%2C%2037.35565614606753%5D%2C%20%5B127.13845652996186%2C%2037.336816804055495%5D%2C%20%5B127.1439713536275%2C%2037.33349026702227%5D%2C%20%5B127.19373839709431%2C%2037.34441869868583%5D%2C%20%5B127.21042746205282%2C%2037.32805374935785%5D%2C%20%5B127.23072982952925%2C%2037.35607967407726%5D%2C%20%5B127.26708575818817%2C%2037.33990127392118%5D%2C%20%5B127.28543362549937%2C%2037.3425335272208%5D%2C%20%5B127.2795205391003%2C%2037.306809952638524%5D%2C%20%5B127.28383871402815%2C%2037.2658807760632%5D%2C%20%5B127.32142008240551%2C%2037.27215636613311%5D%2C%20%5B127.34092967480524%2C%2037.26770614318737%5D%2C%20%5B127.34227600003884%2C%2037.28528169366774%5D%2C%20%5B127.37829628277709%2C%2037.317936247676194%5D%2C%20%5B127.38906532153541%2C%2037.31608103967859%5D%2C%20%5B127.42277946655206%2C%2037.33526375647856%5D%2C%20%5B127.44459662819855%2C%2037.35562085049101%5D%2C%20%5B127.44514756834636%2C%2037.3842770721951%5D%2C%20%5B127.41955611640327%2C%2037.386674887879835%5D%2C%20%5B127.40276739880215%2C%2037.41856433413549%5D%2C%20%5B127.39174400683049%2C%2037.4256483411369%5D%2C%20%5B127.37490698722792%2C%2037.455072688441305%5D%2C%20%5B127.39046783039153%2C%2037.47413422098595%5D%2C%20%5B127.38286320755414%2C%2037.50147517965334%5D%2C%20%5B127.3663244453597%2C%2037.52716845880826%5D%2C%20%5B127.32809611134748%2C%2037.53133849534739%5D%2C%20%5B127.30923294884336%2C%2037.5135706079458%5D%5D%5D%2C%20%22type%22%3A%20%22Polygon%22%7D%2C%20%22properties%22%3A%20%7B%22base_year%22%3A%202013%2C%20%22code%22%3A%2031250%2C%20%22highlight%22%3A%20%7B%7D%2C%20%22name%22%3A%20%22%5Cuad11%5Cuc8fc%5Cuc2dc%22%2C%20%22name_eng%22%3A%20%22Gwangju%22%2C%20%22style%22%3A%20%7B%22color%22%3A%20%22black%22%2C%20%22fillColor%22%3A%20%22%23fecc5c%22%2C%20%22fillOpacity%22%3A%200.6%2C%20%22opacity%22%3A%201%2C%20%22weight%22%3A%201%7D%7D%2C%20%22type%22%3A%20%22Feature%22%7D%2C%20%7B%22geometry%22%3A%20%7B%22coordinates%22%3A%20%5B%5B%5B126.92946761531998%2C%2037.275967848758626%5D%2C%20%5B126.9159468889861%2C%2037.28864104563552%5D%2C%20%5B126.84641021832398%2C%2037.26433293772644%5D%2C%20%5B126.81930541992186%2C%2037.29590550406618%5D%2C%20%5B126.77604675292967%2C%2037.28552626562424%5D%2C%20%5B126.76918029785156%2C%2037.28334098034544%5D%2C%20%5B126.73210144042969%2C%2037.29098920118597%5D%2C%20%5B126.71836853027344%2C%2037.286072577028555%5D%2C%20%5B126.68403625488283%2C%2037.267495764381856%5D%2C%20%5B126.6510772705078%2C%2037.25328687335229%5D%2C%20%5B126.66481018066405%2C%2037.21994010868952%5D%2C%20%5B126.65794372558594%2C%2037.19478361329807%5D%2C%20%5B126.66271935011406%2C%2037.15926986163073%5D%2C%20%5B126.6846290670714%2C%2037.14600860455114%5D%2C%20%5B126.67514463500929%2C%2037.13507063838445%5D%2C%20%5B126.69054868899676%2C%2037.11326932983634%5D%2C%20%5B126.7301407699343%2C%2037.135914524793805%5D%2C%20%5B126.74720764160156%2C%2037.14225609389272%5D%2C%20%5B126.7719268798828%2C%2037.14663478158564%5D%2C%20%5B126.79458618164062%2C%2037.14827672411748%5D%2C%20%5B126.80659259648279%2C%2037.148624224069174%5D%2C%20%5B126.7547607421875%2C%2037.137329767248794%5D%2C%20%5B126.72454833984374%2C%2037.11543110112874%5D%2C%20%5B126.73072814941408%2C%2037.092430683283474%5D%2C%20%5B126.7327880859375%2C%2037.07544970503028%5D%2C%20%5B126.75132751464844%2C%2037.0601087778919%5D%2C%20%5B126.75044219493901%2C%2037.04618007006251%5D%2C%20%5B126.75308052062115%2C%2037.02639369248519%5D%2C%20%5B126.79113814421088%2C%2037.02631450535446%5D%2C%20%5B126.79899352215931%2C%2037.0092005991418%5D%2C%20%5B126.84014623559027%2C%2037.01079503386266%5D%2C%20%5B126.85940022959993%2C%2037.022131594683266%5D%2C%20%5B126.8846211892453%2C%2037.05795114472113%5D%2C%20%5B126.90291323437098%2C%2037.06724127811693%5D%2C%20%5B126.94247588185057%2C%2037.057958386286046%5D%2C%20%5B126.95290081243859%2C%2037.06545814826726%5D%2C%20%5B126.98672297136514%2C%2037.06879655242586%5D%2C%20%5B127.00102521866197%2C%2037.08973596266607%5D%2C%20%5B127.00593012741142%2C%2037.124105707924144%5D%2C%20%5B127.03746950511537%2C%2037.13336771678679%5D%2C%20%5B127.03019615684671%2C%2037.16027870494751%5D%2C%20%5B127.00186863458882%2C%2037.1747343711991%5D%2C%20%5B127.02929563655235%2C%2037.19787494412135%5D%2C%20%5B127.06660498380589%2C%2037.19589230774365%5D%2C%20%5B127.07609473440765%2C%2037.16092553278145%5D%2C%20%5B127.09596808287752%2C%2037.1566082978686%5D%2C%20%5B127.10575417734016%2C%2037.1407283236673%5D%2C%20%5B127.12480483538663%2C%2037.14166379699704%5D%2C%20%5B127.13469226704495%2C%2037.165565916914176%5D%2C%20%5B127.16278322754954%2C%2037.17771519608909%5D%2C%20%5B127.15371679380591%2C%2037.215705679231036%5D%2C%20%5B127.09106338919456%2C%2037.21351968359228%5D%2C%20%5B127.06878518378286%2C%2037.23731339587258%5D%2C%20%5B127.04178611512381%2C%2037.24066886027782%5D%2C%20%5B127.02475029106094%2C%2037.22207898080851%5D%2C%20%5B126.97491964707861%2C%2037.22588531228192%5D%2C%20%5B126.95229769733274%2C%2037.2524826245201%5D%2C%20%5B126.93110125729105%2C%2037.260824951129344%5D%2C%20%5B126.92946761531998%2C%2037.275967848758626%5D%5D%5D%2C%20%22type%22%3A%20%22Polygon%22%7D%2C%20%22properties%22%3A%20%7B%22base_year%22%3A%202013%2C%20%22code%22%3A%2031240%2C%20%22highlight%22%3A%20%7B%7D%2C%20%22name%22%3A%20%22%5Cud654%5Cuc131%5Cuc2dc%22%2C%20%22name_eng%22%3A%20%22Hwaseongsi%22%2C%20%22style%22%3A%20%7B%22color%22%3A%20%22black%22%2C%20%22fillColor%22%3A%20%22%23fd8d3c%22%2C%20%22fillOpacity%22%3A%200.6%2C%20%22opacity%22%3A%201%2C%20%22weight%22%3A%201%7D%7D%2C%20%22type%22%3A%20%22Feature%22%7D%2C%20%7B%22geometry%22%3A%20%7B%22coordinates%22%3A%20%5B%5B%5B126.67862254618308%2C%2037.697305342702336%5D%2C%20%5B126.68687028203884%2C%2037.72287270233232%5D%2C%20%5B126.66907840308846%2C%2037.78174793493798%5D%2C%20%5B126.64101439012131%2C%2037.77566349630024%5D%2C%20%5B126.61153655783419%2C%2037.75013666485523%5D%2C%20%5B126.56882602841813%2C%2037.7532565431125%5D%2C%20%5B126.55721894228033%2C%2037.76621180168271%5D%2C%20%5B126.51662409600848%2C%2037.76417822326665%5D%2C%20%5B126.52807816920034%2C%2037.73531846953613%5D%2C%20%5B126.52057497424896%2C%2037.70995131425922%5D%2C%20%5B126.5293420651622%2C%2037.70036377653783%5D%2C%20%5B126.52504262045373%2C%2037.67373626287928%5D%2C%20%5B126.53101689696972%2C%2037.65019057730887%5D%2C%20%5B126.55161765645468%2C%2037.624298554715594%5D%2C%20%5B126.55623106969898%2C%2037.60651221746275%5D%2C%20%5B126.57464273966109%2C%2037.58499252358352%5D%2C%20%5B126.61067265871806%2C%2037.601000735347455%5D%2C%20%5B126.6298186792055%2C%2037.60410987353396%5D%2C%20%5B126.63835822769396%2C%2037.62500980457943%5D%2C%20%5B126.6591800896809%2C%2037.63521787385032%5D%2C%20%5B126.70070861456485%2C%2037.6146734329379%5D%2C%20%5B126.72720375328538%2C%2037.589208895921956%5D%2C%20%5B126.74570339076207%2C%2037.59055779256247%5D%2C%20%5B126.79575768552907%2C%2037.57881087633202%5D%2C%20%5B126.80702115023597%2C%2037.60123001013228%5D%2C%20%5B126.77608157956732%2C%2037.61940269153496%5D%2C%20%5B126.74300328815525%2C%2037.63613822400079%5D%2C%20%5B126.6733552623039%2C%2037.67370888254625%5D%2C%20%5B126.67862254618308%2C%2037.697305342702336%5D%5D%5D%2C%20%22type%22%3A%20%22Polygon%22%7D%2C%20%22properties%22%3A%20%7B%22base_year%22%3A%202013%2C%20%22code%22%3A%2031230%2C%20%22highlight%22%3A%20%7B%7D%2C%20%22name%22%3A%20%22%5Cuae40%5Cud3ec%5Cuc2dc%22%2C%20%22name_eng%22%3A%20%22Gimpo-si%22%2C%20%22style%22%3A%20%7B%22color%22%3A%20%22black%22%2C%20%22fillColor%22%3A%20%22%23fecc5c%22%2C%20%22fillOpacity%22%3A%200.6%2C%20%22opacity%22%3A%201%2C%20%22weight%22%3A%201%7D%7D%2C%20%22type%22%3A%20%22Feature%22%7D%2C%20%7B%22geometry%22%3A%20%7B%22coordinates%22%3A%20%5B%5B%5B127.4921007211045%2C%2037.04995601187854%5D%2C%20%5B127.50695269820937%2C%2037.05753483878351%5D%2C%20%5B127.5183736840388%2C%2037.08503753187909%5D%2C%20%5B127.50508537419512%2C%2037.115382889205684%5D%2C%20%5B127.45481750751989%2C%2037.132580597361105%5D%2C%20%5B127.43195960102275%2C%2037.144888798316245%5D%2C%20%5B127.4230458143012%2C%2037.123216212193206%5D%2C%20%5B127.42631296061737%2C%2037.09684636395198%5D%2C%20%5B127.40130784690913%2C%2037.09245087525459%5D%2C%20%5B127.36035341650685%2C%2037.104395022706164%5D%2C%20%5B127.34555940652085%2C%2037.10116608411004%5D%2C%20%5B127.32884755687247%2C%2037.11659174326816%5D%2C%20%5B127.3127600393989%2C%2037.10253147019345%5D%2C%20%5B127.29016455856019%2C%2037.1284169582523%5D%2C%20%5B127.2524045686932%2C%2037.142247323045744%5D%2C%20%5B127.25314613987028%2C%2037.120146872115946%5D%2C%20%5B127.23808463453801%2C%2037.11859194998404%5D%2C%20%5B127.21070673321714%2C%2037.1015342900424%5D%2C%20%5B127.19738813790079%2C%2037.08621655572156%5D%2C%20%5B127.16831604852223%2C%2037.083742477354726%5D%2C%20%5B127.12516729074011%2C%2037.08849523189945%5D%2C%20%5B127.12948838054707%2C%2037.04966079815856%5D%2C%20%5B127.10740090841584%2C%2037.0328875639127%5D%2C%20%5B127.15517998352519%2C%2037.026613262831916%5D%2C%20%5B127.14747724307254%2C%2037.0138188945719%5D%2C%20%5B127.15496570056612%2C%2036.99487383420599%5D%2C%20%5B127.13779801966723%2C%2036.99041291045364%5D%2C%20%5B127.1216062947912%2C%2036.96626164975953%5D%2C%20%5B127.1464102583773%2C%2036.96864576891614%5D%2C%20%5B127.20400548086619%2C%2036.94924588348929%5D%2C%20%5B127.2223238977499%2C%2036.92742980980818%5D%2C%20%5B127.24613652503862%2C%2036.91453164371645%5D%2C%20%5B127.27227784491541%2C%2036.910372298119825%5D%2C%20%5B127.2919237698698%2C%2036.89094292918124%5D%2C%20%5B127.31127137227124%2C%2036.92622202120876%5D%2C%20%5B127.35186324388168%2C%2036.94969761594173%5D%2C%20%5B127.38065822509601%2C%2036.94859652718182%5D%2C%20%5B127.40398967704995%2C%2036.96488092382215%5D%2C%20%5B127.38707184117484%2C%2036.981534293776996%5D%2C%20%5B127.39617030040874%2C%2036.99507985079591%5D%2C%20%5B127.43189913129159%2C%2036.99902770852865%5D%2C%20%5B127.4488413674345%2C%2037.008168187910805%5D%2C%20%5B127.46014553759977%2C%2037.01772149607737%5D%2C%20%5B127.45985706240288%2C%2037.0407398003885%5D%2C%20%5B127.4921007211045%2C%2037.04995601187854%5D%5D%5D%2C%20%22type%22%3A%20%22Polygon%22%7D%2C%20%22properties%22%3A%20%7B%22base_year%22%3A%202013%2C%20%22code%22%3A%2031220%2C%20%22highlight%22%3A%20%7B%7D%2C%20%22name%22%3A%20%22%5Cuc548%5Cuc131%5Cuc2dc%22%2C%20%22name_eng%22%3A%20%22Anseong-si%22%2C%20%22style%22%3A%20%7B%22color%22%3A%20%22black%22%2C%20%22fillColor%22%3A%20%22%23fecc5c%22%2C%20%22fillOpacity%22%3A%200.6%2C%20%22opacity%22%3A%201%2C%20%22weight%22%3A%201%7D%7D%2C%20%22type%22%3A%20%22Feature%22%7D%2C%20%7B%22geometry%22%3A%20%7B%22coordinates%22%3A%20%5B%5B%5B127.44459662819855%2C%2037.35562085049101%5D%2C%20%5B127.42277946655206%2C%2037.33526375647856%5D%2C%20%5B127.38906532153541%2C%2037.31608103967859%5D%2C%20%5B127.37829628277709%2C%2037.317936247676194%5D%2C%20%5B127.34227600003884%2C%2037.28528169366774%5D%2C%20%5B127.34092967480524%2C%2037.26770614318737%5D%2C%20%5B127.33185727826834%2C%2037.21877880590886%5D%2C%20%5B127.3504254442421%2C%2037.20158943522061%5D%2C%20%5B127.38033957366586%2C%2037.19271119046181%5D%2C%20%5B127.38451468391715%2C%2037.17989930552182%5D%2C%20%5B127.41620898203362%2C%2037.17029801090558%5D%2C%20%5B127.41445191048162%2C%2037.152220061925426%5D%2C%20%5B127.43195960102275%2C%2037.144888798316245%5D%2C%20%5B127.45481750751989%2C%2037.132580597361105%5D%2C%20%5B127.50508537419512%2C%2037.115382889205684%5D%2C%20%5B127.5183736840388%2C%2037.08503753187909%5D%2C%20%5B127.50695269820937%2C%2037.05753483878351%5D%2C%20%5B127.4921007211045%2C%2037.04995601187854%5D%2C%20%5B127.5328452994501%2C%2037.052947456094785%5D%2C%20%5B127.55489094869193%2C%2037.04147062932325%5D%2C%20%5B127.56834352033556%2C%2037.06015560613134%5D%2C%20%5B127.60303992687903%2C%2037.08267817797425%5D%2C%20%5B127.63326599440494%2C%2037.09343317631327%5D%2C%20%5B127.6399897481202%2C%2037.13818503173906%5D%2C%20%5B127.63091754409567%2C%2037.150947430524305%5D%2C%20%5B127.5999013564347%2C%2037.1854997199498%5D%2C%20%5B127.5785248984445%2C%2037.186311208078585%5D%2C%20%5B127.55830514005798%2C%2037.17381401041668%5D%2C%20%5B127.52893461217018%2C%2037.170618598276%5D%2C%20%5B127.51957698997381%2C%2037.18188687027366%5D%2C%20%5B127.53342604855668%2C%2037.19715010635273%5D%2C%20%5B127.52770097674612%2C%2037.23765094459253%5D%2C%20%5B127.5395160453677%2C%2037.24379045683148%5D%2C%20%5B127.53106721989582%2C%2037.27115011578052%5D%2C%20%5B127.54853754663094%2C%2037.29860192066929%5D%2C%20%5B127.51574229064994%2C%2037.336561285567946%5D%2C%20%5B127.49167370715485%2C%2037.339527598960764%5D%2C%20%5B127.47263652805968%2C%2037.35869263849808%5D%2C%20%5B127.44459662819855%2C%2037.35562085049101%5D%5D%5D%2C%20%22type%22%3A%20%22Polygon%22%7D%2C%20%22properties%22%3A%20%7B%22base_year%22%3A%202013%2C%20%22code%22%3A%2031210%2C%20%22highlight%22%3A%20%7B%7D%2C%20%22name%22%3A%20%22%5Cuc774%5Cucc9c%5Cuc2dc%22%2C%20%22name_eng%22%3A%20%22Icheon-si%22%2C%20%22style%22%3A%20%7B%22color%22%3A%20%22black%22%2C%20%22fillColor%22%3A%20%22%23fecc5c%22%2C%20%22fillOpacity%22%3A%200.6%2C%20%22opacity%22%3A%201%2C%20%22weight%22%3A%201%7D%7D%2C%20%22type%22%3A%20%22Feature%22%7D%2C%20%7B%22geometry%22%3A%20%7B%22coordinates%22%3A%20%5B%5B%5B126.8029965558113%2C%2037.989251239637596%5D%2C%20%5B126.78238542753242%2C%2037.980043641136376%5D%2C%20%5B126.76520529808869%2C%2037.98230780004701%5D%2C%20%5B126.7420462951568%2C%2037.96995265840659%5D%2C%20%5B126.74668441679131%2C%2037.94913356897888%5D%2C%20%5B126.71646858457899%2C%2037.93722236122983%5D%2C%20%5B126.69257364928472%2C%2037.941147151072606%5D%2C%20%5B126.67501771549766%2C%2037.95271495350346%5D%2C%20%5B126.66763541566303%2C%2037.91838340624898%5D%2C%20%5B126.67945067210682%2C%2037.89497402505224%5D%2C%20%5B126.67382346217423%2C%2037.88401755835065%5D%2C%20%5B126.69348896006609%2C%2037.86442957434648%5D%2C%20%5B126.6622706417164%2C%2037.83606410322825%5D%2C%20%5B126.67603874694878%2C%2037.82828427203144%5D%2C%20%5B126.66423330880171%2C%2037.78738456951397%5D%2C%20%5B126.66907840308846%2C%2037.78174793493798%5D%2C%20%5B126.68687028203884%2C%2037.72287270233232%5D%2C%20%5B126.67862254618308%2C%2037.697305342702336%5D%2C%20%5B126.69372674409394%2C%2037.687413022894034%5D%2C%20%5B126.72711651649912%2C%2037.70166318681986%5D%2C%20%5B126.77635483402547%2C%2037.70188604497484%5D%2C%20%5B126.79766531143225%2C%2037.730785143520876%5D%2C%20%5B126.81634118925638%2C%2037.72071803262515%5D%2C%20%5B126.83772078982989%2C%2037.72529130369535%5D%2C%20%5B126.85856020555829%2C%2037.73179451375736%5D%2C%20%5B126.88536540501534%2C%2037.717034664244366%5D%2C%20%5B126.90425036668735%2C%2037.72565605361581%5D%2C%20%5B126.91088793086112%2C%2037.74418199544871%5D%2C%20%5B126.93180653905974%2C%2037.74575671706106%5D%2C%20%5B126.93838979622467%2C%2037.771436009953916%5D%2C%20%5B126.9073114617216%2C%2037.790560159793145%5D%2C%20%5B126.9160273881691%2C%2037.83830532663158%5D%2C%20%5B126.93661135445112%2C%2037.843479475117995%5D%2C%20%5B126.9484401545115%2C%2037.86422401203834%5D%2C%20%5B126.94883433502994%2C%2037.89688479787927%5D%2C%20%5B126.97545924731331%2C%2037.93928140597955%5D%2C%20%5B127.01739022262282%2C%2037.989561835400195%5D%2C%20%5B126.99425287672854%2C%2038.000624488107924%5D%2C%20%5B126.97166918547234%2C%2038.000587999007735%5D%2C%20%5B126.93929997962098%2C%2037.9789601448141%5D%2C%20%5B126.90034044420747%2C%2037.99438948257985%5D%2C%20%5B126.89755470110721%2C%2037.9683523617657%5D%2C%20%5B126.8739356423477%2C%2037.968400924665225%5D%2C%20%5B126.85859300440933%2C%2037.98329485669624%5D%2C%20%5B126.8423229135476%2C%2037.97819760433225%5D%2C%20%5B126.8388723334759%2C%2037.96197909365746%5D%2C%20%5B126.80659958939793%2C%2037.9680012097748%5D%2C%20%5B126.8029965558113%2C%2037.989251239637596%5D%5D%5D%2C%20%22type%22%3A%20%22Polygon%22%7D%2C%20%22properties%22%3A%20%7B%22base_year%22%3A%202013%2C%20%22code%22%3A%2031200%2C%20%22highlight%22%3A%20%7B%7D%2C%20%22name%22%3A%20%22%5Cud30c%5Cuc8fc%5Cuc2dc%22%2C%20%22name_eng%22%3A%20%22Paju-si%22%2C%20%22style%22%3A%20%7B%22color%22%3A%20%22black%22%2C%20%22fillColor%22%3A%20%22%23fd8d3c%22%2C%20%22fillOpacity%22%3A%200.6%2C%20%22opacity%22%3A%201%2C%20%22weight%22%3A%201%7D%7D%2C%20%22type%22%3A%20%22Feature%22%7D%2C%20%7B%22geometry%22%3A%20%7B%22coordinates%22%3A%20%5B%5B%5B127.03004539569396%2C%2037.36932312139811%5D%2C%20%5B127.02090967499298%2C%2037.348741503905366%5D%2C%20%5B127.03554038078946%2C%2037.341941908872045%5D%2C%20%5B127.04202153059128%2C%2037.318511731862884%5D%2C%20%5B127.06304327683587%2C%2037.30610813773979%5D%2C%20%5B127.06269400142102%2C%2037.293755190822594%5D%2C%20%5B127.09199113357242%2C%2037.295585212583866%5D%2C%20%5B127.10392750030913%2C%2037.31946377620277%5D%2C%20%5B127.13936654068314%2C%2037.321564168361974%5D%2C%20%5B127.1439713536275%2C%2037.33349026702227%5D%2C%20%5B127.13845652996186%2C%2037.336816804055495%5D%2C%20%5B127.11899182435063%2C%2037.33059044022546%5D%2C%20%5B127.07299151640797%2C%2037.35485426174942%5D%2C%20%5B127.03004539569396%2C%2037.36932312139811%5D%5D%5D%2C%20%22type%22%3A%20%22Polygon%22%7D%2C%20%22properties%22%3A%20%7B%22base_year%22%3A%202013%2C%20%22code%22%3A%2031193%2C%20%22highlight%22%3A%20%7B%7D%2C%20%22name%22%3A%20%22%5Cuc6a9%5Cuc778%5Cuc2dc%5Cuc218%5Cuc9c0%5Cuad6c%22%2C%20%22name_eng%22%3A%20%22Yonginsisujigu%22%2C%20%22style%22%3A%20%7B%22color%22%3A%20%22black%22%2C%20%22fillColor%22%3A%20%22%23fecc5c%22%2C%20%22fillOpacity%22%3A%200.6%2C%20%22opacity%22%3A%201%2C%20%22weight%22%3A%201%7D%7D%2C%20%22type%22%3A%20%22Feature%22%7D%2C%20%7B%22geometry%22%3A%20%7B%22coordinates%22%3A%20%5B%5B%5B127.09199113357242%2C%2037.295585212583866%5D%2C%20%5B127.09104881579566%2C%2037.284308786190785%5D%2C%20%5B127.06718840393803%2C%2037.26860748709257%5D%2C%20%5B127.08680542938673%2C%2037.253775982641194%5D%2C%20%5B127.06878518378286%2C%2037.23731339587258%5D%2C%20%5B127.09106338919456%2C%2037.21351968359228%5D%2C%20%5B127.15371679380591%2C%2037.215705679231036%5D%2C%20%5B127.15133830848096%2C%2037.23783513168847%5D%2C%20%5B127.17714136480691%2C%2037.255352775734025%5D%2C%20%5B127.17921513238925%2C%2037.282153169636494%5D%2C%20%5B127.13936654068314%2C%2037.321564168361974%5D%2C%20%5B127.10392750030913%2C%2037.31946377620277%5D%2C%20%5B127.09199113357242%2C%2037.295585212583866%5D%5D%5D%2C%20%22type%22%3A%20%22Polygon%22%7D%2C%20%22properties%22%3A%20%7B%22base_year%22%3A%202013%2C%20%22code%22%3A%2031192%2C%20%22highlight%22%3A%20%7B%7D%2C%20%22name%22%3A%20%22%5Cuc6a9%5Cuc778%5Cuc2dc%5Cuae30%5Cud765%5Cuad6c%22%2C%20%22name_eng%22%3A%20%22Yonginsigiheunggu%22%2C%20%22style%22%3A%20%7B%22color%22%3A%20%22black%22%2C%20%22fillColor%22%3A%20%22%23fd8d3c%22%2C%20%22fillOpacity%22%3A%200.6%2C%20%22opacity%22%3A%201%2C%20%22weight%22%3A%201%7D%7D%2C%20%22type%22%3A%20%22Feature%22%7D%2C%20%7B%22geometry%22%3A%20%7B%22coordinates%22%3A%20%5B%5B%5B127.34092967480524%2C%2037.26770614318737%5D%2C%20%5B127.32142008240551%2C%2037.27215636613311%5D%2C%20%5B127.28383871402815%2C%2037.2658807760632%5D%2C%20%5B127.2795205391003%2C%2037.306809952638524%5D%2C%20%5B127.28543362549937%2C%2037.3425335272208%5D%2C%20%5B127.26708575818817%2C%2037.33990127392118%5D%2C%20%5B127.23072982952925%2C%2037.35607967407726%5D%2C%20%5B127.21042746205282%2C%2037.32805374935785%5D%2C%20%5B127.19373839709431%2C%2037.34441869868583%5D%2C%20%5B127.1439713536275%2C%2037.33349026702227%5D%2C%20%5B127.13936654068314%2C%2037.321564168361974%5D%2C%20%5B127.17921513238925%2C%2037.282153169636494%5D%2C%20%5B127.17714136480691%2C%2037.255352775734025%5D%2C%20%5B127.15133830848096%2C%2037.23783513168847%5D%2C%20%5B127.15371679380591%2C%2037.215705679231036%5D%2C%20%5B127.16278322754954%2C%2037.17771519608909%5D%2C%20%5B127.13469226704495%2C%2037.165565916914176%5D%2C%20%5B127.12480483538663%2C%2037.14166379699704%5D%2C%20%5B127.11116461643066%2C%2037.123859739458304%5D%2C%20%5B127.12516729074011%2C%2037.08849523189945%5D%2C%20%5B127.16831604852223%2C%2037.083742477354726%5D%2C%20%5B127.19738813790079%2C%2037.08621655572156%5D%2C%20%5B127.21070673321714%2C%2037.1015342900424%5D%2C%20%5B127.23808463453801%2C%2037.11859194998404%5D%2C%20%5B127.25314613987028%2C%2037.120146872115946%5D%2C%20%5B127.2524045686932%2C%2037.142247323045744%5D%2C%20%5B127.29016455856019%2C%2037.1284169582523%5D%2C%20%5B127.3127600393989%2C%2037.10253147019345%5D%2C%20%5B127.32884755687247%2C%2037.11659174326816%5D%2C%20%5B127.34555940652085%2C%2037.10116608411004%5D%2C%20%5B127.36035341650685%2C%2037.104395022706164%5D%2C%20%5B127.40130784690913%2C%2037.09245087525459%5D%2C%20%5B127.42631296061737%2C%2037.09684636395198%5D%2C%20%5B127.4230458143012%2C%2037.123216212193206%5D%2C%20%5B127.43195960102275%2C%2037.144888798316245%5D%2C%20%5B127.41445191048162%2C%2037.152220061925426%5D%2C%20%5B127.41620898203362%2C%2037.17029801090558%5D%2C%20%5B127.38451468391715%2C%2037.17989930552182%5D%2C%20%5B127.38033957366586%2C%2037.19271119046181%5D%2C%20%5B127.3504254442421%2C%2037.20158943522061%5D%2C%20%5B127.33185727826834%2C%2037.21877880590886%5D%2C%20%5B127.34092967480524%2C%2037.26770614318737%5D%5D%5D%2C%20%22type%22%3A%20%22Polygon%22%7D%2C%20%22properties%22%3A%20%7B%22base_year%22%3A%202013%2C%20%22code%22%3A%2031191%2C%20%22highlight%22%3A%20%7B%7D%2C%20%22name%22%3A%20%22%5Cuc6a9%5Cuc778%5Cuc2dc%5Cucc98%5Cuc778%5Cuad6c%22%2C%20%22name_eng%22%3A%20%22Yonginsicheoingu%22%2C%20%22style%22%3A%20%7B%22color%22%3A%20%22black%22%2C%20%22fillColor%22%3A%20%22%23fecc5c%22%2C%20%22fillOpacity%22%3A%200.6%2C%20%22opacity%22%3A%201%2C%20%22weight%22%3A%201%7D%7D%2C%20%22type%22%3A%20%22Feature%22%7D%2C%20%7B%22geometry%22%3A%20%7B%22coordinates%22%3A%20%5B%5B%5B127.16683184366129%2C%2037.57672487388627%5D%2C%20%5B127.18408792330152%2C%2037.55814280369575%5D%2C%20%5B127.16530984307447%2C%2037.54221851258693%5D%2C%20%5B127.14672806823502%2C%2037.51415680680291%5D%2C%20%5B127.1634944215765%2C%2037.497445406097484%5D%2C%20%5B127.14206058413274%2C%2037.47089819098501%5D%2C%20%5B127.17807401290999%2C%2037.46939077799968%5D%2C%20%5B127.1831716097913%2C%2037.47048077053623%5D%2C%20%5B127.21785285379218%2C%2037.479493796173465%5D%2C%20%5B127.23892819551556%2C%2037.47240158876339%5D%2C%20%5B127.26066872639333%2C%2037.4867746581613%5D%2C%20%5B127.25539313999657%2C%2037.50044702706516%5D%2C%20%5B127.28971082577908%2C%2037.51069218442014%5D%2C%20%5B127.28111702399318%2C%2037.523561821461996%5D%2C%20%5B127.23688890922413%2C%2037.546307321113254%5D%2C%20%5B127.23635034049964%2C%2037.55494536243556%5D%2C%20%5B127.20140811211739%2C%2037.58834877432742%5D%2C%20%5B127.16683184366129%2C%2037.57672487388627%5D%5D%5D%2C%20%22type%22%3A%20%22Polygon%22%7D%2C%20%22properties%22%3A%20%7B%22base_year%22%3A%202013%2C%20%22code%22%3A%2031180%2C%20%22highlight%22%3A%20%7B%7D%2C%20%22name%22%3A%20%22%5Cud558%5Cub0a8%5Cuc2dc%22%2C%20%22name_eng%22%3A%20%22Hanam-si%22%2C%20%22style%22%3A%20%7B%22color%22%3A%20%22black%22%2C%20%22fillColor%22%3A%20%22%23fecc5c%22%2C%20%22fillOpacity%22%3A%200.6%2C%20%22opacity%22%3A%201%2C%20%22weight%22%3A%201%7D%7D%2C%20%22type%22%3A%20%22Feature%22%7D%2C%20%7B%22geometry%22%3A%20%7B%22coordinates%22%3A%20%5B%5B%5B127.04377994345505%2C%2037.41281928664435%5D%2C%20%5B127.0154646349186%2C%2037.411005997724835%5D%2C%20%5B126.98466887829045%2C%2037.39785909018114%5D%2C%20%5B126.96423328330341%2C%2037.358735102948096%5D%2C%20%5B126.94893535067122%2C%2037.32100738175514%5D%2C%20%5B126.93252071350132%2C%2037.30423856869929%5D%2C%20%5B126.93504702033805%2C%2037.3002209928663%5D%2C%20%5B126.96633916587045%2C%2037.29989574204989%5D%2C%20%5B126.98303616696394%2C%2037.32376927812144%5D%2C%20%5B127.02090967499298%2C%2037.348741503905366%5D%2C%20%5B127.03004539569396%2C%2037.36932312139811%5D%2C%20%5B127.04580444799605%2C%2037.40139072056455%5D%2C%20%5B127.04377994345505%2C%2037.41281928664435%5D%5D%5D%2C%20%22type%22%3A%20%22Polygon%22%7D%2C%20%22properties%22%3A%20%7B%22base_year%22%3A%202013%2C%20%22code%22%3A%2031170%2C%20%22highlight%22%3A%20%7B%7D%2C%20%22name%22%3A%20%22%5Cuc758%5Cuc655%5Cuc2dc%22%2C%20%22name_eng%22%3A%20%22Uiwang-si%22%2C%20%22style%22%3A%20%7B%22color%22%3A%20%22black%22%2C%20%22fillColor%22%3A%20%22%23fecc5c%22%2C%20%22fillOpacity%22%3A%200.6%2C%20%22opacity%22%3A%201%2C%20%22weight%22%3A%201%7D%7D%2C%20%22type%22%3A%20%22Feature%22%7D%2C%20%7B%22geometry%22%3A%20%7B%22coordinates%22%3A%20%5B%5B%5B126.96423328330341%2C%2037.358735102948096%5D%2C%20%5B126.9429122120182%2C%2037.37630880537034%5D%2C%20%5B126.9163870114383%2C%2037.37253977179312%5D%2C%20%5B126.89932903785872%2C%2037.35524703438324%5D%2C%20%5B126.88015838809775%2C%2037.316795632219964%5D%2C%20%5B126.9092771218202%2C%2037.318694910599305%5D%2C%20%5B126.93252071350132%2C%2037.30423856869929%5D%2C%20%5B126.94893535067122%2C%2037.32100738175514%5D%2C%20%5B126.96423328330341%2C%2037.358735102948096%5D%5D%5D%2C%20%22type%22%3A%20%22Polygon%22%7D%2C%20%22properties%22%3A%20%7B%22base_year%22%3A%202013%2C%20%22code%22%3A%2031160%2C%20%22highlight%22%3A%20%7B%7D%2C%20%22name%22%3A%20%22%5Cuad70%5Cud3ec%5Cuc2dc%22%2C%20%22name_eng%22%3A%20%22Gunpo-si%22%2C%20%22style%22%3A%20%7B%22color%22%3A%20%22black%22%2C%20%22fillColor%22%3A%20%22%23fecc5c%22%2C%20%22fillOpacity%22%3A%200.6%2C%20%22opacity%22%3A%201%2C%20%22weight%22%3A%201%7D%7D%2C%20%22type%22%3A%20%22Feature%22%7D%2C%20%7B%22geometry%22%3A%20%7B%22coordinates%22%3A%20%5B%5B%5B126.78024890848009%2C%2037.469000573789124%5D%2C%20%5B126.78043371089171%2C%2037.44800343708732%5D%2C%20%5B126.77110599967482%2C%2037.42452961090748%5D%2C%20%5B126.75529287233691%2C%2037.41984217802103%5D%2C%20%5B126.73861862061078%2C%2037.39261185865545%5D%2C%20%5B126.7029884306089%2C%2037.352119573644295%5D%2C%20%5B126.69453406156698%2C%2037.331064777919245%5D%2C%20%5B126.7248752674955%2C%2037.31058440885402%5D%2C%20%5B126.74059726902762%2C%2037.32685692943894%5D%2C%20%5B126.76357575956314%2C%2037.33864505297868%5D%2C%20%5B126.79105964941944%2C%2037.33699094698096%5D%2C%20%5B126.82580289305967%2C%2037.360321842249355%5D%2C%20%5B126.84283747134161%2C%2037.360869895636554%5D%2C%20%5B126.86691937294266%2C%2037.358697064350324%5D%2C%20%5B126.88400175928666%2C%2037.37340263600163%5D%2C%20%5B126.879093453746%2C%2037.399239167854816%5D%2C%20%5B126.85964157227416%2C%2037.398615706957116%5D%2C%20%5B126.8484052155556%2C%2037.40965572330444%5D%2C%20%5B126.8280587234361%2C%2037.456596986921056%5D%2C%20%5B126.78024890848009%2C%2037.469000573789124%5D%5D%5D%2C%20%22type%22%3A%20%22Polygon%22%7D%2C%20%22properties%22%3A%20%7B%22base_year%22%3A%202013%2C%20%22code%22%3A%2031150%2C%20%22highlight%22%3A%20%7B%7D%2C%20%22name%22%3A%20%22%5Cuc2dc%5Cud765%5Cuc2dc%22%2C%20%22name_eng%22%3A%20%22Siheung-si%22%2C%20%22style%22%3A%20%7B%22color%22%3A%20%22black%22%2C%20%22fillColor%22%3A%20%22%23fd8d3c%22%2C%20%22fillOpacity%22%3A%200.6%2C%20%22opacity%22%3A%201%2C%20%22weight%22%3A%201%7D%7D%2C%20%22type%22%3A%20%22Feature%22%7D%2C%20%7B%22geometry%22%3A%20%7B%22coordinates%22%3A%20%5B%5B%5B127.10575417734016%2C%2037.1407283236673%5D%2C%20%5B127.09596808287752%2C%2037.1566082978686%5D%2C%20%5B127.07609473440765%2C%2037.16092553278145%5D%2C%20%5B127.06660498380589%2C%2037.19589230774365%5D%2C%20%5B127.02929563655235%2C%2037.19787494412135%5D%2C%20%5B127.00186863458882%2C%2037.1747343711991%5D%2C%20%5B127.03019615684671%2C%2037.16027870494751%5D%2C%20%5B127.03746950511537%2C%2037.13336771678679%5D%2C%20%5B127.04304406837494%2C%2037.126222304219084%5D%2C%20%5B127.09127893510457%2C%2037.12882078023335%5D%2C%20%5B127.10575417734016%2C%2037.1407283236673%5D%5D%5D%2C%20%22type%22%3A%20%22Polygon%22%7D%2C%20%22properties%22%3A%20%7B%22base_year%22%3A%202013%2C%20%22code%22%3A%2031140%2C%20%22highlight%22%3A%20%7B%7D%2C%20%22name%22%3A%20%22%5Cuc624%5Cuc0b0%5Cuc2dc%22%2C%20%22name_eng%22%3A%20%22Osan-si%22%2C%20%22style%22%3A%20%7B%22color%22%3A%20%22black%22%2C%20%22fillColor%22%3A%20%22%23fecc5c%22%2C%20%22fillOpacity%22%3A%200.6%2C%20%22opacity%22%3A%201%2C%20%22weight%22%3A%201%7D%7D%2C%20%22type%22%3A%20%22Feature%22%7D%2C%20%7B%22geometry%22%3A%20%7B%22coordinates%22%3A%20%5B%5B%5B127.2686525155809%2C%2037.777676803810074%5D%2C%20%5B127.26186907661463%2C%2037.765678541736996%5D%2C%20%5B127.22719439323131%2C%2037.750666435161854%5D%2C%20%5B127.21510645674604%2C%2037.75873586709106%5D%2C%20%5B127.18575971970597%2C%2037.76186443408089%5D%2C%20%5B127.17524551122212%2C%2037.751938183429424%5D%2C%20%5B127.14882403466048%2C%2037.75206030443599%5D%2C%20%5B127.13060037316637%2C%2037.74504865443316%5D%2C%20%5B127.12788299600184%2C%2037.72469254066713%5D%2C%20%5B127.0838752703195%2C%2037.69359534202034%5D%2C%20%5B127.09706391309695%2C%2037.686383719372294%5D%2C%20%5B127.09440766298717%2C%2037.64713490473045%5D%2C%20%5B127.11326795855199%2C%2037.639622905315925%5D%2C%20%5B127.1523782881412%2C%2037.63663639743511%5D%2C%20%5B127.14554907981939%2C%2037.61784095180692%5D%2C%20%5B127.16683184366129%2C%2037.57672487388627%5D%2C%20%5B127.20140811211739%2C%2037.58834877432742%5D%2C%20%5B127.23635034049964%2C%2037.55494536243556%5D%2C%20%5B127.23688890922413%2C%2037.546307321113254%5D%2C%20%5B127.28111702399318%2C%2037.523561821461996%5D%2C%20%5B127.28971082577908%2C%2037.51069218442014%5D%2C%20%5B127.30923294884336%2C%2037.5135706079458%5D%2C%20%5B127.31002843450217%2C%2037.53523876142835%5D%2C%20%5B127.34360057873045%2C%2037.588997440929354%5D%2C%20%5B127.3542931884407%2C%2037.6250006376975%5D%2C%20%5B127.3732642199939%2C%2037.6453987554284%5D%2C%20%5B127.38133544278186%2C%2037.67180837890239%5D%2C%20%5B127.35557114419971%2C%2037.701041217064585%5D%2C%20%5B127.35759057077398%2C%2037.720909295881434%5D%2C%20%5B127.34501289752937%2C%2037.7266690692075%5D%2C%20%5B127.32070791913966%2C%2037.76445271893134%5D%2C%20%5B127.2686525155809%2C%2037.777676803810074%5D%5D%5D%2C%20%22type%22%3A%20%22Polygon%22%7D%2C%20%22properties%22%3A%20%7B%22base_year%22%3A%202013%2C%20%22code%22%3A%2031130%2C%20%22highlight%22%3A%20%7B%7D%2C%20%22name%22%3A%20%22%5Cub0a8%5Cuc591%5Cuc8fc%5Cuc2dc%22%2C%20%22name_eng%22%3A%20%22Namyangju-si%22%2C%20%22style%22%3A%20%7B%22color%22%3A%20%22black%22%2C%20%22fillColor%22%3A%20%22%23e31a1c%22%2C%20%22fillOpacity%22%3A%200.6%2C%20%22opacity%22%3A%201%2C%20%22weight%22%3A%201%7D%7D%2C%20%22type%22%3A%20%22Feature%22%7D%2C%20%7B%22geometry%22%3A%20%7B%22coordinates%22%3A%20%5B%5B%5B127.11326795855199%2C%2037.639622905315925%5D%2C%20%5B127.10782277688129%2C%2037.61804244241069%5D%2C%20%5B127.1201246020114%2C%2037.60178457598188%5D%2C%20%5B127.10304174249214%2C%2037.57076342290955%5D%2C%20%5B127.11519584981606%2C%2037.557533180704915%5D%2C%20%5B127.16683184366129%2C%2037.57672487388627%5D%2C%20%5B127.14554907981939%2C%2037.61784095180692%5D%2C%20%5B127.1523782881412%2C%2037.63663639743511%5D%2C%20%5B127.11326795855199%2C%2037.639622905315925%5D%5D%5D%2C%20%22type%22%3A%20%22Polygon%22%7D%2C%20%22properties%22%3A%20%7B%22base_year%22%3A%202013%2C%20%22code%22%3A%2031120%2C%20%22highlight%22%3A%20%7B%7D%2C%20%22name%22%3A%20%22%5Cuad6c%5Cub9ac%5Cuc2dc%22%2C%20%22name_eng%22%3A%20%22Guri-si%22%2C%20%22style%22%3A%20%7B%22color%22%3A%20%22black%22%2C%20%22fillColor%22%3A%20%22%23fecc5c%22%2C%20%22fillOpacity%22%3A%200.6%2C%20%22opacity%22%3A%201%2C%20%22weight%22%3A%201%7D%7D%2C%20%22type%22%3A%20%22Feature%22%7D%2C%20%7B%22geometry%22%3A%20%7B%22coordinates%22%3A%20%5B%5B%5B126.99072073195462%2C%2037.455326143310025%5D%2C%20%5B126.96520439085143%2C%2037.438249784006246%5D%2C%20%5B126.96342494806345%2C%2037.42289846046814%5D%2C%20%5B126.98466887829045%2C%2037.39785909018114%5D%2C%20%5B127.0154646349186%2C%2037.411005997724835%5D%2C%20%5B127.04377994345505%2C%2037.41281928664435%5D%2C%20%5B127.04957232987142%2C%2037.42805836845694%5D%2C%20%5B127.03881782597922%2C%2037.45382039851715%5D%2C%20%5B126.99072073195462%2C%2037.455326143310025%5D%5D%5D%2C%20%22type%22%3A%20%22Polygon%22%7D%2C%20%22properties%22%3A%20%7B%22base_year%22%3A%202013%2C%20%22code%22%3A%2031110%2C%20%22highlight%22%3A%20%7B%7D%2C%20%22name%22%3A%20%22%5Cuacfc%5Cucc9c%5Cuc2dc%22%2C%20%22name_eng%22%3A%20%22Gwacheon-si%22%2C%20%22style%22%3A%20%7B%22color%22%3A%20%22black%22%2C%20%22fillColor%22%3A%20%22%23ffffb2%22%2C%20%22fillOpacity%22%3A%200.6%2C%20%22opacity%22%3A%201%2C%20%22weight%22%3A%201%7D%7D%2C%20%22type%22%3A%20%22Feature%22%7D%2C%20%7B%22geometry%22%3A%20%7B%22coordinates%22%3A%20%5B%5B%5B126.67862254618308%2C%2037.697305342702336%5D%2C%20%5B126.6733552623039%2C%2037.67370888254625%5D%2C%20%5B126.74300328815525%2C%2037.63613822400079%5D%2C%20%5B126.74294383613385%2C%2037.6511173927548%5D%2C%20%5B126.77194259250199%2C%2037.665292527690774%5D%2C%20%5B126.78018904849759%2C%2037.678448868614744%5D%2C%20%5B126.77635483402547%2C%2037.70188604497484%5D%2C%20%5B126.72711651649912%2C%2037.70166318681986%5D%2C%20%5B126.69372674409394%2C%2037.687413022894034%5D%2C%20%5B126.67862254618308%2C%2037.697305342702336%5D%5D%5D%2C%20%22type%22%3A%20%22Polygon%22%7D%2C%20%22properties%22%3A%20%7B%22base_year%22%3A%202013%2C%20%22code%22%3A%2031104%2C%20%22highlight%22%3A%20%7B%7D%2C%20%22name%22%3A%20%22%5Cuace0%5Cuc591%5Cuc2dc%5Cuc77c%5Cuc0b0%5Cuc11c%5Cuad6c%22%2C%20%22name_eng%22%3A%20%22Goyangsiilsanseogu%22%2C%20%22style%22%3A%20%7B%22color%22%3A%20%22black%22%2C%20%22fillColor%22%3A%20%22%23fecc5c%22%2C%20%22fillOpacity%22%3A%200.6%2C%20%22opacity%22%3A%201%2C%20%22weight%22%3A%201%7D%7D%2C%20%22type%22%3A%20%22Feature%22%7D%2C%20%7B%22geometry%22%3A%20%7B%22coordinates%22%3A%20%5B%5B%5B126.77635483402547%2C%2037.70188604497484%5D%2C%20%5B126.78018904849759%2C%2037.678448868614744%5D%2C%20%5B126.77194259250199%2C%2037.665292527690774%5D%2C%20%5B126.74294383613385%2C%2037.6511173927548%5D%2C%20%5B126.74300328815525%2C%2037.63613822400079%5D%2C%20%5B126.77608157956732%2C%2037.61940269153496%5D%2C%20%5B126.79710848915354%2C%2037.6372950352041%5D%2C%20%5B126.83512162789108%2C%2037.680020660541864%5D%2C%20%5B126.85703023929057%2C%2037.68935027811791%5D%2C%20%5B126.83772078982989%2C%2037.72529130369535%5D%2C%20%5B126.81634118925638%2C%2037.72071803262515%5D%2C%20%5B126.79766531143225%2C%2037.730785143520876%5D%2C%20%5B126.77635483402547%2C%2037.70188604497484%5D%5D%5D%2C%20%22type%22%3A%20%22Polygon%22%7D%2C%20%22properties%22%3A%20%7B%22base_year%22%3A%202013%2C%20%22code%22%3A%2031103%2C%20%22highlight%22%3A%20%7B%7D%2C%20%22name%22%3A%20%22%5Cuace0%5Cuc591%5Cuc2dc%5Cuc77c%5Cuc0b0%5Cub3d9%5Cuad6c%22%2C%20%22name_eng%22%3A%20%22Goyangsiilsandonggu%22%2C%20%22style%22%3A%20%7B%22color%22%3A%20%22black%22%2C%20%22fillColor%22%3A%20%22%23fecc5c%22%2C%20%22fillOpacity%22%3A%200.6%2C%20%22opacity%22%3A%201%2C%20%22weight%22%3A%201%7D%7D%2C%20%22type%22%3A%20%22Feature%22%7D%2C%20%7B%22geometry%22%3A%20%7B%22coordinates%22%3A%20%5B%5B%5B126.83772078982989%2C%2037.72529130369535%5D%2C%20%5B126.85703023929057%2C%2037.68935027811791%5D%2C%20%5B126.83512162789108%2C%2037.680020660541864%5D%2C%20%5B126.79710848915354%2C%2037.6372950352041%5D%2C%20%5B126.77608157956732%2C%2037.61940269153496%5D%2C%20%5B126.80702115023597%2C%2037.60123001013228%5D%2C%20%5B126.82251438477105%2C%2037.5880430810082%5D%2C%20%5B126.85984199399667%2C%2037.571847855292745%5D%2C%20%5B126.88433284773288%2C%2037.588143322880526%5D%2C%20%5B126.90396681003595%2C%2037.59227403419942%5D%2C%20%5B126.90303066177668%2C%2037.609977911401344%5D%2C%20%5B126.91455481429648%2C%2037.64150050996935%5D%2C%20%5B126.956473797387%2C%2037.652480737339445%5D%2C%20%5B126.9738864128702%2C%2037.62949634786888%5D%2C%20%5B126.977175406416%2C%2037.62859715400388%5D%2C%20%5B126.98672705513869%2C%2037.63377641288196%5D%2C%20%5B126.9817452676551%2C%2037.65209769387776%5D%2C%20%5B126.99383903424%2C%2037.676681761199085%5D%2C%20%5B126.96734461801938%2C%2037.68969305565268%5D%2C%20%5B126.94689093217877%2C%2037.68234333447953%5D%2C%20%5B126.94191948970435%2C%2037.66797237250146%5D%2C%20%5B126.92290257733573%2C%2037.66907383915535%5D%2C%20%5B126.92470886562188%2C%2037.72916078041937%5D%2C%20%5B126.93180653905974%2C%2037.74575671706106%5D%2C%20%5B126.91088793086112%2C%2037.74418199544871%5D%2C%20%5B126.90425036668735%2C%2037.72565605361581%5D%2C%20%5B126.88536540501534%2C%2037.717034664244366%5D%2C%20%5B126.85856020555829%2C%2037.73179451375736%5D%2C%20%5B126.83772078982989%2C%2037.72529130369535%5D%5D%5D%2C%20%22type%22%3A%20%22Polygon%22%7D%2C%20%22properties%22%3A%20%7B%22base_year%22%3A%202013%2C%20%22code%22%3A%2031101%2C%20%22highlight%22%3A%20%7B%7D%2C%20%22name%22%3A%20%22%5Cuace0%5Cuc591%5Cuc2dc%5Cub355%5Cuc591%5Cuad6c%22%2C%20%22name_eng%22%3A%20%22Goyangsideogyanggu%22%2C%20%22style%22%3A%20%7B%22color%22%3A%20%22black%22%2C%20%22fillColor%22%3A%20%22%23fd8d3c%22%2C%20%22fillOpacity%22%3A%200.6%2C%20%22opacity%22%3A%201%2C%20%22weight%22%3A%201%7D%7D%2C%20%22type%22%3A%20%22Feature%22%7D%2C%20%7B%22geometry%22%3A%20%7B%22coordinates%22%3A%20%5B%5B%5B%5B126.61008573444688%2C%2037.30616739414492%5D%2C%20%5B126.58105759521007%2C%2037.2931329422869%5D%2C%20%5B126.5698046807071%2C%2037.27852472009729%5D%2C%20%5B126.55067246352256%2C%2037.27712401368454%5D%2C%20%5B126.56507568780702%2C%2037.25336773744705%5D%2C%20%5B126.56255063831487%2C%2037.239416423702146%5D%2C%20%5B126.54375626154638%2C%2037.22229105408503%5D%2C%20%5B126.546463851695%2C%2037.20350714902179%5D%2C%20%5B126.5705815554123%2C%2037.2014655738836%5D%2C%20%5B126.58721308393721%2C%2037.21775435498544%5D%2C%20%5B126.64889918632674%2C%2037.20793069915704%5D%2C%20%5B126.65235349062866%2C%2037.22264393643188%5D%2C%20%5B126.62465751982253%2C%2037.233811135502776%5D%2C%20%5B126.61085741500113%2C%2037.260209230779175%5D%2C%20%5B126.59892279766748%2C%2037.25959717398652%5D%2C%20%5B126.57228115154807%2C%2037.277020701082655%5D%2C%20%5B126.61008573444688%2C%2037.30616739414492%5D%5D%5D%2C%20%5B%5B%5B126.84283747134161%2C%2037.360869895636554%5D%2C%20%5B126.82580289305967%2C%2037.360321842249355%5D%2C%20%5B126.79105964941944%2C%2037.33699094698096%5D%2C%20%5B126.76357575956314%2C%2037.33864505297868%5D%2C%20%5B126.74059726902762%2C%2037.32685692943894%5D%2C%20%5B126.7248752674955%2C%2037.31058440885402%5D%2C%20%5B126.72765029203323%2C%2037.29949771063766%5D%2C%20%5B126.77466340206773%2C%2037.286577751987956%5D%2C%20%5B126.8184033400877%2C%2037.295179006004226%5D%2C%20%5B126.84357462735869%2C%2037.30283998653071%5D%2C%20%5B126.84283747134161%2C%2037.360869895636554%5D%5D%5D%5D%2C%20%22type%22%3A%20%22MultiPolygon%22%7D%2C%20%22properties%22%3A%20%7B%22base_year%22%3A%202013%2C%20%22code%22%3A%2031092%2C%20%22highlight%22%3A%20%7B%7D%2C%20%22name%22%3A%20%22%5Cuc548%5Cuc0b0%5Cuc2dc%5Cub2e8%5Cuc6d0%5Cuad6c%22%2C%20%22name_eng%22%3A%20%22Ansansidanwongu%22%2C%20%22style%22%3A%20%7B%22color%22%3A%20%22black%22%2C%20%22fillColor%22%3A%20%22%23fd8d3c%22%2C%20%22fillOpacity%22%3A%200.6%2C%20%22opacity%22%3A%201%2C%20%22weight%22%3A%201%7D%7D%2C%20%22type%22%3A%20%22Feature%22%7D%2C%20%7B%22geometry%22%3A%20%7B%22coordinates%22%3A%20%5B%5B%5B126.84283747134161%2C%2037.360869895636554%5D%2C%20%5B126.84357462735869%2C%2037.30283998653071%5D%2C%20%5B126.8184033400877%2C%2037.295179006004226%5D%2C%20%5B126.84641021832398%2C%2037.26433293772644%5D%2C%20%5B126.9159468889861%2C%2037.28864104563552%5D%2C%20%5B126.92946761531998%2C%2037.275967848758626%5D%2C%20%5B126.93504702033805%2C%2037.3002209928663%5D%2C%20%5B126.93252071350132%2C%2037.30423856869929%5D%2C%20%5B126.9092771218202%2C%2037.318694910599305%5D%2C%20%5B126.88015838809775%2C%2037.316795632219964%5D%2C%20%5B126.89932903785872%2C%2037.35524703438324%5D%2C%20%5B126.88400175928666%2C%2037.37340263600163%5D%2C%20%5B126.86691937294266%2C%2037.358697064350324%5D%2C%20%5B126.84283747134161%2C%2037.360869895636554%5D%5D%5D%2C%20%22type%22%3A%20%22Polygon%22%7D%2C%20%22properties%22%3A%20%7B%22base_year%22%3A%202013%2C%20%22code%22%3A%2031091%2C%20%22highlight%22%3A%20%7B%7D%2C%20%22name%22%3A%20%22%5Cuc548%5Cuc0b0%5Cuc2dc%5Cuc0c1%5Cub85d%5Cuad6c%22%2C%20%22name_eng%22%3A%20%22Ansansisangnokgu%22%2C%20%22style%22%3A%20%7B%22color%22%3A%20%22black%22%2C%20%22fillColor%22%3A%20%22%23fd8d3c%22%2C%20%22fillOpacity%22%3A%200.6%2C%20%22opacity%22%3A%201%2C%20%22weight%22%3A%201%7D%7D%2C%20%22type%22%3A%20%22Feature%22%7D%2C%20%7B%22geometry%22%3A%20%7B%22coordinates%22%3A%20%5B%5B%5B127.01215278654801%2C%2037.924817815480985%5D%2C%20%5B127.01281974367026%2C%2037.90171539201257%5D%2C%20%5B127.04837406784853%2C%2037.891090496591005%5D%2C%20%5B127.06250430862417%2C%2037.86658619508279%5D%2C%20%5B127.09509254572018%2C%2037.86843288571378%5D%2C%20%5B127.1113003891929%2C%2037.85708813371199%5D%2C%20%5B127.13067707221735%2C%2037.87115064756639%5D%2C%20%5B127.14908802054492%2C%2037.87326470277757%5D%2C%20%5B127.15777209998105%2C%2037.89291633342494%5D%2C%20%5B127.1480788721724%2C%2037.909108279220675%5D%2C%20%5B127.1240834119586%2C%2037.913726790414486%5D%2C%20%5B127.09382742820131%2C%2037.968691278173%5D%2C%20%5B127.05589127856165%2C%2037.978154747876275%5D%2C%20%5B127.02968085272437%2C%2037.9404013715077%5D%2C%20%5B127.01215278654801%2C%2037.924817815480985%5D%5D%5D%2C%20%22type%22%3A%20%22Polygon%22%7D%2C%20%22properties%22%3A%20%7B%22base_year%22%3A%202013%2C%20%22code%22%3A%2031080%2C%20%22highlight%22%3A%20%7B%7D%2C%20%22name%22%3A%20%22%5Cub3d9%5Cub450%5Cucc9c%5Cuc2dc%22%2C%20%22name_eng%22%3A%20%22Dongducheon-si%22%2C%20%22style%22%3A%20%7B%22color%22%3A%20%22black%22%2C%20%22fillColor%22%3A%20%22%23ffffb2%22%2C%20%22fillOpacity%22%3A%200.6%2C%20%22opacity%22%3A%201%2C%20%22weight%22%3A%201%7D%7D%2C%20%22type%22%3A%20%22Feature%22%7D%2C%20%7B%22geometry%22%3A%20%7B%22coordinates%22%3A%20%5B%5B%5B127.10575417734016%2C%2037.1407283236673%5D%2C%20%5B127.09127893510457%2C%2037.12882078023335%5D%2C%20%5B127.04304406837494%2C%2037.126222304219084%5D%2C%20%5B127.03746950511537%2C%2037.13336771678679%5D%2C%20%5B127.00593012741142%2C%2037.124105707924144%5D%2C%20%5B127.00102521866197%2C%2037.08973596266607%5D%2C%20%5B126.98672297136514%2C%2037.06879655242586%5D%2C%20%5B126.95290081243859%2C%2037.06545814826726%5D%2C%20%5B126.94247588185057%2C%2037.057958386286046%5D%2C%20%5B126.90291323437098%2C%2037.06724127811693%5D%2C%20%5B126.8846211892453%2C%2037.05795114472113%5D%2C%20%5B126.85940022959993%2C%2037.022131594683266%5D%2C%20%5B126.84014623559027%2C%2037.01079503386266%5D%2C%20%5B126.79899352215931%2C%2037.0092005991418%5D%2C%20%5B126.79429045878248%2C%2037.002375311346476%5D%2C%20%5B126.82743835677269%2C%2036.984262588052744%5D%2C%20%5B126.84836832892641%2C%2036.9565513163949%5D%2C%20%5B126.86448993272457%2C%2036.94597945683675%5D%2C%20%5B126.86630821363053%2C%2036.92982214702114%5D%2C%20%5B126.88907059918661%2C%2036.933221090048846%5D%2C%20%5B126.90658712032098%2C%2036.92311369494381%5D%2C%20%5B126.91083667953751%2C%2036.90208156398722%5D%2C%20%5B126.99750165503437%2C%2036.93264776697853%5D%2C%20%5B127.03383288513524%2C%2036.925469265383704%5D%2C%20%5B127.07603768486679%2C%2036.935523531907464%5D%2C%20%5B127.11553676419611%2C%2036.969747255651924%5D%2C%20%5B127.1216062947912%2C%2036.96626164975953%5D%2C%20%5B127.13779801966723%2C%2036.99041291045364%5D%2C%20%5B127.15496570056612%2C%2036.99487383420599%5D%2C%20%5B127.14747724307254%2C%2037.0138188945719%5D%2C%20%5B127.15517998352519%2C%2037.026613262831916%5D%2C%20%5B127.10740090841584%2C%2037.0328875639127%5D%2C%20%5B127.12948838054707%2C%2037.04966079815856%5D%2C%20%5B127.12516729074011%2C%2037.08849523189945%5D%2C%20%5B127.11116461643066%2C%2037.123859739458304%5D%2C%20%5B127.12480483538663%2C%2037.14166379699704%5D%2C%20%5B127.10575417734016%2C%2037.1407283236673%5D%5D%5D%2C%20%22type%22%3A%20%22Polygon%22%7D%2C%20%22properties%22%3A%20%7B%22base_year%22%3A%202013%2C%20%22code%22%3A%2031070%2C%20%22highlight%22%3A%20%7B%7D%2C%20%22name%22%3A%20%22%5Cud3c9%5Cud0dd%5Cuc2dc%22%2C%20%22name_eng%22%3A%20%22Pyeongtaek-si%22%2C%20%22style%22%3A%20%7B%22color%22%3A%20%22black%22%2C%20%22fillColor%22%3A%20%22%23fd8d3c%22%2C%20%22fillOpacity%22%3A%200.6%2C%20%22opacity%22%3A%201%2C%20%22weight%22%3A%201%7D%7D%2C%20%22type%22%3A%20%22Feature%22%7D%2C%20%7B%22geometry%22%3A%20%7B%22coordinates%22%3A%20%5B%5B%5B126.83549485076196%2C%2037.474098236975095%5D%2C%20%5B126.8280587234361%2C%2037.456596986921056%5D%2C%20%5B126.8484052155556%2C%2037.40965572330444%5D%2C%20%5B126.85964157227416%2C%2037.398615706957116%5D%2C%20%5B126.879093453746%2C%2037.399239167854816%5D%2C%20%5B126.9025831711697%2C%2037.434549366349124%5D%2C%20%5B126.87683271502428%2C%2037.482576591607305%5D%2C%20%5B126.84762676054953%2C%2037.47146723936323%5D%2C%20%5B126.83549485076196%2C%2037.474098236975095%5D%5D%5D%2C%20%22type%22%3A%20%22Polygon%22%7D%2C%20%22properties%22%3A%20%7B%22base_year%22%3A%202013%2C%20%22code%22%3A%2031060%2C%20%22highlight%22%3A%20%7B%7D%2C%20%22name%22%3A%20%22%5Cuad11%5Cuba85%5Cuc2dc%22%2C%20%22name_eng%22%3A%20%22Gwangmyeong-si%22%2C%20%22style%22%3A%20%7B%22color%22%3A%20%22black%22%2C%20%22fillColor%22%3A%20%22%23fd8d3c%22%2C%20%22fillOpacity%22%3A%200.6%2C%20%22opacity%22%3A%201%2C%20%22weight%22%3A%201%7D%7D%2C%20%22type%22%3A%20%22Feature%22%7D%2C%20%7B%22geometry%22%3A%20%7B%22coordinates%22%3A%20%5B%5B%5B126.76979180579352%2C%2037.55139183008809%5D%2C%20%5B126.76241572251033%2C%2037.52129679978721%5D%2C%20%5B126.76236682035514%2C%2037.51516388559986%5D%2C%20%5B126.79948253277924%2C%2037.50297839620806%5D%2C%20%5B126.82504736331406%2C%2037.50302612640443%5D%2C%20%5B126.82688081517314%2C%2037.50548972232896%5D%2C%20%5B126.8242331426722%2C%2037.53788078753248%5D%2C%20%5B126.77324417717703%2C%2037.5459123450554%5D%2C%20%5B126.76979180579352%2C%2037.55139183008809%5D%5D%5D%2C%20%22type%22%3A%20%22Polygon%22%7D%2C%20%22properties%22%3A%20%7B%22base_year%22%3A%202013%2C%20%22code%22%3A%2031053%2C%20%22highlight%22%3A%20%7B%7D%2C%20%22name%22%3A%20%22%5Cubd80%5Cucc9c%5Cuc2dc%5Cuc624%5Cuc815%5Cuad6c%22%2C%20%22name_eng%22%3A%20%22Bucheonsiojeonggu%22%2C%20%22style%22%3A%20%7B%22color%22%3A%20%22black%22%2C%20%22fillColor%22%3A%20%22%23fecc5c%22%2C%20%22fillOpacity%22%3A%200.6%2C%20%22opacity%22%3A%201%2C%20%22weight%22%3A%201%7D%7D%2C%20%22type%22%3A%20%22Feature%22%7D%2C%20%7B%22geometry%22%3A%20%7B%22coordinates%22%3A%20%5B%5B%5B126.82264796791348%2C%2037.4878476492147%5D%2C%20%5B126.80525536231318%2C%2037.479599517462205%5D%2C%20%5B126.74449661749888%2C%2037.48568861244349%5D%2C%20%5B126.76982226270037%2C%2037.468955688388995%5D%2C%20%5B126.78024890848009%2C%2037.469000573789124%5D%2C%20%5B126.8280587234361%2C%2037.456596986921056%5D%2C%20%5B126.83549485076196%2C%2037.474098236975095%5D%2C%20%5B126.82264796791348%2C%2037.4878476492147%5D%5D%5D%2C%20%22type%22%3A%20%22Polygon%22%7D%2C%20%22properties%22%3A%20%7B%22base_year%22%3A%202013%2C%20%22code%22%3A%2031052%2C%20%22highlight%22%3A%20%7B%7D%2C%20%22name%22%3A%20%22%5Cubd80%5Cucc9c%5Cuc2dc%5Cuc18c%5Cuc0ac%5Cuad6c%22%2C%20%22name_eng%22%3A%20%22Bucheonsisosagu%22%2C%20%22style%22%3A%20%7B%22color%22%3A%20%22black%22%2C%20%22fillColor%22%3A%20%22%23fecc5c%22%2C%20%22fillOpacity%22%3A%200.6%2C%20%22opacity%22%3A%201%2C%20%22weight%22%3A%201%7D%7D%2C%20%22type%22%3A%20%22Feature%22%7D%2C%20%7B%22geometry%22%3A%20%7B%22coordinates%22%3A%20%5B%5B%5B126.76236682035514%2C%2037.51516388559986%5D%2C%20%5B126.74717949233765%2C%2037.511283448979185%5D%2C%20%5B126.74449661749888%2C%2037.48568861244349%5D%2C%20%5B126.80525536231318%2C%2037.479599517462205%5D%2C%20%5B126.82264796791348%2C%2037.4878476492147%5D%2C%20%5B126.82504736331406%2C%2037.50302612640443%5D%2C%20%5B126.79948253277924%2C%2037.50297839620806%5D%2C%20%5B126.76236682035514%2C%2037.51516388559986%5D%5D%5D%2C%20%22type%22%3A%20%22Polygon%22%7D%2C%20%22properties%22%3A%20%7B%22base_year%22%3A%202013%2C%20%22code%22%3A%2031051%2C%20%22highlight%22%3A%20%7B%7D%2C%20%22name%22%3A%20%22%5Cubd80%5Cucc9c%5Cuc2dc%5Cuc6d0%5Cubbf8%5Cuad6c%22%2C%20%22name_eng%22%3A%20%22Bucheonsiwonmigu%22%2C%20%22style%22%3A%20%7B%22color%22%3A%20%22black%22%2C%20%22fillColor%22%3A%20%22%23fd8d3c%22%2C%20%22fillOpacity%22%3A%200.6%2C%20%22opacity%22%3A%201%2C%20%22weight%22%3A%201%7D%7D%2C%20%22type%22%3A%20%22Feature%22%7D%2C%20%7B%22geometry%22%3A%20%7B%22coordinates%22%3A%20%5B%5B%5B126.95000001010182%2C%2037.43613451165719%5D%2C%20%5B126.949527627869%2C%2037.419039331795105%5D%2C%20%5B126.92899112782491%2C%2037.41260755123917%5D%2C%20%5B126.9429122120182%2C%2037.37630880537034%5D%2C%20%5B126.96423328330341%2C%2037.358735102948096%5D%2C%20%5B126.98466887829045%2C%2037.39785909018114%5D%2C%20%5B126.96342494806345%2C%2037.42289846046814%5D%2C%20%5B126.96520439085143%2C%2037.438249784006246%5D%2C%20%5B126.95000001010182%2C%2037.43613451165719%5D%5D%5D%2C%20%22type%22%3A%20%22Polygon%22%7D%2C%20%22properties%22%3A%20%7B%22base_year%22%3A%202013%2C%20%22code%22%3A%2031042%2C%20%22highlight%22%3A%20%7B%7D%2C%20%22name%22%3A%20%22%5Cuc548%5Cuc591%5Cuc2dc%5Cub3d9%5Cuc548%5Cuad6c%22%2C%20%22name_eng%22%3A%20%22Anyangsidongangu%22%2C%20%22style%22%3A%20%7B%22color%22%3A%20%22black%22%2C%20%22fillColor%22%3A%20%22%23fd8d3c%22%2C%20%22fillOpacity%22%3A%200.6%2C%20%22opacity%22%3A%201%2C%20%22weight%22%3A%201%7D%7D%2C%20%22type%22%3A%20%22Feature%22%7D%2C%20%7B%22geometry%22%3A%20%7B%22coordinates%22%3A%20%5B%5B%5B126.93084408056525%2C%2037.447382928333994%5D%2C%20%5B126.9025831711697%2C%2037.434549366349124%5D%2C%20%5B126.879093453746%2C%2037.399239167854816%5D%2C%20%5B126.88400175928666%2C%2037.37340263600163%5D%2C%20%5B126.89932903785872%2C%2037.35524703438324%5D%2C%20%5B126.9163870114383%2C%2037.37253977179312%5D%2C%20%5B126.9429122120182%2C%2037.37630880537034%5D%2C%20%5B126.92899112782491%2C%2037.41260755123917%5D%2C%20%5B126.949527627869%2C%2037.419039331795105%5D%2C%20%5B126.95000001010182%2C%2037.43613451165719%5D%2C%20%5B126.93084408056525%2C%2037.447382928333994%5D%5D%5D%2C%20%22type%22%3A%20%22Polygon%22%7D%2C%20%22properties%22%3A%20%7B%22base_year%22%3A%202013%2C%20%22code%22%3A%2031041%2C%20%22highlight%22%3A%20%7B%7D%2C%20%22name%22%3A%20%22%5Cuc548%5Cuc591%5Cuc2dc%5Cub9cc%5Cuc548%5Cuad6c%22%2C%20%22name_eng%22%3A%20%22Anyangsimanangu%22%2C%20%22style%22%3A%20%7B%22color%22%3A%20%22black%22%2C%20%22fillColor%22%3A%20%22%23fecc5c%22%2C%20%22fillOpacity%22%3A%200.6%2C%20%22opacity%22%3A%201%2C%20%22weight%22%3A%201%7D%7D%2C%20%22type%22%3A%20%22Feature%22%7D%2C%20%7B%22geometry%22%3A%20%7B%22coordinates%22%3A%20%5B%5B%5B127.10645686970089%2C%2037.776897580693586%5D%2C%20%5B127.05297245855259%2C%2037.75816755994106%5D%2C%20%5B127.02081299427202%2C%2037.76581418787214%5D%2C%20%5B127.00437834122181%2C%2037.75999833868866%5D%2C%20%5B127.00430024727942%2C%2037.73792676357612%5D%2C%20%5B127.01477890845196%2C%2037.722832167524864%5D%2C%20%5B127.01795099203432%2C%2037.69824412775662%5D%2C%20%5B127.05288479710485%2C%2037.68423857084347%5D%2C%20%5B127.0838752703195%2C%2037.69359534202034%5D%2C%20%5B127.12788299600184%2C%2037.72469254066713%5D%2C%20%5B127.13060037316637%2C%2037.74504865443316%5D%2C%20%5B127.14882403466048%2C%2037.75206030443599%5D%2C%20%5B127.14177735342194%2C%2037.76129795333661%5D%2C%20%5B127.10645686970089%2C%2037.776897580693586%5D%5D%5D%2C%20%22type%22%3A%20%22Polygon%22%7D%2C%20%22properties%22%3A%20%7B%22base_year%22%3A%202013%2C%20%22code%22%3A%2031030%2C%20%22highlight%22%3A%20%7B%7D%2C%20%22name%22%3A%20%22%5Cuc758%5Cuc815%5Cubd80%5Cuc2dc%22%2C%20%22name_eng%22%3A%20%22Uijeongbu-si%22%2C%20%22style%22%3A%20%7B%22color%22%3A%20%22black%22%2C%20%22fillColor%22%3A%20%22%23fd8d3c%22%2C%20%22fillOpacity%22%3A%200.6%2C%20%22opacity%22%3A%201%2C%20%22weight%22%3A%201%7D%7D%2C%20%22type%22%3A%20%22Feature%22%7D%2C%20%7B%22geometry%22%3A%20%7B%22coordinates%22%3A%20%5B%5B%5B127.17637586604776%2C%2037.40261052326208%5D%2C%20%5B127.13644513246508%2C%2037.41439912020601%5D%2C%20%5B127.12007310029206%2C%2037.41239460373164%5D%2C%20%5B127.08636547533024%2C%2037.39425612519828%5D%2C%20%5B127.04580444799605%2C%2037.40139072056455%5D%2C%20%5B127.03004539569396%2C%2037.36932312139811%5D%2C%20%5B127.07299151640797%2C%2037.35485426174942%5D%2C%20%5B127.11899182435063%2C%2037.33059044022546%5D%2C%20%5B127.13845652996186%2C%2037.336816804055495%5D%2C%20%5B127.13605700285002%2C%2037.35565614606753%5D%2C%20%5B127.15506886795262%2C%2037.36076173403712%5D%2C%20%5B127.17637586604776%2C%2037.40261052326208%5D%5D%5D%2C%20%22type%22%3A%20%22Polygon%22%7D%2C%20%22properties%22%3A%20%7B%22base_year%22%3A%202013%2C%20%22code%22%3A%2031023%2C%20%22highlight%22%3A%20%7B%7D%2C%20%22name%22%3A%20%22%5Cuc131%5Cub0a8%5Cuc2dc%5Cubd84%5Cub2f9%5Cuad6c%22%2C%20%22name_eng%22%3A%20%22Seongnamsibundanggu%22%2C%20%22style%22%3A%20%7B%22color%22%3A%20%22black%22%2C%20%22fillColor%22%3A%20%22%23fd8d3c%22%2C%20%22fillOpacity%22%3A%200.6%2C%20%22opacity%22%3A%201%2C%20%22weight%22%3A%201%7D%7D%2C%20%22type%22%3A%20%22Feature%22%7D%2C%20%7B%22geometry%22%3A%20%7B%22coordinates%22%3A%20%5B%5B%5B127.17807401290999%2C%2037.46939077799968%5D%2C%20%5B127.1582459546436%2C%2037.44164184148139%5D%2C%20%5B127.12050056435223%2C%2037.429512812695165%5D%2C%20%5B127.12007310029206%2C%2037.41239460373164%5D%2C%20%5B127.13644513246508%2C%2037.41439912020601%5D%2C%20%5B127.17637586604776%2C%2037.40261052326208%5D%2C%20%5B127.19594474070001%2C%2037.421269309284035%5D%2C%20%5B127.19808034941583%2C%2037.441066604883545%5D%2C%20%5B127.1831716097913%2C%2037.47048077053623%5D%2C%20%5B127.17807401290999%2C%2037.46939077799968%5D%5D%5D%2C%20%22type%22%3A%20%22Polygon%22%7D%2C%20%22properties%22%3A%20%7B%22base_year%22%3A%202013%2C%20%22code%22%3A%2031022%2C%20%22highlight%22%3A%20%7B%7D%2C%20%22name%22%3A%20%22%5Cuc131%5Cub0a8%5Cuc2dc%5Cuc911%5Cuc6d0%5Cuad6c%22%2C%20%22name_eng%22%3A%20%22Seongnamsijungwongu%22%2C%20%22style%22%3A%20%7B%22color%22%3A%20%22black%22%2C%20%22fillColor%22%3A%20%22%23fecc5c%22%2C%20%22fillOpacity%22%3A%200.6%2C%20%22opacity%22%3A%201%2C%20%22weight%22%3A%201%7D%7D%2C%20%22type%22%3A%20%22Feature%22%7D%2C%20%7B%22geometry%22%3A%20%7B%22coordinates%22%3A%20%5B%5B%5B127.17807401290999%2C%2037.46939077799968%5D%2C%20%5B127.14206058413274%2C%2037.47089819098501%5D%2C%20%5B127.12440571080893%2C%2037.46240445587048%5D%2C%20%5B127.09842759318751%2C%2037.45862253857461%5D%2C%20%5B127.09046928565951%2C%2037.44296826114185%5D%2C%20%5B127.06778107605433%2C%2037.426197424057314%5D%2C%20%5B127.04957232987142%2C%2037.42805836845694%5D%2C%20%5B127.04377994345505%2C%2037.41281928664435%5D%2C%20%5B127.04580444799605%2C%2037.40139072056455%5D%2C%20%5B127.08636547533024%2C%2037.39425612519828%5D%2C%20%5B127.12007310029206%2C%2037.41239460373164%5D%2C%20%5B127.12050056435223%2C%2037.429512812695165%5D%2C%20%5B127.1582459546436%2C%2037.44164184148139%5D%2C%20%5B127.17807401290999%2C%2037.46939077799968%5D%5D%5D%2C%20%22type%22%3A%20%22Polygon%22%7D%2C%20%22properties%22%3A%20%7B%22base_year%22%3A%202013%2C%20%22code%22%3A%2031021%2C%20%22highlight%22%3A%20%7B%7D%2C%20%22name%22%3A%20%22%5Cuc131%5Cub0a8%5Cuc2dc%5Cuc218%5Cuc815%5Cuad6c%22%2C%20%22name_eng%22%3A%20%22Seongnamsisujeonggu%22%2C%20%22style%22%3A%20%7B%22color%22%3A%20%22black%22%2C%20%22fillColor%22%3A%20%22%23fecc5c%22%2C%20%22fillOpacity%22%3A%200.6%2C%20%22opacity%22%3A%201%2C%20%22weight%22%3A%201%7D%7D%2C%20%22type%22%3A%20%22Feature%22%7D%2C%20%7B%22geometry%22%3A%20%7B%22coordinates%22%3A%20%5B%5B%5B127.09199113357242%2C%2037.295585212583866%5D%2C%20%5B127.06269400142102%2C%2037.293755190822594%5D%2C%20%5B127.06304327683587%2C%2037.30610813773979%5D%2C%20%5B127.04202153059128%2C%2037.318511731862884%5D%2C%20%5B127.03603479622558%2C%2037.29037288813064%5D%2C%20%5B127.04615738146016%2C%2037.271876342625866%5D%2C%20%5B127.03877682368464%2C%2037.253688200306506%5D%2C%20%5B127.04178611512381%2C%2037.24066886027782%5D%2C%20%5B127.06878518378286%2C%2037.23731339587258%5D%2C%20%5B127.08680542938673%2C%2037.253775982641194%5D%2C%20%5B127.06718840393803%2C%2037.26860748709257%5D%2C%20%5B127.09104881579566%2C%2037.284308786190785%5D%2C%20%5B127.09199113357242%2C%2037.295585212583866%5D%5D%5D%2C%20%22type%22%3A%20%22Polygon%22%7D%2C%20%22properties%22%3A%20%7B%22base_year%22%3A%202013%2C%20%22code%22%3A%2031014%2C%20%22highlight%22%3A%20%7B%7D%2C%20%22name%22%3A%20%22%5Cuc218%5Cuc6d0%5Cuc2dc%5Cuc601%5Cud1b5%5Cuad6c%22%2C%20%22name_eng%22%3A%20%22Suwonsiyeongtonggu%22%2C%20%22style%22%3A%20%7B%22color%22%3A%20%22black%22%2C%20%22fillColor%22%3A%20%22%23fecc5c%22%2C%20%22fillOpacity%22%3A%200.6%2C%20%22opacity%22%3A%201%2C%20%22weight%22%3A%201%7D%7D%2C%20%22type%22%3A%20%22Feature%22%7D%2C%20%7B%22geometry%22%3A%20%7B%22coordinates%22%3A%20%5B%5B%5B127.03603479622558%2C%2037.29037288813064%5D%2C%20%5B127.01130838681644%2C%2037.28269167363659%5D%2C%20%5B126.98086459483812%2C%2037.283743689221225%5D%2C%20%5B127.03877682368464%2C%2037.253688200306506%5D%2C%20%5B127.04615738146016%2C%2037.271876342625866%5D%2C%20%5B127.03603479622558%2C%2037.29037288813064%5D%5D%5D%2C%20%22type%22%3A%20%22Polygon%22%7D%2C%20%22properties%22%3A%20%7B%22base_year%22%3A%202013%2C%20%22code%22%3A%2031013%2C%20%22highlight%22%3A%20%7B%7D%2C%20%22name%22%3A%20%22%5Cuc218%5Cuc6d0%5Cuc2dc%5Cud314%5Cub2ec%5Cuad6c%22%2C%20%22name_eng%22%3A%20%22Suwonsipaldalgu%22%2C%20%22style%22%3A%20%7B%22color%22%3A%20%22black%22%2C%20%22fillColor%22%3A%20%22%23fecc5c%22%2C%20%22fillOpacity%22%3A%200.6%2C%20%22opacity%22%3A%201%2C%20%22weight%22%3A%201%7D%7D%2C%20%22type%22%3A%20%22Feature%22%7D%2C%20%7B%22geometry%22%3A%20%7B%22coordinates%22%3A%20%5B%5B%5B126.96633916587045%2C%2037.29989574204989%5D%2C%20%5B126.93504702033805%2C%2037.3002209928663%5D%2C%20%5B126.92946761531998%2C%2037.275967848758626%5D%2C%20%5B126.93110125729105%2C%2037.260824951129344%5D%2C%20%5B126.95229769733274%2C%2037.2524826245201%5D%2C%20%5B126.97491964707861%2C%2037.22588531228192%5D%2C%20%5B127.02475029106094%2C%2037.22207898080851%5D%2C%20%5B127.04178611512381%2C%2037.24066886027782%5D%2C%20%5B127.03877682368464%2C%2037.253688200306506%5D%2C%20%5B126.98086459483812%2C%2037.283743689221225%5D%2C%20%5B126.96633916587045%2C%2037.29989574204989%5D%5D%5D%2C%20%22type%22%3A%20%22Polygon%22%7D%2C%20%22properties%22%3A%20%7B%22base_year%22%3A%202013%2C%20%22code%22%3A%2031012%2C%20%22highlight%22%3A%20%7B%7D%2C%20%22name%22%3A%20%22%5Cuc218%5Cuc6d0%5Cuc2dc%5Cuad8c%5Cuc120%5Cuad6c%22%2C%20%22name_eng%22%3A%20%22Suwonsigwonseongu%22%2C%20%22style%22%3A%20%7B%22color%22%3A%20%22black%22%2C%20%22fillColor%22%3A%20%22%23fd8d3c%22%2C%20%22fillOpacity%22%3A%200.6%2C%20%22opacity%22%3A%201%2C%20%22weight%22%3A%201%7D%7D%2C%20%22type%22%3A%20%22Feature%22%7D%2C%20%7B%22geometry%22%3A%20%7B%22coordinates%22%3A%20%5B%5B%5B127.02090967499298%2C%2037.348741503905366%5D%2C%20%5B126.98303616696394%2C%2037.32376927812144%5D%2C%20%5B126.96633916587045%2C%2037.29989574204989%5D%2C%20%5B126.98086459483812%2C%2037.283743689221225%5D%2C%20%5B127.01130838681644%2C%2037.28269167363659%5D%2C%20%5B127.03603479622558%2C%2037.29037288813064%5D%2C%20%5B127.04202153059128%2C%2037.318511731862884%5D%2C%20%5B127.03554038078946%2C%2037.341941908872045%5D%2C%20%5B127.02090967499298%2C%2037.348741503905366%5D%5D%5D%2C%20%22type%22%3A%20%22Polygon%22%7D%2C%20%22properties%22%3A%20%7B%22base_year%22%3A%202013%2C%20%22code%22%3A%2031011%2C%20%22highlight%22%3A%20%7B%7D%2C%20%22name%22%3A%20%22%5Cuc218%5Cuc6d0%5Cuc2dc%5Cuc7a5%5Cuc548%5Cuad6c%22%2C%20%22name_eng%22%3A%20%22Suwonsijangangu%22%2C%20%22style%22%3A%20%7B%22color%22%3A%20%22black%22%2C%20%22fillColor%22%3A%20%22%23fecc5c%22%2C%20%22fillOpacity%22%3A%200.6%2C%20%22opacity%22%3A%201%2C%20%22weight%22%3A%201%7D%7D%2C%20%22type%22%3A%20%22Feature%22%7D%5D%2C%20%22type%22%3A%20%22FeatureCollection%22%7D%2C%0A%20%20%20%20%20%20%20%20%20%20%20%20%7B%0A%20%20%20%20%20%20%20%20%20%20%20%20%7D%0A%20%20%20%20%20%20%20%20%29.addTo%28choropleth_b488141bcd834abdad1c99c0bb49cccf%20%29%3B%0A%20%20%20%20%20%20%20%20geo_json_7b908abce13e41ac996e428b077e8ad2.setStyle%28function%28feature%29%20%7Breturn%20feature.properties.style%3B%7D%29%3B%0A%20%20%20%20%20%20%20%20%0A%20%20%20%20%0A%20%20%20%20var%20color_map_b9038b6b94214bff92e5b0b2d7c7ef52%20%3D%20%7B%7D%3B%0A%0A%20%20%20%20%0A%20%20%20%20color_map_b9038b6b94214bff92e5b0b2d7c7ef52.color%20%3D%20d3.scale.threshold%28%29%0A%20%20%20%20%20%20%20%20%20%20%20%20%20%20.domain%28%5B10000.0%2C%2011382.765531062125%2C%2012765.531062124248%2C%2014148.296593186373%2C%2015531.062124248496%2C%2016913.827655310623%2C%2018296.593186372746%2C%2019679.358717434872%2C%2021062.12424849699%2C%2022444.88977955912%2C%2023827.655310621245%2C%2025210.420841683364%2C%2026593.18637274549%2C%2027975.951903807614%2C%2029358.71743486974%2C%2030741.482965931864%2C%2032124.248496993987%2C%2033507.01402805612%2C%2034889.77955911824%2C%2036272.545090180356%2C%2037655.31062124249%2C%2039038.07615230461%2C%2040420.84168336673%2C%2041803.60721442886%2C%2043186.37274549098%2C%2044569.13827655311%2C%2045951.90380761523%2C%2047334.669338677355%2C%2048717.43486973948%2C%2050100.2004008016%2C%2051482.96593186373%2C%2052865.731462925854%2C%2054248.496993987974%2C%2055631.2625250501%2C%2057014.02805611223%2C%2058396.79358717435%2C%2059779.55911823647%2C%2061162.3246492986%2C%2062545.09018036072%2C%2063927.855711422846%2C%2065310.62124248497%2C%2066693.3867735471%2C%2068076.15230460922%2C%2069458.91783567134%2C%2070841.68336673346%2C%2072224.44889779559%2C%2073607.21442885773%2C%2074989.97995991984%2C%2076372.74549098196%2C%2077755.51102204408%2C%2079138.27655310622%2C%2080521.04208416834%2C%2081903.80761523046%2C%2083286.57314629259%2C%2084669.33867735471%2C%2086052.10420841683%2C%2087434.86973947896%2C%2088817.63527054108%2C%2090200.4008016032%2C%2091583.16633266534%2C%2092965.93186372746%2C%2094348.69739478957%2C%2095731.46292585171%2C%2097114.22845691383%2C%2098496.99398797595%2C%2099879.75951903808%2C%20101262.5250501002%2C%20102645.29058116232%2C%20104028.05611222445%2C%20105410.82164328657%2C%20106793.5871743487%2C%20108176.35270541083%2C%20109559.11823647295%2C%20110941.88376753507%2C%20112324.6492985972%2C%20113707.41482965932%2C%20115090.18036072144%2C%20116472.94589178357%2C%20117855.71142284569%2C%20119238.47695390781%2C%20120621.24248496995%2C%20122004.00801603206%2C%20123386.77354709418%2C%20124769.53907815632%2C%20126152.30460921844%2C%20127535.07014028056%2C%20128917.83567134269%2C%20130300.60120240481%2C%20131683.36673346692%2C%20133066.13226452906%2C%20134448.89779559118%2C%20135831.6633266533%2C%20137214.42885771545%2C%20138597.19438877754%2C%20139979.9599198397%2C%20141362.7254509018%2C%20142745.49098196393%2C%20144128.25651302605%2C%20145511.02204408817%2C%20146893.7875751503%2C%20148276.55310621244%2C%20149659.31863727455%2C%20151042.08416833667%2C%20152424.8496993988%2C%20153807.6152304609%2C%20155190.38076152303%2C%20156573.14629258518%2C%20157955.9118236473%2C%20159338.67735470942%2C%20160721.44288577154%2C%20162104.20841683366%2C%20163486.97394789578%2C%20164869.73947895793%2C%20166252.50501002005%2C%20167635.27054108217%2C%20169018.03607214428%2C%20170400.8016032064%2C%20171783.56713426852%2C%20173166.33266533067%2C%20174549.0981963928%2C%20175931.8637274549%2C%20177314.62925851703%2C%20178697.39478957915%2C%20180080.16032064127%2C%20181462.92585170342%2C%20182845.69138276554%2C%20184228.45691382766%2C%20185611.22244488978%2C%20186993.9879759519%2C%20188376.75350701401%2C%20189759.51903807616%2C%20191142.28456913828%2C%20192525.0501002004%2C%20193907.81563126252%2C%20195290.58116232464%2C%20196673.34669338676%2C%20198056.1122244489%2C%20199438.87775551103%2C%20200821.64328657315%2C%20202204.40881763527%2C%20203587.1743486974%2C%20204969.9398797595%2C%20206352.70541082165%2C%20207735.47094188377%2C%20209118.2364729459%2C%20210501.002004008%2C%20211883.76753507013%2C%20213266.53306613225%2C%20214649.2985971944%2C%20216032.06412825652%2C%20217414.82965931864%2C%20218797.59519038076%2C%20220180.36072144288%2C%20221563.126252505%2C%20222945.89178356715%2C%20224328.65731462926%2C%20225711.42284569138%2C%20227094.1883767535%2C%20228476.95390781562%2C%20229859.71943887774%2C%20231242.4849699399%2C%20232625.250501002%2C%20234008.01603206413%2C%20235390.78156312625%2C%20236773.54709418837%2C%20238156.3126252505%2C%20239539.07815631264%2C%20240921.84368737476%2C%20242304.60921843688%2C%20243687.374749499%2C%20245070.1402805611%2C%20246452.90581162323%2C%20247835.67134268538%2C%20249218.4368737475%2C%20250601.20240480962%2C%20251983.96793587174%2C%20253366.73346693386%2C%20254749.49899799598%2C%20256132.26452905813%2C%20257515.03006012025%2C%20258897.79559118237%2C%20260280.5611222445%2C%20261663.3266533066%2C%20263046.09218436875%2C%20264428.8577154309%2C%20265811.623246493%2C%20267194.3887775551%2C%20268577.15430861723%2C%20269959.9198396794%2C%20271342.68537074147%2C%20272725.4509018036%2C%20274108.2164328657%2C%20275490.98196392786%2C%20276873.74749499%2C%20278256.5130260521%2C%20279639.27855711424%2C%20281022.04408817634%2C%20282404.8096192385%2C%20283787.5751503006%2C%20285170.3406813627%2C%20286553.1062124249%2C%20287935.87174348696%2C%20289318.6372745491%2C%20290701.4028056112%2C%20292084.16833667335%2C%20293466.9338677355%2C%20294849.6993987976%2C%20296232.46492985974%2C%20297615.2304609218%2C%20298997.995991984%2C%20300380.76152304607%2C%20301763.5270541082%2C%20303146.29258517036%2C%20304529.05811623245%2C%20305911.8236472946%2C%20307294.5891783567%2C%20308677.35470941884%2C%20310060.120240481%2C%20311442.8857715431%2C%20312825.6513026052%2C%20314208.4168336673%2C%20315591.18236472947%2C%20316973.94789579156%2C%20318356.7134268537%2C%20319739.47895791585%2C%20321122.24448897794%2C%20322505.0100200401%2C%20323887.7755511022%2C%20325270.54108216433%2C%20326653.3066132265%2C%20328036.07214428857%2C%20329418.8376753507%2C%20330801.6032064128%2C%20332184.36873747496%2C%20333567.13426853705%2C%20334949.8997995992%2C%20336332.66533066134%2C%20337715.43086172343%2C%20339098.1963927856%2C%20340480.9619238477%2C%20341863.7274549098%2C%20343246.49298597197%2C%20344629.25851703406%2C%20346012.0240480962%2C%20347394.7895791583%2C%20348777.55511022045%2C%20350160.32064128254%2C%20351543.0861723447%2C%20352925.85170340684%2C%20354308.6172344689%2C%20355691.3827655311%2C%20357074.14829659316%2C%20358456.9138276553%2C%20359839.67935871746%2C%20361222.44488977955%2C%20362605.2104208417%2C%20363987.9759519038%2C%20365370.74148296594%2C%20366753.50701402803%2C%20368136.2725450902%2C%20369519.0380761523%2C%20370901.8036072144%2C%20372284.56913827657%2C%20373667.33466933866%2C%20375050.1002004008%2C%20376432.86573146295%2C%20377815.63126252504%2C%20379198.3967935872%2C%20380581.1623246493%2C%20381963.92785571143%2C%20383346.6933867735%2C%20384729.45891783567%2C%20386112.2244488978%2C%20387494.9899799599%2C%20388877.75551102206%2C%20390260.52104208415%2C%20391643.2865731463%2C%20393026.05210420844%2C%20394408.81763527053%2C%20395791.5831663327%2C%20397174.3486973948%2C%20398557.1142284569%2C%20399939.879759519%2C%20401322.64529058116%2C%20402705.4108216433%2C%20404088.1763527054%2C%20405470.94188376755%2C%20406853.70741482964%2C%20408236.4729458918%2C%20409619.23847695393%2C%20411002.004008016%2C%20412384.7695390782%2C%20413767.53507014026%2C%20415150.3006012024%2C%20416533.0661322645%2C%20417915.83166332665%2C%20419298.5971943888%2C%20420681.3627254509%2C%20422064.12825651304%2C%20423446.8937875751%2C%20424829.6593186373%2C%20426212.4248496994%2C%20427595.1903807615%2C%20428977.95591182366%2C%20430360.72144288576%2C%20431743.4869739479%2C%20433126.25250501%2C%20434509.01803607214%2C%20435891.7835671343%2C%20437274.5490981964%2C%20438657.31462925853%2C%20440040.0801603206%2C%20441422.84569138277%2C%20442805.6112224449%2C%20444188.376753507%2C%20445571.14228456916%2C%20446953.90781563125%2C%20448336.6733466934%2C%20449719.4388777555%2C%20451102.20440881763%2C%20452484.9699398798%2C%20453867.7354709419%2C%20455250.501002004%2C%20456633.2665330661%2C%20458016.03206412826%2C%20459398.7975951904%2C%20460781.5631262525%2C%20462164.32865731465%2C%20463547.09418837674%2C%20464929.8597194389%2C%20466312.625250501%2C%20467695.3907815631%2C%20469078.1563126253%2C%20470460.92184368736%2C%20471843.6873747495%2C%20473226.4529058116%2C%20474609.21843687375%2C%20475991.9839679359%2C%20477374.749498998%2C%20478757.51503006014%2C%20480140.2805611222%2C%20481523.0460921844%2C%20482905.81162324647%2C%20484288.5771543086%2C%20485671.34268537076%2C%20487054.10821643285%2C%20488436.873747495%2C%20489819.6392785571%2C%20491202.40480961924%2C%20492585.1703406814%2C%20493967.9358717435%2C%20495350.70140280563%2C%20496733.4669338677%2C%20498116.23246492987%2C%20499498.99799599196%2C%20500881.7635270541%2C%20502264.52905811626%2C%20503647.29458917835%2C%20505030.0601202405%2C%20506412.8256513026%2C%20507795.59118236473%2C%20509178.3567134269%2C%20510561.122244489%2C%20511943.8877755511%2C%20513326.6533066132%2C%20514709.41883767536%2C%20516092.18436873745%2C%20517474.9498997996%2C%20518857.71543086175%2C%20520240.48096192384%2C%20521623.246492986%2C%20523006.0120240481%2C%20524388.7775551102%2C%20525771.5430861723%2C%20527154.3086172345%2C%20528537.0741482966%2C%20529919.8396793588%2C%20531302.6052104209%2C%20532685.3707414829%2C%20534068.1362725451%2C%20535450.9018036072%2C%20536833.6673346694%2C%20538216.4328657314%2C%20539599.1983967936%2C%20540981.9639278557%2C%20542364.7294589179%2C%20543747.49498998%2C%20545130.260521042%2C%20546513.0260521042%2C%20547895.7915831663%2C%20549278.5571142285%2C%20550661.3226452906%2C%20552044.0881763527%2C%20553426.8537074148%2C%20554809.619238477%2C%20556192.3847695391%2C%20557575.1503006011%2C%20558957.9158316633%2C%20560340.6813627254%2C%20561723.4468937876%2C%20563106.2124248497%2C%20564488.9779559118%2C%20565871.7434869739%2C%20567254.5090180361%2C%20568637.2745490982%2C%20570020.0400801604%2C%20571402.8056112224%2C%20572785.5711422845%2C%20574168.3366733467%2C%20575551.1022044088%2C%20576933.867735471%2C%20578316.633266533%2C%20579699.3987975952%2C%20581082.1643286573%2C%20582464.9298597195%2C%20583847.6953907816%2C%20585230.4609218437%2C%20586613.2264529058%2C%20587995.991983968%2C%20589378.7575150301%2C%20590761.5230460921%2C%20592144.2885771543%2C%20593527.0541082164%2C%20594909.8196392786%2C%20596292.5851703407%2C%20597675.3507014028%2C%20599058.1162324649%2C%20600440.881763527%2C%20601823.6472945892%2C%20603206.4128256514%2C%20604589.1783567134%2C%20605971.9438877755%2C%20607354.7094188377%2C%20608737.4749498998%2C%20610120.240480962%2C%20611503.006012024%2C%20612885.7715430862%2C%20614268.5370741483%2C%20615651.3026052105%2C%20617034.0681362726%2C%20618416.8336673346%2C%20619799.5991983968%2C%20621182.3647294589%2C%20622565.1302605211%2C%20623947.8957915831%2C%20625330.6613226453%2C%20626713.4268537074%2C%20628096.1923847696%2C%20629478.9579158317%2C%20630861.7234468937%2C%20632244.4889779559%2C%20633627.254509018%2C%20635010.0200400802%2C%20636392.7855711423%2C%20637775.5511022044%2C%20639158.3166332665%2C%20640541.0821643287%2C%20641923.8476953908%2C%20643306.613226453%2C%20644689.378757515%2C%20646072.1442885771%2C%20647454.9098196393%2C%20648837.6753507014%2C%20650220.4408817636%2C%20651603.2064128256%2C%20652985.9719438878%2C%20654368.7374749499%2C%20655751.5030060121%2C%20657134.2685370741%2C%20658517.0340681362%2C%20659899.7995991984%2C%20661282.5651302605%2C%20662665.3306613227%2C%20664048.0961923847%2C%20665430.8617234469%2C%20666813.627254509%2C%20668196.3927855712%2C%20669579.1583166333%2C%20670961.9238476953%2C%20672344.6893787575%2C%20673727.4549098196%2C%20675110.2204408818%2C%20676492.9859719439%2C%20677875.751503006%2C%20679258.5170340681%2C%20680641.2825651303%2C%20682024.0480961924%2C%20683406.8136272546%2C%20684789.5791583166%2C%20686172.3446893787%2C%20687555.1102204409%2C%20688937.875751503%2C%20690320.6412825651%2C%20691703.4068136272%2C%20693086.1723446894%2C%20694468.9378757515%2C%20695851.7034068137%2C%20697234.4689378757%2C%20698617.2344689379%2C%20700000.0%5D%29%0A%20%20%20%20%20%20%20%20%20%20%20%20%20%20.range%28%5B%27%23ffffb2ff%27%2C%20%27%23ffffb2ff%27%2C%20%27%23ffffb2ff%27%2C%20%27%23ffffb2ff%27%2C%20%27%23ffffb2ff%27%2C%20%27%23ffffb2ff%27%2C%20%27%23ffffb2ff%27%2C%20%27%23ffffb2ff%27%2C%20%27%23ffffb2ff%27%2C%20%27%23ffffb2ff%27%2C%20%27%23ffffb2ff%27%2C%20%27%23ffffb2ff%27%2C%20%27%23ffffb2ff%27%2C%20%27%23ffffb2ff%27%2C%20%27%23ffffb2ff%27%2C%20%27%23ffffb2ff%27%2C%20%27%23ffffb2ff%27%2C%20%27%23ffffb2ff%27%2C%20%27%23ffffb2ff%27%2C%20%27%23ffffb2ff%27%2C%20%27%23ffffb2ff%27%2C%20%27%23ffffb2ff%27%2C%20%27%23ffffb2ff%27%2C%20%27%23ffffb2ff%27%2C%20%27%23ffffb2ff%27%2C%20%27%23ffffb2ff%27%2C%20%27%23ffffb2ff%27%2C%20%27%23ffffb2ff%27%2C%20%27%23ffffb2ff%27%2C%20%27%23ffffb2ff%27%2C%20%27%23ffffb2ff%27%2C%20%27%23ffffb2ff%27%2C%20%27%23ffffb2ff%27%2C%20%27%23ffffb2ff%27%2C%20%27%23ffffb2ff%27%2C%20%27%23ffffb2ff%27%2C%20%27%23ffffb2ff%27%2C%20%27%23ffffb2ff%27%2C%20%27%23ffffb2ff%27%2C%20%27%23ffffb2ff%27%2C%20%27%23ffffb2ff%27%2C%20%27%23ffffb2ff%27%2C%20%27%23ffffb2ff%27%2C%20%27%23ffffb2ff%27%2C%20%27%23ffffb2ff%27%2C%20%27%23ffffb2ff%27%2C%20%27%23ffffb2ff%27%2C%20%27%23ffffb2ff%27%2C%20%27%23ffffb2ff%27%2C%20%27%23ffffb2ff%27%2C%20%27%23ffffb2ff%27%2C%20%27%23ffffb2ff%27%2C%20%27%23ffffb2ff%27%2C%20%27%23ffffb2ff%27%2C%20%27%23ffffb2ff%27%2C%20%27%23ffffb2ff%27%2C%20%27%23ffffb2ff%27%2C%20%27%23ffffb2ff%27%2C%20%27%23ffffb2ff%27%2C%20%27%23ffffb2ff%27%2C%20%27%23ffffb2ff%27%2C%20%27%23ffffb2ff%27%2C%20%27%23ffffb2ff%27%2C%20%27%23ffffb2ff%27%2C%20%27%23ffffb2ff%27%2C%20%27%23ffffb2ff%27%2C%20%27%23fecc5cff%27%2C%20%27%23fecc5cff%27%2C%20%27%23fecc5cff%27%2C%20%27%23fecc5cff%27%2C%20%27%23fecc5cff%27%2C%20%27%23fecc5cff%27%2C%20%27%23fecc5cff%27%2C%20%27%23fecc5cff%27%2C%20%27%23fecc5cff%27%2C%20%27%23fecc5cff%27%2C%20%27%23fecc5cff%27%2C%20%27%23fecc5cff%27%2C%20%27%23fecc5cff%27%2C%20%27%23fecc5cff%27%2C%20%27%23fecc5cff%27%2C%20%27%23fecc5cff%27%2C%20%27%23fecc5cff%27%2C%20%27%23fecc5cff%27%2C%20%27%23fecc5cff%27%2C%20%27%23fecc5cff%27%2C%20%27%23fecc5cff%27%2C%20%27%23fecc5cff%27%2C%20%27%23fecc5cff%27%2C%20%27%23fecc5cff%27%2C%20%27%23fecc5cff%27%2C%20%27%23fecc5cff%27%2C%20%27%23fecc5cff%27%2C%20%27%23fecc5cff%27%2C%20%27%23fecc5cff%27%2C%20%27%23fecc5cff%27%2C%20%27%23fecc5cff%27%2C%20%27%23fecc5cff%27%2C%20%27%23fecc5cff%27%2C%20%27%23fecc5cff%27%2C%20%27%23fecc5cff%27%2C%20%27%23fecc5cff%27%2C%20%27%23fecc5cff%27%2C%20%27%23fecc5cff%27%2C%20%27%23fecc5cff%27%2C%20%27%23fecc5cff%27%2C%20%27%23fecc5cff%27%2C%20%27%23fecc5cff%27%2C%20%27%23fecc5cff%27%2C%20%27%23fecc5cff%27%2C%20%27%23fecc5cff%27%2C%20%27%23fecc5cff%27%2C%20%27%23fecc5cff%27%2C%20%27%23fecc5cff%27%2C%20%27%23fecc5cff%27%2C%20%27%23fecc5cff%27%2C%20%27%23fecc5cff%27%2C%20%27%23fecc5cff%27%2C%20%27%23fecc5cff%27%2C%20%27%23fecc5cff%27%2C%20%27%23fecc5cff%27%2C%20%27%23fecc5cff%27%2C%20%27%23fecc5cff%27%2C%20%27%23fecc5cff%27%2C%20%27%23fecc5cff%27%2C%20%27%23fecc5cff%27%2C%20%27%23fecc5cff%27%2C%20%27%23fecc5cff%27%2C%20%27%23fecc5cff%27%2C%20%27%23fecc5cff%27%2C%20%27%23fecc5cff%27%2C%20%27%23fecc5cff%27%2C%20%27%23fecc5cff%27%2C%20%27%23fecc5cff%27%2C%20%27%23fecc5cff%27%2C%20%27%23fecc5cff%27%2C%20%27%23fecc5cff%27%2C%20%27%23fecc5cff%27%2C%20%27%23fecc5cff%27%2C%20%27%23fecc5cff%27%2C%20%27%23fecc5cff%27%2C%20%27%23fecc5cff%27%2C%20%27%23fecc5cff%27%2C%20%27%23fecc5cff%27%2C%20%27%23fecc5cff%27%2C%20%27%23fecc5cff%27%2C%20%27%23fecc5cff%27%2C%20%27%23fecc5cff%27%2C%20%27%23fecc5cff%27%2C%20%27%23fecc5cff%27%2C%20%27%23fecc5cff%27%2C%20%27%23fecc5cff%27%2C%20%27%23fecc5cff%27%2C%20%27%23fecc5cff%27%2C%20%27%23fecc5cff%27%2C%20%27%23fecc5cff%27%2C%20%27%23fecc5cff%27%2C%20%27%23fecc5cff%27%2C%20%27%23fecc5cff%27%2C%20%27%23fecc5cff%27%2C%20%27%23fecc5cff%27%2C%20%27%23fecc5cff%27%2C%20%27%23fecc5cff%27%2C%20%27%23fecc5cff%27%2C%20%27%23fecc5cff%27%2C%20%27%23fecc5cff%27%2C%20%27%23fecc5cff%27%2C%20%27%23fecc5cff%27%2C%20%27%23fecc5cff%27%2C%20%27%23fecc5cff%27%2C%20%27%23fecc5cff%27%2C%20%27%23fecc5cff%27%2C%20%27%23fecc5cff%27%2C%20%27%23fecc5cff%27%2C%20%27%23fecc5cff%27%2C%20%27%23fecc5cff%27%2C%20%27%23fecc5cff%27%2C%20%27%23fecc5cff%27%2C%20%27%23fecc5cff%27%2C%20%27%23fecc5cff%27%2C%20%27%23fecc5cff%27%2C%20%27%23fecc5cff%27%2C%20%27%23fecc5cff%27%2C%20%27%23fecc5cff%27%2C%20%27%23fecc5cff%27%2C%20%27%23fecc5cff%27%2C%20%27%23fecc5cff%27%2C%20%27%23fecc5cff%27%2C%20%27%23fecc5cff%27%2C%20%27%23fecc5cff%27%2C%20%27%23fecc5cff%27%2C%20%27%23fecc5cff%27%2C%20%27%23fecc5cff%27%2C%20%27%23fecc5cff%27%2C%20%27%23fecc5cff%27%2C%20%27%23fecc5cff%27%2C%20%27%23fecc5cff%27%2C%20%27%23fecc5cff%27%2C%20%27%23fecc5cff%27%2C%20%27%23fecc5cff%27%2C%20%27%23fecc5cff%27%2C%20%27%23fecc5cff%27%2C%20%27%23fecc5cff%27%2C%20%27%23fecc5cff%27%2C%20%27%23fecc5cff%27%2C%20%27%23fecc5cff%27%2C%20%27%23fecc5cff%27%2C%20%27%23fecc5cff%27%2C%20%27%23fecc5cff%27%2C%20%27%23fecc5cff%27%2C%20%27%23fd8d3cff%27%2C%20%27%23fd8d3cff%27%2C%20%27%23fd8d3cff%27%2C%20%27%23fd8d3cff%27%2C%20%27%23fd8d3cff%27%2C%20%27%23fd8d3cff%27%2C%20%27%23fd8d3cff%27%2C%20%27%23fd8d3cff%27%2C%20%27%23fd8d3cff%27%2C%20%27%23fd8d3cff%27%2C%20%27%23fd8d3cff%27%2C%20%27%23fd8d3cff%27%2C%20%27%23fd8d3cff%27%2C%20%27%23fd8d3cff%27%2C%20%27%23fd8d3cff%27%2C%20%27%23fd8d3cff%27%2C%20%27%23fd8d3cff%27%2C%20%27%23fd8d3cff%27%2C%20%27%23fd8d3cff%27%2C%20%27%23fd8d3cff%27%2C%20%27%23fd8d3cff%27%2C%20%27%23fd8d3cff%27%2C%20%27%23fd8d3cff%27%2C%20%27%23fd8d3cff%27%2C%20%27%23fd8d3cff%27%2C%20%27%23fd8d3cff%27%2C%20%27%23fd8d3cff%27%2C%20%27%23fd8d3cff%27%2C%20%27%23fd8d3cff%27%2C%20%27%23fd8d3cff%27%2C%20%27%23fd8d3cff%27%2C%20%27%23fd8d3cff%27%2C%20%27%23fd8d3cff%27%2C%20%27%23fd8d3cff%27%2C%20%27%23fd8d3cff%27%2C%20%27%23fd8d3cff%27%2C%20%27%23fd8d3cff%27%2C%20%27%23fd8d3cff%27%2C%20%27%23fd8d3cff%27%2C%20%27%23fd8d3cff%27%2C%20%27%23fd8d3cff%27%2C%20%27%23fd8d3cff%27%2C%20%27%23fd8d3cff%27%2C%20%27%23fd8d3cff%27%2C%20%27%23fd8d3cff%27%2C%20%27%23fd8d3cff%27%2C%20%27%23fd8d3cff%27%2C%20%27%23fd8d3cff%27%2C%20%27%23fd8d3cff%27%2C%20%27%23fd8d3cff%27%2C%20%27%23fd8d3cff%27%2C%20%27%23fd8d3cff%27%2C%20%27%23fd8d3cff%27%2C%20%27%23fd8d3cff%27%2C%20%27%23fd8d3cff%27%2C%20%27%23fd8d3cff%27%2C%20%27%23fd8d3cff%27%2C%20%27%23fd8d3cff%27%2C%20%27%23fd8d3cff%27%2C%20%27%23fd8d3cff%27%2C%20%27%23fd8d3cff%27%2C%20%27%23fd8d3cff%27%2C%20%27%23fd8d3cff%27%2C%20%27%23fd8d3cff%27%2C%20%27%23fd8d3cff%27%2C%20%27%23fd8d3cff%27%2C%20%27%23fd8d3cff%27%2C%20%27%23fd8d3cff%27%2C%20%27%23fd8d3cff%27%2C%20%27%23fd8d3cff%27%2C%20%27%23fd8d3cff%27%2C%20%27%23fd8d3cff%27%2C%20%27%23fd8d3cff%27%2C%20%27%23fd8d3cff%27%2C%20%27%23fd8d3cff%27%2C%20%27%23fd8d3cff%27%2C%20%27%23fd8d3cff%27%2C%20%27%23fd8d3cff%27%2C%20%27%23fd8d3cff%27%2C%20%27%23fd8d3cff%27%2C%20%27%23fd8d3cff%27%2C%20%27%23fd8d3cff%27%2C%20%27%23fd8d3cff%27%2C%20%27%23fd8d3cff%27%2C%20%27%23fd8d3cff%27%2C%20%27%23fd8d3cff%27%2C%20%27%23fd8d3cff%27%2C%20%27%23fd8d3cff%27%2C%20%27%23fd8d3cff%27%2C%20%27%23fd8d3cff%27%2C%20%27%23fd8d3cff%27%2C%20%27%23fd8d3cff%27%2C%20%27%23fd8d3cff%27%2C%20%27%23fd8d3cff%27%2C%20%27%23fd8d3cff%27%2C%20%27%23fd8d3cff%27%2C%20%27%23fd8d3cff%27%2C%20%27%23fd8d3cff%27%2C%20%27%23fd8d3cff%27%2C%20%27%23fd8d3cff%27%2C%20%27%23fd8d3cff%27%2C%20%27%23fd8d3cff%27%2C%20%27%23fd8d3cff%27%2C%20%27%23fd8d3cff%27%2C%20%27%23fd8d3cff%27%2C%20%27%23fd8d3cff%27%2C%20%27%23fd8d3cff%27%2C%20%27%23fd8d3cff%27%2C%20%27%23fd8d3cff%27%2C%20%27%23fd8d3cff%27%2C%20%27%23fd8d3cff%27%2C%20%27%23fd8d3cff%27%2C%20%27%23fd8d3cff%27%2C%20%27%23fd8d3cff%27%2C%20%27%23fd8d3cff%27%2C%20%27%23fd8d3cff%27%2C%20%27%23fd8d3cff%27%2C%20%27%23fd8d3cff%27%2C%20%27%23fd8d3cff%27%2C%20%27%23fd8d3cff%27%2C%20%27%23fd8d3cff%27%2C%20%27%23fd8d3cff%27%2C%20%27%23fd8d3cff%27%2C%20%27%23fd8d3cff%27%2C%20%27%23fd8d3cff%27%2C%20%27%23fd8d3cff%27%2C%20%27%23fd8d3cff%27%2C%20%27%23fd8d3cff%27%2C%20%27%23fd8d3cff%27%2C%20%27%23fd8d3cff%27%2C%20%27%23fd8d3cff%27%2C%20%27%23fd8d3cff%27%2C%20%27%23fd8d3cff%27%2C%20%27%23fd8d3cff%27%2C%20%27%23fd8d3cff%27%2C%20%27%23fd8d3cff%27%2C%20%27%23fd8d3cff%27%2C%20%27%23fd8d3cff%27%2C%20%27%23fd8d3cff%27%2C%20%27%23fd8d3cff%27%2C%20%27%23fd8d3cff%27%2C%20%27%23fd8d3cff%27%2C%20%27%23fd8d3cff%27%2C%20%27%23fd8d3cff%27%2C%20%27%23fd8d3cff%27%2C%20%27%23e31a1cff%27%2C%20%27%23e31a1cff%27%2C%20%27%23e31a1cff%27%2C%20%27%23e31a1cff%27%2C%20%27%23e31a1cff%27%2C%20%27%23e31a1cff%27%2C%20%27%23e31a1cff%27%2C%20%27%23e31a1cff%27%2C%20%27%23e31a1cff%27%2C%20%27%23e31a1cff%27%2C%20%27%23e31a1cff%27%2C%20%27%23e31a1cff%27%2C%20%27%23e31a1cff%27%2C%20%27%23e31a1cff%27%2C%20%27%23e31a1cff%27%2C%20%27%23e31a1cff%27%2C%20%27%23e31a1cff%27%2C%20%27%23e31a1cff%27%2C%20%27%23e31a1cff%27%2C%20%27%23e31a1cff%27%2C%20%27%23e31a1cff%27%2C%20%27%23e31a1cff%27%2C%20%27%23e31a1cff%27%2C%20%27%23e31a1cff%27%2C%20%27%23e31a1cff%27%2C%20%27%23e31a1cff%27%2C%20%27%23e31a1cff%27%2C%20%27%23e31a1cff%27%2C%20%27%23e31a1cff%27%2C%20%27%23e31a1cff%27%2C%20%27%23e31a1cff%27%2C%20%27%23e31a1cff%27%2C%20%27%23e31a1cff%27%2C%20%27%23e31a1cff%27%2C%20%27%23e31a1cff%27%2C%20%27%23e31a1cff%27%2C%20%27%23e31a1cff%27%2C%20%27%23e31a1cff%27%2C%20%27%23e31a1cff%27%2C%20%27%23e31a1cff%27%2C%20%27%23e31a1cff%27%2C%20%27%23e31a1cff%27%2C%20%27%23e31a1cff%27%2C%20%27%23e31a1cff%27%2C%20%27%23e31a1cff%27%2C%20%27%23e31a1cff%27%2C%20%27%23e31a1cff%27%2C%20%27%23e31a1cff%27%2C%20%27%23e31a1cff%27%2C%20%27%23e31a1cff%27%2C%20%27%23e31a1cff%27%2C%20%27%23e31a1cff%27%2C%20%27%23e31a1cff%27%2C%20%27%23e31a1cff%27%2C%20%27%23e31a1cff%27%2C%20%27%23e31a1cff%27%2C%20%27%23e31a1cff%27%2C%20%27%23e31a1cff%27%2C%20%27%23e31a1cff%27%2C%20%27%23e31a1cff%27%2C%20%27%23e31a1cff%27%2C%20%27%23e31a1cff%27%2C%20%27%23e31a1cff%27%2C%20%27%23e31a1cff%27%2C%20%27%23e31a1cff%27%2C%20%27%23e31a1cff%27%2C%20%27%23e31a1cff%27%2C%20%27%23e31a1cff%27%2C%20%27%23e31a1cff%27%2C%20%27%23e31a1cff%27%2C%20%27%23e31a1cff%27%2C%20%27%23e31a1cff%27%2C%20%27%23e31a1cff%27%2C%20%27%23e31a1cff%27%2C%20%27%23e31a1cff%27%2C%20%27%23e31a1cff%27%2C%20%27%23e31a1cff%27%2C%20%27%23e31a1cff%27%2C%20%27%23e31a1cff%27%2C%20%27%23e31a1cff%27%2C%20%27%23e31a1cff%27%2C%20%27%23e31a1cff%27%2C%20%27%23e31a1cff%27%2C%20%27%23e31a1cff%27%2C%20%27%23e31a1cff%27%2C%20%27%23e31a1cff%27%2C%20%27%23e31a1cff%27%2C%20%27%23e31a1cff%27%2C%20%27%23e31a1cff%27%2C%20%27%23e31a1cff%27%2C%20%27%23e31a1cff%27%2C%20%27%23e31a1cff%27%2C%20%27%23e31a1cff%27%2C%20%27%23e31a1cff%27%2C%20%27%23e31a1cff%27%2C%20%27%23e31a1cff%27%2C%20%27%23e31a1cff%27%2C%20%27%23e31a1cff%27%2C%20%27%23e31a1cff%27%2C%20%27%23e31a1cff%27%2C%20%27%23e31a1cff%27%2C%20%27%23e31a1cff%27%2C%20%27%23e31a1cff%27%2C%20%27%23e31a1cff%27%2C%20%27%23e31a1cff%27%2C%20%27%23e31a1cff%27%2C%20%27%23e31a1cff%27%2C%20%27%23e31a1cff%27%2C%20%27%23e31a1cff%27%2C%20%27%23e31a1cff%27%2C%20%27%23e31a1cff%27%2C%20%27%23e31a1cff%27%2C%20%27%23e31a1cff%27%2C%20%27%23e31a1cff%27%2C%20%27%23e31a1cff%27%2C%20%27%23e31a1cff%27%2C%20%27%23e31a1cff%27%2C%20%27%23e31a1cff%27%2C%20%27%23e31a1cff%27%2C%20%27%23e31a1cff%27%2C%20%27%23e31a1cff%27%2C%20%27%23e31a1cff%27%2C%20%27%23e31a1cff%27%2C%20%27%23e31a1cff%27%2C%20%27%23e31a1cff%27%2C%20%27%23e31a1cff%27%2C%20%27%23e31a1cff%27%2C%20%27%23e31a1cff%27%2C%20%27%23e31a1cff%27%2C%20%27%23e31a1cff%27%2C%20%27%23e31a1cff%27%2C%20%27%23e31a1cff%27%2C%20%27%23e31a1cff%27%2C%20%27%23e31a1cff%27%2C%20%27%23e31a1cff%27%2C%20%27%23e31a1cff%27%2C%20%27%23e31a1cff%27%2C%20%27%23e31a1cff%27%2C%20%27%23e31a1cff%27%2C%20%27%23e31a1cff%27%2C%20%27%23e31a1cff%27%2C%20%27%23e31a1cff%27%2C%20%27%23e31a1cff%27%2C%20%27%23e31a1cff%27%2C%20%27%23e31a1cff%27%5D%29%3B%0A%20%20%20%20%0A%0A%20%20%20%20color_map_b9038b6b94214bff92e5b0b2d7c7ef52.x%20%3D%20d3.scale.linear%28%29%0A%20%20%20%20%20%20%20%20%20%20%20%20%20%20.domain%28%5B10000.0%2C%20700000.0%5D%29%0A%20%20%20%20%20%20%20%20%20%20%20%20%20%20.range%28%5B0%2C%20400%5D%29%3B%0A%0A%20%20%20%20color_map_b9038b6b94214bff92e5b0b2d7c7ef52.legend%20%3D%20L.control%28%7Bposition%3A%20%27topright%27%7D%29%3B%0A%20%20%20%20color_map_b9038b6b94214bff92e5b0b2d7c7ef52.legend.onAdd%20%3D%20function%20%28map%29%20%7Bvar%20div%20%3D%20L.DomUtil.create%28%27div%27%2C%20%27legend%27%29%3B%20return%20div%7D%3B%0A%20%20%20%20color_map_b9038b6b94214bff92e5b0b2d7c7ef52.legend.addTo%28map_cb0b0bb654b44b73aca1efdf9282dbea%29%3B%0A%0A%20%20%20%20color_map_b9038b6b94214bff92e5b0b2d7c7ef52.xAxis%20%3D%20d3.svg.axis%28%29%0A%20%20%20%20%20%20%20%20.scale%28color_map_b9038b6b94214bff92e5b0b2d7c7ef52.x%29%0A%20%20%20%20%20%20%20%20.orient%28%22top%22%29%0A%20%20%20%20%20%20%20%20.tickSize%281%29%0A%20%20%20%20%20%20%20%20.tickValues%28%5B10000%2C%20100000%2C%20300000%2C%20500000%2C%20700000%5D%29%3B%0A%0A%20%20%20%20color_map_b9038b6b94214bff92e5b0b2d7c7ef52.svg%20%3D%20d3.select%28%22.legend.leaflet-control%22%29.append%28%22svg%22%29%0A%20%20%20%20%20%20%20%20.attr%28%22id%22%2C%20%27legend%27%29%0A%20%20%20%20%20%20%20%20.attr%28%22width%22%2C%20450%29%0A%20%20%20%20%20%20%20%20.attr%28%22height%22%2C%2040%29%3B%0A%0A%20%20%20%20color_map_b9038b6b94214bff92e5b0b2d7c7ef52.g%20%3D%20color_map_b9038b6b94214bff92e5b0b2d7c7ef52.svg.append%28%22g%22%29%0A%20%20%20%20%20%20%20%20.attr%28%22class%22%2C%20%22key%22%29%0A%20%20%20%20%20%20%20%20.attr%28%22transform%22%2C%20%22translate%2825%2C16%29%22%29%3B%0A%0A%20%20%20%20color_map_b9038b6b94214bff92e5b0b2d7c7ef52.g.selectAll%28%22rect%22%29%0A%20%20%20%20%20%20%20%20.data%28color_map_b9038b6b94214bff92e5b0b2d7c7ef52.color.range%28%29.map%28function%28d%2C%20i%29%20%7B%0A%20%20%20%20%20%20%20%20%20%20return%20%7B%0A%20%20%20%20%20%20%20%20%20%20%20%20x0%3A%20i%20%3F%20color_map_b9038b6b94214bff92e5b0b2d7c7ef52.x%28color_map_b9038b6b94214bff92e5b0b2d7c7ef52.color.domain%28%29%5Bi%20-%201%5D%29%20%3A%20color_map_b9038b6b94214bff92e5b0b2d7c7ef52.x.range%28%29%5B0%5D%2C%0A%20%20%20%20%20%20%20%20%20%20%20%20x1%3A%20i%20%3C%20color_map_b9038b6b94214bff92e5b0b2d7c7ef52.color.domain%28%29.length%20%3F%20color_map_b9038b6b94214bff92e5b0b2d7c7ef52.x%28color_map_b9038b6b94214bff92e5b0b2d7c7ef52.color.domain%28%29%5Bi%5D%29%20%3A%20color_map_b9038b6b94214bff92e5b0b2d7c7ef52.x.range%28%29%5B1%5D%2C%0A%20%20%20%20%20%20%20%20%20%20%20%20z%3A%20d%0A%20%20%20%20%20%20%20%20%20%20%7D%3B%0A%20%20%20%20%20%20%20%20%7D%29%29%0A%20%20%20%20%20%20.enter%28%29.append%28%22rect%22%29%0A%20%20%20%20%20%20%20%20.attr%28%22height%22%2C%2010%29%0A%20%20%20%20%20%20%20%20.attr%28%22x%22%2C%20function%28d%29%20%7B%20return%20d.x0%3B%20%7D%29%0A%20%20%20%20%20%20%20%20.attr%28%22width%22%2C%20function%28d%29%20%7B%20return%20d.x1%20-%20d.x0%3B%20%7D%29%0A%20%20%20%20%20%20%20%20.style%28%22fill%22%2C%20function%28d%29%20%7B%20return%20d.z%3B%20%7D%29%3B%0A%0A%20%20%20%20color_map_b9038b6b94214bff92e5b0b2d7c7ef52.g.call%28color_map_b9038b6b94214bff92e5b0b2d7c7ef52.xAxis%29.append%28%22text%22%29%0A%20%20%20%20%20%20%20%20.attr%28%22class%22%2C%20%22caption%22%29%0A%20%20%20%20%20%20%20%20.attr%28%22y%22%2C%2021%29%0A%20%20%20%20%20%20%20%20.text%28%27%27%29%3B%0A%20%20%20%20%0A%20%20%20%20%20%20%20%20%20%20%20%20var%20choropleth_9c6cd80788f9495aa46a222abda99f22%20%3D%20L.featureGroup%28%0A%20%20%20%20%20%20%20%20%20%20%20%20%20%20%20%20%29.addTo%28map_cb0b0bb654b44b73aca1efdf9282dbea%29%3B%0A%20%20%20%20%20%20%20%20%0A%20%20%20%20%0A%20%20%20%20%20%20%20%20var%20geo_json_c140170e787f4f98825ade5e167b6616%20%3D%20L.geoJson%28%0A%20%20%20%20%20%20%20%20%20%20%20%20%7B%22features%22%3A%20%5B%7B%22geometry%22%3A%20%7B%22coordinates%22%3A%20%5B%5B%5B127.56113535909492%2C%2037.6256560539258%5D%2C%20%5B127.57290963929243%2C%2037.61087369350498%5D%2C%20%5B127.56366973908277%2C%2037.5842624297699%5D%2C%20%5B127.52226606559191%2C%2037.5828628697518%5D%2C%20%5B127.50048767007603%2C%2037.569036373178626%5D%2C%20%5B127.47687473909174%2C%2037.574448241913856%5D%2C%20%5B127.47565866803647%2C%2037.60512112601634%5D%2C%20%5B127.44699730711024%2C%2037.64497584741164%5D%2C%20%5B127.4272349102434%2C%2037.66284420898682%5D%2C%20%5B127.40156700708162%2C%2037.64806970784708%5D%2C%20%5B127.3732642199939%2C%2037.6453987554284%5D%2C%20%5B127.3542931884407%2C%2037.6250006376975%5D%2C%20%5B127.34360057873045%2C%2037.588997440929354%5D%2C%20%5B127.31002843450217%2C%2037.53523876142835%5D%2C%20%5B127.30923294884336%2C%2037.5135706079458%5D%2C%20%5B127.32809611134748%2C%2037.53133849534739%5D%2C%20%5B127.3663244453597%2C%2037.52716845880826%5D%2C%20%5B127.38286320755414%2C%2037.50147517965334%5D%2C%20%5B127.39046783039153%2C%2037.47413422098595%5D%2C%20%5B127.37490698722792%2C%2037.455072688441305%5D%2C%20%5B127.39174400683049%2C%2037.4256483411369%5D%2C%20%5B127.40276739880215%2C%2037.41856433413549%5D%2C%20%5B127.4250053080982%2C%2037.43669952587185%5D%2C%20%5B127.4817900304572%2C%2037.42084413829662%5D%2C%20%5B127.51015267026155%2C%2037.43699555518635%5D%2C%20%5B127.52501209957308%2C%2037.43192043868044%5D%2C%20%5B127.53910572062166%2C%2037.40849283821634%5D%2C%20%5B127.60528700481163%2C%2037.416969769508924%5D%2C%20%5B127.63754040237271%2C%2037.41065607591271%5D%2C%20%5B127.6491838950862%2C%2037.402042953108506%5D%2C%20%5B127.66976823475012%2C%2037.40884431255766%5D%2C%20%5B127.71071536074867%2C%2037.40736583858037%5D%2C%20%5B127.70347417929173%2C%2037.371054026073324%5D%2C%20%5B127.76165381178268%2C%2037.36421926003675%5D%2C%20%5B127.77952402154285%2C%2037.368441789396854%5D%2C%20%5B127.80397287036232%2C%2037.432516049235865%5D%2C%20%5B127.79833492163134%2C%2037.460500237870505%5D%2C%20%5B127.77664798308412%2C%2037.48883635932707%5D%2C%20%5B127.77611527652192%2C%2037.50328615763377%5D%2C%20%5B127.80855972024105%2C%2037.53220450961153%5D%2C%20%5B127.8445769305193%2C%2037.53621789699497%5D%2C%20%5B127.85162286006927%2C%2037.55037340096326%5D%2C%20%5B127.81507964099751%2C%2037.5618389022189%5D%2C%20%5B127.79492564827493%2C%2037.58252978378627%5D%2C%20%5B127.76838776707211%2C%2037.580178216134605%5D%2C%20%5B127.75614914198108%2C%2037.589477424718204%5D%2C%20%5B127.7102810556826%2C%2037.58360128682645%5D%2C%20%5B127.69869383868397%2C%2037.59757031454811%5D%2C%20%5B127.65553070991882%2C%2037.61954565135447%5D%2C%20%5B127.62972032693943%2C%2037.63983122973888%5D%2C%20%5B127.60450569091653%2C%2037.648548552427314%5D%2C%20%5B127.58166701442097%2C%2037.63033393389168%5D%2C%20%5B127.56113535909492%2C%2037.6256560539258%5D%5D%5D%2C%20%22type%22%3A%20%22Polygon%22%7D%2C%20%22properties%22%3A%20%7B%22base_year%22%3A%202013%2C%20%22code%22%3A%2031380%2C%20%22highlight%22%3A%20%7B%7D%2C%20%22name%22%3A%20%22%5Cuc591%5Cud3c9%5Cuad70%22%2C%20%22name_eng%22%3A%20%22Yangpyeong-gun%22%2C%20%22style%22%3A%20%7B%22color%22%3A%20%22black%22%2C%20%22fillColor%22%3A%20%22%23ffffb2%22%2C%20%22fillOpacity%22%3A%200.6%2C%20%22opacity%22%3A%201%2C%20%22weight%22%3A%201%7D%7D%2C%20%22type%22%3A%20%22Feature%22%7D%2C%20%7B%22geometry%22%3A%20%7B%22coordinates%22%3A%20%5B%5B%5B127.44780328408541%2C%2038.048238751068475%5D%2C%20%5B127.42042182072485%2C%2038.01200319871128%5D%2C%20%5B127.41516664705571%2C%2037.995046525366845%5D%2C%20%5B127.39194666896421%2C%2037.97992649728499%5D%2C%20%5B127.37828420492166%2C%2037.958773972665476%5D%2C%20%5B127.3864253692493%2C%2037.940789082655876%5D%2C%20%5B127.35796486335995%2C%2037.918888706648104%5D%2C%20%5B127.33112989323685%2C%2037.9192732427266%5D%2C%20%5B127.32585628843694%2C%2037.8708665787365%5D%2C%20%5B127.31427495278925%2C%2037.86338279582678%5D%2C%20%5B127.29023239060183%2C%2037.867156223189305%5D%2C%20%5B127.27621937205707%2C%2037.823925522993584%5D%2C%20%5B127.28134774958465%2C%2037.81350552459983%5D%2C%20%5B127.2686525155809%2C%2037.777676803810074%5D%2C%20%5B127.32070791913966%2C%2037.76445271893134%5D%2C%20%5B127.34501289752937%2C%2037.7266690692075%5D%2C%20%5B127.35759057077398%2C%2037.720909295881434%5D%2C%20%5B127.35557114419971%2C%2037.701041217064585%5D%2C%20%5B127.38133544278186%2C%2037.67180837890239%5D%2C%20%5B127.3732642199939%2C%2037.6453987554284%5D%2C%20%5B127.40156700708162%2C%2037.64806970784708%5D%2C%20%5B127.4272349102434%2C%2037.66284420898682%5D%2C%20%5B127.44699730711024%2C%2037.64497584741164%5D%2C%20%5B127.47565866803647%2C%2037.60512112601634%5D%2C%20%5B127.47687473909174%2C%2037.574448241913856%5D%2C%20%5B127.50048767007603%2C%2037.569036373178626%5D%2C%20%5B127.52226606559191%2C%2037.5828628697518%5D%2C%20%5B127.56366973908277%2C%2037.5842624297699%5D%2C%20%5B127.57290963929243%2C%2037.61087369350498%5D%2C%20%5B127.56113535909492%2C%2037.6256560539258%5D%2C%20%5B127.53917031861263%2C%2037.64021056192394%5D%2C%20%5B127.5549605217701%2C%2037.658757758392326%5D%2C%20%5B127.55230133599949%2C%2037.6826768602848%5D%2C%20%5B127.5620152520609%2C%2037.72573118147031%5D%2C%20%5B127.54295591487076%2C%2037.71630823574417%5D%2C%20%5B127.50979807707056%2C%2037.72791553253582%5D%2C%20%5B127.5466892772679%2C%2037.757547899640265%5D%2C%20%5B127.52374487270039%2C%2037.788564076302706%5D%2C%20%5B127.53790811514408%2C%2037.806297142430786%5D%2C%20%5B127.5278056459557%2C%2037.8205934650677%5D%2C%20%5B127.53467866263196%2C%2037.8391134107185%5D%2C%20%5B127.5645808687282%2C%2037.852710085354005%5D%2C%20%5B127.586513542654%2C%2037.87296654527047%5D%2C%20%5B127.60326048844294%2C%2037.87185797528634%5D%2C%20%5B127.61988365348992%2C%2037.90376621474279%5D%2C%20%5B127.61592274592837%2C%2037.93662873141094%5D%2C%20%5B127.60515472290533%2C%2037.95233960186072%5D%2C%20%5B127.54648191805605%2C%2037.96536690082484%5D%2C%20%5B127.54189684816376%2C%2037.99843118565868%5D%2C%20%5B127.50356426725331%2C%2037.99680815824825%5D%2C%20%5B127.47430810833019%2C%2038.00331531710267%5D%2C%20%5B127.46013793737187%2C%2038.01348603532302%5D%2C%20%5B127.44780328408541%2C%2038.048238751068475%5D%5D%5D%2C%20%22type%22%3A%20%22Polygon%22%7D%2C%20%22properties%22%3A%20%7B%22base_year%22%3A%202013%2C%20%22code%22%3A%2031370%2C%20%22highlight%22%3A%20%7B%7D%2C%20%22name%22%3A%20%22%5Cuac00%5Cud3c9%5Cuad70%22%2C%20%22name_eng%22%3A%20%22Gapyeong-gun%22%2C%20%22style%22%3A%20%7B%22color%22%3A%20%22black%22%2C%20%22fillColor%22%3A%20%22%23ffffb2%22%2C%20%22fillOpacity%22%3A%200.6%2C%20%22opacity%22%3A%201%2C%20%22weight%22%3A%201%7D%7D%2C%20%22type%22%3A%20%22Feature%22%7D%2C%20%7B%22geometry%22%3A%20%7B%22coordinates%22%3A%20%5B%5B%5B127.1114029794941%2C%2038.289324698353205%5D%2C%20%5B127.07249919657463%2C%2038.26801218962005%5D%2C%20%5B127.02801007414642%2C%2038.254549706273764%5D%2C%20%5B126.99286312502117%2C%2038.234131621017674%5D%2C%20%5B126.97740008434542%2C%2038.23136042526893%5D%2C%20%5B126.98606173199121%2C%2038.209401424377816%5D%2C%20%5B126.96711105593987%2C%2038.19506065700263%5D%2C%20%5B126.95459011862387%2C%2038.20786522832632%5D%2C%20%5B126.92781480981668%2C%2038.200854654628984%5D%2C%20%5B126.8974333001951%2C%2038.20180521598681%5D%2C%20%5B126.87506682979435%2C%2038.220357253330604%5D%2C%20%5B126.8278790877819%2C%2038.195486974451406%5D%2C%20%5B126.77187664076929%2C%2038.15202258772112%5D%2C%20%5B126.75014823067355%2C%2038.125072772241225%5D%2C%20%5B126.78709379586621%2C%2038.09626689678258%5D%2C%20%5B126.79823368085893%2C%2038.079396242822355%5D%2C%20%5B126.85234589355446%2C%2038.09221072381945%5D%2C%20%5B126.86904468579002%2C%2038.077582436479354%5D%2C%20%5B126.89538167413222%2C%2038.071648142471204%5D%2C%20%5B126.89492205681401%2C%2038.04859999954147%5D%2C%20%5B126.87463524911628%2C%2038.01581963256826%5D%2C%20%5B126.85568764143953%2C%2038.02873639803942%5D%2C%20%5B126.83392985136591%2C%2038.03100700061125%5D%2C%20%5B126.8252320653152%2C%2038.00913397816309%5D%2C%20%5B126.83164256576254%2C%2037.99035429677792%5D%2C%20%5B126.8029965558113%2C%2037.989251239637596%5D%2C%20%5B126.80659958939793%2C%2037.9680012097748%5D%2C%20%5B126.8388723334759%2C%2037.96197909365746%5D%2C%20%5B126.8423229135476%2C%2037.97819760433225%5D%2C%20%5B126.85859300440933%2C%2037.98329485669624%5D%2C%20%5B126.8739356423477%2C%2037.968400924665225%5D%2C%20%5B126.89755470110721%2C%2037.9683523617657%5D%2C%20%5B126.90034044420747%2C%2037.99438948257985%5D%2C%20%5B126.93929997962098%2C%2037.9789601448141%5D%2C%20%5B126.97166918547234%2C%2038.000587999007735%5D%2C%20%5B126.99425287672854%2C%2038.000624488107924%5D%2C%20%5B127.01739022262282%2C%2037.989561835400195%5D%2C%20%5B126.97545924731331%2C%2037.93928140597955%5D%2C%20%5B127.01215278654801%2C%2037.924817815480985%5D%2C%20%5B127.02968085272437%2C%2037.9404013715077%5D%2C%20%5B127.05589127856165%2C%2037.978154747876275%5D%2C%20%5B127.09382742820131%2C%2037.968691278173%5D%2C%20%5B127.09290535753887%2C%2037.98459431234087%5D%2C%20%5B127.12231622589134%2C%2037.976745791642564%5D%2C%20%5B127.14982270353039%2C%2037.99413348520078%5D%2C%20%5B127.1474423860908%2C%2038.01290337564081%5D%2C%20%5B127.11440133420174%2C%2038.04821685684721%5D%2C%20%5B127.14326850224882%2C%2038.070002354405226%5D%2C%20%5B127.15086136346409%2C%2038.05496212563221%5D%2C%20%5B127.1888339288906%2C%2038.06204029940796%5D%2C%20%5B127.19437916578538%2C%2038.0797568774465%5D%2C%20%5B127.17503254383571%2C%2038.13882932478672%5D%2C%20%5B127.18150182398624%2C%2038.181927191525546%5D%2C%20%5B127.16857086007771%2C%2038.19681089627724%5D%2C%20%5B127.16461628401596%2C%2038.22949766461027%5D%2C%20%5B127.15063615800273%2C%2038.239791315402336%5D%2C%20%5B127.13243747984255%2C%2038.22986476152822%5D%2C%20%5B127.11224663908298%2C%2038.23944312080941%5D%2C%20%5B127.11610682730382%2C%2038.26255766722931%5D%2C%20%5B127.1114029794941%2C%2038.289324698353205%5D%5D%5D%2C%20%22type%22%3A%20%22Polygon%22%7D%2C%20%22properties%22%3A%20%7B%22base_year%22%3A%202013%2C%20%22code%22%3A%2031350%2C%20%22highlight%22%3A%20%7B%7D%2C%20%22name%22%3A%20%22%5Cuc5f0%5Cucc9c%5Cuad70%22%2C%20%22name_eng%22%3A%20%22Yeoncheon-gun%22%2C%20%22style%22%3A%20%7B%22color%22%3A%20%22black%22%2C%20%22fillColor%22%3A%20%22%23ffffb2%22%2C%20%22fillOpacity%22%3A%200.6%2C%20%22opacity%22%3A%201%2C%20%22weight%22%3A%201%7D%7D%2C%20%22type%22%3A%20%22Feature%22%7D%2C%20%7B%22geometry%22%3A%20%7B%22coordinates%22%3A%20%5B%5B%5B127.40276739880215%2C%2037.41856433413549%5D%2C%20%5B127.41955611640327%2C%2037.386674887879835%5D%2C%20%5B127.44514756834636%2C%2037.3842770721951%5D%2C%20%5B127.44459662819855%2C%2037.35562085049101%5D%2C%20%5B127.47263652805968%2C%2037.35869263849808%5D%2C%20%5B127.49167370715485%2C%2037.339527598960764%5D%2C%20%5B127.51574229064994%2C%2037.336561285567946%5D%2C%20%5B127.54853754663094%2C%2037.29860192066929%5D%2C%20%5B127.53106721989582%2C%2037.27115011578052%5D%2C%20%5B127.5395160453677%2C%2037.24379045683148%5D%2C%20%5B127.52770097674612%2C%2037.23765094459253%5D%2C%20%5B127.53342604855668%2C%2037.19715010635273%5D%2C%20%5B127.51957698997381%2C%2037.18188687027366%5D%2C%20%5B127.52893461217018%2C%2037.170618598276%5D%2C%20%5B127.55830514005798%2C%2037.17381401041668%5D%2C%20%5B127.5785248984445%2C%2037.186311208078585%5D%2C%20%5B127.5999013564347%2C%2037.1854997199498%5D%2C%20%5B127.63091754409567%2C%2037.150947430524305%5D%2C%20%5B127.66246837559255%2C%2037.13682554779843%5D%2C%20%5B127.69759568854894%2C%2037.137598675963744%5D%2C%20%5B127.6981539994774%2C%2037.14931076846793%5D%2C%20%5B127.73893911466041%2C%2037.20715818139463%5D%2C%20%5B127.75008528183503%2C%2037.21383642183904%5D%2C%20%5B127.75102511570132%2C%2037.24464129242011%5D%2C%20%5B127.76047537750615%2C%2037.25518935399549%5D%2C%20%5B127.75697503302167%2C%2037.29496921027118%5D%2C%20%5B127.77073902372764%2C%2037.30499906774147%5D%2C%20%5B127.76193527300671%2C%2037.32724708852886%5D%2C%20%5B127.76165381178268%2C%2037.36421926003675%5D%2C%20%5B127.70347417929173%2C%2037.371054026073324%5D%2C%20%5B127.71071536074867%2C%2037.40736583858037%5D%2C%20%5B127.66976823475012%2C%2037.40884431255766%5D%2C%20%5B127.6491838950862%2C%2037.402042953108506%5D%2C%20%5B127.63754040237271%2C%2037.41065607591271%5D%2C%20%5B127.60528700481163%2C%2037.416969769508924%5D%2C%20%5B127.53910572062166%2C%2037.40849283821634%5D%2C%20%5B127.52501209957308%2C%2037.43192043868044%5D%2C%20%5B127.51015267026155%2C%2037.43699555518635%5D%2C%20%5B127.4817900304572%2C%2037.42084413829662%5D%2C%20%5B127.4250053080982%2C%2037.43669952587185%5D%2C%20%5B127.40276739880215%2C%2037.41856433413549%5D%5D%5D%2C%20%22type%22%3A%20%22Polygon%22%7D%2C%20%22properties%22%3A%20%7B%22base_year%22%3A%202013%2C%20%22code%22%3A%2031280%2C%20%22highlight%22%3A%20%7B%7D%2C%20%22name%22%3A%20%22%5Cuc5ec%5Cuc8fc%5Cuc2dc%22%2C%20%22name_eng%22%3A%20%22Yeoju-si%22%2C%20%22style%22%3A%20%7B%22color%22%3A%20%22black%22%2C%20%22fillColor%22%3A%20%22%23fecc5c%22%2C%20%22fillOpacity%22%3A%200.6%2C%20%22opacity%22%3A%201%2C%20%22weight%22%3A%201%7D%7D%2C%20%22type%22%3A%20%22Feature%22%7D%2C%20%7B%22geometry%22%3A%20%7B%22coordinates%22%3A%20%5B%5B%5B127.18150182398624%2C%2038.181927191525546%5D%2C%20%5B127.17503254383571%2C%2038.13882932478672%5D%2C%20%5B127.19437916578538%2C%2038.0797568774465%5D%2C%20%5B127.1888339288906%2C%2038.06204029940796%5D%2C%20%5B127.15086136346409%2C%2038.05496212563221%5D%2C%20%5B127.14326850224882%2C%2038.070002354405226%5D%2C%20%5B127.11440133420174%2C%2038.04821685684721%5D%2C%20%5B127.1474423860908%2C%2038.01290337564081%5D%2C%20%5B127.14982270353039%2C%2037.99413348520078%5D%2C%20%5B127.12231622589134%2C%2037.976745791642564%5D%2C%20%5B127.09290535753887%2C%2037.98459431234087%5D%2C%20%5B127.09382742820131%2C%2037.968691278173%5D%2C%20%5B127.1240834119586%2C%2037.913726790414486%5D%2C%20%5B127.1480788721724%2C%2037.909108279220675%5D%2C%20%5B127.15777209998105%2C%2037.89291633342494%5D%2C%20%5B127.14908802054492%2C%2037.87326470277757%5D%2C%20%5B127.13067707221735%2C%2037.87115064756639%5D%2C%20%5B127.1113003891929%2C%2037.85708813371199%5D%2C%20%5B127.12400943178396%2C%2037.82538075264934%5D%2C%20%5B127.12412178020936%2C%2037.80931541475853%5D%2C%20%5B127.10645686970089%2C%2037.776897580693586%5D%2C%20%5B127.14177735342194%2C%2037.76129795333661%5D%2C%20%5B127.14882403466048%2C%2037.75206030443599%5D%2C%20%5B127.17524551122212%2C%2037.751938183429424%5D%2C%20%5B127.18575971970597%2C%2037.76186443408089%5D%2C%20%5B127.21510645674604%2C%2037.75873586709106%5D%2C%20%5B127.22719439323131%2C%2037.750666435161854%5D%2C%20%5B127.26186907661463%2C%2037.765678541736996%5D%2C%20%5B127.2686525155809%2C%2037.777676803810074%5D%2C%20%5B127.28134774958465%2C%2037.81350552459983%5D%2C%20%5B127.27621937205707%2C%2037.823925522993584%5D%2C%20%5B127.29023239060183%2C%2037.867156223189305%5D%2C%20%5B127.31427495278925%2C%2037.86338279582678%5D%2C%20%5B127.32585628843694%2C%2037.8708665787365%5D%2C%20%5B127.33112989323685%2C%2037.9192732427266%5D%2C%20%5B127.35796486335995%2C%2037.918888706648104%5D%2C%20%5B127.3864253692493%2C%2037.940789082655876%5D%2C%20%5B127.37828420492166%2C%2037.958773972665476%5D%2C%20%5B127.39194666896421%2C%2037.97992649728499%5D%2C%20%5B127.41516664705571%2C%2037.995046525366845%5D%2C%20%5B127.42042182072485%2C%2038.01200319871128%5D%2C%20%5B127.44780328408541%2C%2038.048238751068475%5D%2C%20%5B127.44645416125843%2C%2038.09506926769056%5D%2C%20%5B127.43271157644212%2C%2038.11254491261849%5D%2C%20%5B127.38575924845978%2C%2038.111650021865444%5D%2C%20%5B127.32332897924549%2C%2038.09248746131129%5D%2C%20%5B127.31342794935864%2C%2038.113239178580145%5D%2C%20%5B127.28533797240796%2C%2038.11374536112377%5D%2C%20%5B127.27790641954418%2C%2038.13449032094295%5D%2C%20%5B127.28937067741944%2C%2038.1495974983685%5D%2C%20%5B127.29146727692374%2C%2038.17417076323154%5D%2C%20%5B127.27319981021783%2C%2038.1790866530056%5D%2C%20%5B127.25802935713429%2C%2038.16048880005979%5D%2C%20%5B127.22539552047925%2C%2038.144128217872485%5D%2C%20%5B127.19211744512407%2C%2038.157963139766544%5D%2C%20%5B127.18150182398624%2C%2038.181927191525546%5D%5D%5D%2C%20%22type%22%3A%20%22Polygon%22%7D%2C%20%22properties%22%3A%20%7B%22base_year%22%3A%202013%2C%20%22code%22%3A%2031270%2C%20%22highlight%22%3A%20%7B%7D%2C%20%22name%22%3A%20%22%5Cud3ec%5Cucc9c%5Cuc2dc%22%2C%20%22name_eng%22%3A%20%22Pocheonsi%22%2C%20%22style%22%3A%20%7B%22color%22%3A%20%22black%22%2C%20%22fillColor%22%3A%20%22%23fecc5c%22%2C%20%22fillOpacity%22%3A%200.6%2C%20%22opacity%22%3A%201%2C%20%22weight%22%3A%201%7D%7D%2C%20%22type%22%3A%20%22Feature%22%7D%2C%20%7B%22geometry%22%3A%20%7B%22coordinates%22%3A%20%5B%5B%5B126.97545924731331%2C%2037.93928140597955%5D%2C%20%5B126.94883433502994%2C%2037.89688479787927%5D%2C%20%5B126.9484401545115%2C%2037.86422401203834%5D%2C%20%5B126.93661135445112%2C%2037.843479475117995%5D%2C%20%5B126.9160273881691%2C%2037.83830532663158%5D%2C%20%5B126.9073114617216%2C%2037.790560159793145%5D%2C%20%5B126.93838979622467%2C%2037.771436009953916%5D%2C%20%5B126.93180653905974%2C%2037.74575671706106%5D%2C%20%5B126.92470886562188%2C%2037.72916078041937%5D%2C%20%5B126.92290257733573%2C%2037.66907383915535%5D%2C%20%5B126.94191948970435%2C%2037.66797237250146%5D%2C%20%5B126.94689093217877%2C%2037.68234333447953%5D%2C%20%5B126.96734461801938%2C%2037.68969305565268%5D%2C%20%5B126.99383903424%2C%2037.676681761199085%5D%2C%20%5B127.01039666042071%2C%2037.681894589603594%5D%2C%20%5B127.01795099203432%2C%2037.69824412775662%5D%2C%20%5B127.01477890845196%2C%2037.722832167524864%5D%2C%20%5B127.00430024727942%2C%2037.73792676357612%5D%2C%20%5B127.00437834122181%2C%2037.75999833868866%5D%2C%20%5B127.02081299427202%2C%2037.76581418787214%5D%2C%20%5B127.05297245855259%2C%2037.75816755994106%5D%2C%20%5B127.10645686970089%2C%2037.776897580693586%5D%2C%20%5B127.12412178020936%2C%2037.80931541475853%5D%2C%20%5B127.12400943178396%2C%2037.82538075264934%5D%2C%20%5B127.1113003891929%2C%2037.85708813371199%5D%2C%20%5B127.09509254572018%2C%2037.86843288571378%5D%2C%20%5B127.06250430862417%2C%2037.86658619508279%5D%2C%20%5B127.04837406784853%2C%2037.891090496591005%5D%2C%20%5B127.01281974367026%2C%2037.90171539201257%5D%2C%20%5B127.01215278654801%2C%2037.924817815480985%5D%2C%20%5B126.97545924731331%2C%2037.93928140597955%5D%5D%5D%2C%20%22type%22%3A%20%22Polygon%22%7D%2C%20%22properties%22%3A%20%7B%22base_year%22%3A%202013%2C%20%22code%22%3A%2031260%2C%20%22highlight%22%3A%20%7B%7D%2C%20%22name%22%3A%20%22%5Cuc591%5Cuc8fc%5Cuc2dc%22%2C%20%22name_eng%22%3A%20%22Yangjusi%22%2C%20%22style%22%3A%20%7B%22color%22%3A%20%22black%22%2C%20%22fillColor%22%3A%20%22%23fecc5c%22%2C%20%22fillOpacity%22%3A%200.6%2C%20%22opacity%22%3A%201%2C%20%22weight%22%3A%201%7D%7D%2C%20%22type%22%3A%20%22Feature%22%7D%2C%20%7B%22geometry%22%3A%20%7B%22coordinates%22%3A%20%5B%5B%5B127.30923294884336%2C%2037.5135706079458%5D%2C%20%5B127.28971082577908%2C%2037.51069218442014%5D%2C%20%5B127.25539313999657%2C%2037.50044702706516%5D%2C%20%5B127.26066872639333%2C%2037.4867746581613%5D%2C%20%5B127.23892819551556%2C%2037.47240158876339%5D%2C%20%5B127.21785285379218%2C%2037.479493796173465%5D%2C%20%5B127.1831716097913%2C%2037.47048077053623%5D%2C%20%5B127.19808034941583%2C%2037.441066604883545%5D%2C%20%5B127.19594474070001%2C%2037.421269309284035%5D%2C%20%5B127.17637586604776%2C%2037.40261052326208%5D%2C%20%5B127.15506886795262%2C%2037.36076173403712%5D%2C%20%5B127.13605700285002%2C%2037.35565614606753%5D%2C%20%5B127.13845652996186%2C%2037.336816804055495%5D%2C%20%5B127.1439713536275%2C%2037.33349026702227%5D%2C%20%5B127.19373839709431%2C%2037.34441869868583%5D%2C%20%5B127.21042746205282%2C%2037.32805374935785%5D%2C%20%5B127.23072982952925%2C%2037.35607967407726%5D%2C%20%5B127.26708575818817%2C%2037.33990127392118%5D%2C%20%5B127.28543362549937%2C%2037.3425335272208%5D%2C%20%5B127.2795205391003%2C%2037.306809952638524%5D%2C%20%5B127.28383871402815%2C%2037.2658807760632%5D%2C%20%5B127.32142008240551%2C%2037.27215636613311%5D%2C%20%5B127.34092967480524%2C%2037.26770614318737%5D%2C%20%5B127.34227600003884%2C%2037.28528169366774%5D%2C%20%5B127.37829628277709%2C%2037.317936247676194%5D%2C%20%5B127.38906532153541%2C%2037.31608103967859%5D%2C%20%5B127.42277946655206%2C%2037.33526375647856%5D%2C%20%5B127.44459662819855%2C%2037.35562085049101%5D%2C%20%5B127.44514756834636%2C%2037.3842770721951%5D%2C%20%5B127.41955611640327%2C%2037.386674887879835%5D%2C%20%5B127.40276739880215%2C%2037.41856433413549%5D%2C%20%5B127.39174400683049%2C%2037.4256483411369%5D%2C%20%5B127.37490698722792%2C%2037.455072688441305%5D%2C%20%5B127.39046783039153%2C%2037.47413422098595%5D%2C%20%5B127.38286320755414%2C%2037.50147517965334%5D%2C%20%5B127.3663244453597%2C%2037.52716845880826%5D%2C%20%5B127.32809611134748%2C%2037.53133849534739%5D%2C%20%5B127.30923294884336%2C%2037.5135706079458%5D%5D%5D%2C%20%22type%22%3A%20%22Polygon%22%7D%2C%20%22properties%22%3A%20%7B%22base_year%22%3A%202013%2C%20%22code%22%3A%2031250%2C%20%22highlight%22%3A%20%7B%7D%2C%20%22name%22%3A%20%22%5Cuad11%5Cuc8fc%5Cuc2dc%22%2C%20%22name_eng%22%3A%20%22Gwangju%22%2C%20%22style%22%3A%20%7B%22color%22%3A%20%22black%22%2C%20%22fillColor%22%3A%20%22%23fecc5c%22%2C%20%22fillOpacity%22%3A%200.6%2C%20%22opacity%22%3A%201%2C%20%22weight%22%3A%201%7D%7D%2C%20%22type%22%3A%20%22Feature%22%7D%2C%20%7B%22geometry%22%3A%20%7B%22coordinates%22%3A%20%5B%5B%5B126.92946761531998%2C%2037.275967848758626%5D%2C%20%5B126.9159468889861%2C%2037.28864104563552%5D%2C%20%5B126.84641021832398%2C%2037.26433293772644%5D%2C%20%5B126.81930541992186%2C%2037.29590550406618%5D%2C%20%5B126.77604675292967%2C%2037.28552626562424%5D%2C%20%5B126.76918029785156%2C%2037.28334098034544%5D%2C%20%5B126.73210144042969%2C%2037.29098920118597%5D%2C%20%5B126.71836853027344%2C%2037.286072577028555%5D%2C%20%5B126.68403625488283%2C%2037.267495764381856%5D%2C%20%5B126.6510772705078%2C%2037.25328687335229%5D%2C%20%5B126.66481018066405%2C%2037.21994010868952%5D%2C%20%5B126.65794372558594%2C%2037.19478361329807%5D%2C%20%5B126.66271935011406%2C%2037.15926986163073%5D%2C%20%5B126.6846290670714%2C%2037.14600860455114%5D%2C%20%5B126.67514463500929%2C%2037.13507063838445%5D%2C%20%5B126.69054868899676%2C%2037.11326932983634%5D%2C%20%5B126.7301407699343%2C%2037.135914524793805%5D%2C%20%5B126.74720764160156%2C%2037.14225609389272%5D%2C%20%5B126.7719268798828%2C%2037.14663478158564%5D%2C%20%5B126.79458618164062%2C%2037.14827672411748%5D%2C%20%5B126.80659259648279%2C%2037.148624224069174%5D%2C%20%5B126.7547607421875%2C%2037.137329767248794%5D%2C%20%5B126.72454833984374%2C%2037.11543110112874%5D%2C%20%5B126.73072814941408%2C%2037.092430683283474%5D%2C%20%5B126.7327880859375%2C%2037.07544970503028%5D%2C%20%5B126.75132751464844%2C%2037.0601087778919%5D%2C%20%5B126.75044219493901%2C%2037.04618007006251%5D%2C%20%5B126.75308052062115%2C%2037.02639369248519%5D%2C%20%5B126.79113814421088%2C%2037.02631450535446%5D%2C%20%5B126.79899352215931%2C%2037.0092005991418%5D%2C%20%5B126.84014623559027%2C%2037.01079503386266%5D%2C%20%5B126.85940022959993%2C%2037.022131594683266%5D%2C%20%5B126.8846211892453%2C%2037.05795114472113%5D%2C%20%5B126.90291323437098%2C%2037.06724127811693%5D%2C%20%5B126.94247588185057%2C%2037.057958386286046%5D%2C%20%5B126.95290081243859%2C%2037.06545814826726%5D%2C%20%5B126.98672297136514%2C%2037.06879655242586%5D%2C%20%5B127.00102521866197%2C%2037.08973596266607%5D%2C%20%5B127.00593012741142%2C%2037.124105707924144%5D%2C%20%5B127.03746950511537%2C%2037.13336771678679%5D%2C%20%5B127.03019615684671%2C%2037.16027870494751%5D%2C%20%5B127.00186863458882%2C%2037.1747343711991%5D%2C%20%5B127.02929563655235%2C%2037.19787494412135%5D%2C%20%5B127.06660498380589%2C%2037.19589230774365%5D%2C%20%5B127.07609473440765%2C%2037.16092553278145%5D%2C%20%5B127.09596808287752%2C%2037.1566082978686%5D%2C%20%5B127.10575417734016%2C%2037.1407283236673%5D%2C%20%5B127.12480483538663%2C%2037.14166379699704%5D%2C%20%5B127.13469226704495%2C%2037.165565916914176%5D%2C%20%5B127.16278322754954%2C%2037.17771519608909%5D%2C%20%5B127.15371679380591%2C%2037.215705679231036%5D%2C%20%5B127.09106338919456%2C%2037.21351968359228%5D%2C%20%5B127.06878518378286%2C%2037.23731339587258%5D%2C%20%5B127.04178611512381%2C%2037.24066886027782%5D%2C%20%5B127.02475029106094%2C%2037.22207898080851%5D%2C%20%5B126.97491964707861%2C%2037.22588531228192%5D%2C%20%5B126.95229769733274%2C%2037.2524826245201%5D%2C%20%5B126.93110125729105%2C%2037.260824951129344%5D%2C%20%5B126.92946761531998%2C%2037.275967848758626%5D%5D%5D%2C%20%22type%22%3A%20%22Polygon%22%7D%2C%20%22properties%22%3A%20%7B%22base_year%22%3A%202013%2C%20%22code%22%3A%2031240%2C%20%22highlight%22%3A%20%7B%7D%2C%20%22name%22%3A%20%22%5Cud654%5Cuc131%5Cuc2dc%22%2C%20%22name_eng%22%3A%20%22Hwaseongsi%22%2C%20%22style%22%3A%20%7B%22color%22%3A%20%22black%22%2C%20%22fillColor%22%3A%20%22%23fd8d3c%22%2C%20%22fillOpacity%22%3A%200.6%2C%20%22opacity%22%3A%201%2C%20%22weight%22%3A%201%7D%7D%2C%20%22type%22%3A%20%22Feature%22%7D%2C%20%7B%22geometry%22%3A%20%7B%22coordinates%22%3A%20%5B%5B%5B126.67862254618308%2C%2037.697305342702336%5D%2C%20%5B126.68687028203884%2C%2037.72287270233232%5D%2C%20%5B126.66907840308846%2C%2037.78174793493798%5D%2C%20%5B126.64101439012131%2C%2037.77566349630024%5D%2C%20%5B126.61153655783419%2C%2037.75013666485523%5D%2C%20%5B126.56882602841813%2C%2037.7532565431125%5D%2C%20%5B126.55721894228033%2C%2037.76621180168271%5D%2C%20%5B126.51662409600848%2C%2037.76417822326665%5D%2C%20%5B126.52807816920034%2C%2037.73531846953613%5D%2C%20%5B126.52057497424896%2C%2037.70995131425922%5D%2C%20%5B126.5293420651622%2C%2037.70036377653783%5D%2C%20%5B126.52504262045373%2C%2037.67373626287928%5D%2C%20%5B126.53101689696972%2C%2037.65019057730887%5D%2C%20%5B126.55161765645468%2C%2037.624298554715594%5D%2C%20%5B126.55623106969898%2C%2037.60651221746275%5D%2C%20%5B126.57464273966109%2C%2037.58499252358352%5D%2C%20%5B126.61067265871806%2C%2037.601000735347455%5D%2C%20%5B126.6298186792055%2C%2037.60410987353396%5D%2C%20%5B126.63835822769396%2C%2037.62500980457943%5D%2C%20%5B126.6591800896809%2C%2037.63521787385032%5D%2C%20%5B126.70070861456485%2C%2037.6146734329379%5D%2C%20%5B126.72720375328538%2C%2037.589208895921956%5D%2C%20%5B126.74570339076207%2C%2037.59055779256247%5D%2C%20%5B126.79575768552907%2C%2037.57881087633202%5D%2C%20%5B126.80702115023597%2C%2037.60123001013228%5D%2C%20%5B126.77608157956732%2C%2037.61940269153496%5D%2C%20%5B126.74300328815525%2C%2037.63613822400079%5D%2C%20%5B126.6733552623039%2C%2037.67370888254625%5D%2C%20%5B126.67862254618308%2C%2037.697305342702336%5D%5D%5D%2C%20%22type%22%3A%20%22Polygon%22%7D%2C%20%22properties%22%3A%20%7B%22base_year%22%3A%202013%2C%20%22code%22%3A%2031230%2C%20%22highlight%22%3A%20%7B%7D%2C%20%22name%22%3A%20%22%5Cuae40%5Cud3ec%5Cuc2dc%22%2C%20%22name_eng%22%3A%20%22Gimpo-si%22%2C%20%22style%22%3A%20%7B%22color%22%3A%20%22black%22%2C%20%22fillColor%22%3A%20%22%23fecc5c%22%2C%20%22fillOpacity%22%3A%200.6%2C%20%22opacity%22%3A%201%2C%20%22weight%22%3A%201%7D%7D%2C%20%22type%22%3A%20%22Feature%22%7D%2C%20%7B%22geometry%22%3A%20%7B%22coordinates%22%3A%20%5B%5B%5B127.4921007211045%2C%2037.04995601187854%5D%2C%20%5B127.50695269820937%2C%2037.05753483878351%5D%2C%20%5B127.5183736840388%2C%2037.08503753187909%5D%2C%20%5B127.50508537419512%2C%2037.115382889205684%5D%2C%20%5B127.45481750751989%2C%2037.132580597361105%5D%2C%20%5B127.43195960102275%2C%2037.144888798316245%5D%2C%20%5B127.4230458143012%2C%2037.123216212193206%5D%2C%20%5B127.42631296061737%2C%2037.09684636395198%5D%2C%20%5B127.40130784690913%2C%2037.09245087525459%5D%2C%20%5B127.36035341650685%2C%2037.104395022706164%5D%2C%20%5B127.34555940652085%2C%2037.10116608411004%5D%2C%20%5B127.32884755687247%2C%2037.11659174326816%5D%2C%20%5B127.3127600393989%2C%2037.10253147019345%5D%2C%20%5B127.29016455856019%2C%2037.1284169582523%5D%2C%20%5B127.2524045686932%2C%2037.142247323045744%5D%2C%20%5B127.25314613987028%2C%2037.120146872115946%5D%2C%20%5B127.23808463453801%2C%2037.11859194998404%5D%2C%20%5B127.21070673321714%2C%2037.1015342900424%5D%2C%20%5B127.19738813790079%2C%2037.08621655572156%5D%2C%20%5B127.16831604852223%2C%2037.083742477354726%5D%2C%20%5B127.12516729074011%2C%2037.08849523189945%5D%2C%20%5B127.12948838054707%2C%2037.04966079815856%5D%2C%20%5B127.10740090841584%2C%2037.0328875639127%5D%2C%20%5B127.15517998352519%2C%2037.026613262831916%5D%2C%20%5B127.14747724307254%2C%2037.0138188945719%5D%2C%20%5B127.15496570056612%2C%2036.99487383420599%5D%2C%20%5B127.13779801966723%2C%2036.99041291045364%5D%2C%20%5B127.1216062947912%2C%2036.96626164975953%5D%2C%20%5B127.1464102583773%2C%2036.96864576891614%5D%2C%20%5B127.20400548086619%2C%2036.94924588348929%5D%2C%20%5B127.2223238977499%2C%2036.92742980980818%5D%2C%20%5B127.24613652503862%2C%2036.91453164371645%5D%2C%20%5B127.27227784491541%2C%2036.910372298119825%5D%2C%20%5B127.2919237698698%2C%2036.89094292918124%5D%2C%20%5B127.31127137227124%2C%2036.92622202120876%5D%2C%20%5B127.35186324388168%2C%2036.94969761594173%5D%2C%20%5B127.38065822509601%2C%2036.94859652718182%5D%2C%20%5B127.40398967704995%2C%2036.96488092382215%5D%2C%20%5B127.38707184117484%2C%2036.981534293776996%5D%2C%20%5B127.39617030040874%2C%2036.99507985079591%5D%2C%20%5B127.43189913129159%2C%2036.99902770852865%5D%2C%20%5B127.4488413674345%2C%2037.008168187910805%5D%2C%20%5B127.46014553759977%2C%2037.01772149607737%5D%2C%20%5B127.45985706240288%2C%2037.0407398003885%5D%2C%20%5B127.4921007211045%2C%2037.04995601187854%5D%5D%5D%2C%20%22type%22%3A%20%22Polygon%22%7D%2C%20%22properties%22%3A%20%7B%22base_year%22%3A%202013%2C%20%22code%22%3A%2031220%2C%20%22highlight%22%3A%20%7B%7D%2C%20%22name%22%3A%20%22%5Cuc548%5Cuc131%5Cuc2dc%22%2C%20%22name_eng%22%3A%20%22Anseong-si%22%2C%20%22style%22%3A%20%7B%22color%22%3A%20%22black%22%2C%20%22fillColor%22%3A%20%22%23fecc5c%22%2C%20%22fillOpacity%22%3A%200.6%2C%20%22opacity%22%3A%201%2C%20%22weight%22%3A%201%7D%7D%2C%20%22type%22%3A%20%22Feature%22%7D%2C%20%7B%22geometry%22%3A%20%7B%22coordinates%22%3A%20%5B%5B%5B127.44459662819855%2C%2037.35562085049101%5D%2C%20%5B127.42277946655206%2C%2037.33526375647856%5D%2C%20%5B127.38906532153541%2C%2037.31608103967859%5D%2C%20%5B127.37829628277709%2C%2037.317936247676194%5D%2C%20%5B127.34227600003884%2C%2037.28528169366774%5D%2C%20%5B127.34092967480524%2C%2037.26770614318737%5D%2C%20%5B127.33185727826834%2C%2037.21877880590886%5D%2C%20%5B127.3504254442421%2C%2037.20158943522061%5D%2C%20%5B127.38033957366586%2C%2037.19271119046181%5D%2C%20%5B127.38451468391715%2C%2037.17989930552182%5D%2C%20%5B127.41620898203362%2C%2037.17029801090558%5D%2C%20%5B127.41445191048162%2C%2037.152220061925426%5D%2C%20%5B127.43195960102275%2C%2037.144888798316245%5D%2C%20%5B127.45481750751989%2C%2037.132580597361105%5D%2C%20%5B127.50508537419512%2C%2037.115382889205684%5D%2C%20%5B127.5183736840388%2C%2037.08503753187909%5D%2C%20%5B127.50695269820937%2C%2037.05753483878351%5D%2C%20%5B127.4921007211045%2C%2037.04995601187854%5D%2C%20%5B127.5328452994501%2C%2037.052947456094785%5D%2C%20%5B127.55489094869193%2C%2037.04147062932325%5D%2C%20%5B127.56834352033556%2C%2037.06015560613134%5D%2C%20%5B127.60303992687903%2C%2037.08267817797425%5D%2C%20%5B127.63326599440494%2C%2037.09343317631327%5D%2C%20%5B127.6399897481202%2C%2037.13818503173906%5D%2C%20%5B127.63091754409567%2C%2037.150947430524305%5D%2C%20%5B127.5999013564347%2C%2037.1854997199498%5D%2C%20%5B127.5785248984445%2C%2037.186311208078585%5D%2C%20%5B127.55830514005798%2C%2037.17381401041668%5D%2C%20%5B127.52893461217018%2C%2037.170618598276%5D%2C%20%5B127.51957698997381%2C%2037.18188687027366%5D%2C%20%5B127.53342604855668%2C%2037.19715010635273%5D%2C%20%5B127.52770097674612%2C%2037.23765094459253%5D%2C%20%5B127.5395160453677%2C%2037.24379045683148%5D%2C%20%5B127.53106721989582%2C%2037.27115011578052%5D%2C%20%5B127.54853754663094%2C%2037.29860192066929%5D%2C%20%5B127.51574229064994%2C%2037.336561285567946%5D%2C%20%5B127.49167370715485%2C%2037.339527598960764%5D%2C%20%5B127.47263652805968%2C%2037.35869263849808%5D%2C%20%5B127.44459662819855%2C%2037.35562085049101%5D%5D%5D%2C%20%22type%22%3A%20%22Polygon%22%7D%2C%20%22properties%22%3A%20%7B%22base_year%22%3A%202013%2C%20%22code%22%3A%2031210%2C%20%22highlight%22%3A%20%7B%7D%2C%20%22name%22%3A%20%22%5Cuc774%5Cucc9c%5Cuc2dc%22%2C%20%22name_eng%22%3A%20%22Icheon-si%22%2C%20%22style%22%3A%20%7B%22color%22%3A%20%22black%22%2C%20%22fillColor%22%3A%20%22%23fecc5c%22%2C%20%22fillOpacity%22%3A%200.6%2C%20%22opacity%22%3A%201%2C%20%22weight%22%3A%201%7D%7D%2C%20%22type%22%3A%20%22Feature%22%7D%2C%20%7B%22geometry%22%3A%20%7B%22coordinates%22%3A%20%5B%5B%5B126.8029965558113%2C%2037.989251239637596%5D%2C%20%5B126.78238542753242%2C%2037.980043641136376%5D%2C%20%5B126.76520529808869%2C%2037.98230780004701%5D%2C%20%5B126.7420462951568%2C%2037.96995265840659%5D%2C%20%5B126.74668441679131%2C%2037.94913356897888%5D%2C%20%5B126.71646858457899%2C%2037.93722236122983%5D%2C%20%5B126.69257364928472%2C%2037.941147151072606%5D%2C%20%5B126.67501771549766%2C%2037.95271495350346%5D%2C%20%5B126.66763541566303%2C%2037.91838340624898%5D%2C%20%5B126.67945067210682%2C%2037.89497402505224%5D%2C%20%5B126.67382346217423%2C%2037.88401755835065%5D%2C%20%5B126.69348896006609%2C%2037.86442957434648%5D%2C%20%5B126.6622706417164%2C%2037.83606410322825%5D%2C%20%5B126.67603874694878%2C%2037.82828427203144%5D%2C%20%5B126.66423330880171%2C%2037.78738456951397%5D%2C%20%5B126.66907840308846%2C%2037.78174793493798%5D%2C%20%5B126.68687028203884%2C%2037.72287270233232%5D%2C%20%5B126.67862254618308%2C%2037.697305342702336%5D%2C%20%5B126.69372674409394%2C%2037.687413022894034%5D%2C%20%5B126.72711651649912%2C%2037.70166318681986%5D%2C%20%5B126.77635483402547%2C%2037.70188604497484%5D%2C%20%5B126.79766531143225%2C%2037.730785143520876%5D%2C%20%5B126.81634118925638%2C%2037.72071803262515%5D%2C%20%5B126.83772078982989%2C%2037.72529130369535%5D%2C%20%5B126.85856020555829%2C%2037.73179451375736%5D%2C%20%5B126.88536540501534%2C%2037.717034664244366%5D%2C%20%5B126.90425036668735%2C%2037.72565605361581%5D%2C%20%5B126.91088793086112%2C%2037.74418199544871%5D%2C%20%5B126.93180653905974%2C%2037.74575671706106%5D%2C%20%5B126.93838979622467%2C%2037.771436009953916%5D%2C%20%5B126.9073114617216%2C%2037.790560159793145%5D%2C%20%5B126.9160273881691%2C%2037.83830532663158%5D%2C%20%5B126.93661135445112%2C%2037.843479475117995%5D%2C%20%5B126.9484401545115%2C%2037.86422401203834%5D%2C%20%5B126.94883433502994%2C%2037.89688479787927%5D%2C%20%5B126.97545924731331%2C%2037.93928140597955%5D%2C%20%5B127.01739022262282%2C%2037.989561835400195%5D%2C%20%5B126.99425287672854%2C%2038.000624488107924%5D%2C%20%5B126.97166918547234%2C%2038.000587999007735%5D%2C%20%5B126.93929997962098%2C%2037.9789601448141%5D%2C%20%5B126.90034044420747%2C%2037.99438948257985%5D%2C%20%5B126.89755470110721%2C%2037.9683523617657%5D%2C%20%5B126.8739356423477%2C%2037.968400924665225%5D%2C%20%5B126.85859300440933%2C%2037.98329485669624%5D%2C%20%5B126.8423229135476%2C%2037.97819760433225%5D%2C%20%5B126.8388723334759%2C%2037.96197909365746%5D%2C%20%5B126.80659958939793%2C%2037.9680012097748%5D%2C%20%5B126.8029965558113%2C%2037.989251239637596%5D%5D%5D%2C%20%22type%22%3A%20%22Polygon%22%7D%2C%20%22properties%22%3A%20%7B%22base_year%22%3A%202013%2C%20%22code%22%3A%2031200%2C%20%22highlight%22%3A%20%7B%7D%2C%20%22name%22%3A%20%22%5Cud30c%5Cuc8fc%5Cuc2dc%22%2C%20%22name_eng%22%3A%20%22Paju-si%22%2C%20%22style%22%3A%20%7B%22color%22%3A%20%22black%22%2C%20%22fillColor%22%3A%20%22%23fd8d3c%22%2C%20%22fillOpacity%22%3A%200.6%2C%20%22opacity%22%3A%201%2C%20%22weight%22%3A%201%7D%7D%2C%20%22type%22%3A%20%22Feature%22%7D%2C%20%7B%22geometry%22%3A%20%7B%22coordinates%22%3A%20%5B%5B%5B127.03004539569396%2C%2037.36932312139811%5D%2C%20%5B127.02090967499298%2C%2037.348741503905366%5D%2C%20%5B127.03554038078946%2C%2037.341941908872045%5D%2C%20%5B127.04202153059128%2C%2037.318511731862884%5D%2C%20%5B127.06304327683587%2C%2037.30610813773979%5D%2C%20%5B127.06269400142102%2C%2037.293755190822594%5D%2C%20%5B127.09199113357242%2C%2037.295585212583866%5D%2C%20%5B127.10392750030913%2C%2037.31946377620277%5D%2C%20%5B127.13936654068314%2C%2037.321564168361974%5D%2C%20%5B127.1439713536275%2C%2037.33349026702227%5D%2C%20%5B127.13845652996186%2C%2037.336816804055495%5D%2C%20%5B127.11899182435063%2C%2037.33059044022546%5D%2C%20%5B127.07299151640797%2C%2037.35485426174942%5D%2C%20%5B127.03004539569396%2C%2037.36932312139811%5D%5D%5D%2C%20%22type%22%3A%20%22Polygon%22%7D%2C%20%22properties%22%3A%20%7B%22base_year%22%3A%202013%2C%20%22code%22%3A%2031193%2C%20%22highlight%22%3A%20%7B%7D%2C%20%22name%22%3A%20%22%5Cuc6a9%5Cuc778%5Cuc2dc%5Cuc218%5Cuc9c0%5Cuad6c%22%2C%20%22name_eng%22%3A%20%22Yonginsisujigu%22%2C%20%22style%22%3A%20%7B%22color%22%3A%20%22black%22%2C%20%22fillColor%22%3A%20%22%23fecc5c%22%2C%20%22fillOpacity%22%3A%200.6%2C%20%22opacity%22%3A%201%2C%20%22weight%22%3A%201%7D%7D%2C%20%22type%22%3A%20%22Feature%22%7D%2C%20%7B%22geometry%22%3A%20%7B%22coordinates%22%3A%20%5B%5B%5B127.09199113357242%2C%2037.295585212583866%5D%2C%20%5B127.09104881579566%2C%2037.284308786190785%5D%2C%20%5B127.06718840393803%2C%2037.26860748709257%5D%2C%20%5B127.08680542938673%2C%2037.253775982641194%5D%2C%20%5B127.06878518378286%2C%2037.23731339587258%5D%2C%20%5B127.09106338919456%2C%2037.21351968359228%5D%2C%20%5B127.15371679380591%2C%2037.215705679231036%5D%2C%20%5B127.15133830848096%2C%2037.23783513168847%5D%2C%20%5B127.17714136480691%2C%2037.255352775734025%5D%2C%20%5B127.17921513238925%2C%2037.282153169636494%5D%2C%20%5B127.13936654068314%2C%2037.321564168361974%5D%2C%20%5B127.10392750030913%2C%2037.31946377620277%5D%2C%20%5B127.09199113357242%2C%2037.295585212583866%5D%5D%5D%2C%20%22type%22%3A%20%22Polygon%22%7D%2C%20%22properties%22%3A%20%7B%22base_year%22%3A%202013%2C%20%22code%22%3A%2031192%2C%20%22highlight%22%3A%20%7B%7D%2C%20%22name%22%3A%20%22%5Cuc6a9%5Cuc778%5Cuc2dc%5Cuae30%5Cud765%5Cuad6c%22%2C%20%22name_eng%22%3A%20%22Yonginsigiheunggu%22%2C%20%22style%22%3A%20%7B%22color%22%3A%20%22black%22%2C%20%22fillColor%22%3A%20%22%23fd8d3c%22%2C%20%22fillOpacity%22%3A%200.6%2C%20%22opacity%22%3A%201%2C%20%22weight%22%3A%201%7D%7D%2C%20%22type%22%3A%20%22Feature%22%7D%2C%20%7B%22geometry%22%3A%20%7B%22coordinates%22%3A%20%5B%5B%5B127.34092967480524%2C%2037.26770614318737%5D%2C%20%5B127.32142008240551%2C%2037.27215636613311%5D%2C%20%5B127.28383871402815%2C%2037.2658807760632%5D%2C%20%5B127.2795205391003%2C%2037.306809952638524%5D%2C%20%5B127.28543362549937%2C%2037.3425335272208%5D%2C%20%5B127.26708575818817%2C%2037.33990127392118%5D%2C%20%5B127.23072982952925%2C%2037.35607967407726%5D%2C%20%5B127.21042746205282%2C%2037.32805374935785%5D%2C%20%5B127.19373839709431%2C%2037.34441869868583%5D%2C%20%5B127.1439713536275%2C%2037.33349026702227%5D%2C%20%5B127.13936654068314%2C%2037.321564168361974%5D%2C%20%5B127.17921513238925%2C%2037.282153169636494%5D%2C%20%5B127.17714136480691%2C%2037.255352775734025%5D%2C%20%5B127.15133830848096%2C%2037.23783513168847%5D%2C%20%5B127.15371679380591%2C%2037.215705679231036%5D%2C%20%5B127.16278322754954%2C%2037.17771519608909%5D%2C%20%5B127.13469226704495%2C%2037.165565916914176%5D%2C%20%5B127.12480483538663%2C%2037.14166379699704%5D%2C%20%5B127.11116461643066%2C%2037.123859739458304%5D%2C%20%5B127.12516729074011%2C%2037.08849523189945%5D%2C%20%5B127.16831604852223%2C%2037.083742477354726%5D%2C%20%5B127.19738813790079%2C%2037.08621655572156%5D%2C%20%5B127.21070673321714%2C%2037.1015342900424%5D%2C%20%5B127.23808463453801%2C%2037.11859194998404%5D%2C%20%5B127.25314613987028%2C%2037.120146872115946%5D%2C%20%5B127.2524045686932%2C%2037.142247323045744%5D%2C%20%5B127.29016455856019%2C%2037.1284169582523%5D%2C%20%5B127.3127600393989%2C%2037.10253147019345%5D%2C%20%5B127.32884755687247%2C%2037.11659174326816%5D%2C%20%5B127.34555940652085%2C%2037.10116608411004%5D%2C%20%5B127.36035341650685%2C%2037.104395022706164%5D%2C%20%5B127.40130784690913%2C%2037.09245087525459%5D%2C%20%5B127.42631296061737%2C%2037.09684636395198%5D%2C%20%5B127.4230458143012%2C%2037.123216212193206%5D%2C%20%5B127.43195960102275%2C%2037.144888798316245%5D%2C%20%5B127.41445191048162%2C%2037.152220061925426%5D%2C%20%5B127.41620898203362%2C%2037.17029801090558%5D%2C%20%5B127.38451468391715%2C%2037.17989930552182%5D%2C%20%5B127.38033957366586%2C%2037.19271119046181%5D%2C%20%5B127.3504254442421%2C%2037.20158943522061%5D%2C%20%5B127.33185727826834%2C%2037.21877880590886%5D%2C%20%5B127.34092967480524%2C%2037.26770614318737%5D%5D%5D%2C%20%22type%22%3A%20%22Polygon%22%7D%2C%20%22properties%22%3A%20%7B%22base_year%22%3A%202013%2C%20%22code%22%3A%2031191%2C%20%22highlight%22%3A%20%7B%7D%2C%20%22name%22%3A%20%22%5Cuc6a9%5Cuc778%5Cuc2dc%5Cucc98%5Cuc778%5Cuad6c%22%2C%20%22name_eng%22%3A%20%22Yonginsicheoingu%22%2C%20%22style%22%3A%20%7B%22color%22%3A%20%22black%22%2C%20%22fillColor%22%3A%20%22%23fecc5c%22%2C%20%22fillOpacity%22%3A%200.6%2C%20%22opacity%22%3A%201%2C%20%22weight%22%3A%201%7D%7D%2C%20%22type%22%3A%20%22Feature%22%7D%2C%20%7B%22geometry%22%3A%20%7B%22coordinates%22%3A%20%5B%5B%5B127.16683184366129%2C%2037.57672487388627%5D%2C%20%5B127.18408792330152%2C%2037.55814280369575%5D%2C%20%5B127.16530984307447%2C%2037.54221851258693%5D%2C%20%5B127.14672806823502%2C%2037.51415680680291%5D%2C%20%5B127.1634944215765%2C%2037.497445406097484%5D%2C%20%5B127.14206058413274%2C%2037.47089819098501%5D%2C%20%5B127.17807401290999%2C%2037.46939077799968%5D%2C%20%5B127.1831716097913%2C%2037.47048077053623%5D%2C%20%5B127.21785285379218%2C%2037.479493796173465%5D%2C%20%5B127.23892819551556%2C%2037.47240158876339%5D%2C%20%5B127.26066872639333%2C%2037.4867746581613%5D%2C%20%5B127.25539313999657%2C%2037.50044702706516%5D%2C%20%5B127.28971082577908%2C%2037.51069218442014%5D%2C%20%5B127.28111702399318%2C%2037.523561821461996%5D%2C%20%5B127.23688890922413%2C%2037.546307321113254%5D%2C%20%5B127.23635034049964%2C%2037.55494536243556%5D%2C%20%5B127.20140811211739%2C%2037.58834877432742%5D%2C%20%5B127.16683184366129%2C%2037.57672487388627%5D%5D%5D%2C%20%22type%22%3A%20%22Polygon%22%7D%2C%20%22properties%22%3A%20%7B%22base_year%22%3A%202013%2C%20%22code%22%3A%2031180%2C%20%22highlight%22%3A%20%7B%7D%2C%20%22name%22%3A%20%22%5Cud558%5Cub0a8%5Cuc2dc%22%2C%20%22name_eng%22%3A%20%22Hanam-si%22%2C%20%22style%22%3A%20%7B%22color%22%3A%20%22black%22%2C%20%22fillColor%22%3A%20%22%23fecc5c%22%2C%20%22fillOpacity%22%3A%200.6%2C%20%22opacity%22%3A%201%2C%20%22weight%22%3A%201%7D%7D%2C%20%22type%22%3A%20%22Feature%22%7D%2C%20%7B%22geometry%22%3A%20%7B%22coordinates%22%3A%20%5B%5B%5B127.04377994345505%2C%2037.41281928664435%5D%2C%20%5B127.0154646349186%2C%2037.411005997724835%5D%2C%20%5B126.98466887829045%2C%2037.39785909018114%5D%2C%20%5B126.96423328330341%2C%2037.358735102948096%5D%2C%20%5B126.94893535067122%2C%2037.32100738175514%5D%2C%20%5B126.93252071350132%2C%2037.30423856869929%5D%2C%20%5B126.93504702033805%2C%2037.3002209928663%5D%2C%20%5B126.96633916587045%2C%2037.29989574204989%5D%2C%20%5B126.98303616696394%2C%2037.32376927812144%5D%2C%20%5B127.02090967499298%2C%2037.348741503905366%5D%2C%20%5B127.03004539569396%2C%2037.36932312139811%5D%2C%20%5B127.04580444799605%2C%2037.40139072056455%5D%2C%20%5B127.04377994345505%2C%2037.41281928664435%5D%5D%5D%2C%20%22type%22%3A%20%22Polygon%22%7D%2C%20%22properties%22%3A%20%7B%22base_year%22%3A%202013%2C%20%22code%22%3A%2031170%2C%20%22highlight%22%3A%20%7B%7D%2C%20%22name%22%3A%20%22%5Cuc758%5Cuc655%5Cuc2dc%22%2C%20%22name_eng%22%3A%20%22Uiwang-si%22%2C%20%22style%22%3A%20%7B%22color%22%3A%20%22black%22%2C%20%22fillColor%22%3A%20%22%23fecc5c%22%2C%20%22fillOpacity%22%3A%200.6%2C%20%22opacity%22%3A%201%2C%20%22weight%22%3A%201%7D%7D%2C%20%22type%22%3A%20%22Feature%22%7D%2C%20%7B%22geometry%22%3A%20%7B%22coordinates%22%3A%20%5B%5B%5B126.96423328330341%2C%2037.358735102948096%5D%2C%20%5B126.9429122120182%2C%2037.37630880537034%5D%2C%20%5B126.9163870114383%2C%2037.37253977179312%5D%2C%20%5B126.89932903785872%2C%2037.35524703438324%5D%2C%20%5B126.88015838809775%2C%2037.316795632219964%5D%2C%20%5B126.9092771218202%2C%2037.318694910599305%5D%2C%20%5B126.93252071350132%2C%2037.30423856869929%5D%2C%20%5B126.94893535067122%2C%2037.32100738175514%5D%2C%20%5B126.96423328330341%2C%2037.358735102948096%5D%5D%5D%2C%20%22type%22%3A%20%22Polygon%22%7D%2C%20%22properties%22%3A%20%7B%22base_year%22%3A%202013%2C%20%22code%22%3A%2031160%2C%20%22highlight%22%3A%20%7B%7D%2C%20%22name%22%3A%20%22%5Cuad70%5Cud3ec%5Cuc2dc%22%2C%20%22name_eng%22%3A%20%22Gunpo-si%22%2C%20%22style%22%3A%20%7B%22color%22%3A%20%22black%22%2C%20%22fillColor%22%3A%20%22%23fecc5c%22%2C%20%22fillOpacity%22%3A%200.6%2C%20%22opacity%22%3A%201%2C%20%22weight%22%3A%201%7D%7D%2C%20%22type%22%3A%20%22Feature%22%7D%2C%20%7B%22geometry%22%3A%20%7B%22coordinates%22%3A%20%5B%5B%5B126.78024890848009%2C%2037.469000573789124%5D%2C%20%5B126.78043371089171%2C%2037.44800343708732%5D%2C%20%5B126.77110599967482%2C%2037.42452961090748%5D%2C%20%5B126.75529287233691%2C%2037.41984217802103%5D%2C%20%5B126.73861862061078%2C%2037.39261185865545%5D%2C%20%5B126.7029884306089%2C%2037.352119573644295%5D%2C%20%5B126.69453406156698%2C%2037.331064777919245%5D%2C%20%5B126.7248752674955%2C%2037.31058440885402%5D%2C%20%5B126.74059726902762%2C%2037.32685692943894%5D%2C%20%5B126.76357575956314%2C%2037.33864505297868%5D%2C%20%5B126.79105964941944%2C%2037.33699094698096%5D%2C%20%5B126.82580289305967%2C%2037.360321842249355%5D%2C%20%5B126.84283747134161%2C%2037.360869895636554%5D%2C%20%5B126.86691937294266%2C%2037.358697064350324%5D%2C%20%5B126.88400175928666%2C%2037.37340263600163%5D%2C%20%5B126.879093453746%2C%2037.399239167854816%5D%2C%20%5B126.85964157227416%2C%2037.398615706957116%5D%2C%20%5B126.8484052155556%2C%2037.40965572330444%5D%2C%20%5B126.8280587234361%2C%2037.456596986921056%5D%2C%20%5B126.78024890848009%2C%2037.469000573789124%5D%5D%5D%2C%20%22type%22%3A%20%22Polygon%22%7D%2C%20%22properties%22%3A%20%7B%22base_year%22%3A%202013%2C%20%22code%22%3A%2031150%2C%20%22highlight%22%3A%20%7B%7D%2C%20%22name%22%3A%20%22%5Cuc2dc%5Cud765%5Cuc2dc%22%2C%20%22name_eng%22%3A%20%22Siheung-si%22%2C%20%22style%22%3A%20%7B%22color%22%3A%20%22black%22%2C%20%22fillColor%22%3A%20%22%23fd8d3c%22%2C%20%22fillOpacity%22%3A%200.6%2C%20%22opacity%22%3A%201%2C%20%22weight%22%3A%201%7D%7D%2C%20%22type%22%3A%20%22Feature%22%7D%2C%20%7B%22geometry%22%3A%20%7B%22coordinates%22%3A%20%5B%5B%5B127.10575417734016%2C%2037.1407283236673%5D%2C%20%5B127.09596808287752%2C%2037.1566082978686%5D%2C%20%5B127.07609473440765%2C%2037.16092553278145%5D%2C%20%5B127.06660498380589%2C%2037.19589230774365%5D%2C%20%5B127.02929563655235%2C%2037.19787494412135%5D%2C%20%5B127.00186863458882%2C%2037.1747343711991%5D%2C%20%5B127.03019615684671%2C%2037.16027870494751%5D%2C%20%5B127.03746950511537%2C%2037.13336771678679%5D%2C%20%5B127.04304406837494%2C%2037.126222304219084%5D%2C%20%5B127.09127893510457%2C%2037.12882078023335%5D%2C%20%5B127.10575417734016%2C%2037.1407283236673%5D%5D%5D%2C%20%22type%22%3A%20%22Polygon%22%7D%2C%20%22properties%22%3A%20%7B%22base_year%22%3A%202013%2C%20%22code%22%3A%2031140%2C%20%22highlight%22%3A%20%7B%7D%2C%20%22name%22%3A%20%22%5Cuc624%5Cuc0b0%5Cuc2dc%22%2C%20%22name_eng%22%3A%20%22Osan-si%22%2C%20%22style%22%3A%20%7B%22color%22%3A%20%22black%22%2C%20%22fillColor%22%3A%20%22%23fecc5c%22%2C%20%22fillOpacity%22%3A%200.6%2C%20%22opacity%22%3A%201%2C%20%22weight%22%3A%201%7D%7D%2C%20%22type%22%3A%20%22Feature%22%7D%2C%20%7B%22geometry%22%3A%20%7B%22coordinates%22%3A%20%5B%5B%5B127.2686525155809%2C%2037.777676803810074%5D%2C%20%5B127.26186907661463%2C%2037.765678541736996%5D%2C%20%5B127.22719439323131%2C%2037.750666435161854%5D%2C%20%5B127.21510645674604%2C%2037.75873586709106%5D%2C%20%5B127.18575971970597%2C%2037.76186443408089%5D%2C%20%5B127.17524551122212%2C%2037.751938183429424%5D%2C%20%5B127.14882403466048%2C%2037.75206030443599%5D%2C%20%5B127.13060037316637%2C%2037.74504865443316%5D%2C%20%5B127.12788299600184%2C%2037.72469254066713%5D%2C%20%5B127.0838752703195%2C%2037.69359534202034%5D%2C%20%5B127.09706391309695%2C%2037.686383719372294%5D%2C%20%5B127.09440766298717%2C%2037.64713490473045%5D%2C%20%5B127.11326795855199%2C%2037.639622905315925%5D%2C%20%5B127.1523782881412%2C%2037.63663639743511%5D%2C%20%5B127.14554907981939%2C%2037.61784095180692%5D%2C%20%5B127.16683184366129%2C%2037.57672487388627%5D%2C%20%5B127.20140811211739%2C%2037.58834877432742%5D%2C%20%5B127.23635034049964%2C%2037.55494536243556%5D%2C%20%5B127.23688890922413%2C%2037.546307321113254%5D%2C%20%5B127.28111702399318%2C%2037.523561821461996%5D%2C%20%5B127.28971082577908%2C%2037.51069218442014%5D%2C%20%5B127.30923294884336%2C%2037.5135706079458%5D%2C%20%5B127.31002843450217%2C%2037.53523876142835%5D%2C%20%5B127.34360057873045%2C%2037.588997440929354%5D%2C%20%5B127.3542931884407%2C%2037.6250006376975%5D%2C%20%5B127.3732642199939%2C%2037.6453987554284%5D%2C%20%5B127.38133544278186%2C%2037.67180837890239%5D%2C%20%5B127.35557114419971%2C%2037.701041217064585%5D%2C%20%5B127.35759057077398%2C%2037.720909295881434%5D%2C%20%5B127.34501289752937%2C%2037.7266690692075%5D%2C%20%5B127.32070791913966%2C%2037.76445271893134%5D%2C%20%5B127.2686525155809%2C%2037.777676803810074%5D%5D%5D%2C%20%22type%22%3A%20%22Polygon%22%7D%2C%20%22properties%22%3A%20%7B%22base_year%22%3A%202013%2C%20%22code%22%3A%2031130%2C%20%22highlight%22%3A%20%7B%7D%2C%20%22name%22%3A%20%22%5Cub0a8%5Cuc591%5Cuc8fc%5Cuc2dc%22%2C%20%22name_eng%22%3A%20%22Namyangju-si%22%2C%20%22style%22%3A%20%7B%22color%22%3A%20%22black%22%2C%20%22fillColor%22%3A%20%22%23e31a1c%22%2C%20%22fillOpacity%22%3A%200.6%2C%20%22opacity%22%3A%201%2C%20%22weight%22%3A%201%7D%7D%2C%20%22type%22%3A%20%22Feature%22%7D%2C%20%7B%22geometry%22%3A%20%7B%22coordinates%22%3A%20%5B%5B%5B127.11326795855199%2C%2037.639622905315925%5D%2C%20%5B127.10782277688129%2C%2037.61804244241069%5D%2C%20%5B127.1201246020114%2C%2037.60178457598188%5D%2C%20%5B127.10304174249214%2C%2037.57076342290955%5D%2C%20%5B127.11519584981606%2C%2037.557533180704915%5D%2C%20%5B127.16683184366129%2C%2037.57672487388627%5D%2C%20%5B127.14554907981939%2C%2037.61784095180692%5D%2C%20%5B127.1523782881412%2C%2037.63663639743511%5D%2C%20%5B127.11326795855199%2C%2037.639622905315925%5D%5D%5D%2C%20%22type%22%3A%20%22Polygon%22%7D%2C%20%22properties%22%3A%20%7B%22base_year%22%3A%202013%2C%20%22code%22%3A%2031120%2C%20%22highlight%22%3A%20%7B%7D%2C%20%22name%22%3A%20%22%5Cuad6c%5Cub9ac%5Cuc2dc%22%2C%20%22name_eng%22%3A%20%22Guri-si%22%2C%20%22style%22%3A%20%7B%22color%22%3A%20%22black%22%2C%20%22fillColor%22%3A%20%22%23fecc5c%22%2C%20%22fillOpacity%22%3A%200.6%2C%20%22opacity%22%3A%201%2C%20%22weight%22%3A%201%7D%7D%2C%20%22type%22%3A%20%22Feature%22%7D%2C%20%7B%22geometry%22%3A%20%7B%22coordinates%22%3A%20%5B%5B%5B126.99072073195462%2C%2037.455326143310025%5D%2C%20%5B126.96520439085143%2C%2037.438249784006246%5D%2C%20%5B126.96342494806345%2C%2037.42289846046814%5D%2C%20%5B126.98466887829045%2C%2037.39785909018114%5D%2C%20%5B127.0154646349186%2C%2037.411005997724835%5D%2C%20%5B127.04377994345505%2C%2037.41281928664435%5D%2C%20%5B127.04957232987142%2C%2037.42805836845694%5D%2C%20%5B127.03881782597922%2C%2037.45382039851715%5D%2C%20%5B126.99072073195462%2C%2037.455326143310025%5D%5D%5D%2C%20%22type%22%3A%20%22Polygon%22%7D%2C%20%22properties%22%3A%20%7B%22base_year%22%3A%202013%2C%20%22code%22%3A%2031110%2C%20%22highlight%22%3A%20%7B%7D%2C%20%22name%22%3A%20%22%5Cuacfc%5Cucc9c%5Cuc2dc%22%2C%20%22name_eng%22%3A%20%22Gwacheon-si%22%2C%20%22style%22%3A%20%7B%22color%22%3A%20%22black%22%2C%20%22fillColor%22%3A%20%22%23ffffb2%22%2C%20%22fillOpacity%22%3A%200.6%2C%20%22opacity%22%3A%201%2C%20%22weight%22%3A%201%7D%7D%2C%20%22type%22%3A%20%22Feature%22%7D%2C%20%7B%22geometry%22%3A%20%7B%22coordinates%22%3A%20%5B%5B%5B126.67862254618308%2C%2037.697305342702336%5D%2C%20%5B126.6733552623039%2C%2037.67370888254625%5D%2C%20%5B126.74300328815525%2C%2037.63613822400079%5D%2C%20%5B126.74294383613385%2C%2037.6511173927548%5D%2C%20%5B126.77194259250199%2C%2037.665292527690774%5D%2C%20%5B126.78018904849759%2C%2037.678448868614744%5D%2C%20%5B126.77635483402547%2C%2037.70188604497484%5D%2C%20%5B126.72711651649912%2C%2037.70166318681986%5D%2C%20%5B126.69372674409394%2C%2037.687413022894034%5D%2C%20%5B126.67862254618308%2C%2037.697305342702336%5D%5D%5D%2C%20%22type%22%3A%20%22Polygon%22%7D%2C%20%22properties%22%3A%20%7B%22base_year%22%3A%202013%2C%20%22code%22%3A%2031104%2C%20%22highlight%22%3A%20%7B%7D%2C%20%22name%22%3A%20%22%5Cuace0%5Cuc591%5Cuc2dc%5Cuc77c%5Cuc0b0%5Cuc11c%5Cuad6c%22%2C%20%22name_eng%22%3A%20%22Goyangsiilsanseogu%22%2C%20%22style%22%3A%20%7B%22color%22%3A%20%22black%22%2C%20%22fillColor%22%3A%20%22%23fecc5c%22%2C%20%22fillOpacity%22%3A%200.6%2C%20%22opacity%22%3A%201%2C%20%22weight%22%3A%201%7D%7D%2C%20%22type%22%3A%20%22Feature%22%7D%2C%20%7B%22geometry%22%3A%20%7B%22coordinates%22%3A%20%5B%5B%5B126.77635483402547%2C%2037.70188604497484%5D%2C%20%5B126.78018904849759%2C%2037.678448868614744%5D%2C%20%5B126.77194259250199%2C%2037.665292527690774%5D%2C%20%5B126.74294383613385%2C%2037.6511173927548%5D%2C%20%5B126.74300328815525%2C%2037.63613822400079%5D%2C%20%5B126.77608157956732%2C%2037.61940269153496%5D%2C%20%5B126.79710848915354%2C%2037.6372950352041%5D%2C%20%5B126.83512162789108%2C%2037.680020660541864%5D%2C%20%5B126.85703023929057%2C%2037.68935027811791%5D%2C%20%5B126.83772078982989%2C%2037.72529130369535%5D%2C%20%5B126.81634118925638%2C%2037.72071803262515%5D%2C%20%5B126.79766531143225%2C%2037.730785143520876%5D%2C%20%5B126.77635483402547%2C%2037.70188604497484%5D%5D%5D%2C%20%22type%22%3A%20%22Polygon%22%7D%2C%20%22properties%22%3A%20%7B%22base_year%22%3A%202013%2C%20%22code%22%3A%2031103%2C%20%22highlight%22%3A%20%7B%7D%2C%20%22name%22%3A%20%22%5Cuace0%5Cuc591%5Cuc2dc%5Cuc77c%5Cuc0b0%5Cub3d9%5Cuad6c%22%2C%20%22name_eng%22%3A%20%22Goyangsiilsandonggu%22%2C%20%22style%22%3A%20%7B%22color%22%3A%20%22black%22%2C%20%22fillColor%22%3A%20%22%23fecc5c%22%2C%20%22fillOpacity%22%3A%200.6%2C%20%22opacity%22%3A%201%2C%20%22weight%22%3A%201%7D%7D%2C%20%22type%22%3A%20%22Feature%22%7D%2C%20%7B%22geometry%22%3A%20%7B%22coordinates%22%3A%20%5B%5B%5B126.83772078982989%2C%2037.72529130369535%5D%2C%20%5B126.85703023929057%2C%2037.68935027811791%5D%2C%20%5B126.83512162789108%2C%2037.680020660541864%5D%2C%20%5B126.79710848915354%2C%2037.6372950352041%5D%2C%20%5B126.77608157956732%2C%2037.61940269153496%5D%2C%20%5B126.80702115023597%2C%2037.60123001013228%5D%2C%20%5B126.82251438477105%2C%2037.5880430810082%5D%2C%20%5B126.85984199399667%2C%2037.571847855292745%5D%2C%20%5B126.88433284773288%2C%2037.588143322880526%5D%2C%20%5B126.90396681003595%2C%2037.59227403419942%5D%2C%20%5B126.90303066177668%2C%2037.609977911401344%5D%2C%20%5B126.91455481429648%2C%2037.64150050996935%5D%2C%20%5B126.956473797387%2C%2037.652480737339445%5D%2C%20%5B126.9738864128702%2C%2037.62949634786888%5D%2C%20%5B126.977175406416%2C%2037.62859715400388%5D%2C%20%5B126.98672705513869%2C%2037.63377641288196%5D%2C%20%5B126.9817452676551%2C%2037.65209769387776%5D%2C%20%5B126.99383903424%2C%2037.676681761199085%5D%2C%20%5B126.96734461801938%2C%2037.68969305565268%5D%2C%20%5B126.94689093217877%2C%2037.68234333447953%5D%2C%20%5B126.94191948970435%2C%2037.66797237250146%5D%2C%20%5B126.92290257733573%2C%2037.66907383915535%5D%2C%20%5B126.92470886562188%2C%2037.72916078041937%5D%2C%20%5B126.93180653905974%2C%2037.74575671706106%5D%2C%20%5B126.91088793086112%2C%2037.74418199544871%5D%2C%20%5B126.90425036668735%2C%2037.72565605361581%5D%2C%20%5B126.88536540501534%2C%2037.717034664244366%5D%2C%20%5B126.85856020555829%2C%2037.73179451375736%5D%2C%20%5B126.83772078982989%2C%2037.72529130369535%5D%5D%5D%2C%20%22type%22%3A%20%22Polygon%22%7D%2C%20%22properties%22%3A%20%7B%22base_year%22%3A%202013%2C%20%22code%22%3A%2031101%2C%20%22highlight%22%3A%20%7B%7D%2C%20%22name%22%3A%20%22%5Cuace0%5Cuc591%5Cuc2dc%5Cub355%5Cuc591%5Cuad6c%22%2C%20%22name_eng%22%3A%20%22Goyangsideogyanggu%22%2C%20%22style%22%3A%20%7B%22color%22%3A%20%22black%22%2C%20%22fillColor%22%3A%20%22%23fd8d3c%22%2C%20%22fillOpacity%22%3A%200.6%2C%20%22opacity%22%3A%201%2C%20%22weight%22%3A%201%7D%7D%2C%20%22type%22%3A%20%22Feature%22%7D%2C%20%7B%22geometry%22%3A%20%7B%22coordinates%22%3A%20%5B%5B%5B%5B126.61008573444688%2C%2037.30616739414492%5D%2C%20%5B126.58105759521007%2C%2037.2931329422869%5D%2C%20%5B126.5698046807071%2C%2037.27852472009729%5D%2C%20%5B126.55067246352256%2C%2037.27712401368454%5D%2C%20%5B126.56507568780702%2C%2037.25336773744705%5D%2C%20%5B126.56255063831487%2C%2037.239416423702146%5D%2C%20%5B126.54375626154638%2C%2037.22229105408503%5D%2C%20%5B126.546463851695%2C%2037.20350714902179%5D%2C%20%5B126.5705815554123%2C%2037.2014655738836%5D%2C%20%5B126.58721308393721%2C%2037.21775435498544%5D%2C%20%5B126.64889918632674%2C%2037.20793069915704%5D%2C%20%5B126.65235349062866%2C%2037.22264393643188%5D%2C%20%5B126.62465751982253%2C%2037.233811135502776%5D%2C%20%5B126.61085741500113%2C%2037.260209230779175%5D%2C%20%5B126.59892279766748%2C%2037.25959717398652%5D%2C%20%5B126.57228115154807%2C%2037.277020701082655%5D%2C%20%5B126.61008573444688%2C%2037.30616739414492%5D%5D%5D%2C%20%5B%5B%5B126.84283747134161%2C%2037.360869895636554%5D%2C%20%5B126.82580289305967%2C%2037.360321842249355%5D%2C%20%5B126.79105964941944%2C%2037.33699094698096%5D%2C%20%5B126.76357575956314%2C%2037.33864505297868%5D%2C%20%5B126.74059726902762%2C%2037.32685692943894%5D%2C%20%5B126.7248752674955%2C%2037.31058440885402%5D%2C%20%5B126.72765029203323%2C%2037.29949771063766%5D%2C%20%5B126.77466340206773%2C%2037.286577751987956%5D%2C%20%5B126.8184033400877%2C%2037.295179006004226%5D%2C%20%5B126.84357462735869%2C%2037.30283998653071%5D%2C%20%5B126.84283747134161%2C%2037.360869895636554%5D%5D%5D%5D%2C%20%22type%22%3A%20%22MultiPolygon%22%7D%2C%20%22properties%22%3A%20%7B%22base_year%22%3A%202013%2C%20%22code%22%3A%2031092%2C%20%22highlight%22%3A%20%7B%7D%2C%20%22name%22%3A%20%22%5Cuc548%5Cuc0b0%5Cuc2dc%5Cub2e8%5Cuc6d0%5Cuad6c%22%2C%20%22name_eng%22%3A%20%22Ansansidanwongu%22%2C%20%22style%22%3A%20%7B%22color%22%3A%20%22black%22%2C%20%22fillColor%22%3A%20%22%23fd8d3c%22%2C%20%22fillOpacity%22%3A%200.6%2C%20%22opacity%22%3A%201%2C%20%22weight%22%3A%201%7D%7D%2C%20%22type%22%3A%20%22Feature%22%7D%2C%20%7B%22geometry%22%3A%20%7B%22coordinates%22%3A%20%5B%5B%5B126.84283747134161%2C%2037.360869895636554%5D%2C%20%5B126.84357462735869%2C%2037.30283998653071%5D%2C%20%5B126.8184033400877%2C%2037.295179006004226%5D%2C%20%5B126.84641021832398%2C%2037.26433293772644%5D%2C%20%5B126.9159468889861%2C%2037.28864104563552%5D%2C%20%5B126.92946761531998%2C%2037.275967848758626%5D%2C%20%5B126.93504702033805%2C%2037.3002209928663%5D%2C%20%5B126.93252071350132%2C%2037.30423856869929%5D%2C%20%5B126.9092771218202%2C%2037.318694910599305%5D%2C%20%5B126.88015838809775%2C%2037.316795632219964%5D%2C%20%5B126.89932903785872%2C%2037.35524703438324%5D%2C%20%5B126.88400175928666%2C%2037.37340263600163%5D%2C%20%5B126.86691937294266%2C%2037.358697064350324%5D%2C%20%5B126.84283747134161%2C%2037.360869895636554%5D%5D%5D%2C%20%22type%22%3A%20%22Polygon%22%7D%2C%20%22properties%22%3A%20%7B%22base_year%22%3A%202013%2C%20%22code%22%3A%2031091%2C%20%22highlight%22%3A%20%7B%7D%2C%20%22name%22%3A%20%22%5Cuc548%5Cuc0b0%5Cuc2dc%5Cuc0c1%5Cub85d%5Cuad6c%22%2C%20%22name_eng%22%3A%20%22Ansansisangnokgu%22%2C%20%22style%22%3A%20%7B%22color%22%3A%20%22black%22%2C%20%22fillColor%22%3A%20%22%23fd8d3c%22%2C%20%22fillOpacity%22%3A%200.6%2C%20%22opacity%22%3A%201%2C%20%22weight%22%3A%201%7D%7D%2C%20%22type%22%3A%20%22Feature%22%7D%2C%20%7B%22geometry%22%3A%20%7B%22coordinates%22%3A%20%5B%5B%5B127.01215278654801%2C%2037.924817815480985%5D%2C%20%5B127.01281974367026%2C%2037.90171539201257%5D%2C%20%5B127.04837406784853%2C%2037.891090496591005%5D%2C%20%5B127.06250430862417%2C%2037.86658619508279%5D%2C%20%5B127.09509254572018%2C%2037.86843288571378%5D%2C%20%5B127.1113003891929%2C%2037.85708813371199%5D%2C%20%5B127.13067707221735%2C%2037.87115064756639%5D%2C%20%5B127.14908802054492%2C%2037.87326470277757%5D%2C%20%5B127.15777209998105%2C%2037.89291633342494%5D%2C%20%5B127.1480788721724%2C%2037.909108279220675%5D%2C%20%5B127.1240834119586%2C%2037.913726790414486%5D%2C%20%5B127.09382742820131%2C%2037.968691278173%5D%2C%20%5B127.05589127856165%2C%2037.978154747876275%5D%2C%20%5B127.02968085272437%2C%2037.9404013715077%5D%2C%20%5B127.01215278654801%2C%2037.924817815480985%5D%5D%5D%2C%20%22type%22%3A%20%22Polygon%22%7D%2C%20%22properties%22%3A%20%7B%22base_year%22%3A%202013%2C%20%22code%22%3A%2031080%2C%20%22highlight%22%3A%20%7B%7D%2C%20%22name%22%3A%20%22%5Cub3d9%5Cub450%5Cucc9c%5Cuc2dc%22%2C%20%22name_eng%22%3A%20%22Dongducheon-si%22%2C%20%22style%22%3A%20%7B%22color%22%3A%20%22black%22%2C%20%22fillColor%22%3A%20%22%23ffffb2%22%2C%20%22fillOpacity%22%3A%200.6%2C%20%22opacity%22%3A%201%2C%20%22weight%22%3A%201%7D%7D%2C%20%22type%22%3A%20%22Feature%22%7D%2C%20%7B%22geometry%22%3A%20%7B%22coordinates%22%3A%20%5B%5B%5B127.10575417734016%2C%2037.1407283236673%5D%2C%20%5B127.09127893510457%2C%2037.12882078023335%5D%2C%20%5B127.04304406837494%2C%2037.126222304219084%5D%2C%20%5B127.03746950511537%2C%2037.13336771678679%5D%2C%20%5B127.00593012741142%2C%2037.124105707924144%5D%2C%20%5B127.00102521866197%2C%2037.08973596266607%5D%2C%20%5B126.98672297136514%2C%2037.06879655242586%5D%2C%20%5B126.95290081243859%2C%2037.06545814826726%5D%2C%20%5B126.94247588185057%2C%2037.057958386286046%5D%2C%20%5B126.90291323437098%2C%2037.06724127811693%5D%2C%20%5B126.8846211892453%2C%2037.05795114472113%5D%2C%20%5B126.85940022959993%2C%2037.022131594683266%5D%2C%20%5B126.84014623559027%2C%2037.01079503386266%5D%2C%20%5B126.79899352215931%2C%2037.0092005991418%5D%2C%20%5B126.79429045878248%2C%2037.002375311346476%5D%2C%20%5B126.82743835677269%2C%2036.984262588052744%5D%2C%20%5B126.84836832892641%2C%2036.9565513163949%5D%2C%20%5B126.86448993272457%2C%2036.94597945683675%5D%2C%20%5B126.86630821363053%2C%2036.92982214702114%5D%2C%20%5B126.88907059918661%2C%2036.933221090048846%5D%2C%20%5B126.90658712032098%2C%2036.92311369494381%5D%2C%20%5B126.91083667953751%2C%2036.90208156398722%5D%2C%20%5B126.99750165503437%2C%2036.93264776697853%5D%2C%20%5B127.03383288513524%2C%2036.925469265383704%5D%2C%20%5B127.07603768486679%2C%2036.935523531907464%5D%2C%20%5B127.11553676419611%2C%2036.969747255651924%5D%2C%20%5B127.1216062947912%2C%2036.96626164975953%5D%2C%20%5B127.13779801966723%2C%2036.99041291045364%5D%2C%20%5B127.15496570056612%2C%2036.99487383420599%5D%2C%20%5B127.14747724307254%2C%2037.0138188945719%5D%2C%20%5B127.15517998352519%2C%2037.026613262831916%5D%2C%20%5B127.10740090841584%2C%2037.0328875639127%5D%2C%20%5B127.12948838054707%2C%2037.04966079815856%5D%2C%20%5B127.12516729074011%2C%2037.08849523189945%5D%2C%20%5B127.11116461643066%2C%2037.123859739458304%5D%2C%20%5B127.12480483538663%2C%2037.14166379699704%5D%2C%20%5B127.10575417734016%2C%2037.1407283236673%5D%5D%5D%2C%20%22type%22%3A%20%22Polygon%22%7D%2C%20%22properties%22%3A%20%7B%22base_year%22%3A%202013%2C%20%22code%22%3A%2031070%2C%20%22highlight%22%3A%20%7B%7D%2C%20%22name%22%3A%20%22%5Cud3c9%5Cud0dd%5Cuc2dc%22%2C%20%22name_eng%22%3A%20%22Pyeongtaek-si%22%2C%20%22style%22%3A%20%7B%22color%22%3A%20%22black%22%2C%20%22fillColor%22%3A%20%22%23fd8d3c%22%2C%20%22fillOpacity%22%3A%200.6%2C%20%22opacity%22%3A%201%2C%20%22weight%22%3A%201%7D%7D%2C%20%22type%22%3A%20%22Feature%22%7D%2C%20%7B%22geometry%22%3A%20%7B%22coordinates%22%3A%20%5B%5B%5B126.83549485076196%2C%2037.474098236975095%5D%2C%20%5B126.8280587234361%2C%2037.456596986921056%5D%2C%20%5B126.8484052155556%2C%2037.40965572330444%5D%2C%20%5B126.85964157227416%2C%2037.398615706957116%5D%2C%20%5B126.879093453746%2C%2037.399239167854816%5D%2C%20%5B126.9025831711697%2C%2037.434549366349124%5D%2C%20%5B126.87683271502428%2C%2037.482576591607305%5D%2C%20%5B126.84762676054953%2C%2037.47146723936323%5D%2C%20%5B126.83549485076196%2C%2037.474098236975095%5D%5D%5D%2C%20%22type%22%3A%20%22Polygon%22%7D%2C%20%22properties%22%3A%20%7B%22base_year%22%3A%202013%2C%20%22code%22%3A%2031060%2C%20%22highlight%22%3A%20%7B%7D%2C%20%22name%22%3A%20%22%5Cuad11%5Cuba85%5Cuc2dc%22%2C%20%22name_eng%22%3A%20%22Gwangmyeong-si%22%2C%20%22style%22%3A%20%7B%22color%22%3A%20%22black%22%2C%20%22fillColor%22%3A%20%22%23fd8d3c%22%2C%20%22fillOpacity%22%3A%200.6%2C%20%22opacity%22%3A%201%2C%20%22weight%22%3A%201%7D%7D%2C%20%22type%22%3A%20%22Feature%22%7D%2C%20%7B%22geometry%22%3A%20%7B%22coordinates%22%3A%20%5B%5B%5B126.76979180579352%2C%2037.55139183008809%5D%2C%20%5B126.76241572251033%2C%2037.52129679978721%5D%2C%20%5B126.76236682035514%2C%2037.51516388559986%5D%2C%20%5B126.79948253277924%2C%2037.50297839620806%5D%2C%20%5B126.82504736331406%2C%2037.50302612640443%5D%2C%20%5B126.82688081517314%2C%2037.50548972232896%5D%2C%20%5B126.8242331426722%2C%2037.53788078753248%5D%2C%20%5B126.77324417717703%2C%2037.5459123450554%5D%2C%20%5B126.76979180579352%2C%2037.55139183008809%5D%5D%5D%2C%20%22type%22%3A%20%22Polygon%22%7D%2C%20%22properties%22%3A%20%7B%22base_year%22%3A%202013%2C%20%22code%22%3A%2031053%2C%20%22highlight%22%3A%20%7B%7D%2C%20%22name%22%3A%20%22%5Cubd80%5Cucc9c%5Cuc2dc%5Cuc624%5Cuc815%5Cuad6c%22%2C%20%22name_eng%22%3A%20%22Bucheonsiojeonggu%22%2C%20%22style%22%3A%20%7B%22color%22%3A%20%22black%22%2C%20%22fillColor%22%3A%20%22%23fecc5c%22%2C%20%22fillOpacity%22%3A%200.6%2C%20%22opacity%22%3A%201%2C%20%22weight%22%3A%201%7D%7D%2C%20%22type%22%3A%20%22Feature%22%7D%2C%20%7B%22geometry%22%3A%20%7B%22coordinates%22%3A%20%5B%5B%5B126.82264796791348%2C%2037.4878476492147%5D%2C%20%5B126.80525536231318%2C%2037.479599517462205%5D%2C%20%5B126.74449661749888%2C%2037.48568861244349%5D%2C%20%5B126.76982226270037%2C%2037.468955688388995%5D%2C%20%5B126.78024890848009%2C%2037.469000573789124%5D%2C%20%5B126.8280587234361%2C%2037.456596986921056%5D%2C%20%5B126.83549485076196%2C%2037.474098236975095%5D%2C%20%5B126.82264796791348%2C%2037.4878476492147%5D%5D%5D%2C%20%22type%22%3A%20%22Polygon%22%7D%2C%20%22properties%22%3A%20%7B%22base_year%22%3A%202013%2C%20%22code%22%3A%2031052%2C%20%22highlight%22%3A%20%7B%7D%2C%20%22name%22%3A%20%22%5Cubd80%5Cucc9c%5Cuc2dc%5Cuc18c%5Cuc0ac%5Cuad6c%22%2C%20%22name_eng%22%3A%20%22Bucheonsisosagu%22%2C%20%22style%22%3A%20%7B%22color%22%3A%20%22black%22%2C%20%22fillColor%22%3A%20%22%23fecc5c%22%2C%20%22fillOpacity%22%3A%200.6%2C%20%22opacity%22%3A%201%2C%20%22weight%22%3A%201%7D%7D%2C%20%22type%22%3A%20%22Feature%22%7D%2C%20%7B%22geometry%22%3A%20%7B%22coordinates%22%3A%20%5B%5B%5B126.76236682035514%2C%2037.51516388559986%5D%2C%20%5B126.74717949233765%2C%2037.511283448979185%5D%2C%20%5B126.74449661749888%2C%2037.48568861244349%5D%2C%20%5B126.80525536231318%2C%2037.479599517462205%5D%2C%20%5B126.82264796791348%2C%2037.4878476492147%5D%2C%20%5B126.82504736331406%2C%2037.50302612640443%5D%2C%20%5B126.79948253277924%2C%2037.50297839620806%5D%2C%20%5B126.76236682035514%2C%2037.51516388559986%5D%5D%5D%2C%20%22type%22%3A%20%22Polygon%22%7D%2C%20%22properties%22%3A%20%7B%22base_year%22%3A%202013%2C%20%22code%22%3A%2031051%2C%20%22highlight%22%3A%20%7B%7D%2C%20%22name%22%3A%20%22%5Cubd80%5Cucc9c%5Cuc2dc%5Cuc6d0%5Cubbf8%5Cuad6c%22%2C%20%22name_eng%22%3A%20%22Bucheonsiwonmigu%22%2C%20%22style%22%3A%20%7B%22color%22%3A%20%22black%22%2C%20%22fillColor%22%3A%20%22%23fd8d3c%22%2C%20%22fillOpacity%22%3A%200.6%2C%20%22opacity%22%3A%201%2C%20%22weight%22%3A%201%7D%7D%2C%20%22type%22%3A%20%22Feature%22%7D%2C%20%7B%22geometry%22%3A%20%7B%22coordinates%22%3A%20%5B%5B%5B126.95000001010182%2C%2037.43613451165719%5D%2C%20%5B126.949527627869%2C%2037.419039331795105%5D%2C%20%5B126.92899112782491%2C%2037.41260755123917%5D%2C%20%5B126.9429122120182%2C%2037.37630880537034%5D%2C%20%5B126.96423328330341%2C%2037.358735102948096%5D%2C%20%5B126.98466887829045%2C%2037.39785909018114%5D%2C%20%5B126.96342494806345%2C%2037.42289846046814%5D%2C%20%5B126.96520439085143%2C%2037.438249784006246%5D%2C%20%5B126.95000001010182%2C%2037.43613451165719%5D%5D%5D%2C%20%22type%22%3A%20%22Polygon%22%7D%2C%20%22properties%22%3A%20%7B%22base_year%22%3A%202013%2C%20%22code%22%3A%2031042%2C%20%22highlight%22%3A%20%7B%7D%2C%20%22name%22%3A%20%22%5Cuc548%5Cuc591%5Cuc2dc%5Cub3d9%5Cuc548%5Cuad6c%22%2C%20%22name_eng%22%3A%20%22Anyangsidongangu%22%2C%20%22style%22%3A%20%7B%22color%22%3A%20%22black%22%2C%20%22fillColor%22%3A%20%22%23fd8d3c%22%2C%20%22fillOpacity%22%3A%200.6%2C%20%22opacity%22%3A%201%2C%20%22weight%22%3A%201%7D%7D%2C%20%22type%22%3A%20%22Feature%22%7D%2C%20%7B%22geometry%22%3A%20%7B%22coordinates%22%3A%20%5B%5B%5B126.93084408056525%2C%2037.447382928333994%5D%2C%20%5B126.9025831711697%2C%2037.434549366349124%5D%2C%20%5B126.879093453746%2C%2037.399239167854816%5D%2C%20%5B126.88400175928666%2C%2037.37340263600163%5D%2C%20%5B126.89932903785872%2C%2037.35524703438324%5D%2C%20%5B126.9163870114383%2C%2037.37253977179312%5D%2C%20%5B126.9429122120182%2C%2037.37630880537034%5D%2C%20%5B126.92899112782491%2C%2037.41260755123917%5D%2C%20%5B126.949527627869%2C%2037.419039331795105%5D%2C%20%5B126.95000001010182%2C%2037.43613451165719%5D%2C%20%5B126.93084408056525%2C%2037.447382928333994%5D%5D%5D%2C%20%22type%22%3A%20%22Polygon%22%7D%2C%20%22properties%22%3A%20%7B%22base_year%22%3A%202013%2C%20%22code%22%3A%2031041%2C%20%22highlight%22%3A%20%7B%7D%2C%20%22name%22%3A%20%22%5Cuc548%5Cuc591%5Cuc2dc%5Cub9cc%5Cuc548%5Cuad6c%22%2C%20%22name_eng%22%3A%20%22Anyangsimanangu%22%2C%20%22style%22%3A%20%7B%22color%22%3A%20%22black%22%2C%20%22fillColor%22%3A%20%22%23fecc5c%22%2C%20%22fillOpacity%22%3A%200.6%2C%20%22opacity%22%3A%201%2C%20%22weight%22%3A%201%7D%7D%2C%20%22type%22%3A%20%22Feature%22%7D%2C%20%7B%22geometry%22%3A%20%7B%22coordinates%22%3A%20%5B%5B%5B127.10645686970089%2C%2037.776897580693586%5D%2C%20%5B127.05297245855259%2C%2037.75816755994106%5D%2C%20%5B127.02081299427202%2C%2037.76581418787214%5D%2C%20%5B127.00437834122181%2C%2037.75999833868866%5D%2C%20%5B127.00430024727942%2C%2037.73792676357612%5D%2C%20%5B127.01477890845196%2C%2037.722832167524864%5D%2C%20%5B127.01795099203432%2C%2037.69824412775662%5D%2C%20%5B127.05288479710485%2C%2037.68423857084347%5D%2C%20%5B127.0838752703195%2C%2037.69359534202034%5D%2C%20%5B127.12788299600184%2C%2037.72469254066713%5D%2C%20%5B127.13060037316637%2C%2037.74504865443316%5D%2C%20%5B127.14882403466048%2C%2037.75206030443599%5D%2C%20%5B127.14177735342194%2C%2037.76129795333661%5D%2C%20%5B127.10645686970089%2C%2037.776897580693586%5D%5D%5D%2C%20%22type%22%3A%20%22Polygon%22%7D%2C%20%22properties%22%3A%20%7B%22base_year%22%3A%202013%2C%20%22code%22%3A%2031030%2C%20%22highlight%22%3A%20%7B%7D%2C%20%22name%22%3A%20%22%5Cuc758%5Cuc815%5Cubd80%5Cuc2dc%22%2C%20%22name_eng%22%3A%20%22Uijeongbu-si%22%2C%20%22style%22%3A%20%7B%22color%22%3A%20%22black%22%2C%20%22fillColor%22%3A%20%22%23fd8d3c%22%2C%20%22fillOpacity%22%3A%200.6%2C%20%22opacity%22%3A%201%2C%20%22weight%22%3A%201%7D%7D%2C%20%22type%22%3A%20%22Feature%22%7D%2C%20%7B%22geometry%22%3A%20%7B%22coordinates%22%3A%20%5B%5B%5B127.17637586604776%2C%2037.40261052326208%5D%2C%20%5B127.13644513246508%2C%2037.41439912020601%5D%2C%20%5B127.12007310029206%2C%2037.41239460373164%5D%2C%20%5B127.08636547533024%2C%2037.39425612519828%5D%2C%20%5B127.04580444799605%2C%2037.40139072056455%5D%2C%20%5B127.03004539569396%2C%2037.36932312139811%5D%2C%20%5B127.07299151640797%2C%2037.35485426174942%5D%2C%20%5B127.11899182435063%2C%2037.33059044022546%5D%2C%20%5B127.13845652996186%2C%2037.336816804055495%5D%2C%20%5B127.13605700285002%2C%2037.35565614606753%5D%2C%20%5B127.15506886795262%2C%2037.36076173403712%5D%2C%20%5B127.17637586604776%2C%2037.40261052326208%5D%5D%5D%2C%20%22type%22%3A%20%22Polygon%22%7D%2C%20%22properties%22%3A%20%7B%22base_year%22%3A%202013%2C%20%22code%22%3A%2031023%2C%20%22highlight%22%3A%20%7B%7D%2C%20%22name%22%3A%20%22%5Cuc131%5Cub0a8%5Cuc2dc%5Cubd84%5Cub2f9%5Cuad6c%22%2C%20%22name_eng%22%3A%20%22Seongnamsibundanggu%22%2C%20%22style%22%3A%20%7B%22color%22%3A%20%22black%22%2C%20%22fillColor%22%3A%20%22%23fd8d3c%22%2C%20%22fillOpacity%22%3A%200.6%2C%20%22opacity%22%3A%201%2C%20%22weight%22%3A%201%7D%7D%2C%20%22type%22%3A%20%22Feature%22%7D%2C%20%7B%22geometry%22%3A%20%7B%22coordinates%22%3A%20%5B%5B%5B127.17807401290999%2C%2037.46939077799968%5D%2C%20%5B127.1582459546436%2C%2037.44164184148139%5D%2C%20%5B127.12050056435223%2C%2037.429512812695165%5D%2C%20%5B127.12007310029206%2C%2037.41239460373164%5D%2C%20%5B127.13644513246508%2C%2037.41439912020601%5D%2C%20%5B127.17637586604776%2C%2037.40261052326208%5D%2C%20%5B127.19594474070001%2C%2037.421269309284035%5D%2C%20%5B127.19808034941583%2C%2037.441066604883545%5D%2C%20%5B127.1831716097913%2C%2037.47048077053623%5D%2C%20%5B127.17807401290999%2C%2037.46939077799968%5D%5D%5D%2C%20%22type%22%3A%20%22Polygon%22%7D%2C%20%22properties%22%3A%20%7B%22base_year%22%3A%202013%2C%20%22code%22%3A%2031022%2C%20%22highlight%22%3A%20%7B%7D%2C%20%22name%22%3A%20%22%5Cuc131%5Cub0a8%5Cuc2dc%5Cuc911%5Cuc6d0%5Cuad6c%22%2C%20%22name_eng%22%3A%20%22Seongnamsijungwongu%22%2C%20%22style%22%3A%20%7B%22color%22%3A%20%22black%22%2C%20%22fillColor%22%3A%20%22%23fecc5c%22%2C%20%22fillOpacity%22%3A%200.6%2C%20%22opacity%22%3A%201%2C%20%22weight%22%3A%201%7D%7D%2C%20%22type%22%3A%20%22Feature%22%7D%2C%20%7B%22geometry%22%3A%20%7B%22coordinates%22%3A%20%5B%5B%5B127.17807401290999%2C%2037.46939077799968%5D%2C%20%5B127.14206058413274%2C%2037.47089819098501%5D%2C%20%5B127.12440571080893%2C%2037.46240445587048%5D%2C%20%5B127.09842759318751%2C%2037.45862253857461%5D%2C%20%5B127.09046928565951%2C%2037.44296826114185%5D%2C%20%5B127.06778107605433%2C%2037.426197424057314%5D%2C%20%5B127.04957232987142%2C%2037.42805836845694%5D%2C%20%5B127.04377994345505%2C%2037.41281928664435%5D%2C%20%5B127.04580444799605%2C%2037.40139072056455%5D%2C%20%5B127.08636547533024%2C%2037.39425612519828%5D%2C%20%5B127.12007310029206%2C%2037.41239460373164%5D%2C%20%5B127.12050056435223%2C%2037.429512812695165%5D%2C%20%5B127.1582459546436%2C%2037.44164184148139%5D%2C%20%5B127.17807401290999%2C%2037.46939077799968%5D%5D%5D%2C%20%22type%22%3A%20%22Polygon%22%7D%2C%20%22properties%22%3A%20%7B%22base_year%22%3A%202013%2C%20%22code%22%3A%2031021%2C%20%22highlight%22%3A%20%7B%7D%2C%20%22name%22%3A%20%22%5Cuc131%5Cub0a8%5Cuc2dc%5Cuc218%5Cuc815%5Cuad6c%22%2C%20%22name_eng%22%3A%20%22Seongnamsisujeonggu%22%2C%20%22style%22%3A%20%7B%22color%22%3A%20%22black%22%2C%20%22fillColor%22%3A%20%22%23fecc5c%22%2C%20%22fillOpacity%22%3A%200.6%2C%20%22opacity%22%3A%201%2C%20%22weight%22%3A%201%7D%7D%2C%20%22type%22%3A%20%22Feature%22%7D%2C%20%7B%22geometry%22%3A%20%7B%22coordinates%22%3A%20%5B%5B%5B127.09199113357242%2C%2037.295585212583866%5D%2C%20%5B127.06269400142102%2C%2037.293755190822594%5D%2C%20%5B127.06304327683587%2C%2037.30610813773979%5D%2C%20%5B127.04202153059128%2C%2037.318511731862884%5D%2C%20%5B127.03603479622558%2C%2037.29037288813064%5D%2C%20%5B127.04615738146016%2C%2037.271876342625866%5D%2C%20%5B127.03877682368464%2C%2037.253688200306506%5D%2C%20%5B127.04178611512381%2C%2037.24066886027782%5D%2C%20%5B127.06878518378286%2C%2037.23731339587258%5D%2C%20%5B127.08680542938673%2C%2037.253775982641194%5D%2C%20%5B127.06718840393803%2C%2037.26860748709257%5D%2C%20%5B127.09104881579566%2C%2037.284308786190785%5D%2C%20%5B127.09199113357242%2C%2037.295585212583866%5D%5D%5D%2C%20%22type%22%3A%20%22Polygon%22%7D%2C%20%22properties%22%3A%20%7B%22base_year%22%3A%202013%2C%20%22code%22%3A%2031014%2C%20%22highlight%22%3A%20%7B%7D%2C%20%22name%22%3A%20%22%5Cuc218%5Cuc6d0%5Cuc2dc%5Cuc601%5Cud1b5%5Cuad6c%22%2C%20%22name_eng%22%3A%20%22Suwonsiyeongtonggu%22%2C%20%22style%22%3A%20%7B%22color%22%3A%20%22black%22%2C%20%22fillColor%22%3A%20%22%23fecc5c%22%2C%20%22fillOpacity%22%3A%200.6%2C%20%22opacity%22%3A%201%2C%20%22weight%22%3A%201%7D%7D%2C%20%22type%22%3A%20%22Feature%22%7D%2C%20%7B%22geometry%22%3A%20%7B%22coordinates%22%3A%20%5B%5B%5B127.03603479622558%2C%2037.29037288813064%5D%2C%20%5B127.01130838681644%2C%2037.28269167363659%5D%2C%20%5B126.98086459483812%2C%2037.283743689221225%5D%2C%20%5B127.03877682368464%2C%2037.253688200306506%5D%2C%20%5B127.04615738146016%2C%2037.271876342625866%5D%2C%20%5B127.03603479622558%2C%2037.29037288813064%5D%5D%5D%2C%20%22type%22%3A%20%22Polygon%22%7D%2C%20%22properties%22%3A%20%7B%22base_year%22%3A%202013%2C%20%22code%22%3A%2031013%2C%20%22highlight%22%3A%20%7B%7D%2C%20%22name%22%3A%20%22%5Cuc218%5Cuc6d0%5Cuc2dc%5Cud314%5Cub2ec%5Cuad6c%22%2C%20%22name_eng%22%3A%20%22Suwonsipaldalgu%22%2C%20%22style%22%3A%20%7B%22color%22%3A%20%22black%22%2C%20%22fillColor%22%3A%20%22%23fecc5c%22%2C%20%22fillOpacity%22%3A%200.6%2C%20%22opacity%22%3A%201%2C%20%22weight%22%3A%201%7D%7D%2C%20%22type%22%3A%20%22Feature%22%7D%2C%20%7B%22geometry%22%3A%20%7B%22coordinates%22%3A%20%5B%5B%5B126.96633916587045%2C%2037.29989574204989%5D%2C%20%5B126.93504702033805%2C%2037.3002209928663%5D%2C%20%5B126.92946761531998%2C%2037.275967848758626%5D%2C%20%5B126.93110125729105%2C%2037.260824951129344%5D%2C%20%5B126.95229769733274%2C%2037.2524826245201%5D%2C%20%5B126.97491964707861%2C%2037.22588531228192%5D%2C%20%5B127.02475029106094%2C%2037.22207898080851%5D%2C%20%5B127.04178611512381%2C%2037.24066886027782%5D%2C%20%5B127.03877682368464%2C%2037.253688200306506%5D%2C%20%5B126.98086459483812%2C%2037.283743689221225%5D%2C%20%5B126.96633916587045%2C%2037.29989574204989%5D%5D%5D%2C%20%22type%22%3A%20%22Polygon%22%7D%2C%20%22properties%22%3A%20%7B%22base_year%22%3A%202013%2C%20%22code%22%3A%2031012%2C%20%22highlight%22%3A%20%7B%7D%2C%20%22name%22%3A%20%22%5Cuc218%5Cuc6d0%5Cuc2dc%5Cuad8c%5Cuc120%5Cuad6c%22%2C%20%22name_eng%22%3A%20%22Suwonsigwonseongu%22%2C%20%22style%22%3A%20%7B%22color%22%3A%20%22black%22%2C%20%22fillColor%22%3A%20%22%23fd8d3c%22%2C%20%22fillOpacity%22%3A%200.6%2C%20%22opacity%22%3A%201%2C%20%22weight%22%3A%201%7D%7D%2C%20%22type%22%3A%20%22Feature%22%7D%2C%20%7B%22geometry%22%3A%20%7B%22coordinates%22%3A%20%5B%5B%5B127.02090967499298%2C%2037.348741503905366%5D%2C%20%5B126.98303616696394%2C%2037.32376927812144%5D%2C%20%5B126.96633916587045%2C%2037.29989574204989%5D%2C%20%5B126.98086459483812%2C%2037.283743689221225%5D%2C%20%5B127.01130838681644%2C%2037.28269167363659%5D%2C%20%5B127.03603479622558%2C%2037.29037288813064%5D%2C%20%5B127.04202153059128%2C%2037.318511731862884%5D%2C%20%5B127.03554038078946%2C%2037.341941908872045%5D%2C%20%5B127.02090967499298%2C%2037.348741503905366%5D%5D%5D%2C%20%22type%22%3A%20%22Polygon%22%7D%2C%20%22properties%22%3A%20%7B%22base_year%22%3A%202013%2C%20%22code%22%3A%2031011%2C%20%22highlight%22%3A%20%7B%7D%2C%20%22name%22%3A%20%22%5Cuc218%5Cuc6d0%5Cuc2dc%5Cuc7a5%5Cuc548%5Cuad6c%22%2C%20%22name_eng%22%3A%20%22Suwonsijangangu%22%2C%20%22style%22%3A%20%7B%22color%22%3A%20%22black%22%2C%20%22fillColor%22%3A%20%22%23fecc5c%22%2C%20%22fillOpacity%22%3A%200.6%2C%20%22opacity%22%3A%201%2C%20%22weight%22%3A%201%7D%7D%2C%20%22type%22%3A%20%22Feature%22%7D%5D%2C%20%22type%22%3A%20%22FeatureCollection%22%7D%2C%0A%20%20%20%20%20%20%20%20%20%20%20%20%7B%0A%20%20%20%20%20%20%20%20%20%20%20%20%7D%0A%20%20%20%20%20%20%20%20%29.addTo%28choropleth_9c6cd80788f9495aa46a222abda99f22%20%29%3B%0A%20%20%20%20%20%20%20%20geo_json_c140170e787f4f98825ade5e167b6616.setStyle%28function%28feature%29%20%7Breturn%20feature.properties.style%3B%7D%29%3B%0A%20%20%20%20%20%20%20%20%0A%20%20%20%20%0A%20%20%20%20var%20color_map_8f22c618b91b4308848f36e3abcad513%20%3D%20%7B%7D%3B%0A%0A%20%20%20%20%0A%20%20%20%20color_map_8f22c618b91b4308848f36e3abcad513.color%20%3D%20d3.scale.threshold%28%29%0A%20%20%20%20%20%20%20%20%20%20%20%20%20%20.domain%28%5B10000.0%2C%2011382.765531062125%2C%2012765.531062124248%2C%2014148.296593186373%2C%2015531.062124248496%2C%2016913.827655310623%2C%2018296.593186372746%2C%2019679.358717434872%2C%2021062.12424849699%2C%2022444.88977955912%2C%2023827.655310621245%2C%2025210.420841683364%2C%2026593.18637274549%2C%2027975.951903807614%2C%2029358.71743486974%2C%2030741.482965931864%2C%2032124.248496993987%2C%2033507.01402805612%2C%2034889.77955911824%2C%2036272.545090180356%2C%2037655.31062124249%2C%2039038.07615230461%2C%2040420.84168336673%2C%2041803.60721442886%2C%2043186.37274549098%2C%2044569.13827655311%2C%2045951.90380761523%2C%2047334.669338677355%2C%2048717.43486973948%2C%2050100.2004008016%2C%2051482.96593186373%2C%2052865.731462925854%2C%2054248.496993987974%2C%2055631.2625250501%2C%2057014.02805611223%2C%2058396.79358717435%2C%2059779.55911823647%2C%2061162.3246492986%2C%2062545.09018036072%2C%2063927.855711422846%2C%2065310.62124248497%2C%2066693.3867735471%2C%2068076.15230460922%2C%2069458.91783567134%2C%2070841.68336673346%2C%2072224.44889779559%2C%2073607.21442885773%2C%2074989.97995991984%2C%2076372.74549098196%2C%2077755.51102204408%2C%2079138.27655310622%2C%2080521.04208416834%2C%2081903.80761523046%2C%2083286.57314629259%2C%2084669.33867735471%2C%2086052.10420841683%2C%2087434.86973947896%2C%2088817.63527054108%2C%2090200.4008016032%2C%2091583.16633266534%2C%2092965.93186372746%2C%2094348.69739478957%2C%2095731.46292585171%2C%2097114.22845691383%2C%2098496.99398797595%2C%2099879.75951903808%2C%20101262.5250501002%2C%20102645.29058116232%2C%20104028.05611222445%2C%20105410.82164328657%2C%20106793.5871743487%2C%20108176.35270541083%2C%20109559.11823647295%2C%20110941.88376753507%2C%20112324.6492985972%2C%20113707.41482965932%2C%20115090.18036072144%2C%20116472.94589178357%2C%20117855.71142284569%2C%20119238.47695390781%2C%20120621.24248496995%2C%20122004.00801603206%2C%20123386.77354709418%2C%20124769.53907815632%2C%20126152.30460921844%2C%20127535.07014028056%2C%20128917.83567134269%2C%20130300.60120240481%2C%20131683.36673346692%2C%20133066.13226452906%2C%20134448.89779559118%2C%20135831.6633266533%2C%20137214.42885771545%2C%20138597.19438877754%2C%20139979.9599198397%2C%20141362.7254509018%2C%20142745.49098196393%2C%20144128.25651302605%2C%20145511.02204408817%2C%20146893.7875751503%2C%20148276.55310621244%2C%20149659.31863727455%2C%20151042.08416833667%2C%20152424.8496993988%2C%20153807.6152304609%2C%20155190.38076152303%2C%20156573.14629258518%2C%20157955.9118236473%2C%20159338.67735470942%2C%20160721.44288577154%2C%20162104.20841683366%2C%20163486.97394789578%2C%20164869.73947895793%2C%20166252.50501002005%2C%20167635.27054108217%2C%20169018.03607214428%2C%20170400.8016032064%2C%20171783.56713426852%2C%20173166.33266533067%2C%20174549.0981963928%2C%20175931.8637274549%2C%20177314.62925851703%2C%20178697.39478957915%2C%20180080.16032064127%2C%20181462.92585170342%2C%20182845.69138276554%2C%20184228.45691382766%2C%20185611.22244488978%2C%20186993.9879759519%2C%20188376.75350701401%2C%20189759.51903807616%2C%20191142.28456913828%2C%20192525.0501002004%2C%20193907.81563126252%2C%20195290.58116232464%2C%20196673.34669338676%2C%20198056.1122244489%2C%20199438.87775551103%2C%20200821.64328657315%2C%20202204.40881763527%2C%20203587.1743486974%2C%20204969.9398797595%2C%20206352.70541082165%2C%20207735.47094188377%2C%20209118.2364729459%2C%20210501.002004008%2C%20211883.76753507013%2C%20213266.53306613225%2C%20214649.2985971944%2C%20216032.06412825652%2C%20217414.82965931864%2C%20218797.59519038076%2C%20220180.36072144288%2C%20221563.126252505%2C%20222945.89178356715%2C%20224328.65731462926%2C%20225711.42284569138%2C%20227094.1883767535%2C%20228476.95390781562%2C%20229859.71943887774%2C%20231242.4849699399%2C%20232625.250501002%2C%20234008.01603206413%2C%20235390.78156312625%2C%20236773.54709418837%2C%20238156.3126252505%2C%20239539.07815631264%2C%20240921.84368737476%2C%20242304.60921843688%2C%20243687.374749499%2C%20245070.1402805611%2C%20246452.90581162323%2C%20247835.67134268538%2C%20249218.4368737475%2C%20250601.20240480962%2C%20251983.96793587174%2C%20253366.73346693386%2C%20254749.49899799598%2C%20256132.26452905813%2C%20257515.03006012025%2C%20258897.79559118237%2C%20260280.5611222445%2C%20261663.3266533066%2C%20263046.09218436875%2C%20264428.8577154309%2C%20265811.623246493%2C%20267194.3887775551%2C%20268577.15430861723%2C%20269959.9198396794%2C%20271342.68537074147%2C%20272725.4509018036%2C%20274108.2164328657%2C%20275490.98196392786%2C%20276873.74749499%2C%20278256.5130260521%2C%20279639.27855711424%2C%20281022.04408817634%2C%20282404.8096192385%2C%20283787.5751503006%2C%20285170.3406813627%2C%20286553.1062124249%2C%20287935.87174348696%2C%20289318.6372745491%2C%20290701.4028056112%2C%20292084.16833667335%2C%20293466.9338677355%2C%20294849.6993987976%2C%20296232.46492985974%2C%20297615.2304609218%2C%20298997.995991984%2C%20300380.76152304607%2C%20301763.5270541082%2C%20303146.29258517036%2C%20304529.05811623245%2C%20305911.8236472946%2C%20307294.5891783567%2C%20308677.35470941884%2C%20310060.120240481%2C%20311442.8857715431%2C%20312825.6513026052%2C%20314208.4168336673%2C%20315591.18236472947%2C%20316973.94789579156%2C%20318356.7134268537%2C%20319739.47895791585%2C%20321122.24448897794%2C%20322505.0100200401%2C%20323887.7755511022%2C%20325270.54108216433%2C%20326653.3066132265%2C%20328036.07214428857%2C%20329418.8376753507%2C%20330801.6032064128%2C%20332184.36873747496%2C%20333567.13426853705%2C%20334949.8997995992%2C%20336332.66533066134%2C%20337715.43086172343%2C%20339098.1963927856%2C%20340480.9619238477%2C%20341863.7274549098%2C%20343246.49298597197%2C%20344629.25851703406%2C%20346012.0240480962%2C%20347394.7895791583%2C%20348777.55511022045%2C%20350160.32064128254%2C%20351543.0861723447%2C%20352925.85170340684%2C%20354308.6172344689%2C%20355691.3827655311%2C%20357074.14829659316%2C%20358456.9138276553%2C%20359839.67935871746%2C%20361222.44488977955%2C%20362605.2104208417%2C%20363987.9759519038%2C%20365370.74148296594%2C%20366753.50701402803%2C%20368136.2725450902%2C%20369519.0380761523%2C%20370901.8036072144%2C%20372284.56913827657%2C%20373667.33466933866%2C%20375050.1002004008%2C%20376432.86573146295%2C%20377815.63126252504%2C%20379198.3967935872%2C%20380581.1623246493%2C%20381963.92785571143%2C%20383346.6933867735%2C%20384729.45891783567%2C%20386112.2244488978%2C%20387494.9899799599%2C%20388877.75551102206%2C%20390260.52104208415%2C%20391643.2865731463%2C%20393026.05210420844%2C%20394408.81763527053%2C%20395791.5831663327%2C%20397174.3486973948%2C%20398557.1142284569%2C%20399939.879759519%2C%20401322.64529058116%2C%20402705.4108216433%2C%20404088.1763527054%2C%20405470.94188376755%2C%20406853.70741482964%2C%20408236.4729458918%2C%20409619.23847695393%2C%20411002.004008016%2C%20412384.7695390782%2C%20413767.53507014026%2C%20415150.3006012024%2C%20416533.0661322645%2C%20417915.83166332665%2C%20419298.5971943888%2C%20420681.3627254509%2C%20422064.12825651304%2C%20423446.8937875751%2C%20424829.6593186373%2C%20426212.4248496994%2C%20427595.1903807615%2C%20428977.95591182366%2C%20430360.72144288576%2C%20431743.4869739479%2C%20433126.25250501%2C%20434509.01803607214%2C%20435891.7835671343%2C%20437274.5490981964%2C%20438657.31462925853%2C%20440040.0801603206%2C%20441422.84569138277%2C%20442805.6112224449%2C%20444188.376753507%2C%20445571.14228456916%2C%20446953.90781563125%2C%20448336.6733466934%2C%20449719.4388777555%2C%20451102.20440881763%2C%20452484.9699398798%2C%20453867.7354709419%2C%20455250.501002004%2C%20456633.2665330661%2C%20458016.03206412826%2C%20459398.7975951904%2C%20460781.5631262525%2C%20462164.32865731465%2C%20463547.09418837674%2C%20464929.8597194389%2C%20466312.625250501%2C%20467695.3907815631%2C%20469078.1563126253%2C%20470460.92184368736%2C%20471843.6873747495%2C%20473226.4529058116%2C%20474609.21843687375%2C%20475991.9839679359%2C%20477374.749498998%2C%20478757.51503006014%2C%20480140.2805611222%2C%20481523.0460921844%2C%20482905.81162324647%2C%20484288.5771543086%2C%20485671.34268537076%2C%20487054.10821643285%2C%20488436.873747495%2C%20489819.6392785571%2C%20491202.40480961924%2C%20492585.1703406814%2C%20493967.9358717435%2C%20495350.70140280563%2C%20496733.4669338677%2C%20498116.23246492987%2C%20499498.99799599196%2C%20500881.7635270541%2C%20502264.52905811626%2C%20503647.29458917835%2C%20505030.0601202405%2C%20506412.8256513026%2C%20507795.59118236473%2C%20509178.3567134269%2C%20510561.122244489%2C%20511943.8877755511%2C%20513326.6533066132%2C%20514709.41883767536%2C%20516092.18436873745%2C%20517474.9498997996%2C%20518857.71543086175%2C%20520240.48096192384%2C%20521623.246492986%2C%20523006.0120240481%2C%20524388.7775551102%2C%20525771.5430861723%2C%20527154.3086172345%2C%20528537.0741482966%2C%20529919.8396793588%2C%20531302.6052104209%2C%20532685.3707414829%2C%20534068.1362725451%2C%20535450.9018036072%2C%20536833.6673346694%2C%20538216.4328657314%2C%20539599.1983967936%2C%20540981.9639278557%2C%20542364.7294589179%2C%20543747.49498998%2C%20545130.260521042%2C%20546513.0260521042%2C%20547895.7915831663%2C%20549278.5571142285%2C%20550661.3226452906%2C%20552044.0881763527%2C%20553426.8537074148%2C%20554809.619238477%2C%20556192.3847695391%2C%20557575.1503006011%2C%20558957.9158316633%2C%20560340.6813627254%2C%20561723.4468937876%2C%20563106.2124248497%2C%20564488.9779559118%2C%20565871.7434869739%2C%20567254.5090180361%2C%20568637.2745490982%2C%20570020.0400801604%2C%20571402.8056112224%2C%20572785.5711422845%2C%20574168.3366733467%2C%20575551.1022044088%2C%20576933.867735471%2C%20578316.633266533%2C%20579699.3987975952%2C%20581082.1643286573%2C%20582464.9298597195%2C%20583847.6953907816%2C%20585230.4609218437%2C%20586613.2264529058%2C%20587995.991983968%2C%20589378.7575150301%2C%20590761.5230460921%2C%20592144.2885771543%2C%20593527.0541082164%2C%20594909.8196392786%2C%20596292.5851703407%2C%20597675.3507014028%2C%20599058.1162324649%2C%20600440.881763527%2C%20601823.6472945892%2C%20603206.4128256514%2C%20604589.1783567134%2C%20605971.9438877755%2C%20607354.7094188377%2C%20608737.4749498998%2C%20610120.240480962%2C%20611503.006012024%2C%20612885.7715430862%2C%20614268.5370741483%2C%20615651.3026052105%2C%20617034.0681362726%2C%20618416.8336673346%2C%20619799.5991983968%2C%20621182.3647294589%2C%20622565.1302605211%2C%20623947.8957915831%2C%20625330.6613226453%2C%20626713.4268537074%2C%20628096.1923847696%2C%20629478.9579158317%2C%20630861.7234468937%2C%20632244.4889779559%2C%20633627.254509018%2C%20635010.0200400802%2C%20636392.7855711423%2C%20637775.5511022044%2C%20639158.3166332665%2C%20640541.0821643287%2C%20641923.8476953908%2C%20643306.613226453%2C%20644689.378757515%2C%20646072.1442885771%2C%20647454.9098196393%2C%20648837.6753507014%2C%20650220.4408817636%2C%20651603.2064128256%2C%20652985.9719438878%2C%20654368.7374749499%2C%20655751.5030060121%2C%20657134.2685370741%2C%20658517.0340681362%2C%20659899.7995991984%2C%20661282.5651302605%2C%20662665.3306613227%2C%20664048.0961923847%2C%20665430.8617234469%2C%20666813.627254509%2C%20668196.3927855712%2C%20669579.1583166333%2C%20670961.9238476953%2C%20672344.6893787575%2C%20673727.4549098196%2C%20675110.2204408818%2C%20676492.9859719439%2C%20677875.751503006%2C%20679258.5170340681%2C%20680641.2825651303%2C%20682024.0480961924%2C%20683406.8136272546%2C%20684789.5791583166%2C%20686172.3446893787%2C%20687555.1102204409%2C%20688937.875751503%2C%20690320.6412825651%2C%20691703.4068136272%2C%20693086.1723446894%2C%20694468.9378757515%2C%20695851.7034068137%2C%20697234.4689378757%2C%20698617.2344689379%2C%20700000.0%5D%29%0A%20%20%20%20%20%20%20%20%20%20%20%20%20%20.range%28%5B%27%23ffffb2ff%27%2C%20%27%23ffffb2ff%27%2C%20%27%23ffffb2ff%27%2C%20%27%23ffffb2ff%27%2C%20%27%23ffffb2ff%27%2C%20%27%23ffffb2ff%27%2C%20%27%23ffffb2ff%27%2C%20%27%23ffffb2ff%27%2C%20%27%23ffffb2ff%27%2C%20%27%23ffffb2ff%27%2C%20%27%23ffffb2ff%27%2C%20%27%23ffffb2ff%27%2C%20%27%23ffffb2ff%27%2C%20%27%23ffffb2ff%27%2C%20%27%23ffffb2ff%27%2C%20%27%23ffffb2ff%27%2C%20%27%23ffffb2ff%27%2C%20%27%23ffffb2ff%27%2C%20%27%23ffffb2ff%27%2C%20%27%23ffffb2ff%27%2C%20%27%23ffffb2ff%27%2C%20%27%23ffffb2ff%27%2C%20%27%23ffffb2ff%27%2C%20%27%23ffffb2ff%27%2C%20%27%23ffffb2ff%27%2C%20%27%23ffffb2ff%27%2C%20%27%23ffffb2ff%27%2C%20%27%23ffffb2ff%27%2C%20%27%23ffffb2ff%27%2C%20%27%23ffffb2ff%27%2C%20%27%23ffffb2ff%27%2C%20%27%23ffffb2ff%27%2C%20%27%23ffffb2ff%27%2C%20%27%23ffffb2ff%27%2C%20%27%23ffffb2ff%27%2C%20%27%23ffffb2ff%27%2C%20%27%23ffffb2ff%27%2C%20%27%23ffffb2ff%27%2C%20%27%23ffffb2ff%27%2C%20%27%23ffffb2ff%27%2C%20%27%23ffffb2ff%27%2C%20%27%23ffffb2ff%27%2C%20%27%23ffffb2ff%27%2C%20%27%23ffffb2ff%27%2C%20%27%23ffffb2ff%27%2C%20%27%23ffffb2ff%27%2C%20%27%23ffffb2ff%27%2C%20%27%23ffffb2ff%27%2C%20%27%23ffffb2ff%27%2C%20%27%23ffffb2ff%27%2C%20%27%23ffffb2ff%27%2C%20%27%23ffffb2ff%27%2C%20%27%23ffffb2ff%27%2C%20%27%23ffffb2ff%27%2C%20%27%23ffffb2ff%27%2C%20%27%23ffffb2ff%27%2C%20%27%23ffffb2ff%27%2C%20%27%23ffffb2ff%27%2C%20%27%23ffffb2ff%27%2C%20%27%23ffffb2ff%27%2C%20%27%23ffffb2ff%27%2C%20%27%23ffffb2ff%27%2C%20%27%23ffffb2ff%27%2C%20%27%23ffffb2ff%27%2C%20%27%23ffffb2ff%27%2C%20%27%23ffffb2ff%27%2C%20%27%23fecc5cff%27%2C%20%27%23fecc5cff%27%2C%20%27%23fecc5cff%27%2C%20%27%23fecc5cff%27%2C%20%27%23fecc5cff%27%2C%20%27%23fecc5cff%27%2C%20%27%23fecc5cff%27%2C%20%27%23fecc5cff%27%2C%20%27%23fecc5cff%27%2C%20%27%23fecc5cff%27%2C%20%27%23fecc5cff%27%2C%20%27%23fecc5cff%27%2C%20%27%23fecc5cff%27%2C%20%27%23fecc5cff%27%2C%20%27%23fecc5cff%27%2C%20%27%23fecc5cff%27%2C%20%27%23fecc5cff%27%2C%20%27%23fecc5cff%27%2C%20%27%23fecc5cff%27%2C%20%27%23fecc5cff%27%2C%20%27%23fecc5cff%27%2C%20%27%23fecc5cff%27%2C%20%27%23fecc5cff%27%2C%20%27%23fecc5cff%27%2C%20%27%23fecc5cff%27%2C%20%27%23fecc5cff%27%2C%20%27%23fecc5cff%27%2C%20%27%23fecc5cff%27%2C%20%27%23fecc5cff%27%2C%20%27%23fecc5cff%27%2C%20%27%23fecc5cff%27%2C%20%27%23fecc5cff%27%2C%20%27%23fecc5cff%27%2C%20%27%23fecc5cff%27%2C%20%27%23fecc5cff%27%2C%20%27%23fecc5cff%27%2C%20%27%23fecc5cff%27%2C%20%27%23fecc5cff%27%2C%20%27%23fecc5cff%27%2C%20%27%23fecc5cff%27%2C%20%27%23fecc5cff%27%2C%20%27%23fecc5cff%27%2C%20%27%23fecc5cff%27%2C%20%27%23fecc5cff%27%2C%20%27%23fecc5cff%27%2C%20%27%23fecc5cff%27%2C%20%27%23fecc5cff%27%2C%20%27%23fecc5cff%27%2C%20%27%23fecc5cff%27%2C%20%27%23fecc5cff%27%2C%20%27%23fecc5cff%27%2C%20%27%23fecc5cff%27%2C%20%27%23fecc5cff%27%2C%20%27%23fecc5cff%27%2C%20%27%23fecc5cff%27%2C%20%27%23fecc5cff%27%2C%20%27%23fecc5cff%27%2C%20%27%23fecc5cff%27%2C%20%27%23fecc5cff%27%2C%20%27%23fecc5cff%27%2C%20%27%23fecc5cff%27%2C%20%27%23fecc5cff%27%2C%20%27%23fecc5cff%27%2C%20%27%23fecc5cff%27%2C%20%27%23fecc5cff%27%2C%20%27%23fecc5cff%27%2C%20%27%23fecc5cff%27%2C%20%27%23fecc5cff%27%2C%20%27%23fecc5cff%27%2C%20%27%23fecc5cff%27%2C%20%27%23fecc5cff%27%2C%20%27%23fecc5cff%27%2C%20%27%23fecc5cff%27%2C%20%27%23fecc5cff%27%2C%20%27%23fecc5cff%27%2C%20%27%23fecc5cff%27%2C%20%27%23fecc5cff%27%2C%20%27%23fecc5cff%27%2C%20%27%23fecc5cff%27%2C%20%27%23fecc5cff%27%2C%20%27%23fecc5cff%27%2C%20%27%23fecc5cff%27%2C%20%27%23fecc5cff%27%2C%20%27%23fecc5cff%27%2C%20%27%23fecc5cff%27%2C%20%27%23fecc5cff%27%2C%20%27%23fecc5cff%27%2C%20%27%23fecc5cff%27%2C%20%27%23fecc5cff%27%2C%20%27%23fecc5cff%27%2C%20%27%23fecc5cff%27%2C%20%27%23fecc5cff%27%2C%20%27%23fecc5cff%27%2C%20%27%23fecc5cff%27%2C%20%27%23fecc5cff%27%2C%20%27%23fecc5cff%27%2C%20%27%23fecc5cff%27%2C%20%27%23fecc5cff%27%2C%20%27%23fecc5cff%27%2C%20%27%23fecc5cff%27%2C%20%27%23fecc5cff%27%2C%20%27%23fecc5cff%27%2C%20%27%23fecc5cff%27%2C%20%27%23fecc5cff%27%2C%20%27%23fecc5cff%27%2C%20%27%23fecc5cff%27%2C%20%27%23fecc5cff%27%2C%20%27%23fecc5cff%27%2C%20%27%23fecc5cff%27%2C%20%27%23fecc5cff%27%2C%20%27%23fecc5cff%27%2C%20%27%23fecc5cff%27%2C%20%27%23fecc5cff%27%2C%20%27%23fecc5cff%27%2C%20%27%23fecc5cff%27%2C%20%27%23fecc5cff%27%2C%20%27%23fecc5cff%27%2C%20%27%23fecc5cff%27%2C%20%27%23fecc5cff%27%2C%20%27%23fecc5cff%27%2C%20%27%23fecc5cff%27%2C%20%27%23fecc5cff%27%2C%20%27%23fecc5cff%27%2C%20%27%23fecc5cff%27%2C%20%27%23fecc5cff%27%2C%20%27%23fecc5cff%27%2C%20%27%23fecc5cff%27%2C%20%27%23fecc5cff%27%2C%20%27%23fecc5cff%27%2C%20%27%23fecc5cff%27%2C%20%27%23fecc5cff%27%2C%20%27%23fecc5cff%27%2C%20%27%23fecc5cff%27%2C%20%27%23fecc5cff%27%2C%20%27%23fecc5cff%27%2C%20%27%23fecc5cff%27%2C%20%27%23fecc5cff%27%2C%20%27%23fecc5cff%27%2C%20%27%23fecc5cff%27%2C%20%27%23fecc5cff%27%2C%20%27%23fecc5cff%27%2C%20%27%23fecc5cff%27%2C%20%27%23fecc5cff%27%2C%20%27%23fecc5cff%27%2C%20%27%23fd8d3cff%27%2C%20%27%23fd8d3cff%27%2C%20%27%23fd8d3cff%27%2C%20%27%23fd8d3cff%27%2C%20%27%23fd8d3cff%27%2C%20%27%23fd8d3cff%27%2C%20%27%23fd8d3cff%27%2C%20%27%23fd8d3cff%27%2C%20%27%23fd8d3cff%27%2C%20%27%23fd8d3cff%27%2C%20%27%23fd8d3cff%27%2C%20%27%23fd8d3cff%27%2C%20%27%23fd8d3cff%27%2C%20%27%23fd8d3cff%27%2C%20%27%23fd8d3cff%27%2C%20%27%23fd8d3cff%27%2C%20%27%23fd8d3cff%27%2C%20%27%23fd8d3cff%27%2C%20%27%23fd8d3cff%27%2C%20%27%23fd8d3cff%27%2C%20%27%23fd8d3cff%27%2C%20%27%23fd8d3cff%27%2C%20%27%23fd8d3cff%27%2C%20%27%23fd8d3cff%27%2C%20%27%23fd8d3cff%27%2C%20%27%23fd8d3cff%27%2C%20%27%23fd8d3cff%27%2C%20%27%23fd8d3cff%27%2C%20%27%23fd8d3cff%27%2C%20%27%23fd8d3cff%27%2C%20%27%23fd8d3cff%27%2C%20%27%23fd8d3cff%27%2C%20%27%23fd8d3cff%27%2C%20%27%23fd8d3cff%27%2C%20%27%23fd8d3cff%27%2C%20%27%23fd8d3cff%27%2C%20%27%23fd8d3cff%27%2C%20%27%23fd8d3cff%27%2C%20%27%23fd8d3cff%27%2C%20%27%23fd8d3cff%27%2C%20%27%23fd8d3cff%27%2C%20%27%23fd8d3cff%27%2C%20%27%23fd8d3cff%27%2C%20%27%23fd8d3cff%27%2C%20%27%23fd8d3cff%27%2C%20%27%23fd8d3cff%27%2C%20%27%23fd8d3cff%27%2C%20%27%23fd8d3cff%27%2C%20%27%23fd8d3cff%27%2C%20%27%23fd8d3cff%27%2C%20%27%23fd8d3cff%27%2C%20%27%23fd8d3cff%27%2C%20%27%23fd8d3cff%27%2C%20%27%23fd8d3cff%27%2C%20%27%23fd8d3cff%27%2C%20%27%23fd8d3cff%27%2C%20%27%23fd8d3cff%27%2C%20%27%23fd8d3cff%27%2C%20%27%23fd8d3cff%27%2C%20%27%23fd8d3cff%27%2C%20%27%23fd8d3cff%27%2C%20%27%23fd8d3cff%27%2C%20%27%23fd8d3cff%27%2C%20%27%23fd8d3cff%27%2C%20%27%23fd8d3cff%27%2C%20%27%23fd8d3cff%27%2C%20%27%23fd8d3cff%27%2C%20%27%23fd8d3cff%27%2C%20%27%23fd8d3cff%27%2C%20%27%23fd8d3cff%27%2C%20%27%23fd8d3cff%27%2C%20%27%23fd8d3cff%27%2C%20%27%23fd8d3cff%27%2C%20%27%23fd8d3cff%27%2C%20%27%23fd8d3cff%27%2C%20%27%23fd8d3cff%27%2C%20%27%23fd8d3cff%27%2C%20%27%23fd8d3cff%27%2C%20%27%23fd8d3cff%27%2C%20%27%23fd8d3cff%27%2C%20%27%23fd8d3cff%27%2C%20%27%23fd8d3cff%27%2C%20%27%23fd8d3cff%27%2C%20%27%23fd8d3cff%27%2C%20%27%23fd8d3cff%27%2C%20%27%23fd8d3cff%27%2C%20%27%23fd8d3cff%27%2C%20%27%23fd8d3cff%27%2C%20%27%23fd8d3cff%27%2C%20%27%23fd8d3cff%27%2C%20%27%23fd8d3cff%27%2C%20%27%23fd8d3cff%27%2C%20%27%23fd8d3cff%27%2C%20%27%23fd8d3cff%27%2C%20%27%23fd8d3cff%27%2C%20%27%23fd8d3cff%27%2C%20%27%23fd8d3cff%27%2C%20%27%23fd8d3cff%27%2C%20%27%23fd8d3cff%27%2C%20%27%23fd8d3cff%27%2C%20%27%23fd8d3cff%27%2C%20%27%23fd8d3cff%27%2C%20%27%23fd8d3cff%27%2C%20%27%23fd8d3cff%27%2C%20%27%23fd8d3cff%27%2C%20%27%23fd8d3cff%27%2C%20%27%23fd8d3cff%27%2C%20%27%23fd8d3cff%27%2C%20%27%23fd8d3cff%27%2C%20%27%23fd8d3cff%27%2C%20%27%23fd8d3cff%27%2C%20%27%23fd8d3cff%27%2C%20%27%23fd8d3cff%27%2C%20%27%23fd8d3cff%27%2C%20%27%23fd8d3cff%27%2C%20%27%23fd8d3cff%27%2C%20%27%23fd8d3cff%27%2C%20%27%23fd8d3cff%27%2C%20%27%23fd8d3cff%27%2C%20%27%23fd8d3cff%27%2C%20%27%23fd8d3cff%27%2C%20%27%23fd8d3cff%27%2C%20%27%23fd8d3cff%27%2C%20%27%23fd8d3cff%27%2C%20%27%23fd8d3cff%27%2C%20%27%23fd8d3cff%27%2C%20%27%23fd8d3cff%27%2C%20%27%23fd8d3cff%27%2C%20%27%23fd8d3cff%27%2C%20%27%23fd8d3cff%27%2C%20%27%23fd8d3cff%27%2C%20%27%23fd8d3cff%27%2C%20%27%23fd8d3cff%27%2C%20%27%23fd8d3cff%27%2C%20%27%23fd8d3cff%27%2C%20%27%23fd8d3cff%27%2C%20%27%23fd8d3cff%27%2C%20%27%23fd8d3cff%27%2C%20%27%23fd8d3cff%27%2C%20%27%23fd8d3cff%27%2C%20%27%23fd8d3cff%27%2C%20%27%23fd8d3cff%27%2C%20%27%23fd8d3cff%27%2C%20%27%23fd8d3cff%27%2C%20%27%23fd8d3cff%27%2C%20%27%23e31a1cff%27%2C%20%27%23e31a1cff%27%2C%20%27%23e31a1cff%27%2C%20%27%23e31a1cff%27%2C%20%27%23e31a1cff%27%2C%20%27%23e31a1cff%27%2C%20%27%23e31a1cff%27%2C%20%27%23e31a1cff%27%2C%20%27%23e31a1cff%27%2C%20%27%23e31a1cff%27%2C%20%27%23e31a1cff%27%2C%20%27%23e31a1cff%27%2C%20%27%23e31a1cff%27%2C%20%27%23e31a1cff%27%2C%20%27%23e31a1cff%27%2C%20%27%23e31a1cff%27%2C%20%27%23e31a1cff%27%2C%20%27%23e31a1cff%27%2C%20%27%23e31a1cff%27%2C%20%27%23e31a1cff%27%2C%20%27%23e31a1cff%27%2C%20%27%23e31a1cff%27%2C%20%27%23e31a1cff%27%2C%20%27%23e31a1cff%27%2C%20%27%23e31a1cff%27%2C%20%27%23e31a1cff%27%2C%20%27%23e31a1cff%27%2C%20%27%23e31a1cff%27%2C%20%27%23e31a1cff%27%2C%20%27%23e31a1cff%27%2C%20%27%23e31a1cff%27%2C%20%27%23e31a1cff%27%2C%20%27%23e31a1cff%27%2C%20%27%23e31a1cff%27%2C%20%27%23e31a1cff%27%2C%20%27%23e31a1cff%27%2C%20%27%23e31a1cff%27%2C%20%27%23e31a1cff%27%2C%20%27%23e31a1cff%27%2C%20%27%23e31a1cff%27%2C%20%27%23e31a1cff%27%2C%20%27%23e31a1cff%27%2C%20%27%23e31a1cff%27%2C%20%27%23e31a1cff%27%2C%20%27%23e31a1cff%27%2C%20%27%23e31a1cff%27%2C%20%27%23e31a1cff%27%2C%20%27%23e31a1cff%27%2C%20%27%23e31a1cff%27%2C%20%27%23e31a1cff%27%2C%20%27%23e31a1cff%27%2C%20%27%23e31a1cff%27%2C%20%27%23e31a1cff%27%2C%20%27%23e31a1cff%27%2C%20%27%23e31a1cff%27%2C%20%27%23e31a1cff%27%2C%20%27%23e31a1cff%27%2C%20%27%23e31a1cff%27%2C%20%27%23e31a1cff%27%2C%20%27%23e31a1cff%27%2C%20%27%23e31a1cff%27%2C%20%27%23e31a1cff%27%2C%20%27%23e31a1cff%27%2C%20%27%23e31a1cff%27%2C%20%27%23e31a1cff%27%2C%20%27%23e31a1cff%27%2C%20%27%23e31a1cff%27%2C%20%27%23e31a1cff%27%2C%20%27%23e31a1cff%27%2C%20%27%23e31a1cff%27%2C%20%27%23e31a1cff%27%2C%20%27%23e31a1cff%27%2C%20%27%23e31a1cff%27%2C%20%27%23e31a1cff%27%2C%20%27%23e31a1cff%27%2C%20%27%23e31a1cff%27%2C%20%27%23e31a1cff%27%2C%20%27%23e31a1cff%27%2C%20%27%23e31a1cff%27%2C%20%27%23e31a1cff%27%2C%20%27%23e31a1cff%27%2C%20%27%23e31a1cff%27%2C%20%27%23e31a1cff%27%2C%20%27%23e31a1cff%27%2C%20%27%23e31a1cff%27%2C%20%27%23e31a1cff%27%2C%20%27%23e31a1cff%27%2C%20%27%23e31a1cff%27%2C%20%27%23e31a1cff%27%2C%20%27%23e31a1cff%27%2C%20%27%23e31a1cff%27%2C%20%27%23e31a1cff%27%2C%20%27%23e31a1cff%27%2C%20%27%23e31a1cff%27%2C%20%27%23e31a1cff%27%2C%20%27%23e31a1cff%27%2C%20%27%23e31a1cff%27%2C%20%27%23e31a1cff%27%2C%20%27%23e31a1cff%27%2C%20%27%23e31a1cff%27%2C%20%27%23e31a1cff%27%2C%20%27%23e31a1cff%27%2C%20%27%23e31a1cff%27%2C%20%27%23e31a1cff%27%2C%20%27%23e31a1cff%27%2C%20%27%23e31a1cff%27%2C%20%27%23e31a1cff%27%2C%20%27%23e31a1cff%27%2C%20%27%23e31a1cff%27%2C%20%27%23e31a1cff%27%2C%20%27%23e31a1cff%27%2C%20%27%23e31a1cff%27%2C%20%27%23e31a1cff%27%2C%20%27%23e31a1cff%27%2C%20%27%23e31a1cff%27%2C%20%27%23e31a1cff%27%2C%20%27%23e31a1cff%27%2C%20%27%23e31a1cff%27%2C%20%27%23e31a1cff%27%2C%20%27%23e31a1cff%27%2C%20%27%23e31a1cff%27%2C%20%27%23e31a1cff%27%2C%20%27%23e31a1cff%27%2C%20%27%23e31a1cff%27%2C%20%27%23e31a1cff%27%2C%20%27%23e31a1cff%27%2C%20%27%23e31a1cff%27%2C%20%27%23e31a1cff%27%2C%20%27%23e31a1cff%27%2C%20%27%23e31a1cff%27%2C%20%27%23e31a1cff%27%2C%20%27%23e31a1cff%27%2C%20%27%23e31a1cff%27%2C%20%27%23e31a1cff%27%2C%20%27%23e31a1cff%27%2C%20%27%23e31a1cff%27%2C%20%27%23e31a1cff%27%2C%20%27%23e31a1cff%27%2C%20%27%23e31a1cff%27%2C%20%27%23e31a1cff%27%2C%20%27%23e31a1cff%27%2C%20%27%23e31a1cff%27%2C%20%27%23e31a1cff%27%2C%20%27%23e31a1cff%27%2C%20%27%23e31a1cff%27%5D%29%3B%0A%20%20%20%20%0A%0A%20%20%20%20color_map_8f22c618b91b4308848f36e3abcad513.x%20%3D%20d3.scale.linear%28%29%0A%20%20%20%20%20%20%20%20%20%20%20%20%20%20.domain%28%5B10000.0%2C%20700000.0%5D%29%0A%20%20%20%20%20%20%20%20%20%20%20%20%20%20.range%28%5B0%2C%20400%5D%29%3B%0A%0A%20%20%20%20color_map_8f22c618b91b4308848f36e3abcad513.legend%20%3D%20L.control%28%7Bposition%3A%20%27topright%27%7D%29%3B%0A%20%20%20%20color_map_8f22c618b91b4308848f36e3abcad513.legend.onAdd%20%3D%20function%20%28map%29%20%7Bvar%20div%20%3D%20L.DomUtil.create%28%27div%27%2C%20%27legend%27%29%3B%20return%20div%7D%3B%0A%20%20%20%20color_map_8f22c618b91b4308848f36e3abcad513.legend.addTo%28map_cb0b0bb654b44b73aca1efdf9282dbea%29%3B%0A%0A%20%20%20%20color_map_8f22c618b91b4308848f36e3abcad513.xAxis%20%3D%20d3.svg.axis%28%29%0A%20%20%20%20%20%20%20%20.scale%28color_map_8f22c618b91b4308848f36e3abcad513.x%29%0A%20%20%20%20%20%20%20%20.orient%28%22top%22%29%0A%20%20%20%20%20%20%20%20.tickSize%281%29%0A%20%20%20%20%20%20%20%20.tickValues%28%5B10000%2C%20100000%2C%20300000%2C%20500000%2C%20700000%5D%29%3B%0A%0A%20%20%20%20color_map_8f22c618b91b4308848f36e3abcad513.svg%20%3D%20d3.select%28%22.legend.leaflet-control%22%29.append%28%22svg%22%29%0A%20%20%20%20%20%20%20%20.attr%28%22id%22%2C%20%27legend%27%29%0A%20%20%20%20%20%20%20%20.attr%28%22width%22%2C%20450%29%0A%20%20%20%20%20%20%20%20.attr%28%22height%22%2C%2040%29%3B%0A%0A%20%20%20%20color_map_8f22c618b91b4308848f36e3abcad513.g%20%3D%20color_map_8f22c618b91b4308848f36e3abcad513.svg.append%28%22g%22%29%0A%20%20%20%20%20%20%20%20.attr%28%22class%22%2C%20%22key%22%29%0A%20%20%20%20%20%20%20%20.attr%28%22transform%22%2C%20%22translate%2825%2C16%29%22%29%3B%0A%0A%20%20%20%20color_map_8f22c618b91b4308848f36e3abcad513.g.selectAll%28%22rect%22%29%0A%20%20%20%20%20%20%20%20.data%28color_map_8f22c618b91b4308848f36e3abcad513.color.range%28%29.map%28function%28d%2C%20i%29%20%7B%0A%20%20%20%20%20%20%20%20%20%20return%20%7B%0A%20%20%20%20%20%20%20%20%20%20%20%20x0%3A%20i%20%3F%20color_map_8f22c618b91b4308848f36e3abcad513.x%28color_map_8f22c618b91b4308848f36e3abcad513.color.domain%28%29%5Bi%20-%201%5D%29%20%3A%20color_map_8f22c618b91b4308848f36e3abcad513.x.range%28%29%5B0%5D%2C%0A%20%20%20%20%20%20%20%20%20%20%20%20x1%3A%20i%20%3C%20color_map_8f22c618b91b4308848f36e3abcad513.color.domain%28%29.length%20%3F%20color_map_8f22c618b91b4308848f36e3abcad513.x%28color_map_8f22c618b91b4308848f36e3abcad513.color.domain%28%29%5Bi%5D%29%20%3A%20color_map_8f22c618b91b4308848f36e3abcad513.x.range%28%29%5B1%5D%2C%0A%20%20%20%20%20%20%20%20%20%20%20%20z%3A%20d%0A%20%20%20%20%20%20%20%20%20%20%7D%3B%0A%20%20%20%20%20%20%20%20%7D%29%29%0A%20%20%20%20%20%20.enter%28%29.append%28%22rect%22%29%0A%20%20%20%20%20%20%20%20.attr%28%22height%22%2C%2010%29%0A%20%20%20%20%20%20%20%20.attr%28%22x%22%2C%20function%28d%29%20%7B%20return%20d.x0%3B%20%7D%29%0A%20%20%20%20%20%20%20%20.attr%28%22width%22%2C%20function%28d%29%20%7B%20return%20d.x1%20-%20d.x0%3B%20%7D%29%0A%20%20%20%20%20%20%20%20.style%28%22fill%22%2C%20function%28d%29%20%7B%20return%20d.z%3B%20%7D%29%3B%0A%0A%20%20%20%20color_map_8f22c618b91b4308848f36e3abcad513.g.call%28color_map_8f22c618b91b4308848f36e3abcad513.xAxis%29.append%28%22text%22%29%0A%20%20%20%20%20%20%20%20.attr%28%22class%22%2C%20%22caption%22%29%0A%20%20%20%20%20%20%20%20.attr%28%22y%22%2C%2021%29%0A%20%20%20%20%20%20%20%20.text%28%27%27%29%3B%0A%3C/script%3E onload=\"this.contentDocument.open();this.contentDocument.write(    decodeURIComponent(this.getAttribute('data-html')));this.contentDocument.close();\" allowfullscreen webkitallowfullscreen mozallowfullscreen></iframe></div></div>"
            ],
            "text/plain": [
              "<folium.folium.Map at 0x7f611c54b390>"
            ]
          },
          "metadata": {
            "tags": []
          },
          "execution_count": 86
        }
      ]
    }
  ]
}