{
  "nbformat": 4,
  "nbformat_minor": 0,
  "metadata": {
    "colab": {
      "name": "0729 다중선형회귀분석",
      "provenance": [],
      "toc_visible": true
    },
    "kernelspec": {
      "name": "python3",
      "display_name": "Python 3"
    }
  },
  "cells": [
    {
      "cell_type": "code",
      "metadata": {
        "id": "b767sz6LReA6",
        "colab_type": "code",
        "colab": {}
      },
      "source": [
        "import pandas as pd"
      ],
      "execution_count": 30,
      "outputs": []
    },
    {
      "cell_type": "code",
      "metadata": {
        "id": "hw2zgITrThVY",
        "colab_type": "code",
        "colab": {}
      },
      "source": [
        "data = pd.DataFrame({\n",
        "    \"x1\" : [13, 18, 17, 20, 22, 21], #차량 가격\n",
        "    \"x2\" : [9, 7, 17, 11, 8, 10], #광고비\n",
        "    \"y\" : [20, 22, 30, 27, 35, 32]\n",
        "})"
      ],
      "execution_count": 31,
      "outputs": []
    },
    {
      "cell_type": "code",
      "metadata": {
        "id": "BERSI5kPUVj1",
        "colab_type": "code",
        "colab": {}
      },
      "source": [
        "x1_star = data[\"x1\"] - data[\"x1\"].mean()\n",
        "x2_star = data[\"x2\"] - data[\"x2\"].mean()\n",
        "y_star = data[\"y\"] - data[\"y\"].mean()"
      ],
      "execution_count": 32,
      "outputs": []
    },
    {
      "cell_type": "markdown",
      "metadata": {
        "id": "bj2p6CAGWehw",
        "colab_type": "text"
      },
      "source": [
        "표본회귀계수 직접 구하기"
      ]
    },
    {
      "cell_type": "code",
      "metadata": {
        "id": "mW8rEXzfVR0G",
        "colab_type": "code",
        "colab": {}
      },
      "source": [
        "b1 = (((x2_star ** 2).sum() * (y_star * x1_star).sum()) - ((x1_star * x2_star).sum() * (y_star * x2_star).sum())) / (((x1_star ** 2).sum() * (x2_star ** 2).sum()) - (((x1_star * x2_star).sum()) ** 2))"
      ],
      "execution_count": 33,
      "outputs": []
    },
    {
      "cell_type": "code",
      "metadata": {
        "id": "NFWruH00V295",
        "colab_type": "code",
        "colab": {
          "base_uri": "https://localhost:8080/",
          "height": 34
        },
        "outputId": "a79b2ba3-210a-40e9-a26c-2e45b4193eb4"
      },
      "source": [
        "b1"
      ],
      "execution_count": 34,
      "outputs": [
        {
          "output_type": "execute_result",
          "data": {
            "text/plain": [
              "1.5443458980044347"
            ]
          },
          "metadata": {
            "tags": []
          },
          "execution_count": 34
        }
      ]
    },
    {
      "cell_type": "code",
      "metadata": {
        "id": "5OGBnWmpXN-G",
        "colab_type": "code",
        "colab": {}
      },
      "source": [
        "b2 = (((x1_star ** 2).sum() * (y_star * x2_star).sum()) - ((x1_star * x2_star).sum() * (y_star * x1_star).sum())) / (((x1_star ** 2).sum() * (x2_star ** 2).sum()) - (((x1_star * x2_star).sum()) ** 2))"
      ],
      "execution_count": 35,
      "outputs": []
    },
    {
      "cell_type": "code",
      "metadata": {
        "id": "dRczxgeOXdyT",
        "colab_type": "code",
        "colab": {
          "base_uri": "https://localhost:8080/",
          "height": 34
        },
        "outputId": "0866028f-789f-41b8-eae7-8d7d9e66ac72"
      },
      "source": [
        "b2"
      ],
      "execution_count": 36,
      "outputs": [
        {
          "output_type": "execute_result",
          "data": {
            "text/plain": [
              "0.6247228381374723"
            ]
          },
          "metadata": {
            "tags": []
          },
          "execution_count": 36
        }
      ]
    },
    {
      "cell_type": "code",
      "metadata": {
        "id": "P_iywWq1XeKC",
        "colab_type": "code",
        "colab": {}
      },
      "source": [
        "a = data[\"y\"].mean() - b1 * data[\"x1\"].mean() - b2 * data[\"x2\"].mean()"
      ],
      "execution_count": 37,
      "outputs": []
    },
    {
      "cell_type": "code",
      "metadata": {
        "id": "WofTHXlDXutH",
        "colab_type": "code",
        "colab": {
          "base_uri": "https://localhost:8080/",
          "height": 34
        },
        "outputId": "606f6fc2-e28f-41da-d710-f4781804b11b"
      },
      "source": [
        "a"
      ],
      "execution_count": 38,
      "outputs": [
        {
          "output_type": "execute_result",
          "data": {
            "text/plain": [
              "-7.3592017738359194"
            ]
          },
          "metadata": {
            "tags": []
          },
          "execution_count": 38
        }
      ]
    },
    {
      "cell_type": "markdown",
      "metadata": {
        "id": "cEARvq8tXwOh",
        "colab_type": "text"
      },
      "source": [
        "# 실습 1"
      ]
    },
    {
      "cell_type": "markdown",
      "metadata": {
        "id": "9p9OeUCgYqrh",
        "colab_type": "text"
      },
      "source": [
        "회귀 모형을 통해 표본회귀계수 구하기"
      ]
    },
    {
      "cell_type": "code",
      "metadata": {
        "id": "EhuSENgjXvcS",
        "colab_type": "code",
        "colab": {}
      },
      "source": [
        "from sklearn import linear_model"
      ],
      "execution_count": 39,
      "outputs": []
    },
    {
      "cell_type": "code",
      "metadata": {
        "id": "cjwKgCFJX2hr",
        "colab_type": "code",
        "colab": {}
      },
      "source": [
        "linear_regression = linear_model.LinearRegression()\n",
        "linear_regression.fit(X = pd.DataFrame(data[[\"x1\", \"x2\"]]), y = data[\"y\"])\n",
        "prediction = linear_regression.predict(X = pd.DataFrame(data[[\"x1\", \"x2\"]]))"
      ],
      "execution_count": 40,
      "outputs": []
    },
    {
      "cell_type": "code",
      "metadata": {
        "id": "-3ryGfWRYRv_",
        "colab_type": "code",
        "colab": {
          "base_uri": "https://localhost:8080/",
          "height": 52
        },
        "outputId": "debc560a-58a3-44dd-d096-6cfef8cc97b2"
      },
      "source": [
        "print(\"a value : \", linear_regression.intercept_)\n",
        "print(\"b values : \", linear_regression.coef_)"
      ],
      "execution_count": 41,
      "outputs": [
        {
          "output_type": "stream",
          "text": [
            "a value :  -7.359201773835938\n",
            "b values :  [1.5443459  0.62472284]\n"
          ],
          "name": "stdout"
        }
      ]
    },
    {
      "cell_type": "markdown",
      "metadata": {
        "id": "O1bFLJh6Zy-L",
        "colab_type": "text"
      },
      "source": [
        "적합된 회귀 모형으로 예측하기"
      ]
    },
    {
      "cell_type": "code",
      "metadata": {
        "id": "0TtqMPtTaIeH",
        "colab_type": "code",
        "colab": {}
      },
      "source": [
        "import numpy as np"
      ],
      "execution_count": 42,
      "outputs": []
    },
    {
      "cell_type": "code",
      "metadata": {
        "id": "I1WvpjROZ25T",
        "colab_type": "code",
        "colab": {}
      },
      "source": [
        "new_data = [[20, 9]]"
      ],
      "execution_count": 43,
      "outputs": []
    },
    {
      "cell_type": "code",
      "metadata": {
        "id": "SdlXuk4LaLSR",
        "colab_type": "code",
        "colab": {
          "base_uri": "https://localhost:8080/",
          "height": 34
        },
        "outputId": "266817fd-1998-4913-e23b-0847adfb6928"
      },
      "source": [
        "np.matmul([[20, 9]], [linear_regression.coef_[0], linear_regression.coef_[1]]) + linear_regression.intercept_"
      ],
      "execution_count": 44,
      "outputs": [
        {
          "output_type": "execute_result",
          "data": {
            "text/plain": [
              "array([29.15022173])"
            ]
          },
          "metadata": {
            "tags": []
          },
          "execution_count": 44
        }
      ]
    },
    {
      "cell_type": "markdown",
      "metadata": {
        "id": "6XEDwKO9aCot",
        "colab_type": "text"
      },
      "source": [
        "적합도 검증"
      ]
    },
    {
      "cell_type": "code",
      "metadata": {
        "id": "_GcuwCGKYaet",
        "colab_type": "code",
        "colab": {
          "base_uri": "https://localhost:8080/",
          "height": 175
        },
        "outputId": "dfe7ffd3-9d08-4694-888e-5f33fbf3994d"
      },
      "source": [
        "residuals = data[\"y\"] - prediction\n",
        "residuals.describe()"
      ],
      "execution_count": 45,
      "outputs": [
        {
          "output_type": "execute_result",
          "data": {
            "text/plain": [
              "count    6.000000e+00\n",
              "mean     2.368476e-15\n",
              "std      2.622371e+00\n",
              "min     -3.399667e+00\n",
              "25%     -1.987805e+00\n",
              "50%      5.828714e-01\n",
              "75%      1.415327e+00\n",
              "max      3.385809e+00\n",
              "Name: y, dtype: float64"
            ]
          },
          "metadata": {
            "tags": []
          },
          "execution_count": 45
        }
      ]
    },
    {
      "cell_type": "code",
      "metadata": {
        "id": "tF9WmAnL1VyK",
        "colab_type": "code",
        "colab": {}
      },
      "source": [
        "from sklearn.metrics import mean_squared_error"
      ],
      "execution_count": 46,
      "outputs": []
    },
    {
      "cell_type": "code",
      "metadata": {
        "id": "FWK4fceb1cLv",
        "colab_type": "code",
        "colab": {
          "base_uri": "https://localhost:8080/",
          "height": 70
        },
        "outputId": "a3926562-663a-414f-c643-d9e05e10dcbb"
      },
      "source": [
        "print(\"score: \", linear_regression.score(X = pd.DataFrame(data[[\"x1\", \"x2\"]]), y = data[\"y\"]))\n",
        "print(\"MSE: \", mean_squared_error(prediction, data[\"y\"]))\n",
        "print(\"RMSE: \", mean_squared_error(prediction, data[\"y\"]) ** 0.5)"
      ],
      "execution_count": 48,
      "outputs": [
        {
          "output_type": "stream",
          "text": [
            "score:  0.796944017668523\n",
            "MSE:  5.730691056910575\n",
            "RMSE:  2.3938861829482567\n"
          ],
          "name": "stdout"
        }
      ]
    },
    {
      "cell_type": "markdown",
      "metadata": {
        "id": "UlzORXZ02DDx",
        "colab_type": "text"
      },
      "source": [
        "#실습 2"
      ]
    },
    {
      "cell_type": "code",
      "metadata": {
        "id": "FoZbb3iW15Es",
        "colab_type": "code",
        "colab": {}
      },
      "source": [
        "from sklearn import datasets\n",
        "boston_house_prices = datasets.load_boston() #데이터 로드"
      ],
      "execution_count": 49,
      "outputs": []
    },
    {
      "cell_type": "code",
      "metadata": {
        "id": "JZiN1ROA2ITz",
        "colab_type": "code",
        "colab": {
          "base_uri": "https://localhost:8080/",
          "height": 34
        },
        "outputId": "dbc0f1c3-72ae-4f95-a896-8c5f31b8d9c4"
      },
      "source": [
        "boston_house_prices.keys()"
      ],
      "execution_count": 51,
      "outputs": [
        {
          "output_type": "execute_result",
          "data": {
            "text/plain": [
              "dict_keys(['data', 'target', 'feature_names', 'DESCR', 'filename'])"
            ]
          },
          "metadata": {
            "tags": []
          },
          "execution_count": 51
        }
      ]
    },
    {
      "cell_type": "code",
      "metadata": {
        "id": "2THPT1mV2MrH",
        "colab_type": "code",
        "colab": {
          "base_uri": "https://localhost:8080/",
          "height": 34
        },
        "outputId": "a7cc68dc-3b88-42a0-a1c3-01059ee8a270"
      },
      "source": [
        "boston_house_prices.data.shape #\"data\"의 전체 행, 열 길이 반환"
      ],
      "execution_count": 53,
      "outputs": [
        {
          "output_type": "execute_result",
          "data": {
            "text/plain": [
              "(506, 13)"
            ]
          },
          "metadata": {
            "tags": []
          },
          "execution_count": 53
        }
      ]
    },
    {
      "cell_type": "code",
      "metadata": {
        "id": "07iH9PsC2W-5",
        "colab_type": "code",
        "colab": {
          "base_uri": "https://localhost:8080/",
          "height": 52
        },
        "outputId": "f22dda8a-f8ca-49e3-bbaa-ce1324c8c76b"
      },
      "source": [
        "boston_house_prices.feature_names #컬럼명"
      ],
      "execution_count": 54,
      "outputs": [
        {
          "output_type": "execute_result",
          "data": {
            "text/plain": [
              "array(['CRIM', 'ZN', 'INDUS', 'CHAS', 'NOX', 'RM', 'AGE', 'DIS', 'RAD',\n",
              "       'TAX', 'PTRATIO', 'B', 'LSTAT'], dtype='<U7')"
            ]
          },
          "metadata": {
            "tags": []
          },
          "execution_count": 54
        }
      ]
    },
    {
      "cell_type": "code",
      "metadata": {
        "id": "-5ylpIJD2fzu",
        "colab_type": "code",
        "colab": {
          "base_uri": "https://localhost:8080/",
          "height": 934
        },
        "outputId": "60971b86-470d-42df-88a7-f3d003327267"
      },
      "source": [
        "print(boston_house_prices.DESCR) #데이터셋 정보"
      ],
      "execution_count": 56,
      "outputs": [
        {
          "output_type": "stream",
          "text": [
            ".. _boston_dataset:\n",
            "\n",
            "Boston house prices dataset\n",
            "---------------------------\n",
            "\n",
            "**Data Set Characteristics:**  \n",
            "\n",
            "    :Number of Instances: 506 \n",
            "\n",
            "    :Number of Attributes: 13 numeric/categorical predictive. Median Value (attribute 14) is usually the target.\n",
            "\n",
            "    :Attribute Information (in order):\n",
            "        - CRIM     per capita crime rate by town\n",
            "        - ZN       proportion of residential land zoned for lots over 25,000 sq.ft.\n",
            "        - INDUS    proportion of non-retail business acres per town\n",
            "        - CHAS     Charles River dummy variable (= 1 if tract bounds river; 0 otherwise)\n",
            "        - NOX      nitric oxides concentration (parts per 10 million)\n",
            "        - RM       average number of rooms per dwelling\n",
            "        - AGE      proportion of owner-occupied units built prior to 1940\n",
            "        - DIS      weighted distances to five Boston employment centres\n",
            "        - RAD      index of accessibility to radial highways\n",
            "        - TAX      full-value property-tax rate per $10,000\n",
            "        - PTRATIO  pupil-teacher ratio by town\n",
            "        - B        1000(Bk - 0.63)^2 where Bk is the proportion of blacks by town\n",
            "        - LSTAT    % lower status of the population\n",
            "        - MEDV     Median value of owner-occupied homes in $1000's\n",
            "\n",
            "    :Missing Attribute Values: None\n",
            "\n",
            "    :Creator: Harrison, D. and Rubinfeld, D.L.\n",
            "\n",
            "This is a copy of UCI ML housing dataset.\n",
            "https://archive.ics.uci.edu/ml/machine-learning-databases/housing/\n",
            "\n",
            "\n",
            "This dataset was taken from the StatLib library which is maintained at Carnegie Mellon University.\n",
            "\n",
            "The Boston house-price data of Harrison, D. and Rubinfeld, D.L. 'Hedonic\n",
            "prices and the demand for clean air', J. Environ. Economics & Management,\n",
            "vol.5, 81-102, 1978.   Used in Belsley, Kuh & Welsch, 'Regression diagnostics\n",
            "...', Wiley, 1980.   N.B. Various transformations are used in the table on\n",
            "pages 244-261 of the latter.\n",
            "\n",
            "The Boston house-price data has been used in many machine learning papers that address regression\n",
            "problems.   \n",
            "     \n",
            ".. topic:: References\n",
            "\n",
            "   - Belsley, Kuh & Welsch, 'Regression diagnostics: Identifying Influential Data and Sources of Collinearity', Wiley, 1980. 244-261.\n",
            "   - Quinlan,R. (1993). Combining Instance-Based and Model-Based Learning. In Proceedings on the Tenth International Conference of Machine Learning, 236-243, University of Massachusetts, Amherst. Morgan Kaufmann.\n",
            "\n"
          ],
          "name": "stdout"
        }
      ]
    },
    {
      "cell_type": "markdown",
      "metadata": {
        "id": "98udZEOo2sa9",
        "colab_type": "text"
      },
      "source": [
        "데이터셋 정제"
      ]
    },
    {
      "cell_type": "code",
      "metadata": {
        "id": "HqThKhsG2mCk",
        "colab_type": "code",
        "colab": {}
      },
      "source": [
        "X = pd.DataFrame(boston_house_prices.data)\n",
        "X.columns = boston_house_prices.feature_names\n",
        "X[\"Price\"] = boston_house_prices.target"
      ],
      "execution_count": 58,
      "outputs": []
    },
    {
      "cell_type": "code",
      "metadata": {
        "id": "cfx4hzVB2wSb",
        "colab_type": "code",
        "colab": {}
      },
      "source": [
        "y = X.pop(\"Price\")"
      ],
      "execution_count": 59,
      "outputs": []
    },
    {
      "cell_type": "markdown",
      "metadata": {
        "id": "7mpf-ywE29dg",
        "colab_type": "text"
      },
      "source": [
        "모델 적합"
      ]
    },
    {
      "cell_type": "code",
      "metadata": {
        "id": "dnYgE8-027_n",
        "colab_type": "code",
        "colab": {}
      },
      "source": [
        "linear_regression = linear_model.LinearRegression()\n",
        "linear_regression.fit(X = X, y = y)\n",
        "prediction = linear_regression.predict(X = X)"
      ],
      "execution_count": 60,
      "outputs": []
    },
    {
      "cell_type": "code",
      "metadata": {
        "id": "laMhiIQs3Uf-",
        "colab_type": "code",
        "colab": {
          "base_uri": "https://localhost:8080/",
          "height": 105
        },
        "outputId": "825c2ec4-746f-41d1-955c-82ff19ffb7fd"
      },
      "source": [
        "print(\"a value: \", linear_regression.intercept_)\n",
        "print(\"b values: \", linear_regression.coef_)"
      ],
      "execution_count": 61,
      "outputs": [
        {
          "output_type": "stream",
          "text": [
            "a value:  36.459488385090125\n",
            "b values:  [-1.08011358e-01  4.64204584e-02  2.05586264e-02  2.68673382e+00\n",
            " -1.77666112e+01  3.80986521e+00  6.92224640e-04 -1.47556685e+00\n",
            "  3.06049479e-01 -1.23345939e-02 -9.52747232e-01  9.31168327e-03\n",
            " -5.24758378e-01]\n"
          ],
          "name": "stdout"
        }
      ]
    },
    {
      "cell_type": "markdown",
      "metadata": {
        "id": "VeYZQOVE3ehZ",
        "colab_type": "text"
      },
      "source": [
        "적합도 검증"
      ]
    },
    {
      "cell_type": "code",
      "metadata": {
        "id": "Gy7AZwb_3b6r",
        "colab_type": "code",
        "colab": {
          "base_uri": "https://localhost:8080/",
          "height": 175
        },
        "outputId": "505d5cc0-9ba3-4399-d24a-d1f5dc0707b1"
      },
      "source": [
        "residuals = y - prediction\n",
        "residuals.describe()"
      ],
      "execution_count": 62,
      "outputs": [
        {
          "output_type": "execute_result",
          "data": {
            "text/plain": [
              "count    5.060000e+02\n",
              "mean     2.913787e-16\n",
              "std      4.683822e+00\n",
              "min     -1.559447e+01\n",
              "25%     -2.729716e+00\n",
              "50%     -5.180489e-01\n",
              "75%      1.777051e+00\n",
              "max      2.619927e+01\n",
              "Name: Price, dtype: float64"
            ]
          },
          "metadata": {
            "tags": []
          },
          "execution_count": 62
        }
      ]
    },
    {
      "cell_type": "markdown",
      "metadata": {
        "id": "DEO8xjZ53nX4",
        "colab_type": "text"
      },
      "source": [
        "성능 평가"
      ]
    },
    {
      "cell_type": "code",
      "metadata": {
        "id": "Xpt_Ko_S3lHT",
        "colab_type": "code",
        "colab": {
          "base_uri": "https://localhost:8080/",
          "height": 70
        },
        "outputId": "62c9824b-d28a-4b72-803e-6a2ccfc178f9"
      },
      "source": [
        "print(\"score: \", linear_regression.score(X = X, y = y))\n",
        "print(\"MSE: \", mean_squared_error(prediction, y))\n",
        "print(\"RMSE: \", mean_squared_error(prediction, y) ** 0.5)"
      ],
      "execution_count": 63,
      "outputs": [
        {
          "output_type": "stream",
          "text": [
            "score:  0.7406426641094095\n",
            "MSE:  21.894831181729202\n",
            "RMSE:  4.679191295697281\n"
          ],
          "name": "stdout"
        }
      ]
    }
  ]
}