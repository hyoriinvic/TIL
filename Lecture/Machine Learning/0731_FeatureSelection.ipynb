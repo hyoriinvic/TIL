{
  "nbformat": 4,
  "nbformat_minor": 0,
  "metadata": {
    "colab": {
      "name": "0731 FeatureSelection",
      "provenance": [],
      "toc_visible": true
    },
    "kernelspec": {
      "name": "python3",
      "display_name": "Python 3"
    }
  },
  "cells": [
    {
      "cell_type": "markdown",
      "metadata": {
        "id": "lxW1KSN1PPY3",
        "colab_type": "text"
      },
      "source": [
        "# Feature Selection"
      ]
    },
    {
      "cell_type": "markdown",
      "metadata": {
        "id": "krQKH16PPVIU",
        "colab_type": "text"
      },
      "source": [
        "다중공선성을 이용한 Feature Selection"
      ]
    },
    {
      "cell_type": "markdown",
      "metadata": {
        "id": "K38FbbjoPYKD",
        "colab_type": "text"
      },
      "source": [
        "다중공선성(multicollinearity)\n",
        "> 독립 변수의 일부가 다른 독립 변수의 조합으로 표현될 수 있는 경우 \n",
        " * VIF(Variance Inflation Factor) 계산을 통해 확인"
      ]
    },
    {
      "cell_type": "markdown",
      "metadata": {
        "id": "NUPmNTIpPs-b",
        "colab_type": "text"
      },
      "source": [
        "## VIF "
      ]
    },
    {
      "cell_type": "markdown",
      "metadata": {
        "id": "9I6YVuylUJLm",
        "colab_type": "text"
      },
      "source": [
        "### 변수 제거 전"
      ]
    },
    {
      "cell_type": "code",
      "metadata": {
        "id": "1I7_6ggNPxpL",
        "colab_type": "code",
        "colab": {}
      },
      "source": [
        "import pandas as pd\n",
        "import numpy as np"
      ],
      "execution_count": 1,
      "outputs": []
    },
    {
      "cell_type": "code",
      "metadata": {
        "id": "8l-wTJjUO4Rj",
        "colab_type": "code",
        "colab": {}
      },
      "source": [
        "from sklearn import linear_model"
      ],
      "execution_count": 2,
      "outputs": []
    },
    {
      "cell_type": "code",
      "metadata": {
        "id": "NxNDgn3xP0Ix",
        "colab_type": "code",
        "colab": {
          "base_uri": "https://localhost:8080/",
          "height": 195
        },
        "outputId": "486ee966-3584-464d-acf8-31b76da868fd"
      },
      "source": [
        "#2차원 배열을 만들어 'data' 변수에 할당, dataframe 으로 변환\n",
        "data = {\n",
        "    \"x1\": [1, 4, 5, 8, 10],\n",
        "    \"x2\": [3, 5, 7, 9, 10],\n",
        "    \"x3\": [7, 8, 5, 7, 4],\n",
        "    \"y\": [30, 40, 45, 60, 61]\n",
        "}\n",
        "\n",
        "data = pd.DataFrame(data)\n",
        "data"
      ],
      "execution_count": 3,
      "outputs": [
        {
          "output_type": "execute_result",
          "data": {
            "text/html": [
              "<div>\n",
              "<style scoped>\n",
              "    .dataframe tbody tr th:only-of-type {\n",
              "        vertical-align: middle;\n",
              "    }\n",
              "\n",
              "    .dataframe tbody tr th {\n",
              "        vertical-align: top;\n",
              "    }\n",
              "\n",
              "    .dataframe thead th {\n",
              "        text-align: right;\n",
              "    }\n",
              "</style>\n",
              "<table border=\"1\" class=\"dataframe\">\n",
              "  <thead>\n",
              "    <tr style=\"text-align: right;\">\n",
              "      <th></th>\n",
              "      <th>x1</th>\n",
              "      <th>x2</th>\n",
              "      <th>x3</th>\n",
              "      <th>y</th>\n",
              "    </tr>\n",
              "  </thead>\n",
              "  <tbody>\n",
              "    <tr>\n",
              "      <th>0</th>\n",
              "      <td>1</td>\n",
              "      <td>3</td>\n",
              "      <td>7</td>\n",
              "      <td>30</td>\n",
              "    </tr>\n",
              "    <tr>\n",
              "      <th>1</th>\n",
              "      <td>4</td>\n",
              "      <td>5</td>\n",
              "      <td>8</td>\n",
              "      <td>40</td>\n",
              "    </tr>\n",
              "    <tr>\n",
              "      <th>2</th>\n",
              "      <td>5</td>\n",
              "      <td>7</td>\n",
              "      <td>5</td>\n",
              "      <td>45</td>\n",
              "    </tr>\n",
              "    <tr>\n",
              "      <th>3</th>\n",
              "      <td>8</td>\n",
              "      <td>9</td>\n",
              "      <td>7</td>\n",
              "      <td>60</td>\n",
              "    </tr>\n",
              "    <tr>\n",
              "      <th>4</th>\n",
              "      <td>10</td>\n",
              "      <td>10</td>\n",
              "      <td>4</td>\n",
              "      <td>61</td>\n",
              "    </tr>\n",
              "  </tbody>\n",
              "</table>\n",
              "</div>"
            ],
            "text/plain": [
              "   x1  x2  x3   y\n",
              "0   1   3   7  30\n",
              "1   4   5   8  40\n",
              "2   5   7   5  45\n",
              "3   8   9   7  60\n",
              "4  10  10   4  61"
            ]
          },
          "metadata": {
            "tags": []
          },
          "execution_count": 3
        }
      ]
    },
    {
      "cell_type": "code",
      "metadata": {
        "id": "FdjZnMUsQK9k",
        "colab_type": "code",
        "colab": {
          "base_uri": "https://localhost:8080/",
          "height": 34
        },
        "outputId": "a752e420-1210-4f45-f5ed-e0e0a56f1915"
      },
      "source": [
        "linear_regression = linear_model.LinearRegression()\n",
        "linear_regression.fit(X = pd.DataFrame(data[[\"x1\", \"x2\", \"x3\"]]), y = data[\"y\"])"
      ],
      "execution_count": 4,
      "outputs": [
        {
          "output_type": "execute_result",
          "data": {
            "text/plain": [
              "LinearRegression(copy_X=True, fit_intercept=True, n_jobs=None, normalize=False)"
            ]
          },
          "metadata": {
            "tags": []
          },
          "execution_count": 4
        }
      ]
    },
    {
      "cell_type": "code",
      "metadata": {
        "id": "7-s-NkOmQYl7",
        "colab_type": "code",
        "colab": {
          "base_uri": "https://localhost:8080/",
          "height": 34
        },
        "outputId": "7281deb1-cec7-4dfd-d201-c8d1f84c670e"
      },
      "source": [
        "#결정계수 계산\n",
        "linear_regression.score(X = pd.DataFrame(data[[\"x1\", \"x2\", \"x3\"]]), y = data[\"y\"])"
      ],
      "execution_count": 5,
      "outputs": [
        {
          "output_type": "execute_result",
          "data": {
            "text/plain": [
              "0.9952763020975957"
            ]
          },
          "metadata": {
            "tags": []
          },
          "execution_count": 5
        }
      ]
    },
    {
      "cell_type": "code",
      "metadata": {
        "id": "K3tHEAftQe7X",
        "colab_type": "code",
        "colab": {}
      },
      "source": [
        "#예측\n",
        "prediction = linear_regression.predict(X = pd.DataFrame(data[[\"x1\", \"x2\", \"x3\"]]))"
      ],
      "execution_count": 6,
      "outputs": []
    },
    {
      "cell_type": "code",
      "metadata": {
        "id": "vf2jkdSFQlUd",
        "colab_type": "code",
        "colab": {}
      },
      "source": [
        "#잔차\n",
        "residuals = prediction - data[\"y\"]"
      ],
      "execution_count": 7,
      "outputs": []
    },
    {
      "cell_type": "code",
      "metadata": {
        "id": "_FkH182AQsSj",
        "colab_type": "code",
        "colab": {
          "base_uri": "https://localhost:8080/",
          "height": 34
        },
        "outputId": "887577cf-af74-4816-c9ed-957b4cffa210"
      },
      "source": [
        "MSE = (residuals * residuals).sum()/5\n",
        "MSE"
      ],
      "execution_count": 9,
      "outputs": [
        {
          "output_type": "execute_result",
          "data": {
            "text/plain": [
              "0.6677419354838732"
            ]
          },
          "metadata": {
            "tags": []
          },
          "execution_count": 9
        }
      ]
    },
    {
      "cell_type": "code",
      "metadata": {
        "id": "BtQ7n2zDQ2UY",
        "colab_type": "code",
        "colab": {
          "base_uri": "https://localhost:8080/",
          "height": 34
        },
        "outputId": "47b2f755-b0e8-41b5-b256-bebdf4443302"
      },
      "source": [
        "RMSE = MSE ** 0.5\n",
        "RMSE"
      ],
      "execution_count": 11,
      "outputs": [
        {
          "output_type": "execute_result",
          "data": {
            "text/plain": [
              "0.8171547806161775"
            ]
          },
          "metadata": {
            "tags": []
          },
          "execution_count": 11
        }
      ]
    },
    {
      "cell_type": "markdown",
      "metadata": {
        "id": "BYrIlywGRhFS",
        "colab_type": "text"
      },
      "source": [
        "x1의 다중공선성 계산을 위해, x1을 종속 변수로 다른 변수를 독립 변수로 선형 회귀"
      ]
    },
    {
      "cell_type": "code",
      "metadata": {
        "id": "YZ6X-_-rRWsi",
        "colab_type": "code",
        "colab": {
          "base_uri": "https://localhost:8080/",
          "height": 70
        },
        "outputId": "e6ed4792-2673-4f51-94d3-89d727a64186"
      },
      "source": [
        "linear_regression.fit(X = pd.DataFrame(data[[\"x2\", \"x3\"]]), y = data[\"x1\"])\n",
        "\n",
        "print(\"a value: \", linear_regression.intercept_)\n",
        "print(\"b value: \", linear_regression.coef_)\n",
        "\n",
        "r_square = linear_regression.score(X = pd.DataFrame(data[[\"x2\", \"x3\"]]), y = data[\"x1\"])\n",
        "print(\"r_square: \", r_square)"
      ],
      "execution_count": 14,
      "outputs": [
        {
          "output_type": "stream",
          "text": [
            "a value:  -3.4623255813953495\n",
            "b value:  [1.2427907  0.09860465]\n",
            "r_square:  0.9730383815466063\n"
          ],
          "name": "stdout"
        }
      ]
    },
    {
      "cell_type": "code",
      "metadata": {
        "id": "yyK0b1K7SHcA",
        "colab_type": "code",
        "colab": {
          "base_uri": "https://localhost:8080/",
          "height": 34
        },
        "outputId": "f72aa8d3-c5e8-4d76-dadf-125fbc1f642e"
      },
      "source": [
        "#x1의 VIF 계산\n",
        "vif_x1 = 1. / (1. - r_square)\n",
        "vif_x1"
      ],
      "execution_count": 15,
      "outputs": [
        {
          "output_type": "execute_result",
          "data": {
            "text/plain": [
              "37.08976157082763"
            ]
          },
          "metadata": {
            "tags": []
          },
          "execution_count": 15
        }
      ]
    },
    {
      "cell_type": "markdown",
      "metadata": {
        "id": "5s2vIFKoSYIG",
        "colab_type": "text"
      },
      "source": [
        "### 변수 선택 및 제거\n",
        "> 사용자 정의 함수 'VIF Calculator' 로 제거할 변수 선택"
      ]
    },
    {
      "cell_type": "code",
      "metadata": {
        "id": "I9qcXmG-SSu-",
        "colab_type": "code",
        "colab": {}
      },
      "source": [
        "from sklearn.linear_model import LinearRegression\n",
        "\n",
        "def sklearn_vif(X, y):\n",
        "  r_squared = LinearRegression().fit(X, y).score(X, y)\n",
        "  vif = 1. / (1. - r_squared)\n",
        "  return vif"
      ],
      "execution_count": 18,
      "outputs": []
    },
    {
      "cell_type": "code",
      "metadata": {
        "id": "JpBqrZoqSpiV",
        "colab_type": "code",
        "colab": {
          "base_uri": "https://localhost:8080/",
          "height": 34
        },
        "outputId": "a58c3e82-7382-48a6-9c3c-ef9aafb587e8"
      },
      "source": [
        "#x1의 vif\n",
        "sklearn_vif(data[[\"x2\", \"x3\"]], data[\"x1\"])"
      ],
      "execution_count": 19,
      "outputs": [
        {
          "output_type": "execute_result",
          "data": {
            "text/plain": [
              "37.08976157082763"
            ]
          },
          "metadata": {
            "tags": []
          },
          "execution_count": 19
        }
      ]
    },
    {
      "cell_type": "code",
      "metadata": {
        "id": "LGYHHfuYSyET",
        "colab_type": "code",
        "colab": {
          "base_uri": "https://localhost:8080/",
          "height": 34
        },
        "outputId": "bc7847f7-a1e1-43fc-84ba-500af149b4fe"
      },
      "source": [
        "#x2의 vif\n",
        "sklearn_vif(data[[\"x1\", \"x3\"]], data[\"x2\"])"
      ],
      "execution_count": 20,
      "outputs": [
        {
          "output_type": "execute_result",
          "data": {
            "text/plain": [
              "39.83842917251046"
            ]
          },
          "metadata": {
            "tags": []
          },
          "execution_count": 20
        }
      ]
    },
    {
      "cell_type": "code",
      "metadata": {
        "id": "QprL5sZVS5yR",
        "colab_type": "code",
        "colab": {
          "base_uri": "https://localhost:8080/",
          "height": 34
        },
        "outputId": "54907925-2586-4f70-ce3d-1238ea23b21c"
      },
      "source": [
        "#x3의 vif\n",
        "sklearn_vif(data[[\"x2\", \"x1\"]], data[\"x3\"])"
      ],
      "execution_count": 21,
      "outputs": [
        {
          "output_type": "execute_result",
          "data": {
            "text/plain": [
              "1.7267882187938297"
            ]
          },
          "metadata": {
            "tags": []
          },
          "execution_count": 21
        }
      ]
    },
    {
      "cell_type": "markdown",
      "metadata": {
        "id": "STm4h7jvTJ-a",
        "colab_type": "text"
      },
      "source": [
        "### 변수 제거 후"
      ]
    },
    {
      "cell_type": "markdown",
      "metadata": {
        "id": "96yOnGU-TONy",
        "colab_type": "text"
      },
      "source": [
        "VIF가 10 초과인 독립변수 중 가장 VIF가 높은 x2를 제거"
      ]
    },
    {
      "cell_type": "code",
      "metadata": {
        "id": "3YybAxy4S8bl",
        "colab_type": "code",
        "colab": {}
      },
      "source": [
        "data = data[[\"x1\", \"x3\", \"y\"]]"
      ],
      "execution_count": 22,
      "outputs": []
    },
    {
      "cell_type": "code",
      "metadata": {
        "id": "4LNFHzhVTfU8",
        "colab_type": "code",
        "colab": {
          "base_uri": "https://localhost:8080/",
          "height": 195
        },
        "outputId": "490aaed4-6076-4357-fb5b-0d255b0fbbf5"
      },
      "source": [
        "data"
      ],
      "execution_count": 24,
      "outputs": [
        {
          "output_type": "execute_result",
          "data": {
            "text/html": [
              "<div>\n",
              "<style scoped>\n",
              "    .dataframe tbody tr th:only-of-type {\n",
              "        vertical-align: middle;\n",
              "    }\n",
              "\n",
              "    .dataframe tbody tr th {\n",
              "        vertical-align: top;\n",
              "    }\n",
              "\n",
              "    .dataframe thead th {\n",
              "        text-align: right;\n",
              "    }\n",
              "</style>\n",
              "<table border=\"1\" class=\"dataframe\">\n",
              "  <thead>\n",
              "    <tr style=\"text-align: right;\">\n",
              "      <th></th>\n",
              "      <th>x1</th>\n",
              "      <th>x3</th>\n",
              "      <th>y</th>\n",
              "    </tr>\n",
              "  </thead>\n",
              "  <tbody>\n",
              "    <tr>\n",
              "      <th>0</th>\n",
              "      <td>1</td>\n",
              "      <td>7</td>\n",
              "      <td>30</td>\n",
              "    </tr>\n",
              "    <tr>\n",
              "      <th>1</th>\n",
              "      <td>4</td>\n",
              "      <td>8</td>\n",
              "      <td>40</td>\n",
              "    </tr>\n",
              "    <tr>\n",
              "      <th>2</th>\n",
              "      <td>5</td>\n",
              "      <td>5</td>\n",
              "      <td>45</td>\n",
              "    </tr>\n",
              "    <tr>\n",
              "      <th>3</th>\n",
              "      <td>8</td>\n",
              "      <td>7</td>\n",
              "      <td>60</td>\n",
              "    </tr>\n",
              "    <tr>\n",
              "      <th>4</th>\n",
              "      <td>10</td>\n",
              "      <td>4</td>\n",
              "      <td>61</td>\n",
              "    </tr>\n",
              "  </tbody>\n",
              "</table>\n",
              "</div>"
            ],
            "text/plain": [
              "   x1  x3   y\n",
              "0   1   7  30\n",
              "1   4   8  40\n",
              "2   5   5  45\n",
              "3   8   7  60\n",
              "4  10   4  61"
            ]
          },
          "metadata": {
            "tags": []
          },
          "execution_count": 24
        }
      ]
    },
    {
      "cell_type": "code",
      "metadata": {
        "id": "pP1t3813TVZt",
        "colab_type": "code",
        "colab": {
          "base_uri": "https://localhost:8080/",
          "height": 34
        },
        "outputId": "85061e29-4f5f-45d1-852d-443f8339a3f1"
      },
      "source": [
        "#x1의 VIF 계산\n",
        "sklearn_vif(data[[\"x3\"]], data[\"x1\"])"
      ],
      "execution_count": 27,
      "outputs": [
        {
          "output_type": "execute_result",
          "data": {
            "text/plain": [
              "1.5339491916859123"
            ]
          },
          "metadata": {
            "tags": []
          },
          "execution_count": 27
        }
      ]
    },
    {
      "cell_type": "code",
      "metadata": {
        "id": "6G0j9Be5Tb09",
        "colab_type": "code",
        "colab": {
          "base_uri": "https://localhost:8080/",
          "height": 34
        },
        "outputId": "1d05c3d3-6eaa-41c9-a043-40d871f8cc9b"
      },
      "source": [
        "#x3의 VIF 계산\n",
        "sklearn_vif(data[[\"x1\"]], data[\"x3\"])"
      ],
      "execution_count": 28,
      "outputs": [
        {
          "output_type": "execute_result",
          "data": {
            "text/plain": [
              "1.5339491916859125"
            ]
          },
          "metadata": {
            "tags": []
          },
          "execution_count": 28
        }
      ]
    },
    {
      "cell_type": "code",
      "metadata": {
        "id": "iA8cH50wTqoh",
        "colab_type": "code",
        "colab": {
          "base_uri": "https://localhost:8080/",
          "height": 34
        },
        "outputId": "893f40ea-d3da-47d0-ded8-ff0be40c6bbf"
      },
      "source": [
        "linear_regression = linear_model.LinearRegression()\n",
        "linear_regression.fit(X = pd.DataFrame(data[[\"x1\", \"x3\"]]), y = data[\"y\"])"
      ],
      "execution_count": 29,
      "outputs": [
        {
          "output_type": "execute_result",
          "data": {
            "text/plain": [
              "LinearRegression(copy_X=True, fit_intercept=True, n_jobs=None, normalize=False)"
            ]
          },
          "metadata": {
            "tags": []
          },
          "execution_count": 29
        }
      ]
    },
    {
      "cell_type": "code",
      "metadata": {
        "id": "Om5NTC6-TzR2",
        "colab_type": "code",
        "colab": {
          "base_uri": "https://localhost:8080/",
          "height": 34
        },
        "outputId": "a9f3a2da-27a8-4092-adaf-d0efbb41b4f6"
      },
      "source": [
        "linear_regression.score(X = pd.DataFrame(data[[\"x1\", \"x3\"]]), y = data[\"y\"])"
      ],
      "execution_count": 30,
      "outputs": [
        {
          "output_type": "execute_result",
          "data": {
            "text/plain": [
              "0.9757257443691176"
            ]
          },
          "metadata": {
            "tags": []
          },
          "execution_count": 30
        }
      ]
    },
    {
      "cell_type": "code",
      "metadata": {
        "id": "weQt5oBIT12-",
        "colab_type": "code",
        "colab": {
          "base_uri": "https://localhost:8080/",
          "height": 34
        },
        "outputId": "0da0eda4-f1bc-4f67-fd4d-ac631627c8cb"
      },
      "source": [
        "prediction = linear_regression.predict(X = pd.DataFrame(data[[\"x1\",\"x3\"]]))\n",
        "prediction"
      ],
      "execution_count": 31,
      "outputs": [
        {
          "output_type": "execute_result",
          "data": {
            "text/plain": [
              "array([29.61778291, 42.48845266, 43.70323326, 57.4965358 , 62.69399538])"
            ]
          },
          "metadata": {
            "tags": []
          },
          "execution_count": 31
        }
      ]
    },
    {
      "cell_type": "code",
      "metadata": {
        "colab_type": "code",
        "id": "rMmL6SnxT_ws",
        "colab": {}
      },
      "source": [
        "residuals = prediction - data[\"y\"]"
      ],
      "execution_count": 32,
      "outputs": []
    },
    {
      "cell_type": "code",
      "metadata": {
        "colab_type": "code",
        "id": "rV_ZTB4UT_w1",
        "colab": {
          "base_uri": "https://localhost:8080/",
          "height": 34
        },
        "outputId": "9406a4a6-2e02-4af4-dfbe-07de11e3241c"
      },
      "source": [
        "MSE = (residuals * residuals).sum()/5\n",
        "MSE"
      ],
      "execution_count": 33,
      "outputs": [
        {
          "output_type": "execute_result",
          "data": {
            "text/plain": [
              "3.4314087759815264"
            ]
          },
          "metadata": {
            "tags": []
          },
          "execution_count": 33
        }
      ]
    },
    {
      "cell_type": "code",
      "metadata": {
        "colab_type": "code",
        "id": "ijl9K1fET_w8",
        "colab": {
          "base_uri": "https://localhost:8080/",
          "height": 34
        },
        "outputId": "cd102fd2-e61a-4c3a-aef1-b5340b2b0f37"
      },
      "source": [
        "RMSE = MSE ** 0.5\n",
        "RMSE"
      ],
      "execution_count": 34,
      "outputs": [
        {
          "output_type": "execute_result",
          "data": {
            "text/plain": [
              "1.8524062124657017"
            ]
          },
          "metadata": {
            "tags": []
          },
          "execution_count": 34
        }
      ]
    },
    {
      "cell_type": "markdown",
      "metadata": {
        "id": "i24x9supUdUk",
        "colab_type": "text"
      },
      "source": [
        "## VIF 실습\n",
        "> 미국 경제 데이터를 이용한 다중공선성 예제"
      ]
    },
    {
      "cell_type": "code",
      "metadata": {
        "id": "SNiZlCw_UCQC",
        "colab_type": "code",
        "colab": {}
      },
      "source": [
        "import pandas as pd\n",
        "import numpy as np"
      ],
      "execution_count": 35,
      "outputs": []
    },
    {
      "cell_type": "code",
      "metadata": {
        "id": "XwZEuALvUmYo",
        "colab_type": "code",
        "colab": {}
      },
      "source": [
        "import matplotlib.pyplot as plt\n",
        "import seaborn  as sns\n",
        "\n",
        "%matplotlib inline"
      ],
      "execution_count": 41,
      "outputs": []
    },
    {
      "cell_type": "code",
      "metadata": {
        "id": "n1HiIMm_Ut6O",
        "colab_type": "code",
        "colab": {}
      },
      "source": [
        "from sklearn.linear_model import LinearRegression\n",
        "from sklearn.metrics import  r2_score"
      ],
      "execution_count": 37,
      "outputs": []
    },
    {
      "cell_type": "code",
      "metadata": {
        "id": "q0gPtvuuU1Gy",
        "colab_type": "code",
        "colab": {}
      },
      "source": [
        "import statsmodels.api as sm"
      ],
      "execution_count": 38,
      "outputs": []
    },
    {
      "cell_type": "markdown",
      "metadata": {
        "id": "yt_VXVRMU9qR",
        "colab_type": "text"
      },
      "source": [
        "### Data Load"
      ]
    },
    {
      "cell_type": "code",
      "metadata": {
        "id": "P7A9jE_3U8ha",
        "colab_type": "code",
        "colab": {}
      },
      "source": [
        "from statsmodels.datasets.longley import load_pandas"
      ],
      "execution_count": 39,
      "outputs": []
    },
    {
      "cell_type": "code",
      "metadata": {
        "id": "Xhl6K7WvVIb8",
        "colab_type": "code",
        "colab": {}
      },
      "source": [
        "#독립변수 X: 실질 GNP, GNP, 실업자수, 군대, 인구\n",
        "dfX = load_pandas().exog\n",
        "#종속변수 y: 고용자수(TOTEMP)\n",
        "dfy = load_pandas().endog\n",
        "\n",
        "df = pd.concat([dfX, dfy], axis = 1) #데이터프레임 생성(X, y 병합)"
      ],
      "execution_count": 40,
      "outputs": []
    },
    {
      "cell_type": "code",
      "metadata": {
        "id": "qopWx4L6V4x0",
        "colab_type": "code",
        "colab": {
          "base_uri": "https://localhost:8080/",
          "height": 521
        },
        "outputId": "bbab2f41-04cb-4b59-8484-63b2415d54d6"
      },
      "source": [
        "df"
      ],
      "execution_count": 43,
      "outputs": [
        {
          "output_type": "execute_result",
          "data": {
            "text/html": [
              "<div>\n",
              "<style scoped>\n",
              "    .dataframe tbody tr th:only-of-type {\n",
              "        vertical-align: middle;\n",
              "    }\n",
              "\n",
              "    .dataframe tbody tr th {\n",
              "        vertical-align: top;\n",
              "    }\n",
              "\n",
              "    .dataframe thead th {\n",
              "        text-align: right;\n",
              "    }\n",
              "</style>\n",
              "<table border=\"1\" class=\"dataframe\">\n",
              "  <thead>\n",
              "    <tr style=\"text-align: right;\">\n",
              "      <th></th>\n",
              "      <th>GNPDEFL</th>\n",
              "      <th>GNP</th>\n",
              "      <th>UNEMP</th>\n",
              "      <th>ARMED</th>\n",
              "      <th>POP</th>\n",
              "      <th>YEAR</th>\n",
              "      <th>TOTEMP</th>\n",
              "    </tr>\n",
              "  </thead>\n",
              "  <tbody>\n",
              "    <tr>\n",
              "      <th>0</th>\n",
              "      <td>83.0</td>\n",
              "      <td>234289.0</td>\n",
              "      <td>2356.0</td>\n",
              "      <td>1590.0</td>\n",
              "      <td>107608.0</td>\n",
              "      <td>1947.0</td>\n",
              "      <td>60323.0</td>\n",
              "    </tr>\n",
              "    <tr>\n",
              "      <th>1</th>\n",
              "      <td>88.5</td>\n",
              "      <td>259426.0</td>\n",
              "      <td>2325.0</td>\n",
              "      <td>1456.0</td>\n",
              "      <td>108632.0</td>\n",
              "      <td>1948.0</td>\n",
              "      <td>61122.0</td>\n",
              "    </tr>\n",
              "    <tr>\n",
              "      <th>2</th>\n",
              "      <td>88.2</td>\n",
              "      <td>258054.0</td>\n",
              "      <td>3682.0</td>\n",
              "      <td>1616.0</td>\n",
              "      <td>109773.0</td>\n",
              "      <td>1949.0</td>\n",
              "      <td>60171.0</td>\n",
              "    </tr>\n",
              "    <tr>\n",
              "      <th>3</th>\n",
              "      <td>89.5</td>\n",
              "      <td>284599.0</td>\n",
              "      <td>3351.0</td>\n",
              "      <td>1650.0</td>\n",
              "      <td>110929.0</td>\n",
              "      <td>1950.0</td>\n",
              "      <td>61187.0</td>\n",
              "    </tr>\n",
              "    <tr>\n",
              "      <th>4</th>\n",
              "      <td>96.2</td>\n",
              "      <td>328975.0</td>\n",
              "      <td>2099.0</td>\n",
              "      <td>3099.0</td>\n",
              "      <td>112075.0</td>\n",
              "      <td>1951.0</td>\n",
              "      <td>63221.0</td>\n",
              "    </tr>\n",
              "    <tr>\n",
              "      <th>5</th>\n",
              "      <td>98.1</td>\n",
              "      <td>346999.0</td>\n",
              "      <td>1932.0</td>\n",
              "      <td>3594.0</td>\n",
              "      <td>113270.0</td>\n",
              "      <td>1952.0</td>\n",
              "      <td>63639.0</td>\n",
              "    </tr>\n",
              "    <tr>\n",
              "      <th>6</th>\n",
              "      <td>99.0</td>\n",
              "      <td>365385.0</td>\n",
              "      <td>1870.0</td>\n",
              "      <td>3547.0</td>\n",
              "      <td>115094.0</td>\n",
              "      <td>1953.0</td>\n",
              "      <td>64989.0</td>\n",
              "    </tr>\n",
              "    <tr>\n",
              "      <th>7</th>\n",
              "      <td>100.0</td>\n",
              "      <td>363112.0</td>\n",
              "      <td>3578.0</td>\n",
              "      <td>3350.0</td>\n",
              "      <td>116219.0</td>\n",
              "      <td>1954.0</td>\n",
              "      <td>63761.0</td>\n",
              "    </tr>\n",
              "    <tr>\n",
              "      <th>8</th>\n",
              "      <td>101.2</td>\n",
              "      <td>397469.0</td>\n",
              "      <td>2904.0</td>\n",
              "      <td>3048.0</td>\n",
              "      <td>117388.0</td>\n",
              "      <td>1955.0</td>\n",
              "      <td>66019.0</td>\n",
              "    </tr>\n",
              "    <tr>\n",
              "      <th>9</th>\n",
              "      <td>104.6</td>\n",
              "      <td>419180.0</td>\n",
              "      <td>2822.0</td>\n",
              "      <td>2857.0</td>\n",
              "      <td>118734.0</td>\n",
              "      <td>1956.0</td>\n",
              "      <td>67857.0</td>\n",
              "    </tr>\n",
              "    <tr>\n",
              "      <th>10</th>\n",
              "      <td>108.4</td>\n",
              "      <td>442769.0</td>\n",
              "      <td>2936.0</td>\n",
              "      <td>2798.0</td>\n",
              "      <td>120445.0</td>\n",
              "      <td>1957.0</td>\n",
              "      <td>68169.0</td>\n",
              "    </tr>\n",
              "    <tr>\n",
              "      <th>11</th>\n",
              "      <td>110.8</td>\n",
              "      <td>444546.0</td>\n",
              "      <td>4681.0</td>\n",
              "      <td>2637.0</td>\n",
              "      <td>121950.0</td>\n",
              "      <td>1958.0</td>\n",
              "      <td>66513.0</td>\n",
              "    </tr>\n",
              "    <tr>\n",
              "      <th>12</th>\n",
              "      <td>112.6</td>\n",
              "      <td>482704.0</td>\n",
              "      <td>3813.0</td>\n",
              "      <td>2552.0</td>\n",
              "      <td>123366.0</td>\n",
              "      <td>1959.0</td>\n",
              "      <td>68655.0</td>\n",
              "    </tr>\n",
              "    <tr>\n",
              "      <th>13</th>\n",
              "      <td>114.2</td>\n",
              "      <td>502601.0</td>\n",
              "      <td>3931.0</td>\n",
              "      <td>2514.0</td>\n",
              "      <td>125368.0</td>\n",
              "      <td>1960.0</td>\n",
              "      <td>69564.0</td>\n",
              "    </tr>\n",
              "    <tr>\n",
              "      <th>14</th>\n",
              "      <td>115.7</td>\n",
              "      <td>518173.0</td>\n",
              "      <td>4806.0</td>\n",
              "      <td>2572.0</td>\n",
              "      <td>127852.0</td>\n",
              "      <td>1961.0</td>\n",
              "      <td>69331.0</td>\n",
              "    </tr>\n",
              "    <tr>\n",
              "      <th>15</th>\n",
              "      <td>116.9</td>\n",
              "      <td>554894.0</td>\n",
              "      <td>4007.0</td>\n",
              "      <td>2827.0</td>\n",
              "      <td>130081.0</td>\n",
              "      <td>1962.0</td>\n",
              "      <td>70551.0</td>\n",
              "    </tr>\n",
              "  </tbody>\n",
              "</table>\n",
              "</div>"
            ],
            "text/plain": [
              "    GNPDEFL       GNP   UNEMP   ARMED       POP    YEAR   TOTEMP\n",
              "0      83.0  234289.0  2356.0  1590.0  107608.0  1947.0  60323.0\n",
              "1      88.5  259426.0  2325.0  1456.0  108632.0  1948.0  61122.0\n",
              "2      88.2  258054.0  3682.0  1616.0  109773.0  1949.0  60171.0\n",
              "3      89.5  284599.0  3351.0  1650.0  110929.0  1950.0  61187.0\n",
              "4      96.2  328975.0  2099.0  3099.0  112075.0  1951.0  63221.0\n",
              "5      98.1  346999.0  1932.0  3594.0  113270.0  1952.0  63639.0\n",
              "6      99.0  365385.0  1870.0  3547.0  115094.0  1953.0  64989.0\n",
              "7     100.0  363112.0  3578.0  3350.0  116219.0  1954.0  63761.0\n",
              "8     101.2  397469.0  2904.0  3048.0  117388.0  1955.0  66019.0\n",
              "9     104.6  419180.0  2822.0  2857.0  118734.0  1956.0  67857.0\n",
              "10    108.4  442769.0  2936.0  2798.0  120445.0  1957.0  68169.0\n",
              "11    110.8  444546.0  4681.0  2637.0  121950.0  1958.0  66513.0\n",
              "12    112.6  482704.0  3813.0  2552.0  123366.0  1959.0  68655.0\n",
              "13    114.2  502601.0  3931.0  2514.0  125368.0  1960.0  69564.0\n",
              "14    115.7  518173.0  4806.0  2572.0  127852.0  1961.0  69331.0\n",
              "15    116.9  554894.0  4007.0  2827.0  130081.0  1962.0  70551.0"
            ]
          },
          "metadata": {
            "tags": []
          },
          "execution_count": 43
        }
      ]
    },
    {
      "cell_type": "code",
      "metadata": {
        "id": "efT-8fBdVcm1",
        "colab_type": "code",
        "colab": {
          "base_uri": "https://localhost:8080/",
          "height": 286
        },
        "outputId": "1261acdb-49f6-418d-f01d-ac15244ab52e"
      },
      "source": [
        "#dfX의 변수간 관계 시각화 (by heatmap)\n",
        "sns.heatmap(dfX.corr(), annot = True, cmap = \"BuPu\")"
      ],
      "execution_count": 42,
      "outputs": [
        {
          "output_type": "execute_result",
          "data": {
            "text/plain": [
              "<matplotlib.axes._subplots.AxesSubplot at 0x7f17ab3bcd68>"
            ]
          },
          "metadata": {
            "tags": []
          },
          "execution_count": 42
        },
        {
          "output_type": "display_data",
          "data": {
            "image/png": "[encoded data removed]",
            "text/plain": [
              "<Figure size 432x288 with 2 Axes>"
            ]
          },
          "metadata": {
            "tags": [],
            "needs_background": "light"
          }
        }
      ]
    },
    {
      "cell_type": "code",
      "metadata": {
        "id": "AaRHDlC5VxYh",
        "colab_type": "code",
        "colab": {
          "base_uri": "https://localhost:8080/",
          "height": 195
        },
        "outputId": "98340b47-568e-4a84-fd88-8391ca19283c"
      },
      "source": [
        "y = df[\"TOTEMP\"]\n",
        "X = df.drop([\"TOTEMP\", \"YEAR\"], axis = 1)\n",
        "X.head()"
      ],
      "execution_count": 46,
      "outputs": [
        {
          "output_type": "execute_result",
          "data": {
            "text/html": [
              "<div>\n",
              "<style scoped>\n",
              "    .dataframe tbody tr th:only-of-type {\n",
              "        vertical-align: middle;\n",
              "    }\n",
              "\n",
              "    .dataframe tbody tr th {\n",
              "        vertical-align: top;\n",
              "    }\n",
              "\n",
              "    .dataframe thead th {\n",
              "        text-align: right;\n",
              "    }\n",
              "</style>\n",
              "<table border=\"1\" class=\"dataframe\">\n",
              "  <thead>\n",
              "    <tr style=\"text-align: right;\">\n",
              "      <th></th>\n",
              "      <th>GNPDEFL</th>\n",
              "      <th>GNP</th>\n",
              "      <th>UNEMP</th>\n",
              "      <th>ARMED</th>\n",
              "      <th>POP</th>\n",
              "    </tr>\n",
              "  </thead>\n",
              "  <tbody>\n",
              "    <tr>\n",
              "      <th>0</th>\n",
              "      <td>83.0</td>\n",
              "      <td>234289.0</td>\n",
              "      <td>2356.0</td>\n",
              "      <td>1590.0</td>\n",
              "      <td>107608.0</td>\n",
              "    </tr>\n",
              "    <tr>\n",
              "      <th>1</th>\n",
              "      <td>88.5</td>\n",
              "      <td>259426.0</td>\n",
              "      <td>2325.0</td>\n",
              "      <td>1456.0</td>\n",
              "      <td>108632.0</td>\n",
              "    </tr>\n",
              "    <tr>\n",
              "      <th>2</th>\n",
              "      <td>88.2</td>\n",
              "      <td>258054.0</td>\n",
              "      <td>3682.0</td>\n",
              "      <td>1616.0</td>\n",
              "      <td>109773.0</td>\n",
              "    </tr>\n",
              "    <tr>\n",
              "      <th>3</th>\n",
              "      <td>89.5</td>\n",
              "      <td>284599.0</td>\n",
              "      <td>3351.0</td>\n",
              "      <td>1650.0</td>\n",
              "      <td>110929.0</td>\n",
              "    </tr>\n",
              "    <tr>\n",
              "      <th>4</th>\n",
              "      <td>96.2</td>\n",
              "      <td>328975.0</td>\n",
              "      <td>2099.0</td>\n",
              "      <td>3099.0</td>\n",
              "      <td>112075.0</td>\n",
              "    </tr>\n",
              "  </tbody>\n",
              "</table>\n",
              "</div>"
            ],
            "text/plain": [
              "   GNPDEFL       GNP   UNEMP   ARMED       POP\n",
              "0     83.0  234289.0  2356.0  1590.0  107608.0\n",
              "1     88.5  259426.0  2325.0  1456.0  108632.0\n",
              "2     88.2  258054.0  3682.0  1616.0  109773.0\n",
              "3     89.5  284599.0  3351.0  1650.0  110929.0\n",
              "4     96.2  328975.0  2099.0  3099.0  112075.0"
            ]
          },
          "metadata": {
            "tags": []
          },
          "execution_count": 46
        }
      ]
    },
    {
      "cell_type": "markdown",
      "metadata": {
        "id": "jO3ctktVWasy",
        "colab_type": "text"
      },
      "source": [
        "### MinMax Scailing\n",
        "> 최댓값을 1, 최솟값을 0으로 하여, 그 사이에 값들이 있도록 정제\n",
        "* Xscale = (X - Xmin) / (Xmax - Xmin)"
      ]
    },
    {
      "cell_type": "code",
      "metadata": {
        "id": "ibT6UtipWRp-",
        "colab_type": "code",
        "colab": {}
      },
      "source": [
        "from sklearn.preprocessing import MinMaxScaler"
      ],
      "execution_count": 47,
      "outputs": []
    },
    {
      "cell_type": "code",
      "metadata": {
        "id": "7DK2-UqJWu2E",
        "colab_type": "code",
        "colab": {
          "base_uri": "https://localhost:8080/",
          "height": 298
        },
        "outputId": "811136de-b6d4-4bd8-ce60-2c44f9cbf195"
      },
      "source": [
        "scaler = MinMaxScaler()\n",
        "scaler.fit(X)\n",
        "\n",
        "X_scaled = scaler.transform(X)\n",
        "X_scaled"
      ],
      "execution_count": 48,
      "outputs": [
        {
          "output_type": "execute_result",
          "data": {
            "text/plain": [
              "array([[0.        , 0.        , 0.16553134, 0.0626754 , 0.        ],\n",
              "       [0.16224189, 0.07840489, 0.15497275, 0.        , 0.04556579],\n",
              "       [0.15339233, 0.07412548, 0.61716621, 0.0748363 , 0.09633783],\n",
              "       [0.19174041, 0.15692207, 0.50442779, 0.09073901, 0.14777733],\n",
              "       [0.38938053, 0.29533538, 0.07799728, 0.76847521, 0.19877186],\n",
              "       [0.44542773, 0.35155409, 0.02111717, 1.        , 0.25194678],\n",
              "       [0.4719764 , 0.40890192, 0.        , 0.97801684, 0.33311084],\n",
              "       [0.50147493, 0.4018122 , 0.58174387, 0.88587465, 0.38317092],\n",
              "       [0.53687316, 0.50897522, 0.35217984, 0.74462114, 0.43518889],\n",
              "       [0.63716814, 0.57669406, 0.32425068, 0.65528531, 0.49508299],\n",
              "       [0.74926254, 0.65027058, 0.36307902, 0.62768943, 0.5712188 ],\n",
              "       [0.820059  , 0.65581323, 0.95742507, 0.55238541, 0.63818805],\n",
              "       [0.87315634, 0.77483196, 0.66178474, 0.51262862, 0.70119699],\n",
              "       [0.92035398, 0.83689275, 0.70197548, 0.494855  , 0.79028167],\n",
              "       [0.96460177, 0.88546342, 1.        , 0.52198316, 0.90081431],\n",
              "       [1.        , 1.        , 0.72786104, 0.64125351, 1.        ]])"
            ]
          },
          "metadata": {
            "tags": []
          },
          "execution_count": 48
        }
      ]
    },
    {
      "cell_type": "code",
      "metadata": {
        "id": "kwJooRniW4ac",
        "colab_type": "code",
        "colab": {
          "base_uri": "https://localhost:8080/",
          "height": 521
        },
        "outputId": "44b6c3d3-4b06-444a-d114-aa9f4a6b62e9"
      },
      "source": [
        "X = pd.DataFrame(X_scaled, columns = X.columns)\n",
        "X"
      ],
      "execution_count": 49,
      "outputs": [
        {
          "output_type": "execute_result",
          "data": {
            "text/html": [
              "<div>\n",
              "<style scoped>\n",
              "    .dataframe tbody tr th:only-of-type {\n",
              "        vertical-align: middle;\n",
              "    }\n",
              "\n",
              "    .dataframe tbody tr th {\n",
              "        vertical-align: top;\n",
              "    }\n",
              "\n",
              "    .dataframe thead th {\n",
              "        text-align: right;\n",
              "    }\n",
              "</style>\n",
              "<table border=\"1\" class=\"dataframe\">\n",
              "  <thead>\n",
              "    <tr style=\"text-align: right;\">\n",
              "      <th></th>\n",
              "      <th>GNPDEFL</th>\n",
              "      <th>GNP</th>\n",
              "      <th>UNEMP</th>\n",
              "      <th>ARMED</th>\n",
              "      <th>POP</th>\n",
              "    </tr>\n",
              "  </thead>\n",
              "  <tbody>\n",
              "    <tr>\n",
              "      <th>0</th>\n",
              "      <td>0.000000</td>\n",
              "      <td>0.000000</td>\n",
              "      <td>0.165531</td>\n",
              "      <td>0.062675</td>\n",
              "      <td>0.000000</td>\n",
              "    </tr>\n",
              "    <tr>\n",
              "      <th>1</th>\n",
              "      <td>0.162242</td>\n",
              "      <td>0.078405</td>\n",
              "      <td>0.154973</td>\n",
              "      <td>0.000000</td>\n",
              "      <td>0.045566</td>\n",
              "    </tr>\n",
              "    <tr>\n",
              "      <th>2</th>\n",
              "      <td>0.153392</td>\n",
              "      <td>0.074125</td>\n",
              "      <td>0.617166</td>\n",
              "      <td>0.074836</td>\n",
              "      <td>0.096338</td>\n",
              "    </tr>\n",
              "    <tr>\n",
              "      <th>3</th>\n",
              "      <td>0.191740</td>\n",
              "      <td>0.156922</td>\n",
              "      <td>0.504428</td>\n",
              "      <td>0.090739</td>\n",
              "      <td>0.147777</td>\n",
              "    </tr>\n",
              "    <tr>\n",
              "      <th>4</th>\n",
              "      <td>0.389381</td>\n",
              "      <td>0.295335</td>\n",
              "      <td>0.077997</td>\n",
              "      <td>0.768475</td>\n",
              "      <td>0.198772</td>\n",
              "    </tr>\n",
              "    <tr>\n",
              "      <th>5</th>\n",
              "      <td>0.445428</td>\n",
              "      <td>0.351554</td>\n",
              "      <td>0.021117</td>\n",
              "      <td>1.000000</td>\n",
              "      <td>0.251947</td>\n",
              "    </tr>\n",
              "    <tr>\n",
              "      <th>6</th>\n",
              "      <td>0.471976</td>\n",
              "      <td>0.408902</td>\n",
              "      <td>0.000000</td>\n",
              "      <td>0.978017</td>\n",
              "      <td>0.333111</td>\n",
              "    </tr>\n",
              "    <tr>\n",
              "      <th>7</th>\n",
              "      <td>0.501475</td>\n",
              "      <td>0.401812</td>\n",
              "      <td>0.581744</td>\n",
              "      <td>0.885875</td>\n",
              "      <td>0.383171</td>\n",
              "    </tr>\n",
              "    <tr>\n",
              "      <th>8</th>\n",
              "      <td>0.536873</td>\n",
              "      <td>0.508975</td>\n",
              "      <td>0.352180</td>\n",
              "      <td>0.744621</td>\n",
              "      <td>0.435189</td>\n",
              "    </tr>\n",
              "    <tr>\n",
              "      <th>9</th>\n",
              "      <td>0.637168</td>\n",
              "      <td>0.576694</td>\n",
              "      <td>0.324251</td>\n",
              "      <td>0.655285</td>\n",
              "      <td>0.495083</td>\n",
              "    </tr>\n",
              "    <tr>\n",
              "      <th>10</th>\n",
              "      <td>0.749263</td>\n",
              "      <td>0.650271</td>\n",
              "      <td>0.363079</td>\n",
              "      <td>0.627689</td>\n",
              "      <td>0.571219</td>\n",
              "    </tr>\n",
              "    <tr>\n",
              "      <th>11</th>\n",
              "      <td>0.820059</td>\n",
              "      <td>0.655813</td>\n",
              "      <td>0.957425</td>\n",
              "      <td>0.552385</td>\n",
              "      <td>0.638188</td>\n",
              "    </tr>\n",
              "    <tr>\n",
              "      <th>12</th>\n",
              "      <td>0.873156</td>\n",
              "      <td>0.774832</td>\n",
              "      <td>0.661785</td>\n",
              "      <td>0.512629</td>\n",
              "      <td>0.701197</td>\n",
              "    </tr>\n",
              "    <tr>\n",
              "      <th>13</th>\n",
              "      <td>0.920354</td>\n",
              "      <td>0.836893</td>\n",
              "      <td>0.701975</td>\n",
              "      <td>0.494855</td>\n",
              "      <td>0.790282</td>\n",
              "    </tr>\n",
              "    <tr>\n",
              "      <th>14</th>\n",
              "      <td>0.964602</td>\n",
              "      <td>0.885463</td>\n",
              "      <td>1.000000</td>\n",
              "      <td>0.521983</td>\n",
              "      <td>0.900814</td>\n",
              "    </tr>\n",
              "    <tr>\n",
              "      <th>15</th>\n",
              "      <td>1.000000</td>\n",
              "      <td>1.000000</td>\n",
              "      <td>0.727861</td>\n",
              "      <td>0.641254</td>\n",
              "      <td>1.000000</td>\n",
              "    </tr>\n",
              "  </tbody>\n",
              "</table>\n",
              "</div>"
            ],
            "text/plain": [
              "     GNPDEFL       GNP     UNEMP     ARMED       POP\n",
              "0   0.000000  0.000000  0.165531  0.062675  0.000000\n",
              "1   0.162242  0.078405  0.154973  0.000000  0.045566\n",
              "2   0.153392  0.074125  0.617166  0.074836  0.096338\n",
              "3   0.191740  0.156922  0.504428  0.090739  0.147777\n",
              "4   0.389381  0.295335  0.077997  0.768475  0.198772\n",
              "5   0.445428  0.351554  0.021117  1.000000  0.251947\n",
              "6   0.471976  0.408902  0.000000  0.978017  0.333111\n",
              "7   0.501475  0.401812  0.581744  0.885875  0.383171\n",
              "8   0.536873  0.508975  0.352180  0.744621  0.435189\n",
              "9   0.637168  0.576694  0.324251  0.655285  0.495083\n",
              "10  0.749263  0.650271  0.363079  0.627689  0.571219\n",
              "11  0.820059  0.655813  0.957425  0.552385  0.638188\n",
              "12  0.873156  0.774832  0.661785  0.512629  0.701197\n",
              "13  0.920354  0.836893  0.701975  0.494855  0.790282\n",
              "14  0.964602  0.885463  1.000000  0.521983  0.900814\n",
              "15  1.000000  1.000000  0.727861  0.641254  1.000000"
            ]
          },
          "metadata": {
            "tags": []
          },
          "execution_count": 49
        }
      ]
    },
    {
      "cell_type": "markdown",
      "metadata": {
        "id": "3GRIgwDMcQdb",
        "colab_type": "text"
      },
      "source": [
        "### Linear Regression"
      ]
    },
    {
      "cell_type": "code",
      "metadata": {
        "id": "9YhRYkXdW_Kc",
        "colab_type": "code",
        "colab": {
          "base_uri": "https://localhost:8080/",
          "height": 34
        },
        "outputId": "cc7c2d87-c77d-4bd4-8594-b296a06459ca"
      },
      "source": [
        "reg = LinearRegression()\n",
        "reg.fit(X, y)"
      ],
      "execution_count": 50,
      "outputs": [
        {
          "output_type": "execute_result",
          "data": {
            "text/plain": [
              "LinearRegression(copy_X=True, fit_intercept=True, n_jobs=None, normalize=False)"
            ]
          },
          "metadata": {
            "tags": []
          },
          "execution_count": 50
        }
      ]
    },
    {
      "cell_type": "code",
      "metadata": {
        "id": "2imttvqScZRq",
        "colab_type": "code",
        "colab": {
          "base_uri": "https://localhost:8080/",
          "height": 52
        },
        "outputId": "3349276b-6dbc-49ce-f63f-15d046caea9c"
      },
      "source": [
        "reg.coef_ #weight"
      ],
      "execution_count": 52,
      "outputs": [
        {
          "output_type": "execute_result",
          "data": {
            "text/plain": [
              "array([-1642.88987543, 23084.79411175, -1185.7654284 , -1198.33955478,\n",
              "       -9068.05060078])"
            ]
          },
          "metadata": {
            "tags": []
          },
          "execution_count": 52
        }
      ]
    },
    {
      "cell_type": "code",
      "metadata": {
        "id": "DnN1q09YcbWB",
        "colab_type": "code",
        "colab": {
          "base_uri": "https://localhost:8080/",
          "height": 34
        },
        "outputId": "7e6a4efb-6cba-44fe-dec4-0c6c648a4941"
      },
      "source": [
        "reg.intercept_ #bias"
      ],
      "execution_count": 53,
      "outputs": [
        {
          "output_type": "execute_result",
          "data": {
            "text/plain": [
              "60316.52028562989"
            ]
          },
          "metadata": {
            "tags": []
          },
          "execution_count": 53
        }
      ]
    },
    {
      "cell_type": "code",
      "metadata": {
        "id": "MB2KUH0KcfdD",
        "colab_type": "code",
        "colab": {
          "base_uri": "https://localhost:8080/",
          "height": 54
        },
        "outputId": "9fe128ff-38fd-48ae-fd2c-7b11fe88c6ab"
      },
      "source": [
        "print(\"The linear model is: Y = {} + {} * GNPDEFL + {} * GNP + {} * UNEMP + {} * ARMED + {} * POP\".format(\n",
        "    reg.intercept_, reg.coef_[0], reg.coef_[1], reg.coef_[2], reg.coef_[3], reg.coef_[4]\n",
        "))"
      ],
      "execution_count": 54,
      "outputs": [
        {
          "output_type": "stream",
          "text": [
            "The linear model is: Y = 60316.52028562989 + -1642.8898754308136 * GNPDEFL + 23084.794111748713 * GNP + -1185.7654284028167 * UNEMP + -1198.3395547765758 * ARMED + -9068.050600778119 * POP\n"
          ],
          "name": "stdout"
        }
      ]
    },
    {
      "cell_type": "code",
      "metadata": {
        "id": "z9dCd-APc_ZJ",
        "colab_type": "code",
        "colab": {
          "base_uri": "https://localhost:8080/",
          "height": 87
        },
        "outputId": "2057ce0d-1444-4ccf-d767-4a18c8244939"
      },
      "source": [
        "predictions = reg.predict(X)\n",
        "predictions"
      ],
      "execution_count": 55,
      "outputs": [
        {
          "output_type": "execute_result",
          "data": {
            "text/plain": [
              "array([60045.13254307, 61262.98126938, 60080.59511106, 61577.10404942,\n",
              "       63678.7134359 , 64192.23972166, 64787.86941276, 63542.40042971,\n",
              "       65927.85839769, 66923.40975212, 67734.37439117, 66524.21866929,\n",
              "       69011.34237133, 69532.28010289, 69192.6183171 , 71058.86202547])"
            ]
          },
          "metadata": {
            "tags": []
          },
          "execution_count": 55
        }
      ]
    },
    {
      "cell_type": "code",
      "metadata": {
        "id": "dVab663hdEeW",
        "colab_type": "code",
        "colab": {
          "base_uri": "https://localhost:8080/",
          "height": 316
        },
        "outputId": "4f81f1df-a287-4f25-d34e-1cd6ec2c75c6"
      },
      "source": [
        "residuals = y - predictions\n",
        "residuals"
      ],
      "execution_count": 56,
      "outputs": [
        {
          "output_type": "execute_result",
          "data": {
            "text/plain": [
              "0     277.867457\n",
              "1    -140.981269\n",
              "2      90.404889\n",
              "3    -390.104049\n",
              "4    -457.713436\n",
              "5    -553.239722\n",
              "6     201.130587\n",
              "7     218.599570\n",
              "8      91.141602\n",
              "9     933.590248\n",
              "10    434.625609\n",
              "11    -11.218669\n",
              "12   -356.342371\n",
              "13     31.719897\n",
              "14    138.381683\n",
              "15   -507.862025\n",
              "Name: TOTEMP, dtype: float64"
            ]
          },
          "metadata": {
            "tags": []
          },
          "execution_count": 56
        }
      ]
    },
    {
      "cell_type": "code",
      "metadata": {
        "id": "1IZGBYlqdJXR",
        "colab_type": "code",
        "colab": {
          "base_uri": "https://localhost:8080/",
          "height": 175
        },
        "outputId": "64424c31-9d8a-47f0-c10f-80e7180bbcf6"
      },
      "source": [
        "residuals.describe()"
      ],
      "execution_count": 57,
      "outputs": [
        {
          "output_type": "execute_result",
          "data": {
            "text/plain": [
              "count    1.600000e+01\n",
              "mean     2.273737e-12\n",
              "std      3.945662e+02\n",
              "min     -5.532397e+02\n",
              "25%     -3.647828e+02\n",
              "50%      6.106239e+01\n",
              "75%      2.054978e+02\n",
              "max      9.335902e+02\n",
              "Name: TOTEMP, dtype: float64"
            ]
          },
          "metadata": {
            "tags": []
          },
          "execution_count": 57
        }
      ]
    },
    {
      "cell_type": "code",
      "metadata": {
        "id": "PzaadeOJdMAa",
        "colab_type": "code",
        "colab": {
          "base_uri": "https://localhost:8080/",
          "height": 34
        },
        "outputId": "cbf34c0e-47e9-400b-f838-42923545b26b"
      },
      "source": [
        "SSE = (residuals ** 2).sum()\n",
        "SST = ((y - y.mean()) ** 2).sum()\n",
        "\n",
        "R_square = 1 - (SSE/SST)\n",
        "R_square"
      ],
      "execution_count": 58,
      "outputs": [
        {
          "output_type": "execute_result",
          "data": {
            "text/plain": [
              "0.9873776967532713"
            ]
          },
          "metadata": {
            "tags": []
          },
          "execution_count": 58
        }
      ]
    },
    {
      "cell_type": "markdown",
      "metadata": {
        "id": "cM_dgx12ddTP",
        "colab_type": "text"
      },
      "source": [
        "### Multicollinearity"
      ]
    },
    {
      "cell_type": "code",
      "metadata": {
        "id": "LNp_eq_idZ7M",
        "colab_type": "code",
        "colab": {}
      },
      "source": [
        "from sklearn.linear_model import LinearRegression"
      ],
      "execution_count": 59,
      "outputs": []
    },
    {
      "cell_type": "code",
      "metadata": {
        "id": "tW2I9Jx5doTX",
        "colab_type": "code",
        "colab": {}
      },
      "source": [
        "#사용자 정의 함수 'variance_inflation_fator()'\n",
        "#exog: 데이터프레임\n",
        "#exog_idx: 다중공선성을 계산하고자 하는 컬럼의 인덱스\n",
        "\n",
        "def variance_inflation_fator(exog, exog_idx):\n",
        "  k_vars = exog.values.shape[1] #독립변수의 개수\n",
        "  x_i = exog.iloc[:, exog_idx] #VIF를 계산하고자 하는 독립변수를 대입\n",
        "\n",
        "  #VIF를 구하고자 하는 독립변수 인덱스 exog_ids 가 아니면 True, 맞으면 False 대입\n",
        "  mask = np.arange(k_vars) != exog_idx \n",
        "  #mask가 True인 열 대입\n",
        "  x_noti = exog.iloc[:, mask]\n",
        "\n",
        "  #결정계수 계산\n",
        "  r_squared_i = LinearRegression().fit(X = pd.DataFrame(x_noti), y = pd.Series(x_i)).score(X = pd.DataFrame(x_noti), y = pd.Series(x_i))\n",
        "  \n",
        "  #VIF\n",
        "  vif = 1. / (1. - r_squared_i)\n",
        "  return vif"
      ],
      "execution_count": 63,
      "outputs": []
    },
    {
      "cell_type": "markdown",
      "metadata": {
        "id": "WrSOv4NdgwHZ",
        "colab_type": "text"
      },
      "source": [
        "* VIF > 10 이면, VIF가 가장 큰 컬럼 삭제\n",
        "* VIF 다시 계산\n",
        "* VIF > 10 이 없을 때 까지 반복\n"
      ]
    },
    {
      "cell_type": "code",
      "metadata": {
        "id": "cj-fUY43eZl8",
        "colab_type": "code",
        "colab": {}
      },
      "source": [
        "vif = pd.DataFrame() #다중공선성을 계산해 저장할 DataFrame\n",
        "vif[\"features\"] = X.columns\n",
        "vif[\"VIF Factor\"] = [variance_inflation_fator(X, i) for i in range(X.values.shape[1])]"
      ],
      "execution_count": 64,
      "outputs": []
    },
    {
      "cell_type": "code",
      "metadata": {
        "id": "0avybAxQgaXf",
        "colab_type": "code",
        "colab": {
          "base_uri": "https://localhost:8080/",
          "height": 195
        },
        "outputId": "0c3be69c-3ba2-4105-b5e5-33b5e2e41743"
      },
      "source": [
        "vif"
      ],
      "execution_count": 65,
      "outputs": [
        {
          "output_type": "execute_result",
          "data": {
            "text/html": [
              "<div>\n",
              "<style scoped>\n",
              "    .dataframe tbody tr th:only-of-type {\n",
              "        vertical-align: middle;\n",
              "    }\n",
              "\n",
              "    .dataframe tbody tr th {\n",
              "        vertical-align: top;\n",
              "    }\n",
              "\n",
              "    .dataframe thead th {\n",
              "        text-align: right;\n",
              "    }\n",
              "</style>\n",
              "<table border=\"1\" class=\"dataframe\">\n",
              "  <thead>\n",
              "    <tr style=\"text-align: right;\">\n",
              "      <th></th>\n",
              "      <th>features</th>\n",
              "      <th>VIF Factor</th>\n",
              "    </tr>\n",
              "  </thead>\n",
              "  <tbody>\n",
              "    <tr>\n",
              "      <th>0</th>\n",
              "      <td>GNPDEFL</td>\n",
              "      <td>130.829201</td>\n",
              "    </tr>\n",
              "    <tr>\n",
              "      <th>1</th>\n",
              "      <td>GNP</td>\n",
              "      <td>639.049777</td>\n",
              "    </tr>\n",
              "    <tr>\n",
              "      <th>2</th>\n",
              "      <td>UNEMP</td>\n",
              "      <td>10.786858</td>\n",
              "    </tr>\n",
              "    <tr>\n",
              "      <th>3</th>\n",
              "      <td>ARMED</td>\n",
              "      <td>2.505775</td>\n",
              "    </tr>\n",
              "    <tr>\n",
              "      <th>4</th>\n",
              "      <td>POP</td>\n",
              "      <td>339.011693</td>\n",
              "    </tr>\n",
              "  </tbody>\n",
              "</table>\n",
              "</div>"
            ],
            "text/plain": [
              "  features  VIF Factor\n",
              "0  GNPDEFL  130.829201\n",
              "1      GNP  639.049777\n",
              "2    UNEMP   10.786858\n",
              "3    ARMED    2.505775\n",
              "4      POP  339.011693"
            ]
          },
          "metadata": {
            "tags": []
          },
          "execution_count": 65
        }
      ]
    },
    {
      "cell_type": "code",
      "metadata": {
        "id": "-UsGqnxcgsgZ",
        "colab_type": "code",
        "colab": {}
      },
      "source": [
        "X = X.drop([\"GNP\"], axis = 1) #VIF가 가장 큰 'GNP' 삭제"
      ],
      "execution_count": 66,
      "outputs": []
    },
    {
      "cell_type": "code",
      "metadata": {
        "colab_type": "code",
        "id": "4zXRzpl7hKFw",
        "colab": {}
      },
      "source": [
        "vif = pd.DataFrame()\n",
        "vif[\"features\"] = X.columns\n",
        "vif[\"VIF Factor\"] = [variance_inflation_fator(X, i) for i in range(X.values.shape[1])]"
      ],
      "execution_count": 67,
      "outputs": []
    },
    {
      "cell_type": "code",
      "metadata": {
        "id": "7JniymlBhKND",
        "colab_type": "code",
        "colab": {
          "base_uri": "https://localhost:8080/",
          "height": 166
        },
        "outputId": "ac9f72a2-8bfd-4561-e8a6-578ac8db8f90"
      },
      "source": [
        "vif"
      ],
      "execution_count": 68,
      "outputs": [
        {
          "output_type": "execute_result",
          "data": {
            "text/html": [
              "<div>\n",
              "<style scoped>\n",
              "    .dataframe tbody tr th:only-of-type {\n",
              "        vertical-align: middle;\n",
              "    }\n",
              "\n",
              "    .dataframe tbody tr th {\n",
              "        vertical-align: top;\n",
              "    }\n",
              "\n",
              "    .dataframe thead th {\n",
              "        text-align: right;\n",
              "    }\n",
              "</style>\n",
              "<table border=\"1\" class=\"dataframe\">\n",
              "  <thead>\n",
              "    <tr style=\"text-align: right;\">\n",
              "      <th></th>\n",
              "      <th>features</th>\n",
              "      <th>VIF Factor</th>\n",
              "    </tr>\n",
              "  </thead>\n",
              "  <tbody>\n",
              "    <tr>\n",
              "      <th>0</th>\n",
              "      <td>GNPDEFL</td>\n",
              "      <td>35.970754</td>\n",
              "    </tr>\n",
              "    <tr>\n",
              "      <th>1</th>\n",
              "      <td>UNEMP</td>\n",
              "      <td>3.147600</td>\n",
              "    </tr>\n",
              "    <tr>\n",
              "      <th>2</th>\n",
              "      <td>ARMED</td>\n",
              "      <td>2.497795</td>\n",
              "    </tr>\n",
              "    <tr>\n",
              "      <th>3</th>\n",
              "      <td>POP</td>\n",
              "      <td>34.588299</td>\n",
              "    </tr>\n",
              "  </tbody>\n",
              "</table>\n",
              "</div>"
            ],
            "text/plain": [
              "  features  VIF Factor\n",
              "0  GNPDEFL   35.970754\n",
              "1    UNEMP    3.147600\n",
              "2    ARMED    2.497795\n",
              "3      POP   34.588299"
            ]
          },
          "metadata": {
            "tags": []
          },
          "execution_count": 68
        }
      ]
    },
    {
      "cell_type": "code",
      "metadata": {
        "id": "GdGCVn4AhMpV",
        "colab_type": "code",
        "colab": {}
      },
      "source": [
        "X = X.drop([\"GNPDEFL\"], axis = 1) #VIF가 가장 큰 'GNPDEFL' 삭제"
      ],
      "execution_count": 69,
      "outputs": []
    },
    {
      "cell_type": "code",
      "metadata": {
        "id": "H9KvPIoihRlb",
        "colab_type": "code",
        "colab": {}
      },
      "source": [
        "vif = pd.DataFrame() #다중공선성을 계산해 저장할 DataFrame\n",
        "vif[\"features\"] = X.columns\n",
        "vif[\"VIF Factor\"] = [variance_inflation_fator(X, i) for i in range(X.values.shape[1])]"
      ],
      "execution_count": 70,
      "outputs": []
    },
    {
      "cell_type": "code",
      "metadata": {
        "id": "Lu9xSrhKhW54",
        "colab_type": "code",
        "colab": {
          "base_uri": "https://localhost:8080/",
          "height": 136
        },
        "outputId": "18a1567a-4dc7-479e-c358-b41c22972de7"
      },
      "source": [
        "vif"
      ],
      "execution_count": 71,
      "outputs": [
        {
          "output_type": "execute_result",
          "data": {
            "text/html": [
              "<div>\n",
              "<style scoped>\n",
              "    .dataframe tbody tr th:only-of-type {\n",
              "        vertical-align: middle;\n",
              "    }\n",
              "\n",
              "    .dataframe tbody tr th {\n",
              "        vertical-align: top;\n",
              "    }\n",
              "\n",
              "    .dataframe thead th {\n",
              "        text-align: right;\n",
              "    }\n",
              "</style>\n",
              "<table border=\"1\" class=\"dataframe\">\n",
              "  <thead>\n",
              "    <tr style=\"text-align: right;\">\n",
              "      <th></th>\n",
              "      <th>features</th>\n",
              "      <th>VIF Factor</th>\n",
              "    </tr>\n",
              "  </thead>\n",
              "  <tbody>\n",
              "    <tr>\n",
              "      <th>0</th>\n",
              "      <td>UNEMP</td>\n",
              "      <td>3.146686</td>\n",
              "    </tr>\n",
              "    <tr>\n",
              "      <th>1</th>\n",
              "      <td>ARMED</td>\n",
              "      <td>1.918225</td>\n",
              "    </tr>\n",
              "    <tr>\n",
              "      <th>2</th>\n",
              "      <td>POP</td>\n",
              "      <td>3.514335</td>\n",
              "    </tr>\n",
              "  </tbody>\n",
              "</table>\n",
              "</div>"
            ],
            "text/plain": [
              "  features  VIF Factor\n",
              "0    UNEMP    3.146686\n",
              "1    ARMED    1.918225\n",
              "2      POP    3.514335"
            ]
          },
          "metadata": {
            "tags": []
          },
          "execution_count": 71
        }
      ]
    },
    {
      "cell_type": "code",
      "metadata": {
        "id": "dPNyJZj2hXdH",
        "colab_type": "code",
        "colab": {
          "base_uri": "https://localhost:8080/",
          "height": 34
        },
        "outputId": "218bc6ae-a1ff-4239-f496-0e47f1bd8e89"
      },
      "source": [
        "#VIF가 모두 < 10 이기에 해당 회귀분석 실행\n",
        "reg = LinearRegression()\n",
        "reg.fit(X, y)"
      ],
      "execution_count": 72,
      "outputs": [
        {
          "output_type": "execute_result",
          "data": {
            "text/plain": [
              "LinearRegression(copy_X=True, fit_intercept=True, n_jobs=None, normalize=False)"
            ]
          },
          "metadata": {
            "tags": []
          },
          "execution_count": 72
        }
      ]
    },
    {
      "cell_type": "code",
      "metadata": {
        "id": "V_YT25jZhvvr",
        "colab_type": "code",
        "colab": {
          "base_uri": "https://localhost:8080/",
          "height": 87
        },
        "outputId": "d6ac0a96-ddcd-40a9-aea5-e3baaa7c1288"
      },
      "source": [
        "predictions = reg.predict(X)\n",
        "predictions"
      ],
      "execution_count": 74,
      "outputs": [
        {
          "output_type": "execute_result",
          "data": {
            "text/plain": [
              "array([60598.5496127 , 61281.689816  , 60273.87579533, 61373.84752219,\n",
              "       63331.98715502, 64166.70776104, 65355.60064989, 63974.24109266,\n",
              "       65567.29269524, 66518.76815899, 67425.21528931, 66221.51689448,\n",
              "       68161.42309742, 69235.07580447, 69651.74661309, 71934.4620422 ])"
            ]
          },
          "metadata": {
            "tags": []
          },
          "execution_count": 74
        }
      ]
    },
    {
      "cell_type": "code",
      "metadata": {
        "colab_type": "code",
        "id": "MMhYudaph9ea",
        "colab": {
          "base_uri": "https://localhost:8080/",
          "height": 316
        },
        "outputId": "ceddc795-9167-41f9-da85-10bdd774650a"
      },
      "source": [
        "residuals = y - predictions\n",
        "residuals"
      ],
      "execution_count": 75,
      "outputs": [
        {
          "output_type": "execute_result",
          "data": {
            "text/plain": [
              "0     -275.549613\n",
              "1     -159.689816\n",
              "2     -102.875795\n",
              "3     -186.847522\n",
              "4     -110.987155\n",
              "5     -527.707761\n",
              "6     -366.600650\n",
              "7     -213.241093\n",
              "8      451.707305\n",
              "9     1338.231841\n",
              "10     743.784711\n",
              "11     291.483106\n",
              "12     493.576903\n",
              "13     328.924196\n",
              "14    -320.746613\n",
              "15   -1383.462042\n",
              "Name: TOTEMP, dtype: float64"
            ]
          },
          "metadata": {
            "tags": []
          },
          "execution_count": 75
        }
      ]
    },
    {
      "cell_type": "code",
      "metadata": {
        "colab_type": "code",
        "id": "q36gf2xlh9en",
        "colab": {
          "base_uri": "https://localhost:8080/",
          "height": 175
        },
        "outputId": "b6833b57-b9c2-4f06-e0a5-7a4b2198646c"
      },
      "source": [
        "residuals.describe()"
      ],
      "execution_count": 76,
      "outputs": [
        {
          "output_type": "execute_result",
          "data": {
            "text/plain": [
              "count    1.600000e+01\n",
              "mean    -4.092726e-12\n",
              "std      6.120633e+02\n",
              "min     -1.383462e+03\n",
              "25%     -2.868489e+02\n",
              "50%     -1.353385e+02\n",
              "75%      3.596200e+02\n",
              "max      1.338232e+03\n",
              "Name: TOTEMP, dtype: float64"
            ]
          },
          "metadata": {
            "tags": []
          },
          "execution_count": 76
        }
      ]
    },
    {
      "cell_type": "code",
      "metadata": {
        "colab_type": "code",
        "id": "J8hRiHFEh9eu",
        "colab": {
          "base_uri": "https://localhost:8080/",
          "height": 34
        },
        "outputId": "f53eafe0-d16a-45dd-e6f1-6d5186372c02"
      },
      "source": [
        "SSE = (residuals ** 2).sum()\n",
        "SST = ((y - y.mean()) ** 2).sum()\n",
        "\n",
        "R_square = 1 - (SSE/SST)\n",
        "R_square"
      ],
      "execution_count": 77,
      "outputs": [
        {
          "output_type": "execute_result",
          "data": {
            "text/plain": [
              "0.96962673432005"
            ]
          },
          "metadata": {
            "tags": []
          },
          "execution_count": 77
        }
      ]
    },
    {
      "cell_type": "markdown",
      "metadata": {
        "id": "eDJVzN_GiENG",
        "colab_type": "text"
      },
      "source": [
        "## PCA"
      ]
    },
    {
      "cell_type": "code",
      "metadata": {
        "id": "WJXm9pUth0rJ",
        "colab_type": "code",
        "colab": {}
      },
      "source": [
        ""
      ],
      "execution_count": null,
      "outputs": []
    }
  ]
}