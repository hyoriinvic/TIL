{
  "nbformat": 4,
  "nbformat_minor": 0,
  "metadata": {
    "colab": {
      "name": "0803 FeatureSelection",
      "provenance": []
    },
    "kernelspec": {
      "name": "python3",
      "display_name": "Python 3"
    }
  },
  "cells": [
    {
      "cell_type": "markdown",
      "metadata": {
        "id": "1N2j3LuOrpLQ",
        "colab_type": "text"
      },
      "source": [
        "Overcoming Overfitting\n",
        "* 더 많은 데이터 활용한다\n",
        "* Feature 개수를 줄인다 > ! Feature Selection !\n",
        "* 적절한 Parameters 를 설정한다 > 추후 알고리즘 배울 예정"
      ]
    },
    {
      "cell_type": "markdown",
      "metadata": {
        "id": "k82BhPq-vFVx",
        "colab_type": "text"
      },
      "source": [
        "# 복습\n",
        "\n",
        "5.3 PCA.ipynb 파일 참고 (분산/공분산 계산)"
      ]
    },
    {
      "cell_type": "code",
      "metadata": {
        "id": "eM6q_Ke_xQlw",
        "colab_type": "code",
        "colab": {}
      },
      "source": [
        "import pandas as pd\n",
        "import numpy as np"
      ],
      "execution_count": null,
      "outputs": []
    },
    {
      "cell_type": "markdown",
      "metadata": {
        "id": "nPDwARtFyizP",
        "colab_type": "text"
      },
      "source": [
        "## 행렬 연산"
      ]
    },
    {
      "cell_type": "code",
      "metadata": {
        "id": "3d0bU14XacBu",
        "colab_type": "code",
        "colab": {}
      },
      "source": [
        "A = np.array([\n",
        "      [1,2,3],\n",
        "      [4,5,6]    \n",
        "])"
      ],
      "execution_count": null,
      "outputs": []
    },
    {
      "cell_type": "code",
      "metadata": {
        "id": "TCxW3em-ao8y",
        "colab_type": "code",
        "colab": {}
      },
      "source": [
        "B = np.array(\n",
        "    [\n",
        "     [100, 500],\n",
        "     [200, 600],\n",
        "     [300, 700]\n",
        "    ]\n",
        ")"
      ],
      "execution_count": null,
      "outputs": []
    },
    {
      "cell_type": "code",
      "metadata": {
        "id": "o4ChpdKja7JG",
        "colab_type": "code",
        "colab": {
          "base_uri": "https://localhost:8080/"
        },
        "outputId": "550f7b1c-2496-4313-811a-fab99a1638e0"
      },
      "source": [
        "np.dot(A,B) #행렬 연산 방법1"
      ],
      "execution_count": null,
      "outputs": [
        {
          "output_type": "execute_result",
          "data": {
            "text/plain": [
              "array([[1400, 3800],\n",
              "       [3200, 9200]])"
            ]
          },
          "metadata": {
            "tags": []
          },
          "execution_count": 4
        }
      ]
    },
    {
      "cell_type": "code",
      "metadata": {
        "id": "NYxlXo2ZxK7h",
        "colab_type": "code",
        "colab": {
          "base_uri": "https://localhost:8080/"
        },
        "outputId": "e5b60ba5-b792-4bd7-91ae-9bd861f6ac43"
      },
      "source": [
        "np.matmul(A, B) #행렬 연산 방법2"
      ],
      "execution_count": null,
      "outputs": [
        {
          "output_type": "execute_result",
          "data": {
            "text/plain": [
              "array([[1400, 3800],\n",
              "       [3200, 9200]])"
            ]
          },
          "metadata": {
            "tags": []
          },
          "execution_count": 5
        }
      ]
    },
    {
      "cell_type": "markdown",
      "metadata": {
        "id": "UWQmrGlgxupP",
        "colab_type": "text"
      },
      "source": [
        "## 분산/공분산"
      ]
    },
    {
      "cell_type": "code",
      "metadata": {
        "id": "v4n4-WIlbaeE",
        "colab_type": "code",
        "colab": {}
      },
      "source": [
        "score = np.array([\n",
        "       [1, 4, 2, 9, 9], #영어 등수\n",
        "       [3, 2, 7, 3, 10]  #국어 등수   \n",
        "])"
      ],
      "execution_count": null,
      "outputs": []
    },
    {
      "cell_type": "code",
      "metadata": {
        "id": "Dvxm_QNvhrCo",
        "colab_type": "code",
        "colab": {
          "base_uri": "https://localhost:8080/"
        },
        "outputId": "1e5a03be-47b7-495a-b10a-1ca5cfe08af6"
      },
      "source": [
        "score"
      ],
      "execution_count": null,
      "outputs": [
        {
          "output_type": "execute_result",
          "data": {
            "text/plain": [
              "array([[ 1,  4,  2,  9,  9],\n",
              "       [ 3,  2,  7,  3, 10]])"
            ]
          },
          "metadata": {
            "tags": []
          },
          "execution_count": 7
        }
      ]
    },
    {
      "cell_type": "code",
      "metadata": {
        "id": "2n2dpcb0hsEo",
        "colab_type": "code",
        "colab": {
          "base_uri": "https://localhost:8080/"
        },
        "outputId": "fc19a518-f062-4d8f-ef5e-6bbc68707539"
      },
      "source": [
        "score.T #역행렬(행렬 변경)"
      ],
      "execution_count": null,
      "outputs": [
        {
          "output_type": "execute_result",
          "data": {
            "text/plain": [
              "array([[ 1,  3],\n",
              "       [ 4,  2],\n",
              "       [ 2,  7],\n",
              "       [ 9,  3],\n",
              "       [ 9, 10]])"
            ]
          },
          "metadata": {
            "tags": []
          },
          "execution_count": 8
        }
      ]
    },
    {
      "cell_type": "code",
      "metadata": {
        "id": "4I3AagnKh12s",
        "colab_type": "code",
        "colab": {
          "base_uri": "https://localhost:8080/"
        },
        "outputId": "89ae133f-0f1f-45db-aa4a-f38d13d98ab1"
      },
      "source": [
        "#공분산 구하기 : ((score - 평균)와 (score의 역행렬 - 평균)의 곱) / (데이터수 - 1)\n",
        "np.dot(score - 5, score.T - 5) / (5 - 1) "
      ],
      "execution_count": null,
      "outputs": [
        {
          "output_type": "execute_result",
          "data": {
            "text/plain": [
              "array([[14.5 ,  4.25],\n",
              "       [ 4.25, 11.5 ]])"
            ]
          },
          "metadata": {
            "tags": []
          },
          "execution_count": 9
        }
      ]
    },
    {
      "cell_type": "code",
      "metadata": {
        "id": "lnZMFBlKyBYO",
        "colab_type": "code",
        "colab": {
          "base_uri": "https://localhost:8080/"
        },
        "outputId": "218a425e-aa93-45a7-f57c-b1b7d7bbf9f2"
      },
      "source": [
        "df = pd.DataFrame({\n",
        "    \"eng_rank\":[1, 4, 2, 9, 9], #영어 등수\n",
        "    \"kor_rank\":[3, 2, 7, 3, 10] #국어 등수\n",
        "})\n",
        "\n",
        "df.cov() #공분산 구하기(검증)"
      ],
      "execution_count": null,
      "outputs": [
        {
          "output_type": "execute_result",
          "data": {
            "text/html": [
              "<div>\n",
              "<style scoped>\n",
              "    .dataframe tbody tr th:only-of-type {\n",
              "        vertical-align: middle;\n",
              "    }\n",
              "\n",
              "    .dataframe tbody tr th {\n",
              "        vertical-align: top;\n",
              "    }\n",
              "\n",
              "    .dataframe thead th {\n",
              "        text-align: right;\n",
              "    }\n",
              "</style>\n",
              "<table border=\"1\" class=\"dataframe\">\n",
              "  <thead>\n",
              "    <tr style=\"text-align: right;\">\n",
              "      <th></th>\n",
              "      <th>eng_rank</th>\n",
              "      <th>kor_rank</th>\n",
              "    </tr>\n",
              "  </thead>\n",
              "  <tbody>\n",
              "    <tr>\n",
              "      <th>eng_rank</th>\n",
              "      <td>14.50</td>\n",
              "      <td>4.25</td>\n",
              "    </tr>\n",
              "    <tr>\n",
              "      <th>kor_rank</th>\n",
              "      <td>4.25</td>\n",
              "      <td>11.50</td>\n",
              "    </tr>\n",
              "  </tbody>\n",
              "</table>\n",
              "</div>"
            ],
            "text/plain": [
              "          eng_rank  kor_rank\n",
              "eng_rank     14.50      4.25\n",
              "kor_rank      4.25     11.50"
            ]
          },
          "metadata": {
            "tags": []
          },
          "execution_count": 13
        }
      ]
    },
    {
      "cell_type": "markdown",
      "metadata": {
        "id": "yYU-HAK38MfK",
        "colab_type": "text"
      },
      "source": [
        "## 고유값/고유벡터"
      ]
    },
    {
      "cell_type": "code",
      "metadata": {
        "id": "XV_UZ93p8Sbq",
        "colab_type": "code",
        "colab": {}
      },
      "source": [
        "eigen_value = np.array(\n",
        "    [[7, 0],\n",
        "    [0, 2]]\n",
        ")"
      ],
      "execution_count": null,
      "outputs": []
    },
    {
      "cell_type": "code",
      "metadata": {
        "id": "9w155qFf8Zuo",
        "colab_type": "code",
        "colab": {}
      },
      "source": [
        "eigen_vector = np.array(\n",
        "    [[2, 3],\n",
        "     [-1, 1]]\n",
        ")"
      ],
      "execution_count": null,
      "outputs": []
    },
    {
      "cell_type": "code",
      "metadata": {
        "id": "MaWqpbOY8th3",
        "colab_type": "code",
        "colab": {
          "base_uri": "https://localhost:8080/"
        },
        "outputId": "352f8daf-b907-470c-c71c-5261b7be3046"
      },
      "source": [
        "np.dot(eigen_value, eigen_vector)"
      ],
      "execution_count": null,
      "outputs": [
        {
          "output_type": "execute_result",
          "data": {
            "text/plain": [
              "array([[14, 21],\n",
              "       [-2,  2]])"
            ]
          },
          "metadata": {
            "tags": []
          },
          "execution_count": 17
        }
      ]
    },
    {
      "cell_type": "code",
      "metadata": {
        "id": "cBaYeWPt9A4N",
        "colab_type": "code",
        "colab": {
          "base_uri": "https://localhost:8080/"
        },
        "outputId": "05cbbbff-19c5-4ba4-be65-ab40de4f3762"
      },
      "source": [
        "np.matmul(eigen_value, eigen_vector)"
      ],
      "execution_count": null,
      "outputs": [
        {
          "output_type": "execute_result",
          "data": {
            "text/plain": [
              "array([[14, 21],\n",
              "       [-2,  2]])"
            ]
          },
          "metadata": {
            "tags": []
          },
          "execution_count": 18
        }
      ]
    },
    {
      "cell_type": "markdown",
      "metadata": {
        "id": "5lVL3eZ59ZcH",
        "colab_type": "text"
      },
      "source": [
        "# 수학적 풀이 P.187 - "
      ]
    },
    {
      "cell_type": "code",
      "metadata": {
        "id": "WuwNqOU69fS3",
        "colab_type": "code",
        "colab": {}
      },
      "source": [
        "data = { \n",
        "    \"x1\" : [0.2, 0.45, 0.33, 0.54, 0.77],\n",
        "    \"x2\" : [5.6, 5.87, 6.37, 7.9, 7.87],\n",
        "    \"x3\" : [3.56, 2.4, 1.95, 1.32, 0.98],\n",
        "    \"y\" : [100, 70, 60, 45, 30]\n",
        "}\n",
        "\n",
        "df = pd.DataFrame(data) #데이터프레임으로 변환"
      ],
      "execution_count": null,
      "outputs": []
    },
    {
      "cell_type": "code",
      "metadata": {
        "id": "EViK6CoC-Ok3",
        "colab_type": "code",
        "colab": {}
      },
      "source": [
        "X = df[[\"x1\", \"x2\", \"x3\"]] #독립변수"
      ],
      "execution_count": null,
      "outputs": []
    },
    {
      "cell_type": "code",
      "metadata": {
        "id": "zJi2Lyyz-Wyn",
        "colab_type": "code",
        "colab": {
          "base_uri": "https://localhost:8080/",
          "height": 87
        },
        "outputId": "c88641fa-6bfc-4f9f-a966-6ea06e7563d3"
      },
      "source": [
        "X.mean() #각 독립변수의 평균 계산"
      ],
      "execution_count": null,
      "outputs": [
        {
          "output_type": "execute_result",
          "data": {
            "text/plain": [
              "x1    0.458\n",
              "x2    6.722\n",
              "x3    2.042\n",
              "dtype: float64"
            ]
          },
          "metadata": {
            "tags": []
          },
          "execution_count": 22
        }
      ]
    },
    {
      "cell_type": "code",
      "metadata": {
        "id": "Jfmtpqal-bpn",
        "colab_type": "code",
        "colab": {
          "base_uri": "https://localhost:8080/",
          "height": 87
        },
        "outputId": "34b5cebe-b2c5-433f-fe30-5418a71df96e"
      },
      "source": [
        "X.std() #각 독립변수의 표준편차 계산"
      ],
      "execution_count": null,
      "outputs": [
        {
          "output_type": "execute_result",
          "data": {
            "text/plain": [
              "x1    0.216264\n",
              "x2    1.097073\n",
              "x3    1.011197\n",
              "dtype: float64"
            ]
          },
          "metadata": {
            "tags": []
          },
          "execution_count": 23
        }
      ]
    },
    {
      "cell_type": "code",
      "metadata": {
        "id": "rYLqzN8B-ne_",
        "colab_type": "code",
        "colab": {
          "base_uri": "https://localhost:8080/",
          "height": 195
        },
        "outputId": "66d846eb-ad78-4dd8-89ec-0a79213238f2"
      },
      "source": [
        "#Standardization(표준화)\n",
        "#평균 = 0, 표준편차 = 1로 만들어 줌\n",
        "#새로운 값 = (원래 값 - 평균) / 표준편차\n",
        "X = (X-X.mean())/X.std()\n",
        "X"
      ],
      "execution_count": null,
      "outputs": [
        {
          "output_type": "execute_result",
          "data": {
            "text/html": [
              "<div>\n",
              "<style scoped>\n",
              "    .dataframe tbody tr th:only-of-type {\n",
              "        vertical-align: middle;\n",
              "    }\n",
              "\n",
              "    .dataframe tbody tr th {\n",
              "        vertical-align: top;\n",
              "    }\n",
              "\n",
              "    .dataframe thead th {\n",
              "        text-align: right;\n",
              "    }\n",
              "</style>\n",
              "<table border=\"1\" class=\"dataframe\">\n",
              "  <thead>\n",
              "    <tr style=\"text-align: right;\">\n",
              "      <th></th>\n",
              "      <th>x1</th>\n",
              "      <th>x2</th>\n",
              "      <th>x3</th>\n",
              "    </tr>\n",
              "  </thead>\n",
              "  <tbody>\n",
              "    <tr>\n",
              "      <th>0</th>\n",
              "      <td>-1.192988</td>\n",
              "      <td>-1.022721</td>\n",
              "      <td>1.501191</td>\n",
              "    </tr>\n",
              "    <tr>\n",
              "      <th>1</th>\n",
              "      <td>-0.036992</td>\n",
              "      <td>-0.776612</td>\n",
              "      <td>0.354036</td>\n",
              "    </tr>\n",
              "    <tr>\n",
              "      <th>2</th>\n",
              "      <td>-0.591870</td>\n",
              "      <td>-0.320854</td>\n",
              "      <td>-0.090981</td>\n",
              "    </tr>\n",
              "    <tr>\n",
              "      <th>3</th>\n",
              "      <td>0.379167</td>\n",
              "      <td>1.073766</td>\n",
              "      <td>-0.714005</td>\n",
              "    </tr>\n",
              "    <tr>\n",
              "      <th>4</th>\n",
              "      <td>1.442683</td>\n",
              "      <td>1.046420</td>\n",
              "      <td>-1.050240</td>\n",
              "    </tr>\n",
              "  </tbody>\n",
              "</table>\n",
              "</div>"
            ],
            "text/plain": [
              "         x1        x2        x3\n",
              "0 -1.192988 -1.022721  1.501191\n",
              "1 -0.036992 -0.776612  0.354036\n",
              "2 -0.591870 -0.320854 -0.090981\n",
              "3  0.379167  1.073766 -0.714005\n",
              "4  1.442683  1.046420 -1.050240"
            ]
          },
          "metadata": {
            "tags": []
          },
          "execution_count": 26
        }
      ]
    },
    {
      "cell_type": "code",
      "metadata": {
        "id": "nByCJ4RZ_HP2",
        "colab_type": "code",
        "colab": {
          "base_uri": "https://localhost:8080/",
          "height": 87
        },
        "outputId": "95427faa-f34d-4d3b-f513-962bb871b9e2"
      },
      "source": [
        "X.mean() #표준화 이후 평균: 거의 0"
      ],
      "execution_count": null,
      "outputs": [
        {
          "output_type": "execute_result",
          "data": {
            "text/plain": [
              "x1    0.000000e+00\n",
              "x2    4.440892e-17\n",
              "x3   -4.440892e-17\n",
              "dtype: float64"
            ]
          },
          "metadata": {
            "tags": []
          },
          "execution_count": 30
        }
      ]
    },
    {
      "cell_type": "code",
      "metadata": {
        "id": "zHWGmNuu_eJw",
        "colab_type": "code",
        "colab": {
          "base_uri": "https://localhost:8080/",
          "height": 87
        },
        "outputId": "9912055d-e0f9-4ade-8b74-4f0c5d64259f"
      },
      "source": [
        "X.std() #표준화 이후 표준편차: 1"
      ],
      "execution_count": null,
      "outputs": [
        {
          "output_type": "execute_result",
          "data": {
            "text/plain": [
              "x1    1.0\n",
              "x2    1.0\n",
              "x3    1.0\n",
              "dtype: float64"
            ]
          },
          "metadata": {
            "tags": []
          },
          "execution_count": 31
        }
      ]
    },
    {
      "cell_type": "code",
      "metadata": {
        "id": "jyBtBZbb_0pu",
        "colab_type": "code",
        "colab": {
          "base_uri": "https://localhost:8080/",
          "height": 70
        },
        "outputId": "03860894-9646-451d-a766-7e2afd96e4ff"
      },
      "source": [
        "#공분산 행렬\n",
        "#(X.T 곱하기 X)/(전체 데이터의 수 - 1) < 강의자료에 오타 나있어요!@\n",
        "X_cov = np.dot(X.T, X) / 4\n",
        "X_cov   "
      ],
      "execution_count": null,
      "outputs": [
        {
          "output_type": "execute_result",
          "data": {
            "text/plain": [
              "array([[ 1.        ,  0.83887873, -0.88401004],\n",
              "       [ 0.83887873,  1.        , -0.91168074],\n",
              "       [-0.88401004, -0.91168074,  1.        ]])"
            ]
          },
          "metadata": {
            "tags": []
          },
          "execution_count": 52
        }
      ]
    },
    {
      "cell_type": "code",
      "metadata": {
        "id": "x6jTbamvAI3-",
        "colab_type": "code",
        "colab": {
          "base_uri": "https://localhost:8080/",
          "height": 105
        },
        "outputId": "e7e36a5e-38af-42b6-b50a-cce33968a5d6"
      },
      "source": [
        "#공분산 행렬의 고유값, 고유벡터\n",
        "eigenvalue, eigenvector = np.linalg.eig(X_cov)\n",
        "\n",
        "print(\"고유값: \", eigenvalue)\n",
        "print(\"고유벡터: \")\n",
        "print(eigenvector)"
      ],
      "execution_count": null,
      "outputs": [
        {
          "output_type": "stream",
          "text": [
            "고유값:  [2.75671923 0.16413978 0.07914099]\n",
            "고유벡터: \n",
            "[[ 0.56993665  0.7754158   0.27185024]\n",
            " [ 0.57618187 -0.61301734  0.54057764]\n",
            " [-0.58582135  0.15145983  0.79616158]]\n"
          ],
          "name": "stdout"
        }
      ]
    },
    {
      "cell_type": "code",
      "metadata": {
        "id": "IE2RkeKTjIUt",
        "colab_type": "code",
        "colab": {
          "base_uri": "https://localhost:8080/",
          "height": 70
        },
        "outputId": "14d72687-5fb2-4348-b41f-c30740287921"
      },
      "source": [
        "eigenvector.T #행열 변경"
      ],
      "execution_count": null,
      "outputs": [
        {
          "output_type": "execute_result",
          "data": {
            "text/plain": [
              "array([[ 0.56993665,  0.57618187, -0.58582135],\n",
              "       [ 0.7754158 , -0.61301734,  0.15145983],\n",
              "       [ 0.27185024,  0.54057764,  0.79616158]])"
            ]
          },
          "metadata": {
            "tags": []
          },
          "execution_count": 54
        }
      ]
    },
    {
      "cell_type": "markdown",
      "metadata": {
        "id": "v-EtNvk4Db2n",
        "colab_type": "text"
      },
      "source": [
        "전체에서 77% 이상의 고유값을 갖는 벡터를 사용해 회귀분석을 실행함 "
      ]
    },
    {
      "cell_type": "code",
      "metadata": {
        "id": "SWcPaSi4DlGp",
        "colab_type": "code",
        "colab": {
          "base_uri": "https://localhost:8080/",
          "height": 34
        },
        "outputId": "2903cf23-1e24-4f78-afce-371d5fb2ba3f"
      },
      "source": [
        "#고유값이 갖는 비율 계산\n",
        "eigenvalue / sum(eigenvalue) #고유값 / 전체 고유값의 합"
      ],
      "execution_count": null,
      "outputs": [
        {
          "output_type": "execute_result",
          "data": {
            "text/plain": [
              "array([0.91890641, 0.05471326, 0.02638033])"
            ]
          },
          "metadata": {
            "tags": []
          },
          "execution_count": 36
        }
      ]
    },
    {
      "cell_type": "code",
      "metadata": {
        "id": "NXA9pXtxDxSe",
        "colab_type": "code",
        "colab": {
          "base_uri": "https://localhost:8080/",
          "height": 122
        },
        "outputId": "f2fa165c-e94c-4be4-86f5-398e2f700fb6"
      },
      "source": [
        "#Z1(첫번째 PC) 계산\n",
        "z1 = X.dot(eigenvector.T[0])\n",
        "z1"
      ],
      "execution_count": null,
      "outputs": [
        {
          "output_type": "execute_result",
          "data": {
            "text/plain": [
              "0   -2.148630\n",
              "1   -0.675954\n",
              "2   -0.468900\n",
              "3    1.253065\n",
              "4    2.040419\n",
              "dtype: float64"
            ]
          },
          "metadata": {
            "tags": []
          },
          "execution_count": 37
        }
      ]
    },
    {
      "cell_type": "markdown",
      "metadata": {
        "id": "j2scKPLAEE9d",
        "colab_type": "text"
      },
      "source": [
        "회귀분석"
      ]
    },
    {
      "cell_type": "code",
      "metadata": {
        "id": "HlDazO6vEMWV",
        "colab_type": "code",
        "colab": {}
      },
      "source": [
        "from sklearn import  linear_model"
      ],
      "execution_count": null,
      "outputs": []
    },
    {
      "cell_type": "code",
      "metadata": {
        "id": "qJSExJYJEPeC",
        "colab_type": "code",
        "colab": {}
      },
      "source": [
        "linear_regression = linear_model.LinearRegression()"
      ],
      "execution_count": null,
      "outputs": []
    },
    {
      "cell_type": "code",
      "metadata": {
        "id": "epHOEJ8fEa1H",
        "colab_type": "code",
        "colab": {
          "base_uri": "https://localhost:8080/",
          "height": 34
        },
        "outputId": "f599af60-6048-4e49-ba07-a14fcacf35ec"
      },
      "source": [
        "#모든 독립변수로 선형회귀 시 R square\n",
        "linear_regression.fit(X = X, y = df[\"y\"]) #회귀식 적합\n",
        "linear_regression.score(X = X, y = df[\"y\"]) #R square"
      ],
      "execution_count": null,
      "outputs": [
        {
          "output_type": "execute_result",
          "data": {
            "text/plain": [
              "0.9978441052442628"
            ]
          },
          "metadata": {
            "tags": []
          },
          "execution_count": 42
        }
      ]
    },
    {
      "cell_type": "code",
      "metadata": {
        "id": "5SKM6d-tEqTV",
        "colab_type": "code",
        "colab": {
          "base_uri": "https://localhost:8080/",
          "height": 34
        },
        "outputId": "d4cb7b60-940a-4c75-d01b-e52c84984f5c"
      },
      "source": [
        "#z1 값을 독립변수로 선형회귀 시 R square\n",
        "linear_regression.fit(X = pd.DataFrame(z1), y = df[\"y\"]) #회귀식 적합\n",
        "linear_regression.score(X = pd.DataFrame(z1), y = df[\"y\"]) #R square"
      ],
      "execution_count": null,
      "outputs": [
        {
          "output_type": "execute_result",
          "data": {
            "text/plain": [
              "0.959290206663969"
            ]
          },
          "metadata": {
            "tags": []
          },
          "execution_count": 43
        }
      ]
    },
    {
      "cell_type": "markdown",
      "metadata": {
        "id": "-FLi0Q-0rM34",
        "colab_type": "text"
      },
      "source": [
        "# PCA를 통한 Feature Selection"
      ]
    },
    {
      "cell_type": "markdown",
      "metadata": {
        "id": "xucoSKUKsEu6",
        "colab_type": "text"
      },
      "source": [
        "> **PCA (Principle Component Analysis)** : 차원의 수를 줄인다 = 분석에 사용될 데이터의 수를 줄임\n",
        "\n",
        "* 데이터의 차원을 줄이는 방법 > 특정한 축에 정사영\n",
        "* 정사영 시키다 보면 정보의 유실이 생길 수 있음 > 데이터의 분산이 가장 넓은 지역(축)을 찾음\n",
        "* '공분산 행렬의 고유벡터 방향'을 축으로 설정\n",
        "* 이 고유벡터를 통해 만들어지는 축을 'PC(Principle Component)'라고 함! (기존 변수의 선형결합)\n"
      ]
    },
    {
      "cell_type": "code",
      "metadata": {
        "id": "ka3Z7AAlrIvi",
        "colab_type": "code",
        "colab": {}
      },
      "source": [
        "from sklearn.decomposition import PCA"
      ],
      "execution_count": null,
      "outputs": []
    },
    {
      "cell_type": "code",
      "metadata": {
        "id": "_Ngnv_PwrMhq",
        "colab_type": "code",
        "colab": {}
      },
      "source": [
        "pca = PCA(n_components = 3) #3개의 PC를 찾을 것임"
      ],
      "execution_count": null,
      "outputs": []
    },
    {
      "cell_type": "code",
      "metadata": {
        "id": "RpeSokfUFXoL",
        "colab_type": "code",
        "colab": {
          "base_uri": "https://localhost:8080/",
          "height": 52
        },
        "outputId": "65a7c895-9c3a-46fe-9f49-5f60dc3d207c"
      },
      "source": [
        "pca.fit(X) #PCs 계산"
      ],
      "execution_count": null,
      "outputs": [
        {
          "output_type": "execute_result",
          "data": {
            "text/plain": [
              "PCA(copy=True, iterated_power='auto', n_components=3, random_state=None,\n",
              "    svd_solver='auto', tol=0.0, whiten=False)"
            ]
          },
          "metadata": {
            "tags": []
          },
          "execution_count": 46
        }
      ]
    },
    {
      "cell_type": "code",
      "metadata": {
        "id": "RxqAkWz9FdSt",
        "colab_type": "code",
        "colab": {
          "base_uri": "https://localhost:8080/",
          "height": 105
        },
        "outputId": "f21e85e5-9042-4ab8-df25-a3804fd6b31a"
      },
      "source": [
        "print(\"고유값: \", pca.singular_values_) \n",
        "print(\"고유벡터:\\n\", pca.components_.T)"
      ],
      "execution_count": null,
      "outputs": [
        {
          "output_type": "stream",
          "text": [
            "고유값:  [3.32067416 0.81028337 0.56264017]\n",
            "고유벡터:\n",
            " [[-0.56993665  0.7754158  -0.27185024]\n",
            " [-0.57618187 -0.61301734 -0.54057764]\n",
            " [ 0.58582135  0.15145983 -0.79616158]]\n"
          ],
          "name": "stdout"
        }
      ]
    },
    {
      "cell_type": "code",
      "metadata": {
        "id": "kwYlHE1qFoZt",
        "colab_type": "code",
        "colab": {
          "base_uri": "https://localhost:8080/",
          "height": 105
        },
        "outputId": "05ea4343-ef65-4c60-b6c4-6711a84d1e71"
      },
      "source": [
        "z = pca.fit_transform(X) #X에 고유값 벡터를 곱해서 리턴\n",
        "z"
      ],
      "execution_count": null,
      "outputs": [
        {
          "output_type": "execute_result",
          "data": {
            "text/plain": [
              "array([[ 2.14863038, -0.07074582, -0.31801621],\n",
              "       [ 0.6759543 ,  0.50101454,  0.1480055 ],\n",
              "       [ 0.46889967, -0.27603645,  0.40678208],\n",
              "       [-1.25306486, -0.47236838, -0.115067  ],\n",
              "       [-2.04041949,  0.31813611, -0.12170436]])"
            ]
          },
          "metadata": {
            "tags": []
          },
          "execution_count": 48
        }
      ]
    },
    {
      "cell_type": "code",
      "metadata": {
        "id": "lJy5IpyeFxR1",
        "colab_type": "code",
        "colab": {
          "base_uri": "https://localhost:8080/",
          "height": 34
        },
        "outputId": "27ad8064-338b-4194-8ca9-3e5cfb4adcd1"
      },
      "source": [
        "z1 = z.T[0] #고유값이 차지하는 비율이 가장 큰 첫번째 PC 선택\n",
        "z1"
      ],
      "execution_count": null,
      "outputs": [
        {
          "output_type": "execute_result",
          "data": {
            "text/plain": [
              "array([ 2.14863038,  0.6759543 ,  0.46889967, -1.25306486, -2.04041949])"
            ]
          },
          "metadata": {
            "tags": []
          },
          "execution_count": 49
        }
      ]
    },
    {
      "cell_type": "code",
      "metadata": {
        "id": "u2_Xv0eSF1bd",
        "colab_type": "code",
        "colab": {
          "base_uri": "https://localhost:8080/",
          "height": 34
        },
        "outputId": "093bf21d-4ceb-416b-8a82-67bba109c18c"
      },
      "source": [
        "linear_regression.fit(X = pd.DataFrame(z1), y = df[\"y\"])\n",
        "linear_regression.score(X = pd.DataFrame(z.T[0]), y = df[\"y\"])"
      ],
      "execution_count": null,
      "outputs": [
        {
          "output_type": "execute_result",
          "data": {
            "text/plain": [
              "0.959290206663969"
            ]
          },
          "metadata": {
            "tags": []
          },
          "execution_count": 50
        }
      ]
    },
    {
      "cell_type": "markdown",
      "metadata": {
        "id": "mIU8qoeLGsg2",
        "colab_type": "text"
      },
      "source": [
        "#보스턴 집값"
      ]
    },
    {
      "cell_type": "code",
      "metadata": {
        "id": "mGWH5PIzGua1",
        "colab_type": "code",
        "colab": {
          "base_uri": "https://localhost:8080/",
          "height": 72
        },
        "outputId": "398913e3-3b8b-4343-c3c8-e124d1c61fe6"
      },
      "source": [
        "import matplotlib.pyplot as plt\n",
        "import seaborn as sns\n",
        "\n",
        "%matplotlib inline\n",
        "plt.style.use(\"ggplot\")"
      ],
      "execution_count": null,
      "outputs": [
        {
          "output_type": "stream",
          "text": [
            "/usr/local/lib/python3.6/dist-packages/statsmodels/tools/_testing.py:19: FutureWarning: pandas.util.testing is deprecated. Use the functions in the public API at pandas.testing instead.\n",
            "  import pandas.util.testing as tm\n"
          ],
          "name": "stderr"
        }
      ]
    },
    {
      "cell_type": "code",
      "metadata": {
        "id": "hiK01WJwl1mx",
        "colab_type": "code",
        "colab": {}
      },
      "source": [
        "from sklearn.datasets import load_boston\n",
        "boston_dataset = load_boston() #데이터 로드 "
      ],
      "execution_count": null,
      "outputs": []
    },
    {
      "cell_type": "code",
      "metadata": {
        "id": "zCZIr7Lkl_mg",
        "colab_type": "code",
        "colab": {
          "base_uri": "https://localhost:8080/",
          "height": 215
        },
        "outputId": "f210b28a-8fdd-4236-9f4a-484e2ebed51e"
      },
      "source": [
        "boston = pd.DataFrame(boston_dataset.data, columns = boston_dataset.feature_names)\n",
        "boston.head()"
      ],
      "execution_count": null,
      "outputs": [
        {
          "output_type": "execute_result",
          "data": {
            "text/html": [
              "<div>\n",
              "<style scoped>\n",
              "    .dataframe tbody tr th:only-of-type {\n",
              "        vertical-align: middle;\n",
              "    }\n",
              "\n",
              "    .dataframe tbody tr th {\n",
              "        vertical-align: top;\n",
              "    }\n",
              "\n",
              "    .dataframe thead th {\n",
              "        text-align: right;\n",
              "    }\n",
              "</style>\n",
              "<table border=\"1\" class=\"dataframe\">\n",
              "  <thead>\n",
              "    <tr style=\"text-align: right;\">\n",
              "      <th></th>\n",
              "      <th>CRIM</th>\n",
              "      <th>ZN</th>\n",
              "      <th>INDUS</th>\n",
              "      <th>CHAS</th>\n",
              "      <th>NOX</th>\n",
              "      <th>RM</th>\n",
              "      <th>AGE</th>\n",
              "      <th>DIS</th>\n",
              "      <th>RAD</th>\n",
              "      <th>TAX</th>\n",
              "      <th>PTRATIO</th>\n",
              "      <th>B</th>\n",
              "      <th>LSTAT</th>\n",
              "    </tr>\n",
              "  </thead>\n",
              "  <tbody>\n",
              "    <tr>\n",
              "      <th>0</th>\n",
              "      <td>0.00632</td>\n",
              "      <td>18.0</td>\n",
              "      <td>2.31</td>\n",
              "      <td>0.0</td>\n",
              "      <td>0.538</td>\n",
              "      <td>6.575</td>\n",
              "      <td>65.2</td>\n",
              "      <td>4.0900</td>\n",
              "      <td>1.0</td>\n",
              "      <td>296.0</td>\n",
              "      <td>15.3</td>\n",
              "      <td>396.90</td>\n",
              "      <td>4.98</td>\n",
              "    </tr>\n",
              "    <tr>\n",
              "      <th>1</th>\n",
              "      <td>0.02731</td>\n",
              "      <td>0.0</td>\n",
              "      <td>7.07</td>\n",
              "      <td>0.0</td>\n",
              "      <td>0.469</td>\n",
              "      <td>6.421</td>\n",
              "      <td>78.9</td>\n",
              "      <td>4.9671</td>\n",
              "      <td>2.0</td>\n",
              "      <td>242.0</td>\n",
              "      <td>17.8</td>\n",
              "      <td>396.90</td>\n",
              "      <td>9.14</td>\n",
              "    </tr>\n",
              "    <tr>\n",
              "      <th>2</th>\n",
              "      <td>0.02729</td>\n",
              "      <td>0.0</td>\n",
              "      <td>7.07</td>\n",
              "      <td>0.0</td>\n",
              "      <td>0.469</td>\n",
              "      <td>7.185</td>\n",
              "      <td>61.1</td>\n",
              "      <td>4.9671</td>\n",
              "      <td>2.0</td>\n",
              "      <td>242.0</td>\n",
              "      <td>17.8</td>\n",
              "      <td>392.83</td>\n",
              "      <td>4.03</td>\n",
              "    </tr>\n",
              "    <tr>\n",
              "      <th>3</th>\n",
              "      <td>0.03237</td>\n",
              "      <td>0.0</td>\n",
              "      <td>2.18</td>\n",
              "      <td>0.0</td>\n",
              "      <td>0.458</td>\n",
              "      <td>6.998</td>\n",
              "      <td>45.8</td>\n",
              "      <td>6.0622</td>\n",
              "      <td>3.0</td>\n",
              "      <td>222.0</td>\n",
              "      <td>18.7</td>\n",
              "      <td>394.63</td>\n",
              "      <td>2.94</td>\n",
              "    </tr>\n",
              "    <tr>\n",
              "      <th>4</th>\n",
              "      <td>0.06905</td>\n",
              "      <td>0.0</td>\n",
              "      <td>2.18</td>\n",
              "      <td>0.0</td>\n",
              "      <td>0.458</td>\n",
              "      <td>7.147</td>\n",
              "      <td>54.2</td>\n",
              "      <td>6.0622</td>\n",
              "      <td>3.0</td>\n",
              "      <td>222.0</td>\n",
              "      <td>18.7</td>\n",
              "      <td>396.90</td>\n",
              "      <td>5.33</td>\n",
              "    </tr>\n",
              "  </tbody>\n",
              "</table>\n",
              "</div>"
            ],
            "text/plain": [
              "      CRIM    ZN  INDUS  CHAS    NOX  ...  RAD    TAX  PTRATIO       B  LSTAT\n",
              "0  0.00632  18.0   2.31   0.0  0.538  ...  1.0  296.0     15.3  396.90   4.98\n",
              "1  0.02731   0.0   7.07   0.0  0.469  ...  2.0  242.0     17.8  396.90   9.14\n",
              "2  0.02729   0.0   7.07   0.0  0.469  ...  2.0  242.0     17.8  392.83   4.03\n",
              "3  0.03237   0.0   2.18   0.0  0.458  ...  3.0  222.0     18.7  394.63   2.94\n",
              "4  0.06905   0.0   2.18   0.0  0.458  ...  3.0  222.0     18.7  396.90   5.33\n",
              "\n",
              "[5 rows x 13 columns]"
            ]
          },
          "metadata": {
            "tags": []
          },
          "execution_count": 56
        }
      ]
    },
    {
      "cell_type": "code",
      "metadata": {
        "id": "Hu80OiGSmKEZ",
        "colab_type": "code",
        "colab": {}
      },
      "source": [
        "y = boston_dataset.target #종속 변수_집값"
      ],
      "execution_count": null,
      "outputs": []
    },
    {
      "cell_type": "markdown",
      "metadata": {
        "id": "8fMPH4_amy_r",
        "colab_type": "text"
      },
      "source": [
        "데이터 전처리"
      ]
    },
    {
      "cell_type": "code",
      "metadata": {
        "id": "5zBgI9LqmRKp",
        "colab_type": "code",
        "colab": {}
      },
      "source": [
        "from sklearn.preprocessing import StandardScaler\n",
        "\n",
        "scaler = StandardScaler() #표준화 객체(평균 = 0, 표준편차 = 1)\n",
        "scaler.fit(boston)\n",
        "X = scaler.transform(boston) #표준화"
      ],
      "execution_count": null,
      "outputs": []
    },
    {
      "cell_type": "code",
      "metadata": {
        "id": "ZUnxOlJimoKZ",
        "colab_type": "code",
        "colab": {}
      },
      "source": [
        "X = pd.DataFrame(X, columns = boston_dataset.feature_names)"
      ],
      "execution_count": null,
      "outputs": []
    },
    {
      "cell_type": "markdown",
      "metadata": {
        "id": "LN-W2mrgmxJs",
        "colab_type": "text"
      },
      "source": [
        "PCA"
      ]
    },
    {
      "cell_type": "code",
      "metadata": {
        "id": "_vbuvM_ym1Fh",
        "colab_type": "code",
        "colab": {
          "base_uri": "https://localhost:8080/",
          "height": 774
        },
        "outputId": "fd604683-69ba-4b6c-d38b-907a662c4c92"
      },
      "source": [
        "from sklearn.decomposition import PCA\n",
        "\n",
        "pca = PCA(n_components = 13)\n",
        "pca.fit(X)\n",
        "\n",
        "print(\"고유값: \", pca.singular_values_)\n",
        "print(\"고유벡터: \\n\", pca.components_.T)"
      ],
      "execution_count": null,
      "outputs": [
        {
          "output_type": "stream",
          "text": [
            "고유값:  [55.6793095  26.93022859 25.07516773 20.83105866 20.55278239 18.23864114\n",
            " 16.45874174 14.15716218 11.83779223 10.55653065  9.70171478  9.25566343\n",
            "  5.66883461]\n",
            "고유벡터: \n",
            " [[ 0.2509514  -0.31525237  0.24656649  0.06177071  0.08215692 -0.21965961\n",
            "   0.77760721  0.15335048  0.26039028  0.01936913 -0.10964435  0.08676107\n",
            "   0.0459523 ]\n",
            " [-0.25631454 -0.3233129   0.29585782  0.12871159  0.32061699 -0.3233881\n",
            "  -0.27499628 -0.40268031  0.35813749  0.26752723  0.26275629 -0.07142528\n",
            "  -0.08091897]\n",
            " [ 0.34667207  0.11249291 -0.01594592  0.01714571 -0.00781119 -0.0761379\n",
            "  -0.33957645  0.17393172  0.64441615 -0.36353226 -0.30316943 -0.11319963\n",
            "  -0.25107654]\n",
            " [ 0.00504243  0.45482914  0.28978082  0.81594136  0.08653094  0.16749014\n",
            "   0.07413621 -0.02466215 -0.01372777 -0.00618184  0.01392667 -0.00398268\n",
            "   0.03592171]\n",
            " [ 0.34285231  0.21911553  0.12096411 -0.12822614  0.13685356 -0.15298267\n",
            "  -0.19963484  0.08012056 -0.01852201  0.23105645  0.11131888  0.80432257\n",
            "   0.04363045]\n",
            " [-0.18924257  0.14933154  0.59396117 -0.28059184 -0.4234472   0.05926707\n",
            "   0.06393992 -0.32675226  0.04789804 -0.43142019  0.05316154  0.15287286\n",
            "   0.0455671 ]\n",
            " [ 0.3136706   0.31197778 -0.01767481 -0.17520603  0.01669085 -0.07170914\n",
            "   0.11601071 -0.60082292 -0.06756218  0.36277896 -0.45915939 -0.21193607\n",
            "  -0.03855068]\n",
            " [-0.32154387 -0.34907    -0.04973627  0.21543585  0.09859225  0.02343872\n",
            "  -0.10390044 -0.12181198 -0.15329124 -0.17121314 -0.69569257  0.39094113\n",
            "  -0.01829854]\n",
            " [ 0.31979277 -0.27152094  0.28725483  0.13234996 -0.20413162 -0.14319401\n",
            "  -0.13794255  0.08035831 -0.47089067  0.02190945  0.03654388 -0.10702589\n",
            "  -0.63348972]\n",
            " [ 0.33846915 -0.23945365  0.22074447  0.10333509 -0.13046057 -0.19293428\n",
            "  -0.31488683  0.08277435 -0.17656339 -0.03516835 -0.10483575 -0.21519113\n",
            "   0.72023345]\n",
            " [ 0.20494226 -0.30589695 -0.32344627  0.28262198 -0.58400223  0.2731533\n",
            "   0.00232387 -0.3178842   0.25442836  0.15343049  0.17450534  0.20959883\n",
            "   0.02339805]\n",
            " [-0.20297261  0.23855944 -0.3001459   0.1684985  -0.34560695 -0.80345454\n",
            "   0.07029476 -0.00492291 -0.04489802 -0.09651512  0.0192749   0.04172316\n",
            "  -0.00446307]\n",
            " [ 0.30975984 -0.07432203 -0.26700025  0.06941441  0.39456113 -0.05321583\n",
            "   0.08701117 -0.42435293 -0.19522139 -0.60071141  0.27138243  0.05522596\n",
            "   0.02443168]]\n"
          ],
          "name": "stdout"
        }
      ]
    },
    {
      "cell_type": "markdown",
      "metadata": {
        "id": "ZvURfZsgnPVW",
        "colab_type": "text"
      },
      "source": [
        "고유값의 비율의 합이 77% 이상이 되도록 데이터 선택"
      ]
    },
    {
      "cell_type": "code",
      "metadata": {
        "id": "gv0dtgYtnTFy",
        "colab_type": "code",
        "colab": {
          "base_uri": "https://localhost:8080/",
          "height": 70
        },
        "outputId": "78642699-f781-4600-da87-e8f2940f8a7e"
      },
      "source": [
        "pca.singular_values_ / sum(pca.singular_values_)"
      ],
      "execution_count": null,
      "outputs": [
        {
          "output_type": "execute_result",
          "data": {
            "text/plain": [
              "array([0.22731479, 0.1099446 , 0.10237118, 0.0850443 , 0.08390821,\n",
              "       0.07446057, 0.067194  , 0.05779763, 0.04832864, 0.0430978 ,\n",
              "       0.03960795, 0.03778691, 0.02314343])"
            ]
          },
          "metadata": {
            "tags": []
          },
          "execution_count": 61
        }
      ]
    },
    {
      "cell_type": "code",
      "metadata": {
        "id": "gYzwHqFKnYUp",
        "colab_type": "code",
        "colab": {
          "base_uri": "https://localhost:8080/",
          "height": 34
        },
        "outputId": "84a8dce0-f372-4028-c3d7-cb30278bd855"
      },
      "source": [
        "sum(pca.singular_values_[0:8]) / sum(pca.singular_values_) #8번째 고유값까지의 비율의 합이 77% 이상"
      ],
      "execution_count": null,
      "outputs": [
        {
          "output_type": "execute_result",
          "data": {
            "text/plain": [
              "0.8080352767158057"
            ]
          },
          "metadata": {
            "tags": []
          },
          "execution_count": 62
        }
      ]
    },
    {
      "cell_type": "markdown",
      "metadata": {
        "id": "RqDV6vKqn0_I",
        "colab_type": "text"
      },
      "source": [
        "고유값 벡터로 만들어지는 Z (PCs)"
      ]
    },
    {
      "cell_type": "code",
      "metadata": {
        "id": "XKwezJvWnrSb",
        "colab_type": "code",
        "colab": {
          "base_uri": "https://localhost:8080/",
          "height": 246
        },
        "outputId": "a816b1b7-9c15-4621-d66b-e5dcb0202880"
      },
      "source": [
        "z = pca.transform(X)\n",
        "z"
      ],
      "execution_count": null,
      "outputs": [
        {
          "output_type": "execute_result",
          "data": {
            "text/plain": [
              "array([[-2.09829747,  0.77311275,  0.34294273, ..., -0.03300036,\n",
              "         0.01944023,  0.36597533],\n",
              "       [-1.45725167,  0.59198521, -0.69519931, ..., -0.64080983,\n",
              "        -0.12579741, -0.07071949],\n",
              "       [-2.07459756,  0.5996394 ,  0.1671216 , ..., -0.48755672,\n",
              "         0.13332653, -0.0140218 ],\n",
              "       ...,\n",
              "       [-0.31236047,  1.15524644, -0.40859759, ...,  0.11565634,\n",
              "         0.28196407,  0.06247358],\n",
              "       [-0.27051907,  1.04136158, -0.58545406, ...,  0.0870124 ,\n",
              "         0.30170082,  0.05436991],\n",
              "       [-0.12580322,  0.76197805, -1.294882  , ...,  0.18432101,\n",
              "         0.23273318,  0.01970872]])"
            ]
          },
          "metadata": {
            "tags": []
          },
          "execution_count": 63
        }
      ]
    },
    {
      "cell_type": "code",
      "metadata": {
        "id": "lR1UdP0Sn34B",
        "colab_type": "code",
        "colab": {
          "base_uri": "https://localhost:8080/",
          "height": 34
        },
        "outputId": "a29ec8e7-b059-44d5-b381-5f33be6eff9f"
      },
      "source": [
        "z.shape #행 506개, 열 13개"
      ],
      "execution_count": null,
      "outputs": [
        {
          "output_type": "execute_result",
          "data": {
            "text/plain": [
              "(506, 13)"
            ]
          },
          "metadata": {
            "tags": []
          },
          "execution_count": 64
        }
      ]
    },
    {
      "cell_type": "code",
      "metadata": {
        "id": "aVY3uWoBn8-n",
        "colab_type": "code",
        "colab": {
          "base_uri": "https://localhost:8080/",
          "height": 34
        },
        "outputId": "2a635a1b-b62e-47ea-fca3-29de1026164c"
      },
      "source": [
        "z = z.T #행열 변환\n",
        "z.shape"
      ],
      "execution_count": null,
      "outputs": [
        {
          "output_type": "execute_result",
          "data": {
            "text/plain": [
              "(13, 506)"
            ]
          },
          "metadata": {
            "tags": []
          },
          "execution_count": 65
        }
      ]
    },
    {
      "cell_type": "code",
      "metadata": {
        "id": "nJ4hIz2coE4x",
        "colab_type": "code",
        "colab": {
          "base_uri": "https://localhost:8080/",
          "height": 34
        },
        "outputId": "d63aa58d-c2d8-44bc-8834-e79ed71119d7"
      },
      "source": [
        "z = z[0:8] #8번째 행까지 리턴\n",
        "z = z.T #행열 변환\n",
        "z.shape"
      ],
      "execution_count": null,
      "outputs": [
        {
          "output_type": "execute_result",
          "data": {
            "text/plain": [
              "(506, 8)"
            ]
          },
          "metadata": {
            "tags": []
          },
          "execution_count": 66
        }
      ]
    },
    {
      "cell_type": "code",
      "metadata": {
        "id": "jOAchw8-oaE5",
        "colab_type": "code",
        "colab": {
          "base_uri": "https://localhost:8080/",
          "height": 215
        },
        "outputId": "477e7e36-a31f-4e61-861f-4b5c58e590f3"
      },
      "source": [
        "zDF = pd.DataFrame(z) #데이터프레임으로 변환\n",
        "zDF.head()"
      ],
      "execution_count": null,
      "outputs": [
        {
          "output_type": "execute_result",
          "data": {
            "text/html": [
              "<div>\n",
              "<style scoped>\n",
              "    .dataframe tbody tr th:only-of-type {\n",
              "        vertical-align: middle;\n",
              "    }\n",
              "\n",
              "    .dataframe tbody tr th {\n",
              "        vertical-align: top;\n",
              "    }\n",
              "\n",
              "    .dataframe thead th {\n",
              "        text-align: right;\n",
              "    }\n",
              "</style>\n",
              "<table border=\"1\" class=\"dataframe\">\n",
              "  <thead>\n",
              "    <tr style=\"text-align: right;\">\n",
              "      <th></th>\n",
              "      <th>0</th>\n",
              "      <th>1</th>\n",
              "      <th>2</th>\n",
              "      <th>3</th>\n",
              "      <th>4</th>\n",
              "      <th>5</th>\n",
              "      <th>6</th>\n",
              "      <th>7</th>\n",
              "    </tr>\n",
              "  </thead>\n",
              "  <tbody>\n",
              "    <tr>\n",
              "      <th>0</th>\n",
              "      <td>-2.098297</td>\n",
              "      <td>0.773113</td>\n",
              "      <td>0.342943</td>\n",
              "      <td>-0.891774</td>\n",
              "      <td>0.423070</td>\n",
              "      <td>-0.315338</td>\n",
              "      <td>0.318641</td>\n",
              "      <td>0.295832</td>\n",
              "    </tr>\n",
              "    <tr>\n",
              "      <th>1</th>\n",
              "      <td>-1.457252</td>\n",
              "      <td>0.591985</td>\n",
              "      <td>-0.695199</td>\n",
              "      <td>-0.487459</td>\n",
              "      <td>-0.195876</td>\n",
              "      <td>0.264223</td>\n",
              "      <td>0.553861</td>\n",
              "      <td>-0.223670</td>\n",
              "    </tr>\n",
              "    <tr>\n",
              "      <th>2</th>\n",
              "      <td>-2.074598</td>\n",
              "      <td>0.599639</td>\n",
              "      <td>0.167122</td>\n",
              "      <td>-0.739204</td>\n",
              "      <td>-0.934534</td>\n",
              "      <td>0.448095</td>\n",
              "      <td>0.484560</td>\n",
              "      <td>0.105166</td>\n",
              "    </tr>\n",
              "    <tr>\n",
              "      <th>3</th>\n",
              "      <td>-2.611504</td>\n",
              "      <td>-0.006871</td>\n",
              "      <td>-0.100284</td>\n",
              "      <td>-0.343721</td>\n",
              "      <td>-1.104956</td>\n",
              "      <td>0.664649</td>\n",
              "      <td>0.622641</td>\n",
              "      <td>0.255941</td>\n",
              "    </tr>\n",
              "    <tr>\n",
              "      <th>4</th>\n",
              "      <td>-2.458185</td>\n",
              "      <td>0.097712</td>\n",
              "      <td>-0.075348</td>\n",
              "      <td>-0.427907</td>\n",
              "      <td>-1.065924</td>\n",
              "      <td>0.617047</td>\n",
              "      <td>0.705086</td>\n",
              "      <td>-0.134524</td>\n",
              "    </tr>\n",
              "  </tbody>\n",
              "</table>\n",
              "</div>"
            ],
            "text/plain": [
              "          0         1         2  ...         5         6         7\n",
              "0 -2.098297  0.773113  0.342943  ... -0.315338  0.318641  0.295832\n",
              "1 -1.457252  0.591985 -0.695199  ...  0.264223  0.553861 -0.223670\n",
              "2 -2.074598  0.599639  0.167122  ...  0.448095  0.484560  0.105166\n",
              "3 -2.611504 -0.006871 -0.100284  ...  0.664649  0.622641  0.255941\n",
              "4 -2.458185  0.097712 -0.075348  ...  0.617047  0.705086 -0.134524\n",
              "\n",
              "[5 rows x 8 columns]"
            ]
          },
          "metadata": {
            "tags": []
          },
          "execution_count": 67
        }
      ]
    },
    {
      "cell_type": "markdown",
      "metadata": {
        "id": "4TXqqt0BohhR",
        "colab_type": "text"
      },
      "source": [
        "회귀분석"
      ]
    },
    {
      "cell_type": "code",
      "metadata": {
        "id": "BPshvT0CogpA",
        "colab_type": "code",
        "colab": {}
      },
      "source": [
        "from sklearn.linear_model import LinearRegression"
      ],
      "execution_count": null,
      "outputs": []
    },
    {
      "cell_type": "code",
      "metadata": {
        "id": "VzUNP3ngomFi",
        "colab_type": "code",
        "colab": {
          "base_uri": "https://localhost:8080/",
          "height": 34
        },
        "outputId": "f3f1c06b-251f-46b0-c473-419b9213ed59"
      },
      "source": [
        "linear_regression = LinearRegression()\n",
        "linear_regression.fit(zDF, y) #회귀식 적합"
      ],
      "execution_count": null,
      "outputs": [
        {
          "output_type": "execute_result",
          "data": {
            "text/plain": [
              "LinearRegression(copy_X=True, fit_intercept=True, n_jobs=None, normalize=False)"
            ]
          },
          "metadata": {
            "tags": []
          },
          "execution_count": 69
        }
      ]
    },
    {
      "cell_type": "code",
      "metadata": {
        "id": "Zao89HwfougI",
        "colab_type": "code",
        "colab": {
          "base_uri": "https://localhost:8080/",
          "height": 34
        },
        "outputId": "6d3933ac-b765-443d-dccd-e5f5411f6bd2"
      },
      "source": [
        "linear_regression.score(X = zDF, y = y)"
      ],
      "execution_count": null,
      "outputs": [
        {
          "output_type": "execute_result",
          "data": {
            "text/plain": [
              "0.7055977712036576"
            ]
          },
          "metadata": {
            "tags": []
          },
          "execution_count": 70
        }
      ]
    },
    {
      "cell_type": "markdown",
      "metadata": {
        "id": "dIXf1grYyr-2",
        "colab_type": "text"
      },
      "source": [
        "#참고"
      ]
    },
    {
      "cell_type": "markdown",
      "metadata": {
        "id": "YPCvPbYPwsOf",
        "colab_type": "text"
      },
      "source": [
        "선형대수학, 통계학 관련 개념 >  [공돌이의 수학정리노트](https://angeloyeo.github.io/archive.html?tag=%EC%84%A0%ED%98%95%EB%8C%80%EC%88%98) \n"
      ]
    },
    {
      "cell_type": "markdown",
      "metadata": {
        "id": "jqz8e-9Rw31h",
        "colab_type": "text"
      },
      "source": [
        "선형대수학 고유값, 고유벡터 > [로스카츠](https://losskatsu.github.io/linear-algebra/eigen/#%EA%B3%A0%EC%9C%A0%EA%B0%92-%EA%B3%A0%EC%9C%A0%EB%B2%A1%ED%84%B0%EC%9D%98-%EC%9D%98%EB%AF%B8)"
      ]
    },
    {
      "cell_type": "markdown",
      "metadata": {
        "id": "xX6NZRSFxCGf",
        "colab_type": "text"
      },
      "source": [
        "PCA > [네이버 블로그](https://blog.naver.com/PostView.nhn?blogId=sw4r&logNo=221031465518&parentCategoryNo=&categoryNo=43&viewDate=&isShowPopularPosts=true&from=search)"
      ]
    }
  ]
}