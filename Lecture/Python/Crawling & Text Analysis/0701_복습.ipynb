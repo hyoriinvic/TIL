{
  "nbformat": 4,
  "nbformat_minor": 0,
  "metadata": {
    "colab": {
      "name": "0701 복습",
      "provenance": []
    },
    "kernelspec": {
      "name": "python3",
      "display_name": "Python 3"
    }
  },
  "cells": [
    {
      "cell_type": "code",
      "metadata": {
        "id": "dYy5_j2_KQXp",
        "colab_type": "code",
        "colab": {
          "base_uri": "https://localhost:8080/",
          "height": 54
        },
        "outputId": "1b69c392-a7b6-408a-d517-8aa4c05b7639"
      },
      "source": [
        "from google.colab import drive #구글드라이브와 연동\n",
        "drive.mount(\"/gdrive\")"
      ],
      "execution_count": null,
      "outputs": [
        {
          "output_type": "stream",
          "text": [
            "Drive already mounted at /gdrive; to attempt to forcibly remount, call drive.mount(\"/gdrive\", force_remount=True).\n"
          ],
          "name": "stdout"
        }
      ]
    },
    {
      "cell_type": "code",
      "metadata": {
        "id": "Ky205pdAKXHz",
        "colab_type": "code",
        "colab": {}
      },
      "source": [
        "import requests\n",
        "from bs4 import BeautifulSoup\n",
        "\n",
        "response = requests.get(\"https://www.weather.go.kr/weather/observation/currentweather.jsp\")\n",
        "soup = BeautifulSoup(response.content, \"html.parser\")"
      ],
      "execution_count": null,
      "outputs": []
    },
    {
      "cell_type": "code",
      "metadata": {
        "id": "-V0ymXsALDmQ",
        "colab_type": "code",
        "colab": {}
      },
      "source": [
        "table = soup.find('table', {'class' : 'table_develop3'})\n",
        "data = []"
      ],
      "execution_count": null,
      "outputs": []
    },
    {
      "cell_type": "code",
      "metadata": {
        "id": "92T4XhnrLRs4",
        "colab_type": "code",
        "colab": {
          "base_uri": "https://localhost:8080/",
          "height": 1000
        },
        "outputId": "beab9a57-7642-4a59-c480-5dd19757650d"
      },
      "source": [
        "for tr in table.find_all('tr'):\n",
        "  tds = list(tr.find_all('td'))\n",
        "  \n",
        "  for td in tds:\n",
        "    if td.find('a'):\n",
        "      point = td.find('a').text\n",
        "      temperature = tds[5].text\n",
        "      humidity = tds[9].text\n",
        "      data.append([point, temperature, humidity])\n",
        "\n",
        "data"
      ],
      "execution_count": null,
      "outputs": [
        {
          "output_type": "execute_result",
          "data": {
            "text/plain": [
              "[['강릉', '24.2', '62'],\n",
              " ['강진군', '27.1', '59'],\n",
              " ['강화', '22.3', '83'],\n",
              " ['거제', '24.7', '64'],\n",
              " ['거창', '24.9', '61'],\n",
              " ['경주시', '26.1', '56'],\n",
              " ['고산', '22.9', '87'],\n",
              " ['고창', '24.5', '59'],\n",
              " ['고창군', '24.5', '57'],\n",
              " ['고흥', '27.2', '56'],\n",
              " ['광양시', '24.7', '63'],\n",
              " ['광주', '26.3', '57'],\n",
              " ['구미', '24.1', '75'],\n",
              " ['군산', '23.3', '63'],\n",
              " ['금산', '23.9', '64'],\n",
              " ['김해시', '22.9', '79'],\n",
              " ['남원', '24.3', '65'],\n",
              " ['남해', '24.2', '65'],\n",
              " ['대관령', '19.3', '74'],\n",
              " ['대구', '25.3', '55'],\n",
              " ['대전', '24.0', '74'],\n",
              " ['동두천', '23.6', '76'],\n",
              " ['동해', '20.8', '69'],\n",
              " ['목포', '25.6', '62'],\n",
              " ['문경', '23.1', '67'],\n",
              " ['밀양', '25.8', '53'],\n",
              " ['백령도', '22.9', '87'],\n",
              " ['보령', '22.1', '72'],\n",
              " ['보성군', '27.7', '55'],\n",
              " ['보은', '23.9', '69'],\n",
              " ['봉화', '22.2', '65'],\n",
              " ['부산', '21.9', '74'],\n",
              " ['부안', '24.4', '65'],\n",
              " ['부여', '24.0', '67'],\n",
              " ['북강릉', '23.1', '58'],\n",
              " ['북창원', '25.2', '66'],\n",
              " ['북춘천', '24.1', '70'],\n",
              " ['산청', '25.8', '57'],\n",
              " ['상주', '24.0', '71'],\n",
              " ['서귀포', '24.8', '68'],\n",
              " ['서산', '22.7', '75'],\n",
              " ['서울', '23.9', '69'],\n",
              " ['성산', '25.0', '65'],\n",
              " ['세종', '24.5', '61'],\n",
              " ['속초', '23.3', '64'],\n",
              " ['수원', '23.6', '75'],\n",
              " ['순창군', '24.5', '65'],\n",
              " ['순천', '24.9', '59'],\n",
              " ['안동', '21.8', '73'],\n",
              " ['양산시', '24.3', '69'],\n",
              " ['양평', '21.7', '79'],\n",
              " ['여수', '24.6', '62'],\n",
              " ['영광군', '24.9', '63'],\n",
              " ['영덕', '20.6', '76'],\n",
              " ['영월', '22.3', '66'],\n",
              " ['영주', '21.1', '76'],\n",
              " ['영천', '24.7', '58'],\n",
              " ['완도', '27.5', '57'],\n",
              " ['울릉도', '16.5', '97'],\n",
              " ['울산', '22.1', '76'],\n",
              " ['울진', '21.6', '71'],\n",
              " ['원주', '22.1', '63'],\n",
              " ['의령군', '28.4', '51'],\n",
              " ['의성', '23.6', '68'],\n",
              " ['이천', '22.1', '84'],\n",
              " ['인제', '24.0', '63'],\n",
              " ['인천', '22.5', '75'],\n",
              " ['임실', '22.6', '63'],\n",
              " ['장수', '21.9', '73'],\n",
              " ['장흥', '27.0', '56'],\n",
              " ['전주', '23.6', '63'],\n",
              " ['정선군', '22.6', '70'],\n",
              " ['정읍', '23.9', '62'],\n",
              " ['제주', '24.5', '66'],\n",
              " ['제천', '20.5', '80'],\n",
              " ['진도군', '25.2', '65'],\n",
              " ['진주', '26.2', '64'],\n",
              " ['창원', '24.7', '64'],\n",
              " ['천안', '23.4', '71'],\n",
              " ['철원', '24.3', '77'],\n",
              " ['청송군', '22.8', '78'],\n",
              " ['청주', '24.2', '65'],\n",
              " ['추풍령', '22.2', '69'],\n",
              " ['춘천', '24.9', '64'],\n",
              " ['충주', '21.2', '78'],\n",
              " ['태백', '19.0', '77'],\n",
              " ['통영', '21.3', '81'],\n",
              " ['파주', '24.5', '72'],\n",
              " ['포항', '21.9', '77'],\n",
              " ['함양군', '24.7', '58'],\n",
              " ['합천', '26.1', '59'],\n",
              " ['해남', '27.4', '53'],\n",
              " ['홍성', '22.9', '71'],\n",
              " ['홍천', '23.4', '66'],\n",
              " ['흑산도', '23.5', '68']]"
            ]
          },
          "metadata": {
            "tags": []
          },
          "execution_count": 4
        }
      ]
    },
    {
      "cell_type": "code",
      "metadata": {
        "id": "bNvvbC9UL1Vi",
        "colab_type": "code",
        "colab": {}
      },
      "source": [
        "with open('/gdrive/My Drive/Colab Notebooks/weather.csv', 'w') as file:\n",
        "  file.write(\"point,temperature,humidity\\n\")\n",
        "  for i in data:\n",
        "    file.write(\"{},{},{}\\n\".format(i[0],i[1],i[2]))"
      ],
      "execution_count": null,
      "outputs": []
    },
    {
      "cell_type": "code",
      "metadata": {
        "id": "DfQYSbdaMRvd",
        "colab_type": "code",
        "colab": {}
      },
      "source": [
        "%matplotlib inline\n",
        "\n",
        "import pandas as pd\n",
        "import matplotlib as mpl\n",
        "import matplotlib.pyplot as plt"
      ],
      "execution_count": null,
      "outputs": []
    },
    {
      "cell_type": "code",
      "metadata": {
        "id": "BWE85t1QMZie",
        "colab_type": "code",
        "colab": {}
      },
      "source": [
        "df = pd.read_csv(\"/gdrive/My Drive/Colab Notebooks/weather.csv\", index_col = \"point\")"
      ],
      "execution_count": null,
      "outputs": []
    },
    {
      "cell_type": "code",
      "metadata": {
        "id": "m9_6wvffMi9T",
        "colab_type": "code",
        "colab": {}
      },
      "source": [
        "city_df = df.loc[['서울','인천','대구','대전','광주','부산','울산']]"
      ],
      "execution_count": null,
      "outputs": []
    },
    {
      "cell_type": "code",
      "metadata": {
        "id": "Ma7mKN9iMq2X",
        "colab_type": "code",
        "colab": {
          "base_uri": "https://localhost:8080/",
          "height": 105
        },
        "outputId": "51ca2867-8aa6-404c-9fee-075a7a7b121c"
      },
      "source": [
        "%config InlineBackend.figure_format = 'retina' \n",
        "!apt -qq -y install fonts-nanum"
      ],
      "execution_count": null,
      "outputs": [
        {
          "output_type": "stream",
          "text": [
            "fonts-nanum is already the newest version (20170925-1).\n",
            "The following package was automatically installed and is no longer required:\n",
            "  libnvidia-common-440\n",
            "Use 'apt autoremove' to remove it.\n",
            "0 upgraded, 0 newly installed, 0 to remove and 33 not upgraded.\n"
          ],
          "name": "stdout"
        }
      ]
    },
    {
      "cell_type": "code",
      "metadata": {
        "id": "xRXnfKtCM-GN",
        "colab_type": "code",
        "colab": {}
      },
      "source": [
        "import matplotlib.font_manager as fm\n",
        "\n",
        "fontpath = '/usr/share/fonts/truetype/nanum/NanumBarunGothic.ttf'\n",
        "font = fm.FontProperties(fname=fontpath).get_name()"
      ],
      "execution_count": null,
      "outputs": []
    },
    {
      "cell_type": "code",
      "metadata": {
        "id": "KxO6A52ONFOK",
        "colab_type": "code",
        "colab": {}
      },
      "source": [
        "plt.rc('font', family = 'NanumBarunGothic')\n",
        "mpl.font_manager._rebuild()"
      ],
      "execution_count": null,
      "outputs": []
    },
    {
      "cell_type": "code",
      "metadata": {
        "id": "ReBDBK2lNHUS",
        "colab_type": "code",
        "colab": {
          "base_uri": "https://localhost:8080/",
          "height": 382
        },
        "outputId": "b1bc9598-4a02-494f-d367-aec32fe2452d"
      },
      "source": [
        "ax = city_df.plot(kind = 'bar', title = '날씨', figsize = (10, 5), legend = True, fontsize = 12)\n",
        "ax.set_xlabel('도시', fontsize = 12)\n",
        "ax.set_ylabel('기온/습도', fontsize = 12)\n",
        "ax.legend(['기온', '습도'], fontsize = 10)"
      ],
      "execution_count": null,
      "outputs": [
        {
          "output_type": "execute_result",
          "data": {
            "text/plain": [
              "<matplotlib.legend.Legend at 0x7fe456d98048>"
            ]
          },
          "metadata": {
            "tags": []
          },
          "execution_count": 12
        },
        {
          "output_type": "display_data",
          "data": {
            "image/png": "[encoded data removed]",
            "text/plain": [
              "<Figure size 720x360 with 1 Axes>"
            ]
          },
          "metadata": {
            "tags": [],
            "image/png": {
              "width": 610,
              "height": 347
            },
            "needs_background": "light"
          }
        }
      ]
    },
    {
      "cell_type": "code",
      "metadata": {
        "id": "h37ZKJ8KNiMJ",
        "colab_type": "code",
        "colab": {}
      },
      "source": [
        ""
      ],
      "execution_count": null,
      "outputs": []
    }
  ]
}