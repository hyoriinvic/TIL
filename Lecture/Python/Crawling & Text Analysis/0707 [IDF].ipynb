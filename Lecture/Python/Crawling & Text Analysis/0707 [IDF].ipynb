{
 "cells": [
  {
   "cell_type": "code",
   "execution_count": 13,
   "metadata": {},
   "outputs": [
    {
     "data": {
      "text/plain": [
       "[[3, 0, 1], [2, 0, 0], [3, 0, 0], [4, 0, 0], [3, 2, 0], [2, 0, 0], [3, 0, 2]]"
      ]
     },
     "execution_count": 13,
     "metadata": {},
     "output_type": "execute_result"
    }
   ],
   "source": [
    "word_list = [\n",
    "    \"남자 남자 남자 밥 먹는다\",\n",
    "    \"남자 남자 걷는다\",\n",
    "    \"남자 남자 남자\",\n",
    "    \"남자 남자 남자 남자\",\n",
    "    \"남자 남자 남자 여자 여자\",\n",
    "    \"남자 남자\",\n",
    "    \"남자 남자 남자 밥 밥 먹는다\"\n",
    "]\n",
    "\n",
    "\n",
    "#\"남자\", \"여자\", \"밥\" 빈도수 계산\n",
    "tf = []\n",
    "\n",
    "for i in range(len(word_list)):\n",
    "    man_count = 0\n",
    "    woman_count = 0 \n",
    "    rice_count= 0\n",
    "    if \"남자\" in word_list[i]:\n",
    "        man_count = word_list[i].count(\"남자\")\n",
    "    if \"여자\" in word_list[i]:\n",
    "        woman_count = word_list[i].count(\"여자\")\n",
    "    if \"밥\" in word_list[i]:\n",
    "        rice_count = word_list[i].count(\"밥\")\n",
    "    tf.append([man_count, woman_count, rice_count])\n",
    "\n",
    "tf"
   ]
  },
  {
   "cell_type": "code",
   "execution_count": 29,
   "metadata": {},
   "outputs": [
    {
     "name": "stdout",
     "output_type": "stream",
     "text": [
      "7\n",
      "0.0\n",
      "\n"
     ]
    }
   ],
   "source": [
    "import math\n",
    "\n",
    "#IDF 계산\n",
    "#남자\n",
    "idf_man = 0\n",
    "tf_man = 0\n",
    "\n",
    "for i in range(len(word_list)):\n",
    "    if word_list[i][0] != 0:\n",
    "        tf_man += 1\n",
    "    idf_man = math.log((1+ tf_man) / (1+len(word_list)))\n",
    "\n",
    "print(tf_man)\n",
    "print(idf_man)\n",
    "print()"
   ]
  },
  {
   "cell_type": "code",
   "execution_count": null,
   "metadata": {},
   "outputs": [],
   "source": []
  }
 ],
 "metadata": {
  "kernelspec": {
   "display_name": "Python 3",
   "language": "python",
   "name": "python3"
  },
  "language_info": {
   "codemirror_mode": {
    "name": "ipython",
    "version": 3
   },
   "file_extension": ".py",
   "mimetype": "text/x-python",
   "name": "python",
   "nbconvert_exporter": "python",
   "pygments_lexer": "ipython3",
   "version": "3.7.4"
  }
 },
 "nbformat": 4,
 "nbformat_minor": 2
}
