{
 "cells": [
  {
   "cell_type": "code",
   "execution_count": 1,
   "metadata": {},
   "outputs": [],
   "source": [
    "from selenium import webdriver as wd\n",
    "import time"
   ]
  },
  {
   "cell_type": "code",
   "execution_count": 24,
   "metadata": {},
   "outputs": [],
   "source": [
    "url = \"http://tour.interpark.com\"\n",
    "driver = wd.Chrome(executable_path = \"chromedriver.exe\") #chrome driver load"
   ]
  },
  {
   "cell_type": "code",
   "execution_count": 25,
   "metadata": {},
   "outputs": [],
   "source": [
    "#암시적 대기: 시간을 정해놓고 대기\n",
    "#시간이 다 지나기 전에 로드 완료 시 생략\n",
    "\n",
    "driver.implicitly_wait(10) #페이지 로드 대기시간 10초, 10초 이전에 로드 완료시 무시"
   ]
  },
  {
   "cell_type": "code",
   "execution_count": 26,
   "metadata": {},
   "outputs": [],
   "source": [
    "driver.get(url) #page load"
   ]
  },
  {
   "cell_type": "code",
   "execution_count": 27,
   "metadata": {},
   "outputs": [],
   "source": [
    "#\"keyword 검색하기\n",
    "keyword = \"리스본\"\n",
    "searchBox_id = \"SearchGNBText\"\n",
    "searchBtn_class = \"search-btn\"\n",
    "\n",
    "driver.find_element_by_id(searchBox_id).send_keys(keyword) #검색 창 선택 및 keyword 입력\n",
    "driver.find_element_by_class_name(searchBtn_class).click() #검색버튼 클릭"
   ]
  },
  {
   "cell_type": "code",
   "execution_count": 28,
   "metadata": {},
   "outputs": [],
   "source": [
    "#해외여행 정보 보기\n",
    "infoBtn_id = \"li_R\"\n",
    "\n",
    "driver.find_element_by_id(infoBtn_id).click()"
   ]
  },
  {
   "cell_type": "code",
   "execution_count": 20,
   "metadata": {},
   "outputs": [],
   "source": [
    "#driver.execute_script(\"alert('안녕 자바스크립트')\") #팝업창 띄우는 것"
   ]
  },
  {
   "cell_type": "code",
   "execution_count": 29,
   "metadata": {
    "scrolled": true
   },
   "outputs": [
    {
     "name": "stdout",
     "output_type": "stream",
     "text": [
      "1번째 페이지로 이동\n",
      "2번째 페이지로 이동\n",
      "3번째 페이지로 이동\n",
      "4번째 페이지로 이동\n"
     ]
    }
   ],
   "source": [
    "#해외여행 정보 페이지 이동\n",
    "#searchModule.SetCategoryList(페이지 번호, \"\")\n",
    "\n",
    "total = driver.find_element_by_id(\"totalAllCnt\")\n",
    "if int(total.text) % 10 == 0:\n",
    "    total_page = int(total.text) // 10\n",
    "else:\n",
    "    total_page = int(total.text) // 10 + 1\n",
    "\n",
    "for page in range(1, total_page + 1):\n",
    "    driver.execute_script(\n",
    "        \"searchModule.SetCategoryList({}, \"\")\".format(page)\n",
    "        #format 활용: {}에 페이지 값을 넣은 문자열\n",
    "    )\n",
    "    time.sleep(1) #페이지 이동 스크립트 실행 대기 시간\n",
    "    print(\"{}번째 페이지로 이동\".format(page))\n"
   ]
  },
  {
   "cell_type": "code",
   "execution_count": 30,
   "metadata": {},
   "outputs": [
    {
     "name": "stdout",
     "output_type": "stream",
     "text": [
      "상품명 ▩ 대한항공직항 ▩ 스페인 / 포르투갈 완벽일주 10일 《★전일정 4성 숙박/★포르투갈 완벽 포함 PLUS 베나길, 신트라》\n",
      "가격 1,590,000 \n",
      "상품명 ■ 출발확정┃특급 호텔 1박 UP ■ 『 MODE 베스트셀러 』꽉찬 스페인 / 포르투갈 퍼펙트 8일 《호텔 2박 4성/내부관광 8회》\n",
      "가격 1,590,000 \n",
      "상품명 ■ 출발확정┃특급 호텔 1박 UP ■ 『 MODE 베스트셀러 』꽉찬 스페인 / 포르투갈 퍼펙트 8일 《호텔 2박 4성/내부관광 8회》\n",
      "가격 1,590,000 \n",
      "상품명 ★선발권특가★ 『 모두 단독 』 스페인 / 포르투갈 / 모로코 완벽 관광 11일《★전일정 4성/★15만원 상당의 중간항공 1회》\n",
      "가격 3,190,000 \n",
      "상품명 ■ 바르셀로나 대한항공 직항탑승 ■ 多 본다 스페인 / 포루투갈 퍼펙트 9일《★전일정 4성 호텔》\n",
      "가격 2,390,000 \n",
      "상품명 ▩ 대한항공직항 ▩ 스페인 / 포르투갈 완벽일주 10일 《★전일정 4성 숙박/★포르투갈 완벽 포함 PLUS 베나길, 신트라》\n",
      "가격 2,490,000 \n",
      "상품명 ■ 바르셀로나 대한항공 직항탑승 ■ 多 본다 스페인 / 포루투갈 퍼펙트 9일《★전일정 4성 호텔》\n",
      "가격 2,390,000 \n",
      "상품명 ▩ 출발확정 ▩ 『 모두 단독 』 스페인 / 포르투갈 / 모로코 완벽 관광 11일《★전일정 4성/★15만원 상당의 중간항공 1회》\n",
      "가격 2,990,000 \n",
      "상품명 ▩ 대한항공직항 ▩ 스페인 / 포르투갈 완벽일주 10일 《★전일정 4성 숙박/★포르투갈 완벽 포함 PLUS 베나길, 신트라》\n",
      "가격 2,490,000 \n"
     ]
    }
   ],
   "source": [
    "#각각의 정보에 접근하기\n",
    "boxItems = driver.find_elements_by_css_selector(\".panelZone>.oTravelBox>.boxList>li\")\n",
    "\n",
    "for li in boxItems:\n",
    "    print(\"상품명\", li.find_element_by_css_selector(\"h5.proTit\").text)\n",
    "    print(\"가격\", li.find_element_by_css_selector(\"strong.proPrice\").text.split('원')[0])"
   ]
  },
  {
   "cell_type": "code",
   "execution_count": null,
   "metadata": {},
   "outputs": [],
   "source": [
    "time.sleep(5)"
   ]
  },
  {
   "cell_type": "code",
   "execution_count": 31,
   "metadata": {},
   "outputs": [],
   "source": [
    "driver.quit()"
   ]
  },
  {
   "cell_type": "code",
   "execution_count": null,
   "metadata": {},
   "outputs": [],
   "source": []
  }
 ],
 "metadata": {
  "kernelspec": {
   "display_name": "Python 3",
   "language": "python",
   "name": "python3"
  },
  "language_info": {
   "codemirror_mode": {
    "name": "ipython",
    "version": 3
   },
   "file_extension": ".py",
   "mimetype": "text/x-python",
   "name": "python",
   "nbconvert_exporter": "python",
   "pygments_lexer": "ipython3",
   "version": "3.7.4"
  }
 },
 "nbformat": 4,
 "nbformat_minor": 2
}
