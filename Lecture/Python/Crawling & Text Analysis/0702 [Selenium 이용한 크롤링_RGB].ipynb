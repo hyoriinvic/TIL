{
 "cells": [
  {
   "cell_type": "code",
   "execution_count": 27,
   "metadata": {},
   "outputs": [],
   "source": [
    "from selenium import webdriver\n",
    "from bs4 import BeautifulSoup\n",
    "import time"
   ]
  },
  {
   "cell_type": "code",
   "execution_count": 33,
   "metadata": {},
   "outputs": [],
   "source": [
    "browser = webdriver.Chrome(\"chromedriver.exe\")\n",
    "browser.get(\"https://www.w3schools.com/colors/colors_rgb.asp\") #사이트로 이동"
   ]
  },
  {
   "cell_type": "code",
   "execution_count": 29,
   "metadata": {},
   "outputs": [],
   "source": [
    "browser.find_element_by_id(\"r01\").clear() #RGB 입력 박스 초기화"
   ]
  },
  {
   "cell_type": "code",
   "execution_count": 30,
   "metadata": {},
   "outputs": [],
   "source": [
    "browser.find_element_by_id(\"r01\").send_keys(\"255\") #키 값 전달\n",
    "browser.find_element_by_id(\"g01\").send_keys(\"255\")\n",
    "browser.find_element_by_id(\"b01\").send_keys(\"255\")"
   ]
  },
  {
   "cell_type": "code",
   "execution_count": 31,
   "metadata": {},
   "outputs": [
    {
     "data": {
      "text/plain": [
       "'#ffffff'"
      ]
     },
     "execution_count": 31,
     "metadata": {},
     "output_type": "execute_result"
    }
   ],
   "source": [
    "#selenium 으로 불러오기\n",
    "#크롬창을 열어 놓은 상태(사이트가 실행 중일 때)에서만 가능 \n",
    "\n",
    "browser.find_element_by_id(\"hex01\").text "
   ]
  },
  {
   "cell_type": "code",
   "execution_count": 32,
   "metadata": {},
   "outputs": [],
   "source": [
    "#beautifulsoup으로 불러오기\n",
    "\n",
    "html = browser.page_source #현재 페이지 태그 저장\n",
    "browser.quit() #브라우저 종료\n",
    "soup = BeautifulSoup(html, \"html.parser\") #브라우저가 종료되어도 원하는 정보 가져오기 가능"
   ]
  },
  {
   "cell_type": "code",
   "execution_count": 25,
   "metadata": {},
   "outputs": [
    {
     "name": "stdout",
     "output_type": "stream",
     "text": [
      "#ffffff\n"
     ]
    }
   ],
   "source": [
    "color = soup.find(id = \"hex01\").text\n",
    "print(color)"
   ]
  },
  {
   "cell_type": "code",
   "execution_count": 26,
   "metadata": {},
   "outputs": [],
   "source": [
    "time.sleep(10)"
   ]
  }
 ],
 "metadata": {
  "kernelspec": {
   "display_name": "Python 3",
   "language": "python",
   "name": "python3"
  },
  "language_info": {
   "codemirror_mode": {
    "name": "ipython",
    "version": 3
   },
   "file_extension": ".py",
   "mimetype": "text/x-python",
   "name": "python",
   "nbconvert_exporter": "python",
   "pygments_lexer": "ipython3",
   "version": "3.7.4"
  }
 },
 "nbformat": 4,
 "nbformat_minor": 2
}
