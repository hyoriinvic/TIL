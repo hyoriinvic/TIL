{
 "cells": [
  {
   "cell_type": "code",
   "execution_count": 1,
   "metadata": {},
   "outputs": [],
   "source": [
    "from bs4 import BeautifulSoup\n",
    "import requests"
   ]
  },
  {
   "cell_type": "code",
   "execution_count": 7,
   "metadata": {},
   "outputs": [
    {
     "data": {
      "text/plain": [
       "'<html>\\r\\n\\t<head>\\r\\n\\t\\t<meta charset=\"utf-8\">\\r\\n    </head>\\r\\n\\t<body>\\r\\n\\t\\t<h1>하루가 너무 길어요</h1>\\r\\n\\t\\t<p>아직 화요일이라니 ... </p>\\r\\n\\t</body>\\r\\n</html>'"
      ]
     },
     "execution_count": 7,
     "metadata": {},
     "output_type": "execute_result"
    }
   ],
   "source": [
    "url = \"http://localhost:8089/bs01.html\" #크롤링할 URL 저장\n",
    "response = requests.get(url) #URL 페이지에 접속, 페이지의 내용을 response에 대입\n",
    "response.encoding = \"UTF-8\" #응답정보 한글 설정\n",
    "response.text"
   ]
  },
  {
   "cell_type": "code",
   "execution_count": 8,
   "metadata": {},
   "outputs": [],
   "source": [
    "soup = BeautifulSoup(response.text, \"html.parser\") #응답정보 저장 및 정보 추출"
   ]
  },
  {
   "cell_type": "code",
   "execution_count": 10,
   "metadata": {},
   "outputs": [
    {
     "data": {
      "text/plain": [
       "'하루가 너무 길어요'"
      ]
     },
     "execution_count": 10,
     "metadata": {},
     "output_type": "execute_result"
    }
   ],
   "source": [
    "soup.body.h1.string #태그 선택"
   ]
  },
  {
   "cell_type": "code",
   "execution_count": 11,
   "metadata": {},
   "outputs": [
    {
     "data": {
      "text/plain": [
       "'아직 화요일이라니 ... '"
      ]
     },
     "execution_count": 11,
     "metadata": {},
     "output_type": "execute_result"
    }
   ],
   "source": [
    "soup.body.p.string"
   ]
  },
  {
   "cell_type": "code",
   "execution_count": 12,
   "metadata": {},
   "outputs": [
    {
     "data": {
      "text/plain": [
       "'<html>\\r\\n\\t<head>\\r\\n\\t\\t<meta charset=\"utf-8\">\\r\\n\\t</head>\\r\\n\\t<body>\\r\\n\\t\\t<h1 id=\"title\">스크레이핑이란?</h1>\\r\\n\\t\\t<p id=\"body01\">웹 페이지를 분석하는 것</p>\\r\\n\\t\\t<p id=\"body02\">원 하는 데이터를 추출 하는것</p>\\r\\n\\t</body>\\r\\n</html>'"
      ]
     },
     "execution_count": 12,
     "metadata": {},
     "output_type": "execute_result"
    }
   ],
   "source": [
    "url = \"http://localhost:8089/bs02.html\" \n",
    "response = requests.get(url) \n",
    "response.encoding = \"UTF-8\"  \n",
    "response.text"
   ]
  },
  {
   "cell_type": "code",
   "execution_count": 13,
   "metadata": {},
   "outputs": [],
   "source": [
    "soup = BeautifulSoup(response.text, \"html.parser\")"
   ]
  },
  {
   "cell_type": "code",
   "execution_count": 14,
   "metadata": {},
   "outputs": [
    {
     "data": {
      "text/plain": [
       "'스크레이핑이란?'"
      ]
     },
     "execution_count": 14,
     "metadata": {},
     "output_type": "execute_result"
    }
   ],
   "source": [
    "soup.find(id = \"title\").string #id 속성을 이용한 선택"
   ]
  },
  {
   "cell_type": "code",
   "execution_count": 15,
   "metadata": {},
   "outputs": [
    {
     "data": {
      "text/plain": [
       "'웹 페이지를 분석하는 것'"
      ]
     },
     "execution_count": 15,
     "metadata": {},
     "output_type": "execute_result"
    }
   ],
   "source": [
    "soup.find(id = \"body01\").string"
   ]
  },
  {
   "cell_type": "code",
   "execution_count": 16,
   "metadata": {},
   "outputs": [
    {
     "data": {
      "text/plain": [
       "'원 하는 데이터를 추출 하는것'"
      ]
     },
     "execution_count": 16,
     "metadata": {},
     "output_type": "execute_result"
    }
   ],
   "source": [
    "soup.find(id = \"body02\").string"
   ]
  },
  {
   "cell_type": "code",
   "execution_count": 17,
   "metadata": {},
   "outputs": [
    {
     "data": {
      "text/plain": [
       "'<html>\\r\\n\\t<head>\\r\\n\\t\\t<meta charset=\"utf-8\">\\r\\n\\t</head>\\r\\n\\t<body>\\r\\n\\t\\t<ul>\\r\\n\\t\\t\\t<li><a href=\"http://www.naver.com\">naver</a></li>\\r\\n\\t\\t\\t<li><a href=\"http://www.daum.net\">daum</a></li>\\r\\n\\t\\t</ul>\\r\\n\\t</body>\\r\\n</html>'"
      ]
     },
     "execution_count": 17,
     "metadata": {},
     "output_type": "execute_result"
    }
   ],
   "source": [
    "url = \"http://localhost:8089/bs03.html\" \n",
    "response = requests.get(url) \n",
    "response.encoding = \"UTF-8\"  \n",
    "response.text"
   ]
  },
  {
   "cell_type": "code",
   "execution_count": 18,
   "metadata": {},
   "outputs": [],
   "source": [
    "soup = BeautifulSoup(response.text, \"html.parser\")"
   ]
  },
  {
   "cell_type": "code",
   "execution_count": 19,
   "metadata": {},
   "outputs": [
    {
     "name": "stdout",
     "output_type": "stream",
     "text": [
      "naver : http://www.naver.com\n",
      "daum : http://www.daum.net\n"
     ]
    }
   ],
   "source": [
    "#find_all 메서드로 추출 및 목록 출력하기\n",
    "for a in soup.find_all(\"a\"):\n",
    "    href = a.attrs['href']\n",
    "    text = a.string\n",
    "    print(text, \":\", href)"
   ]
  }
 ],
 "metadata": {
  "kernelspec": {
   "display_name": "Python 3",
   "language": "python",
   "name": "python3"
  },
  "language_info": {
   "codemirror_mode": {
    "name": "ipython",
    "version": 3
   },
   "file_extension": ".py",
   "mimetype": "text/x-python",
   "name": "python",
   "nbconvert_exporter": "python",
   "pygments_lexer": "ipython3",
   "version": "3.7.4"
  }
 },
 "nbformat": 4,
 "nbformat_minor": 2
}
