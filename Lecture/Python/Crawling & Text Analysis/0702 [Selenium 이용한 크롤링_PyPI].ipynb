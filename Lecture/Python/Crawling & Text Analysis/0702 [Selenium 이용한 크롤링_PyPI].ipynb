{
 "cells": [
  {
   "cell_type": "code",
   "execution_count": 25,
   "metadata": {},
   "outputs": [
    {
     "name": "stdout",
     "output_type": "stream",
     "text": [
      "Requirement already satisfied: selenium in c:\\ai\\python\\anaconda3\\lib\\site-packages (3.141.0)\n",
      "Requirement already satisfied: urllib3 in c:\\ai\\python\\anaconda3\\lib\\site-packages (from selenium) (1.24.2)\n"
     ]
    }
   ],
   "source": [
    "! pip install selenium "
   ]
  },
  {
   "cell_type": "code",
   "execution_count": 31,
   "metadata": {},
   "outputs": [],
   "source": [
    "from selenium import webdriver #셀레니움 라이브러리 임포트\n",
    "import time"
   ]
  },
  {
   "cell_type": "code",
   "execution_count": 27,
   "metadata": {},
   "outputs": [],
   "source": [
    "#다운받은 구글크롬 드라이버 경로 설정\n",
    "browser = webdriver.Chrome(\"chromedriver.exe\")"
   ]
  },
  {
   "cell_type": "code",
   "execution_count": 28,
   "metadata": {},
   "outputs": [],
   "source": [
    "browser.get(\"http://python.org\") #사이트로 이동 "
   ]
  },
  {
   "cell_type": "code",
   "execution_count": 8,
   "metadata": {},
   "outputs": [],
   "source": [
    "#<div id=\"top\" class=\"top-bar do-not-print\" >    \n",
    "#id 속성이 \"top\"인 것을 선택\n",
    "#id 속성은 유일한 값임 \n",
    "#.find_element_by_css_selector(\"\")\n",
    "\n",
    "e1 = browser.find_element_by_css_selector(\"#top\")"
   ]
  },
  {
   "cell_type": "code",
   "execution_count": 10,
   "metadata": {},
   "outputs": [
    {
     "data": {
      "text/plain": [
       "'<div id=\"top\" class=\"top-bar do-not-print\">\\n\\n            <nav class=\"meta-navigation container\" role=\"navigation\">\\n\\n                \\n                <div class=\"skip-link screen-reader-text\">\\n                    <a href=\"#content\" title=\"Skip to content\">Skip to content</a>\\n                </div>\\n\\n                \\n                <a id=\"close-python-network\" class=\"jump-link\" href=\"#python-network\" aria-hidden=\"true\">\\n                    <span aria-hidden=\"true\" class=\"icon-arrow-down\"><span>▼</span></span> Close\\n                </a>\\n\\n                \\n\\n<ul class=\"menu\" role=\"tree\">\\n    \\n    <li class=\"python-meta current_item selectedcurrent_branch selected\">\\n        <a href=\"/\" title=\"The Python Programming Language\" class=\"current_item selectedcurrent_branch selected\">Python</a>\\n    </li>\\n    \\n    <li class=\"psf-meta \">\\n        <a href=\"/psf-landing/\" title=\"The Python Software Foundation\">PSF</a>\\n    </li>\\n    \\n    <li class=\"docs-meta \">\\n        <a href=\"https://docs.python.org\" title=\"Python Documentation\">Docs</a>\\n    </li>\\n    \\n    <li class=\"pypi-meta \">\\n        <a href=\"https://pypi.org/\" title=\"Python Package Index\">PyPI</a>\\n    </li>\\n    \\n    <li class=\"jobs-meta \">\\n        <a href=\"/jobs/\" title=\"Python Job Board\">Jobs</a>\\n    </li>\\n    \\n    <li class=\"shop-meta \">\\n        <a href=\"/community/\" title=\"Python Community\">Community</a>\\n    </li>\\n    \\n</ul>\\n\\n\\n                <a id=\"python-network\" class=\"jump-link\" href=\"#top\" aria-hidden=\"true\">\\n                    <span aria-hidden=\"true\" class=\"icon-arrow-up\"><span>▲</span></span> The Python Network\\n                </a>\\n\\n            </nav>\\n\\n        </div>'"
      ]
     },
     "execution_count": 10,
     "metadata": {},
     "output_type": "execute_result"
    }
   ],
   "source": [
    "e1.get_attribute(\"outerHTML\") #선택한 값 확인(태그 출력)\n",
    "\n",
    "#구조는 홈페이지에서 '우 클릭+검사'로 보는 것이 훨씬 편함\n",
    "#검색기능 Ctrl + F"
   ]
  },
  {
   "cell_type": "code",
   "execution_count": 11,
   "metadata": {},
   "outputs": [
    {
     "data": {
      "text/plain": [
       "'<ul class=\"menu\" role=\"tree\">\\n    \\n    <li class=\"python-meta current_item selectedcurrent_branch selected\">\\n        <a href=\"/\" title=\"The Python Programming Language\" class=\"current_item selectedcurrent_branch selected\">Python</a>\\n    </li>\\n    \\n    <li class=\"psf-meta \">\\n        <a href=\"/psf-landing/\" title=\"The Python Software Foundation\">PSF</a>\\n    </li>\\n    \\n    <li class=\"docs-meta \">\\n        <a href=\"https://docs.python.org\" title=\"Python Documentation\">Docs</a>\\n    </li>\\n    \\n    <li class=\"pypi-meta \">\\n        <a href=\"https://pypi.org/\" title=\"Python Package Index\">PyPI</a>\\n    </li>\\n    \\n    <li class=\"jobs-meta \">\\n        <a href=\"/jobs/\" title=\"Python Job Board\">Jobs</a>\\n    </li>\\n    \\n    <li class=\"shop-meta \">\\n        <a href=\"/community/\" title=\"Python Community\">Community</a>\\n    </li>\\n    \\n</ul>'"
      ]
     },
     "execution_count": 11,
     "metadata": {},
     "output_type": "execute_result"
    }
   ],
   "source": [
    "#<ul class=\"menu\" role=\"tree\">\n",
    "#id 속성이 top인 태그 안에 태그 이름이 ul 이고, class 속성이 menu인 것\n",
    "#띄어쓰기(space)로 '안에 속함'을 표현\n",
    "\n",
    "e1 = browser.find_element_by_css_selector(\"#top ul.menu\")\n",
    "e1.get_attribute(\"outerHTML\") "
   ]
  },
  {
   "cell_type": "code",
   "execution_count": 17,
   "metadata": {},
   "outputs": [
    {
     "name": "stdout",
     "output_type": "stream",
     "text": [
      "m =  <selenium.webdriver.remote.webelement.WebElement (session=\"e9f448f2842b90cb3ccf89bcfa97e62c\", element=\"0.9857348966527892-3\")>\n",
      "m tag =  <li class=\"python-meta current_item selectedcurrent_branch selected\">\n",
      "        <a href=\"/\" title=\"The Python Programming Language\" class=\"current_item selectedcurrent_branch selected\">Python</a>\n",
      "    </li>\n",
      "m.text =  Python\n",
      "\n",
      "m =  <selenium.webdriver.remote.webelement.WebElement (session=\"e9f448f2842b90cb3ccf89bcfa97e62c\", element=\"0.9857348966527892-4\")>\n",
      "m tag =  <li class=\"psf-meta \">\n",
      "        <a href=\"/psf-landing/\" title=\"The Python Software Foundation\">PSF</a>\n",
      "    </li>\n",
      "m.text =  PSF\n",
      "\n",
      "m =  <selenium.webdriver.remote.webelement.WebElement (session=\"e9f448f2842b90cb3ccf89bcfa97e62c\", element=\"0.9857348966527892-5\")>\n",
      "m tag =  <li class=\"docs-meta \">\n",
      "        <a href=\"https://docs.python.org\" title=\"Python Documentation\">Docs</a>\n",
      "    </li>\n",
      "m.text =  Docs\n",
      "\n",
      "m =  <selenium.webdriver.remote.webelement.WebElement (session=\"e9f448f2842b90cb3ccf89bcfa97e62c\", element=\"0.9857348966527892-6\")>\n",
      "m tag =  <li class=\"pypi-meta \">\n",
      "        <a href=\"https://pypi.org/\" title=\"Python Package Index\">PyPI</a>\n",
      "    </li>\n",
      "m.text =  PyPI\n",
      "\n",
      "m =  <selenium.webdriver.remote.webelement.WebElement (session=\"e9f448f2842b90cb3ccf89bcfa97e62c\", element=\"0.9857348966527892-7\")>\n",
      "m tag =  <li class=\"jobs-meta \">\n",
      "        <a href=\"/jobs/\" title=\"Python Job Board\">Jobs</a>\n",
      "    </li>\n",
      "m.text =  Jobs\n",
      "\n",
      "m =  <selenium.webdriver.remote.webelement.WebElement (session=\"e9f448f2842b90cb3ccf89bcfa97e62c\", element=\"0.9857348966527892-8\")>\n",
      "m tag =  <li class=\"shop-meta \">\n",
      "        <a href=\"/community/\" title=\"Python Community\">Community</a>\n",
      "    </li>\n",
      "m.text =  Community\n",
      "\n"
     ]
    }
   ],
   "source": [
    "#<li class=\"pypi-meta \"> 를 포함한 li 태그들을 가져 옴\n",
    "#여러 개를 가져올 땐 elements\n",
    "#.find_elements_by_css_selector(\"\")\n",
    "\n",
    "menus = browser.find_elements_by_css_selector(\"#top ul.menu li\") #리스트에 담아서 리턴\n",
    "pypi = None\n",
    "\n",
    "for m in menus:\n",
    "    print(\"m = \", m)\n",
    "    print(\"m tag = \", m.get_attribute(\"outerHTML\")) #태그를 하나씩 출력\n",
    "    print(\"m.text = \", m.text) #태그 안의 글씨 출력\n",
    "    print()\n",
    "    \n",
    "    if m.text == \"PyPI\":\n",
    "        pypi = m"
   ]
  },
  {
   "cell_type": "code",
   "execution_count": 18,
   "metadata": {},
   "outputs": [
    {
     "data": {
      "text/plain": [
       "'PyPI'"
      ]
     },
     "execution_count": 18,
     "metadata": {},
     "output_type": "execute_result"
    }
   ],
   "source": [
    "pypi.text"
   ]
  },
  {
   "cell_type": "code",
   "execution_count": 19,
   "metadata": {},
   "outputs": [
    {
     "data": {
      "text/plain": [
       "'<li class=\"pypi-meta \">\\n        <a href=\"https://pypi.org/\" title=\"Python Package Index\">PyPI</a>\\n    </li>'"
      ]
     },
     "execution_count": 19,
     "metadata": {},
     "output_type": "execute_result"
    }
   ],
   "source": [
    "pypi.get_attribute(\"outerHTML\")"
   ]
  },
  {
   "cell_type": "code",
   "execution_count": 29,
   "metadata": {},
   "outputs": [],
   "source": [
    "#위 모든 과정을 한 번에 가능!\n",
    "#<li class=\"pypi-meta\">\n",
    "\n",
    "e1 = browser.find_element_by_css_selector(\"#top ul.menu li.pypi-meta\")"
   ]
  },
  {
   "cell_type": "code",
   "execution_count": 30,
   "metadata": {},
   "outputs": [],
   "source": [
    "e1.click() #클릭"
   ]
  },
  {
   "cell_type": "code",
   "execution_count": 32,
   "metadata": {},
   "outputs": [],
   "source": [
    "time.sleep(5) #프로그램을 잠깐 멈춤"
   ]
  },
  {
   "cell_type": "code",
   "execution_count": 33,
   "metadata": {},
   "outputs": [],
   "source": [
    "browser.quit() #브라우저 종료"
   ]
  }
 ],
 "metadata": {
  "kernelspec": {
   "display_name": "Python 3",
   "language": "python",
   "name": "python3"
  },
  "language_info": {
   "codemirror_mode": {
    "name": "ipython",
    "version": 3
   },
   "file_extension": ".py",
   "mimetype": "text/x-python",
   "name": "python",
   "nbconvert_exporter": "python",
   "pygments_lexer": "ipython3",
   "version": "3.7.4"
  }
 },
 "nbformat": 4,
 "nbformat_minor": 2
}
