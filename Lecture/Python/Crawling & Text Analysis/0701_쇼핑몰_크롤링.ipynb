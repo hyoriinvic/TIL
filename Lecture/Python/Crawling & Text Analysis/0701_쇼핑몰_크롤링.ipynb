{
  "nbformat": 4,
  "nbformat_minor": 0,
  "metadata": {
    "colab": {
      "name": "0701 쇼핑몰 크롤링",
      "provenance": []
    },
    "kernelspec": {
      "name": "python3",
      "display_name": "Python 3"
    }
  },
  "cells": [
    {
      "cell_type": "code",
      "metadata": {
        "id": "1mIg9iEt4SBk",
        "colab_type": "code",
        "colab": {
          "base_uri": "https://localhost:8080/",
          "height": 34
        },
        "outputId": "d877d96b-f4e5-4d11-df3d-f7ee88fa199a"
      },
      "source": [
        "from google.colab import drive #구글드라이브와 연동\n",
        "drive.mount(\"/gdrive\")"
      ],
      "execution_count": null,
      "outputs": [
        {
          "output_type": "stream",
          "text": [
            "Drive already mounted at /gdrive; to attempt to forcibly remount, call drive.mount(\"/gdrive\", force_remount=True).\n"
          ],
          "name": "stdout"
        }
      ]
    },
    {
      "cell_type": "code",
      "metadata": {
        "id": "XLljz3Ih4viJ",
        "colab_type": "code",
        "colab": {}
      },
      "source": [
        "import requests #웹 페이지의 HTML을 가져오는 모듈\n",
        "from bs4 import BeautifulSoup #HTML을 파싱하는 모듈\n",
        "\n",
        "#웹 페이지를 가져와 BeautifulSoup의 객체로 만듦\n",
        "response = requests.get(\"https://sonyunara.com/shop/list.php?page=1&cate=0104&limit=60\")\n",
        "response.encoding = \"UTF-8\"\n",
        "soup = BeautifulSoup(response.content, \"html.parser\")"
      ],
      "execution_count": null,
      "outputs": []
    },
    {
      "cell_type": "code",
      "metadata": {
        "id": "SEbTsegdXRwP",
        "colab_type": "code",
        "colab": {
          "base_uri": "https://localhost:8080/",
          "height": 1000
        },
        "outputId": "799461fe-1441-4301-d67e-b2c3e9decd9d"
      },
      "source": [
        "product_box = soup.find(\"div\", {\"class\":\"product-box\"})\n",
        "product_box.find_all(\"div\", {\"class\":\"item-content\"})"
      ],
      "execution_count": null,
      "outputs": [
        {
          "output_type": "execute_result",
          "data": {
            "text/plain": [
              "[<div class=\"item-content\">\n",
              " <div class=\"info\">\n",
              " <div class=\"pull-left\">\n",
              " <span>37<em>%</em></span> <span>18,900</span>\n",
              " </div>\n",
              " </div>\n",
              " <div class=\"subject\">\n",
              " <a href=\"/shop/view.php?index_no=61634\">[무료배송]투웨이니트가디건(G)</a>\n",
              " </div>\n",
              " <div class=\"count\">\n",
              " <span>구매수 713</span>\n",
              " <span>리뷰수 7</span>\n",
              " </div>\n",
              " </div>, <div class=\"item-content\">\n",
              " <div class=\"info\">\n",
              " <div class=\"pull-left\">\n",
              " <span>39<em>%</em></span> <span>12,900</span>\n",
              " </div>\n",
              " </div>\n",
              " <div class=\"subject\">\n",
              " <a href=\"/shop/view.php?index_no=52252\">치치가디건세트(G)</a>\n",
              " </div>\n",
              " <div class=\"count\">\n",
              " <span>구매수 868</span>\n",
              " <span>리뷰수 4</span>\n",
              " </div>\n",
              " </div>, <div class=\"item-content\">\n",
              " <div class=\"info\">\n",
              " <div class=\"pull-left\">\n",
              " <span>36<em>%</em></span> <span>12,900</span>\n",
              " </div>\n",
              " </div>\n",
              " <div class=\"subject\">\n",
              " <a href=\"/shop/view.php?index_no=61698\">[무료배송](린넨)여름에딱가디건 (6colors!)(G)</a>\n",
              " </div>\n",
              " <div class=\"count\">\n",
              " <span>구매수 695</span>\n",
              " <span>리뷰수 10</span>\n",
              " </div>\n",
              " </div>, <div class=\"item-content\">\n",
              " <div class=\"info\">\n",
              " <div class=\"pull-left\">\n",
              " <span>28<em>%</em></span> <span>17,900</span>\n",
              " </div>\n",
              " </div>\n",
              " <div class=\"subject\">\n",
              " <a href=\"/shop/view.php?index_no=61666\">숀체크가디건세트(G)</a>\n",
              " </div>\n",
              " <div class=\"count\">\n",
              " <span>구매수 182</span>\n",
              " <span>리뷰수 1</span>\n",
              " </div>\n",
              " </div>, <div class=\"item-content\">\n",
              " <div class=\"info\">\n",
              " <div class=\"pull-left\">\n",
              " <span>48<em>%</em></span> <span>12,900</span>\n",
              " </div>\n",
              " </div>\n",
              " <div class=\"subject\">\n",
              " <a href=\"/shop/view.php?index_no=63128\">린넨다프반팔자켓(JK)</a>\n",
              " </div>\n",
              " <div class=\"count\">\n",
              " <span>구매수 98</span>\n",
              " <span>리뷰수 2</span>\n",
              " </div>\n",
              " </div>, <div class=\"item-content\">\n",
              " <div class=\"info\">\n",
              " <div class=\"pull-left\">\n",
              " <span>36<em>%</em></span> <span>15,900</span>\n",
              " </div>\n",
              " </div>\n",
              " <div class=\"subject\">\n",
              " <a href=\"/shop/view.php?index_no=57280\">[주문대폭주]젠가오버핏가디건 (5colors!)(G)</a>\n",
              " </div>\n",
              " <div class=\"count\">\n",
              " <span>구매수 9334</span>\n",
              " <span>리뷰수 286</span>\n",
              " </div>\n",
              " </div>, <div class=\"item-content\">\n",
              " <div class=\"info\">\n",
              " <div class=\"pull-left\">\n",
              " <span>50<em>%</em></span> <span>12,900</span>\n",
              " </div>\n",
              " </div>\n",
              " <div class=\"subject\">\n",
              " <a href=\"/shop/view.php?index_no=62820\">린넨크롭블라우스(BL)</a>\n",
              " </div>\n",
              " <div class=\"count\">\n",
              " <span>구매수 180</span>\n",
              " <span>리뷰수 3</span>\n",
              " </div>\n",
              " </div>, <div class=\"item-content\">\n",
              " <div class=\"info\">\n",
              " <div class=\"pull-left\">\n",
              " <span>22<em>%</em></span> <span>23,500</span>\n",
              " </div>\n",
              " </div>\n",
              " <div class=\"subject\">\n",
              " <a href=\"/shop/view.php?index_no=60576\">반팔니트가디건(T)</a>\n",
              " </div>\n",
              " <div class=\"count\">\n",
              " <span>구매수 215</span>\n",
              " <span>리뷰수 5</span>\n",
              " </div>\n",
              " </div>, <div class=\"item-content\">\n",
              " <div class=\"info\">\n",
              " <div class=\"pull-left\">\n",
              " <span>39<em>%</em></span> <span>13,500</span>\n",
              " </div>\n",
              " </div>\n",
              " <div class=\"subject\">\n",
              " <a href=\"/shop/view.php?index_no=63210\">스티치반팔셔츠(JK)</a>\n",
              " </div>\n",
              " <div class=\"count\">\n",
              " <span>구매수 254</span>\n",
              " </div>\n",
              " </div>, <div class=\"item-content\">\n",
              " <div class=\"info\">\n",
              " <div class=\"pull-left\">\n",
              " <span>46<em>%</em></span> <span>12,900</span>\n",
              " </div>\n",
              " </div>\n",
              " <div class=\"subject\">\n",
              " <a href=\"/shop/view.php?index_no=62894\">라이트반팔자켓(JK)</a>\n",
              " </div>\n",
              " <div class=\"count\">\n",
              " <span>구매수 128</span>\n",
              " </div>\n",
              " </div>]"
            ]
          },
          "metadata": {
            "tags": []
          },
          "execution_count": 74
        }
      ]
    },
    {
      "cell_type": "code",
      "metadata": {
        "id": "8zDeecgL7YhP",
        "colab_type": "code",
        "colab": {}
      },
      "source": [
        "data = []\n",
        "\n",
        "for item in product_box.find_all(\"div\",{\"class\":\"item-content\"}):\n",
        "    name=item.find(\"div\",{\"class\":\"subject\"}).find(\"a\").text\n",
        "    price=item.find(\"div\",{\"class\":\"pull-left\"}).find_all(\"span\")[1].text\n",
        "    price=price.replace(\",\",\"\")\n",
        "    data.append([name,price])"
      ],
      "execution_count": null,
      "outputs": []
    },
    {
      "cell_type": "code",
      "metadata": {
        "id": "mez4DI_cWe8F",
        "colab_type": "code",
        "colab": {
          "base_uri": "https://localhost:8080/",
          "height": 193
        },
        "outputId": "7401e7a2-2fcb-4c6c-c13e-37842490d198"
      },
      "source": [
        "data"
      ],
      "execution_count": null,
      "outputs": [
        {
          "output_type": "execute_result",
          "data": {
            "text/plain": [
              "[['[무료배송]투웨이니트가디건(G)', '18900'],\n",
              " ['치치가디건세트(G)', '12900'],\n",
              " ['[무료배송](린넨)여름에딱가디건 (6colors!)(G)', '12900'],\n",
              " ['숀체크가디건세트(G)', '17900'],\n",
              " ['린넨다프반팔자켓(JK)', '12900'],\n",
              " ['[주문대폭주]젠가오버핏가디건 (5colors!)(G)', '15900'],\n",
              " ['린넨크롭블라우스(BL)', '12900'],\n",
              " ['반팔니트가디건(T)', '23500'],\n",
              " ['스티치반팔셔츠(JK)', '13500'],\n",
              " ['라이트반팔자켓(JK)', '12900']]"
            ]
          },
          "metadata": {
            "tags": []
          },
          "execution_count": 76
        }
      ]
    },
    {
      "cell_type": "code",
      "metadata": {
        "id": "EGW08nFaYUOo",
        "colab_type": "code",
        "colab": {}
      },
      "source": [
        "with open(\"/gdrive/My Drive/Colab Notebooks/shop.csv\",\"w\") as file:\n",
        "    file.write(\"name,price\\n\")\n",
        "    for item in data:\n",
        "        file.write(\"{},{}\\n\".format(item[0],item[1])) "
      ],
      "execution_count": null,
      "outputs": []
    }
  ]
}