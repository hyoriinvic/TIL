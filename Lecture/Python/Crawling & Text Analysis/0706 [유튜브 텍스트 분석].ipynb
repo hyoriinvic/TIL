{
 "cells": [
  {
   "cell_type": "code",
   "execution_count": 1,
   "metadata": {},
   "outputs": [],
   "source": [
    "from konlpy.tag import Twitter"
   ]
  },
  {
   "cell_type": "code",
   "execution_count": 2,
   "metadata": {},
   "outputs": [
    {
     "name": "stderr",
     "output_type": "stream",
     "text": [
      "C:\\ai\\python\\anaconda3\\lib\\site-packages\\konlpy\\tag\\_okt.py:16: UserWarning: \"Twitter\" has changed to \"Okt\" since KoNLPy v0.4.5.\n",
      "  warn('\"Twitter\" has changed to \"Okt\" since KoNLPy v0.4.5.')\n"
     ]
    }
   ],
   "source": [
    "t = Twitter()"
   ]
  },
  {
   "cell_type": "code",
   "execution_count": 3,
   "metadata": {},
   "outputs": [
    {
     "data": {
      "text/plain": [
       "[('아버지', 'Noun'),\n",
       " ('가', 'Josa'),\n",
       " ('방', 'Noun'),\n",
       " ('에', 'Josa'),\n",
       " ('들어가신다', 'Verb'),\n",
       " ('그래서', 'Adverb'),\n",
       " ('슬펐다', 'Adjective')]"
      ]
     },
     "execution_count": 3,
     "metadata": {},
     "output_type": "execute_result"
    }
   ],
   "source": [
    "#.pos() 문장을 단어로 분류, 품사를 알려줌\n",
    "\n",
    "#명사: Noun\n",
    "#조사(을를이가): Jasa\n",
    "#동사: Verb\n",
    "#형용사: Adjective\n",
    "#부사: Adverb\n",
    "\n",
    "t.pos(\"아버지가 방에 들어가신다 그래서 슬펐다\")"
   ]
  },
  {
   "cell_type": "code",
   "execution_count": 6,
   "metadata": {},
   "outputs": [
    {
     "data": {
      "text/plain": [
       "[('아버지', 'Noun'),\n",
       " ('가', 'Josa'),\n",
       " ('방', 'Noun'),\n",
       " ('에', 'Josa'),\n",
       " ('들어가다', 'Verb'),\n",
       " ('그래서', 'Adverb'),\n",
       " ('슬프다', 'Adjective')]"
      ]
     },
     "execution_count": 6,
     "metadata": {},
     "output_type": "execute_result"
    }
   ],
   "source": [
    "#stem = True : 높임말 X, 동사를 기본형 현재시제로 반환\n",
    "\n",
    "tagged = t.pos(\"아버지가 방에 들어가신다 그래서 슬펐다\", stem = True)\n",
    "tagged #리스트"
   ]
  },
  {
   "cell_type": "code",
   "execution_count": 7,
   "metadata": {},
   "outputs": [
    {
     "data": {
      "text/plain": [
       "7"
      ]
     },
     "execution_count": 7,
     "metadata": {},
     "output_type": "execute_result"
    }
   ],
   "source": [
    "len(tagged) #리스트 길이 반환"
   ]
  },
  {
   "cell_type": "code",
   "execution_count": 14,
   "metadata": {},
   "outputs": [
    {
     "name": "stdout",
     "output_type": "stream",
     "text": [
      "tagged[0] = ('아버지', 'Noun')\n",
      "tagged[0][0] = 아버지\n",
      "tagged[0][1] = Noun\n",
      "\n",
      "tagged[1] = ('가', 'Josa')\n",
      "tagged[1][0] = 가\n",
      "tagged[1][1] = Josa\n",
      "\n",
      "tagged[2] = ('방', 'Noun')\n",
      "tagged[2][0] = 방\n",
      "tagged[2][1] = Noun\n",
      "\n",
      "tagged[3] = ('에', 'Josa')\n",
      "tagged[3][0] = 에\n",
      "tagged[3][1] = Josa\n",
      "\n",
      "tagged[4] = ('들어가다', 'Verb')\n",
      "tagged[4][0] = 들어가다\n",
      "tagged[4][1] = Verb\n",
      "\n",
      "tagged[5] = ('그래서', 'Adverb')\n",
      "tagged[5][0] = 그래서\n",
      "tagged[5][1] = Adverb\n",
      "\n",
      "tagged[6] = ('슬프다', 'Adjective')\n",
      "tagged[6][0] = 슬프다\n",
      "tagged[6][1] = Adjective\n",
      "\n"
     ]
    }
   ],
   "source": [
    "for i in range(len(tagged)):\n",
    "    print(\"tagged[{}] = {}\".format(i, tagged[i])) #튜플 출력\n",
    "    print(\"tagged[{}][0] = {}\".format(i, tagged[i][0])) #단어만 출력\n",
    "    print(\"tagged[{}][1] = {}\".format(i, tagged[i][1])) #조사만 출력\n",
    "    print()"
   ]
  },
  {
   "cell_type": "code",
   "execution_count": 15,
   "metadata": {},
   "outputs": [
    {
     "name": "stdout",
     "output_type": "stream",
     "text": [
      "('아버지', 'Noun')\n",
      "아버지\n",
      "Noun\n",
      "\n",
      "('방', 'Noun')\n",
      "방\n",
      "Noun\n",
      "\n"
     ]
    }
   ],
   "source": [
    "for i in range(len(tagged)):\n",
    "    if (tagged[i][1] == \"Noun\"): #품사가 명사인 튜플만 출력\n",
    "        print(tagged[i])\n",
    "        print(tagged[i][0])\n",
    "        print(tagged[i][1])\n",
    "        print()"
   ]
  },
  {
   "cell_type": "code",
   "execution_count": 12,
   "metadata": {},
   "outputs": [
    {
     "name": "stdout",
     "output_type": "stream",
     "text": [
      "아버지\n",
      "방\n"
     ]
    }
   ],
   "source": [
    "for i in range(len(tagged)):\n",
    "    if (tagged[i][1] == \"Noun\"): #품사가 명사인 튜플의 단어만 출력\n",
    "        print(tagged[i][0])"
   ]
  },
  {
   "cell_type": "code",
   "execution_count": null,
   "metadata": {},
   "outputs": [],
   "source": []
  }
 ],
 "metadata": {
  "kernelspec": {
   "display_name": "Python 3",
   "language": "python",
   "name": "python3"
  },
  "language_info": {
   "codemirror_mode": {
    "name": "ipython",
    "version": 3
   },
   "file_extension": ".py",
   "mimetype": "text/x-python",
   "name": "python",
   "nbconvert_exporter": "python",
   "pygments_lexer": "ipython3",
   "version": "3.7.4"
  }
 },
 "nbformat": 4,
 "nbformat_minor": 2
}
