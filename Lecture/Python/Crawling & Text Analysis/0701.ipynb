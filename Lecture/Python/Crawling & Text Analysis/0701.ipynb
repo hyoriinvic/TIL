{
  "nbformat": 4,
  "nbformat_minor": 0,
  "metadata": {
    "colab": {
      "name": "0701",
      "provenance": [],
      "collapsed_sections": []
    },
    "kernelspec": {
      "name": "python3",
      "display_name": "Python 3"
    }
  },
  "cells": [
    {
      "cell_type": "code",
      "metadata": {
        "id": "3nFc6l0uSibY",
        "colab_type": "code",
        "colab": {
          "base_uri": "https://localhost:8080/",
          "height": 34
        },
        "outputId": "b4570680-f29d-49e5-c74c-9cfda884b474"
      },
      "source": [
        "from google.colab import drive #구글드라이브와 연동\n",
        "drive.mount(\"/gdrive\")"
      ],
      "execution_count": null,
      "outputs": [
        {
          "output_type": "stream",
          "text": [
            "Mounted at /gdrive\n"
          ],
          "name": "stdout"
        }
      ]
    },
    {
      "cell_type": "code",
      "metadata": {
        "id": "kE8eUeJOPZO7",
        "colab_type": "code",
        "colab": {}
      },
      "source": [
        "import requests #웹 페이지의 HTML을 가져오는 모듈\n",
        "from bs4 import BeautifulSoup #HTML을 파싱하는 모듈 \n",
        "\n",
        "#웹 페이지를 가져와 BeautifulSoup의 객체로 만듦\n",
        "response = requests.get(\"https://www.weather.go.kr/weather/observation/currentweather.jsp\")\n",
        "soup = BeautifulSoup(response.content, \"html.parser\")"
      ],
      "execution_count": null,
      "outputs": []
    },
    {
      "cell_type": "code",
      "metadata": {
        "id": "p5iZk01KyNG4",
        "colab_type": "code",
        "colab": {
          "base_uri": "https://localhost:8080/",
          "height": 1000
        },
        "outputId": "bdf1547d-cb9e-48d0-ad6f-702600497a3b"
      },
      "source": [
        "table = soup.find('table', {   #<table class = \"table_develop3\" 찾기\n",
        "    'class' : 'table_develop3'\n",
        "}) \n",
        "#soup에 담긴 태그 중 (태그이름,(AND) {속성이름 : 속성값})인 것을 찾는다. \n",
        "\n",
        "data = [] #데이터를 저장할 리스트 생성\n",
        "\n",
        "for tr in table.find_all('tr'): #모든 <tr> 태그에 대해 반복\n",
        "  tds = list(tr.find_all('td'))\n",
        "\n",
        "  for td in tds:\n",
        "    if td.find('a'):\n",
        "      point = td.find('a').text #글시 가져올 때, .text\n",
        "      temperature = tds[5].text\n",
        "      humidity = tds[9].text\n",
        "      data.append([point, temperature, humidity]) \n",
        "\n",
        "data"
      ],
      "execution_count": null,
      "outputs": [
        {
          "output_type": "execute_result",
          "data": {
            "text/plain": [
              "[['강릉', '23.0', '67'],\n",
              " ['강진군', '27.7', '52'],\n",
              " ['강화', '21.8', '83'],\n",
              " ['거제', '22.8', '74'],\n",
              " ['거창', '25.9', '57'],\n",
              " ['경주시', '26.4', '56'],\n",
              " ['고산', '23.2', '86'],\n",
              " ['고창', '25.1', '56'],\n",
              " ['고창군', '26.5', '51'],\n",
              " ['고흥', '26.8', '55'],\n",
              " ['광양시', '25.7', '58'],\n",
              " ['광주', '26.4', '54'],\n",
              " ['구미', '24.6', '73'],\n",
              " ['군산', '23.9', '65'],\n",
              " ['금산', '23.7', '65'],\n",
              " ['김해시', '23.4', '77'],\n",
              " ['남원', '25.4', '59'],\n",
              " ['남해', '26.0', '60'],\n",
              " ['대관령', '17.8', '83'],\n",
              " ['대구', '25.4', '53'],\n",
              " ['대전', '23.9', '72'],\n",
              " ['동두천', '22.8', '80'],\n",
              " ['동해', '20.9', '70'],\n",
              " ['목포', '25.1', '66'],\n",
              " ['문경', '22.9', '67'],\n",
              " ['밀양', '25.9', '56'],\n",
              " ['백령도', '22.6', '87'],\n",
              " ['보령', '22.9', '73'],\n",
              " ['보성군', '27.1', '64'],\n",
              " ['보은', '23.8', '66'],\n",
              " ['봉화', '20.7', '70'],\n",
              " ['부산', '21.7', '77'],\n",
              " ['부안', '24.3', '62'],\n",
              " ['부여', '24.9', '62'],\n",
              " ['북강릉', '22.7', '65'],\n",
              " ['북창원', '26.1', '62'],\n",
              " ['북춘천', '23.2', '74'],\n",
              " ['산청', '26.3', '60'],\n",
              " ['상주', '23.6', '73'],\n",
              " ['서귀포', '25.2', '65'],\n",
              " ['서산', '23.4', '70'],\n",
              " ['서울', '23.4', '69'],\n",
              " ['성산', '25.0', '67'],\n",
              " ['세종', '24.8', '60'],\n",
              " ['속초', '23.7', '64'],\n",
              " ['수원', '23.9', '70'],\n",
              " ['순창군', '25.7', '57'],\n",
              " ['순천', '26.5', '53'],\n",
              " ['안동', '22.6', '67'],\n",
              " ['양산시', '24.7', '68'],\n",
              " ['양평', '21.5', '78'],\n",
              " ['여수', '26.0', '56'],\n",
              " ['영광군', '25.7', '51'],\n",
              " ['영덕', '20.2', '81'],\n",
              " ['영월', '21.5', '72'],\n",
              " ['영주', '20.7', '76'],\n",
              " ['영천', '24.5', '60'],\n",
              " ['완도', '26.0', '60'],\n",
              " ['울릉도', '16.7', '95'],\n",
              " ['울산', '23.6', '74'],\n",
              " ['울진', '21.7', '73'],\n",
              " ['원주', '21.1', '68'],\n",
              " ['의령군', '27.3', '53'],\n",
              " ['의성', '23.6', '65'],\n",
              " ['이천', '21.8', '84'],\n",
              " ['인제', '23.9', '60'],\n",
              " ['인천', '22.8', '71'],\n",
              " ['임실', '23.3', '63'],\n",
              " ['장수', '22.7', '66'],\n",
              " ['장흥', '27.4', '53'],\n",
              " ['전주', '24.0', '63'],\n",
              " ['정선군', '21.9', '74'],\n",
              " ['정읍', '24.8', '58'],\n",
              " ['제주', '25.1', '66'],\n",
              " ['제천', '20.7', '76'],\n",
              " ['진도군', '25.5', '59'],\n",
              " ['진주', '26.7', '60'],\n",
              " ['창원', '25.5', '62'],\n",
              " ['천안', '23.0', '74'],\n",
              " ['철원', '23.6', '85'],\n",
              " ['청송군', '23.5', '72'],\n",
              " ['청주', '24.1', '64'],\n",
              " ['추풍령', '21.8', '68'],\n",
              " ['춘천', '23.7', '66'],\n",
              " ['충주', '21.2', '78'],\n",
              " ['태백', '18.8', '74'],\n",
              " ['통영', '22.9', '75'],\n",
              " ['파주', '23.2', '73'],\n",
              " ['포항', '22.4', '77'],\n",
              " ['함양군', '25.0', '60'],\n",
              " ['합천', '25.8', '60'],\n",
              " ['해남', '26.9', '55'],\n",
              " ['홍성', '23.7', '68'],\n",
              " ['홍천', '21.7', '71'],\n",
              " ['흑산도', '23.1', '73']]"
            ]
          },
          "metadata": {
            "tags": []
          },
          "execution_count": 3
        }
      ]
    },
    {
      "cell_type": "code",
      "metadata": {
        "id": "avai7YLuR6YC",
        "colab_type": "code",
        "colab": {}
      },
      "source": [
        "#데이터를 csv 파일에 저장하기\n",
        "with open('/gdrive/My Drive/Colab Notebooks/weather.csv', 'w') as file: #데이터를 저장할 객체 file이 만들어짐\n",
        "  file.write(\"point,temperature,humidity\\n\") #file.write(저장하고 싶은)\n",
        "  for i in data:\n",
        "    file.write(\"{},{},{}\\n\".format(i[0],i[1],i[2])) #{}안의 숫자는 순서를 의미! {0}: 뒤에 있는 것 중 첫번쨰가 이 자리로#데이터를 csv 파일에 저장하기"
      ],
      "execution_count": null,
      "outputs": []
    },
    {
      "cell_type": "markdown",
      "metadata": {
        "id": "aJINsn7HTbDB",
        "colab_type": "text"
      },
      "source": [
        "# 데이터를 그래프로 그리기"
      ]
    },
    {
      "cell_type": "code",
      "metadata": {
        "id": "lHA6zMbxRjMR",
        "colab_type": "code",
        "colab": {}
      },
      "source": [
        "%matplotlib inline \n",
        "\n",
        "import pandas as pd #데이터를 저장, 처리하는 패키지\n",
        "import matplotlib as mpl #그래프 그리는 패키지\n",
        "import matplotlib.pyplot as plt #그래프 그리는 패키지"
      ],
      "execution_count": null,
      "outputs": []
    },
    {
      "cell_type": "code",
      "metadata": {
        "id": "BzTPVBqcTeNk",
        "colab_type": "code",
        "colab": {}
      },
      "source": [
        "#csv 파일을 읽어서 Dataframe 객체로 만듦\n",
        "df = pd.read_csv('/gdrive/My Drive/Colab Notebooks/weather.csv')"
      ],
      "execution_count": null,
      "outputs": []
    },
    {
      "cell_type": "code",
      "metadata": {
        "id": "QN_C3X_J1JIR",
        "colab_type": "code",
        "colab": {
          "base_uri": "https://localhost:8080/",
          "height": 228
        },
        "outputId": "06aa5097-201a-4694-a093-0b9926388602"
      },
      "source": [
        "df[\"temperature\"]"
      ],
      "execution_count": null,
      "outputs": [
        {
          "output_type": "execute_result",
          "data": {
            "text/plain": [
              "0     23.0\n",
              "1     27.7\n",
              "2     21.8\n",
              "3     22.8\n",
              "4     25.9\n",
              "      ... \n",
              "90    25.8\n",
              "91    26.9\n",
              "92    23.7\n",
              "93    21.7\n",
              "94    23.1\n",
              "Name: temperature, Length: 95, dtype: float64"
            ]
          },
          "metadata": {
            "tags": []
          },
          "execution_count": 7
        }
      ]
    },
    {
      "cell_type": "code",
      "metadata": {
        "id": "af7eeYzM39tB",
        "colab_type": "code",
        "colab": {
          "base_uri": "https://localhost:8080/",
          "height": 228
        },
        "outputId": "267eda53-ff02-4032-f783-b02733e68a44"
      },
      "source": [
        "df[\"humidity\"]"
      ],
      "execution_count": null,
      "outputs": [
        {
          "output_type": "execute_result",
          "data": {
            "text/plain": [
              "0     67\n",
              "1     52\n",
              "2     83\n",
              "3     74\n",
              "4     57\n",
              "      ..\n",
              "90    60\n",
              "91    55\n",
              "92    68\n",
              "93    71\n",
              "94    73\n",
              "Name: humidity, Length: 95, dtype: int64"
            ]
          },
          "metadata": {
            "tags": []
          },
          "execution_count": 8
        }
      ]
    },
    {
      "cell_type": "code",
      "metadata": {
        "id": "LDOHjYjf185p",
        "colab_type": "code",
        "colab": {
          "base_uri": "https://localhost:8080/",
          "height": 228
        },
        "outputId": "fde4bd98-5432-4646-c8cd-2d1b4231ce24"
      },
      "source": [
        "(df['point'] == \"강릉\") | (df['point'] == \"거창\") #OR 조건"
      ],
      "execution_count": null,
      "outputs": [
        {
          "output_type": "execute_result",
          "data": {
            "text/plain": [
              "0      True\n",
              "1     False\n",
              "2     False\n",
              "3     False\n",
              "4      True\n",
              "      ...  \n",
              "90    False\n",
              "91    False\n",
              "92    False\n",
              "93    False\n",
              "94    False\n",
              "Name: point, Length: 95, dtype: bool"
            ]
          },
          "metadata": {
            "tags": []
          },
          "execution_count": 9
        }
      ]
    },
    {
      "cell_type": "code",
      "metadata": {
        "id": "zXzsUUV86JvG",
        "colab_type": "code",
        "colab": {
          "base_uri": "https://localhost:8080/",
          "height": 106
        },
        "outputId": "e0147af7-75e8-4f4e-f543-a0825c7c8f55"
      },
      "source": [
        "df[(df[\"point\"] == \"강릉\") | (df[\"point\"] == \"거창\")] #조건이 참인 라인만 리턴"
      ],
      "execution_count": null,
      "outputs": [
        {
          "output_type": "execute_result",
          "data": {
            "text/html": [
              "<div>\n",
              "<style scoped>\n",
              "    .dataframe tbody tr th:only-of-type {\n",
              "        vertical-align: middle;\n",
              "    }\n",
              "\n",
              "    .dataframe tbody tr th {\n",
              "        vertical-align: top;\n",
              "    }\n",
              "\n",
              "    .dataframe thead th {\n",
              "        text-align: right;\n",
              "    }\n",
              "</style>\n",
              "<table border=\"1\" class=\"dataframe\">\n",
              "  <thead>\n",
              "    <tr style=\"text-align: right;\">\n",
              "      <th></th>\n",
              "      <th>point</th>\n",
              "      <th>temperature</th>\n",
              "      <th>humidity</th>\n",
              "    </tr>\n",
              "  </thead>\n",
              "  <tbody>\n",
              "    <tr>\n",
              "      <th>0</th>\n",
              "      <td>강릉</td>\n",
              "      <td>23.0</td>\n",
              "      <td>67</td>\n",
              "    </tr>\n",
              "    <tr>\n",
              "      <th>4</th>\n",
              "      <td>거창</td>\n",
              "      <td>25.9</td>\n",
              "      <td>57</td>\n",
              "    </tr>\n",
              "  </tbody>\n",
              "</table>\n",
              "</div>"
            ],
            "text/plain": [
              "  point  temperature  humidity\n",
              "0    강릉         23.0        67\n",
              "4    거창         25.9        57"
            ]
          },
          "metadata": {
            "tags": []
          },
          "execution_count": 10
        }
      ]
    },
    {
      "cell_type": "code",
      "metadata": {
        "id": "u2CY9yCg6_jo",
        "colab_type": "code",
        "colab": {}
      },
      "source": [
        "df = pd.read_csv(\"/gdrive/My Drive/Colab Notebooks/weather.csv\", index_col = \"point\") #point 칸을 인덱스로 지정 - 인덱스: 주로 검색할 칸"
      ],
      "execution_count": null,
      "outputs": []
    },
    {
      "cell_type": "code",
      "metadata": {
        "id": "GrMD1qC-7fBQ",
        "colab_type": "code",
        "colab": {
          "base_uri": "https://localhost:8080/",
          "height": 431
        },
        "outputId": "60fac1dc-7211-4dc8-ad60-1f414f80546e"
      },
      "source": [
        "df "
      ],
      "execution_count": null,
      "outputs": [
        {
          "output_type": "execute_result",
          "data": {
            "text/html": [
              "<div>\n",
              "<style scoped>\n",
              "    .dataframe tbody tr th:only-of-type {\n",
              "        vertical-align: middle;\n",
              "    }\n",
              "\n",
              "    .dataframe tbody tr th {\n",
              "        vertical-align: top;\n",
              "    }\n",
              "\n",
              "    .dataframe thead th {\n",
              "        text-align: right;\n",
              "    }\n",
              "</style>\n",
              "<table border=\"1\" class=\"dataframe\">\n",
              "  <thead>\n",
              "    <tr style=\"text-align: right;\">\n",
              "      <th></th>\n",
              "      <th>temperature</th>\n",
              "      <th>humidity</th>\n",
              "    </tr>\n",
              "    <tr>\n",
              "      <th>point</th>\n",
              "      <th></th>\n",
              "      <th></th>\n",
              "    </tr>\n",
              "  </thead>\n",
              "  <tbody>\n",
              "    <tr>\n",
              "      <th>강릉</th>\n",
              "      <td>23.0</td>\n",
              "      <td>67</td>\n",
              "    </tr>\n",
              "    <tr>\n",
              "      <th>강진군</th>\n",
              "      <td>27.7</td>\n",
              "      <td>52</td>\n",
              "    </tr>\n",
              "    <tr>\n",
              "      <th>강화</th>\n",
              "      <td>21.8</td>\n",
              "      <td>83</td>\n",
              "    </tr>\n",
              "    <tr>\n",
              "      <th>거제</th>\n",
              "      <td>22.8</td>\n",
              "      <td>74</td>\n",
              "    </tr>\n",
              "    <tr>\n",
              "      <th>거창</th>\n",
              "      <td>25.9</td>\n",
              "      <td>57</td>\n",
              "    </tr>\n",
              "    <tr>\n",
              "      <th>...</th>\n",
              "      <td>...</td>\n",
              "      <td>...</td>\n",
              "    </tr>\n",
              "    <tr>\n",
              "      <th>합천</th>\n",
              "      <td>25.8</td>\n",
              "      <td>60</td>\n",
              "    </tr>\n",
              "    <tr>\n",
              "      <th>해남</th>\n",
              "      <td>26.9</td>\n",
              "      <td>55</td>\n",
              "    </tr>\n",
              "    <tr>\n",
              "      <th>홍성</th>\n",
              "      <td>23.7</td>\n",
              "      <td>68</td>\n",
              "    </tr>\n",
              "    <tr>\n",
              "      <th>홍천</th>\n",
              "      <td>21.7</td>\n",
              "      <td>71</td>\n",
              "    </tr>\n",
              "    <tr>\n",
              "      <th>흑산도</th>\n",
              "      <td>23.1</td>\n",
              "      <td>73</td>\n",
              "    </tr>\n",
              "  </tbody>\n",
              "</table>\n",
              "<p>95 rows × 2 columns</p>\n",
              "</div>"
            ],
            "text/plain": [
              "       temperature  humidity\n",
              "point                       \n",
              "강릉            23.0        67\n",
              "강진군           27.7        52\n",
              "강화            21.8        83\n",
              "거제            22.8        74\n",
              "거창            25.9        57\n",
              "...            ...       ...\n",
              "합천            25.8        60\n",
              "해남            26.9        55\n",
              "홍성            23.7        68\n",
              "홍천            21.7        71\n",
              "흑산도           23.1        73\n",
              "\n",
              "[95 rows x 2 columns]"
            ]
          },
          "metadata": {
            "tags": []
          },
          "execution_count": 12
        }
      ]
    },
    {
      "cell_type": "code",
      "metadata": {
        "id": "iexCTEVOTzkF",
        "colab_type": "code",
        "colab": {
          "base_uri": "https://localhost:8080/",
          "height": 284
        },
        "outputId": "df54b334-8d0d-4e98-bb7b-ded03682f12f"
      },
      "source": [
        "#특별시, 광역시만 모아서 DataFrame 객체로 만듦\n",
        "city_df = df.loc[['서울', '인천', '대구', '대전', '광주', '부산', '울산']]\n",
        "city_df"
      ],
      "execution_count": null,
      "outputs": [
        {
          "output_type": "execute_result",
          "data": {
            "text/html": [
              "<div>\n",
              "<style scoped>\n",
              "    .dataframe tbody tr th:only-of-type {\n",
              "        vertical-align: middle;\n",
              "    }\n",
              "\n",
              "    .dataframe tbody tr th {\n",
              "        vertical-align: top;\n",
              "    }\n",
              "\n",
              "    .dataframe thead th {\n",
              "        text-align: right;\n",
              "    }\n",
              "</style>\n",
              "<table border=\"1\" class=\"dataframe\">\n",
              "  <thead>\n",
              "    <tr style=\"text-align: right;\">\n",
              "      <th></th>\n",
              "      <th>temperature</th>\n",
              "      <th>humidity</th>\n",
              "    </tr>\n",
              "    <tr>\n",
              "      <th>point</th>\n",
              "      <th></th>\n",
              "      <th></th>\n",
              "    </tr>\n",
              "  </thead>\n",
              "  <tbody>\n",
              "    <tr>\n",
              "      <th>서울</th>\n",
              "      <td>23.4</td>\n",
              "      <td>69</td>\n",
              "    </tr>\n",
              "    <tr>\n",
              "      <th>인천</th>\n",
              "      <td>22.8</td>\n",
              "      <td>71</td>\n",
              "    </tr>\n",
              "    <tr>\n",
              "      <th>대구</th>\n",
              "      <td>25.4</td>\n",
              "      <td>53</td>\n",
              "    </tr>\n",
              "    <tr>\n",
              "      <th>대전</th>\n",
              "      <td>23.9</td>\n",
              "      <td>72</td>\n",
              "    </tr>\n",
              "    <tr>\n",
              "      <th>광주</th>\n",
              "      <td>26.4</td>\n",
              "      <td>54</td>\n",
              "    </tr>\n",
              "    <tr>\n",
              "      <th>부산</th>\n",
              "      <td>21.7</td>\n",
              "      <td>77</td>\n",
              "    </tr>\n",
              "    <tr>\n",
              "      <th>울산</th>\n",
              "      <td>23.6</td>\n",
              "      <td>74</td>\n",
              "    </tr>\n",
              "  </tbody>\n",
              "</table>\n",
              "</div>"
            ],
            "text/plain": [
              "       temperature  humidity\n",
              "point                       \n",
              "서울            23.4        69\n",
              "인천            22.8        71\n",
              "대구            25.4        53\n",
              "대전            23.9        72\n",
              "광주            26.4        54\n",
              "부산            21.7        77\n",
              "울산            23.6        74"
            ]
          },
          "metadata": {
            "tags": []
          },
          "execution_count": 13
        }
      ]
    },
    {
      "cell_type": "code",
      "metadata": {
        "id": "dkbstX6PUUQs",
        "colab_type": "code",
        "colab": {
          "base_uri": "https://localhost:8080/",
          "height": 136
        },
        "outputId": "2198ab67-ea0c-4c26-ffb7-5d947cc20973"
      },
      "source": [
        "df.loc[['서울', '부산']]"
      ],
      "execution_count": null,
      "outputs": [
        {
          "output_type": "execute_result",
          "data": {
            "text/html": [
              "<div>\n",
              "<style scoped>\n",
              "    .dataframe tbody tr th:only-of-type {\n",
              "        vertical-align: middle;\n",
              "    }\n",
              "\n",
              "    .dataframe tbody tr th {\n",
              "        vertical-align: top;\n",
              "    }\n",
              "\n",
              "    .dataframe thead th {\n",
              "        text-align: right;\n",
              "    }\n",
              "</style>\n",
              "<table border=\"1\" class=\"dataframe\">\n",
              "  <thead>\n",
              "    <tr style=\"text-align: right;\">\n",
              "      <th></th>\n",
              "      <th>temperature</th>\n",
              "      <th>humidity</th>\n",
              "    </tr>\n",
              "    <tr>\n",
              "      <th>point</th>\n",
              "      <th></th>\n",
              "      <th></th>\n",
              "    </tr>\n",
              "  </thead>\n",
              "  <tbody>\n",
              "    <tr>\n",
              "      <th>서울</th>\n",
              "      <td>23.4</td>\n",
              "      <td>69</td>\n",
              "    </tr>\n",
              "    <tr>\n",
              "      <th>부산</th>\n",
              "      <td>21.7</td>\n",
              "      <td>77</td>\n",
              "    </tr>\n",
              "  </tbody>\n",
              "</table>\n",
              "</div>"
            ],
            "text/plain": [
              "       temperature  humidity\n",
              "point                       \n",
              "서울            23.4        69\n",
              "부산            21.7        77"
            ]
          },
          "metadata": {
            "tags": []
          },
          "execution_count": 14
        }
      ]
    },
    {
      "cell_type": "code",
      "metadata": {
        "id": "S7ypTIQa-itE",
        "colab_type": "code",
        "colab": {
          "base_uri": "https://localhost:8080/",
          "height": 105
        },
        "outputId": "dedc3298-8c5a-4257-8e66-f6980d119865"
      },
      "source": [
        "%config InlineBackend.figure_format = 'retina' #그래프의 글자를 선명하게 출력하도록 설정 \n",
        "!apt -qq -y install fonts-nanum #나눔 글자체 설치"
      ],
      "execution_count": null,
      "outputs": [
        {
          "output_type": "stream",
          "text": [
            "fonts-nanum is already the newest version (20170925-1).\n",
            "The following package was automatically installed and is no longer required:\n",
            "  libnvidia-common-440\n",
            "Use 'apt autoremove' to remove it.\n",
            "0 upgraded, 0 newly installed, 0 to remove and 33 not upgraded.\n"
          ],
          "name": "stdout"
        }
      ]
    },
    {
      "cell_type": "code",
      "metadata": {
        "id": "_SDlb4pk-sgA",
        "colab_type": "code",
        "colab": {}
      },
      "source": [
        "import matplotlib.font_manager as fm\n",
        "\n",
        "fontpath = '/usr/share/fonts/truetype/nanum/NanumBarunGothic.ttf' #나눔고딕 글자체의 전체 경로 설정\n",
        "font = fm.FontProperties(fname=fontpath).get_name() #글자체의 경로 설정"
      ],
      "execution_count": null,
      "outputs": []
    },
    {
      "cell_type": "code",
      "metadata": {
        "id": "cFgxrIaO_yYp",
        "colab_type": "code",
        "colab": {
          "base_uri": "https://localhost:8080/",
          "height": 35
        },
        "outputId": "bffdd53a-1dc0-4aef-9f36-59fe5562f406"
      },
      "source": [
        "font"
      ],
      "execution_count": null,
      "outputs": [
        {
          "output_type": "execute_result",
          "data": {
            "application/vnd.google.colaboratory.intrinsic": {
              "type": "string"
            },
            "text/plain": [
              "'NanumBarunGothic'"
            ]
          },
          "metadata": {
            "tags": []
          },
          "execution_count": 37
        }
      ]
    },
    {
      "cell_type": "code",
      "metadata": {
        "id": "xO1wnACn-zDY",
        "colab_type": "code",
        "colab": {}
      },
      "source": [
        "plt.rc('font', family = 'NanumBarunGothic')  #폰트 이름 설정\n",
        "mpl.font_manager._rebuild() #폰트 업데이트"
      ],
      "execution_count": null,
      "outputs": []
    },
    {
      "cell_type": "code",
      "metadata": {
        "id": "zKe4iSm9-21q",
        "colab_type": "code",
        "colab": {
          "base_uri": "https://localhost:8080/",
          "height": 382
        },
        "outputId": "516706c1-acf1-445d-df77-c2f08b4771e4"
      },
      "source": [
        "#차트 종류, 제목, 차트 크기, 범례, 폰트 크기 설정\n",
        "ax = city_df.plot(kind = 'bar', title = '날씨', figsize = (15, 5), legend = True, fontsize = 12)\n",
        "ax.set_xlabel('도시', fontsize = 12) #x축 정보 표시\n",
        "ax.set_ylabel('기온/습도', fontsize = 12) #y축 정보 표시\n",
        "ax.legend(['기온', '습도'], fontsize = 10) #범례 지정"
      ],
      "execution_count": null,
      "outputs": [
        {
          "output_type": "execute_result",
          "data": {
            "text/plain": [
              "<matplotlib.legend.Legend at 0x7f78e14cc6a0>"
            ]
          },
          "metadata": {
            "tags": []
          },
          "execution_count": 43
        },
        {
          "output_type": "display_data",
          "data": {
            "image/png": "[encoded data removed]",
            "text/plain": [
              "<Figure size 1080x360 with 1 Axes>"
            ]
          },
          "metadata": {
            "tags": [],
            "image/png": {
              "width": 889,
              "height": 347
            },
            "needs_background": "light"
          }
        }
      ]
    }
  ]
}