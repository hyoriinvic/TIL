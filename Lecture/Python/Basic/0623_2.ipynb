{
  "nbformat": 4,
  "nbformat_minor": 0,
  "metadata": {
    "colab": {
      "name": "0623_2",
      "provenance": []
    },
    "kernelspec": {
      "name": "python3",
      "display_name": "Python 3"
    }
  },
  "cells": [
    {
      "cell_type": "markdown",
      "metadata": {
        "id": "ZuqI9OVr5_6a",
        "colab_type": "text"
      },
      "source": [
        "딕셔너리\n",
        ": 키를 기반으로 값을 저장함"
      ]
    },
    {
      "cell_type": "code",
      "metadata": {
        "id": "Ijo7knD258dv",
        "colab_type": "code",
        "colab": {
          "base_uri": "https://localhost:8080/",
          "height": 70
        },
        "outputId": "6fdec4b0-7d49-4b8b-cac9-3759f055897e"
      },
      "source": [
        "#딕셔너리 선언: {} 사용\n",
        "dict_a = {\n",
        "    \"name\" : \"어벤져스 엔드게임\",\n",
        "    \"type\" : \"히어로 무비\"\n",
        "}\n",
        "\n",
        "print(dict_a)\n",
        "print(dict_a[\"name\"]) #딕셔너리 사용: [] 사용\n",
        "print(dict_a[\"type\"])"
      ],
      "execution_count": null,
      "outputs": [
        {
          "output_type": "stream",
          "text": [
            "{'name': '어벤져스 엔드게임', 'type': '히어로 무비'}\n",
            "어벤져스 엔드게임\n",
            "히어로 무비\n"
          ],
          "name": "stdout"
        }
      ]
    },
    {
      "cell_type": "code",
      "metadata": {
        "id": "oRP6_Jgy6Yza",
        "colab_type": "code",
        "colab": {
          "base_uri": "https://localhost:8080/",
          "height": 34
        },
        "outputId": "48bef454-be16-49ec-aa8d-36f33b143827"
      },
      "source": [
        "dict_b = {\n",
        "    \"director\" : [\"안소니 루소\", \"조 루소\"],\n",
        "    \"cast\" : [\"아이언맨\", \"타노스\", \"토르\", \"닥터스트레인지\", \"헐크\"]\n",
        "}\n",
        "\n",
        "print(dict_b)"
      ],
      "execution_count": null,
      "outputs": [
        {
          "output_type": "stream",
          "text": [
            "{'director': ['안소니 루소', '조 루소'], 'cast': ['아이언맨', '타노스', '토르', '닥터스트레인지', '헐크']}\n"
          ],
          "name": "stdout"
        }
      ]
    },
    {
      "cell_type": "code",
      "metadata": {
        "id": "thFUfslEFL-j",
        "colab_type": "code",
        "colab": {
          "base_uri": "https://localhost:8080/",
          "height": 283
        },
        "outputId": "a696b47e-377f-4bd4-fbba-c9ea2b5a3a22"
      },
      "source": [
        "phone_dic = {\n",
        "    \"고소영\" : [\"010-230-2222\", \"010-112-4567\"],\n",
        "    \"김태희\" : [\"010-456-7892\", \"010-3491-230\", \"02-248-1196\"],\n",
        "    \"비\" : [\"010-231-7892\", \"02-248-1196\"],\n",
        "    \"주소록 종류\" : \"친한 연예인 주소록\"\n",
        "}\n",
        "\n",
        "print(phone_dic[\"김태희\"])\n",
        "print(phone_dic[\"김태희\"][0])\n",
        "print(phone_dic[\"김태희\"][1])\n",
        "print(phone_dic[\"김태희\"][2])\n",
        "print()\n",
        "\n",
        "phone_dic[\"주소록 종류\"] = \"안 친함\" #존재하는 키는 값이 수정됨\n",
        "print(phone_dic[\"주소록 종류\"])\n",
        "print()\n",
        "\n",
        "phone_dic[\"박보검\"] = [\"010-999-2030\", \"02-457-1286\"] #없는 키일 경우 추가됨\n",
        "print(phone_dic) \n",
        "\n",
        "#키 삭제\n",
        "del phone_dic[\"비\"]\n",
        "print(phone_dic)\n",
        "print()\n",
        "\n",
        "#키 값이 존재하는지 확인\n",
        "print(\"장동건\" in phone_dic)\n",
        "print(\"고소영\" in phone_dic)\n",
        "print(phone_dic.get(\"장동건\")) #키 값이 없으므로 None 출력\n",
        "print(phone_dic.get(\"고소영\")) #키 값이 있으므로 value 출력"
      ],
      "execution_count": null,
      "outputs": [
        {
          "output_type": "stream",
          "text": [
            "['010-456-7892', '010-3491-230', '02-248-1196']\n",
            "010-456-7892\n",
            "010-3491-230\n",
            "02-248-1196\n",
            "\n",
            "안 친함\n",
            "\n",
            "{'고소영': ['010-230-2222', '010-112-4567'], '김태희': ['010-456-7892', '010-3491-230', '02-248-1196'], '비': ['010-231-7892', '02-248-1196'], '주소록 종류': '안 친함', '박보검': ['010-999-2030', '02-457-1286']}\n",
            "{'고소영': ['010-230-2222', '010-112-4567'], '김태희': ['010-456-7892', '010-3491-230', '02-248-1196'], '주소록 종류': '안 친함', '박보검': ['010-999-2030', '02-457-1286']}\n",
            "\n",
            "False\n",
            "True\n",
            "None\n",
            "['010-230-2222', '010-112-4567']\n"
          ],
          "name": "stdout"
        }
      ]
    },
    {
      "cell_type": "code",
      "metadata": {
        "id": "5XanBwQ-KcUs",
        "colab_type": "code",
        "colab": {
          "base_uri": "https://localhost:8080/",
          "height": 228
        },
        "outputId": "1e7d0e87-631c-4a40-c88c-3f738af8829d"
      },
      "source": [
        "for key in phone_dic:\n",
        "  print(\"key = \", key)\n",
        "  print(\"phone_dic[\", key,\"]= \", phone_dic[key])\n",
        "  print()"
      ],
      "execution_count": null,
      "outputs": [
        {
          "output_type": "stream",
          "text": [
            "key =  고소영\n",
            "phone_dic[ 고소영 ]=  ['010-230-2222', '010-112-4567']\n",
            "\n",
            "key =  김태희\n",
            "phone_dic[ 김태희 ]=  ['010-456-7892', '010-3491-230', '02-248-1196']\n",
            "\n",
            "key =  주소록 종류\n",
            "phone_dic[ 주소록 종류 ]=  안 친함\n",
            "\n",
            "key =  박보검\n",
            "phone_dic[ 박보검 ]=  ['010-999-2030', '02-457-1286']\n",
            "\n"
          ],
          "name": "stdout"
        }
      ]
    },
    {
      "cell_type": "code",
      "metadata": {
        "id": "jvNzeDJV6xo_",
        "colab_type": "code",
        "colab": {
          "base_uri": "https://localhost:8080/",
          "height": 230
        },
        "outputId": "64b840ba-9c29-4f6c-f122-1e0c93b08161"
      },
      "source": [
        "dictionary = {\n",
        "    \"name\" : \"7D 건조 망고\",\n",
        "    \"type\" : \"당절임\",\n",
        "    \"ingredient\" : [\"망고\", \"설탕\", \"메타중아황산나트륨\", \"치자황색소\"],\n",
        "    \"origin\" : \"필리핀\"\n",
        "}\n",
        "\n",
        "print(\"name: \", dictionary[\"name\"])\n",
        "print(\"type: \", dictionary[\"type\"])\n",
        "print(\"ingredient: \", dictionary[\"ingredient\"])\n",
        "print(\"origin: \", dictionary[\"origin\"])\n",
        "print()\n",
        "\n",
        "#딕셔너리 내 값 변경\n",
        "dictionary[\"name\"] = \"8D 건조 망고\"\n",
        "print(\"name: \", dictionary[\"name\"])\n",
        "\n",
        "#리스트 안 특정 값을 출력하는 경우\n",
        "print(dictionary[\"ingredient\"][1]) #리스트와 동일하게 접근\n",
        "print()\n",
        "\n",
        "#딕셔너리에 새로운 값 추가\n",
        "dictionary[\"price\"] = 5000 #키를 기반으로 값 입력\n",
        "print(dictionary)\n",
        "print()\n",
        "\n",
        "#딕셔너리 요소 제거 del\n",
        "del dictionary[\"ingredient\"]\n",
        "print(dictionary)"
      ],
      "execution_count": null,
      "outputs": [
        {
          "output_type": "stream",
          "text": [
            "name:  7D 건조 망고\n",
            "type:  당절임\n",
            "ingredient:  ['망고', '설탕', '메타중아황산나트륨', '치자황색소']\n",
            "origin:  필리핀\n",
            "\n",
            "name:  8D 건조 망고\n",
            "설탕\n",
            "\n",
            "{'name': '8D 건조 망고', 'type': '당절임', 'ingredient': ['망고', '설탕', '메타중아황산나트륨', '치자황색소'], 'origin': '필리핀', 'price': 5000}\n",
            "\n",
            "{'name': '8D 건조 망고', 'type': '당절임', 'origin': '필리핀', 'price': 5000}\n"
          ],
          "name": "stdout"
        }
      ]
    },
    {
      "cell_type": "code",
      "metadata": {
        "id": "LqQxp7_l8LNz",
        "colab_type": "code",
        "colab": {}
      },
      "source": [
        "#in 키워드: 사용자로부터 접근하고자 하는 키 입력받은 후 존재하는 경우에만 접근하여 값을 출력\n",
        "\n",
        "dictionary = {\n",
        "    \"name\" : \"7D 건조 망고\",\n",
        "    \"type\" : \"당절임\",\n",
        "    \"ingredient\" : [\"망고\", \"설탕\", \"메타중아황산나트륨\", \"치자황색소\"],\n",
        "    \"origin\" : \"필리핀\"\n",
        "}\n",
        "\n",
        "key = input(\"접근하고자 하는 키: \")\n",
        "\n",
        "if key in dictionary:\n",
        "  print(dictionary[key])\n",
        "else:\n",
        "  print(\"존재하지 않는 키에 접근하고 있습니다.\")"
      ],
      "execution_count": null,
      "outputs": []
    },
    {
      "cell_type": "code",
      "metadata": {
        "id": "wdcfWSGA_0_r",
        "colab_type": "code",
        "colab": {
          "base_uri": "https://localhost:8080/",
          "height": 105
        },
        "outputId": "dd1adca4-08f5-43b7-8cec-4d531dfa9ac8"
      },
      "source": [
        "#get() 딕셔너리의 키로 값을 추출, 존재하지 않는 키에 접근할 경우 None 출력\n",
        "\n",
        "dictionary = {\n",
        "    \"name\" : \"7D 건조 망고\",\n",
        "    \"type\" : \"당절임\",\n",
        "    \"ingredient\" : [\"망고\", \"설탕\", \"메타중아황산나트륨\", \"치자황색소\"],\n",
        "    \"origin\" : \"필리핀\"\n",
        "}\n",
        "\n",
        "value = dictionary.get(\"존재하지 않는 키\")\n",
        "print(\"값: \", value)\n",
        "\n",
        "if value == None:\n",
        "  print(\"존재하지 않는 키에 접근했습니다.\")\n",
        "\n",
        "print()\n",
        "\n",
        "print(dictionary.get(\"name\"))\n",
        "print(dictionary.get(\"ingredient\"))"
      ],
      "execution_count": null,
      "outputs": [
        {
          "output_type": "stream",
          "text": [
            "값:  None\n",
            "존재하지 않는 키에 접근했습니다.\n",
            "\n",
            "7D 건조 망고\n",
            "['망고', '설탕', '메타중아황산나트륨', '치자황색소']\n"
          ],
          "name": "stdout"
        }
      ]
    },
    {
      "cell_type": "markdown",
      "metadata": {
        "id": "aqV388_7Au9T",
        "colab_type": "text"
      },
      "source": [
        "for 반복문과 딕셔너리"
      ]
    },
    {
      "cell_type": "code",
      "metadata": {
        "id": "dyobelYwASN6",
        "colab_type": "code",
        "colab": {
          "base_uri": "https://localhost:8080/",
          "height": 87
        },
        "outputId": "8daad1ec-7619-4fe8-f0ee-c6604f36735f"
      },
      "source": [
        "dictionary = {\n",
        "    \"name\" : \"7D 건조 망고\",\n",
        "    \"type\" : \"당절임\",\n",
        "    \"ingredient\" : [\"망고\", \"설탕\", \"메타중아황산나트륨\", \"치자황색소\"],\n",
        "    \"origin\" : \"필리핀\"\n",
        "}\n",
        "\n",
        "for key in dictionary:\n",
        "  print(key, \": \", dictionary[key])"
      ],
      "execution_count": null,
      "outputs": [
        {
          "output_type": "stream",
          "text": [
            "name :  7D 건조 망고\n",
            "type :  당절임\n",
            "ingredient :  ['망고', '설탕', '메타중아황산나트륨', '치자황색소']\n",
            "origin :  필리핀\n"
          ],
          "name": "stdout"
        }
      ]
    },
    {
      "cell_type": "markdown",
      "metadata": {
        "id": "uE_2FcvWUxC3",
        "colab_type": "text"
      },
      "source": [
        "\n",
        "\n",
        "---\n",
        "\n"
      ]
    }
  ]
}