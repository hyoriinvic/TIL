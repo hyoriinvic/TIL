{
  "nbformat": 4,
  "nbformat_minor": 0,
  "metadata": {
    "colab": {
      "name": "0624_2",
      "provenance": []
    },
    "kernelspec": {
      "name": "python3",
      "display_name": "Python 3"
    }
  },
  "cells": [
    {
      "cell_type": "markdown",
      "metadata": {
        "id": "YgRUWciZkb5s",
        "colab_type": "text"
      },
      "source": [
        "# 범위 함수 range()"
      ]
    },
    {
      "cell_type": "code",
      "metadata": {
        "id": "N6CHhlZpEAQF",
        "colab_type": "code",
        "colab": {
          "base_uri": "https://localhost:8080/",
          "height": 144
        },
        "outputId": "c773752f-515d-4dbb-cdd1-2b78ac002e16"
      },
      "source": [
        "#range(): 특정 횟수만큼 반복해서 돌리고 싶을 때, for 반복문과 조합하여 사용\n",
        "#range(a): 0 이상 a 미만의 숫자들을 저장한 리스트\n",
        "\n",
        "print(list(range(10))) #0부터 9까지의 정수\n",
        "print(list(range(1, 5))) #1부터 5까지의 정수\n",
        "print(list(range(1, 10, 2))) #1부터 9까지의 정수, 2 씩 차이나도록\n",
        "print()\n",
        "\n",
        "#매개변수 내부에 수식을 사용하는 경우\n",
        "\n",
        "#코드의 특정 부분을 강조할 때\n",
        "a = range(0, 10 + 1)\n",
        "print(list(a))\n",
        "print()\n",
        "\n",
        "#정수 나누기 연산자의 사용\n",
        "n = 10\n",
        "b = range(0, n // 2) \n",
        "print(list(b))\n",
        "#range(0, n/2)는 오류 발생 : 파이썬에서 나누기의 결과값은 항상 실수\n",
        "#range(0, int(n/2))는 잘 사용하지 않음"
      ],
      "execution_count": null,
      "outputs": [
        {
          "output_type": "stream",
          "text": [
            "[0, 1, 2, 3, 4, 5, 6, 7, 8, 9]\n",
            "[1, 2, 3, 4]\n",
            "[1, 3, 5, 7, 9]\n",
            "\n",
            "[0, 1, 2, 3, 4, 5, 6, 7, 8, 9, 10]\n",
            "\n",
            "[0, 1, 2, 3, 4]\n"
          ],
          "name": "stdout"
        }
      ]
    },
    {
      "cell_type": "code",
      "metadata": {
        "id": "scsdaFXzjDzf",
        "colab_type": "code",
        "colab": {
          "base_uri": "https://localhost:8080/",
          "height": 298
        },
        "outputId": "98544262-2c95-402d-92eb-6b30e4f878ac"
      },
      "source": [
        "#for 숫자 변수 in 범위:\n",
        "for i in range(5):\n",
        "  print(str(i) + \" = 반복 변수\")\n",
        "print()\n",
        "\n",
        "for i in range(5, 10):\n",
        "  print(str(i) + \" = 반복 변수\")\n",
        "print()\n",
        "\n",
        "for i in range(0, 10, 3):\n",
        "  print(str(i) + \" = 반복 변수\")"
      ],
      "execution_count": null,
      "outputs": [
        {
          "output_type": "stream",
          "text": [
            "0 = 반복 변수\n",
            "1 = 반복 변수\n",
            "2 = 반복 변수\n",
            "3 = 반복 변수\n",
            "4 = 반복 변수\n",
            "\n",
            "5 = 반복 변수\n",
            "6 = 반복 변수\n",
            "7 = 반복 변수\n",
            "8 = 반복 변수\n",
            "9 = 반복 변수\n",
            "\n",
            "0 = 반복 변수\n",
            "3 = 반복 변수\n",
            "6 = 반복 변수\n",
            "9 = 반복 변수\n"
          ],
          "name": "stdout"
        }
      ]
    },
    {
      "cell_type": "code",
      "metadata": {
        "id": "oP1Na_npkTSp",
        "colab_type": "code",
        "colab": {
          "base_uri": "https://localhost:8080/",
          "height": 107
        },
        "outputId": "223858f8-11d2-44c1-ae81-dfe47e4cac42"
      },
      "source": [
        "#몇 번 반복인지 알아야 하는 경우\n",
        "array = [273, 32, 103, 57, 52]\n",
        "\n",
        "for i in range(len(array)):\n",
        "  print(\"{}번째 반복: {}\".format(i, array[i]))"
      ],
      "execution_count": null,
      "outputs": [
        {
          "output_type": "stream",
          "text": [
            "0번째 반복: 273\n",
            "1번째 반복: 32\n",
            "2번째 반복: 103\n",
            "3번째 반복: 57\n",
            "4번째 반복: 52\n"
          ],
          "name": "stdout"
        }
      ]
    },
    {
      "cell_type": "code",
      "metadata": {
        "id": "Kd57OED7kxtG",
        "colab_type": "code",
        "colab": {
          "base_uri": "https://localhost:8080/",
          "height": 228
        },
        "outputId": "6643db39-8e5d-44f4-918d-358080a77fb0"
      },
      "source": [
        "#역반복문\n",
        "\n",
        "#range()의 매개변수를 세 개 사용하는 방법\n",
        "for i in range(4, 0 - 1, -1):\n",
        "  print(\"현재 반복 변수: {}\".format(i))\n",
        "print()\n",
        "\n",
        "#reversed() 사용\n",
        "print(list(reversed(range(5))))\n",
        "for i in reversed(range(5)):\n",
        "  print(\"현재 반복 변수: {}\".format(i))"
      ],
      "execution_count": null,
      "outputs": [
        {
          "output_type": "stream",
          "text": [
            "현재 반복 변수: 4\n",
            "현재 반복 변수: 3\n",
            "현재 반복 변수: 2\n",
            "현재 반복 변수: 1\n",
            "현재 반복 변수: 0\n",
            "\n",
            "[4, 3, 2, 1, 0]\n",
            "현재 반복 변수: 4\n",
            "현재 반복 변수: 3\n",
            "현재 반복 변수: 2\n",
            "현재 반복 변수: 1\n",
            "현재 반복 변수: 0\n"
          ],
          "name": "stdout"
        }
      ]
    },
    {
      "cell_type": "markdown",
      "metadata": {
        "id": "Gt387_-hlRh6",
        "colab_type": "text"
      },
      "source": [
        "# while 반복문"
      ]
    },
    {
      "cell_type": "code",
      "metadata": {
        "id": "3YWATwH0k_1k",
        "colab_type": "code",
        "colab": {
          "base_uri": "https://localhost:8080/",
          "height": 35
        },
        "outputId": "34e16810-116f-4d2f-a639-3f03e9e1edb6"
      },
      "source": [
        "#while 반복문의 사용\n",
        "while True: #불 표현식이 True 일 때,\n",
        "  #\".\"을 출력\n",
        "  #기본적으로 end가 \"\\n\"이라 줄바꿈이 일어나지만, 빈 문자열로 바꿔 줄바꿈이 없도록 함\n",
        "  print(\".\", end = \"\")\n",
        "  break #무한루프를 막기 위해 break 사용\n",
        "\n",
        "while False: #불 표현식이 False 이기 때문에,\n",
        "  print(\".\") #한번도 실행되지 않음"
      ],
      "execution_count": null,
      "outputs": [
        {
          "output_type": "stream",
          "text": [
            "."
          ],
          "name": "stdout"
        }
      ]
    },
    {
      "cell_type": "code",
      "metadata": {
        "id": "vCa6RrXIluTq",
        "colab_type": "code",
        "colab": {
          "base_uri": "https://localhost:8080/",
          "height": 198
        },
        "outputId": "8aaaab65-5287-4937-f8b9-4502a205801f"
      },
      "source": [
        "i = 0\n",
        "while i < 10:\n",
        "  print(\"{}번째 반복입니다.\".format(i))\n",
        "  i += 1 "
      ],
      "execution_count": null,
      "outputs": [
        {
          "output_type": "stream",
          "text": [
            "0번째 반복입니다.\n",
            "1번째 반복입니다.\n",
            "2번째 반복입니다.\n",
            "3번째 반복입니다.\n",
            "4번째 반복입니다.\n",
            "5번째 반복입니다.\n",
            "6번째 반복입니다.\n",
            "7번째 반복입니다.\n",
            "8번째 반복입니다.\n",
            "9번째 반복입니다.\n"
          ],
          "name": "stdout"
        }
      ]
    },
    {
      "cell_type": "code",
      "metadata": {
        "id": "1CQQVbZzl7w9",
        "colab_type": "code",
        "colab": {
          "base_uri": "https://localhost:8080/",
          "height": 158
        },
        "outputId": "1c4dfcb2-4a2f-48f5-9d62-89db9c782afd"
      },
      "source": [
        "list_test = [1, 2, 1, 2]\n",
        "value = 2\n",
        "\n",
        "for i in list_test:\n",
        "  print(\"i = \", i)\n",
        "print()\n",
        "\n",
        "#while i in list_test: <- 이렇게 쓰면 무한반복됨 \n",
        "#while 반복문에서 in은 포함 여부를 의미함\n",
        "\n",
        "while value in list_test:\n",
        "  print(\"처음의 list_test: \", list_test)\n",
        "  list_test.remove(value)\n",
        "\n",
        "print(list_test)"
      ],
      "execution_count": null,
      "outputs": [
        {
          "output_type": "stream",
          "text": [
            "i =  1\n",
            "i =  2\n",
            "i =  1\n",
            "i =  2\n",
            "\n",
            "처음의 list_test:  [1, 2, 1, 2]\n",
            "처음의 list_test:  [1, 1, 2]\n",
            "[1, 1]\n"
          ],
          "name": "stdout"
        }
      ]
    },
    {
      "cell_type": "code",
      "metadata": {
        "id": "JFL3hC4tmJB3",
        "colab_type": "code",
        "colab": {
          "base_uri": "https://localhost:8080/",
          "height": 34
        },
        "outputId": "8ac33ee6-60a3-4f6c-c755-0bc879b528fe"
      },
      "source": [
        "#유닉스 타임 구하기\n",
        "#유닉스 타임: 세계 표준시(UTC)\n",
        "#1970년 1월 1일 00시:00분:00초를 기준으로 지금 현재까지 흐른 모든 시간을 초(sec) 단위로 표현\n",
        "\n",
        "import time #시간과 관련된 기능\n",
        "\n",
        "time.time() "
      ],
      "execution_count": null,
      "outputs": [
        {
          "output_type": "execute_result",
          "data": {
            "text/plain": [
              "1592976623.533643"
            ]
          },
          "metadata": {
            "tags": []
          },
          "execution_count": 7
        }
      ]
    },
    {
      "cell_type": "code",
      "metadata": {
        "id": "MDHZwCdxmP23",
        "colab_type": "code",
        "colab": {
          "base_uri": "https://localhost:8080/",
          "height": 35
        },
        "outputId": "f9d439c1-6fa4-41b6-a2dc-52a39a8d3ec5"
      },
      "source": [
        "import time\n",
        "number = 0\n",
        "\n",
        "target_tick = time.time() + 5 #현재 시각 + 5초 의미\n",
        "while time.time() < target_tick: #5초 동안 반복\n",
        "  number += 1\n",
        "\n",
        "print(\"5초 ehddks {}번 반복했습니다.\".format(number))"
      ],
      "execution_count": null,
      "outputs": [
        {
          "output_type": "stream",
          "text": [
            "5초 ehddks 27130981번 반복했습니다.\n"
          ],
          "name": "stdout"
        }
      ]
    },
    {
      "cell_type": "code",
      "metadata": {
        "id": "nklkMb5I2KYv",
        "colab_type": "code",
        "colab": {
          "base_uri": "https://localhost:8080/",
          "height": 914
        },
        "outputId": "eb703256-4ba6-4b8c-c8ae-9dfab6851b0a"
      },
      "source": [
        "import time\n",
        "number = 0\n",
        "\n",
        "target_tick = time.time() + 100 #현재 시각 + 100초 의미\n",
        "while time.time() < target_tick: #100초 동안 반복\n",
        "  print(\"원래 number =  \", number)\n",
        "  number += 1\n",
        "  print(\"1 증가시킨 number = \", number)\n",
        "  #파이썬을 n초 동안 멈춤\n",
        "  #time.sleep(파이썬이 멈추는 시간: 단위 1초)\n",
        "  print(\"멈추기 시작\")\n",
        "  time.sleep(10) #10초 멈춤\n",
        "  print(\"멈추기 종료\")\n",
        "  print()\n",
        "\n",
        "print(\"5초동안 {}번 반복했습니다.\".format(number))"
      ],
      "execution_count": null,
      "outputs": [
        {
          "output_type": "stream",
          "text": [
            "원래 number =   0\n",
            "1 증가시킨 number =  1\n",
            "멈추기 시작\n",
            "멈추기 종료\n",
            "\n",
            "원래 number =   1\n",
            "1 증가시킨 number =  2\n",
            "멈추기 시작\n",
            "멈추기 종료\n",
            "\n",
            "원래 number =   2\n",
            "1 증가시킨 number =  3\n",
            "멈추기 시작\n",
            "멈추기 종료\n",
            "\n",
            "원래 number =   3\n",
            "1 증가시킨 number =  4\n",
            "멈추기 시작\n",
            "멈추기 종료\n",
            "\n",
            "원래 number =   4\n",
            "1 증가시킨 number =  5\n",
            "멈추기 시작\n",
            "멈추기 종료\n",
            "\n",
            "원래 number =   5\n",
            "1 증가시킨 number =  6\n",
            "멈추기 시작\n",
            "멈추기 종료\n",
            "\n",
            "원래 number =   6\n",
            "1 증가시킨 number =  7\n",
            "멈추기 시작\n",
            "멈추기 종료\n",
            "\n",
            "원래 number =   7\n",
            "1 증가시킨 number =  8\n",
            "멈추기 시작\n",
            "멈추기 종료\n",
            "\n",
            "원래 number =   8\n",
            "1 증가시킨 number =  9\n",
            "멈추기 시작\n",
            "멈추기 종료\n",
            "\n",
            "원래 number =   9\n",
            "1 증가시킨 number =  10\n",
            "멈추기 시작\n",
            "멈추기 종료\n",
            "\n",
            "5초동안 10번 반복했습니다.\n"
          ],
          "name": "stdout"
        }
      ]
    },
    {
      "cell_type": "code",
      "metadata": {
        "id": "HHz2gCBim3Cg",
        "colab_type": "code",
        "colab": {
          "base_uri": "https://localhost:8080/",
          "height": 246
        },
        "outputId": "082c7ed8-32be-411f-9084-64f084f0a611"
      },
      "source": [
        "#break: 반복문을 벗어날 때 사용하는 키워드 \n",
        "\n",
        "#for, while 반복문 안에서, 조건문과 함께 사용 \n",
        "#조건이 참일 때, 반복문을 종료\n",
        "\n",
        "i = 0\n",
        "while True:\n",
        "  print(\"{}번째 반복문입니다.\".format(i))\n",
        "  i += 1\n",
        "\n",
        "  input_text = input(\"종료하시겠습니까? (y): \")\n",
        "  print()\n",
        "  \n",
        "  if input_text in [\"y\", \"Y\"]:\n",
        "    print(\"반복을 종료합니다.\")\n",
        "    break"
      ],
      "execution_count": null,
      "outputs": [
        {
          "output_type": "stream",
          "text": [
            "0번째 반복문입니다.\n",
            "종료하시겠습니까? (y): n\n",
            "\n",
            "1번째 반복문입니다.\n",
            "종료하시겠습니까? (y): n\n",
            "\n",
            "2번째 반복문입니다.\n",
            "종료하시겠습니까? (y): n\n",
            "\n",
            "3번째 반복문입니다.\n",
            "종료하시겠습니까? (y): y\n",
            "\n",
            "반복을 종료합니다.\n"
          ],
          "name": "stdout"
        }
      ]
    },
    {
      "cell_type": "code",
      "metadata": {
        "id": "WaaJeSEqnTeO",
        "colab_type": "code",
        "colab": {
          "base_uri": "https://localhost:8080/",
          "height": 140
        },
        "outputId": "c261ff53-2d56-483e-d0e0-3290cee893a6"
      },
      "source": [
        "#continue: 현재 반복을 생략하고 다음 반복으로 넘어감\n",
        "#조건문과 함께 사용\n",
        "#조건이 참일 때, 다음 요소로 넘어감\n",
        "\n",
        "numbers = [5, 15, 6, 20, 7, 25]\n",
        "\n",
        "for number in numbers: #10보다 큰 숫자만 출력\n",
        "  if number < 10:\n",
        "    continue\n",
        "  print(number)\n",
        "print()\n",
        "\n",
        "for number in numbers: #10보다 작은 숫자만 출력\n",
        "  if number > 10:\n",
        "    continue\n",
        "  print(number)"
      ],
      "execution_count": null,
      "outputs": [
        {
          "output_type": "stream",
          "text": [
            "15\n",
            "20\n",
            "25\n",
            "\n",
            "5\n",
            "6\n",
            "7\n"
          ],
          "name": "stdout"
        }
      ]
    },
    {
      "cell_type": "code",
      "metadata": {
        "id": "OmOdiZGk7dnW",
        "colab_type": "code",
        "colab": {}
      },
      "source": [
        "range(5)\n",
        "range(4, 6)\n",
        "range(7, 0, -1)\n",
        "range(3, 8)\n",
        "range(3, 10, 3)"
      ],
      "execution_count": null,
      "outputs": []
    },
    {
      "cell_type": "code",
      "metadata": {
        "id": "N_YVByZmnokn",
        "colab_type": "code",
        "colab": {
          "base_uri": "https://localhost:8080/",
          "height": 35
        },
        "outputId": "97474959-b88e-4168-c0d3-4302855db3ec"
      },
      "source": [
        "key_list = [\"name\", \"hp\", \"mp\", \"level\"]\n",
        "value_list = [\"기사\", 200, 30, 5]\n",
        "character = {}\n",
        "\n",
        "i = 0\n",
        "while i < 4:\n",
        "  character[key_list[i]] = value_list[i]\n",
        "  i += 1\n",
        "\n",
        "print(character)"
      ],
      "execution_count": null,
      "outputs": [
        {
          "output_type": "stream",
          "text": [
            "{'name': '기사', 'hp': 200, 'mp': 30, 'level': 5}\n"
          ],
          "name": "stdout"
        }
      ]
    },
    {
      "cell_type": "code",
      "metadata": {
        "id": "DrTW3FETP1Hi",
        "colab_type": "code",
        "colab": {
          "base_uri": "https://localhost:8080/",
          "height": 34
        },
        "outputId": "3113c7c6-5b4b-4111-8579-b1c38ed2ee17"
      },
      "source": [
        "key_list = [\"name\", \"hp\", \"mp\", \"level\"]\n",
        "value_list = [\"기사\", 200, 30, 5]\n",
        "character = {}\n",
        "\n",
        "for i in range(len(key_list)):\n",
        "  character[key_list[i]] = value_list[i]\n",
        "\n",
        "print(character)"
      ],
      "execution_count": null,
      "outputs": [
        {
          "output_type": "stream",
          "text": [
            "{'name': '기사', 'hp': 200, 'mp': 30, 'level': 5}\n"
          ],
          "name": "stdout"
        }
      ]
    },
    {
      "cell_type": "code",
      "metadata": {
        "id": "YFrmeinioV3S",
        "colab_type": "code",
        "colab": {
          "base_uri": "https://localhost:8080/",
          "height": 52
        },
        "outputId": "405631fd-cc88-4204-c134-5a89761f1963"
      },
      "source": [
        "limit = 10000\n",
        "i = 1\n",
        "sum_value = 0\n",
        "\n",
        "while True:\n",
        "  sum_value += i\n",
        "\n",
        "  if sum_value > limit:\n",
        "    print(\"반복을 종료합니다.\")\n",
        "    break\n",
        "\n",
        "  i += 1\n",
        "\n",
        "print(\"{}를 더할 때 {}을 넘으며, 그때의 값은 {}입니다.\".format(i, limit, sum_value))"
      ],
      "execution_count": null,
      "outputs": [
        {
          "output_type": "stream",
          "text": [
            "반복을 종료합니다.\n",
            "141를 더할 때 10000을 넘으며, 그때의 값은 10011입니다.\n"
          ],
          "name": "stdout"
        }
      ]
    },
    {
      "cell_type": "code",
      "metadata": {
        "id": "WU0qZqX5cOer",
        "colab_type": "code",
        "colab": {
          "base_uri": "https://localhost:8080/",
          "height": 1000
        },
        "outputId": "4a84a6d7-25bf-42aa-9038-ad078e66ffdd"
      },
      "source": [
        "limit = 100\n",
        "i = 1\n",
        "sum_value = 0\n",
        "\n",
        "while True:\n",
        "  print(\"처음 i: \", i)\n",
        "  sum_value += i\n",
        "  print(\"지금 까지의 합: \", sum_value)\n",
        "\n",
        "  if sum_value > limit:\n",
        "    print(\"반복을 종료합니다.\")\n",
        "    break\n",
        "\n",
        "  i += 1\n",
        "  print(\"나중 i: \", i)\n",
        "  print()\n",
        "\n",
        "print(\"{}를 더할 때 {}을 넘으며, 그때의 값은 {}입니다.\".format(i, limit, sum_value))"
      ],
      "execution_count": null,
      "outputs": [
        {
          "output_type": "stream",
          "text": [
            "처음 i:  1\n",
            "지금 까지의 합:  1\n",
            "나중 i:  2\n",
            "\n",
            "처음 i:  2\n",
            "지금 까지의 합:  3\n",
            "나중 i:  3\n",
            "\n",
            "처음 i:  3\n",
            "지금 까지의 합:  6\n",
            "나중 i:  4\n",
            "\n",
            "처음 i:  4\n",
            "지금 까지의 합:  10\n",
            "나중 i:  5\n",
            "\n",
            "처음 i:  5\n",
            "지금 까지의 합:  15\n",
            "나중 i:  6\n",
            "\n",
            "처음 i:  6\n",
            "지금 까지의 합:  21\n",
            "나중 i:  7\n",
            "\n",
            "처음 i:  7\n",
            "지금 까지의 합:  28\n",
            "나중 i:  8\n",
            "\n",
            "처음 i:  8\n",
            "지금 까지의 합:  36\n",
            "나중 i:  9\n",
            "\n",
            "처음 i:  9\n",
            "지금 까지의 합:  45\n",
            "나중 i:  10\n",
            "\n",
            "처음 i:  10\n",
            "지금 까지의 합:  55\n",
            "나중 i:  11\n",
            "\n",
            "처음 i:  11\n",
            "지금 까지의 합:  66\n",
            "나중 i:  12\n",
            "\n",
            "처음 i:  12\n",
            "지금 까지의 합:  78\n",
            "나중 i:  13\n",
            "\n",
            "처음 i:  13\n",
            "지금 까지의 합:  91\n",
            "나중 i:  14\n",
            "\n",
            "처음 i:  14\n",
            "지금 까지의 합:  105\n",
            "반복을 종료합니다.\n",
            "14를 더할 때 100을 넘으며, 그때의 값은 105입니다.\n"
          ],
          "name": "stdout"
        }
      ]
    },
    {
      "cell_type": "code",
      "metadata": {
        "id": "vOAPk0s0bn-9",
        "colab_type": "code",
        "colab": {
          "base_uri": "https://localhost:8080/",
          "height": 35
        },
        "outputId": "106a8442-2686-4cad-e5e6-5c6acc09155d"
      },
      "source": [
        "#잘못된 코드 ?????\n",
        "\n",
        "limit = 10000\n",
        "i = 1\n",
        "sum_value = 0\n",
        "\n",
        "while sum_value < limit:\n",
        "  sum_value += i\n",
        "  i += 1\n",
        "\n",
        "print(\"{}를 더할 때 {}을 넘으며, 그때의 값은 {}입니다.\".format(i, limit, sum_value))"
      ],
      "execution_count": null,
      "outputs": [
        {
          "output_type": "stream",
          "text": [
            "142를 더할 때 10000을 넘으며, 그때의 값은 10011입니다.\n"
          ],
          "name": "stdout"
        }
      ]
    },
    {
      "cell_type": "code",
      "metadata": {
        "id": "NwhaZ-918D1T",
        "colab_type": "code",
        "colab": {
          "base_uri": "https://localhost:8080/",
          "height": 34
        },
        "outputId": "e7608c40-37ec-437f-8949-cddd799beb47"
      },
      "source": [
        "max_value = 0\n",
        "a = 0 \n",
        "b = 0\n",
        "\n",
        "for i in range(1, 100):\n",
        "  j = 100 - i\n",
        "  multiple = i * j\n",
        "\n",
        "  if multiple > max_value:\n",
        "    max_value = multiple\n",
        "    a = i\n",
        "    b = j\n",
        "\n",
        "print(\"최대가 되는 경우: {} * {} = {}\".format(a, b, max_value))"
      ],
      "execution_count": null,
      "outputs": [
        {
          "output_type": "stream",
          "text": [
            "최대가 되는 경우: 50 * 50 = 2500\n"
          ],
          "name": "stdout"
        }
      ]
    }
  ]
}