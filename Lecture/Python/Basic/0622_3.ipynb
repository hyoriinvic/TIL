{
  "nbformat": 4,
  "nbformat_minor": 0,
  "metadata": {
    "colab": {
      "name": "0622_3",
      "provenance": []
    },
    "kernelspec": {
      "name": "python3",
      "display_name": "Python 3"
    }
  },
  "cells": [
    {
      "cell_type": "markdown",
      "metadata": {
        "id": "rIeFErFicFOo",
        "colab_type": "text"
      },
      "source": [
        "조건문"
      ]
    },
    {
      "cell_type": "code",
      "metadata": {
        "id": "x_vY0-ZlcAUm",
        "colab_type": "code",
        "colab": {
          "base_uri": "https://localhost:8080/",
          "height": 228
        },
        "outputId": "82170d65-db77-4cd3-eea2-d6a1b4381a6f"
      },
      "source": [
        "#불 자료형 True/False\n",
        "#불 연산-비교 연산자\n",
        "print(10 == 100)\n",
        "print(10 != 100)\n",
        "print(10 < 100)\n",
        "print(10 > 100)\n",
        "print(10 <= 100)\n",
        "print(10 >= 100)\n",
        "\n",
        "print(\"가방\" == \"하마\")\n",
        "print(\"가방\" != \"하마\")\n",
        "\n",
        "#문자열은 사전에 먼저 나오는 문자열이 나중에 나오는 문자열보다 작은 값을 가짐\n",
        "print(\"가방\" < \"하마\") #True\n",
        "print(\"가방\" > \"하마\") #False\n",
        "\n",
        "x = 25\n",
        "print(10 < x < 30)\n",
        "print(30 < x < 40)"
      ],
      "execution_count": null,
      "outputs": [
        {
          "output_type": "stream",
          "text": [
            "False\n",
            "True\n",
            "True\n",
            "False\n",
            "True\n",
            "False\n",
            "False\n",
            "True\n",
            "True\n",
            "False\n",
            "True\n",
            "False\n"
          ],
          "name": "stdout"
        }
      ]
    },
    {
      "cell_type": "code",
      "metadata": {
        "id": "pK1y-HePh27O",
        "colab_type": "code",
        "colab": {
          "base_uri": "https://localhost:8080/",
          "height": 52
        },
        "outputId": "5b2edf2b-617b-4900-e495-d68b356951d1"
      },
      "source": [
        "#불 연산-논리 연산자\n",
        "print(not True)\n",
        "print(not False)"
      ],
      "execution_count": null,
      "outputs": [
        {
          "output_type": "stream",
          "text": [
            "False\n",
            "True\n"
          ],
          "name": "stdout"
        }
      ]
    },
    {
      "cell_type": "code",
      "metadata": {
        "id": "fJzzax4Ph_6S",
        "colab_type": "code",
        "colab": {
          "base_uri": "https://localhost:8080/",
          "height": 52
        },
        "outputId": "45561c41-ff9d-45c8-ed5e-0a99e9bbf674"
      },
      "source": [
        "x = 10\n",
        "under_20 = x < 20 #10은 20보다 작다 True\n",
        "print(\"under_20: \", under_20)\n",
        "print(\"not under_20\", not under_20)"
      ],
      "execution_count": null,
      "outputs": [
        {
          "output_type": "stream",
          "text": [
            "under_20:  True\n",
            "not under_20 False\n"
          ],
          "name": "stdout"
        }
      ]
    },
    {
      "cell_type": "code",
      "metadata": {
        "id": "NIBBmJriiPlJ",
        "colab_type": "code",
        "colab": {}
      },
      "source": [
        "#and 연산자, or 연산자"
      ],
      "execution_count": null,
      "outputs": []
    },
    {
      "cell_type": "code",
      "metadata": {
        "id": "WAmlPHRhil_O",
        "colab_type": "code",
        "colab": {
          "base_uri": "https://localhost:8080/",
          "height": 52
        },
        "outputId": "3900d92b-ee7a-4fbd-8f96-76e013dea4e0"
      },
      "source": [
        "#if 조건문\n",
        "number = input(\"정수 입력: \")\n",
        "number = int(number)\n",
        "\n",
        "if number > 0:\n",
        "  print(\"양수 입니다.\")\n",
        "elif number < 0:\n",
        "  print(\"음수 입니다.\")\n",
        "else: #number == 0\n",
        "   print(\"0 입니다.\")"
      ],
      "execution_count": null,
      "outputs": [
        {
          "output_type": "stream",
          "text": [
            "정수 입력: 23\n",
            "양수 입니다.\n"
          ],
          "name": "stdout"
        }
      ]
    },
    {
      "cell_type": "code",
      "metadata": {
        "id": "7YPaBOc_jVd5",
        "colab_type": "code",
        "colab": {
          "base_uri": "https://localhost:8080/",
          "height": 140
        },
        "outputId": "e87cd45f-7c62-4812-d7a5-51ba89afd7f3"
      },
      "source": [
        "import datetime #날짜, 시간 관련 기능\n",
        "now = datetime.datetime.now()\n",
        "\n",
        "print(now.year, \"년\")\n",
        "print(now.month, \"월\")\n",
        "print(now.day, \"일\")\n",
        "print(now.hour, \"시\")\n",
        "print(now.minute, \"분\")\n",
        "print(now.second, \"초\")\n",
        "\n",
        "print(\"{}년 {}월 {}일 {}시 {}분 {}초\".format(now.year, now.month, now.day, now.hour, now.minute, now.second))"
      ],
      "execution_count": null,
      "outputs": [
        {
          "output_type": "stream",
          "text": [
            "2020 년\n",
            "6 월\n",
            "22 일\n",
            "5 시\n",
            "47 분\n",
            "43 초\n",
            "2020년 6월 22일 5시 47분 43초\n"
          ],
          "name": "stdout"
        }
      ]
    },
    {
      "cell_type": "code",
      "metadata": {
        "id": "h3b76v3DkL8W",
        "colab_type": "code",
        "colab": {
          "base_uri": "https://localhost:8080/",
          "height": 52
        },
        "outputId": "39e5d9c3-718b-4fce-b2d2-ad8a4bd74f51"
      },
      "source": [
        "import datetime\n",
        "now = datetime.datetime.now()\n",
        "\n",
        "#오전, 오후 구분\n",
        "if now.hour < 12:\n",
        "  print(\"현재 시각은 {}시로 오전입니다.\".format(now.hour))\n",
        "\n",
        "if now.hour >= 12: \n",
        "  print(\"현재 시각은 {}시로 오후입니다.\".format(now.hour))\n",
        "\n",
        "#계절 구분\n",
        "if 3 <= now.month <= 5:\n",
        "  print(\"이번 달은 {}월로 봄입니다.\".format(now.month))\n",
        "elif 6 <= now.month <= 8:\n",
        "  print(\"이번 달은 {}월로 여름입니다.\".format(now.month))\n",
        "elif 9 <= now.month <= 11:\n",
        "  print(\"이번 달은 {}월로 가을입니다.\".format(now.month))\n",
        "else: # now.month == 12 or 1 <= now.month <= 2\n",
        "  print(\"이번 달은 {}월로 겨울입니다.\".format(now.month))"
      ],
      "execution_count": null,
      "outputs": [
        {
          "output_type": "stream",
          "text": [
            "현재 시각은 5시로 오전입니다.\n",
            "이번 달은 6월로 여름입니다.\n"
          ],
          "name": "stdout"
        }
      ]
    },
    {
      "cell_type": "code",
      "metadata": {
        "id": "ScZWocV6k1zr",
        "colab_type": "code",
        "colab": {
          "base_uri": "https://localhost:8080/",
          "height": 52
        },
        "outputId": "37aeccc0-d3f0-49ef-e9fc-b630bb46af35"
      },
      "source": [
        "number = input(\"정수 입력: \")\n",
        "\n",
        "last_character = number[-1]\n",
        "last_number = int(last_character)\n",
        "\n",
        "if (last_number % 2 ) == 0: \n",
        "  print(\"짝수입니다.\")\n",
        "else : #(last_number % 2) == 1\n",
        "  print(\"홀수입니다.\") "
      ],
      "execution_count": null,
      "outputs": [
        {
          "output_type": "stream",
          "text": [
            "정수 입력: 49\n",
            "홀수입니다.\n"
          ],
          "name": "stdout"
        }
      ]
    },
    {
      "cell_type": "code",
      "metadata": {
        "id": "FpP218Htm1BL",
        "colab_type": "code",
        "colab": {
          "base_uri": "https://localhost:8080/",
          "height": 52
        },
        "outputId": "c563a513-a824-4e40-b741-9e249cf55301"
      },
      "source": [
        "number = input(\"정수 입력: \")\n",
        "\n",
        "last_character = number[-1]\n",
        "\n",
        "if last_character in \"02468\": #in 연산자: 어떤 문자열 내부에 찾고자 하는 문자열이 있는지 확인\n",
        "  print(\"짝수입니다.\")\n",
        "if last_character in \"13579\":\n",
        "  print(\"홀수입니다.\")"
      ],
      "execution_count": null,
      "outputs": [
        {
          "output_type": "stream",
          "text": [
            "정수 입력: 28\n",
            "짝수입니다.\n"
          ],
          "name": "stdout"
        }
      ]
    },
    {
      "cell_type": "code",
      "metadata": {
        "id": "aOpwxB3hnVKi",
        "colab_type": "code",
        "colab": {
          "base_uri": "https://localhost:8080/",
          "height": 70
        },
        "outputId": "a1df126b-766a-4fbe-e218-6c0dda105b8f"
      },
      "source": [
        "a = float(input(\"첫 번째 숫자: \"))\n",
        "b = float(input(\"두 번째 숫자: \"))\n",
        "\n",
        "if a > b:\n",
        "  print(\"처음 입력했던 {}가 {}보다 더 큽니다.\".format(a, b))\n",
        "if a < b:\n",
        "  print(\"두 번째로 입력했던 {}가 {}보다 더 큽니다.\".format(b, a))"
      ],
      "execution_count": null,
      "outputs": [
        {
          "output_type": "stream",
          "text": [
            "첫 번째 숫자: 10\n",
            "두 번째 숫자: 100\n",
            "두 번째로 입력했던 100.0가 10.0보다 더 큽니다.\n"
          ],
          "name": "stdout"
        }
      ]
    },
    {
      "cell_type": "code",
      "metadata": {
        "id": "FG55FfEnn2Ls",
        "colab_type": "code",
        "colab": {
          "base_uri": "https://localhost:8080/",
          "height": 52
        },
        "outputId": "c0f05139-2702-4973-b16b-7e1721ed054a"
      },
      "source": [
        "score = float(input(\"학점 입력: \"))\n",
        "\n",
        "if score == 4.5:\n",
        "  print(\"신\")\n",
        "elif 4.2 <= score:\n",
        "  print(\"교수님의 사랑\")\n",
        "elif 3.5 <= score:\n",
        "  print(\"현 체제의 수호자\")\n",
        "elif 2.8 <= score:\n",
        "  print(\"일반인\")\n",
        "elif 2.3 <= score:\n",
        "  print(\"일탈을 꿈꾸는 소시민\")\n",
        "elif 1.75 <= score:\n",
        "  print(\"오락문화의 선구자\")\n",
        "elif 1.0 <= score:\n",
        "  print(\"불가촉천민\")\n",
        "elif 0.5 <= score:\n",
        "  print(\"자벌레\")\n",
        "elif 0 < score:\n",
        "  print(\"플랑크톤\")\n",
        "else:\n",
        "  print(\"시대를 앞서가는 혁명의 씨앗\")"
      ],
      "execution_count": null,
      "outputs": [
        {
          "output_type": "stream",
          "text": [
            "학점 입력: 3.92\n",
            "현 체제의 수호자\n"
          ],
          "name": "stdout"
        }
      ]
    },
    {
      "cell_type": "code",
      "metadata": {
        "id": "Fy5GDL1tpedn",
        "colab_type": "code",
        "colab": {
          "base_uri": "https://localhost:8080/",
          "height": 105
        },
        "outputId": "4f38417a-38c1-4a2f-9c55-63fe5b409c6f"
      },
      "source": [
        "#빈 컨테이너\n",
        "#if 조건문의 매개변수에 Boolean이 아닌 다른 값이 올 때, 자동으로 Boolean으로 변환\n",
        "#이 때, False로 변환되는 값: None, 0.0, 빈 문자열, 빈 바이트열, 빈 리스트\n",
        "\n",
        "print(\"#if 조건문에 0 넣기\")\n",
        "if 0:\n",
        "  print(\"0은 True로 변환됩니다.\")\n",
        "else:\n",
        "  print(\"0은 False로 변환됩니다.\")\n",
        "\n",
        "print()\n",
        "\n",
        "print(\"#if 조건문에 빈 문자열 넣기\")\n",
        "if \"\":\n",
        "  print(\"빈 문자열은 True로 변환됩니다.\")\n",
        "else: \n",
        "  print(\"빈 문자열은 False로 변환됩니다.\")"
      ],
      "execution_count": null,
      "outputs": [
        {
          "output_type": "stream",
          "text": [
            "#if 조건문에 0 넣기\n",
            "0은 False로 변환됩니다.\n",
            "\n",
            "#if 조건문에 빈 문자열 넣기\n",
            "빈 문자열은 False로 변환됩니다.\n"
          ],
          "name": "stdout"
        }
      ]
    },
    {
      "cell_type": "code",
      "metadata": {
        "id": "UoMWuqONqzgP",
        "colab_type": "code",
        "colab": {}
      },
      "source": [
        "#나중에 구현하고자 구문을 비워둔 경우\n",
        "number = int(input(\"정수 입력: \"))\n",
        "\n",
        "if number > 0:\n",
        "    #양수일 때, 아직 미구현 상태입니다.\n",
        "    pass\n",
        "else:\n",
        "    #음수일 때, 아직 미구현 상태입니다.\n",
        "    pass"
      ],
      "execution_count": null,
      "outputs": []
    },
    {
      "cell_type": "code",
      "metadata": {
        "id": "ayPFom96riEl",
        "colab_type": "code",
        "colab": {}
      },
      "source": [
        "#나중에 구현하고자 구문을 비워둔 경우\n",
        "number = int(input(\"정수 입력: \"))\n",
        "\n",
        "if number > 0:\n",
        "    #양수일 때, 아직 미구현 상태입니다.\n",
        "    raise NotImplementedError #오류를 강제로 발생시킴\n",
        "else:\n",
        "    #음수일 때, 아직 미구현 상태입니다.\n",
        "    raise NotImplementedError"
      ],
      "execution_count": null,
      "outputs": []
    }
  ]
}