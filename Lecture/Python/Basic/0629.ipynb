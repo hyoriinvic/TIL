{
  "nbformat": 4,
  "nbformat_minor": 0,
  "metadata": {
    "colab": {
      "name": "0629",
      "provenance": []
    },
    "kernelspec": {
      "name": "python3",
      "display_name": "Python 3"
    }
  },
  "cells": [
    {
      "cell_type": "markdown",
      "metadata": {
        "id": "kzehsgXqFs6N",
        "colab_type": "text"
      },
      "source": [
        "# 리스트 & 함수 활용\n",
        "복잡한 데이터의 처리 - 영화 정보 관리"
      ]
    },
    {
      "cell_type": "code",
      "metadata": {
        "id": "ZxUDfeTcb6DD",
        "colab_type": "code",
        "colab": {
          "base_uri": "https://localhost:8080/",
          "height": 351
        },
        "outputId": "faa6e8ac-77a3-4152-edd8-9f9b2bbfbdf5"
      },
      "source": [
        "movies = [\"기생충\", \"마더\", \"살인의 추억\"] #리스트 생성 \n",
        "\n",
        "print(movies) #리스트 전체 출력\n",
        "print(movies[0]) #리스트의 특정 요소 출력\n",
        "print(len(movies)) #리스트 내 요소의 개수\n",
        "print()\n",
        "\n",
        "#리스트 내 요소의 추가/제거\n",
        "#영화 이름 추가\n",
        "movies.append(\"옥자\") #리스트 맨 뒤에 요소 하나 추가\n",
        "movies.pop() #리스트 맨 뒤의 요소 제거\n",
        "movies.extend([\"설국열차\", \"옥자\", \"프란다스의 개\"]) #리스트 맨 뒤에 요소 여러 개 추가\n",
        "movies.remove(\"옥자\") #리스트 내 특정 요소 제거\n",
        "movies.insert(0, \"옥자\") #리스트 내 특정 위치에 요소 추가\n",
        "movies.insert(3, \"괴물\")\n",
        "print()\n",
        "#각 영화의 개봉 년도 추가\n",
        "movies.insert(2, 2019)\n",
        "movies.insert(4, 2010)\n",
        "movies.append(1995)\n",
        "print(movies)\n",
        "print()\n",
        "\n",
        "#리스트 내 요소 출력\n",
        "for each_flick in movies: #while문보다 for문 사용을 추천함! - 실수 방지\n",
        "  if type(each_flick) == str: \n",
        "    print(\"each_flick: \", each_flick)\n",
        "  else:\n",
        "    continue"
      ],
      "execution_count": null,
      "outputs": [
        {
          "output_type": "stream",
          "text": [
            "['기생충', '마더', '살인의 추억']\n",
            "기생충\n",
            "3\n",
            "\n",
            "['기생충', '마더', '살인의 추억', '옥자']\n",
            "['기생충', '마더', '살인의 추억']\n",
            "['기생충', '마더', '살인의 추억', '설국열차', '옥자', '프란다스의 개']\n",
            "['기생충', '마더', '살인의 추억', '설국열차', '프란다스의 개']\n",
            "['옥자', '기생충', '마더', '괴물', '살인의 추억', '설국열차', '프란다스의 개']\n",
            "\n",
            "['옥자', '기생충', 2019, '마더', 2010, '괴물', '살인의 추억', '설국열차', '프란다스의 개', 1995]\n",
            "\n",
            "each_flick:  옥자\n",
            "each_flick:  기생충\n",
            "each_flick:  마더\n",
            "each_flick:  괴물\n",
            "each_flick:  살인의 추억\n",
            "each_flick:  설국열차\n",
            "each_flick:  프란다스의 개\n"
          ],
          "name": "stdout"
        }
      ]
    },
    {
      "cell_type": "code",
      "metadata": {
        "id": "SbNGTTYiqZJw",
        "colab_type": "code",
        "colab": {
          "base_uri": "https://localhost:8080/",
          "height": 298
        },
        "outputId": "80c237c8-76ae-444e-fb9b-f180910caafd"
      },
      "source": [
        "#리스트 내 리스트가 존재하는 경우\n",
        "movies = [\n",
        "          \"The Holy Grail\", 1975, \"Terry Jones & Terry Giliam\", 91, \n",
        "          [\"Graham Chapmen\", \n",
        "           [\"Michel Palln\", \"John Cleese\", \"Terry Gilliam\", \"Eric Idle\", \"Terry Jones\"]\n",
        "          ]\n",
        "         ]\n",
        "\n",
        "for each_item in movies:\n",
        "  print(each_item) \n",
        "#for 루프는 최상위 리스트에 있는 항목만 출력, 하위 리스트는 있는 그대로 출력되었음\n",
        "\n",
        "print()\n",
        "\n",
        "for each_item in movies:\n",
        "  if isinstance(each_item, list): #each_item이 list이면,\n",
        "    for nested_item in each_item: \n",
        "      if isinstance(nested_item, list): #nested_item이 list이면,\n",
        "        for deeper_item in nested_item: #같은 작업이 반복됨 > 함수 사용!\n",
        "          print(deeper_item)\n",
        "      else:\n",
        "        print(nested_item)\n",
        "  else:\n",
        "    print(each_item)"
      ],
      "execution_count": null,
      "outputs": [
        {
          "output_type": "stream",
          "text": [
            "The Holy Grail\n",
            "1975\n",
            "Terry Jones & Terry Giliam\n",
            "91\n",
            "['Graham Chapmen', ['Michel Palln', 'John Cleese', 'Terry Gilliam', 'Eric Idle', 'Terry Jones']]\n",
            "\n",
            "The Holy Grail\n",
            "1975\n",
            "Terry Jones & Terry Giliam\n",
            "91\n",
            "Graham Chapmen\n",
            "Michel Palln\n",
            "John Cleese\n",
            "Terry Gilliam\n",
            "Eric Idle\n",
            "Terry Jones\n"
          ],
          "name": "stdout"
        }
      ]
    },
    {
      "cell_type": "code",
      "metadata": {
        "id": "xWoHn0F1ddBk",
        "colab_type": "code",
        "colab": {
          "base_uri": "https://localhost:8080/",
          "height": 210
        },
        "outputId": "83535da7-5ffe-4736-8c94-86505a766133"
      },
      "source": [
        "#복습\n",
        "\n",
        "cast = [\"Cleese\", \"Palin\", \"Jones\", \"Idle\"]\n",
        "print(cast)\n",
        "print(len(cast))\n",
        "print()\n",
        "\n",
        "cast.append(\"Gilliam\")\n",
        "cast.pop()\n",
        "cast.extend([\"Gilliam\", \"Chapman\"])\n",
        "cast.remove(\"Chapman\")\n",
        "cast.insert(0, \"Chapman\")\n",
        "print(cast)\n",
        "print()\n",
        "\n",
        "for person in cast:\n",
        "  print(person)"
      ],
      "execution_count": null,
      "outputs": [
        {
          "output_type": "stream",
          "text": [
            "['Cleese', 'Palin', 'Jones', 'Idle']\n",
            "4\n",
            "\n",
            "['Chapman', 'Cleese', 'Palin', 'Jones', 'Idle', 'Gilliam']\n",
            "\n",
            "Chapman\n",
            "Cleese\n",
            "Palin\n",
            "Jones\n",
            "Idle\n",
            "Gilliam\n"
          ],
          "name": "stdout"
        }
      ]
    },
    {
      "cell_type": "code",
      "metadata": {
        "id": "Ix4IyWqnrHj0",
        "colab_type": "code",
        "colab": {}
      },
      "source": [
        "#하지만 비효율적인 코드\n",
        "#재귀함수(recursion function)를 활용해 간단히 작성하기"
      ],
      "execution_count": null,
      "outputs": []
    },
    {
      "cell_type": "markdown",
      "metadata": {
        "id": "YNL9FmqtroJO",
        "colab_type": "text"
      },
      "source": [
        "재귀함수"
      ]
    },
    {
      "cell_type": "code",
      "metadata": {
        "id": "DM-LaLLHruyt",
        "colab_type": "code",
        "colab": {
          "base_uri": "https://localhost:8080/",
          "height": 175
        },
        "outputId": "04e2afc9-c0d1-4132-aa7f-4ce79017d556"
      },
      "source": [
        "#재귀함수(recursion functio): 자기 자신을 호출하는 함수\n",
        "#팩토리얼 계산 함수\n",
        "print(\"#5!를 계산하는 방법\")\n",
        "\n",
        "print(\"#방법 1(직접 계산)\")\n",
        "print(1 * 2 * 3 * 4 * 5)\n",
        "print()\n",
        "\n",
        "print(\"#방법 2(반복문)\")\n",
        "result = 1\n",
        "for i in range(1, 5 + 1):\n",
        "  result *= i\n",
        "print(result)\n",
        "print()\n",
        "\n",
        "print(\"#방법 3(재귀함수)\")\n",
        "def factorial(n):\n",
        "  if n == 0:\n",
        "    return 1\n",
        "  else:\n",
        "    return n * factorial(n-1)\n",
        "factorial(5)"
      ],
      "execution_count": null,
      "outputs": [
        {
          "output_type": "stream",
          "text": [
            "#5!를 계산하는 방법\n",
            "#방법 1(직접 계산)\n",
            "120\n",
            "\n",
            "#방법 2(반복문)\n",
            "120\n",
            "\n",
            "#방법 3(재귀함수)\n"
          ],
          "name": "stdout"
        },
        {
          "output_type": "execute_result",
          "data": {
            "text/plain": [
              "120"
            ]
          },
          "metadata": {
            "tags": []
          },
          "execution_count": 42
        }
      ]
    },
    {
      "cell_type": "markdown",
      "metadata": {
        "id": "JUTk5jzna0pI",
        "colab_type": "text"
      },
      "source": [
        "global counter"
      ]
    },
    {
      "cell_type": "code",
      "metadata": {
        "id": "lzLoxARA6479",
        "colab_type": "code",
        "colab": {}
      },
      "source": [
        "#피보나치 수열\n",
        "counter = 1000\n",
        "\n",
        "def fibonacci(n):\n",
        "  global counter \n",
        "  counter = 100\n",
        "  print(\"counter = \", counter)\n",
        "  if n < 3:\n",
        "    return 1\n",
        "  else:\n",
        "    return fibonacci(n - 1) + fibonacci(n - 2)\n",
        "    \n",
        "fibonacci(10)"
      ],
      "execution_count": null,
      "outputs": []
    },
    {
      "cell_type": "code",
      "metadata": {
        "colab_type": "code",
        "id": "GPlIPwT9fa4V",
        "colab": {
          "base_uri": "https://localhost:8080/",
          "height": 193
        },
        "outputId": "85d38c22-d303-4df8-e907-21e7f5659366"
      },
      "source": [
        "#피보나치 수열\n",
        "counter = 0\n",
        "\n",
        "def fibonacci(n):\n",
        "  global counter \n",
        "  counter += 1 #+= 등의 복합 연산자는 연산 전에 변수에 값이 저장되어 있어야 함 \n",
        "  print(\"counter = \", counter)\n",
        "  if n < 3:\n",
        "    return 1\n",
        "  else:\n",
        "    return fibonacci(n - 1) + fibonacci(n - 2)\n",
        "    \n",
        "fibonacci(5)"
      ],
      "execution_count": null,
      "outputs": [
        {
          "output_type": "stream",
          "text": [
            "counter =  1\n",
            "counter =  2\n",
            "counter =  3\n",
            "counter =  4\n",
            "counter =  5\n",
            "counter =  6\n",
            "counter =  7\n",
            "counter =  8\n",
            "counter =  9\n"
          ],
          "name": "stdout"
        },
        {
          "output_type": "execute_result",
          "data": {
            "text/plain": [
              "5"
            ]
          },
          "metadata": {
            "tags": []
          },
          "execution_count": 58
        }
      ]
    },
    {
      "cell_type": "code",
      "metadata": {
        "id": "7976jHnqijg0",
        "colab_type": "code",
        "colab": {
          "base_uri": "https://localhost:8080/",
          "height": 34
        },
        "outputId": "87e00854-91af-4503-f0a9-7c15b4fc9c5a"
      },
      "source": [
        "#메모화 - 같은 값은 한 번만 계산하도록 코드 수정 \n",
        "dictionary = {\n",
        "    1: 1,\n",
        "    2: 2\n",
        "}\n",
        "\n",
        "def fibonacci(n):\n",
        "  if n in dictionary:\n",
        "    return dictionary[n]\n",
        "  else:\n",
        "    output = fibonacci(n - 1) + fibonacci(n - 2)\n",
        "    dictionary[n] = output\n",
        "    return output\n",
        "  \n",
        "fibonacci(100)"
      ],
      "execution_count": null,
      "outputs": [
        {
          "output_type": "execute_result",
          "data": {
            "text/plain": [
              "573147844013817084101"
            ]
          },
          "metadata": {
            "tags": []
          },
          "execution_count": 62
        }
      ]
    },
    {
      "cell_type": "markdown",
      "metadata": {
        "id": "-LrqpnDHqTxO",
        "colab_type": "text"
      },
      "source": [
        "\n",
        "\n",
        "---\n",
        "\n"
      ]
    },
    {
      "cell_type": "code",
      "metadata": {
        "id": "zPxIWZugrp8u",
        "colab_type": "code",
        "colab": {
          "base_uri": "https://localhost:8080/",
          "height": 193
        },
        "outputId": "d2c0b630-d39e-4d10-b268-59a8e9f1922a"
      },
      "source": [
        "#함수 정의\n",
        "def print_lol(the_list):\n",
        "  for each_item in the_list:\n",
        "    if isinstance(each_item, list):\n",
        "      print_lol(each_item)\n",
        "    else:\n",
        "      print(each_item)\n",
        "\n",
        "movies = [\n",
        "          \"The Holy Grail\", 1975, \"Terry Jones & Terry Giliam\", 91, \n",
        "          [\"Graham Chapmen\", \n",
        "           [\"Michel Palln\", \"John Cleese\", \"Terry Gilliam\", \"Eric Idle\", \"Terry Jones\"]\n",
        "          ]\n",
        "         ]\n",
        "\n",
        "print_lol(movies)"
      ],
      "execution_count": null,
      "outputs": [
        {
          "output_type": "stream",
          "text": [
            "The Holy Grail\n",
            "1975\n",
            "Terry Jones & Terry Giliam\n",
            "91\n",
            "Graham Chapmen\n",
            "Michel Palln\n",
            "John Cleese\n",
            "Terry Gilliam\n",
            "Eric Idle\n",
            "Terry Jones\n"
          ],
          "name": "stdout"
        }
      ]
    },
    {
      "cell_type": "markdown",
      "metadata": {
        "id": "jlnQ3zb3b4Ik",
        "colab_type": "text"
      },
      "source": [
        "\n",
        "\n",
        "---\n",
        "\n"
      ]
    },
    {
      "cell_type": "code",
      "metadata": {
        "id": "7KpJW1YNqY2L",
        "colab_type": "code",
        "colab": {}
      },
      "source": [
        "def factorial(n):\n",
        "  output = 1\n",
        "  for i in range(1, n + 1):\n",
        "    output *= i\n",
        "  return output\n",
        "\n",
        "def factorial_recursion(n):\n",
        "  if n == 0:\n",
        "    return 1\n",
        "  else:\n",
        "    return n * factorial_recursion(n - 1)\n",
        "    "
      ],
      "execution_count": null,
      "outputs": []
    },
    {
      "cell_type": "code",
      "metadata": {
        "id": "h4RiZWRKrE-4",
        "colab_type": "code",
        "colab": {
          "base_uri": "https://localhost:8080/",
          "height": 1000
        },
        "outputId": "37791146-d2a0-4fad-8fb1-eb402e73ec96"
      },
      "source": [
        "counter = 0\n",
        "\n",
        "def fibonacci(n):\n",
        "  print(\"fibonacci({})를 구합니다.\".format(n))\n",
        "  global counter\n",
        "  counter += 1\n",
        "\n",
        "  if n < 3:\n",
        "    return 1\n",
        "  else:\n",
        "    return fibonacci(n - 1) + fibonacci(n - 2)\n",
        "\n",
        "fibonacci(10)\n",
        "print(\"-\" * 100)\n",
        "print(\"fibonacci(10) 계산에 활용된 덧셈 횟수는 {}번 입니다.\".format(counter))"
      ],
      "execution_count": null,
      "outputs": [
        {
          "output_type": "stream",
          "text": [
            "fibonacci(10)를 구합니다.\n",
            "fibonacci(9)를 구합니다.\n",
            "fibonacci(8)를 구합니다.\n",
            "fibonacci(7)를 구합니다.\n",
            "fibonacci(6)를 구합니다.\n",
            "fibonacci(5)를 구합니다.\n",
            "fibonacci(4)를 구합니다.\n",
            "fibonacci(3)를 구합니다.\n",
            "fibonacci(2)를 구합니다.\n",
            "fibonacci(1)를 구합니다.\n",
            "fibonacci(2)를 구합니다.\n",
            "fibonacci(3)를 구합니다.\n",
            "fibonacci(2)를 구합니다.\n",
            "fibonacci(1)를 구합니다.\n",
            "fibonacci(4)를 구합니다.\n",
            "fibonacci(3)를 구합니다.\n",
            "fibonacci(2)를 구합니다.\n",
            "fibonacci(1)를 구합니다.\n",
            "fibonacci(2)를 구합니다.\n",
            "fibonacci(5)를 구합니다.\n",
            "fibonacci(4)를 구합니다.\n",
            "fibonacci(3)를 구합니다.\n",
            "fibonacci(2)를 구합니다.\n",
            "fibonacci(1)를 구합니다.\n",
            "fibonacci(2)를 구합니다.\n",
            "fibonacci(3)를 구합니다.\n",
            "fibonacci(2)를 구합니다.\n",
            "fibonacci(1)를 구합니다.\n",
            "fibonacci(6)를 구합니다.\n",
            "fibonacci(5)를 구합니다.\n",
            "fibonacci(4)를 구합니다.\n",
            "fibonacci(3)를 구합니다.\n",
            "fibonacci(2)를 구합니다.\n",
            "fibonacci(1)를 구합니다.\n",
            "fibonacci(2)를 구합니다.\n",
            "fibonacci(3)를 구합니다.\n",
            "fibonacci(2)를 구합니다.\n",
            "fibonacci(1)를 구합니다.\n",
            "fibonacci(4)를 구합니다.\n",
            "fibonacci(3)를 구합니다.\n",
            "fibonacci(2)를 구합니다.\n",
            "fibonacci(1)를 구합니다.\n",
            "fibonacci(2)를 구합니다.\n",
            "fibonacci(7)를 구합니다.\n",
            "fibonacci(6)를 구합니다.\n",
            "fibonacci(5)를 구합니다.\n",
            "fibonacci(4)를 구합니다.\n",
            "fibonacci(3)를 구합니다.\n",
            "fibonacci(2)를 구합니다.\n",
            "fibonacci(1)를 구합니다.\n",
            "fibonacci(2)를 구합니다.\n",
            "fibonacci(3)를 구합니다.\n",
            "fibonacci(2)를 구합니다.\n",
            "fibonacci(1)를 구합니다.\n",
            "fibonacci(4)를 구합니다.\n",
            "fibonacci(3)를 구합니다.\n",
            "fibonacci(2)를 구합니다.\n",
            "fibonacci(1)를 구합니다.\n",
            "fibonacci(2)를 구합니다.\n",
            "fibonacci(5)를 구합니다.\n",
            "fibonacci(4)를 구합니다.\n",
            "fibonacci(3)를 구합니다.\n",
            "fibonacci(2)를 구합니다.\n",
            "fibonacci(1)를 구합니다.\n",
            "fibonacci(2)를 구합니다.\n",
            "fibonacci(3)를 구합니다.\n",
            "fibonacci(2)를 구합니다.\n",
            "fibonacci(1)를 구합니다.\n",
            "fibonacci(8)를 구합니다.\n",
            "fibonacci(7)를 구합니다.\n",
            "fibonacci(6)를 구합니다.\n",
            "fibonacci(5)를 구합니다.\n",
            "fibonacci(4)를 구합니다.\n",
            "fibonacci(3)를 구합니다.\n",
            "fibonacci(2)를 구합니다.\n",
            "fibonacci(1)를 구합니다.\n",
            "fibonacci(2)를 구합니다.\n",
            "fibonacci(3)를 구합니다.\n",
            "fibonacci(2)를 구합니다.\n",
            "fibonacci(1)를 구합니다.\n",
            "fibonacci(4)를 구합니다.\n",
            "fibonacci(3)를 구합니다.\n",
            "fibonacci(2)를 구합니다.\n",
            "fibonacci(1)를 구합니다.\n",
            "fibonacci(2)를 구합니다.\n",
            "fibonacci(5)를 구합니다.\n",
            "fibonacci(4)를 구합니다.\n",
            "fibonacci(3)를 구합니다.\n",
            "fibonacci(2)를 구합니다.\n",
            "fibonacci(1)를 구합니다.\n",
            "fibonacci(2)를 구합니다.\n",
            "fibonacci(3)를 구합니다.\n",
            "fibonacci(2)를 구합니다.\n",
            "fibonacci(1)를 구합니다.\n",
            "fibonacci(6)를 구합니다.\n",
            "fibonacci(5)를 구합니다.\n",
            "fibonacci(4)를 구합니다.\n",
            "fibonacci(3)를 구합니다.\n",
            "fibonacci(2)를 구합니다.\n",
            "fibonacci(1)를 구합니다.\n",
            "fibonacci(2)를 구합니다.\n",
            "fibonacci(3)를 구합니다.\n",
            "fibonacci(2)를 구합니다.\n",
            "fibonacci(1)를 구합니다.\n",
            "fibonacci(4)를 구합니다.\n",
            "fibonacci(3)를 구합니다.\n",
            "fibonacci(2)를 구합니다.\n",
            "fibonacci(1)를 구합니다.\n",
            "fibonacci(2)를 구합니다.\n",
            "----------------------------------------------------------------------------------------------------\n",
            "fibonacci(10) 계산에 활용된 덧셈 횟수는 109번 입니다.\n"
          ],
          "name": "stdout"
        }
      ]
    },
    {
      "cell_type": "code",
      "metadata": {
        "id": "qnywpyX2sbw8",
        "colab_type": "code",
        "colab": {
          "base_uri": "https://localhost:8080/",
          "height": 34
        },
        "outputId": "c931ad69-12e3-402b-f44e-8546733c3006"
      },
      "source": [
        "dictionary = { #메모변수 설정 \n",
        "    1: 1,\n",
        "    2: 2\n",
        "}\n",
        "\n",
        "def fibonacci_memo(n):\n",
        "  if n in dictionary:\n",
        "    return dictionary[n]\n",
        "  else: \n",
        "    output = fibonacci_memo(n - 1) + fibonacci_memo(n - 2)\n",
        "    dictionary[n] = output\n",
        "    return output\n",
        "\n",
        "print(fibonacci_memo(10))"
      ],
      "execution_count": null,
      "outputs": [
        {
          "output_type": "stream",
          "text": [
            "89\n"
          ],
          "name": "stdout"
        }
      ]
    },
    {
      "cell_type": "code",
      "metadata": {
        "id": "K8n4lke5tDE4",
        "colab_type": "code",
        "colab": {
          "base_uri": "https://localhost:8080/",
          "height": 34
        },
        "outputId": "c2cfba44-37e4-47d9-dfe9-e53abd6006d8"
      },
      "source": [
        "#조기 리턴 - 들여쓰기를 최소화 코드를 더 쉽게 읽을 수 있음\n",
        "\n",
        "dictionary2 = {\n",
        "    1: 1,\n",
        "    2: 2\n",
        "}\n",
        "\n",
        "#함수 선언\n",
        "def fibonacci_memo(n):\n",
        "  if n in dictionary:\n",
        "      #메모리되어 있으면 값을 리턴\n",
        "    return dictionary[n]\n",
        "  #메모리되어 있지 않으면 값을 구함\n",
        "  output = fibonacci_memo(n - 1) + fibonacci_memo(n - 2)\n",
        "  dictionary[n] = output\n",
        "  return output\n",
        "\n",
        "print(fibonacci_memo(100))"
      ],
      "execution_count": null,
      "outputs": [
        {
          "output_type": "stream",
          "text": [
            "573147844013817084101\n"
          ],
          "name": "stdout"
        }
      ]
    },
    {
      "cell_type": "markdown",
      "metadata": {
        "id": "l8zM0eYxztLm",
        "colab_type": "text"
      },
      "source": [
        "\n",
        "\n",
        "---\n",
        "\n"
      ]
    },
    {
      "cell_type": "code",
      "metadata": {
        "id": "9q4vw8KVzuPy",
        "colab_type": "code",
        "colab": {
          "base_uri": "https://localhost:8080/",
          "height": 52
        },
        "outputId": "b25eaf5f-c6f7-4147-dfee-5f079a7a98a3"
      },
      "source": [
        "output = []\n",
        "\n",
        "def flatten(data):\n",
        "  for each_data in data: \n",
        "    if isinstance(each_data, list): #type(each_data) == list 보다 자주 사용 +\n",
        "      flatten(each_data)\n",
        "    else: \n",
        "      output.append(each_data)\n",
        "  return output\n",
        "\n",
        "example = [[1, 2, 3], [4, [5, 6]], 7, [8, 9]]\n",
        "\n",
        "print(\"원본: \", example)\n",
        "flatten(example)"
      ],
      "execution_count": null,
      "outputs": [
        {
          "output_type": "stream",
          "text": [
            "원본:  [[1, 2, 3], [4, [5, 6]], 7, [8, 9]]\n"
          ],
          "name": "stdout"
        },
        {
          "output_type": "execute_result",
          "data": {
            "text/plain": [
              "[1, 2, 3, 4, 5, 6, 7, 8, 9]"
            ]
          },
          "metadata": {
            "tags": []
          },
          "execution_count": 81
        }
      ]
    },
    {
      "cell_type": "markdown",
      "metadata": {
        "id": "PIlcMEWDzvMa",
        "colab_type": "text"
      },
      "source": [
        "\n",
        "\n",
        "---\n",
        "\n"
      ]
    },
    {
      "cell_type": "markdown",
      "metadata": {
        "id": "eSO_qIrsriO3",
        "colab_type": "text"
      },
      "source": [
        "자습"
      ]
    },
    {
      "cell_type": "code",
      "metadata": {
        "id": "qHO8ihGbFoS_",
        "colab_type": "code",
        "colab": {
          "base_uri": "https://localhost:8080/",
          "height": 105
        },
        "outputId": "6189d71b-8bf0-4a7b-e535-c619e347335e"
      },
      "source": [
        "#리스트 관련 기능\n",
        "movies = [\"The Holy Grail\", \"The Lif'e of Brian\", \"The Meaning of Life\"]\n",
        "cast = [\"Cleese\", \"Palin\", \"Jones\", \"Idle\"]\n",
        "\n",
        "cast.append(\"Gilliam\") #리스트 맨 뒤에 항목 하나 추가\n",
        "cast.pop() #리스트 맨 뒤의 항목 삭제\n",
        "cast.extend([\"Gilliam\", \"Chapman\"]) #리스트 맨 뒤 여러 개의 데이터 추가\n",
        "cast.remove(\"Chapman\") #특정 데이터 제거\n",
        "cast.insert(0, \"Chapman\") #특정 위치에 데이터 추가\n",
        "print(cast)\n",
        "\n",
        "movies.insert(1, 1975)\n",
        "movies.insert(3, 1979)\n",
        "movies.append(1983)\n",
        "print(movies)\n",
        "print()\n",
        "\n",
        "fav_movies = [\"The Holy Grail\", \"The Life of Brian\"]\n",
        "for each_flick in fav_movies: #리스트는 for 루프를 사용하는 것이 좋음 - 실수 방지\n",
        "  print(each_flick)"
      ],
      "execution_count": null,
      "outputs": [
        {
          "output_type": "stream",
          "text": [
            "['Chapman', 'Cleese', 'Palin', 'Jones', 'Idle', 'Gilliam']\n",
            "['The Holy Grail', 1975, \"The Lif'e of Brian\", 1979, 'The Meaning of Life', 1983]\n",
            "\n",
            "The Holy Grail\n",
            "The Life of Brian\n"
          ],
          "name": "stdout"
        }
      ]
    },
    {
      "cell_type": "code",
      "metadata": {
        "id": "4PIjxWELGzKW",
        "colab_type": "code",
        "colab": {
          "base_uri": "https://localhost:8080/",
          "height": 318
        },
        "outputId": "9fc70d62-5cd2-4e78-cfc9-2b3d38e81a84"
      },
      "source": [
        "#리스트 안의 리스트\n",
        "movies = [\n",
        "          \"The Holy Grail\", 1975, \"Terry Jones & Terry Giliam\", 91, \n",
        "          [\"Graham Chapmen\", \n",
        "           [\"Michel Palln\", \"John Cleese\", \"Terry Gilliam\", \"Eric Idle\", \"Terry Jones\"]\n",
        "          ]\n",
        "         ]\n",
        "\n",
        "for each_item in movies:\n",
        "  print(each_item) \n",
        "#for 루프는 최상위 리스트에 있는 항목만 출력, 하위 리스트는 있는 그대로 출력되었음\n",
        "\n",
        "print()\n",
        "\n",
        "for each_item in movies:\n",
        "  if isinstance(each_item, list): #each_item이 list이면,\n",
        "    for nested_item in each_item: \n",
        "      if isinstance(nested_item, list): #nested_item이 list이면,\n",
        "        for deeper_item in nested_item: #같은 작업이 반복됨 > 함수 사용!\n",
        "          print(deeper_item)\n",
        "      else:\n",
        "        print(nested_item)\n",
        "  else:\n",
        "    print(each_item)"
      ],
      "execution_count": null,
      "outputs": [
        {
          "output_type": "stream",
          "text": [
            "The Holy Grail\n",
            "1975\n",
            "Terry Jones & Terry Giliam\n",
            "91\n",
            "['Graham Chapmen', ['Michel Palln', 'John Cleese', 'Terry Gilliam', 'Eric Idle', 'Terry Jones']]\n",
            "\n",
            "The Holy Grail\n",
            "1975\n",
            "Terry Jones & Terry Giliam\n",
            "91\n",
            "Graham Chapmen\n",
            "Michel Palln\n",
            "John Cleese\n",
            "Terry Gilliam\n",
            "Eric Idle\n",
            "Terry Jones\n"
          ],
          "name": "stdout"
        }
      ]
    },
    {
      "cell_type": "code",
      "metadata": {
        "id": "4_xr2S9UJDCV",
        "colab_type": "code",
        "colab": {
          "base_uri": "https://localhost:8080/",
          "height": 193
        },
        "outputId": "80cbe6ae-606f-410b-cb73-437a863d4ab6"
      },
      "source": [
        "#함수 정의\n",
        "def print_lol(the_list):\n",
        "  for each_item in the_list:\n",
        "    if isinstance(each_item, list):\n",
        "      print_lol(each_item)\n",
        "    else:\n",
        "      print(each_item)\n",
        "\n",
        "movies = [\n",
        "          \"The Holy Grail\", 1975, \"Terry Jones & Terry Giliam\", 91, \n",
        "          [\"Graham Chapmen\", \n",
        "           [\"Michel Palln\", \"John Cleese\", \"Terry Gilliam\", \"Eric Idle\", \"Terry Jones\"]\n",
        "          ]\n",
        "         ]\n",
        "\n",
        "print_lol(movies)"
      ],
      "execution_count": null,
      "outputs": [
        {
          "output_type": "stream",
          "text": [
            "The Holy Grail\n",
            "1975\n",
            "Terry Jones & Terry Giliam\n",
            "91\n",
            "Graham Chapmen\n",
            "Michel Palln\n",
            "John Cleese\n",
            "Terry Gilliam\n",
            "Eric Idle\n",
            "Terry Jones\n"
          ],
          "name": "stdout"
        }
      ]
    }
  ]
}