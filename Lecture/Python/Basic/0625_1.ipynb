{
  "nbformat": 4,
  "nbformat_minor": 0,
  "metadata": {
    "colab": {
      "name": "0625_1",
      "provenance": []
    },
    "kernelspec": {
      "name": "python3",
      "display_name": "Python 3"
    }
  },
  "cells": [
    {
      "cell_type": "markdown",
      "metadata": {
        "id": "d63pePBkSUd0",
        "colab_type": "text"
      },
      "source": [
        "#복습"
      ]
    },
    {
      "cell_type": "code",
      "metadata": {
        "id": "Unqjh3HQzlMQ",
        "colab_type": "code",
        "colab": {}
      },
      "source": [
        "max_value = 0\n",
        "a = 0 \n",
        "b = 0\n",
        "\n",
        "for i in range (1, 100):\n",
        "  print(\"i = \", i)\n",
        "\n",
        "  j = 100 - i\n",
        "  print(\"j = \", j)\n",
        "\n",
        "  multi = i * j\n",
        "  print(\"{} * {} = {}\".format(i, j, multi))\n",
        "\n",
        "  if multi > max_value: #multi(두 수의 곱) > 현재까지의 max_value 일 때, \n",
        "    max_value = multi #max_value 값 갱신\n",
        "    a = i #a, b 각각에 대입\n",
        "    b = j\n",
        "    print(\"현재 최댓값은 {} * {} = {}\".format(a, b, max_value))\n",
        "\n",
        "  print(\"-\"*100)\n",
        "\n",
        "print(\"최대가 되는 경우: {} * {} = {}\".format(a, b, max_value))  "
      ],
      "execution_count": null,
      "outputs": []
    },
    {
      "cell_type": "code",
      "metadata": {
        "id": "NwhaZ-918D1T",
        "colab_type": "code",
        "colab": {
          "base_uri": "https://localhost:8080/",
          "height": 34
        },
        "outputId": "e7608c40-37ec-437f-8949-cddd799beb47"
      },
      "source": [
        "# 위의 예제 간결히 표현\n",
        "\n",
        "max_value = 0\n",
        "a = 0 \n",
        "b = 0\n",
        "\n",
        "for i in range(1, 100):\n",
        "  j = 100 - i\n",
        "  multiple = i * j\n",
        "\n",
        "  if multiple > max_value:\n",
        "    max_value = multiple\n",
        "    a = i\n",
        "    b = j\n",
        "\n",
        "print(\"최대가 되는 경우: {} * {} = {}\".format(a, b, max_value))"
      ],
      "execution_count": null,
      "outputs": [
        {
          "output_type": "stream",
          "text": [
            "최대가 되는 경우: 50 * 50 = 2500\n"
          ],
          "name": "stdout"
        }
      ]
    },
    {
      "cell_type": "markdown",
      "metadata": {
        "id": "2fKIXZGb2116",
        "colab_type": "text"
      },
      "source": [
        "# 함수"
      ]
    },
    {
      "cell_type": "code",
      "metadata": {
        "id": "3h1nNRTGpiuS",
        "colab_type": "code",
        "colab": {
          "base_uri": "https://localhost:8080/",
          "height": 175
        },
        "outputId": "8c7c3793-1c91-494d-903a-ce76f71e0f08"
      },
      "source": [
        "#함수 만들기\n",
        "\n",
        "def print_3_times(): #함수 정의\n",
        "  print(\"안녕하세요\")\n",
        "  print(\"안녕하세요\")\n",
        "  print(\"안녕하세요\")\n",
        "\n",
        "print_3_times() #함수 실행\n",
        "print()\n",
        "\n",
        "def print_n_times(value, n): #매개변수가 있는 함수\n",
        "  for i in range(n):\n",
        "    print(value)\n",
        "\n",
        "print_n_times(\"안녕하세요\", 5)"
      ],
      "execution_count": null,
      "outputs": [
        {
          "output_type": "stream",
          "text": [
            "안녕하세요\n",
            "안녕하세요\n",
            "안녕하세요\n",
            "\n",
            "안녕하세요\n",
            "안녕하세요\n",
            "안녕하세요\n",
            "안녕하세요\n",
            "안녕하세요\n"
          ],
          "name": "stdout"
        }
      ]
    },
    {
      "cell_type": "code",
      "metadata": {
        "id": "hZgnB-4c2007",
        "colab_type": "code",
        "colab": {
          "base_uri": "https://localhost:8080/",
          "height": 210
        },
        "outputId": "8731d624-53c2-4ef7-9d5b-dd7213638fa3"
      },
      "source": [
        "#목표 - 업그레이드가 쉬운 프로그램을 구현해야 함(확장성 ↑)\n",
        "\n",
        "#방법 1\n",
        "print(\"안녕하세요\")\n",
        "print(\"안녕하세요\")\n",
        "print(\"안녕하세요\")\n",
        "print()\n",
        "\n",
        "#방법 2\n",
        "for i in range(3):\n",
        "  print(\"안녕하세요\")\n",
        "print()\n",
        "\n",
        "#방법 3 함수 만들기 - 확장성이 제일 좋음!\n",
        "def print_3_times():\n",
        "  for i in range(3):\n",
        "    print(\"안녕하세요\")\n",
        "\n",
        "#실행부문\n",
        "print_3_times()."
      ],
      "execution_count": null,
      "outputs": [
        {
          "output_type": "stream",
          "text": [
            "안녕하세요\n",
            "안녕하세요\n",
            "안녕하세요\n",
            "\n",
            "안녕하세요\n",
            "안녕하세요\n",
            "안녕하세요\n",
            "\n",
            "안녕하세요\n",
            "안녕하세요\n",
            "안녕하세요\n"
          ],
          "name": "stdout"
        }
      ]
    },
    {
      "cell_type": "markdown",
      "metadata": {
        "id": "tC6baePc97V9",
        "colab_type": "text"
      },
      "source": [
        "매개변수(기본)\n",
        "\n",
        "*   항목 추가\n",
        "*   항목 추가\n",
        "\n"
      ]
    },
    {
      "cell_type": "code",
      "metadata": {
        "id": "EBjtyb5QBr2b",
        "colab_type": "code",
        "colab": {
          "base_uri": "https://localhost:8080/",
          "height": 105
        },
        "outputId": "a5d57b22-d6f4-4142-ebb2-f437651e6ab9"
      },
      "source": [
        "def print_n_times(value, n): #value: 인사말, n: 몇 번 인사\n",
        "  for i in range(n):\n",
        "    print(value)\n",
        "\n",
        "print_n_times(\"사장님 안녕하세요?\", 3)\n",
        "print_n_times(\"안녕 길동아!\", 2)"
      ],
      "execution_count": null,
      "outputs": [
        {
          "output_type": "stream",
          "text": [
            "사장님 안녕하세요?\n",
            "사장님 안녕하세요?\n",
            "사장님 안녕하세요?\n",
            "안녕 길동아!\n",
            "안녕 길동아!\n"
          ],
          "name": "stdout"
        }
      ]
    },
    {
      "cell_type": "markdown",
      "metadata": {
        "id": "w6CdPIHCF8zb",
        "colab_type": "text"
      },
      "source": [
        "리턴"
      ]
    },
    {
      "cell_type": "code",
      "metadata": {
        "id": "83OTo80ZtExp",
        "colab_type": "code",
        "colab": {
          "base_uri": "https://localhost:8080/",
          "height": 105
        },
        "outputId": "64b9b147-c6ee-4c42-accf-70f63b5dd88c"
      },
      "source": [
        "#자료 없이 리턴하기\n",
        "def return_test():\n",
        "  print(\"A 위치입니다.\")\n",
        "  return\n",
        "  print(\"B 위치입니다.\")\n",
        "\n",
        "return_test()\n",
        "print()\n",
        "\n",
        "#자료와 함께 리턴하기\n",
        "def return_test2():\n",
        "  return 100\n",
        "\n",
        "value = return_test2()\n",
        "print(value)\n",
        "print()\n",
        "\n",
        "#아무것도 리턴하지 않기\n",
        "def return_test3():\n",
        "  return\n",
        "\n",
        "value2 = return_test3()\n",
        "print(value2)"
      ],
      "execution_count": null,
      "outputs": [
        {
          "output_type": "stream",
          "text": [
            "A 위치입니다.\n",
            "\n",
            "100\n",
            "\n",
            "None\n"
          ],
          "name": "stdout"
        }
      ]
    },
    {
      "cell_type": "code",
      "metadata": {
        "id": "tzPleq9rDZVG",
        "colab_type": "code",
        "colab": {
          "base_uri": "https://localhost:8080/",
          "height": 158
        },
        "outputId": "a8573a30-c425-489f-ca4b-4d21f8a5f30c"
      },
      "source": [
        "import time\n",
        "\n",
        "def return_test():\n",
        "  print(\"return_test 실행 시작\")\n",
        "  print(\"A 위치 입니다.\")\n",
        "\n",
        "  print(\"파이썬이 5초 멈춥니다.\")\n",
        "  time.sleep(5)\n",
        "\n",
        "  print(\"함수 실행한 부분으로 돌아갑니다.\")\n",
        "  return\n",
        "  print(\"B의 위치 입니다. 내가 실행될까요?\") #retun 뒤의 코드는 실행되지 않음\n",
        "\n",
        "print(\"return_test 호출 시작\")\n",
        "print()\n",
        "\n",
        "return_test()\n",
        "print()\n",
        "\n",
        "print(\"return_test 호출 종료\")"
      ],
      "execution_count": null,
      "outputs": [
        {
          "output_type": "stream",
          "text": [
            "return_test 호출 시작\n",
            "\n",
            "return_test 실행 시작\n",
            "A 위치 입니다.\n",
            "파이썬이 5초 멈춥니다.\n",
            "함수 실행한 부분으로 돌아갑니다.\n",
            "\n",
            "return_test 호출 종료\n"
          ],
          "name": "stdout"
        }
      ]
    },
    {
      "cell_type": "code",
      "metadata": {
        "id": "HQlN0IXSHOcm",
        "colab_type": "code",
        "colab": {
          "base_uri": "https://localhost:8080/",
          "height": 175
        },
        "outputId": "f26863dc-164c-4f7c-8e46-4aadf980435e"
      },
      "source": [
        "#자료와 함께 리턴하기\n",
        "import time\n",
        "\n",
        "def return_test():\n",
        "  print(\"return_test 실행 시작\")\n",
        "  print(\"A 위치 입니다.\")\n",
        "\n",
        "  print(\"파이썬이 5초 멈춥니다.\")\n",
        "  time.sleep(5)\n",
        "\n",
        "  print(\"함수 실행한 부분으로 100을 가지고 돌아갑니다.\")\n",
        "  return 100\n",
        "\n",
        "print(\"return_test 호출 시작\")\n",
        "print()\n",
        "\n",
        "value = return_test()\n",
        "print(value)\n",
        "print(\"value = \", value)\n",
        "\n",
        "print(\"return_test 호출 종료\")"
      ],
      "execution_count": null,
      "outputs": [
        {
          "output_type": "stream",
          "text": [
            "return_test 호출 시작\n",
            "\n",
            "return_test 실행 시작\n",
            "A 위치 입니다.\n",
            "파이썬이 5초 멈춥니다.\n",
            "함수 실행한 부분으로 100을 가지고 돌아갑니다.\n",
            "100\n",
            "value =  100\n",
            "return_test 호출 종료\n"
          ],
          "name": "stdout"
        }
      ]
    },
    {
      "cell_type": "code",
      "metadata": {
        "id": "4ItkDXjmMcmt",
        "colab_type": "code",
        "colab": {
          "base_uri": "https://localhost:8080/",
          "height": 34
        },
        "outputId": "f1a7aaba-53fb-4d7e-a3ed-00f191218e49"
      },
      "source": [
        "def sum(n):\n",
        "  sum_number = 0\n",
        "  for i in range(n + 1):\n",
        "    sum_number += i\n",
        "  \n",
        "  return sum_number\n",
        "\n",
        "print(sum(3))"
      ],
      "execution_count": null,
      "outputs": [
        {
          "output_type": "stream",
          "text": [
            "6\n"
          ],
          "name": "stdout"
        }
      ]
    },
    {
      "cell_type": "code",
      "metadata": {
        "id": "-SvGXe16Mvx8",
        "colab_type": "code",
        "colab": {
          "base_uri": "https://localhost:8080/",
          "height": 34
        },
        "outputId": "0c3613bb-ea59-4dce-e347-1c0dae4601de"
      },
      "source": [
        "def sum_range(a, b):\n",
        "  sum_number = 0\n",
        "  for i in range(a, b + 1):\n",
        "    sum_number += i\n",
        "  return sum_number\n",
        "\n",
        "print(sum_range(1,10))"
      ],
      "execution_count": null,
      "outputs": [
        {
          "output_type": "stream",
          "text": [
            "55\n"
          ],
          "name": "stdout"
        }
      ]
    },
    {
      "cell_type": "code",
      "metadata": {
        "id": "i3cjMH6xtdhM",
        "colab_type": "code",
        "colab": {
          "base_uri": "https://localhost:8080/",
          "height": 105
        },
        "outputId": "6212668c-f198-4a5f-c00c-57507de46814"
      },
      "source": [
        "def sum_all(start, end):\n",
        "  output = 0\n",
        "  for i in range(start, end + 1):\n",
        "    output += i\n",
        "  return output\n",
        "\n",
        "print(\"0 to 100: \", sum_all(0, 100))\n",
        "print()\n",
        "\n",
        "def sum_all2(start = 0, end = 100, step = 1):\n",
        "  output = 0\n",
        "  for i in range(start, end + 1, step):\n",
        "    output += i\n",
        "  return output\n",
        "\n",
        "print(\"A. \", sum_all2(0, 100, 10))\n",
        "print(\"B. \", sum_all2(end = 100))\n",
        "print(\"C. \", sum_all2(end = 100, step = 2))"
      ],
      "execution_count": null,
      "outputs": [
        {
          "output_type": "stream",
          "text": [
            "0 to 100:  5050\n",
            "\n",
            "A.  550\n",
            "B.  5050\n",
            "C.  2550\n"
          ],
          "name": "stdout"
        }
      ]
    },
    {
      "cell_type": "code",
      "metadata": {
        "id": "0l5oAxOovapd",
        "colab_type": "code",
        "colab": {
          "base_uri": "https://localhost:8080/",
          "height": 34
        },
        "outputId": "5c116cf5-125d-4626-d962-e50abd088225"
      },
      "source": [
        "def f(x):\n",
        "  return 2*x + 1\n",
        "\n",
        "print(f(10))"
      ],
      "execution_count": null,
      "outputs": [
        {
          "output_type": "stream",
          "text": [
            "21\n"
          ],
          "name": "stdout"
        }
      ]
    },
    {
      "cell_type": "code",
      "metadata": {
        "id": "h_dLCZBm1wq-",
        "colab_type": "code",
        "colab": {
          "base_uri": "https://localhost:8080/",
          "height": 34
        },
        "outputId": "520168cc-992f-4151-ef45-0ac30a735237"
      },
      "source": [
        "def g(x):\n",
        "  return x**2 + 2*x + 1\n",
        "\n",
        "print(g(10))"
      ],
      "execution_count": null,
      "outputs": [
        {
          "output_type": "stream",
          "text": [
            "121\n"
          ],
          "name": "stdout"
        }
      ]
    },
    {
      "cell_type": "markdown",
      "metadata": {
        "id": "noNMCutHykXp",
        "colab_type": "text"
      },
      "source": [
        "#매개변수"
      ]
    },
    {
      "cell_type": "code",
      "metadata": {
        "id": "EwwqCkwRqHD2",
        "colab_type": "code",
        "colab": {
          "base_uri": "https://localhost:8080/",
          "height": 228
        },
        "outputId": "1bec93d9-0443-49db-f73b-2f5ced7f3c2e"
      },
      "source": [
        "#가변 매개변수: 매개변수를 원하는 만큼 받을 수 있는 함수\n",
        "#가변 매개변수 뒤에는 일반 매개변수가 올 수 없음\n",
        "#가변 매개변수는 하나만 사용 가능\n",
        "\n",
        "def print_n_times2(n, *values):\n",
        "  for i in range(n):\n",
        "    for value in values:\n",
        "      print(value)\n",
        "    print()\n",
        "\n",
        "print_n_times2(3, \"안녕하세요\", \"즐거운\", \"파이썬 프로그래밍\")"
      ],
      "execution_count": null,
      "outputs": [
        {
          "output_type": "stream",
          "text": [
            "안녕하세요\n",
            "즐거운\n",
            "파이썬 프로그래밍\n",
            "\n",
            "안녕하세요\n",
            "즐거운\n",
            "파이썬 프로그래밍\n",
            "\n",
            "안녕하세요\n",
            "즐거운\n",
            "파이썬 프로그래밍\n",
            "\n"
          ],
          "name": "stdout"
        }
      ]
    },
    {
      "cell_type": "code",
      "metadata": {
        "id": "Fe9d3CB-q1QS",
        "colab_type": "code",
        "colab": {
          "base_uri": "https://localhost:8080/",
          "height": 246
        },
        "outputId": "a085042f-3f61-4ca4-98c3-edd98b5229f5"
      },
      "source": [
        "#기본 매개변수: 매개변수 값을 입력하지 않았을 경우, 매개변수에 들어가는 기본값\n",
        "#print(value, ..., sep = ' ', end = '\\n', file = sys.stdout, flush = False)\n",
        "def print_n_times3(value, n = 2):\n",
        "  for i in range(n):\n",
        "    print(value)\n",
        "\n",
        "print_n_times3(\"안녕하세요\")\n",
        "print()\n",
        "\n",
        "#기본 매개변수가 가변 매개변수보다 앞설 때, 그 의미가 사라짐\n",
        "#기본 매개변수보다 가변 매개변수가 앞설 때, 가변 매개변수강 우선시 됨\n",
        "def print_n_times4(*values, n = 2):\n",
        "  for i in range(n):\n",
        "    for value in values:\n",
        "      print(value)\n",
        "    print()\n",
        "\n",
        "print_n_times4(\"안녕하세요\", \"즐거운\", \"파이썬 프로그래밍\", 3)"
      ],
      "execution_count": null,
      "outputs": [
        {
          "output_type": "stream",
          "text": [
            "안녕하세요\n",
            "안녕하세요\n",
            "\n",
            "안녕하세요\n",
            "즐거운\n",
            "파이썬 프로그래밍\n",
            "3\n",
            "\n",
            "안녕하세요\n",
            "즐거운\n",
            "파이썬 프로그래밍\n",
            "3\n",
            "\n"
          ],
          "name": "stdout"
        }
      ]
    },
    {
      "cell_type": "code",
      "metadata": {
        "id": "3sB3M7inrWNe",
        "colab_type": "code",
        "colab": {
          "base_uri": "https://localhost:8080/",
          "height": 246
        },
        "outputId": "6b4876de-1eec-447a-ba50-8fd41d0418da"
      },
      "source": [
        "#키워드 매개변수: 매개변수 이름을 지정해서 입력하는 매개변수\n",
        "while True: #불 표현식이 True 일 때,\n",
        "  #\".\"을 출력\n",
        "  #기본적으로 end가 \"\\n\"이라 줄바꿈이 일어나지만, 빈 문자열로 바꿔 줄바꿈이 없도록 함\n",
        "  print(\".\", end = \"\")\n",
        "  break #무한루프를 막기 위해 break 사용\n",
        "print()\n",
        "\n",
        "print_n_times4(\"안녕하세요\", \"즐거운\", \"파이썬 프로그래밍\", n = 3)"
      ],
      "execution_count": null,
      "outputs": [
        {
          "output_type": "stream",
          "text": [
            ".\n",
            "안녕하세요\n",
            "즐거운\n",
            "파이썬 프로그래밍\n",
            "\n",
            "안녕하세요\n",
            "즐거운\n",
            "파이썬 프로그래밍\n",
            "\n",
            "안녕하세요\n",
            "즐거운\n",
            "파이썬 프로그래밍\n",
            "\n"
          ],
          "name": "stdout"
        }
      ]
    },
    {
      "cell_type": "code",
      "metadata": {
        "id": "jq1IeWU5sa56",
        "colab_type": "code",
        "colab": {
          "base_uri": "https://localhost:8080/",
          "height": 87
        },
        "outputId": "98b9896c-26c5-4861-a1bc-48bc4987320d"
      },
      "source": [
        "#키워드 매개변수\n",
        "#기본 매개변수에서 필요한 값만 입력한 경우\n",
        "\n",
        "def test(a, b = 10, c = 100):\n",
        "  print(a + b - c)\n",
        "\n",
        "test(10, 20, 30) #기본 형태\n",
        "test(a = 10, b = 100, c = 200) #키워드 매개변수로 모두 지정한 형태\n",
        "test(c = 10, a = 100, b = 200) #키워드 매개변수로 모든 매개변수를 마구잡이로 지정한 형태\n",
        "test(10, c = 200) #키워드 매개변수로 일부만 지정한 형태"
      ],
      "execution_count": null,
      "outputs": [
        {
          "output_type": "stream",
          "text": [
            "0\n",
            "-90\n",
            "290\n",
            "-180\n"
          ],
          "name": "stdout"
        }
      ]
    },
    {
      "cell_type": "code",
      "metadata": {
        "id": "QyRSuvkR12mV",
        "colab_type": "code",
        "colab": {
          "base_uri": "https://localhost:8080/",
          "height": 34
        },
        "outputId": "70f96ba5-17af-44cf-8492-20d2a779086d"
      },
      "source": [
        "def mul(*values):\n",
        "  output = 1\n",
        "  for value in values:\n",
        "    output *= value\n",
        "  return output\n",
        "\n",
        "print(mul(5, 7, 9, 10))"
      ],
      "execution_count": null,
      "outputs": [
        {
          "output_type": "stream",
          "text": [
            "3150\n"
          ],
          "name": "stdout"
        }
      ]
    },
    {
      "cell_type": "markdown",
      "metadata": {
        "id": "TFNyQcGSSHfe",
        "colab_type": "text"
      },
      "source": [
        "매개변수 - 가변 매개변수\n"
      ]
    },
    {
      "cell_type": "code",
      "metadata": {
        "id": "OKrsxlPcpuEr",
        "colab_type": "code",
        "colab": {
          "base_uri": "https://localhost:8080/",
          "height": 70
        },
        "outputId": "3764672d-6378-444b-c82c-74c86d416b28"
      },
      "source": [
        "def sum_1(a, b):\n",
        "  print(\"a = \", a)\n",
        "  print(\"b = \", b)\n",
        "  sum = a + b\n",
        "  return a + b\n",
        "\n",
        "sum_1(10, 20)"
      ],
      "execution_count": null,
      "outputs": [
        {
          "output_type": "stream",
          "text": [
            "a =  10\n",
            "b =  20\n"
          ],
          "name": "stdout"
        },
        {
          "output_type": "execute_result",
          "data": {
            "text/plain": [
              "30"
            ]
          },
          "metadata": {
            "tags": []
          },
          "execution_count": 18
        }
      ]
    },
    {
      "cell_type": "code",
      "metadata": {
        "id": "lJgijrIBqD5U",
        "colab_type": "code",
        "colab": {
          "base_uri": "https://localhost:8080/",
          "height": 334
        },
        "outputId": "a8991553-1986-4f09-994f-1f8cdc232224"
      },
      "source": [
        "#위의 예제를 가변 매개변수 형태로 변환\n",
        "def sum_2(*numbers):\n",
        "  print(\"numbers = \", numbers) #튜플.. 뒤에서 배움!\n",
        "  print()\n",
        "  result = 0\n",
        "  for num in numbers:\n",
        "    print(\"num = \", num)\n",
        "    result += num\n",
        "    print(\"result = \", result)\n",
        "    print(\"-\" * 100)\n",
        "  return result\n",
        "\n",
        "sum_2(1, 2, 3, 4, 5)"
      ],
      "execution_count": null,
      "outputs": [
        {
          "output_type": "stream",
          "text": [
            "numbers =  (1, 2, 3, 4, 5)\n",
            "\n",
            "num =  1\n",
            "result =  1\n",
            "----------------------------------------------------------------------------------------------------\n",
            "num =  2\n",
            "result =  3\n",
            "----------------------------------------------------------------------------------------------------\n",
            "num =  3\n",
            "result =  6\n",
            "----------------------------------------------------------------------------------------------------\n",
            "num =  4\n",
            "result =  10\n",
            "----------------------------------------------------------------------------------------------------\n",
            "num =  5\n",
            "result =  15\n",
            "----------------------------------------------------------------------------------------------------\n"
          ],
          "name": "stdout"
        },
        {
          "output_type": "execute_result",
          "data": {
            "text/plain": [
              "15"
            ]
          },
          "metadata": {
            "tags": []
          },
          "execution_count": 22
        }
      ]
    },
    {
      "cell_type": "code",
      "metadata": {
        "id": "4_gOsx8irCt4",
        "colab_type": "code",
        "colab": {
          "base_uri": "https://localhost:8080/",
          "height": 228
        },
        "outputId": "883aa65b-bb9f-4388-bba8-42a88dcf3ea8"
      },
      "source": [
        "def print_n_times(n, *values):\n",
        "  print(\"values = \", values)\n",
        "  print()\n",
        "  \n",
        "  for i in range(n):\n",
        "    for value in values:\n",
        "      print(\"value = \", value)\n",
        "    print(\"-\" * 100)\n",
        "\n",
        "print_n_times(2, \"안녕 회장!\", \"월급 올려줘\", \"돈 많은 백수 할래 ㅠ\", \"일 적게 시키고 돈 많이 줘\")"
      ],
      "execution_count": null,
      "outputs": [
        {
          "output_type": "stream",
          "text": [
            "values =  ('안녕 회장!', '월급 올려줘', '돈 많은 백수 할래 ㅠ', '일 적게 시키고 돈 많이 줘')\n",
            "\n",
            "value =  안녕 회장!\n",
            "value =  월급 올려줘\n",
            "value =  돈 많은 백수 할래 ㅠ\n",
            "value =  일 적게 시키고 돈 많이 줘\n",
            "----------------------------------------------------------------------------------------------------\n",
            "value =  안녕 회장!\n",
            "value =  월급 올려줘\n",
            "value =  돈 많은 백수 할래 ㅠ\n",
            "value =  일 적게 시키고 돈 많이 줘\n",
            "----------------------------------------------------------------------------------------------------\n"
          ],
          "name": "stdout"
        }
      ]
    },
    {
      "cell_type": "markdown",
      "metadata": {
        "id": "Frc7Kj7Cw3GH",
        "colab_type": "text"
      },
      "source": [
        "매개변수 - 기본 매개변수"
      ]
    },
    {
      "cell_type": "code",
      "metadata": {
        "id": "l_GMpgz3tkcw",
        "colab_type": "code",
        "colab": {
          "base_uri": "https://localhost:8080/",
          "height": 52
        },
        "outputId": "2fbff047-74e1-44b4-8587-bf0fe0b77784"
      },
      "source": [
        "#인사말 반복 출력, 대부분은 2번 반복하며, 아닌 것도 있음\n",
        "def print_n_times(value, n = 2):\n",
        "  for i in range(n):\n",
        "    print(value)\n",
        "\n",
        "print_n_times(\"안녕\") #n을 생략해도, 기본값만큼 반복 출력함"
      ],
      "execution_count": null,
      "outputs": [
        {
          "output_type": "stream",
          "text": [
            "안녕\n",
            "안녕\n"
          ],
          "name": "stdout"
        }
      ]
    },
    {
      "cell_type": "code",
      "metadata": {
        "id": "rGac8H7IwjqO",
        "colab_type": "code",
        "colab": {
          "base_uri": "https://localhost:8080/",
          "height": 175
        },
        "outputId": "b52900ca-320e-44b8-bb0e-e0febdd4e789"
      },
      "source": [
        "#매개변수가 여러 개일 때, 이름을 명시해 실행(호출)\n",
        "def test(a, *values, b = 10, c = 100):\n",
        "  print(\"a = \", a)\n",
        "  print(\"values = \", values)\n",
        "  print(\"b = \", b)\n",
        "  print(\"c = \", c)\n",
        "\n",
        "test(10, \"안녕\", \"또 만나\", 20, 30) #20, 30이 가변 매개변수화됨\n",
        "print()\n",
        "\n",
        "test(10, \"안녕\", \"또 만나\", b = 20, c = 30)"
      ],
      "execution_count": null,
      "outputs": [
        {
          "output_type": "stream",
          "text": [
            "a =  10\n",
            "values =  ('안녕', '또 만나', 20, 30)\n",
            "b =  10\n",
            "c =  100\n",
            "\n",
            "a =  10\n",
            "values =  ('안녕', '또 만나')\n",
            "b =  20\n",
            "c =  30\n"
          ],
          "name": "stdout"
        }
      ]
    },
    {
      "cell_type": "code",
      "metadata": {
        "id": "zUicEqFq0OZ3",
        "colab_type": "code",
        "colab": {
          "base_uri": "https://localhost:8080/",
          "height": 562
        },
        "outputId": "bc098efd-e79e-4024-cd2f-e6ef08b328e5"
      },
      "source": [
        "#다시 한 번 복습 시작 ! \n",
        "#가변 매개변수\n",
        "\n",
        "def print_n_times(n, *values):\n",
        "  for i in range(n):\n",
        "    for value in values:\n",
        "      print(value)\n",
        "    print()\n",
        "\n",
        "print_n_times(3, \"안녕\", \"반가워\")\n",
        "print(\"-\" * 100)\n",
        "\n",
        "#기본 매개변수\n",
        "def print_n_times(value, n = 2):\n",
        "  for i in range(n):\n",
        "    print(value)\n",
        "\n",
        "print_n_times(\"안녕\")\n",
        "print(\"-\" * 100)\n",
        "\n",
        "#가변 매개변수와 기본 매개변수의 순서 \n",
        "#1. 기본 매개변수가 앞설 때,\n",
        "\n",
        "def print_n_times(n = 2, *values):\n",
        "  for i in range(n):\n",
        "    for value in values:\n",
        "      print(value)\n",
        "    print()\n",
        "\n",
        "try: \n",
        "  print_n_times(\"안녕\", \"반가워\")\n",
        "except:\n",
        "  print(\"#기본 매개변수는 가변 매개변수 앞에 써도 별 의미가 없다 - n에 \\\"안녕\\\"이 들어가버리는 것 > 오류 발생\")\n",
        "print(\"-\" * 100) \n",
        "\n",
        "#2. 가변 매개변수가 앞설 때,\n",
        "def print_n_times(*values, n = 2):\n",
        "  for i in range(n):\n",
        "    for value in values:\n",
        "      print(value)\n",
        "    print()\n",
        "\n",
        "print_n_times(\"안녕\", \"반가워\", 3)\n",
        "print() #이 때는, 뒤의 기본 매개변수가 가변 매개변수로 인식됨\n",
        "\n",
        "#가변 매개변수와 기본 매개변수 함께 쓰는 법: 키워드 매개변수\n",
        "def test(a, b = 10, c = 100):\n",
        "  print(a + b - c)\n",
        "\n",
        "test(10, 20, 30) #기본 형태\n",
        "test(a = 10, b = 100, c = 200) #키워드 매개변수로 모두 지정한 형태\n",
        "test(c = 10, a = 100, b = 200) #키워드 매개변수로 모든 매개변수를 마구잡이로 지정한 형태\n",
        "test(10, c = 200) #키워드 매개변수로 일부만 지정한 형태\n",
        "\n",
        "#가변 매개변수 & 키워드 매개변수\n",
        "def sum_all2(start = 0, end = 100, step = 1):\n",
        "  output = 0\n",
        "  for i in range(start, end + 1, step):\n",
        "    output += i\n",
        "  return output\n",
        "\n",
        "print(\"A. \", sum_all2(0, 100, 10))\n",
        "print(\"B. \", sum_all2(end = 100))\n",
        "print(\"C. \", sum_all2(end = 100, step = 2))"
      ],
      "execution_count": null,
      "outputs": [
        {
          "output_type": "stream",
          "text": [
            "안녕\n",
            "반가워\n",
            "\n",
            "안녕\n",
            "반가워\n",
            "\n",
            "안녕\n",
            "반가워\n",
            "\n",
            "----------------------------------------------------------------------------------------------------\n",
            "안녕\n",
            "안녕\n",
            "----------------------------------------------------------------------------------------------------\n",
            "#기본 매개변수는 가변 매개변수 앞에 써도 별 의미가 없다 - n에 \"안녕\"이 들어가버리는 것 > 오류 발생\n",
            "----------------------------------------------------------------------------------------------------\n",
            "안녕\n",
            "반가워\n",
            "3\n",
            "\n",
            "안녕\n",
            "반가워\n",
            "3\n",
            "\n",
            "\n",
            "0\n",
            "-90\n",
            "290\n",
            "-180\n",
            "A.  550\n",
            "B.  5050\n",
            "C.  2550\n"
          ],
          "name": "stdout"
        }
      ]
    },
    {
      "cell_type": "code",
      "metadata": {
        "id": "9RIEoIdF3uKI",
        "colab_type": "code",
        "colab": {
          "base_uri": "https://localhost:8080/",
          "height": 34
        },
        "outputId": "528d855c-4598-45d0-a087-c549ec08eb5a"
      },
      "source": [
        "#확인 문제2\n",
        "def mul(*values):\n",
        "  result = 1\n",
        "  for value in values:\n",
        "    result *= value\n",
        "  return result\n",
        "\n",
        "print(mul(5, 7, 9, 10))"
      ],
      "execution_count": null,
      "outputs": [
        {
          "output_type": "stream",
          "text": [
            "3150\n"
          ],
          "name": "stdout"
        }
      ]
    },
    {
      "cell_type": "code",
      "metadata": {
        "id": "-Eyya-It6Ldk",
        "colab_type": "code",
        "colab": {
          "base_uri": "https://localhost:8080/",
          "height": 34
        },
        "outputId": "43e7baf7-38a3-4743-c542-6fb55426ea91"
      },
      "source": [
        "def function(*values, valueA, valueB):\n",
        "  pass\n",
        "\n",
        "try: \n",
        "  function(1, 2, 3, 4, 5) \n",
        "except:\n",
        "  print(\"#1, 2, 3, 4, 5를 가변 매개변수로 인식, valueA와 valueB가 정의되지 않음으로 오류가 발생함!\")"
      ],
      "execution_count": null,
      "outputs": [
        {
          "output_type": "stream",
          "text": [
            "#1, 2, 3, 4, 5를 가변 매개변수로 인식, valueA와 valueB가 정의되지 않음으로 오류가 발생함!\n"
          ],
          "name": "stdout"
        }
      ]
    },
    {
      "cell_type": "code",
      "metadata": {
        "id": "GHlS76l16RS4",
        "colab_type": "code",
        "colab": {}
      },
      "source": [
        "#아래는 모두 오류가 발생하지 않는 코드!\n",
        "\n",
        "def function(*values, valueA = 10, valueB = 20):\n",
        "  pass\n",
        "\n",
        "function(1, 2, 3, 4, 5)\n",
        "\n",
        "def function(valueA, valueB, *values):\n",
        "  pass\n",
        "\n",
        "function(1, 2, 3, 4, 5)\n",
        "\n",
        "def function(valueA = 10, valueB = 20, *values):\n",
        "  pass\n",
        "\n",
        "function(1, 2, 3, 4, 5)"
      ],
      "execution_count": null,
      "outputs": []
    },
    {
      "cell_type": "code",
      "metadata": {
        "id": "gcgttejo6sdj",
        "colab_type": "code",
        "colab": {}
      },
      "source": [
        ""
      ],
      "execution_count": null,
      "outputs": []
    }
  ]
}