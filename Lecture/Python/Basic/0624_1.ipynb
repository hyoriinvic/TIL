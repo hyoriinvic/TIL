{
  "nbformat": 4,
  "nbformat_minor": 0,
  "metadata": {
    "colab": {
      "name": "0624_1",
      "provenance": [],
      "collapsed_sections": []
    },
    "kernelspec": {
      "name": "python3",
      "display_name": "Python 3"
    }
  },
  "cells": [
    {
      "cell_type": "code",
      "metadata": {
        "id": "UZu-MXzOA8r9",
        "colab_type": "code",
        "colab": {}
      },
      "source": [
        "#딕셔너리; 키를 기반으로 여러 자료를 저장하는 자료형\n",
        "#키: 딕셔너리 내부에서 값에 접근할 때 사용하는 것\n",
        "#값: 딕셔너리 내부에 있는 각각의 내용"
      ],
      "execution_count": null,
      "outputs": []
    },
    {
      "cell_type": "code",
      "metadata": {
        "id": "MT6arynJBp5o",
        "colab_type": "code",
        "colab": {
          "base_uri": "https://localhost:8080/",
          "height": 70
        },
        "outputId": "5e53350d-e68c-4cd8-e88a-2900a7895882"
      },
      "source": [
        "dict_a = {}\n",
        "dict_a[\"name\"] = \"구름\" #딕셔너리 내 요소 추가\n",
        "print(dict_a)\n",
        "print()\n",
        "\n",
        "del dict_a[\"name\"] #딕셔너리 내 요소 제거\n",
        "print(dict_a)"
      ],
      "execution_count": null,
      "outputs": [
        {
          "output_type": "stream",
          "text": [
            "{'name': '구름'}\n",
            "\n",
            "{}\n"
          ],
          "name": "stdout"
        }
      ]
    },
    {
      "cell_type": "code",
      "metadata": {
        "id": "INRvEJ6fPGig",
        "colab_type": "code",
        "colab": {
          "base_uri": "https://localhost:8080/",
          "height": 210
        },
        "outputId": "27ed0082-d435-426d-e251-6688e4cc8e0c"
      },
      "source": [
        "pets = [\n",
        "        {\"name\" : \"구름\", \"age\" : 5},\n",
        "        {\"name\" : \"초코\", \"age\" : 3},\n",
        "        {\"name\" : \"아지\", \"age\" : 1},\n",
        "        {\"name\" : \"호랑이\", \"age\" : 1}\n",
        "]\n",
        "\n",
        "print(\"#우리 동네 애완동물들\")\n",
        "for i in pets:\n",
        "  print(\"{} {}살\".format(i[\"name\"], i[\"age\"]))\n",
        "print()\n",
        "\n",
        "#다른 방법\n",
        "print(\"#우리 동네 애완동물들\")\n",
        "for pet in pets:\n",
        "  print(pet[\"name\"], str(pet[\"age\"]) + \"살\")"
      ],
      "execution_count": null,
      "outputs": [
        {
          "output_type": "stream",
          "text": [
            "#우리 동네 애완동물들\n",
            "구름 5살\n",
            "초코 3살\n",
            "아지 1살\n",
            "호랑이 1살\n",
            "\n",
            "#우리 동네 애완동물들\n",
            "구름 5살\n",
            "초코 3살\n",
            "아지 1살\n",
            "호랑이 1살\n"
          ],
          "name": "stdout"
        }
      ]
    },
    {
      "cell_type": "code",
      "metadata": {
        "id": "ju17wMegB3DM",
        "colab_type": "code",
        "colab": {
          "base_uri": "https://localhost:8080/",
          "height": 721
        },
        "outputId": "553d7950-d646-497a-f78e-a6e8201780e6"
      },
      "source": [
        "number_list = [6, 2, 1, 1, 2, 6, 7, 8, 3, 5]\n",
        "counter = {}\n",
        "\n",
        "for number in number_list:\n",
        "  print(\"number = \", number)\n",
        "  print(\"counter.get(\", number,\") = \", counter.get(number))\n",
        "  if counter.get(number) == None:\n",
        "    counter[number] = 1\n",
        "  else:\n",
        "    old_counter = counter.get(number)\n",
        "    new_counter = old_counter + 1\n",
        "    counter[number] = new_counter\n",
        "    # counter[number] = counter[number] + 1\n",
        "  print(\"counter = \", counter)\n",
        "  print()"
      ],
      "execution_count": null,
      "outputs": [
        {
          "output_type": "stream",
          "text": [
            "number =  6\n",
            "counter.get( 6 ) =  None\n",
            "counter =  {6: 1}\n",
            "\n",
            "number =  2\n",
            "counter.get( 2 ) =  None\n",
            "counter =  {6: 1, 2: 1}\n",
            "\n",
            "number =  1\n",
            "counter.get( 1 ) =  None\n",
            "counter =  {6: 1, 2: 1, 1: 1}\n",
            "\n",
            "number =  1\n",
            "counter.get( 1 ) =  1\n",
            "counter =  {6: 1, 2: 1, 1: 2}\n",
            "\n",
            "number =  2\n",
            "counter.get( 2 ) =  1\n",
            "counter =  {6: 1, 2: 2, 1: 2}\n",
            "\n",
            "number =  6\n",
            "counter.get( 6 ) =  1\n",
            "counter =  {6: 2, 2: 2, 1: 2}\n",
            "\n",
            "number =  7\n",
            "counter.get( 7 ) =  None\n",
            "counter =  {6: 2, 2: 2, 1: 2, 7: 1}\n",
            "\n",
            "number =  8\n",
            "counter.get( 8 ) =  None\n",
            "counter =  {6: 2, 2: 2, 1: 2, 7: 1, 8: 1}\n",
            "\n",
            "number =  3\n",
            "counter.get( 3 ) =  None\n",
            "counter =  {6: 2, 2: 2, 1: 2, 7: 1, 8: 1, 3: 1}\n",
            "\n",
            "number =  5\n",
            "counter.get( 5 ) =  None\n",
            "counter =  {6: 2, 2: 2, 1: 2, 7: 1, 8: 1, 3: 1, 5: 1}\n",
            "\n"
          ],
          "name": "stdout"
        }
      ]
    },
    {
      "cell_type": "code",
      "metadata": {
        "id": "P5eDLnQ84DW_",
        "colab_type": "code",
        "colab": {
          "base_uri": "https://localhost:8080/",
          "height": 34
        },
        "outputId": "cfa11b54-600d-4602-d9f1-e9e2629e49d4"
      },
      "source": [
        "number_list = [0, 2, 8, 3, 6, 1, 2, 9, 7, 8, 5, 6, 2, 1, 1, 2, 6, 7, 8, 3, 5]\n",
        "counter = {}\n",
        "\n",
        "#답지 풀이\n",
        "for number in number_list:\n",
        "  if number in counter:\n",
        "    counter[number] = counter[number] + 1\n",
        "  else:\n",
        "    counter[number] = 1\n",
        "\n",
        "print(counter)"
      ],
      "execution_count": null,
      "outputs": [
        {
          "output_type": "stream",
          "text": [
            "{0: 1, 2: 4, 8: 3, 3: 2, 6: 3, 1: 3, 9: 1, 7: 2, 5: 2}\n"
          ],
          "name": "stdout"
        }
      ]
    },
    {
      "cell_type": "code",
      "metadata": {
        "id": "f86WmRLCDH96",
        "colab_type": "code",
        "colab": {
          "base_uri": "https://localhost:8080/",
          "height": 144
        },
        "outputId": "9abc6019-3054-452b-f047-a3ee91f71d7a"
      },
      "source": [
        "character = {\n",
        "    \"name\" : \"기사\",\n",
        "    \"level\" : 12,\n",
        "    \"items\" : {\n",
        "        \"sword\" : \"불꽃의 검\",\n",
        "        \"armor\" : \"풀플레이트\"\n",
        "    },\n",
        "    \"skill\" : [\"베기\", \"세게 베기\", \"아주 세게 베기\"]\n",
        "}\n",
        "\n",
        "for key in character:\n",
        "  if type(character[key]) is dict: #type(): 자료형 확인 함수\n",
        "    for small_key in character[key]:\n",
        "      print(small_key, \": \", character[key][small_key])\n",
        "  elif type(character[key]) is list:\n",
        "    for element in character[key]:\n",
        "      print(key, \": \", element)\n",
        "  else:\n",
        "    print(key, \": \", character[key])  "
      ],
      "execution_count": null,
      "outputs": [
        {
          "output_type": "stream",
          "text": [
            "name :  기사\n",
            "level :  12\n",
            "sword :  불꽃의 검\n",
            "armor :  풀플레이트\n",
            "skill :  베기\n",
            "skill :  세게 베기\n",
            "skill :  아주 세게 베기\n"
          ],
          "name": "stdout"
        }
      ]
    }
  ]
}