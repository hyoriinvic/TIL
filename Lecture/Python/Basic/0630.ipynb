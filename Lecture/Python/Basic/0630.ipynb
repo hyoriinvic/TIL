{
  "nbformat": 4,
  "nbformat_minor": 0,
  "metadata": {
    "colab": {
      "name": "0630",
      "provenance": []
    },
    "kernelspec": {
      "name": "python3",
      "display_name": "Python 3"
    }
  },
  "cells": [
    {
      "cell_type": "markdown",
      "metadata": {
        "id": "wkhc5dIjouJW",
        "colab_type": "text"
      },
      "source": [
        "# 재귀함수 예제"
      ]
    },
    {
      "cell_type": "code",
      "metadata": {
        "id": "8YOHNv6poyrK",
        "colab_type": "code",
        "colab": {}
      },
      "source": [
        "앉힐수있는최소사람수 = 2\n",
        "앉힐수있는최대사람수 = 10\n",
        "전체사람수 = 6"
      ],
      "execution_count": null,
      "outputs": []
    },
    {
      "cell_type": "code",
      "metadata": {
        "id": "5jhZLl5Tq6Ir",
        "colab_type": "code",
        "colab": {}
      },
      "source": [
        "counter = 0"
      ],
      "execution_count": null,
      "outputs": []
    },
    {
      "cell_type": "code",
      "metadata": {
        "id": "SmfpgNVipKha",
        "colab_type": "code",
        "colab": {}
      },
      "source": [
        "def 문제(남은사람수, 앉힌사람수):\n",
        "  print(\"문제({}, {})\".format(남은사람수, 앉힌사람수))\n",
        "  print()\n",
        "  \n",
        "  for i in range(앉힌사람수, 앉힐수있는최대사람수 + 1):\n",
        "    print(\"i(앉힌사람수) = \", i)\n",
        "    print(\"남은사람수 - i = \", 남은사람수 - i)\n",
        "    if (남은사람수 - i) == 0:\n",
        "      print(\"모두 앉았습니다\")\n",
        "      global counter\n",
        "      counter += 1"
      ],
      "execution_count": null,
      "outputs": []
    },
    {
      "cell_type": "markdown",
      "metadata": {
        "id": "9I4pClMhr_3w",
        "colab_type": "text"
      },
      "source": [
        "같은 예제를 재귀함수를 사용해 구현"
      ]
    },
    {
      "cell_type": "code",
      "metadata": {
        "colab_type": "code",
        "id": "XKTA5ARf3L2E",
        "colab": {}
      },
      "source": [
        "앉힐수있는최소사람수 = 2\n",
        "앉힐수있는최대사람수 = 10\n",
        "전체사람수 = 6"
      ],
      "execution_count": null,
      "outputs": []
    },
    {
      "cell_type": "code",
      "metadata": {
        "colab_type": "code",
        "id": "yh-bOQ85r9Qg",
        "colab": {}
      },
      "source": [
        "counter = 0"
      ],
      "execution_count": null,
      "outputs": []
    },
    {
      "cell_type": "code",
      "metadata": {
        "colab_type": "code",
        "id": "SHGVRjnlr9Qm",
        "colab": {}
      },
      "source": [
        "def 문제(남은사람수, 앉힌사람수):\n",
        "  print(\"문제({}, {})\".format(남은사람수, 앉힌사람수))\n",
        "\n",
        "  if 남은사람수 < 0:\n",
        "    print(\"-\" * 100)\n",
        "    print(\"음수 입니다.\")\n",
        "    print(\"-\" * 100) \n",
        "    return\n",
        "\n",
        "  if 남은사람수 == 0:\n",
        "    global counter\n",
        "    counter += 1\n",
        "    print(\"-\" * 100)\n",
        "    print(\"모두 앉았습니다.\")\n",
        "    print(\"-\" * 100)\n",
        "    return #함수가 끝날 때는 return만 씀\n",
        "\n",
        "  if 남은사람수 == 1: \n",
        "    print(\"-\" * 100)\n",
        "    print(\"1명 입니다.\")\n",
        "    print(\"-\" * 100)\n",
        "    return\n",
        "\n",
        "  for i in range(앉힌사람수, 앉힐수있는최대사람수 + 1):\n",
        "    print(\"i(앉힌사람수) = \", i)\n",
        "    print(\"남은사람수 - i = \", 남은사람수 - i)\n",
        "    문제(남은사람수 - i, i)"
      ],
      "execution_count": null,
      "outputs": []
    },
    {
      "cell_type": "code",
      "metadata": {
        "id": "m2OToq36urld",
        "colab_type": "code",
        "colab": {}
      },
      "source": [
        "문제(6, 2)"
      ],
      "execution_count": null,
      "outputs": []
    },
    {
      "cell_type": "code",
      "metadata": {
        "id": "DKSKK9Ga2b9v",
        "colab_type": "code",
        "colab": {}
      },
      "source": [
        "문제(100, 2)"
      ],
      "execution_count": null,
      "outputs": []
    },
    {
      "cell_type": "markdown",
      "metadata": {
        "id": "f0XbEoov3evP",
        "colab_type": "text"
      },
      "source": [
        "같은 예제 - 에러를 더 줄일 수 있도록 개선"
      ]
    },
    {
      "cell_type": "code",
      "metadata": {
        "id": "_4ua5Byx3mqe",
        "colab_type": "code",
        "colab": {}
      },
      "source": [
        "#counter를 함수 안에서 선언"
      ],
      "execution_count": null,
      "outputs": []
    },
    {
      "cell_type": "code",
      "metadata": {
        "colab_type": "code",
        "id": "Ei8BG2Z4370S",
        "colab": {}
      },
      "source": [
        "#변수 정의\n",
        "앉힐수있는최소사람수 = 2\n",
        "앉힐수있는최대사람수 = 10\n",
        "전체사람수 = 6\n",
        "\n",
        "#함수 정의\n",
        "def 문제(남은사람수, 앉힌사람수):\n",
        "  counter = 0\n",
        "  print(\"문제({}, {})\".format(남은사람수, 앉힌사람수))\n",
        "  print()\n",
        "\n",
        "  if 남은사람수 < 0:\n",
        "    print(\"-\" * 100)\n",
        "    print(\"음수 입니다.\")\n",
        "    print(\"-\" * 100) \n",
        "    return\n",
        "\n",
        "  if 남은사람수 == 0:\n",
        "    counter += 1\n",
        "    print(\"-\" * 100)\n",
        "    print(\"counter = \", counter)\n",
        "    print(\"모두 앉았습니다.\")\n",
        "    print(\"-\" * 100)\n",
        "    return #함수가 끝날 때는 return만 씀\n",
        "\n",
        "  if 남은사람수 == 1: \n",
        "    print(\"-\" * 100)\n",
        "    print(\"1명 입니다.\")\n",
        "    print(\"-\" * 100)\n",
        "    return\n",
        "\n",
        "  for i in range(앉힌사람수, 앉힐수있는최대사람수 + 1):\n",
        "    print(\"i(앉힌사람수) = \", i)\n",
        "    print(\"남은사람수 - i = \", 남은사람수 - i)\n",
        "    문제(남은사람수 - i, i)\n",
        "\n",
        "#함수 실행\n",
        "문제(전체사람수, 앉힐수있는최소사람수)\n",
        "print(counter)"
      ],
      "execution_count": null,
      "outputs": []
    },
    {
      "cell_type": "code",
      "metadata": {
        "id": "-ESpb1fx9VQe",
        "colab_type": "code",
        "colab": {
          "base_uri": "https://localhost:8080/",
          "height": 34
        },
        "outputId": "b77f82c6-eb13-49cd-929d-2d121da9341f"
      },
      "source": [
        "#변수 정의\n",
        "앉힐수있는최소사람수 = 2\n",
        "앉힐수있는최대사람수 = 10\n",
        "전체사람수 = 6\n",
        "\n",
        "#함수 정의\n",
        "def 문제(남은사람수, 앉은사람수):\n",
        "  counter = 0\n",
        "\n",
        "  if 남은사람수 < 0:\n",
        "    return 0\n",
        "\n",
        "  if 남은사람수 == 0:\n",
        "    return 1\n",
        "\n",
        "  for i in range(앉은사람수, 앉힐수있는최대사람수 + 1):\n",
        "    counter += 문제(남은사람수 - i, i)\n",
        "\n",
        "  return counter\n",
        "\n",
        "#함수 실행\n",
        "문제(6, 2)"
      ],
      "execution_count": null,
      "outputs": [
        {
          "output_type": "execute_result",
          "data": {
            "text/plain": [
              "4"
            ]
          },
          "metadata": {
            "tags": []
          },
          "execution_count": 29
        }
      ]
    },
    {
      "cell_type": "markdown",
      "metadata": {
        "id": "icr6_xYhCewN",
        "colab_type": "text"
      },
      "source": [
        "같은 예제 - 딕셔너리를 사용해 속도 개선"
      ]
    },
    {
      "cell_type": "code",
      "metadata": {
        "id": "fyT5Rk3NCd8J",
        "colab_type": "code",
        "colab": {
          "base_uri": "https://localhost:8080/",
          "height": 34
        },
        "outputId": "df4c23c6-0255-4edb-b3ec-a424a5e6b240"
      },
      "source": [
        "#변수 정의\n",
        "앉힐수있는최소사람수 = 2\n",
        "앉힐수있는최대사람수 = 10\n",
        "전체사람수 = 100\n",
        "\n",
        "#메모화를 위한 딕셔너리 정의\n",
        "memo = {}\n",
        "\n",
        "#함수 정의\n",
        "def 문제(남은사람수, 앉은사람수):\n",
        "  counter = 0\n",
        "  key = str([남은사람수, 앉은사람수])\n",
        "\n",
        "  if key in memo:\n",
        "    return memo[key]\n",
        "\n",
        "  if 남은사람수 < 0:\n",
        "    return 0\n",
        "\n",
        "  if 남은사람수 == 0:\n",
        "    return 1\n",
        "\n",
        "  for i in range(앉은사람수, 앉힐수있는최대사람수 + 1):\n",
        "    counter += 문제(남은사람수 - i, i)\n",
        "    memo[key] = counter\n",
        "\n",
        "  return counter\n",
        "\n",
        "#함수 실행\n",
        "문제(전체사람수, 앉힐수있는최소사람수)"
      ],
      "execution_count": null,
      "outputs": [
        {
          "output_type": "execute_result",
          "data": {
            "text/plain": [
              "437420"
            ]
          },
          "metadata": {
            "tags": []
          },
          "execution_count": 31
        }
      ]
    },
    {
      "cell_type": "markdown",
      "metadata": {
        "id": "B5oobalxr23J",
        "colab_type": "text"
      },
      "source": [
        "\n",
        "\n",
        "---\n",
        "\n"
      ]
    },
    {
      "cell_type": "code",
      "metadata": {
        "id": "iiw-lSMN1NXK",
        "colab_type": "code",
        "colab": {
          "base_uri": "https://localhost:8080/",
          "height": 34
        },
        "outputId": "3dc3d63b-0782-4000-d454-f36b5915d8bd"
      },
      "source": [
        "#변수 정의\n",
        "최소인원 = 2\n",
        "최대인원 = 10\n",
        "총인원 = 100\n",
        "\n",
        "#메모화를 위한 딕셔너리 정의 - 속도 개선8\n",
        "memo = {}\n",
        "\n",
        "#함수 정의\n",
        "def problem(남은사람, 앉은사람):\n",
        "  key = str([남은사람, 앉은사람])\n",
        "\n",
        "  #종료 조건\n",
        "  if key in memo:\n",
        "    return memo[key]\n",
        "  if 남은사람 < 0:\n",
        "    return 0 #무효이므로 0을 리턴\n",
        "  if 남은사람 == 0:\n",
        "    return 1 #유효이므로 수를 세기 위해 1을 리턴\n",
        "\n",
        "  #재귀 처리\n",
        "  count = 0\n",
        "  for i in range(앉은사람, 최대인원 + 1):\n",
        "    count += problem(남은사람 - i, i)\n",
        "\n",
        "  #메모화 처리\n",
        "  memo[key] = count\n",
        "\n",
        "  #종료\n",
        "  return count\n",
        "\n",
        "print(problem(총인원, 최소인원))"
      ],
      "execution_count": null,
      "outputs": [
        {
          "output_type": "stream",
          "text": [
            "437420\n"
          ],
          "name": "stdout"
        }
      ]
    },
    {
      "cell_type": "markdown",
      "metadata": {
        "id": "sm1O-2ieK8ai",
        "colab_type": "text"
      },
      "source": [
        "#구문 오류와 예외"
      ]
    },
    {
      "cell_type": "markdown",
      "metadata": {
        "id": "PzqwGxGhLFFg",
        "colab_type": "text"
      },
      "source": [
        "구문 오류(SyntaxError)"
      ]
    },
    {
      "cell_type": "code",
      "metadata": {
        "id": "kdRQkp7OK5-L",
        "colab_type": "code",
        "colab": {}
      },
      "source": [
        "#구문에 문제가 있어 프로그램 실행부터 불가능한 경우 "
      ],
      "execution_count": null,
      "outputs": []
    },
    {
      "cell_type": "markdown",
      "metadata": {
        "id": "1FsvldwOLM9o",
        "colab_type": "text"
      },
      "source": [
        "예외/런타임 오류"
      ]
    },
    {
      "cell_type": "code",
      "metadata": {
        "id": "u4viDpSCLUTg",
        "colab_type": "code",
        "colab": {}
      },
      "source": [
        "#예외 처리(exception handling)\n",
        "#조건문으로 예외 처리하기\n",
        "\n",
        "PI = 3.14\n",
        "\n",
        "user_input_a = input(\"정수 입력: \")\n",
        "\n",
        "if use_input_a.isdigit(): #isdigit() 숫자로만 구성된 글자인지 확인\n",
        "  number_input_a = int(use_input_a)\n",
        "  \n",
        "  print(\"원의 반지름: \", number_input_a)\n",
        "  print(\"원의 둘레: \", number_input_a * PI * 2)\n",
        "  print(\"원의 넓이: \", number_input_a * number_input_a * PI)\n",
        "  \n",
        "else:\n",
        "  print(\"정수를 입력하지 않았습니다.\")"
      ],
      "execution_count": null,
      "outputs": []
    },
    {
      "cell_type": "code",
      "metadata": {
        "id": "tHDgahERMCGx",
        "colab_type": "code",
        "colab": {}
      },
      "source": [
        "#예외 처리(exception handling)\n",
        "#try except 구문\n",
        "\n",
        "PI = 3.14\n",
        "\n",
        "try: #예외가 발생할 가능성이 있는 코드\n",
        "  number_input_a = int(input(\"정수 입력: \"))\n",
        "\n",
        "  print(\"원의 반지름: \", number_input_a)\n",
        "  print(\"원의 둘레: \", number_input_a * PI * 2)\n",
        "  print(\"원의 넓이: \", number_input_a * number_input_a * PI)\n",
        "  \n",
        "except: #예외가 발생했을 때 실행할 코드\n",
        "  print(\"무언가 잘못되었습니다.\")"
      ],
      "execution_count": null,
      "outputs": []
    },
    {
      "cell_type": "code",
      "metadata": {
        "id": "2FGu4xjrMhAj",
        "colab_type": "code",
        "colab": {
          "base_uri": "https://localhost:8080/",
          "height": 52
        },
        "outputId": "8e5ba05a-aeeb-4d63-f202-3c6aa1039104"
      },
      "source": [
        "list_input_a = [\"52\", \"273\", \"32\", \"스파이\", \"103\"]\n",
        "\n",
        "list_number = []\n",
        "for item in list_input_a:\n",
        "  try:\n",
        "    float(item)\n",
        "    list_number.append(item)\n",
        "  except:\n",
        "    pass\n",
        "\n",
        "print(\"{} 내부에 있는 숫자는\".format((list_input_a)))\n",
        "print(\"{}입니다.\".format(list_number))"
      ],
      "execution_count": null,
      "outputs": [
        {
          "output_type": "stream",
          "text": [
            "['52', '273', '32', '스파이', '103'] 내부에 있는 숫자는\n",
            "['52', '273', '32', '103']입니다.\n"
          ],
          "name": "stdout"
        }
      ]
    },
    {
      "cell_type": "code",
      "metadata": {
        "id": "fkXiImAVPtrq",
        "colab_type": "code",
        "colab": {}
      },
      "source": [
        "#예외 처리(exception handling)\n",
        "#try except else 구문\n",
        "\n",
        "PI = 3.14\n",
        "\n",
        "try: #예외가 발생할 가능성이 있는 코드\n",
        "  number_input_a = int(input(\"정수 입력: \"))\n",
        "except: #예외가 발생했을 때 실행할 코드\n",
        "  print(\"무언가 잘못되었습니다.\")\n",
        "else: #예외가 발생하지 않았을 때 실행할 코드\n",
        "  print(\"원의 반지름: \", number_input_a)\n",
        "  print(\"원의 둘레: \", number_input_a * PI * 2)\n",
        "  print(\"원의 넓이: \", number_input_a * number_input_a * PI)"
      ],
      "execution_count": null,
      "outputs": []
    },
    {
      "cell_type": "code",
      "metadata": {
        "id": "VREc-6f5QPBP",
        "colab_type": "code",
        "colab": {}
      },
      "source": [
        "#finally: 예외 발생 여부와 관계없이 무조건 실행할 경우 사용\n",
        "\n",
        "PI = 3.14\n",
        "\n",
        "try: #예외가 발생할 가능성이 있는 코드\n",
        "  number_input_a = int(input(\"정수 입력: \"))\n",
        "\n",
        "  print(\"원의 반지름: \", number_input_a)\n",
        "  print(\"원의 둘레: \", number_input_a * PI * 2)\n",
        "  print(\"원의 넓이: \", number_input_a * number_input_a * PI)\n",
        "  \n",
        "except: #예외가 발생했을 때 실행할 코드\n",
        "  print(\"무언가 잘못되었습니다.\")\n",
        "else:\n",
        "  print(\"예외가 발생하지 않았습니다\")\n",
        "finally:\n",
        "  print(\"일단 프로그램이 어떻게든 끝나긴 했습니다\")"
      ],
      "execution_count": null,
      "outputs": []
    },
    {
      "cell_type": "code",
      "metadata": {
        "id": "GWw_uGKJQkje",
        "colab_type": "code",
        "colab": {}
      },
      "source": [
        "#try 구문은 단독 사용 불가 - 반드시 except 또는 finally 구문과 함께 사용\n",
        "#else 구문은 반드시 except 구문 뒤에 사용해야 함\n",
        "\n",
        "#try + except\n",
        "#try + except + else\n",
        "#try + except + finally\n",
        "#try + excepy + else + finally\n",
        "#try + finally"
      ],
      "execution_count": null,
      "outputs": []
    },
    {
      "cell_type": "markdown",
      "metadata": {
        "id": "JkDxgVDPRg12",
        "colab_type": "text"
      },
      "source": [
        "# 예외 고급\n",
        "예외 객체(exception object)"
      ]
    },
    {
      "cell_type": "code",
      "metadata": {
        "id": "XOmx85_TRBYW",
        "colab_type": "code",
        "colab": {}
      },
      "source": [
        "#예외 객체: 예외 발생 시 예외 정보가 저장되는 곳\n",
        "\n",
        "PI = 3.14\n",
        "\n",
        "try:\n",
        "  number_input_a = int(input(\"정수 입력: \"))\n",
        "\n",
        "  print(\"원의 반지름: \", number_input_a)\n",
        "  print(\"원의 둘레: \", number_input_a * PI * 2)\n",
        "  print(\"원의 넓이: \", number_input_a * number_input_a * PI)\n",
        "\n",
        "except Exception as exception:\n",
        "  print(\"type(exception): \", type(exception))\n",
        "  print(\"exception: \", exception)"
      ],
      "execution_count": null,
      "outputs": []
    },
    {
      "cell_type": "code",
      "metadata": {
        "id": "iFZbKyy8SImY",
        "colab_type": "code",
        "colab": {}
      },
      "source": [
        "#예외 구분하기\n",
        "\n",
        "list_number = [52, 273, 32, 72, 100]\n",
        "\n",
        "try:\n",
        "  number_input_a = int(input(\"정수 입력: \"))\n",
        "  print(\"{}번째 요소: {}\".format(number_input, list_number[number_input]))\n",
        "except ValueError as exception:\n",
        "  print(\"정수를 입력해주세요 :)\")\n",
        "  print(\"exception: \", exception)\n",
        "except IndexError as exception:\n",
        "  print(\"리스트의 인덱스를 벗어났어요!\")\n",
        "  print(\"exception: \", exception)\n",
        "except Exception as exception: #위 경우 이외의 예외가 발생한 경우\n",
        "  print(\"미리 파악하지 못한 예외가 발생했습니다.\")\n",
        "  print(type(exception), exception)"
      ],
      "execution_count": null,
      "outputs": []
    },
    {
      "cell_type": "markdown",
      "metadata": {
        "id": "xMvDROiOTF6v",
        "colab_type": "text"
      },
      "source": [
        "raise 구문: 예외를 강제로 발생시킴"
      ]
    },
    {
      "cell_type": "code",
      "metadata": {
        "id": "GxcGu5vhTPMH",
        "colab_type": "code",
        "colab": {}
      },
      "source": [
        "raise ValueError(\n",
        "    'incompatible dtype: {}, inferred from {}: {}'.format(element_dtype, elements, inferred_dtype)\n",
        ")"
      ],
      "execution_count": null,
      "outputs": []
    },
    {
      "cell_type": "code",
      "metadata": {
        "id": "lkKaUdmlTjVu",
        "colab_type": "code",
        "colab": {}
      },
      "source": [
        "raise ValueError(\n",
        "    'element shape may not be specified when creating list form tensor'\n",
        ")"
      ],
      "execution_count": null,
      "outputs": []
    },
    {
      "cell_type": "code",
      "metadata": {
        "id": "8d2JTFqDTqB-",
        "colab_type": "code",
        "colab": {}
      },
      "source": [
        "raise NotImplementedError(\n",
        "    'tensor lists only support removing from the end'\n",
        ")"
      ],
      "execution_count": null,
      "outputs": []
    }
  ]
}