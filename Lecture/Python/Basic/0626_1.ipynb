{
  "nbformat": 4,
  "nbformat_minor": 0,
  "metadata": {
    "colab": {
      "name": "0626_1 ",
      "provenance": [],
      "toc_visible": true
    },
    "kernelspec": {
      "name": "python3",
      "display_name": "Python 3"
    }
  },
  "cells": [
    {
      "cell_type": "markdown",
      "metadata": {
        "id": "l57ziC8d4PU_",
        "colab_type": "text"
      },
      "source": [
        "# 람다"
      ]
    },
    {
      "cell_type": "markdown",
      "metadata": {
        "id": "dkWe45b08waX",
        "colab_type": "text"
      },
      "source": [
        "기존의 함수 만드는 법"
      ]
    },
    {
      "cell_type": "code",
      "metadata": {
        "id": "aHLFE7et8Udr",
        "colab_type": "code",
        "colab": {}
      },
      "source": [
        "#함수 선언\n",
        "def power(item):\n",
        "  print(\"item = \", item)\n",
        "  return item * item\n",
        "\n",
        "def under_3(item):\n",
        "  print(\"item = \", item)\n",
        "  return item < 3"
      ],
      "execution_count": null,
      "outputs": []
    },
    {
      "cell_type": "markdown",
      "metadata": {
        "id": "oB5-X5DI-CEU",
        "colab_type": "text"
      },
      "source": [
        "람다"
      ]
    },
    {
      "cell_type": "code",
      "metadata": {
        "id": "cfg_QVZT-Ih-",
        "colab_type": "code",
        "colab": {}
      },
      "source": [
        "#함수를 한 줄로 선언 가능\n",
        "\n",
        "#함수 이름 = lambda 매개변수 : 리턴값\n",
        "#제약 조건: 함수의 내용이 리턴 '한 줄'이어야 함(복잡한 코드는 사용 불가)\n",
        "\n",
        "power_l = lambda x : x * x\n",
        "under_3_l = lambda x : x < 3"
      ],
      "execution_count": null,
      "outputs": []
    },
    {
      "cell_type": "markdown",
      "metadata": {
        "id": "t4Ab3-7mBq-T",
        "colab_type": "text"
      },
      "source": [
        "함수의 매개변수로 함수 전달하기"
      ]
    },
    {
      "cell_type": "code",
      "metadata": {
        "id": "FLIdg8S_Bk3I",
        "colab_type": "code",
        "colab": {
          "base_uri": "https://localhost:8080/",
          "height": 193
        },
        "outputId": "63911961-ea36-4aac-e216-e5d3ff0d62aa"
      },
      "source": [
        "#함수 선언\n",
        "def print_hello():\n",
        "  print(\"안녕하세요!\")\n",
        "\n",
        "def call_10_times(func): #매개변수로 함수를 받는 함수\n",
        "  for i in range(10):\n",
        "    func()\n",
        "\n",
        "call_10_times(print_hello) #함수명을 씀(괄호 없이!)"
      ],
      "execution_count": null,
      "outputs": [
        {
          "output_type": "stream",
          "text": [
            "안녕하세요!\n",
            "안녕하세요!\n",
            "안녕하세요!\n",
            "안녕하세요!\n",
            "안녕하세요!\n",
            "안녕하세요!\n",
            "안녕하세요!\n",
            "안녕하세요!\n",
            "안녕하세요!\n",
            "안녕하세요!\n"
          ],
          "name": "stdout"
        }
      ]
    },
    {
      "cell_type": "code",
      "metadata": {
        "id": "QKlLPwhEJrkt",
        "colab_type": "code",
        "colab": {
          "base_uri": "https://localhost:8080/",
          "height": 70
        },
        "outputId": "60026e7e-ea0b-4df4-e629-7238f159462f"
      },
      "source": [
        "#함수 선언\n",
        "def power(item): \n",
        "  return item ** 2\n",
        "\n",
        "def double(item):\n",
        "  return item * 2\n",
        "\n",
        "def increase_list(func, input_lst):\n",
        "  print(\"increase_list: func = \", func, \"input_lst = \", input_lst)\n",
        "  print()\n",
        "\n",
        "  output_lst = []\n",
        "  for input in input_lst:\n",
        "    output = func(input)\n",
        "    output_lst.append(output)\n",
        "  return output_lst\n",
        "\n",
        "#리스트 선언\n",
        "list_input_a = [1, 2, 3, 4, 5]\n",
        "\n",
        "increase_list(power, list_input_a)"
      ],
      "execution_count": null,
      "outputs": [
        {
          "output_type": "stream",
          "text": [
            "increase_list: func =  <function power at 0x7f1b50f90400> input_lst =  [1, 2, 3, 4, 5]\n",
            "\n"
          ],
          "name": "stdout"
        },
        {
          "output_type": "execute_result",
          "data": {
            "text/plain": [
              "[1, 4, 9, 16, 25]"
            ]
          },
          "metadata": {
            "tags": []
          },
          "execution_count": 15
        }
      ]
    },
    {
      "cell_type": "code",
      "metadata": {
        "id": "H_aBqRNwP7ca",
        "colab_type": "code",
        "colab": {
          "base_uri": "https://localhost:8080/",
          "height": 70
        },
        "outputId": "4ceb858c-ec48-4da0-acb1-16026fd7309b"
      },
      "source": [
        "#리스트 요소의 제곱, 두 배, +100을 요소로 하는 새로운 리스트 출력\n",
        "\n",
        "def new_list(func, lst):\n",
        "  output_list = []\n",
        "  for input in lst:\n",
        "    output = func(input)\n",
        "    output_list.append(output)\n",
        "  return print(output_list)\n",
        "\n",
        "power = lambda x: x * x\n",
        "double = lambda x: x * 2\n",
        "hundred = lambda x: x + 100\n",
        "\n",
        "list_input_a = [1, 2, 3, 4, 5]\n",
        "\n",
        "new_list(power, list_input_a)\n",
        "new_list(double, list_input_a)\n",
        "new_list(hundred, list_input_a)"
      ],
      "execution_count": null,
      "outputs": [
        {
          "output_type": "stream",
          "text": [
            "[1, 4, 9, 16, 25]\n",
            "[2, 4, 6, 8, 10]\n",
            "[101, 102, 103, 104, 105]\n"
          ],
          "name": "stdout"
        }
      ]
    },
    {
      "cell_type": "code",
      "metadata": {
        "id": "hpx1CxY0TBPw",
        "colab_type": "code",
        "colab": {
          "base_uri": "https://localhost:8080/",
          "height": 70
        },
        "outputId": "77bd98e7-8c82-4854-8e15-683c4a03c9d0"
      },
      "source": [
        "# 위 예제를 더 간단하게!\n",
        "list_input_a = [1, 2, 3, 4, 5]\n",
        "\n",
        "new_list(lambda x: x * x, list_input_a)\n",
        "new_list(lambda x: x * 2, list_input_a)\n",
        "new_list(lambda x: x + 100, list_input_a)"
      ],
      "execution_count": null,
      "outputs": [
        {
          "output_type": "stream",
          "text": [
            "[1, 4, 9, 16, 25]\n",
            "[2, 4, 6, 8, 10]\n",
            "[101, 102, 103, 104, 105]\n"
          ],
          "name": "stdout"
        }
      ]
    },
    {
      "cell_type": "code",
      "metadata": {
        "id": "fz_a70ZVXJa-",
        "colab_type": "code",
        "colab": {
          "base_uri": "https://localhost:8080/",
          "height": 70
        },
        "outputId": "5ce9d77e-036a-4124-f901-e03dca2f97c7"
      },
      "source": [
        "def condition_list(func, input_list):\n",
        "  output_list = []\n",
        "  for input in input_list:\n",
        "    condition = func(input)\n",
        "    if condition == True:\n",
        "      output_list.append(input)\n",
        "  return print(output_list)\n",
        "\n",
        "list_input_b = [1, 2, 3, 4, 5]\n",
        "\n",
        "condition_list(lambda x: x < 3, list_input_b)\n",
        "condition_list(lambda x: x >= 3, list_input_b)\n",
        "condition_list(lambda x: x % 3 == 0, list_input_b)"
      ],
      "execution_count": null,
      "outputs": [
        {
          "output_type": "stream",
          "text": [
            "[1, 2]\n",
            "[3, 4, 5]\n",
            "[3]\n"
          ],
          "name": "stdout"
        }
      ]
    },
    {
      "cell_type": "markdown",
      "metadata": {
        "id": "-01guB_obMSQ",
        "colab_type": "text"
      },
      "source": [
        "# map( ), filter( )"
      ]
    },
    {
      "cell_type": "code",
      "metadata": {
        "id": "rtLcTES0aExW",
        "colab_type": "code",
        "colab": {
          "base_uri": "https://localhost:8080/",
          "height": 52
        },
        "outputId": "6517c4f3-80b6-4d9a-ead4-d7fa6f37505a"
      },
      "source": [
        "#increase_list(), condition_list() > 사실 파이썬이 이미 이런 기능 제공해주고 있었지!\n",
        "#map(함수, 리스트), filter(함수, 리스트)\n",
        "\n",
        "list_input_b = [1, 2, 3]\n",
        "\n",
        "#map()\n",
        "print(list(map(lambda x: x * x, list_input_b)))\n",
        "\n",
        "#filter()\n",
        "list(filter(lambda x: x < 3, list_input_b))"
      ],
      "execution_count": null,
      "outputs": [
        {
          "output_type": "stream",
          "text": [
            "[1, 4, 9]\n"
          ],
          "name": "stdout"
        },
        {
          "output_type": "execute_result",
          "data": {
            "text/plain": [
              "[1, 2]"
            ]
          },
          "metadata": {
            "tags": []
          },
          "execution_count": 50
        }
      ]
    },
    {
      "cell_type": "markdown",
      "metadata": {
        "id": "EoJ4gAGB-GZi",
        "colab_type": "text"
      },
      "source": [
        "\n",
        "\n",
        "---\n",
        "\n"
      ]
    },
    {
      "cell_type": "markdown",
      "metadata": {
        "id": "ZsYcVk-Dra3C",
        "colab_type": "text"
      },
      "source": [
        "# 자습"
      ]
    },
    {
      "cell_type": "code",
      "metadata": {
        "id": "nQgN-Nhi4N-e",
        "colab_type": "code",
        "colab": {
          "base_uri": "https://localhost:8080/",
          "height": 193
        },
        "outputId": "0c45ecee-4fd7-456b-c510-f2fd4a053e49"
      },
      "source": [
        "#람다: 함수를 매개변수로 전달하는 코드를 더 효율적으로 작성\n",
        "\n",
        "def call_10_times(func):\n",
        "  for i in range(10):\n",
        "    func()\n",
        "\n",
        "def print_hello():\n",
        "  print(\"안녕하세요\")\n",
        "\n",
        "call_10_times(print_hello) #매개변수로 함수를 전달"
      ],
      "execution_count": null,
      "outputs": [
        {
          "output_type": "stream",
          "text": [
            "안녕하세요\n",
            "안녕하세요\n",
            "안녕하세요\n",
            "안녕하세요\n",
            "안녕하세요\n",
            "안녕하세요\n",
            "안녕하세요\n",
            "안녕하세요\n",
            "안녕하세요\n",
            "안녕하세요\n"
          ],
          "name": "stdout"
        }
      ]
    },
    {
      "cell_type": "code",
      "metadata": {
        "id": "z9VIIOGk4k20",
        "colab_type": "code",
        "colab": {
          "base_uri": "https://localhost:8080/",
          "height": 140
        },
        "outputId": "3aa98eb7-68c1-45af-c247-7eb8e5a74392"
      },
      "source": [
        "#filter(함수, 리스트) 와 map(함수, 리스트) \n",
        "#함수를 매개변수로 전달하는 대표적인 표준함수\n",
        "\n",
        "def power(item):\n",
        "  return item * item\n",
        "\n",
        "def under_3(item):\n",
        "  return item < 3\n",
        "\n",
        "list_input_a = [1, 2, 3, 4, 5]\n",
        "\n",
        "#map()\n",
        "output_a = map(power, list_input_a)\n",
        "print(\"#map() 함수의 실행 결과\")\n",
        "print(\"map(power, list_input_a): \", output_a)\n",
        "print(\"map(power, list_input_a): \", list(output_a))\n",
        "print()\n",
        "\n",
        "#filter() 조건을 만족하는 값만 출력\n",
        "output_b = filter(under_3, list_input_a)\n",
        "print(\"#filter() 함수의 실행 결과\")\n",
        "print(\"filter(under_3, output_b): \", output_b)\n",
        "print(\"filter(under_3, output_b): \", list(output_b))"
      ],
      "execution_count": null,
      "outputs": [
        {
          "output_type": "stream",
          "text": [
            "#map() 함수의 실행 결과\n",
            "map(power, list_input_a):  <map object at 0x7fd2b3218748>\n",
            "map(power, list_input_a):  [1, 4, 9, 16, 25]\n",
            "\n",
            "#filter() 함수의 실행 결과\n",
            "filter(under_3, output_b):  <filter object at 0x7fd2b3218ac8>\n",
            "filter(under_3, output_b):  [1, 2]\n"
          ],
          "name": "stdout"
        }
      ]
    },
    {
      "cell_type": "code",
      "metadata": {
        "id": "WfobPyxi5ofR",
        "colab_type": "code",
        "colab": {
          "base_uri": "https://localhost:8080/",
          "height": 140
        },
        "outputId": "4dd4751b-40f5-4eca-9a3b-8d231017ed90"
      },
      "source": [
        "#람다: 간단한 함수를 쉽게 선언하는 방법\n",
        "\n",
        "power = lambda x: x * x\n",
        "under_3 = lambda x: x < 3\n",
        "\n",
        "list_input_a = [1, 2, 3, 4, 5]\n",
        "\n",
        "#map()\n",
        "output_a = map(power, list_input_a)\n",
        "print(\"#map() 함수의 실행 결과\")\n",
        "print(\"map(power, list_input_a): \", output_a) # 제너레이터 출력\n",
        "print(\"map(power, list_input_a): \", list(output_a))\n",
        "print()\n",
        "\n",
        "#filter() 조건을 만족하는 값만 출력\n",
        "output_b = filter(under_3, list_input_a)\n",
        "print(\"#filter() 함수의 실행 결과\")\n",
        "print(\"filter(under_3, output_b): \", output_b) #제너레이터 출력\n",
        "print(\"filter(under_3, output_b): \", list(output_b))"
      ],
      "execution_count": null,
      "outputs": [
        {
          "output_type": "stream",
          "text": [
            "#map() 함수의 실행 결과\n",
            "map(power, list_input_a):  <map object at 0x7fd2b32bdf60>\n",
            "map(power, list_input_a):  [1, 4, 9, 16, 25]\n",
            "\n",
            "#filter() 함수의 실행 결과\n",
            "filter(under_3, output_b):  <filter object at 0x7fd2b32bd400>\n",
            "filter(under_3, output_b):  [1, 2]\n"
          ],
          "name": "stdout"
        }
      ]
    },
    {
      "cell_type": "code",
      "metadata": {
        "id": "kOYoqzRR5-io",
        "colab_type": "code",
        "colab": {
          "base_uri": "https://localhost:8080/",
          "height": 140
        },
        "outputId": "1457530c-bc27-4d97-e979-81e365f9f497"
      },
      "source": [
        "#인라인 람다: 함수의 매개변수에 람다를 곧바로 넣을 수 있음\n",
        "list_input_a = [1, 2, 3, 4, 5]\n",
        "\n",
        "output_a = map(lambda x: x * x, list_input_a)\n",
        "print(\"#map() 함수의 실행 결과\")\n",
        "print(\"map(power, list_input_a): \", output_a)\n",
        "print(\"map(power, list_input_a): \", list(output_a))\n",
        "print()\n",
        "\n",
        "output_b = filter(lambda x: x < 3, list_input_a)\n",
        "print(\"#filter() 함수의 실행 결과\")\n",
        "print(\"filter(under_3, output_b): \", output_b)\n",
        "print(\"filter(under_3, output_b): \", list(output_b))"
      ],
      "execution_count": null,
      "outputs": [
        {
          "output_type": "stream",
          "text": [
            "#map() 함수의 실행 결과\n",
            "map(power, list_input_a):  <map object at 0x7fd2b32175f8>\n",
            "map(power, list_input_a):  [1, 4, 9, 16, 25]\n",
            "\n",
            "#filter() 함수의 실행 결과\n",
            "filter(under_3, output_b):  <filter object at 0x7fd2b32bdf60>\n",
            "filter(under_3, output_b):  [1, 2]\n"
          ],
          "name": "stdout"
        }
      ]
    },
    {
      "cell_type": "code",
      "metadata": {
        "id": "YVGIVRzw6Vs3",
        "colab_type": "code",
        "colab": {}
      },
      "source": [
        "#매개변수가 여러 개인 람다\n",
        "lambda x, y: x * y"
      ],
      "execution_count": null,
      "outputs": []
    }
  ]
}