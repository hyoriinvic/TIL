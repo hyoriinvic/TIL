{
  "nbformat": 4,
  "nbformat_minor": 0,
  "metadata": {
    "colab": {
      "name": "0623_1",
      "provenance": []
    },
    "kernelspec": {
      "name": "python3",
      "display_name": "Python 3"
    }
  },
  "cells": [
    {
      "cell_type": "markdown",
      "metadata": {
        "id": "FadMCDRPnVxj",
        "colab_type": "text"
      },
      "source": [
        "if 조건문"
      ]
    },
    {
      "cell_type": "code",
      "metadata": {
        "id": "O-1nGuKwgvb5",
        "colab_type": "code",
        "colab": {
          "base_uri": "https://localhost:8080/",
          "height": 122
        },
        "outputId": "967ef573-37d9-4ec5-c4b3-0a149fda9b0b"
      },
      "source": [
        "#연산자 in - 포함되는가\n",
        "\n",
        "animal = \"토끼\"\n",
        "print(animal in [\"말\", \"소\", \"염소\", \"토끼\"])\n",
        "print(animal in [\"호랑이\", \"사자\", \"곰\"])\n",
        "print()\n",
        "\n",
        "last_name = \"김\"\n",
        "print(last_name in [\"김\", \"이\", \"박\", \"최\"])\n",
        "print(last_name in \"김이박최\") #글자수가 하나일 때, 괄호 생략 가능\n",
        "print(last_name in [\"강\", \"한\", \"주\"])"
      ],
      "execution_count": null,
      "outputs": [
        {
          "output_type": "stream",
          "text": [
            "True\n",
            "False\n",
            "\n",
            "True\n",
            "True\n",
            "False\n"
          ],
          "name": "stdout"
        }
      ]
    },
    {
      "cell_type": "code",
      "metadata": {
        "id": "kBD8KOCYi8uH",
        "colab_type": "code",
        "colab": {
          "base_uri": "https://localhost:8080/",
          "height": 70
        },
        "outputId": "d54f7181-6267-4c6e-9d3b-5268b7c517ff"
      },
      "source": [
        "#예제\n",
        "number = input(\"정수 입력: \")\n",
        "\n",
        "last_character = number[-1]\n",
        "number = int(number) #문자형 > 정수형 형 변환 필요\n",
        "\n",
        "if last_character in \"02468\":\n",
        "  print(\"짝수입니다.\")\n",
        "if last_character in \"13579\":\n",
        "  print(\"홀수입니다.\")\n",
        "\n",
        "if number % 2 == 0:\n",
        "  print(\"짝수입니다.\")\n",
        "if number % 2 == 1:\n",
        "  print(\"홀수입니다.\")"
      ],
      "execution_count": null,
      "outputs": [
        {
          "output_type": "stream",
          "text": [
            "정수 입력: 12\n",
            "짝수입니다.\n",
            "짝수입니다.\n"
          ],
          "name": "stdout"
        }
      ]
    },
    {
      "cell_type": "code",
      "metadata": {
        "id": "n2jhMcjOmE4H",
        "colab_type": "code",
        "colab": {
          "base_uri": "https://localhost:8080/",
          "height": 87
        },
        "outputId": "a234cbd3-26d4-4ed2-eb10-e7e9caa8150c"
      },
      "source": [
        "a = int(input(\"첫 번째 숫자: \"))\n",
        "b = int(input(\"두 번째 숫자: \"))\n",
        "print()\n",
        "\n",
        "if a > b :\n",
        "  print(\"처음 입력했던 {}가 {}보다 큽니다.\".format(a, b))\n",
        "if a < b :\n",
        "  print(\"두 번재로 입력했던 {}가 {}보다 큽니다.\".format(b, a))"
      ],
      "execution_count": null,
      "outputs": [
        {
          "output_type": "stream",
          "text": [
            "첫 번째 숫자: 23\n",
            "두 번째 숫자: 49\n",
            "\n",
            "두 번재로 입력했던 49가 23보다 큽니다.\n"
          ],
          "name": "stdout"
        }
      ]
    },
    {
      "cell_type": "markdown",
      "metadata": {
        "id": "8Zf5TXH3nbBS",
        "colab_type": "text"
      },
      "source": [
        "if-elif-else 조건문"
      ]
    },
    {
      "cell_type": "code",
      "metadata": {
        "id": "IS0F7J3wne9b",
        "colab_type": "code",
        "colab": {
          "base_uri": "https://localhost:8080/",
          "height": 34
        },
        "outputId": "b3f6dfa3-1d65-4a4c-9dda-06b7b8e68ab9"
      },
      "source": [
        "import datetime\n",
        "\n",
        "now = datetime.datetime.now()\n",
        "month = now.month\n",
        "\n",
        "if 3 <= month <= 5:\n",
        "  print(\"봄\")\n",
        "elif month <= 8: #6 이상일 때만 실행(조건식에 6 <= 를 쓰지 않음)\n",
        "  print(\"여름\")\n",
        "elif month <= 11:#9 이상일 때만 실행\n",
        "  print(\"가을\")\n",
        "else: #month가 1, 2, 12 일 때 실행\n",
        "  print(\"겨울\")"
      ],
      "execution_count": null,
      "outputs": [
        {
          "output_type": "stream",
          "text": [
            "여름\n"
          ],
          "name": "stdout"
        }
      ]
    },
    {
      "cell_type": "code",
      "metadata": {
        "id": "nJfItdGAxvGr",
        "colab_type": "code",
        "colab": {
          "base_uri": "https://localhost:8080/",
          "height": 52
        },
        "outputId": "9488375b-bbdb-4de7-ca79-8b75b5af5bb0"
      },
      "source": [
        "#빈 컨테이너\n",
        "if 0: #0은 False\n",
        "  print(\"True\")\n",
        "else:\n",
        "  print(\"False\")\n",
        "\n",
        "if 23197: #0이 아닌 다른 숫자는 True \n",
        "  print(\"True\")\n",
        "else:\n",
        "  print(\"False\")"
      ],
      "execution_count": null,
      "outputs": [
        {
          "output_type": "stream",
          "text": [
            "False\n",
            "True\n"
          ],
          "name": "stdout"
        }
      ]
    },
    {
      "cell_type": "code",
      "metadata": {
        "id": "Qp4lNbX5yjZb",
        "colab_type": "code",
        "colab": {
          "base_uri": "https://localhost:8080/",
          "height": 52
        },
        "outputId": "6651068f-b7d4-4df6-c683-970b6ab4dca3"
      },
      "source": [
        "#빈 컨테이너\n",
        "if \"\": #내용이 없는 문자열은 False\n",
        "  print(\"True\")\n",
        "else:\n",
        "  print(\"False\")\n",
        "\n",
        "if None: #내용이 없는 문자열은 False\n",
        "  print(\"True\")\n",
        "else:\n",
        "  print(\"False\")"
      ],
      "execution_count": null,
      "outputs": [
        {
          "output_type": "stream",
          "text": [
            "False\n",
            "False\n"
          ],
          "name": "stdout"
        }
      ]
    },
    {
      "cell_type": "code",
      "metadata": {
        "id": "Jkd7zRuq1KJa",
        "colab_type": "code",
        "colab": {}
      },
      "source": [
        "#미구현 상태 - 예외처리 구문\n",
        "\n",
        "try:\n",
        "  if number > 0:\n",
        "    #미구현\n",
        "    print(\"1\")\n",
        "    raise NotImplementedError\n",
        "  else:\n",
        "    #미구현\n",
        "    print(\"2\")\n",
        "    raise NotImplementedError\n",
        "\n",
        "except:\n",
        "  print(\"빠른 시간 내 구현하겠습니다.\")"
      ],
      "execution_count": null,
      "outputs": []
    },
    {
      "cell_type": "code",
      "metadata": {
        "id": "pIusF_5N2I-9",
        "colab_type": "code",
        "colab": {
          "base_uri": "https://localhost:8080/",
          "height": 52
        },
        "outputId": "4542b37c-c4df-4e64-8814-f6615e27545d"
      },
      "source": [
        "#년도를 입력 받아, 윤년인지 판별\n",
        "\n",
        "year = int(input(\"년도를 입력하세요: \"))\n",
        "\n",
        "if year % 1000 == 0: \n",
        "  print(\"평년입니다.\")\n",
        "elif year % 100 == 0:\n",
        "  print(\"윤년입니다.\")\n",
        "elif year % 4 == 0:\n",
        "  print(\"윤년입니다.\")\n",
        "else:\n",
        "  print(\"평년입니다.\")"
      ],
      "execution_count": null,
      "outputs": [
        {
          "output_type": "stream",
          "text": [
            "년도를 입력하세요: 2111\n",
            "평년입니다.\n"
          ],
          "name": "stdout"
        }
      ]
    },
    {
      "cell_type": "code",
      "metadata": {
        "id": "NyrPtpzD7Fas",
        "colab_type": "code",
        "colab": {}
      },
      "source": [
        "import datetime\n",
        "year = int(input(\"년도를 입력하세요: \"))\n",
        "\n",
        "try:\n",
        "  if year % 1000 == 0:\n",
        "    print(\"평년입니다.\")\n",
        "  elif year % 100 == 0:\n",
        "    raise NotImplementedError\n",
        "  elif year % 4 == 0:\n",
        "    raise NotImplementedError\n",
        "  else:\n",
        "    print(\"평년입니다.\")\n",
        "\n",
        "except:\n",
        "  print(\"구현 예정입니다.\")\n"
      ],
      "execution_count": null,
      "outputs": []
    },
    {
      "cell_type": "code",
      "metadata": {
        "id": "Has1MPzIXKg6",
        "colab_type": "code",
        "colab": {
          "base_uri": "https://localhost:8080/",
          "height": 52
        },
        "outputId": "b043bc46-8a91-4e83-fb2e-151c8d802678"
      },
      "source": [
        "str_input = input(\"태어난 년도를 입력해주세요: \")\n",
        "birth_year = int(str_input)\n",
        "\n",
        "if birth_year % 12 == 0:\n",
        "  print(\"원숭이 띠입니다.\")\n",
        "elif birth_year % 12 == 1:\n",
        "  print(\"닭 띠입니다.\")\n",
        "elif birth_year % 12 == 2:\n",
        "  print(\"개 띠입니다.\")\n",
        "elif birth_year % 12 == 3:\n",
        "  print(\"돼지 띠입니다.\")\n",
        "elif birth_year % 12 == 4:\n",
        "  print(\"쥐 띠입니다.\")\n",
        "elif birth_year % 12 == 5:\n",
        "  print(\"소 띠입니다.\")\n",
        "elif birth_year % 12 == 6:\n",
        "  print(\"호랑이 띠입니다.\")\n",
        "elif birth_year % 12 == 7:\n",
        "  print(\"토끼 띠입니다.\")\n",
        "elif birth_year % 12 == 8:\n",
        "  print(\"용 띠입니다.\")\n",
        "elif birth_year % 12 == 9:\n",
        "  print(\"뱀 띠입니다.\")\n",
        "elif birth_year % 12 == 10:\n",
        "  print(\"말 띠입니다.\")\n",
        "else:\n",
        "  print(\"양 띠입니다.\")"
      ],
      "execution_count": null,
      "outputs": [
        {
          "output_type": "stream",
          "text": [
            "태어난 년도를 입력해주세요: 1998\n",
            "호랑이 띠입니다.\n"
          ],
          "name": "stdout"
        }
      ]
    },
    {
      "cell_type": "markdown",
      "metadata": {
        "id": "zGRyTiBOsZAP",
        "colab_type": "text"
      },
      "source": [
        "리스트"
      ]
    },
    {
      "cell_type": "code",
      "metadata": {
        "id": "mj7KvSnusTiK",
        "colab_type": "code",
        "colab": {
          "base_uri": "https://localhost:8080/",
          "height": 228
        },
        "outputId": "9e243b41-3a3e-413d-948d-7e81f5e26bed"
      },
      "source": [
        "#리스트(list): 여러가지 자료를 모아서 저장\n",
        "\n",
        "array = [273, 32, 103, \"문자열\", True, False] #여러 자료형으로 구성 가능\n",
        "print(array)\n",
        "print()\n",
        "\n",
        "print(array[0])\n",
        "print(array[1])\n",
        "print(array[2])\n",
        "print(array[3:5])\n",
        "print()\n",
        "\n",
        "print(array[-1]) #뒤에서부터 요소 선택\n",
        "print(array[-2])\n",
        "print(array[-3])\n",
        "print()\n",
        "\n",
        "#리스트 특정 요소 변경\n",
        "array[0] = \"변경\"\n",
        "print(array[0])"
      ],
      "execution_count": null,
      "outputs": [
        {
          "output_type": "stream",
          "text": [
            "[273, 32, 103, '문자열', True, False]\n",
            "\n",
            "273\n",
            "32\n",
            "103\n",
            "['문자열', True]\n",
            "\n",
            "False\n",
            "True\n",
            "문자열\n",
            "\n",
            "변경\n"
          ],
          "name": "stdout"
        }
      ]
    },
    {
      "cell_type": "code",
      "metadata": {
        "id": "api7KX7oszKh",
        "colab_type": "code",
        "colab": {
          "base_uri": "https://localhost:8080/",
          "height": 34
        },
        "outputId": "ea73e3a9-8652-427a-f38d-a6d3b0a1a4a8"
      },
      "source": [
        "#리스트 접근 연산자 이중으로 사용 가능\n",
        "array[3][0]"
      ],
      "execution_count": null,
      "outputs": [
        {
          "output_type": "execute_result",
          "data": {
            "text/plain": [
              "'문'"
            ]
          },
          "metadata": {
            "tags": []
          },
          "execution_count": 3
        }
      ]
    },
    {
      "cell_type": "code",
      "metadata": {
        "id": "-hY9ytb1tY6b",
        "colab_type": "code",
        "colab": {
          "base_uri": "https://localhost:8080/",
          "height": 140
        },
        "outputId": "f8b3ede4-411e-41c8-f0bb-ddc20df5b9af"
      },
      "source": [
        "#리스트를 여러 개 가지는 리스트\n",
        "list_a = [[1, 2, 3], [4, 5, 6], [7, 8, 9]]\n",
        "\n",
        "print(list_a[0])\n",
        "print(list_a[1])\n",
        "print(list_a[2])\n",
        "print()\n",
        "\n",
        "print(list_a[1][0])\n",
        "print(list_a[1][1])\n",
        "print(list_a[1][2])"
      ],
      "execution_count": null,
      "outputs": [
        {
          "output_type": "stream",
          "text": [
            "[1, 2, 3]\n",
            "[4, 5, 6]\n",
            "[7, 8, 9]\n",
            "\n",
            "4\n",
            "5\n",
            "6\n"
          ],
          "name": "stdout"
        }
      ]
    },
    {
      "cell_type": "code",
      "metadata": {
        "id": "FxsUhqW6tocO",
        "colab_type": "code",
        "colab": {
          "base_uri": "https://localhost:8080/",
          "height": 140
        },
        "outputId": "0cf12d34-2eb5-4aa2-c1e4-459fba35fdc3"
      },
      "source": [
        "#리스트 연산자 +, *, len()\n",
        "\n",
        "list_b = [1, 2, 3]\n",
        "list_c = [4, 5, 6]\n",
        "\n",
        "print(\"list_b = \", list_b)\n",
        "print(\"list_c = \", list_c)\n",
        "print()\n",
        "\n",
        "print(\"list_b + list_c = \", list_b + list_c) #리스트 연결\n",
        "print(\"list_b * 3 = \", list_b * 3) #리스트 반복\n",
        "print()\n",
        "\n",
        "print(\"len(list_b) = \", len(list_b)) #리스트 내 요소의 개수 출력"
      ],
      "execution_count": null,
      "outputs": [
        {
          "output_type": "stream",
          "text": [
            "list_b =  [1, 2, 3]\n",
            "list_c =  [4, 5, 6]\n",
            "\n",
            "list_b + list_c =  [1, 2, 3, 4, 5, 6]\n",
            "list_b * 3 =  [1, 2, 3, 1, 2, 3, 1, 2, 3]\n",
            "\n",
            "len(list_b) =  3\n"
          ],
          "name": "stdout"
        }
      ]
    },
    {
      "cell_type": "code",
      "metadata": {
        "id": "IMK0lmCmuNLM",
        "colab_type": "code",
        "colab": {
          "base_uri": "https://localhost:8080/",
          "height": 52
        },
        "outputId": "c1d3b3d0-eac0-42aa-b12d-e5a4971b67c4"
      },
      "source": [
        "list_b.append(4) #리스트 뒤에 요소 추가 .append(요소)\n",
        "print(list_b)\n",
        "\n",
        "list_b.insert(1,5) #리스트 중간에 요소 추가 .insert(위치, 요소)\n",
        "print(list_b)"
      ],
      "execution_count": null,
      "outputs": [
        {
          "output_type": "stream",
          "text": [
            "[1, 2, 3, 4]\n",
            "[1, 5, 2, 3, 4]\n"
          ],
          "name": "stdout"
        }
      ]
    },
    {
      "cell_type": "code",
      "metadata": {
        "id": "FhNYjdoUuqZJ",
        "colab_type": "code",
        "colab": {
          "base_uri": "https://localhost:8080/",
          "height": 105
        },
        "outputId": "3cab9d85-73b1-4809-a075-b9d9a3537a12"
      },
      "source": [
        "list_d = [1, 2, 3]\n",
        "list_d.extend([4, 5, 6]) #리스트 뒤에 새로운 리스트의 요소 모두 추가 .extend([요소1, 요소2, ...])\n",
        "print(list_d)\n",
        "print()\n",
        "#리스트 연결 연산자와 달리, 원본에 변화가 생김(파괴적 처리)\n",
        "\n",
        "#원본에 변화 없음(비파괴적 처리)\n",
        "list_d1 = [1, 2, 3]\n",
        "list_d2 = [4, 5, 6]\n",
        "print(list_d1 + list_d2)\n",
        "print(list_d1)\n",
        "print(list_d2)"
      ],
      "execution_count": null,
      "outputs": [
        {
          "output_type": "stream",
          "text": [
            "[1, 2, 3, 4, 5, 6]\n",
            "\n",
            "[1, 2, 3, 4, 5, 6]\n",
            "[1, 2, 3]\n",
            "[4, 5, 6]\n"
          ],
          "name": "stdout"
        }
      ]
    },
    {
      "cell_type": "code",
      "metadata": {
        "id": "9aEsasrevPVY",
        "colab_type": "code",
        "colab": {
          "base_uri": "https://localhost:8080/",
          "height": 87
        },
        "outputId": "7a3a1737-1c17-4157-ec6b-b1e4fd1948d9"
      },
      "source": [
        "list_e = [0, 1, 2, 3, 4, 5]\n",
        "\n",
        "del list_e[1] #해당 인덱스에 있는 요소 제거 del 리스트명[인덱스]\n",
        "print(\"del list_e[1]: \", list_e)\n",
        "\n",
        "list_e.pop(2) #해당 인덱스에 있는 요소 제거 .pop(인덱스)\n",
        "print(\"pop(2): \", list_e)\n",
        "\n",
        "print()\n",
        "\n",
        "list_f = [0, 1, 2, 3, 4, 5]\n",
        "del list_f[1:4] #범위 지정-여러 개의 요소 한 번에 제거\n",
        "print(list_f)"
      ],
      "execution_count": null,
      "outputs": [
        {
          "output_type": "stream",
          "text": [
            "del list_e[1]:  [0, 2, 3, 4, 5]\n",
            "pop(2):  [0, 2, 4, 5]\n",
            "\n",
            "[0, 4, 5]\n"
          ],
          "name": "stdout"
        }
      ]
    },
    {
      "cell_type": "code",
      "metadata": {
        "id": "YaoB7BUnvwr3",
        "colab_type": "code",
        "colab": {
          "base_uri": "https://localhost:8080/",
          "height": 34
        },
        "outputId": "efe04077-5f50-4379-d270-c74087228a25"
      },
      "source": [
        "list_g = [1, 2, 1, 2]\n",
        "list_g.remove(2) #특정 값을 지정하여 제거\n",
        "list_g"
      ],
      "execution_count": null,
      "outputs": [
        {
          "output_type": "execute_result",
          "data": {
            "text/plain": [
              "[1, 1, 2]"
            ]
          },
          "metadata": {
            "tags": []
          },
          "execution_count": 36
        }
      ]
    },
    {
      "cell_type": "code",
      "metadata": {
        "id": "ai0UwDLVwSdr",
        "colab_type": "code",
        "colab": {
          "base_uri": "https://localhost:8080/",
          "height": 34
        },
        "outputId": "71274a10-6370-4a92-ab77-515a228630cf"
      },
      "source": [
        "list_h = [0, 1, 2, 3, 4, 5]\n",
        "list_h.clear() #모든 요소 제거\n",
        "list_h"
      ],
      "execution_count": null,
      "outputs": [
        {
          "output_type": "execute_result",
          "data": {
            "text/plain": [
              "[]"
            ]
          },
          "metadata": {
            "tags": []
          },
          "execution_count": 19
        }
      ]
    },
    {
      "cell_type": "code",
      "metadata": {
        "id": "JKzhPjkJwZdP",
        "colab_type": "code",
        "colab": {
          "base_uri": "https://localhost:8080/",
          "height": 87
        },
        "outputId": "24d913e7-1604-4d23-89b3-dfa4e5e690fc"
      },
      "source": [
        "list_i = [273, 32, 103, 57, 52]\n",
        "\n",
        "print(273 in list_i) #특정 값이 리스트 내부에 있는지 확인\n",
        "print(99 in list_i)\n",
        "\n",
        "print(273 not in list_i) #특정 값이 리스트 내부에 없는지 확인\n",
        "print(99 not in list_i)"
      ],
      "execution_count": null,
      "outputs": [
        {
          "output_type": "stream",
          "text": [
            "True\n",
            "False\n",
            "False\n",
            "True\n"
          ],
          "name": "stdout"
        }
      ]
    },
    {
      "cell_type": "markdown",
      "metadata": {
        "id": "P3SVBp42xOqt",
        "colab_type": "text"
      },
      "source": [
        "for 반복문"
      ]
    },
    {
      "cell_type": "code",
      "metadata": {
        "id": "uu9D65oVwwt5",
        "colab_type": "code",
        "colab": {
          "base_uri": "https://localhost:8080/",
          "height": 105
        },
        "outputId": "d931988b-b60e-48a8-bd19-981016a9f064"
      },
      "source": [
        "for i in range(5):\n",
        "  print(\"출력\")"
      ],
      "execution_count": null,
      "outputs": [
        {
          "output_type": "stream",
          "text": [
            "출력\n",
            "출력\n",
            "출력\n",
            "출력\n",
            "출력\n"
          ],
          "name": "stdout"
        }
      ]
    },
    {
      "cell_type": "code",
      "metadata": {
        "id": "p21Hs_4QxU0d",
        "colab_type": "code",
        "colab": {
          "base_uri": "https://localhost:8080/",
          "height": 105
        },
        "outputId": "49ef6a9e-e098-48a0-c799-82949c5d92fd"
      },
      "source": [
        "array = [273, 32, 103, 57, 52]\n",
        "\n",
        "for element in array:\n",
        "  print(element)"
      ],
      "execution_count": null,
      "outputs": [
        {
          "output_type": "stream",
          "text": [
            "273\n",
            "32\n",
            "103\n",
            "57\n",
            "52\n"
          ],
          "name": "stdout"
        }
      ]
    },
    {
      "cell_type": "code",
      "metadata": {
        "id": "5HSWgER1xf3t",
        "colab_type": "code",
        "colab": {
          "base_uri": "https://localhost:8080/",
          "height": 70
        },
        "outputId": "27629575-e23b-41c3-f60c-6aa1002b9fca"
      },
      "source": [
        "numbers = [273, 103, 5, 32, 65, 9, 72, 800, 99]\n",
        "\n",
        "for number in numbers:\n",
        "  if number >= 100:\n",
        "    print(\"-100 이상의 수: \", number)"
      ],
      "execution_count": null,
      "outputs": [
        {
          "output_type": "stream",
          "text": [
            "-100 이상의 수:  273\n",
            "-100 이상의 수:  103\n",
            "-100 이상의 수:  800\n"
          ],
          "name": "stdout"
        }
      ]
    },
    {
      "cell_type": "code",
      "metadata": {
        "id": "3PtoSiIEyL0b",
        "colab_type": "code",
        "colab": {
          "base_uri": "https://localhost:8080/",
          "height": 351
        },
        "outputId": "fdb63e85-d2f1-4488-9e2e-4dc5cfd1e734"
      },
      "source": [
        "numbers = [273, 103, 5, 32, 65, 9, 72, 800, 99]\n",
        "\n",
        "for number in numbers:\n",
        "  if (number % 2) == 0:\n",
        "    print(\"{}는 짝수입니다.\".format(number))\n",
        "  else:\n",
        "    print(\"{}는 홀수입니다.\".format(number))\n",
        "\n",
        "print()\n",
        "\n",
        "for number in numbers:\n",
        "  print(\"{}는 {} 자리수입니다.\".format(number, len(str(number))))"
      ],
      "execution_count": null,
      "outputs": [
        {
          "output_type": "stream",
          "text": [
            "273는 홀수입니다.\n",
            "103는 홀수입니다.\n",
            "5는 홀수입니다.\n",
            "32는 짝수입니다.\n",
            "65는 홀수입니다.\n",
            "9는 홀수입니다.\n",
            "72는 짝수입니다.\n",
            "800는 짝수입니다.\n",
            "99는 홀수입니다.\n",
            "\n",
            "273는 3 자리수입니다.\n",
            "103는 3 자리수입니다.\n",
            "5는 1 자리수입니다.\n",
            "32는 2 자리수입니다.\n",
            "65는 2 자리수입니다.\n",
            "9는 1 자리수입니다.\n",
            "72는 2 자리수입니다.\n",
            "800는 3 자리수입니다.\n",
            "99는 2 자리수입니다.\n"
          ],
          "name": "stdout"
        }
      ]
    },
    {
      "cell_type": "code",
      "metadata": {
        "id": "lAHztmJEyn56",
        "colab_type": "code",
        "colab": {
          "base_uri": "https://localhost:8080/",
          "height": 175
        },
        "outputId": "1f50a273-1c54-4a0c-f0da-7de48e5fd109"
      },
      "source": [
        "list_of_list = [[1, 2, 3], [4, 5, 6, 7], [8, 9]]\n",
        "\n",
        "for i in list_of_list:\n",
        "  for j in i:\n",
        "    print(j)"
      ],
      "execution_count": null,
      "outputs": [
        {
          "output_type": "stream",
          "text": [
            "1\n",
            "2\n",
            "3\n",
            "4\n",
            "5\n",
            "6\n",
            "7\n",
            "8\n",
            "9\n"
          ],
          "name": "stdout"
        }
      ]
    },
    {
      "cell_type": "code",
      "metadata": {
        "id": "ymiqLI6wuPlp",
        "colab_type": "code",
        "colab": {
          "base_uri": "https://localhost:8080/",
          "height": 34
        },
        "outputId": "9cfe3aa1-119e-4bb8-c22e-e10e7c9409b7"
      },
      "source": [
        "numbers = [1, 2, 3, 4, 5, 6, 7, 8, 9]\n",
        "output = [[], [], []]\n",
        "\n",
        "output[0].append(numbers[0])\n",
        "output[0].append(numbers[3])\n",
        "output[0].append(numbers[6])\n",
        "\n",
        "output[1].append(numbers[1])\n",
        "output[1].append(numbers[4])\n",
        "output[1].append(numbers[7])\n",
        "\n",
        "output[2].append(numbers[2])\n",
        "output[2].append(numbers[5])\n",
        "output[2].append(numbers[8])\n",
        "\n",
        "print(output)"
      ],
      "execution_count": null,
      "outputs": [
        {
          "output_type": "stream",
          "text": [
            "[[1, 4, 7], [2, 5, 8], [3, 6, 9]]\n"
          ],
          "name": "stdout"
        }
      ]
    },
    {
      "cell_type": "code",
      "metadata": {
        "id": "hSt_PLkcutCr",
        "colab_type": "code",
        "colab": {
          "base_uri": "https://localhost:8080/",
          "height": 668
        },
        "outputId": "aad39007-895d-4454-a9c3-b610371f3b74"
      },
      "source": [
        "#위의 예제를 for문으로 간략히 구현하기\n",
        "numbers = [1, 2, 3, 4, 5, 6, 7, 8, 9]\n",
        "output = [[], [], []]\n",
        "\n",
        "for number in numbers:\n",
        "  print(\"number = \", number)\n",
        "  print(\"number + 2 = \", number + 2)\n",
        "  print(\"(number + 2) % 3 = \", (number + 2) % 3)\n",
        "  print()\n",
        "\n",
        "  output[(number + 2) % 3].append(number)\n",
        "\n",
        "print(output)"
      ],
      "execution_count": null,
      "outputs": [
        {
          "output_type": "stream",
          "text": [
            "number =  1\n",
            "number + 2 =  3\n",
            "(number + 2) % 3 =  0\n",
            "\n",
            "number =  2\n",
            "number + 2 =  4\n",
            "(number + 2) % 3 =  1\n",
            "\n",
            "number =  3\n",
            "number + 2 =  5\n",
            "(number + 2) % 3 =  2\n",
            "\n",
            "number =  4\n",
            "number + 2 =  6\n",
            "(number + 2) % 3 =  0\n",
            "\n",
            "number =  5\n",
            "number + 2 =  7\n",
            "(number + 2) % 3 =  1\n",
            "\n",
            "number =  6\n",
            "number + 2 =  8\n",
            "(number + 2) % 3 =  2\n",
            "\n",
            "number =  7\n",
            "number + 2 =  9\n",
            "(number + 2) % 3 =  0\n",
            "\n",
            "number =  8\n",
            "number + 2 =  10\n",
            "(number + 2) % 3 =  1\n",
            "\n",
            "number =  9\n",
            "number + 2 =  11\n",
            "(number + 2) % 3 =  2\n",
            "\n",
            "[[1, 4, 7], [2, 5, 8], [3, 6, 9]]\n"
          ],
          "name": "stdout"
        }
      ]
    },
    {
      "cell_type": "code",
      "metadata": {
        "id": "DXMDHunPxziB",
        "colab_type": "code",
        "colab": {}
      },
      "source": [
        ""
      ],
      "execution_count": null,
      "outputs": []
    }
  ]
}