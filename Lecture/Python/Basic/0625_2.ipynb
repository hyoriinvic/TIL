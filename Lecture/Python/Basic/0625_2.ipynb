{
  "nbformat": 4,
  "nbformat_minor": 0,
  "metadata": {
    "colab": {
      "name": "0625_2",
      "provenance": []
    },
    "kernelspec": {
      "name": "python3",
      "display_name": "Python 3"
    }
  },
  "cells": [
    {
      "cell_type": "markdown",
      "metadata": {
        "id": "XHp4wcoPkx86",
        "colab_type": "text"
      },
      "source": [
        "# 문자열, 리스트, 딕셔너리"
      ]
    },
    {
      "cell_type": "markdown",
      "metadata": {
        "id": "ZLA71ZDr9ALT",
        "colab_type": "text"
      },
      "source": [
        "문자열, 리스트, 딕셔너리 관련 기본 함수"
      ]
    },
    {
      "cell_type": "code",
      "metadata": {
        "id": "a1ZCS-2x9D0k",
        "colab_type": "code",
        "colab": {
          "base_uri": "https://localhost:8080/",
          "height": 70
        },
        "outputId": "efe0d013-8c39-42f0-b8b6-aa23900afcfc"
      },
      "source": [
        "#리스트 min(), max(), sum()\n",
        "numbers = [103, 52, 273, 32, 77]\n",
        "print(min(numbers)) #최솟값\n",
        "print(max(numbers)) #최댓값\n",
        "print(sum(numbers)) #합계"
      ],
      "execution_count": null,
      "outputs": [
        {
          "output_type": "stream",
          "text": [
            "32\n",
            "273\n",
            "537\n"
          ],
          "name": "stdout"
        }
      ]
    },
    {
      "cell_type": "code",
      "metadata": {
        "id": "G8ivwcVO9VUE",
        "colab_type": "code",
        "colab": {
          "base_uri": "https://localhost:8080/",
          "height": 210
        },
        "outputId": "eb87a126-dae2-4010-bbbc-ee5e197be039"
      },
      "source": [
        " #리스트 reversed\n",
        " list_a = [1, 2, 3, 4, 5]\n",
        " list_reversed = reversed(list_a)\n",
        "\n",
        " print(\"#reversed 함수\")\n",
        " print(\"reversed[1, 2, 3, 4, 5]: \", list_reversed)\n",
        " print(\"list(reversed[1, 2, 3, 4, 5]): \", list(list_reversed))\n",
        " print()\n",
        "\n",
        " for i in reversed(list_a): #reversed()는 제너레이터: 필요한 시점에 함수를 사용함\n",
        "   print(i)\n",
        "print()\n",
        "\n",
        "#같은 기능: 확장 슬라이싱\n",
        "print(list_a[::-1]) #비파괴적 코드 "
      ],
      "execution_count": null,
      "outputs": [
        {
          "output_type": "stream",
          "text": [
            "#reversed 함수\n",
            "reversed[1, 2, 3, 4, 5]:  <list_reverseiterator object at 0x7f97d5a955c0>\n",
            "list(reversed[1, 2, 3, 4, 5]):  [5, 4, 3, 2, 1]\n",
            "\n",
            "5\n",
            "4\n",
            "3\n",
            "2\n",
            "1\n",
            "\n",
            "[5, 4, 3, 2, 1]\n"
          ],
          "name": "stdout"
        }
      ]
    },
    {
      "cell_type": "code",
      "metadata": {
        "id": "bVikkeNF-fVZ",
        "colab_type": "code",
        "colab": {
          "base_uri": "https://localhost:8080/",
          "height": 193
        },
        "outputId": "1255ce93-f039-4070-bed9-3c99789bc4e9"
      },
      "source": [
        "#리스트 enumerate(): 리스트 요소 반복 시 인덱스 확인을 용이하게 함\n",
        "example_list = [\"A\", \"B\", \"C\"]\n",
        "\n",
        "print(\"#enumerate() 함수 적용\")\n",
        "print(enumerate(example_list))\n",
        "print()\n",
        "\n",
        "print(\"#list() 함수로 강제 변환해 출력\")\n",
        "print(list(enumerate(example_list))) #튜플 형태로 묶임\n",
        "print()\n",
        "\n",
        "print(\"#반복문과 조합하기\")\n",
        "for i, value in enumerate(example_list):\n",
        "  print(\"{}번째 요소는 {}입니다.\".format(i, value))"
      ],
      "execution_count": null,
      "outputs": [
        {
          "output_type": "stream",
          "text": [
            "#enumerate() 함수 적용\n",
            "<enumerate object at 0x7f97f612a1b0>\n",
            "\n",
            "#list() 함수로 강제 변환해 출력\n",
            "[(0, 'A'), (1, 'B'), (2, 'C')]\n",
            "\n",
            "#반복문과 조합하기\n",
            "0번째 요소는 A입니다.\n",
            "1번째 요소는 B입니다.\n",
            "2번째 요소는 C입니다.\n"
          ],
          "name": "stdout"
        }
      ]
    },
    {
      "cell_type": "code",
      "metadata": {
        "id": "nNoQ_uHq_UoU",
        "colab_type": "code",
        "colab": {
          "base_uri": "https://localhost:8080/",
          "height": 140
        },
        "outputId": "4080cc03-1d89-4cdf-b853-b28d997ac1eb"
      },
      "source": [
        "#딕셔너리 items() : enumerate()와 동일한 역할\n",
        "example_dictionary = {\n",
        "    \"키 A\" : \"값 A\",\n",
        "    \"키 B\" : \"값 B\",\n",
        "    \"키 C\" : \"값 C\"    \n",
        "}\n",
        "\n",
        "print(\"#딕셔너리의 items() 함수 결과 출력하기\")\n",
        "print(\"items(): \", exmple_dictionary.items())\n",
        "print()\n",
        "\n",
        "print(\"#반복문과 조합하기\")\n",
        "for key, element in example_dictionary.items():\n",
        "  print(\"dictionary[{}] = {}\".format(key, element))"
      ],
      "execution_count": null,
      "outputs": [
        {
          "output_type": "stream",
          "text": [
            "#딕셔너리의 items() 함수 결과 출력하기\n",
            "items():  dict_items([('키 A', '값 A'), ('키 B', '값 B'), ('키 C', '값 C')])\n",
            "\n",
            "#반복문과 조합하기\n",
            "dictionary[키 A] = 값 A\n",
            "dictionary[키 B] = 값 B\n",
            "dictionary[키 C] = 값 C\n"
          ],
          "name": "stdout"
        }
      ]
    },
    {
      "cell_type": "code",
      "metadata": {
        "id": "bqgb7rvoAY4W",
        "colab_type": "code",
        "colab": {
          "base_uri": "https://localhost:8080/",
          "height": 52
        },
        "outputId": "a9095e86-5b59-4fee-907a-d3cad959c3fb"
      },
      "source": [
        "#리스트 내포(list comprehension)\n",
        "array = []\n",
        "\n",
        "for i in range(0, 20, 2):\n",
        "  array.append(i * i)\n",
        "\n",
        "print(array)\n",
        "\n",
        "#위 코드를 간단하게 표현하면,\n",
        "array2 = [i * i for i in range(0, 20, 2)] #리스트 이름 = [표현식 for 반복자 in 반복할 수 있는 것]\n",
        "print(array2)"
      ],
      "execution_count": null,
      "outputs": [
        {
          "output_type": "stream",
          "text": [
            "[0, 4, 16, 36, 64, 100, 144, 196, 256, 324]\n",
            "[0, 4, 16, 36, 64, 100, 144, 196, 256, 324]\n"
          ],
          "name": "stdout"
        }
      ]
    },
    {
      "cell_type": "code",
      "metadata": {
        "id": "pfqtzN-FCBKx",
        "colab_type": "code",
        "colab": {
          "base_uri": "https://localhost:8080/",
          "height": 34
        },
        "outputId": "818def7e-6627-4888-c2aa-36f4cd653118"
      },
      "source": [
        "#리스트 내포\n",
        "array = [\"사과\", \"자두\", \"초콜릿\", \"바나나\", \"체리\"]\n",
        "output = [fruit for fruit in array if fruit != \"초콜릿\"]\n",
        "print(output)"
      ],
      "execution_count": null,
      "outputs": [
        {
          "output_type": "stream",
          "text": [
            "['사과', '자두', '바나나', '체리']\n"
          ],
          "name": "stdout"
        }
      ]
    },
    {
      "cell_type": "markdown",
      "metadata": {
        "id": "F12_TS2itMs5",
        "colab_type": "text"
      },
      "source": [
        "매개변수"
      ]
    },
    {
      "cell_type": "markdown",
      "metadata": {
        "id": "7Xt6ARWN2SAL",
        "colab_type": "text"
      },
      "source": [
        "# 함수의 활용"
      ]
    },
    {
      "cell_type": "code",
      "metadata": {
        "id": "r1WRsdg_DIiD",
        "colab_type": "code",
        "colab": {
          "base_uri": "https://localhost:8080/",
          "height": 52
        },
        "outputId": "9cbd89e1-b48f-4b5d-e0c2-712dcfbdbba9"
      },
      "source": [
        "#재귀함수 - 팩토리얼\n",
        "\n",
        "#반복문으로 구하기\n",
        "def factorial(n):\n",
        "  output = 1\n",
        "  for i in range(1, n + 1):\n",
        "    output *= i\n",
        "  return output\n",
        "\n",
        "print(\"5!: \", factorial(5))\n",
        "\n",
        "#재귀함수로 구하기\n",
        "def factorial2(n):\n",
        "  if n == 0:\n",
        "    return 1\n",
        "  else: \n",
        "    return n * factorial2(n-1)\n",
        "\n",
        "print(\"5!: \", factorial2(5))"
      ],
      "execution_count": null,
      "outputs": [
        {
          "output_type": "stream",
          "text": [
            "5!:  120\n",
            "5!:  120\n"
          ],
          "name": "stdout"
        }
      ]
    },
    {
      "cell_type": "code",
      "metadata": {
        "id": "XTe70lfPD_Su",
        "colab_type": "code",
        "colab": {
          "base_uri": "https://localhost:8080/",
          "height": 210
        },
        "outputId": "bf64798f-ea45-42ca-ec1d-c8dcb75d8299"
      },
      "source": [
        "#재귀함수 - 피보나치 수열\n",
        "\n",
        "counter = 0\n",
        "\n",
        "def fibonacci(n):\n",
        "  print(\"fibonacci({})를 구합니다\".format(n))\n",
        "  global counter\n",
        "  counter += 1\n",
        "\n",
        "  if n == 1: \n",
        "    return 1\n",
        "  if n == 2:\n",
        "    return 1\n",
        "  else:\n",
        "    return fibonacci(n-1) + fibonacci(n-2)\n",
        "\n",
        "fibonacci(5)\n",
        "print(\"___\")\n",
        "print(\"fibonacci(5) 계산에 활용된 덧셈 횟수는 {}번입니다.\".format(counter))"
      ],
      "execution_count": null,
      "outputs": [
        {
          "output_type": "stream",
          "text": [
            "fibonacci(5)를 구합니다\n",
            "fibonacci(4)를 구합니다\n",
            "fibonacci(3)를 구합니다\n",
            "fibonacci(2)를 구합니다\n",
            "fibonacci(1)를 구합니다\n",
            "fibonacci(2)를 구합니다\n",
            "fibonacci(3)를 구합니다\n",
            "fibonacci(2)를 구합니다\n",
            "fibonacci(1)를 구합니다\n",
            "___\n",
            "fibonacci(5) 계산에 활용된 덧셈 횟수는 9번입니다.\n"
          ],
          "name": "stdout"
        }
      ]
    },
    {
      "cell_type": "markdown",
      "metadata": {
        "id": "tvbz_ogWHsSa",
        "colab_type": "text"
      },
      "source": [
        "#함수 고급"
      ]
    },
    {
      "cell_type": "markdown",
      "metadata": {
        "id": "iHQz4SwL2W72",
        "colab_type": "text"
      },
      "source": [
        "튜플"
      ]
    },
    {
      "cell_type": "code",
      "metadata": {
        "id": "qKj4Zji4JFrv",
        "colab_type": "code",
        "colab": {}
      },
      "source": [
        "#리스트: 저장된 값 변경 가능 - 용이하지만, 속도가 느림, 메모리 많이 차지\n",
        "#튜플: 리스트와 유사한 자료형, 한 번 결정된 요소는 바꿀 수 없음 - 불편하지만, 속도가 빠름, 메모리 적게 차지\n",
        "\n",
        "#데이터 타입 별 차지하는 메모리의 크기가 다름\n",
        "#숫자(정수, 실수 구분없이) 8바이트\n",
        "#문자 - 영어/숫자는 1바이트, 서유럽어 2바이트, 그 외 3바이트\n",
        "#불린 1바이트\n",
        "\n",
        "test_list = [1, \"안녕\", True, 3.14] #건너건너 찾아가는 주소\n",
        "tuple_list = (1, \"안녕\", True, 3.14) #각각의 주소를 파악 - 알고 있음(처음 한 번 정해지면 고정!)"
      ],
      "execution_count": null,
      "outputs": []
    },
    {
      "cell_type": "code",
      "metadata": {
        "id": "sGidP7Gt2Eew",
        "colab_type": "code",
        "colab": {
          "base_uri": "https://localhost:8080/",
          "height": 87
        },
        "outputId": "b432ee0e-516b-4f14-986b-db5006a81673"
      },
      "source": [
        "#요소를 하나만 가지는 튜플은 (273, ) <- 이렇게 선언해야 함!!\n",
        "\n",
        "tuple_test = (10, 20, 30)\n",
        "print(tuple_test[0])\n",
        "print(tuple_test[1])\n",
        "print(tuple_test[2])\n",
        "print()\n",
        "\n",
        "try: \n",
        "  tuple_test[0] = \"변경\" #요소 변경 불가! 에러 발생!\n",
        "except:\n",
        "  print(\"튜플 요소는 변경이 불가능합니다.\")"
      ],
      "execution_count": null,
      "outputs": [
        {
          "output_type": "stream",
          "text": [
            "10\n",
            "20\n",
            "30\n",
            "튜플 요소는 변경이 불가능합니다.\n"
          ],
          "name": "stdout"
        }
      ]
    },
    {
      "cell_type": "code",
      "metadata": {
        "id": "iQGXTpLPSsve",
        "colab_type": "code",
        "colab": {
          "base_uri": "https://localhost:8080/",
          "height": 105
        },
        "outputId": "53024cec-dc5a-4add-d8a0-6b280687e770"
      },
      "source": [
        "#리스트와 튜플의 특이한 사용\n",
        "#저장된 값을 변수에 바로 저장 가능\n",
        "\n",
        "list_test = [100, 200, 300]\n",
        "a = list_test[0]\n",
        "b = list_test[1]\n",
        "c = list_test[2]\n",
        "print(\"a = \", a,\"\\tb = \", b, \"\\tc = \", c)\n",
        "print()\n",
        "\n",
        "#파이썬에서는 아래의 방법을 더 많이 사용함\n",
        "a1, b1, c1 = list_test\n",
        "print(\"a1 = \", a1, \"\\tb1 = \", b1, \"\\tc1 = \", c1)\n",
        "print()\n",
        "\n",
        "#튜플도 동일하게 사용 가능\n",
        "A, B, C = (1, 2, 3)\n",
        "print(\"A = \", A, \"\\tB = \", B, \"\\tC = \", C)"
      ],
      "execution_count": null,
      "outputs": [
        {
          "output_type": "stream",
          "text": [
            "a =  100 \tb =  200 \tc =  300\n",
            "\n",
            "a1 =  100 \tb1 =  200 \tc1 =  300\n",
            "\n",
            "A =  1 \tB =  2 \tC =  3\n"
          ],
          "name": "stdout"
        }
      ]
    },
    {
      "cell_type": "code",
      "metadata": {
        "id": "22Lv9D2D2n3a",
        "colab_type": "code",
        "colab": {
          "base_uri": "https://localhost:8080/",
          "height": 158
        },
        "outputId": "9a13c8be-0038-4848-90b9-b505e0b5252e"
      },
      "source": [
        "#괄호가 없는 튜플\n",
        "#괄호가 없으면 기본적으로 튜플로 인식함 - 컴퓨터가 더 편한 방향\n",
        "\n",
        "tuple_test2 = 10, 20, 30, 40 \n",
        "print(\"#괄호가 없는 튜플의 값과 자료형 출력\")\n",
        "print(\"tuple_test2: \", tuple_test)\n",
        "print(\"type(tuple_test2): \", type(tuple_test))\n",
        "print()\n",
        "\n",
        "#괄호가 없는 튜플 활용\n",
        "a, b, c = 10, 20, 30\n",
        "print(\"#괄호가 없는 튜플을 활용한 할당\")\n",
        "print(\"a: \", a)\n",
        "print(\"b: \", b)\n",
        "print(\"c: \", c)"
      ],
      "execution_count": null,
      "outputs": [
        {
          "output_type": "stream",
          "text": [
            "#괄호가 없는 튜플의 값과 자료형 출력\n",
            "tuple_test2:  (100, 200, 300)\n",
            "type(tuple_test2):  <class 'tuple'>\n",
            "\n",
            "#괄호가 없는 튜플을 활용한 할당\n",
            "a:  10\n",
            "b:  20\n",
            "c:  30\n"
          ],
          "name": "stdout"
        }
      ]
    },
    {
      "cell_type": "code",
      "metadata": {
        "id": "x_wXPMYNV-if",
        "colab_type": "code",
        "colab": {
          "base_uri": "https://localhost:8080/",
          "height": 140
        },
        "outputId": "26f0dba6-3836-4a77-e0d0-9b3454539910"
      },
      "source": [
        "#변수의 값을 교환하는 튜플\n",
        "print(\"#예시: 변수의 값을 교환하는 튜플\")\n",
        "d, e = 100, 200\n",
        "\n",
        "print(\"#교환 전 값\")\n",
        "print(\"d: \", d)\n",
        "print(\"e: \", e)\n",
        "\n",
        "d, e = e, d #값 교환\n",
        "\n",
        "print(\"#교환 후 값\")\n",
        "print(\"d: \", d)\n",
        "print(\"e: \", e)"
      ],
      "execution_count": null,
      "outputs": [
        {
          "output_type": "stream",
          "text": [
            "#예시: 변수의 값을 교환하는 튜플\n",
            "#교환 전 값\n",
            "d:  100\n",
            "e:  200\n",
            "#교환 후 값\n",
            "d:  200\n",
            "e:  100\n"
          ],
          "name": "stdout"
        }
      ]
    },
    {
      "cell_type": "code",
      "metadata": {
        "id": "NMLcA2uf3VTH",
        "colab_type": "code",
        "colab": {
          "base_uri": "https://localhost:8080/",
          "height": 52
        },
        "outputId": "98974bdf-cbd5-48ff-dd83-43ef393bace8"
      },
      "source": [
        "#튜플과 함수\n",
        "#여러 개의 값 리턴하기\n",
        "\n",
        "def test():\n",
        "  return (10, 20) #괄호 없어도 문제 없음\n",
        "\n",
        "a, b = test()\n",
        "\n",
        "print(\"a: \", a)\n",
        "print(\"b: \", b)"
      ],
      "execution_count": null,
      "outputs": [
        {
          "output_type": "stream",
          "text": [
            "a:  10\n",
            "b:  20\n"
          ],
          "name": "stdout"
        }
      ]
    }
  ]
}