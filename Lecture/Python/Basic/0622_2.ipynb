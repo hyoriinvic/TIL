{
  "nbformat": 4,
  "nbformat_minor": 0,
  "metadata": {
    "colab": {
      "name": "0622_2",
      "provenance": []
    },
    "kernelspec": {
      "name": "python3",
      "display_name": "Python 3"
    }
  },
  "cells": [
    {
      "cell_type": "markdown",
      "metadata": {
        "id": "vEOx-6-WMUyz",
        "colab_type": "text"
      },
      "source": [
        "숫자"
      ]
    },
    {
      "cell_type": "code",
      "metadata": {
        "id": "zLj2k9DiMOBn",
        "colab_type": "code",
        "colab": {
          "base_uri": "https://localhost:8080/",
          "height": 87
        },
        "outputId": "4e1255a9-b696-4b38-e0cf-00b3d19bbc22"
      },
      "source": [
        "print(273) \n",
        "print(type(273)) #정수형(int)\n",
        "print(52.273)\n",
        "print(type(52.273)) #실수형(float)"
      ],
      "execution_count": null,
      "outputs": [
        {
          "output_type": "stream",
          "text": [
            "273\n",
            "<class 'int'>\n",
            "52.273\n",
            "<class 'float'>\n"
          ],
          "name": "stdout"
        }
      ]
    },
    {
      "cell_type": "code",
      "metadata": {
        "id": "8-Kyk6KzM8DU",
        "colab_type": "code",
        "colab": {
          "base_uri": "https://localhost:8080/",
          "height": 140
        },
        "outputId": "379176ae-f8bb-473c-c714-171e94c14b5b"
      },
      "source": [
        "#숫자 연산자-사칙연산\n",
        "\n",
        "print(\"5 + 7 = \", 5 + 7)\n",
        "print(\"5 - 7 = \", 5 - 7)\n",
        "print(\"5 * 7 = \", 5 * 7)\n",
        "print(\"5 / 7 = \", 5 / 7)\n",
        "\n",
        "print(\"5 // 7 = \", 5 // 7) #정수 나누기 연산자 // (결과값 정수, 몫을 출력)\n",
        "print(\"5 % 2 = \", 5 % 2) #나머지 연산자 %\n",
        "print(\"2 ** 3 = \", 2 ** 3) #제곱 연산자 **"
      ],
      "execution_count": null,
      "outputs": [
        {
          "output_type": "stream",
          "text": [
            "5 + 7 =  12\n",
            "5 - 7 =  -2\n",
            "5 * 7 =  35\n",
            "5 / 7 =  0.7142857142857143\n",
            "5 // 7 =  0\n",
            "5 % 2 =  1\n",
            "2 ** 3 =  8\n"
          ],
          "name": "stdout"
        }
      ]
    },
    {
      "cell_type": "code",
      "metadata": {
        "id": "Njl2SqyvN01H",
        "colab_type": "code",
        "colab": {
          "base_uri": "https://localhost:8080/",
          "height": 34
        },
        "outputId": "348f9618-6be6-469e-8482-613c40eb4bf3"
      },
      "source": [
        "\"안녕\" + \"하세요\" * 3"
      ],
      "execution_count": null,
      "outputs": [
        {
          "output_type": "execute_result",
          "data": {
            "text/plain": [
              "'안녕하세요하세요하세요'"
            ]
          },
          "metadata": {
            "tags": []
          },
          "execution_count": 5
        }
      ]
    },
    {
      "cell_type": "code",
      "metadata": {
        "id": "d1J6oekOP-et",
        "colab_type": "code",
        "colab": {
          "base_uri": "https://localhost:8080/",
          "height": 34
        },
        "outputId": "cfbc72d3-a6be-436a-fe3c-06d16e251537"
      },
      "source": [
        "(\"안녕\" + \"하세요\") * 3"
      ],
      "execution_count": null,
      "outputs": [
        {
          "output_type": "execute_result",
          "data": {
            "text/plain": [
              "'안녕하세요안녕하세요안녕하세요'"
            ]
          },
          "metadata": {
            "tags": []
          },
          "execution_count": 6
        }
      ]
    },
    {
      "cell_type": "markdown",
      "metadata": {
        "id": "z0Y4IkRcQZBa",
        "colab_type": "text"
      },
      "source": [
        "변수"
      ]
    },
    {
      "cell_type": "code",
      "metadata": {
        "id": "ato_wOfvQLMg",
        "colab_type": "code",
        "colab": {
          "base_uri": "https://localhost:8080/",
          "height": 70
        },
        "outputId": "fd8db9d4-d31c-4b56-c259-b0e0fe017a52"
      },
      "source": [
        "#변수 선언 및 할당\n",
        "pi = 3.14159265 #원주율\n",
        "r = 10 #반지름\n",
        "\n",
        "#변수 참조\n",
        "print(\"원주율 = \", pi)\n",
        "print(\"원의 둘레 = \", 2 * pi * r)\n",
        "print(\"원의 넓이 = \", pi * r * r)"
      ],
      "execution_count": null,
      "outputs": [
        {
          "output_type": "stream",
          "text": [
            "원주율 =  3.14159265\n",
            "원의 둘레 =  62.831853\n",
            "원의 넓이 =  314.159265\n"
          ],
          "name": "stdout"
        }
      ]
    },
    {
      "cell_type": "code",
      "metadata": {
        "id": "7hjxadiUQgOw",
        "colab_type": "code",
        "colab": {
          "base_uri": "https://localhost:8080/",
          "height": 70
        },
        "outputId": "ca84ab4b-2697-4c14-ac11-4e2ef634c7cd"
      },
      "source": [
        "#복합 대입 연산자\n",
        "number = 100\n",
        "number += 10\n",
        "number += 20\n",
        "number += 30\n",
        "print(\"number: \", number)\n",
        "\n",
        "print()\n",
        "\n",
        "string = \"안녕하세요\"\n",
        "string += \"!\"\n",
        "string += \"!\"\n",
        "print(\"string: \", string)"
      ],
      "execution_count": null,
      "outputs": [
        {
          "output_type": "stream",
          "text": [
            "number:  160\n",
            "\n",
            "string:  안녕하세요!!\n"
          ],
          "name": "stdout"
        }
      ]
    },
    {
      "cell_type": "markdown",
      "metadata": {
        "id": "Lruk1z5ASZJZ",
        "colab_type": "text"
      },
      "source": [
        "사용자 입력 함수: input()"
      ]
    },
    {
      "cell_type": "code",
      "metadata": {
        "id": "tLlMfjRqSB75",
        "colab_type": "code",
        "colab": {
          "base_uri": "https://localhost:8080/",
          "height": 105
        },
        "outputId": "f7da9309-b500-4a29-9456-227c8593a7ce"
      },
      "source": [
        "string = input(\"인사말을 입력하세요: \")\n",
        "print(string)\n",
        "\n",
        "number = input(\"숫자를 입력하세요: \")\n",
        "print(number)\n",
        "print(type(number)) #input()은 입력값을 무조건 문자열 자료형으로 저장 "
      ],
      "execution_count": null,
      "outputs": [
        {
          "output_type": "stream",
          "text": [
            "인사말을 입력하세요: 안녕하세요\n",
            "안녕하세요\n",
            "숫자를 입력하세요: 23\n",
            "23\n",
            "<class 'str'>\n"
          ],
          "name": "stdout"
        }
      ]
    },
    {
      "cell_type": "code",
      "metadata": {
        "id": "0XFTX4F9S9va",
        "colab_type": "code",
        "colab": {
          "base_uri": "https://localhost:8080/",
          "height": 70
        },
        "outputId": "9e8e1e4a-30b3-47dd-a640-51b06e08d110"
      },
      "source": [
        "string = input(\"입력: \")\n",
        "print(\"자료: \", string)\n",
        "print(\"자료형: \", type(string))"
      ],
      "execution_count": null,
      "outputs": [
        {
          "output_type": "stream",
          "text": [
            "입력: True\n",
            "자료:  True\n",
            "자료형:  <class 'str'>\n"
          ],
          "name": "stdout"
        }
      ]
    },
    {
      "cell_type": "code",
      "metadata": {
        "id": "3vD7zjW7UPUz",
        "colab_type": "code",
        "colab": {
          "base_uri": "https://localhost:8080/",
          "height": 140
        },
        "outputId": "1b53d7b1-a749-4053-b070-bd3e94c7de77"
      },
      "source": [
        "#문자열을 숫자로 바꾸기 (형 변환-캐스트)\n",
        "string_a = input(\"입력 A: \")\n",
        "int_a = int(string_a) #정수형으로 변환\n",
        "\n",
        "string_b = input(\"입력 B: \")\n",
        "int_b = int(string_b)\n",
        "\n",
        "print(\"문자열 자료: \", string_a + string_b)\n",
        "print(\"정수형 자료: \", int_a + int_b)\n",
        "\n",
        "print()\n",
        "\n",
        "output_a = int(\"52\")\n",
        "output_b = float(\"52.273\") #실수형으로 변환\n",
        "\n",
        "print(type(output_a), output_a)\n",
        "print(type(output_b), output_b)\n",
        "\n",
        "#print()\n",
        "#int(3.14) #불가능"
      ],
      "execution_count": null,
      "outputs": [
        {
          "output_type": "stream",
          "text": [
            "입력 A: 23\n",
            "입력 B: 34\n",
            "문자열 자료:  2334\n",
            "정수형 자료:  57\n",
            "\n",
            "<class 'int'> 52\n",
            "<class 'float'> 52.273\n"
          ],
          "name": "stdout"
        }
      ]
    },
    {
      "cell_type": "code",
      "metadata": {
        "id": "vkqiMKp5VrI7",
        "colab_type": "code",
        "colab": {
          "base_uri": "https://localhost:8080/",
          "height": 122
        },
        "outputId": "9179bd6f-7517-43b7-bd60-b2f877cebbaa"
      },
      "source": [
        "input_a = float(input(\"첫 번째 숫자: \"))\n",
        "input_b = float(input(\"두 번째 숫자: \"))\n",
        "\n",
        "print(\"덧셈 결과: \", input_a + input_b)\n",
        "print(\"뺄셈 결과: \", input_a - input_b)\n",
        "print(\"곱셈 결과: \", input_a * input_b)\n",
        "print(\"나눗셈 결과: \", input_a / input_b)"
      ],
      "execution_count": null,
      "outputs": [
        {
          "output_type": "stream",
          "text": [
            "첫 번째 숫자: 3.2\n",
            "두 번째 숫자: 341.23\n",
            "덧셈 결과:  344.43\n",
            "뺄셈 결과:  -338.03000000000003\n",
            "곱셈 결과:  1091.9360000000001\n",
            "나눗셈 결과:  0.009377838994226768\n"
          ],
          "name": "stdout"
        }
      ]
    },
    {
      "cell_type": "code",
      "metadata": {
        "id": "-CzTRE-gWy6o",
        "colab_type": "code",
        "colab": {
          "base_uri": "https://localhost:8080/",
          "height": 52
        },
        "outputId": "ef010b05-3e34-4434-f7c4-a67be7576c11"
      },
      "source": [
        "output_a = str(52)\n",
        "output_b = str(52.273)\n",
        "\n",
        "print(type(output_a), output_a)\n",
        "print(type(output_b), output_b)"
      ],
      "execution_count": null,
      "outputs": [
        {
          "output_type": "stream",
          "text": [
            "<class 'str'> 52\n",
            "<class 'str'> 52.273\n"
          ],
          "name": "stdout"
        }
      ]
    },
    {
      "cell_type": "code",
      "metadata": {
        "id": "iqm8Gpt4XPLl",
        "colab_type": "code",
        "colab": {
          "base_uri": "https://localhost:8080/",
          "height": 87
        },
        "outputId": "ad5bd3c0-b915-4827-e293-bfdba6c52519"
      },
      "source": [
        "str_input = input(\"숫자 입력: \")\n",
        "num_input = float(str_input)\n",
        "\n",
        "print()\n",
        "\n",
        "print(num_input, \"inch\")\n",
        "print((num_input * 2.54), \"cm\")"
      ],
      "execution_count": null,
      "outputs": [
        {
          "output_type": "stream",
          "text": [
            "숫자 입력: 12\n",
            "\n",
            "12.0 inch\n",
            "30.48 cm\n"
          ],
          "name": "stdout"
        }
      ]
    },
    {
      "cell_type": "code",
      "metadata": {
        "id": "wujArQQKXsAL",
        "colab_type": "code",
        "colab": {
          "base_uri": "https://localhost:8080/",
          "height": 105
        },
        "outputId": "ad137c4f-3838-4db5-cdcd-3c3bc97c7211"
      },
      "source": [
        "str_input = input(\"원의 반지름 입력: \")\n",
        "num_input = float(str_input)\n",
        "\n",
        "print()\n",
        "\n",
        "print(\"반지름: \", num_input)\n",
        "print(\"둘레: \", 2 * 3.14 * num_input)\n",
        "print(\"넓이: \", 3.24 * (num_input ** 2))"
      ],
      "execution_count": null,
      "outputs": [
        {
          "output_type": "stream",
          "text": [
            "원의 반지름 입력: 5\n",
            "\n",
            "반지름:  5.0\n",
            "둘레:  31.400000000000002\n",
            "넓이:  81.0\n"
          ],
          "name": "stdout"
        }
      ]
    },
    {
      "cell_type": "code",
      "metadata": {
        "id": "Lp9Ju8mNZ-jq",
        "colab_type": "code",
        "colab": {
          "base_uri": "https://localhost:8080/",
          "height": 87
        },
        "outputId": "44778f3c-f19b-464b-d8b5-5e2423910dce"
      },
      "source": [
        "#변수 교체-스왑(swap)\n",
        "a = input(\"문자열 입력: \")\n",
        "b = input(\"문자열 입력: \")\n",
        "\n",
        "print(a, b)\n",
        "\n",
        "temp = a\n",
        "a = b\n",
        "b = temp\n",
        "\n",
        "print(a, b)"
      ],
      "execution_count": null,
      "outputs": [
        {
          "output_type": "stream",
          "text": [
            "문자열 입력: 안녕\n",
            "문자열 입력: 반가워\n",
            "안녕 반가워\n",
            "반가워 안녕\n"
          ],
          "name": "stdout"
        }
      ]
    }
  ]
}