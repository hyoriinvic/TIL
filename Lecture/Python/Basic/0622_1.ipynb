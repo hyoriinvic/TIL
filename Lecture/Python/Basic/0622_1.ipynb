{
  "nbformat": 4,
  "nbformat_minor": 0,
  "metadata": {
    "colab": {
      "name": "0622_1",
      "provenance": []
    },
    "kernelspec": {
      "name": "python3",
      "display_name": "Python 3"
    }
  },
  "cells": [
    {
      "cell_type": "code",
      "metadata": {
        "id": "fo3Jn972_lTB",
        "colab_type": "code",
        "colab": {
          "base_uri": "https://localhost:8080/",
          "height": 54
        },
        "outputId": "fb6f4f54-3a13-451c-f9e5-dd401b336adf"
      },
      "source": [
        "import keyword\n",
        "print(keyword.kwlist)"
      ],
      "execution_count": null,
      "outputs": [
        {
          "output_type": "stream",
          "text": [
            "['False', 'None', 'True', 'and', 'as', 'assert', 'break', 'class', 'continue', 'def', 'del', 'elif', 'else', 'except', 'finally', 'for', 'from', 'global', 'if', 'import', 'in', 'is', 'lambda', 'nonlocal', 'not', 'or', 'pass', 'raise', 'return', 'try', 'while', 'with', 'yield']\n"
          ],
          "name": "stdout"
        }
      ]
    },
    {
      "cell_type": "markdown",
      "metadata": {
        "id": "Cw7wMzuKMaQ-",
        "colab_type": "text"
      },
      "source": [
        "문자"
      ]
    },
    {
      "cell_type": "code",
      "metadata": {
        "id": "xve2QfKoyd8P",
        "colab_type": "code",
        "colab": {
          "base_uri": "https://localhost:8080/",
          "height": 52
        },
        "outputId": "92f59484-b9b4-4ccd-f076-a81a12625947"
      },
      "source": [
        "#출력함수 print()\n",
        "\n",
        "print(\"Hello! Python Programming...\")\n",
        "print('Hello! Python Programming...') #큰따옴표, 작은따옴표 구분하지 않음77"
      ],
      "execution_count": null,
      "outputs": [
        {
          "output_type": "stream",
          "text": [
            "Hello! Python Programming...\n",
            "Hello! Python Programming...\n"
          ],
          "name": "stdout"
        }
      ]
    },
    {
      "cell_type": "code",
      "metadata": {
        "id": "W1RbUdqlysje",
        "colab_type": "code",
        "colab": {
          "base_uri": "https://localhost:8080/",
          "height": 34
        },
        "outputId": "513cfecd-93b2-4e4c-831b-24b3c337e849"
      },
      "source": [
        "print() #라인 띄우기(공백)"
      ],
      "execution_count": null,
      "outputs": [
        {
          "output_type": "stream",
          "text": [
            "\n"
          ],
          "name": "stdout"
        }
      ]
    },
    {
      "cell_type": "code",
      "metadata": {
        "id": "Co8PkDst0Vqb",
        "colab_type": "code",
        "colab": {
          "base_uri": "https://localhost:8080/",
          "height": 70
        },
        "outputId": "3e313a54-cb2e-4f0a-fa9d-c61cb32113cd"
      },
      "source": [
        "#문자열 간의 연결은 '+' 사용\n",
        "print(\"Hi \" + \"Colaboratory!\")\n",
        "\n",
        "#print(\"안녕하세요! \" + 1) #TypeError 발생-자료형이 다름\n",
        "\n",
        "print(str(1)) #형변환 함수 str(): 문자형으로 변환\n",
        "print(\"안녕하세요! \" + str(1)) "
      ],
      "execution_count": null,
      "outputs": [
        {
          "output_type": "stream",
          "text": [
            "Hi Colaboratory!\n",
            "1\n",
            "안녕하세요! 1\n"
          ],
          "name": "stdout"
        }
      ]
    },
    {
      "cell_type": "code",
      "metadata": {
        "id": "Xclxkcwh1Mdn",
        "colab_type": "code",
        "colab": {
          "base_uri": "https://localhost:8080/",
          "height": 52
        },
        "outputId": "74bfc8c0-728a-473e-a865-848faee01daa"
      },
      "source": [
        "#문자열 반복 연산자 * (순서 상관 없음)\n",
        "print(\"Hi! \" * 3)\n",
        "print(3 * \"Hi! \")"
      ],
      "execution_count": null,
      "outputs": [
        {
          "output_type": "stream",
          "text": [
            "Hi! Hi! Hi! \n",
            "Hi! Hi! Hi! \n"
          ],
          "name": "stdout"
        }
      ]
    },
    {
      "cell_type": "code",
      "metadata": {
        "id": "n5wZThui1qPv",
        "colab_type": "code",
        "colab": {
          "base_uri": "https://localhost:8080/",
          "height": 386
        },
        "outputId": "4e0061f0-6b03-4a5b-e807-f0a3886b58cb"
      },
      "source": [
        "#문자 선택 연산자(인덱싱) []\n",
        "#문자열 범위 선택 연산자(슬라이싱) [:]\n",
        "\n",
        "print(\"안녕하세요\"[0:2]) #인덱스 0, 1 출력(마지막 번호 포함 X)\n",
        "\n",
        "print()\n",
        "print(\"문자 선택 연산자에 대해 알아볼까요?\")\n",
        "print(\"안녕하세요\"[0])\n",
        "print(\"안녕하세요\"[1])\n",
        "print(\"안녕하세요\"[2])\n",
        "print(\"안녕하세요\"[3])\n",
        "print(\"안녕하세요\"[4])\n",
        "\n",
        "print()\n",
        "print(\"문자를 뒤에서부터 선택해 볼까요?\")\n",
        "print(\"안녕하세요\"[-1])\n",
        "print(\"안녕하세요\"[-2])\n",
        "print(\"안녕하세요\"[-3])\n",
        "print(\"안녕하세요\"[-4])\n",
        "print(\"안녕하세요\"[-5])\n",
        "\n",
        "print()\n",
        "print(\"안녕하세요\"[0:2])\n",
        "print(\"안녕하세요\"[1:3])\n",
        "print(\"안녕하세요\"[2:4])\n",
        "\n",
        "print(\"안녕하세요\"[1:]) #시작 지점부터 끝까지 출력\n",
        "print(\"안녕하세요\"[:3]) #처음부터 [끝 지점-1] 인덱스까지 출력"
      ],
      "execution_count": null,
      "outputs": [
        {
          "output_type": "stream",
          "text": [
            "안녕\n",
            "\n",
            "문자 선택 연산자에 대해 알아볼까요?\n",
            "안\n",
            "녕\n",
            "하\n",
            "세\n",
            "요\n",
            "\n",
            "문자를 뒤에서부터 선택해 볼까요?\n",
            "요\n",
            "세\n",
            "하\n",
            "녕\n",
            "안\n",
            "\n",
            "안녕\n",
            "녕하\n",
            "하세\n",
            "녕하세요\n",
            "안녕하\n"
          ],
          "name": "stdout"
        }
      ]
    },
    {
      "cell_type": "code",
      "metadata": {
        "id": "zowxRO-b3wQo",
        "colab_type": "code",
        "colab": {
          "base_uri": "https://localhost:8080/",
          "height": 52
        },
        "outputId": "c1380cf8-2131-4514-c33c-6c28b946a971"
      },
      "source": [
        "hello = \"안녕하세요\" #변수(저장 공간)에 문자열 저장\n",
        "print(hello[0:2])\n",
        "hello"
      ],
      "execution_count": null,
      "outputs": [
        {
          "output_type": "stream",
          "text": [
            "안녕\n"
          ],
          "name": "stdout"
        },
        {
          "output_type": "execute_result",
          "data": {
            "text/plain": [
              "'안녕하세요'"
            ]
          },
          "metadata": {
            "tags": []
          },
          "execution_count": 15
        }
      ]
    },
    {
      "cell_type": "code",
      "metadata": {
        "id": "CVW3m0xf4znT",
        "colab_type": "code",
        "colab": {
          "base_uri": "https://localhost:8080/",
          "height": 52
        },
        "outputId": "01a5191f-bac8-4bb1-b95e-e255bdc56625"
      },
      "source": [
        "hello = \"반갑습니다\" #저장된 값 변경\n",
        "print(hello[0:2])\n",
        "hello\n",
        "\n",
        "#hello[10] #인덱스에 해당하는 문자 없음 > Error 발생"
      ],
      "execution_count": null,
      "outputs": [
        {
          "output_type": "stream",
          "text": [
            "반갑\n"
          ],
          "name": "stdout"
        },
        {
          "output_type": "execute_result",
          "data": {
            "text/plain": [
              "'반갑습니다'"
            ]
          },
          "metadata": {
            "tags": []
          },
          "execution_count": 19
        }
      ]
    },
    {
      "cell_type": "code",
      "metadata": {
        "id": "eoePsS1Z6g3f",
        "colab_type": "code",
        "colab": {
          "base_uri": "https://localhost:8080/",
          "height": 52
        },
        "outputId": "dd5e46a4-0d75-44da-81e9-2e29f5051808"
      },
      "source": [
        "#문자열의 길이를 구하는 함수 len()\n",
        "print(len(\"안녕하세요\"))\n",
        "print(len(hello))"
      ],
      "execution_count": null,
      "outputs": [
        {
          "output_type": "stream",
          "text": [
            "5\n",
            "5\n"
          ],
          "name": "stdout"
        }
      ]
    }
  ]
}